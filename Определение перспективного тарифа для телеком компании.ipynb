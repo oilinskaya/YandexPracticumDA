{
 "cells": [
  {
   "cell_type": "markdown",
   "metadata": {},
   "source": [
    "# Определение перспективного тарифа для телеком компании"
   ]
  },
  {
   "cell_type": "markdown",
   "metadata": {},
   "source": [
    "- Вы аналитик компании «Мегалайн» — федерального оператора сотовой связи. Клиентам предлагают два тарифных плана: «Смарт» и «Ультра». Чтобы скорректировать рекламный бюджет, коммерческий департамент хочет понять, какой тариф приносит больше денег.\n",
    "\n",
    "- Вам предстоит сделать предварительный анализ тарифов на небольшой выборке клиентов. В вашем распоряжении данные 500 пользователей «Мегалайна»: кто они, откуда, каким тарифом пользуются, сколько звонков и сообщений каждый отправил за 2018-й год. Нужно проанализировать поведение клиентов и сделать вывод — какой тариф лучше."
   ]
  },
  {
   "cell_type": "markdown",
   "metadata": {},
   "source": [
    "## Изучение данных из файла"
   ]
  },
  {
   "cell_type": "code",
   "execution_count": 1,
   "metadata": {},
   "outputs": [],
   "source": [
    "from scipy import stats as st\n",
    "import numpy as np\n",
    "import pandas as pd\n",
    "import matplotlib.pyplot as plt\n",
    "import seaborn as sns"
   ]
  },
  {
   "cell_type": "code",
   "execution_count": 2,
   "metadata": {},
   "outputs": [],
   "source": [
    "calls = pd.read_csv('/datasets/calls.csv')\n",
    "internet = pd.read_csv('/datasets/internet.csv')\n",
    "messages = pd.read_csv('/datasets/messages.csv')\n",
    "tariffs = pd.read_csv('/datasets/tariffs.csv')\n",
    "users = pd.read_csv('/datasets/users.csv')"
   ]
  },
  {
   "cell_type": "code",
   "execution_count": 3,
   "metadata": {},
   "outputs": [
    {
     "data": {
      "text/html": [
       "<div>\n",
       "<style scoped>\n",
       "    .dataframe tbody tr th:only-of-type {\n",
       "        vertical-align: middle;\n",
       "    }\n",
       "\n",
       "    .dataframe tbody tr th {\n",
       "        vertical-align: top;\n",
       "    }\n",
       "\n",
       "    .dataframe thead th {\n",
       "        text-align: right;\n",
       "    }\n",
       "</style>\n",
       "<table border=\"1\" class=\"dataframe\">\n",
       "  <thead>\n",
       "    <tr style=\"text-align: right;\">\n",
       "      <th></th>\n",
       "      <th>id</th>\n",
       "      <th>call_date</th>\n",
       "      <th>duration</th>\n",
       "      <th>user_id</th>\n",
       "    </tr>\n",
       "  </thead>\n",
       "  <tbody>\n",
       "    <tr>\n",
       "      <th>0</th>\n",
       "      <td>1000_0</td>\n",
       "      <td>2018-07-25</td>\n",
       "      <td>0.00</td>\n",
       "      <td>1000</td>\n",
       "    </tr>\n",
       "    <tr>\n",
       "      <th>1</th>\n",
       "      <td>1000_1</td>\n",
       "      <td>2018-08-17</td>\n",
       "      <td>0.00</td>\n",
       "      <td>1000</td>\n",
       "    </tr>\n",
       "    <tr>\n",
       "      <th>2</th>\n",
       "      <td>1000_2</td>\n",
       "      <td>2018-06-11</td>\n",
       "      <td>2.85</td>\n",
       "      <td>1000</td>\n",
       "    </tr>\n",
       "    <tr>\n",
       "      <th>3</th>\n",
       "      <td>1000_3</td>\n",
       "      <td>2018-09-21</td>\n",
       "      <td>13.80</td>\n",
       "      <td>1000</td>\n",
       "    </tr>\n",
       "    <tr>\n",
       "      <th>4</th>\n",
       "      <td>1000_4</td>\n",
       "      <td>2018-12-15</td>\n",
       "      <td>5.18</td>\n",
       "      <td>1000</td>\n",
       "    </tr>\n",
       "  </tbody>\n",
       "</table>\n",
       "</div>"
      ],
      "text/plain": [
       "       id   call_date  duration  user_id\n",
       "0  1000_0  2018-07-25      0.00     1000\n",
       "1  1000_1  2018-08-17      0.00     1000\n",
       "2  1000_2  2018-06-11      2.85     1000\n",
       "3  1000_3  2018-09-21     13.80     1000\n",
       "4  1000_4  2018-12-15      5.18     1000"
      ]
     },
     "execution_count": 3,
     "metadata": {},
     "output_type": "execute_result"
    }
   ],
   "source": [
    "#посмотрю общую информацию о датафреймах\n",
    "calls.head()"
   ]
  },
  {
   "cell_type": "code",
   "execution_count": 4,
   "metadata": {},
   "outputs": [
    {
     "data": {
      "text/plain": [
       "(492,)"
      ]
     },
     "execution_count": 4,
     "metadata": {},
     "output_type": "execute_result"
    }
   ],
   "source": [
    "calls.user_id.unique().shape"
   ]
  },
  {
   "cell_type": "code",
   "execution_count": 5,
   "metadata": {},
   "outputs": [
    {
     "name": "stdout",
     "output_type": "stream",
     "text": [
      "<class 'pandas.core.frame.DataFrame'>\n",
      "RangeIndex: 202607 entries, 0 to 202606\n",
      "Data columns (total 4 columns):\n",
      " #   Column     Non-Null Count   Dtype  \n",
      "---  ------     --------------   -----  \n",
      " 0   id         202607 non-null  object \n",
      " 1   call_date  202607 non-null  object \n",
      " 2   duration   202607 non-null  float64\n",
      " 3   user_id    202607 non-null  int64  \n",
      "dtypes: float64(1), int64(1), object(2)\n",
      "memory usage: 6.2+ MB\n"
     ]
    }
   ],
   "source": [
    "calls.info()"
   ]
  },
  {
   "cell_type": "code",
   "execution_count": 6,
   "metadata": {},
   "outputs": [
    {
     "data": {
      "text/plain": [
       "0"
      ]
     },
     "execution_count": 6,
     "metadata": {},
     "output_type": "execute_result"
    }
   ],
   "source": [
    "#проверю на дубликаты\n",
    "calls.duplicated().sum()"
   ]
  },
  {
   "cell_type": "code",
   "execution_count": 7,
   "metadata": {},
   "outputs": [
    {
     "data": {
      "text/html": [
       "<div>\n",
       "<style scoped>\n",
       "    .dataframe tbody tr th:only-of-type {\n",
       "        vertical-align: middle;\n",
       "    }\n",
       "\n",
       "    .dataframe tbody tr th {\n",
       "        vertical-align: top;\n",
       "    }\n",
       "\n",
       "    .dataframe thead th {\n",
       "        text-align: right;\n",
       "    }\n",
       "</style>\n",
       "<table border=\"1\" class=\"dataframe\">\n",
       "  <thead>\n",
       "    <tr style=\"text-align: right;\">\n",
       "      <th></th>\n",
       "      <th>Unnamed: 0</th>\n",
       "      <th>id</th>\n",
       "      <th>mb_used</th>\n",
       "      <th>session_date</th>\n",
       "      <th>user_id</th>\n",
       "    </tr>\n",
       "  </thead>\n",
       "  <tbody>\n",
       "    <tr>\n",
       "      <th>0</th>\n",
       "      <td>0</td>\n",
       "      <td>1000_0</td>\n",
       "      <td>112.95</td>\n",
       "      <td>2018-11-25</td>\n",
       "      <td>1000</td>\n",
       "    </tr>\n",
       "    <tr>\n",
       "      <th>1</th>\n",
       "      <td>1</td>\n",
       "      <td>1000_1</td>\n",
       "      <td>1052.81</td>\n",
       "      <td>2018-09-07</td>\n",
       "      <td>1000</td>\n",
       "    </tr>\n",
       "    <tr>\n",
       "      <th>2</th>\n",
       "      <td>2</td>\n",
       "      <td>1000_2</td>\n",
       "      <td>1197.26</td>\n",
       "      <td>2018-06-25</td>\n",
       "      <td>1000</td>\n",
       "    </tr>\n",
       "    <tr>\n",
       "      <th>3</th>\n",
       "      <td>3</td>\n",
       "      <td>1000_3</td>\n",
       "      <td>550.27</td>\n",
       "      <td>2018-08-22</td>\n",
       "      <td>1000</td>\n",
       "    </tr>\n",
       "    <tr>\n",
       "      <th>4</th>\n",
       "      <td>4</td>\n",
       "      <td>1000_4</td>\n",
       "      <td>302.56</td>\n",
       "      <td>2018-09-24</td>\n",
       "      <td>1000</td>\n",
       "    </tr>\n",
       "  </tbody>\n",
       "</table>\n",
       "</div>"
      ],
      "text/plain": [
       "   Unnamed: 0      id  mb_used session_date  user_id\n",
       "0           0  1000_0   112.95   2018-11-25     1000\n",
       "1           1  1000_1  1052.81   2018-09-07     1000\n",
       "2           2  1000_2  1197.26   2018-06-25     1000\n",
       "3           3  1000_3   550.27   2018-08-22     1000\n",
       "4           4  1000_4   302.56   2018-09-24     1000"
      ]
     },
     "execution_count": 7,
     "metadata": {},
     "output_type": "execute_result"
    }
   ],
   "source": [
    "internet.head()"
   ]
  },
  {
   "cell_type": "code",
   "execution_count": 8,
   "metadata": {},
   "outputs": [
    {
     "data": {
      "text/plain": [
       "(497,)"
      ]
     },
     "execution_count": 8,
     "metadata": {},
     "output_type": "execute_result"
    }
   ],
   "source": [
    "internet.user_id.unique().shape"
   ]
  },
  {
   "cell_type": "code",
   "execution_count": 9,
   "metadata": {},
   "outputs": [
    {
     "name": "stdout",
     "output_type": "stream",
     "text": [
      "<class 'pandas.core.frame.DataFrame'>\n",
      "RangeIndex: 149396 entries, 0 to 149395\n",
      "Data columns (total 5 columns):\n",
      " #   Column        Non-Null Count   Dtype  \n",
      "---  ------        --------------   -----  \n",
      " 0   Unnamed: 0    149396 non-null  int64  \n",
      " 1   id            149396 non-null  object \n",
      " 2   mb_used       149396 non-null  float64\n",
      " 3   session_date  149396 non-null  object \n",
      " 4   user_id       149396 non-null  int64  \n",
      "dtypes: float64(1), int64(2), object(2)\n",
      "memory usage: 5.7+ MB\n"
     ]
    }
   ],
   "source": [
    "internet.info()"
   ]
  },
  {
   "cell_type": "code",
   "execution_count": 10,
   "metadata": {},
   "outputs": [
    {
     "data": {
      "text/plain": [
       "0"
      ]
     },
     "execution_count": 10,
     "metadata": {},
     "output_type": "execute_result"
    }
   ],
   "source": [
    "#проверю на дубликаты\n",
    "internet.duplicated().sum()"
   ]
  },
  {
   "cell_type": "code",
   "execution_count": 11,
   "metadata": {},
   "outputs": [
    {
     "data": {
      "text/html": [
       "<div>\n",
       "<style scoped>\n",
       "    .dataframe tbody tr th:only-of-type {\n",
       "        vertical-align: middle;\n",
       "    }\n",
       "\n",
       "    .dataframe tbody tr th {\n",
       "        vertical-align: top;\n",
       "    }\n",
       "\n",
       "    .dataframe thead th {\n",
       "        text-align: right;\n",
       "    }\n",
       "</style>\n",
       "<table border=\"1\" class=\"dataframe\">\n",
       "  <thead>\n",
       "    <tr style=\"text-align: right;\">\n",
       "      <th></th>\n",
       "      <th>id</th>\n",
       "      <th>message_date</th>\n",
       "      <th>user_id</th>\n",
       "    </tr>\n",
       "  </thead>\n",
       "  <tbody>\n",
       "    <tr>\n",
       "      <th>0</th>\n",
       "      <td>1000_0</td>\n",
       "      <td>2018-06-27</td>\n",
       "      <td>1000</td>\n",
       "    </tr>\n",
       "    <tr>\n",
       "      <th>1</th>\n",
       "      <td>1000_1</td>\n",
       "      <td>2018-10-08</td>\n",
       "      <td>1000</td>\n",
       "    </tr>\n",
       "    <tr>\n",
       "      <th>2</th>\n",
       "      <td>1000_2</td>\n",
       "      <td>2018-08-04</td>\n",
       "      <td>1000</td>\n",
       "    </tr>\n",
       "    <tr>\n",
       "      <th>3</th>\n",
       "      <td>1000_3</td>\n",
       "      <td>2018-06-16</td>\n",
       "      <td>1000</td>\n",
       "    </tr>\n",
       "    <tr>\n",
       "      <th>4</th>\n",
       "      <td>1000_4</td>\n",
       "      <td>2018-12-05</td>\n",
       "      <td>1000</td>\n",
       "    </tr>\n",
       "  </tbody>\n",
       "</table>\n",
       "</div>"
      ],
      "text/plain": [
       "       id message_date  user_id\n",
       "0  1000_0   2018-06-27     1000\n",
       "1  1000_1   2018-10-08     1000\n",
       "2  1000_2   2018-08-04     1000\n",
       "3  1000_3   2018-06-16     1000\n",
       "4  1000_4   2018-12-05     1000"
      ]
     },
     "execution_count": 11,
     "metadata": {},
     "output_type": "execute_result"
    }
   ],
   "source": [
    "messages.head()"
   ]
  },
  {
   "cell_type": "code",
   "execution_count": 12,
   "metadata": {},
   "outputs": [
    {
     "data": {
      "text/plain": [
       "(426,)"
      ]
     },
     "execution_count": 12,
     "metadata": {},
     "output_type": "execute_result"
    }
   ],
   "source": [
    "messages.user_id.unique().shape"
   ]
  },
  {
   "cell_type": "code",
   "execution_count": 13,
   "metadata": {},
   "outputs": [
    {
     "name": "stdout",
     "output_type": "stream",
     "text": [
      "<class 'pandas.core.frame.DataFrame'>\n",
      "RangeIndex: 123036 entries, 0 to 123035\n",
      "Data columns (total 3 columns):\n",
      " #   Column        Non-Null Count   Dtype \n",
      "---  ------        --------------   ----- \n",
      " 0   id            123036 non-null  object\n",
      " 1   message_date  123036 non-null  object\n",
      " 2   user_id       123036 non-null  int64 \n",
      "dtypes: int64(1), object(2)\n",
      "memory usage: 2.8+ MB\n"
     ]
    }
   ],
   "source": [
    "messages.info()"
   ]
  },
  {
   "cell_type": "code",
   "execution_count": 14,
   "metadata": {},
   "outputs": [
    {
     "data": {
      "text/plain": [
       "0"
      ]
     },
     "execution_count": 14,
     "metadata": {},
     "output_type": "execute_result"
    }
   ],
   "source": [
    "#проверю на дубликаты\n",
    "messages.duplicated().sum()"
   ]
  },
  {
   "cell_type": "code",
   "execution_count": 15,
   "metadata": {},
   "outputs": [
    {
     "data": {
      "text/html": [
       "<div>\n",
       "<style scoped>\n",
       "    .dataframe tbody tr th:only-of-type {\n",
       "        vertical-align: middle;\n",
       "    }\n",
       "\n",
       "    .dataframe tbody tr th {\n",
       "        vertical-align: top;\n",
       "    }\n",
       "\n",
       "    .dataframe thead th {\n",
       "        text-align: right;\n",
       "    }\n",
       "</style>\n",
       "<table border=\"1\" class=\"dataframe\">\n",
       "  <thead>\n",
       "    <tr style=\"text-align: right;\">\n",
       "      <th></th>\n",
       "      <th>messages_included</th>\n",
       "      <th>mb_per_month_included</th>\n",
       "      <th>minutes_included</th>\n",
       "      <th>rub_monthly_fee</th>\n",
       "      <th>rub_per_gb</th>\n",
       "      <th>rub_per_message</th>\n",
       "      <th>rub_per_minute</th>\n",
       "      <th>tariff_name</th>\n",
       "    </tr>\n",
       "  </thead>\n",
       "  <tbody>\n",
       "    <tr>\n",
       "      <th>0</th>\n",
       "      <td>50</td>\n",
       "      <td>15360</td>\n",
       "      <td>500</td>\n",
       "      <td>550</td>\n",
       "      <td>200</td>\n",
       "      <td>3</td>\n",
       "      <td>3</td>\n",
       "      <td>smart</td>\n",
       "    </tr>\n",
       "    <tr>\n",
       "      <th>1</th>\n",
       "      <td>1000</td>\n",
       "      <td>30720</td>\n",
       "      <td>3000</td>\n",
       "      <td>1950</td>\n",
       "      <td>150</td>\n",
       "      <td>1</td>\n",
       "      <td>1</td>\n",
       "      <td>ultra</td>\n",
       "    </tr>\n",
       "  </tbody>\n",
       "</table>\n",
       "</div>"
      ],
      "text/plain": [
       "   messages_included  mb_per_month_included  minutes_included  \\\n",
       "0                 50                  15360               500   \n",
       "1               1000                  30720              3000   \n",
       "\n",
       "   rub_monthly_fee  rub_per_gb  rub_per_message  rub_per_minute tariff_name  \n",
       "0              550         200                3               3       smart  \n",
       "1             1950         150                1               1       ultra  "
      ]
     },
     "execution_count": 15,
     "metadata": {},
     "output_type": "execute_result"
    }
   ],
   "source": [
    "tariffs.head()"
   ]
  },
  {
   "cell_type": "code",
   "execution_count": 16,
   "metadata": {},
   "outputs": [
    {
     "name": "stdout",
     "output_type": "stream",
     "text": [
      "<class 'pandas.core.frame.DataFrame'>\n",
      "RangeIndex: 2 entries, 0 to 1\n",
      "Data columns (total 8 columns):\n",
      " #   Column                 Non-Null Count  Dtype \n",
      "---  ------                 --------------  ----- \n",
      " 0   messages_included      2 non-null      int64 \n",
      " 1   mb_per_month_included  2 non-null      int64 \n",
      " 2   minutes_included       2 non-null      int64 \n",
      " 3   rub_monthly_fee        2 non-null      int64 \n",
      " 4   rub_per_gb             2 non-null      int64 \n",
      " 5   rub_per_message        2 non-null      int64 \n",
      " 6   rub_per_minute         2 non-null      int64 \n",
      " 7   tariff_name            2 non-null      object\n",
      "dtypes: int64(7), object(1)\n",
      "memory usage: 256.0+ bytes\n"
     ]
    }
   ],
   "source": [
    "tariffs.info()"
   ]
  },
  {
   "cell_type": "code",
   "execution_count": 17,
   "metadata": {},
   "outputs": [
    {
     "data": {
      "text/html": [
       "<div>\n",
       "<style scoped>\n",
       "    .dataframe tbody tr th:only-of-type {\n",
       "        vertical-align: middle;\n",
       "    }\n",
       "\n",
       "    .dataframe tbody tr th {\n",
       "        vertical-align: top;\n",
       "    }\n",
       "\n",
       "    .dataframe thead th {\n",
       "        text-align: right;\n",
       "    }\n",
       "</style>\n",
       "<table border=\"1\" class=\"dataframe\">\n",
       "  <thead>\n",
       "    <tr style=\"text-align: right;\">\n",
       "      <th></th>\n",
       "      <th>user_id</th>\n",
       "      <th>age</th>\n",
       "      <th>churn_date</th>\n",
       "      <th>city</th>\n",
       "      <th>first_name</th>\n",
       "      <th>last_name</th>\n",
       "      <th>reg_date</th>\n",
       "      <th>tariff</th>\n",
       "    </tr>\n",
       "  </thead>\n",
       "  <tbody>\n",
       "    <tr>\n",
       "      <th>0</th>\n",
       "      <td>1000</td>\n",
       "      <td>52</td>\n",
       "      <td>NaN</td>\n",
       "      <td>Краснодар</td>\n",
       "      <td>Рафаил</td>\n",
       "      <td>Верещагин</td>\n",
       "      <td>2018-05-25</td>\n",
       "      <td>ultra</td>\n",
       "    </tr>\n",
       "    <tr>\n",
       "      <th>1</th>\n",
       "      <td>1001</td>\n",
       "      <td>41</td>\n",
       "      <td>NaN</td>\n",
       "      <td>Москва</td>\n",
       "      <td>Иван</td>\n",
       "      <td>Ежов</td>\n",
       "      <td>2018-11-01</td>\n",
       "      <td>smart</td>\n",
       "    </tr>\n",
       "    <tr>\n",
       "      <th>2</th>\n",
       "      <td>1002</td>\n",
       "      <td>59</td>\n",
       "      <td>NaN</td>\n",
       "      <td>Стерлитамак</td>\n",
       "      <td>Евгений</td>\n",
       "      <td>Абрамович</td>\n",
       "      <td>2018-06-17</td>\n",
       "      <td>smart</td>\n",
       "    </tr>\n",
       "    <tr>\n",
       "      <th>3</th>\n",
       "      <td>1003</td>\n",
       "      <td>23</td>\n",
       "      <td>NaN</td>\n",
       "      <td>Москва</td>\n",
       "      <td>Белла</td>\n",
       "      <td>Белякова</td>\n",
       "      <td>2018-08-17</td>\n",
       "      <td>ultra</td>\n",
       "    </tr>\n",
       "    <tr>\n",
       "      <th>4</th>\n",
       "      <td>1004</td>\n",
       "      <td>68</td>\n",
       "      <td>NaN</td>\n",
       "      <td>Новокузнецк</td>\n",
       "      <td>Татьяна</td>\n",
       "      <td>Авдеенко</td>\n",
       "      <td>2018-05-14</td>\n",
       "      <td>ultra</td>\n",
       "    </tr>\n",
       "  </tbody>\n",
       "</table>\n",
       "</div>"
      ],
      "text/plain": [
       "   user_id  age churn_date         city first_name  last_name    reg_date  \\\n",
       "0     1000   52        NaN    Краснодар     Рафаил  Верещагин  2018-05-25   \n",
       "1     1001   41        NaN       Москва       Иван       Ежов  2018-11-01   \n",
       "2     1002   59        NaN  Стерлитамак    Евгений  Абрамович  2018-06-17   \n",
       "3     1003   23        NaN       Москва      Белла   Белякова  2018-08-17   \n",
       "4     1004   68        NaN  Новокузнецк    Татьяна   Авдеенко  2018-05-14   \n",
       "\n",
       "  tariff  \n",
       "0  ultra  \n",
       "1  smart  \n",
       "2  smart  \n",
       "3  ultra  \n",
       "4  ultra  "
      ]
     },
     "execution_count": 17,
     "metadata": {},
     "output_type": "execute_result"
    }
   ],
   "source": [
    "users.head()"
   ]
  },
  {
   "cell_type": "code",
   "execution_count": 18,
   "metadata": {},
   "outputs": [
    {
     "data": {
      "text/plain": [
       "(500,)"
      ]
     },
     "execution_count": 18,
     "metadata": {},
     "output_type": "execute_result"
    }
   ],
   "source": [
    "users.user_id.unique().shape"
   ]
  },
  {
   "cell_type": "code",
   "execution_count": 19,
   "metadata": {},
   "outputs": [
    {
     "name": "stdout",
     "output_type": "stream",
     "text": [
      "<class 'pandas.core.frame.DataFrame'>\n",
      "RangeIndex: 500 entries, 0 to 499\n",
      "Data columns (total 8 columns):\n",
      " #   Column      Non-Null Count  Dtype \n",
      "---  ------      --------------  ----- \n",
      " 0   user_id     500 non-null    int64 \n",
      " 1   age         500 non-null    int64 \n",
      " 2   churn_date  38 non-null     object\n",
      " 3   city        500 non-null    object\n",
      " 4   first_name  500 non-null    object\n",
      " 5   last_name   500 non-null    object\n",
      " 6   reg_date    500 non-null    object\n",
      " 7   tariff      500 non-null    object\n",
      "dtypes: int64(2), object(6)\n",
      "memory usage: 31.4+ KB\n"
     ]
    }
   ],
   "source": [
    "users.info()"
   ]
  },
  {
   "cell_type": "code",
   "execution_count": 20,
   "metadata": {},
   "outputs": [
    {
     "data": {
      "text/plain": [
       "0"
      ]
     },
     "execution_count": 20,
     "metadata": {},
     "output_type": "execute_result"
    }
   ],
   "source": [
    "#проверю на дубликаты\n",
    "users.duplicated().sum()"
   ]
  },
  {
   "cell_type": "markdown",
   "metadata": {},
   "source": [
    "<font color='DarkBlue'><b>Комментарий ревьюера</b></font><br>\n",
    "<font color='DarkMagenta'>👉 Было бы правильно проверить на дубликаты, если мы это сделали и потом удалили код, то это не правильно.</font>"
   ]
  },
  {
   "cell_type": "markdown",
   "metadata": {},
   "source": [
    "## Предобработка данных"
   ]
  },
  {
   "cell_type": "code",
   "execution_count": 21,
   "metadata": {},
   "outputs": [
    {
     "data": {
      "text/html": [
       "<div>\n",
       "<style scoped>\n",
       "    .dataframe tbody tr th:only-of-type {\n",
       "        vertical-align: middle;\n",
       "    }\n",
       "\n",
       "    .dataframe tbody tr th {\n",
       "        vertical-align: top;\n",
       "    }\n",
       "\n",
       "    .dataframe thead th {\n",
       "        text-align: right;\n",
       "    }\n",
       "</style>\n",
       "<table border=\"1\" class=\"dataframe\">\n",
       "  <thead>\n",
       "    <tr style=\"text-align: right;\">\n",
       "      <th></th>\n",
       "      <th>id</th>\n",
       "      <th>call_date</th>\n",
       "      <th>duration</th>\n",
       "      <th>user_id</th>\n",
       "      <th>month</th>\n",
       "    </tr>\n",
       "  </thead>\n",
       "  <tbody>\n",
       "    <tr>\n",
       "      <th>0</th>\n",
       "      <td>1000_0</td>\n",
       "      <td>2018-07-25</td>\n",
       "      <td>0</td>\n",
       "      <td>1000</td>\n",
       "      <td>7</td>\n",
       "    </tr>\n",
       "    <tr>\n",
       "      <th>1</th>\n",
       "      <td>1000_1</td>\n",
       "      <td>2018-08-17</td>\n",
       "      <td>0</td>\n",
       "      <td>1000</td>\n",
       "      <td>8</td>\n",
       "    </tr>\n",
       "    <tr>\n",
       "      <th>2</th>\n",
       "      <td>1000_2</td>\n",
       "      <td>2018-06-11</td>\n",
       "      <td>3</td>\n",
       "      <td>1000</td>\n",
       "      <td>6</td>\n",
       "    </tr>\n",
       "    <tr>\n",
       "      <th>3</th>\n",
       "      <td>1000_3</td>\n",
       "      <td>2018-09-21</td>\n",
       "      <td>14</td>\n",
       "      <td>1000</td>\n",
       "      <td>9</td>\n",
       "    </tr>\n",
       "    <tr>\n",
       "      <th>4</th>\n",
       "      <td>1000_4</td>\n",
       "      <td>2018-12-15</td>\n",
       "      <td>6</td>\n",
       "      <td>1000</td>\n",
       "      <td>12</td>\n",
       "    </tr>\n",
       "  </tbody>\n",
       "</table>\n",
       "</div>"
      ],
      "text/plain": [
       "       id  call_date  duration  user_id  month\n",
       "0  1000_0 2018-07-25         0     1000      7\n",
       "1  1000_1 2018-08-17         0     1000      8\n",
       "2  1000_2 2018-06-11         3     1000      6\n",
       "3  1000_3 2018-09-21        14     1000      9\n",
       "4  1000_4 2018-12-15         6     1000     12"
      ]
     },
     "execution_count": 21,
     "metadata": {},
     "output_type": "execute_result"
    }
   ],
   "source": [
    "#в датафрейме calls изменю тип данных даты, добавлю столбец month, округлю длительность звонка в большую сторону\n",
    "calls['call_date'] = pd.to_datetime(calls['call_date'], format='%Y-%m-%d')\n",
    "calls['month'] = pd.DatetimeIndex(calls['call_date']).month\n",
    "calls['duration'] = np.ceil(calls['duration']).astype(int)\n",
    "calls.head()"
   ]
  },
  {
   "cell_type": "markdown",
   "metadata": {},
   "source": [
    "<font color='DarkBlue'><b>Комментарий ревьюера</b></font><br>\n",
    "<font color='DarkGreen'>👌 Хорошо, добавили колонку с категорией месяца.</font><br>\n",
    "<font color='DarkGreen'>👌 Правильно, что для округления используется np.ceil, так как он работает сразу со всем столбцом. 👍</font>"
   ]
  },
  {
   "cell_type": "code",
   "execution_count": 22,
   "metadata": {},
   "outputs": [
    {
     "name": "stdout",
     "output_type": "stream",
     "text": [
      "<class 'pandas.core.frame.DataFrame'>\n",
      "RangeIndex: 202607 entries, 0 to 202606\n",
      "Data columns (total 5 columns):\n",
      " #   Column     Non-Null Count   Dtype         \n",
      "---  ------     --------------   -----         \n",
      " 0   id         202607 non-null  object        \n",
      " 1   call_date  202607 non-null  datetime64[ns]\n",
      " 2   duration   202607 non-null  int64         \n",
      " 3   user_id    202607 non-null  int64         \n",
      " 4   month      202607 non-null  int64         \n",
      "dtypes: datetime64[ns](1), int64(3), object(1)\n",
      "memory usage: 7.7+ MB\n"
     ]
    }
   ],
   "source": [
    "calls.info()"
   ]
  },
  {
   "cell_type": "code",
   "execution_count": 23,
   "metadata": {},
   "outputs": [
    {
     "data": {
      "image/png": "[encoded data removed]",
      "text/plain": [
       "<Figure size 432x288 with 1 Axes>"
      ]
     },
     "metadata": {
      "needs_background": "light"
     },
     "output_type": "display_data"
    }
   ],
   "source": [
    "#проанализирую столбец duration на наличие аномалий\n",
    "sns.histplot(calls['duration'], stat='probability');"
   ]
  },
  {
   "cell_type": "markdown",
   "metadata": {},
   "source": [
    "Видим пик около нуля. Предположу, что нулями обозначены пропущенные звонки, поэтому оставлю их."
   ]
  },
  {
   "cell_type": "code",
   "execution_count": 24,
   "metadata": {},
   "outputs": [
    {
     "data": {
      "text/html": [
       "<div>\n",
       "<style scoped>\n",
       "    .dataframe tbody tr th:only-of-type {\n",
       "        vertical-align: middle;\n",
       "    }\n",
       "\n",
       "    .dataframe tbody tr th {\n",
       "        vertical-align: top;\n",
       "    }\n",
       "\n",
       "    .dataframe thead th {\n",
       "        text-align: right;\n",
       "    }\n",
       "</style>\n",
       "<table border=\"1\" class=\"dataframe\">\n",
       "  <thead>\n",
       "    <tr style=\"text-align: right;\">\n",
       "      <th></th>\n",
       "      <th>Unnamed: 0</th>\n",
       "      <th>id</th>\n",
       "      <th>mb_used</th>\n",
       "      <th>session_date</th>\n",
       "      <th>user_id</th>\n",
       "      <th>month</th>\n",
       "    </tr>\n",
       "  </thead>\n",
       "  <tbody>\n",
       "    <tr>\n",
       "      <th>0</th>\n",
       "      <td>0</td>\n",
       "      <td>1000_0</td>\n",
       "      <td>112.95</td>\n",
       "      <td>2018-11-25</td>\n",
       "      <td>1000</td>\n",
       "      <td>11</td>\n",
       "    </tr>\n",
       "    <tr>\n",
       "      <th>1</th>\n",
       "      <td>1</td>\n",
       "      <td>1000_1</td>\n",
       "      <td>1052.81</td>\n",
       "      <td>2018-09-07</td>\n",
       "      <td>1000</td>\n",
       "      <td>9</td>\n",
       "    </tr>\n",
       "    <tr>\n",
       "      <th>2</th>\n",
       "      <td>2</td>\n",
       "      <td>1000_2</td>\n",
       "      <td>1197.26</td>\n",
       "      <td>2018-06-25</td>\n",
       "      <td>1000</td>\n",
       "      <td>6</td>\n",
       "    </tr>\n",
       "    <tr>\n",
       "      <th>3</th>\n",
       "      <td>3</td>\n",
       "      <td>1000_3</td>\n",
       "      <td>550.27</td>\n",
       "      <td>2018-08-22</td>\n",
       "      <td>1000</td>\n",
       "      <td>8</td>\n",
       "    </tr>\n",
       "    <tr>\n",
       "      <th>4</th>\n",
       "      <td>4</td>\n",
       "      <td>1000_4</td>\n",
       "      <td>302.56</td>\n",
       "      <td>2018-09-24</td>\n",
       "      <td>1000</td>\n",
       "      <td>9</td>\n",
       "    </tr>\n",
       "  </tbody>\n",
       "</table>\n",
       "</div>"
      ],
      "text/plain": [
       "   Unnamed: 0      id  mb_used session_date  user_id  month\n",
       "0           0  1000_0   112.95   2018-11-25     1000     11\n",
       "1           1  1000_1  1052.81   2018-09-07     1000      9\n",
       "2           2  1000_2  1197.26   2018-06-25     1000      6\n",
       "3           3  1000_3   550.27   2018-08-22     1000      8\n",
       "4           4  1000_4   302.56   2018-09-24     1000      9"
      ]
     },
     "execution_count": 24,
     "metadata": {},
     "output_type": "execute_result"
    }
   ],
   "source": [
    "#в датафрейме internet изменю тип данных даты, добавлю столбец month\n",
    "internet['session_date'] = pd.to_datetime(internet['session_date'], format='%Y-%m-%d')\n",
    "internet['month'] = pd.DatetimeIndex(internet['session_date']).month\n",
    "internet.head()"
   ]
  },
  {
   "cell_type": "code",
   "execution_count": 25,
   "metadata": {},
   "outputs": [
    {
     "name": "stdout",
     "output_type": "stream",
     "text": [
      "<class 'pandas.core.frame.DataFrame'>\n",
      "RangeIndex: 149396 entries, 0 to 149395\n",
      "Data columns (total 6 columns):\n",
      " #   Column        Non-Null Count   Dtype         \n",
      "---  ------        --------------   -----         \n",
      " 0   Unnamed: 0    149396 non-null  int64         \n",
      " 1   id            149396 non-null  object        \n",
      " 2   mb_used       149396 non-null  float64       \n",
      " 3   session_date  149396 non-null  datetime64[ns]\n",
      " 4   user_id       149396 non-null  int64         \n",
      " 5   month         149396 non-null  int64         \n",
      "dtypes: datetime64[ns](1), float64(1), int64(3), object(1)\n",
      "memory usage: 6.8+ MB\n"
     ]
    }
   ],
   "source": [
    "internet.info()"
   ]
  },
  {
   "cell_type": "code",
   "execution_count": 26,
   "metadata": {},
   "outputs": [
    {
     "data": {
      "image/png": "[encoded data removed]",
      "text/plain": [
       "<Figure size 432x288 with 1 Axes>"
      ]
     },
     "metadata": {
      "needs_background": "light"
     },
     "output_type": "display_data"
    }
   ],
   "source": [
    "#проанализирую столбец mb_used на наличие аномалий\n",
    "sns.histplot(internet['mb_used'], stat='probability');"
   ]
  },
  {
   "cell_type": "markdown",
   "metadata": {},
   "source": [
    "Видим такой же пик около нуля. Предположу, что это неудачные попытки выйти в интернет. Тоже оставлю без изменений."
   ]
  },
  {
   "cell_type": "markdown",
   "metadata": {},
   "source": [
    "<font color='DarkBlue'><b>Комментарий ревьюера 2</b></font><br>\n",
    "<font color='DarkMagenta'>👉 Таблица содержит идентификатор сессий и идентификатор пользователя. Значит пользователь устанавливал соединение и авторизовался. Но трафик нулевой. И это аномалия, возможно, что она связана с техничесткими проблемами оператора. Нам в данном проекте нулевые сессии не мешают, но в выводах исследования мы должны этот факт указать, так как это не полученная выручка оператора при существующем спросе на услугу пользователей.</font>"
   ]
  },
  {
   "cell_type": "markdown",
   "metadata": {},
   "source": [
    "<font color='DarkBlue'><b>Комментарий ревьюера</b></font><br>\n",
    "<font color='DarkMagenta'>👉 Было бы правильно сделать анализ аномалий в датасете по интернет-трафику, лучше визуализировать гистограммой. Проанализировать их причину и принять решение по обработке.</font>"
   ]
  },
  {
   "cell_type": "code",
   "execution_count": 27,
   "metadata": {},
   "outputs": [
    {
     "data": {
      "text/html": [
       "<div>\n",
       "<style scoped>\n",
       "    .dataframe tbody tr th:only-of-type {\n",
       "        vertical-align: middle;\n",
       "    }\n",
       "\n",
       "    .dataframe tbody tr th {\n",
       "        vertical-align: top;\n",
       "    }\n",
       "\n",
       "    .dataframe thead th {\n",
       "        text-align: right;\n",
       "    }\n",
       "</style>\n",
       "<table border=\"1\" class=\"dataframe\">\n",
       "  <thead>\n",
       "    <tr style=\"text-align: right;\">\n",
       "      <th></th>\n",
       "      <th>id</th>\n",
       "      <th>message_date</th>\n",
       "      <th>user_id</th>\n",
       "      <th>month</th>\n",
       "    </tr>\n",
       "  </thead>\n",
       "  <tbody>\n",
       "    <tr>\n",
       "      <th>0</th>\n",
       "      <td>1000_0</td>\n",
       "      <td>2018-06-27</td>\n",
       "      <td>1000</td>\n",
       "      <td>6</td>\n",
       "    </tr>\n",
       "    <tr>\n",
       "      <th>1</th>\n",
       "      <td>1000_1</td>\n",
       "      <td>2018-10-08</td>\n",
       "      <td>1000</td>\n",
       "      <td>10</td>\n",
       "    </tr>\n",
       "    <tr>\n",
       "      <th>2</th>\n",
       "      <td>1000_2</td>\n",
       "      <td>2018-08-04</td>\n",
       "      <td>1000</td>\n",
       "      <td>8</td>\n",
       "    </tr>\n",
       "    <tr>\n",
       "      <th>3</th>\n",
       "      <td>1000_3</td>\n",
       "      <td>2018-06-16</td>\n",
       "      <td>1000</td>\n",
       "      <td>6</td>\n",
       "    </tr>\n",
       "    <tr>\n",
       "      <th>4</th>\n",
       "      <td>1000_4</td>\n",
       "      <td>2018-12-05</td>\n",
       "      <td>1000</td>\n",
       "      <td>12</td>\n",
       "    </tr>\n",
       "  </tbody>\n",
       "</table>\n",
       "</div>"
      ],
      "text/plain": [
       "       id message_date  user_id  month\n",
       "0  1000_0   2018-06-27     1000      6\n",
       "1  1000_1   2018-10-08     1000     10\n",
       "2  1000_2   2018-08-04     1000      8\n",
       "3  1000_3   2018-06-16     1000      6\n",
       "4  1000_4   2018-12-05     1000     12"
      ]
     },
     "execution_count": 27,
     "metadata": {},
     "output_type": "execute_result"
    }
   ],
   "source": [
    "#в датафрейме messages изменю тип данных даты, добавлю столбец month\n",
    "messages['message_date'] = pd.to_datetime(messages['message_date'], format='%Y-%m-%d')\n",
    "messages['month'] = pd.DatetimeIndex(messages['message_date']).month\n",
    "messages.head()"
   ]
  },
  {
   "cell_type": "code",
   "execution_count": 28,
   "metadata": {},
   "outputs": [
    {
     "name": "stdout",
     "output_type": "stream",
     "text": [
      "<class 'pandas.core.frame.DataFrame'>\n",
      "RangeIndex: 123036 entries, 0 to 123035\n",
      "Data columns (total 4 columns):\n",
      " #   Column        Non-Null Count   Dtype         \n",
      "---  ------        --------------   -----         \n",
      " 0   id            123036 non-null  object        \n",
      " 1   message_date  123036 non-null  datetime64[ns]\n",
      " 2   user_id       123036 non-null  int64         \n",
      " 3   month         123036 non-null  int64         \n",
      "dtypes: datetime64[ns](1), int64(2), object(1)\n",
      "memory usage: 3.8+ MB\n"
     ]
    }
   ],
   "source": [
    "messages.info()"
   ]
  },
  {
   "cell_type": "code",
   "execution_count": 29,
   "metadata": {},
   "outputs": [
    {
     "name": "stdout",
     "output_type": "stream",
     "text": [
      "<class 'pandas.core.frame.DataFrame'>\n",
      "RangeIndex: 500 entries, 0 to 499\n",
      "Data columns (total 8 columns):\n",
      " #   Column      Non-Null Count  Dtype         \n",
      "---  ------      --------------  -----         \n",
      " 0   user_id     500 non-null    int64         \n",
      " 1   age         500 non-null    int64         \n",
      " 2   churn_date  38 non-null     datetime64[ns]\n",
      " 3   city        500 non-null    object        \n",
      " 4   first_name  500 non-null    object        \n",
      " 5   last_name   500 non-null    object        \n",
      " 6   reg_date    500 non-null    datetime64[ns]\n",
      " 7   tariff      500 non-null    object        \n",
      "dtypes: datetime64[ns](2), int64(2), object(4)\n",
      "memory usage: 31.4+ KB\n"
     ]
    }
   ],
   "source": [
    "#в датафрейме users изменю тип данных даты\n",
    "users['churn_date'] = pd.to_datetime(users['churn_date'], format='%Y-%m-%d')\n",
    "users['reg_date'] = pd.to_datetime(users['reg_date'], format='%Y-%m-%d')\n",
    "users.info()"
   ]
  },
  {
   "cell_type": "code",
   "execution_count": 30,
   "metadata": {},
   "outputs": [
    {
     "data": {
      "text/html": [
       "<div>\n",
       "<style scoped>\n",
       "    .dataframe tbody tr th:only-of-type {\n",
       "        vertical-align: middle;\n",
       "    }\n",
       "\n",
       "    .dataframe tbody tr th {\n",
       "        vertical-align: top;\n",
       "    }\n",
       "\n",
       "    .dataframe thead th {\n",
       "        text-align: right;\n",
       "    }\n",
       "</style>\n",
       "<table border=\"1\" class=\"dataframe\">\n",
       "  <thead>\n",
       "    <tr style=\"text-align: right;\">\n",
       "      <th></th>\n",
       "      <th>user_id</th>\n",
       "      <th>month</th>\n",
       "      <th>duration</th>\n",
       "    </tr>\n",
       "  </thead>\n",
       "  <tbody>\n",
       "    <tr>\n",
       "      <th>0</th>\n",
       "      <td>1000</td>\n",
       "      <td>5</td>\n",
       "      <td>159</td>\n",
       "    </tr>\n",
       "    <tr>\n",
       "      <th>1</th>\n",
       "      <td>1000</td>\n",
       "      <td>6</td>\n",
       "      <td>172</td>\n",
       "    </tr>\n",
       "    <tr>\n",
       "      <th>2</th>\n",
       "      <td>1000</td>\n",
       "      <td>7</td>\n",
       "      <td>340</td>\n",
       "    </tr>\n",
       "    <tr>\n",
       "      <th>3</th>\n",
       "      <td>1000</td>\n",
       "      <td>8</td>\n",
       "      <td>408</td>\n",
       "    </tr>\n",
       "    <tr>\n",
       "      <th>4</th>\n",
       "      <td>1000</td>\n",
       "      <td>9</td>\n",
       "      <td>466</td>\n",
       "    </tr>\n",
       "  </tbody>\n",
       "</table>\n",
       "</div>"
      ],
      "text/plain": [
       "   user_id  month  duration\n",
       "0     1000      5       159\n",
       "1     1000      6       172\n",
       "2     1000      7       340\n",
       "3     1000      8       408\n",
       "4     1000      9       466"
      ]
     },
     "execution_count": 30,
     "metadata": {},
     "output_type": "execute_result"
    }
   ],
   "source": [
    "#сводная таблица для подсчета количества сделанных звонков и израсходованных минут разговора по месяцам для каждого пользователя\n",
    "calls_pivot = calls.pivot_table(index=['user_id', 'month'], values='duration', aggfunc='sum').reset_index()\n",
    "calls_pivot.columns = ['user_id', 'month', 'duration']\n",
    "calls_pivot.head()"
   ]
  },
  {
   "cell_type": "code",
   "execution_count": 31,
   "metadata": {},
   "outputs": [
    {
     "data": {
      "text/html": [
       "<div>\n",
       "<style scoped>\n",
       "    .dataframe tbody tr th:only-of-type {\n",
       "        vertical-align: middle;\n",
       "    }\n",
       "\n",
       "    .dataframe tbody tr th {\n",
       "        vertical-align: top;\n",
       "    }\n",
       "\n",
       "    .dataframe thead th {\n",
       "        text-align: right;\n",
       "    }\n",
       "</style>\n",
       "<table border=\"1\" class=\"dataframe\">\n",
       "  <thead>\n",
       "    <tr style=\"text-align: right;\">\n",
       "      <th></th>\n",
       "      <th>user_id</th>\n",
       "      <th>month</th>\n",
       "      <th>messages</th>\n",
       "    </tr>\n",
       "  </thead>\n",
       "  <tbody>\n",
       "    <tr>\n",
       "      <th>0</th>\n",
       "      <td>1000</td>\n",
       "      <td>5</td>\n",
       "      <td>22</td>\n",
       "    </tr>\n",
       "    <tr>\n",
       "      <th>1</th>\n",
       "      <td>1000</td>\n",
       "      <td>6</td>\n",
       "      <td>60</td>\n",
       "    </tr>\n",
       "    <tr>\n",
       "      <th>2</th>\n",
       "      <td>1000</td>\n",
       "      <td>7</td>\n",
       "      <td>75</td>\n",
       "    </tr>\n",
       "    <tr>\n",
       "      <th>3</th>\n",
       "      <td>1000</td>\n",
       "      <td>8</td>\n",
       "      <td>81</td>\n",
       "    </tr>\n",
       "    <tr>\n",
       "      <th>4</th>\n",
       "      <td>1000</td>\n",
       "      <td>9</td>\n",
       "      <td>57</td>\n",
       "    </tr>\n",
       "  </tbody>\n",
       "</table>\n",
       "</div>"
      ],
      "text/plain": [
       "   user_id  month  messages\n",
       "0     1000      5        22\n",
       "1     1000      6        60\n",
       "2     1000      7        75\n",
       "3     1000      8        81\n",
       "4     1000      9        57"
      ]
     },
     "execution_count": 31,
     "metadata": {},
     "output_type": "execute_result"
    }
   ],
   "source": [
    "#сводная таблица для подсчета количества отправленных сообщений по месяцам для каждого пользователя\n",
    "messages_pivot = messages.pivot_table(index=['user_id', 'month'], values='id', aggfunc='count').reset_index()\n",
    "messages_pivot.columns = ['user_id', 'month', 'messages']\n",
    "messages_pivot.head()"
   ]
  },
  {
   "cell_type": "code",
   "execution_count": 32,
   "metadata": {},
   "outputs": [
    {
     "data": {
      "text/html": [
       "<div>\n",
       "<style scoped>\n",
       "    .dataframe tbody tr th:only-of-type {\n",
       "        vertical-align: middle;\n",
       "    }\n",
       "\n",
       "    .dataframe tbody tr th {\n",
       "        vertical-align: top;\n",
       "    }\n",
       "\n",
       "    .dataframe thead th {\n",
       "        text-align: right;\n",
       "    }\n",
       "</style>\n",
       "<table border=\"1\" class=\"dataframe\">\n",
       "  <thead>\n",
       "    <tr style=\"text-align: right;\">\n",
       "      <th></th>\n",
       "      <th>user_id</th>\n",
       "      <th>month</th>\n",
       "      <th>gb_used</th>\n",
       "    </tr>\n",
       "  </thead>\n",
       "  <tbody>\n",
       "    <tr>\n",
       "      <th>0</th>\n",
       "      <td>1000</td>\n",
       "      <td>5</td>\n",
       "      <td>3</td>\n",
       "    </tr>\n",
       "    <tr>\n",
       "      <th>1</th>\n",
       "      <td>1000</td>\n",
       "      <td>6</td>\n",
       "      <td>23</td>\n",
       "    </tr>\n",
       "    <tr>\n",
       "      <th>2</th>\n",
       "      <td>1000</td>\n",
       "      <td>7</td>\n",
       "      <td>14</td>\n",
       "    </tr>\n",
       "    <tr>\n",
       "      <th>3</th>\n",
       "      <td>1000</td>\n",
       "      <td>8</td>\n",
       "      <td>14</td>\n",
       "    </tr>\n",
       "    <tr>\n",
       "      <th>4</th>\n",
       "      <td>1000</td>\n",
       "      <td>9</td>\n",
       "      <td>15</td>\n",
       "    </tr>\n",
       "  </tbody>\n",
       "</table>\n",
       "</div>"
      ],
      "text/plain": [
       "   user_id  month  gb_used\n",
       "0     1000      5        3\n",
       "1     1000      6       23\n",
       "2     1000      7       14\n",
       "3     1000      8       14\n",
       "4     1000      9       15"
      ]
     },
     "execution_count": 32,
     "metadata": {},
     "output_type": "execute_result"
    }
   ],
   "source": [
    "#сводная таблица для подсчета объема израсходованного интернет-трафика по месяцам для каждого пользователя\n",
    "internet_pivot = internet.pivot_table(index=['user_id', 'month'], values='mb_used', aggfunc='sum').reset_index()\n",
    "internet_pivot.columns = ['user_id', 'month', 'mb_used']\n",
    "internet_pivot['mb_used'] = np.ceil((internet_pivot['mb_used'] / 1024)).astype('int')\n",
    "internet_pivot = internet_pivot.rename(columns={'mb_used':'gb_used'})\n",
    "internet_pivot.head()"
   ]
  },
  {
   "cell_type": "markdown",
   "metadata": {},
   "source": [
    "<font color='DarkBlue'><b>Комментарий ревьюера</b></font><br>\n",
    "<font color='Red'>🛠 А мы не правильно перевели мегабайты в гигабайты. На надо с округлением вверх, а у нас вниз.  Лишаем оператора выручки.</font>"
   ]
  },
  {
   "cell_type": "markdown",
   "metadata": {},
   "source": [
    "<font color='DarkBlue'><b>Комментарий ревьюера 2</b></font><br>\n",
    "<font color='DarkGreen'>👌 Хорошо, исправили. 😉</font>"
   ]
  },
  {
   "cell_type": "code",
   "execution_count": 33,
   "metadata": {},
   "outputs": [
    {
     "data": {
      "text/html": [
       "<div>\n",
       "<style scoped>\n",
       "    .dataframe tbody tr th:only-of-type {\n",
       "        vertical-align: middle;\n",
       "    }\n",
       "\n",
       "    .dataframe tbody tr th {\n",
       "        vertical-align: top;\n",
       "    }\n",
       "\n",
       "    .dataframe thead th {\n",
       "        text-align: right;\n",
       "    }\n",
       "</style>\n",
       "<table border=\"1\" class=\"dataframe\">\n",
       "  <thead>\n",
       "    <tr style=\"text-align: right;\">\n",
       "      <th></th>\n",
       "      <th>user_id</th>\n",
       "      <th>month</th>\n",
       "      <th>duration</th>\n",
       "      <th>messages</th>\n",
       "    </tr>\n",
       "  </thead>\n",
       "  <tbody>\n",
       "    <tr>\n",
       "      <th>0</th>\n",
       "      <td>1000</td>\n",
       "      <td>5</td>\n",
       "      <td>159</td>\n",
       "      <td>22.0</td>\n",
       "    </tr>\n",
       "    <tr>\n",
       "      <th>1</th>\n",
       "      <td>1000</td>\n",
       "      <td>6</td>\n",
       "      <td>172</td>\n",
       "      <td>60.0</td>\n",
       "    </tr>\n",
       "    <tr>\n",
       "      <th>2</th>\n",
       "      <td>1000</td>\n",
       "      <td>7</td>\n",
       "      <td>340</td>\n",
       "      <td>75.0</td>\n",
       "    </tr>\n",
       "    <tr>\n",
       "      <th>3</th>\n",
       "      <td>1000</td>\n",
       "      <td>8</td>\n",
       "      <td>408</td>\n",
       "      <td>81.0</td>\n",
       "    </tr>\n",
       "    <tr>\n",
       "      <th>4</th>\n",
       "      <td>1000</td>\n",
       "      <td>9</td>\n",
       "      <td>466</td>\n",
       "      <td>57.0</td>\n",
       "    </tr>\n",
       "  </tbody>\n",
       "</table>\n",
       "</div>"
      ],
      "text/plain": [
       "   user_id  month  duration  messages\n",
       "0     1000      5       159      22.0\n",
       "1     1000      6       172      60.0\n",
       "2     1000      7       340      75.0\n",
       "3     1000      8       408      81.0\n",
       "4     1000      9       466      57.0"
      ]
     },
     "execution_count": 33,
     "metadata": {},
     "output_type": "execute_result"
    }
   ],
   "source": [
    "#объединяю таблицы\n",
    "df_new = calls_pivot.merge(messages_pivot, on=['user_id', 'month'], how='left')\n",
    "df_new.head()"
   ]
  },
  {
   "cell_type": "code",
   "execution_count": 34,
   "metadata": {
    "scrolled": true
   },
   "outputs": [
    {
     "data": {
      "text/html": [
       "<div>\n",
       "<style scoped>\n",
       "    .dataframe tbody tr th:only-of-type {\n",
       "        vertical-align: middle;\n",
       "    }\n",
       "\n",
       "    .dataframe tbody tr th {\n",
       "        vertical-align: top;\n",
       "    }\n",
       "\n",
       "    .dataframe thead th {\n",
       "        text-align: right;\n",
       "    }\n",
       "</style>\n",
       "<table border=\"1\" class=\"dataframe\">\n",
       "  <thead>\n",
       "    <tr style=\"text-align: right;\">\n",
       "      <th></th>\n",
       "      <th>user_id</th>\n",
       "      <th>month</th>\n",
       "      <th>duration</th>\n",
       "      <th>messages</th>\n",
       "      <th>gb_used</th>\n",
       "    </tr>\n",
       "  </thead>\n",
       "  <tbody>\n",
       "    <tr>\n",
       "      <th>0</th>\n",
       "      <td>1000</td>\n",
       "      <td>5</td>\n",
       "      <td>159</td>\n",
       "      <td>22.0</td>\n",
       "      <td>3.0</td>\n",
       "    </tr>\n",
       "    <tr>\n",
       "      <th>1</th>\n",
       "      <td>1000</td>\n",
       "      <td>6</td>\n",
       "      <td>172</td>\n",
       "      <td>60.0</td>\n",
       "      <td>23.0</td>\n",
       "    </tr>\n",
       "    <tr>\n",
       "      <th>2</th>\n",
       "      <td>1000</td>\n",
       "      <td>7</td>\n",
       "      <td>340</td>\n",
       "      <td>75.0</td>\n",
       "      <td>14.0</td>\n",
       "    </tr>\n",
       "    <tr>\n",
       "      <th>3</th>\n",
       "      <td>1000</td>\n",
       "      <td>8</td>\n",
       "      <td>408</td>\n",
       "      <td>81.0</td>\n",
       "      <td>14.0</td>\n",
       "    </tr>\n",
       "    <tr>\n",
       "      <th>4</th>\n",
       "      <td>1000</td>\n",
       "      <td>9</td>\n",
       "      <td>466</td>\n",
       "      <td>57.0</td>\n",
       "      <td>15.0</td>\n",
       "    </tr>\n",
       "  </tbody>\n",
       "</table>\n",
       "</div>"
      ],
      "text/plain": [
       "   user_id  month  duration  messages  gb_used\n",
       "0     1000      5       159      22.0      3.0\n",
       "1     1000      6       172      60.0     23.0\n",
       "2     1000      7       340      75.0     14.0\n",
       "3     1000      8       408      81.0     14.0\n",
       "4     1000      9       466      57.0     15.0"
      ]
     },
     "execution_count": 34,
     "metadata": {},
     "output_type": "execute_result"
    }
   ],
   "source": [
    "df_new = df_new.merge(internet_pivot, on=['user_id', 'month'], how='left')\n",
    "df_new.head()"
   ]
  },
  {
   "cell_type": "markdown",
   "metadata": {},
   "source": [
    "<font color='DarkBlue'><b>Комментарий ревьюера</b></font><br>\n",
    "<font color='Red'>🛠 Надо проанализировать куда у нас пропали пользователи после объединения таблиц, см. код ниже. Надо по ним принять правильное решение. </font>"
   ]
  },
  {
   "cell_type": "markdown",
   "metadata": {},
   "source": [
    "</font><font color='Blue'><b>Комментарий студента</b></font><br>\n",
    "Привет! У нас изначально в таблице calls 492 user_id. Могу предположить, что 8 абонентов вообще не пользовались данной услугой."
   ]
  },
  {
   "cell_type": "markdown",
   "metadata": {},
   "source": [
    "<font color='DarkBlue'><b>Комментарий ревьюера 2</b></font><br>\n",
    "<font color='DarkGreen'>👌 Наша задача подробно анализировать данные и стоило проверить при анализе датасетов, сколько клиентов используют каждую услугу. И мы бы еще на этом этапе обнаружили, что не все клиенты пользуются всеми тремя услугами. Тогда бы мы ранее обнаружили, что два клиента через 5 и 8 дней сбежали. Соответственно, в проекте мы должны отметить этот факт, так как эта информация будет полезна коммерческому департаменту для выяснения причин ухода клиентов. </font>"
   ]
  },
  {
   "cell_type": "code",
   "execution_count": 35,
   "metadata": {},
   "outputs": [
    {
     "data": {
      "text/html": [
       "<div>\n",
       "<style scoped>\n",
       "    .dataframe tbody tr th:only-of-type {\n",
       "        vertical-align: middle;\n",
       "    }\n",
       "\n",
       "    .dataframe tbody tr th {\n",
       "        vertical-align: top;\n",
       "    }\n",
       "\n",
       "    .dataframe thead th {\n",
       "        text-align: right;\n",
       "    }\n",
       "</style>\n",
       "<table border=\"1\" class=\"dataframe\">\n",
       "  <thead>\n",
       "    <tr style=\"text-align: right;\">\n",
       "      <th></th>\n",
       "      <th>user_id</th>\n",
       "      <th>age</th>\n",
       "      <th>churn_date</th>\n",
       "      <th>city</th>\n",
       "      <th>first_name</th>\n",
       "      <th>last_name</th>\n",
       "      <th>reg_date</th>\n",
       "      <th>tariff</th>\n",
       "    </tr>\n",
       "  </thead>\n",
       "  <tbody>\n",
       "    <tr>\n",
       "      <th>128</th>\n",
       "      <td>1128</td>\n",
       "      <td>51</td>\n",
       "      <td>2018-12-23</td>\n",
       "      <td>Волжский</td>\n",
       "      <td>Ксения</td>\n",
       "      <td>Агаева</td>\n",
       "      <td>2018-12-15</td>\n",
       "      <td>ultra</td>\n",
       "    </tr>\n",
       "    <tr>\n",
       "      <th>371</th>\n",
       "      <td>1371</td>\n",
       "      <td>50</td>\n",
       "      <td>2018-12-30</td>\n",
       "      <td>Омск</td>\n",
       "      <td>Ириней</td>\n",
       "      <td>Трофимов</td>\n",
       "      <td>2018-12-25</td>\n",
       "      <td>smart</td>\n",
       "    </tr>\n",
       "  </tbody>\n",
       "</table>\n",
       "</div>"
      ],
      "text/plain": [
       "     user_id  age churn_date      city first_name last_name   reg_date tariff\n",
       "128     1128   51 2018-12-23  Волжский     Ксения    Агаева 2018-12-15  ultra\n",
       "371     1371   50 2018-12-30      Омск     Ириней  Трофимов 2018-12-25  smart"
      ]
     },
     "execution_count": 35,
     "metadata": {},
     "output_type": "execute_result"
    }
   ],
   "source": [
    "# Комментарий ревьюера 2\n",
    "temp = users.copy()\n",
    "temp[(temp.user_id ==  1128) | (temp.user_id ==  1371)]"
   ]
  },
  {
   "cell_type": "code",
   "execution_count": 36,
   "metadata": {},
   "outputs": [
    {
     "data": {
      "text/plain": [
       "(492,)"
      ]
     },
     "execution_count": 36,
     "metadata": {},
     "output_type": "execute_result"
    }
   ],
   "source": [
    "# Комментарий ревьюера\n",
    "df_new.user_id.unique().shape "
   ]
  },
  {
   "cell_type": "markdown",
   "metadata": {},
   "source": [
    "<font color='DarkBlue'><b>Комментарий ревьюера 2</b></font><br>\n",
    "<font color='DarkMagenta'>👉 Таким образом при правильном объединении таблиц у нас должно остаться 498 пользователей или 500, но у двух будут NaNы в колонках услуг.</font>"
   ]
  },
  {
   "cell_type": "code",
   "execution_count": 37,
   "metadata": {},
   "outputs": [
    {
     "name": "stdout",
     "output_type": "stream",
     "text": [
      "<class 'pandas.core.frame.DataFrame'>\n",
      "Int64Index: 3174 entries, 0 to 3173\n",
      "Data columns (total 5 columns):\n",
      " #   Column    Non-Null Count  Dtype  \n",
      "---  ------    --------------  -----  \n",
      " 0   user_id   3174 non-null   int64  \n",
      " 1   month     3174 non-null   int64  \n",
      " 2   duration  3174 non-null   int64  \n",
      " 3   messages  2678 non-null   float64\n",
      " 4   gb_used   3163 non-null   float64\n",
      "dtypes: float64(2), int64(3)\n",
      "memory usage: 148.8 KB\n"
     ]
    }
   ],
   "source": [
    "df_new.info()"
   ]
  },
  {
   "cell_type": "code",
   "execution_count": 38,
   "metadata": {},
   "outputs": [
    {
     "name": "stdout",
     "output_type": "stream",
     "text": [
      "<class 'pandas.core.frame.DataFrame'>\n",
      "Int64Index: 3174 entries, 0 to 3173\n",
      "Data columns (total 5 columns):\n",
      " #   Column    Non-Null Count  Dtype  \n",
      "---  ------    --------------  -----  \n",
      " 0   user_id   3174 non-null   int64  \n",
      " 1   month     3174 non-null   int64  \n",
      " 2   duration  3174 non-null   int64  \n",
      " 3   messages  3174 non-null   float64\n",
      " 4   gb_used   3174 non-null   float64\n",
      "dtypes: float64(2), int64(3)\n",
      "memory usage: 148.8 KB\n"
     ]
    }
   ],
   "source": [
    "#заполню пропуски нулями\n",
    "df_new = df_new.fillna(0)\n",
    "df_new.info()"
   ]
  },
  {
   "cell_type": "markdown",
   "metadata": {},
   "source": [
    "<font color='DarkBlue'><b>Комментарий ревьюера</b></font><br>\n",
    "<font color='DarkGreen'>👌 Хорошо, что заполнили пропуски нулями. 👍</font>"
   ]
  },
  {
   "cell_type": "code",
   "execution_count": 39,
   "metadata": {},
   "outputs": [
    {
     "data": {
      "text/html": [
       "<div>\n",
       "<style scoped>\n",
       "    .dataframe tbody tr th:only-of-type {\n",
       "        vertical-align: middle;\n",
       "    }\n",
       "\n",
       "    .dataframe tbody tr th {\n",
       "        vertical-align: top;\n",
       "    }\n",
       "\n",
       "    .dataframe thead th {\n",
       "        text-align: right;\n",
       "    }\n",
       "</style>\n",
       "<table border=\"1\" class=\"dataframe\">\n",
       "  <thead>\n",
       "    <tr style=\"text-align: right;\">\n",
       "      <th></th>\n",
       "      <th>city</th>\n",
       "      <th>tariff</th>\n",
       "    </tr>\n",
       "    <tr>\n",
       "      <th>user_id</th>\n",
       "      <th></th>\n",
       "      <th></th>\n",
       "    </tr>\n",
       "  </thead>\n",
       "  <tbody>\n",
       "    <tr>\n",
       "      <th>1000</th>\n",
       "      <td>Краснодар</td>\n",
       "      <td>ultra</td>\n",
       "    </tr>\n",
       "    <tr>\n",
       "      <th>1001</th>\n",
       "      <td>Москва</td>\n",
       "      <td>smart</td>\n",
       "    </tr>\n",
       "    <tr>\n",
       "      <th>1002</th>\n",
       "      <td>Стерлитамак</td>\n",
       "      <td>smart</td>\n",
       "    </tr>\n",
       "    <tr>\n",
       "      <th>1003</th>\n",
       "      <td>Москва</td>\n",
       "      <td>ultra</td>\n",
       "    </tr>\n",
       "    <tr>\n",
       "      <th>1004</th>\n",
       "      <td>Новокузнецк</td>\n",
       "      <td>ultra</td>\n",
       "    </tr>\n",
       "  </tbody>\n",
       "</table>\n",
       "</div>"
      ],
      "text/plain": [
       "                city tariff\n",
       "user_id                    \n",
       "1000       Краснодар  ultra\n",
       "1001          Москва  smart\n",
       "1002     Стерлитамак  smart\n",
       "1003          Москва  ultra\n",
       "1004     Новокузнецк  ultra"
      ]
     },
     "execution_count": 39,
     "metadata": {},
     "output_type": "execute_result"
    }
   ],
   "source": [
    "#удалю ненужные столбцы из таблицы users\n",
    "users = users.drop(['age', 'churn_date', 'first_name', 'last_name', 'reg_date'], axis=1)\n",
    "users.set_index('user_id', inplace=True)\n",
    "users.head()"
   ]
  },
  {
   "cell_type": "code",
   "execution_count": 40,
   "metadata": {},
   "outputs": [
    {
     "data": {
      "text/html": [
       "<div>\n",
       "<style scoped>\n",
       "    .dataframe tbody tr th:only-of-type {\n",
       "        vertical-align: middle;\n",
       "    }\n",
       "\n",
       "    .dataframe tbody tr th {\n",
       "        vertical-align: top;\n",
       "    }\n",
       "\n",
       "    .dataframe thead th {\n",
       "        text-align: right;\n",
       "    }\n",
       "</style>\n",
       "<table border=\"1\" class=\"dataframe\">\n",
       "  <thead>\n",
       "    <tr style=\"text-align: right;\">\n",
       "      <th></th>\n",
       "      <th>user_id</th>\n",
       "      <th>month</th>\n",
       "      <th>duration</th>\n",
       "      <th>messages</th>\n",
       "      <th>gb_used</th>\n",
       "      <th>city</th>\n",
       "      <th>tariff</th>\n",
       "    </tr>\n",
       "  </thead>\n",
       "  <tbody>\n",
       "    <tr>\n",
       "      <th>0</th>\n",
       "      <td>1000</td>\n",
       "      <td>5.0</td>\n",
       "      <td>159.0</td>\n",
       "      <td>22.0</td>\n",
       "      <td>3.0</td>\n",
       "      <td>Краснодар</td>\n",
       "      <td>ultra</td>\n",
       "    </tr>\n",
       "    <tr>\n",
       "      <th>1</th>\n",
       "      <td>1000</td>\n",
       "      <td>6.0</td>\n",
       "      <td>172.0</td>\n",
       "      <td>60.0</td>\n",
       "      <td>23.0</td>\n",
       "      <td>Краснодар</td>\n",
       "      <td>ultra</td>\n",
       "    </tr>\n",
       "    <tr>\n",
       "      <th>2</th>\n",
       "      <td>1000</td>\n",
       "      <td>7.0</td>\n",
       "      <td>340.0</td>\n",
       "      <td>75.0</td>\n",
       "      <td>14.0</td>\n",
       "      <td>Краснодар</td>\n",
       "      <td>ultra</td>\n",
       "    </tr>\n",
       "    <tr>\n",
       "      <th>3</th>\n",
       "      <td>1000</td>\n",
       "      <td>8.0</td>\n",
       "      <td>408.0</td>\n",
       "      <td>81.0</td>\n",
       "      <td>14.0</td>\n",
       "      <td>Краснодар</td>\n",
       "      <td>ultra</td>\n",
       "    </tr>\n",
       "    <tr>\n",
       "      <th>4</th>\n",
       "      <td>1000</td>\n",
       "      <td>9.0</td>\n",
       "      <td>466.0</td>\n",
       "      <td>57.0</td>\n",
       "      <td>15.0</td>\n",
       "      <td>Краснодар</td>\n",
       "      <td>ultra</td>\n",
       "    </tr>\n",
       "  </tbody>\n",
       "</table>\n",
       "</div>"
      ],
      "text/plain": [
       "   user_id  month  duration  messages  gb_used       city tariff\n",
       "0     1000    5.0     159.0      22.0      3.0  Краснодар  ultra\n",
       "1     1000    6.0     172.0      60.0     23.0  Краснодар  ultra\n",
       "2     1000    7.0     340.0      75.0     14.0  Краснодар  ultra\n",
       "3     1000    8.0     408.0      81.0     14.0  Краснодар  ultra\n",
       "4     1000    9.0     466.0      57.0     15.0  Краснодар  ultra"
      ]
     },
     "execution_count": 40,
     "metadata": {},
     "output_type": "execute_result"
    }
   ],
   "source": [
    "#объединю полученную таблицу с таблицей users\n",
    "df_new = df_new.merge(users, on='user_id', how='outer')\n",
    "df_new.head()"
   ]
  },
  {
   "cell_type": "code",
   "execution_count": 41,
   "metadata": {},
   "outputs": [
    {
     "data": {
      "text/plain": [
       "(500,)"
      ]
     },
     "execution_count": 41,
     "metadata": {},
     "output_type": "execute_result"
    }
   ],
   "source": [
    "df_new.user_id.unique().shape"
   ]
  },
  {
   "cell_type": "code",
   "execution_count": 42,
   "metadata": {},
   "outputs": [
    {
     "data": {
      "text/html": [
       "<div>\n",
       "<style scoped>\n",
       "    .dataframe tbody tr th:only-of-type {\n",
       "        vertical-align: middle;\n",
       "    }\n",
       "\n",
       "    .dataframe tbody tr th {\n",
       "        vertical-align: top;\n",
       "    }\n",
       "\n",
       "    .dataframe thead th {\n",
       "        text-align: right;\n",
       "    }\n",
       "</style>\n",
       "<table border=\"1\" class=\"dataframe\">\n",
       "  <thead>\n",
       "    <tr style=\"text-align: right;\">\n",
       "      <th></th>\n",
       "      <th>messages_included</th>\n",
       "      <th>mb_per_month_included</th>\n",
       "      <th>minutes_included</th>\n",
       "      <th>rub_monthly_fee</th>\n",
       "      <th>rub_per_gb</th>\n",
       "      <th>rub_per_message</th>\n",
       "      <th>rub_per_minute</th>\n",
       "      <th>tariff</th>\n",
       "    </tr>\n",
       "  </thead>\n",
       "  <tbody>\n",
       "    <tr>\n",
       "      <th>0</th>\n",
       "      <td>50</td>\n",
       "      <td>15360</td>\n",
       "      <td>500</td>\n",
       "      <td>550</td>\n",
       "      <td>200</td>\n",
       "      <td>3</td>\n",
       "      <td>3</td>\n",
       "      <td>smart</td>\n",
       "    </tr>\n",
       "    <tr>\n",
       "      <th>1</th>\n",
       "      <td>1000</td>\n",
       "      <td>30720</td>\n",
       "      <td>3000</td>\n",
       "      <td>1950</td>\n",
       "      <td>150</td>\n",
       "      <td>1</td>\n",
       "      <td>1</td>\n",
       "      <td>ultra</td>\n",
       "    </tr>\n",
       "  </tbody>\n",
       "</table>\n",
       "</div>"
      ],
      "text/plain": [
       "   messages_included  mb_per_month_included  minutes_included  \\\n",
       "0                 50                  15360               500   \n",
       "1               1000                  30720              3000   \n",
       "\n",
       "   rub_monthly_fee  rub_per_gb  rub_per_message  rub_per_minute tariff  \n",
       "0              550         200                3               3  smart  \n",
       "1             1950         150                1               1  ultra  "
      ]
     },
     "execution_count": 42,
     "metadata": {},
     "output_type": "execute_result"
    }
   ],
   "source": [
    "#в tariffs переименую столбец tariff_name на tariff\n",
    "tariffs = tariffs.rename(columns={'tariff_name':'tariff'})\n",
    "tariffs"
   ]
  },
  {
   "cell_type": "code",
   "execution_count": 43,
   "metadata": {},
   "outputs": [
    {
     "data": {
      "text/html": [
       "<div>\n",
       "<style scoped>\n",
       "    .dataframe tbody tr th:only-of-type {\n",
       "        vertical-align: middle;\n",
       "    }\n",
       "\n",
       "    .dataframe tbody tr th {\n",
       "        vertical-align: top;\n",
       "    }\n",
       "\n",
       "    .dataframe thead th {\n",
       "        text-align: right;\n",
       "    }\n",
       "</style>\n",
       "<table border=\"1\" class=\"dataframe\">\n",
       "  <thead>\n",
       "    <tr style=\"text-align: right;\">\n",
       "      <th></th>\n",
       "      <th>user_id</th>\n",
       "      <th>month</th>\n",
       "      <th>duration</th>\n",
       "      <th>messages</th>\n",
       "      <th>gb_used</th>\n",
       "      <th>city</th>\n",
       "      <th>tariff</th>\n",
       "      <th>messages_included</th>\n",
       "      <th>mb_per_month_included</th>\n",
       "      <th>minutes_included</th>\n",
       "      <th>rub_monthly_fee</th>\n",
       "      <th>rub_per_gb</th>\n",
       "      <th>rub_per_message</th>\n",
       "      <th>rub_per_minute</th>\n",
       "    </tr>\n",
       "  </thead>\n",
       "  <tbody>\n",
       "    <tr>\n",
       "      <th>0</th>\n",
       "      <td>1000</td>\n",
       "      <td>5.0</td>\n",
       "      <td>159.0</td>\n",
       "      <td>22.0</td>\n",
       "      <td>3.0</td>\n",
       "      <td>Краснодар</td>\n",
       "      <td>ultra</td>\n",
       "      <td>1000</td>\n",
       "      <td>30720</td>\n",
       "      <td>3000</td>\n",
       "      <td>1950</td>\n",
       "      <td>150</td>\n",
       "      <td>1</td>\n",
       "      <td>1</td>\n",
       "    </tr>\n",
       "    <tr>\n",
       "      <th>1</th>\n",
       "      <td>1000</td>\n",
       "      <td>6.0</td>\n",
       "      <td>172.0</td>\n",
       "      <td>60.0</td>\n",
       "      <td>23.0</td>\n",
       "      <td>Краснодар</td>\n",
       "      <td>ultra</td>\n",
       "      <td>1000</td>\n",
       "      <td>30720</td>\n",
       "      <td>3000</td>\n",
       "      <td>1950</td>\n",
       "      <td>150</td>\n",
       "      <td>1</td>\n",
       "      <td>1</td>\n",
       "    </tr>\n",
       "    <tr>\n",
       "      <th>2</th>\n",
       "      <td>1000</td>\n",
       "      <td>7.0</td>\n",
       "      <td>340.0</td>\n",
       "      <td>75.0</td>\n",
       "      <td>14.0</td>\n",
       "      <td>Краснодар</td>\n",
       "      <td>ultra</td>\n",
       "      <td>1000</td>\n",
       "      <td>30720</td>\n",
       "      <td>3000</td>\n",
       "      <td>1950</td>\n",
       "      <td>150</td>\n",
       "      <td>1</td>\n",
       "      <td>1</td>\n",
       "    </tr>\n",
       "    <tr>\n",
       "      <th>3</th>\n",
       "      <td>1000</td>\n",
       "      <td>8.0</td>\n",
       "      <td>408.0</td>\n",
       "      <td>81.0</td>\n",
       "      <td>14.0</td>\n",
       "      <td>Краснодар</td>\n",
       "      <td>ultra</td>\n",
       "      <td>1000</td>\n",
       "      <td>30720</td>\n",
       "      <td>3000</td>\n",
       "      <td>1950</td>\n",
       "      <td>150</td>\n",
       "      <td>1</td>\n",
       "      <td>1</td>\n",
       "    </tr>\n",
       "    <tr>\n",
       "      <th>4</th>\n",
       "      <td>1000</td>\n",
       "      <td>9.0</td>\n",
       "      <td>466.0</td>\n",
       "      <td>57.0</td>\n",
       "      <td>15.0</td>\n",
       "      <td>Краснодар</td>\n",
       "      <td>ultra</td>\n",
       "      <td>1000</td>\n",
       "      <td>30720</td>\n",
       "      <td>3000</td>\n",
       "      <td>1950</td>\n",
       "      <td>150</td>\n",
       "      <td>1</td>\n",
       "      <td>1</td>\n",
       "    </tr>\n",
       "  </tbody>\n",
       "</table>\n",
       "</div>"
      ],
      "text/plain": [
       "   user_id  month  duration  messages  gb_used       city tariff  \\\n",
       "0     1000    5.0     159.0      22.0      3.0  Краснодар  ultra   \n",
       "1     1000    6.0     172.0      60.0     23.0  Краснодар  ultra   \n",
       "2     1000    7.0     340.0      75.0     14.0  Краснодар  ultra   \n",
       "3     1000    8.0     408.0      81.0     14.0  Краснодар  ultra   \n",
       "4     1000    9.0     466.0      57.0     15.0  Краснодар  ultra   \n",
       "\n",
       "   messages_included  mb_per_month_included  minutes_included  \\\n",
       "0               1000                  30720              3000   \n",
       "1               1000                  30720              3000   \n",
       "2               1000                  30720              3000   \n",
       "3               1000                  30720              3000   \n",
       "4               1000                  30720              3000   \n",
       "\n",
       "   rub_monthly_fee  rub_per_gb  rub_per_message  rub_per_minute  \n",
       "0             1950         150                1               1  \n",
       "1             1950         150                1               1  \n",
       "2             1950         150                1               1  \n",
       "3             1950         150                1               1  \n",
       "4             1950         150                1               1  "
      ]
     },
     "execution_count": 43,
     "metadata": {},
     "output_type": "execute_result"
    }
   ],
   "source": [
    "#объединяю в таблицей tariffs\n",
    "for df in [tariffs]:\n",
    "    df_new = df_new.merge(df, on = ['tariff'], how = 'left')\n",
    "df_new.head()"
   ]
  },
  {
   "cell_type": "code",
   "execution_count": 44,
   "metadata": {},
   "outputs": [
    {
     "data": {
      "text/plain": [
       "(500,)"
      ]
     },
     "execution_count": 44,
     "metadata": {},
     "output_type": "execute_result"
    }
   ],
   "source": [
    "df_new.user_id.unique().shape"
   ]
  },
  {
   "cell_type": "code",
   "execution_count": 45,
   "metadata": {},
   "outputs": [
    {
     "data": {
      "text/html": [
       "<div>\n",
       "<style scoped>\n",
       "    .dataframe tbody tr th:only-of-type {\n",
       "        vertical-align: middle;\n",
       "    }\n",
       "\n",
       "    .dataframe tbody tr th {\n",
       "        vertical-align: top;\n",
       "    }\n",
       "\n",
       "    .dataframe thead th {\n",
       "        text-align: right;\n",
       "    }\n",
       "</style>\n",
       "<table border=\"1\" class=\"dataframe\">\n",
       "  <thead>\n",
       "    <tr style=\"text-align: right;\">\n",
       "      <th></th>\n",
       "      <th>user_id</th>\n",
       "      <th>month</th>\n",
       "      <th>duration</th>\n",
       "      <th>messages</th>\n",
       "      <th>gb_used</th>\n",
       "      <th>city</th>\n",
       "      <th>tariff</th>\n",
       "      <th>messages_included</th>\n",
       "      <th>gb_per_month_included</th>\n",
       "      <th>minutes_included</th>\n",
       "      <th>rub_monthly_fee</th>\n",
       "      <th>rub_per_gb</th>\n",
       "      <th>rub_per_message</th>\n",
       "      <th>rub_per_minute</th>\n",
       "    </tr>\n",
       "  </thead>\n",
       "  <tbody>\n",
       "    <tr>\n",
       "      <th>0</th>\n",
       "      <td>1000</td>\n",
       "      <td>5.0</td>\n",
       "      <td>159.0</td>\n",
       "      <td>22.0</td>\n",
       "      <td>3.0</td>\n",
       "      <td>Краснодар</td>\n",
       "      <td>ultra</td>\n",
       "      <td>1000</td>\n",
       "      <td>30</td>\n",
       "      <td>3000</td>\n",
       "      <td>1950</td>\n",
       "      <td>150</td>\n",
       "      <td>1</td>\n",
       "      <td>1</td>\n",
       "    </tr>\n",
       "    <tr>\n",
       "      <th>1</th>\n",
       "      <td>1000</td>\n",
       "      <td>6.0</td>\n",
       "      <td>172.0</td>\n",
       "      <td>60.0</td>\n",
       "      <td>23.0</td>\n",
       "      <td>Краснодар</td>\n",
       "      <td>ultra</td>\n",
       "      <td>1000</td>\n",
       "      <td>30</td>\n",
       "      <td>3000</td>\n",
       "      <td>1950</td>\n",
       "      <td>150</td>\n",
       "      <td>1</td>\n",
       "      <td>1</td>\n",
       "    </tr>\n",
       "    <tr>\n",
       "      <th>2</th>\n",
       "      <td>1000</td>\n",
       "      <td>7.0</td>\n",
       "      <td>340.0</td>\n",
       "      <td>75.0</td>\n",
       "      <td>14.0</td>\n",
       "      <td>Краснодар</td>\n",
       "      <td>ultra</td>\n",
       "      <td>1000</td>\n",
       "      <td>30</td>\n",
       "      <td>3000</td>\n",
       "      <td>1950</td>\n",
       "      <td>150</td>\n",
       "      <td>1</td>\n",
       "      <td>1</td>\n",
       "    </tr>\n",
       "    <tr>\n",
       "      <th>3</th>\n",
       "      <td>1000</td>\n",
       "      <td>8.0</td>\n",
       "      <td>408.0</td>\n",
       "      <td>81.0</td>\n",
       "      <td>14.0</td>\n",
       "      <td>Краснодар</td>\n",
       "      <td>ultra</td>\n",
       "      <td>1000</td>\n",
       "      <td>30</td>\n",
       "      <td>3000</td>\n",
       "      <td>1950</td>\n",
       "      <td>150</td>\n",
       "      <td>1</td>\n",
       "      <td>1</td>\n",
       "    </tr>\n",
       "    <tr>\n",
       "      <th>4</th>\n",
       "      <td>1000</td>\n",
       "      <td>9.0</td>\n",
       "      <td>466.0</td>\n",
       "      <td>57.0</td>\n",
       "      <td>15.0</td>\n",
       "      <td>Краснодар</td>\n",
       "      <td>ultra</td>\n",
       "      <td>1000</td>\n",
       "      <td>30</td>\n",
       "      <td>3000</td>\n",
       "      <td>1950</td>\n",
       "      <td>150</td>\n",
       "      <td>1</td>\n",
       "      <td>1</td>\n",
       "    </tr>\n",
       "  </tbody>\n",
       "</table>\n",
       "</div>"
      ],
      "text/plain": [
       "   user_id  month  duration  messages  gb_used       city tariff  \\\n",
       "0     1000    5.0     159.0      22.0      3.0  Краснодар  ultra   \n",
       "1     1000    6.0     172.0      60.0     23.0  Краснодар  ultra   \n",
       "2     1000    7.0     340.0      75.0     14.0  Краснодар  ultra   \n",
       "3     1000    8.0     408.0      81.0     14.0  Краснодар  ultra   \n",
       "4     1000    9.0     466.0      57.0     15.0  Краснодар  ultra   \n",
       "\n",
       "   messages_included  gb_per_month_included  minutes_included  \\\n",
       "0               1000                     30              3000   \n",
       "1               1000                     30              3000   \n",
       "2               1000                     30              3000   \n",
       "3               1000                     30              3000   \n",
       "4               1000                     30              3000   \n",
       "\n",
       "   rub_monthly_fee  rub_per_gb  rub_per_message  rub_per_minute  \n",
       "0             1950         150                1               1  \n",
       "1             1950         150                1               1  \n",
       "2             1950         150                1               1  \n",
       "3             1950         150                1               1  \n",
       "4             1950         150                1               1  "
      ]
     },
     "execution_count": 45,
     "metadata": {},
     "output_type": "execute_result"
    }
   ],
   "source": [
    "#переведу Мб в Гб и округлю в большую сторону, а также переименую столбец\n",
    "df_new['mb_per_month_included'] = np.ceil(df_new['mb_per_month_included'] / 1024).astype(int)\n",
    "df_new = df_new.rename(columns={'mb_per_month_included':'gb_per_month_included'})\n",
    "df_new.head()"
   ]
  },
  {
   "cell_type": "code",
   "execution_count": 46,
   "metadata": {},
   "outputs": [],
   "source": [
    "#функция для подсчета помесячной выручки с каждого пользователя\n",
    "def revenue(row):\n",
    "    \n",
    "    duration = row['duration']\n",
    "    messages = row['messages']\n",
    "    gb_used = row['gb_used']\n",
    "    minutes_included = row['minutes_included']\n",
    "    messages_included = row['messages_included']\n",
    "    gb_per_month_included = row['gb_per_month_included']\n",
    "    rub_per_minute = row['rub_per_minute']\n",
    "    rub_per_message = row['rub_per_message']\n",
    "    rub_per_gb = row['rub_per_gb']\n",
    "    rub_monthly_fee = row['rub_monthly_fee']\n",
    "    tariff = row['tariff']\n",
    "    \n",
    "    if tariff == 'smart':\n",
    "        extra_duration = duration - minutes_included\n",
    "        extra_messages = messages - messages_included\n",
    "        extra_gb = gb_used - gb_per_month_included\n",
    "        \n",
    "        if extra_duration < 0:\n",
    "            extra_duration = 0\n",
    "        if extra_messages < 0:\n",
    "            extra_messages = 0\n",
    "        if extra_gb < 0:\n",
    "            extra_gb = 0\n",
    "            \n",
    "        return (\n",
    "            extra_duration * rub_per_minute\n",
    "        ) + (\n",
    "            extra_messages * rub_per_message\n",
    "        ) + (\n",
    "            \n",
    "            extra_gb * rub_per_gb) + rub_monthly_fee\n",
    "    \n",
    "    else:\n",
    "        extra_duration = duration - minutes_included\n",
    "        extra_messages = messages - messages_included\n",
    "        extra_gb = gb_used - gb_per_month_included\n",
    "        \n",
    "        if extra_duration < 0:\n",
    "            extra_duration = 0\n",
    "        if extra_messages < 0:\n",
    "            extra_messages = 0\n",
    "        if extra_gb < 0:\n",
    "            extra_gb = 0\n",
    "            \n",
    "        return (\n",
    "            extra_duration * rub_per_minute\n",
    "        ) + (\n",
    "            extra_messages * rub_per_message\n",
    "        ) + (\n",
    "            \n",
    "            extra_gb * rub_per_gb) + rub_monthly_fee"
   ]
  },
  {
   "cell_type": "markdown",
   "metadata": {},
   "source": [
    "<font color='DarkBlue'><b>Комментарий ревьюера</b></font><br>\n",
    "<font color='DarkGreen'>👌 Хорошо! Прописали расчет выручки.</font>"
   ]
  },
  {
   "cell_type": "code",
   "execution_count": 47,
   "metadata": {},
   "outputs": [
    {
     "data": {
      "text/html": [
       "<div>\n",
       "<style scoped>\n",
       "    .dataframe tbody tr th:only-of-type {\n",
       "        vertical-align: middle;\n",
       "    }\n",
       "\n",
       "    .dataframe tbody tr th {\n",
       "        vertical-align: top;\n",
       "    }\n",
       "\n",
       "    .dataframe thead th {\n",
       "        text-align: right;\n",
       "    }\n",
       "</style>\n",
       "<table border=\"1\" class=\"dataframe\">\n",
       "  <thead>\n",
       "    <tr style=\"text-align: right;\">\n",
       "      <th></th>\n",
       "      <th>user_id</th>\n",
       "      <th>month</th>\n",
       "      <th>duration</th>\n",
       "      <th>messages</th>\n",
       "      <th>gb_used</th>\n",
       "      <th>city</th>\n",
       "      <th>tariff</th>\n",
       "      <th>messages_included</th>\n",
       "      <th>gb_per_month_included</th>\n",
       "      <th>minutes_included</th>\n",
       "      <th>rub_monthly_fee</th>\n",
       "      <th>rub_per_gb</th>\n",
       "      <th>rub_per_message</th>\n",
       "      <th>rub_per_minute</th>\n",
       "      <th>revenue</th>\n",
       "    </tr>\n",
       "  </thead>\n",
       "  <tbody>\n",
       "    <tr>\n",
       "      <th>0</th>\n",
       "      <td>1000</td>\n",
       "      <td>5.0</td>\n",
       "      <td>159.0</td>\n",
       "      <td>22.0</td>\n",
       "      <td>3.0</td>\n",
       "      <td>Краснодар</td>\n",
       "      <td>ultra</td>\n",
       "      <td>1000</td>\n",
       "      <td>30</td>\n",
       "      <td>3000</td>\n",
       "      <td>1950</td>\n",
       "      <td>150</td>\n",
       "      <td>1</td>\n",
       "      <td>1</td>\n",
       "      <td>1950.0</td>\n",
       "    </tr>\n",
       "    <tr>\n",
       "      <th>1</th>\n",
       "      <td>1000</td>\n",
       "      <td>6.0</td>\n",
       "      <td>172.0</td>\n",
       "      <td>60.0</td>\n",
       "      <td>23.0</td>\n",
       "      <td>Краснодар</td>\n",
       "      <td>ultra</td>\n",
       "      <td>1000</td>\n",
       "      <td>30</td>\n",
       "      <td>3000</td>\n",
       "      <td>1950</td>\n",
       "      <td>150</td>\n",
       "      <td>1</td>\n",
       "      <td>1</td>\n",
       "      <td>1950.0</td>\n",
       "    </tr>\n",
       "    <tr>\n",
       "      <th>2</th>\n",
       "      <td>1000</td>\n",
       "      <td>7.0</td>\n",
       "      <td>340.0</td>\n",
       "      <td>75.0</td>\n",
       "      <td>14.0</td>\n",
       "      <td>Краснодар</td>\n",
       "      <td>ultra</td>\n",
       "      <td>1000</td>\n",
       "      <td>30</td>\n",
       "      <td>3000</td>\n",
       "      <td>1950</td>\n",
       "      <td>150</td>\n",
       "      <td>1</td>\n",
       "      <td>1</td>\n",
       "      <td>1950.0</td>\n",
       "    </tr>\n",
       "    <tr>\n",
       "      <th>3</th>\n",
       "      <td>1000</td>\n",
       "      <td>8.0</td>\n",
       "      <td>408.0</td>\n",
       "      <td>81.0</td>\n",
       "      <td>14.0</td>\n",
       "      <td>Краснодар</td>\n",
       "      <td>ultra</td>\n",
       "      <td>1000</td>\n",
       "      <td>30</td>\n",
       "      <td>3000</td>\n",
       "      <td>1950</td>\n",
       "      <td>150</td>\n",
       "      <td>1</td>\n",
       "      <td>1</td>\n",
       "      <td>1950.0</td>\n",
       "    </tr>\n",
       "    <tr>\n",
       "      <th>4</th>\n",
       "      <td>1000</td>\n",
       "      <td>9.0</td>\n",
       "      <td>466.0</td>\n",
       "      <td>57.0</td>\n",
       "      <td>15.0</td>\n",
       "      <td>Краснодар</td>\n",
       "      <td>ultra</td>\n",
       "      <td>1000</td>\n",
       "      <td>30</td>\n",
       "      <td>3000</td>\n",
       "      <td>1950</td>\n",
       "      <td>150</td>\n",
       "      <td>1</td>\n",
       "      <td>1</td>\n",
       "      <td>1950.0</td>\n",
       "    </tr>\n",
       "  </tbody>\n",
       "</table>\n",
       "</div>"
      ],
      "text/plain": [
       "   user_id  month  duration  messages  gb_used       city tariff  \\\n",
       "0     1000    5.0     159.0      22.0      3.0  Краснодар  ultra   \n",
       "1     1000    6.0     172.0      60.0     23.0  Краснодар  ultra   \n",
       "2     1000    7.0     340.0      75.0     14.0  Краснодар  ultra   \n",
       "3     1000    8.0     408.0      81.0     14.0  Краснодар  ultra   \n",
       "4     1000    9.0     466.0      57.0     15.0  Краснодар  ultra   \n",
       "\n",
       "   messages_included  gb_per_month_included  minutes_included  \\\n",
       "0               1000                     30              3000   \n",
       "1               1000                     30              3000   \n",
       "2               1000                     30              3000   \n",
       "3               1000                     30              3000   \n",
       "4               1000                     30              3000   \n",
       "\n",
       "   rub_monthly_fee  rub_per_gb  rub_per_message  rub_per_minute  revenue  \n",
       "0             1950         150                1               1   1950.0  \n",
       "1             1950         150                1               1   1950.0  \n",
       "2             1950         150                1               1   1950.0  \n",
       "3             1950         150                1               1   1950.0  \n",
       "4             1950         150                1               1   1950.0  "
      ]
     },
     "execution_count": 47,
     "metadata": {},
     "output_type": "execute_result"
    }
   ],
   "source": [
    "#добавлю новый столбец с помесячной выручкой\n",
    "df_new['revenue'] = df_new.apply(revenue, axis=1)\n",
    "df_new.head()"
   ]
  },
  {
   "cell_type": "code",
   "execution_count": 48,
   "metadata": {},
   "outputs": [
    {
     "data": {
      "text/plain": [
       "(500,)"
      ]
     },
     "execution_count": 48,
     "metadata": {},
     "output_type": "execute_result"
    }
   ],
   "source": [
    "df_new.user_id.unique().shape"
   ]
  },
  {
   "cell_type": "markdown",
   "metadata": {},
   "source": [
    "</font><font color='Blue'><b>Комментарий студента</b></font><br>\n",
    "В итоговой таблице все пользователи на месте."
   ]
  },
  {
   "cell_type": "markdown",
   "metadata": {},
   "source": [
    "<font color='DarkBlue'><b>Комментарий ревьюера 2</b></font><br>\n",
    "<font color='DarkMagenta'>👉 А вот этих можно удалить.</font>"
   ]
  },
  {
   "cell_type": "code",
   "execution_count": 66,
   "metadata": {},
   "outputs": [
    {
     "data": {
      "text/html": [
       "<div>\n",
       "<style scoped>\n",
       "    .dataframe tbody tr th:only-of-type {\n",
       "        vertical-align: middle;\n",
       "    }\n",
       "\n",
       "    .dataframe tbody tr th {\n",
       "        vertical-align: top;\n",
       "    }\n",
       "\n",
       "    .dataframe thead th {\n",
       "        text-align: right;\n",
       "    }\n",
       "</style>\n",
       "<table border=\"1\" class=\"dataframe\">\n",
       "  <thead>\n",
       "    <tr style=\"text-align: right;\">\n",
       "      <th></th>\n",
       "      <th>user_id</th>\n",
       "      <th>month</th>\n",
       "      <th>duration</th>\n",
       "      <th>messages</th>\n",
       "      <th>gb_used</th>\n",
       "      <th>city</th>\n",
       "      <th>tariff</th>\n",
       "      <th>messages_included</th>\n",
       "      <th>gb_per_month_included</th>\n",
       "      <th>minutes_included</th>\n",
       "      <th>rub_monthly_fee</th>\n",
       "      <th>rub_per_gb</th>\n",
       "      <th>rub_per_message</th>\n",
       "      <th>rub_per_minute</th>\n",
       "      <th>revenue</th>\n",
       "    </tr>\n",
       "  </thead>\n",
       "  <tbody>\n",
       "    <tr>\n",
       "      <th>3176</th>\n",
       "      <td>1128</td>\n",
       "      <td>NaN</td>\n",
       "      <td>NaN</td>\n",
       "      <td>NaN</td>\n",
       "      <td>NaN</td>\n",
       "      <td>Волжский</td>\n",
       "      <td>ultra</td>\n",
       "      <td>1000</td>\n",
       "      <td>30</td>\n",
       "      <td>3000</td>\n",
       "      <td>1950</td>\n",
       "      <td>150</td>\n",
       "      <td>1</td>\n",
       "      <td>1</td>\n",
       "      <td>NaN</td>\n",
       "    </tr>\n",
       "    <tr>\n",
       "      <th>3179</th>\n",
       "      <td>1371</td>\n",
       "      <td>NaN</td>\n",
       "      <td>NaN</td>\n",
       "      <td>NaN</td>\n",
       "      <td>NaN</td>\n",
       "      <td>Омск</td>\n",
       "      <td>smart</td>\n",
       "      <td>50</td>\n",
       "      <td>15</td>\n",
       "      <td>500</td>\n",
       "      <td>550</td>\n",
       "      <td>200</td>\n",
       "      <td>3</td>\n",
       "      <td>3</td>\n",
       "      <td>NaN</td>\n",
       "    </tr>\n",
       "  </tbody>\n",
       "</table>\n",
       "</div>"
      ],
      "text/plain": [
       "      user_id  month  duration  messages  gb_used      city tariff  \\\n",
       "3176     1128    NaN       NaN       NaN      NaN  Волжский  ultra   \n",
       "3179     1371    NaN       NaN       NaN      NaN      Омск  smart   \n",
       "\n",
       "      messages_included  gb_per_month_included  minutes_included  \\\n",
       "3176               1000                     30              3000   \n",
       "3179                 50                     15               500   \n",
       "\n",
       "      rub_monthly_fee  rub_per_gb  rub_per_message  rub_per_minute  revenue  \n",
       "3176             1950         150                1               1      NaN  \n",
       "3179              550         200                3               3      NaN  "
      ]
     },
     "execution_count": 66,
     "metadata": {},
     "output_type": "execute_result"
    }
   ],
   "source": [
    "# Комментарий ревьюера 2\n",
    "temp = df_new.copy()\n",
    "temp[(temp.user_id ==  1128) | (temp.user_id ==  1371)]"
   ]
  },
  {
   "cell_type": "markdown",
   "metadata": {},
   "source": [
    "## Анализ данных"
   ]
  },
  {
   "cell_type": "code",
   "execution_count": 49,
   "metadata": {},
   "outputs": [
    {
     "data": {
      "text/html": [
       "<div>\n",
       "<style scoped>\n",
       "    .dataframe tbody tr th:only-of-type {\n",
       "        vertical-align: middle;\n",
       "    }\n",
       "\n",
       "    .dataframe tbody tr th {\n",
       "        vertical-align: top;\n",
       "    }\n",
       "\n",
       "    .dataframe thead th {\n",
       "        text-align: right;\n",
       "    }\n",
       "</style>\n",
       "<table border=\"1\" class=\"dataframe\">\n",
       "  <thead>\n",
       "    <tr style=\"text-align: right;\">\n",
       "      <th></th>\n",
       "      <th>duration</th>\n",
       "      <th>gb_used</th>\n",
       "      <th>messages</th>\n",
       "      <th>revenue</th>\n",
       "    </tr>\n",
       "    <tr>\n",
       "      <th>user_id</th>\n",
       "      <th></th>\n",
       "      <th></th>\n",
       "      <th></th>\n",
       "      <th></th>\n",
       "    </tr>\n",
       "  </thead>\n",
       "  <tbody>\n",
       "    <tr>\n",
       "      <th>1001</th>\n",
       "      <td>422.0</td>\n",
       "      <td>16.0</td>\n",
       "      <td>0.0</td>\n",
       "      <td>850.0</td>\n",
       "    </tr>\n",
       "    <tr>\n",
       "      <th>1002</th>\n",
       "      <td>214.0</td>\n",
       "      <td>18.0</td>\n",
       "      <td>11.0</td>\n",
       "      <td>1150.0</td>\n",
       "    </tr>\n",
       "    <tr>\n",
       "      <th>1005</th>\n",
       "      <td>593.5</td>\n",
       "      <td>8.0</td>\n",
       "      <td>49.0</td>\n",
       "      <td>836.5</td>\n",
       "    </tr>\n",
       "    <tr>\n",
       "      <th>1006</th>\n",
       "      <td>356.0</td>\n",
       "      <td>16.0</td>\n",
       "      <td>0.0</td>\n",
       "      <td>750.0</td>\n",
       "    </tr>\n",
       "    <tr>\n",
       "      <th>1007</th>\n",
       "      <td>480.0</td>\n",
       "      <td>15.0</td>\n",
       "      <td>26.0</td>\n",
       "      <td>981.0</td>\n",
       "    </tr>\n",
       "  </tbody>\n",
       "</table>\n",
       "</div>"
      ],
      "text/plain": [
       "         duration  gb_used  messages  revenue\n",
       "user_id                                      \n",
       "1001        422.0     16.0       0.0    850.0\n",
       "1002        214.0     18.0      11.0   1150.0\n",
       "1005        593.5      8.0      49.0    836.5\n",
       "1006        356.0     16.0       0.0    750.0\n",
       "1007        480.0     15.0      26.0    981.0"
      ]
     },
     "execution_count": 49,
     "metadata": {},
     "output_type": "execute_result"
    }
   ],
   "source": [
    "#Сколько минут разговора, сколько сообщений и какой объём интернет-трафика требуется пользователям каждого тарифа в месяц\n",
    "df_new_smart = df_new.query('tariff == \"smart\"').pivot_table(index='user_id', values=['duration', 'gb_used', 'messages', 'revenue'], aggfunc='median')\n",
    "df_new_smart.head()"
   ]
  },
  {
   "cell_type": "code",
   "execution_count": 50,
   "metadata": {},
   "outputs": [
    {
     "data": {
      "text/html": [
       "<div>\n",
       "<style scoped>\n",
       "    .dataframe tbody tr th:only-of-type {\n",
       "        vertical-align: middle;\n",
       "    }\n",
       "\n",
       "    .dataframe tbody tr th {\n",
       "        vertical-align: top;\n",
       "    }\n",
       "\n",
       "    .dataframe thead th {\n",
       "        text-align: right;\n",
       "    }\n",
       "</style>\n",
       "<table border=\"1\" class=\"dataframe\">\n",
       "  <thead>\n",
       "    <tr style=\"text-align: right;\">\n",
       "      <th></th>\n",
       "      <th>duration</th>\n",
       "      <th>gb_used</th>\n",
       "      <th>messages</th>\n",
       "      <th>revenue</th>\n",
       "    </tr>\n",
       "  </thead>\n",
       "  <tbody>\n",
       "    <tr>\n",
       "      <th>count</th>\n",
       "      <td>349.000000</td>\n",
       "      <td>349.000000</td>\n",
       "      <td>349.000000</td>\n",
       "      <td>349.000000</td>\n",
       "    </tr>\n",
       "    <tr>\n",
       "      <th>mean</th>\n",
       "      <td>438.724928</td>\n",
       "      <td>16.926934</td>\n",
       "      <td>33.806590</td>\n",
       "      <td>1304.697708</td>\n",
       "    </tr>\n",
       "    <tr>\n",
       "      <th>std</th>\n",
       "      <td>158.761565</td>\n",
       "      <td>4.076279</td>\n",
       "      <td>28.042491</td>\n",
       "      <td>722.629582</td>\n",
       "    </tr>\n",
       "    <tr>\n",
       "      <th>min</th>\n",
       "      <td>13.000000</td>\n",
       "      <td>6.000000</td>\n",
       "      <td>0.000000</td>\n",
       "      <td>550.000000</td>\n",
       "    </tr>\n",
       "    <tr>\n",
       "      <th>25%</th>\n",
       "      <td>324.500000</td>\n",
       "      <td>14.000000</td>\n",
       "      <td>11.000000</td>\n",
       "      <td>750.000000</td>\n",
       "    </tr>\n",
       "    <tr>\n",
       "      <th>50%</th>\n",
       "      <td>440.000000</td>\n",
       "      <td>17.000000</td>\n",
       "      <td>28.500000</td>\n",
       "      <td>1150.000000</td>\n",
       "    </tr>\n",
       "    <tr>\n",
       "      <th>75%</th>\n",
       "      <td>541.000000</td>\n",
       "      <td>19.500000</td>\n",
       "      <td>51.000000</td>\n",
       "      <td>1667.000000</td>\n",
       "    </tr>\n",
       "    <tr>\n",
       "      <th>max</th>\n",
       "      <td>891.500000</td>\n",
       "      <td>36.000000</td>\n",
       "      <td>134.000000</td>\n",
       "      <td>5680.000000</td>\n",
       "    </tr>\n",
       "  </tbody>\n",
       "</table>\n",
       "</div>"
      ],
      "text/plain": [
       "         duration     gb_used    messages      revenue\n",
       "count  349.000000  349.000000  349.000000   349.000000\n",
       "mean   438.724928   16.926934   33.806590  1304.697708\n",
       "std    158.761565    4.076279   28.042491   722.629582\n",
       "min     13.000000    6.000000    0.000000   550.000000\n",
       "25%    324.500000   14.000000   11.000000   750.000000\n",
       "50%    440.000000   17.000000   28.500000  1150.000000\n",
       "75%    541.000000   19.500000   51.000000  1667.000000\n",
       "max    891.500000   36.000000  134.000000  5680.000000"
      ]
     },
     "execution_count": 50,
     "metadata": {},
     "output_type": "execute_result"
    }
   ],
   "source": [
    "df_new_smart.describe()"
   ]
  },
  {
   "cell_type": "code",
   "execution_count": 51,
   "metadata": {},
   "outputs": [
    {
     "data": {
      "text/html": [
       "<div>\n",
       "<style scoped>\n",
       "    .dataframe tbody tr th:only-of-type {\n",
       "        vertical-align: middle;\n",
       "    }\n",
       "\n",
       "    .dataframe tbody tr th {\n",
       "        vertical-align: top;\n",
       "    }\n",
       "\n",
       "    .dataframe thead th {\n",
       "        text-align: right;\n",
       "    }\n",
       "</style>\n",
       "<table border=\"1\" class=\"dataframe\">\n",
       "  <thead>\n",
       "    <tr style=\"text-align: right;\">\n",
       "      <th></th>\n",
       "      <th>duration</th>\n",
       "      <th>gb_used</th>\n",
       "      <th>messages</th>\n",
       "      <th>revenue</th>\n",
       "    </tr>\n",
       "    <tr>\n",
       "      <th>user_id</th>\n",
       "      <th></th>\n",
       "      <th></th>\n",
       "      <th></th>\n",
       "      <th></th>\n",
       "    </tr>\n",
       "  </thead>\n",
       "  <tbody>\n",
       "    <tr>\n",
       "      <th>1000</th>\n",
       "      <td>339.0</td>\n",
       "      <td>14.5</td>\n",
       "      <td>65.0</td>\n",
       "      <td>1950.0</td>\n",
       "    </tr>\n",
       "    <tr>\n",
       "      <th>1003</th>\n",
       "      <td>824.0</td>\n",
       "      <td>12.0</td>\n",
       "      <td>83.0</td>\n",
       "      <td>1950.0</td>\n",
       "    </tr>\n",
       "    <tr>\n",
       "      <th>1004</th>\n",
       "      <td>132.5</td>\n",
       "      <td>18.0</td>\n",
       "      <td>154.5</td>\n",
       "      <td>1950.0</td>\n",
       "    </tr>\n",
       "    <tr>\n",
       "      <th>1013</th>\n",
       "      <td>468.0</td>\n",
       "      <td>15.5</td>\n",
       "      <td>21.0</td>\n",
       "      <td>1950.0</td>\n",
       "    </tr>\n",
       "    <tr>\n",
       "      <th>1016</th>\n",
       "      <td>61.0</td>\n",
       "      <td>13.5</td>\n",
       "      <td>71.0</td>\n",
       "      <td>1950.0</td>\n",
       "    </tr>\n",
       "  </tbody>\n",
       "</table>\n",
       "</div>"
      ],
      "text/plain": [
       "         duration  gb_used  messages  revenue\n",
       "user_id                                      \n",
       "1000        339.0     14.5      65.0   1950.0\n",
       "1003        824.0     12.0      83.0   1950.0\n",
       "1004        132.5     18.0     154.5   1950.0\n",
       "1013        468.0     15.5      21.0   1950.0\n",
       "1016         61.0     13.5      71.0   1950.0"
      ]
     },
     "execution_count": 51,
     "metadata": {},
     "output_type": "execute_result"
    }
   ],
   "source": [
    "#Сколько минут разговора, сколько сообщений и какой объём интернет-трафика требуется пользователям каждого тарифа в месяц\n",
    "df_new_ultra = df_new.query('tariff == \"ultra\"').pivot_table(index='user_id', values=['duration', 'gb_used', 'messages', 'revenue'], aggfunc='median')\n",
    "df_new_ultra.head()"
   ]
  },
  {
   "cell_type": "code",
   "execution_count": 52,
   "metadata": {},
   "outputs": [
    {
     "data": {
      "text/html": [
       "<div>\n",
       "<style scoped>\n",
       "    .dataframe tbody tr th:only-of-type {\n",
       "        vertical-align: middle;\n",
       "    }\n",
       "\n",
       "    .dataframe tbody tr th {\n",
       "        vertical-align: top;\n",
       "    }\n",
       "\n",
       "    .dataframe thead th {\n",
       "        text-align: right;\n",
       "    }\n",
       "</style>\n",
       "<table border=\"1\" class=\"dataframe\">\n",
       "  <thead>\n",
       "    <tr style=\"text-align: right;\">\n",
       "      <th></th>\n",
       "      <th>duration</th>\n",
       "      <th>gb_used</th>\n",
       "      <th>messages</th>\n",
       "      <th>revenue</th>\n",
       "    </tr>\n",
       "  </thead>\n",
       "  <tbody>\n",
       "    <tr>\n",
       "      <th>count</th>\n",
       "      <td>143.000000</td>\n",
       "      <td>143.000000</td>\n",
       "      <td>143.000000</td>\n",
       "      <td>143.000000</td>\n",
       "    </tr>\n",
       "    <tr>\n",
       "      <th>mean</th>\n",
       "      <td>577.164336</td>\n",
       "      <td>20.244755</td>\n",
       "      <td>57.094406</td>\n",
       "      <td>2059.615385</td>\n",
       "    </tr>\n",
       "    <tr>\n",
       "      <th>std</th>\n",
       "      <td>290.153182</td>\n",
       "      <td>8.709285</td>\n",
       "      <td>48.496913</td>\n",
       "      <td>298.513381</td>\n",
       "    </tr>\n",
       "    <tr>\n",
       "      <th>min</th>\n",
       "      <td>6.000000</td>\n",
       "      <td>0.000000</td>\n",
       "      <td>0.000000</td>\n",
       "      <td>1950.000000</td>\n",
       "    </tr>\n",
       "    <tr>\n",
       "      <th>25%</th>\n",
       "      <td>350.500000</td>\n",
       "      <td>14.750000</td>\n",
       "      <td>16.750000</td>\n",
       "      <td>1950.000000</td>\n",
       "    </tr>\n",
       "    <tr>\n",
       "      <th>50%</th>\n",
       "      <td>546.000000</td>\n",
       "      <td>20.000000</td>\n",
       "      <td>49.500000</td>\n",
       "      <td>1950.000000</td>\n",
       "    </tr>\n",
       "    <tr>\n",
       "      <th>75%</th>\n",
       "      <td>791.500000</td>\n",
       "      <td>27.000000</td>\n",
       "      <td>87.000000</td>\n",
       "      <td>1950.000000</td>\n",
       "    </tr>\n",
       "    <tr>\n",
       "      <th>max</th>\n",
       "      <td>1273.000000</td>\n",
       "      <td>39.000000</td>\n",
       "      <td>197.000000</td>\n",
       "      <td>3300.000000</td>\n",
       "    </tr>\n",
       "  </tbody>\n",
       "</table>\n",
       "</div>"
      ],
      "text/plain": [
       "          duration     gb_used    messages      revenue\n",
       "count   143.000000  143.000000  143.000000   143.000000\n",
       "mean    577.164336   20.244755   57.094406  2059.615385\n",
       "std     290.153182    8.709285   48.496913   298.513381\n",
       "min       6.000000    0.000000    0.000000  1950.000000\n",
       "25%     350.500000   14.750000   16.750000  1950.000000\n",
       "50%     546.000000   20.000000   49.500000  1950.000000\n",
       "75%     791.500000   27.000000   87.000000  1950.000000\n",
       "max    1273.000000   39.000000  197.000000  3300.000000"
      ]
     },
     "execution_count": 52,
     "metadata": {},
     "output_type": "execute_result"
    }
   ],
   "source": [
    "df_new_ultra.describe()"
   ]
  },
  {
   "cell_type": "code",
   "execution_count": 53,
   "metadata": {},
   "outputs": [
    {
     "data": {
      "text/html": [
       "<div>\n",
       "<style scoped>\n",
       "    .dataframe tbody tr th:only-of-type {\n",
       "        vertical-align: middle;\n",
       "    }\n",
       "\n",
       "    .dataframe tbody tr th {\n",
       "        vertical-align: top;\n",
       "    }\n",
       "\n",
       "    .dataframe thead tr th {\n",
       "        text-align: left;\n",
       "    }\n",
       "\n",
       "    .dataframe thead tr:last-of-type th {\n",
       "        text-align: right;\n",
       "    }\n",
       "</style>\n",
       "<table border=\"1\" class=\"dataframe\">\n",
       "  <thead>\n",
       "    <tr>\n",
       "      <th></th>\n",
       "      <th colspan=\"3\" halign=\"left\">duration</th>\n",
       "      <th colspan=\"3\" halign=\"left\">gb_used</th>\n",
       "      <th colspan=\"3\" halign=\"left\">messages</th>\n",
       "      <th colspan=\"3\" halign=\"left\">revenue</th>\n",
       "    </tr>\n",
       "    <tr>\n",
       "      <th></th>\n",
       "      <th>median</th>\n",
       "      <th>std</th>\n",
       "      <th>var</th>\n",
       "      <th>median</th>\n",
       "      <th>std</th>\n",
       "      <th>var</th>\n",
       "      <th>median</th>\n",
       "      <th>std</th>\n",
       "      <th>var</th>\n",
       "      <th>median</th>\n",
       "      <th>std</th>\n",
       "      <th>var</th>\n",
       "    </tr>\n",
       "    <tr>\n",
       "      <th>tariff</th>\n",
       "      <th></th>\n",
       "      <th></th>\n",
       "      <th></th>\n",
       "      <th></th>\n",
       "      <th></th>\n",
       "      <th></th>\n",
       "      <th></th>\n",
       "      <th></th>\n",
       "      <th></th>\n",
       "      <th></th>\n",
       "      <th></th>\n",
       "      <th></th>\n",
       "    </tr>\n",
       "  </thead>\n",
       "  <tbody>\n",
       "    <tr>\n",
       "      <th>smart</th>\n",
       "      <td>423.0</td>\n",
       "      <td>189.325618</td>\n",
       "      <td>35844.189551</td>\n",
       "      <td>17.0</td>\n",
       "      <td>5.752599</td>\n",
       "      <td>33.092396</td>\n",
       "      <td>28.0</td>\n",
       "      <td>28.259437</td>\n",
       "      <td>798.595792</td>\n",
       "      <td>1030.0</td>\n",
       "      <td>819.119853</td>\n",
       "      <td>670957.332878</td>\n",
       "    </tr>\n",
       "    <tr>\n",
       "      <th>ultra</th>\n",
       "      <td>528.0</td>\n",
       "      <td>306.925754</td>\n",
       "      <td>94203.418396</td>\n",
       "      <td>19.0</td>\n",
       "      <td>9.890432</td>\n",
       "      <td>97.820643</td>\n",
       "      <td>39.0</td>\n",
       "      <td>46.890656</td>\n",
       "      <td>2198.733603</td>\n",
       "      <td>1950.0</td>\n",
       "      <td>379.423372</td>\n",
       "      <td>143962.095301</td>\n",
       "    </tr>\n",
       "  </tbody>\n",
       "</table>\n",
       "</div>"
      ],
      "text/plain": [
       "       duration                           gb_used                       \\\n",
       "         median         std           var  median       std        var   \n",
       "tariff                                                                   \n",
       "smart     423.0  189.325618  35844.189551    17.0  5.752599  33.092396   \n",
       "ultra     528.0  306.925754  94203.418396    19.0  9.890432  97.820643   \n",
       "\n",
       "       messages                         revenue                             \n",
       "         median        std          var  median         std            var  \n",
       "tariff                                                                      \n",
       "smart      28.0  28.259437   798.595792  1030.0  819.119853  670957.332878  \n",
       "ultra      39.0  46.890656  2198.733603  1950.0  379.423372  143962.095301  "
      ]
     },
     "execution_count": 53,
     "metadata": {},
     "output_type": "execute_result"
    }
   ],
   "source": [
    "#посчитаю среднее количество, дисперсию и стандартное отклонение\n",
    "df_new_np = df_new.pivot_table(index=['tariff'], values=['duration', 'gb_used', 'messages', 'revenue'], \n",
    "                    aggfunc={'duration': [np.median, np.var, np.std], \n",
    "                             'gb_used': [np.median, np.var, np.std], \n",
    "                             'messages': [np.median, np.var, np.std],\n",
    "                            'revenue': [np.median, np.var, np.std]})\n",
    "df_new_np"
   ]
  },
  {
   "cell_type": "markdown",
   "metadata": {},
   "source": [
    "<font color='DarkBlue'><b>Комментарий ревьюера</b></font><br>\n",
    "<font color='DarkGreen'>👌 Хорошо, посчитали статистику по тарифам. 👍</font>"
   ]
  },
  {
   "cell_type": "code",
   "execution_count": 54,
   "metadata": {},
   "outputs": [
    {
     "data": {
      "image/png": "[encoded data removed]",
      "text/plain": [
       "<Figure size 432x288 with 1 Axes>"
      ]
     },
     "metadata": {
      "needs_background": "light"
     },
     "output_type": "display_data"
    }
   ],
   "source": [
    "#построю гистограммы и посмотрю, как ведут себя пользователи разных тарифов\n",
    "ax = df_new_smart.plot(\n",
    "    kind='hist',\n",
    "    y='duration',\n",
    "    range=(0, 1300),\n",
    "    bins=25,\n",
    "    alpha=0.7,\n",
    "    label='smart',\n",
    ")\n",
    "df_new_ultra.plot(\n",
    "    kind='hist',\n",
    "    y='duration',\n",
    "    range=(0, 1300),\n",
    "    bins=25,\n",
    "    alpha=0.7,\n",
    "    label='ultra',\n",
    "    ax=ax,\n",
    "    grid=True,\n",
    "    legend=True,\n",
    ");"
   ]
  },
  {
   "cell_type": "markdown",
   "metadata": {},
   "source": [
    "- Лимит на звонки в тарифе Смарт состовляет 500 минут.\n",
    "- В среднем абоненты тратят 300-500 минут в месяц.\n",
    "- Но также есть немалая часть, которая превышает лимит."
   ]
  },
  {
   "cell_type": "markdown",
   "metadata": {},
   "source": [
    "<font color='DarkBlue'><b>Комментарий ревьюера</b></font><br>\n",
    "<font color='DarkMagenta'>👉 При проведении сравнительного анализа лучше на графики выводить данные обоих тарифов в одной координатной сетке с указанием меток тарифов. Сделаем?</font>"
   ]
  },
  {
   "cell_type": "markdown",
   "metadata": {},
   "source": [
    "<font color='DarkBlue'><b>Комментарий ревьюера 2</b></font><br>\n",
    "<font color='DarkGreen'>👌 Молодец, правильное решение. 👍</font>"
   ]
  },
  {
   "cell_type": "markdown",
   "metadata": {},
   "source": [
    "- В тарифе Ультра лимит на звонки - 3000 минут.\n",
    "- В среднем абоненты расходуют 200-800 минут.\n",
    "- Превышений нет."
   ]
  },
  {
   "cell_type": "code",
   "execution_count": 55,
   "metadata": {},
   "outputs": [
    {
     "data": {
      "image/png": "[encoded data removed]",
      "text/plain": [
       "<Figure size 432x288 with 1 Axes>"
      ]
     },
     "metadata": {
      "needs_background": "light"
     },
     "output_type": "display_data"
    }
   ],
   "source": [
    "ax = df_new_smart.plot(\n",
    "    kind='hist',\n",
    "    y='gb_used',\n",
    "    range=(0, 40),\n",
    "    bins=25,\n",
    "    alpha=0.7,\n",
    "    label='smart',\n",
    ")\n",
    "df_new_ultra.plot(\n",
    "    kind='hist',\n",
    "    y='gb_used',\n",
    "    range=(0, 40),\n",
    "    bins=25,\n",
    "    alpha=0.7,\n",
    "    label='ultra',\n",
    "    ax=ax,\n",
    "    grid=True,\n",
    "    legend=True,\n",
    ");"
   ]
  },
  {
   "cell_type": "markdown",
   "metadata": {},
   "source": [
    "- Лимт на объем интернет-трафика состовляет 15 Гб в тарифе Смарт.\n",
    "- Большинству абонентов явно не хватает лимита."
   ]
  },
  {
   "cell_type": "markdown",
   "metadata": {},
   "source": [
    "- В тарифе Ультра лимит на объем интернет-трафика состовляет 30 Гб.\n",
    "- В среднем абоненты тратят 15-30 Гб в месяц.\n",
    "- Лишь малая часть немного превышает лимит."
   ]
  },
  {
   "cell_type": "code",
   "execution_count": 56,
   "metadata": {},
   "outputs": [
    {
     "data": {
      "image/png": "[encoded data removed]",
      "text/plain": [
       "<Figure size 432x288 with 1 Axes>"
      ]
     },
     "metadata": {
      "needs_background": "light"
     },
     "output_type": "display_data"
    }
   ],
   "source": [
    "ax = df_new_smart.plot(\n",
    "    kind='hist',\n",
    "    y='messages',\n",
    "    range=(0, 200),\n",
    "    bins=25,\n",
    "    alpha=0.7,\n",
    "    label='smart',\n",
    ")\n",
    "df_new_ultra.plot(\n",
    "    kind='hist',\n",
    "    y='messages',\n",
    "    range=(0, 200),\n",
    "    bins=25,\n",
    "    alpha=0.7,\n",
    "    label='ultra',\n",
    "    ax=ax,\n",
    "    grid=True,\n",
    "    legend=True,\n",
    ");"
   ]
  },
  {
   "cell_type": "markdown",
   "metadata": {},
   "source": [
    "- В тарифе Смарт лимит на сообщения - 50 штук.\n",
    "- Большая часть абонентов либо совсем не пользуется этой услугой, либо отправляет очень мало сообщений.\n",
    "- Часть абонентов превышают лимит."
   ]
  },
  {
   "cell_type": "markdown",
   "metadata": {},
   "source": [
    "- В тарифе Ультра лимит сообщений составляет 1000 штук.\n",
    "- Также большая часть абонентов либо не пользуется услугой, либо пользуется совсем мало.\n",
    "- Превышений по лимиту нет."
   ]
  },
  {
   "cell_type": "code",
   "execution_count": 57,
   "metadata": {},
   "outputs": [
    {
     "data": {
      "image/png": "[encoded data removed]",
      "text/plain": [
       "<Figure size 432x288 with 1 Axes>"
      ]
     },
     "metadata": {
      "needs_background": "light"
     },
     "output_type": "display_data"
    }
   ],
   "source": [
    "#построю гистограммы по средней выручке от абонентов\n",
    "ax = df_new_smart.plot(\n",
    "    kind='hist',\n",
    "    y='revenue',\n",
    "    range=(550, 6000),\n",
    "    bins=20,\n",
    "    alpha=0.7,\n",
    "    label='smart',\n",
    ")\n",
    "df_new_ultra.plot(\n",
    "    kind='hist',\n",
    "    y='revenue',\n",
    "    range=(550, 6000),\n",
    "    bins=20,\n",
    "    alpha=0.7,\n",
    "    label='ultra',\n",
    "    ax=ax,\n",
    "    grid=True,\n",
    "    legend=True,\n",
    ");"
   ]
  },
  {
   "cell_type": "markdown",
   "metadata": {},
   "source": [
    "- Абоненты тарифа Смарт часто переплачивают за превышение лимитов.\n",
    "- В тарифе Ультра абонентам хватает лимитов. Лишь малая часть переплачивает."
   ]
  },
  {
   "cell_type": "markdown",
   "metadata": {},
   "source": [
    "<font color='DarkBlue'><b>Комментарий ревьюера</b></font><br>\n",
    "<font color='DarkMagenta'>👉 Как инструкция на выполнение проекта, так и технические задания на проведение исследования не всегда содержат всю информацию, что необходимо сделать. Но указывается задача исследования, у нас это: \"коммерческий департамент хочет понять, какой тариф приносит больше денег\". Но мы ограничиваемся в анализе только количеством сообщений, длительностью звонков и интернет-трафиком. При этом у нас уже посчитано сколько пользователи платят за эти услуги, но сам анализ выручки в разрезе тарифа мы не делаем. Тогда, как мы получим ответ на вопрос какой тариф выгоднее?</font><br>\n",
    "<font color='Red'>🛠 Надо сделать то же самое, но по выручке в разрезе тарифов. Хорошо?</font>"
   ]
  },
  {
   "cell_type": "markdown",
   "metadata": {},
   "source": [
    "## Проверка гипотез"
   ]
  },
  {
   "cell_type": "markdown",
   "metadata": {},
   "source": [
    "𝐻0  — средняя выручка пользователей тарифа «Ультра» равна средней выручке пользователей тарифа «Смарт».\n",
    "\n",
    "𝐻1 — средняя выручка пользователей тарифов «Ультра» и «Смарт» различаются.\n",
    "\n",
    "𝛼=5%"
   ]
  },
  {
   "cell_type": "markdown",
   "metadata": {},
   "source": [
    "<font color='DarkBlue'><b>Комментарий ревьюера</b></font><br>\n",
    "<font color='DarkGreen'>👌 Хорошо, правильно сформулированы гипотезы.</font>"
   ]
  },
  {
   "attachments": {
    "image.png": {
     "image/png": "[encoded data removed]"
    }
   },
   "cell_type": "markdown",
   "metadata": {},
   "source": [
    "<font color='DarkBlue'><b>Комментарий ревьюера 2</b></font><br>\n",
    "<font color='DarkMagenta'>👉 А `nan` в `results.pvalue` мы получаем, потому, что у нас в таблице остались пропуски.</font>\n",
    "![image.png](attachment:image.png)"
   ]
  },
  {
   "cell_type": "code",
   "execution_count": 67,
   "metadata": {},
   "outputs": [
    {
     "name": "stdout",
     "output_type": "stream",
     "text": [
      "p-значение: 2.1830308249112928e-155\n",
      "Отвергаем нулевую гипотезу\n"
     ]
    }
   ],
   "source": [
    "# Комментарий ревьюера 2\n",
    "#smart = df_new.query('tariff == \"smart\"')['revenue']\n",
    "#ultra = df_new.query('tariff == \"ultra\"')['revenue']\n",
    "\n",
    "smart = df_new.query('tariff == \"smart\"')['revenue'].dropna()\n",
    "ultra = df_new.query('tariff == \"ultra\"')['revenue'].dropna()\n",
    "\n",
    "alpha = .05\n",
    "\n",
    "results = st.ttest_ind(\n",
    "    smart, \n",
    "    ultra)\n",
    "\n",
    "print('p-значение:', results.pvalue)\n",
    "\n",
    "if (results.pvalue < alpha):\n",
    "    print(\"Отвергаем нулевую гипотезу\")\n",
    "else:\n",
    "    print(\"Не получилось отвергнуть нулевую гипотезу\")"
   ]
  },
  {
   "cell_type": "code",
   "execution_count": 59,
   "metadata": {},
   "outputs": [
    {
     "data": {
      "text/html": [
       "<div>\n",
       "<style scoped>\n",
       "    .dataframe tbody tr th:only-of-type {\n",
       "        vertical-align: middle;\n",
       "    }\n",
       "\n",
       "    .dataframe tbody tr th {\n",
       "        vertical-align: top;\n",
       "    }\n",
       "\n",
       "    .dataframe thead th {\n",
       "        text-align: right;\n",
       "    }\n",
       "</style>\n",
       "<table border=\"1\" class=\"dataframe\">\n",
       "  <thead>\n",
       "    <tr style=\"text-align: right;\">\n",
       "      <th></th>\n",
       "      <th>revenue</th>\n",
       "    </tr>\n",
       "    <tr>\n",
       "      <th>tariff</th>\n",
       "      <th></th>\n",
       "    </tr>\n",
       "  </thead>\n",
       "  <tbody>\n",
       "    <tr>\n",
       "      <th>smart</th>\n",
       "      <td>1290.891138</td>\n",
       "    </tr>\n",
       "    <tr>\n",
       "      <th>ultra</th>\n",
       "      <td>2070.977918</td>\n",
       "    </tr>\n",
       "  </tbody>\n",
       "</table>\n",
       "</div>"
      ],
      "text/plain": [
       "            revenue\n",
       "tariff             \n",
       "smart   1290.891138\n",
       "ultra   2070.977918"
      ]
     },
     "execution_count": 59,
     "metadata": {},
     "output_type": "execute_result"
    }
   ],
   "source": [
    "df_new.pivot_table(index='tariff', values='revenue', aggfunc='mean')"
   ]
  },
  {
   "cell_type": "markdown",
   "metadata": {},
   "source": [
    "Действительно, средняя выручка по тарифу Ультра почти в 2 раза больше средней выручки по тарифу Смарт."
   ]
  },
  {
   "cell_type": "markdown",
   "metadata": {},
   "source": [
    "𝐻0  — средняя выручка пользователей из Москвы равна средней выручке пользователей из других регионов.\n",
    "\n",
    "𝐻1 — средняя выручка пользователей из Москвы отличается от средней выручке пользователей из других регионов.\n",
    "\n",
    "𝛼=5%"
   ]
  },
  {
   "cell_type": "code",
   "execution_count": 60,
   "metadata": {},
   "outputs": [],
   "source": [
    "moscow_tariff = df_new[(df_new['city'] == 'Москва')]\n",
    "other_tariff = df_new[(df_new['city'] != 'Москва')]"
   ]
  },
  {
   "cell_type": "code",
   "execution_count": 68,
   "metadata": {},
   "outputs": [
    {
     "name": "stdout",
     "output_type": "stream",
     "text": [
      "p-значение: 0.4619932225305272\n",
      "Не получилось отвергнуть нулевую гипотезу\n"
     ]
    }
   ],
   "source": [
    "# Комментарий ревьюера 2\n",
    "#moscow = moscow_tariff['revenue']\n",
    "#regions = other_tariff['revenue']\n",
    "\n",
    "moscow = moscow_tariff['revenue'].dropna()\n",
    "regions = other_tariff['revenue'].dropna()\n",
    "\n",
    "alpha = .05\n",
    "\n",
    "results = st.ttest_ind(\n",
    "    moscow, \n",
    "    regions)\n",
    "\n",
    "print('p-значение:', results.pvalue)\n",
    "\n",
    "if (results.pvalue < alpha):\n",
    "    print(\"Отвергаем нулевую гипотезу\")\n",
    "else:\n",
    "    print(\"Не получилось отвергнуть нулевую гипотезу\")"
   ]
  },
  {
   "cell_type": "code",
   "execution_count": 62,
   "metadata": {},
   "outputs": [
    {
     "data": {
      "text/plain": [
       "1546.0524590163934"
      ]
     },
     "execution_count": 62,
     "metadata": {},
     "output_type": "execute_result"
    }
   ],
   "source": [
    "moscow.mean()"
   ]
  },
  {
   "cell_type": "code",
   "execution_count": 63,
   "metadata": {},
   "outputs": [
    {
     "data": {
      "text/plain": [
       "1519.5237909516381"
      ]
     },
     "execution_count": 63,
     "metadata": {},
     "output_type": "execute_result"
    }
   ],
   "source": [
    "regions.mean()"
   ]
  },
  {
   "cell_type": "markdown",
   "metadata": {},
   "source": [
    "Здесь мы видим, что средняя выручка по Москве слабо отличается от выручки по регионам."
   ]
  },
  {
   "cell_type": "markdown",
   "metadata": {},
   "source": [
    "<font color='DarkBlue'><b>Комментарий ревьюера</b></font><br>\n",
    "<font color='DarkGreen'>👌 Хорошо, что дополнительно показаны средние выручки, как иллюстрация не противоречивости нашей проверки гипотез. 👍</font>"
   ]
  },
  {
   "cell_type": "code",
   "execution_count": 64,
   "metadata": {},
   "outputs": [
    {
     "data": {
      "text/html": [
       "<div>\n",
       "<style scoped>\n",
       "    .dataframe tbody tr th:only-of-type {\n",
       "        vertical-align: middle;\n",
       "    }\n",
       "\n",
       "    .dataframe tbody tr th {\n",
       "        vertical-align: top;\n",
       "    }\n",
       "\n",
       "    .dataframe thead th {\n",
       "        text-align: right;\n",
       "    }\n",
       "</style>\n",
       "<table border=\"1\" class=\"dataframe\">\n",
       "  <thead>\n",
       "    <tr style=\"text-align: right;\">\n",
       "      <th></th>\n",
       "      <th>smart</th>\n",
       "      <th>ultra</th>\n",
       "    </tr>\n",
       "    <tr>\n",
       "      <th>month</th>\n",
       "      <th></th>\n",
       "      <th></th>\n",
       "    </tr>\n",
       "  </thead>\n",
       "  <tbody>\n",
       "    <tr>\n",
       "      <th>1.0</th>\n",
       "      <td>721.323529</td>\n",
       "      <td>1950.000000</td>\n",
       "    </tr>\n",
       "    <tr>\n",
       "      <th>2.0</th>\n",
       "      <td>827.603448</td>\n",
       "      <td>1975.000000</td>\n",
       "    </tr>\n",
       "    <tr>\n",
       "      <th>3.0</th>\n",
       "      <td>1164.623377</td>\n",
       "      <td>2014.864865</td>\n",
       "    </tr>\n",
       "    <tr>\n",
       "      <th>4.0</th>\n",
       "      <td>963.089286</td>\n",
       "      <td>2003.773585</td>\n",
       "    </tr>\n",
       "    <tr>\n",
       "      <th>5.0</th>\n",
       "      <td>1197.510638</td>\n",
       "      <td>2064.843750</td>\n",
       "    </tr>\n",
       "    <tr>\n",
       "      <th>6.0</th>\n",
       "      <td>1208.030675</td>\n",
       "      <td>2042.592593</td>\n",
       "    </tr>\n",
       "    <tr>\n",
       "      <th>7.0</th>\n",
       "      <td>1223.950249</td>\n",
       "      <td>2123.863636</td>\n",
       "    </tr>\n",
       "    <tr>\n",
       "      <th>8.0</th>\n",
       "      <td>1323.888889</td>\n",
       "      <td>2085.436893</td>\n",
       "    </tr>\n",
       "    <tr>\n",
       "      <th>9.0</th>\n",
       "      <td>1251.104247</td>\n",
       "      <td>2022.972973</td>\n",
       "    </tr>\n",
       "    <tr>\n",
       "      <th>10.0</th>\n",
       "      <td>1364.221843</td>\n",
       "      <td>2069.491525</td>\n",
       "    </tr>\n",
       "    <tr>\n",
       "      <th>11.0</th>\n",
       "      <td>1343.660317</td>\n",
       "      <td>2091.860465</td>\n",
       "    </tr>\n",
       "    <tr>\n",
       "      <th>12.0</th>\n",
       "      <td>1580.401786</td>\n",
       "      <td>2133.582090</td>\n",
       "    </tr>\n",
       "  </tbody>\n",
       "</table>\n",
       "</div>"
      ],
      "text/plain": [
       "             smart        ultra\n",
       "month                          \n",
       "1.0     721.323529  1950.000000\n",
       "2.0     827.603448  1975.000000\n",
       "3.0    1164.623377  2014.864865\n",
       "4.0     963.089286  2003.773585\n",
       "5.0    1197.510638  2064.843750\n",
       "6.0    1208.030675  2042.592593\n",
       "7.0    1223.950249  2123.863636\n",
       "8.0    1323.888889  2085.436893\n",
       "9.0    1251.104247  2022.972973\n",
       "10.0   1364.221843  2069.491525\n",
       "11.0   1343.660317  2091.860465\n",
       "12.0   1580.401786  2133.582090"
      ]
     },
     "execution_count": 64,
     "metadata": {},
     "output_type": "execute_result"
    }
   ],
   "source": [
    "#сводная таблица, которая показывает среднюю выручку по месяцам для каждого тарифа\n",
    "df_new_pivot = df_new.pivot_table(index='month', columns=['tariff'], values='revenue')\n",
    "df_new_pivot.columns = ['smart', 'ultra']\n",
    "df_new_pivot.head(12)"
   ]
  },
  {
   "cell_type": "code",
   "execution_count": 65,
   "metadata": {},
   "outputs": [
    {
     "data": {
      "image/png": "[encoded data removed]",
      "text/plain": [
       "<Figure size 432x288 with 1 Axes>"
      ]
     },
     "metadata": {
      "needs_background": "light"
     },
     "output_type": "display_data"
    }
   ],
   "source": [
    "#построю график и посмотрю на динамику выручки по месяцам\n",
    "df_new_pivot.plot(title='График динамики средней выручки по месяцам');"
   ]
  },
  {
   "cell_type": "markdown",
   "metadata": {},
   "source": [
    "- Средняя выручка от пользователей тарифа Смарт с каждым месяцем растет.\n",
    "- Средняя выручка от пользователей тарифа Ультра тоже растет, но гораздо медленнее."
   ]
  },
  {
   "cell_type": "markdown",
   "metadata": {},
   "source": [
    "<font color='DarkBlue'><b>Комментарий ревьюера 2</b></font><br>\n",
    "<font color='DarkGreen'>👌 Что теперь получается. Мы провели исследование в соответствии с заданием, но мы показали динамику выручки. Мы обнаружили, что в течение года выручка по тарифу Смарт растет быстрее Ультра. И это надо отразить в выводах исследования. <br>Реклама это все-таки вложение в будущее, то есть отдача от нее не будет мгновенной. Тогда может рекламой стимулировать растущий тариф? <br>На основе нашего исследования может быть принято обоснованное решение по рекламе тарифа, это повышает ценность нашей работы и наш авторитет, как профессионала. И это повод и зарплату поднять. 😄</font>"
   ]
  },
  {
   "cell_type": "markdown",
   "metadata": {},
   "source": [
    "## Общий вывод"
   ]
  },
  {
   "cell_type": "markdown",
   "metadata": {},
   "source": [
    "Проанализировав данные, можно сделать вывод:\n",
    "- абонентам тарифа Смарт часто не хватает услуг в рамках тарифного пакета, и они чаще переплачивают за превышение лимита;\n",
    "- абоненты тарифа Ультра, напротив, часто не используют тарифный пакет в полном объеме;\n",
    "- проверка первой гипотезы показала, что выручки от разных тарифов отличаются;\n",
    "- на графике динамики средней выручки видно как с каждым месяцем выручка от пользователей тарифа Смарт растет, и за 12 месяцев выросла в 2 раза;\n",
    "- тогда как выручка от пользователей тарифа Ультра тоже имеет тенденцию к росту, но очень медленно;\n",
    "- при проверке второй гипотезы не было выявлено различий в выручке от пользователей из Москвы и из регионов;\n",
    "- посчитав среднюю выручку по Москве и по регионам мы увидели минимальное различие в выручке.\n",
    "\n",
    "Не смотря на все вышесказанное, тариф Ультра приносит больше денег компании Мегалайн."
   ]
  },
  {
   "cell_type": "markdown",
   "metadata": {},
   "source": [
    "<font color='DarkBlue'><b>Комментарий ревьюера</b></font><br>\n",
    "<font color='DarkGreen'>👌 Очень уж короткое обобщение всего исследования.</font><br>\n",
    "<font color='DarkMagenta'>👉 И явно не хватает графика динамики выручки по месяцам в разрезе тарифов. Есть ли там тренды, выручка по какому-то тарифу растет или падает? Сделаем?</font>"
   ]
  },
  {
   "cell_type": "markdown",
   "metadata": {},
   "source": [
    "<font color='DarkBlue'><b>Заключительный комментарий ревьюера</b></font><br><br>\n",
    "<font color='DarkGreen'>👌 Ольга, проект очень хорошо и детально проработан. И дальше так держать!<br></font>\n",
    "<font color='Red'>🛠 А что бы еще лучше сделать проект нам надо:</font><br>\n",
    "<font color='Red'>🛠 Исправить округление интернет-сессий до целого. Проанализировать пропажу пользователей после объединения таблиц. Необходимо провести анализ выручки в разрезе тарифов. <br></font>\n",
    "<font color='DarkMagenta'>👉 При исправлении ошибок и недочетов мы приобретем дополнительный опыт и навыки!</font><br>\n",
    "<font color='DarkGreen'>👌 Жду окончательный вариант! Удачи. </font>"
   ]
  },
  {
   "attachments": {
    "image.png": {
     "image/png": "[encoded data removed]"
    }
   },
   "cell_type": "markdown",
   "metadata": {},
   "source": [
    "<font color='DarkBlue'><b>Заключительный комментарий ревьюера 2</b></font><br><br>\n",
    "<font color='DarkGreen'>👌 Ольга, нам удалось улучшить проект. Но как-то мы не аккуратно работаем. Исправляем одни ошибки и пропускаем другие.<br>А следующий проект будет очень сложным, там много подводных камней и не все очевидное является правильным. Но все равно, мы молодцы! 👍<br></font>\n",
    "<font color='DarkGreen'>👌 А теперь нас ждут новые знания в новом проекте! Удачи! 😉</font>\n",
    "![image.png](attachment:image.png)"
   ]
  }
 ],
 "metadata": {
  "ExecuteTimeLog": [
   {
    "duration": 58,
    "start_time": "2022-06-02T16:34:24.189Z"
   },
   {
    "duration": 6,
    "start_time": "2022-06-02T16:34:45.607Z"
   },
   {
    "duration": 6,
    "start_time": "2022-06-02T16:34:54.709Z"
   },
   {
    "duration": 8,
    "start_time": "2022-06-02T16:35:04.423Z"
   },
   {
    "duration": 1132,
    "start_time": "2022-06-02T16:36:07.359Z"
   },
   {
    "duration": 965,
    "start_time": "2022-06-02T16:36:08.493Z"
   },
   {
    "duration": 16,
    "start_time": "2022-06-02T16:36:09.460Z"
   },
   {
    "duration": 10,
    "start_time": "2022-06-02T16:36:16.488Z"
   },
   {
    "duration": 24,
    "start_time": "2022-06-02T16:36:28.631Z"
   },
   {
    "duration": 30,
    "start_time": "2022-06-02T16:36:42.243Z"
   },
   {
    "duration": 10,
    "start_time": "2022-06-02T16:38:10.144Z"
   },
   {
    "duration": 22,
    "start_time": "2022-06-02T16:38:18.025Z"
   },
   {
    "duration": 32,
    "start_time": "2022-06-02T16:38:32.634Z"
   },
   {
    "duration": 9,
    "start_time": "2022-06-02T16:39:43.123Z"
   },
   {
    "duration": 18,
    "start_time": "2022-06-02T16:39:51.818Z"
   },
   {
    "duration": 21,
    "start_time": "2022-06-02T16:39:59.909Z"
   },
   {
    "duration": 9,
    "start_time": "2022-06-02T16:40:16.612Z"
   },
   {
    "duration": 11,
    "start_time": "2022-06-02T16:40:23.785Z"
   },
   {
    "duration": 28,
    "start_time": "2022-06-02T16:40:33.148Z"
   },
   {
    "duration": 10,
    "start_time": "2022-06-02T16:40:54.963Z"
   },
   {
    "duration": 11,
    "start_time": "2022-06-02T16:41:01.642Z"
   },
   {
    "duration": 15,
    "start_time": "2022-06-02T16:41:12.401Z"
   },
   {
    "duration": 2,
    "start_time": "2022-06-02T16:42:04.245Z"
   },
   {
    "duration": 444,
    "start_time": "2022-06-02T16:42:04.898Z"
   },
   {
    "duration": 67,
    "start_time": "2022-06-02T16:42:05.446Z"
   },
   {
    "duration": 4,
    "start_time": "2022-06-02T16:42:27.986Z"
   },
   {
    "duration": 4,
    "start_time": "2022-06-02T16:42:35.532Z"
   },
   {
    "duration": 72,
    "start_time": "2022-06-02T16:42:56.081Z"
   },
   {
    "duration": 80,
    "start_time": "2022-06-02T16:43:02.524Z"
   },
   {
    "duration": 125,
    "start_time": "2022-06-02T17:04:40.471Z"
   },
   {
    "duration": 906,
    "start_time": "2022-06-03T10:29:59.690Z"
   },
   {
    "duration": 1184,
    "start_time": "2022-06-03T10:30:00.597Z"
   },
   {
    "duration": 75,
    "start_time": "2022-06-03T10:30:01.783Z"
   },
   {
    "duration": 19,
    "start_time": "2022-06-03T10:30:01.860Z"
   },
   {
    "duration": 11,
    "start_time": "2022-06-03T10:30:01.882Z"
   },
   {
    "duration": 31,
    "start_time": "2022-06-03T10:30:01.895Z"
   },
   {
    "duration": 15,
    "start_time": "2022-06-03T10:30:01.928Z"
   },
   {
    "duration": 33,
    "start_time": "2022-06-03T10:30:01.945Z"
   },
   {
    "duration": 12,
    "start_time": "2022-06-03T10:30:01.980Z"
   },
   {
    "duration": 45,
    "start_time": "2022-06-03T10:30:01.994Z"
   },
   {
    "duration": 44,
    "start_time": "2022-06-03T10:31:24.121Z"
   },
   {
    "duration": 113,
    "start_time": "2022-06-03T10:36:30.550Z"
   },
   {
    "duration": 43,
    "start_time": "2022-06-03T10:36:41.049Z"
   },
   {
    "duration": 43,
    "start_time": "2022-06-03T10:36:44.496Z"
   },
   {
    "duration": 834,
    "start_time": "2022-06-03T10:36:49.935Z"
   },
   {
    "duration": 463,
    "start_time": "2022-06-03T10:36:50.771Z"
   },
   {
    "duration": 71,
    "start_time": "2022-06-03T10:36:51.235Z"
   },
   {
    "duration": 26,
    "start_time": "2022-06-03T10:36:51.309Z"
   },
   {
    "duration": 19,
    "start_time": "2022-06-03T10:36:51.337Z"
   },
   {
    "duration": 30,
    "start_time": "2022-06-03T10:36:51.358Z"
   },
   {
    "duration": 28,
    "start_time": "2022-06-03T10:36:51.390Z"
   },
   {
    "duration": 21,
    "start_time": "2022-06-03T10:36:51.420Z"
   },
   {
    "duration": 4,
    "start_time": "2022-06-03T10:36:51.443Z"
   },
   {
    "duration": 86,
    "start_time": "2022-06-03T10:36:51.450Z"
   },
   {
    "duration": 47,
    "start_time": "2022-06-03T10:36:58.508Z"
   },
   {
    "duration": 762,
    "start_time": "2022-06-03T10:39:56.912Z"
   },
   {
    "duration": 93,
    "start_time": "2022-06-03T10:40:10.891Z"
   },
   {
    "duration": 799,
    "start_time": "2022-06-03T11:06:51.380Z"
   },
   {
    "duration": 407,
    "start_time": "2022-06-03T11:06:52.181Z"
   },
   {
    "duration": 76,
    "start_time": "2022-06-03T11:06:52.590Z"
   },
   {
    "duration": 15,
    "start_time": "2022-06-03T11:06:52.668Z"
   },
   {
    "duration": 9,
    "start_time": "2022-06-03T11:06:52.686Z"
   },
   {
    "duration": 30,
    "start_time": "2022-06-03T11:06:52.696Z"
   },
   {
    "duration": 10,
    "start_time": "2022-06-03T11:06:52.728Z"
   },
   {
    "duration": 12,
    "start_time": "2022-06-03T11:06:52.740Z"
   },
   {
    "duration": 5,
    "start_time": "2022-06-03T11:06:52.753Z"
   },
   {
    "duration": 84,
    "start_time": "2022-06-03T11:06:52.760Z"
   },
   {
    "duration": 47,
    "start_time": "2022-06-03T11:06:52.845Z"
   },
   {
    "duration": 78,
    "start_time": "2022-06-03T11:09:28.032Z"
   },
   {
    "duration": 115,
    "start_time": "2022-06-03T11:10:01.529Z"
   },
   {
    "duration": 62,
    "start_time": "2022-06-03T11:10:07.582Z"
   },
   {
    "duration": 857,
    "start_time": "2022-06-03T11:10:17.264Z"
   },
   {
    "duration": 396,
    "start_time": "2022-06-03T11:10:18.123Z"
   },
   {
    "duration": 79,
    "start_time": "2022-06-03T11:10:18.521Z"
   },
   {
    "duration": 29,
    "start_time": "2022-06-03T11:10:18.601Z"
   },
   {
    "duration": 10,
    "start_time": "2022-06-03T11:10:18.632Z"
   },
   {
    "duration": 12,
    "start_time": "2022-06-03T11:10:18.643Z"
   },
   {
    "duration": 11,
    "start_time": "2022-06-03T11:10:18.656Z"
   },
   {
    "duration": 13,
    "start_time": "2022-06-03T11:10:18.669Z"
   },
   {
    "duration": 5,
    "start_time": "2022-06-03T11:10:18.684Z"
   },
   {
    "duration": 88,
    "start_time": "2022-06-03T11:10:18.690Z"
   },
   {
    "duration": 61,
    "start_time": "2022-06-03T11:10:18.780Z"
   },
   {
    "duration": 96,
    "start_time": "2022-06-03T11:11:53.916Z"
   },
   {
    "duration": 39,
    "start_time": "2022-06-03T11:12:22.945Z"
   },
   {
    "duration": 822,
    "start_time": "2022-06-03T11:12:45.400Z"
   },
   {
    "duration": 425,
    "start_time": "2022-06-03T11:12:46.224Z"
   },
   {
    "duration": 70,
    "start_time": "2022-06-03T11:12:46.651Z"
   },
   {
    "duration": 16,
    "start_time": "2022-06-03T11:12:46.723Z"
   },
   {
    "duration": 11,
    "start_time": "2022-06-03T11:12:46.741Z"
   },
   {
    "duration": 11,
    "start_time": "2022-06-03T11:12:46.754Z"
   },
   {
    "duration": 11,
    "start_time": "2022-06-03T11:12:46.767Z"
   },
   {
    "duration": 48,
    "start_time": "2022-06-03T11:12:46.780Z"
   },
   {
    "duration": 5,
    "start_time": "2022-06-03T11:12:46.829Z"
   },
   {
    "duration": 68,
    "start_time": "2022-06-03T11:12:46.836Z"
   },
   {
    "duration": 60,
    "start_time": "2022-06-03T11:12:46.906Z"
   },
   {
    "duration": 60,
    "start_time": "2022-06-03T11:12:46.968Z"
   },
   {
    "duration": 937,
    "start_time": "2022-06-03T11:14:54.013Z"
   },
   {
    "duration": 439,
    "start_time": "2022-06-03T11:14:54.953Z"
   },
   {
    "duration": 71,
    "start_time": "2022-06-03T11:14:55.393Z"
   },
   {
    "duration": 15,
    "start_time": "2022-06-03T11:14:55.467Z"
   },
   {
    "duration": 9,
    "start_time": "2022-06-03T11:14:55.483Z"
   },
   {
    "duration": 22,
    "start_time": "2022-06-03T11:14:55.493Z"
   },
   {
    "duration": 16,
    "start_time": "2022-06-03T11:14:55.517Z"
   },
   {
    "duration": 14,
    "start_time": "2022-06-03T11:14:55.535Z"
   },
   {
    "duration": 9,
    "start_time": "2022-06-03T11:14:55.551Z"
   },
   {
    "duration": 68,
    "start_time": "2022-06-03T11:14:55.562Z"
   },
   {
    "duration": 52,
    "start_time": "2022-06-03T11:14:55.631Z"
   },
   {
    "duration": 57,
    "start_time": "2022-06-03T11:14:55.684Z"
   },
   {
    "duration": 24,
    "start_time": "2022-06-03T11:15:14.650Z"
   },
   {
    "duration": 80,
    "start_time": "2022-06-03T11:15:27.231Z"
   },
   {
    "duration": 19,
    "start_time": "2022-06-03T11:15:38.206Z"
   },
   {
    "duration": 104,
    "start_time": "2022-06-03T11:21:14.335Z"
   },
   {
    "duration": 14,
    "start_time": "2022-06-03T11:21:33.070Z"
   },
   {
    "duration": 9,
    "start_time": "2022-06-03T11:21:41.407Z"
   },
   {
    "duration": 19,
    "start_time": "2022-06-03T11:22:13.907Z"
   },
   {
    "duration": 51,
    "start_time": "2022-06-03T11:41:17.828Z"
   },
   {
    "duration": 30,
    "start_time": "2022-06-03T11:41:20.957Z"
   },
   {
    "duration": 45,
    "start_time": "2022-06-03T11:41:38.866Z"
   },
   {
    "duration": 43,
    "start_time": "2022-06-03T11:41:53.890Z"
   },
   {
    "duration": 885,
    "start_time": "2022-06-03T11:42:03.714Z"
   },
   {
    "duration": 698,
    "start_time": "2022-06-03T11:42:04.601Z"
   },
   {
    "duration": 88,
    "start_time": "2022-06-03T11:42:05.301Z"
   },
   {
    "duration": 16,
    "start_time": "2022-06-03T11:42:05.391Z"
   },
   {
    "duration": 18,
    "start_time": "2022-06-03T11:42:05.409Z"
   },
   {
    "duration": 12,
    "start_time": "2022-06-03T11:42:05.428Z"
   },
   {
    "duration": 17,
    "start_time": "2022-06-03T11:42:05.441Z"
   },
   {
    "duration": 18,
    "start_time": "2022-06-03T11:42:05.459Z"
   },
   {
    "duration": 7,
    "start_time": "2022-06-03T11:42:05.479Z"
   },
   {
    "duration": 95,
    "start_time": "2022-06-03T11:42:05.488Z"
   },
   {
    "duration": 59,
    "start_time": "2022-06-03T11:42:05.584Z"
   },
   {
    "duration": 39,
    "start_time": "2022-06-03T11:42:05.644Z"
   },
   {
    "duration": 20,
    "start_time": "2022-06-03T11:42:05.685Z"
   },
   {
    "duration": 136,
    "start_time": "2022-06-03T11:42:05.727Z"
   },
   {
    "duration": 40,
    "start_time": "2022-06-03T11:43:24.516Z"
   },
   {
    "duration": 51,
    "start_time": "2022-06-03T11:43:39.690Z"
   },
   {
    "duration": 11,
    "start_time": "2022-06-03T11:45:25.619Z"
   },
   {
    "duration": 65,
    "start_time": "2022-06-03T11:45:36.078Z"
   },
   {
    "duration": 12,
    "start_time": "2022-06-03T11:46:00.538Z"
   },
   {
    "duration": 57,
    "start_time": "2022-06-03T11:46:11.324Z"
   },
   {
    "duration": 62,
    "start_time": "2022-06-03T11:46:47.589Z"
   },
   {
    "duration": 69,
    "start_time": "2022-06-03T11:57:57.009Z"
   },
   {
    "duration": 280,
    "start_time": "2022-06-03T12:02:16.796Z"
   },
   {
    "duration": 57,
    "start_time": "2022-06-03T12:02:26.908Z"
   },
   {
    "duration": 66,
    "start_time": "2022-06-03T12:02:44.881Z"
   },
   {
    "duration": 61,
    "start_time": "2022-06-03T12:04:48.612Z"
   },
   {
    "duration": 55,
    "start_time": "2022-06-03T12:06:10.774Z"
   },
   {
    "duration": 31,
    "start_time": "2022-06-03T12:11:41.989Z"
   },
   {
    "duration": 31,
    "start_time": "2022-06-03T12:13:53.956Z"
   },
   {
    "duration": 13,
    "start_time": "2022-06-03T12:30:18.885Z"
   },
   {
    "duration": 13,
    "start_time": "2022-06-03T13:00:54.549Z"
   },
   {
    "duration": 19,
    "start_time": "2022-06-03T13:02:01.008Z"
   },
   {
    "duration": 14,
    "start_time": "2022-06-03T13:02:20.479Z"
   },
   {
    "duration": 16,
    "start_time": "2022-06-03T13:03:05.211Z"
   },
   {
    "duration": 21,
    "start_time": "2022-06-03T13:06:38.459Z"
   },
   {
    "duration": 8,
    "start_time": "2022-06-03T13:17:04.560Z"
   },
   {
    "duration": 9,
    "start_time": "2022-06-03T13:18:28.333Z"
   },
   {
    "duration": 17,
    "start_time": "2022-06-03T13:18:31.878Z"
   },
   {
    "duration": 12,
    "start_time": "2022-06-03T13:18:34.244Z"
   },
   {
    "duration": 805,
    "start_time": "2022-06-03T13:18:46.401Z"
   },
   {
    "duration": 424,
    "start_time": "2022-06-03T13:18:47.208Z"
   },
   {
    "duration": 72,
    "start_time": "2022-06-03T13:18:47.634Z"
   },
   {
    "duration": 19,
    "start_time": "2022-06-03T13:18:47.707Z"
   },
   {
    "duration": 9,
    "start_time": "2022-06-03T13:18:47.728Z"
   },
   {
    "duration": 11,
    "start_time": "2022-06-03T13:18:47.738Z"
   },
   {
    "duration": 10,
    "start_time": "2022-06-03T13:18:47.751Z"
   },
   {
    "duration": 13,
    "start_time": "2022-06-03T13:18:47.762Z"
   },
   {
    "duration": 6,
    "start_time": "2022-06-03T13:18:47.776Z"
   },
   {
    "duration": 95,
    "start_time": "2022-06-03T13:18:47.783Z"
   },
   {
    "duration": 64,
    "start_time": "2022-06-03T13:18:47.880Z"
   },
   {
    "duration": 39,
    "start_time": "2022-06-03T13:18:47.946Z"
   },
   {
    "duration": 15,
    "start_time": "2022-06-03T13:18:47.987Z"
   },
   {
    "duration": 88,
    "start_time": "2022-06-03T13:18:48.005Z"
   },
   {
    "duration": 45,
    "start_time": "2022-06-03T13:18:48.095Z"
   },
   {
    "duration": 30,
    "start_time": "2022-06-03T13:18:48.142Z"
   },
   {
    "duration": 14,
    "start_time": "2022-06-03T13:18:48.174Z"
   },
   {
    "duration": 40,
    "start_time": "2022-06-03T13:18:48.190Z"
   },
   {
    "duration": 1028,
    "start_time": "2022-06-03T13:18:48.231Z"
   },
   {
    "duration": 54,
    "start_time": "2022-06-03T13:19:02.177Z"
   },
   {
    "duration": 39,
    "start_time": "2022-06-03T13:19:06.585Z"
   },
   {
    "duration": 27,
    "start_time": "2022-06-03T13:19:10.489Z"
   },
   {
    "duration": 18,
    "start_time": "2022-06-03T13:19:14.780Z"
   },
   {
    "duration": 14,
    "start_time": "2022-06-03T13:19:21.578Z"
   },
   {
    "duration": 928,
    "start_time": "2022-06-03T13:19:25.920Z"
   },
   {
    "duration": 9,
    "start_time": "2022-06-03T13:19:38.476Z"
   },
   {
    "duration": 53,
    "start_time": "2022-06-03T13:44:21.016Z"
   },
   {
    "duration": 51,
    "start_time": "2022-06-03T13:44:29.228Z"
   },
   {
    "duration": 43,
    "start_time": "2022-06-03T13:44:33.915Z"
   },
   {
    "duration": 17,
    "start_time": "2022-06-03T13:44:38.347Z"
   },
   {
    "duration": 15,
    "start_time": "2022-06-03T13:44:42.803Z"
   },
   {
    "duration": 922,
    "start_time": "2022-06-03T13:44:51.095Z"
   },
   {
    "duration": 12,
    "start_time": "2022-06-03T13:44:52.019Z"
   },
   {
    "duration": 980,
    "start_time": "2022-06-03T13:46:03.260Z"
   },
   {
    "duration": 648,
    "start_time": "2022-06-03T13:46:44.521Z"
   },
   {
    "duration": 629,
    "start_time": "2022-06-03T13:47:29.420Z"
   },
   {
    "duration": 197,
    "start_time": "2022-06-03T13:47:37.667Z"
   },
   {
    "duration": 195,
    "start_time": "2022-06-03T13:48:23.652Z"
   },
   {
    "duration": 98,
    "start_time": "2022-06-06T10:40:08.988Z"
   },
   {
    "duration": 856,
    "start_time": "2022-06-06T10:40:16.711Z"
   },
   {
    "duration": 1484,
    "start_time": "2022-06-06T10:40:17.573Z"
   },
   {
    "duration": 116,
    "start_time": "2022-06-06T10:40:19.059Z"
   },
   {
    "duration": 25,
    "start_time": "2022-06-06T10:40:19.177Z"
   },
   {
    "duration": 30,
    "start_time": "2022-06-06T10:40:19.205Z"
   },
   {
    "duration": 17,
    "start_time": "2022-06-06T10:40:19.237Z"
   },
   {
    "duration": 22,
    "start_time": "2022-06-06T10:40:19.256Z"
   },
   {
    "duration": 18,
    "start_time": "2022-06-06T10:40:19.280Z"
   },
   {
    "duration": 10,
    "start_time": "2022-06-06T10:40:19.300Z"
   },
   {
    "duration": 115,
    "start_time": "2022-06-06T10:40:19.312Z"
   },
   {
    "duration": 71,
    "start_time": "2022-06-06T10:40:19.438Z"
   },
   {
    "duration": 56,
    "start_time": "2022-06-06T10:40:19.511Z"
   },
   {
    "duration": 20,
    "start_time": "2022-06-06T10:40:19.570Z"
   },
   {
    "duration": 87,
    "start_time": "2022-06-06T10:40:19.593Z"
   },
   {
    "duration": 33,
    "start_time": "2022-06-06T10:40:19.682Z"
   },
   {
    "duration": 41,
    "start_time": "2022-06-06T10:40:19.717Z"
   },
   {
    "duration": 29,
    "start_time": "2022-06-06T10:40:19.760Z"
   },
   {
    "duration": 16,
    "start_time": "2022-06-06T10:40:19.791Z"
   },
   {
    "duration": 1292,
    "start_time": "2022-06-06T10:40:19.810Z"
   },
   {
    "duration": 13,
    "start_time": "2022-06-06T10:40:21.103Z"
   },
   {
    "duration": 361,
    "start_time": "2022-06-06T10:40:21.129Z"
   },
   {
    "duration": 262,
    "start_time": "2022-06-06T10:40:32.822Z"
   },
   {
    "duration": 326,
    "start_time": "2022-06-06T10:40:41.278Z"
   },
   {
    "duration": 237,
    "start_time": "2022-06-06T10:40:50.322Z"
   },
   {
    "duration": 179,
    "start_time": "2022-06-06T11:04:53.315Z"
   },
   {
    "duration": 53,
    "start_time": "2022-06-06T11:07:52.843Z"
   },
   {
    "duration": 23,
    "start_time": "2022-06-06T11:08:54.478Z"
   },
   {
    "duration": 23,
    "start_time": "2022-06-06T11:09:12.598Z"
   },
   {
    "duration": 852,
    "start_time": "2022-06-06T12:07:41.500Z"
   },
   {
    "duration": 636,
    "start_time": "2022-06-06T12:07:42.354Z"
   },
   {
    "duration": 91,
    "start_time": "2022-06-06T12:07:42.992Z"
   },
   {
    "duration": 25,
    "start_time": "2022-06-06T12:07:43.086Z"
   },
   {
    "duration": 12,
    "start_time": "2022-06-06T12:07:43.112Z"
   },
   {
    "duration": 34,
    "start_time": "2022-06-06T12:07:43.136Z"
   },
   {
    "duration": 12,
    "start_time": "2022-06-06T12:07:43.172Z"
   },
   {
    "duration": 11,
    "start_time": "2022-06-06T12:07:43.186Z"
   },
   {
    "duration": 6,
    "start_time": "2022-06-06T12:07:43.199Z"
   },
   {
    "duration": 75,
    "start_time": "2022-06-06T12:07:43.207Z"
   },
   {
    "duration": 79,
    "start_time": "2022-06-06T12:07:43.283Z"
   },
   {
    "duration": 52,
    "start_time": "2022-06-06T12:07:43.367Z"
   },
   {
    "duration": 37,
    "start_time": "2022-06-06T12:07:43.421Z"
   },
   {
    "duration": 65,
    "start_time": "2022-06-06T12:07:43.460Z"
   },
   {
    "duration": 46,
    "start_time": "2022-06-06T12:07:43.526Z"
   },
   {
    "duration": 29,
    "start_time": "2022-06-06T12:07:43.574Z"
   },
   {
    "duration": 27,
    "start_time": "2022-06-06T12:07:43.605Z"
   },
   {
    "duration": 18,
    "start_time": "2022-06-06T12:07:43.633Z"
   },
   {
    "duration": 961,
    "start_time": "2022-06-06T12:07:43.653Z"
   },
   {
    "duration": 30,
    "start_time": "2022-06-06T12:07:44.616Z"
   },
   {
    "duration": 286,
    "start_time": "2022-06-06T12:07:44.651Z"
   },
   {
    "duration": 35,
    "start_time": "2022-06-06T12:07:44.938Z"
   },
   {
    "duration": 4,
    "start_time": "2022-06-06T12:07:44.975Z"
   },
   {
    "duration": 69,
    "start_time": "2022-06-06T12:20:54.368Z"
   },
   {
    "duration": 180,
    "start_time": "2022-06-06T12:21:21.057Z"
   },
   {
    "duration": 24,
    "start_time": "2022-06-06T12:22:09.355Z"
   },
   {
    "duration": 39,
    "start_time": "2022-06-06T12:28:08.747Z"
   },
   {
    "duration": 955,
    "start_time": "2022-06-06T12:32:47.537Z"
   },
   {
    "duration": 528,
    "start_time": "2022-06-06T12:32:48.495Z"
   },
   {
    "duration": 97,
    "start_time": "2022-06-06T12:32:49.025Z"
   },
   {
    "duration": 41,
    "start_time": "2022-06-06T12:32:49.128Z"
   },
   {
    "duration": 19,
    "start_time": "2022-06-06T12:32:49.178Z"
   },
   {
    "duration": 14,
    "start_time": "2022-06-06T12:32:49.198Z"
   },
   {
    "duration": 19,
    "start_time": "2022-06-06T12:32:49.214Z"
   },
   {
    "duration": 42,
    "start_time": "2022-06-06T12:32:49.249Z"
   },
   {
    "duration": 13,
    "start_time": "2022-06-06T12:32:49.293Z"
   },
   {
    "duration": 106,
    "start_time": "2022-06-06T12:32:49.310Z"
   },
   {
    "duration": 75,
    "start_time": "2022-06-06T12:32:49.418Z"
   },
   {
    "duration": 56,
    "start_time": "2022-06-06T12:32:49.495Z"
   },
   {
    "duration": 20,
    "start_time": "2022-06-06T12:32:49.552Z"
   },
   {
    "duration": 86,
    "start_time": "2022-06-06T12:32:49.574Z"
   },
   {
    "duration": 39,
    "start_time": "2022-06-06T12:32:49.665Z"
   },
   {
    "duration": 47,
    "start_time": "2022-06-06T12:32:49.706Z"
   },
   {
    "duration": 35,
    "start_time": "2022-06-06T12:32:49.755Z"
   },
   {
    "duration": 23,
    "start_time": "2022-06-06T12:32:49.792Z"
   },
   {
    "duration": 10,
    "start_time": "2022-06-06T12:32:49.817Z"
   },
   {
    "duration": 51,
    "start_time": "2022-06-06T12:32:49.829Z"
   },
   {
    "duration": 224,
    "start_time": "2022-06-06T12:32:49.882Z"
   },
   {
    "duration": 0,
    "start_time": "2022-06-06T12:32:50.108Z"
   },
   {
    "duration": 0,
    "start_time": "2022-06-06T12:32:50.109Z"
   },
   {
    "duration": 21,
    "start_time": "2022-06-06T12:33:41.391Z"
   },
   {
    "duration": 886,
    "start_time": "2022-06-06T12:33:53.952Z"
   },
   {
    "duration": 14,
    "start_time": "2022-06-06T12:40:15.285Z"
   },
   {
    "duration": 1509,
    "start_time": "2022-06-06T12:40:19.995Z"
   },
   {
    "duration": 1031,
    "start_time": "2022-06-06T12:40:35.744Z"
   },
   {
    "duration": 641,
    "start_time": "2022-06-06T12:40:36.778Z"
   },
   {
    "duration": 136,
    "start_time": "2022-06-06T12:40:37.421Z"
   },
   {
    "duration": 25,
    "start_time": "2022-06-06T12:40:37.560Z"
   },
   {
    "duration": 27,
    "start_time": "2022-06-06T12:40:37.588Z"
   },
   {
    "duration": 83,
    "start_time": "2022-06-06T12:40:37.617Z"
   },
   {
    "duration": 19,
    "start_time": "2022-06-06T12:40:37.703Z"
   },
   {
    "duration": 80,
    "start_time": "2022-06-06T12:40:37.723Z"
   },
   {
    "duration": 7,
    "start_time": "2022-06-06T12:40:37.805Z"
   },
   {
    "duration": 120,
    "start_time": "2022-06-06T12:40:37.815Z"
   },
   {
    "duration": 102,
    "start_time": "2022-06-06T12:40:37.939Z"
   },
   {
    "duration": 145,
    "start_time": "2022-06-06T12:40:38.047Z"
   },
   {
    "duration": 23,
    "start_time": "2022-06-06T12:40:38.197Z"
   },
   {
    "duration": 149,
    "start_time": "2022-06-06T12:40:38.224Z"
   },
   {
    "duration": 58,
    "start_time": "2022-06-06T12:40:38.376Z"
   },
   {
    "duration": 55,
    "start_time": "2022-06-06T12:40:38.438Z"
   },
   {
    "duration": 24,
    "start_time": "2022-06-06T12:40:38.506Z"
   },
   {
    "duration": 87,
    "start_time": "2022-06-06T12:40:38.535Z"
   },
   {
    "duration": 17,
    "start_time": "2022-06-06T12:40:38.624Z"
   },
   {
    "duration": 0,
    "start_time": "2022-06-06T12:40:38.643Z"
   },
   {
    "duration": 0,
    "start_time": "2022-06-06T12:40:38.647Z"
   },
   {
    "duration": 0,
    "start_time": "2022-06-06T12:40:38.649Z"
   },
   {
    "duration": 0,
    "start_time": "2022-06-06T12:40:38.650Z"
   },
   {
    "duration": 1354,
    "start_time": "2022-06-06T12:40:49.911Z"
   },
   {
    "duration": 39,
    "start_time": "2022-06-06T12:40:52.498Z"
   },
   {
    "duration": 345,
    "start_time": "2022-06-06T12:40:54.323Z"
   },
   {
    "duration": 156,
    "start_time": "2022-06-06T12:41:17.055Z"
   },
   {
    "duration": 280,
    "start_time": "2022-06-06T12:41:31.378Z"
   },
   {
    "duration": 29,
    "start_time": "2022-06-06T12:42:12.216Z"
   },
   {
    "duration": 34,
    "start_time": "2022-06-06T12:42:20.227Z"
   },
   {
    "duration": 222,
    "start_time": "2022-06-06T12:42:24.683Z"
   },
   {
    "duration": 131,
    "start_time": "2022-06-06T12:55:31.143Z"
   },
   {
    "duration": 368,
    "start_time": "2022-06-06T12:55:54.030Z"
   },
   {
    "duration": 1237,
    "start_time": "2022-06-06T12:56:04.116Z"
   },
   {
    "duration": 1303,
    "start_time": "2022-06-06T12:56:16.646Z"
   },
   {
    "duration": 858,
    "start_time": "2022-06-06T13:01:43.153Z"
   },
   {
    "duration": 501,
    "start_time": "2022-06-06T13:01:44.013Z"
   },
   {
    "duration": 123,
    "start_time": "2022-06-06T13:01:44.517Z"
   },
   {
    "duration": 35,
    "start_time": "2022-06-06T13:01:44.650Z"
   },
   {
    "duration": 29,
    "start_time": "2022-06-06T13:01:44.687Z"
   },
   {
    "duration": 51,
    "start_time": "2022-06-06T13:01:44.717Z"
   },
   {
    "duration": 16,
    "start_time": "2022-06-06T13:01:44.770Z"
   },
   {
    "duration": 22,
    "start_time": "2022-06-06T13:01:44.788Z"
   },
   {
    "duration": 14,
    "start_time": "2022-06-06T13:01:44.812Z"
   },
   {
    "duration": 120,
    "start_time": "2022-06-06T13:01:44.833Z"
   },
   {
    "duration": 55,
    "start_time": "2022-06-06T13:01:44.954Z"
   },
   {
    "duration": 49,
    "start_time": "2022-06-06T13:01:45.011Z"
   },
   {
    "duration": 24,
    "start_time": "2022-06-06T13:01:45.062Z"
   },
   {
    "duration": 81,
    "start_time": "2022-06-06T13:01:45.088Z"
   },
   {
    "duration": 29,
    "start_time": "2022-06-06T13:01:45.171Z"
   },
   {
    "duration": 49,
    "start_time": "2022-06-06T13:01:45.202Z"
   },
   {
    "duration": 17,
    "start_time": "2022-06-06T13:01:45.252Z"
   },
   {
    "duration": 14,
    "start_time": "2022-06-06T13:01:45.271Z"
   },
   {
    "duration": 51,
    "start_time": "2022-06-06T13:01:45.287Z"
   },
   {
    "duration": 3,
    "start_time": "2022-06-06T13:01:45.342Z"
   },
   {
    "duration": 2,
    "start_time": "2022-06-06T13:01:45.346Z"
   },
   {
    "duration": 294,
    "start_time": "2022-06-06T13:01:45.354Z"
   },
   {
    "duration": 38,
    "start_time": "2022-06-06T13:01:58.458Z"
   },
   {
    "duration": 782,
    "start_time": "2022-06-06T13:02:35.382Z"
   },
   {
    "duration": 459,
    "start_time": "2022-06-06T13:02:36.167Z"
   },
   {
    "duration": 88,
    "start_time": "2022-06-06T13:02:36.627Z"
   },
   {
    "duration": 27,
    "start_time": "2022-06-06T13:02:36.716Z"
   },
   {
    "duration": 27,
    "start_time": "2022-06-06T13:02:36.746Z"
   },
   {
    "duration": 13,
    "start_time": "2022-06-06T13:02:36.774Z"
   },
   {
    "duration": 16,
    "start_time": "2022-06-06T13:02:36.788Z"
   },
   {
    "duration": 20,
    "start_time": "2022-06-06T13:02:36.806Z"
   },
   {
    "duration": 34,
    "start_time": "2022-06-06T13:02:36.829Z"
   },
   {
    "duration": 79,
    "start_time": "2022-06-06T13:02:36.864Z"
   },
   {
    "duration": 57,
    "start_time": "2022-06-06T13:02:36.946Z"
   },
   {
    "duration": 53,
    "start_time": "2022-06-06T13:02:37.005Z"
   },
   {
    "duration": 14,
    "start_time": "2022-06-06T13:02:37.060Z"
   },
   {
    "duration": 79,
    "start_time": "2022-06-06T13:02:37.077Z"
   },
   {
    "duration": 34,
    "start_time": "2022-06-06T13:02:37.158Z"
   },
   {
    "duration": 41,
    "start_time": "2022-06-06T13:02:37.193Z"
   },
   {
    "duration": 23,
    "start_time": "2022-06-06T13:02:37.236Z"
   },
   {
    "duration": 17,
    "start_time": "2022-06-06T13:02:37.260Z"
   },
   {
    "duration": 27,
    "start_time": "2022-06-06T13:02:37.279Z"
   },
   {
    "duration": 2,
    "start_time": "2022-06-06T13:02:37.308Z"
   },
   {
    "duration": 50,
    "start_time": "2022-06-06T13:02:37.318Z"
   },
   {
    "duration": 239,
    "start_time": "2022-06-06T13:02:37.370Z"
   },
   {
    "duration": 28,
    "start_time": "2022-06-06T13:03:10.784Z"
   },
   {
    "duration": 857,
    "start_time": "2022-06-06T13:03:17.826Z"
   },
   {
    "duration": 440,
    "start_time": "2022-06-06T13:03:18.684Z"
   },
   {
    "duration": 86,
    "start_time": "2022-06-06T13:03:19.126Z"
   },
   {
    "duration": 38,
    "start_time": "2022-06-06T13:03:19.214Z"
   },
   {
    "duration": 25,
    "start_time": "2022-06-06T13:03:19.257Z"
   },
   {
    "duration": 16,
    "start_time": "2022-06-06T13:03:19.283Z"
   },
   {
    "duration": 11,
    "start_time": "2022-06-06T13:03:19.300Z"
   },
   {
    "duration": 11,
    "start_time": "2022-06-06T13:03:19.313Z"
   },
   {
    "duration": 4,
    "start_time": "2022-06-06T13:03:19.326Z"
   },
   {
    "duration": 93,
    "start_time": "2022-06-06T13:03:19.333Z"
   },
   {
    "duration": 62,
    "start_time": "2022-06-06T13:03:19.428Z"
   },
   {
    "duration": 73,
    "start_time": "2022-06-06T13:03:19.491Z"
   },
   {
    "duration": 15,
    "start_time": "2022-06-06T13:03:19.565Z"
   },
   {
    "duration": 75,
    "start_time": "2022-06-06T13:03:19.582Z"
   },
   {
    "duration": 29,
    "start_time": "2022-06-06T13:03:19.659Z"
   },
   {
    "duration": 50,
    "start_time": "2022-06-06T13:03:19.690Z"
   },
   {
    "duration": 17,
    "start_time": "2022-06-06T13:03:19.743Z"
   },
   {
    "duration": 16,
    "start_time": "2022-06-06T13:03:19.761Z"
   },
   {
    "duration": 18,
    "start_time": "2022-06-06T13:03:19.779Z"
   },
   {
    "duration": 3,
    "start_time": "2022-06-06T13:03:19.798Z"
   },
   {
    "duration": 10,
    "start_time": "2022-06-06T13:03:19.802Z"
   },
   {
    "duration": 254,
    "start_time": "2022-06-06T13:03:19.814Z"
   },
   {
    "duration": 33,
    "start_time": "2022-06-06T13:07:21.116Z"
   },
   {
    "duration": 217,
    "start_time": "2022-06-06T13:48:22.251Z"
   },
   {
    "duration": 20,
    "start_time": "2022-06-06T13:49:41.051Z"
   },
   {
    "duration": 1098,
    "start_time": "2022-06-06T13:49:48.450Z"
   },
   {
    "duration": 1057,
    "start_time": "2022-06-06T13:49:49.551Z"
   },
   {
    "duration": 97,
    "start_time": "2022-06-06T13:49:50.610Z"
   },
   {
    "duration": 28,
    "start_time": "2022-06-06T13:49:50.708Z"
   },
   {
    "duration": 15,
    "start_time": "2022-06-06T13:49:50.738Z"
   },
   {
    "duration": 26,
    "start_time": "2022-06-06T13:49:50.755Z"
   },
   {
    "duration": 26,
    "start_time": "2022-06-06T13:49:50.783Z"
   },
   {
    "duration": 52,
    "start_time": "2022-06-06T13:49:50.811Z"
   },
   {
    "duration": 4,
    "start_time": "2022-06-06T13:49:50.865Z"
   },
   {
    "duration": 116,
    "start_time": "2022-06-06T13:49:50.872Z"
   },
   {
    "duration": 63,
    "start_time": "2022-06-06T13:49:50.990Z"
   },
   {
    "duration": 53,
    "start_time": "2022-06-06T13:49:51.055Z"
   },
   {
    "duration": 38,
    "start_time": "2022-06-06T13:49:51.110Z"
   },
   {
    "duration": 60,
    "start_time": "2022-06-06T13:49:51.151Z"
   },
   {
    "duration": 45,
    "start_time": "2022-06-06T13:49:51.212Z"
   },
   {
    "duration": 32,
    "start_time": "2022-06-06T13:49:51.259Z"
   },
   {
    "duration": 51,
    "start_time": "2022-06-06T13:49:51.293Z"
   },
   {
    "duration": 15,
    "start_time": "2022-06-06T13:49:51.345Z"
   },
   {
    "duration": 3,
    "start_time": "2022-06-06T13:49:51.361Z"
   },
   {
    "duration": 916,
    "start_time": "2022-06-06T13:49:51.365Z"
   },
   {
    "duration": 9,
    "start_time": "2022-06-06T13:49:52.283Z"
   },
   {
    "duration": 204,
    "start_time": "2022-06-06T13:49:52.294Z"
   },
   {
    "duration": 40,
    "start_time": "2022-06-06T13:49:52.500Z"
   },
   {
    "duration": 1675,
    "start_time": "2022-06-06T13:50:51.246Z"
   },
   {
    "duration": 20,
    "start_time": "2022-06-06T13:50:52.923Z"
   },
   {
    "duration": 238,
    "start_time": "2022-06-06T13:51:05.103Z"
   },
   {
    "duration": 1332,
    "start_time": "2022-06-06T13:51:26.591Z"
   },
   {
    "duration": 1217,
    "start_time": "2022-06-06T13:51:27.925Z"
   },
   {
    "duration": 73,
    "start_time": "2022-06-06T13:51:29.144Z"
   },
   {
    "duration": 23,
    "start_time": "2022-06-06T13:51:29.220Z"
   },
   {
    "duration": 14,
    "start_time": "2022-06-06T13:51:29.245Z"
   },
   {
    "duration": 12,
    "start_time": "2022-06-06T13:51:29.261Z"
   },
   {
    "duration": 10,
    "start_time": "2022-06-06T13:51:29.275Z"
   },
   {
    "duration": 15,
    "start_time": "2022-06-06T13:51:29.287Z"
   },
   {
    "duration": 4,
    "start_time": "2022-06-06T13:51:29.303Z"
   },
   {
    "duration": 69,
    "start_time": "2022-06-06T13:51:29.330Z"
   },
   {
    "duration": 75,
    "start_time": "2022-06-06T13:51:29.400Z"
   },
   {
    "duration": 37,
    "start_time": "2022-06-06T13:51:29.477Z"
   },
   {
    "duration": 34,
    "start_time": "2022-06-06T13:51:29.516Z"
   },
   {
    "duration": 89,
    "start_time": "2022-06-06T13:51:29.552Z"
   },
   {
    "duration": 42,
    "start_time": "2022-06-06T13:51:29.642Z"
   },
   {
    "duration": 31,
    "start_time": "2022-06-06T13:51:29.686Z"
   },
   {
    "duration": 18,
    "start_time": "2022-06-06T13:51:29.728Z"
   },
   {
    "duration": 17,
    "start_time": "2022-06-06T13:51:29.748Z"
   },
   {
    "duration": 2,
    "start_time": "2022-06-06T13:51:29.766Z"
   },
   {
    "duration": 1805,
    "start_time": "2022-06-06T13:51:29.770Z"
   },
   {
    "duration": 12,
    "start_time": "2022-06-06T13:51:31.577Z"
   },
   {
    "duration": 233,
    "start_time": "2022-06-06T13:51:31.591Z"
   },
   {
    "duration": 30,
    "start_time": "2022-06-06T13:51:31.831Z"
   },
   {
    "duration": 769,
    "start_time": "2022-06-06T13:57:38.789Z"
   },
   {
    "duration": 429,
    "start_time": "2022-06-06T13:57:39.560Z"
   },
   {
    "duration": 85,
    "start_time": "2022-06-06T13:57:39.991Z"
   },
   {
    "duration": 15,
    "start_time": "2022-06-06T13:57:40.079Z"
   },
   {
    "duration": 11,
    "start_time": "2022-06-06T13:57:40.095Z"
   },
   {
    "duration": 35,
    "start_time": "2022-06-06T13:57:40.108Z"
   },
   {
    "duration": 11,
    "start_time": "2022-06-06T13:57:40.145Z"
   },
   {
    "duration": 27,
    "start_time": "2022-06-06T13:57:40.158Z"
   },
   {
    "duration": 6,
    "start_time": "2022-06-06T13:57:40.187Z"
   },
   {
    "duration": 67,
    "start_time": "2022-06-06T13:57:40.196Z"
   },
   {
    "duration": 52,
    "start_time": "2022-06-06T13:57:40.264Z"
   },
   {
    "duration": 53,
    "start_time": "2022-06-06T13:57:40.317Z"
   },
   {
    "duration": 12,
    "start_time": "2022-06-06T13:57:40.371Z"
   },
   {
    "duration": 85,
    "start_time": "2022-06-06T13:57:40.385Z"
   },
   {
    "duration": 29,
    "start_time": "2022-06-06T13:57:40.472Z"
   },
   {
    "duration": 48,
    "start_time": "2022-06-06T13:57:40.502Z"
   },
   {
    "duration": 12,
    "start_time": "2022-06-06T13:57:40.552Z"
   },
   {
    "duration": 17,
    "start_time": "2022-06-06T13:57:40.566Z"
   },
   {
    "duration": 2,
    "start_time": "2022-06-06T13:57:40.585Z"
   },
   {
    "duration": 5,
    "start_time": "2022-06-06T13:57:40.589Z"
   },
   {
    "duration": 19,
    "start_time": "2022-06-06T13:57:40.596Z"
   },
   {
    "duration": 154,
    "start_time": "2022-06-06T13:57:40.617Z"
   },
   {
    "duration": 0,
    "start_time": "2022-06-06T13:57:40.772Z"
   },
   {
    "duration": 17,
    "start_time": "2022-06-06T13:58:04.109Z"
   },
   {
    "duration": 840,
    "start_time": "2022-06-06T13:58:10.213Z"
   },
   {
    "duration": 451,
    "start_time": "2022-06-06T13:58:11.055Z"
   },
   {
    "duration": 75,
    "start_time": "2022-06-06T13:58:11.508Z"
   },
   {
    "duration": 15,
    "start_time": "2022-06-06T13:58:11.585Z"
   },
   {
    "duration": 10,
    "start_time": "2022-06-06T13:58:11.601Z"
   },
   {
    "duration": 14,
    "start_time": "2022-06-06T13:58:11.629Z"
   },
   {
    "duration": 15,
    "start_time": "2022-06-06T13:58:11.645Z"
   },
   {
    "duration": 11,
    "start_time": "2022-06-06T13:58:11.662Z"
   },
   {
    "duration": 4,
    "start_time": "2022-06-06T13:58:11.675Z"
   },
   {
    "duration": 78,
    "start_time": "2022-06-06T13:58:11.681Z"
   },
   {
    "duration": 81,
    "start_time": "2022-06-06T13:58:11.761Z"
   },
   {
    "duration": 39,
    "start_time": "2022-06-06T13:58:11.844Z"
   },
   {
    "duration": 14,
    "start_time": "2022-06-06T13:58:11.885Z"
   },
   {
    "duration": 80,
    "start_time": "2022-06-06T13:58:11.900Z"
   },
   {
    "duration": 31,
    "start_time": "2022-06-06T13:58:11.981Z"
   },
   {
    "duration": 51,
    "start_time": "2022-06-06T13:58:12.013Z"
   },
   {
    "duration": 14,
    "start_time": "2022-06-06T13:58:12.065Z"
   },
   {
    "duration": 19,
    "start_time": "2022-06-06T13:58:12.081Z"
   },
   {
    "duration": 38,
    "start_time": "2022-06-06T13:58:12.102Z"
   },
   {
    "duration": 4,
    "start_time": "2022-06-06T13:58:12.141Z"
   },
   {
    "duration": 12,
    "start_time": "2022-06-06T13:58:12.147Z"
   },
   {
    "duration": 222,
    "start_time": "2022-06-06T13:58:12.160Z"
   },
   {
    "duration": 19,
    "start_time": "2022-06-06T13:58:12.383Z"
   },
   {
    "duration": 20,
    "start_time": "2022-06-06T14:20:15.098Z"
   },
   {
    "duration": 4,
    "start_time": "2022-06-06T14:42:16.503Z"
   },
   {
    "duration": 22,
    "start_time": "2022-06-06T14:42:26.757Z"
   },
   {
    "duration": 891,
    "start_time": "2022-06-06T14:42:32.904Z"
   },
   {
    "duration": 1501,
    "start_time": "2022-06-06T14:42:33.797Z"
   },
   {
    "duration": 105,
    "start_time": "2022-06-06T14:42:35.300Z"
   },
   {
    "duration": 37,
    "start_time": "2022-06-06T14:42:35.407Z"
   },
   {
    "duration": 13,
    "start_time": "2022-06-06T14:42:35.450Z"
   },
   {
    "duration": 29,
    "start_time": "2022-06-06T14:42:35.465Z"
   },
   {
    "duration": 14,
    "start_time": "2022-06-06T14:42:35.496Z"
   },
   {
    "duration": 58,
    "start_time": "2022-06-06T14:42:35.512Z"
   },
   {
    "duration": 4,
    "start_time": "2022-06-06T14:42:35.572Z"
   },
   {
    "duration": 76,
    "start_time": "2022-06-06T14:42:35.578Z"
   },
   {
    "duration": 63,
    "start_time": "2022-06-06T14:42:35.656Z"
   },
   {
    "duration": 44,
    "start_time": "2022-06-06T14:42:35.729Z"
   },
   {
    "duration": 13,
    "start_time": "2022-06-06T14:42:35.775Z"
   },
   {
    "duration": 97,
    "start_time": "2022-06-06T14:42:35.792Z"
   },
   {
    "duration": 50,
    "start_time": "2022-06-06T14:42:35.890Z"
   },
   {
    "duration": 33,
    "start_time": "2022-06-06T14:42:35.941Z"
   },
   {
    "duration": 19,
    "start_time": "2022-06-06T14:42:35.975Z"
   },
   {
    "duration": 16,
    "start_time": "2022-06-06T14:42:35.996Z"
   },
   {
    "duration": 16,
    "start_time": "2022-06-06T14:42:36.014Z"
   },
   {
    "duration": 11,
    "start_time": "2022-06-06T14:42:36.032Z"
   },
   {
    "duration": 28,
    "start_time": "2022-06-06T14:42:36.046Z"
   },
   {
    "duration": 278,
    "start_time": "2022-06-06T14:42:36.076Z"
   },
   {
    "duration": 25,
    "start_time": "2022-06-06T14:42:36.356Z"
   },
   {
    "duration": 158,
    "start_time": "2022-06-06T14:43:54.404Z"
   },
   {
    "duration": 1003,
    "start_time": "2022-06-06T14:44:13.457Z"
   },
   {
    "duration": 815,
    "start_time": "2022-06-06T14:44:27.184Z"
   },
   {
    "duration": 479,
    "start_time": "2022-06-06T14:44:28.001Z"
   },
   {
    "duration": 85,
    "start_time": "2022-06-06T14:44:28.481Z"
   },
   {
    "duration": 20,
    "start_time": "2022-06-06T14:44:28.568Z"
   },
   {
    "duration": 11,
    "start_time": "2022-06-06T14:44:28.591Z"
   },
   {
    "duration": 19,
    "start_time": "2022-06-06T14:44:28.603Z"
   },
   {
    "duration": 42,
    "start_time": "2022-06-06T14:44:28.628Z"
   },
   {
    "duration": 11,
    "start_time": "2022-06-06T14:44:28.672Z"
   },
   {
    "duration": 5,
    "start_time": "2022-06-06T14:44:28.685Z"
   },
   {
    "duration": 82,
    "start_time": "2022-06-06T14:44:28.692Z"
   },
   {
    "duration": 61,
    "start_time": "2022-06-06T14:44:28.776Z"
   },
   {
    "duration": 49,
    "start_time": "2022-06-06T14:44:28.842Z"
   },
   {
    "duration": 18,
    "start_time": "2022-06-06T14:44:28.893Z"
   },
   {
    "duration": 79,
    "start_time": "2022-06-06T14:44:28.914Z"
   },
   {
    "duration": 51,
    "start_time": "2022-06-06T14:44:28.994Z"
   },
   {
    "duration": 64,
    "start_time": "2022-06-06T14:44:29.047Z"
   },
   {
    "duration": 13,
    "start_time": "2022-06-06T14:44:29.113Z"
   },
   {
    "duration": 64,
    "start_time": "2022-06-06T14:44:29.128Z"
   },
   {
    "duration": 2,
    "start_time": "2022-06-06T14:44:29.194Z"
   },
   {
    "duration": 967,
    "start_time": "2022-06-06T14:44:29.198Z"
   },
   {
    "duration": 231,
    "start_time": "2022-06-06T14:44:30.167Z"
   },
   {
    "duration": 31,
    "start_time": "2022-06-06T14:44:30.399Z"
   },
   {
    "duration": 118,
    "start_time": "2022-06-06T14:48:43.819Z"
   },
   {
    "duration": 788,
    "start_time": "2022-06-06T14:48:51.963Z"
   },
   {
    "duration": 451,
    "start_time": "2022-06-06T14:48:52.753Z"
   },
   {
    "duration": 77,
    "start_time": "2022-06-06T14:48:53.206Z"
   },
   {
    "duration": 15,
    "start_time": "2022-06-06T14:48:53.285Z"
   },
   {
    "duration": 12,
    "start_time": "2022-06-06T14:48:53.302Z"
   },
   {
    "duration": 37,
    "start_time": "2022-06-06T14:48:53.316Z"
   },
   {
    "duration": 15,
    "start_time": "2022-06-06T14:48:53.355Z"
   },
   {
    "duration": 20,
    "start_time": "2022-06-06T14:48:53.372Z"
   },
   {
    "duration": 10,
    "start_time": "2022-06-06T14:48:53.394Z"
   },
   {
    "duration": 69,
    "start_time": "2022-06-06T14:48:53.407Z"
   },
   {
    "duration": 59,
    "start_time": "2022-06-06T14:48:53.479Z"
   },
   {
    "duration": 39,
    "start_time": "2022-06-06T14:48:53.540Z"
   },
   {
    "duration": 17,
    "start_time": "2022-06-06T14:48:53.581Z"
   },
   {
    "duration": 105,
    "start_time": "2022-06-06T14:48:53.600Z"
   },
   {
    "duration": 48,
    "start_time": "2022-06-06T14:48:53.706Z"
   },
   {
    "duration": 31,
    "start_time": "2022-06-06T14:48:53.755Z"
   },
   {
    "duration": 13,
    "start_time": "2022-06-06T14:48:53.787Z"
   },
   {
    "duration": 16,
    "start_time": "2022-06-06T14:48:53.801Z"
   },
   {
    "duration": 5,
    "start_time": "2022-06-06T14:48:53.830Z"
   },
   {
    "duration": 988,
    "start_time": "2022-06-06T14:48:53.836Z"
   },
   {
    "duration": 209,
    "start_time": "2022-06-06T14:48:54.826Z"
   },
   {
    "duration": 119,
    "start_time": "2022-06-06T14:48:55.039Z"
   },
   {
    "duration": 0,
    "start_time": "2022-06-06T14:48:55.159Z"
   },
   {
    "duration": 17,
    "start_time": "2022-06-06T14:49:13.803Z"
   },
   {
    "duration": 41,
    "start_time": "2022-06-06T15:00:52.316Z"
   },
   {
    "duration": 21,
    "start_time": "2022-06-06T15:05:30.312Z"
   },
   {
    "duration": 30,
    "start_time": "2022-06-06T15:06:40.979Z"
   },
   {
    "duration": 45,
    "start_time": "2022-06-06T15:07:27.404Z"
   },
   {
    "duration": 18,
    "start_time": "2022-06-06T15:09:52.900Z"
   },
   {
    "duration": 35,
    "start_time": "2022-06-06T15:12:54.731Z"
   },
   {
    "duration": 72,
    "start_time": "2022-06-06T15:18:50.243Z"
   },
   {
    "duration": 928,
    "start_time": "2022-06-06T15:19:03.563Z"
   },
   {
    "duration": 508,
    "start_time": "2022-06-06T15:19:04.495Z"
   },
   {
    "duration": 89,
    "start_time": "2022-06-06T15:19:05.004Z"
   },
   {
    "duration": 21,
    "start_time": "2022-06-06T15:19:05.096Z"
   },
   {
    "duration": 14,
    "start_time": "2022-06-06T15:19:05.128Z"
   },
   {
    "duration": 18,
    "start_time": "2022-06-06T15:19:05.144Z"
   },
   {
    "duration": 15,
    "start_time": "2022-06-06T15:19:05.163Z"
   },
   {
    "duration": 16,
    "start_time": "2022-06-06T15:19:05.180Z"
   },
   {
    "duration": 13,
    "start_time": "2022-06-06T15:19:05.198Z"
   },
   {
    "duration": 70,
    "start_time": "2022-06-06T15:19:05.231Z"
   },
   {
    "duration": 82,
    "start_time": "2022-06-06T15:19:05.303Z"
   },
   {
    "duration": 73,
    "start_time": "2022-06-06T15:19:05.387Z"
   },
   {
    "duration": 20,
    "start_time": "2022-06-06T15:19:05.463Z"
   },
   {
    "duration": 114,
    "start_time": "2022-06-06T15:19:05.486Z"
   },
   {
    "duration": 58,
    "start_time": "2022-06-06T15:19:05.602Z"
   },
   {
    "duration": 42,
    "start_time": "2022-06-06T15:19:05.662Z"
   },
   {
    "duration": 38,
    "start_time": "2022-06-06T15:19:05.706Z"
   },
   {
    "duration": 17,
    "start_time": "2022-06-06T15:19:05.746Z"
   },
   {
    "duration": 3,
    "start_time": "2022-06-06T15:19:05.765Z"
   },
   {
    "duration": 954,
    "start_time": "2022-06-06T15:19:05.770Z"
   },
   {
    "duration": 232,
    "start_time": "2022-06-06T15:19:06.726Z"
   },
   {
    "duration": 18,
    "start_time": "2022-06-06T15:19:06.963Z"
   },
   {
    "duration": 6,
    "start_time": "2022-06-06T15:19:06.983Z"
   },
   {
    "duration": 5,
    "start_time": "2022-06-06T15:19:43.087Z"
   },
   {
    "duration": 79,
    "start_time": "2022-06-06T15:20:40.158Z"
   },
   {
    "duration": 21,
    "start_time": "2022-06-06T15:21:02.815Z"
   },
   {
    "duration": 24,
    "start_time": "2022-06-06T15:23:45.622Z"
   },
   {
    "duration": 24,
    "start_time": "2022-06-06T15:23:54.976Z"
   },
   {
    "duration": 17,
    "start_time": "2022-06-06T15:24:09.204Z"
   },
   {
    "duration": 106,
    "start_time": "2022-06-06T15:26:18.068Z"
   },
   {
    "duration": 24,
    "start_time": "2022-06-06T15:27:01.709Z"
   },
   {
    "duration": 23,
    "start_time": "2022-06-06T15:27:14.490Z"
   },
   {
    "duration": 55,
    "start_time": "2022-06-06T15:27:38.507Z"
   },
   {
    "duration": 29,
    "start_time": "2022-06-06T15:28:38.768Z"
   },
   {
    "duration": 17,
    "start_time": "2022-06-06T15:31:06.473Z"
   },
   {
    "duration": 16,
    "start_time": "2022-06-06T15:31:38.480Z"
   },
   {
    "duration": 18,
    "start_time": "2022-06-06T15:31:50.838Z"
   },
   {
    "duration": 17,
    "start_time": "2022-06-06T15:46:21.864Z"
   },
   {
    "duration": 906,
    "start_time": "2022-06-06T15:53:16.325Z"
   },
   {
    "duration": 425,
    "start_time": "2022-06-06T15:53:17.234Z"
   },
   {
    "duration": 72,
    "start_time": "2022-06-06T15:53:17.661Z"
   },
   {
    "duration": 15,
    "start_time": "2022-06-06T15:53:17.735Z"
   },
   {
    "duration": 19,
    "start_time": "2022-06-06T15:53:17.752Z"
   },
   {
    "duration": 15,
    "start_time": "2022-06-06T15:53:17.773Z"
   },
   {
    "duration": 14,
    "start_time": "2022-06-06T15:53:17.790Z"
   },
   {
    "duration": 26,
    "start_time": "2022-06-06T15:53:17.805Z"
   },
   {
    "duration": 4,
    "start_time": "2022-06-06T15:53:17.833Z"
   },
   {
    "duration": 61,
    "start_time": "2022-06-06T15:53:17.839Z"
   },
   {
    "duration": 68,
    "start_time": "2022-06-06T15:53:17.902Z"
   },
   {
    "duration": 39,
    "start_time": "2022-06-06T15:53:17.973Z"
   },
   {
    "duration": 15,
    "start_time": "2022-06-06T15:53:18.029Z"
   },
   {
    "duration": 85,
    "start_time": "2022-06-06T15:53:18.047Z"
   },
   {
    "duration": 32,
    "start_time": "2022-06-06T15:53:18.135Z"
   },
   {
    "duration": 30,
    "start_time": "2022-06-06T15:53:18.168Z"
   },
   {
    "duration": 37,
    "start_time": "2022-06-06T15:53:18.199Z"
   },
   {
    "duration": 12,
    "start_time": "2022-06-06T15:53:18.238Z"
   },
   {
    "duration": 2,
    "start_time": "2022-06-06T15:53:18.252Z"
   },
   {
    "duration": 987,
    "start_time": "2022-06-06T15:53:18.255Z"
   },
   {
    "duration": 214,
    "start_time": "2022-06-06T15:53:19.244Z"
   },
   {
    "duration": 18,
    "start_time": "2022-06-06T15:53:19.460Z"
   },
   {
    "duration": 808,
    "start_time": "2022-06-06T15:53:32.245Z"
   },
   {
    "duration": 422,
    "start_time": "2022-06-06T15:53:33.055Z"
   },
   {
    "duration": 69,
    "start_time": "2022-06-06T15:53:33.478Z"
   },
   {
    "duration": 15,
    "start_time": "2022-06-06T15:53:33.549Z"
   },
   {
    "duration": 17,
    "start_time": "2022-06-06T15:53:33.566Z"
   },
   {
    "duration": 10,
    "start_time": "2022-06-06T15:53:33.585Z"
   },
   {
    "duration": 32,
    "start_time": "2022-06-06T15:53:33.597Z"
   },
   {
    "duration": 16,
    "start_time": "2022-06-06T15:53:33.631Z"
   },
   {
    "duration": 12,
    "start_time": "2022-06-06T15:53:33.649Z"
   },
   {
    "duration": 74,
    "start_time": "2022-06-06T15:53:33.663Z"
   },
   {
    "duration": 48,
    "start_time": "2022-06-06T15:53:33.738Z"
   },
   {
    "duration": 50,
    "start_time": "2022-06-06T15:53:33.787Z"
   },
   {
    "duration": 13,
    "start_time": "2022-06-06T15:53:33.839Z"
   },
   {
    "duration": 97,
    "start_time": "2022-06-06T15:53:33.855Z"
   },
   {
    "duration": 39,
    "start_time": "2022-06-06T15:53:33.954Z"
   },
   {
    "duration": 47,
    "start_time": "2022-06-06T15:53:33.995Z"
   },
   {
    "duration": 976,
    "start_time": "2022-06-06T15:53:34.076Z"
   },
   {
    "duration": 206,
    "start_time": "2022-06-06T15:53:35.054Z"
   },
   {
    "duration": 15,
    "start_time": "2022-06-06T15:53:35.261Z"
   },
   {
    "duration": 821,
    "start_time": "2022-06-06T15:53:51.323Z"
   },
   {
    "duration": 512,
    "start_time": "2022-06-06T15:53:52.147Z"
   },
   {
    "duration": 78,
    "start_time": "2022-06-06T15:53:52.660Z"
   },
   {
    "duration": 20,
    "start_time": "2022-06-06T15:53:52.740Z"
   },
   {
    "duration": 9,
    "start_time": "2022-06-06T15:53:52.762Z"
   },
   {
    "duration": 12,
    "start_time": "2022-06-06T15:53:52.772Z"
   },
   {
    "duration": 14,
    "start_time": "2022-06-06T15:53:52.785Z"
   },
   {
    "duration": 28,
    "start_time": "2022-06-06T15:53:52.801Z"
   },
   {
    "duration": 7,
    "start_time": "2022-06-06T15:53:52.831Z"
   },
   {
    "duration": 94,
    "start_time": "2022-06-06T15:53:52.841Z"
   },
   {
    "duration": 50,
    "start_time": "2022-06-06T15:53:52.937Z"
   },
   {
    "duration": 67,
    "start_time": "2022-06-06T15:53:52.989Z"
   },
   {
    "duration": 16,
    "start_time": "2022-06-06T15:53:53.058Z"
   },
   {
    "duration": 95,
    "start_time": "2022-06-06T15:53:53.076Z"
   },
   {
    "duration": 55,
    "start_time": "2022-06-06T15:53:53.173Z"
   },
   {
    "duration": 40,
    "start_time": "2022-06-06T15:53:53.231Z"
   },
   {
    "duration": 20,
    "start_time": "2022-06-06T15:53:53.273Z"
   },
   {
    "duration": 35,
    "start_time": "2022-06-06T15:53:53.295Z"
   },
   {
    "duration": 6,
    "start_time": "2022-06-06T15:53:53.331Z"
   },
   {
    "duration": 919,
    "start_time": "2022-06-06T15:53:53.338Z"
   },
   {
    "duration": 243,
    "start_time": "2022-06-06T15:53:54.258Z"
   },
   {
    "duration": 4,
    "start_time": "2022-06-06T15:53:54.503Z"
   },
   {
    "duration": 32,
    "start_time": "2022-06-06T16:01:36.507Z"
   },
   {
    "duration": 39,
    "start_time": "2022-06-06T16:03:00.661Z"
   },
   {
    "duration": 53,
    "start_time": "2022-06-06T16:03:12.291Z"
   },
   {
    "duration": 33,
    "start_time": "2022-06-06T16:03:50.124Z"
   },
   {
    "duration": 90,
    "start_time": "2022-06-06T16:04:19.158Z"
   },
   {
    "duration": 38,
    "start_time": "2022-06-06T16:04:37.675Z"
   },
   {
    "duration": 34,
    "start_time": "2022-06-06T16:05:23.221Z"
   },
   {
    "duration": 306,
    "start_time": "2022-06-06T16:05:53.673Z"
   },
   {
    "duration": 49,
    "start_time": "2022-06-06T16:07:46.618Z"
   },
   {
    "duration": 680,
    "start_time": "2022-06-06T16:07:57.085Z"
   },
   {
    "duration": 924,
    "start_time": "2022-06-06T16:08:12.625Z"
   },
   {
    "duration": 547,
    "start_time": "2022-06-06T16:08:13.551Z"
   },
   {
    "duration": 108,
    "start_time": "2022-06-06T16:08:14.100Z"
   },
   {
    "duration": 25,
    "start_time": "2022-06-06T16:08:14.213Z"
   },
   {
    "duration": 14,
    "start_time": "2022-06-06T16:08:14.241Z"
   },
   {
    "duration": 47,
    "start_time": "2022-06-06T16:08:14.257Z"
   },
   {
    "duration": 12,
    "start_time": "2022-06-06T16:08:14.306Z"
   },
   {
    "duration": 29,
    "start_time": "2022-06-06T16:08:14.320Z"
   },
   {
    "duration": 21,
    "start_time": "2022-06-06T16:08:14.351Z"
   },
   {
    "duration": 118,
    "start_time": "2022-06-06T16:08:14.376Z"
   },
   {
    "duration": 75,
    "start_time": "2022-06-06T16:08:14.497Z"
   },
   {
    "duration": 59,
    "start_time": "2022-06-06T16:08:14.574Z"
   },
   {
    "duration": 23,
    "start_time": "2022-06-06T16:08:14.635Z"
   },
   {
    "duration": 118,
    "start_time": "2022-06-06T16:08:14.661Z"
   },
   {
    "duration": 59,
    "start_time": "2022-06-06T16:08:14.782Z"
   },
   {
    "duration": 43,
    "start_time": "2022-06-06T16:08:14.844Z"
   },
   {
    "duration": 17,
    "start_time": "2022-06-06T16:08:14.890Z"
   },
   {
    "duration": 22,
    "start_time": "2022-06-06T16:08:14.929Z"
   },
   {
    "duration": 25,
    "start_time": "2022-06-06T16:08:14.953Z"
   },
   {
    "duration": 4,
    "start_time": "2022-06-06T16:08:14.980Z"
   },
   {
    "duration": 274,
    "start_time": "2022-06-06T16:08:14.986Z"
   },
   {
    "duration": 3,
    "start_time": "2022-06-06T16:08:15.262Z"
   },
   {
    "duration": 13,
    "start_time": "2022-06-06T16:10:10.240Z"
   },
   {
    "duration": 292,
    "start_time": "2022-06-06T16:24:39.500Z"
   },
   {
    "duration": 37,
    "start_time": "2022-06-06T16:24:47.522Z"
   },
   {
    "duration": 15,
    "start_time": "2022-06-06T16:27:50.917Z"
   },
   {
    "duration": 867,
    "start_time": "2022-06-06T16:30:21.802Z"
   },
   {
    "duration": 465,
    "start_time": "2022-06-06T16:30:22.671Z"
   },
   {
    "duration": 71,
    "start_time": "2022-06-06T16:30:23.138Z"
   },
   {
    "duration": 28,
    "start_time": "2022-06-06T16:30:23.211Z"
   },
   {
    "duration": 9,
    "start_time": "2022-06-06T16:30:23.241Z"
   },
   {
    "duration": 14,
    "start_time": "2022-06-06T16:30:23.252Z"
   },
   {
    "duration": 12,
    "start_time": "2022-06-06T16:30:23.268Z"
   },
   {
    "duration": 16,
    "start_time": "2022-06-06T16:30:23.281Z"
   },
   {
    "duration": 31,
    "start_time": "2022-06-06T16:30:23.299Z"
   },
   {
    "duration": 82,
    "start_time": "2022-06-06T16:30:23.332Z"
   },
   {
    "duration": 55,
    "start_time": "2022-06-06T16:30:23.415Z"
   },
   {
    "duration": 36,
    "start_time": "2022-06-06T16:30:23.472Z"
   },
   {
    "duration": 40,
    "start_time": "2022-06-06T16:30:23.510Z"
   },
   {
    "duration": 88,
    "start_time": "2022-06-06T16:30:23.554Z"
   },
   {
    "duration": 45,
    "start_time": "2022-06-06T16:30:23.643Z"
   },
   {
    "duration": 53,
    "start_time": "2022-06-06T16:30:23.691Z"
   },
   {
    "duration": 19,
    "start_time": "2022-06-06T16:30:23.746Z"
   },
   {
    "duration": 19,
    "start_time": "2022-06-06T16:30:23.767Z"
   },
   {
    "duration": 53,
    "start_time": "2022-06-06T16:30:23.788Z"
   },
   {
    "duration": 19,
    "start_time": "2022-06-06T16:30:23.843Z"
   },
   {
    "duration": 3,
    "start_time": "2022-06-06T16:30:23.864Z"
   },
   {
    "duration": 263,
    "start_time": "2022-06-06T16:30:23.869Z"
   },
   {
    "duration": 3,
    "start_time": "2022-06-06T16:30:24.133Z"
   },
   {
    "duration": 55,
    "start_time": "2022-06-06T16:37:11.368Z"
   },
   {
    "duration": 113,
    "start_time": "2022-06-06T16:37:21.290Z"
   },
   {
    "duration": 86,
    "start_time": "2022-06-06T16:44:56.702Z"
   },
   {
    "duration": 84,
    "start_time": "2022-06-06T16:45:03.134Z"
   },
   {
    "duration": 146,
    "start_time": "2022-06-06T16:45:19.530Z"
   },
   {
    "duration": 44,
    "start_time": "2022-06-06T16:46:20.689Z"
   },
   {
    "duration": 22,
    "start_time": "2022-06-06T16:46:27.206Z"
   },
   {
    "duration": 27,
    "start_time": "2022-06-06T16:46:41.149Z"
   },
   {
    "duration": 893,
    "start_time": "2022-06-06T16:48:52.796Z"
   },
   {
    "duration": 604,
    "start_time": "2022-06-06T16:48:53.691Z"
   },
   {
    "duration": 115,
    "start_time": "2022-06-06T16:48:54.297Z"
   },
   {
    "duration": 29,
    "start_time": "2022-06-06T16:48:54.414Z"
   },
   {
    "duration": 30,
    "start_time": "2022-06-06T16:48:54.447Z"
   },
   {
    "duration": 62,
    "start_time": "2022-06-06T16:48:54.479Z"
   },
   {
    "duration": 79,
    "start_time": "2022-06-06T16:48:54.544Z"
   },
   {
    "duration": 85,
    "start_time": "2022-06-06T16:48:54.626Z"
   },
   {
    "duration": 48,
    "start_time": "2022-06-06T16:48:54.713Z"
   },
   {
    "duration": 121,
    "start_time": "2022-06-06T16:48:54.763Z"
   },
   {
    "duration": 79,
    "start_time": "2022-06-06T16:48:54.886Z"
   },
   {
    "duration": 95,
    "start_time": "2022-06-06T16:48:54.967Z"
   },
   {
    "duration": 24,
    "start_time": "2022-06-06T16:48:55.064Z"
   },
   {
    "duration": 100,
    "start_time": "2022-06-06T16:48:55.092Z"
   },
   {
    "duration": 54,
    "start_time": "2022-06-06T16:48:55.197Z"
   },
   {
    "duration": 43,
    "start_time": "2022-06-06T16:48:55.255Z"
   },
   {
    "duration": 32,
    "start_time": "2022-06-06T16:48:55.302Z"
   },
   {
    "duration": 43,
    "start_time": "2022-06-06T16:48:55.336Z"
   },
   {
    "duration": 33,
    "start_time": "2022-06-06T16:48:55.382Z"
   },
   {
    "duration": 22,
    "start_time": "2022-06-06T16:48:55.418Z"
   },
   {
    "duration": 88,
    "start_time": "2022-06-06T16:48:55.443Z"
   },
   {
    "duration": 7,
    "start_time": "2022-06-06T16:48:55.534Z"
   },
   {
    "duration": 407,
    "start_time": "2022-06-06T16:48:55.543Z"
   },
   {
    "duration": 3,
    "start_time": "2022-06-06T16:48:55.952Z"
   },
   {
    "duration": 19,
    "start_time": "2022-06-06T16:55:38.746Z"
   },
   {
    "duration": 23,
    "start_time": "2022-06-06T16:55:55.383Z"
   },
   {
    "duration": 34,
    "start_time": "2022-06-06T16:56:00.805Z"
   },
   {
    "duration": 14,
    "start_time": "2022-06-06T16:56:07.061Z"
   },
   {
    "duration": 148,
    "start_time": "2022-06-06T16:56:13.163Z"
   },
   {
    "duration": 348,
    "start_time": "2022-06-06T16:57:27.141Z"
   },
   {
    "duration": 135,
    "start_time": "2022-06-06T16:59:36.203Z"
   },
   {
    "duration": 126,
    "start_time": "2022-06-06T16:59:44.793Z"
   },
   {
    "duration": 159,
    "start_time": "2022-06-06T16:59:52.519Z"
   },
   {
    "duration": 35,
    "start_time": "2022-06-06T17:03:03.970Z"
   },
   {
    "duration": 33,
    "start_time": "2022-06-06T17:03:14.386Z"
   },
   {
    "duration": 143,
    "start_time": "2022-06-06T17:06:02.721Z"
   },
   {
    "duration": 28,
    "start_time": "2022-06-06T17:06:21.993Z"
   },
   {
    "duration": 131,
    "start_time": "2022-06-06T17:22:18.770Z"
   },
   {
    "duration": 17,
    "start_time": "2022-06-06T17:22:27.158Z"
   },
   {
    "duration": 22,
    "start_time": "2022-06-06T17:23:54.601Z"
   },
   {
    "duration": 15,
    "start_time": "2022-06-06T17:26:15.038Z"
   },
   {
    "duration": 823,
    "start_time": "2022-06-06T17:26:22.051Z"
   },
   {
    "duration": 496,
    "start_time": "2022-06-06T17:26:22.876Z"
   },
   {
    "duration": 102,
    "start_time": "2022-06-06T17:26:23.375Z"
   },
   {
    "duration": 15,
    "start_time": "2022-06-06T17:26:23.479Z"
   },
   {
    "duration": 11,
    "start_time": "2022-06-06T17:26:23.496Z"
   },
   {
    "duration": 25,
    "start_time": "2022-06-06T17:26:23.509Z"
   },
   {
    "duration": 17,
    "start_time": "2022-06-06T17:26:23.537Z"
   },
   {
    "duration": 21,
    "start_time": "2022-06-06T17:26:23.558Z"
   },
   {
    "duration": 6,
    "start_time": "2022-06-06T17:26:23.581Z"
   },
   {
    "duration": 79,
    "start_time": "2022-06-06T17:26:23.588Z"
   },
   {
    "duration": 77,
    "start_time": "2022-06-06T17:26:23.669Z"
   },
   {
    "duration": 53,
    "start_time": "2022-06-06T17:26:23.748Z"
   },
   {
    "duration": 13,
    "start_time": "2022-06-06T17:26:23.803Z"
   },
   {
    "duration": 75,
    "start_time": "2022-06-06T17:26:23.830Z"
   },
   {
    "duration": 36,
    "start_time": "2022-06-06T17:26:23.907Z"
   },
   {
    "duration": 34,
    "start_time": "2022-06-06T17:26:23.945Z"
   },
   {
    "duration": 16,
    "start_time": "2022-06-06T17:26:23.981Z"
   },
   {
    "duration": 51,
    "start_time": "2022-06-06T17:26:23.999Z"
   },
   {
    "duration": 6,
    "start_time": "2022-06-06T17:26:24.059Z"
   },
   {
    "duration": 1233,
    "start_time": "2022-06-06T17:26:24.066Z"
   },
   {
    "duration": 298,
    "start_time": "2022-06-06T17:26:25.301Z"
   },
   {
    "duration": 30,
    "start_time": "2022-06-06T17:26:25.601Z"
   },
   {
    "duration": 128,
    "start_time": "2022-06-06T17:26:25.633Z"
   },
   {
    "duration": 21,
    "start_time": "2022-06-06T17:27:10.762Z"
   },
   {
    "duration": 1103,
    "start_time": "2022-06-06T17:28:11.464Z"
   },
   {
    "duration": 1263,
    "start_time": "2022-06-06T17:28:31.404Z"
   },
   {
    "duration": 31,
    "start_time": "2022-06-06T17:28:36.005Z"
   },
   {
    "duration": 306,
    "start_time": "2022-06-06T17:29:14.956Z"
   },
   {
    "duration": 137,
    "start_time": "2022-06-06T17:29:24.162Z"
   },
   {
    "duration": 33,
    "start_time": "2022-06-06T17:29:27.054Z"
   },
   {
    "duration": 210,
    "start_time": "2022-06-06T17:30:21.563Z"
   },
   {
    "duration": 31,
    "start_time": "2022-06-06T17:30:30.863Z"
   },
   {
    "duration": 31,
    "start_time": "2022-06-06T17:31:43.364Z"
   },
   {
    "duration": 812,
    "start_time": "2022-06-06T17:31:49.074Z"
   },
   {
    "duration": 917,
    "start_time": "2022-06-06T17:32:02.014Z"
   },
   {
    "duration": 577,
    "start_time": "2022-06-06T17:32:02.933Z"
   },
   {
    "duration": 87,
    "start_time": "2022-06-06T17:32:03.512Z"
   },
   {
    "duration": 17,
    "start_time": "2022-06-06T17:32:03.601Z"
   },
   {
    "duration": 13,
    "start_time": "2022-06-06T17:32:03.633Z"
   },
   {
    "duration": 42,
    "start_time": "2022-06-06T17:32:03.650Z"
   },
   {
    "duration": 20,
    "start_time": "2022-06-06T17:32:03.694Z"
   },
   {
    "duration": 58,
    "start_time": "2022-06-06T17:32:03.716Z"
   },
   {
    "duration": 6,
    "start_time": "2022-06-06T17:32:03.776Z"
   },
   {
    "duration": 86,
    "start_time": "2022-06-06T17:32:03.784Z"
   },
   {
    "duration": 48,
    "start_time": "2022-06-06T17:32:03.872Z"
   },
   {
    "duration": 61,
    "start_time": "2022-06-06T17:32:03.922Z"
   },
   {
    "duration": 31,
    "start_time": "2022-06-06T17:32:03.986Z"
   },
   {
    "duration": 73,
    "start_time": "2022-06-06T17:32:04.021Z"
   },
   {
    "duration": 46,
    "start_time": "2022-06-06T17:32:04.096Z"
   },
   {
    "duration": 35,
    "start_time": "2022-06-06T17:32:04.144Z"
   },
   {
    "duration": 17,
    "start_time": "2022-06-06T17:32:04.182Z"
   },
   {
    "duration": 23,
    "start_time": "2022-06-06T17:32:04.201Z"
   },
   {
    "duration": 31,
    "start_time": "2022-06-06T17:32:04.234Z"
   },
   {
    "duration": 6,
    "start_time": "2022-06-06T17:32:04.269Z"
   },
   {
    "duration": 375,
    "start_time": "2022-06-06T17:32:04.276Z"
   },
   {
    "duration": 129,
    "start_time": "2022-06-06T17:32:04.661Z"
   },
   {
    "duration": 1,
    "start_time": "2022-06-06T17:32:04.792Z"
   },
   {
    "duration": 797,
    "start_time": "2022-06-06T17:55:26.803Z"
   },
   {
    "duration": 5,
    "start_time": "2022-06-06T17:59:25.258Z"
   },
   {
    "duration": 15,
    "start_time": "2022-06-06T17:59:33.894Z"
   },
   {
    "duration": 15,
    "start_time": "2022-06-06T18:00:08.868Z"
   },
   {
    "duration": 16,
    "start_time": "2022-06-06T18:00:14.667Z"
   },
   {
    "duration": 19,
    "start_time": "2022-06-06T18:00:20.222Z"
   },
   {
    "duration": 15,
    "start_time": "2022-06-06T18:00:33.295Z"
   },
   {
    "duration": 886,
    "start_time": "2022-06-06T18:00:40.954Z"
   },
   {
    "duration": 509,
    "start_time": "2022-06-06T18:00:41.845Z"
   },
   {
    "duration": 86,
    "start_time": "2022-06-06T18:00:42.355Z"
   },
   {
    "duration": 26,
    "start_time": "2022-06-06T18:00:42.444Z"
   },
   {
    "duration": 17,
    "start_time": "2022-06-06T18:00:42.473Z"
   },
   {
    "duration": 10,
    "start_time": "2022-06-06T18:00:42.492Z"
   },
   {
    "duration": 26,
    "start_time": "2022-06-06T18:00:42.504Z"
   },
   {
    "duration": 15,
    "start_time": "2022-06-06T18:00:42.532Z"
   },
   {
    "duration": 22,
    "start_time": "2022-06-06T18:00:42.548Z"
   },
   {
    "duration": 88,
    "start_time": "2022-06-06T18:00:42.572Z"
   },
   {
    "duration": 57,
    "start_time": "2022-06-06T18:00:42.663Z"
   },
   {
    "duration": 57,
    "start_time": "2022-06-06T18:00:42.722Z"
   },
   {
    "duration": 14,
    "start_time": "2022-06-06T18:00:42.781Z"
   },
   {
    "duration": 91,
    "start_time": "2022-06-06T18:00:42.798Z"
   },
   {
    "duration": 51,
    "start_time": "2022-06-06T18:00:42.891Z"
   },
   {
    "duration": 37,
    "start_time": "2022-06-06T18:00:42.943Z"
   },
   {
    "duration": 16,
    "start_time": "2022-06-06T18:00:42.982Z"
   },
   {
    "duration": 30,
    "start_time": "2022-06-06T18:00:43.000Z"
   },
   {
    "duration": 13,
    "start_time": "2022-06-06T18:00:43.038Z"
   },
   {
    "duration": 64,
    "start_time": "2022-06-06T18:00:43.054Z"
   },
   {
    "duration": 3,
    "start_time": "2022-06-06T18:00:43.120Z"
   },
   {
    "duration": 339,
    "start_time": "2022-06-06T18:00:43.124Z"
   },
   {
    "duration": 3,
    "start_time": "2022-06-06T18:00:43.465Z"
   },
   {
    "duration": 25,
    "start_time": "2022-06-06T18:04:24.493Z"
   },
   {
    "duration": 1056,
    "start_time": "2022-06-06T18:04:32.164Z"
   },
   {
    "duration": 575,
    "start_time": "2022-06-06T18:04:33.223Z"
   },
   {
    "duration": 102,
    "start_time": "2022-06-06T18:04:33.800Z"
   },
   {
    "duration": 35,
    "start_time": "2022-06-06T18:04:33.904Z"
   },
   {
    "duration": 12,
    "start_time": "2022-06-06T18:04:33.942Z"
   },
   {
    "duration": 24,
    "start_time": "2022-06-06T18:04:33.956Z"
   },
   {
    "duration": 24,
    "start_time": "2022-06-06T18:04:33.982Z"
   },
   {
    "duration": 27,
    "start_time": "2022-06-06T18:04:34.008Z"
   },
   {
    "duration": 68,
    "start_time": "2022-06-06T18:04:34.038Z"
   },
   {
    "duration": 105,
    "start_time": "2022-06-06T18:04:34.108Z"
   },
   {
    "duration": 70,
    "start_time": "2022-06-06T18:04:34.215Z"
   },
   {
    "duration": 74,
    "start_time": "2022-06-06T18:04:34.286Z"
   },
   {
    "duration": 27,
    "start_time": "2022-06-06T18:04:34.365Z"
   },
   {
    "duration": 97,
    "start_time": "2022-06-06T18:04:34.395Z"
   },
   {
    "duration": 39,
    "start_time": "2022-06-06T18:04:34.494Z"
   },
   {
    "duration": 55,
    "start_time": "2022-06-06T18:04:34.535Z"
   },
   {
    "duration": 20,
    "start_time": "2022-06-06T18:04:34.592Z"
   },
   {
    "duration": 29,
    "start_time": "2022-06-06T18:04:34.616Z"
   },
   {
    "duration": 61,
    "start_time": "2022-06-06T18:04:34.652Z"
   },
   {
    "duration": 77,
    "start_time": "2022-06-06T18:04:34.715Z"
   },
   {
    "duration": 3,
    "start_time": "2022-06-06T18:04:34.795Z"
   },
   {
    "duration": 449,
    "start_time": "2022-06-06T18:04:34.800Z"
   },
   {
    "duration": 4,
    "start_time": "2022-06-06T18:04:35.250Z"
   },
   {
    "duration": 290,
    "start_time": "2022-06-06T18:06:21.786Z"
   },
   {
    "duration": 943,
    "start_time": "2022-06-06T18:06:29.659Z"
   },
   {
    "duration": 565,
    "start_time": "2022-06-06T18:06:30.605Z"
   },
   {
    "duration": 85,
    "start_time": "2022-06-06T18:06:31.171Z"
   },
   {
    "duration": 20,
    "start_time": "2022-06-06T18:06:31.257Z"
   },
   {
    "duration": 11,
    "start_time": "2022-06-06T18:06:31.279Z"
   },
   {
    "duration": 15,
    "start_time": "2022-06-06T18:06:31.291Z"
   },
   {
    "duration": 59,
    "start_time": "2022-06-06T18:06:31.308Z"
   },
   {
    "duration": 19,
    "start_time": "2022-06-06T18:06:31.369Z"
   },
   {
    "duration": 13,
    "start_time": "2022-06-06T18:06:31.390Z"
   },
   {
    "duration": 82,
    "start_time": "2022-06-06T18:06:31.404Z"
   },
   {
    "duration": 73,
    "start_time": "2022-06-06T18:06:31.488Z"
   },
   {
    "duration": 40,
    "start_time": "2022-06-06T18:06:31.563Z"
   },
   {
    "duration": 28,
    "start_time": "2022-06-06T18:06:31.605Z"
   },
   {
    "duration": 172,
    "start_time": "2022-06-06T18:06:31.636Z"
   },
   {
    "duration": 0,
    "start_time": "2022-06-06T18:06:31.810Z"
   },
   {
    "duration": 0,
    "start_time": "2022-06-06T18:06:31.811Z"
   },
   {
    "duration": 0,
    "start_time": "2022-06-06T18:06:31.812Z"
   },
   {
    "duration": 0,
    "start_time": "2022-06-06T18:06:31.812Z"
   },
   {
    "duration": 0,
    "start_time": "2022-06-06T18:06:31.813Z"
   },
   {
    "duration": 0,
    "start_time": "2022-06-06T18:06:31.815Z"
   },
   {
    "duration": 0,
    "start_time": "2022-06-06T18:06:31.816Z"
   },
   {
    "duration": 0,
    "start_time": "2022-06-06T18:06:31.817Z"
   },
   {
    "duration": 0,
    "start_time": "2022-06-06T18:06:31.818Z"
   },
   {
    "duration": 4,
    "start_time": "2022-06-06T18:07:00.493Z"
   },
   {
    "duration": 32,
    "start_time": "2022-06-06T18:07:06.594Z"
   },
   {
    "duration": 962,
    "start_time": "2022-06-06T18:07:14.023Z"
   },
   {
    "duration": 508,
    "start_time": "2022-06-06T18:07:14.987Z"
   },
   {
    "duration": 93,
    "start_time": "2022-06-06T18:07:15.497Z"
   },
   {
    "duration": 18,
    "start_time": "2022-06-06T18:07:15.593Z"
   },
   {
    "duration": 32,
    "start_time": "2022-06-06T18:07:15.613Z"
   },
   {
    "duration": 19,
    "start_time": "2022-06-06T18:07:15.650Z"
   },
   {
    "duration": 14,
    "start_time": "2022-06-06T18:07:15.671Z"
   },
   {
    "duration": 13,
    "start_time": "2022-06-06T18:07:15.687Z"
   },
   {
    "duration": 9,
    "start_time": "2022-06-06T18:07:15.702Z"
   },
   {
    "duration": 101,
    "start_time": "2022-06-06T18:07:15.714Z"
   },
   {
    "duration": 70,
    "start_time": "2022-06-06T18:07:15.816Z"
   },
   {
    "duration": 43,
    "start_time": "2022-06-06T18:07:15.888Z"
   },
   {
    "duration": 22,
    "start_time": "2022-06-06T18:07:15.933Z"
   },
   {
    "duration": 50,
    "start_time": "2022-06-06T18:07:15.956Z"
   },
   {
    "duration": 54,
    "start_time": "2022-06-06T18:07:16.008Z"
   },
   {
    "duration": 32,
    "start_time": "2022-06-06T18:07:16.064Z"
   },
   {
    "duration": 15,
    "start_time": "2022-06-06T18:07:16.098Z"
   },
   {
    "duration": 46,
    "start_time": "2022-06-06T18:07:16.115Z"
   },
   {
    "duration": 14,
    "start_time": "2022-06-06T18:07:16.163Z"
   },
   {
    "duration": 17,
    "start_time": "2022-06-06T18:07:16.179Z"
   },
   {
    "duration": 2,
    "start_time": "2022-06-06T18:07:16.198Z"
   },
   {
    "duration": 178,
    "start_time": "2022-06-06T18:07:16.202Z"
   },
   {
    "duration": 0,
    "start_time": "2022-06-06T18:07:16.382Z"
   },
   {
    "duration": 324,
    "start_time": "2022-06-06T18:10:26.553Z"
   },
   {
    "duration": 15,
    "start_time": "2022-06-06T18:11:51.810Z"
   },
   {
    "duration": 22,
    "start_time": "2022-06-06T18:16:23.327Z"
   },
   {
    "duration": 14,
    "start_time": "2022-06-06T18:16:31.358Z"
   },
   {
    "duration": 910,
    "start_time": "2022-06-06T18:16:43.197Z"
   },
   {
    "duration": 582,
    "start_time": "2022-06-06T18:16:44.109Z"
   },
   {
    "duration": 104,
    "start_time": "2022-06-06T18:16:44.693Z"
   },
   {
    "duration": 19,
    "start_time": "2022-06-06T18:16:44.800Z"
   },
   {
    "duration": 26,
    "start_time": "2022-06-06T18:16:44.829Z"
   },
   {
    "duration": 37,
    "start_time": "2022-06-06T18:16:44.861Z"
   },
   {
    "duration": 18,
    "start_time": "2022-06-06T18:16:44.900Z"
   },
   {
    "duration": 39,
    "start_time": "2022-06-06T18:16:44.921Z"
   },
   {
    "duration": 15,
    "start_time": "2022-06-06T18:16:44.963Z"
   },
   {
    "duration": 91,
    "start_time": "2022-06-06T18:16:44.981Z"
   },
   {
    "duration": 55,
    "start_time": "2022-06-06T18:16:45.074Z"
   },
   {
    "duration": 58,
    "start_time": "2022-06-06T18:16:45.142Z"
   },
   {
    "duration": 15,
    "start_time": "2022-06-06T18:16:45.202Z"
   },
   {
    "duration": 56,
    "start_time": "2022-06-06T18:16:45.219Z"
   },
   {
    "duration": 34,
    "start_time": "2022-06-06T18:16:45.277Z"
   },
   {
    "duration": 38,
    "start_time": "2022-06-06T18:16:45.328Z"
   },
   {
    "duration": 16,
    "start_time": "2022-06-06T18:16:45.368Z"
   },
   {
    "duration": 24,
    "start_time": "2022-06-06T18:16:45.386Z"
   },
   {
    "duration": 19,
    "start_time": "2022-06-06T18:16:45.432Z"
   },
   {
    "duration": 23,
    "start_time": "2022-06-06T18:16:45.456Z"
   },
   {
    "duration": 14,
    "start_time": "2022-06-06T18:16:45.481Z"
   },
   {
    "duration": 156,
    "start_time": "2022-06-06T18:16:45.497Z"
   },
   {
    "duration": 0,
    "start_time": "2022-06-06T18:16:45.655Z"
   },
   {
    "duration": 0,
    "start_time": "2022-06-06T18:16:45.658Z"
   },
   {
    "duration": 5,
    "start_time": "2022-06-06T18:40:07.869Z"
   },
   {
    "duration": 21,
    "start_time": "2022-06-06T18:40:17.746Z"
   },
   {
    "duration": 4,
    "start_time": "2022-06-06T18:41:35.271Z"
   },
   {
    "duration": 11,
    "start_time": "2022-06-06T18:41:40.443Z"
   },
   {
    "duration": 927,
    "start_time": "2022-06-06T18:41:59.515Z"
   },
   {
    "duration": 530,
    "start_time": "2022-06-06T18:42:00.444Z"
   },
   {
    "duration": 78,
    "start_time": "2022-06-06T18:42:00.976Z"
   },
   {
    "duration": 16,
    "start_time": "2022-06-06T18:42:01.055Z"
   },
   {
    "duration": 42,
    "start_time": "2022-06-06T18:42:01.074Z"
   },
   {
    "duration": 47,
    "start_time": "2022-06-06T18:42:01.118Z"
   },
   {
    "duration": 19,
    "start_time": "2022-06-06T18:42:01.167Z"
   },
   {
    "duration": 25,
    "start_time": "2022-06-06T18:42:01.188Z"
   },
   {
    "duration": 30,
    "start_time": "2022-06-06T18:42:01.214Z"
   },
   {
    "duration": 93,
    "start_time": "2022-06-06T18:42:01.246Z"
   },
   {
    "duration": 55,
    "start_time": "2022-06-06T18:42:01.343Z"
   },
   {
    "duration": 66,
    "start_time": "2022-06-06T18:42:01.400Z"
   },
   {
    "duration": 16,
    "start_time": "2022-06-06T18:42:01.467Z"
   },
   {
    "duration": 51,
    "start_time": "2022-06-06T18:42:01.487Z"
   },
   {
    "duration": 33,
    "start_time": "2022-06-06T18:42:01.540Z"
   },
   {
    "duration": 30,
    "start_time": "2022-06-06T18:42:01.575Z"
   },
   {
    "duration": 42,
    "start_time": "2022-06-06T18:42:01.606Z"
   },
   {
    "duration": 18,
    "start_time": "2022-06-06T18:42:01.650Z"
   },
   {
    "duration": 10,
    "start_time": "2022-06-06T18:42:01.670Z"
   },
   {
    "duration": 17,
    "start_time": "2022-06-06T18:42:01.682Z"
   },
   {
    "duration": 46,
    "start_time": "2022-06-06T18:42:01.701Z"
   },
   {
    "duration": 20,
    "start_time": "2022-06-06T18:42:01.748Z"
   },
   {
    "duration": 299,
    "start_time": "2022-06-06T18:42:01.770Z"
   },
   {
    "duration": 4,
    "start_time": "2022-06-06T18:42:02.071Z"
   },
   {
    "duration": 108,
    "start_time": "2022-06-06T18:42:43.480Z"
   },
   {
    "duration": 882,
    "start_time": "2022-06-06T18:42:49.143Z"
   },
   {
    "duration": 491,
    "start_time": "2022-06-06T18:42:50.027Z"
   },
   {
    "duration": 90,
    "start_time": "2022-06-06T18:42:50.520Z"
   },
   {
    "duration": 37,
    "start_time": "2022-06-06T18:42:50.612Z"
   },
   {
    "duration": 30,
    "start_time": "2022-06-06T18:42:50.652Z"
   },
   {
    "duration": 29,
    "start_time": "2022-06-06T18:42:50.685Z"
   },
   {
    "duration": 12,
    "start_time": "2022-06-06T18:42:50.716Z"
   },
   {
    "duration": 38,
    "start_time": "2022-06-06T18:42:50.730Z"
   },
   {
    "duration": 7,
    "start_time": "2022-06-06T18:42:50.770Z"
   },
   {
    "duration": 76,
    "start_time": "2022-06-06T18:42:50.779Z"
   },
   {
    "duration": 54,
    "start_time": "2022-06-06T18:42:50.857Z"
   },
   {
    "duration": 59,
    "start_time": "2022-06-06T18:42:50.913Z"
   },
   {
    "duration": 15,
    "start_time": "2022-06-06T18:42:50.974Z"
   },
   {
    "duration": 75,
    "start_time": "2022-06-06T18:42:50.992Z"
   },
   {
    "duration": 33,
    "start_time": "2022-06-06T18:42:51.068Z"
   },
   {
    "duration": 56,
    "start_time": "2022-06-06T18:42:51.103Z"
   },
   {
    "duration": 16,
    "start_time": "2022-06-06T18:42:51.161Z"
   },
   {
    "duration": 18,
    "start_time": "2022-06-06T18:42:51.179Z"
   },
   {
    "duration": 46,
    "start_time": "2022-06-06T18:42:51.199Z"
   },
   {
    "duration": 30,
    "start_time": "2022-06-06T18:42:51.246Z"
   },
   {
    "duration": 22,
    "start_time": "2022-06-06T18:42:51.281Z"
   },
   {
    "duration": 259,
    "start_time": "2022-06-06T18:42:51.305Z"
   },
   {
    "duration": 3,
    "start_time": "2022-06-06T18:42:51.565Z"
   },
   {
    "duration": 111,
    "start_time": "2022-06-06T18:46:59.544Z"
   },
   {
    "duration": 5,
    "start_time": "2022-06-06T18:47:10.095Z"
   },
   {
    "duration": 27,
    "start_time": "2022-06-06T18:47:22.981Z"
   },
   {
    "duration": 17,
    "start_time": "2022-06-06T18:48:26.341Z"
   },
   {
    "duration": 21,
    "start_time": "2022-06-06T18:48:30.606Z"
   },
   {
    "duration": 793,
    "start_time": "2022-06-06T19:45:46.272Z"
   },
   {
    "duration": 444,
    "start_time": "2022-06-06T19:45:47.067Z"
   },
   {
    "duration": 72,
    "start_time": "2022-06-06T19:45:47.513Z"
   },
   {
    "duration": 19,
    "start_time": "2022-06-06T19:45:47.586Z"
   },
   {
    "duration": 30,
    "start_time": "2022-06-06T19:45:47.607Z"
   },
   {
    "duration": 15,
    "start_time": "2022-06-06T19:45:47.640Z"
   },
   {
    "duration": 16,
    "start_time": "2022-06-06T19:45:47.657Z"
   },
   {
    "duration": 20,
    "start_time": "2022-06-06T19:45:47.675Z"
   },
   {
    "duration": 16,
    "start_time": "2022-06-06T19:45:47.697Z"
   },
   {
    "duration": 80,
    "start_time": "2022-06-06T19:45:47.714Z"
   },
   {
    "duration": 60,
    "start_time": "2022-06-06T19:45:47.795Z"
   },
   {
    "duration": 39,
    "start_time": "2022-06-06T19:45:47.857Z"
   },
   {
    "duration": 30,
    "start_time": "2022-06-06T19:45:47.898Z"
   },
   {
    "duration": 42,
    "start_time": "2022-06-06T19:45:47.931Z"
   },
   {
    "duration": 32,
    "start_time": "2022-06-06T19:45:47.974Z"
   },
   {
    "duration": 33,
    "start_time": "2022-06-06T19:45:48.029Z"
   },
   {
    "duration": 15,
    "start_time": "2022-06-06T19:45:48.063Z"
   },
   {
    "duration": 17,
    "start_time": "2022-06-06T19:45:48.080Z"
   },
   {
    "duration": 39,
    "start_time": "2022-06-06T19:45:48.098Z"
   },
   {
    "duration": 20,
    "start_time": "2022-06-06T19:45:48.138Z"
   },
   {
    "duration": 8,
    "start_time": "2022-06-06T19:45:48.160Z"
   },
   {
    "duration": 113,
    "start_time": "2022-06-06T19:45:48.170Z"
   },
   {
    "duration": 0,
    "start_time": "2022-06-06T19:45:48.285Z"
   },
   {
    "duration": 0,
    "start_time": "2022-06-06T19:45:48.286Z"
   },
   {
    "duration": 0,
    "start_time": "2022-06-06T19:48:10.794Z"
   },
   {
    "duration": 0,
    "start_time": "2022-06-06T19:48:10.795Z"
   },
   {
    "duration": 0,
    "start_time": "2022-06-06T19:48:10.796Z"
   },
   {
    "duration": 0,
    "start_time": "2022-06-06T19:48:10.798Z"
   },
   {
    "duration": 0,
    "start_time": "2022-06-06T19:48:10.799Z"
   },
   {
    "duration": 0,
    "start_time": "2022-06-06T19:48:10.801Z"
   },
   {
    "duration": 0,
    "start_time": "2022-06-06T19:48:10.802Z"
   },
   {
    "duration": 0,
    "start_time": "2022-06-06T19:48:10.803Z"
   },
   {
    "duration": 0,
    "start_time": "2022-06-06T19:48:10.804Z"
   },
   {
    "duration": 0,
    "start_time": "2022-06-06T19:48:10.829Z"
   },
   {
    "duration": 0,
    "start_time": "2022-06-06T19:48:10.832Z"
   },
   {
    "duration": 0,
    "start_time": "2022-06-06T19:48:10.834Z"
   },
   {
    "duration": 0,
    "start_time": "2022-06-06T19:48:10.836Z"
   },
   {
    "duration": 0,
    "start_time": "2022-06-06T19:48:10.837Z"
   },
   {
    "duration": 0,
    "start_time": "2022-06-06T19:48:10.839Z"
   },
   {
    "duration": 0,
    "start_time": "2022-06-06T19:48:10.840Z"
   },
   {
    "duration": 0,
    "start_time": "2022-06-06T19:48:10.842Z"
   },
   {
    "duration": 0,
    "start_time": "2022-06-06T19:48:10.843Z"
   },
   {
    "duration": 0,
    "start_time": "2022-06-06T19:48:10.845Z"
   },
   {
    "duration": 0,
    "start_time": "2022-06-06T19:48:10.847Z"
   },
   {
    "duration": 0,
    "start_time": "2022-06-06T19:48:10.848Z"
   },
   {
    "duration": 0,
    "start_time": "2022-06-06T19:48:10.850Z"
   },
   {
    "duration": 0,
    "start_time": "2022-06-06T19:48:10.851Z"
   },
   {
    "duration": 0,
    "start_time": "2022-06-06T19:48:10.854Z"
   },
   {
    "duration": 883,
    "start_time": "2022-06-06T19:48:24.163Z"
   },
   {
    "duration": 460,
    "start_time": "2022-06-06T19:48:25.048Z"
   },
   {
    "duration": 77,
    "start_time": "2022-06-06T19:48:25.511Z"
   },
   {
    "duration": 19,
    "start_time": "2022-06-06T19:48:25.591Z"
   },
   {
    "duration": 23,
    "start_time": "2022-06-06T19:48:25.611Z"
   },
   {
    "duration": 19,
    "start_time": "2022-06-06T19:48:25.637Z"
   },
   {
    "duration": 24,
    "start_time": "2022-06-06T19:48:25.659Z"
   },
   {
    "duration": 34,
    "start_time": "2022-06-06T19:48:25.685Z"
   },
   {
    "duration": 27,
    "start_time": "2022-06-06T19:48:25.721Z"
   },
   {
    "duration": 82,
    "start_time": "2022-06-06T19:48:25.751Z"
   },
   {
    "duration": 54,
    "start_time": "2022-06-06T19:48:25.836Z"
   },
   {
    "duration": 65,
    "start_time": "2022-06-06T19:48:25.892Z"
   },
   {
    "duration": 17,
    "start_time": "2022-06-06T19:48:25.959Z"
   },
   {
    "duration": 61,
    "start_time": "2022-06-06T19:48:25.978Z"
   },
   {
    "duration": 34,
    "start_time": "2022-06-06T19:48:26.040Z"
   },
   {
    "duration": 54,
    "start_time": "2022-06-06T19:48:26.076Z"
   },
   {
    "duration": 17,
    "start_time": "2022-06-06T19:48:26.132Z"
   },
   {
    "duration": 24,
    "start_time": "2022-06-06T19:48:26.151Z"
   },
   {
    "duration": 15,
    "start_time": "2022-06-06T19:48:26.178Z"
   },
   {
    "duration": 54,
    "start_time": "2022-06-06T19:48:26.195Z"
   },
   {
    "duration": 13,
    "start_time": "2022-06-06T19:48:26.251Z"
   },
   {
    "duration": 124,
    "start_time": "2022-06-06T19:48:26.266Z"
   },
   {
    "duration": 0,
    "start_time": "2022-06-06T19:48:26.392Z"
   },
   {
    "duration": 0,
    "start_time": "2022-06-06T19:48:26.393Z"
   },
   {
    "duration": 15,
    "start_time": "2022-06-06T19:48:51.395Z"
   },
   {
    "duration": 14,
    "start_time": "2022-06-06T19:48:57.708Z"
   },
   {
    "duration": 15,
    "start_time": "2022-06-06T19:50:14.031Z"
   },
   {
    "duration": 16,
    "start_time": "2022-06-06T19:50:51.914Z"
   },
   {
    "duration": 902,
    "start_time": "2022-06-06T19:51:01.845Z"
   },
   {
    "duration": 462,
    "start_time": "2022-06-06T19:51:02.748Z"
   },
   {
    "duration": 72,
    "start_time": "2022-06-06T19:51:03.212Z"
   },
   {
    "duration": 16,
    "start_time": "2022-06-06T19:51:03.287Z"
   },
   {
    "duration": 25,
    "start_time": "2022-06-06T19:51:03.304Z"
   },
   {
    "duration": 11,
    "start_time": "2022-06-06T19:51:03.331Z"
   },
   {
    "duration": 13,
    "start_time": "2022-06-06T19:51:03.343Z"
   },
   {
    "duration": 21,
    "start_time": "2022-06-06T19:51:03.358Z"
   },
   {
    "duration": 20,
    "start_time": "2022-06-06T19:51:03.381Z"
   },
   {
    "duration": 82,
    "start_time": "2022-06-06T19:51:03.404Z"
   },
   {
    "duration": 58,
    "start_time": "2022-06-06T19:51:03.487Z"
   },
   {
    "duration": 40,
    "start_time": "2022-06-06T19:51:03.546Z"
   },
   {
    "duration": 13,
    "start_time": "2022-06-06T19:51:03.588Z"
   },
   {
    "duration": 70,
    "start_time": "2022-06-06T19:51:03.603Z"
   },
   {
    "duration": 35,
    "start_time": "2022-06-06T19:51:03.675Z"
   },
   {
    "duration": 48,
    "start_time": "2022-06-06T19:51:03.712Z"
   },
   {
    "duration": 15,
    "start_time": "2022-06-06T19:51:03.761Z"
   },
   {
    "duration": 16,
    "start_time": "2022-06-06T19:51:03.778Z"
   },
   {
    "duration": 35,
    "start_time": "2022-06-06T19:51:03.796Z"
   },
   {
    "duration": 27,
    "start_time": "2022-06-06T19:51:03.833Z"
   },
   {
    "duration": 9,
    "start_time": "2022-06-06T19:51:03.861Z"
   },
   {
    "duration": 117,
    "start_time": "2022-06-06T19:51:03.872Z"
   },
   {
    "duration": 0,
    "start_time": "2022-06-06T19:51:03.991Z"
   },
   {
    "duration": 0,
    "start_time": "2022-06-06T19:51:03.992Z"
   },
   {
    "duration": 14,
    "start_time": "2022-06-06T19:52:28.047Z"
   },
   {
    "duration": 15,
    "start_time": "2022-06-06T19:52:34.808Z"
   },
   {
    "duration": 828,
    "start_time": "2022-06-06T19:52:39.647Z"
   },
   {
    "duration": 465,
    "start_time": "2022-06-06T19:52:40.477Z"
   },
   {
    "duration": 71,
    "start_time": "2022-06-06T19:52:40.944Z"
   },
   {
    "duration": 27,
    "start_time": "2022-06-06T19:52:41.016Z"
   },
   {
    "duration": 10,
    "start_time": "2022-06-06T19:52:41.046Z"
   },
   {
    "duration": 20,
    "start_time": "2022-06-06T19:52:41.058Z"
   },
   {
    "duration": 21,
    "start_time": "2022-06-06T19:52:41.079Z"
   },
   {
    "duration": 13,
    "start_time": "2022-06-06T19:52:41.102Z"
   },
   {
    "duration": 7,
    "start_time": "2022-06-06T19:52:41.117Z"
   },
   {
    "duration": 74,
    "start_time": "2022-06-06T19:52:41.134Z"
   },
   {
    "duration": 54,
    "start_time": "2022-06-06T19:52:41.209Z"
   },
   {
    "duration": 37,
    "start_time": "2022-06-06T19:52:41.265Z"
   },
   {
    "duration": 35,
    "start_time": "2022-06-06T19:52:41.303Z"
   },
   {
    "duration": 42,
    "start_time": "2022-06-06T19:52:41.342Z"
   },
   {
    "duration": 30,
    "start_time": "2022-06-06T19:52:41.386Z"
   },
   {
    "duration": 34,
    "start_time": "2022-06-06T19:52:41.433Z"
   },
   {
    "duration": 16,
    "start_time": "2022-06-06T19:52:41.469Z"
   },
   {
    "duration": 54,
    "start_time": "2022-06-06T19:52:41.487Z"
   },
   {
    "duration": 11,
    "start_time": "2022-06-06T19:52:41.544Z"
   },
   {
    "duration": 18,
    "start_time": "2022-06-06T19:52:41.557Z"
   },
   {
    "duration": 9,
    "start_time": "2022-06-06T19:52:41.577Z"
   },
   {
    "duration": 125,
    "start_time": "2022-06-06T19:52:41.588Z"
   },
   {
    "duration": 0,
    "start_time": "2022-06-06T19:52:41.715Z"
   },
   {
    "duration": 0,
    "start_time": "2022-06-06T19:52:41.716Z"
   },
   {
    "duration": 18,
    "start_time": "2022-06-06T19:53:53.830Z"
   },
   {
    "duration": 871,
    "start_time": "2022-06-06T19:54:13.350Z"
   },
   {
    "duration": 525,
    "start_time": "2022-06-06T19:54:14.223Z"
   },
   {
    "duration": 84,
    "start_time": "2022-06-06T19:54:14.750Z"
   },
   {
    "duration": 16,
    "start_time": "2022-06-06T19:54:14.836Z"
   },
   {
    "duration": 12,
    "start_time": "2022-06-06T19:54:14.854Z"
   },
   {
    "duration": 19,
    "start_time": "2022-06-06T19:54:14.868Z"
   },
   {
    "duration": 15,
    "start_time": "2022-06-06T19:54:14.888Z"
   },
   {
    "duration": 36,
    "start_time": "2022-06-06T19:54:14.905Z"
   },
   {
    "duration": 16,
    "start_time": "2022-06-06T19:54:14.943Z"
   },
   {
    "duration": 83,
    "start_time": "2022-06-06T19:54:14.962Z"
   },
   {
    "duration": 60,
    "start_time": "2022-06-06T19:54:15.048Z"
   },
   {
    "duration": 60,
    "start_time": "2022-06-06T19:54:15.111Z"
   },
   {
    "duration": 16,
    "start_time": "2022-06-06T19:54:15.173Z"
   },
   {
    "duration": 69,
    "start_time": "2022-06-06T19:54:15.191Z"
   },
   {
    "duration": 33,
    "start_time": "2022-06-06T19:54:15.262Z"
   },
   {
    "duration": 59,
    "start_time": "2022-06-06T19:54:15.298Z"
   },
   {
    "duration": 18,
    "start_time": "2022-06-06T19:54:15.359Z"
   },
   {
    "duration": 18,
    "start_time": "2022-06-06T19:54:15.380Z"
   },
   {
    "duration": 38,
    "start_time": "2022-06-06T19:54:15.400Z"
   },
   {
    "duration": 16,
    "start_time": "2022-06-06T19:54:15.440Z"
   },
   {
    "duration": 10,
    "start_time": "2022-06-06T19:54:15.458Z"
   },
   {
    "duration": 136,
    "start_time": "2022-06-06T19:54:15.470Z"
   },
   {
    "duration": 0,
    "start_time": "2022-06-06T19:54:15.608Z"
   },
   {
    "duration": 0,
    "start_time": "2022-06-06T19:54:15.610Z"
   },
   {
    "duration": 14,
    "start_time": "2022-06-06T19:55:45.287Z"
   },
   {
    "duration": 867,
    "start_time": "2022-06-06T19:55:54.047Z"
   },
   {
    "duration": 444,
    "start_time": "2022-06-06T19:55:54.916Z"
   },
   {
    "duration": 72,
    "start_time": "2022-06-06T19:55:55.362Z"
   },
   {
    "duration": 19,
    "start_time": "2022-06-06T19:55:55.436Z"
   },
   {
    "duration": 13,
    "start_time": "2022-06-06T19:55:55.458Z"
   },
   {
    "duration": 15,
    "start_time": "2022-06-06T19:55:55.473Z"
   },
   {
    "duration": 12,
    "start_time": "2022-06-06T19:55:55.490Z"
   },
   {
    "duration": 12,
    "start_time": "2022-06-06T19:55:55.528Z"
   },
   {
    "duration": 10,
    "start_time": "2022-06-06T19:55:55.541Z"
   },
   {
    "duration": 90,
    "start_time": "2022-06-06T19:55:55.553Z"
   },
   {
    "duration": 53,
    "start_time": "2022-06-06T19:55:55.645Z"
   },
   {
    "duration": 53,
    "start_time": "2022-06-06T19:55:55.700Z"
   },
   {
    "duration": 14,
    "start_time": "2022-06-06T19:55:55.755Z"
   },
   {
    "duration": 60,
    "start_time": "2022-06-06T19:55:55.771Z"
   },
   {
    "duration": 32,
    "start_time": "2022-06-06T19:55:55.832Z"
   },
   {
    "duration": 29,
    "start_time": "2022-06-06T19:55:55.866Z"
   },
   {
    "duration": 39,
    "start_time": "2022-06-06T19:55:55.897Z"
   },
   {
    "duration": 15,
    "start_time": "2022-06-06T19:55:55.938Z"
   },
   {
    "duration": 14,
    "start_time": "2022-06-06T19:55:55.954Z"
   },
   {
    "duration": 35,
    "start_time": "2022-06-06T19:55:55.969Z"
   },
   {
    "duration": 116,
    "start_time": "2022-06-06T19:55:56.006Z"
   },
   {
    "duration": 0,
    "start_time": "2022-06-06T19:55:56.124Z"
   },
   {
    "duration": 0,
    "start_time": "2022-06-06T19:55:56.125Z"
   },
   {
    "duration": 0,
    "start_time": "2022-06-06T19:55:56.128Z"
   },
   {
    "duration": 14,
    "start_time": "2022-06-06T19:56:42.377Z"
   },
   {
    "duration": 14,
    "start_time": "2022-06-06T19:57:21.809Z"
   },
   {
    "duration": 853,
    "start_time": "2022-06-06T19:57:31.373Z"
   },
   {
    "duration": 533,
    "start_time": "2022-06-06T19:57:32.228Z"
   },
   {
    "duration": 83,
    "start_time": "2022-06-06T19:57:32.763Z"
   },
   {
    "duration": 18,
    "start_time": "2022-06-06T19:57:32.848Z"
   },
   {
    "duration": 13,
    "start_time": "2022-06-06T19:57:32.868Z"
   },
   {
    "duration": 13,
    "start_time": "2022-06-06T19:57:32.883Z"
   },
   {
    "duration": 32,
    "start_time": "2022-06-06T19:57:32.898Z"
   },
   {
    "duration": 18,
    "start_time": "2022-06-06T19:57:32.932Z"
   },
   {
    "duration": 15,
    "start_time": "2022-06-06T19:57:32.952Z"
   },
   {
    "duration": 76,
    "start_time": "2022-06-06T19:57:32.968Z"
   },
   {
    "duration": 60,
    "start_time": "2022-06-06T19:57:33.046Z"
   },
   {
    "duration": 67,
    "start_time": "2022-06-06T19:57:33.108Z"
   },
   {
    "duration": 13,
    "start_time": "2022-06-06T19:57:33.177Z"
   },
   {
    "duration": 61,
    "start_time": "2022-06-06T19:57:33.193Z"
   },
   {
    "duration": 32,
    "start_time": "2022-06-06T19:57:33.255Z"
   },
   {
    "duration": 58,
    "start_time": "2022-06-06T19:57:33.289Z"
   },
   {
    "duration": 19,
    "start_time": "2022-06-06T19:57:33.349Z"
   },
   {
    "duration": 18,
    "start_time": "2022-06-06T19:57:33.370Z"
   },
   {
    "duration": 9,
    "start_time": "2022-06-06T19:57:33.390Z"
   },
   {
    "duration": 35,
    "start_time": "2022-06-06T19:57:33.401Z"
   },
   {
    "duration": 111,
    "start_time": "2022-06-06T19:57:33.438Z"
   },
   {
    "duration": 0,
    "start_time": "2022-06-06T19:57:33.551Z"
   },
   {
    "duration": 0,
    "start_time": "2022-06-06T19:57:33.552Z"
   },
   {
    "duration": 0,
    "start_time": "2022-06-06T19:57:33.554Z"
   },
   {
    "duration": 9,
    "start_time": "2022-06-06T20:07:35.587Z"
   },
   {
    "duration": 4,
    "start_time": "2022-06-06T20:07:50.617Z"
   },
   {
    "duration": 10,
    "start_time": "2022-06-06T20:07:58.680Z"
   },
   {
    "duration": 6,
    "start_time": "2022-06-06T20:08:16.850Z"
   },
   {
    "duration": 16,
    "start_time": "2022-06-06T20:08:27.372Z"
   },
   {
    "duration": 9,
    "start_time": "2022-06-06T20:09:11.420Z"
   },
   {
    "duration": 7,
    "start_time": "2022-06-06T20:09:16.089Z"
   },
   {
    "duration": 913,
    "start_time": "2022-06-06T20:09:25.550Z"
   },
   {
    "duration": 453,
    "start_time": "2022-06-06T20:09:26.465Z"
   },
   {
    "duration": 74,
    "start_time": "2022-06-06T20:09:26.920Z"
   },
   {
    "duration": 18,
    "start_time": "2022-06-06T20:09:26.996Z"
   },
   {
    "duration": 21,
    "start_time": "2022-06-06T20:09:27.016Z"
   },
   {
    "duration": 17,
    "start_time": "2022-06-06T20:09:27.039Z"
   },
   {
    "duration": 17,
    "start_time": "2022-06-06T20:09:27.057Z"
   },
   {
    "duration": 17,
    "start_time": "2022-06-06T20:09:27.076Z"
   },
   {
    "duration": 5,
    "start_time": "2022-06-06T20:09:27.095Z"
   },
   {
    "duration": 86,
    "start_time": "2022-06-06T20:09:27.102Z"
   },
   {
    "duration": 65,
    "start_time": "2022-06-06T20:09:27.190Z"
   },
   {
    "duration": 41,
    "start_time": "2022-06-06T20:09:27.257Z"
   },
   {
    "duration": 30,
    "start_time": "2022-06-06T20:09:27.300Z"
   },
   {
    "duration": 47,
    "start_time": "2022-06-06T20:09:27.333Z"
   },
   {
    "duration": 55,
    "start_time": "2022-06-06T20:09:27.382Z"
   },
   {
    "duration": 34,
    "start_time": "2022-06-06T20:09:27.439Z"
   },
   {
    "duration": 15,
    "start_time": "2022-06-06T20:09:27.475Z"
   },
   {
    "duration": 47,
    "start_time": "2022-06-06T20:09:27.492Z"
   },
   {
    "duration": 10,
    "start_time": "2022-06-06T20:09:27.541Z"
   },
   {
    "duration": 17,
    "start_time": "2022-06-06T20:09:27.553Z"
   },
   {
    "duration": 11,
    "start_time": "2022-06-06T20:09:27.571Z"
   },
   {
    "duration": 19,
    "start_time": "2022-06-06T20:09:27.584Z"
   },
   {
    "duration": 320,
    "start_time": "2022-06-06T20:09:27.605Z"
   },
   {
    "duration": 3,
    "start_time": "2022-06-06T20:09:27.927Z"
   },
   {
    "duration": 240,
    "start_time": "2022-06-06T20:11:07.882Z"
   },
   {
    "duration": 41,
    "start_time": "2022-06-06T20:11:24.502Z"
   },
   {
    "duration": 36,
    "start_time": "2022-06-06T20:11:42.751Z"
   },
   {
    "duration": 32,
    "start_time": "2022-06-06T20:12:04.657Z"
   },
   {
    "duration": 149,
    "start_time": "2022-06-06T20:14:00.855Z"
   },
   {
    "duration": 13,
    "start_time": "2022-06-06T20:14:37.122Z"
   },
   {
    "duration": 14,
    "start_time": "2022-06-06T20:14:42.350Z"
   },
   {
    "duration": 16,
    "start_time": "2022-06-06T20:14:46.893Z"
   },
   {
    "duration": 15,
    "start_time": "2022-06-06T20:15:42.673Z"
   },
   {
    "duration": 849,
    "start_time": "2022-06-06T20:15:47.952Z"
   },
   {
    "duration": 445,
    "start_time": "2022-06-06T20:15:48.803Z"
   },
   {
    "duration": 73,
    "start_time": "2022-06-06T20:15:49.249Z"
   },
   {
    "duration": 17,
    "start_time": "2022-06-06T20:15:49.324Z"
   },
   {
    "duration": 18,
    "start_time": "2022-06-06T20:15:49.343Z"
   },
   {
    "duration": 16,
    "start_time": "2022-06-06T20:15:49.362Z"
   },
   {
    "duration": 22,
    "start_time": "2022-06-06T20:15:49.380Z"
   },
   {
    "duration": 18,
    "start_time": "2022-06-06T20:15:49.403Z"
   },
   {
    "duration": 8,
    "start_time": "2022-06-06T20:15:49.424Z"
   },
   {
    "duration": 76,
    "start_time": "2022-06-06T20:15:49.434Z"
   },
   {
    "duration": 55,
    "start_time": "2022-06-06T20:15:49.512Z"
   },
   {
    "duration": 38,
    "start_time": "2022-06-06T20:15:49.569Z"
   },
   {
    "duration": 30,
    "start_time": "2022-06-06T20:15:49.609Z"
   },
   {
    "duration": 50,
    "start_time": "2022-06-06T20:15:49.642Z"
   },
   {
    "duration": 52,
    "start_time": "2022-06-06T20:15:49.694Z"
   },
   {
    "duration": 33,
    "start_time": "2022-06-06T20:15:49.748Z"
   },
   {
    "duration": 13,
    "start_time": "2022-06-06T20:15:49.782Z"
   },
   {
    "duration": 38,
    "start_time": "2022-06-06T20:15:49.797Z"
   },
   {
    "duration": 10,
    "start_time": "2022-06-06T20:15:49.837Z"
   },
   {
    "duration": 12,
    "start_time": "2022-06-06T20:15:49.849Z"
   },
   {
    "duration": 16,
    "start_time": "2022-06-06T20:15:49.863Z"
   },
   {
    "duration": 6,
    "start_time": "2022-06-06T20:15:49.881Z"
   },
   {
    "duration": 167,
    "start_time": "2022-06-06T20:15:49.889Z"
   },
   {
    "duration": 0,
    "start_time": "2022-06-06T20:15:50.058Z"
   },
   {
    "duration": 27,
    "start_time": "2022-06-06T20:22:03.037Z"
   },
   {
    "duration": 894,
    "start_time": "2022-06-06T20:22:14.219Z"
   },
   {
    "duration": 447,
    "start_time": "2022-06-06T20:22:15.115Z"
   },
   {
    "duration": 73,
    "start_time": "2022-06-06T20:22:15.564Z"
   },
   {
    "duration": 16,
    "start_time": "2022-06-06T20:22:15.639Z"
   },
   {
    "duration": 15,
    "start_time": "2022-06-06T20:22:15.657Z"
   },
   {
    "duration": 18,
    "start_time": "2022-06-06T20:22:15.674Z"
   },
   {
    "duration": 14,
    "start_time": "2022-06-06T20:22:15.694Z"
   },
   {
    "duration": 29,
    "start_time": "2022-06-06T20:22:15.710Z"
   },
   {
    "duration": 7,
    "start_time": "2022-06-06T20:22:15.740Z"
   },
   {
    "duration": 83,
    "start_time": "2022-06-06T20:22:15.748Z"
   },
   {
    "duration": 53,
    "start_time": "2022-06-06T20:22:15.833Z"
   },
   {
    "duration": 62,
    "start_time": "2022-06-06T20:22:15.887Z"
   },
   {
    "duration": 15,
    "start_time": "2022-06-06T20:22:15.951Z"
   },
   {
    "duration": 64,
    "start_time": "2022-06-06T20:22:15.969Z"
   },
   {
    "duration": 34,
    "start_time": "2022-06-06T20:22:16.035Z"
   },
   {
    "duration": 35,
    "start_time": "2022-06-06T20:22:16.070Z"
   },
   {
    "duration": 32,
    "start_time": "2022-06-06T20:22:16.107Z"
   },
   {
    "duration": 15,
    "start_time": "2022-06-06T20:22:16.141Z"
   },
   {
    "duration": 9,
    "start_time": "2022-06-06T20:22:16.158Z"
   },
   {
    "duration": 20,
    "start_time": "2022-06-06T20:22:16.169Z"
   },
   {
    "duration": 38,
    "start_time": "2022-06-06T20:22:16.191Z"
   },
   {
    "duration": 24,
    "start_time": "2022-06-06T20:22:16.231Z"
   },
   {
    "duration": 276,
    "start_time": "2022-06-06T20:22:16.256Z"
   },
   {
    "duration": 2,
    "start_time": "2022-06-06T20:22:16.534Z"
   },
   {
    "duration": 272,
    "start_time": "2022-06-06T20:23:10.970Z"
   },
   {
    "duration": 26,
    "start_time": "2022-06-06T20:23:32.178Z"
   },
   {
    "duration": 894,
    "start_time": "2022-06-07T11:46:56.386Z"
   },
   {
    "duration": 929,
    "start_time": "2022-06-07T11:46:57.282Z"
   },
   {
    "duration": 74,
    "start_time": "2022-06-07T11:46:58.212Z"
   },
   {
    "duration": 16,
    "start_time": "2022-06-07T11:46:58.287Z"
   },
   {
    "duration": 24,
    "start_time": "2022-06-07T11:46:58.306Z"
   },
   {
    "duration": 26,
    "start_time": "2022-06-07T11:46:58.332Z"
   },
   {
    "duration": 19,
    "start_time": "2022-06-07T11:46:58.360Z"
   },
   {
    "duration": 22,
    "start_time": "2022-06-07T11:46:58.381Z"
   },
   {
    "duration": 7,
    "start_time": "2022-06-07T11:46:58.404Z"
   },
   {
    "duration": 70,
    "start_time": "2022-06-07T11:46:58.412Z"
   },
   {
    "duration": 58,
    "start_time": "2022-06-07T11:46:58.484Z"
   },
   {
    "duration": 40,
    "start_time": "2022-06-07T11:46:58.544Z"
   },
   {
    "duration": 15,
    "start_time": "2022-06-07T11:46:58.586Z"
   },
   {
    "duration": 63,
    "start_time": "2022-06-07T11:46:58.604Z"
   },
   {
    "duration": 36,
    "start_time": "2022-06-07T11:46:58.669Z"
   },
   {
    "duration": 48,
    "start_time": "2022-06-07T11:46:58.707Z"
   },
   {
    "duration": 15,
    "start_time": "2022-06-07T11:46:58.757Z"
   },
   {
    "duration": 16,
    "start_time": "2022-06-07T11:46:58.774Z"
   },
   {
    "duration": 10,
    "start_time": "2022-06-07T11:46:58.791Z"
   },
   {
    "duration": 14,
    "start_time": "2022-06-07T11:46:58.827Z"
   },
   {
    "duration": 8,
    "start_time": "2022-06-07T11:46:58.843Z"
   },
   {
    "duration": 22,
    "start_time": "2022-06-07T11:46:58.852Z"
   },
   {
    "duration": 295,
    "start_time": "2022-06-07T11:46:58.875Z"
   },
   {
    "duration": 3,
    "start_time": "2022-06-07T11:46:59.171Z"
   },
   {
    "duration": 102,
    "start_time": "2022-06-07T11:56:26.454Z"
   },
   {
    "duration": 13,
    "start_time": "2022-06-07T11:56:40.857Z"
   },
   {
    "duration": 29,
    "start_time": "2022-06-07T11:56:55.450Z"
   },
   {
    "duration": 40,
    "start_time": "2022-06-07T11:57:38.858Z"
   },
   {
    "duration": 60,
    "start_time": "2022-06-07T11:58:06.611Z"
   },
   {
    "duration": 42,
    "start_time": "2022-06-07T11:58:12.007Z"
   },
   {
    "duration": 824,
    "start_time": "2022-06-07T11:58:17.679Z"
   },
   {
    "duration": 465,
    "start_time": "2022-06-07T11:58:18.506Z"
   },
   {
    "duration": 75,
    "start_time": "2022-06-07T11:58:18.973Z"
   },
   {
    "duration": 18,
    "start_time": "2022-06-07T11:58:19.050Z"
   },
   {
    "duration": 10,
    "start_time": "2022-06-07T11:58:19.070Z"
   },
   {
    "duration": 18,
    "start_time": "2022-06-07T11:58:19.082Z"
   },
   {
    "duration": 27,
    "start_time": "2022-06-07T11:58:19.102Z"
   },
   {
    "duration": 19,
    "start_time": "2022-06-07T11:58:19.132Z"
   },
   {
    "duration": 3,
    "start_time": "2022-06-07T11:58:19.153Z"
   },
   {
    "duration": 103,
    "start_time": "2022-06-07T11:58:19.160Z"
   },
   {
    "duration": 61,
    "start_time": "2022-06-07T11:58:19.265Z"
   },
   {
    "duration": 45,
    "start_time": "2022-06-07T11:58:19.328Z"
   },
   {
    "duration": 17,
    "start_time": "2022-06-07T11:58:19.375Z"
   },
   {
    "duration": 84,
    "start_time": "2022-06-07T11:58:19.393Z"
   },
   {
    "duration": 34,
    "start_time": "2022-06-07T11:58:19.479Z"
   },
   {
    "duration": 47,
    "start_time": "2022-06-07T11:58:19.515Z"
   },
   {
    "duration": 14,
    "start_time": "2022-06-07T11:58:19.563Z"
   },
   {
    "duration": 15,
    "start_time": "2022-06-07T11:58:19.579Z"
   },
   {
    "duration": 32,
    "start_time": "2022-06-07T11:58:19.596Z"
   },
   {
    "duration": 24,
    "start_time": "2022-06-07T11:58:19.630Z"
   },
   {
    "duration": 12,
    "start_time": "2022-06-07T11:58:19.655Z"
   },
   {
    "duration": 34,
    "start_time": "2022-06-07T11:58:19.669Z"
   },
   {
    "duration": 286,
    "start_time": "2022-06-07T11:58:19.705Z"
   },
   {
    "duration": 3,
    "start_time": "2022-06-07T11:58:19.994Z"
   },
   {
    "duration": 64,
    "start_time": "2022-06-07T11:58:19.999Z"
   },
   {
    "duration": 1301,
    "start_time": "2022-06-07T12:00:08.979Z"
   },
   {
    "duration": 324,
    "start_time": "2022-06-07T12:02:17.492Z"
   },
   {
    "duration": 52,
    "start_time": "2022-06-07T12:02:32.067Z"
   },
   {
    "duration": 210,
    "start_time": "2022-06-07T12:04:23.492Z"
   },
   {
    "duration": 42,
    "start_time": "2022-06-07T12:04:45.878Z"
   },
   {
    "duration": 61,
    "start_time": "2022-06-07T12:05:52.124Z"
   },
   {
    "duration": 742,
    "start_time": "2022-06-07T12:05:56.823Z"
   },
   {
    "duration": 31,
    "start_time": "2022-06-07T12:16:47.939Z"
   },
   {
    "duration": 27,
    "start_time": "2022-06-07T12:16:58.060Z"
   },
   {
    "duration": 12,
    "start_time": "2022-06-07T12:19:37.312Z"
   },
   {
    "duration": 12,
    "start_time": "2022-06-07T12:22:09.475Z"
   },
   {
    "duration": 889,
    "start_time": "2022-06-07T12:22:26.618Z"
   },
   {
    "duration": 476,
    "start_time": "2022-06-07T12:22:27.509Z"
   },
   {
    "duration": 84,
    "start_time": "2022-06-07T12:22:27.987Z"
   },
   {
    "duration": 15,
    "start_time": "2022-06-07T12:22:28.073Z"
   },
   {
    "duration": 26,
    "start_time": "2022-06-07T12:22:28.090Z"
   },
   {
    "duration": 21,
    "start_time": "2022-06-07T12:22:28.118Z"
   },
   {
    "duration": 24,
    "start_time": "2022-06-07T12:22:28.141Z"
   },
   {
    "duration": 16,
    "start_time": "2022-06-07T12:22:28.166Z"
   },
   {
    "duration": 7,
    "start_time": "2022-06-07T12:22:28.184Z"
   },
   {
    "duration": 82,
    "start_time": "2022-06-07T12:22:28.193Z"
   },
   {
    "duration": 59,
    "start_time": "2022-06-07T12:22:28.277Z"
   },
   {
    "duration": 37,
    "start_time": "2022-06-07T12:22:28.338Z"
   },
   {
    "duration": 14,
    "start_time": "2022-06-07T12:22:28.376Z"
   },
   {
    "duration": 62,
    "start_time": "2022-06-07T12:22:28.391Z"
   },
   {
    "duration": 31,
    "start_time": "2022-06-07T12:22:28.454Z"
   },
   {
    "duration": 45,
    "start_time": "2022-06-07T12:22:28.487Z"
   },
   {
    "duration": 18,
    "start_time": "2022-06-07T12:22:28.533Z"
   },
   {
    "duration": 21,
    "start_time": "2022-06-07T12:22:28.553Z"
   },
   {
    "duration": 21,
    "start_time": "2022-06-07T12:22:28.576Z"
   },
   {
    "duration": 37,
    "start_time": "2022-06-07T12:22:28.599Z"
   },
   {
    "duration": 31,
    "start_time": "2022-06-07T12:22:28.638Z"
   },
   {
    "duration": 10,
    "start_time": "2022-06-07T12:22:28.671Z"
   },
   {
    "duration": 23,
    "start_time": "2022-06-07T12:22:28.683Z"
   },
   {
    "duration": 296,
    "start_time": "2022-06-07T12:22:28.708Z"
   },
   {
    "duration": 12,
    "start_time": "2022-06-07T12:22:29.006Z"
   },
   {
    "duration": 54,
    "start_time": "2022-06-07T12:22:29.020Z"
   },
   {
    "duration": 55,
    "start_time": "2022-06-07T12:22:29.075Z"
   },
   {
    "duration": 1009,
    "start_time": "2022-06-07T12:22:29.135Z"
   },
   {
    "duration": 5,
    "start_time": "2022-06-07T12:23:19.910Z"
   },
   {
    "duration": 15,
    "start_time": "2022-06-07T12:23:29.004Z"
   },
   {
    "duration": 932,
    "start_time": "2022-06-07T12:24:04.147Z"
   },
   {
    "duration": 463,
    "start_time": "2022-06-07T12:24:05.081Z"
   },
   {
    "duration": 71,
    "start_time": "2022-06-07T12:24:05.546Z"
   },
   {
    "duration": 29,
    "start_time": "2022-06-07T12:24:05.620Z"
   },
   {
    "duration": 19,
    "start_time": "2022-06-07T12:24:05.651Z"
   },
   {
    "duration": 18,
    "start_time": "2022-06-07T12:24:05.672Z"
   },
   {
    "duration": 27,
    "start_time": "2022-06-07T12:24:05.692Z"
   },
   {
    "duration": 40,
    "start_time": "2022-06-07T12:24:05.721Z"
   },
   {
    "duration": 14,
    "start_time": "2022-06-07T12:24:05.763Z"
   },
   {
    "duration": 77,
    "start_time": "2022-06-07T12:24:05.780Z"
   },
   {
    "duration": 79,
    "start_time": "2022-06-07T12:24:05.860Z"
   },
   {
    "duration": 44,
    "start_time": "2022-06-07T12:24:05.946Z"
   },
   {
    "duration": 28,
    "start_time": "2022-06-07T12:24:05.992Z"
   },
   {
    "duration": 84,
    "start_time": "2022-06-07T12:24:06.022Z"
   },
   {
    "duration": 37,
    "start_time": "2022-06-07T12:24:06.108Z"
   },
   {
    "duration": 39,
    "start_time": "2022-06-07T12:24:06.147Z"
   },
   {
    "duration": 17,
    "start_time": "2022-06-07T12:24:06.188Z"
   },
   {
    "duration": 50,
    "start_time": "2022-06-07T12:24:06.207Z"
   },
   {
    "duration": 13,
    "start_time": "2022-06-07T12:24:06.258Z"
   },
   {
    "duration": 18,
    "start_time": "2022-06-07T12:24:06.273Z"
   },
   {
    "duration": 22,
    "start_time": "2022-06-07T12:24:06.292Z"
   },
   {
    "duration": 34,
    "start_time": "2022-06-07T12:24:06.316Z"
   },
   {
    "duration": 20,
    "start_time": "2022-06-07T12:24:06.352Z"
   },
   {
    "duration": 22,
    "start_time": "2022-06-07T12:24:06.374Z"
   },
   {
    "duration": 267,
    "start_time": "2022-06-07T12:24:06.397Z"
   },
   {
    "duration": 12,
    "start_time": "2022-06-07T12:24:06.665Z"
   },
   {
    "duration": 29,
    "start_time": "2022-06-07T12:24:06.678Z"
   },
   {
    "duration": 60,
    "start_time": "2022-06-07T12:24:06.710Z"
   },
   {
    "duration": 971,
    "start_time": "2022-06-07T12:24:06.772Z"
   },
   {
    "duration": 29,
    "start_time": "2022-06-07T12:24:39.060Z"
   },
   {
    "duration": 12,
    "start_time": "2022-06-07T12:25:05.813Z"
   },
   {
    "duration": 48,
    "start_time": "2022-06-07T12:25:14.513Z"
   },
   {
    "duration": 38,
    "start_time": "2022-06-07T12:25:38.517Z"
   },
   {
    "duration": 30,
    "start_time": "2022-06-07T12:26:35.369Z"
   },
   {
    "duration": 27,
    "start_time": "2022-06-07T12:28:03.451Z"
   },
   {
    "duration": 25,
    "start_time": "2022-06-07T12:34:55.658Z"
   },
   {
    "duration": 26,
    "start_time": "2022-06-07T12:36:35.667Z"
   },
   {
    "duration": 19,
    "start_time": "2022-06-07T12:36:40.157Z"
   },
   {
    "duration": 30,
    "start_time": "2022-06-07T12:36:57.668Z"
   },
   {
    "duration": 23,
    "start_time": "2022-06-07T12:38:16.526Z"
   },
   {
    "duration": 9,
    "start_time": "2022-06-07T12:38:45.307Z"
   },
   {
    "duration": 26,
    "start_time": "2022-06-07T13:03:59.171Z"
   },
   {
    "duration": 1099,
    "start_time": "2022-06-07T13:04:27.111Z"
   },
   {
    "duration": 733,
    "start_time": "2022-06-07T13:04:28.212Z"
   },
   {
    "duration": 149,
    "start_time": "2022-06-07T13:04:28.947Z"
   },
   {
    "duration": 45,
    "start_time": "2022-06-07T13:04:29.099Z"
   },
   {
    "duration": 17,
    "start_time": "2022-06-07T13:04:29.153Z"
   },
   {
    "duration": 49,
    "start_time": "2022-06-07T13:04:29.174Z"
   },
   {
    "duration": 133,
    "start_time": "2022-06-07T13:04:29.226Z"
   },
   {
    "duration": 137,
    "start_time": "2022-06-07T13:04:29.362Z"
   },
   {
    "duration": 182,
    "start_time": "2022-06-07T13:04:29.502Z"
   },
   {
    "duration": 136,
    "start_time": "2022-06-07T13:04:29.687Z"
   },
   {
    "duration": 120,
    "start_time": "2022-06-07T13:04:29.825Z"
   },
   {
    "duration": 235,
    "start_time": "2022-06-07T13:04:29.947Z"
   },
   {
    "duration": 64,
    "start_time": "2022-06-07T13:04:30.184Z"
   },
   {
    "duration": 136,
    "start_time": "2022-06-07T13:04:30.268Z"
   },
   {
    "duration": 85,
    "start_time": "2022-06-07T13:04:30.413Z"
   },
   {
    "duration": 104,
    "start_time": "2022-06-07T13:04:30.502Z"
   },
   {
    "duration": 59,
    "start_time": "2022-06-07T13:04:30.609Z"
   },
   {
    "duration": 169,
    "start_time": "2022-06-07T13:04:30.670Z"
   },
   {
    "duration": 131,
    "start_time": "2022-06-07T13:04:30.843Z"
   },
   {
    "duration": 121,
    "start_time": "2022-06-07T13:04:30.988Z"
   },
   {
    "duration": 129,
    "start_time": "2022-06-07T13:04:31.113Z"
   },
   {
    "duration": 201,
    "start_time": "2022-06-07T13:04:31.244Z"
   },
   {
    "duration": 72,
    "start_time": "2022-06-07T13:04:31.448Z"
   },
   {
    "duration": 119,
    "start_time": "2022-06-07T13:04:31.523Z"
   },
   {
    "duration": 536,
    "start_time": "2022-06-07T13:04:31.646Z"
   },
   {
    "duration": 11,
    "start_time": "2022-06-07T13:04:32.185Z"
   },
   {
    "duration": 0,
    "start_time": "2022-06-07T13:04:32.200Z"
   },
   {
    "duration": 0,
    "start_time": "2022-06-07T13:04:32.202Z"
   },
   {
    "duration": 0,
    "start_time": "2022-06-07T13:04:32.204Z"
   },
   {
    "duration": 6,
    "start_time": "2022-06-07T13:04:56.495Z"
   },
   {
    "duration": 238,
    "start_time": "2022-06-07T13:05:03.872Z"
   },
   {
    "duration": 49,
    "start_time": "2022-06-07T13:06:06.814Z"
   },
   {
    "duration": 47,
    "start_time": "2022-06-07T13:06:33.913Z"
   },
   {
    "duration": 54,
    "start_time": "2022-06-07T13:08:54.178Z"
   },
   {
    "duration": 43,
    "start_time": "2022-06-07T13:25:27.682Z"
   },
   {
    "duration": 1219,
    "start_time": "2022-06-07T13:26:33.616Z"
   },
   {
    "duration": 90,
    "start_time": "2022-06-07T13:27:07.804Z"
   },
   {
    "duration": 5,
    "start_time": "2022-06-07T13:27:13.316Z"
   },
   {
    "duration": 43,
    "start_time": "2022-06-07T13:27:21.271Z"
   },
   {
    "duration": 754,
    "start_time": "2022-06-07T13:27:24.420Z"
   },
   {
    "duration": 615,
    "start_time": "2022-06-07T13:27:59.371Z"
   },
   {
    "duration": 1053,
    "start_time": "2022-06-07T13:29:04.223Z"
   },
   {
    "duration": 1069,
    "start_time": "2022-06-07T13:29:16.563Z"
   },
   {
    "duration": 1572,
    "start_time": "2022-06-07T13:30:32.323Z"
   },
   {
    "duration": 1438,
    "start_time": "2022-06-07T13:31:17.475Z"
   },
   {
    "duration": 1094,
    "start_time": "2022-06-07T13:34:02.604Z"
   },
   {
    "duration": 1282,
    "start_time": "2022-06-07T13:36:02.961Z"
   },
   {
    "duration": 27,
    "start_time": "2022-06-07T13:38:22.587Z"
   },
   {
    "duration": 23,
    "start_time": "2022-06-07T13:38:28.499Z"
   },
   {
    "duration": 21,
    "start_time": "2022-06-07T13:40:38.214Z"
   },
   {
    "duration": 291,
    "start_time": "2022-06-07T13:44:08.202Z"
   },
   {
    "duration": 224,
    "start_time": "2022-06-07T13:44:20.599Z"
   },
   {
    "duration": 32,
    "start_time": "2022-06-07T13:45:09.269Z"
   },
   {
    "duration": 29,
    "start_time": "2022-06-07T13:45:53.883Z"
   },
   {
    "duration": 425,
    "start_time": "2022-06-07T13:46:06.923Z"
   },
   {
    "duration": 81,
    "start_time": "2022-06-07T13:47:36.322Z"
   },
   {
    "duration": 79,
    "start_time": "2022-06-07T13:47:42.040Z"
   },
   {
    "duration": 41,
    "start_time": "2022-06-07T13:48:44.620Z"
   },
   {
    "duration": 1408,
    "start_time": "2022-06-07T13:49:22.906Z"
   },
   {
    "duration": 688,
    "start_time": "2022-06-07T13:49:24.316Z"
   },
   {
    "duration": 180,
    "start_time": "2022-06-07T13:49:25.006Z"
   },
   {
    "duration": 17,
    "start_time": "2022-06-07T13:49:25.188Z"
   },
   {
    "duration": 27,
    "start_time": "2022-06-07T13:49:25.208Z"
   },
   {
    "duration": 80,
    "start_time": "2022-06-07T13:49:25.236Z"
   },
   {
    "duration": 24,
    "start_time": "2022-06-07T13:49:25.317Z"
   },
   {
    "duration": 56,
    "start_time": "2022-06-07T13:49:25.344Z"
   },
   {
    "duration": 10,
    "start_time": "2022-06-07T13:49:25.402Z"
   },
   {
    "duration": 134,
    "start_time": "2022-06-07T13:49:25.414Z"
   },
   {
    "duration": 61,
    "start_time": "2022-06-07T13:49:25.557Z"
   },
   {
    "duration": 70,
    "start_time": "2022-06-07T13:49:25.619Z"
   },
   {
    "duration": 13,
    "start_time": "2022-06-07T13:49:25.691Z"
   },
   {
    "duration": 50,
    "start_time": "2022-06-07T13:49:25.708Z"
   },
   {
    "duration": 50,
    "start_time": "2022-06-07T13:49:25.760Z"
   },
   {
    "duration": 44,
    "start_time": "2022-06-07T13:49:25.811Z"
   },
   {
    "duration": 33,
    "start_time": "2022-06-07T13:49:25.857Z"
   },
   {
    "duration": 16,
    "start_time": "2022-06-07T13:49:25.892Z"
   },
   {
    "duration": 12,
    "start_time": "2022-06-07T13:49:25.910Z"
   },
   {
    "duration": 23,
    "start_time": "2022-06-07T13:49:25.924Z"
   },
   {
    "duration": 45,
    "start_time": "2022-06-07T13:49:25.949Z"
   },
   {
    "duration": 17,
    "start_time": "2022-06-07T13:49:25.996Z"
   },
   {
    "duration": 8,
    "start_time": "2022-06-07T13:49:26.015Z"
   },
   {
    "duration": 66,
    "start_time": "2022-06-07T13:49:26.032Z"
   },
   {
    "duration": 311,
    "start_time": "2022-06-07T13:49:26.099Z"
   },
   {
    "duration": 33,
    "start_time": "2022-06-07T13:49:26.411Z"
   },
   {
    "duration": 59,
    "start_time": "2022-06-07T13:49:26.446Z"
   },
   {
    "duration": 148,
    "start_time": "2022-06-07T13:49:26.507Z"
   },
   {
    "duration": 1389,
    "start_time": "2022-06-07T13:49:58.036Z"
   },
   {
    "duration": 618,
    "start_time": "2022-06-07T13:49:59.429Z"
   },
   {
    "duration": 138,
    "start_time": "2022-06-07T13:50:00.049Z"
   },
   {
    "duration": 14,
    "start_time": "2022-06-07T13:50:00.190Z"
   },
   {
    "duration": 31,
    "start_time": "2022-06-07T13:50:00.207Z"
   },
   {
    "duration": 52,
    "start_time": "2022-06-07T13:50:00.244Z"
   },
   {
    "duration": 27,
    "start_time": "2022-06-07T13:50:00.297Z"
   },
   {
    "duration": 79,
    "start_time": "2022-06-07T13:50:00.331Z"
   },
   {
    "duration": 95,
    "start_time": "2022-06-07T13:50:00.412Z"
   },
   {
    "duration": 169,
    "start_time": "2022-06-07T13:50:00.509Z"
   },
   {
    "duration": 80,
    "start_time": "2022-06-07T13:50:00.681Z"
   },
   {
    "duration": 53,
    "start_time": "2022-06-07T13:50:00.766Z"
   },
   {
    "duration": 52,
    "start_time": "2022-06-07T13:50:00.821Z"
   },
   {
    "duration": 97,
    "start_time": "2022-06-07T13:50:00.876Z"
   },
   {
    "duration": 34,
    "start_time": "2022-06-07T13:50:00.981Z"
   },
   {
    "duration": 55,
    "start_time": "2022-06-07T13:50:01.017Z"
   },
   {
    "duration": 94,
    "start_time": "2022-06-07T13:50:01.074Z"
   },
   {
    "duration": 159,
    "start_time": "2022-06-07T13:50:01.169Z"
   },
   {
    "duration": 161,
    "start_time": "2022-06-07T13:50:01.330Z"
   },
   {
    "duration": 48,
    "start_time": "2022-06-07T13:50:01.495Z"
   },
   {
    "duration": 66,
    "start_time": "2022-06-07T13:50:01.545Z"
   },
   {
    "duration": 77,
    "start_time": "2022-06-07T13:50:01.613Z"
   },
   {
    "duration": 38,
    "start_time": "2022-06-07T13:50:01.692Z"
   },
   {
    "duration": 139,
    "start_time": "2022-06-07T13:50:01.733Z"
   },
   {
    "duration": 459,
    "start_time": "2022-06-07T13:50:01.874Z"
   },
   {
    "duration": 35,
    "start_time": "2022-06-07T13:50:02.335Z"
   },
   {
    "duration": 76,
    "start_time": "2022-06-07T13:50:02.374Z"
   },
   {
    "duration": 553,
    "start_time": "2022-06-07T13:50:02.455Z"
   },
   {
    "duration": 28,
    "start_time": "2022-06-07T13:53:21.951Z"
   },
   {
    "duration": 331,
    "start_time": "2022-06-07T13:54:37.618Z"
   },
   {
    "duration": 32,
    "start_time": "2022-06-07T13:56:21.666Z"
   },
   {
    "duration": 366,
    "start_time": "2022-06-07T13:57:32.323Z"
   },
   {
    "duration": 331,
    "start_time": "2022-06-07T13:58:03.067Z"
   },
   {
    "duration": 338,
    "start_time": "2022-06-07T14:01:09.065Z"
   },
   {
    "duration": 322,
    "start_time": "2022-06-07T14:01:32.480Z"
   },
   {
    "duration": 404,
    "start_time": "2022-06-07T14:01:46.003Z"
   },
   {
    "duration": 402,
    "start_time": "2022-06-07T14:01:59.202Z"
   },
   {
    "duration": 351,
    "start_time": "2022-06-07T14:02:05.671Z"
   },
   {
    "duration": 44,
    "start_time": "2022-06-07T14:25:00.364Z"
   },
   {
    "duration": 39,
    "start_time": "2022-06-07T14:25:11.871Z"
   },
   {
    "duration": 228,
    "start_time": "2022-06-07T14:25:24.095Z"
   },
   {
    "duration": 172,
    "start_time": "2022-06-07T14:31:10.787Z"
   },
   {
    "duration": 17,
    "start_time": "2022-06-07T14:31:23.193Z"
   },
   {
    "duration": 28,
    "start_time": "2022-06-07T14:31:40.161Z"
   },
   {
    "duration": 37,
    "start_time": "2022-06-07T14:33:12.156Z"
   },
   {
    "duration": 43,
    "start_time": "2022-06-07T14:34:23.573Z"
   },
   {
    "duration": 12,
    "start_time": "2022-06-07T14:35:26.220Z"
   },
   {
    "duration": 16,
    "start_time": "2022-06-07T14:35:37.161Z"
   },
   {
    "duration": 43,
    "start_time": "2022-06-07T14:35:43.321Z"
   },
   {
    "duration": 12,
    "start_time": "2022-06-07T14:36:35.001Z"
   },
   {
    "duration": 25,
    "start_time": "2022-06-07T14:36:39.866Z"
   },
   {
    "duration": 27,
    "start_time": "2022-06-07T14:37:37.991Z"
   },
   {
    "duration": 30,
    "start_time": "2022-06-07T14:38:31.669Z"
   },
   {
    "duration": 1190,
    "start_time": "2022-06-07T14:39:24.084Z"
   },
   {
    "duration": 1181,
    "start_time": "2022-06-07T14:39:45.596Z"
   },
   {
    "duration": 25,
    "start_time": "2022-06-07T14:42:09.198Z"
   },
   {
    "duration": 28,
    "start_time": "2022-06-07T14:43:17.853Z"
   },
   {
    "duration": 27,
    "start_time": "2022-06-07T14:43:45.266Z"
   },
   {
    "duration": 334,
    "start_time": "2022-06-07T14:45:10.200Z"
   },
   {
    "duration": 918,
    "start_time": "2022-06-07T14:45:38.268Z"
   },
   {
    "duration": 1023,
    "start_time": "2022-06-07T14:46:08.667Z"
   },
   {
    "duration": 79,
    "start_time": "2022-06-07T14:56:23.102Z"
   },
   {
    "duration": 1409,
    "start_time": "2022-06-07T14:56:36.306Z"
   },
   {
    "duration": 597,
    "start_time": "2022-06-07T14:56:37.717Z"
   },
   {
    "duration": 107,
    "start_time": "2022-06-07T14:56:38.317Z"
   },
   {
    "duration": 47,
    "start_time": "2022-06-07T14:56:38.426Z"
   },
   {
    "duration": 13,
    "start_time": "2022-06-07T14:56:38.482Z"
   },
   {
    "duration": 13,
    "start_time": "2022-06-07T14:56:38.497Z"
   },
   {
    "duration": 11,
    "start_time": "2022-06-07T14:56:38.513Z"
   },
   {
    "duration": 69,
    "start_time": "2022-06-07T14:56:38.529Z"
   },
   {
    "duration": 21,
    "start_time": "2022-06-07T14:56:38.600Z"
   },
   {
    "duration": 124,
    "start_time": "2022-06-07T14:56:38.623Z"
   },
   {
    "duration": 63,
    "start_time": "2022-06-07T14:56:38.749Z"
   },
   {
    "duration": 62,
    "start_time": "2022-06-07T14:56:38.814Z"
   },
   {
    "duration": 25,
    "start_time": "2022-06-07T14:56:38.878Z"
   },
   {
    "duration": 69,
    "start_time": "2022-06-07T14:56:38.907Z"
   },
   {
    "duration": 36,
    "start_time": "2022-06-07T14:56:38.978Z"
   },
   {
    "duration": 43,
    "start_time": "2022-06-07T14:56:39.031Z"
   },
   {
    "duration": 18,
    "start_time": "2022-06-07T14:56:39.078Z"
   },
   {
    "duration": 40,
    "start_time": "2022-06-07T14:56:39.097Z"
   },
   {
    "duration": 33,
    "start_time": "2022-06-07T14:56:39.139Z"
   },
   {
    "duration": 16,
    "start_time": "2022-06-07T14:56:39.174Z"
   },
   {
    "duration": 10,
    "start_time": "2022-06-07T14:56:39.191Z"
   },
   {
    "duration": 18,
    "start_time": "2022-06-07T14:56:39.202Z"
   },
   {
    "duration": 28,
    "start_time": "2022-06-07T14:56:39.222Z"
   },
   {
    "duration": 35,
    "start_time": "2022-06-07T14:56:39.256Z"
   },
   {
    "duration": 303,
    "start_time": "2022-06-07T14:56:39.293Z"
   },
   {
    "duration": 30,
    "start_time": "2022-06-07T14:56:39.598Z"
   },
   {
    "duration": 175,
    "start_time": "2022-06-07T14:56:39.630Z"
   },
   {
    "duration": 0,
    "start_time": "2022-06-07T14:56:39.806Z"
   },
   {
    "duration": 0,
    "start_time": "2022-06-07T14:56:39.807Z"
   },
   {
    "duration": 0,
    "start_time": "2022-06-07T14:56:39.808Z"
   },
   {
    "duration": 0,
    "start_time": "2022-06-07T14:56:39.809Z"
   },
   {
    "duration": 0,
    "start_time": "2022-06-07T14:56:39.810Z"
   },
   {
    "duration": 0,
    "start_time": "2022-06-07T14:56:39.811Z"
   },
   {
    "duration": 42,
    "start_time": "2022-06-07T14:57:26.618Z"
   },
   {
    "duration": 605,
    "start_time": "2022-06-07T14:58:01.371Z"
   },
   {
    "duration": 1362,
    "start_time": "2022-06-07T14:58:43.774Z"
   },
   {
    "duration": 565,
    "start_time": "2022-06-07T14:58:45.138Z"
   },
   {
    "duration": 97,
    "start_time": "2022-06-07T14:58:45.705Z"
   },
   {
    "duration": 12,
    "start_time": "2022-06-07T14:58:45.804Z"
   },
   {
    "duration": 53,
    "start_time": "2022-06-07T14:58:45.835Z"
   },
   {
    "duration": 12,
    "start_time": "2022-06-07T14:58:45.890Z"
   },
   {
    "duration": 15,
    "start_time": "2022-06-07T14:58:45.903Z"
   },
   {
    "duration": 62,
    "start_time": "2022-06-07T14:58:45.920Z"
   },
   {
    "duration": 16,
    "start_time": "2022-06-07T14:58:45.984Z"
   },
   {
    "duration": 89,
    "start_time": "2022-06-07T14:58:46.001Z"
   },
   {
    "duration": 66,
    "start_time": "2022-06-07T14:58:46.091Z"
   },
   {
    "duration": 44,
    "start_time": "2022-06-07T14:58:46.163Z"
   },
   {
    "duration": 14,
    "start_time": "2022-06-07T14:58:46.209Z"
   },
   {
    "duration": 98,
    "start_time": "2022-06-07T14:58:46.225Z"
   },
   {
    "duration": 53,
    "start_time": "2022-06-07T14:58:46.324Z"
   },
   {
    "duration": 40,
    "start_time": "2022-06-07T14:58:46.379Z"
   },
   {
    "duration": 27,
    "start_time": "2022-06-07T14:58:46.421Z"
   },
   {
    "duration": 48,
    "start_time": "2022-06-07T14:58:46.450Z"
   },
   {
    "duration": 11,
    "start_time": "2022-06-07T14:58:46.500Z"
   },
   {
    "duration": 45,
    "start_time": "2022-06-07T14:58:46.512Z"
   },
   {
    "duration": 50,
    "start_time": "2022-06-07T14:58:46.558Z"
   },
   {
    "duration": 34,
    "start_time": "2022-06-07T14:58:46.610Z"
   },
   {
    "duration": 26,
    "start_time": "2022-06-07T14:58:46.646Z"
   },
   {
    "duration": 37,
    "start_time": "2022-06-07T14:58:46.674Z"
   },
   {
    "duration": 331,
    "start_time": "2022-06-07T14:58:46.712Z"
   },
   {
    "duration": 33,
    "start_time": "2022-06-07T14:58:47.045Z"
   },
   {
    "duration": 37,
    "start_time": "2022-06-07T14:58:47.081Z"
   },
   {
    "duration": 442,
    "start_time": "2022-06-07T14:58:47.120Z"
   },
   {
    "duration": 32,
    "start_time": "2022-06-07T14:58:47.568Z"
   },
   {
    "duration": 301,
    "start_time": "2022-06-07T14:58:47.602Z"
   },
   {
    "duration": 61,
    "start_time": "2022-06-07T14:58:47.905Z"
   },
   {
    "duration": 338,
    "start_time": "2022-06-07T14:58:47.972Z"
   },
   {
    "duration": 137,
    "start_time": "2022-06-07T15:03:18.271Z"
   },
   {
    "duration": 138,
    "start_time": "2022-06-07T15:03:23.155Z"
   },
   {
    "duration": 116,
    "start_time": "2022-06-07T15:04:02.752Z"
   },
   {
    "duration": 669,
    "start_time": "2022-06-07T15:06:21.061Z"
   },
   {
    "duration": 156,
    "start_time": "2022-06-07T15:06:30.077Z"
   },
   {
    "duration": 182,
    "start_time": "2022-06-07T15:08:39.858Z"
   },
   {
    "duration": 13,
    "start_time": "2022-06-07T15:24:00.789Z"
   },
   {
    "duration": 13,
    "start_time": "2022-06-07T15:24:59.395Z"
   },
   {
    "duration": 1254,
    "start_time": "2022-06-07T16:24:42.693Z"
   },
   {
    "duration": 463,
    "start_time": "2022-06-07T16:24:43.950Z"
   },
   {
    "duration": 103,
    "start_time": "2022-06-07T16:24:44.416Z"
   },
   {
    "duration": 17,
    "start_time": "2022-06-07T16:24:44.523Z"
   },
   {
    "duration": 23,
    "start_time": "2022-06-07T16:24:44.543Z"
   },
   {
    "duration": 31,
    "start_time": "2022-06-07T16:24:44.568Z"
   },
   {
    "duration": 33,
    "start_time": "2022-06-07T16:24:44.602Z"
   },
   {
    "duration": 33,
    "start_time": "2022-06-07T16:24:44.637Z"
   },
   {
    "duration": 10,
    "start_time": "2022-06-07T16:24:44.672Z"
   },
   {
    "duration": 79,
    "start_time": "2022-06-07T16:24:44.684Z"
   },
   {
    "duration": 55,
    "start_time": "2022-06-07T16:24:44.765Z"
   },
   {
    "duration": 39,
    "start_time": "2022-06-07T16:24:44.826Z"
   },
   {
    "duration": 14,
    "start_time": "2022-06-07T16:24:44.867Z"
   },
   {
    "duration": 76,
    "start_time": "2022-06-07T16:24:44.884Z"
   },
   {
    "duration": 34,
    "start_time": "2022-06-07T16:24:44.961Z"
   },
   {
    "duration": 52,
    "start_time": "2022-06-07T16:24:44.997Z"
   },
   {
    "duration": 19,
    "start_time": "2022-06-07T16:24:45.050Z"
   },
   {
    "duration": 21,
    "start_time": "2022-06-07T16:24:45.071Z"
   },
   {
    "duration": 39,
    "start_time": "2022-06-07T16:24:45.094Z"
   },
   {
    "duration": 16,
    "start_time": "2022-06-07T16:24:45.136Z"
   },
   {
    "duration": 14,
    "start_time": "2022-06-07T16:24:45.154Z"
   },
   {
    "duration": 23,
    "start_time": "2022-06-07T16:24:45.170Z"
   },
   {
    "duration": 9,
    "start_time": "2022-06-07T16:24:45.195Z"
   },
   {
    "duration": 27,
    "start_time": "2022-06-07T16:24:45.227Z"
   },
   {
    "duration": 271,
    "start_time": "2022-06-07T16:24:45.256Z"
   },
   {
    "duration": 23,
    "start_time": "2022-06-07T16:24:45.528Z"
   },
   {
    "duration": 29,
    "start_time": "2022-06-07T16:24:45.553Z"
   },
   {
    "duration": 12,
    "start_time": "2022-06-07T16:24:45.583Z"
   },
   {
    "duration": 12,
    "start_time": "2022-06-07T16:24:45.627Z"
   },
   {
    "duration": 375,
    "start_time": "2022-06-07T16:24:45.640Z"
   },
   {
    "duration": 26,
    "start_time": "2022-06-07T16:24:46.026Z"
   },
   {
    "duration": 254,
    "start_time": "2022-06-07T16:24:46.053Z"
   },
   {
    "duration": 41,
    "start_time": "2022-06-07T16:24:46.309Z"
   },
   {
    "duration": 274,
    "start_time": "2022-06-07T16:24:46.352Z"
   },
   {
    "duration": 161,
    "start_time": "2022-06-07T16:28:49.902Z"
   },
   {
    "duration": 180,
    "start_time": "2022-06-07T16:29:19.719Z"
   },
   {
    "duration": 205,
    "start_time": "2022-06-07T16:29:45.224Z"
   },
   {
    "duration": 165,
    "start_time": "2022-06-07T16:29:56.545Z"
   },
   {
    "duration": 183,
    "start_time": "2022-06-07T16:30:46.631Z"
   },
   {
    "duration": 151,
    "start_time": "2022-06-07T16:31:01.974Z"
   },
   {
    "duration": 149,
    "start_time": "2022-06-07T16:32:26.271Z"
   },
   {
    "duration": 140,
    "start_time": "2022-06-07T16:32:49.786Z"
   },
   {
    "duration": 145,
    "start_time": "2022-06-07T16:33:02.386Z"
   },
   {
    "duration": 253,
    "start_time": "2022-06-07T16:33:19.027Z"
   },
   {
    "duration": 151,
    "start_time": "2022-06-07T16:33:34.177Z"
   },
   {
    "duration": 153,
    "start_time": "2022-06-07T16:34:08.023Z"
   },
   {
    "duration": 168,
    "start_time": "2022-06-07T16:34:21.938Z"
   },
   {
    "duration": 193,
    "start_time": "2022-06-07T16:34:31.980Z"
   },
   {
    "duration": 178,
    "start_time": "2022-06-07T16:34:43.172Z"
   },
   {
    "duration": 203,
    "start_time": "2022-06-07T16:34:57.959Z"
   },
   {
    "duration": 196,
    "start_time": "2022-06-07T16:35:21.878Z"
   },
   {
    "duration": 182,
    "start_time": "2022-06-07T16:36:22.032Z"
   },
   {
    "duration": 158,
    "start_time": "2022-06-07T16:36:38.191Z"
   },
   {
    "duration": 269,
    "start_time": "2022-06-07T16:37:04.806Z"
   },
   {
    "duration": 280,
    "start_time": "2022-06-07T16:37:42.112Z"
   },
   {
    "duration": 430,
    "start_time": "2022-06-07T16:37:54.214Z"
   },
   {
    "duration": 255,
    "start_time": "2022-06-07T16:38:08.703Z"
   },
   {
    "duration": 254,
    "start_time": "2022-06-07T16:38:32.392Z"
   },
   {
    "duration": 65,
    "start_time": "2022-06-07T16:45:16.793Z"
   },
   {
    "duration": 39,
    "start_time": "2022-06-07T16:48:46.261Z"
   },
   {
    "duration": 40,
    "start_time": "2022-06-07T16:48:54.300Z"
   },
   {
    "duration": 52,
    "start_time": "2022-06-07T16:50:10.113Z"
   },
   {
    "duration": 493,
    "start_time": "2022-06-07T16:51:15.785Z"
   },
   {
    "duration": 260,
    "start_time": "2022-06-07T16:51:32.583Z"
   },
   {
    "duration": 215,
    "start_time": "2022-06-07T16:52:35.898Z"
   },
   {
    "duration": 358,
    "start_time": "2022-06-07T16:52:57.493Z"
   },
   {
    "duration": 251,
    "start_time": "2022-06-07T16:53:12.260Z"
   },
   {
    "duration": 235,
    "start_time": "2022-06-07T16:54:39.484Z"
   },
   {
    "duration": 229,
    "start_time": "2022-06-07T16:54:49.326Z"
   },
   {
    "duration": 236,
    "start_time": "2022-06-07T17:05:29.574Z"
   },
   {
    "duration": 258,
    "start_time": "2022-06-07T17:06:11.473Z"
   },
   {
    "duration": 345,
    "start_time": "2022-06-07T17:06:48.163Z"
   },
   {
    "duration": 1281,
    "start_time": "2022-06-08T11:00:45.964Z"
   },
   {
    "duration": 1008,
    "start_time": "2022-06-08T11:00:47.248Z"
   },
   {
    "duration": 69,
    "start_time": "2022-06-08T11:00:48.258Z"
   },
   {
    "duration": 13,
    "start_time": "2022-06-08T11:00:48.329Z"
   },
   {
    "duration": 10,
    "start_time": "2022-06-08T11:00:48.344Z"
   },
   {
    "duration": 11,
    "start_time": "2022-06-08T11:00:48.356Z"
   },
   {
    "duration": 13,
    "start_time": "2022-06-08T11:00:48.369Z"
   },
   {
    "duration": 16,
    "start_time": "2022-06-08T11:00:48.384Z"
   },
   {
    "duration": 25,
    "start_time": "2022-06-08T11:00:48.402Z"
   },
   {
    "duration": 93,
    "start_time": "2022-06-08T11:00:48.430Z"
   },
   {
    "duration": 47,
    "start_time": "2022-06-08T11:00:48.525Z"
   },
   {
    "duration": 63,
    "start_time": "2022-06-08T11:00:48.574Z"
   },
   {
    "duration": 13,
    "start_time": "2022-06-08T11:00:48.639Z"
   },
   {
    "duration": 48,
    "start_time": "2022-06-08T11:00:48.654Z"
   },
   {
    "duration": 46,
    "start_time": "2022-06-08T11:00:48.704Z"
   },
   {
    "duration": 30,
    "start_time": "2022-06-08T11:00:48.752Z"
   },
   {
    "duration": 15,
    "start_time": "2022-06-08T11:00:48.784Z"
   },
   {
    "duration": 20,
    "start_time": "2022-06-08T11:00:48.822Z"
   },
   {
    "duration": 14,
    "start_time": "2022-06-08T11:00:48.845Z"
   },
   {
    "duration": 14,
    "start_time": "2022-06-08T11:00:48.860Z"
   },
   {
    "duration": 13,
    "start_time": "2022-06-08T11:00:48.876Z"
   },
   {
    "duration": 46,
    "start_time": "2022-06-08T11:00:48.891Z"
   },
   {
    "duration": 20,
    "start_time": "2022-06-08T11:00:48.938Z"
   },
   {
    "duration": 22,
    "start_time": "2022-06-08T11:00:48.959Z"
   },
   {
    "duration": 251,
    "start_time": "2022-06-08T11:00:48.982Z"
   },
   {
    "duration": 7,
    "start_time": "2022-06-08T11:00:49.235Z"
   },
   {
    "duration": 161,
    "start_time": "2022-06-08T11:00:49.244Z"
   },
   {
    "duration": 0,
    "start_time": "2022-06-08T11:00:49.407Z"
   },
   {
    "duration": 0,
    "start_time": "2022-06-08T11:00:49.408Z"
   },
   {
    "duration": 0,
    "start_time": "2022-06-08T11:00:49.409Z"
   },
   {
    "duration": 0,
    "start_time": "2022-06-08T11:00:49.411Z"
   },
   {
    "duration": 0,
    "start_time": "2022-06-08T11:00:49.424Z"
   },
   {
    "duration": 0,
    "start_time": "2022-06-08T11:00:49.425Z"
   },
   {
    "duration": 0,
    "start_time": "2022-06-08T11:00:49.426Z"
   },
   {
    "duration": 0,
    "start_time": "2022-06-08T11:00:49.427Z"
   },
   {
    "duration": 0,
    "start_time": "2022-06-08T11:00:49.429Z"
   },
   {
    "duration": 0,
    "start_time": "2022-06-08T11:00:49.430Z"
   },
   {
    "duration": 0,
    "start_time": "2022-06-08T11:00:49.431Z"
   },
   {
    "duration": 0,
    "start_time": "2022-06-08T11:00:49.432Z"
   },
   {
    "duration": 0,
    "start_time": "2022-06-08T11:00:49.433Z"
   },
   {
    "duration": 0,
    "start_time": "2022-06-08T11:00:49.434Z"
   },
   {
    "duration": 0,
    "start_time": "2022-06-08T11:00:49.435Z"
   },
   {
    "duration": 1494,
    "start_time": "2022-06-08T11:03:15.947Z"
   },
   {
    "duration": 991,
    "start_time": "2022-06-08T11:03:17.449Z"
   },
   {
    "duration": 83,
    "start_time": "2022-06-08T11:03:18.442Z"
   },
   {
    "duration": 20,
    "start_time": "2022-06-08T11:03:18.528Z"
   },
   {
    "duration": 18,
    "start_time": "2022-06-08T11:03:18.551Z"
   },
   {
    "duration": 14,
    "start_time": "2022-06-08T11:03:18.571Z"
   },
   {
    "duration": 26,
    "start_time": "2022-06-08T11:03:18.587Z"
   },
   {
    "duration": 18,
    "start_time": "2022-06-08T11:03:18.623Z"
   },
   {
    "duration": 11,
    "start_time": "2022-06-08T11:03:18.643Z"
   },
   {
    "duration": 104,
    "start_time": "2022-06-08T11:03:18.655Z"
   },
   {
    "duration": 84,
    "start_time": "2022-06-08T11:03:18.761Z"
   },
   {
    "duration": 53,
    "start_time": "2022-06-08T11:03:18.846Z"
   },
   {
    "duration": 37,
    "start_time": "2022-06-08T11:03:18.900Z"
   },
   {
    "duration": 157,
    "start_time": "2022-06-08T11:03:18.941Z"
   },
   {
    "duration": 48,
    "start_time": "2022-06-08T11:03:19.100Z"
   },
   {
    "duration": 31,
    "start_time": "2022-06-08T11:03:19.150Z"
   },
   {
    "duration": 13,
    "start_time": "2022-06-08T11:03:19.182Z"
   },
   {
    "duration": 50,
    "start_time": "2022-06-08T11:03:19.197Z"
   },
   {
    "duration": 14,
    "start_time": "2022-06-08T11:03:19.250Z"
   },
   {
    "duration": 16,
    "start_time": "2022-06-08T11:03:19.266Z"
   },
   {
    "duration": 15,
    "start_time": "2022-06-08T11:03:19.284Z"
   },
   {
    "duration": 50,
    "start_time": "2022-06-08T11:03:19.301Z"
   },
   {
    "duration": 15,
    "start_time": "2022-06-08T11:03:19.353Z"
   },
   {
    "duration": 33,
    "start_time": "2022-06-08T11:03:19.370Z"
   },
   {
    "duration": 275,
    "start_time": "2022-06-08T11:03:19.405Z"
   },
   {
    "duration": 2,
    "start_time": "2022-06-08T11:03:19.682Z"
   },
   {
    "duration": 130,
    "start_time": "2022-06-08T11:03:19.685Z"
   },
   {
    "duration": 0,
    "start_time": "2022-06-08T11:03:19.817Z"
   },
   {
    "duration": 0,
    "start_time": "2022-06-08T11:03:19.818Z"
   },
   {
    "duration": 0,
    "start_time": "2022-06-08T11:03:19.823Z"
   },
   {
    "duration": 0,
    "start_time": "2022-06-08T11:03:19.825Z"
   },
   {
    "duration": 0,
    "start_time": "2022-06-08T11:03:19.826Z"
   },
   {
    "duration": 0,
    "start_time": "2022-06-08T11:03:19.827Z"
   },
   {
    "duration": 0,
    "start_time": "2022-06-08T11:03:19.828Z"
   },
   {
    "duration": 0,
    "start_time": "2022-06-08T11:03:19.830Z"
   },
   {
    "duration": 0,
    "start_time": "2022-06-08T11:03:19.831Z"
   },
   {
    "duration": 0,
    "start_time": "2022-06-08T11:03:19.832Z"
   },
   {
    "duration": 0,
    "start_time": "2022-06-08T11:03:19.833Z"
   },
   {
    "duration": 0,
    "start_time": "2022-06-08T11:03:19.834Z"
   },
   {
    "duration": 0,
    "start_time": "2022-06-08T11:03:19.836Z"
   },
   {
    "duration": 0,
    "start_time": "2022-06-08T11:03:19.837Z"
   },
   {
    "duration": 0,
    "start_time": "2022-06-08T11:03:19.838Z"
   },
   {
    "duration": 47,
    "start_time": "2022-06-08T11:07:13.672Z"
   },
   {
    "duration": 79,
    "start_time": "2022-06-08T11:07:43.868Z"
   },
   {
    "duration": 191,
    "start_time": "2022-06-08T11:08:04.494Z"
   },
   {
    "duration": 31,
    "start_time": "2022-06-08T11:08:20.470Z"
   },
   {
    "duration": 97,
    "start_time": "2022-06-08T11:08:44.344Z"
   },
   {
    "duration": 107,
    "start_time": "2022-06-08T11:08:53.560Z"
   },
   {
    "duration": 43,
    "start_time": "2022-06-08T11:09:27.443Z"
   },
   {
    "duration": 47,
    "start_time": "2022-06-08T11:10:18.401Z"
   },
   {
    "duration": 44,
    "start_time": "2022-06-08T11:10:47.278Z"
   },
   {
    "duration": 126,
    "start_time": "2022-06-08T11:11:02.400Z"
   },
   {
    "duration": 32,
    "start_time": "2022-06-08T11:11:46.345Z"
   },
   {
    "duration": 38,
    "start_time": "2022-06-08T11:12:57.620Z"
   },
   {
    "duration": 42,
    "start_time": "2022-06-08T11:15:48.999Z"
   },
   {
    "duration": 37,
    "start_time": "2022-06-08T11:17:06.444Z"
   },
   {
    "duration": 49,
    "start_time": "2022-06-08T11:17:10.636Z"
   },
   {
    "duration": 357,
    "start_time": "2022-06-08T11:17:13.715Z"
   },
   {
    "duration": 247,
    "start_time": "2022-06-08T11:17:16.301Z"
   },
   {
    "duration": 253,
    "start_time": "2022-06-08T11:17:18.809Z"
   },
   {
    "duration": 30,
    "start_time": "2022-06-08T11:18:37.640Z"
   },
   {
    "duration": 34,
    "start_time": "2022-06-08T11:18:54.321Z"
   },
   {
    "duration": 31,
    "start_time": "2022-06-08T11:19:29.678Z"
   },
   {
    "duration": 44,
    "start_time": "2022-06-08T11:19:31.908Z"
   },
   {
    "duration": 37,
    "start_time": "2022-06-08T11:20:51.875Z"
   },
   {
    "duration": 55,
    "start_time": "2022-06-08T11:21:47.539Z"
   },
   {
    "duration": 37,
    "start_time": "2022-06-08T11:21:50.342Z"
   },
   {
    "duration": 224,
    "start_time": "2022-06-08T11:26:40.325Z"
   },
   {
    "duration": 199,
    "start_time": "2022-06-08T11:27:36.696Z"
   },
   {
    "duration": 11,
    "start_time": "2022-06-08T11:31:01.464Z"
   },
   {
    "duration": 49,
    "start_time": "2022-06-08T11:32:35.521Z"
   },
   {
    "duration": 238,
    "start_time": "2022-06-08T11:33:57.040Z"
   },
   {
    "duration": 32,
    "start_time": "2022-06-08T11:36:49.347Z"
   },
   {
    "duration": 44,
    "start_time": "2022-06-08T11:37:00.704Z"
   },
   {
    "duration": 37,
    "start_time": "2022-06-08T11:37:18.869Z"
   },
   {
    "duration": 43,
    "start_time": "2022-06-08T11:37:39.896Z"
   },
   {
    "duration": 439,
    "start_time": "2022-06-08T11:37:42.676Z"
   },
   {
    "duration": 234,
    "start_time": "2022-06-08T11:37:58.679Z"
   },
   {
    "duration": 324,
    "start_time": "2022-06-08T11:38:10.879Z"
   },
   {
    "duration": 242,
    "start_time": "2022-06-08T11:38:23.978Z"
   },
   {
    "duration": 925,
    "start_time": "2022-06-08T13:22:47.266Z"
   },
   {
    "duration": 220,
    "start_time": "2022-06-08T13:36:26.088Z"
   },
   {
    "duration": 220,
    "start_time": "2022-06-08T13:36:41.408Z"
   },
   {
    "duration": 260,
    "start_time": "2022-06-08T13:37:01.258Z"
   },
   {
    "duration": 13,
    "start_time": "2022-06-08T13:41:15.908Z"
   },
   {
    "duration": 41,
    "start_time": "2022-06-08T13:41:22.815Z"
   },
   {
    "duration": 1171,
    "start_time": "2022-06-08T13:48:38.207Z"
   },
   {
    "duration": 909,
    "start_time": "2022-06-08T13:48:39.380Z"
   },
   {
    "duration": 69,
    "start_time": "2022-06-08T13:48:40.291Z"
   },
   {
    "duration": 12,
    "start_time": "2022-06-08T13:48:40.362Z"
   },
   {
    "duration": 14,
    "start_time": "2022-06-08T13:48:40.375Z"
   },
   {
    "duration": 34,
    "start_time": "2022-06-08T13:48:40.391Z"
   },
   {
    "duration": 16,
    "start_time": "2022-06-08T13:48:40.427Z"
   },
   {
    "duration": 29,
    "start_time": "2022-06-08T13:48:40.445Z"
   },
   {
    "duration": 7,
    "start_time": "2022-06-08T13:48:40.475Z"
   },
   {
    "duration": 81,
    "start_time": "2022-06-08T13:48:40.485Z"
   },
   {
    "duration": 56,
    "start_time": "2022-06-08T13:48:40.568Z"
   },
   {
    "duration": 35,
    "start_time": "2022-06-08T13:48:40.626Z"
   },
   {
    "duration": 13,
    "start_time": "2022-06-08T13:48:40.663Z"
   },
   {
    "duration": 61,
    "start_time": "2022-06-08T13:48:40.678Z"
   },
   {
    "duration": 30,
    "start_time": "2022-06-08T13:48:40.741Z"
   },
   {
    "duration": 51,
    "start_time": "2022-06-08T13:48:40.773Z"
   },
   {
    "duration": 12,
    "start_time": "2022-06-08T13:48:40.825Z"
   },
   {
    "duration": 13,
    "start_time": "2022-06-08T13:48:40.839Z"
   },
   {
    "duration": 11,
    "start_time": "2022-06-08T13:48:40.853Z"
   },
   {
    "duration": 17,
    "start_time": "2022-06-08T13:48:40.865Z"
   },
   {
    "duration": 46,
    "start_time": "2022-06-08T13:48:40.884Z"
   },
   {
    "duration": 22,
    "start_time": "2022-06-08T13:48:40.932Z"
   },
   {
    "duration": 8,
    "start_time": "2022-06-08T13:48:40.955Z"
   },
   {
    "duration": 23,
    "start_time": "2022-06-08T13:48:40.965Z"
   },
   {
    "duration": 276,
    "start_time": "2022-06-08T13:48:40.990Z"
   },
   {
    "duration": 62,
    "start_time": "2022-06-08T13:48:41.267Z"
   },
   {
    "duration": 46,
    "start_time": "2022-06-08T13:48:41.331Z"
   },
   {
    "duration": 382,
    "start_time": "2022-06-08T13:48:41.380Z"
   },
   {
    "duration": 0,
    "start_time": "2022-06-08T13:48:41.764Z"
   },
   {
    "duration": 0,
    "start_time": "2022-06-08T13:48:41.765Z"
   },
   {
    "duration": 42,
    "start_time": "2022-06-08T13:50:04.213Z"
   },
   {
    "duration": 51,
    "start_time": "2022-06-08T13:50:17.952Z"
   },
   {
    "duration": 39,
    "start_time": "2022-06-08T13:50:26.927Z"
   },
   {
    "duration": 254,
    "start_time": "2022-06-08T13:50:55.007Z"
   },
   {
    "duration": 335,
    "start_time": "2022-06-08T13:51:00.058Z"
   },
   {
    "duration": 310,
    "start_time": "2022-06-08T13:51:03.856Z"
   },
   {
    "duration": 49,
    "start_time": "2022-06-08T13:51:47.389Z"
   },
   {
    "duration": 50,
    "start_time": "2022-06-08T13:51:59.826Z"
   },
   {
    "duration": 248,
    "start_time": "2022-06-08T13:52:23.207Z"
   },
   {
    "duration": 377,
    "start_time": "2022-06-08T13:52:33.128Z"
   },
   {
    "duration": 1241,
    "start_time": "2022-06-08T13:59:08.795Z"
   },
   {
    "duration": 463,
    "start_time": "2022-06-08T13:59:10.038Z"
   },
   {
    "duration": 92,
    "start_time": "2022-06-08T13:59:10.502Z"
   },
   {
    "duration": 12,
    "start_time": "2022-06-08T13:59:10.595Z"
   },
   {
    "duration": 28,
    "start_time": "2022-06-08T13:59:10.610Z"
   },
   {
    "duration": 13,
    "start_time": "2022-06-08T13:59:10.640Z"
   },
   {
    "duration": 13,
    "start_time": "2022-06-08T13:59:10.655Z"
   },
   {
    "duration": 14,
    "start_time": "2022-06-08T13:59:10.669Z"
   },
   {
    "duration": 6,
    "start_time": "2022-06-08T13:59:10.685Z"
   },
   {
    "duration": 85,
    "start_time": "2022-06-08T13:59:10.692Z"
   },
   {
    "duration": 65,
    "start_time": "2022-06-08T13:59:10.778Z"
   },
   {
    "duration": 55,
    "start_time": "2022-06-08T13:59:10.845Z"
   },
   {
    "duration": 38,
    "start_time": "2022-06-08T13:59:10.902Z"
   },
   {
    "duration": 42,
    "start_time": "2022-06-08T13:59:10.944Z"
   },
   {
    "duration": 46,
    "start_time": "2022-06-08T13:59:10.988Z"
   },
   {
    "duration": 35,
    "start_time": "2022-06-08T13:59:11.036Z"
   },
   {
    "duration": 16,
    "start_time": "2022-06-08T13:59:11.073Z"
   },
   {
    "duration": 41,
    "start_time": "2022-06-08T13:59:11.091Z"
   },
   {
    "duration": 13,
    "start_time": "2022-06-08T13:59:11.134Z"
   },
   {
    "duration": 15,
    "start_time": "2022-06-08T13:59:11.149Z"
   },
   {
    "duration": 13,
    "start_time": "2022-06-08T13:59:11.166Z"
   },
   {
    "duration": 25,
    "start_time": "2022-06-08T13:59:11.182Z"
   },
   {
    "duration": 27,
    "start_time": "2022-06-08T13:59:11.208Z"
   },
   {
    "duration": 19,
    "start_time": "2022-06-08T13:59:11.242Z"
   },
   {
    "duration": 275,
    "start_time": "2022-06-08T13:59:11.263Z"
   },
   {
    "duration": 41,
    "start_time": "2022-06-08T13:59:11.543Z"
   },
   {
    "duration": 53,
    "start_time": "2022-06-08T13:59:11.586Z"
   },
   {
    "duration": 344,
    "start_time": "2022-06-08T13:59:11.641Z"
   },
   {
    "duration": 270,
    "start_time": "2022-06-08T13:59:11.987Z"
   },
   {
    "duration": 311,
    "start_time": "2022-06-08T13:59:12.259Z"
   },
   {
    "duration": 232,
    "start_time": "2022-06-08T14:07:45.448Z"
   },
   {
    "duration": 41,
    "start_time": "2022-06-08T14:07:54.014Z"
   },
   {
    "duration": 28,
    "start_time": "2022-06-08T14:08:31.195Z"
   },
   {
    "duration": 27,
    "start_time": "2022-06-08T14:08:59.984Z"
   },
   {
    "duration": 41,
    "start_time": "2022-06-08T14:09:11.532Z"
   },
   {
    "duration": 39,
    "start_time": "2022-06-08T14:09:42.012Z"
   },
   {
    "duration": 39,
    "start_time": "2022-06-08T14:09:57.979Z"
   },
   {
    "duration": 41,
    "start_time": "2022-06-08T14:10:22.154Z"
   },
   {
    "duration": 40,
    "start_time": "2022-06-08T14:10:30.344Z"
   },
   {
    "duration": 1160,
    "start_time": "2022-06-08T14:10:43.506Z"
   },
   {
    "duration": 432,
    "start_time": "2022-06-08T14:10:44.668Z"
   },
   {
    "duration": 86,
    "start_time": "2022-06-08T14:10:45.102Z"
   },
   {
    "duration": 17,
    "start_time": "2022-06-08T14:10:45.190Z"
   },
   {
    "duration": 21,
    "start_time": "2022-06-08T14:10:45.209Z"
   },
   {
    "duration": 15,
    "start_time": "2022-06-08T14:10:45.232Z"
   },
   {
    "duration": 18,
    "start_time": "2022-06-08T14:10:45.249Z"
   },
   {
    "duration": 23,
    "start_time": "2022-06-08T14:10:45.269Z"
   },
   {
    "duration": 11,
    "start_time": "2022-06-08T14:10:45.294Z"
   },
   {
    "duration": 69,
    "start_time": "2022-06-08T14:10:45.307Z"
   },
   {
    "duration": 82,
    "start_time": "2022-06-08T14:10:45.378Z"
   },
   {
    "duration": 62,
    "start_time": "2022-06-08T14:10:45.462Z"
   },
   {
    "duration": 17,
    "start_time": "2022-06-08T14:10:45.526Z"
   },
   {
    "duration": 49,
    "start_time": "2022-06-08T14:10:45.544Z"
   },
   {
    "duration": 70,
    "start_time": "2022-06-08T14:10:45.595Z"
   },
   {
    "duration": 39,
    "start_time": "2022-06-08T14:10:45.667Z"
   },
   {
    "duration": 28,
    "start_time": "2022-06-08T14:10:45.708Z"
   },
   {
    "duration": 13,
    "start_time": "2022-06-08T14:10:45.738Z"
   },
   {
    "duration": 12,
    "start_time": "2022-06-08T14:10:45.753Z"
   },
   {
    "duration": 16,
    "start_time": "2022-06-08T14:10:45.767Z"
   },
   {
    "duration": 39,
    "start_time": "2022-06-08T14:10:45.785Z"
   },
   {
    "duration": 20,
    "start_time": "2022-06-08T14:10:45.826Z"
   },
   {
    "duration": 15,
    "start_time": "2022-06-08T14:10:45.848Z"
   },
   {
    "duration": 36,
    "start_time": "2022-06-08T14:10:45.864Z"
   },
   {
    "duration": 287,
    "start_time": "2022-06-08T14:10:45.922Z"
   },
   {
    "duration": 52,
    "start_time": "2022-06-08T14:10:46.211Z"
   },
   {
    "duration": 63,
    "start_time": "2022-06-08T14:10:46.265Z"
   },
   {
    "duration": 360,
    "start_time": "2022-06-08T14:10:46.331Z"
   },
   {
    "duration": 316,
    "start_time": "2022-06-08T14:10:46.693Z"
   },
   {
    "duration": 246,
    "start_time": "2022-06-08T14:10:47.011Z"
   },
   {
    "duration": 257,
    "start_time": "2022-06-08T14:12:26.065Z"
   },
   {
    "duration": 62,
    "start_time": "2022-06-08T14:15:22.716Z"
   },
   {
    "duration": 66,
    "start_time": "2022-06-08T14:15:47.535Z"
   },
   {
    "duration": 264,
    "start_time": "2022-06-08T14:15:51.815Z"
   },
   {
    "duration": 410,
    "start_time": "2022-06-08T14:15:56.572Z"
   },
   {
    "duration": 281,
    "start_time": "2022-06-08T14:16:00.536Z"
   },
   {
    "duration": 267,
    "start_time": "2022-06-08T14:17:55.210Z"
   },
   {
    "duration": 277,
    "start_time": "2022-06-08T14:18:03.812Z"
   },
   {
    "duration": 280,
    "start_time": "2022-06-08T14:18:10.668Z"
   },
   {
    "duration": 252,
    "start_time": "2022-06-08T14:18:19.486Z"
   },
   {
    "duration": 236,
    "start_time": "2022-06-08T14:18:50.107Z"
   },
   {
    "duration": 266,
    "start_time": "2022-06-08T14:19:15.469Z"
   },
   {
    "duration": 326,
    "start_time": "2022-06-08T14:24:44.462Z"
   },
   {
    "duration": 219,
    "start_time": "2022-06-08T14:24:56.773Z"
   },
   {
    "duration": 245,
    "start_time": "2022-06-08T14:25:19.258Z"
   },
   {
    "duration": 370,
    "start_time": "2022-06-08T14:25:32.697Z"
   },
   {
    "duration": 242,
    "start_time": "2022-06-08T14:25:45.579Z"
   },
   {
    "duration": 261,
    "start_time": "2022-06-08T14:26:07.400Z"
   },
   {
    "duration": 231,
    "start_time": "2022-06-08T14:26:29.763Z"
   },
   {
    "duration": 55,
    "start_time": "2022-06-08T14:27:52.189Z"
   },
   {
    "duration": 38,
    "start_time": "2022-06-08T14:27:59.450Z"
   },
   {
    "duration": 317,
    "start_time": "2022-06-08T14:28:01.378Z"
   },
   {
    "duration": 244,
    "start_time": "2022-06-08T14:28:02.870Z"
   },
   {
    "duration": 355,
    "start_time": "2022-06-08T14:28:04.153Z"
   },
   {
    "duration": 52,
    "start_time": "2022-06-08T14:29:39.576Z"
   },
   {
    "duration": 43,
    "start_time": "2022-06-08T14:29:45.830Z"
   },
   {
    "duration": 37,
    "start_time": "2022-06-08T14:30:05.819Z"
   },
   {
    "duration": 52,
    "start_time": "2022-06-08T14:30:28.989Z"
   },
   {
    "duration": 243,
    "start_time": "2022-06-08T14:30:30.015Z"
   },
   {
    "duration": 271,
    "start_time": "2022-06-08T14:30:31.763Z"
   },
   {
    "duration": 234,
    "start_time": "2022-06-08T14:30:33.057Z"
   },
   {
    "duration": 1277,
    "start_time": "2022-06-09T11:03:20.830Z"
   },
   {
    "duration": 1211,
    "start_time": "2022-06-09T11:03:22.109Z"
   },
   {
    "duration": 68,
    "start_time": "2022-06-09T11:03:23.322Z"
   },
   {
    "duration": 17,
    "start_time": "2022-06-09T11:03:23.396Z"
   },
   {
    "duration": 14,
    "start_time": "2022-06-09T11:03:23.414Z"
   },
   {
    "duration": 11,
    "start_time": "2022-06-09T11:03:23.430Z"
   },
   {
    "duration": 10,
    "start_time": "2022-06-09T11:03:23.442Z"
   },
   {
    "duration": 14,
    "start_time": "2022-06-09T11:03:23.454Z"
   },
   {
    "duration": 5,
    "start_time": "2022-06-09T11:03:23.469Z"
   },
   {
    "duration": 82,
    "start_time": "2022-06-09T11:03:23.476Z"
   },
   {
    "duration": 55,
    "start_time": "2022-06-09T11:03:23.560Z"
   },
   {
    "duration": 38,
    "start_time": "2022-06-09T11:03:23.616Z"
   },
   {
    "duration": 13,
    "start_time": "2022-06-09T11:03:23.656Z"
   },
   {
    "duration": 76,
    "start_time": "2022-06-09T11:03:23.670Z"
   },
   {
    "duration": 30,
    "start_time": "2022-06-09T11:03:23.747Z"
   },
   {
    "duration": 43,
    "start_time": "2022-06-09T11:03:23.779Z"
   },
   {
    "duration": 12,
    "start_time": "2022-06-09T11:03:23.823Z"
   },
   {
    "duration": 14,
    "start_time": "2022-06-09T11:03:23.837Z"
   },
   {
    "duration": 21,
    "start_time": "2022-06-09T11:03:23.853Z"
   },
   {
    "duration": 42,
    "start_time": "2022-06-09T11:03:23.877Z"
   },
   {
    "duration": 15,
    "start_time": "2022-06-09T11:03:23.920Z"
   },
   {
    "duration": 29,
    "start_time": "2022-06-09T11:03:23.937Z"
   },
   {
    "duration": 9,
    "start_time": "2022-06-09T11:03:23.967Z"
   },
   {
    "duration": 31,
    "start_time": "2022-06-09T11:03:23.978Z"
   },
   {
    "duration": 258,
    "start_time": "2022-06-09T11:03:24.010Z"
   },
   {
    "duration": 49,
    "start_time": "2022-06-09T11:03:24.270Z"
   },
   {
    "duration": 41,
    "start_time": "2022-06-09T11:03:24.321Z"
   },
   {
    "duration": 246,
    "start_time": "2022-06-09T11:03:24.366Z"
   },
   {
    "duration": 237,
    "start_time": "2022-06-09T11:03:24.614Z"
   },
   {
    "duration": 205,
    "start_time": "2022-06-09T11:03:24.852Z"
   },
   {
    "duration": 41,
    "start_time": "2022-06-09T11:04:36.795Z"
   },
   {
    "duration": 700,
    "start_time": "2022-06-09T11:04:41.315Z"
   },
   {
    "duration": 256,
    "start_time": "2022-06-09T11:05:03.978Z"
   },
   {
    "duration": 241,
    "start_time": "2022-06-09T11:05:16.068Z"
   },
   {
    "duration": 240,
    "start_time": "2022-06-09T11:05:21.685Z"
   },
   {
    "duration": 270,
    "start_time": "2022-06-09T11:05:31.810Z"
   },
   {
    "duration": 1064,
    "start_time": "2022-06-09T11:05:44.785Z"
   },
   {
    "duration": 472,
    "start_time": "2022-06-09T11:05:45.851Z"
   },
   {
    "duration": 74,
    "start_time": "2022-06-09T11:05:46.325Z"
   },
   {
    "duration": 13,
    "start_time": "2022-06-09T11:05:46.402Z"
   },
   {
    "duration": 11,
    "start_time": "2022-06-09T11:05:46.417Z"
   },
   {
    "duration": 9,
    "start_time": "2022-06-09T11:05:46.430Z"
   },
   {
    "duration": 11,
    "start_time": "2022-06-09T11:05:46.440Z"
   },
   {
    "duration": 20,
    "start_time": "2022-06-09T11:05:46.452Z"
   },
   {
    "duration": 5,
    "start_time": "2022-06-09T11:05:46.474Z"
   },
   {
    "duration": 68,
    "start_time": "2022-06-09T11:05:46.496Z"
   },
   {
    "duration": 71,
    "start_time": "2022-06-09T11:05:46.566Z"
   },
   {
    "duration": 37,
    "start_time": "2022-06-09T11:05:46.639Z"
   },
   {
    "duration": 31,
    "start_time": "2022-06-09T11:05:46.678Z"
   },
   {
    "duration": 40,
    "start_time": "2022-06-09T11:05:46.713Z"
   },
   {
    "duration": 53,
    "start_time": "2022-06-09T11:05:46.754Z"
   },
   {
    "duration": 30,
    "start_time": "2022-06-09T11:05:46.809Z"
   },
   {
    "duration": 11,
    "start_time": "2022-06-09T11:05:46.841Z"
   },
   {
    "duration": 12,
    "start_time": "2022-06-09T11:05:46.854Z"
   },
   {
    "duration": 33,
    "start_time": "2022-06-09T11:05:46.867Z"
   },
   {
    "duration": 26,
    "start_time": "2022-06-09T11:05:46.901Z"
   },
   {
    "duration": 9,
    "start_time": "2022-06-09T11:05:46.929Z"
   },
   {
    "duration": 17,
    "start_time": "2022-06-09T11:05:46.940Z"
   },
   {
    "duration": 10,
    "start_time": "2022-06-09T11:05:46.959Z"
   },
   {
    "duration": 32,
    "start_time": "2022-06-09T11:05:46.971Z"
   },
   {
    "duration": 243,
    "start_time": "2022-06-09T11:05:47.006Z"
   },
   {
    "duration": 57,
    "start_time": "2022-06-09T11:05:47.250Z"
   },
   {
    "duration": 38,
    "start_time": "2022-06-09T11:05:47.309Z"
   },
   {
    "duration": 226,
    "start_time": "2022-06-09T11:05:47.349Z"
   },
   {
    "duration": 241,
    "start_time": "2022-06-09T11:05:47.577Z"
   },
   {
    "duration": 239,
    "start_time": "2022-06-09T11:05:47.819Z"
   },
   {
    "duration": 131,
    "start_time": "2022-06-09T11:09:20.285Z"
   },
   {
    "duration": 131,
    "start_time": "2022-06-09T11:09:58.800Z"
   },
   {
    "duration": 150,
    "start_time": "2022-06-09T11:10:43.770Z"
   },
   {
    "duration": 365,
    "start_time": "2022-06-09T11:12:08.936Z"
   },
   {
    "duration": 334,
    "start_time": "2022-06-09T11:12:28.901Z"
   },
   {
    "duration": 481,
    "start_time": "2022-06-09T11:16:36.453Z"
   },
   {
    "duration": 355,
    "start_time": "2022-06-09T11:17:13.733Z"
   },
   {
    "duration": 463,
    "start_time": "2022-06-09T11:17:27.227Z"
   },
   {
    "duration": 1133,
    "start_time": "2022-06-09T11:17:32.478Z"
   },
   {
    "duration": 463,
    "start_time": "2022-06-09T11:17:33.616Z"
   },
   {
    "duration": 80,
    "start_time": "2022-06-09T11:17:34.082Z"
   },
   {
    "duration": 36,
    "start_time": "2022-06-09T11:17:34.165Z"
   },
   {
    "duration": 17,
    "start_time": "2022-06-09T11:17:34.203Z"
   },
   {
    "duration": 10,
    "start_time": "2022-06-09T11:17:34.222Z"
   },
   {
    "duration": 10,
    "start_time": "2022-06-09T11:17:34.234Z"
   },
   {
    "duration": 11,
    "start_time": "2022-06-09T11:17:34.246Z"
   },
   {
    "duration": 5,
    "start_time": "2022-06-09T11:17:34.259Z"
   },
   {
    "duration": 96,
    "start_time": "2022-06-09T11:17:34.266Z"
   },
   {
    "duration": 58,
    "start_time": "2022-06-09T11:17:34.364Z"
   },
   {
    "duration": 37,
    "start_time": "2022-06-09T11:17:34.424Z"
   },
   {
    "duration": 12,
    "start_time": "2022-06-09T11:17:34.463Z"
   },
   {
    "duration": 43,
    "start_time": "2022-06-09T11:17:34.494Z"
   },
   {
    "duration": 30,
    "start_time": "2022-06-09T11:17:34.539Z"
   },
   {
    "duration": 54,
    "start_time": "2022-06-09T11:17:34.571Z"
   },
   {
    "duration": 12,
    "start_time": "2022-06-09T11:17:34.627Z"
   },
   {
    "duration": 13,
    "start_time": "2022-06-09T11:17:34.640Z"
   },
   {
    "duration": 11,
    "start_time": "2022-06-09T11:17:34.655Z"
   },
   {
    "duration": 34,
    "start_time": "2022-06-09T11:17:34.667Z"
   },
   {
    "duration": 13,
    "start_time": "2022-06-09T11:17:34.710Z"
   },
   {
    "duration": 15,
    "start_time": "2022-06-09T11:17:34.725Z"
   },
   {
    "duration": 8,
    "start_time": "2022-06-09T11:17:34.742Z"
   },
   {
    "duration": 23,
    "start_time": "2022-06-09T11:17:34.751Z"
   },
   {
    "duration": 271,
    "start_time": "2022-06-09T11:17:34.775Z"
   },
   {
    "duration": 50,
    "start_time": "2022-06-09T11:17:35.048Z"
   },
   {
    "duration": 69,
    "start_time": "2022-06-09T11:17:35.105Z"
   },
   {
    "duration": 141,
    "start_time": "2022-06-09T11:17:35.177Z"
   },
   {
    "duration": 0,
    "start_time": "2022-06-09T11:17:35.321Z"
   },
   {
    "duration": 0,
    "start_time": "2022-06-09T11:17:35.323Z"
   },
   {
    "duration": 0,
    "start_time": "2022-06-09T11:17:35.325Z"
   },
   {
    "duration": 10,
    "start_time": "2022-06-09T11:19:50.665Z"
   },
   {
    "duration": 26,
    "start_time": "2022-06-09T11:20:15.854Z"
   },
   {
    "duration": 19,
    "start_time": "2022-06-09T11:20:44.191Z"
   },
   {
    "duration": 34,
    "start_time": "2022-06-09T11:21:03.475Z"
   },
   {
    "duration": 41,
    "start_time": "2022-06-09T11:21:21.510Z"
   },
   {
    "duration": 32,
    "start_time": "2022-06-09T11:21:49.688Z"
   },
   {
    "duration": 27,
    "start_time": "2022-06-09T11:21:58.776Z"
   },
   {
    "duration": 359,
    "start_time": "2022-06-09T11:23:48.033Z"
   },
   {
    "duration": 263,
    "start_time": "2022-06-09T11:24:41.278Z"
   },
   {
    "duration": 277,
    "start_time": "2022-06-09T11:24:52.628Z"
   },
   {
    "duration": 289,
    "start_time": "2022-06-09T11:24:55.386Z"
   },
   {
    "duration": 215,
    "start_time": "2022-06-09T11:25:30.474Z"
   },
   {
    "duration": 274,
    "start_time": "2022-06-09T11:25:41.052Z"
   },
   {
    "duration": 276,
    "start_time": "2022-06-09T11:25:53.566Z"
   },
   {
    "duration": 355,
    "start_time": "2022-06-09T11:26:04.990Z"
   },
   {
    "duration": 63,
    "start_time": "2022-06-09T11:26:46.077Z"
   },
   {
    "duration": 55,
    "start_time": "2022-06-09T11:27:54.813Z"
   },
   {
    "duration": 38,
    "start_time": "2022-06-09T11:28:31.345Z"
   },
   {
    "duration": 48,
    "start_time": "2022-06-09T11:29:01.356Z"
   },
   {
    "duration": 189,
    "start_time": "2022-06-09T11:30:19.332Z"
   },
   {
    "duration": 150,
    "start_time": "2022-06-09T11:31:36.879Z"
   },
   {
    "duration": 150,
    "start_time": "2022-06-09T11:31:54.857Z"
   },
   {
    "duration": 142,
    "start_time": "2022-06-09T11:31:57.034Z"
   },
   {
    "duration": 141,
    "start_time": "2022-06-09T11:32:21.500Z"
   },
   {
    "duration": 160,
    "start_time": "2022-06-09T11:33:19.552Z"
   },
   {
    "duration": 177,
    "start_time": "2022-06-09T11:33:50.153Z"
   },
   {
    "duration": 135,
    "start_time": "2022-06-09T11:34:32.510Z"
   },
   {
    "duration": 154,
    "start_time": "2022-06-09T11:35:14.034Z"
   },
   {
    "duration": 265,
    "start_time": "2022-06-09T11:35:42.417Z"
   },
   {
    "duration": 1119,
    "start_time": "2022-06-09T11:39:12.071Z"
   },
   {
    "duration": 447,
    "start_time": "2022-06-09T11:39:13.192Z"
   },
   {
    "duration": 73,
    "start_time": "2022-06-09T11:39:13.641Z"
   },
   {
    "duration": 12,
    "start_time": "2022-06-09T11:39:13.715Z"
   },
   {
    "duration": 12,
    "start_time": "2022-06-09T11:39:13.729Z"
   },
   {
    "duration": 9,
    "start_time": "2022-06-09T11:39:13.743Z"
   },
   {
    "duration": 8,
    "start_time": "2022-06-09T11:39:13.754Z"
   },
   {
    "duration": 48,
    "start_time": "2022-06-09T11:39:13.763Z"
   },
   {
    "duration": 3,
    "start_time": "2022-06-09T11:39:13.813Z"
   },
   {
    "duration": 64,
    "start_time": "2022-06-09T11:39:13.818Z"
   },
   {
    "duration": 56,
    "start_time": "2022-06-09T11:39:13.895Z"
   },
   {
    "duration": 59,
    "start_time": "2022-06-09T11:39:13.953Z"
   },
   {
    "duration": 15,
    "start_time": "2022-06-09T11:39:14.014Z"
   },
   {
    "duration": 50,
    "start_time": "2022-06-09T11:39:14.032Z"
   },
   {
    "duration": 41,
    "start_time": "2022-06-09T11:39:14.084Z"
   },
   {
    "duration": 29,
    "start_time": "2022-06-09T11:39:14.127Z"
   },
   {
    "duration": 12,
    "start_time": "2022-06-09T11:39:14.157Z"
   },
   {
    "duration": 21,
    "start_time": "2022-06-09T11:39:14.194Z"
   },
   {
    "duration": 11,
    "start_time": "2022-06-09T11:39:14.217Z"
   },
   {
    "duration": 12,
    "start_time": "2022-06-09T11:39:14.230Z"
   },
   {
    "duration": 9,
    "start_time": "2022-06-09T11:39:14.244Z"
   },
   {
    "duration": 42,
    "start_time": "2022-06-09T11:39:14.255Z"
   },
   {
    "duration": 13,
    "start_time": "2022-06-09T11:39:14.299Z"
   },
   {
    "duration": 17,
    "start_time": "2022-06-09T11:39:14.313Z"
   },
   {
    "duration": 252,
    "start_time": "2022-06-09T11:39:14.331Z"
   },
   {
    "duration": 56,
    "start_time": "2022-06-09T11:39:14.585Z"
   },
   {
    "duration": 35,
    "start_time": "2022-06-09T11:39:14.643Z"
   },
   {
    "duration": 160,
    "start_time": "2022-06-09T11:39:14.680Z"
   },
   {
    "duration": 150,
    "start_time": "2022-06-09T11:39:14.842Z"
   },
   {
    "duration": 150,
    "start_time": "2022-06-09T11:39:14.994Z"
   },
   {
    "duration": 175,
    "start_time": "2022-06-09T11:39:15.146Z"
   },
   {
    "duration": 159,
    "start_time": "2022-06-09T11:39:15.323Z"
   },
   {
    "duration": 153,
    "start_time": "2022-06-09T11:39:15.484Z"
   },
   {
    "duration": 246,
    "start_time": "2022-06-09T11:39:15.638Z"
   },
   {
    "duration": 366,
    "start_time": "2022-06-09T11:39:15.885Z"
   },
   {
    "duration": 256,
    "start_time": "2022-06-09T11:39:16.253Z"
   },
   {
    "duration": 57,
    "start_time": "2022-06-09T11:44:01.788Z"
   },
   {
    "duration": 35,
    "start_time": "2022-06-09T11:48:27.788Z"
   },
   {
    "duration": 30,
    "start_time": "2022-06-09T11:49:04.191Z"
   },
   {
    "duration": 23,
    "start_time": "2022-06-09T11:49:23.356Z"
   },
   {
    "duration": 25,
    "start_time": "2022-06-09T11:50:12.524Z"
   },
   {
    "duration": 32,
    "start_time": "2022-06-09T11:50:15.073Z"
   },
   {
    "duration": 23,
    "start_time": "2022-06-09T11:57:25.404Z"
   },
   {
    "duration": 21,
    "start_time": "2022-06-09T11:57:36.088Z"
   },
   {
    "duration": 3761,
    "start_time": "2022-06-09T11:58:13.427Z"
   },
   {
    "duration": 159,
    "start_time": "2022-06-09T11:58:33.256Z"
   },
   {
    "duration": 140,
    "start_time": "2022-06-09T11:58:38.275Z"
   },
   {
    "duration": 231,
    "start_time": "2022-06-09T11:59:55.205Z"
   },
   {
    "duration": 267,
    "start_time": "2022-06-09T12:00:30.216Z"
   },
   {
    "duration": 239,
    "start_time": "2022-06-09T12:00:37.081Z"
   },
   {
    "duration": 402,
    "start_time": "2022-06-09T12:00:41.376Z"
   },
   {
    "duration": 270,
    "start_time": "2022-06-09T12:01:12.316Z"
   },
   {
    "duration": 22,
    "start_time": "2022-06-09T12:06:41.194Z"
   },
   {
    "duration": 23,
    "start_time": "2022-06-09T12:06:49.960Z"
   },
   {
    "duration": 31,
    "start_time": "2022-06-09T12:09:30.116Z"
   },
   {
    "duration": 31,
    "start_time": "2022-06-09T12:09:35.418Z"
   },
   {
    "duration": 11,
    "start_time": "2022-06-09T12:12:09.902Z"
   },
   {
    "duration": 11,
    "start_time": "2022-06-09T12:16:32.150Z"
   },
   {
    "duration": 11,
    "start_time": "2022-06-09T12:16:55.578Z"
   },
   {
    "duration": 9,
    "start_time": "2022-06-09T12:17:22.314Z"
   },
   {
    "duration": 9,
    "start_time": "2022-06-09T12:17:50.208Z"
   },
   {
    "duration": 10,
    "start_time": "2022-06-09T12:17:52.143Z"
   },
   {
    "duration": 10,
    "start_time": "2022-06-09T12:20:01.781Z"
   },
   {
    "duration": 18,
    "start_time": "2022-06-09T12:20:59.597Z"
   },
   {
    "duration": 1179,
    "start_time": "2022-06-09T12:25:43.975Z"
   },
   {
    "duration": 499,
    "start_time": "2022-06-09T12:25:45.157Z"
   },
   {
    "duration": 94,
    "start_time": "2022-06-09T12:25:45.658Z"
   },
   {
    "duration": 12,
    "start_time": "2022-06-09T12:25:45.754Z"
   },
   {
    "duration": 43,
    "start_time": "2022-06-09T12:25:45.768Z"
   },
   {
    "duration": 16,
    "start_time": "2022-06-09T12:25:45.820Z"
   },
   {
    "duration": 16,
    "start_time": "2022-06-09T12:25:45.838Z"
   },
   {
    "duration": 26,
    "start_time": "2022-06-09T12:25:45.856Z"
   },
   {
    "duration": 6,
    "start_time": "2022-06-09T12:25:45.883Z"
   },
   {
    "duration": 92,
    "start_time": "2022-06-09T12:25:45.891Z"
   },
   {
    "duration": 64,
    "start_time": "2022-06-09T12:25:45.984Z"
   },
   {
    "duration": 68,
    "start_time": "2022-06-09T12:25:46.049Z"
   },
   {
    "duration": 14,
    "start_time": "2022-06-09T12:25:46.123Z"
   },
   {
    "duration": 46,
    "start_time": "2022-06-09T12:25:46.139Z"
   },
   {
    "duration": 45,
    "start_time": "2022-06-09T12:25:46.186Z"
   },
   {
    "duration": 32,
    "start_time": "2022-06-09T12:25:46.233Z"
   },
   {
    "duration": 28,
    "start_time": "2022-06-09T12:25:46.267Z"
   },
   {
    "duration": 23,
    "start_time": "2022-06-09T12:25:46.303Z"
   },
   {
    "duration": 13,
    "start_time": "2022-06-09T12:25:46.328Z"
   },
   {
    "duration": 14,
    "start_time": "2022-06-09T12:25:46.343Z"
   },
   {
    "duration": 10,
    "start_time": "2022-06-09T12:25:46.359Z"
   },
   {
    "duration": 51,
    "start_time": "2022-06-09T12:25:46.370Z"
   },
   {
    "duration": 14,
    "start_time": "2022-06-09T12:25:46.424Z"
   },
   {
    "duration": 21,
    "start_time": "2022-06-09T12:25:46.440Z"
   },
   {
    "duration": 274,
    "start_time": "2022-06-09T12:25:46.462Z"
   },
   {
    "duration": 22,
    "start_time": "2022-06-09T12:25:46.738Z"
   },
   {
    "duration": 20,
    "start_time": "2022-06-09T12:25:46.761Z"
   },
   {
    "duration": 47,
    "start_time": "2022-06-09T12:25:46.784Z"
   },
   {
    "duration": 276,
    "start_time": "2022-06-09T12:25:46.832Z"
   },
   {
    "duration": 236,
    "start_time": "2022-06-09T12:25:47.111Z"
   },
   {
    "duration": 274,
    "start_time": "2022-06-09T12:25:47.349Z"
   },
   {
    "duration": 10,
    "start_time": "2022-06-09T12:25:47.629Z"
   },
   {
    "duration": 16,
    "start_time": "2022-06-09T12:27:02.145Z"
   },
   {
    "duration": 14,
    "start_time": "2022-06-09T12:27:19.284Z"
   },
   {
    "duration": 12,
    "start_time": "2022-06-09T12:28:46.525Z"
   },
   {
    "duration": 28,
    "start_time": "2022-06-09T12:30:50.281Z"
   },
   {
    "duration": 27,
    "start_time": "2022-06-09T12:31:14.388Z"
   },
   {
    "duration": 15,
    "start_time": "2022-06-09T12:34:05.985Z"
   },
   {
    "duration": 13,
    "start_time": "2022-06-09T12:34:07.916Z"
   },
   {
    "duration": 117,
    "start_time": "2022-06-09T12:35:39.338Z"
   },
   {
    "duration": 5,
    "start_time": "2022-06-09T12:36:51.051Z"
   },
   {
    "duration": 5,
    "start_time": "2022-06-09T12:37:15.655Z"
   },
   {
    "duration": 11,
    "start_time": "2022-06-09T12:37:55.278Z"
   },
   {
    "duration": 8,
    "start_time": "2022-06-09T12:38:25.893Z"
   },
   {
    "duration": 14,
    "start_time": "2022-06-09T12:40:18.253Z"
   },
   {
    "duration": 13,
    "start_time": "2022-06-09T12:43:50.676Z"
   },
   {
    "duration": 1263,
    "start_time": "2022-06-09T12:49:33.540Z"
   },
   {
    "duration": 510,
    "start_time": "2022-06-09T12:49:34.813Z"
   },
   {
    "duration": 85,
    "start_time": "2022-06-09T12:49:35.325Z"
   },
   {
    "duration": 17,
    "start_time": "2022-06-09T12:49:35.417Z"
   },
   {
    "duration": 11,
    "start_time": "2022-06-09T12:49:35.437Z"
   },
   {
    "duration": 13,
    "start_time": "2022-06-09T12:49:35.451Z"
   },
   {
    "duration": 11,
    "start_time": "2022-06-09T12:49:35.466Z"
   },
   {
    "duration": 20,
    "start_time": "2022-06-09T12:49:35.479Z"
   },
   {
    "duration": 25,
    "start_time": "2022-06-09T12:49:35.501Z"
   },
   {
    "duration": 78,
    "start_time": "2022-06-09T12:49:35.528Z"
   },
   {
    "duration": 59,
    "start_time": "2022-06-09T12:49:35.609Z"
   },
   {
    "duration": 55,
    "start_time": "2022-06-09T12:49:35.670Z"
   },
   {
    "duration": 14,
    "start_time": "2022-06-09T12:49:35.726Z"
   },
   {
    "duration": 52,
    "start_time": "2022-06-09T12:49:35.743Z"
   },
   {
    "duration": 41,
    "start_time": "2022-06-09T12:49:35.802Z"
   },
   {
    "duration": 32,
    "start_time": "2022-06-09T12:49:35.844Z"
   },
   {
    "duration": 36,
    "start_time": "2022-06-09T12:49:35.878Z"
   },
   {
    "duration": 33,
    "start_time": "2022-06-09T12:49:35.916Z"
   },
   {
    "duration": 10,
    "start_time": "2022-06-09T12:49:35.951Z"
   },
   {
    "duration": 16,
    "start_time": "2022-06-09T12:49:35.962Z"
   },
   {
    "duration": 10,
    "start_time": "2022-06-09T12:49:35.980Z"
   },
   {
    "duration": 46,
    "start_time": "2022-06-09T12:49:35.991Z"
   },
   {
    "duration": 9,
    "start_time": "2022-06-09T12:49:36.038Z"
   },
   {
    "duration": 20,
    "start_time": "2022-06-09T12:49:36.049Z"
   },
   {
    "duration": 267,
    "start_time": "2022-06-09T12:49:36.071Z"
   },
   {
    "duration": 22,
    "start_time": "2022-06-09T12:49:36.340Z"
   },
   {
    "duration": 56,
    "start_time": "2022-06-09T12:49:36.364Z"
   },
   {
    "duration": 29,
    "start_time": "2022-06-09T12:49:36.422Z"
   },
   {
    "duration": 287,
    "start_time": "2022-06-09T12:49:36.453Z"
   },
   {
    "duration": 249,
    "start_time": "2022-06-09T12:49:36.742Z"
   },
   {
    "duration": 264,
    "start_time": "2022-06-09T12:49:36.993Z"
   },
   {
    "duration": 10,
    "start_time": "2022-06-09T12:49:37.258Z"
   },
   {
    "duration": 32,
    "start_time": "2022-06-09T12:49:37.270Z"
   },
   {
    "duration": 24,
    "start_time": "2022-06-09T12:49:37.303Z"
   },
   {
    "duration": 111,
    "start_time": "2022-06-09T12:49:37.328Z"
   },
   {
    "duration": 0,
    "start_time": "2022-06-09T12:49:37.441Z"
   },
   {
    "duration": 30,
    "start_time": "2022-06-09T12:51:47.562Z"
   },
   {
    "duration": 9,
    "start_time": "2022-06-09T12:51:57.946Z"
   },
   {
    "duration": 6,
    "start_time": "2022-06-09T12:52:05.383Z"
   },
   {
    "duration": 10,
    "start_time": "2022-06-09T12:52:06.255Z"
   },
   {
    "duration": 31,
    "start_time": "2022-06-09T12:53:00.674Z"
   },
   {
    "duration": 30,
    "start_time": "2022-06-09T12:53:08.460Z"
   },
   {
    "duration": 7,
    "start_time": "2022-06-09T12:53:35.767Z"
   },
   {
    "duration": 6,
    "start_time": "2022-06-09T12:53:41.446Z"
   },
   {
    "duration": 5,
    "start_time": "2022-06-09T12:53:53.783Z"
   },
   {
    "duration": 4,
    "start_time": "2022-06-09T12:54:03.080Z"
   },
   {
    "duration": 7,
    "start_time": "2022-06-09T14:42:51.020Z"
   },
   {
    "duration": 3,
    "start_time": "2022-06-09T14:42:54.857Z"
   },
   {
    "duration": 1190,
    "start_time": "2022-06-09T14:42:59.957Z"
   },
   {
    "duration": 1180,
    "start_time": "2022-06-09T14:43:01.149Z"
   },
   {
    "duration": 3,
    "start_time": "2022-06-09T14:43:02.331Z"
   },
   {
    "duration": 25,
    "start_time": "2022-06-09T14:43:02.335Z"
   },
   {
    "duration": 9,
    "start_time": "2022-06-09T14:43:02.362Z"
   },
   {
    "duration": 14,
    "start_time": "2022-06-09T14:43:02.372Z"
   },
   {
    "duration": 10,
    "start_time": "2022-06-09T14:43:02.388Z"
   },
   {
    "duration": 23,
    "start_time": "2022-06-09T14:43:02.409Z"
   },
   {
    "duration": 8,
    "start_time": "2022-06-09T14:43:02.434Z"
   },
   {
    "duration": 62,
    "start_time": "2022-06-09T14:43:02.443Z"
   },
   {
    "duration": 47,
    "start_time": "2022-06-09T14:43:02.506Z"
   },
   {
    "duration": 54,
    "start_time": "2022-06-09T14:43:02.555Z"
   },
   {
    "duration": 15,
    "start_time": "2022-06-09T14:43:02.610Z"
   },
   {
    "duration": 56,
    "start_time": "2022-06-09T14:43:02.628Z"
   },
   {
    "duration": 30,
    "start_time": "2022-06-09T14:43:02.686Z"
   },
   {
    "duration": 26,
    "start_time": "2022-06-09T14:43:02.718Z"
   },
   {
    "duration": 11,
    "start_time": "2022-06-09T14:43:02.746Z"
   },
   {
    "duration": 21,
    "start_time": "2022-06-09T14:43:02.758Z"
   },
   {
    "duration": 12,
    "start_time": "2022-06-09T14:43:02.805Z"
   },
   {
    "duration": 10,
    "start_time": "2022-06-09T14:43:02.818Z"
   },
   {
    "duration": 9,
    "start_time": "2022-06-09T14:43:02.830Z"
   },
   {
    "duration": 17,
    "start_time": "2022-06-09T14:43:02.840Z"
   },
   {
    "duration": 9,
    "start_time": "2022-06-09T14:43:02.858Z"
   },
   {
    "duration": 46,
    "start_time": "2022-06-09T14:43:02.868Z"
   },
   {
    "duration": 234,
    "start_time": "2022-06-09T14:43:02.915Z"
   },
   {
    "duration": 20,
    "start_time": "2022-06-09T14:43:03.151Z"
   },
   {
    "duration": 34,
    "start_time": "2022-06-09T14:43:03.173Z"
   },
   {
    "duration": 28,
    "start_time": "2022-06-09T14:43:03.209Z"
   },
   {
    "duration": 241,
    "start_time": "2022-06-09T14:43:03.238Z"
   },
   {
    "duration": 236,
    "start_time": "2022-06-09T14:43:03.481Z"
   },
   {
    "duration": 253,
    "start_time": "2022-06-09T14:43:03.720Z"
   },
   {
    "duration": 10,
    "start_time": "2022-06-09T14:43:03.974Z"
   },
   {
    "duration": 28,
    "start_time": "2022-06-09T14:43:03.985Z"
   },
   {
    "duration": 7,
    "start_time": "2022-06-09T14:43:04.014Z"
   },
   {
    "duration": 10,
    "start_time": "2022-06-09T14:43:04.023Z"
   },
   {
    "duration": 6,
    "start_time": "2022-06-09T14:43:04.035Z"
   },
   {
    "duration": 20,
    "start_time": "2022-06-09T14:43:04.043Z"
   },
   {
    "duration": 3,
    "start_time": "2022-06-09T14:43:36.353Z"
   },
   {
    "duration": 46,
    "start_time": "2022-06-09T14:44:02.909Z"
   },
   {
    "duration": 4,
    "start_time": "2022-06-09T14:44:26.727Z"
   },
   {
    "duration": 113,
    "start_time": "2022-06-09T14:44:29.663Z"
   },
   {
    "duration": 8,
    "start_time": "2022-06-09T14:44:54.794Z"
   },
   {
    "duration": 38,
    "start_time": "2022-06-09T14:44:56.614Z"
   },
   {
    "duration": 3,
    "start_time": "2022-06-09T14:47:16.250Z"
   },
   {
    "duration": 9,
    "start_time": "2022-06-09T14:47:55.712Z"
   },
   {
    "duration": 9,
    "start_time": "2022-06-09T14:48:11.434Z"
   },
   {
    "duration": 3,
    "start_time": "2022-06-09T14:48:25.449Z"
   },
   {
    "duration": 12,
    "start_time": "2022-06-09T14:48:27.262Z"
   },
   {
    "duration": 3,
    "start_time": "2022-06-09T14:48:49.024Z"
   },
   {
    "duration": 9,
    "start_time": "2022-06-09T14:48:50.676Z"
   },
   {
    "duration": 3,
    "start_time": "2022-06-09T14:49:26.801Z"
   },
   {
    "duration": 45,
    "start_time": "2022-06-09T14:49:28.504Z"
   },
   {
    "duration": 26,
    "start_time": "2022-06-09T14:50:26.721Z"
   },
   {
    "duration": 27,
    "start_time": "2022-06-09T14:50:29.121Z"
   },
   {
    "duration": 52,
    "start_time": "2022-06-09T14:51:51.073Z"
   },
   {
    "duration": 29,
    "start_time": "2022-06-09T14:51:53.147Z"
   },
   {
    "duration": 3,
    "start_time": "2022-06-09T14:52:21.542Z"
   },
   {
    "duration": 28,
    "start_time": "2022-06-09T14:52:24.344Z"
   },
   {
    "duration": 10,
    "start_time": "2022-06-09T14:52:31.763Z"
   },
   {
    "duration": 9,
    "start_time": "2022-06-09T14:53:24.248Z"
   },
   {
    "duration": 15,
    "start_time": "2022-06-09T14:53:34.615Z"
   },
   {
    "duration": 8,
    "start_time": "2022-06-09T14:53:59.701Z"
   },
   {
    "duration": 19,
    "start_time": "2022-06-09T14:54:07.412Z"
   },
   {
    "duration": 10,
    "start_time": "2022-06-09T14:54:21.050Z"
   },
   {
    "duration": 13,
    "start_time": "2022-06-09T14:54:27.867Z"
   },
   {
    "duration": 8,
    "start_time": "2022-06-09T14:54:43.645Z"
   },
   {
    "duration": 10,
    "start_time": "2022-06-09T14:54:53.053Z"
   },
   {
    "duration": 9,
    "start_time": "2022-06-09T14:55:10.503Z"
   },
   {
    "duration": 8,
    "start_time": "2022-06-09T14:55:18.928Z"
   },
   {
    "duration": 965,
    "start_time": "2022-06-09T14:55:36.110Z"
   },
   {
    "duration": 386,
    "start_time": "2022-06-09T14:55:37.077Z"
   },
   {
    "duration": 15,
    "start_time": "2022-06-09T14:55:37.464Z"
   },
   {
    "duration": 32,
    "start_time": "2022-06-09T14:55:37.481Z"
   },
   {
    "duration": 10,
    "start_time": "2022-06-09T14:55:37.516Z"
   },
   {
    "duration": 21,
    "start_time": "2022-06-09T14:55:37.528Z"
   },
   {
    "duration": 6,
    "start_time": "2022-06-09T14:55:37.551Z"
   },
   {
    "duration": 36,
    "start_time": "2022-06-09T14:55:37.558Z"
   },
   {
    "duration": 6,
    "start_time": "2022-06-09T14:55:37.596Z"
   },
   {
    "duration": 11,
    "start_time": "2022-06-09T14:55:37.604Z"
   },
   {
    "duration": 9,
    "start_time": "2022-06-09T14:55:37.617Z"
   },
   {
    "duration": 10,
    "start_time": "2022-06-09T14:55:37.628Z"
   },
   {
    "duration": 2,
    "start_time": "2022-06-09T14:55:37.639Z"
   },
   {
    "duration": 75,
    "start_time": "2022-06-09T14:55:37.644Z"
   },
   {
    "duration": 44,
    "start_time": "2022-06-09T14:55:37.720Z"
   },
   {
    "duration": 44,
    "start_time": "2022-06-09T14:55:37.765Z"
   },
   {
    "duration": 12,
    "start_time": "2022-06-09T14:55:37.810Z"
   },
   {
    "duration": 40,
    "start_time": "2022-06-09T14:55:37.824Z"
   },
   {
    "duration": 41,
    "start_time": "2022-06-09T14:55:37.866Z"
   },
   {
    "duration": 27,
    "start_time": "2022-06-09T14:55:37.908Z"
   },
   {
    "duration": 12,
    "start_time": "2022-06-09T14:55:37.936Z"
   },
   {
    "duration": 12,
    "start_time": "2022-06-09T14:55:37.949Z"
   },
   {
    "duration": 33,
    "start_time": "2022-06-09T14:55:37.962Z"
   },
   {
    "duration": 11,
    "start_time": "2022-06-09T14:55:37.997Z"
   },
   {
    "duration": 8,
    "start_time": "2022-06-09T14:55:38.010Z"
   },
   {
    "duration": 21,
    "start_time": "2022-06-09T14:55:38.019Z"
   },
   {
    "duration": 8,
    "start_time": "2022-06-09T14:55:38.043Z"
   },
   {
    "duration": 20,
    "start_time": "2022-06-09T14:55:38.053Z"
   },
   {
    "duration": 224,
    "start_time": "2022-06-09T14:55:38.095Z"
   },
   {
    "duration": 18,
    "start_time": "2022-06-09T14:55:38.321Z"
   },
   {
    "duration": 17,
    "start_time": "2022-06-09T14:55:38.340Z"
   },
   {
    "duration": 46,
    "start_time": "2022-06-09T14:55:38.358Z"
   },
   {
    "duration": 212,
    "start_time": "2022-06-09T14:55:38.405Z"
   },
   {
    "duration": 188,
    "start_time": "2022-06-09T14:55:38.618Z"
   },
   {
    "duration": 211,
    "start_time": "2022-06-09T14:55:38.807Z"
   },
   {
    "duration": 9,
    "start_time": "2022-06-09T14:55:39.020Z"
   },
   {
    "duration": 14,
    "start_time": "2022-06-09T14:55:39.031Z"
   },
   {
    "duration": 6,
    "start_time": "2022-06-09T14:55:39.046Z"
   },
   {
    "duration": 7,
    "start_time": "2022-06-09T14:55:39.054Z"
   },
   {
    "duration": 5,
    "start_time": "2022-06-09T14:55:39.063Z"
   },
   {
    "duration": 24,
    "start_time": "2022-06-09T14:55:39.071Z"
   },
   {
    "duration": 975,
    "start_time": "2022-06-09T14:57:08.704Z"
   },
   {
    "duration": 372,
    "start_time": "2022-06-09T14:57:09.681Z"
   },
   {
    "duration": 12,
    "start_time": "2022-06-09T14:57:10.055Z"
   },
   {
    "duration": 41,
    "start_time": "2022-06-09T14:57:10.068Z"
   },
   {
    "duration": 8,
    "start_time": "2022-06-09T14:57:10.112Z"
   },
   {
    "duration": 37,
    "start_time": "2022-06-09T14:57:10.121Z"
   },
   {
    "duration": 6,
    "start_time": "2022-06-09T14:57:10.160Z"
   },
   {
    "duration": 29,
    "start_time": "2022-06-09T14:57:10.167Z"
   },
   {
    "duration": 6,
    "start_time": "2022-06-09T14:57:10.198Z"
   },
   {
    "duration": 20,
    "start_time": "2022-06-09T14:57:10.206Z"
   },
   {
    "duration": 22,
    "start_time": "2022-06-09T14:57:10.228Z"
   },
   {
    "duration": 16,
    "start_time": "2022-06-09T14:57:10.252Z"
   },
   {
    "duration": 7,
    "start_time": "2022-06-09T14:57:10.269Z"
   },
   {
    "duration": 61,
    "start_time": "2022-06-09T14:57:10.278Z"
   },
   {
    "duration": 44,
    "start_time": "2022-06-09T14:57:10.340Z"
   },
   {
    "duration": 33,
    "start_time": "2022-06-09T14:57:10.394Z"
   },
   {
    "duration": 13,
    "start_time": "2022-06-09T14:57:10.428Z"
   },
   {
    "duration": 53,
    "start_time": "2022-06-09T14:57:10.442Z"
   },
   {
    "duration": 28,
    "start_time": "2022-06-09T14:57:10.497Z"
   },
   {
    "duration": 26,
    "start_time": "2022-06-09T14:57:10.527Z"
   },
   {
    "duration": 10,
    "start_time": "2022-06-09T14:57:10.555Z"
   },
   {
    "duration": 37,
    "start_time": "2022-06-09T14:57:10.567Z"
   },
   {
    "duration": 13,
    "start_time": "2022-06-09T14:57:10.606Z"
   },
   {
    "duration": 9,
    "start_time": "2022-06-09T14:57:10.621Z"
   },
   {
    "duration": 9,
    "start_time": "2022-06-09T14:57:10.631Z"
   },
   {
    "duration": 14,
    "start_time": "2022-06-09T14:57:10.641Z"
   },
   {
    "duration": 7,
    "start_time": "2022-06-09T14:57:10.656Z"
   },
   {
    "duration": 38,
    "start_time": "2022-06-09T14:57:10.664Z"
   },
   {
    "duration": 221,
    "start_time": "2022-06-09T14:57:10.703Z"
   },
   {
    "duration": 18,
    "start_time": "2022-06-09T14:57:10.926Z"
   },
   {
    "duration": 18,
    "start_time": "2022-06-09T14:57:10.946Z"
   },
   {
    "duration": 49,
    "start_time": "2022-06-09T14:57:10.965Z"
   },
   {
    "duration": 209,
    "start_time": "2022-06-09T14:57:11.016Z"
   },
   {
    "duration": 196,
    "start_time": "2022-06-09T14:57:11.226Z"
   },
   {
    "duration": 206,
    "start_time": "2022-06-09T14:57:11.424Z"
   },
   {
    "duration": 9,
    "start_time": "2022-06-09T14:57:11.632Z"
   },
   {
    "duration": 26,
    "start_time": "2022-06-09T14:57:11.642Z"
   },
   {
    "duration": 13,
    "start_time": "2022-06-09T14:57:11.669Z"
   },
   {
    "duration": 21,
    "start_time": "2022-06-09T14:57:11.683Z"
   },
   {
    "duration": 13,
    "start_time": "2022-06-09T14:57:11.705Z"
   },
   {
    "duration": 17,
    "start_time": "2022-06-09T14:57:11.720Z"
   },
   {
    "duration": 40,
    "start_time": "2022-06-09T14:58:39.740Z"
   },
   {
    "duration": 39,
    "start_time": "2022-06-09T14:58:44.307Z"
   },
   {
    "duration": 49,
    "start_time": "2022-06-09T14:58:56.470Z"
   },
   {
    "duration": 117,
    "start_time": "2022-06-09T14:59:09.347Z"
   },
   {
    "duration": 16,
    "start_time": "2022-06-09T14:59:26.486Z"
   },
   {
    "duration": 36,
    "start_time": "2022-06-09T15:00:13.714Z"
   },
   {
    "duration": 14,
    "start_time": "2022-06-09T15:00:28.454Z"
   },
   {
    "duration": 31,
    "start_time": "2022-06-09T15:01:10.064Z"
   },
   {
    "duration": 13,
    "start_time": "2022-06-09T15:01:26.625Z"
   },
   {
    "duration": 551,
    "start_time": "2022-06-09T15:02:16.437Z"
   },
   {
    "duration": 492,
    "start_time": "2022-06-09T15:02:30.624Z"
   },
   {
    "duration": 504,
    "start_time": "2022-06-09T15:02:46.525Z"
   },
   {
    "duration": 7,
    "start_time": "2022-06-09T15:03:07.815Z"
   },
   {
    "duration": 1114,
    "start_time": "2022-06-09T15:03:13.996Z"
   },
   {
    "duration": 389,
    "start_time": "2022-06-09T15:03:15.112Z"
   },
   {
    "duration": 12,
    "start_time": "2022-06-09T15:03:15.503Z"
   },
   {
    "duration": 22,
    "start_time": "2022-06-09T15:03:15.516Z"
   },
   {
    "duration": 10,
    "start_time": "2022-06-09T15:03:15.540Z"
   },
   {
    "duration": 19,
    "start_time": "2022-06-09T15:03:15.551Z"
   },
   {
    "duration": 25,
    "start_time": "2022-06-09T15:03:15.572Z"
   },
   {
    "duration": 18,
    "start_time": "2022-06-09T15:03:15.599Z"
   },
   {
    "duration": 7,
    "start_time": "2022-06-09T15:03:15.618Z"
   },
   {
    "duration": 12,
    "start_time": "2022-06-09T15:03:15.626Z"
   },
   {
    "duration": 11,
    "start_time": "2022-06-09T15:03:15.640Z"
   },
   {
    "duration": 13,
    "start_time": "2022-06-09T15:03:15.652Z"
   },
   {
    "duration": 84,
    "start_time": "2022-06-09T15:03:15.666Z"
   },
   {
    "duration": 17,
    "start_time": "2022-06-09T15:03:15.753Z"
   },
   {
    "duration": 80,
    "start_time": "2022-06-09T15:03:15.771Z"
   },
   {
    "duration": 15,
    "start_time": "2022-06-09T15:03:15.853Z"
   },
   {
    "duration": 50,
    "start_time": "2022-06-09T15:03:15.869Z"
   },
   {
    "duration": 13,
    "start_time": "2022-06-09T15:03:15.921Z"
   },
   {
    "duration": 10,
    "start_time": "2022-06-09T15:03:15.936Z"
   },
   {
    "duration": 15,
    "start_time": "2022-06-09T15:03:15.947Z"
   },
   {
    "duration": 64,
    "start_time": "2022-06-09T15:03:15.964Z"
   },
   {
    "duration": 31,
    "start_time": "2022-06-09T15:03:16.031Z"
   },
   {
    "duration": 39,
    "start_time": "2022-06-09T15:03:16.064Z"
   },
   {
    "duration": 12,
    "start_time": "2022-06-09T15:03:16.105Z"
   },
   {
    "duration": 14,
    "start_time": "2022-06-09T15:03:16.119Z"
   },
   {
    "duration": 12,
    "start_time": "2022-06-09T15:03:16.135Z"
   },
   {
    "duration": 14,
    "start_time": "2022-06-09T15:03:16.148Z"
   },
   {
    "duration": 38,
    "start_time": "2022-06-09T15:03:16.164Z"
   },
   {
    "duration": 20,
    "start_time": "2022-06-09T15:03:16.203Z"
   },
   {
    "duration": 11,
    "start_time": "2022-06-09T15:03:16.225Z"
   },
   {
    "duration": 22,
    "start_time": "2022-06-09T15:03:16.237Z"
   },
   {
    "duration": 243,
    "start_time": "2022-06-09T15:03:16.261Z"
   },
   {
    "duration": 19,
    "start_time": "2022-06-09T15:03:16.506Z"
   },
   {
    "duration": 19,
    "start_time": "2022-06-09T15:03:16.527Z"
   },
   {
    "duration": 52,
    "start_time": "2022-06-09T15:03:16.548Z"
   },
   {
    "duration": 241,
    "start_time": "2022-06-09T15:03:16.602Z"
   },
   {
    "duration": 252,
    "start_time": "2022-06-09T15:03:16.845Z"
   },
   {
    "duration": 225,
    "start_time": "2022-06-09T15:03:17.099Z"
   },
   {
    "duration": 10,
    "start_time": "2022-06-09T15:03:17.325Z"
   },
   {
    "duration": 21,
    "start_time": "2022-06-09T15:03:17.337Z"
   },
   {
    "duration": 11,
    "start_time": "2022-06-09T15:03:17.362Z"
   },
   {
    "duration": 19,
    "start_time": "2022-06-09T15:03:17.375Z"
   },
   {
    "duration": 11,
    "start_time": "2022-06-09T15:03:17.396Z"
   },
   {
    "duration": 23,
    "start_time": "2022-06-09T15:03:17.409Z"
   },
   {
    "duration": 132,
    "start_time": "2022-06-09T15:03:35.177Z"
   },
   {
    "duration": 8,
    "start_time": "2022-06-09T15:03:40.146Z"
   },
   {
    "duration": 1124,
    "start_time": "2022-06-09T15:03:49.896Z"
   },
   {
    "duration": 401,
    "start_time": "2022-06-09T15:03:51.022Z"
   },
   {
    "duration": 14,
    "start_time": "2022-06-09T15:03:51.425Z"
   },
   {
    "duration": 31,
    "start_time": "2022-06-09T15:03:51.441Z"
   },
   {
    "duration": 9,
    "start_time": "2022-06-09T15:03:51.474Z"
   },
   {
    "duration": 38,
    "start_time": "2022-06-09T15:03:51.484Z"
   },
   {
    "duration": 10,
    "start_time": "2022-06-09T15:03:51.525Z"
   },
   {
    "duration": 22,
    "start_time": "2022-06-09T15:03:51.537Z"
   },
   {
    "duration": 8,
    "start_time": "2022-06-09T15:03:51.560Z"
   },
   {
    "duration": 34,
    "start_time": "2022-06-09T15:03:51.570Z"
   },
   {
    "duration": 21,
    "start_time": "2022-06-09T15:03:51.606Z"
   },
   {
    "duration": 15,
    "start_time": "2022-06-09T15:03:51.629Z"
   },
   {
    "duration": 72,
    "start_time": "2022-06-09T15:03:51.647Z"
   },
   {
    "duration": 22,
    "start_time": "2022-06-09T15:03:51.722Z"
   },
   {
    "duration": 77,
    "start_time": "2022-06-09T15:03:51.746Z"
   },
   {
    "duration": 17,
    "start_time": "2022-06-09T15:03:51.825Z"
   },
   {
    "duration": 74,
    "start_time": "2022-06-09T15:03:51.845Z"
   },
   {
    "duration": 21,
    "start_time": "2022-06-09T15:03:51.921Z"
   },
   {
    "duration": 18,
    "start_time": "2022-06-09T15:03:51.944Z"
   },
   {
    "duration": 74,
    "start_time": "2022-06-09T15:03:51.964Z"
   },
   {
    "duration": 44,
    "start_time": "2022-06-09T15:03:52.040Z"
   },
   {
    "duration": 43,
    "start_time": "2022-06-09T15:03:52.096Z"
   },
   {
    "duration": 13,
    "start_time": "2022-06-09T15:03:52.141Z"
   },
   {
    "duration": 39,
    "start_time": "2022-06-09T15:03:52.156Z"
   },
   {
    "duration": 17,
    "start_time": "2022-06-09T15:03:52.198Z"
   },
   {
    "duration": 20,
    "start_time": "2022-06-09T15:03:52.217Z"
   },
   {
    "duration": 14,
    "start_time": "2022-06-09T15:03:52.239Z"
   },
   {
    "duration": 41,
    "start_time": "2022-06-09T15:03:52.255Z"
   },
   {
    "duration": 10,
    "start_time": "2022-06-09T15:03:52.298Z"
   },
   {
    "duration": 38,
    "start_time": "2022-06-09T15:03:52.311Z"
   },
   {
    "duration": 308,
    "start_time": "2022-06-09T15:03:52.351Z"
   },
   {
    "duration": 20,
    "start_time": "2022-06-09T15:03:52.661Z"
   },
   {
    "duration": 21,
    "start_time": "2022-06-09T15:03:52.694Z"
   },
   {
    "duration": 30,
    "start_time": "2022-06-09T15:03:52.717Z"
   },
   {
    "duration": 276,
    "start_time": "2022-06-09T15:03:52.748Z"
   },
   {
    "duration": 257,
    "start_time": "2022-06-09T15:03:53.026Z"
   },
   {
    "duration": 262,
    "start_time": "2022-06-09T15:03:53.285Z"
   },
   {
    "duration": 10,
    "start_time": "2022-06-09T15:03:53.548Z"
   },
   {
    "duration": 20,
    "start_time": "2022-06-09T15:03:53.560Z"
   },
   {
    "duration": 15,
    "start_time": "2022-06-09T15:03:53.582Z"
   },
   {
    "duration": 11,
    "start_time": "2022-06-09T15:03:53.600Z"
   },
   {
    "duration": 15,
    "start_time": "2022-06-09T15:03:53.612Z"
   },
   {
    "duration": 7,
    "start_time": "2022-06-09T15:03:53.629Z"
   },
   {
    "duration": 112,
    "start_time": "2022-06-09T15:04:10.204Z"
   },
   {
    "duration": 513,
    "start_time": "2022-06-09T15:04:13.588Z"
   },
   {
    "duration": 1076,
    "start_time": "2022-06-09T15:04:20.188Z"
   },
   {
    "duration": 401,
    "start_time": "2022-06-09T15:04:21.265Z"
   },
   {
    "duration": 12,
    "start_time": "2022-06-09T15:04:21.668Z"
   },
   {
    "duration": 26,
    "start_time": "2022-06-09T15:04:21.683Z"
   },
   {
    "duration": 9,
    "start_time": "2022-06-09T15:04:21.710Z"
   },
   {
    "duration": 25,
    "start_time": "2022-06-09T15:04:21.721Z"
   },
   {
    "duration": 8,
    "start_time": "2022-06-09T15:04:21.747Z"
   },
   {
    "duration": 45,
    "start_time": "2022-06-09T15:04:21.757Z"
   },
   {
    "duration": 8,
    "start_time": "2022-06-09T15:04:21.804Z"
   },
   {
    "duration": 13,
    "start_time": "2022-06-09T15:04:21.815Z"
   },
   {
    "duration": 12,
    "start_time": "2022-06-09T15:04:21.830Z"
   },
   {
    "duration": 14,
    "start_time": "2022-06-09T15:04:21.844Z"
   },
   {
    "duration": 94,
    "start_time": "2022-06-09T15:04:21.860Z"
   },
   {
    "duration": 40,
    "start_time": "2022-06-09T15:04:21.956Z"
   },
   {
    "duration": 65,
    "start_time": "2022-06-09T15:04:21.997Z"
   },
   {
    "duration": 41,
    "start_time": "2022-06-09T15:04:22.063Z"
   },
   {
    "duration": 42,
    "start_time": "2022-06-09T15:04:22.107Z"
   },
   {
    "duration": 19,
    "start_time": "2022-06-09T15:04:22.151Z"
   },
   {
    "duration": 18,
    "start_time": "2022-06-09T15:04:22.194Z"
   },
   {
    "duration": 40,
    "start_time": "2022-06-09T15:04:22.214Z"
   },
   {
    "duration": 54,
    "start_time": "2022-06-09T15:04:22.256Z"
   },
   {
    "duration": 31,
    "start_time": "2022-06-09T15:04:22.312Z"
   },
   {
    "duration": 14,
    "start_time": "2022-06-09T15:04:22.344Z"
   },
   {
    "duration": 37,
    "start_time": "2022-06-09T15:04:22.360Z"
   },
   {
    "duration": 12,
    "start_time": "2022-06-09T15:04:22.398Z"
   },
   {
    "duration": 13,
    "start_time": "2022-06-09T15:04:22.412Z"
   },
   {
    "duration": 10,
    "start_time": "2022-06-09T15:04:22.427Z"
   },
   {
    "duration": 15,
    "start_time": "2022-06-09T15:04:22.440Z"
   },
   {
    "duration": 39,
    "start_time": "2022-06-09T15:04:22.456Z"
   },
   {
    "duration": 31,
    "start_time": "2022-06-09T15:04:22.498Z"
   },
   {
    "duration": 276,
    "start_time": "2022-06-09T15:04:22.531Z"
   },
   {
    "duration": 24,
    "start_time": "2022-06-09T15:04:22.809Z"
   },
   {
    "duration": 25,
    "start_time": "2022-06-09T15:04:22.834Z"
   },
   {
    "duration": 53,
    "start_time": "2022-06-09T15:04:22.860Z"
   },
   {
    "duration": 253,
    "start_time": "2022-06-09T15:04:22.915Z"
   },
   {
    "duration": 240,
    "start_time": "2022-06-09T15:04:23.170Z"
   },
   {
    "duration": 241,
    "start_time": "2022-06-09T15:04:23.412Z"
   },
   {
    "duration": 11,
    "start_time": "2022-06-09T15:04:23.655Z"
   },
   {
    "duration": 29,
    "start_time": "2022-06-09T15:04:23.667Z"
   },
   {
    "duration": 7,
    "start_time": "2022-06-09T15:04:23.698Z"
   },
   {
    "duration": 15,
    "start_time": "2022-06-09T15:04:23.707Z"
   },
   {
    "duration": 8,
    "start_time": "2022-06-09T15:04:23.724Z"
   },
   {
    "duration": 8,
    "start_time": "2022-06-09T15:04:23.734Z"
   },
   {
    "duration": 4,
    "start_time": "2022-06-09T15:20:16.253Z"
   },
   {
    "duration": 86,
    "start_time": "2022-06-09T15:21:11.418Z"
   },
   {
    "duration": 991,
    "start_time": "2022-06-09T15:21:22.339Z"
   },
   {
    "duration": 381,
    "start_time": "2022-06-09T15:21:23.332Z"
   },
   {
    "duration": 11,
    "start_time": "2022-06-09T15:21:23.715Z"
   },
   {
    "duration": 26,
    "start_time": "2022-06-09T15:21:23.728Z"
   },
   {
    "duration": 8,
    "start_time": "2022-06-09T15:21:23.756Z"
   },
   {
    "duration": 30,
    "start_time": "2022-06-09T15:21:23.766Z"
   },
   {
    "duration": 9,
    "start_time": "2022-06-09T15:21:23.798Z"
   },
   {
    "duration": 23,
    "start_time": "2022-06-09T15:21:23.809Z"
   },
   {
    "duration": 19,
    "start_time": "2022-06-09T15:21:23.834Z"
   },
   {
    "duration": 11,
    "start_time": "2022-06-09T15:21:23.856Z"
   },
   {
    "duration": 18,
    "start_time": "2022-06-09T15:21:23.869Z"
   },
   {
    "duration": 17,
    "start_time": "2022-06-09T15:21:23.894Z"
   },
   {
    "duration": 76,
    "start_time": "2022-06-09T15:21:23.913Z"
   },
   {
    "duration": 27,
    "start_time": "2022-06-09T15:21:23.992Z"
   },
   {
    "duration": 54,
    "start_time": "2022-06-09T15:21:24.021Z"
   },
   {
    "duration": 21,
    "start_time": "2022-06-09T15:21:24.077Z"
   },
   {
    "duration": 34,
    "start_time": "2022-06-09T15:21:24.100Z"
   },
   {
    "duration": 12,
    "start_time": "2022-06-09T15:21:24.136Z"
   },
   {
    "duration": 12,
    "start_time": "2022-06-09T15:21:24.150Z"
   },
   {
    "duration": 69,
    "start_time": "2022-06-09T15:21:24.164Z"
   },
   {
    "duration": 29,
    "start_time": "2022-06-09T15:21:24.235Z"
   },
   {
    "duration": 43,
    "start_time": "2022-06-09T15:21:24.266Z"
   },
   {
    "duration": 12,
    "start_time": "2022-06-09T15:21:24.311Z"
   },
   {
    "duration": 15,
    "start_time": "2022-06-09T15:21:24.325Z"
   },
   {
    "duration": 12,
    "start_time": "2022-06-09T15:21:24.342Z"
   },
   {
    "duration": 17,
    "start_time": "2022-06-09T15:21:24.356Z"
   },
   {
    "duration": 15,
    "start_time": "2022-06-09T15:21:24.395Z"
   },
   {
    "duration": 18,
    "start_time": "2022-06-09T15:21:24.412Z"
   },
   {
    "duration": 10,
    "start_time": "2022-06-09T15:21:24.432Z"
   },
   {
    "duration": 20,
    "start_time": "2022-06-09T15:21:24.444Z"
   },
   {
    "duration": 30,
    "start_time": "2022-06-09T15:21:24.465Z"
   },
   {
    "duration": 102,
    "start_time": "2022-06-09T15:21:24.497Z"
   },
   {
    "duration": 0,
    "start_time": "2022-06-09T15:21:24.601Z"
   },
   {
    "duration": 0,
    "start_time": "2022-06-09T15:21:24.603Z"
   },
   {
    "duration": 0,
    "start_time": "2022-06-09T15:21:24.604Z"
   },
   {
    "duration": 0,
    "start_time": "2022-06-09T15:21:24.605Z"
   },
   {
    "duration": 0,
    "start_time": "2022-06-09T15:21:24.606Z"
   },
   {
    "duration": 0,
    "start_time": "2022-06-09T15:21:24.608Z"
   },
   {
    "duration": 0,
    "start_time": "2022-06-09T15:21:24.609Z"
   },
   {
    "duration": 0,
    "start_time": "2022-06-09T15:21:24.610Z"
   },
   {
    "duration": 0,
    "start_time": "2022-06-09T15:21:24.611Z"
   },
   {
    "duration": 0,
    "start_time": "2022-06-09T15:21:24.613Z"
   },
   {
    "duration": 0,
    "start_time": "2022-06-09T15:21:24.614Z"
   },
   {
    "duration": 0,
    "start_time": "2022-06-09T15:21:24.615Z"
   },
   {
    "duration": 0,
    "start_time": "2022-06-09T15:21:24.617Z"
   },
   {
    "duration": 18,
    "start_time": "2022-06-09T15:21:37.749Z"
   },
   {
    "duration": 4,
    "start_time": "2022-06-09T15:23:48.400Z"
   },
   {
    "duration": 15,
    "start_time": "2022-06-09T15:23:51.017Z"
   },
   {
    "duration": 5,
    "start_time": "2022-06-09T15:24:15.648Z"
   },
   {
    "duration": 16,
    "start_time": "2022-06-09T15:24:16.806Z"
   },
   {
    "duration": 4,
    "start_time": "2022-06-09T15:24:42.260Z"
   },
   {
    "duration": 107,
    "start_time": "2022-06-09T15:24:42.910Z"
   },
   {
    "duration": 41,
    "start_time": "2022-06-09T15:33:58.638Z"
   },
   {
    "duration": 57,
    "start_time": "2022-06-09T15:34:40.957Z"
   },
   {
    "duration": 5,
    "start_time": "2022-06-09T15:35:35.174Z"
   },
   {
    "duration": 124,
    "start_time": "2022-06-09T15:35:37.739Z"
   },
   {
    "duration": 141,
    "start_time": "2022-06-09T15:35:49.871Z"
   },
   {
    "duration": 5,
    "start_time": "2022-06-09T15:39:04.847Z"
   },
   {
    "duration": 109,
    "start_time": "2022-06-09T15:39:07.717Z"
   },
   {
    "duration": 5,
    "start_time": "2022-06-09T15:40:36.060Z"
   },
   {
    "duration": 111,
    "start_time": "2022-06-09T15:40:38.291Z"
   },
   {
    "duration": 33,
    "start_time": "2022-06-09T15:42:44.699Z"
   },
   {
    "duration": 15,
    "start_time": "2022-06-09T15:42:50.130Z"
   },
   {
    "duration": 37,
    "start_time": "2022-06-09T15:43:14.469Z"
   },
   {
    "duration": 20,
    "start_time": "2022-06-09T15:43:22.370Z"
   },
   {
    "duration": 1026,
    "start_time": "2022-06-09T15:43:43.725Z"
   },
   {
    "duration": 377,
    "start_time": "2022-06-09T15:43:44.753Z"
   },
   {
    "duration": 11,
    "start_time": "2022-06-09T15:43:45.131Z"
   },
   {
    "duration": 23,
    "start_time": "2022-06-09T15:43:45.143Z"
   },
   {
    "duration": 7,
    "start_time": "2022-06-09T15:43:45.168Z"
   },
   {
    "duration": 27,
    "start_time": "2022-06-09T15:43:45.177Z"
   },
   {
    "duration": 8,
    "start_time": "2022-06-09T15:43:45.206Z"
   },
   {
    "duration": 18,
    "start_time": "2022-06-09T15:43:45.215Z"
   },
   {
    "duration": 7,
    "start_time": "2022-06-09T15:43:45.234Z"
   },
   {
    "duration": 15,
    "start_time": "2022-06-09T15:43:45.243Z"
   },
   {
    "duration": 8,
    "start_time": "2022-06-09T15:43:45.260Z"
   },
   {
    "duration": 31,
    "start_time": "2022-06-09T15:43:45.269Z"
   },
   {
    "duration": 58,
    "start_time": "2022-06-09T15:43:45.301Z"
   },
   {
    "duration": 34,
    "start_time": "2022-06-09T15:43:45.363Z"
   },
   {
    "duration": 45,
    "start_time": "2022-06-09T15:43:45.398Z"
   },
   {
    "duration": 14,
    "start_time": "2022-06-09T15:43:45.445Z"
   },
   {
    "duration": 52,
    "start_time": "2022-06-09T15:43:45.460Z"
   },
   {
    "duration": 16,
    "start_time": "2022-06-09T15:43:45.514Z"
   },
   {
    "duration": 13,
    "start_time": "2022-06-09T15:43:45.531Z"
   },
   {
    "duration": 60,
    "start_time": "2022-06-09T15:43:45.546Z"
   },
   {
    "duration": 38,
    "start_time": "2022-06-09T15:43:45.607Z"
   },
   {
    "duration": 27,
    "start_time": "2022-06-09T15:43:45.647Z"
   },
   {
    "duration": 28,
    "start_time": "2022-06-09T15:43:45.675Z"
   },
   {
    "duration": 11,
    "start_time": "2022-06-09T15:43:45.705Z"
   },
   {
    "duration": 10,
    "start_time": "2022-06-09T15:43:45.718Z"
   },
   {
    "duration": 10,
    "start_time": "2022-06-09T15:43:45.729Z"
   },
   {
    "duration": 10,
    "start_time": "2022-06-09T15:43:45.740Z"
   },
   {
    "duration": 48,
    "start_time": "2022-06-09T15:43:45.751Z"
   },
   {
    "duration": 8,
    "start_time": "2022-06-09T15:43:45.800Z"
   },
   {
    "duration": 17,
    "start_time": "2022-06-09T15:43:45.810Z"
   },
   {
    "duration": 5,
    "start_time": "2022-06-09T15:43:45.829Z"
   },
   {
    "duration": 155,
    "start_time": "2022-06-09T15:43:45.836Z"
   },
   {
    "duration": 0,
    "start_time": "2022-06-09T15:43:45.994Z"
   },
   {
    "duration": 0,
    "start_time": "2022-06-09T15:43:45.995Z"
   },
   {
    "duration": 0,
    "start_time": "2022-06-09T15:43:45.997Z"
   },
   {
    "duration": 0,
    "start_time": "2022-06-09T15:43:45.997Z"
   },
   {
    "duration": 0,
    "start_time": "2022-06-09T15:43:45.998Z"
   },
   {
    "duration": 0,
    "start_time": "2022-06-09T15:43:45.999Z"
   },
   {
    "duration": 0,
    "start_time": "2022-06-09T15:43:46.000Z"
   },
   {
    "duration": 0,
    "start_time": "2022-06-09T15:43:46.001Z"
   },
   {
    "duration": 0,
    "start_time": "2022-06-09T15:43:46.002Z"
   },
   {
    "duration": 0,
    "start_time": "2022-06-09T15:43:46.003Z"
   },
   {
    "duration": 0,
    "start_time": "2022-06-09T15:43:46.004Z"
   },
   {
    "duration": 0,
    "start_time": "2022-06-09T15:43:46.005Z"
   },
   {
    "duration": 0,
    "start_time": "2022-06-09T15:43:46.006Z"
   },
   {
    "duration": 985,
    "start_time": "2022-06-09T15:43:48.515Z"
   },
   {
    "duration": 375,
    "start_time": "2022-06-09T15:43:49.502Z"
   },
   {
    "duration": 12,
    "start_time": "2022-06-09T15:43:49.878Z"
   },
   {
    "duration": 23,
    "start_time": "2022-06-09T15:43:49.892Z"
   },
   {
    "duration": 7,
    "start_time": "2022-06-09T15:43:49.917Z"
   },
   {
    "duration": 20,
    "start_time": "2022-06-09T15:43:49.926Z"
   },
   {
    "duration": 9,
    "start_time": "2022-06-09T15:43:49.948Z"
   },
   {
    "duration": 41,
    "start_time": "2022-06-09T15:43:49.959Z"
   },
   {
    "duration": 7,
    "start_time": "2022-06-09T15:43:50.002Z"
   },
   {
    "duration": 11,
    "start_time": "2022-06-09T15:43:50.011Z"
   },
   {
    "duration": 16,
    "start_time": "2022-06-09T15:43:50.023Z"
   },
   {
    "duration": 16,
    "start_time": "2022-06-09T15:43:50.040Z"
   },
   {
    "duration": 69,
    "start_time": "2022-06-09T15:43:50.058Z"
   },
   {
    "duration": 16,
    "start_time": "2022-06-09T15:43:50.128Z"
   },
   {
    "duration": 62,
    "start_time": "2022-06-09T15:43:50.146Z"
   },
   {
    "duration": 15,
    "start_time": "2022-06-09T15:43:50.209Z"
   },
   {
    "duration": 33,
    "start_time": "2022-06-09T15:43:50.225Z"
   },
   {
    "duration": 13,
    "start_time": "2022-06-09T15:43:50.260Z"
   },
   {
    "duration": 15,
    "start_time": "2022-06-09T15:43:50.295Z"
   },
   {
    "duration": 43,
    "start_time": "2022-06-09T15:43:50.312Z"
   },
   {
    "duration": 40,
    "start_time": "2022-06-09T15:43:50.356Z"
   },
   {
    "duration": 29,
    "start_time": "2022-06-09T15:43:50.397Z"
   },
   {
    "duration": 12,
    "start_time": "2022-06-09T15:43:50.427Z"
   },
   {
    "duration": 13,
    "start_time": "2022-06-09T15:43:50.441Z"
   },
   {
    "duration": 39,
    "start_time": "2022-06-09T15:43:50.456Z"
   },
   {
    "duration": 10,
    "start_time": "2022-06-09T15:43:50.497Z"
   },
   {
    "duration": 9,
    "start_time": "2022-06-09T15:43:50.509Z"
   },
   {
    "duration": 33,
    "start_time": "2022-06-09T15:43:50.522Z"
   },
   {
    "duration": 8,
    "start_time": "2022-06-09T15:43:50.557Z"
   },
   {
    "duration": 29,
    "start_time": "2022-06-09T15:43:50.567Z"
   },
   {
    "duration": 8,
    "start_time": "2022-06-09T15:43:50.598Z"
   },
   {
    "duration": 135,
    "start_time": "2022-06-09T15:43:50.609Z"
   },
   {
    "duration": 0,
    "start_time": "2022-06-09T15:43:50.746Z"
   },
   {
    "duration": 0,
    "start_time": "2022-06-09T15:43:50.747Z"
   },
   {
    "duration": 0,
    "start_time": "2022-06-09T15:43:50.748Z"
   },
   {
    "duration": 0,
    "start_time": "2022-06-09T15:43:50.748Z"
   },
   {
    "duration": 0,
    "start_time": "2022-06-09T15:43:50.749Z"
   },
   {
    "duration": 0,
    "start_time": "2022-06-09T15:43:50.750Z"
   },
   {
    "duration": 0,
    "start_time": "2022-06-09T15:43:50.752Z"
   },
   {
    "duration": 0,
    "start_time": "2022-06-09T15:43:50.754Z"
   },
   {
    "duration": 0,
    "start_time": "2022-06-09T15:43:50.755Z"
   },
   {
    "duration": 0,
    "start_time": "2022-06-09T15:43:50.756Z"
   },
   {
    "duration": 0,
    "start_time": "2022-06-09T15:43:50.757Z"
   },
   {
    "duration": 0,
    "start_time": "2022-06-09T15:43:50.759Z"
   },
   {
    "duration": 0,
    "start_time": "2022-06-09T15:43:50.760Z"
   },
   {
    "duration": 14,
    "start_time": "2022-06-09T15:45:02.109Z"
   },
   {
    "duration": 14,
    "start_time": "2022-06-09T15:45:08.744Z"
   },
   {
    "duration": 1057,
    "start_time": "2022-06-09T15:45:15.582Z"
   },
   {
    "duration": 374,
    "start_time": "2022-06-09T15:45:16.641Z"
   },
   {
    "duration": 11,
    "start_time": "2022-06-09T15:45:17.016Z"
   },
   {
    "duration": 22,
    "start_time": "2022-06-09T15:45:17.028Z"
   },
   {
    "duration": 7,
    "start_time": "2022-06-09T15:45:17.052Z"
   },
   {
    "duration": 20,
    "start_time": "2022-06-09T15:45:17.060Z"
   },
   {
    "duration": 7,
    "start_time": "2022-06-09T15:45:17.081Z"
   },
   {
    "duration": 15,
    "start_time": "2022-06-09T15:45:17.094Z"
   },
   {
    "duration": 7,
    "start_time": "2022-06-09T15:45:17.111Z"
   },
   {
    "duration": 13,
    "start_time": "2022-06-09T15:45:17.119Z"
   },
   {
    "duration": 11,
    "start_time": "2022-06-09T15:45:17.134Z"
   },
   {
    "duration": 17,
    "start_time": "2022-06-09T15:45:17.146Z"
   },
   {
    "duration": 74,
    "start_time": "2022-06-09T15:45:17.165Z"
   },
   {
    "duration": 15,
    "start_time": "2022-06-09T15:45:17.242Z"
   },
   {
    "duration": 64,
    "start_time": "2022-06-09T15:45:17.258Z"
   },
   {
    "duration": 27,
    "start_time": "2022-06-09T15:45:17.324Z"
   },
   {
    "duration": 56,
    "start_time": "2022-06-09T15:45:17.353Z"
   },
   {
    "duration": 15,
    "start_time": "2022-06-09T15:45:17.411Z"
   },
   {
    "duration": 14,
    "start_time": "2022-06-09T15:45:17.428Z"
   },
   {
    "duration": 75,
    "start_time": "2022-06-09T15:45:17.444Z"
   },
   {
    "duration": 42,
    "start_time": "2022-06-09T15:45:17.521Z"
   },
   {
    "duration": 56,
    "start_time": "2022-06-09T15:45:17.566Z"
   },
   {
    "duration": 12,
    "start_time": "2022-06-09T15:45:17.624Z"
   },
   {
    "duration": 13,
    "start_time": "2022-06-09T15:45:17.637Z"
   },
   {
    "duration": 9,
    "start_time": "2022-06-09T15:45:17.652Z"
   },
   {
    "duration": 35,
    "start_time": "2022-06-09T15:45:17.662Z"
   },
   {
    "duration": 9,
    "start_time": "2022-06-09T15:45:17.698Z"
   },
   {
    "duration": 15,
    "start_time": "2022-06-09T15:45:17.709Z"
   },
   {
    "duration": 8,
    "start_time": "2022-06-09T15:45:17.726Z"
   },
   {
    "duration": 20,
    "start_time": "2022-06-09T15:45:17.736Z"
   },
   {
    "duration": 46,
    "start_time": "2022-06-09T15:45:17.758Z"
   },
   {
    "duration": 9,
    "start_time": "2022-06-09T15:45:17.806Z"
   },
   {
    "duration": 129,
    "start_time": "2022-06-09T15:45:17.817Z"
   },
   {
    "duration": 0,
    "start_time": "2022-06-09T15:45:17.948Z"
   },
   {
    "duration": 0,
    "start_time": "2022-06-09T15:45:17.950Z"
   },
   {
    "duration": 0,
    "start_time": "2022-06-09T15:45:17.951Z"
   },
   {
    "duration": 0,
    "start_time": "2022-06-09T15:45:17.953Z"
   },
   {
    "duration": 0,
    "start_time": "2022-06-09T15:45:17.955Z"
   },
   {
    "duration": 0,
    "start_time": "2022-06-09T15:45:17.956Z"
   },
   {
    "duration": 0,
    "start_time": "2022-06-09T15:45:17.958Z"
   },
   {
    "duration": 0,
    "start_time": "2022-06-09T15:45:17.959Z"
   },
   {
    "duration": 0,
    "start_time": "2022-06-09T15:45:17.960Z"
   },
   {
    "duration": 0,
    "start_time": "2022-06-09T15:45:17.962Z"
   },
   {
    "duration": 0,
    "start_time": "2022-06-09T15:45:17.963Z"
   },
   {
    "duration": 0,
    "start_time": "2022-06-09T15:45:17.964Z"
   },
   {
    "duration": 0,
    "start_time": "2022-06-09T15:45:17.965Z"
   },
   {
    "duration": 14,
    "start_time": "2022-06-09T15:45:28.396Z"
   },
   {
    "duration": 20,
    "start_time": "2022-06-09T15:47:04.648Z"
   },
   {
    "duration": 14,
    "start_time": "2022-06-09T15:47:44.167Z"
   },
   {
    "duration": 15,
    "start_time": "2022-06-09T15:47:54.008Z"
   },
   {
    "duration": 1061,
    "start_time": "2022-06-09T15:47:59.802Z"
   },
   {
    "duration": 389,
    "start_time": "2022-06-09T15:48:00.865Z"
   },
   {
    "duration": 11,
    "start_time": "2022-06-09T15:48:01.256Z"
   },
   {
    "duration": 21,
    "start_time": "2022-06-09T15:48:01.269Z"
   },
   {
    "duration": 8,
    "start_time": "2022-06-09T15:48:01.293Z"
   },
   {
    "duration": 25,
    "start_time": "2022-06-09T15:48:01.303Z"
   },
   {
    "duration": 7,
    "start_time": "2022-06-09T15:48:01.331Z"
   },
   {
    "duration": 26,
    "start_time": "2022-06-09T15:48:01.339Z"
   },
   {
    "duration": 15,
    "start_time": "2022-06-09T15:48:01.366Z"
   },
   {
    "duration": 28,
    "start_time": "2022-06-09T15:48:01.382Z"
   },
   {
    "duration": 14,
    "start_time": "2022-06-09T15:48:01.411Z"
   },
   {
    "duration": 12,
    "start_time": "2022-06-09T15:48:01.426Z"
   },
   {
    "duration": 62,
    "start_time": "2022-06-09T15:48:01.439Z"
   },
   {
    "duration": 17,
    "start_time": "2022-06-09T15:48:01.505Z"
   },
   {
    "duration": 77,
    "start_time": "2022-06-09T15:48:01.524Z"
   },
   {
    "duration": 15,
    "start_time": "2022-06-09T15:48:01.602Z"
   },
   {
    "duration": 51,
    "start_time": "2022-06-09T15:48:01.619Z"
   },
   {
    "duration": 20,
    "start_time": "2022-06-09T15:48:01.674Z"
   },
   {
    "duration": 14,
    "start_time": "2022-06-09T15:48:01.696Z"
   },
   {
    "duration": 44,
    "start_time": "2022-06-09T15:48:01.712Z"
   },
   {
    "duration": 38,
    "start_time": "2022-06-09T15:48:01.758Z"
   },
   {
    "duration": 31,
    "start_time": "2022-06-09T15:48:01.798Z"
   },
   {
    "duration": 13,
    "start_time": "2022-06-09T15:48:01.831Z"
   },
   {
    "duration": 14,
    "start_time": "2022-06-09T15:48:01.845Z"
   },
   {
    "duration": 38,
    "start_time": "2022-06-09T15:48:01.861Z"
   },
   {
    "duration": 14,
    "start_time": "2022-06-09T15:48:01.901Z"
   },
   {
    "duration": 10,
    "start_time": "2022-06-09T15:48:01.917Z"
   },
   {
    "duration": 38,
    "start_time": "2022-06-09T15:48:01.929Z"
   },
   {
    "duration": 12,
    "start_time": "2022-06-09T15:48:01.969Z"
   },
   {
    "duration": 35,
    "start_time": "2022-06-09T15:48:01.983Z"
   },
   {
    "duration": 19,
    "start_time": "2022-06-09T15:48:02.020Z"
   },
   {
    "duration": 8,
    "start_time": "2022-06-09T15:48:02.041Z"
   },
   {
    "duration": 141,
    "start_time": "2022-06-09T15:48:02.051Z"
   },
   {
    "duration": 0,
    "start_time": "2022-06-09T15:48:02.194Z"
   },
   {
    "duration": 0,
    "start_time": "2022-06-09T15:48:02.195Z"
   },
   {
    "duration": 0,
    "start_time": "2022-06-09T15:48:02.196Z"
   },
   {
    "duration": 0,
    "start_time": "2022-06-09T15:48:02.197Z"
   },
   {
    "duration": 0,
    "start_time": "2022-06-09T15:48:02.198Z"
   },
   {
    "duration": 0,
    "start_time": "2022-06-09T15:48:02.200Z"
   },
   {
    "duration": 0,
    "start_time": "2022-06-09T15:48:02.200Z"
   },
   {
    "duration": 0,
    "start_time": "2022-06-09T15:48:02.201Z"
   },
   {
    "duration": 0,
    "start_time": "2022-06-09T15:48:02.203Z"
   },
   {
    "duration": 1,
    "start_time": "2022-06-09T15:48:02.204Z"
   },
   {
    "duration": 0,
    "start_time": "2022-06-09T15:48:02.206Z"
   },
   {
    "duration": 0,
    "start_time": "2022-06-09T15:48:02.206Z"
   },
   {
    "duration": 0,
    "start_time": "2022-06-09T15:48:02.207Z"
   },
   {
    "duration": 14,
    "start_time": "2022-06-09T15:49:37.099Z"
   },
   {
    "duration": 5,
    "start_time": "2022-06-09T15:50:35.712Z"
   },
   {
    "duration": 999,
    "start_time": "2022-06-09T15:50:41.816Z"
   },
   {
    "duration": 371,
    "start_time": "2022-06-09T15:50:42.817Z"
   },
   {
    "duration": 13,
    "start_time": "2022-06-09T15:50:43.190Z"
   },
   {
    "duration": 21,
    "start_time": "2022-06-09T15:50:43.205Z"
   },
   {
    "duration": 7,
    "start_time": "2022-06-09T15:50:43.227Z"
   },
   {
    "duration": 20,
    "start_time": "2022-06-09T15:50:43.236Z"
   },
   {
    "duration": 6,
    "start_time": "2022-06-09T15:50:43.258Z"
   },
   {
    "duration": 41,
    "start_time": "2022-06-09T15:50:43.265Z"
   },
   {
    "duration": 7,
    "start_time": "2022-06-09T15:50:43.307Z"
   },
   {
    "duration": 12,
    "start_time": "2022-06-09T15:50:43.316Z"
   },
   {
    "duration": 12,
    "start_time": "2022-06-09T15:50:43.330Z"
   },
   {
    "duration": 14,
    "start_time": "2022-06-09T15:50:43.343Z"
   },
   {
    "duration": 72,
    "start_time": "2022-06-09T15:50:43.358Z"
   },
   {
    "duration": 16,
    "start_time": "2022-06-09T15:50:43.432Z"
   },
   {
    "duration": 61,
    "start_time": "2022-06-09T15:50:43.449Z"
   },
   {
    "duration": 14,
    "start_time": "2022-06-09T15:50:43.512Z"
   },
   {
    "duration": 34,
    "start_time": "2022-06-09T15:50:43.527Z"
   },
   {
    "duration": 12,
    "start_time": "2022-06-09T15:50:43.562Z"
   },
   {
    "duration": 11,
    "start_time": "2022-06-09T15:50:43.594Z"
   },
   {
    "duration": 39,
    "start_time": "2022-06-09T15:50:43.606Z"
   },
   {
    "duration": 28,
    "start_time": "2022-06-09T15:50:43.646Z"
   },
   {
    "duration": 46,
    "start_time": "2022-06-09T15:50:43.675Z"
   },
   {
    "duration": 11,
    "start_time": "2022-06-09T15:50:43.723Z"
   },
   {
    "duration": 12,
    "start_time": "2022-06-09T15:50:43.736Z"
   },
   {
    "duration": 11,
    "start_time": "2022-06-09T15:50:43.750Z"
   },
   {
    "duration": 43,
    "start_time": "2022-06-09T15:50:43.762Z"
   },
   {
    "duration": 12,
    "start_time": "2022-06-09T15:50:43.807Z"
   },
   {
    "duration": 15,
    "start_time": "2022-06-09T15:50:43.822Z"
   },
   {
    "duration": 8,
    "start_time": "2022-06-09T15:50:43.839Z"
   },
   {
    "duration": 18,
    "start_time": "2022-06-09T15:50:43.849Z"
   },
   {
    "duration": 37,
    "start_time": "2022-06-09T15:50:43.869Z"
   },
   {
    "duration": 5,
    "start_time": "2022-06-09T15:50:43.908Z"
   },
   {
    "duration": 108,
    "start_time": "2022-06-09T15:50:43.914Z"
   },
   {
    "duration": 0,
    "start_time": "2022-06-09T15:50:44.023Z"
   },
   {
    "duration": 0,
    "start_time": "2022-06-09T15:50:44.024Z"
   },
   {
    "duration": 0,
    "start_time": "2022-06-09T15:50:44.025Z"
   },
   {
    "duration": 0,
    "start_time": "2022-06-09T15:50:44.026Z"
   },
   {
    "duration": 0,
    "start_time": "2022-06-09T15:50:44.029Z"
   },
   {
    "duration": 0,
    "start_time": "2022-06-09T15:50:44.030Z"
   },
   {
    "duration": 0,
    "start_time": "2022-06-09T15:50:44.031Z"
   },
   {
    "duration": 0,
    "start_time": "2022-06-09T15:50:44.032Z"
   },
   {
    "duration": 0,
    "start_time": "2022-06-09T15:50:44.032Z"
   },
   {
    "duration": 0,
    "start_time": "2022-06-09T15:50:44.033Z"
   },
   {
    "duration": 0,
    "start_time": "2022-06-09T15:50:44.034Z"
   },
   {
    "duration": 0,
    "start_time": "2022-06-09T15:50:44.035Z"
   },
   {
    "duration": 0,
    "start_time": "2022-06-09T15:50:44.036Z"
   },
   {
    "duration": 6,
    "start_time": "2022-06-09T15:51:49.563Z"
   },
   {
    "duration": 5,
    "start_time": "2022-06-09T15:52:09.748Z"
   },
   {
    "duration": 986,
    "start_time": "2022-06-09T15:52:31.096Z"
   },
   {
    "duration": 365,
    "start_time": "2022-06-09T15:52:32.084Z"
   },
   {
    "duration": 10,
    "start_time": "2022-06-09T15:52:32.451Z"
   },
   {
    "duration": 25,
    "start_time": "2022-06-09T15:52:32.462Z"
   },
   {
    "duration": 8,
    "start_time": "2022-06-09T15:52:32.488Z"
   },
   {
    "duration": 19,
    "start_time": "2022-06-09T15:52:32.497Z"
   },
   {
    "duration": 6,
    "start_time": "2022-06-09T15:52:32.517Z"
   },
   {
    "duration": 18,
    "start_time": "2022-06-09T15:52:32.524Z"
   },
   {
    "duration": 6,
    "start_time": "2022-06-09T15:52:32.543Z"
   },
   {
    "duration": 12,
    "start_time": "2022-06-09T15:52:32.551Z"
   },
   {
    "duration": 10,
    "start_time": "2022-06-09T15:52:32.564Z"
   },
   {
    "duration": 23,
    "start_time": "2022-06-09T15:52:32.576Z"
   },
   {
    "duration": 71,
    "start_time": "2022-06-09T15:52:32.600Z"
   },
   {
    "duration": 16,
    "start_time": "2022-06-09T15:52:32.673Z"
   },
   {
    "duration": 49,
    "start_time": "2022-06-09T15:52:32.690Z"
   },
   {
    "duration": 15,
    "start_time": "2022-06-09T15:52:32.741Z"
   },
   {
    "duration": 53,
    "start_time": "2022-06-09T15:52:32.757Z"
   },
   {
    "duration": 14,
    "start_time": "2022-06-09T15:52:32.811Z"
   },
   {
    "duration": 12,
    "start_time": "2022-06-09T15:52:32.826Z"
   },
   {
    "duration": 60,
    "start_time": "2022-06-09T15:52:32.840Z"
   },
   {
    "duration": 27,
    "start_time": "2022-06-09T15:52:32.901Z"
   },
   {
    "duration": 29,
    "start_time": "2022-06-09T15:52:32.930Z"
   },
   {
    "duration": 34,
    "start_time": "2022-06-09T15:52:32.961Z"
   },
   {
    "duration": 13,
    "start_time": "2022-06-09T15:52:32.997Z"
   },
   {
    "duration": 10,
    "start_time": "2022-06-09T15:52:33.011Z"
   },
   {
    "duration": 9,
    "start_time": "2022-06-09T15:52:33.023Z"
   },
   {
    "duration": 8,
    "start_time": "2022-06-09T15:52:33.034Z"
   },
   {
    "duration": 17,
    "start_time": "2022-06-09T15:52:33.044Z"
   },
   {
    "duration": 38,
    "start_time": "2022-06-09T15:52:33.062Z"
   },
   {
    "duration": 33,
    "start_time": "2022-06-09T15:52:33.102Z"
   },
   {
    "duration": 14,
    "start_time": "2022-06-09T15:52:33.137Z"
   },
   {
    "duration": 6,
    "start_time": "2022-06-09T15:52:33.152Z"
   },
   {
    "duration": 110,
    "start_time": "2022-06-09T15:52:33.159Z"
   },
   {
    "duration": 117,
    "start_time": "2022-06-09T15:52:33.271Z"
   },
   {
    "duration": 0,
    "start_time": "2022-06-09T15:52:33.390Z"
   },
   {
    "duration": 0,
    "start_time": "2022-06-09T15:52:33.394Z"
   },
   {
    "duration": 0,
    "start_time": "2022-06-09T15:52:33.395Z"
   },
   {
    "duration": 0,
    "start_time": "2022-06-09T15:52:33.396Z"
   },
   {
    "duration": 0,
    "start_time": "2022-06-09T15:52:33.397Z"
   },
   {
    "duration": 0,
    "start_time": "2022-06-09T15:52:33.397Z"
   },
   {
    "duration": 0,
    "start_time": "2022-06-09T15:52:33.398Z"
   },
   {
    "duration": 0,
    "start_time": "2022-06-09T15:52:33.400Z"
   },
   {
    "duration": 0,
    "start_time": "2022-06-09T15:52:33.400Z"
   },
   {
    "duration": 0,
    "start_time": "2022-06-09T15:52:33.401Z"
   },
   {
    "duration": 0,
    "start_time": "2022-06-09T15:52:33.402Z"
   },
   {
    "duration": 0,
    "start_time": "2022-06-09T15:52:33.403Z"
   },
   {
    "duration": 27,
    "start_time": "2022-06-09T15:53:11.996Z"
   },
   {
    "duration": 29,
    "start_time": "2022-06-09T15:53:42.112Z"
   },
   {
    "duration": 28,
    "start_time": "2022-06-09T15:53:45.403Z"
   },
   {
    "duration": 24,
    "start_time": "2022-06-09T15:53:48.776Z"
   },
   {
    "duration": 11,
    "start_time": "2022-06-09T15:53:53.021Z"
   },
   {
    "duration": 11,
    "start_time": "2022-06-09T15:53:56.231Z"
   },
   {
    "duration": 14,
    "start_time": "2022-06-09T15:54:02.785Z"
   },
   {
    "duration": 960,
    "start_time": "2022-06-09T15:54:09.699Z"
   },
   {
    "duration": 387,
    "start_time": "2022-06-09T15:54:10.661Z"
   },
   {
    "duration": 11,
    "start_time": "2022-06-09T15:54:11.049Z"
   },
   {
    "duration": 20,
    "start_time": "2022-06-09T15:54:11.062Z"
   },
   {
    "duration": 8,
    "start_time": "2022-06-09T15:54:11.083Z"
   },
   {
    "duration": 18,
    "start_time": "2022-06-09T15:54:11.092Z"
   },
   {
    "duration": 6,
    "start_time": "2022-06-09T15:54:11.112Z"
   },
   {
    "duration": 16,
    "start_time": "2022-06-09T15:54:11.119Z"
   },
   {
    "duration": 7,
    "start_time": "2022-06-09T15:54:11.136Z"
   },
   {
    "duration": 9,
    "start_time": "2022-06-09T15:54:11.145Z"
   },
   {
    "duration": 9,
    "start_time": "2022-06-09T15:54:11.156Z"
   },
   {
    "duration": 29,
    "start_time": "2022-06-09T15:54:11.166Z"
   },
   {
    "duration": 55,
    "start_time": "2022-06-09T15:54:11.196Z"
   },
   {
    "duration": 15,
    "start_time": "2022-06-09T15:54:11.253Z"
   },
   {
    "duration": 64,
    "start_time": "2022-06-09T15:54:11.269Z"
   },
   {
    "duration": 14,
    "start_time": "2022-06-09T15:54:11.334Z"
   },
   {
    "duration": 48,
    "start_time": "2022-06-09T15:54:11.349Z"
   },
   {
    "duration": 12,
    "start_time": "2022-06-09T15:54:11.399Z"
   },
   {
    "duration": 12,
    "start_time": "2022-06-09T15:54:11.412Z"
   },
   {
    "duration": 38,
    "start_time": "2022-06-09T15:54:11.425Z"
   },
   {
    "duration": 50,
    "start_time": "2022-06-09T15:54:11.464Z"
   },
   {
    "duration": 28,
    "start_time": "2022-06-09T15:54:11.515Z"
   },
   {
    "duration": 9,
    "start_time": "2022-06-09T15:54:11.544Z"
   },
   {
    "duration": 10,
    "start_time": "2022-06-09T15:54:11.555Z"
   },
   {
    "duration": 30,
    "start_time": "2022-06-09T15:54:11.566Z"
   },
   {
    "duration": 11,
    "start_time": "2022-06-09T15:54:11.597Z"
   },
   {
    "duration": 10,
    "start_time": "2022-06-09T15:54:11.609Z"
   },
   {
    "duration": 15,
    "start_time": "2022-06-09T15:54:11.622Z"
   },
   {
    "duration": 7,
    "start_time": "2022-06-09T15:54:11.638Z"
   },
   {
    "duration": 18,
    "start_time": "2022-06-09T15:54:11.647Z"
   },
   {
    "duration": 30,
    "start_time": "2022-06-09T15:54:11.667Z"
   },
   {
    "duration": 6,
    "start_time": "2022-06-09T15:54:11.698Z"
   },
   {
    "duration": 119,
    "start_time": "2022-06-09T15:54:11.705Z"
   },
   {
    "duration": 113,
    "start_time": "2022-06-09T15:54:11.825Z"
   },
   {
    "duration": 0,
    "start_time": "2022-06-09T15:54:11.939Z"
   },
   {
    "duration": 0,
    "start_time": "2022-06-09T15:54:11.940Z"
   },
   {
    "duration": 0,
    "start_time": "2022-06-09T15:54:11.941Z"
   },
   {
    "duration": 0,
    "start_time": "2022-06-09T15:54:11.942Z"
   },
   {
    "duration": 0,
    "start_time": "2022-06-09T15:54:11.943Z"
   },
   {
    "duration": 0,
    "start_time": "2022-06-09T15:54:11.944Z"
   },
   {
    "duration": 0,
    "start_time": "2022-06-09T15:54:11.945Z"
   },
   {
    "duration": 0,
    "start_time": "2022-06-09T15:54:11.946Z"
   },
   {
    "duration": 0,
    "start_time": "2022-06-09T15:54:11.946Z"
   },
   {
    "duration": 0,
    "start_time": "2022-06-09T15:54:11.947Z"
   },
   {
    "duration": 0,
    "start_time": "2022-06-09T15:54:11.948Z"
   },
   {
    "duration": 0,
    "start_time": "2022-06-09T15:54:11.949Z"
   },
   {
    "duration": 16,
    "start_time": "2022-06-09T15:54:29.089Z"
   },
   {
    "duration": 14,
    "start_time": "2022-06-09T15:54:35.261Z"
   },
   {
    "duration": 1026,
    "start_time": "2022-06-09T15:54:53.884Z"
   },
   {
    "duration": 380,
    "start_time": "2022-06-09T15:54:54.913Z"
   },
   {
    "duration": 10,
    "start_time": "2022-06-09T15:54:55.295Z"
   },
   {
    "duration": 21,
    "start_time": "2022-06-09T15:54:55.307Z"
   },
   {
    "duration": 8,
    "start_time": "2022-06-09T15:54:55.330Z"
   },
   {
    "duration": 24,
    "start_time": "2022-06-09T15:54:55.339Z"
   },
   {
    "duration": 7,
    "start_time": "2022-06-09T15:54:55.364Z"
   },
   {
    "duration": 16,
    "start_time": "2022-06-09T15:54:55.395Z"
   },
   {
    "duration": 8,
    "start_time": "2022-06-09T15:54:55.412Z"
   },
   {
    "duration": 16,
    "start_time": "2022-06-09T15:54:55.422Z"
   },
   {
    "duration": 19,
    "start_time": "2022-06-09T15:54:55.440Z"
   },
   {
    "duration": 10,
    "start_time": "2022-06-09T15:54:55.461Z"
   },
   {
    "duration": 70,
    "start_time": "2022-06-09T15:54:55.472Z"
   },
   {
    "duration": 15,
    "start_time": "2022-06-09T15:54:55.545Z"
   },
   {
    "duration": 60,
    "start_time": "2022-06-09T15:54:55.562Z"
   },
   {
    "duration": 15,
    "start_time": "2022-06-09T15:54:55.623Z"
   },
   {
    "duration": 33,
    "start_time": "2022-06-09T15:54:55.640Z"
   },
   {
    "duration": 12,
    "start_time": "2022-06-09T15:54:55.693Z"
   },
   {
    "duration": 11,
    "start_time": "2022-06-09T15:54:55.707Z"
   },
   {
    "duration": 34,
    "start_time": "2022-06-09T15:54:55.719Z"
   },
   {
    "duration": 50,
    "start_time": "2022-06-09T15:54:55.754Z"
   },
   {
    "duration": 27,
    "start_time": "2022-06-09T15:54:55.806Z"
   },
   {
    "duration": 9,
    "start_time": "2022-06-09T15:54:55.835Z"
   },
   {
    "duration": 10,
    "start_time": "2022-06-09T15:54:55.846Z"
   },
   {
    "duration": 9,
    "start_time": "2022-06-09T15:54:55.857Z"
   },
   {
    "duration": 28,
    "start_time": "2022-06-09T15:54:55.868Z"
   },
   {
    "duration": 8,
    "start_time": "2022-06-09T15:54:55.898Z"
   },
   {
    "duration": 13,
    "start_time": "2022-06-09T15:54:55.907Z"
   },
   {
    "duration": 7,
    "start_time": "2022-06-09T15:54:55.921Z"
   },
   {
    "duration": 16,
    "start_time": "2022-06-09T15:54:55.929Z"
   },
   {
    "duration": 13,
    "start_time": "2022-06-09T15:54:55.946Z"
   },
   {
    "duration": 6,
    "start_time": "2022-06-09T15:54:55.995Z"
   },
   {
    "duration": 115,
    "start_time": "2022-06-09T15:54:56.003Z"
   },
   {
    "duration": 117,
    "start_time": "2022-06-09T15:54:56.120Z"
   },
   {
    "duration": 0,
    "start_time": "2022-06-09T15:54:56.238Z"
   },
   {
    "duration": 0,
    "start_time": "2022-06-09T15:54:56.240Z"
   },
   {
    "duration": 0,
    "start_time": "2022-06-09T15:54:56.241Z"
   },
   {
    "duration": 0,
    "start_time": "2022-06-09T15:54:56.242Z"
   },
   {
    "duration": 0,
    "start_time": "2022-06-09T15:54:56.243Z"
   },
   {
    "duration": 0,
    "start_time": "2022-06-09T15:54:56.244Z"
   },
   {
    "duration": 0,
    "start_time": "2022-06-09T15:54:56.245Z"
   },
   {
    "duration": 0,
    "start_time": "2022-06-09T15:54:56.245Z"
   },
   {
    "duration": 0,
    "start_time": "2022-06-09T15:54:56.246Z"
   },
   {
    "duration": 0,
    "start_time": "2022-06-09T15:54:56.247Z"
   },
   {
    "duration": 0,
    "start_time": "2022-06-09T15:54:56.248Z"
   },
   {
    "duration": 0,
    "start_time": "2022-06-09T15:54:56.249Z"
   },
   {
    "duration": 543,
    "start_time": "2022-06-09T15:55:17.566Z"
   },
   {
    "duration": 1036,
    "start_time": "2022-06-09T15:55:23.631Z"
   },
   {
    "duration": 365,
    "start_time": "2022-06-09T15:55:24.669Z"
   },
   {
    "duration": 11,
    "start_time": "2022-06-09T15:55:25.036Z"
   },
   {
    "duration": 22,
    "start_time": "2022-06-09T15:55:25.048Z"
   },
   {
    "duration": 8,
    "start_time": "2022-06-09T15:55:25.073Z"
   },
   {
    "duration": 19,
    "start_time": "2022-06-09T15:55:25.083Z"
   },
   {
    "duration": 7,
    "start_time": "2022-06-09T15:55:25.103Z"
   },
   {
    "duration": 17,
    "start_time": "2022-06-09T15:55:25.111Z"
   },
   {
    "duration": 7,
    "start_time": "2022-06-09T15:55:25.130Z"
   },
   {
    "duration": 11,
    "start_time": "2022-06-09T15:55:25.138Z"
   },
   {
    "duration": 12,
    "start_time": "2022-06-09T15:55:25.150Z"
   },
   {
    "duration": 31,
    "start_time": "2022-06-09T15:55:25.164Z"
   },
   {
    "duration": 64,
    "start_time": "2022-06-09T15:55:25.196Z"
   },
   {
    "duration": 15,
    "start_time": "2022-06-09T15:55:25.262Z"
   },
   {
    "duration": 55,
    "start_time": "2022-06-09T15:55:25.279Z"
   },
   {
    "duration": 14,
    "start_time": "2022-06-09T15:55:25.335Z"
   },
   {
    "duration": 48,
    "start_time": "2022-06-09T15:55:25.350Z"
   },
   {
    "duration": 13,
    "start_time": "2022-06-09T15:55:25.400Z"
   },
   {
    "duration": 12,
    "start_time": "2022-06-09T15:55:25.414Z"
   },
   {
    "duration": 39,
    "start_time": "2022-06-09T15:55:25.428Z"
   },
   {
    "duration": 46,
    "start_time": "2022-06-09T15:55:25.468Z"
   },
   {
    "duration": 28,
    "start_time": "2022-06-09T15:55:25.516Z"
   },
   {
    "duration": 11,
    "start_time": "2022-06-09T15:55:25.546Z"
   },
   {
    "duration": 38,
    "start_time": "2022-06-09T15:55:25.558Z"
   },
   {
    "duration": 10,
    "start_time": "2022-06-09T15:55:25.597Z"
   },
   {
    "duration": 10,
    "start_time": "2022-06-09T15:55:25.608Z"
   },
   {
    "duration": 8,
    "start_time": "2022-06-09T15:55:25.619Z"
   },
   {
    "duration": 13,
    "start_time": "2022-06-09T15:55:25.628Z"
   },
   {
    "duration": 7,
    "start_time": "2022-06-09T15:55:25.642Z"
   },
   {
    "duration": 44,
    "start_time": "2022-06-09T15:55:25.651Z"
   },
   {
    "duration": 14,
    "start_time": "2022-06-09T15:55:25.697Z"
   },
   {
    "duration": 6,
    "start_time": "2022-06-09T15:55:25.712Z"
   },
   {
    "duration": 114,
    "start_time": "2022-06-09T15:55:25.719Z"
   },
   {
    "duration": 113,
    "start_time": "2022-06-09T15:55:25.835Z"
   },
   {
    "duration": 0,
    "start_time": "2022-06-09T15:55:25.949Z"
   },
   {
    "duration": 0,
    "start_time": "2022-06-09T15:55:25.951Z"
   },
   {
    "duration": 0,
    "start_time": "2022-06-09T15:55:25.952Z"
   },
   {
    "duration": 0,
    "start_time": "2022-06-09T15:55:25.952Z"
   },
   {
    "duration": 0,
    "start_time": "2022-06-09T15:55:25.953Z"
   },
   {
    "duration": 0,
    "start_time": "2022-06-09T15:55:25.954Z"
   },
   {
    "duration": 0,
    "start_time": "2022-06-09T15:55:25.955Z"
   },
   {
    "duration": 0,
    "start_time": "2022-06-09T15:55:25.956Z"
   },
   {
    "duration": 0,
    "start_time": "2022-06-09T15:55:25.957Z"
   },
   {
    "duration": 0,
    "start_time": "2022-06-09T15:55:25.957Z"
   },
   {
    "duration": 0,
    "start_time": "2022-06-09T15:55:25.958Z"
   },
   {
    "duration": 0,
    "start_time": "2022-06-09T15:55:25.959Z"
   },
   {
    "duration": 506,
    "start_time": "2022-06-09T15:56:30.302Z"
   },
   {
    "duration": 922,
    "start_time": "2022-06-09T15:56:35.153Z"
   },
   {
    "duration": 358,
    "start_time": "2022-06-09T15:56:36.077Z"
   },
   {
    "duration": 10,
    "start_time": "2022-06-09T15:56:36.437Z"
   },
   {
    "duration": 30,
    "start_time": "2022-06-09T15:56:36.448Z"
   },
   {
    "duration": 8,
    "start_time": "2022-06-09T15:56:36.480Z"
   },
   {
    "duration": 19,
    "start_time": "2022-06-09T15:56:36.490Z"
   },
   {
    "duration": 5,
    "start_time": "2022-06-09T15:56:36.511Z"
   },
   {
    "duration": 19,
    "start_time": "2022-06-09T15:56:36.518Z"
   },
   {
    "duration": 7,
    "start_time": "2022-06-09T15:56:36.538Z"
   },
   {
    "duration": 9,
    "start_time": "2022-06-09T15:56:36.546Z"
   },
   {
    "duration": 10,
    "start_time": "2022-06-09T15:56:36.557Z"
   },
   {
    "duration": 27,
    "start_time": "2022-06-09T15:56:36.568Z"
   },
   {
    "duration": 57,
    "start_time": "2022-06-09T15:56:36.596Z"
   },
   {
    "duration": 15,
    "start_time": "2022-06-09T15:56:36.655Z"
   },
   {
    "duration": 66,
    "start_time": "2022-06-09T15:56:36.672Z"
   },
   {
    "duration": 14,
    "start_time": "2022-06-09T15:56:36.740Z"
   },
   {
    "duration": 48,
    "start_time": "2022-06-09T15:56:36.756Z"
   },
   {
    "duration": 12,
    "start_time": "2022-06-09T15:56:36.805Z"
   },
   {
    "duration": 11,
    "start_time": "2022-06-09T15:56:36.819Z"
   },
   {
    "duration": 36,
    "start_time": "2022-06-09T15:56:36.832Z"
   },
   {
    "duration": 49,
    "start_time": "2022-06-09T15:56:36.870Z"
   },
   {
    "duration": 27,
    "start_time": "2022-06-09T15:56:36.921Z"
   },
   {
    "duration": 12,
    "start_time": "2022-06-09T15:56:36.950Z"
   },
   {
    "duration": 40,
    "start_time": "2022-06-09T15:56:36.963Z"
   },
   {
    "duration": 12,
    "start_time": "2022-06-09T15:56:37.005Z"
   },
   {
    "duration": 8,
    "start_time": "2022-06-09T15:56:37.019Z"
   },
   {
    "duration": 8,
    "start_time": "2022-06-09T15:56:37.029Z"
   },
   {
    "duration": 12,
    "start_time": "2022-06-09T15:56:37.038Z"
   },
   {
    "duration": 8,
    "start_time": "2022-06-09T15:56:37.051Z"
   },
   {
    "duration": 48,
    "start_time": "2022-06-09T15:56:37.060Z"
   },
   {
    "duration": 12,
    "start_time": "2022-06-09T15:56:37.109Z"
   },
   {
    "duration": 6,
    "start_time": "2022-06-09T15:56:37.122Z"
   },
   {
    "duration": 125,
    "start_time": "2022-06-09T15:56:37.129Z"
   },
   {
    "duration": 122,
    "start_time": "2022-06-09T15:56:37.256Z"
   },
   {
    "duration": 0,
    "start_time": "2022-06-09T15:56:37.379Z"
   },
   {
    "duration": 0,
    "start_time": "2022-06-09T15:56:37.381Z"
   },
   {
    "duration": 0,
    "start_time": "2022-06-09T15:56:37.382Z"
   },
   {
    "duration": 0,
    "start_time": "2022-06-09T15:56:37.384Z"
   },
   {
    "duration": 0,
    "start_time": "2022-06-09T15:56:37.394Z"
   },
   {
    "duration": 0,
    "start_time": "2022-06-09T15:56:37.396Z"
   },
   {
    "duration": 0,
    "start_time": "2022-06-09T15:56:37.397Z"
   },
   {
    "duration": 0,
    "start_time": "2022-06-09T15:56:37.399Z"
   },
   {
    "duration": 0,
    "start_time": "2022-06-09T15:56:37.401Z"
   },
   {
    "duration": 0,
    "start_time": "2022-06-09T15:56:37.402Z"
   },
   {
    "duration": 0,
    "start_time": "2022-06-09T15:56:37.403Z"
   },
   {
    "duration": 18,
    "start_time": "2022-06-09T15:59:24.571Z"
   },
   {
    "duration": 17,
    "start_time": "2022-06-09T15:59:28.782Z"
   },
   {
    "duration": 17,
    "start_time": "2022-06-09T15:59:37.205Z"
   },
   {
    "duration": 17,
    "start_time": "2022-06-09T15:59:39.952Z"
   },
   {
    "duration": 39,
    "start_time": "2022-06-09T16:00:06.721Z"
   },
   {
    "duration": 235,
    "start_time": "2022-06-09T16:00:41.604Z"
   },
   {
    "duration": 187,
    "start_time": "2022-06-09T16:00:44.232Z"
   },
   {
    "duration": 205,
    "start_time": "2022-06-09T16:00:47.712Z"
   },
   {
    "duration": 11,
    "start_time": "2022-06-09T16:02:55.007Z"
   },
   {
    "duration": 12,
    "start_time": "2022-06-09T16:02:59.917Z"
   },
   {
    "duration": 953,
    "start_time": "2022-06-09T16:03:09.601Z"
   },
   {
    "duration": 361,
    "start_time": "2022-06-09T16:03:10.556Z"
   },
   {
    "duration": 11,
    "start_time": "2022-06-09T16:03:10.918Z"
   },
   {
    "duration": 25,
    "start_time": "2022-06-09T16:03:10.930Z"
   },
   {
    "duration": 7,
    "start_time": "2022-06-09T16:03:10.957Z"
   },
   {
    "duration": 18,
    "start_time": "2022-06-09T16:03:10.966Z"
   },
   {
    "duration": 6,
    "start_time": "2022-06-09T16:03:10.985Z"
   },
   {
    "duration": 14,
    "start_time": "2022-06-09T16:03:10.994Z"
   },
   {
    "duration": 7,
    "start_time": "2022-06-09T16:03:11.009Z"
   },
   {
    "duration": 9,
    "start_time": "2022-06-09T16:03:11.018Z"
   },
   {
    "duration": 9,
    "start_time": "2022-06-09T16:03:11.028Z"
   },
   {
    "duration": 11,
    "start_time": "2022-06-09T16:03:11.038Z"
   },
   {
    "duration": 80,
    "start_time": "2022-06-09T16:03:11.050Z"
   },
   {
    "duration": 15,
    "start_time": "2022-06-09T16:03:11.132Z"
   },
   {
    "duration": 55,
    "start_time": "2022-06-09T16:03:11.149Z"
   },
   {
    "duration": 14,
    "start_time": "2022-06-09T16:03:11.206Z"
   },
   {
    "duration": 33,
    "start_time": "2022-06-09T16:03:11.221Z"
   },
   {
    "duration": 12,
    "start_time": "2022-06-09T16:03:11.256Z"
   },
   {
    "duration": 32,
    "start_time": "2022-06-09T16:03:11.269Z"
   },
   {
    "duration": 44,
    "start_time": "2022-06-09T16:03:11.303Z"
   },
   {
    "duration": 28,
    "start_time": "2022-06-09T16:03:11.348Z"
   },
   {
    "duration": 43,
    "start_time": "2022-06-09T16:03:11.378Z"
   },
   {
    "duration": 10,
    "start_time": "2022-06-09T16:03:11.422Z"
   },
   {
    "duration": 11,
    "start_time": "2022-06-09T16:03:11.434Z"
   },
   {
    "duration": 9,
    "start_time": "2022-06-09T16:03:11.446Z"
   },
   {
    "duration": 9,
    "start_time": "2022-06-09T16:03:11.457Z"
   },
   {
    "duration": 8,
    "start_time": "2022-06-09T16:03:11.494Z"
   },
   {
    "duration": 11,
    "start_time": "2022-06-09T16:03:11.505Z"
   },
   {
    "duration": 7,
    "start_time": "2022-06-09T16:03:11.517Z"
   },
   {
    "duration": 16,
    "start_time": "2022-06-09T16:03:11.525Z"
   },
   {
    "duration": 12,
    "start_time": "2022-06-09T16:03:11.542Z"
   },
   {
    "duration": 5,
    "start_time": "2022-06-09T16:03:11.555Z"
   },
   {
    "duration": 134,
    "start_time": "2022-06-09T16:03:11.561Z"
   },
   {
    "duration": 19,
    "start_time": "2022-06-09T16:03:11.697Z"
   },
   {
    "duration": 17,
    "start_time": "2022-06-09T16:03:11.717Z"
   },
   {
    "duration": 25,
    "start_time": "2022-06-09T16:03:11.735Z"
   },
   {
    "duration": 235,
    "start_time": "2022-06-09T16:03:11.761Z"
   },
   {
    "duration": 206,
    "start_time": "2022-06-09T16:03:11.997Z"
   },
   {
    "duration": 208,
    "start_time": "2022-06-09T16:03:12.205Z"
   },
   {
    "duration": 9,
    "start_time": "2022-06-09T16:03:12.415Z"
   },
   {
    "duration": 14,
    "start_time": "2022-06-09T16:03:12.426Z"
   },
   {
    "duration": 6,
    "start_time": "2022-06-09T16:03:12.442Z"
   },
   {
    "duration": 7,
    "start_time": "2022-06-09T16:03:12.449Z"
   },
   {
    "duration": 5,
    "start_time": "2022-06-09T16:03:12.457Z"
   },
   {
    "duration": 5,
    "start_time": "2022-06-09T16:03:12.463Z"
   },
   {
    "duration": 5,
    "start_time": "2022-06-09T16:03:21.409Z"
   },
   {
    "duration": 5,
    "start_time": "2022-06-09T16:03:23.697Z"
   },
   {
    "duration": 4,
    "start_time": "2022-06-09T16:03:28.363Z"
   },
   {
    "duration": 4,
    "start_time": "2022-06-09T16:03:30.122Z"
   },
   {
    "duration": 210,
    "start_time": "2022-06-09T16:10:16.114Z"
   },
   {
    "duration": 187,
    "start_time": "2022-06-09T16:10:29.753Z"
   },
   {
    "duration": 274,
    "start_time": "2022-06-09T16:10:41.705Z"
   },
   {
    "duration": 132,
    "start_time": "2022-06-09T16:13:23.600Z"
   },
   {
    "duration": 135,
    "start_time": "2022-06-09T16:13:52.002Z"
   },
   {
    "duration": 121,
    "start_time": "2022-06-09T16:16:02.485Z"
   },
   {
    "duration": 112,
    "start_time": "2022-06-09T16:16:05.122Z"
   },
   {
    "duration": 133,
    "start_time": "2022-06-09T16:16:55.249Z"
   },
   {
    "duration": 124,
    "start_time": "2022-06-09T16:16:59.737Z"
   },
   {
    "duration": 133,
    "start_time": "2022-06-09T16:17:22.368Z"
   },
   {
    "duration": 139,
    "start_time": "2022-06-09T16:17:30.163Z"
   },
   {
    "duration": 136,
    "start_time": "2022-06-09T16:17:41.644Z"
   },
   {
    "duration": 190,
    "start_time": "2022-06-09T16:18:12.069Z"
   },
   {
    "duration": 991,
    "start_time": "2022-06-09T16:24:14.706Z"
   },
   {
    "duration": 376,
    "start_time": "2022-06-09T16:24:15.699Z"
   },
   {
    "duration": 12,
    "start_time": "2022-06-09T16:24:16.076Z"
   },
   {
    "duration": 26,
    "start_time": "2022-06-09T16:24:16.089Z"
   },
   {
    "duration": 8,
    "start_time": "2022-06-09T16:24:16.117Z"
   },
   {
    "duration": 20,
    "start_time": "2022-06-09T16:24:16.127Z"
   },
   {
    "duration": 6,
    "start_time": "2022-06-09T16:24:16.148Z"
   },
   {
    "duration": 15,
    "start_time": "2022-06-09T16:24:16.156Z"
   },
   {
    "duration": 27,
    "start_time": "2022-06-09T16:24:16.172Z"
   },
   {
    "duration": 11,
    "start_time": "2022-06-09T16:24:16.200Z"
   },
   {
    "duration": 10,
    "start_time": "2022-06-09T16:24:16.213Z"
   },
   {
    "duration": 11,
    "start_time": "2022-06-09T16:24:16.224Z"
   },
   {
    "duration": 75,
    "start_time": "2022-06-09T16:24:16.236Z"
   },
   {
    "duration": 14,
    "start_time": "2022-06-09T16:24:16.314Z"
   },
   {
    "duration": 44,
    "start_time": "2022-06-09T16:24:16.330Z"
   },
   {
    "duration": 30,
    "start_time": "2022-06-09T16:24:16.375Z"
   },
   {
    "duration": 34,
    "start_time": "2022-06-09T16:24:16.407Z"
   },
   {
    "duration": 12,
    "start_time": "2022-06-09T16:24:16.442Z"
   },
   {
    "duration": 12,
    "start_time": "2022-06-09T16:24:16.455Z"
   },
   {
    "duration": 62,
    "start_time": "2022-06-09T16:24:16.468Z"
   },
   {
    "duration": 26,
    "start_time": "2022-06-09T16:24:16.532Z"
   },
   {
    "duration": 42,
    "start_time": "2022-06-09T16:24:16.560Z"
   },
   {
    "duration": 10,
    "start_time": "2022-06-09T16:24:16.604Z"
   },
   {
    "duration": 11,
    "start_time": "2022-06-09T16:24:16.615Z"
   },
   {
    "duration": 9,
    "start_time": "2022-06-09T16:24:16.628Z"
   },
   {
    "duration": 10,
    "start_time": "2022-06-09T16:24:16.638Z"
   },
   {
    "duration": 8,
    "start_time": "2022-06-09T16:24:16.649Z"
   },
   {
    "duration": 38,
    "start_time": "2022-06-09T16:24:16.658Z"
   },
   {
    "duration": 9,
    "start_time": "2022-06-09T16:24:16.697Z"
   },
   {
    "duration": 34,
    "start_time": "2022-06-09T16:24:16.707Z"
   },
   {
    "duration": 13,
    "start_time": "2022-06-09T16:24:16.742Z"
   },
   {
    "duration": 6,
    "start_time": "2022-06-09T16:24:16.757Z"
   },
   {
    "duration": 117,
    "start_time": "2022-06-09T16:24:16.765Z"
   },
   {
    "duration": 22,
    "start_time": "2022-06-09T16:24:16.884Z"
   },
   {
    "duration": 18,
    "start_time": "2022-06-09T16:24:16.908Z"
   },
   {
    "duration": 25,
    "start_time": "2022-06-09T16:24:16.927Z"
   },
   {
    "duration": 151,
    "start_time": "2022-06-09T16:24:16.953Z"
   },
   {
    "duration": 128,
    "start_time": "2022-06-09T16:24:17.105Z"
   },
   {
    "duration": 137,
    "start_time": "2022-06-09T16:24:17.235Z"
   },
   {
    "duration": 177,
    "start_time": "2022-06-09T16:24:17.374Z"
   },
   {
    "duration": 148,
    "start_time": "2022-06-09T16:24:17.556Z"
   },
   {
    "duration": 139,
    "start_time": "2022-06-09T16:24:17.706Z"
   },
   {
    "duration": 11,
    "start_time": "2022-06-09T16:24:17.846Z"
   },
   {
    "duration": 19,
    "start_time": "2022-06-09T16:24:17.858Z"
   },
   {
    "duration": 20,
    "start_time": "2022-06-09T16:24:17.878Z"
   },
   {
    "duration": 8,
    "start_time": "2022-06-09T16:24:17.899Z"
   },
   {
    "duration": 6,
    "start_time": "2022-06-09T16:24:17.909Z"
   },
   {
    "duration": 5,
    "start_time": "2022-06-09T16:24:17.916Z"
   },
   {
    "duration": 16,
    "start_time": "2022-06-09T16:24:41.302Z"
   },
   {
    "duration": 16,
    "start_time": "2022-06-09T16:24:44.522Z"
   },
   {
    "duration": 27,
    "start_time": "2022-06-09T16:24:49.506Z"
   },
   {
    "duration": 34,
    "start_time": "2022-06-09T16:29:24.470Z"
   },
   {
    "duration": 34,
    "start_time": "2022-06-09T16:29:39.953Z"
   },
   {
    "duration": 972,
    "start_time": "2022-06-09T16:29:51.407Z"
   },
   {
    "duration": 368,
    "start_time": "2022-06-09T16:29:52.381Z"
   },
   {
    "duration": 11,
    "start_time": "2022-06-09T16:29:52.750Z"
   },
   {
    "duration": 21,
    "start_time": "2022-06-09T16:29:52.762Z"
   },
   {
    "duration": 7,
    "start_time": "2022-06-09T16:29:52.785Z"
   },
   {
    "duration": 21,
    "start_time": "2022-06-09T16:29:52.794Z"
   },
   {
    "duration": 6,
    "start_time": "2022-06-09T16:29:52.816Z"
   },
   {
    "duration": 23,
    "start_time": "2022-06-09T16:29:52.824Z"
   },
   {
    "duration": 7,
    "start_time": "2022-06-09T16:29:52.848Z"
   },
   {
    "duration": 12,
    "start_time": "2022-06-09T16:29:52.856Z"
   },
   {
    "duration": 28,
    "start_time": "2022-06-09T16:29:52.869Z"
   },
   {
    "duration": 18,
    "start_time": "2022-06-09T16:29:52.898Z"
   },
   {
    "duration": 64,
    "start_time": "2022-06-09T16:29:52.917Z"
   },
   {
    "duration": 23,
    "start_time": "2022-06-09T16:29:52.984Z"
   },
   {
    "duration": 52,
    "start_time": "2022-06-09T16:29:53.009Z"
   },
   {
    "duration": 14,
    "start_time": "2022-06-09T16:29:53.062Z"
   },
   {
    "duration": 45,
    "start_time": "2022-06-09T16:29:53.077Z"
   },
   {
    "duration": 14,
    "start_time": "2022-06-09T16:29:53.123Z"
   },
   {
    "duration": 12,
    "start_time": "2022-06-09T16:29:53.138Z"
   },
   {
    "duration": 52,
    "start_time": "2022-06-09T16:29:53.152Z"
   },
   {
    "duration": 26,
    "start_time": "2022-06-09T16:29:53.206Z"
   },
   {
    "duration": 99,
    "start_time": "2022-06-09T16:29:53.233Z"
   },
   {
    "duration": 0,
    "start_time": "2022-06-09T16:29:53.334Z"
   },
   {
    "duration": 0,
    "start_time": "2022-06-09T16:29:53.335Z"
   },
   {
    "duration": 0,
    "start_time": "2022-06-09T16:29:53.336Z"
   },
   {
    "duration": 0,
    "start_time": "2022-06-09T16:29:53.337Z"
   },
   {
    "duration": 0,
    "start_time": "2022-06-09T16:29:53.338Z"
   },
   {
    "duration": 0,
    "start_time": "2022-06-09T16:29:53.339Z"
   },
   {
    "duration": 0,
    "start_time": "2022-06-09T16:29:53.340Z"
   },
   {
    "duration": 0,
    "start_time": "2022-06-09T16:29:53.340Z"
   },
   {
    "duration": 0,
    "start_time": "2022-06-09T16:29:53.342Z"
   },
   {
    "duration": 0,
    "start_time": "2022-06-09T16:29:53.343Z"
   },
   {
    "duration": 0,
    "start_time": "2022-06-09T16:29:53.344Z"
   },
   {
    "duration": 0,
    "start_time": "2022-06-09T16:29:53.345Z"
   },
   {
    "duration": 0,
    "start_time": "2022-06-09T16:29:53.346Z"
   },
   {
    "duration": 0,
    "start_time": "2022-06-09T16:29:53.346Z"
   },
   {
    "duration": 0,
    "start_time": "2022-06-09T16:29:53.347Z"
   },
   {
    "duration": 0,
    "start_time": "2022-06-09T16:29:53.350Z"
   },
   {
    "duration": 0,
    "start_time": "2022-06-09T16:29:53.351Z"
   },
   {
    "duration": 0,
    "start_time": "2022-06-09T16:29:53.352Z"
   },
   {
    "duration": 0,
    "start_time": "2022-06-09T16:29:53.353Z"
   },
   {
    "duration": 0,
    "start_time": "2022-06-09T16:29:53.354Z"
   },
   {
    "duration": 0,
    "start_time": "2022-06-09T16:29:53.355Z"
   },
   {
    "duration": 0,
    "start_time": "2022-06-09T16:29:53.356Z"
   },
   {
    "duration": 1,
    "start_time": "2022-06-09T16:29:53.356Z"
   },
   {
    "duration": 0,
    "start_time": "2022-06-09T16:29:53.394Z"
   },
   {
    "duration": 0,
    "start_time": "2022-06-09T16:29:53.396Z"
   },
   {
    "duration": 0,
    "start_time": "2022-06-09T16:29:53.397Z"
   },
   {
    "duration": 41,
    "start_time": "2022-06-09T16:31:14.214Z"
   },
   {
    "duration": 1057,
    "start_time": "2022-06-09T16:31:23.220Z"
   },
   {
    "duration": 397,
    "start_time": "2022-06-09T16:31:24.279Z"
   },
   {
    "duration": 12,
    "start_time": "2022-06-09T16:31:24.678Z"
   },
   {
    "duration": 27,
    "start_time": "2022-06-09T16:31:24.692Z"
   },
   {
    "duration": 8,
    "start_time": "2022-06-09T16:31:24.721Z"
   },
   {
    "duration": 19,
    "start_time": "2022-06-09T16:31:24.730Z"
   },
   {
    "duration": 6,
    "start_time": "2022-06-09T16:31:24.750Z"
   },
   {
    "duration": 19,
    "start_time": "2022-06-09T16:31:24.757Z"
   },
   {
    "duration": 8,
    "start_time": "2022-06-09T16:31:24.794Z"
   },
   {
    "duration": 12,
    "start_time": "2022-06-09T16:31:24.804Z"
   },
   {
    "duration": 16,
    "start_time": "2022-06-09T16:31:24.818Z"
   },
   {
    "duration": 11,
    "start_time": "2022-06-09T16:31:24.836Z"
   },
   {
    "duration": 79,
    "start_time": "2022-06-09T16:31:24.848Z"
   },
   {
    "duration": 16,
    "start_time": "2022-06-09T16:31:24.930Z"
   },
   {
    "duration": 72,
    "start_time": "2022-06-09T16:31:24.947Z"
   },
   {
    "duration": 15,
    "start_time": "2022-06-09T16:31:25.020Z"
   },
   {
    "duration": 37,
    "start_time": "2022-06-09T16:31:25.036Z"
   },
   {
    "duration": 33,
    "start_time": "2022-06-09T16:31:25.074Z"
   },
   {
    "duration": 13,
    "start_time": "2022-06-09T16:31:25.109Z"
   },
   {
    "duration": 39,
    "start_time": "2022-06-09T16:31:25.124Z"
   },
   {
    "duration": 50,
    "start_time": "2022-06-09T16:31:25.165Z"
   },
   {
    "duration": 28,
    "start_time": "2022-06-09T16:31:25.217Z"
   },
   {
    "duration": 12,
    "start_time": "2022-06-09T16:31:25.247Z"
   },
   {
    "duration": 40,
    "start_time": "2022-06-09T16:31:25.260Z"
   },
   {
    "duration": 12,
    "start_time": "2022-06-09T16:31:25.302Z"
   },
   {
    "duration": 10,
    "start_time": "2022-06-09T16:31:25.315Z"
   },
   {
    "duration": 9,
    "start_time": "2022-06-09T16:31:25.327Z"
   },
   {
    "duration": 12,
    "start_time": "2022-06-09T16:31:25.338Z"
   },
   {
    "duration": 43,
    "start_time": "2022-06-09T16:31:25.352Z"
   },
   {
    "duration": 16,
    "start_time": "2022-06-09T16:31:25.398Z"
   },
   {
    "duration": 13,
    "start_time": "2022-06-09T16:31:25.415Z"
   },
   {
    "duration": 6,
    "start_time": "2022-06-09T16:31:25.430Z"
   },
   {
    "duration": 135,
    "start_time": "2022-06-09T16:31:25.437Z"
   },
   {
    "duration": 25,
    "start_time": "2022-06-09T16:31:25.573Z"
   },
   {
    "duration": 17,
    "start_time": "2022-06-09T16:31:25.599Z"
   },
   {
    "duration": 28,
    "start_time": "2022-06-09T16:31:25.618Z"
   },
   {
    "duration": 147,
    "start_time": "2022-06-09T16:31:25.647Z"
   },
   {
    "duration": 128,
    "start_time": "2022-06-09T16:31:25.796Z"
   },
   {
    "duration": 146,
    "start_time": "2022-06-09T16:31:25.926Z"
   },
   {
    "duration": 136,
    "start_time": "2022-06-09T16:31:26.073Z"
   },
   {
    "duration": 137,
    "start_time": "2022-06-09T16:31:26.212Z"
   },
   {
    "duration": 143,
    "start_time": "2022-06-09T16:31:26.351Z"
   },
   {
    "duration": 10,
    "start_time": "2022-06-09T16:31:26.496Z"
   },
   {
    "duration": 13,
    "start_time": "2022-06-09T16:31:26.507Z"
   },
   {
    "duration": 5,
    "start_time": "2022-06-09T16:31:26.521Z"
   },
   {
    "duration": 9,
    "start_time": "2022-06-09T16:31:26.527Z"
   },
   {
    "duration": 6,
    "start_time": "2022-06-09T16:31:26.537Z"
   },
   {
    "duration": 5,
    "start_time": "2022-06-09T16:31:26.544Z"
   },
   {
    "duration": 526,
    "start_time": "2022-06-09T16:32:54.723Z"
   },
   {
    "duration": 966,
    "start_time": "2022-06-09T16:33:08.615Z"
   },
   {
    "duration": 376,
    "start_time": "2022-06-09T16:33:09.583Z"
   },
   {
    "duration": 12,
    "start_time": "2022-06-09T16:33:09.961Z"
   },
   {
    "duration": 23,
    "start_time": "2022-06-09T16:33:09.975Z"
   },
   {
    "duration": 8,
    "start_time": "2022-06-09T16:33:10.001Z"
   },
   {
    "duration": 18,
    "start_time": "2022-06-09T16:33:10.011Z"
   },
   {
    "duration": 8,
    "start_time": "2022-06-09T16:33:10.030Z"
   },
   {
    "duration": 25,
    "start_time": "2022-06-09T16:33:10.039Z"
   },
   {
    "duration": 7,
    "start_time": "2022-06-09T16:33:10.065Z"
   },
   {
    "duration": 27,
    "start_time": "2022-06-09T16:33:10.073Z"
   },
   {
    "duration": 10,
    "start_time": "2022-06-09T16:33:10.101Z"
   },
   {
    "duration": 13,
    "start_time": "2022-06-09T16:33:10.112Z"
   },
   {
    "duration": 56,
    "start_time": "2022-06-09T16:33:10.127Z"
   },
   {
    "duration": 16,
    "start_time": "2022-06-09T16:33:10.196Z"
   },
   {
    "duration": 53,
    "start_time": "2022-06-09T16:33:10.213Z"
   },
   {
    "duration": 35,
    "start_time": "2022-06-09T16:33:10.267Z"
   },
   {
    "duration": 30,
    "start_time": "2022-06-09T16:33:10.304Z"
   },
   {
    "duration": 11,
    "start_time": "2022-06-09T16:33:10.336Z"
   },
   {
    "duration": 11,
    "start_time": "2022-06-09T16:33:10.349Z"
   },
   {
    "duration": 59,
    "start_time": "2022-06-09T16:33:10.362Z"
   },
   {
    "duration": 26,
    "start_time": "2022-06-09T16:33:10.422Z"
   },
   {
    "duration": 27,
    "start_time": "2022-06-09T16:33:10.449Z"
   },
   {
    "duration": 25,
    "start_time": "2022-06-09T16:33:10.478Z"
   },
   {
    "duration": 11,
    "start_time": "2022-06-09T16:33:10.504Z"
   },
   {
    "duration": 10,
    "start_time": "2022-06-09T16:33:10.516Z"
   },
   {
    "duration": 9,
    "start_time": "2022-06-09T16:33:10.527Z"
   },
   {
    "duration": 9,
    "start_time": "2022-06-09T16:33:10.537Z"
   },
   {
    "duration": 23,
    "start_time": "2022-06-09T16:33:10.547Z"
   },
   {
    "duration": 9,
    "start_time": "2022-06-09T16:33:10.593Z"
   },
   {
    "duration": 16,
    "start_time": "2022-06-09T16:33:10.603Z"
   },
   {
    "duration": 12,
    "start_time": "2022-06-09T16:33:10.620Z"
   },
   {
    "duration": 5,
    "start_time": "2022-06-09T16:33:10.634Z"
   },
   {
    "duration": 123,
    "start_time": "2022-06-09T16:33:10.640Z"
   },
   {
    "duration": 18,
    "start_time": "2022-06-09T16:33:10.764Z"
   },
   {
    "duration": 24,
    "start_time": "2022-06-09T16:33:10.784Z"
   },
   {
    "duration": 26,
    "start_time": "2022-06-09T16:33:10.810Z"
   },
   {
    "duration": 141,
    "start_time": "2022-06-09T16:33:10.837Z"
   },
   {
    "duration": 132,
    "start_time": "2022-06-09T16:33:10.980Z"
   },
   {
    "duration": 134,
    "start_time": "2022-06-09T16:33:11.113Z"
   },
   {
    "duration": 123,
    "start_time": "2022-06-09T16:33:11.249Z"
   },
   {
    "duration": 134,
    "start_time": "2022-06-09T16:33:11.375Z"
   },
   {
    "duration": 139,
    "start_time": "2022-06-09T16:33:11.510Z"
   },
   {
    "duration": 9,
    "start_time": "2022-06-09T16:33:11.650Z"
   },
   {
    "duration": 13,
    "start_time": "2022-06-09T16:33:11.660Z"
   },
   {
    "duration": 4,
    "start_time": "2022-06-09T16:33:11.674Z"
   },
   {
    "duration": 4,
    "start_time": "2022-06-09T16:33:11.694Z"
   },
   {
    "duration": 8,
    "start_time": "2022-06-09T16:33:11.700Z"
   },
   {
    "duration": 7,
    "start_time": "2022-06-09T16:33:11.709Z"
   },
   {
    "duration": 140,
    "start_time": "2022-06-09T16:33:47.206Z"
   },
   {
    "duration": 975,
    "start_time": "2022-06-09T16:33:51.956Z"
   },
   {
    "duration": 380,
    "start_time": "2022-06-09T16:33:52.933Z"
   },
   {
    "duration": 12,
    "start_time": "2022-06-09T16:33:53.315Z"
   },
   {
    "duration": 21,
    "start_time": "2022-06-09T16:33:53.329Z"
   },
   {
    "duration": 8,
    "start_time": "2022-06-09T16:33:53.352Z"
   },
   {
    "duration": 20,
    "start_time": "2022-06-09T16:33:53.362Z"
   },
   {
    "duration": 13,
    "start_time": "2022-06-09T16:33:53.384Z"
   },
   {
    "duration": 20,
    "start_time": "2022-06-09T16:33:53.398Z"
   },
   {
    "duration": 7,
    "start_time": "2022-06-09T16:33:53.420Z"
   },
   {
    "duration": 10,
    "start_time": "2022-06-09T16:33:53.430Z"
   },
   {
    "duration": 21,
    "start_time": "2022-06-09T16:33:53.442Z"
   },
   {
    "duration": 36,
    "start_time": "2022-06-09T16:33:53.464Z"
   },
   {
    "duration": 59,
    "start_time": "2022-06-09T16:33:53.502Z"
   },
   {
    "duration": 17,
    "start_time": "2022-06-09T16:33:53.563Z"
   },
   {
    "duration": 55,
    "start_time": "2022-06-09T16:33:53.594Z"
   },
   {
    "duration": 16,
    "start_time": "2022-06-09T16:33:53.650Z"
   },
   {
    "duration": 48,
    "start_time": "2022-06-09T16:33:53.668Z"
   },
   {
    "duration": 14,
    "start_time": "2022-06-09T16:33:53.718Z"
   },
   {
    "duration": 14,
    "start_time": "2022-06-09T16:33:53.734Z"
   },
   {
    "duration": 91,
    "start_time": "2022-06-09T16:33:53.751Z"
   },
   {
    "duration": 34,
    "start_time": "2022-06-09T16:33:53.844Z"
   },
   {
    "duration": 42,
    "start_time": "2022-06-09T16:33:53.879Z"
   },
   {
    "duration": 11,
    "start_time": "2022-06-09T16:33:53.922Z"
   },
   {
    "duration": 14,
    "start_time": "2022-06-09T16:33:53.934Z"
   },
   {
    "duration": 46,
    "start_time": "2022-06-09T16:33:53.949Z"
   },
   {
    "duration": 20,
    "start_time": "2022-06-09T16:33:53.998Z"
   },
   {
    "duration": 17,
    "start_time": "2022-06-09T16:33:54.020Z"
   },
   {
    "duration": 21,
    "start_time": "2022-06-09T16:33:54.041Z"
   },
   {
    "duration": 36,
    "start_time": "2022-06-09T16:33:54.064Z"
   },
   {
    "duration": 16,
    "start_time": "2022-06-09T16:33:54.101Z"
   },
   {
    "duration": 14,
    "start_time": "2022-06-09T16:33:54.119Z"
   },
   {
    "duration": 6,
    "start_time": "2022-06-09T16:33:54.134Z"
   },
   {
    "duration": 136,
    "start_time": "2022-06-09T16:33:54.141Z"
   },
   {
    "duration": 28,
    "start_time": "2022-06-09T16:33:54.278Z"
   },
   {
    "duration": 17,
    "start_time": "2022-06-09T16:33:54.308Z"
   },
   {
    "duration": 26,
    "start_time": "2022-06-09T16:33:54.327Z"
   },
   {
    "duration": 174,
    "start_time": "2022-06-09T16:33:54.354Z"
   },
   {
    "duration": 130,
    "start_time": "2022-06-09T16:33:54.529Z"
   },
   {
    "duration": 147,
    "start_time": "2022-06-09T16:33:54.660Z"
   },
   {
    "duration": 153,
    "start_time": "2022-06-09T16:33:54.808Z"
   },
   {
    "duration": 135,
    "start_time": "2022-06-09T16:33:54.963Z"
   },
   {
    "duration": 144,
    "start_time": "2022-06-09T16:33:55.100Z"
   },
   {
    "duration": 11,
    "start_time": "2022-06-09T16:33:55.245Z"
   },
   {
    "duration": 35,
    "start_time": "2022-06-09T16:33:55.259Z"
   },
   {
    "duration": 7,
    "start_time": "2022-06-09T16:33:55.297Z"
   },
   {
    "duration": 13,
    "start_time": "2022-06-09T16:33:55.306Z"
   },
   {
    "duration": 8,
    "start_time": "2022-06-09T16:33:55.320Z"
   },
   {
    "duration": 5,
    "start_time": "2022-06-09T16:33:55.330Z"
   },
   {
    "duration": 617,
    "start_time": "2022-06-09T16:34:29.074Z"
   },
   {
    "duration": 1035,
    "start_time": "2022-06-09T16:34:35.121Z"
   },
   {
    "duration": 397,
    "start_time": "2022-06-09T16:34:36.158Z"
   },
   {
    "duration": 12,
    "start_time": "2022-06-09T16:34:36.556Z"
   },
   {
    "duration": 22,
    "start_time": "2022-06-09T16:34:36.569Z"
   },
   {
    "duration": 10,
    "start_time": "2022-06-09T16:34:36.594Z"
   },
   {
    "duration": 33,
    "start_time": "2022-06-09T16:34:36.606Z"
   },
   {
    "duration": 9,
    "start_time": "2022-06-09T16:34:36.641Z"
   },
   {
    "duration": 23,
    "start_time": "2022-06-09T16:34:36.652Z"
   },
   {
    "duration": 23,
    "start_time": "2022-06-09T16:34:36.677Z"
   },
   {
    "duration": 18,
    "start_time": "2022-06-09T16:34:36.701Z"
   },
   {
    "duration": 11,
    "start_time": "2022-06-09T16:34:36.720Z"
   },
   {
    "duration": 10,
    "start_time": "2022-06-09T16:34:36.733Z"
   },
   {
    "duration": 95,
    "start_time": "2022-06-09T16:34:36.744Z"
   },
   {
    "duration": 16,
    "start_time": "2022-06-09T16:34:36.842Z"
   },
   {
    "duration": 77,
    "start_time": "2022-06-09T16:34:36.859Z"
   },
   {
    "duration": 34,
    "start_time": "2022-06-09T16:34:36.938Z"
   },
   {
    "duration": 65,
    "start_time": "2022-06-09T16:34:36.974Z"
   },
   {
    "duration": 13,
    "start_time": "2022-06-09T16:34:37.041Z"
   },
   {
    "duration": 13,
    "start_time": "2022-06-09T16:34:37.056Z"
   },
   {
    "duration": 61,
    "start_time": "2022-06-09T16:34:37.071Z"
   },
   {
    "duration": 30,
    "start_time": "2022-06-09T16:34:37.133Z"
   },
   {
    "duration": 64,
    "start_time": "2022-06-09T16:34:37.166Z"
   },
   {
    "duration": 13,
    "start_time": "2022-06-09T16:34:37.233Z"
   },
   {
    "duration": 14,
    "start_time": "2022-06-09T16:34:37.248Z"
   },
   {
    "duration": 46,
    "start_time": "2022-06-09T16:34:37.265Z"
   },
   {
    "duration": 20,
    "start_time": "2022-06-09T16:34:37.314Z"
   },
   {
    "duration": 18,
    "start_time": "2022-06-09T16:34:37.336Z"
   },
   {
    "duration": 17,
    "start_time": "2022-06-09T16:34:37.356Z"
   },
   {
    "duration": 29,
    "start_time": "2022-06-09T16:34:37.374Z"
   },
   {
    "duration": 37,
    "start_time": "2022-06-09T16:34:37.405Z"
   },
   {
    "duration": 21,
    "start_time": "2022-06-09T16:34:37.443Z"
   },
   {
    "duration": 11,
    "start_time": "2022-06-09T16:34:37.466Z"
   },
   {
    "duration": 148,
    "start_time": "2022-06-09T16:34:37.479Z"
   },
   {
    "duration": 20,
    "start_time": "2022-06-09T16:34:37.629Z"
   },
   {
    "duration": 18,
    "start_time": "2022-06-09T16:34:37.650Z"
   },
   {
    "duration": 52,
    "start_time": "2022-06-09T16:34:37.670Z"
   },
   {
    "duration": 140,
    "start_time": "2022-06-09T16:34:37.724Z"
   },
   {
    "duration": 128,
    "start_time": "2022-06-09T16:34:37.866Z"
   },
   {
    "duration": 153,
    "start_time": "2022-06-09T16:34:37.996Z"
   },
   {
    "duration": 147,
    "start_time": "2022-06-09T16:34:38.151Z"
   },
   {
    "duration": 143,
    "start_time": "2022-06-09T16:34:38.302Z"
   },
   {
    "duration": 149,
    "start_time": "2022-06-09T16:34:38.447Z"
   },
   {
    "duration": 11,
    "start_time": "2022-06-09T16:34:38.597Z"
   },
   {
    "duration": 16,
    "start_time": "2022-06-09T16:34:38.609Z"
   },
   {
    "duration": 8,
    "start_time": "2022-06-09T16:34:38.627Z"
   },
   {
    "duration": 11,
    "start_time": "2022-06-09T16:34:38.636Z"
   },
   {
    "duration": 4,
    "start_time": "2022-06-09T16:34:38.649Z"
   },
   {
    "duration": 7,
    "start_time": "2022-06-09T16:34:38.654Z"
   },
   {
    "duration": 41,
    "start_time": "2022-06-09T16:43:48.436Z"
   },
   {
    "duration": 17,
    "start_time": "2022-06-09T16:44:26.677Z"
   },
   {
    "duration": 16,
    "start_time": "2022-06-09T16:44:47.032Z"
   },
   {
    "duration": 15,
    "start_time": "2022-06-09T16:44:52.722Z"
   },
   {
    "duration": 1003,
    "start_time": "2022-06-09T16:45:21.866Z"
   },
   {
    "duration": 375,
    "start_time": "2022-06-09T16:45:22.871Z"
   },
   {
    "duration": 10,
    "start_time": "2022-06-09T16:45:23.248Z"
   },
   {
    "duration": 20,
    "start_time": "2022-06-09T16:45:23.260Z"
   },
   {
    "duration": 7,
    "start_time": "2022-06-09T16:45:23.282Z"
   },
   {
    "duration": 23,
    "start_time": "2022-06-09T16:45:23.290Z"
   },
   {
    "duration": 6,
    "start_time": "2022-06-09T16:45:23.315Z"
   },
   {
    "duration": 17,
    "start_time": "2022-06-09T16:45:23.323Z"
   },
   {
    "duration": 9,
    "start_time": "2022-06-09T16:45:23.343Z"
   },
   {
    "duration": 10,
    "start_time": "2022-06-09T16:45:23.353Z"
   },
   {
    "duration": 10,
    "start_time": "2022-06-09T16:45:23.365Z"
   },
   {
    "duration": 27,
    "start_time": "2022-06-09T16:45:23.376Z"
   },
   {
    "duration": 56,
    "start_time": "2022-06-09T16:45:23.404Z"
   },
   {
    "duration": 32,
    "start_time": "2022-06-09T16:45:23.462Z"
   },
   {
    "duration": 56,
    "start_time": "2022-06-09T16:45:23.496Z"
   },
   {
    "duration": 14,
    "start_time": "2022-06-09T16:45:23.554Z"
   },
   {
    "duration": 46,
    "start_time": "2022-06-09T16:45:23.569Z"
   },
   {
    "duration": 12,
    "start_time": "2022-06-09T16:45:23.617Z"
   },
   {
    "duration": 11,
    "start_time": "2022-06-09T16:45:23.630Z"
   },
   {
    "duration": 55,
    "start_time": "2022-06-09T16:45:23.642Z"
   },
   {
    "duration": 30,
    "start_time": "2022-06-09T16:45:23.699Z"
   },
   {
    "duration": 29,
    "start_time": "2022-06-09T16:45:23.731Z"
   },
   {
    "duration": 12,
    "start_time": "2022-06-09T16:45:23.761Z"
   },
   {
    "duration": 13,
    "start_time": "2022-06-09T16:45:23.795Z"
   },
   {
    "duration": 13,
    "start_time": "2022-06-09T16:45:23.810Z"
   },
   {
    "duration": 9,
    "start_time": "2022-06-09T16:45:23.825Z"
   },
   {
    "duration": 11,
    "start_time": "2022-06-09T16:45:23.836Z"
   },
   {
    "duration": 21,
    "start_time": "2022-06-09T16:45:23.849Z"
   },
   {
    "duration": 10,
    "start_time": "2022-06-09T16:45:23.895Z"
   },
   {
    "duration": 15,
    "start_time": "2022-06-09T16:45:23.906Z"
   },
   {
    "duration": 14,
    "start_time": "2022-06-09T16:45:23.923Z"
   },
   {
    "duration": 8,
    "start_time": "2022-06-09T16:45:23.938Z"
   },
   {
    "duration": 131,
    "start_time": "2022-06-09T16:45:23.948Z"
   },
   {
    "duration": 27,
    "start_time": "2022-06-09T16:45:24.081Z"
   },
   {
    "duration": 15,
    "start_time": "2022-06-09T16:45:24.110Z"
   },
   {
    "duration": 17,
    "start_time": "2022-06-09T16:45:24.126Z"
   },
   {
    "duration": 17,
    "start_time": "2022-06-09T16:45:24.144Z"
   },
   {
    "duration": 55,
    "start_time": "2022-06-09T16:45:24.162Z"
   },
   {
    "duration": 129,
    "start_time": "2022-06-09T16:45:24.218Z"
   },
   {
    "duration": 126,
    "start_time": "2022-06-09T16:45:24.348Z"
   },
   {
    "duration": 131,
    "start_time": "2022-06-09T16:45:24.477Z"
   },
   {
    "duration": 126,
    "start_time": "2022-06-09T16:45:24.610Z"
   },
   {
    "duration": 126,
    "start_time": "2022-06-09T16:45:24.738Z"
   },
   {
    "duration": 133,
    "start_time": "2022-06-09T16:45:24.866Z"
   },
   {
    "duration": 9,
    "start_time": "2022-06-09T16:45:25.001Z"
   },
   {
    "duration": 11,
    "start_time": "2022-06-09T16:45:25.011Z"
   },
   {
    "duration": 10,
    "start_time": "2022-06-09T16:45:25.023Z"
   },
   {
    "duration": 6,
    "start_time": "2022-06-09T16:45:25.034Z"
   },
   {
    "duration": 7,
    "start_time": "2022-06-09T16:45:25.042Z"
   },
   {
    "duration": 6,
    "start_time": "2022-06-09T16:45:25.051Z"
   },
   {
    "duration": 89,
    "start_time": "2022-06-09T16:57:14.711Z"
   },
   {
    "duration": 999,
    "start_time": "2022-06-09T16:57:19.816Z"
   },
   {
    "duration": 368,
    "start_time": "2022-06-09T16:57:20.817Z"
   },
   {
    "duration": 11,
    "start_time": "2022-06-09T16:57:21.186Z"
   },
   {
    "duration": 19,
    "start_time": "2022-06-09T16:57:21.198Z"
   },
   {
    "duration": 7,
    "start_time": "2022-06-09T16:57:21.219Z"
   },
   {
    "duration": 20,
    "start_time": "2022-06-09T16:57:21.228Z"
   },
   {
    "duration": 6,
    "start_time": "2022-06-09T16:57:21.249Z"
   },
   {
    "duration": 17,
    "start_time": "2022-06-09T16:57:21.257Z"
   },
   {
    "duration": 24,
    "start_time": "2022-06-09T16:57:21.275Z"
   },
   {
    "duration": 12,
    "start_time": "2022-06-09T16:57:21.300Z"
   },
   {
    "duration": 13,
    "start_time": "2022-06-09T16:57:21.314Z"
   },
   {
    "duration": 14,
    "start_time": "2022-06-09T16:57:21.328Z"
   },
   {
    "duration": 65,
    "start_time": "2022-06-09T16:57:21.343Z"
   },
   {
    "duration": 14,
    "start_time": "2022-06-09T16:57:21.411Z"
   },
   {
    "duration": 43,
    "start_time": "2022-06-09T16:57:21.426Z"
   },
   {
    "duration": 31,
    "start_time": "2022-06-09T16:57:21.470Z"
   },
   {
    "duration": 33,
    "start_time": "2022-06-09T16:57:21.502Z"
   },
   {
    "duration": 15,
    "start_time": "2022-06-09T16:57:21.536Z"
   },
   {
    "duration": 17,
    "start_time": "2022-06-09T16:57:21.553Z"
   },
   {
    "duration": 59,
    "start_time": "2022-06-09T16:57:21.572Z"
   },
   {
    "duration": 29,
    "start_time": "2022-06-09T16:57:21.633Z"
   },
   {
    "duration": 52,
    "start_time": "2022-06-09T16:57:21.664Z"
   },
   {
    "duration": 11,
    "start_time": "2022-06-09T16:57:21.718Z"
   },
   {
    "duration": 12,
    "start_time": "2022-06-09T16:57:21.731Z"
   },
   {
    "duration": 10,
    "start_time": "2022-06-09T16:57:21.745Z"
   },
   {
    "duration": 37,
    "start_time": "2022-06-09T16:57:21.757Z"
   },
   {
    "duration": 9,
    "start_time": "2022-06-09T16:57:21.796Z"
   },
   {
    "duration": 21,
    "start_time": "2022-06-09T16:57:21.806Z"
   },
   {
    "duration": 8,
    "start_time": "2022-06-09T16:57:21.828Z"
   },
   {
    "duration": 21,
    "start_time": "2022-06-09T16:57:21.838Z"
   },
   {
    "duration": 14,
    "start_time": "2022-06-09T16:57:21.861Z"
   },
   {
    "duration": 21,
    "start_time": "2022-06-09T16:57:21.876Z"
   },
   {
    "duration": 135,
    "start_time": "2022-06-09T16:57:21.898Z"
   },
   {
    "duration": 22,
    "start_time": "2022-06-09T16:57:22.035Z"
   },
   {
    "duration": 36,
    "start_time": "2022-06-09T16:57:22.059Z"
   },
   {
    "duration": 19,
    "start_time": "2022-06-09T16:57:22.096Z"
   },
   {
    "duration": 16,
    "start_time": "2022-06-09T16:57:22.117Z"
   },
   {
    "duration": 30,
    "start_time": "2022-06-09T16:57:22.135Z"
   },
   {
    "duration": 162,
    "start_time": "2022-06-09T16:57:22.166Z"
   },
   {
    "duration": 135,
    "start_time": "2022-06-09T16:57:22.330Z"
   },
   {
    "duration": 151,
    "start_time": "2022-06-09T16:57:22.470Z"
   },
   {
    "duration": 135,
    "start_time": "2022-06-09T16:57:22.623Z"
   },
   {
    "duration": 138,
    "start_time": "2022-06-09T16:57:22.759Z"
   },
   {
    "duration": 151,
    "start_time": "2022-06-09T16:57:22.899Z"
   },
   {
    "duration": 10,
    "start_time": "2022-06-09T16:57:23.051Z"
   },
   {
    "duration": 14,
    "start_time": "2022-06-09T16:57:23.062Z"
   },
   {
    "duration": 5,
    "start_time": "2022-06-09T16:57:23.095Z"
   },
   {
    "duration": 6,
    "start_time": "2022-06-09T16:57:23.101Z"
   },
   {
    "duration": 4,
    "start_time": "2022-06-09T16:57:23.109Z"
   },
   {
    "duration": 7,
    "start_time": "2022-06-09T16:57:23.114Z"
   },
   {
    "duration": 27,
    "start_time": "2022-06-09T16:58:08.919Z"
   },
   {
    "duration": 996,
    "start_time": "2022-06-09T16:58:16.713Z"
   },
   {
    "duration": 374,
    "start_time": "2022-06-09T16:58:17.710Z"
   },
   {
    "duration": 13,
    "start_time": "2022-06-09T16:58:18.086Z"
   },
   {
    "duration": 38,
    "start_time": "2022-06-09T16:58:18.101Z"
   },
   {
    "duration": 8,
    "start_time": "2022-06-09T16:58:18.141Z"
   },
   {
    "duration": 20,
    "start_time": "2022-06-09T16:58:18.150Z"
   },
   {
    "duration": 23,
    "start_time": "2022-06-09T16:58:18.172Z"
   },
   {
    "duration": 16,
    "start_time": "2022-06-09T16:58:18.196Z"
   },
   {
    "duration": 9,
    "start_time": "2022-06-09T16:58:18.214Z"
   },
   {
    "duration": 11,
    "start_time": "2022-06-09T16:58:18.224Z"
   },
   {
    "duration": 11,
    "start_time": "2022-06-09T16:58:18.237Z"
   },
   {
    "duration": 11,
    "start_time": "2022-06-09T16:58:18.249Z"
   },
   {
    "duration": 87,
    "start_time": "2022-06-09T16:58:18.262Z"
   },
   {
    "duration": 15,
    "start_time": "2022-06-09T16:58:18.353Z"
   },
   {
    "duration": 55,
    "start_time": "2022-06-09T16:58:18.369Z"
   },
   {
    "duration": 14,
    "start_time": "2022-06-09T16:58:18.425Z"
   },
   {
    "duration": 54,
    "start_time": "2022-06-09T16:58:18.441Z"
   },
   {
    "duration": 12,
    "start_time": "2022-06-09T16:58:18.496Z"
   },
   {
    "duration": 12,
    "start_time": "2022-06-09T16:58:18.510Z"
   },
   {
    "duration": 44,
    "start_time": "2022-06-09T16:58:18.523Z"
   },
   {
    "duration": 49,
    "start_time": "2022-06-09T16:58:18.568Z"
   },
   {
    "duration": 26,
    "start_time": "2022-06-09T16:58:18.619Z"
   },
   {
    "duration": 9,
    "start_time": "2022-06-09T16:58:18.646Z"
   },
   {
    "duration": 9,
    "start_time": "2022-06-09T16:58:18.657Z"
   },
   {
    "duration": 9,
    "start_time": "2022-06-09T16:58:18.694Z"
   },
   {
    "duration": 11,
    "start_time": "2022-06-09T16:58:18.704Z"
   },
   {
    "duration": 7,
    "start_time": "2022-06-09T16:58:18.716Z"
   },
   {
    "duration": 11,
    "start_time": "2022-06-09T16:58:18.724Z"
   },
   {
    "duration": 7,
    "start_time": "2022-06-09T16:58:18.736Z"
   },
   {
    "duration": 14,
    "start_time": "2022-06-09T16:58:18.745Z"
   },
   {
    "duration": 43,
    "start_time": "2022-06-09T16:58:18.761Z"
   },
   {
    "duration": 6,
    "start_time": "2022-06-09T16:58:18.805Z"
   },
   {
    "duration": 118,
    "start_time": "2022-06-09T16:58:18.812Z"
   },
   {
    "duration": 16,
    "start_time": "2022-06-09T16:58:18.932Z"
   },
   {
    "duration": 14,
    "start_time": "2022-06-09T16:58:18.950Z"
   },
   {
    "duration": 34,
    "start_time": "2022-06-09T16:58:18.966Z"
   },
   {
    "duration": 14,
    "start_time": "2022-06-09T16:58:19.001Z"
   },
   {
    "duration": 26,
    "start_time": "2022-06-09T16:58:19.016Z"
   },
   {
    "duration": 143,
    "start_time": "2022-06-09T16:58:19.044Z"
   },
   {
    "duration": 123,
    "start_time": "2022-06-09T16:58:19.188Z"
   },
   {
    "duration": 135,
    "start_time": "2022-06-09T16:58:19.314Z"
   },
   {
    "duration": 147,
    "start_time": "2022-06-09T16:58:19.451Z"
   },
   {
    "duration": 140,
    "start_time": "2022-06-09T16:58:19.600Z"
   },
   {
    "duration": 143,
    "start_time": "2022-06-09T16:58:19.742Z"
   },
   {
    "duration": 11,
    "start_time": "2022-06-09T16:58:19.887Z"
   },
   {
    "duration": 12,
    "start_time": "2022-06-09T16:58:19.899Z"
   },
   {
    "duration": 7,
    "start_time": "2022-06-09T16:58:19.912Z"
   },
   {
    "duration": 6,
    "start_time": "2022-06-09T16:58:19.920Z"
   },
   {
    "duration": 5,
    "start_time": "2022-06-09T16:58:19.927Z"
   },
   {
    "duration": 5,
    "start_time": "2022-06-09T16:58:19.933Z"
   },
   {
    "duration": 1191,
    "start_time": "2022-06-10T15:08:25.813Z"
   },
   {
    "duration": 1109,
    "start_time": "2022-06-10T15:08:27.006Z"
   },
   {
    "duration": 12,
    "start_time": "2022-06-10T15:08:28.117Z"
   },
   {
    "duration": 47,
    "start_time": "2022-06-10T15:08:28.131Z"
   },
   {
    "duration": 8,
    "start_time": "2022-06-10T15:08:28.181Z"
   },
   {
    "duration": 23,
    "start_time": "2022-06-10T15:08:28.191Z"
   },
   {
    "duration": 37,
    "start_time": "2022-06-10T15:08:28.216Z"
   },
   {
    "duration": 30,
    "start_time": "2022-06-10T15:08:28.254Z"
   },
   {
    "duration": 10,
    "start_time": "2022-06-10T15:08:28.286Z"
   },
   {
    "duration": 13,
    "start_time": "2022-06-10T15:08:28.298Z"
   },
   {
    "duration": 17,
    "start_time": "2022-06-10T15:08:28.312Z"
   },
   {
    "duration": 17,
    "start_time": "2022-06-10T15:08:28.330Z"
   },
   {
    "duration": 76,
    "start_time": "2022-06-10T15:08:28.348Z"
   },
   {
    "duration": 19,
    "start_time": "2022-06-10T15:08:28.426Z"
   },
   {
    "duration": 48,
    "start_time": "2022-06-10T15:08:28.446Z"
   },
   {
    "duration": 33,
    "start_time": "2022-06-10T15:08:28.496Z"
   },
   {
    "duration": 36,
    "start_time": "2022-06-10T15:08:28.530Z"
   },
   {
    "duration": 14,
    "start_time": "2022-06-10T15:08:28.567Z"
   },
   {
    "duration": 12,
    "start_time": "2022-06-10T15:08:28.582Z"
   },
   {
    "duration": 60,
    "start_time": "2022-06-10T15:08:28.596Z"
   },
   {
    "duration": 29,
    "start_time": "2022-06-10T15:08:28.657Z"
   },
   {
    "duration": 41,
    "start_time": "2022-06-10T15:08:28.687Z"
   },
   {
    "duration": 10,
    "start_time": "2022-06-10T15:08:28.730Z"
   },
   {
    "duration": 11,
    "start_time": "2022-06-10T15:08:28.742Z"
   },
   {
    "duration": 10,
    "start_time": "2022-06-10T15:08:28.754Z"
   },
   {
    "duration": 10,
    "start_time": "2022-06-10T15:08:28.765Z"
   },
   {
    "duration": 8,
    "start_time": "2022-06-10T15:08:28.776Z"
   },
   {
    "duration": 52,
    "start_time": "2022-06-10T15:08:28.785Z"
   },
   {
    "duration": 9,
    "start_time": "2022-06-10T15:08:28.838Z"
   },
   {
    "duration": 18,
    "start_time": "2022-06-10T15:08:28.849Z"
   },
   {
    "duration": 13,
    "start_time": "2022-06-10T15:08:28.868Z"
   },
   {
    "duration": 7,
    "start_time": "2022-06-10T15:08:28.882Z"
   },
   {
    "duration": 152,
    "start_time": "2022-06-10T15:08:28.890Z"
   },
   {
    "duration": 19,
    "start_time": "2022-06-10T15:08:29.043Z"
   },
   {
    "duration": 20,
    "start_time": "2022-06-10T15:08:29.063Z"
   },
   {
    "duration": 19,
    "start_time": "2022-06-10T15:08:29.084Z"
   },
   {
    "duration": 33,
    "start_time": "2022-06-10T15:08:29.104Z"
   },
   {
    "duration": 34,
    "start_time": "2022-06-10T15:08:29.138Z"
   },
   {
    "duration": 177,
    "start_time": "2022-06-10T15:08:29.173Z"
   },
   {
    "duration": 150,
    "start_time": "2022-06-10T15:08:29.352Z"
   },
   {
    "duration": 151,
    "start_time": "2022-06-10T15:08:29.507Z"
   },
   {
    "duration": 137,
    "start_time": "2022-06-10T15:08:29.660Z"
   },
   {
    "duration": 138,
    "start_time": "2022-06-10T15:08:29.799Z"
   },
   {
    "duration": 164,
    "start_time": "2022-06-10T15:08:29.939Z"
   },
   {
    "duration": 18,
    "start_time": "2022-06-10T15:08:30.105Z"
   },
   {
    "duration": 16,
    "start_time": "2022-06-10T15:08:30.125Z"
   },
   {
    "duration": 18,
    "start_time": "2022-06-10T15:08:30.143Z"
   },
   {
    "duration": 9,
    "start_time": "2022-06-10T15:08:30.163Z"
   },
   {
    "duration": 8,
    "start_time": "2022-06-10T15:08:30.174Z"
   },
   {
    "duration": 14,
    "start_time": "2022-06-10T15:08:30.183Z"
   },
   {
    "duration": 23,
    "start_time": "2022-06-10T15:18:47.499Z"
   },
   {
    "duration": 131,
    "start_time": "2022-06-10T15:20:34.388Z"
   },
   {
    "duration": 20,
    "start_time": "2022-06-10T15:21:21.192Z"
   },
   {
    "duration": 1021,
    "start_time": "2022-06-10T15:21:26.050Z"
   },
   {
    "duration": 411,
    "start_time": "2022-06-10T15:21:27.073Z"
   },
   {
    "duration": 12,
    "start_time": "2022-06-10T15:21:27.486Z"
   },
   {
    "duration": 29,
    "start_time": "2022-06-10T15:21:27.499Z"
   },
   {
    "duration": 7,
    "start_time": "2022-06-10T15:21:27.530Z"
   },
   {
    "duration": 21,
    "start_time": "2022-06-10T15:21:27.539Z"
   },
   {
    "duration": 6,
    "start_time": "2022-06-10T15:21:27.561Z"
   },
   {
    "duration": 18,
    "start_time": "2022-06-10T15:21:27.569Z"
   },
   {
    "duration": 7,
    "start_time": "2022-06-10T15:21:27.588Z"
   },
   {
    "duration": 31,
    "start_time": "2022-06-10T15:21:27.596Z"
   },
   {
    "duration": 9,
    "start_time": "2022-06-10T15:21:27.628Z"
   },
   {
    "duration": 12,
    "start_time": "2022-06-10T15:21:27.638Z"
   },
   {
    "duration": 73,
    "start_time": "2022-06-10T15:21:27.651Z"
   },
   {
    "duration": 18,
    "start_time": "2022-06-10T15:21:27.727Z"
   },
   {
    "duration": 44,
    "start_time": "2022-06-10T15:21:27.747Z"
   },
   {
    "duration": 37,
    "start_time": "2022-06-10T15:21:27.792Z"
   },
   {
    "duration": 37,
    "start_time": "2022-06-10T15:21:27.830Z"
   },
   {
    "duration": 15,
    "start_time": "2022-06-10T15:21:27.868Z"
   },
   {
    "duration": 13,
    "start_time": "2022-06-10T15:21:27.884Z"
   },
   {
    "duration": 44,
    "start_time": "2022-06-10T15:21:27.923Z"
   },
   {
    "duration": 34,
    "start_time": "2022-06-10T15:21:27.969Z"
   },
   {
    "duration": 48,
    "start_time": "2022-06-10T15:21:28.005Z"
   },
   {
    "duration": 11,
    "start_time": "2022-06-10T15:21:28.055Z"
   },
   {
    "duration": 12,
    "start_time": "2022-06-10T15:21:28.067Z"
   },
   {
    "duration": 9,
    "start_time": "2022-06-10T15:21:28.080Z"
   },
   {
    "duration": 39,
    "start_time": "2022-06-10T15:21:28.091Z"
   },
   {
    "duration": 8,
    "start_time": "2022-06-10T15:21:28.132Z"
   },
   {
    "duration": 15,
    "start_time": "2022-06-10T15:21:28.142Z"
   },
   {
    "duration": 7,
    "start_time": "2022-06-10T15:21:28.159Z"
   },
   {
    "duration": 19,
    "start_time": "2022-06-10T15:21:28.168Z"
   },
   {
    "duration": 38,
    "start_time": "2022-06-10T15:21:28.188Z"
   },
   {
    "duration": 6,
    "start_time": "2022-06-10T15:21:28.227Z"
   },
   {
    "duration": 121,
    "start_time": "2022-06-10T15:21:28.234Z"
   },
   {
    "duration": 18,
    "start_time": "2022-06-10T15:21:28.356Z"
   },
   {
    "duration": 15,
    "start_time": "2022-06-10T15:21:28.376Z"
   },
   {
    "duration": 40,
    "start_time": "2022-06-10T15:21:28.392Z"
   },
   {
    "duration": 24,
    "start_time": "2022-06-10T15:21:28.434Z"
   },
   {
    "duration": 31,
    "start_time": "2022-06-10T15:21:28.459Z"
   },
   {
    "duration": 3,
    "start_time": "2022-06-10T15:21:28.492Z"
   },
   {
    "duration": 0,
    "start_time": "2022-06-10T15:21:28.497Z"
   },
   {
    "duration": 0,
    "start_time": "2022-06-10T15:21:28.498Z"
   },
   {
    "duration": 0,
    "start_time": "2022-06-10T15:21:28.499Z"
   },
   {
    "duration": 0,
    "start_time": "2022-06-10T15:21:28.500Z"
   },
   {
    "duration": 0,
    "start_time": "2022-06-10T15:21:28.523Z"
   },
   {
    "duration": 0,
    "start_time": "2022-06-10T15:21:28.524Z"
   },
   {
    "duration": 0,
    "start_time": "2022-06-10T15:21:28.526Z"
   },
   {
    "duration": 0,
    "start_time": "2022-06-10T15:21:28.527Z"
   },
   {
    "duration": 0,
    "start_time": "2022-06-10T15:21:28.528Z"
   },
   {
    "duration": 0,
    "start_time": "2022-06-10T15:21:28.529Z"
   },
   {
    "duration": 0,
    "start_time": "2022-06-10T15:21:28.530Z"
   },
   {
    "duration": 1167,
    "start_time": "2022-06-10T15:21:58.999Z"
   },
   {
    "duration": 418,
    "start_time": "2022-06-10T15:22:00.168Z"
   },
   {
    "duration": 12,
    "start_time": "2022-06-10T15:22:00.587Z"
   },
   {
    "duration": 77,
    "start_time": "2022-06-10T15:22:00.600Z"
   },
   {
    "duration": 8,
    "start_time": "2022-06-10T15:22:00.680Z"
   },
   {
    "duration": 49,
    "start_time": "2022-06-10T15:22:00.689Z"
   },
   {
    "duration": 7,
    "start_time": "2022-06-10T15:22:00.740Z"
   },
   {
    "duration": 30,
    "start_time": "2022-06-10T15:22:00.748Z"
   },
   {
    "duration": 17,
    "start_time": "2022-06-10T15:22:00.779Z"
   },
   {
    "duration": 81,
    "start_time": "2022-06-10T15:22:00.798Z"
   },
   {
    "duration": 31,
    "start_time": "2022-06-10T15:22:00.881Z"
   },
   {
    "duration": 46,
    "start_time": "2022-06-10T15:22:00.913Z"
   },
   {
    "duration": 86,
    "start_time": "2022-06-10T15:22:00.961Z"
   },
   {
    "duration": 26,
    "start_time": "2022-06-10T15:22:01.051Z"
   },
   {
    "duration": 66,
    "start_time": "2022-06-10T15:22:01.079Z"
   },
   {
    "duration": 31,
    "start_time": "2022-06-10T15:22:01.147Z"
   },
   {
    "duration": 73,
    "start_time": "2022-06-10T15:22:01.180Z"
   },
   {
    "duration": 21,
    "start_time": "2022-06-10T15:22:01.256Z"
   },
   {
    "duration": 24,
    "start_time": "2022-06-10T15:22:01.279Z"
   },
   {
    "duration": 75,
    "start_time": "2022-06-10T15:22:01.305Z"
   },
   {
    "duration": 39,
    "start_time": "2022-06-10T15:22:01.382Z"
   },
   {
    "duration": 167,
    "start_time": "2022-06-10T15:22:01.424Z"
   },
   {
    "duration": 70,
    "start_time": "2022-06-10T15:22:01.593Z"
   },
   {
    "duration": 114,
    "start_time": "2022-06-10T15:22:01.665Z"
   },
   {
    "duration": 39,
    "start_time": "2022-06-10T15:22:01.781Z"
   },
   {
    "duration": 43,
    "start_time": "2022-06-10T15:22:01.822Z"
   },
   {
    "duration": 81,
    "start_time": "2022-06-10T15:22:01.867Z"
   },
   {
    "duration": 37,
    "start_time": "2022-06-10T15:22:01.951Z"
   },
   {
    "duration": 23,
    "start_time": "2022-06-10T15:22:01.991Z"
   },
   {
    "duration": 50,
    "start_time": "2022-06-10T15:22:02.017Z"
   },
   {
    "duration": 19,
    "start_time": "2022-06-10T15:22:02.070Z"
   },
   {
    "duration": 31,
    "start_time": "2022-06-10T15:22:02.091Z"
   },
   {
    "duration": 128,
    "start_time": "2022-06-10T15:22:02.124Z"
   },
   {
    "duration": 18,
    "start_time": "2022-06-10T15:22:02.254Z"
   },
   {
    "duration": 19,
    "start_time": "2022-06-10T15:22:02.274Z"
   },
   {
    "duration": 34,
    "start_time": "2022-06-10T15:22:02.295Z"
   },
   {
    "duration": 18,
    "start_time": "2022-06-10T15:22:02.330Z"
   },
   {
    "duration": 37,
    "start_time": "2022-06-10T15:22:02.349Z"
   },
   {
    "duration": 3,
    "start_time": "2022-06-10T15:22:02.388Z"
   },
   {
    "duration": 0,
    "start_time": "2022-06-10T15:22:02.393Z"
   },
   {
    "duration": 0,
    "start_time": "2022-06-10T15:22:02.394Z"
   },
   {
    "duration": 0,
    "start_time": "2022-06-10T15:22:02.395Z"
   },
   {
    "duration": 0,
    "start_time": "2022-06-10T15:22:02.397Z"
   },
   {
    "duration": 0,
    "start_time": "2022-06-10T15:22:02.398Z"
   },
   {
    "duration": 0,
    "start_time": "2022-06-10T15:22:02.399Z"
   },
   {
    "duration": 0,
    "start_time": "2022-06-10T15:22:02.400Z"
   },
   {
    "duration": 0,
    "start_time": "2022-06-10T15:22:02.424Z"
   },
   {
    "duration": 0,
    "start_time": "2022-06-10T15:22:02.425Z"
   },
   {
    "duration": 0,
    "start_time": "2022-06-10T15:22:02.426Z"
   },
   {
    "duration": 0,
    "start_time": "2022-06-10T15:22:02.427Z"
   },
   {
    "duration": 4,
    "start_time": "2022-06-10T15:22:17.244Z"
   },
   {
    "duration": 19,
    "start_time": "2022-06-10T15:22:21.424Z"
   },
   {
    "duration": 19,
    "start_time": "2022-06-10T15:22:24.460Z"
   },
   {
    "duration": 157,
    "start_time": "2022-06-10T15:22:32.671Z"
   },
   {
    "duration": 125,
    "start_time": "2022-06-10T15:22:41.280Z"
   },
   {
    "duration": 143,
    "start_time": "2022-06-10T15:22:48.286Z"
   },
   {
    "duration": 131,
    "start_time": "2022-06-10T15:22:50.948Z"
   },
   {
    "duration": 122,
    "start_time": "2022-06-10T15:22:53.548Z"
   },
   {
    "duration": 155,
    "start_time": "2022-06-10T15:22:58.759Z"
   },
   {
    "duration": 10,
    "start_time": "2022-06-10T15:24:34.857Z"
   },
   {
    "duration": 13,
    "start_time": "2022-06-10T15:24:38.590Z"
   },
   {
    "duration": 6,
    "start_time": "2022-06-10T15:28:44.019Z"
   },
   {
    "duration": 6,
    "start_time": "2022-06-10T15:28:44.924Z"
   },
   {
    "duration": 5,
    "start_time": "2022-06-10T15:28:47.450Z"
   },
   {
    "duration": 5,
    "start_time": "2022-06-10T15:28:49.198Z"
   },
   {
    "duration": 1136,
    "start_time": "2022-06-10T15:34:01.987Z"
   },
   {
    "duration": 420,
    "start_time": "2022-06-10T15:34:03.125Z"
   },
   {
    "duration": 12,
    "start_time": "2022-06-10T15:34:03.547Z"
   },
   {
    "duration": 25,
    "start_time": "2022-06-10T15:34:03.560Z"
   },
   {
    "duration": 9,
    "start_time": "2022-06-10T15:34:03.587Z"
   },
   {
    "duration": 26,
    "start_time": "2022-06-10T15:34:03.597Z"
   },
   {
    "duration": 6,
    "start_time": "2022-06-10T15:34:03.625Z"
   },
   {
    "duration": 19,
    "start_time": "2022-06-10T15:34:03.633Z"
   },
   {
    "duration": 7,
    "start_time": "2022-06-10T15:34:03.654Z"
   },
   {
    "duration": 12,
    "start_time": "2022-06-10T15:34:03.662Z"
   },
   {
    "duration": 13,
    "start_time": "2022-06-10T15:34:03.675Z"
   },
   {
    "duration": 11,
    "start_time": "2022-06-10T15:34:03.690Z"
   },
   {
    "duration": 59,
    "start_time": "2022-06-10T15:34:03.724Z"
   },
   {
    "duration": 18,
    "start_time": "2022-06-10T15:34:03.786Z"
   },
   {
    "duration": 60,
    "start_time": "2022-06-10T15:34:03.805Z"
   },
   {
    "duration": 16,
    "start_time": "2022-06-10T15:34:03.867Z"
   },
   {
    "duration": 56,
    "start_time": "2022-06-10T15:34:03.884Z"
   },
   {
    "duration": 15,
    "start_time": "2022-06-10T15:34:03.942Z"
   },
   {
    "duration": 17,
    "start_time": "2022-06-10T15:34:03.959Z"
   },
   {
    "duration": 55,
    "start_time": "2022-06-10T15:34:03.977Z"
   },
   {
    "duration": 31,
    "start_time": "2022-06-10T15:34:04.034Z"
   },
   {
    "duration": 31,
    "start_time": "2022-06-10T15:34:04.067Z"
   },
   {
    "duration": 34,
    "start_time": "2022-06-10T15:34:04.100Z"
   },
   {
    "duration": 13,
    "start_time": "2022-06-10T15:34:04.136Z"
   },
   {
    "duration": 11,
    "start_time": "2022-06-10T15:34:04.150Z"
   },
   {
    "duration": 9,
    "start_time": "2022-06-10T15:34:04.163Z"
   },
   {
    "duration": 8,
    "start_time": "2022-06-10T15:34:04.174Z"
   },
   {
    "duration": 42,
    "start_time": "2022-06-10T15:34:04.184Z"
   },
   {
    "duration": 8,
    "start_time": "2022-06-10T15:34:04.227Z"
   },
   {
    "duration": 21,
    "start_time": "2022-06-10T15:34:04.236Z"
   },
   {
    "duration": 14,
    "start_time": "2022-06-10T15:34:04.259Z"
   },
   {
    "duration": 11,
    "start_time": "2022-06-10T15:34:04.275Z"
   },
   {
    "duration": 133,
    "start_time": "2022-06-10T15:34:04.287Z"
   },
   {
    "duration": 19,
    "start_time": "2022-06-10T15:34:04.423Z"
   },
   {
    "duration": 35,
    "start_time": "2022-06-10T15:34:04.444Z"
   },
   {
    "duration": 17,
    "start_time": "2022-06-10T15:34:04.481Z"
   },
   {
    "duration": 24,
    "start_time": "2022-06-10T15:34:04.500Z"
   },
   {
    "duration": 29,
    "start_time": "2022-06-10T15:34:04.525Z"
   },
   {
    "duration": 148,
    "start_time": "2022-06-10T15:34:04.556Z"
   },
   {
    "duration": 140,
    "start_time": "2022-06-10T15:34:04.706Z"
   },
   {
    "duration": 147,
    "start_time": "2022-06-10T15:34:04.849Z"
   },
   {
    "duration": 144,
    "start_time": "2022-06-10T15:34:04.997Z"
   },
   {
    "duration": 141,
    "start_time": "2022-06-10T15:34:05.142Z"
   },
   {
    "duration": 164,
    "start_time": "2022-06-10T15:34:05.284Z"
   },
   {
    "duration": 13,
    "start_time": "2022-06-10T15:34:05.449Z"
   },
   {
    "duration": 17,
    "start_time": "2022-06-10T15:34:05.463Z"
   },
   {
    "duration": 13,
    "start_time": "2022-06-10T15:34:05.482Z"
   },
   {
    "duration": 19,
    "start_time": "2022-06-10T15:34:05.496Z"
   },
   {
    "duration": 7,
    "start_time": "2022-06-10T15:34:05.517Z"
   },
   {
    "duration": 8,
    "start_time": "2022-06-10T15:34:05.526Z"
   },
   {
    "duration": 1009,
    "start_time": "2022-06-10T15:44:56.652Z"
   },
   {
    "duration": 425,
    "start_time": "2022-06-10T15:44:57.662Z"
   },
   {
    "duration": 13,
    "start_time": "2022-06-10T15:44:58.089Z"
   },
   {
    "duration": 28,
    "start_time": "2022-06-10T15:44:58.103Z"
   },
   {
    "duration": 8,
    "start_time": "2022-06-10T15:44:58.134Z"
   },
   {
    "duration": 23,
    "start_time": "2022-06-10T15:44:58.144Z"
   },
   {
    "duration": 7,
    "start_time": "2022-06-10T15:44:58.168Z"
   },
   {
    "duration": 21,
    "start_time": "2022-06-10T15:44:58.176Z"
   },
   {
    "duration": 7,
    "start_time": "2022-06-10T15:44:58.198Z"
   },
   {
    "duration": 10,
    "start_time": "2022-06-10T15:44:58.223Z"
   },
   {
    "duration": 17,
    "start_time": "2022-06-10T15:44:58.235Z"
   },
   {
    "duration": 12,
    "start_time": "2022-06-10T15:44:58.254Z"
   },
   {
    "duration": 74,
    "start_time": "2022-06-10T15:44:58.268Z"
   },
   {
    "duration": 17,
    "start_time": "2022-06-10T15:44:58.346Z"
   },
   {
    "duration": 62,
    "start_time": "2022-06-10T15:44:58.365Z"
   },
   {
    "duration": 16,
    "start_time": "2022-06-10T15:44:58.428Z"
   },
   {
    "duration": 35,
    "start_time": "2022-06-10T15:44:58.445Z"
   },
   {
    "duration": 13,
    "start_time": "2022-06-10T15:44:58.482Z"
   },
   {
    "duration": 35,
    "start_time": "2022-06-10T15:44:58.497Z"
   },
   {
    "duration": 40,
    "start_time": "2022-06-10T15:44:58.534Z"
   },
   {
    "duration": 47,
    "start_time": "2022-06-10T15:44:58.576Z"
   },
   {
    "duration": 30,
    "start_time": "2022-06-10T15:44:58.625Z"
   },
   {
    "duration": 11,
    "start_time": "2022-06-10T15:44:58.657Z"
   },
   {
    "duration": 12,
    "start_time": "2022-06-10T15:44:58.670Z"
   },
   {
    "duration": 39,
    "start_time": "2022-06-10T15:44:58.684Z"
   },
   {
    "duration": 13,
    "start_time": "2022-06-10T15:44:58.725Z"
   },
   {
    "duration": 10,
    "start_time": "2022-06-10T15:44:58.740Z"
   },
   {
    "duration": 14,
    "start_time": "2022-06-10T15:44:58.751Z"
   },
   {
    "duration": 8,
    "start_time": "2022-06-10T15:44:58.767Z"
   },
   {
    "duration": 47,
    "start_time": "2022-06-10T15:44:58.776Z"
   },
   {
    "duration": 16,
    "start_time": "2022-06-10T15:44:58.825Z"
   },
   {
    "duration": 7,
    "start_time": "2022-06-10T15:44:58.842Z"
   },
   {
    "duration": 145,
    "start_time": "2022-06-10T15:44:58.850Z"
   },
   {
    "duration": 31,
    "start_time": "2022-06-10T15:44:58.996Z"
   },
   {
    "duration": 16,
    "start_time": "2022-06-10T15:44:59.029Z"
   },
   {
    "duration": 17,
    "start_time": "2022-06-10T15:44:59.047Z"
   },
   {
    "duration": 16,
    "start_time": "2022-06-10T15:44:59.066Z"
   },
   {
    "duration": 55,
    "start_time": "2022-06-10T15:44:59.083Z"
   },
   {
    "duration": 158,
    "start_time": "2022-06-10T15:44:59.139Z"
   },
   {
    "duration": 133,
    "start_time": "2022-06-10T15:44:59.299Z"
   },
   {
    "duration": 149,
    "start_time": "2022-06-10T15:44:59.435Z"
   },
   {
    "duration": 141,
    "start_time": "2022-06-10T15:44:59.585Z"
   },
   {
    "duration": 141,
    "start_time": "2022-06-10T15:44:59.727Z"
   },
   {
    "duration": 153,
    "start_time": "2022-06-10T15:44:59.870Z"
   },
   {
    "duration": 11,
    "start_time": "2022-06-10T15:45:00.025Z"
   },
   {
    "duration": 14,
    "start_time": "2022-06-10T15:45:00.037Z"
   },
   {
    "duration": 11,
    "start_time": "2022-06-10T15:45:00.053Z"
   },
   {
    "duration": 13,
    "start_time": "2022-06-10T15:45:00.066Z"
   },
   {
    "duration": 8,
    "start_time": "2022-06-10T15:45:00.081Z"
   },
   {
    "duration": 9,
    "start_time": "2022-06-10T15:45:00.091Z"
   },
   {
    "duration": 1210,
    "start_time": "2022-06-10T19:46:53.162Z"
   },
   {
    "duration": 1437,
    "start_time": "2022-06-10T19:46:54.374Z"
   },
   {
    "duration": 16,
    "start_time": "2022-06-10T19:46:55.813Z"
   },
   {
    "duration": 29,
    "start_time": "2022-06-10T19:46:55.831Z"
   },
   {
    "duration": 9,
    "start_time": "2022-06-10T19:46:55.863Z"
   },
   {
    "duration": 31,
    "start_time": "2022-06-10T19:46:55.873Z"
   },
   {
    "duration": 13,
    "start_time": "2022-06-10T19:46:55.909Z"
   },
   {
    "duration": 23,
    "start_time": "2022-06-10T19:46:55.928Z"
   },
   {
    "duration": 8,
    "start_time": "2022-06-10T19:46:55.953Z"
   },
   {
    "duration": 13,
    "start_time": "2022-06-10T19:46:55.963Z"
   },
   {
    "duration": 33,
    "start_time": "2022-06-10T19:46:55.978Z"
   },
   {
    "duration": 30,
    "start_time": "2022-06-10T19:46:56.017Z"
   },
   {
    "duration": 80,
    "start_time": "2022-06-10T19:46:56.049Z"
   },
   {
    "duration": 19,
    "start_time": "2022-06-10T19:46:56.132Z"
   },
   {
    "duration": 80,
    "start_time": "2022-06-10T19:46:56.152Z"
   },
   {
    "duration": 18,
    "start_time": "2022-06-10T19:46:56.234Z"
   },
   {
    "duration": 67,
    "start_time": "2022-06-10T19:46:56.254Z"
   },
   {
    "duration": 21,
    "start_time": "2022-06-10T19:46:56.323Z"
   },
   {
    "duration": 16,
    "start_time": "2022-06-10T19:46:56.346Z"
   },
   {
    "duration": 63,
    "start_time": "2022-06-10T19:46:56.364Z"
   },
   {
    "duration": 33,
    "start_time": "2022-06-10T19:46:56.428Z"
   },
   {
    "duration": 62,
    "start_time": "2022-06-10T19:46:56.462Z"
   },
   {
    "duration": 13,
    "start_time": "2022-06-10T19:46:56.526Z"
   },
   {
    "duration": 12,
    "start_time": "2022-06-10T19:46:56.541Z"
   },
   {
    "duration": 13,
    "start_time": "2022-06-10T19:46:56.555Z"
   },
   {
    "duration": 38,
    "start_time": "2022-06-10T19:46:56.570Z"
   },
   {
    "duration": 12,
    "start_time": "2022-06-10T19:46:56.609Z"
   },
   {
    "duration": 17,
    "start_time": "2022-06-10T19:46:56.623Z"
   },
   {
    "duration": 9,
    "start_time": "2022-06-10T19:46:56.642Z"
   },
   {
    "duration": 19,
    "start_time": "2022-06-10T19:46:56.652Z"
   },
   {
    "duration": 33,
    "start_time": "2022-06-10T19:46:56.672Z"
   },
   {
    "duration": 11,
    "start_time": "2022-06-10T19:46:56.707Z"
   },
   {
    "duration": 139,
    "start_time": "2022-06-10T19:46:56.720Z"
   },
   {
    "duration": 21,
    "start_time": "2022-06-10T19:46:56.861Z"
   },
   {
    "duration": 33,
    "start_time": "2022-06-10T19:46:56.884Z"
   },
   {
    "duration": 30,
    "start_time": "2022-06-10T19:46:56.919Z"
   },
   {
    "duration": 17,
    "start_time": "2022-06-10T19:46:56.951Z"
   },
   {
    "duration": 53,
    "start_time": "2022-06-10T19:46:56.970Z"
   },
   {
    "duration": 148,
    "start_time": "2022-06-10T19:46:57.025Z"
   },
   {
    "duration": 164,
    "start_time": "2022-06-10T19:46:57.175Z"
   },
   {
    "duration": 190,
    "start_time": "2022-06-10T19:46:57.342Z"
   },
   {
    "duration": 175,
    "start_time": "2022-06-10T19:46:57.534Z"
   },
   {
    "duration": 158,
    "start_time": "2022-06-10T19:46:57.712Z"
   },
   {
    "duration": 191,
    "start_time": "2022-06-10T19:46:57.872Z"
   },
   {
    "duration": 11,
    "start_time": "2022-06-10T19:46:58.065Z"
   },
   {
    "duration": 30,
    "start_time": "2022-06-10T19:46:58.078Z"
   },
   {
    "duration": 32,
    "start_time": "2022-06-10T19:46:58.109Z"
   },
   {
    "duration": 8,
    "start_time": "2022-06-10T19:46:58.142Z"
   },
   {
    "duration": 6,
    "start_time": "2022-06-10T19:46:58.152Z"
   },
   {
    "duration": 9,
    "start_time": "2022-06-10T19:46:58.159Z"
   },
   {
    "duration": 4,
    "start_time": "2022-06-10T19:51:03.424Z"
   },
   {
    "duration": 1166,
    "start_time": "2022-06-10T19:56:35.957Z"
   },
   {
    "duration": 473,
    "start_time": "2022-06-10T19:56:37.125Z"
   },
   {
    "duration": 19,
    "start_time": "2022-06-10T19:56:37.607Z"
   },
   {
    "duration": 26,
    "start_time": "2022-06-10T19:56:37.628Z"
   },
   {
    "duration": 8,
    "start_time": "2022-06-10T19:56:37.656Z"
   },
   {
    "duration": 37,
    "start_time": "2022-06-10T19:56:37.667Z"
   },
   {
    "duration": 14,
    "start_time": "2022-06-10T19:56:37.705Z"
   },
   {
    "duration": 25,
    "start_time": "2022-06-10T19:56:37.721Z"
   },
   {
    "duration": 8,
    "start_time": "2022-06-10T19:56:37.748Z"
   },
   {
    "duration": 11,
    "start_time": "2022-06-10T19:56:37.757Z"
   },
   {
    "duration": 9,
    "start_time": "2022-06-10T19:56:37.770Z"
   },
   {
    "duration": 13,
    "start_time": "2022-06-10T19:56:37.794Z"
   },
   {
    "duration": 71,
    "start_time": "2022-06-10T19:56:37.809Z"
   },
   {
    "duration": 28,
    "start_time": "2022-06-10T19:56:37.907Z"
   },
   {
    "duration": 47,
    "start_time": "2022-06-10T19:56:37.937Z"
   },
   {
    "duration": 25,
    "start_time": "2022-06-10T19:56:37.985Z"
   },
   {
    "duration": 51,
    "start_time": "2022-06-10T19:56:38.016Z"
   },
   {
    "duration": 15,
    "start_time": "2022-06-10T19:56:38.069Z"
   },
   {
    "duration": 27,
    "start_time": "2022-06-10T19:56:38.085Z"
   },
   {
    "duration": 53,
    "start_time": "2022-06-10T19:56:38.114Z"
   },
   {
    "duration": 36,
    "start_time": "2022-06-10T19:56:38.169Z"
   },
   {
    "duration": 36,
    "start_time": "2022-06-10T19:56:38.207Z"
   },
   {
    "duration": 11,
    "start_time": "2022-06-10T19:56:38.245Z"
   },
   {
    "duration": 13,
    "start_time": "2022-06-10T19:56:38.257Z"
   },
   {
    "duration": 26,
    "start_time": "2022-06-10T19:56:38.271Z"
   },
   {
    "duration": 16,
    "start_time": "2022-06-10T19:56:38.298Z"
   },
   {
    "duration": 18,
    "start_time": "2022-06-10T19:56:38.316Z"
   },
   {
    "duration": 10,
    "start_time": "2022-06-10T19:56:38.336Z"
   },
   {
    "duration": 18,
    "start_time": "2022-06-10T19:56:38.348Z"
   },
   {
    "duration": 8,
    "start_time": "2022-06-10T19:56:38.368Z"
   },
   {
    "duration": 43,
    "start_time": "2022-06-10T19:56:38.378Z"
   },
   {
    "duration": 15,
    "start_time": "2022-06-10T19:56:38.424Z"
   },
   {
    "duration": 5,
    "start_time": "2022-06-10T19:56:38.441Z"
   },
   {
    "duration": 144,
    "start_time": "2022-06-10T19:56:38.448Z"
   },
   {
    "duration": 35,
    "start_time": "2022-06-10T19:56:38.594Z"
   },
   {
    "duration": 18,
    "start_time": "2022-06-10T19:56:38.631Z"
   },
   {
    "duration": 18,
    "start_time": "2022-06-10T19:56:38.650Z"
   },
   {
    "duration": 40,
    "start_time": "2022-06-10T19:56:38.670Z"
   },
   {
    "duration": 34,
    "start_time": "2022-06-10T19:56:38.712Z"
   },
   {
    "duration": 190,
    "start_time": "2022-06-10T19:56:38.747Z"
   },
   {
    "duration": 193,
    "start_time": "2022-06-10T19:56:38.942Z"
   },
   {
    "duration": 198,
    "start_time": "2022-06-10T19:56:39.137Z"
   },
   {
    "duration": 153,
    "start_time": "2022-06-10T19:56:39.337Z"
   },
   {
    "duration": 156,
    "start_time": "2022-06-10T19:56:39.494Z"
   },
   {
    "duration": 172,
    "start_time": "2022-06-10T19:56:39.653Z"
   },
   {
    "duration": 10,
    "start_time": "2022-06-10T19:56:39.827Z"
   },
   {
    "duration": 13,
    "start_time": "2022-06-10T19:56:39.839Z"
   },
   {
    "duration": 8,
    "start_time": "2022-06-10T19:56:39.853Z"
   },
   {
    "duration": 6,
    "start_time": "2022-06-10T19:56:39.863Z"
   },
   {
    "duration": 38,
    "start_time": "2022-06-10T19:56:39.870Z"
   },
   {
    "duration": 17,
    "start_time": "2022-06-10T19:56:39.910Z"
   },
   {
    "duration": 4,
    "start_time": "2022-06-10T19:57:36.837Z"
   },
   {
    "duration": 46,
    "start_time": "2022-06-11T05:05:24.336Z"
   },
   {
    "duration": 1204,
    "start_time": "2022-06-11T05:05:29.585Z"
   },
   {
    "duration": 992,
    "start_time": "2022-06-11T05:05:30.791Z"
   },
   {
    "duration": 12,
    "start_time": "2022-06-11T05:05:31.784Z"
   },
   {
    "duration": 25,
    "start_time": "2022-06-11T05:05:31.797Z"
   },
   {
    "duration": 28,
    "start_time": "2022-06-11T05:05:31.824Z"
   },
   {
    "duration": 35,
    "start_time": "2022-06-11T05:05:31.854Z"
   },
   {
    "duration": 8,
    "start_time": "2022-06-11T05:05:31.891Z"
   },
   {
    "duration": 26,
    "start_time": "2022-06-11T05:05:31.900Z"
   },
   {
    "duration": 7,
    "start_time": "2022-06-11T05:05:31.929Z"
   },
   {
    "duration": 26,
    "start_time": "2022-06-11T05:05:31.938Z"
   },
   {
    "duration": 15,
    "start_time": "2022-06-11T05:05:31.966Z"
   },
   {
    "duration": 14,
    "start_time": "2022-06-11T05:05:31.983Z"
   },
   {
    "duration": 76,
    "start_time": "2022-06-11T05:05:31.998Z"
   },
   {
    "duration": 18,
    "start_time": "2022-06-11T05:05:32.076Z"
   },
   {
    "duration": 44,
    "start_time": "2022-06-11T05:05:32.095Z"
   },
   {
    "duration": 35,
    "start_time": "2022-06-11T05:05:32.141Z"
   },
   {
    "duration": 36,
    "start_time": "2022-06-11T05:05:32.177Z"
   },
   {
    "duration": 14,
    "start_time": "2022-06-11T05:05:32.215Z"
   },
   {
    "duration": 12,
    "start_time": "2022-06-11T05:05:32.231Z"
   },
   {
    "duration": 40,
    "start_time": "2022-06-11T05:05:32.265Z"
   },
   {
    "duration": 29,
    "start_time": "2022-06-11T05:05:32.306Z"
   },
   {
    "duration": 51,
    "start_time": "2022-06-11T05:05:32.337Z"
   },
   {
    "duration": 10,
    "start_time": "2022-06-11T05:05:32.390Z"
   },
   {
    "duration": 11,
    "start_time": "2022-06-11T05:05:32.402Z"
   },
   {
    "duration": 4,
    "start_time": "2022-06-11T05:05:32.414Z"
   },
   {
    "duration": 13,
    "start_time": "2022-06-11T05:05:32.419Z"
   },
   {
    "duration": 30,
    "start_time": "2022-06-11T05:05:32.434Z"
   },
   {
    "duration": 9,
    "start_time": "2022-06-11T05:05:32.466Z"
   },
   {
    "duration": 23,
    "start_time": "2022-06-11T05:05:32.476Z"
   },
   {
    "duration": 7,
    "start_time": "2022-06-11T05:05:32.501Z"
   },
   {
    "duration": 16,
    "start_time": "2022-06-11T05:05:32.509Z"
   },
   {
    "duration": 12,
    "start_time": "2022-06-11T05:05:32.526Z"
   },
   {
    "duration": 26,
    "start_time": "2022-06-11T05:05:32.539Z"
   },
   {
    "duration": 117,
    "start_time": "2022-06-11T05:05:32.567Z"
   },
   {
    "duration": 17,
    "start_time": "2022-06-11T05:05:32.685Z"
   },
   {
    "duration": 14,
    "start_time": "2022-06-11T05:05:32.704Z"
   },
   {
    "duration": 21,
    "start_time": "2022-06-11T05:05:32.720Z"
   },
   {
    "duration": 29,
    "start_time": "2022-06-11T05:05:32.742Z"
   },
   {
    "duration": 27,
    "start_time": "2022-06-11T05:05:32.773Z"
   },
   {
    "duration": 144,
    "start_time": "2022-06-11T05:05:32.801Z"
   },
   {
    "duration": 135,
    "start_time": "2022-06-11T05:05:32.948Z"
   },
   {
    "duration": 146,
    "start_time": "2022-06-11T05:05:33.084Z"
   },
   {
    "duration": 138,
    "start_time": "2022-06-11T05:05:33.232Z"
   },
   {
    "duration": 132,
    "start_time": "2022-06-11T05:05:33.372Z"
   },
   {
    "duration": 146,
    "start_time": "2022-06-11T05:05:33.506Z"
   },
   {
    "duration": 17,
    "start_time": "2022-06-11T05:05:33.653Z"
   },
   {
    "duration": 16,
    "start_time": "2022-06-11T05:05:33.671Z"
   },
   {
    "duration": 6,
    "start_time": "2022-06-11T05:05:33.688Z"
   },
   {
    "duration": 11,
    "start_time": "2022-06-11T05:05:33.695Z"
   },
   {
    "duration": 25,
    "start_time": "2022-06-11T05:05:33.707Z"
   },
   {
    "duration": 9,
    "start_time": "2022-06-11T05:05:33.734Z"
   },
   {
    "duration": 1336,
    "start_time": "2022-06-11T11:29:49.519Z"
   },
   {
    "duration": 1154,
    "start_time": "2022-06-11T11:29:50.857Z"
   },
   {
    "duration": 13,
    "start_time": "2022-06-11T11:29:52.013Z"
   },
   {
    "duration": 28,
    "start_time": "2022-06-11T11:29:52.028Z"
   },
   {
    "duration": 9,
    "start_time": "2022-06-11T11:29:52.057Z"
   },
   {
    "duration": 26,
    "start_time": "2022-06-11T11:29:52.068Z"
   },
   {
    "duration": 16,
    "start_time": "2022-06-11T11:29:52.096Z"
   },
   {
    "duration": 25,
    "start_time": "2022-06-11T11:29:52.115Z"
   },
   {
    "duration": 18,
    "start_time": "2022-06-11T11:29:52.143Z"
   },
   {
    "duration": 22,
    "start_time": "2022-06-11T11:29:52.163Z"
   },
   {
    "duration": 15,
    "start_time": "2022-06-11T11:29:52.186Z"
   },
   {
    "duration": 16,
    "start_time": "2022-06-11T11:29:52.203Z"
   },
   {
    "duration": 78,
    "start_time": "2022-06-11T11:29:52.221Z"
   },
   {
    "duration": 19,
    "start_time": "2022-06-11T11:29:52.301Z"
   },
   {
    "duration": 61,
    "start_time": "2022-06-11T11:29:52.322Z"
   },
   {
    "duration": 17,
    "start_time": "2022-06-11T11:29:52.385Z"
   },
   {
    "duration": 37,
    "start_time": "2022-06-11T11:29:52.403Z"
   },
   {
    "duration": 14,
    "start_time": "2022-06-11T11:29:52.458Z"
   },
   {
    "duration": 16,
    "start_time": "2022-06-11T11:29:52.474Z"
   },
   {
    "duration": 52,
    "start_time": "2022-06-11T11:29:52.491Z"
   },
   {
    "duration": 40,
    "start_time": "2022-06-11T11:29:52.544Z"
   },
   {
    "duration": 30,
    "start_time": "2022-06-11T11:29:52.585Z"
   },
   {
    "duration": 11,
    "start_time": "2022-06-11T11:29:52.617Z"
   },
   {
    "duration": 32,
    "start_time": "2022-06-11T11:29:52.629Z"
   },
   {
    "duration": 4,
    "start_time": "2022-06-11T11:29:52.663Z"
   },
   {
    "duration": 28,
    "start_time": "2022-06-11T11:29:52.669Z"
   },
   {
    "duration": 14,
    "start_time": "2022-06-11T11:29:52.698Z"
   },
   {
    "duration": 21,
    "start_time": "2022-06-11T11:29:52.715Z"
   },
   {
    "duration": 26,
    "start_time": "2022-06-11T11:29:52.738Z"
   },
   {
    "duration": 7,
    "start_time": "2022-06-11T11:29:52.765Z"
   },
   {
    "duration": 23,
    "start_time": "2022-06-11T11:29:52.774Z"
   },
   {
    "duration": 17,
    "start_time": "2022-06-11T11:29:52.799Z"
   },
   {
    "duration": 15,
    "start_time": "2022-06-11T11:29:52.818Z"
   },
   {
    "duration": 142,
    "start_time": "2022-06-11T11:29:52.835Z"
   },
   {
    "duration": 20,
    "start_time": "2022-06-11T11:29:52.979Z"
   },
   {
    "duration": 39,
    "start_time": "2022-06-11T11:29:53.000Z"
   },
   {
    "duration": 33,
    "start_time": "2022-06-11T11:29:53.041Z"
   },
   {
    "duration": 21,
    "start_time": "2022-06-11T11:29:53.076Z"
   },
   {
    "duration": 43,
    "start_time": "2022-06-11T11:29:53.099Z"
   },
   {
    "duration": 147,
    "start_time": "2022-06-11T11:29:53.144Z"
   },
   {
    "duration": 148,
    "start_time": "2022-06-11T11:29:53.293Z"
   },
   {
    "duration": 154,
    "start_time": "2022-06-11T11:29:53.442Z"
   },
   {
    "duration": 172,
    "start_time": "2022-06-11T11:29:53.598Z"
   },
   {
    "duration": 143,
    "start_time": "2022-06-11T11:29:53.771Z"
   },
   {
    "duration": 164,
    "start_time": "2022-06-11T11:29:53.916Z"
   },
   {
    "duration": 12,
    "start_time": "2022-06-11T11:29:54.082Z"
   },
   {
    "duration": 15,
    "start_time": "2022-06-11T11:29:54.095Z"
   },
   {
    "duration": 5,
    "start_time": "2022-06-11T11:29:54.112Z"
   },
   {
    "duration": 6,
    "start_time": "2022-06-11T11:29:54.119Z"
   },
   {
    "duration": 34,
    "start_time": "2022-06-11T11:29:54.126Z"
   },
   {
    "duration": 8,
    "start_time": "2022-06-11T11:29:54.162Z"
   },
   {
    "duration": 99,
    "start_time": "2022-06-11T11:33:49.993Z"
   },
   {
    "duration": 103,
    "start_time": "2022-06-11T11:36:32.680Z"
   },
   {
    "duration": 103,
    "start_time": "2022-06-11T11:36:38.503Z"
   },
   {
    "duration": 66,
    "start_time": "2022-06-11T11:37:19.943Z"
   },
   {
    "duration": 43,
    "start_time": "2022-06-11T11:38:07.063Z"
   },
   {
    "duration": 7,
    "start_time": "2022-06-11T11:38:35.740Z"
   },
   {
    "duration": 5,
    "start_time": "2022-06-11T11:39:42.106Z"
   },
   {
    "duration": 9,
    "start_time": "2022-06-11T11:39:49.459Z"
   },
   {
    "duration": 9,
    "start_time": "2022-06-11T11:39:56.635Z"
   },
   {
    "duration": 1175,
    "start_time": "2022-06-11T11:40:02.737Z"
   },
   {
    "duration": 469,
    "start_time": "2022-06-11T11:40:03.915Z"
   },
   {
    "duration": 13,
    "start_time": "2022-06-11T11:40:04.385Z"
   },
   {
    "duration": 26,
    "start_time": "2022-06-11T11:40:04.400Z"
   },
   {
    "duration": 114,
    "start_time": "2022-06-11T11:40:04.429Z"
   },
   {
    "duration": 9,
    "start_time": "2022-06-11T11:40:04.545Z"
   },
   {
    "duration": 23,
    "start_time": "2022-06-11T11:40:04.558Z"
   },
   {
    "duration": 82,
    "start_time": "2022-06-11T11:40:04.582Z"
   },
   {
    "duration": 7,
    "start_time": "2022-06-11T11:40:04.666Z"
   },
   {
    "duration": 20,
    "start_time": "2022-06-11T11:40:04.675Z"
   },
   {
    "duration": 76,
    "start_time": "2022-06-11T11:40:04.696Z"
   },
   {
    "duration": 9,
    "start_time": "2022-06-11T11:40:04.773Z"
   },
   {
    "duration": 11,
    "start_time": "2022-06-11T11:40:04.785Z"
   },
   {
    "duration": 10,
    "start_time": "2022-06-11T11:40:04.799Z"
   },
   {
    "duration": 12,
    "start_time": "2022-06-11T11:40:04.811Z"
   },
   {
    "duration": 9,
    "start_time": "2022-06-11T11:40:04.825Z"
   },
   {
    "duration": 10,
    "start_time": "2022-06-11T11:40:04.859Z"
   },
   {
    "duration": 58,
    "start_time": "2022-06-11T11:40:04.871Z"
   },
   {
    "duration": 37,
    "start_time": "2022-06-11T11:40:04.931Z"
   },
   {
    "duration": 48,
    "start_time": "2022-06-11T11:40:04.969Z"
   },
   {
    "duration": 17,
    "start_time": "2022-06-11T11:40:05.018Z"
   },
   {
    "duration": 39,
    "start_time": "2022-06-11T11:40:05.057Z"
   },
   {
    "duration": 15,
    "start_time": "2022-06-11T11:40:05.098Z"
   },
   {
    "duration": 14,
    "start_time": "2022-06-11T11:40:05.114Z"
   },
   {
    "duration": 68,
    "start_time": "2022-06-11T11:40:05.130Z"
   },
   {
    "duration": 33,
    "start_time": "2022-06-11T11:40:05.200Z"
   },
   {
    "duration": 52,
    "start_time": "2022-06-11T11:40:05.235Z"
   },
   {
    "duration": 13,
    "start_time": "2022-06-11T11:40:05.289Z"
   },
   {
    "duration": 15,
    "start_time": "2022-06-11T11:40:05.304Z"
   },
   {
    "duration": 5,
    "start_time": "2022-06-11T11:40:05.321Z"
   },
   {
    "duration": 13,
    "start_time": "2022-06-11T11:40:05.359Z"
   },
   {
    "duration": 15,
    "start_time": "2022-06-11T11:40:05.374Z"
   },
   {
    "duration": 11,
    "start_time": "2022-06-11T11:40:05.391Z"
   },
   {
    "duration": 20,
    "start_time": "2022-06-11T11:40:05.404Z"
   },
   {
    "duration": 39,
    "start_time": "2022-06-11T11:40:05.426Z"
   },
   {
    "duration": 18,
    "start_time": "2022-06-11T11:40:05.467Z"
   },
   {
    "duration": 15,
    "start_time": "2022-06-11T11:40:05.487Z"
   },
   {
    "duration": 7,
    "start_time": "2022-06-11T11:40:05.504Z"
   },
   {
    "duration": 148,
    "start_time": "2022-06-11T11:40:05.513Z"
   },
   {
    "duration": 21,
    "start_time": "2022-06-11T11:40:05.663Z"
   },
   {
    "duration": 17,
    "start_time": "2022-06-11T11:40:05.689Z"
   },
   {
    "duration": 18,
    "start_time": "2022-06-11T11:40:05.708Z"
   },
   {
    "duration": 45,
    "start_time": "2022-06-11T11:40:05.727Z"
   },
   {
    "duration": 29,
    "start_time": "2022-06-11T11:40:05.774Z"
   },
   {
    "duration": 164,
    "start_time": "2022-06-11T11:40:05.805Z"
   },
   {
    "duration": 157,
    "start_time": "2022-06-11T11:40:05.970Z"
   },
   {
    "duration": 172,
    "start_time": "2022-06-11T11:40:06.128Z"
   },
   {
    "duration": 157,
    "start_time": "2022-06-11T11:40:06.303Z"
   },
   {
    "duration": 143,
    "start_time": "2022-06-11T11:40:06.461Z"
   },
   {
    "duration": 169,
    "start_time": "2022-06-11T11:40:06.606Z"
   },
   {
    "duration": 11,
    "start_time": "2022-06-11T11:40:06.778Z"
   },
   {
    "duration": 13,
    "start_time": "2022-06-11T11:40:06.791Z"
   },
   {
    "duration": 11,
    "start_time": "2022-06-11T11:40:06.806Z"
   },
   {
    "duration": 7,
    "start_time": "2022-06-11T11:40:06.819Z"
   },
   {
    "duration": 35,
    "start_time": "2022-06-11T11:40:06.827Z"
   },
   {
    "duration": 6,
    "start_time": "2022-06-11T11:40:06.863Z"
   },
   {
    "duration": 227,
    "start_time": "2022-06-11T11:45:51.275Z"
   },
   {
    "duration": 44,
    "start_time": "2022-06-11T11:47:44.384Z"
   },
   {
    "duration": 141,
    "start_time": "2022-06-11T11:49:36.686Z"
   },
   {
    "duration": 152,
    "start_time": "2022-06-11T11:55:07.219Z"
   },
   {
    "duration": 18,
    "start_time": "2022-06-11T11:55:36.114Z"
   },
   {
    "duration": 507,
    "start_time": "2022-06-11T12:03:01.471Z"
   },
   {
    "duration": 366,
    "start_time": "2022-06-11T12:03:05.776Z"
   },
   {
    "duration": 365,
    "start_time": "2022-06-11T12:04:30.247Z"
   },
   {
    "duration": 106,
    "start_time": "2022-06-11T12:06:27.570Z"
   },
   {
    "duration": 533,
    "start_time": "2022-06-11T12:06:37.221Z"
   },
   {
    "duration": 10,
    "start_time": "2022-06-11T12:07:04.033Z"
   },
   {
    "duration": 242,
    "start_time": "2022-06-11T12:14:04.345Z"
   },
   {
    "duration": 9,
    "start_time": "2022-06-11T12:17:12.533Z"
   },
   {
    "duration": 903,
    "start_time": "2022-06-11T12:17:21.380Z"
   },
   {
    "duration": 861,
    "start_time": "2022-06-11T12:17:32.149Z"
   },
   {
    "duration": 806,
    "start_time": "2022-06-11T12:17:48.165Z"
   },
   {
    "duration": 17,
    "start_time": "2022-06-11T12:18:21.599Z"
   },
   {
    "duration": 1299,
    "start_time": "2022-06-11T12:53:20.429Z"
   },
   {
    "duration": 637,
    "start_time": "2022-06-11T12:53:21.731Z"
   },
   {
    "duration": 24,
    "start_time": "2022-06-11T12:53:22.371Z"
   },
   {
    "duration": 47,
    "start_time": "2022-06-11T12:53:22.398Z"
   },
   {
    "duration": 169,
    "start_time": "2022-06-11T12:53:22.448Z"
   },
   {
    "duration": 13,
    "start_time": "2022-06-11T12:53:22.619Z"
   },
   {
    "duration": 54,
    "start_time": "2022-06-11T12:53:22.634Z"
   },
   {
    "duration": 111,
    "start_time": "2022-06-11T12:53:22.691Z"
   },
   {
    "duration": 8,
    "start_time": "2022-06-11T12:53:22.805Z"
   },
   {
    "duration": 31,
    "start_time": "2022-06-11T12:53:22.817Z"
   },
   {
    "duration": 102,
    "start_time": "2022-06-11T12:53:22.850Z"
   },
   {
    "duration": 25,
    "start_time": "2022-06-11T12:53:22.954Z"
   },
   {
    "duration": 13,
    "start_time": "2022-06-11T12:53:22.981Z"
   },
   {
    "duration": 11,
    "start_time": "2022-06-11T12:53:22.997Z"
   },
   {
    "duration": 14,
    "start_time": "2022-06-11T12:53:23.010Z"
   },
   {
    "duration": 15,
    "start_time": "2022-06-11T12:53:23.026Z"
   },
   {
    "duration": 97,
    "start_time": "2022-06-11T12:53:23.042Z"
   },
   {
    "duration": 31,
    "start_time": "2022-06-11T12:53:23.141Z"
   },
   {
    "duration": 59,
    "start_time": "2022-06-11T12:53:23.178Z"
   },
   {
    "duration": 40,
    "start_time": "2022-06-11T12:53:23.239Z"
   },
   {
    "duration": 400,
    "start_time": "2022-06-11T12:53:23.281Z"
   },
   {
    "duration": 868,
    "start_time": "2022-06-11T12:53:23.684Z"
   },
   {
    "duration": 25,
    "start_time": "2022-06-11T12:53:24.555Z"
   },
   {
    "duration": 49,
    "start_time": "2022-06-11T12:53:24.582Z"
   },
   {
    "duration": 29,
    "start_time": "2022-06-11T12:53:24.632Z"
   },
   {
    "duration": 38,
    "start_time": "2022-06-11T12:53:24.662Z"
   },
   {
    "duration": 46,
    "start_time": "2022-06-11T12:53:24.702Z"
   },
   {
    "duration": 47,
    "start_time": "2022-06-11T12:53:24.754Z"
   },
   {
    "duration": 37,
    "start_time": "2022-06-11T12:53:24.803Z"
   },
   {
    "duration": 29,
    "start_time": "2022-06-11T12:53:24.842Z"
   },
   {
    "duration": 42,
    "start_time": "2022-06-11T12:53:24.873Z"
   },
   {
    "duration": 23,
    "start_time": "2022-06-11T12:53:24.917Z"
   },
   {
    "duration": 26,
    "start_time": "2022-06-11T12:53:24.942Z"
   },
   {
    "duration": 20,
    "start_time": "2022-06-11T12:53:24.974Z"
   },
   {
    "duration": 39,
    "start_time": "2022-06-11T12:53:24.996Z"
   },
   {
    "duration": 64,
    "start_time": "2022-06-11T12:53:25.038Z"
   },
   {
    "duration": 22,
    "start_time": "2022-06-11T12:53:25.104Z"
   },
   {
    "duration": 36,
    "start_time": "2022-06-11T12:53:25.128Z"
   },
   {
    "duration": 22,
    "start_time": "2022-06-11T12:53:25.170Z"
   },
   {
    "duration": 8,
    "start_time": "2022-06-11T12:53:25.195Z"
   },
   {
    "duration": 201,
    "start_time": "2022-06-11T12:53:25.205Z"
   },
   {
    "duration": 25,
    "start_time": "2022-06-11T12:53:25.408Z"
   },
   {
    "duration": 38,
    "start_time": "2022-06-11T12:53:25.435Z"
   },
   {
    "duration": 35,
    "start_time": "2022-06-11T12:53:25.476Z"
   },
   {
    "duration": 37,
    "start_time": "2022-06-11T12:53:25.513Z"
   },
   {
    "duration": 68,
    "start_time": "2022-06-11T12:53:25.552Z"
   },
   {
    "duration": 217,
    "start_time": "2022-06-11T12:53:25.623Z"
   },
   {
    "duration": 163,
    "start_time": "2022-06-11T12:53:25.841Z"
   },
   {
    "duration": 185,
    "start_time": "2022-06-11T12:53:26.006Z"
   },
   {
    "duration": 207,
    "start_time": "2022-06-11T12:53:26.192Z"
   },
   {
    "duration": 172,
    "start_time": "2022-06-11T12:53:26.401Z"
   },
   {
    "duration": 170,
    "start_time": "2022-06-11T12:53:26.574Z"
   },
   {
    "duration": 26,
    "start_time": "2022-06-11T12:53:26.746Z"
   },
   {
    "duration": 21,
    "start_time": "2022-06-11T12:53:26.778Z"
   },
   {
    "duration": 41,
    "start_time": "2022-06-11T12:53:26.802Z"
   },
   {
    "duration": 38,
    "start_time": "2022-06-11T12:53:26.846Z"
   },
   {
    "duration": 19,
    "start_time": "2022-06-11T12:53:26.887Z"
   },
   {
    "duration": 27,
    "start_time": "2022-06-11T12:53:26.908Z"
   },
   {
    "duration": 13,
    "start_time": "2022-06-11T12:56:23.534Z"
   },
   {
    "duration": 11,
    "start_time": "2022-06-11T12:56:49.686Z"
   },
   {
    "duration": 1176,
    "start_time": "2022-06-11T12:56:56.517Z"
   },
   {
    "duration": 485,
    "start_time": "2022-06-11T12:56:57.695Z"
   },
   {
    "duration": 14,
    "start_time": "2022-06-11T12:56:58.182Z"
   },
   {
    "duration": 27,
    "start_time": "2022-06-11T12:56:58.198Z"
   },
   {
    "duration": 133,
    "start_time": "2022-06-11T12:56:58.227Z"
   },
   {
    "duration": 22,
    "start_time": "2022-06-11T12:56:58.363Z"
   },
   {
    "duration": 29,
    "start_time": "2022-06-11T12:56:58.387Z"
   },
   {
    "duration": 103,
    "start_time": "2022-06-11T12:56:58.418Z"
   },
   {
    "duration": 11,
    "start_time": "2022-06-11T12:56:58.523Z"
   },
   {
    "duration": 47,
    "start_time": "2022-06-11T12:56:58.538Z"
   },
   {
    "duration": 67,
    "start_time": "2022-06-11T12:56:58.587Z"
   },
   {
    "duration": 24,
    "start_time": "2022-06-11T12:56:58.656Z"
   },
   {
    "duration": 18,
    "start_time": "2022-06-11T12:56:58.687Z"
   },
   {
    "duration": 16,
    "start_time": "2022-06-11T12:56:58.707Z"
   },
   {
    "duration": 19,
    "start_time": "2022-06-11T12:56:58.725Z"
   },
   {
    "duration": 11,
    "start_time": "2022-06-11T12:56:58.747Z"
   },
   {
    "duration": 88,
    "start_time": "2022-06-11T12:56:58.763Z"
   },
   {
    "duration": 40,
    "start_time": "2022-06-11T12:56:58.854Z"
   },
   {
    "duration": 90,
    "start_time": "2022-06-11T12:56:58.895Z"
   },
   {
    "duration": 24,
    "start_time": "2022-06-11T12:56:58.993Z"
   },
   {
    "duration": 427,
    "start_time": "2022-06-11T12:56:59.019Z"
   },
   {
    "duration": 868,
    "start_time": "2022-06-11T12:56:59.448Z"
   },
   {
    "duration": 16,
    "start_time": "2022-06-11T12:57:00.318Z"
   },
   {
    "duration": 64,
    "start_time": "2022-06-11T12:57:00.335Z"
   },
   {
    "duration": 17,
    "start_time": "2022-06-11T12:57:00.401Z"
   },
   {
    "duration": 27,
    "start_time": "2022-06-11T12:57:00.419Z"
   },
   {
    "duration": 58,
    "start_time": "2022-06-11T12:57:00.461Z"
   },
   {
    "duration": 61,
    "start_time": "2022-06-11T12:57:00.523Z"
   },
   {
    "duration": 34,
    "start_time": "2022-06-11T12:57:00.586Z"
   },
   {
    "duration": 14,
    "start_time": "2022-06-11T12:57:00.621Z"
   },
   {
    "duration": 39,
    "start_time": "2022-06-11T12:57:00.637Z"
   },
   {
    "duration": 29,
    "start_time": "2022-06-11T12:57:00.679Z"
   },
   {
    "duration": 25,
    "start_time": "2022-06-11T12:57:00.711Z"
   },
   {
    "duration": 15,
    "start_time": "2022-06-11T12:57:00.738Z"
   },
   {
    "duration": 14,
    "start_time": "2022-06-11T12:57:00.755Z"
   },
   {
    "duration": 42,
    "start_time": "2022-06-11T12:57:00.770Z"
   },
   {
    "duration": 18,
    "start_time": "2022-06-11T12:57:00.813Z"
   },
   {
    "duration": 33,
    "start_time": "2022-06-11T12:57:00.833Z"
   },
   {
    "duration": 29,
    "start_time": "2022-06-11T12:57:00.870Z"
   },
   {
    "duration": 15,
    "start_time": "2022-06-11T12:57:00.901Z"
   },
   {
    "duration": 159,
    "start_time": "2022-06-11T12:57:00.918Z"
   },
   {
    "duration": 22,
    "start_time": "2022-06-11T12:57:01.079Z"
   },
   {
    "duration": 77,
    "start_time": "2022-06-11T12:57:01.102Z"
   },
   {
    "duration": 101,
    "start_time": "2022-06-11T12:57:01.181Z"
   },
   {
    "duration": 53,
    "start_time": "2022-06-11T12:57:01.285Z"
   },
   {
    "duration": 86,
    "start_time": "2022-06-11T12:57:01.340Z"
   },
   {
    "duration": 189,
    "start_time": "2022-06-11T12:57:01.428Z"
   },
   {
    "duration": 171,
    "start_time": "2022-06-11T12:57:01.619Z"
   },
   {
    "duration": 238,
    "start_time": "2022-06-11T12:57:01.792Z"
   },
   {
    "duration": 198,
    "start_time": "2022-06-11T12:57:02.032Z"
   },
   {
    "duration": 196,
    "start_time": "2022-06-11T12:57:02.232Z"
   },
   {
    "duration": 186,
    "start_time": "2022-06-11T12:57:02.430Z"
   },
   {
    "duration": 14,
    "start_time": "2022-06-11T12:57:02.618Z"
   },
   {
    "duration": 45,
    "start_time": "2022-06-11T12:57:02.634Z"
   },
   {
    "duration": 10,
    "start_time": "2022-06-11T12:57:02.682Z"
   },
   {
    "duration": 14,
    "start_time": "2022-06-11T12:57:02.694Z"
   },
   {
    "duration": 9,
    "start_time": "2022-06-11T12:57:02.710Z"
   },
   {
    "duration": 8,
    "start_time": "2022-06-11T12:57:02.721Z"
   },
   {
    "duration": 36,
    "start_time": "2022-06-11T12:57:33.294Z"
   },
   {
    "duration": 48,
    "start_time": "2022-06-11T12:58:04.244Z"
   },
   {
    "duration": 1256,
    "start_time": "2022-06-11T12:58:15.149Z"
   },
   {
    "duration": 511,
    "start_time": "2022-06-11T12:58:16.408Z"
   },
   {
    "duration": 14,
    "start_time": "2022-06-11T12:58:16.921Z"
   },
   {
    "duration": 41,
    "start_time": "2022-06-11T12:58:16.936Z"
   },
   {
    "duration": 134,
    "start_time": "2022-06-11T12:58:16.980Z"
   },
   {
    "duration": 10,
    "start_time": "2022-06-11T12:58:17.116Z"
   },
   {
    "duration": 43,
    "start_time": "2022-06-11T12:58:17.128Z"
   },
   {
    "duration": 81,
    "start_time": "2022-06-11T12:58:17.173Z"
   },
   {
    "duration": 20,
    "start_time": "2022-06-11T12:58:17.256Z"
   },
   {
    "duration": 23,
    "start_time": "2022-06-11T12:58:17.278Z"
   },
   {
    "duration": 78,
    "start_time": "2022-06-11T12:58:17.303Z"
   },
   {
    "duration": 11,
    "start_time": "2022-06-11T12:58:17.383Z"
   },
   {
    "duration": 15,
    "start_time": "2022-06-11T12:58:17.396Z"
   },
   {
    "duration": 14,
    "start_time": "2022-06-11T12:58:17.416Z"
   },
   {
    "duration": 43,
    "start_time": "2022-06-11T12:58:17.432Z"
   },
   {
    "duration": 9,
    "start_time": "2022-06-11T12:58:17.478Z"
   },
   {
    "duration": 76,
    "start_time": "2022-06-11T12:58:17.490Z"
   },
   {
    "duration": 22,
    "start_time": "2022-06-11T12:58:17.577Z"
   },
   {
    "duration": 48,
    "start_time": "2022-06-11T12:58:17.602Z"
   },
   {
    "duration": 22,
    "start_time": "2022-06-11T12:58:17.668Z"
   },
   {
    "duration": 408,
    "start_time": "2022-06-11T12:58:17.692Z"
   },
   {
    "duration": 882,
    "start_time": "2022-06-11T12:58:18.102Z"
   },
   {
    "duration": 16,
    "start_time": "2022-06-11T12:58:18.986Z"
   },
   {
    "duration": 73,
    "start_time": "2022-06-11T12:58:19.004Z"
   },
   {
    "duration": 24,
    "start_time": "2022-06-11T12:58:19.080Z"
   },
   {
    "duration": 18,
    "start_time": "2022-06-11T12:58:19.106Z"
   },
   {
    "duration": 55,
    "start_time": "2022-06-11T12:58:19.126Z"
   },
   {
    "duration": 48,
    "start_time": "2022-06-11T12:58:19.183Z"
   },
   {
    "duration": 54,
    "start_time": "2022-06-11T12:58:19.233Z"
   },
   {
    "duration": 13,
    "start_time": "2022-06-11T12:58:19.289Z"
   },
   {
    "duration": 15,
    "start_time": "2022-06-11T12:58:19.303Z"
   },
   {
    "duration": 6,
    "start_time": "2022-06-11T12:58:19.320Z"
   },
   {
    "duration": 53,
    "start_time": "2022-06-11T12:58:19.328Z"
   },
   {
    "duration": 13,
    "start_time": "2022-06-11T12:58:19.383Z"
   },
   {
    "duration": 11,
    "start_time": "2022-06-11T12:58:19.398Z"
   },
   {
    "duration": 19,
    "start_time": "2022-06-11T12:58:19.410Z"
   },
   {
    "duration": 35,
    "start_time": "2022-06-11T12:58:19.430Z"
   },
   {
    "duration": 30,
    "start_time": "2022-06-11T12:58:19.466Z"
   },
   {
    "duration": 17,
    "start_time": "2022-06-11T12:58:19.497Z"
   },
   {
    "duration": 9,
    "start_time": "2022-06-11T12:58:19.516Z"
   },
   {
    "duration": 169,
    "start_time": "2022-06-11T12:58:19.531Z"
   },
   {
    "duration": 21,
    "start_time": "2022-06-11T12:58:19.704Z"
   },
   {
    "duration": 37,
    "start_time": "2022-06-11T12:58:19.727Z"
   },
   {
    "duration": 33,
    "start_time": "2022-06-11T12:58:19.766Z"
   },
   {
    "duration": 18,
    "start_time": "2022-06-11T12:58:19.801Z"
   },
   {
    "duration": 50,
    "start_time": "2022-06-11T12:58:19.821Z"
   },
   {
    "duration": 176,
    "start_time": "2022-06-11T12:58:19.873Z"
   },
   {
    "duration": 172,
    "start_time": "2022-06-11T12:58:20.051Z"
   },
   {
    "duration": 189,
    "start_time": "2022-06-11T12:58:20.226Z"
   },
   {
    "duration": 175,
    "start_time": "2022-06-11T12:58:20.417Z"
   },
   {
    "duration": 164,
    "start_time": "2022-06-11T12:58:20.594Z"
   },
   {
    "duration": 184,
    "start_time": "2022-06-11T12:58:20.765Z"
   },
   {
    "duration": 26,
    "start_time": "2022-06-11T12:58:20.951Z"
   },
   {
    "duration": 18,
    "start_time": "2022-06-11T12:58:20.979Z"
   },
   {
    "duration": 13,
    "start_time": "2022-06-11T12:58:20.999Z"
   },
   {
    "duration": 7,
    "start_time": "2022-06-11T12:58:21.015Z"
   },
   {
    "duration": 5,
    "start_time": "2022-06-11T12:58:21.025Z"
   },
   {
    "duration": 7,
    "start_time": "2022-06-11T12:58:21.032Z"
   },
   {
    "duration": 10,
    "start_time": "2022-06-11T13:00:14.715Z"
   },
   {
    "duration": 7,
    "start_time": "2022-06-11T13:00:26.727Z"
   },
   {
    "duration": 7,
    "start_time": "2022-06-11T13:00:41.597Z"
   },
   {
    "duration": 49,
    "start_time": "2022-06-11T13:01:49.130Z"
   },
   {
    "duration": 1189,
    "start_time": "2022-06-11T13:01:57.720Z"
   },
   {
    "duration": 490,
    "start_time": "2022-06-11T13:01:58.912Z"
   },
   {
    "duration": 18,
    "start_time": "2022-06-11T13:01:59.404Z"
   },
   {
    "duration": 37,
    "start_time": "2022-06-11T13:01:59.425Z"
   },
   {
    "duration": 148,
    "start_time": "2022-06-11T13:01:59.468Z"
   },
   {
    "duration": 13,
    "start_time": "2022-06-11T13:01:59.618Z"
   },
   {
    "duration": 46,
    "start_time": "2022-06-11T13:01:59.633Z"
   },
   {
    "duration": 88,
    "start_time": "2022-06-11T13:01:59.686Z"
   },
   {
    "duration": 8,
    "start_time": "2022-06-11T13:01:59.778Z"
   },
   {
    "duration": 24,
    "start_time": "2022-06-11T13:01:59.788Z"
   },
   {
    "duration": 66,
    "start_time": "2022-06-11T13:01:59.814Z"
   },
   {
    "duration": 9,
    "start_time": "2022-06-11T13:01:59.882Z"
   },
   {
    "duration": 21,
    "start_time": "2022-06-11T13:01:59.893Z"
   },
   {
    "duration": 16,
    "start_time": "2022-06-11T13:01:59.917Z"
   },
   {
    "duration": 24,
    "start_time": "2022-06-11T13:01:59.935Z"
   },
   {
    "duration": 28,
    "start_time": "2022-06-11T13:01:59.963Z"
   },
   {
    "duration": 63,
    "start_time": "2022-06-11T13:01:59.993Z"
   },
   {
    "duration": 32,
    "start_time": "2022-06-11T13:02:00.057Z"
   },
   {
    "duration": 48,
    "start_time": "2022-06-11T13:02:00.091Z"
   },
   {
    "duration": 44,
    "start_time": "2022-06-11T13:02:00.141Z"
   },
   {
    "duration": 421,
    "start_time": "2022-06-11T13:02:00.186Z"
   },
   {
    "duration": 17,
    "start_time": "2022-06-11T13:02:00.609Z"
   },
   {
    "duration": 79,
    "start_time": "2022-06-11T13:02:00.627Z"
   },
   {
    "duration": 23,
    "start_time": "2022-06-11T13:02:00.708Z"
   },
   {
    "duration": 31,
    "start_time": "2022-06-11T13:02:00.733Z"
   },
   {
    "duration": 57,
    "start_time": "2022-06-11T13:02:00.769Z"
   },
   {
    "duration": 50,
    "start_time": "2022-06-11T13:02:00.828Z"
   },
   {
    "duration": 37,
    "start_time": "2022-06-11T13:02:00.895Z"
   },
   {
    "duration": 15,
    "start_time": "2022-06-11T13:02:00.936Z"
   },
   {
    "duration": 45,
    "start_time": "2022-06-11T13:02:00.954Z"
   },
   {
    "duration": 14,
    "start_time": "2022-06-11T13:02:01.001Z"
   },
   {
    "duration": 25,
    "start_time": "2022-06-11T13:02:01.018Z"
   },
   {
    "duration": 27,
    "start_time": "2022-06-11T13:02:01.046Z"
   },
   {
    "duration": 27,
    "start_time": "2022-06-11T13:02:01.074Z"
   },
   {
    "duration": 48,
    "start_time": "2022-06-11T13:02:01.103Z"
   },
   {
    "duration": 59,
    "start_time": "2022-06-11T13:02:01.154Z"
   },
   {
    "duration": 58,
    "start_time": "2022-06-11T13:02:01.215Z"
   },
   {
    "duration": 33,
    "start_time": "2022-06-11T13:02:01.275Z"
   },
   {
    "duration": 7,
    "start_time": "2022-06-11T13:02:01.310Z"
   },
   {
    "duration": 149,
    "start_time": "2022-06-11T13:02:01.319Z"
   },
   {
    "duration": 23,
    "start_time": "2022-06-11T13:02:01.481Z"
   },
   {
    "duration": 20,
    "start_time": "2022-06-11T13:02:01.506Z"
   },
   {
    "duration": 48,
    "start_time": "2022-06-11T13:02:01.528Z"
   },
   {
    "duration": 49,
    "start_time": "2022-06-11T13:02:01.578Z"
   },
   {
    "duration": 43,
    "start_time": "2022-06-11T13:02:01.629Z"
   },
   {
    "duration": 176,
    "start_time": "2022-06-11T13:02:01.674Z"
   },
   {
    "duration": 252,
    "start_time": "2022-06-11T13:02:01.852Z"
   },
   {
    "duration": 216,
    "start_time": "2022-06-11T13:02:02.106Z"
   },
   {
    "duration": 182,
    "start_time": "2022-06-11T13:02:02.324Z"
   },
   {
    "duration": 164,
    "start_time": "2022-06-11T13:02:02.508Z"
   },
   {
    "duration": 208,
    "start_time": "2022-06-11T13:02:02.674Z"
   },
   {
    "duration": 15,
    "start_time": "2022-06-11T13:02:02.885Z"
   },
   {
    "duration": 41,
    "start_time": "2022-06-11T13:02:02.903Z"
   },
   {
    "duration": 37,
    "start_time": "2022-06-11T13:02:02.946Z"
   },
   {
    "duration": 15,
    "start_time": "2022-06-11T13:02:02.985Z"
   },
   {
    "duration": 22,
    "start_time": "2022-06-11T13:02:03.002Z"
   },
   {
    "duration": 18,
    "start_time": "2022-06-11T13:02:03.027Z"
   },
   {
    "duration": 141,
    "start_time": "2022-06-11T13:03:34.637Z"
   },
   {
    "duration": 1261,
    "start_time": "2022-06-11T13:03:55.245Z"
   },
   {
    "duration": 522,
    "start_time": "2022-06-11T13:03:56.508Z"
   },
   {
    "duration": 13,
    "start_time": "2022-06-11T13:03:57.032Z"
   },
   {
    "duration": 34,
    "start_time": "2022-06-11T13:03:57.046Z"
   },
   {
    "duration": 132,
    "start_time": "2022-06-11T13:03:57.082Z"
   },
   {
    "duration": 11,
    "start_time": "2022-06-11T13:03:57.216Z"
   },
   {
    "duration": 63,
    "start_time": "2022-06-11T13:03:57.229Z"
   },
   {
    "duration": 112,
    "start_time": "2022-06-11T13:03:57.294Z"
   },
   {
    "duration": 9,
    "start_time": "2022-06-11T13:03:57.409Z"
   },
   {
    "duration": 48,
    "start_time": "2022-06-11T13:03:57.420Z"
   },
   {
    "duration": 67,
    "start_time": "2022-06-11T13:03:57.470Z"
   },
   {
    "duration": 29,
    "start_time": "2022-06-11T13:03:57.539Z"
   },
   {
    "duration": 40,
    "start_time": "2022-06-11T13:03:57.577Z"
   },
   {
    "duration": 26,
    "start_time": "2022-06-11T13:03:57.621Z"
   },
   {
    "duration": 46,
    "start_time": "2022-06-11T13:03:57.650Z"
   },
   {
    "duration": 10,
    "start_time": "2022-06-11T13:03:57.699Z"
   },
   {
    "duration": 86,
    "start_time": "2022-06-11T13:03:57.711Z"
   },
   {
    "duration": 31,
    "start_time": "2022-06-11T13:03:57.799Z"
   },
   {
    "duration": 88,
    "start_time": "2022-06-11T13:03:57.832Z"
   },
   {
    "duration": 21,
    "start_time": "2022-06-11T13:03:57.923Z"
   },
   {
    "duration": 431,
    "start_time": "2022-06-11T13:03:57.946Z"
   },
   {
    "duration": 24,
    "start_time": "2022-06-11T13:03:58.380Z"
   },
   {
    "duration": 40,
    "start_time": "2022-06-11T13:03:58.406Z"
   },
   {
    "duration": 29,
    "start_time": "2022-06-11T13:03:58.448Z"
   },
   {
    "duration": 21,
    "start_time": "2022-06-11T13:03:58.479Z"
   },
   {
    "duration": 73,
    "start_time": "2022-06-11T13:03:58.503Z"
   },
   {
    "duration": 33,
    "start_time": "2022-06-11T13:03:58.578Z"
   },
   {
    "duration": 51,
    "start_time": "2022-06-11T13:03:58.613Z"
   },
   {
    "duration": 17,
    "start_time": "2022-06-11T13:03:58.670Z"
   },
   {
    "duration": 15,
    "start_time": "2022-06-11T13:03:58.689Z"
   },
   {
    "duration": 5,
    "start_time": "2022-06-11T13:03:58.705Z"
   },
   {
    "duration": 16,
    "start_time": "2022-06-11T13:03:58.712Z"
   },
   {
    "duration": 42,
    "start_time": "2022-06-11T13:03:58.730Z"
   },
   {
    "duration": 11,
    "start_time": "2022-06-11T13:03:58.778Z"
   },
   {
    "duration": 17,
    "start_time": "2022-06-11T13:03:58.791Z"
   },
   {
    "duration": 10,
    "start_time": "2022-06-11T13:03:58.810Z"
   },
   {
    "duration": 55,
    "start_time": "2022-06-11T13:03:58.823Z"
   },
   {
    "duration": 19,
    "start_time": "2022-06-11T13:03:58.882Z"
   },
   {
    "duration": 7,
    "start_time": "2022-06-11T13:03:58.903Z"
   },
   {
    "duration": 161,
    "start_time": "2022-06-11T13:03:58.912Z"
   },
   {
    "duration": 21,
    "start_time": "2022-06-11T13:03:59.083Z"
   },
   {
    "duration": 19,
    "start_time": "2022-06-11T13:03:59.106Z"
   },
   {
    "duration": 44,
    "start_time": "2022-06-11T13:03:59.127Z"
   },
   {
    "duration": 25,
    "start_time": "2022-06-11T13:03:59.175Z"
   },
   {
    "duration": 34,
    "start_time": "2022-06-11T13:03:59.202Z"
   },
   {
    "duration": 176,
    "start_time": "2022-06-11T13:03:59.237Z"
   },
   {
    "duration": 178,
    "start_time": "2022-06-11T13:03:59.416Z"
   },
   {
    "duration": 189,
    "start_time": "2022-06-11T13:03:59.596Z"
   },
   {
    "duration": 196,
    "start_time": "2022-06-11T13:03:59.787Z"
   },
   {
    "duration": 173,
    "start_time": "2022-06-11T13:03:59.985Z"
   },
   {
    "duration": 223,
    "start_time": "2022-06-11T13:04:00.161Z"
   },
   {
    "duration": 14,
    "start_time": "2022-06-11T13:04:00.387Z"
   },
   {
    "duration": 33,
    "start_time": "2022-06-11T13:04:00.402Z"
   },
   {
    "duration": 38,
    "start_time": "2022-06-11T13:04:00.437Z"
   },
   {
    "duration": 23,
    "start_time": "2022-06-11T13:04:00.478Z"
   },
   {
    "duration": 13,
    "start_time": "2022-06-11T13:04:00.503Z"
   },
   {
    "duration": 7,
    "start_time": "2022-06-11T13:04:00.518Z"
   },
   {
    "duration": 59,
    "start_time": "2022-06-11T14:58:57.251Z"
   },
   {
    "duration": 1315,
    "start_time": "2022-06-11T14:59:04.019Z"
   },
   {
    "duration": 1182,
    "start_time": "2022-06-11T14:59:05.336Z"
   },
   {
    "duration": 12,
    "start_time": "2022-06-11T14:59:06.520Z"
   },
   {
    "duration": 25,
    "start_time": "2022-06-11T14:59:06.534Z"
   },
   {
    "duration": 116,
    "start_time": "2022-06-11T14:59:06.561Z"
   },
   {
    "duration": 8,
    "start_time": "2022-06-11T14:59:06.679Z"
   },
   {
    "duration": 36,
    "start_time": "2022-06-11T14:59:06.694Z"
   },
   {
    "duration": 73,
    "start_time": "2022-06-11T14:59:06.732Z"
   },
   {
    "duration": 11,
    "start_time": "2022-06-11T14:59:06.806Z"
   },
   {
    "duration": 21,
    "start_time": "2022-06-11T14:59:06.818Z"
   },
   {
    "duration": 71,
    "start_time": "2022-06-11T14:59:06.840Z"
   },
   {
    "duration": 9,
    "start_time": "2022-06-11T14:59:06.913Z"
   },
   {
    "duration": 13,
    "start_time": "2022-06-11T14:59:06.923Z"
   },
   {
    "duration": 13,
    "start_time": "2022-06-11T14:59:06.938Z"
   },
   {
    "duration": 16,
    "start_time": "2022-06-11T14:59:06.952Z"
   },
   {
    "duration": 10,
    "start_time": "2022-06-11T14:59:06.969Z"
   },
   {
    "duration": 79,
    "start_time": "2022-06-11T14:59:06.981Z"
   },
   {
    "duration": 43,
    "start_time": "2022-06-11T14:59:07.062Z"
   },
   {
    "duration": 48,
    "start_time": "2022-06-11T14:59:07.106Z"
   },
   {
    "duration": 17,
    "start_time": "2022-06-11T14:59:07.155Z"
   },
   {
    "duration": 290,
    "start_time": "2022-06-11T14:59:07.174Z"
   },
   {
    "duration": 0,
    "start_time": "2022-06-11T14:59:07.466Z"
   },
   {
    "duration": 0,
    "start_time": "2022-06-11T14:59:07.467Z"
   },
   {
    "duration": 0,
    "start_time": "2022-06-11T14:59:07.469Z"
   },
   {
    "duration": 0,
    "start_time": "2022-06-11T14:59:07.470Z"
   },
   {
    "duration": 0,
    "start_time": "2022-06-11T14:59:07.472Z"
   },
   {
    "duration": 0,
    "start_time": "2022-06-11T14:59:07.473Z"
   },
   {
    "duration": 0,
    "start_time": "2022-06-11T14:59:07.474Z"
   },
   {
    "duration": 0,
    "start_time": "2022-06-11T14:59:07.497Z"
   },
   {
    "duration": 0,
    "start_time": "2022-06-11T14:59:07.498Z"
   },
   {
    "duration": 0,
    "start_time": "2022-06-11T14:59:07.499Z"
   },
   {
    "duration": 0,
    "start_time": "2022-06-11T14:59:07.504Z"
   },
   {
    "duration": 0,
    "start_time": "2022-06-11T14:59:07.504Z"
   },
   {
    "duration": 0,
    "start_time": "2022-06-11T14:59:07.505Z"
   },
   {
    "duration": 0,
    "start_time": "2022-06-11T14:59:07.506Z"
   },
   {
    "duration": 0,
    "start_time": "2022-06-11T14:59:07.507Z"
   },
   {
    "duration": 0,
    "start_time": "2022-06-11T14:59:07.508Z"
   },
   {
    "duration": 0,
    "start_time": "2022-06-11T14:59:07.509Z"
   },
   {
    "duration": 0,
    "start_time": "2022-06-11T14:59:07.510Z"
   },
   {
    "duration": 0,
    "start_time": "2022-06-11T14:59:07.513Z"
   },
   {
    "duration": 0,
    "start_time": "2022-06-11T14:59:07.514Z"
   },
   {
    "duration": 0,
    "start_time": "2022-06-11T14:59:07.515Z"
   },
   {
    "duration": 0,
    "start_time": "2022-06-11T14:59:07.516Z"
   },
   {
    "duration": 0,
    "start_time": "2022-06-11T14:59:07.517Z"
   },
   {
    "duration": 0,
    "start_time": "2022-06-11T14:59:07.518Z"
   },
   {
    "duration": 0,
    "start_time": "2022-06-11T14:59:07.519Z"
   },
   {
    "duration": 0,
    "start_time": "2022-06-11T14:59:07.520Z"
   },
   {
    "duration": 0,
    "start_time": "2022-06-11T14:59:07.521Z"
   },
   {
    "duration": 0,
    "start_time": "2022-06-11T14:59:07.522Z"
   },
   {
    "duration": 0,
    "start_time": "2022-06-11T14:59:07.523Z"
   },
   {
    "duration": 0,
    "start_time": "2022-06-11T14:59:07.524Z"
   },
   {
    "duration": 0,
    "start_time": "2022-06-11T14:59:07.525Z"
   },
   {
    "duration": 0,
    "start_time": "2022-06-11T14:59:07.526Z"
   },
   {
    "duration": 0,
    "start_time": "2022-06-11T14:59:07.527Z"
   },
   {
    "duration": 0,
    "start_time": "2022-06-11T14:59:07.528Z"
   },
   {
    "duration": 0,
    "start_time": "2022-06-11T14:59:07.529Z"
   },
   {
    "duration": 0,
    "start_time": "2022-06-11T14:59:07.529Z"
   },
   {
    "duration": 385,
    "start_time": "2022-06-11T15:00:13.762Z"
   },
   {
    "duration": 17,
    "start_time": "2022-06-11T15:00:19.739Z"
   },
   {
    "duration": 1189,
    "start_time": "2022-06-11T15:11:31.408Z"
   },
   {
    "duration": 478,
    "start_time": "2022-06-11T15:11:32.605Z"
   },
   {
    "duration": 16,
    "start_time": "2022-06-11T15:11:33.085Z"
   },
   {
    "duration": 42,
    "start_time": "2022-06-11T15:11:33.103Z"
   },
   {
    "duration": 122,
    "start_time": "2022-06-11T15:11:33.148Z"
   },
   {
    "duration": 12,
    "start_time": "2022-06-11T15:11:33.272Z"
   },
   {
    "duration": 42,
    "start_time": "2022-06-11T15:11:33.296Z"
   },
   {
    "duration": 80,
    "start_time": "2022-06-11T15:11:33.340Z"
   },
   {
    "duration": 6,
    "start_time": "2022-06-11T15:11:33.422Z"
   },
   {
    "duration": 27,
    "start_time": "2022-06-11T15:11:33.430Z"
   },
   {
    "duration": 60,
    "start_time": "2022-06-11T15:11:33.458Z"
   },
   {
    "duration": 10,
    "start_time": "2022-06-11T15:11:33.520Z"
   },
   {
    "duration": 18,
    "start_time": "2022-06-11T15:11:33.532Z"
   },
   {
    "duration": 15,
    "start_time": "2022-06-11T15:11:33.554Z"
   },
   {
    "duration": 41,
    "start_time": "2022-06-11T15:11:33.571Z"
   },
   {
    "duration": 12,
    "start_time": "2022-06-11T15:11:33.614Z"
   },
   {
    "duration": 61,
    "start_time": "2022-06-11T15:11:33.628Z"
   },
   {
    "duration": 32,
    "start_time": "2022-06-11T15:11:33.690Z"
   },
   {
    "duration": 46,
    "start_time": "2022-06-11T15:11:33.724Z"
   },
   {
    "duration": 37,
    "start_time": "2022-06-11T15:11:33.772Z"
   },
   {
    "duration": 368,
    "start_time": "2022-06-11T15:11:33.814Z"
   },
   {
    "duration": 49,
    "start_time": "2022-06-11T15:11:34.184Z"
   },
   {
    "duration": 17,
    "start_time": "2022-06-11T15:11:34.235Z"
   },
   {
    "duration": 14,
    "start_time": "2022-06-11T15:11:34.254Z"
   },
   {
    "duration": 68,
    "start_time": "2022-06-11T15:11:34.270Z"
   },
   {
    "duration": 39,
    "start_time": "2022-06-11T15:11:34.340Z"
   },
   {
    "duration": 42,
    "start_time": "2022-06-11T15:11:34.406Z"
   },
   {
    "duration": 15,
    "start_time": "2022-06-11T15:11:34.450Z"
   },
   {
    "duration": 12,
    "start_time": "2022-06-11T15:11:34.467Z"
   },
   {
    "duration": 10,
    "start_time": "2022-06-11T15:11:34.501Z"
   },
   {
    "duration": 18,
    "start_time": "2022-06-11T15:11:34.513Z"
   },
   {
    "duration": 12,
    "start_time": "2022-06-11T15:11:34.534Z"
   },
   {
    "duration": 8,
    "start_time": "2022-06-11T15:11:34.548Z"
   },
   {
    "duration": 22,
    "start_time": "2022-06-11T15:11:34.558Z"
   },
   {
    "duration": 23,
    "start_time": "2022-06-11T15:11:34.582Z"
   },
   {
    "duration": 24,
    "start_time": "2022-06-11T15:11:34.606Z"
   },
   {
    "duration": 18,
    "start_time": "2022-06-11T15:11:34.632Z"
   },
   {
    "duration": 9,
    "start_time": "2022-06-11T15:11:34.652Z"
   },
   {
    "duration": 170,
    "start_time": "2022-06-11T15:11:34.662Z"
   },
   {
    "duration": 27,
    "start_time": "2022-06-11T15:11:34.834Z"
   },
   {
    "duration": 37,
    "start_time": "2022-06-11T15:11:34.868Z"
   },
   {
    "duration": 24,
    "start_time": "2022-06-11T15:11:34.907Z"
   },
   {
    "duration": 20,
    "start_time": "2022-06-11T15:11:34.933Z"
   },
   {
    "duration": 57,
    "start_time": "2022-06-11T15:11:34.955Z"
   },
   {
    "duration": 162,
    "start_time": "2022-06-11T15:11:35.015Z"
   },
   {
    "duration": 158,
    "start_time": "2022-06-11T15:11:35.178Z"
   },
   {
    "duration": 171,
    "start_time": "2022-06-11T15:11:35.337Z"
   },
   {
    "duration": 168,
    "start_time": "2022-06-11T15:11:35.510Z"
   },
   {
    "duration": 174,
    "start_time": "2022-06-11T15:11:35.680Z"
   },
   {
    "duration": 163,
    "start_time": "2022-06-11T15:11:35.856Z"
   },
   {
    "duration": 11,
    "start_time": "2022-06-11T15:11:36.022Z"
   },
   {
    "duration": 36,
    "start_time": "2022-06-11T15:11:36.035Z"
   },
   {
    "duration": 15,
    "start_time": "2022-06-11T15:11:36.072Z"
   },
   {
    "duration": 27,
    "start_time": "2022-06-11T15:11:36.089Z"
   },
   {
    "duration": 8,
    "start_time": "2022-06-11T15:11:36.118Z"
   },
   {
    "duration": 11,
    "start_time": "2022-06-11T15:11:36.128Z"
   },
   {
    "duration": 7,
    "start_time": "2022-06-11T15:13:28.601Z"
   },
   {
    "duration": 39,
    "start_time": "2022-06-11T15:21:07.008Z"
   },
   {
    "duration": 44,
    "start_time": "2022-06-11T15:21:27.777Z"
   },
   {
    "duration": 5,
    "start_time": "2022-06-11T15:24:20.118Z"
   },
   {
    "duration": 5,
    "start_time": "2022-06-11T15:24:57.321Z"
   },
   {
    "duration": 12,
    "start_time": "2022-06-11T15:25:23.830Z"
   },
   {
    "duration": 5,
    "start_time": "2022-06-11T15:25:55.667Z"
   },
   {
    "duration": 5,
    "start_time": "2022-06-11T15:26:12.173Z"
   },
   {
    "duration": 112,
    "start_time": "2022-06-11T15:27:50.416Z"
   },
   {
    "duration": 1142,
    "start_time": "2022-06-11T15:28:14.411Z"
   },
   {
    "duration": 455,
    "start_time": "2022-06-11T15:28:15.555Z"
   },
   {
    "duration": 13,
    "start_time": "2022-06-11T15:28:16.011Z"
   },
   {
    "duration": 37,
    "start_time": "2022-06-11T15:28:16.025Z"
   },
   {
    "duration": 137,
    "start_time": "2022-06-11T15:28:16.064Z"
   },
   {
    "duration": 12,
    "start_time": "2022-06-11T15:28:16.203Z"
   },
   {
    "duration": 25,
    "start_time": "2022-06-11T15:28:16.217Z"
   },
   {
    "duration": 95,
    "start_time": "2022-06-11T15:28:16.244Z"
   },
   {
    "duration": 8,
    "start_time": "2022-06-11T15:28:16.341Z"
   },
   {
    "duration": 21,
    "start_time": "2022-06-11T15:28:16.351Z"
   },
   {
    "duration": 73,
    "start_time": "2022-06-11T15:28:16.374Z"
   },
   {
    "duration": 8,
    "start_time": "2022-06-11T15:28:16.449Z"
   },
   {
    "duration": 12,
    "start_time": "2022-06-11T15:28:16.459Z"
   },
   {
    "duration": 17,
    "start_time": "2022-06-11T15:28:16.496Z"
   },
   {
    "duration": 13,
    "start_time": "2022-06-11T15:28:16.515Z"
   },
   {
    "duration": 8,
    "start_time": "2022-06-11T15:28:16.530Z"
   },
   {
    "duration": 75,
    "start_time": "2022-06-11T15:28:16.540Z"
   },
   {
    "duration": 20,
    "start_time": "2022-06-11T15:28:16.617Z"
   },
   {
    "duration": 68,
    "start_time": "2022-06-11T15:28:16.638Z"
   },
   {
    "duration": 18,
    "start_time": "2022-06-11T15:28:16.711Z"
   },
   {
    "duration": 389,
    "start_time": "2022-06-11T15:28:16.731Z"
   },
   {
    "duration": 37,
    "start_time": "2022-06-11T15:28:17.122Z"
   },
   {
    "duration": 15,
    "start_time": "2022-06-11T15:28:17.161Z"
   },
   {
    "duration": 19,
    "start_time": "2022-06-11T15:28:17.194Z"
   },
   {
    "duration": 9,
    "start_time": "2022-06-11T15:28:17.214Z"
   },
   {
    "duration": 43,
    "start_time": "2022-06-11T15:28:17.225Z"
   },
   {
    "duration": 4,
    "start_time": "2022-06-11T15:28:17.270Z"
   },
   {
    "duration": 55,
    "start_time": "2022-06-11T15:28:17.275Z"
   },
   {
    "duration": 4,
    "start_time": "2022-06-11T15:28:17.332Z"
   },
   {
    "duration": 66,
    "start_time": "2022-06-11T15:28:17.338Z"
   },
   {
    "duration": 6,
    "start_time": "2022-06-11T15:28:17.406Z"
   },
   {
    "duration": 20,
    "start_time": "2022-06-11T15:28:17.414Z"
   },
   {
    "duration": 12,
    "start_time": "2022-06-11T15:28:17.436Z"
   },
   {
    "duration": 5,
    "start_time": "2022-06-11T15:28:17.450Z"
   },
   {
    "duration": 24,
    "start_time": "2022-06-11T15:28:17.457Z"
   },
   {
    "duration": 35,
    "start_time": "2022-06-11T15:28:17.483Z"
   },
   {
    "duration": 15,
    "start_time": "2022-06-11T15:28:17.519Z"
   },
   {
    "duration": 27,
    "start_time": "2022-06-11T15:28:17.536Z"
   },
   {
    "duration": 8,
    "start_time": "2022-06-11T15:28:17.564Z"
   },
   {
    "duration": 31,
    "start_time": "2022-06-11T15:28:17.574Z"
   },
   {
    "duration": 15,
    "start_time": "2022-06-11T15:28:17.610Z"
   },
   {
    "duration": 19,
    "start_time": "2022-06-11T15:28:17.627Z"
   },
   {
    "duration": 132,
    "start_time": "2022-06-11T15:28:17.648Z"
   },
   {
    "duration": 30,
    "start_time": "2022-06-11T15:28:17.783Z"
   },
   {
    "duration": 27,
    "start_time": "2022-06-11T15:28:17.815Z"
   },
   {
    "duration": 24,
    "start_time": "2022-06-11T15:28:17.843Z"
   },
   {
    "duration": 17,
    "start_time": "2022-06-11T15:28:17.868Z"
   },
   {
    "duration": 44,
    "start_time": "2022-06-11T15:28:17.886Z"
   },
   {
    "duration": 159,
    "start_time": "2022-06-11T15:28:17.931Z"
   },
   {
    "duration": 159,
    "start_time": "2022-06-11T15:28:18.092Z"
   },
   {
    "duration": 181,
    "start_time": "2022-06-11T15:28:18.252Z"
   },
   {
    "duration": 170,
    "start_time": "2022-06-11T15:28:18.435Z"
   },
   {
    "duration": 151,
    "start_time": "2022-06-11T15:28:18.607Z"
   },
   {
    "duration": 199,
    "start_time": "2022-06-11T15:28:18.760Z"
   },
   {
    "duration": 13,
    "start_time": "2022-06-11T15:28:18.961Z"
   },
   {
    "duration": 33,
    "start_time": "2022-06-11T15:28:18.976Z"
   },
   {
    "duration": 56,
    "start_time": "2022-06-11T15:28:19.011Z"
   },
   {
    "duration": 21,
    "start_time": "2022-06-11T15:28:19.069Z"
   },
   {
    "duration": 23,
    "start_time": "2022-06-11T15:28:19.092Z"
   },
   {
    "duration": 20,
    "start_time": "2022-06-11T15:28:19.117Z"
   },
   {
    "duration": 7,
    "start_time": "2022-06-11T15:29:37.440Z"
   },
   {
    "duration": 6,
    "start_time": "2022-06-11T15:50:44.496Z"
   },
   {
    "duration": 4,
    "start_time": "2022-06-11T15:51:05.061Z"
   },
   {
    "duration": 258,
    "start_time": "2022-06-11T15:56:24.694Z"
   },
   {
    "duration": 27,
    "start_time": "2022-06-11T15:56:40.017Z"
   },
   {
    "duration": 5,
    "start_time": "2022-06-11T15:57:38.311Z"
   },
   {
    "duration": 6,
    "start_time": "2022-06-11T15:59:01.949Z"
   },
   {
    "duration": 1235,
    "start_time": "2022-06-11T15:59:18.819Z"
   },
   {
    "duration": 480,
    "start_time": "2022-06-11T15:59:20.057Z"
   },
   {
    "duration": 12,
    "start_time": "2022-06-11T15:59:20.539Z"
   },
   {
    "duration": 37,
    "start_time": "2022-06-11T15:59:20.553Z"
   },
   {
    "duration": 165,
    "start_time": "2022-06-11T15:59:20.592Z"
   },
   {
    "duration": 12,
    "start_time": "2022-06-11T15:59:20.759Z"
   },
   {
    "duration": 53,
    "start_time": "2022-06-11T15:59:20.773Z"
   },
   {
    "duration": 82,
    "start_time": "2022-06-11T15:59:20.828Z"
   },
   {
    "duration": 9,
    "start_time": "2022-06-11T15:59:20.918Z"
   },
   {
    "duration": 36,
    "start_time": "2022-06-11T15:59:20.929Z"
   },
   {
    "duration": 60,
    "start_time": "2022-06-11T15:59:20.967Z"
   },
   {
    "duration": 10,
    "start_time": "2022-06-11T15:59:21.029Z"
   },
   {
    "duration": 36,
    "start_time": "2022-06-11T15:59:21.041Z"
   },
   {
    "duration": 32,
    "start_time": "2022-06-11T15:59:21.080Z"
   },
   {
    "duration": 15,
    "start_time": "2022-06-11T15:59:21.114Z"
   },
   {
    "duration": 20,
    "start_time": "2022-06-11T15:59:21.131Z"
   },
   {
    "duration": 75,
    "start_time": "2022-06-11T15:59:21.152Z"
   },
   {
    "duration": 18,
    "start_time": "2022-06-11T15:59:21.229Z"
   },
   {
    "duration": 6,
    "start_time": "2022-06-11T15:59:21.249Z"
   },
   {
    "duration": 65,
    "start_time": "2022-06-11T15:59:21.257Z"
   },
   {
    "duration": 17,
    "start_time": "2022-06-11T15:59:21.324Z"
   },
   {
    "duration": 377,
    "start_time": "2022-06-11T15:59:21.342Z"
   },
   {
    "duration": 37,
    "start_time": "2022-06-11T15:59:21.722Z"
   },
   {
    "duration": 33,
    "start_time": "2022-06-11T15:59:21.761Z"
   },
   {
    "duration": 19,
    "start_time": "2022-06-11T15:59:21.797Z"
   },
   {
    "duration": 52,
    "start_time": "2022-06-11T15:59:21.818Z"
   },
   {
    "duration": 54,
    "start_time": "2022-06-11T15:59:21.872Z"
   },
   {
    "duration": 36,
    "start_time": "2022-06-11T15:59:21.928Z"
   },
   {
    "duration": 39,
    "start_time": "2022-06-11T15:59:21.967Z"
   },
   {
    "duration": 18,
    "start_time": "2022-06-11T15:59:22.008Z"
   },
   {
    "duration": 5,
    "start_time": "2022-06-11T15:59:22.028Z"
   },
   {
    "duration": 19,
    "start_time": "2022-06-11T15:59:22.035Z"
   },
   {
    "duration": 24,
    "start_time": "2022-06-11T15:59:22.056Z"
   },
   {
    "duration": 32,
    "start_time": "2022-06-11T15:59:22.082Z"
   },
   {
    "duration": 19,
    "start_time": "2022-06-11T15:59:22.116Z"
   },
   {
    "duration": 8,
    "start_time": "2022-06-11T15:59:22.137Z"
   },
   {
    "duration": 17,
    "start_time": "2022-06-11T15:59:22.147Z"
   },
   {
    "duration": 44,
    "start_time": "2022-06-11T15:59:22.165Z"
   },
   {
    "duration": 6,
    "start_time": "2022-06-11T15:59:22.215Z"
   },
   {
    "duration": 142,
    "start_time": "2022-06-11T15:59:22.223Z"
   },
   {
    "duration": 41,
    "start_time": "2022-06-11T15:59:22.369Z"
   },
   {
    "duration": 19,
    "start_time": "2022-06-11T15:59:22.412Z"
   },
   {
    "duration": 35,
    "start_time": "2022-06-11T15:59:22.433Z"
   },
   {
    "duration": 28,
    "start_time": "2022-06-11T15:59:22.471Z"
   },
   {
    "duration": 49,
    "start_time": "2022-06-11T15:59:22.503Z"
   },
   {
    "duration": 145,
    "start_time": "2022-06-11T15:59:22.553Z"
   },
   {
    "duration": 158,
    "start_time": "2022-06-11T15:59:22.699Z"
   },
   {
    "duration": 174,
    "start_time": "2022-06-11T15:59:22.858Z"
   },
   {
    "duration": 158,
    "start_time": "2022-06-11T15:59:23.034Z"
   },
   {
    "duration": 162,
    "start_time": "2022-06-11T15:59:23.194Z"
   },
   {
    "duration": 192,
    "start_time": "2022-06-11T15:59:23.359Z"
   },
   {
    "duration": 10,
    "start_time": "2022-06-11T15:59:23.553Z"
   },
   {
    "duration": 12,
    "start_time": "2022-06-11T15:59:23.565Z"
   },
   {
    "duration": 32,
    "start_time": "2022-06-11T15:59:23.579Z"
   },
   {
    "duration": 10,
    "start_time": "2022-06-11T15:59:23.613Z"
   },
   {
    "duration": 8,
    "start_time": "2022-06-11T15:59:23.625Z"
   },
   {
    "duration": 13,
    "start_time": "2022-06-11T15:59:23.634Z"
   },
   {
    "duration": 7,
    "start_time": "2022-06-11T16:00:08.461Z"
   },
   {
    "duration": 1222,
    "start_time": "2022-06-11T16:00:38.808Z"
   },
   {
    "duration": 460,
    "start_time": "2022-06-11T16:00:40.032Z"
   },
   {
    "duration": 28,
    "start_time": "2022-06-11T16:00:40.496Z"
   },
   {
    "duration": 32,
    "start_time": "2022-06-11T16:00:40.526Z"
   },
   {
    "duration": 49,
    "start_time": "2022-06-11T16:00:40.561Z"
   },
   {
    "duration": 149,
    "start_time": "2022-06-11T16:00:40.616Z"
   },
   {
    "duration": 10,
    "start_time": "2022-06-11T16:00:40.767Z"
   },
   {
    "duration": 65,
    "start_time": "2022-06-11T16:00:40.779Z"
   },
   {
    "duration": 94,
    "start_time": "2022-06-11T16:00:40.846Z"
   },
   {
    "duration": 8,
    "start_time": "2022-06-11T16:00:40.942Z"
   },
   {
    "duration": 44,
    "start_time": "2022-06-11T16:00:40.951Z"
   },
   {
    "duration": 86,
    "start_time": "2022-06-11T16:00:40.997Z"
   },
   {
    "duration": 14,
    "start_time": "2022-06-11T16:00:41.085Z"
   },
   {
    "duration": 33,
    "start_time": "2022-06-11T16:00:41.114Z"
   },
   {
    "duration": 14,
    "start_time": "2022-06-11T16:00:41.149Z"
   },
   {
    "duration": 38,
    "start_time": "2022-06-11T16:00:41.165Z"
   },
   {
    "duration": 38,
    "start_time": "2022-06-11T16:00:41.205Z"
   },
   {
    "duration": 87,
    "start_time": "2022-06-11T16:00:41.245Z"
   },
   {
    "duration": 20,
    "start_time": "2022-06-11T16:00:41.334Z"
   },
   {
    "duration": 25,
    "start_time": "2022-06-11T16:00:41.355Z"
   },
   {
    "duration": 83,
    "start_time": "2022-06-11T16:00:41.382Z"
   },
   {
    "duration": 16,
    "start_time": "2022-06-11T16:00:41.467Z"
   },
   {
    "duration": 402,
    "start_time": "2022-06-11T16:00:41.485Z"
   },
   {
    "duration": 53,
    "start_time": "2022-06-11T16:00:41.894Z"
   },
   {
    "duration": 22,
    "start_time": "2022-06-11T16:00:41.949Z"
   },
   {
    "duration": 42,
    "start_time": "2022-06-11T16:00:41.973Z"
   },
   {
    "duration": 58,
    "start_time": "2022-06-11T16:00:42.017Z"
   },
   {
    "duration": 49,
    "start_time": "2022-06-11T16:00:42.077Z"
   },
   {
    "duration": 33,
    "start_time": "2022-06-11T16:00:42.128Z"
   },
   {
    "duration": 12,
    "start_time": "2022-06-11T16:00:42.164Z"
   },
   {
    "duration": 35,
    "start_time": "2022-06-11T16:00:42.178Z"
   },
   {
    "duration": 9,
    "start_time": "2022-06-11T16:00:42.214Z"
   },
   {
    "duration": 21,
    "start_time": "2022-06-11T16:00:42.225Z"
   },
   {
    "duration": 17,
    "start_time": "2022-06-11T16:00:42.248Z"
   },
   {
    "duration": 10,
    "start_time": "2022-06-11T16:00:42.266Z"
   },
   {
    "duration": 34,
    "start_time": "2022-06-11T16:00:42.277Z"
   },
   {
    "duration": 15,
    "start_time": "2022-06-11T16:00:42.313Z"
   },
   {
    "duration": 20,
    "start_time": "2022-06-11T16:00:42.330Z"
   },
   {
    "duration": 14,
    "start_time": "2022-06-11T16:00:42.352Z"
   },
   {
    "duration": 41,
    "start_time": "2022-06-11T16:00:42.368Z"
   },
   {
    "duration": 155,
    "start_time": "2022-06-11T16:00:42.414Z"
   },
   {
    "duration": 33,
    "start_time": "2022-06-11T16:00:42.571Z"
   },
   {
    "duration": 20,
    "start_time": "2022-06-11T16:00:42.614Z"
   },
   {
    "duration": 19,
    "start_time": "2022-06-11T16:00:42.636Z"
   },
   {
    "duration": 22,
    "start_time": "2022-06-11T16:00:42.656Z"
   },
   {
    "duration": 49,
    "start_time": "2022-06-11T16:00:42.694Z"
   },
   {
    "duration": 174,
    "start_time": "2022-06-11T16:00:42.745Z"
   },
   {
    "duration": 153,
    "start_time": "2022-06-11T16:00:42.921Z"
   },
   {
    "duration": 189,
    "start_time": "2022-06-11T16:00:43.076Z"
   },
   {
    "duration": 164,
    "start_time": "2022-06-11T16:00:43.267Z"
   },
   {
    "duration": 157,
    "start_time": "2022-06-11T16:00:43.433Z"
   },
   {
    "duration": 172,
    "start_time": "2022-06-11T16:00:43.597Z"
   },
   {
    "duration": 10,
    "start_time": "2022-06-11T16:00:43.771Z"
   },
   {
    "duration": 32,
    "start_time": "2022-06-11T16:00:43.783Z"
   },
   {
    "duration": 12,
    "start_time": "2022-06-11T16:00:43.818Z"
   },
   {
    "duration": 9,
    "start_time": "2022-06-11T16:00:43.832Z"
   },
   {
    "duration": 7,
    "start_time": "2022-06-11T16:00:43.842Z"
   },
   {
    "duration": 7,
    "start_time": "2022-06-11T16:00:43.850Z"
   },
   {
    "duration": 24,
    "start_time": "2022-06-11T16:02:53.650Z"
   },
   {
    "duration": 1162,
    "start_time": "2022-06-11T16:03:01.564Z"
   },
   {
    "duration": 464,
    "start_time": "2022-06-11T16:03:02.729Z"
   },
   {
    "duration": 19,
    "start_time": "2022-06-11T16:03:03.197Z"
   },
   {
    "duration": 33,
    "start_time": "2022-06-11T16:03:03.218Z"
   },
   {
    "duration": 124,
    "start_time": "2022-06-11T16:03:03.253Z"
   },
   {
    "duration": 16,
    "start_time": "2022-06-11T16:03:03.378Z"
   },
   {
    "duration": 28,
    "start_time": "2022-06-11T16:03:03.398Z"
   },
   {
    "duration": 89,
    "start_time": "2022-06-11T16:03:03.428Z"
   },
   {
    "duration": 7,
    "start_time": "2022-06-11T16:03:03.519Z"
   },
   {
    "duration": 23,
    "start_time": "2022-06-11T16:03:03.528Z"
   },
   {
    "duration": 72,
    "start_time": "2022-06-11T16:03:03.553Z"
   },
   {
    "duration": 9,
    "start_time": "2022-06-11T16:03:03.626Z"
   },
   {
    "duration": 13,
    "start_time": "2022-06-11T16:03:03.636Z"
   },
   {
    "duration": 12,
    "start_time": "2022-06-11T16:03:03.652Z"
   },
   {
    "duration": 36,
    "start_time": "2022-06-11T16:03:03.665Z"
   },
   {
    "duration": 16,
    "start_time": "2022-06-11T16:03:03.702Z"
   },
   {
    "duration": 57,
    "start_time": "2022-06-11T16:03:03.720Z"
   },
   {
    "duration": 34,
    "start_time": "2022-06-11T16:03:03.779Z"
   },
   {
    "duration": 56,
    "start_time": "2022-06-11T16:03:03.816Z"
   },
   {
    "duration": 41,
    "start_time": "2022-06-11T16:03:03.874Z"
   },
   {
    "duration": 369,
    "start_time": "2022-06-11T16:03:03.918Z"
   },
   {
    "duration": 51,
    "start_time": "2022-06-11T16:03:04.288Z"
   },
   {
    "duration": 14,
    "start_time": "2022-06-11T16:03:04.341Z"
   },
   {
    "duration": 16,
    "start_time": "2022-06-11T16:03:04.356Z"
   },
   {
    "duration": 46,
    "start_time": "2022-06-11T16:03:04.394Z"
   },
   {
    "duration": 31,
    "start_time": "2022-06-11T16:03:04.442Z"
   },
   {
    "duration": 45,
    "start_time": "2022-06-11T16:03:04.475Z"
   },
   {
    "duration": 11,
    "start_time": "2022-06-11T16:03:04.522Z"
   },
   {
    "duration": 11,
    "start_time": "2022-06-11T16:03:04.534Z"
   },
   {
    "duration": 4,
    "start_time": "2022-06-11T16:03:04.547Z"
   },
   {
    "duration": 52,
    "start_time": "2022-06-11T16:03:04.552Z"
   },
   {
    "duration": 12,
    "start_time": "2022-06-11T16:03:04.606Z"
   },
   {
    "duration": 10,
    "start_time": "2022-06-11T16:03:04.620Z"
   },
   {
    "duration": 17,
    "start_time": "2022-06-11T16:03:04.632Z"
   },
   {
    "duration": 9,
    "start_time": "2022-06-11T16:03:04.651Z"
   },
   {
    "duration": 50,
    "start_time": "2022-06-11T16:03:04.661Z"
   },
   {
    "duration": 16,
    "start_time": "2022-06-11T16:03:04.713Z"
   },
   {
    "duration": 6,
    "start_time": "2022-06-11T16:03:04.731Z"
   },
   {
    "duration": 142,
    "start_time": "2022-06-11T16:03:04.738Z"
   },
   {
    "duration": 27,
    "start_time": "2022-06-11T16:03:04.882Z"
   },
   {
    "duration": 24,
    "start_time": "2022-06-11T16:03:04.915Z"
   },
   {
    "duration": 21,
    "start_time": "2022-06-11T16:03:04.941Z"
   },
   {
    "duration": 44,
    "start_time": "2022-06-11T16:03:04.964Z"
   },
   {
    "duration": 30,
    "start_time": "2022-06-11T16:03:05.010Z"
   },
   {
    "duration": 140,
    "start_time": "2022-06-11T16:03:05.041Z"
   },
   {
    "duration": 144,
    "start_time": "2022-06-11T16:03:05.183Z"
   },
   {
    "duration": 181,
    "start_time": "2022-06-11T16:03:05.329Z"
   },
   {
    "duration": 150,
    "start_time": "2022-06-11T16:03:05.512Z"
   },
   {
    "duration": 153,
    "start_time": "2022-06-11T16:03:05.664Z"
   },
   {
    "duration": 168,
    "start_time": "2022-06-11T16:03:05.819Z"
   },
   {
    "duration": 15,
    "start_time": "2022-06-11T16:03:05.989Z"
   },
   {
    "duration": 21,
    "start_time": "2022-06-11T16:03:06.007Z"
   },
   {
    "duration": 13,
    "start_time": "2022-06-11T16:03:06.030Z"
   },
   {
    "duration": 28,
    "start_time": "2022-06-11T16:03:06.044Z"
   },
   {
    "duration": 9,
    "start_time": "2022-06-11T16:03:06.074Z"
   },
   {
    "duration": 7,
    "start_time": "2022-06-11T16:03:06.084Z"
   },
   {
    "duration": 5,
    "start_time": "2022-06-11T16:03:53.565Z"
   },
   {
    "duration": 4,
    "start_time": "2022-06-11T16:04:15.061Z"
   },
   {
    "duration": 1181,
    "start_time": "2022-06-11T16:04:20.728Z"
   },
   {
    "duration": 527,
    "start_time": "2022-06-11T16:04:21.911Z"
   },
   {
    "duration": 14,
    "start_time": "2022-06-11T16:04:22.439Z"
   },
   {
    "duration": 34,
    "start_time": "2022-06-11T16:04:22.455Z"
   },
   {
    "duration": 143,
    "start_time": "2022-06-11T16:04:22.492Z"
   },
   {
    "duration": 9,
    "start_time": "2022-06-11T16:04:22.637Z"
   },
   {
    "duration": 25,
    "start_time": "2022-06-11T16:04:22.648Z"
   },
   {
    "duration": 94,
    "start_time": "2022-06-11T16:04:22.675Z"
   },
   {
    "duration": 7,
    "start_time": "2022-06-11T16:04:22.771Z"
   },
   {
    "duration": 44,
    "start_time": "2022-06-11T16:04:22.780Z"
   },
   {
    "duration": 58,
    "start_time": "2022-06-11T16:04:22.826Z"
   },
   {
    "duration": 29,
    "start_time": "2022-06-11T16:04:22.886Z"
   },
   {
    "duration": 28,
    "start_time": "2022-06-11T16:04:22.917Z"
   },
   {
    "duration": 11,
    "start_time": "2022-06-11T16:04:22.948Z"
   },
   {
    "duration": 13,
    "start_time": "2022-06-11T16:04:22.961Z"
   },
   {
    "duration": 10,
    "start_time": "2022-06-11T16:04:22.975Z"
   },
   {
    "duration": 81,
    "start_time": "2022-06-11T16:04:22.988Z"
   },
   {
    "duration": 27,
    "start_time": "2022-06-11T16:04:23.070Z"
   },
   {
    "duration": 57,
    "start_time": "2022-06-11T16:04:23.106Z"
   },
   {
    "duration": 17,
    "start_time": "2022-06-11T16:04:23.165Z"
   },
   {
    "duration": 382,
    "start_time": "2022-06-11T16:04:23.183Z"
   },
   {
    "duration": 49,
    "start_time": "2022-06-11T16:04:23.566Z"
   },
   {
    "duration": 21,
    "start_time": "2022-06-11T16:04:23.617Z"
   },
   {
    "duration": 13,
    "start_time": "2022-06-11T16:04:23.640Z"
   },
   {
    "duration": 67,
    "start_time": "2022-06-11T16:04:23.654Z"
   },
   {
    "duration": 41,
    "start_time": "2022-06-11T16:04:23.723Z"
   },
   {
    "duration": 56,
    "start_time": "2022-06-11T16:04:23.766Z"
   },
   {
    "duration": 14,
    "start_time": "2022-06-11T16:04:23.826Z"
   },
   {
    "duration": 24,
    "start_time": "2022-06-11T16:04:23.842Z"
   },
   {
    "duration": 5,
    "start_time": "2022-06-11T16:04:23.869Z"
   },
   {
    "duration": 27,
    "start_time": "2022-06-11T16:04:23.875Z"
   },
   {
    "duration": 31,
    "start_time": "2022-06-11T16:04:23.905Z"
   },
   {
    "duration": 13,
    "start_time": "2022-06-11T16:04:23.938Z"
   },
   {
    "duration": 21,
    "start_time": "2022-06-11T16:04:23.953Z"
   },
   {
    "duration": 5,
    "start_time": "2022-06-11T16:04:23.976Z"
   },
   {
    "duration": 21,
    "start_time": "2022-06-11T16:04:23.983Z"
   },
   {
    "duration": 50,
    "start_time": "2022-06-11T16:04:24.006Z"
   },
   {
    "duration": 6,
    "start_time": "2022-06-11T16:04:24.057Z"
   },
   {
    "duration": 25,
    "start_time": "2022-06-11T16:04:24.065Z"
   },
   {
    "duration": 51,
    "start_time": "2022-06-11T16:04:24.093Z"
   },
   {
    "duration": 144,
    "start_time": "2022-06-11T16:04:24.148Z"
   },
   {
    "duration": 28,
    "start_time": "2022-06-11T16:04:24.294Z"
   },
   {
    "duration": 40,
    "start_time": "2022-06-11T16:04:24.323Z"
   },
   {
    "duration": 20,
    "start_time": "2022-06-11T16:04:24.364Z"
   },
   {
    "duration": 30,
    "start_time": "2022-06-11T16:04:24.386Z"
   },
   {
    "duration": 49,
    "start_time": "2022-06-11T16:04:24.418Z"
   },
   {
    "duration": 163,
    "start_time": "2022-06-11T16:04:24.469Z"
   },
   {
    "duration": 149,
    "start_time": "2022-06-11T16:04:24.634Z"
   },
   {
    "duration": 177,
    "start_time": "2022-06-11T16:04:24.785Z"
   },
   {
    "duration": 166,
    "start_time": "2022-06-11T16:04:24.964Z"
   },
   {
    "duration": 155,
    "start_time": "2022-06-11T16:04:25.132Z"
   },
   {
    "duration": 177,
    "start_time": "2022-06-11T16:04:25.289Z"
   },
   {
    "duration": 10,
    "start_time": "2022-06-11T16:04:25.468Z"
   },
   {
    "duration": 51,
    "start_time": "2022-06-11T16:04:25.480Z"
   },
   {
    "duration": 11,
    "start_time": "2022-06-11T16:04:25.534Z"
   },
   {
    "duration": 7,
    "start_time": "2022-06-11T16:04:25.547Z"
   },
   {
    "duration": 10,
    "start_time": "2022-06-11T16:04:25.555Z"
   },
   {
    "duration": 17,
    "start_time": "2022-06-11T16:04:25.567Z"
   },
   {
    "duration": 150,
    "start_time": "2022-06-11T16:04:38.511Z"
   },
   {
    "duration": 1243,
    "start_time": "2022-06-11T16:05:27.569Z"
   },
   {
    "duration": 545,
    "start_time": "2022-06-11T16:05:28.814Z"
   },
   {
    "duration": 14,
    "start_time": "2022-06-11T16:05:29.361Z"
   },
   {
    "duration": 45,
    "start_time": "2022-06-11T16:05:29.378Z"
   },
   {
    "duration": 129,
    "start_time": "2022-06-11T16:05:29.425Z"
   },
   {
    "duration": 9,
    "start_time": "2022-06-11T16:05:29.557Z"
   },
   {
    "duration": 44,
    "start_time": "2022-06-11T16:05:29.568Z"
   },
   {
    "duration": 96,
    "start_time": "2022-06-11T16:05:29.614Z"
   },
   {
    "duration": 8,
    "start_time": "2022-06-11T16:05:29.714Z"
   },
   {
    "duration": 23,
    "start_time": "2022-06-11T16:05:29.724Z"
   },
   {
    "duration": 66,
    "start_time": "2022-06-11T16:05:29.748Z"
   },
   {
    "duration": 8,
    "start_time": "2022-06-11T16:05:29.816Z"
   },
   {
    "duration": 13,
    "start_time": "2022-06-11T16:05:29.825Z"
   },
   {
    "duration": 16,
    "start_time": "2022-06-11T16:05:29.840Z"
   },
   {
    "duration": 41,
    "start_time": "2022-06-11T16:05:29.858Z"
   },
   {
    "duration": 19,
    "start_time": "2022-06-11T16:05:29.901Z"
   },
   {
    "duration": 64,
    "start_time": "2022-06-11T16:05:29.921Z"
   },
   {
    "duration": 28,
    "start_time": "2022-06-11T16:05:29.987Z"
   },
   {
    "duration": 70,
    "start_time": "2022-06-11T16:05:30.017Z"
   },
   {
    "duration": 35,
    "start_time": "2022-06-11T16:05:30.088Z"
   },
   {
    "duration": 413,
    "start_time": "2022-06-11T16:05:30.125Z"
   },
   {
    "duration": 39,
    "start_time": "2022-06-11T16:05:30.540Z"
   },
   {
    "duration": 26,
    "start_time": "2022-06-11T16:05:30.593Z"
   },
   {
    "duration": 28,
    "start_time": "2022-06-11T16:05:30.621Z"
   },
   {
    "duration": 64,
    "start_time": "2022-06-11T16:05:30.651Z"
   },
   {
    "duration": 44,
    "start_time": "2022-06-11T16:05:30.717Z"
   },
   {
    "duration": 52,
    "start_time": "2022-06-11T16:05:30.763Z"
   },
   {
    "duration": 13,
    "start_time": "2022-06-11T16:05:30.819Z"
   },
   {
    "duration": 27,
    "start_time": "2022-06-11T16:05:30.834Z"
   },
   {
    "duration": 10,
    "start_time": "2022-06-11T16:05:30.863Z"
   },
   {
    "duration": 33,
    "start_time": "2022-06-11T16:05:30.875Z"
   },
   {
    "duration": 46,
    "start_time": "2022-06-11T16:05:30.911Z"
   },
   {
    "duration": 32,
    "start_time": "2022-06-11T16:05:30.959Z"
   },
   {
    "duration": 45,
    "start_time": "2022-06-11T16:05:30.993Z"
   },
   {
    "duration": 43,
    "start_time": "2022-06-11T16:05:31.039Z"
   },
   {
    "duration": 39,
    "start_time": "2022-06-11T16:05:31.084Z"
   },
   {
    "duration": 51,
    "start_time": "2022-06-11T16:05:31.124Z"
   },
   {
    "duration": 46,
    "start_time": "2022-06-11T16:05:31.177Z"
   },
   {
    "duration": 55,
    "start_time": "2022-06-11T16:05:31.224Z"
   },
   {
    "duration": 6,
    "start_time": "2022-06-11T16:05:31.281Z"
   },
   {
    "duration": 151,
    "start_time": "2022-06-11T16:05:31.289Z"
   },
   {
    "duration": 17,
    "start_time": "2022-06-11T16:05:31.442Z"
   },
   {
    "duration": 17,
    "start_time": "2022-06-11T16:05:31.461Z"
   },
   {
    "duration": 19,
    "start_time": "2022-06-11T16:05:31.498Z"
   },
   {
    "duration": 22,
    "start_time": "2022-06-11T16:05:31.519Z"
   },
   {
    "duration": 38,
    "start_time": "2022-06-11T16:05:31.542Z"
   },
   {
    "duration": 148,
    "start_time": "2022-06-11T16:05:31.582Z"
   },
   {
    "duration": 159,
    "start_time": "2022-06-11T16:05:31.732Z"
   },
   {
    "duration": 180,
    "start_time": "2022-06-11T16:05:31.894Z"
   },
   {
    "duration": 152,
    "start_time": "2022-06-11T16:05:32.076Z"
   },
   {
    "duration": 145,
    "start_time": "2022-06-11T16:05:32.230Z"
   },
   {
    "duration": 211,
    "start_time": "2022-06-11T16:05:32.377Z"
   },
   {
    "duration": 23,
    "start_time": "2022-06-11T16:05:32.589Z"
   },
   {
    "duration": 22,
    "start_time": "2022-06-11T16:05:32.614Z"
   },
   {
    "duration": 14,
    "start_time": "2022-06-11T16:05:32.638Z"
   },
   {
    "duration": 26,
    "start_time": "2022-06-11T16:05:32.654Z"
   },
   {
    "duration": 21,
    "start_time": "2022-06-11T16:05:32.682Z"
   },
   {
    "duration": 25,
    "start_time": "2022-06-11T16:05:32.704Z"
   },
   {
    "duration": 6,
    "start_time": "2022-06-11T16:06:49.566Z"
   },
   {
    "duration": 243,
    "start_time": "2022-06-11T16:11:44.180Z"
   },
   {
    "duration": 305,
    "start_time": "2022-06-11T16:11:51.671Z"
   },
   {
    "duration": 355,
    "start_time": "2022-06-11T16:12:33.043Z"
   },
   {
    "duration": 246,
    "start_time": "2022-06-11T16:12:44.115Z"
   },
   {
    "duration": 203,
    "start_time": "2022-06-11T16:14:34.110Z"
   },
   {
    "duration": 189,
    "start_time": "2022-06-11T16:15:46.264Z"
   },
   {
    "duration": 231,
    "start_time": "2022-06-11T16:16:26.113Z"
   },
   {
    "duration": 185,
    "start_time": "2022-06-11T16:16:40.210Z"
   },
   {
    "duration": 207,
    "start_time": "2022-06-11T16:20:24.922Z"
   },
   {
    "duration": 214,
    "start_time": "2022-06-11T16:21:26.454Z"
   },
   {
    "duration": 278,
    "start_time": "2022-06-11T16:22:33.243Z"
   },
   {
    "duration": 297,
    "start_time": "2022-06-11T16:23:00.775Z"
   },
   {
    "duration": 49,
    "start_time": "2022-06-11T16:24:38.981Z"
   },
   {
    "duration": 222,
    "start_time": "2022-06-11T16:26:14.116Z"
   },
   {
    "duration": 219,
    "start_time": "2022-06-11T16:26:52.214Z"
   },
   {
    "duration": 20,
    "start_time": "2022-06-11T16:28:54.434Z"
   },
   {
    "duration": 21,
    "start_time": "2022-06-11T16:29:07.927Z"
   },
   {
    "duration": 1238,
    "start_time": "2022-06-11T16:29:17.121Z"
   },
   {
    "duration": 489,
    "start_time": "2022-06-11T16:29:18.361Z"
   },
   {
    "duration": 24,
    "start_time": "2022-06-11T16:29:18.853Z"
   },
   {
    "duration": 68,
    "start_time": "2022-06-11T16:29:18.879Z"
   },
   {
    "duration": 150,
    "start_time": "2022-06-11T16:29:18.950Z"
   },
   {
    "duration": 12,
    "start_time": "2022-06-11T16:29:19.102Z"
   },
   {
    "duration": 46,
    "start_time": "2022-06-11T16:29:19.117Z"
   },
   {
    "duration": 104,
    "start_time": "2022-06-11T16:29:19.166Z"
   },
   {
    "duration": 15,
    "start_time": "2022-06-11T16:29:19.273Z"
   },
   {
    "duration": 31,
    "start_time": "2022-06-11T16:29:19.297Z"
   },
   {
    "duration": 102,
    "start_time": "2022-06-11T16:29:19.330Z"
   },
   {
    "duration": 12,
    "start_time": "2022-06-11T16:29:19.433Z"
   },
   {
    "duration": 15,
    "start_time": "2022-06-11T16:29:19.448Z"
   },
   {
    "duration": 31,
    "start_time": "2022-06-11T16:29:19.468Z"
   },
   {
    "duration": 24,
    "start_time": "2022-06-11T16:29:19.501Z"
   },
   {
    "duration": 8,
    "start_time": "2022-06-11T16:29:19.527Z"
   },
   {
    "duration": 80,
    "start_time": "2022-06-11T16:29:19.537Z"
   },
   {
    "duration": 22,
    "start_time": "2022-06-11T16:29:19.618Z"
   },
   {
    "duration": 75,
    "start_time": "2022-06-11T16:29:19.642Z"
   },
   {
    "duration": 19,
    "start_time": "2022-06-11T16:29:19.719Z"
   },
   {
    "duration": 413,
    "start_time": "2022-06-11T16:29:19.740Z"
   },
   {
    "duration": 57,
    "start_time": "2022-06-11T16:29:20.156Z"
   },
   {
    "duration": 18,
    "start_time": "2022-06-11T16:29:20.217Z"
   },
   {
    "duration": 19,
    "start_time": "2022-06-11T16:29:20.237Z"
   },
   {
    "duration": 73,
    "start_time": "2022-06-11T16:29:20.258Z"
   },
   {
    "duration": 33,
    "start_time": "2022-06-11T16:29:20.333Z"
   },
   {
    "duration": 45,
    "start_time": "2022-06-11T16:29:20.368Z"
   },
   {
    "duration": 19,
    "start_time": "2022-06-11T16:29:20.414Z"
   },
   {
    "duration": 20,
    "start_time": "2022-06-11T16:29:20.435Z"
   },
   {
    "duration": 27,
    "start_time": "2022-06-11T16:29:20.457Z"
   },
   {
    "duration": 50,
    "start_time": "2022-06-11T16:29:20.486Z"
   },
   {
    "duration": 18,
    "start_time": "2022-06-11T16:29:20.539Z"
   },
   {
    "duration": 11,
    "start_time": "2022-06-11T16:29:20.558Z"
   },
   {
    "duration": 31,
    "start_time": "2022-06-11T16:29:20.571Z"
   },
   {
    "duration": 6,
    "start_time": "2022-06-11T16:29:20.604Z"
   },
   {
    "duration": 28,
    "start_time": "2022-06-11T16:29:20.611Z"
   },
   {
    "duration": 32,
    "start_time": "2022-06-11T16:29:20.642Z"
   },
   {
    "duration": 54,
    "start_time": "2022-06-11T16:29:20.677Z"
   },
   {
    "duration": 33,
    "start_time": "2022-06-11T16:29:20.733Z"
   },
   {
    "duration": 11,
    "start_time": "2022-06-11T16:29:20.768Z"
   },
   {
    "duration": 147,
    "start_time": "2022-06-11T16:29:20.784Z"
   },
   {
    "duration": 7,
    "start_time": "2022-06-11T16:29:20.933Z"
   },
   {
    "duration": 27,
    "start_time": "2022-06-11T16:29:20.942Z"
   },
   {
    "duration": 49,
    "start_time": "2022-06-11T16:29:20.971Z"
   },
   {
    "duration": 26,
    "start_time": "2022-06-11T16:29:21.022Z"
   },
   {
    "duration": 28,
    "start_time": "2022-06-11T16:29:21.050Z"
   },
   {
    "duration": 55,
    "start_time": "2022-06-11T16:29:21.080Z"
   },
   {
    "duration": 214,
    "start_time": "2022-06-11T16:29:21.137Z"
   },
   {
    "duration": 161,
    "start_time": "2022-06-11T16:29:21.353Z"
   },
   {
    "duration": 159,
    "start_time": "2022-06-11T16:29:21.516Z"
   },
   {
    "duration": 237,
    "start_time": "2022-06-11T16:29:21.677Z"
   },
   {
    "duration": 179,
    "start_time": "2022-06-11T16:29:21.917Z"
   },
   {
    "duration": 182,
    "start_time": "2022-06-11T16:29:22.097Z"
   },
   {
    "duration": 351,
    "start_time": "2022-06-11T16:29:22.281Z"
   },
   {
    "duration": 166,
    "start_time": "2022-06-11T16:29:22.634Z"
   },
   {
    "duration": 167,
    "start_time": "2022-06-11T16:29:22.802Z"
   },
   {
    "duration": 13,
    "start_time": "2022-06-11T16:29:22.971Z"
   },
   {
    "duration": 26,
    "start_time": "2022-06-11T16:29:22.997Z"
   },
   {
    "duration": 9,
    "start_time": "2022-06-11T16:29:23.025Z"
   },
   {
    "duration": 32,
    "start_time": "2022-06-11T16:29:23.036Z"
   },
   {
    "duration": 10,
    "start_time": "2022-06-11T16:29:23.070Z"
   },
   {
    "duration": 8,
    "start_time": "2022-06-11T16:29:23.082Z"
   },
   {
    "duration": 32,
    "start_time": "2022-06-11T16:30:09.940Z"
   },
   {
    "duration": 220,
    "start_time": "2022-06-11T16:31:27.676Z"
   },
   {
    "duration": 211,
    "start_time": "2022-06-11T16:31:57.727Z"
   },
   {
    "duration": 235,
    "start_time": "2022-06-11T16:34:24.912Z"
   },
   {
    "duration": 263,
    "start_time": "2022-06-11T16:34:49.809Z"
   },
   {
    "duration": 265,
    "start_time": "2022-06-11T16:35:03.558Z"
   },
   {
    "duration": 226,
    "start_time": "2022-06-11T16:35:20.905Z"
   },
   {
    "duration": 318,
    "start_time": "2022-06-11T16:35:33.626Z"
   },
   {
    "duration": 214,
    "start_time": "2022-06-11T16:35:45.304Z"
   },
   {
    "duration": 267,
    "start_time": "2022-06-11T16:36:04.538Z"
   },
   {
    "duration": 280,
    "start_time": "2022-06-11T16:37:43.534Z"
   },
   {
    "duration": 254,
    "start_time": "2022-06-11T16:40:29.463Z"
   },
   {
    "duration": 307,
    "start_time": "2022-06-11T16:40:40.520Z"
   },
   {
    "duration": 428,
    "start_time": "2022-06-11T16:40:45.752Z"
   },
   {
    "duration": 250,
    "start_time": "2022-06-11T16:41:05.222Z"
   },
   {
    "duration": 219,
    "start_time": "2022-06-11T16:41:18.566Z"
   },
   {
    "duration": 1255,
    "start_time": "2022-06-13T07:55:37.408Z"
   },
   {
    "duration": 951,
    "start_time": "2022-06-13T07:55:38.666Z"
   },
   {
    "duration": 12,
    "start_time": "2022-06-13T07:55:39.619Z"
   },
   {
    "duration": 28,
    "start_time": "2022-06-13T07:55:39.633Z"
   },
   {
    "duration": 123,
    "start_time": "2022-06-13T07:55:39.663Z"
   },
   {
    "duration": 8,
    "start_time": "2022-06-13T07:55:39.788Z"
   },
   {
    "duration": 34,
    "start_time": "2022-06-13T07:55:39.797Z"
   },
   {
    "duration": 65,
    "start_time": "2022-06-13T07:55:39.832Z"
   },
   {
    "duration": 8,
    "start_time": "2022-06-13T07:55:39.899Z"
   },
   {
    "duration": 24,
    "start_time": "2022-06-13T07:55:39.922Z"
   },
   {
    "duration": 53,
    "start_time": "2022-06-13T07:55:39.948Z"
   },
   {
    "duration": 26,
    "start_time": "2022-06-13T07:55:40.003Z"
   },
   {
    "duration": 20,
    "start_time": "2022-06-13T07:55:40.032Z"
   },
   {
    "duration": 12,
    "start_time": "2022-06-13T07:55:40.054Z"
   },
   {
    "duration": 12,
    "start_time": "2022-06-13T07:55:40.068Z"
   },
   {
    "duration": 10,
    "start_time": "2022-06-13T07:55:40.082Z"
   },
   {
    "duration": 81,
    "start_time": "2022-06-13T07:55:40.094Z"
   },
   {
    "duration": 20,
    "start_time": "2022-06-13T07:55:40.177Z"
   },
   {
    "duration": 63,
    "start_time": "2022-06-13T07:55:40.199Z"
   },
   {
    "duration": 19,
    "start_time": "2022-06-13T07:55:40.264Z"
   },
   {
    "duration": 369,
    "start_time": "2022-06-13T07:55:40.285Z"
   },
   {
    "duration": 40,
    "start_time": "2022-06-13T07:55:40.655Z"
   },
   {
    "duration": 35,
    "start_time": "2022-06-13T07:55:40.697Z"
   },
   {
    "duration": 15,
    "start_time": "2022-06-13T07:55:40.734Z"
   },
   {
    "duration": 43,
    "start_time": "2022-06-13T07:55:40.751Z"
   },
   {
    "duration": 57,
    "start_time": "2022-06-13T07:55:40.796Z"
   },
   {
    "duration": 31,
    "start_time": "2022-06-13T07:55:40.855Z"
   },
   {
    "duration": 11,
    "start_time": "2022-06-13T07:55:40.890Z"
   },
   {
    "duration": 33,
    "start_time": "2022-06-13T07:55:40.903Z"
   },
   {
    "duration": 4,
    "start_time": "2022-06-13T07:55:40.937Z"
   },
   {
    "duration": 15,
    "start_time": "2022-06-13T07:55:40.943Z"
   },
   {
    "duration": 10,
    "start_time": "2022-06-13T07:55:40.959Z"
   },
   {
    "duration": 9,
    "start_time": "2022-06-13T07:55:40.971Z"
   },
   {
    "duration": 51,
    "start_time": "2022-06-13T07:55:40.982Z"
   },
   {
    "duration": 4,
    "start_time": "2022-06-13T07:55:41.035Z"
   },
   {
    "duration": 11,
    "start_time": "2022-06-13T07:55:41.041Z"
   },
   {
    "duration": 18,
    "start_time": "2022-06-13T07:55:41.054Z"
   },
   {
    "duration": 4,
    "start_time": "2022-06-13T07:55:41.073Z"
   },
   {
    "duration": 27,
    "start_time": "2022-06-13T07:55:41.078Z"
   },
   {
    "duration": 20,
    "start_time": "2022-06-13T07:55:41.106Z"
   },
   {
    "duration": 126,
    "start_time": "2022-06-13T07:55:41.128Z"
   },
   {
    "duration": 3,
    "start_time": "2022-06-13T07:55:41.256Z"
   },
   {
    "duration": 19,
    "start_time": "2022-06-13T07:55:41.261Z"
   },
   {
    "duration": 19,
    "start_time": "2022-06-13T07:55:41.282Z"
   },
   {
    "duration": 34,
    "start_time": "2022-06-13T07:55:41.302Z"
   },
   {
    "duration": 18,
    "start_time": "2022-06-13T07:55:41.337Z"
   },
   {
    "duration": 28,
    "start_time": "2022-06-13T07:55:41.357Z"
   },
   {
    "duration": 249,
    "start_time": "2022-06-13T07:55:41.387Z"
   },
   {
    "duration": 134,
    "start_time": "2022-06-13T07:55:41.637Z"
   },
   {
    "duration": 141,
    "start_time": "2022-06-13T07:55:41.773Z"
   },
   {
    "duration": 241,
    "start_time": "2022-06-13T07:55:41.916Z"
   },
   {
    "duration": 160,
    "start_time": "2022-06-13T07:55:42.159Z"
   },
   {
    "duration": 229,
    "start_time": "2022-06-13T07:55:42.320Z"
   },
   {
    "duration": 293,
    "start_time": "2022-06-13T07:55:42.550Z"
   },
   {
    "duration": 144,
    "start_time": "2022-06-13T07:55:42.845Z"
   },
   {
    "duration": 158,
    "start_time": "2022-06-13T07:55:42.991Z"
   },
   {
    "duration": 210,
    "start_time": "2022-06-13T07:55:43.150Z"
   },
   {
    "duration": 11,
    "start_time": "2022-06-13T07:55:43.361Z"
   },
   {
    "duration": 12,
    "start_time": "2022-06-13T07:55:43.373Z"
   },
   {
    "duration": 4,
    "start_time": "2022-06-13T07:55:43.387Z"
   },
   {
    "duration": 31,
    "start_time": "2022-06-13T07:55:43.393Z"
   },
   {
    "duration": 4,
    "start_time": "2022-06-13T07:55:43.426Z"
   },
   {
    "duration": 6,
    "start_time": "2022-06-13T07:55:43.432Z"
   },
   {
    "duration": 7,
    "start_time": "2022-06-13T07:58:19.372Z"
   },
   {
    "duration": 7,
    "start_time": "2022-06-13T07:58:35.543Z"
   },
   {
    "duration": 5,
    "start_time": "2022-06-13T07:58:42.888Z"
   },
   {
    "duration": 5,
    "start_time": "2022-06-13T07:58:46.045Z"
   },
   {
    "duration": 106,
    "start_time": "2022-06-13T08:03:22.054Z"
   },
   {
    "duration": 1279,
    "start_time": "2022-06-13T08:03:36.848Z"
   },
   {
    "duration": 442,
    "start_time": "2022-06-13T08:03:38.128Z"
   },
   {
    "duration": 14,
    "start_time": "2022-06-13T08:03:38.571Z"
   },
   {
    "duration": 37,
    "start_time": "2022-06-13T08:03:38.588Z"
   },
   {
    "duration": 132,
    "start_time": "2022-06-13T08:03:38.626Z"
   },
   {
    "duration": 10,
    "start_time": "2022-06-13T08:03:38.760Z"
   },
   {
    "duration": 38,
    "start_time": "2022-06-13T08:03:38.772Z"
   },
   {
    "duration": 88,
    "start_time": "2022-06-13T08:03:38.813Z"
   },
   {
    "duration": 22,
    "start_time": "2022-06-13T08:03:38.904Z"
   },
   {
    "duration": 47,
    "start_time": "2022-06-13T08:03:38.929Z"
   },
   {
    "duration": 69,
    "start_time": "2022-06-13T08:03:38.978Z"
   },
   {
    "duration": 10,
    "start_time": "2022-06-13T08:03:39.048Z"
   },
   {
    "duration": 20,
    "start_time": "2022-06-13T08:03:39.059Z"
   },
   {
    "duration": 16,
    "start_time": "2022-06-13T08:03:39.081Z"
   },
   {
    "duration": 42,
    "start_time": "2022-06-13T08:03:39.099Z"
   },
   {
    "duration": 26,
    "start_time": "2022-06-13T08:03:39.143Z"
   },
   {
    "duration": 81,
    "start_time": "2022-06-13T08:03:39.171Z"
   },
   {
    "duration": 31,
    "start_time": "2022-06-13T08:03:39.255Z"
   },
   {
    "duration": 68,
    "start_time": "2022-06-13T08:03:39.293Z"
   },
   {
    "duration": 28,
    "start_time": "2022-06-13T08:03:39.364Z"
   },
   {
    "duration": 400,
    "start_time": "2022-06-13T08:03:39.394Z"
   },
   {
    "duration": 186,
    "start_time": "2022-06-13T08:03:39.796Z"
   },
   {
    "duration": 0,
    "start_time": "2022-06-13T08:03:39.987Z"
   },
   {
    "duration": 0,
    "start_time": "2022-06-13T08:03:39.989Z"
   },
   {
    "duration": 0,
    "start_time": "2022-06-13T08:03:39.992Z"
   },
   {
    "duration": 0,
    "start_time": "2022-06-13T08:03:39.996Z"
   },
   {
    "duration": 0,
    "start_time": "2022-06-13T08:03:39.998Z"
   },
   {
    "duration": 0,
    "start_time": "2022-06-13T08:03:39.999Z"
   },
   {
    "duration": 0,
    "start_time": "2022-06-13T08:03:40.001Z"
   },
   {
    "duration": 0,
    "start_time": "2022-06-13T08:03:40.002Z"
   },
   {
    "duration": 0,
    "start_time": "2022-06-13T08:03:40.003Z"
   },
   {
    "duration": 0,
    "start_time": "2022-06-13T08:03:40.005Z"
   },
   {
    "duration": 0,
    "start_time": "2022-06-13T08:03:40.024Z"
   },
   {
    "duration": 0,
    "start_time": "2022-06-13T08:03:40.026Z"
   },
   {
    "duration": 0,
    "start_time": "2022-06-13T08:03:40.027Z"
   },
   {
    "duration": 0,
    "start_time": "2022-06-13T08:03:40.030Z"
   },
   {
    "duration": 0,
    "start_time": "2022-06-13T08:03:40.031Z"
   },
   {
    "duration": 0,
    "start_time": "2022-06-13T08:03:40.033Z"
   },
   {
    "duration": 0,
    "start_time": "2022-06-13T08:03:40.036Z"
   },
   {
    "duration": 0,
    "start_time": "2022-06-13T08:03:40.037Z"
   },
   {
    "duration": 0,
    "start_time": "2022-06-13T08:03:40.039Z"
   },
   {
    "duration": 0,
    "start_time": "2022-06-13T08:03:40.040Z"
   },
   {
    "duration": 0,
    "start_time": "2022-06-13T08:03:40.041Z"
   },
   {
    "duration": 0,
    "start_time": "2022-06-13T08:03:40.042Z"
   },
   {
    "duration": 0,
    "start_time": "2022-06-13T08:03:40.044Z"
   },
   {
    "duration": 0,
    "start_time": "2022-06-13T08:03:40.045Z"
   },
   {
    "duration": 0,
    "start_time": "2022-06-13T08:03:40.047Z"
   },
   {
    "duration": 0,
    "start_time": "2022-06-13T08:03:40.049Z"
   },
   {
    "duration": 0,
    "start_time": "2022-06-13T08:03:40.051Z"
   },
   {
    "duration": 0,
    "start_time": "2022-06-13T08:03:40.054Z"
   },
   {
    "duration": 0,
    "start_time": "2022-06-13T08:03:40.056Z"
   },
   {
    "duration": 0,
    "start_time": "2022-06-13T08:03:40.058Z"
   },
   {
    "duration": 0,
    "start_time": "2022-06-13T08:03:40.059Z"
   },
   {
    "duration": 1,
    "start_time": "2022-06-13T08:03:40.060Z"
   },
   {
    "duration": 0,
    "start_time": "2022-06-13T08:03:40.062Z"
   },
   {
    "duration": 0,
    "start_time": "2022-06-13T08:03:40.124Z"
   },
   {
    "duration": 0,
    "start_time": "2022-06-13T08:03:40.126Z"
   },
   {
    "duration": 0,
    "start_time": "2022-06-13T08:03:40.127Z"
   },
   {
    "duration": 0,
    "start_time": "2022-06-13T08:03:40.129Z"
   },
   {
    "duration": 0,
    "start_time": "2022-06-13T08:03:40.130Z"
   },
   {
    "duration": 0,
    "start_time": "2022-06-13T08:03:40.132Z"
   },
   {
    "duration": 0,
    "start_time": "2022-06-13T08:03:40.133Z"
   },
   {
    "duration": 0,
    "start_time": "2022-06-13T08:03:40.134Z"
   },
   {
    "duration": 0,
    "start_time": "2022-06-13T08:03:40.135Z"
   },
   {
    "duration": 26,
    "start_time": "2022-06-13T08:04:29.919Z"
   },
   {
    "duration": 15,
    "start_time": "2022-06-13T08:06:42.541Z"
   },
   {
    "duration": 443,
    "start_time": "2022-06-13T08:07:04.959Z"
   },
   {
    "duration": 1165,
    "start_time": "2022-06-13T08:49:19.504Z"
   },
   {
    "duration": 468,
    "start_time": "2022-06-13T08:49:20.671Z"
   },
   {
    "duration": 14,
    "start_time": "2022-06-13T08:49:21.141Z"
   },
   {
    "duration": 27,
    "start_time": "2022-06-13T08:49:21.157Z"
   },
   {
    "duration": 135,
    "start_time": "2022-06-13T08:49:21.186Z"
   },
   {
    "duration": 12,
    "start_time": "2022-06-13T08:49:21.324Z"
   },
   {
    "duration": 31,
    "start_time": "2022-06-13T08:49:21.338Z"
   },
   {
    "duration": 94,
    "start_time": "2022-06-13T08:49:21.370Z"
   },
   {
    "duration": 7,
    "start_time": "2022-06-13T08:49:21.465Z"
   },
   {
    "duration": 24,
    "start_time": "2022-06-13T08:49:21.475Z"
   },
   {
    "duration": 77,
    "start_time": "2022-06-13T08:49:21.501Z"
   },
   {
    "duration": 9,
    "start_time": "2022-06-13T08:49:21.580Z"
   },
   {
    "duration": 14,
    "start_time": "2022-06-13T08:49:21.591Z"
   },
   {
    "duration": 29,
    "start_time": "2022-06-13T08:49:21.623Z"
   },
   {
    "duration": 14,
    "start_time": "2022-06-13T08:49:21.654Z"
   },
   {
    "duration": 7,
    "start_time": "2022-06-13T08:49:21.670Z"
   },
   {
    "duration": 70,
    "start_time": "2022-06-13T08:49:21.679Z"
   },
   {
    "duration": 18,
    "start_time": "2022-06-13T08:49:21.751Z"
   },
   {
    "duration": 72,
    "start_time": "2022-06-13T08:49:21.770Z"
   },
   {
    "duration": 18,
    "start_time": "2022-06-13T08:49:21.844Z"
   },
   {
    "duration": 398,
    "start_time": "2022-06-13T08:49:21.863Z"
   },
   {
    "duration": 7,
    "start_time": "2022-06-13T08:49:22.263Z"
   },
   {
    "duration": 52,
    "start_time": "2022-06-13T08:49:22.272Z"
   },
   {
    "duration": 23,
    "start_time": "2022-06-13T08:49:22.327Z"
   },
   {
    "duration": 15,
    "start_time": "2022-06-13T08:49:22.352Z"
   },
   {
    "duration": 71,
    "start_time": "2022-06-13T08:49:22.369Z"
   },
   {
    "duration": 33,
    "start_time": "2022-06-13T08:49:22.442Z"
   },
   {
    "duration": 45,
    "start_time": "2022-06-13T08:49:22.479Z"
   },
   {
    "duration": 19,
    "start_time": "2022-06-13T08:49:22.526Z"
   },
   {
    "duration": 28,
    "start_time": "2022-06-13T08:49:22.547Z"
   },
   {
    "duration": 6,
    "start_time": "2022-06-13T08:49:22.578Z"
   },
   {
    "duration": 14,
    "start_time": "2022-06-13T08:49:22.585Z"
   },
   {
    "duration": 54,
    "start_time": "2022-06-13T08:49:22.601Z"
   },
   {
    "duration": 16,
    "start_time": "2022-06-13T08:49:22.657Z"
   },
   {
    "duration": 41,
    "start_time": "2022-06-13T08:49:22.675Z"
   },
   {
    "duration": 5,
    "start_time": "2022-06-13T08:49:22.718Z"
   },
   {
    "duration": 33,
    "start_time": "2022-06-13T08:49:22.726Z"
   },
   {
    "duration": 38,
    "start_time": "2022-06-13T08:49:22.762Z"
   },
   {
    "duration": 15,
    "start_time": "2022-06-13T08:49:22.803Z"
   },
   {
    "duration": 40,
    "start_time": "2022-06-13T08:49:22.821Z"
   },
   {
    "duration": 23,
    "start_time": "2022-06-13T08:49:22.863Z"
   },
   {
    "duration": 179,
    "start_time": "2022-06-13T08:49:22.888Z"
   },
   {
    "duration": 7,
    "start_time": "2022-06-13T08:49:23.069Z"
   },
   {
    "duration": 23,
    "start_time": "2022-06-13T08:49:23.078Z"
   },
   {
    "duration": 47,
    "start_time": "2022-06-13T08:49:23.103Z"
   },
   {
    "duration": 26,
    "start_time": "2022-06-13T08:49:23.152Z"
   },
   {
    "duration": 27,
    "start_time": "2022-06-13T08:49:23.180Z"
   },
   {
    "duration": 53,
    "start_time": "2022-06-13T08:49:23.209Z"
   },
   {
    "duration": 252,
    "start_time": "2022-06-13T08:49:23.266Z"
   },
   {
    "duration": 145,
    "start_time": "2022-06-13T08:49:23.523Z"
   },
   {
    "duration": 143,
    "start_time": "2022-06-13T08:49:23.670Z"
   },
   {
    "duration": 275,
    "start_time": "2022-06-13T08:49:23.815Z"
   },
   {
    "duration": 171,
    "start_time": "2022-06-13T08:49:24.091Z"
   },
   {
    "duration": 259,
    "start_time": "2022-06-13T08:49:24.264Z"
   },
   {
    "duration": 267,
    "start_time": "2022-06-13T08:49:24.524Z"
   },
   {
    "duration": 163,
    "start_time": "2022-06-13T08:49:24.793Z"
   },
   {
    "duration": 165,
    "start_time": "2022-06-13T08:49:24.958Z"
   },
   {
    "duration": 229,
    "start_time": "2022-06-13T08:49:25.126Z"
   },
   {
    "duration": 11,
    "start_time": "2022-06-13T08:49:25.357Z"
   },
   {
    "duration": 17,
    "start_time": "2022-06-13T08:49:25.370Z"
   },
   {
    "duration": 8,
    "start_time": "2022-06-13T08:49:25.388Z"
   },
   {
    "duration": 28,
    "start_time": "2022-06-13T08:49:25.397Z"
   },
   {
    "duration": 6,
    "start_time": "2022-06-13T08:49:25.427Z"
   },
   {
    "duration": 17,
    "start_time": "2022-06-13T08:49:25.434Z"
   },
   {
    "duration": 126,
    "start_time": "2022-06-13T08:50:16.437Z"
   },
   {
    "duration": 393,
    "start_time": "2022-06-13T08:50:34.720Z"
   },
   {
    "duration": 13,
    "start_time": "2022-06-13T08:55:33.694Z"
   },
   {
    "duration": 364,
    "start_time": "2022-06-13T08:55:54.140Z"
   },
   {
    "duration": 1189,
    "start_time": "2022-06-13T08:56:34.886Z"
   },
   {
    "duration": 468,
    "start_time": "2022-06-13T08:56:36.077Z"
   },
   {
    "duration": 13,
    "start_time": "2022-06-13T08:56:36.546Z"
   },
   {
    "duration": 36,
    "start_time": "2022-06-13T08:56:36.561Z"
   },
   {
    "duration": 127,
    "start_time": "2022-06-13T08:56:36.600Z"
   },
   {
    "duration": 13,
    "start_time": "2022-06-13T08:56:36.737Z"
   },
   {
    "duration": 23,
    "start_time": "2022-06-13T08:56:36.752Z"
   },
   {
    "duration": 94,
    "start_time": "2022-06-13T08:56:36.778Z"
   },
   {
    "duration": 8,
    "start_time": "2022-06-13T08:56:36.873Z"
   },
   {
    "duration": 42,
    "start_time": "2022-06-13T08:56:36.882Z"
   },
   {
    "duration": 65,
    "start_time": "2022-06-13T08:56:36.926Z"
   },
   {
    "duration": 9,
    "start_time": "2022-06-13T08:56:36.992Z"
   },
   {
    "duration": 35,
    "start_time": "2022-06-13T08:56:37.002Z"
   },
   {
    "duration": 19,
    "start_time": "2022-06-13T08:56:37.041Z"
   },
   {
    "duration": 15,
    "start_time": "2022-06-13T08:56:37.062Z"
   },
   {
    "duration": 9,
    "start_time": "2022-06-13T08:56:37.080Z"
   },
   {
    "duration": 83,
    "start_time": "2022-06-13T08:56:37.091Z"
   },
   {
    "duration": 20,
    "start_time": "2022-06-13T08:56:37.175Z"
   },
   {
    "duration": 66,
    "start_time": "2022-06-13T08:56:37.197Z"
   },
   {
    "duration": 19,
    "start_time": "2022-06-13T08:56:37.265Z"
   },
   {
    "duration": 398,
    "start_time": "2022-06-13T08:56:37.286Z"
   },
   {
    "duration": 375,
    "start_time": "2022-06-13T08:56:37.686Z"
   },
   {
    "duration": 41,
    "start_time": "2022-06-13T08:56:38.063Z"
   },
   {
    "duration": 40,
    "start_time": "2022-06-13T08:56:38.106Z"
   },
   {
    "duration": 15,
    "start_time": "2022-06-13T08:56:38.148Z"
   },
   {
    "duration": 45,
    "start_time": "2022-06-13T08:56:38.165Z"
   },
   {
    "duration": 41,
    "start_time": "2022-06-13T08:56:38.224Z"
   },
   {
    "duration": 24,
    "start_time": "2022-06-13T08:56:38.267Z"
   },
   {
    "duration": 41,
    "start_time": "2022-06-13T08:56:38.293Z"
   },
   {
    "duration": 15,
    "start_time": "2022-06-13T08:56:38.337Z"
   },
   {
    "duration": 4,
    "start_time": "2022-06-13T08:56:38.354Z"
   },
   {
    "duration": 24,
    "start_time": "2022-06-13T08:56:38.361Z"
   },
   {
    "duration": 36,
    "start_time": "2022-06-13T08:56:38.387Z"
   },
   {
    "duration": 15,
    "start_time": "2022-06-13T08:56:38.425Z"
   },
   {
    "duration": 27,
    "start_time": "2022-06-13T08:56:38.441Z"
   },
   {
    "duration": 4,
    "start_time": "2022-06-13T08:56:38.470Z"
   },
   {
    "duration": 11,
    "start_time": "2022-06-13T08:56:38.476Z"
   },
   {
    "duration": 45,
    "start_time": "2022-06-13T08:56:38.489Z"
   },
   {
    "duration": 6,
    "start_time": "2022-06-13T08:56:38.535Z"
   },
   {
    "duration": 24,
    "start_time": "2022-06-13T08:56:38.543Z"
   },
   {
    "duration": 8,
    "start_time": "2022-06-13T08:56:38.574Z"
   },
   {
    "duration": 173,
    "start_time": "2022-06-13T08:56:38.584Z"
   },
   {
    "duration": 4,
    "start_time": "2022-06-13T08:56:38.759Z"
   },
   {
    "duration": 23,
    "start_time": "2022-06-13T08:56:38.765Z"
   },
   {
    "duration": 41,
    "start_time": "2022-06-13T08:56:38.789Z"
   },
   {
    "duration": 25,
    "start_time": "2022-06-13T08:56:38.832Z"
   },
   {
    "duration": 25,
    "start_time": "2022-06-13T08:56:38.859Z"
   },
   {
    "duration": 78,
    "start_time": "2022-06-13T08:56:38.886Z"
   },
   {
    "duration": 312,
    "start_time": "2022-06-13T08:56:38.968Z"
   },
   {
    "duration": 170,
    "start_time": "2022-06-13T08:56:39.283Z"
   },
   {
    "duration": 160,
    "start_time": "2022-06-13T08:56:39.455Z"
   },
   {
    "duration": 385,
    "start_time": "2022-06-13T08:56:39.616Z"
   },
   {
    "duration": 193,
    "start_time": "2022-06-13T08:56:40.003Z"
   },
   {
    "duration": 169,
    "start_time": "2022-06-13T08:56:40.197Z"
   },
   {
    "duration": 260,
    "start_time": "2022-06-13T08:56:40.368Z"
   },
   {
    "duration": 160,
    "start_time": "2022-06-13T08:56:40.631Z"
   },
   {
    "duration": 182,
    "start_time": "2022-06-13T08:56:40.792Z"
   },
   {
    "duration": 230,
    "start_time": "2022-06-13T08:56:40.976Z"
   },
   {
    "duration": 17,
    "start_time": "2022-06-13T08:56:41.208Z"
   },
   {
    "duration": 20,
    "start_time": "2022-06-13T08:56:41.227Z"
   },
   {
    "duration": 10,
    "start_time": "2022-06-13T08:56:41.249Z"
   },
   {
    "duration": 9,
    "start_time": "2022-06-13T08:56:41.261Z"
   },
   {
    "duration": 8,
    "start_time": "2022-06-13T08:56:41.271Z"
   },
   {
    "duration": 10,
    "start_time": "2022-06-13T08:56:41.281Z"
   },
   {
    "duration": 8,
    "start_time": "2022-06-13T08:58:47.274Z"
   },
   {
    "duration": 6,
    "start_time": "2022-06-13T08:59:08.956Z"
   },
   {
    "duration": 5,
    "start_time": "2022-06-13T08:59:42.364Z"
   },
   {
    "duration": 122,
    "start_time": "2022-06-13T08:59:59.553Z"
   },
   {
    "duration": 1240,
    "start_time": "2022-06-13T09:00:26.644Z"
   },
   {
    "duration": 501,
    "start_time": "2022-06-13T09:00:27.887Z"
   },
   {
    "duration": 13,
    "start_time": "2022-06-13T09:00:28.390Z"
   },
   {
    "duration": 8,
    "start_time": "2022-06-13T09:00:28.405Z"
   },
   {
    "duration": 39,
    "start_time": "2022-06-13T09:00:28.415Z"
   },
   {
    "duration": 131,
    "start_time": "2022-06-13T09:00:28.455Z"
   },
   {
    "duration": 9,
    "start_time": "2022-06-13T09:00:28.588Z"
   },
   {
    "duration": 9,
    "start_time": "2022-06-13T09:00:28.599Z"
   },
   {
    "duration": 35,
    "start_time": "2022-06-13T09:00:28.627Z"
   },
   {
    "duration": 100,
    "start_time": "2022-06-13T09:00:28.665Z"
   },
   {
    "duration": 8,
    "start_time": "2022-06-13T09:00:28.767Z"
   },
   {
    "duration": 10,
    "start_time": "2022-06-13T09:00:28.777Z"
   },
   {
    "duration": 41,
    "start_time": "2022-06-13T09:00:28.789Z"
   },
   {
    "duration": 63,
    "start_time": "2022-06-13T09:00:28.835Z"
   },
   {
    "duration": 35,
    "start_time": "2022-06-13T09:00:28.900Z"
   },
   {
    "duration": 28,
    "start_time": "2022-06-13T09:00:28.938Z"
   },
   {
    "duration": 15,
    "start_time": "2022-06-13T09:00:28.968Z"
   },
   {
    "duration": 7,
    "start_time": "2022-06-13T09:00:28.984Z"
   },
   {
    "duration": 15,
    "start_time": "2022-06-13T09:00:28.992Z"
   },
   {
    "duration": 8,
    "start_time": "2022-06-13T09:00:29.025Z"
   },
   {
    "duration": 83,
    "start_time": "2022-06-13T09:00:29.035Z"
   },
   {
    "duration": 23,
    "start_time": "2022-06-13T09:00:29.121Z"
   },
   {
    "duration": 63,
    "start_time": "2022-06-13T09:00:29.147Z"
   },
   {
    "duration": 36,
    "start_time": "2022-06-13T09:00:29.212Z"
   },
   {
    "duration": 410,
    "start_time": "2022-06-13T09:00:29.250Z"
   },
   {
    "duration": 390,
    "start_time": "2022-06-13T09:00:29.661Z"
   },
   {
    "duration": 41,
    "start_time": "2022-06-13T09:00:30.054Z"
   },
   {
    "duration": 40,
    "start_time": "2022-06-13T09:00:30.097Z"
   },
   {
    "duration": 22,
    "start_time": "2022-06-13T09:00:30.140Z"
   },
   {
    "duration": 61,
    "start_time": "2022-06-13T09:00:30.164Z"
   },
   {
    "duration": 41,
    "start_time": "2022-06-13T09:00:30.227Z"
   },
   {
    "duration": 26,
    "start_time": "2022-06-13T09:00:30.269Z"
   },
   {
    "duration": 38,
    "start_time": "2022-06-13T09:00:30.296Z"
   },
   {
    "duration": 23,
    "start_time": "2022-06-13T09:00:30.340Z"
   },
   {
    "duration": 23,
    "start_time": "2022-06-13T09:00:30.365Z"
   },
   {
    "duration": 31,
    "start_time": "2022-06-13T09:00:30.390Z"
   },
   {
    "duration": 63,
    "start_time": "2022-06-13T09:00:30.423Z"
   },
   {
    "duration": 10,
    "start_time": "2022-06-13T09:00:30.488Z"
   },
   {
    "duration": 36,
    "start_time": "2022-06-13T09:00:30.500Z"
   },
   {
    "duration": 23,
    "start_time": "2022-06-13T09:00:30.539Z"
   },
   {
    "duration": 33,
    "start_time": "2022-06-13T09:00:30.567Z"
   },
   {
    "duration": 65,
    "start_time": "2022-06-13T09:00:30.602Z"
   },
   {
    "duration": 7,
    "start_time": "2022-06-13T09:00:30.668Z"
   },
   {
    "duration": 52,
    "start_time": "2022-06-13T09:00:30.677Z"
   },
   {
    "duration": 35,
    "start_time": "2022-06-13T09:00:30.731Z"
   },
   {
    "duration": 184,
    "start_time": "2022-06-13T09:00:30.767Z"
   },
   {
    "duration": 5,
    "start_time": "2022-06-13T09:00:30.953Z"
   },
   {
    "duration": 54,
    "start_time": "2022-06-13T09:00:30.959Z"
   },
   {
    "duration": 43,
    "start_time": "2022-06-13T09:00:31.015Z"
   },
   {
    "duration": 97,
    "start_time": "2022-06-13T09:00:31.061Z"
   },
   {
    "duration": 38,
    "start_time": "2022-06-13T09:00:31.160Z"
   },
   {
    "duration": 71,
    "start_time": "2022-06-13T09:00:31.200Z"
   },
   {
    "duration": 292,
    "start_time": "2022-06-13T09:00:31.273Z"
   },
   {
    "duration": 159,
    "start_time": "2022-06-13T09:00:31.567Z"
   },
   {
    "duration": 187,
    "start_time": "2022-06-13T09:00:31.729Z"
   },
   {
    "duration": 401,
    "start_time": "2022-06-13T09:00:31.918Z"
   },
   {
    "duration": 174,
    "start_time": "2022-06-13T09:00:32.323Z"
   },
   {
    "duration": 202,
    "start_time": "2022-06-13T09:00:32.499Z"
   },
   {
    "duration": 339,
    "start_time": "2022-06-13T09:00:32.703Z"
   },
   {
    "duration": 159,
    "start_time": "2022-06-13T09:00:33.044Z"
   },
   {
    "duration": 186,
    "start_time": "2022-06-13T09:00:33.205Z"
   },
   {
    "duration": 242,
    "start_time": "2022-06-13T09:00:33.392Z"
   },
   {
    "duration": 13,
    "start_time": "2022-06-13T09:00:33.636Z"
   },
   {
    "duration": 33,
    "start_time": "2022-06-13T09:00:33.651Z"
   },
   {
    "duration": 19,
    "start_time": "2022-06-13T09:00:33.686Z"
   },
   {
    "duration": 41,
    "start_time": "2022-06-13T09:00:33.707Z"
   },
   {
    "duration": 30,
    "start_time": "2022-06-13T09:00:33.750Z"
   },
   {
    "duration": 24,
    "start_time": "2022-06-13T09:00:33.782Z"
   },
   {
    "duration": 261,
    "start_time": "2022-06-13T09:12:34.441Z"
   },
   {
    "duration": 370,
    "start_time": "2022-06-13T09:13:57.928Z"
   },
   {
    "duration": 422,
    "start_time": "2022-06-13T09:14:57.830Z"
   },
   {
    "duration": 257,
    "start_time": "2022-06-13T09:16:11.344Z"
   },
   {
    "duration": 229,
    "start_time": "2022-06-13T09:18:19.675Z"
   },
   {
    "duration": 129,
    "start_time": "2022-06-13T09:24:47.954Z"
   },
   {
    "duration": 1286,
    "start_time": "2022-06-13T09:25:07.553Z"
   },
   {
    "duration": 522,
    "start_time": "2022-06-13T09:25:08.844Z"
   },
   {
    "duration": 14,
    "start_time": "2022-06-13T09:25:09.371Z"
   },
   {
    "duration": 7,
    "start_time": "2022-06-13T09:25:09.387Z"
   },
   {
    "duration": 36,
    "start_time": "2022-06-13T09:25:09.397Z"
   },
   {
    "duration": 149,
    "start_time": "2022-06-13T09:25:09.435Z"
   },
   {
    "duration": 10,
    "start_time": "2022-06-13T09:25:09.586Z"
   },
   {
    "duration": 9,
    "start_time": "2022-06-13T09:25:09.597Z"
   },
   {
    "duration": 49,
    "start_time": "2022-06-13T09:25:09.608Z"
   },
   {
    "duration": 89,
    "start_time": "2022-06-13T09:25:09.659Z"
   },
   {
    "duration": 8,
    "start_time": "2022-06-13T09:25:09.750Z"
   },
   {
    "duration": 10,
    "start_time": "2022-06-13T09:25:09.760Z"
   },
   {
    "duration": 29,
    "start_time": "2022-06-13T09:25:09.771Z"
   },
   {
    "duration": 66,
    "start_time": "2022-06-13T09:25:09.826Z"
   },
   {
    "duration": 9,
    "start_time": "2022-06-13T09:25:09.894Z"
   },
   {
    "duration": 38,
    "start_time": "2022-06-13T09:25:09.905Z"
   },
   {
    "duration": 24,
    "start_time": "2022-06-13T09:25:09.945Z"
   },
   {
    "duration": 18,
    "start_time": "2022-06-13T09:25:09.973Z"
   },
   {
    "duration": 19,
    "start_time": "2022-06-13T09:25:09.993Z"
   },
   {
    "duration": 19,
    "start_time": "2022-06-13T09:25:10.014Z"
   },
   {
    "duration": 83,
    "start_time": "2022-06-13T09:25:10.036Z"
   },
   {
    "duration": 35,
    "start_time": "2022-06-13T09:25:10.121Z"
   },
   {
    "duration": 76,
    "start_time": "2022-06-13T09:25:10.159Z"
   },
   {
    "duration": 25,
    "start_time": "2022-06-13T09:25:10.243Z"
   },
   {
    "duration": 389,
    "start_time": "2022-06-13T09:25:10.270Z"
   },
   {
    "duration": 430,
    "start_time": "2022-06-13T09:25:10.661Z"
   },
   {
    "duration": 64,
    "start_time": "2022-06-13T09:25:11.093Z"
   },
   {
    "duration": 20,
    "start_time": "2022-06-13T09:25:11.160Z"
   },
   {
    "duration": 17,
    "start_time": "2022-06-13T09:25:11.181Z"
   },
   {
    "duration": 81,
    "start_time": "2022-06-13T09:25:11.201Z"
   },
   {
    "duration": 33,
    "start_time": "2022-06-13T09:25:11.283Z"
   },
   {
    "duration": 34,
    "start_time": "2022-06-13T09:25:11.318Z"
   },
   {
    "duration": 20,
    "start_time": "2022-06-13T09:25:11.354Z"
   },
   {
    "duration": 15,
    "start_time": "2022-06-13T09:25:11.376Z"
   },
   {
    "duration": 34,
    "start_time": "2022-06-13T09:25:11.394Z"
   },
   {
    "duration": 19,
    "start_time": "2022-06-13T09:25:11.433Z"
   },
   {
    "duration": 23,
    "start_time": "2022-06-13T09:25:11.455Z"
   },
   {
    "duration": 13,
    "start_time": "2022-06-13T09:25:11.480Z"
   },
   {
    "duration": 35,
    "start_time": "2022-06-13T09:25:11.495Z"
   },
   {
    "duration": 10,
    "start_time": "2022-06-13T09:25:11.531Z"
   },
   {
    "duration": 17,
    "start_time": "2022-06-13T09:25:11.553Z"
   },
   {
    "duration": 26,
    "start_time": "2022-06-13T09:25:11.572Z"
   },
   {
    "duration": 6,
    "start_time": "2022-06-13T09:25:11.600Z"
   },
   {
    "duration": 27,
    "start_time": "2022-06-13T09:25:11.623Z"
   },
   {
    "duration": 9,
    "start_time": "2022-06-13T09:25:11.652Z"
   },
   {
    "duration": 149,
    "start_time": "2022-06-13T09:25:11.663Z"
   },
   {
    "duration": 12,
    "start_time": "2022-06-13T09:25:11.814Z"
   },
   {
    "duration": 149,
    "start_time": "2022-06-13T09:25:11.830Z"
   },
   {
    "duration": 0,
    "start_time": "2022-06-13T09:25:11.982Z"
   },
   {
    "duration": 0,
    "start_time": "2022-06-13T09:25:11.983Z"
   },
   {
    "duration": 0,
    "start_time": "2022-06-13T09:25:11.984Z"
   },
   {
    "duration": 0,
    "start_time": "2022-06-13T09:25:11.985Z"
   },
   {
    "duration": 0,
    "start_time": "2022-06-13T09:25:11.991Z"
   },
   {
    "duration": 0,
    "start_time": "2022-06-13T09:25:11.993Z"
   },
   {
    "duration": 0,
    "start_time": "2022-06-13T09:25:11.994Z"
   },
   {
    "duration": 0,
    "start_time": "2022-06-13T09:25:11.996Z"
   },
   {
    "duration": 0,
    "start_time": "2022-06-13T09:25:11.997Z"
   },
   {
    "duration": 0,
    "start_time": "2022-06-13T09:25:11.998Z"
   },
   {
    "duration": 0,
    "start_time": "2022-06-13T09:25:11.999Z"
   },
   {
    "duration": 0,
    "start_time": "2022-06-13T09:25:12.001Z"
   },
   {
    "duration": 0,
    "start_time": "2022-06-13T09:25:12.005Z"
   },
   {
    "duration": 0,
    "start_time": "2022-06-13T09:25:12.027Z"
   },
   {
    "duration": 0,
    "start_time": "2022-06-13T09:25:12.028Z"
   },
   {
    "duration": 10,
    "start_time": "2022-06-13T09:26:30.146Z"
   },
   {
    "duration": 12,
    "start_time": "2022-06-13T09:27:00.695Z"
   },
   {
    "duration": 16,
    "start_time": "2022-06-13T09:38:01.979Z"
   },
   {
    "duration": 27,
    "start_time": "2022-06-13T09:38:08.336Z"
   },
   {
    "duration": 584,
    "start_time": "2022-06-13T09:38:53.355Z"
   },
   {
    "duration": 52,
    "start_time": "2022-06-13T09:39:06.747Z"
   },
   {
    "duration": 24,
    "start_time": "2022-06-13T09:39:22.493Z"
   },
   {
    "duration": 30,
    "start_time": "2022-06-13T09:39:26.876Z"
   },
   {
    "duration": 43,
    "start_time": "2022-06-13T09:39:33.099Z"
   },
   {
    "duration": 36,
    "start_time": "2022-06-13T09:39:56.238Z"
   },
   {
    "duration": 47,
    "start_time": "2022-06-13T09:41:05.819Z"
   },
   {
    "duration": 236,
    "start_time": "2022-06-13T09:41:59.436Z"
   },
   {
    "duration": 251,
    "start_time": "2022-06-13T09:42:05.361Z"
   },
   {
    "duration": 202,
    "start_time": "2022-06-13T09:43:31.408Z"
   },
   {
    "duration": 1150,
    "start_time": "2022-06-13T10:33:19.551Z"
   },
   {
    "duration": 513,
    "start_time": "2022-06-13T10:33:20.703Z"
   },
   {
    "duration": 18,
    "start_time": "2022-06-13T10:33:21.218Z"
   },
   {
    "duration": 30,
    "start_time": "2022-06-13T10:33:21.241Z"
   },
   {
    "duration": 29,
    "start_time": "2022-06-13T10:33:21.273Z"
   },
   {
    "duration": 132,
    "start_time": "2022-06-13T10:33:21.303Z"
   },
   {
    "duration": 13,
    "start_time": "2022-06-13T10:33:21.443Z"
   },
   {
    "duration": 8,
    "start_time": "2022-06-13T10:33:21.458Z"
   },
   {
    "duration": 22,
    "start_time": "2022-06-13T10:33:21.468Z"
   },
   {
    "duration": 86,
    "start_time": "2022-06-13T10:33:21.492Z"
   },
   {
    "duration": 7,
    "start_time": "2022-06-13T10:33:21.580Z"
   },
   {
    "duration": 9,
    "start_time": "2022-06-13T10:33:21.589Z"
   },
   {
    "duration": 47,
    "start_time": "2022-06-13T10:33:21.599Z"
   },
   {
    "duration": 90,
    "start_time": "2022-06-13T10:33:21.650Z"
   },
   {
    "duration": 17,
    "start_time": "2022-06-13T10:33:21.745Z"
   },
   {
    "duration": 15,
    "start_time": "2022-06-13T10:33:21.764Z"
   },
   {
    "duration": 13,
    "start_time": "2022-06-13T10:33:21.780Z"
   },
   {
    "duration": 11,
    "start_time": "2022-06-13T10:33:21.794Z"
   },
   {
    "duration": 29,
    "start_time": "2022-06-13T10:33:21.807Z"
   },
   {
    "duration": 28,
    "start_time": "2022-06-13T10:33:21.850Z"
   },
   {
    "duration": 90,
    "start_time": "2022-06-13T10:33:21.880Z"
   },
   {
    "duration": 25,
    "start_time": "2022-06-13T10:33:21.972Z"
   },
   {
    "duration": 69,
    "start_time": "2022-06-13T10:33:21.999Z"
   },
   {
    "duration": 18,
    "start_time": "2022-06-13T10:33:22.069Z"
   },
   {
    "duration": 451,
    "start_time": "2022-06-13T10:33:22.089Z"
   },
   {
    "duration": 476,
    "start_time": "2022-06-13T10:33:22.545Z"
   },
   {
    "duration": 51,
    "start_time": "2022-06-13T10:33:23.027Z"
   },
   {
    "duration": 16,
    "start_time": "2022-06-13T10:33:23.080Z"
   },
   {
    "duration": 34,
    "start_time": "2022-06-13T10:33:23.097Z"
   },
   {
    "duration": 63,
    "start_time": "2022-06-13T10:33:23.138Z"
   },
   {
    "duration": 39,
    "start_time": "2022-06-13T10:33:23.203Z"
   },
   {
    "duration": 29,
    "start_time": "2022-06-13T10:33:23.246Z"
   },
   {
    "duration": 12,
    "start_time": "2022-06-13T10:33:23.277Z"
   },
   {
    "duration": 13,
    "start_time": "2022-06-13T10:33:23.290Z"
   },
   {
    "duration": 24,
    "start_time": "2022-06-13T10:33:23.305Z"
   },
   {
    "duration": 41,
    "start_time": "2022-06-13T10:33:23.331Z"
   },
   {
    "duration": 14,
    "start_time": "2022-06-13T10:33:23.375Z"
   },
   {
    "duration": 11,
    "start_time": "2022-06-13T10:33:23.391Z"
   },
   {
    "duration": 17,
    "start_time": "2022-06-13T10:33:23.403Z"
   },
   {
    "duration": 4,
    "start_time": "2022-06-13T10:33:23.422Z"
   },
   {
    "duration": 45,
    "start_time": "2022-06-13T10:33:23.433Z"
   },
   {
    "duration": 19,
    "start_time": "2022-06-13T10:33:23.480Z"
   },
   {
    "duration": 4,
    "start_time": "2022-06-13T10:33:23.502Z"
   },
   {
    "duration": 33,
    "start_time": "2022-06-13T10:33:23.508Z"
   },
   {
    "duration": 18,
    "start_time": "2022-06-13T10:33:23.546Z"
   },
   {
    "duration": 129,
    "start_time": "2022-06-13T10:33:23.566Z"
   },
   {
    "duration": 6,
    "start_time": "2022-06-13T10:33:23.697Z"
   },
   {
    "duration": 41,
    "start_time": "2022-06-13T10:33:23.704Z"
   },
   {
    "duration": 22,
    "start_time": "2022-06-13T10:33:23.750Z"
   },
   {
    "duration": 19,
    "start_time": "2022-06-13T10:33:23.774Z"
   },
   {
    "duration": 36,
    "start_time": "2022-06-13T10:33:23.794Z"
   },
   {
    "duration": 39,
    "start_time": "2022-06-13T10:33:23.831Z"
   },
   {
    "duration": 283,
    "start_time": "2022-06-13T10:33:23.871Z"
   },
   {
    "duration": 267,
    "start_time": "2022-06-13T10:33:24.156Z"
   },
   {
    "duration": 372,
    "start_time": "2022-06-13T10:33:24.426Z"
   },
   {
    "duration": 254,
    "start_time": "2022-06-13T10:33:24.800Z"
   },
   {
    "duration": 12,
    "start_time": "2022-06-13T10:33:25.056Z"
   },
   {
    "duration": 16,
    "start_time": "2022-06-13T10:33:25.069Z"
   },
   {
    "duration": 10,
    "start_time": "2022-06-13T10:33:25.086Z"
   },
   {
    "duration": 12,
    "start_time": "2022-06-13T10:33:25.097Z"
   },
   {
    "duration": 14,
    "start_time": "2022-06-13T10:33:25.110Z"
   },
   {
    "duration": 35,
    "start_time": "2022-06-13T10:33:25.130Z"
   },
   {
    "duration": 22,
    "start_time": "2022-06-13T10:33:25.167Z"
   },
   {
    "duration": 172,
    "start_time": "2022-06-13T10:33:25.191Z"
   },
   {
    "duration": 1258,
    "start_time": "2022-06-13T11:02:12.057Z"
   },
   {
    "duration": 542,
    "start_time": "2022-06-13T11:02:13.316Z"
   },
   {
    "duration": 15,
    "start_time": "2022-06-13T11:02:13.860Z"
   },
   {
    "duration": 6,
    "start_time": "2022-06-13T11:02:13.877Z"
   },
   {
    "duration": 29,
    "start_time": "2022-06-13T11:02:13.885Z"
   },
   {
    "duration": 148,
    "start_time": "2022-06-13T11:02:13.915Z"
   },
   {
    "duration": 10,
    "start_time": "2022-06-13T11:02:14.065Z"
   },
   {
    "duration": 11,
    "start_time": "2022-06-13T11:02:14.077Z"
   },
   {
    "duration": 49,
    "start_time": "2022-06-13T11:02:14.090Z"
   },
   {
    "duration": 73,
    "start_time": "2022-06-13T11:02:14.148Z"
   },
   {
    "duration": 20,
    "start_time": "2022-06-13T11:02:14.222Z"
   },
   {
    "duration": 25,
    "start_time": "2022-06-13T11:02:14.245Z"
   },
   {
    "duration": 20,
    "start_time": "2022-06-13T11:02:14.272Z"
   },
   {
    "duration": 62,
    "start_time": "2022-06-13T11:02:14.294Z"
   },
   {
    "duration": 9,
    "start_time": "2022-06-13T11:02:14.359Z"
   },
   {
    "duration": 14,
    "start_time": "2022-06-13T11:02:14.369Z"
   },
   {
    "duration": 17,
    "start_time": "2022-06-13T11:02:14.384Z"
   },
   {
    "duration": 30,
    "start_time": "2022-06-13T11:02:14.403Z"
   },
   {
    "duration": 14,
    "start_time": "2022-06-13T11:02:14.435Z"
   },
   {
    "duration": 18,
    "start_time": "2022-06-13T11:02:14.451Z"
   },
   {
    "duration": 67,
    "start_time": "2022-06-13T11:02:14.470Z"
   },
   {
    "duration": 29,
    "start_time": "2022-06-13T11:02:14.538Z"
   },
   {
    "duration": 55,
    "start_time": "2022-06-13T11:02:14.569Z"
   },
   {
    "duration": 25,
    "start_time": "2022-06-13T11:02:14.629Z"
   },
   {
    "duration": 370,
    "start_time": "2022-06-13T11:02:14.656Z"
   },
   {
    "duration": 368,
    "start_time": "2022-06-13T11:02:15.036Z"
   },
   {
    "duration": 57,
    "start_time": "2022-06-13T11:02:15.406Z"
   },
   {
    "duration": 16,
    "start_time": "2022-06-13T11:02:15.467Z"
   },
   {
    "duration": 23,
    "start_time": "2022-06-13T11:02:15.485Z"
   },
   {
    "duration": 73,
    "start_time": "2022-06-13T11:02:15.523Z"
   },
   {
    "duration": 51,
    "start_time": "2022-06-13T11:02:15.597Z"
   },
   {
    "duration": 24,
    "start_time": "2022-06-13T11:02:15.655Z"
   },
   {
    "duration": 13,
    "start_time": "2022-06-13T11:02:15.680Z"
   },
   {
    "duration": 11,
    "start_time": "2022-06-13T11:02:15.695Z"
   },
   {
    "duration": 4,
    "start_time": "2022-06-13T11:02:15.708Z"
   },
   {
    "duration": 21,
    "start_time": "2022-06-13T11:02:15.713Z"
   },
   {
    "duration": 31,
    "start_time": "2022-06-13T11:02:15.738Z"
   },
   {
    "duration": 10,
    "start_time": "2022-06-13T11:02:15.771Z"
   },
   {
    "duration": 24,
    "start_time": "2022-06-13T11:02:15.783Z"
   },
   {
    "duration": 5,
    "start_time": "2022-06-13T11:02:15.809Z"
   },
   {
    "duration": 16,
    "start_time": "2022-06-13T11:02:15.817Z"
   },
   {
    "duration": 39,
    "start_time": "2022-06-13T11:02:15.834Z"
   },
   {
    "duration": 5,
    "start_time": "2022-06-13T11:02:15.874Z"
   },
   {
    "duration": 22,
    "start_time": "2022-06-13T11:02:15.881Z"
   },
   {
    "duration": 6,
    "start_time": "2022-06-13T11:02:15.904Z"
   },
   {
    "duration": 157,
    "start_time": "2022-06-13T11:02:15.912Z"
   },
   {
    "duration": 4,
    "start_time": "2022-06-13T11:02:16.071Z"
   },
   {
    "duration": 23,
    "start_time": "2022-06-13T11:02:16.076Z"
   },
   {
    "duration": 40,
    "start_time": "2022-06-13T11:02:16.100Z"
   },
   {
    "duration": 27,
    "start_time": "2022-06-13T11:02:16.143Z"
   },
   {
    "duration": 24,
    "start_time": "2022-06-13T11:02:16.172Z"
   },
   {
    "duration": 55,
    "start_time": "2022-06-13T11:02:16.198Z"
   },
   {
    "duration": 248,
    "start_time": "2022-06-13T11:02:16.257Z"
   },
   {
    "duration": 273,
    "start_time": "2022-06-13T11:02:16.507Z"
   },
   {
    "duration": 378,
    "start_time": "2022-06-13T11:02:16.782Z"
   },
   {
    "duration": 220,
    "start_time": "2022-06-13T11:02:17.162Z"
   },
   {
    "duration": 12,
    "start_time": "2022-06-13T11:02:17.384Z"
   },
   {
    "duration": 46,
    "start_time": "2022-06-13T11:02:17.398Z"
   },
   {
    "duration": 8,
    "start_time": "2022-06-13T11:02:17.448Z"
   },
   {
    "duration": 6,
    "start_time": "2022-06-13T11:02:17.458Z"
   },
   {
    "duration": 5,
    "start_time": "2022-06-13T11:02:17.466Z"
   },
   {
    "duration": 7,
    "start_time": "2022-06-13T11:02:17.473Z"
   },
   {
    "duration": 20,
    "start_time": "2022-06-13T11:02:17.482Z"
   },
   {
    "duration": 184,
    "start_time": "2022-06-13T11:02:17.504Z"
   },
   {
    "duration": 365,
    "start_time": "2022-06-13T11:05:23.455Z"
   },
   {
    "duration": 1187,
    "start_time": "2022-06-13T11:08:18.895Z"
   },
   {
    "duration": 501,
    "start_time": "2022-06-13T11:08:20.083Z"
   },
   {
    "duration": 12,
    "start_time": "2022-06-13T11:08:20.586Z"
   },
   {
    "duration": 12,
    "start_time": "2022-06-13T11:08:20.599Z"
   },
   {
    "duration": 42,
    "start_time": "2022-06-13T11:08:20.613Z"
   },
   {
    "duration": 132,
    "start_time": "2022-06-13T11:08:20.657Z"
   },
   {
    "duration": 9,
    "start_time": "2022-06-13T11:08:20.791Z"
   },
   {
    "duration": 9,
    "start_time": "2022-06-13T11:08:20.802Z"
   },
   {
    "duration": 49,
    "start_time": "2022-06-13T11:08:20.813Z"
   },
   {
    "duration": 83,
    "start_time": "2022-06-13T11:08:20.865Z"
   },
   {
    "duration": 11,
    "start_time": "2022-06-13T11:08:20.949Z"
   },
   {
    "duration": 12,
    "start_time": "2022-06-13T11:08:20.962Z"
   },
   {
    "duration": 21,
    "start_time": "2022-06-13T11:08:20.976Z"
   },
   {
    "duration": 77,
    "start_time": "2022-06-13T11:08:20.999Z"
   },
   {
    "duration": 9,
    "start_time": "2022-06-13T11:08:21.078Z"
   },
   {
    "duration": 14,
    "start_time": "2022-06-13T11:08:21.088Z"
   },
   {
    "duration": 40,
    "start_time": "2022-06-13T11:08:21.105Z"
   },
   {
    "duration": 24,
    "start_time": "2022-06-13T11:08:21.151Z"
   },
   {
    "duration": 17,
    "start_time": "2022-06-13T11:08:21.177Z"
   },
   {
    "duration": 9,
    "start_time": "2022-06-13T11:08:21.196Z"
   },
   {
    "duration": 87,
    "start_time": "2022-06-13T11:08:21.207Z"
   },
   {
    "duration": 19,
    "start_time": "2022-06-13T11:08:21.296Z"
   },
   {
    "duration": 445,
    "start_time": "2022-06-13T11:08:21.317Z"
   },
   {
    "duration": 48,
    "start_time": "2022-06-13T11:08:21.765Z"
   },
   {
    "duration": 40,
    "start_time": "2022-06-13T11:08:21.815Z"
   },
   {
    "duration": 396,
    "start_time": "2022-06-13T11:08:21.857Z"
   },
   {
    "duration": 49,
    "start_time": "2022-06-13T11:08:22.257Z"
   },
   {
    "duration": 41,
    "start_time": "2022-06-13T11:08:22.310Z"
   },
   {
    "duration": 21,
    "start_time": "2022-06-13T11:08:22.354Z"
   },
   {
    "duration": 52,
    "start_time": "2022-06-13T11:08:22.376Z"
   },
   {
    "duration": 41,
    "start_time": "2022-06-13T11:08:22.430Z"
   },
   {
    "duration": 32,
    "start_time": "2022-06-13T11:08:22.472Z"
   },
   {
    "duration": 29,
    "start_time": "2022-06-13T11:08:22.506Z"
   },
   {
    "duration": 44,
    "start_time": "2022-06-13T11:08:22.536Z"
   },
   {
    "duration": 5,
    "start_time": "2022-06-13T11:08:22.582Z"
   },
   {
    "duration": 27,
    "start_time": "2022-06-13T11:08:22.589Z"
   },
   {
    "duration": 51,
    "start_time": "2022-06-13T11:08:22.618Z"
   },
   {
    "duration": 11,
    "start_time": "2022-06-13T11:08:22.672Z"
   },
   {
    "duration": 24,
    "start_time": "2022-06-13T11:08:22.685Z"
   },
   {
    "duration": 6,
    "start_time": "2022-06-13T11:08:22.714Z"
   },
   {
    "duration": 56,
    "start_time": "2022-06-13T11:08:22.724Z"
   },
   {
    "duration": 28,
    "start_time": "2022-06-13T11:08:22.782Z"
   },
   {
    "duration": 25,
    "start_time": "2022-06-13T11:08:22.812Z"
   },
   {
    "duration": 65,
    "start_time": "2022-06-13T11:08:22.839Z"
   },
   {
    "duration": 7,
    "start_time": "2022-06-13T11:08:22.907Z"
   },
   {
    "duration": 186,
    "start_time": "2022-06-13T11:08:22.916Z"
   },
   {
    "duration": 4,
    "start_time": "2022-06-13T11:08:23.104Z"
   },
   {
    "duration": 59,
    "start_time": "2022-06-13T11:08:23.110Z"
   },
   {
    "duration": 19,
    "start_time": "2022-06-13T11:08:23.171Z"
   },
   {
    "duration": 18,
    "start_time": "2022-06-13T11:08:23.192Z"
   },
   {
    "duration": 31,
    "start_time": "2022-06-13T11:08:23.212Z"
   },
   {
    "duration": 51,
    "start_time": "2022-06-13T11:08:23.244Z"
   },
   {
    "duration": 262,
    "start_time": "2022-06-13T11:08:23.297Z"
   },
   {
    "duration": 292,
    "start_time": "2022-06-13T11:08:23.561Z"
   },
   {
    "duration": 389,
    "start_time": "2022-06-13T11:08:23.855Z"
   },
   {
    "duration": 224,
    "start_time": "2022-06-13T11:08:24.245Z"
   },
   {
    "duration": 11,
    "start_time": "2022-06-13T11:08:24.470Z"
   },
   {
    "duration": 14,
    "start_time": "2022-06-13T11:08:24.482Z"
   },
   {
    "duration": 5,
    "start_time": "2022-06-13T11:08:24.498Z"
   },
   {
    "duration": 7,
    "start_time": "2022-06-13T11:08:24.528Z"
   },
   {
    "duration": 24,
    "start_time": "2022-06-13T11:08:24.537Z"
   },
   {
    "duration": 6,
    "start_time": "2022-06-13T11:08:24.563Z"
   },
   {
    "duration": 22,
    "start_time": "2022-06-13T11:08:24.571Z"
   },
   {
    "duration": 172,
    "start_time": "2022-06-13T11:08:24.595Z"
   },
   {
    "duration": 1248,
    "start_time": "2022-06-13T11:10:19.412Z"
   },
   {
    "duration": 501,
    "start_time": "2022-06-13T11:10:20.662Z"
   },
   {
    "duration": 12,
    "start_time": "2022-06-13T11:10:21.165Z"
   },
   {
    "duration": 5,
    "start_time": "2022-06-13T11:10:21.179Z"
   },
   {
    "duration": 30,
    "start_time": "2022-06-13T11:10:21.186Z"
   },
   {
    "duration": 140,
    "start_time": "2022-06-13T11:10:21.217Z"
   },
   {
    "duration": 9,
    "start_time": "2022-06-13T11:10:21.359Z"
   },
   {
    "duration": 9,
    "start_time": "2022-06-13T11:10:21.370Z"
   },
   {
    "duration": 30,
    "start_time": "2022-06-13T11:10:21.380Z"
   },
   {
    "duration": 90,
    "start_time": "2022-06-13T11:10:21.411Z"
   },
   {
    "duration": 8,
    "start_time": "2022-06-13T11:10:21.503Z"
   },
   {
    "duration": 31,
    "start_time": "2022-06-13T11:10:21.512Z"
   },
   {
    "duration": 26,
    "start_time": "2022-06-13T11:10:21.549Z"
   },
   {
    "duration": 63,
    "start_time": "2022-06-13T11:10:21.579Z"
   },
   {
    "duration": 13,
    "start_time": "2022-06-13T11:10:21.646Z"
   },
   {
    "duration": 11,
    "start_time": "2022-06-13T11:10:21.661Z"
   },
   {
    "duration": 18,
    "start_time": "2022-06-13T11:10:21.674Z"
   },
   {
    "duration": 6,
    "start_time": "2022-06-13T11:10:21.694Z"
   },
   {
    "duration": 33,
    "start_time": "2022-06-13T11:10:21.702Z"
   },
   {
    "duration": 14,
    "start_time": "2022-06-13T11:10:21.744Z"
   },
   {
    "duration": 58,
    "start_time": "2022-06-13T11:10:21.760Z"
   },
   {
    "duration": 40,
    "start_time": "2022-06-13T11:10:21.820Z"
   },
   {
    "duration": 411,
    "start_time": "2022-06-13T11:10:21.861Z"
   },
   {
    "duration": 57,
    "start_time": "2022-06-13T11:10:22.274Z"
   },
   {
    "duration": 29,
    "start_time": "2022-06-13T11:10:22.332Z"
   },
   {
    "duration": 416,
    "start_time": "2022-06-13T11:10:22.363Z"
   },
   {
    "duration": 65,
    "start_time": "2022-06-13T11:10:22.781Z"
   },
   {
    "duration": 24,
    "start_time": "2022-06-13T11:10:22.851Z"
   },
   {
    "duration": 17,
    "start_time": "2022-06-13T11:10:22.877Z"
   },
   {
    "duration": 64,
    "start_time": "2022-06-13T11:10:22.896Z"
   },
   {
    "duration": 40,
    "start_time": "2022-06-13T11:10:22.963Z"
   },
   {
    "duration": 54,
    "start_time": "2022-06-13T11:10:23.006Z"
   },
   {
    "duration": 13,
    "start_time": "2022-06-13T11:10:23.063Z"
   },
   {
    "duration": 13,
    "start_time": "2022-06-13T11:10:23.078Z"
   },
   {
    "duration": 4,
    "start_time": "2022-06-13T11:10:23.093Z"
   },
   {
    "duration": 29,
    "start_time": "2022-06-13T11:10:23.099Z"
   },
   {
    "duration": 19,
    "start_time": "2022-06-13T11:10:23.130Z"
   },
   {
    "duration": 15,
    "start_time": "2022-06-13T11:10:23.152Z"
   },
   {
    "duration": 17,
    "start_time": "2022-06-13T11:10:23.168Z"
   },
   {
    "duration": 6,
    "start_time": "2022-06-13T11:10:23.187Z"
   },
   {
    "duration": 10,
    "start_time": "2022-06-13T11:10:23.198Z"
   },
   {
    "duration": 41,
    "start_time": "2022-06-13T11:10:23.230Z"
   },
   {
    "duration": 5,
    "start_time": "2022-06-13T11:10:23.274Z"
   },
   {
    "duration": 20,
    "start_time": "2022-06-13T11:10:23.282Z"
   },
   {
    "duration": 6,
    "start_time": "2022-06-13T11:10:23.304Z"
   },
   {
    "duration": 146,
    "start_time": "2022-06-13T11:10:23.312Z"
   },
   {
    "duration": 5,
    "start_time": "2022-06-13T11:10:23.459Z"
   },
   {
    "duration": 33,
    "start_time": "2022-06-13T11:10:23.466Z"
   },
   {
    "duration": 41,
    "start_time": "2022-06-13T11:10:23.501Z"
   },
   {
    "duration": 20,
    "start_time": "2022-06-13T11:10:23.549Z"
   },
   {
    "duration": 19,
    "start_time": "2022-06-13T11:10:23.571Z"
   },
   {
    "duration": 33,
    "start_time": "2022-06-13T11:10:23.591Z"
   },
   {
    "duration": 264,
    "start_time": "2022-06-13T11:10:23.628Z"
   },
   {
    "duration": 321,
    "start_time": "2022-06-13T11:10:23.896Z"
   },
   {
    "duration": 381,
    "start_time": "2022-06-13T11:10:24.227Z"
   },
   {
    "duration": 250,
    "start_time": "2022-06-13T11:10:24.609Z"
   },
   {
    "duration": 12,
    "start_time": "2022-06-13T11:10:24.861Z"
   },
   {
    "duration": 16,
    "start_time": "2022-06-13T11:10:24.875Z"
   },
   {
    "duration": 9,
    "start_time": "2022-06-13T11:10:24.892Z"
   },
   {
    "duration": 8,
    "start_time": "2022-06-13T11:10:24.902Z"
   },
   {
    "duration": 11,
    "start_time": "2022-06-13T11:10:24.929Z"
   },
   {
    "duration": 19,
    "start_time": "2022-06-13T11:10:24.942Z"
   },
   {
    "duration": 21,
    "start_time": "2022-06-13T11:10:24.963Z"
   },
   {
    "duration": 171,
    "start_time": "2022-06-13T11:10:24.986Z"
   },
   {
    "duration": 1246,
    "start_time": "2022-06-13T21:16:28.169Z"
   },
   {
    "duration": 1026,
    "start_time": "2022-06-13T21:16:29.417Z"
   },
   {
    "duration": 15,
    "start_time": "2022-06-13T21:16:30.445Z"
   },
   {
    "duration": 20,
    "start_time": "2022-06-13T21:16:30.462Z"
   },
   {
    "duration": 38,
    "start_time": "2022-06-13T21:16:30.485Z"
   },
   {
    "duration": 126,
    "start_time": "2022-06-13T21:16:30.525Z"
   },
   {
    "duration": 10,
    "start_time": "2022-06-13T21:16:30.659Z"
   },
   {
    "duration": 16,
    "start_time": "2022-06-13T21:16:30.671Z"
   },
   {
    "duration": 35,
    "start_time": "2022-06-13T21:16:30.689Z"
   },
   {
    "duration": 87,
    "start_time": "2022-06-13T21:16:30.726Z"
   },
   {
    "duration": 8,
    "start_time": "2022-06-13T21:16:30.815Z"
   },
   {
    "duration": 16,
    "start_time": "2022-06-13T21:16:30.825Z"
   },
   {
    "duration": 40,
    "start_time": "2022-06-13T21:16:30.842Z"
   },
   {
    "duration": 62,
    "start_time": "2022-06-13T21:16:30.885Z"
   },
   {
    "duration": 13,
    "start_time": "2022-06-13T21:16:30.949Z"
   },
   {
    "duration": 41,
    "start_time": "2022-06-13T21:16:30.964Z"
   },
   {
    "duration": 34,
    "start_time": "2022-06-13T21:16:31.007Z"
   },
   {
    "duration": 25,
    "start_time": "2022-06-13T21:16:31.043Z"
   },
   {
    "duration": 24,
    "start_time": "2022-06-13T21:16:31.071Z"
   },
   {
    "duration": 29,
    "start_time": "2022-06-13T21:16:31.097Z"
   },
   {
    "duration": 90,
    "start_time": "2022-06-13T21:16:31.127Z"
   },
   {
    "duration": 25,
    "start_time": "2022-06-13T21:16:31.219Z"
   },
   {
    "duration": 432,
    "start_time": "2022-06-13T21:16:31.246Z"
   },
   {
    "duration": 45,
    "start_time": "2022-06-13T21:16:31.680Z"
   },
   {
    "duration": 39,
    "start_time": "2022-06-13T21:16:31.726Z"
   },
   {
    "duration": 369,
    "start_time": "2022-06-13T21:16:31.767Z"
   },
   {
    "duration": 48,
    "start_time": "2022-06-13T21:16:32.138Z"
   },
   {
    "duration": 15,
    "start_time": "2022-06-13T21:16:32.188Z"
   },
   {
    "duration": 14,
    "start_time": "2022-06-13T21:16:32.205Z"
   },
   {
    "duration": 65,
    "start_time": "2022-06-13T21:16:32.221Z"
   },
   {
    "duration": 32,
    "start_time": "2022-06-13T21:16:32.288Z"
   },
   {
    "duration": 49,
    "start_time": "2022-06-13T21:16:32.322Z"
   },
   {
    "duration": 16,
    "start_time": "2022-06-13T21:16:32.374Z"
   },
   {
    "duration": 17,
    "start_time": "2022-06-13T21:16:32.392Z"
   },
   {
    "duration": 5,
    "start_time": "2022-06-13T21:16:32.411Z"
   },
   {
    "duration": 42,
    "start_time": "2022-06-13T21:16:32.417Z"
   },
   {
    "duration": 12,
    "start_time": "2022-06-13T21:16:32.462Z"
   },
   {
    "duration": 10,
    "start_time": "2022-06-13T21:16:32.476Z"
   },
   {
    "duration": 20,
    "start_time": "2022-06-13T21:16:32.488Z"
   },
   {
    "duration": 4,
    "start_time": "2022-06-13T21:16:32.510Z"
   },
   {
    "duration": 44,
    "start_time": "2022-06-13T21:16:32.518Z"
   },
   {
    "duration": 20,
    "start_time": "2022-06-13T21:16:32.564Z"
   },
   {
    "duration": 5,
    "start_time": "2022-06-13T21:16:32.586Z"
   },
   {
    "duration": 16,
    "start_time": "2022-06-13T21:16:32.593Z"
   },
   {
    "duration": 14,
    "start_time": "2022-06-13T21:16:32.612Z"
   },
   {
    "duration": 150,
    "start_time": "2022-06-13T21:16:32.628Z"
   },
   {
    "duration": 6,
    "start_time": "2022-06-13T21:16:32.780Z"
   },
   {
    "duration": 27,
    "start_time": "2022-06-13T21:16:32.788Z"
   },
   {
    "duration": 48,
    "start_time": "2022-06-13T21:16:32.817Z"
   },
   {
    "duration": 19,
    "start_time": "2022-06-13T21:16:32.867Z"
   },
   {
    "duration": 22,
    "start_time": "2022-06-13T21:16:32.887Z"
   },
   {
    "duration": 73,
    "start_time": "2022-06-13T21:16:32.911Z"
   },
   {
    "duration": 275,
    "start_time": "2022-06-13T21:16:32.986Z"
   },
   {
    "duration": 282,
    "start_time": "2022-06-13T21:16:33.265Z"
   },
   {
    "duration": 349,
    "start_time": "2022-06-13T21:16:33.549Z"
   },
   {
    "duration": 240,
    "start_time": "2022-06-13T21:16:33.900Z"
   },
   {
    "duration": 17,
    "start_time": "2022-06-13T21:16:34.142Z"
   },
   {
    "duration": 17,
    "start_time": "2022-06-13T21:16:34.161Z"
   },
   {
    "duration": 10,
    "start_time": "2022-06-13T21:16:34.180Z"
   },
   {
    "duration": 10,
    "start_time": "2022-06-13T21:16:34.192Z"
   },
   {
    "duration": 8,
    "start_time": "2022-06-13T21:16:34.204Z"
   },
   {
    "duration": 9,
    "start_time": "2022-06-13T21:16:34.214Z"
   },
   {
    "duration": 49,
    "start_time": "2022-06-13T21:16:34.225Z"
   },
   {
    "duration": 225,
    "start_time": "2022-06-13T21:16:34.276Z"
   },
   {
    "duration": 156,
    "start_time": "2022-06-13T21:23:28.188Z"
   },
   {
    "duration": 1361,
    "start_time": "2022-06-13T21:24:22.704Z"
   },
   {
    "duration": 551,
    "start_time": "2022-06-13T21:24:24.068Z"
   },
   {
    "duration": 13,
    "start_time": "2022-06-13T21:24:24.621Z"
   },
   {
    "duration": 7,
    "start_time": "2022-06-13T21:24:24.637Z"
   },
   {
    "duration": 45,
    "start_time": "2022-06-13T21:24:24.646Z"
   },
   {
    "duration": 153,
    "start_time": "2022-06-13T21:24:24.693Z"
   },
   {
    "duration": 12,
    "start_time": "2022-06-13T21:24:24.848Z"
   },
   {
    "duration": 39,
    "start_time": "2022-06-13T21:24:24.862Z"
   },
   {
    "duration": 28,
    "start_time": "2022-06-13T21:24:24.903Z"
   },
   {
    "duration": 87,
    "start_time": "2022-06-13T21:24:24.935Z"
   },
   {
    "duration": 10,
    "start_time": "2022-06-13T21:24:25.024Z"
   },
   {
    "duration": 17,
    "start_time": "2022-06-13T21:24:25.038Z"
   },
   {
    "duration": 37,
    "start_time": "2022-06-13T21:24:25.064Z"
   },
   {
    "duration": 82,
    "start_time": "2022-06-13T21:24:25.103Z"
   },
   {
    "duration": 11,
    "start_time": "2022-06-13T21:24:25.199Z"
   },
   {
    "duration": 17,
    "start_time": "2022-06-13T21:24:25.212Z"
   },
   {
    "duration": 16,
    "start_time": "2022-06-13T21:24:25.232Z"
   },
   {
    "duration": 16,
    "start_time": "2022-06-13T21:24:25.250Z"
   },
   {
    "duration": 44,
    "start_time": "2022-06-13T21:24:25.272Z"
   },
   {
    "duration": 16,
    "start_time": "2022-06-13T21:24:25.318Z"
   },
   {
    "duration": 92,
    "start_time": "2022-06-13T21:24:25.336Z"
   },
   {
    "duration": 33,
    "start_time": "2022-06-13T21:24:25.429Z"
   },
   {
    "duration": 471,
    "start_time": "2022-06-13T21:24:25.464Z"
   },
   {
    "duration": 64,
    "start_time": "2022-06-13T21:24:25.938Z"
   },
   {
    "duration": 26,
    "start_time": "2022-06-13T21:24:26.004Z"
   },
   {
    "duration": 404,
    "start_time": "2022-06-13T21:24:26.032Z"
   },
   {
    "duration": 58,
    "start_time": "2022-06-13T21:24:26.438Z"
   },
   {
    "duration": 19,
    "start_time": "2022-06-13T21:24:26.500Z"
   },
   {
    "duration": 44,
    "start_time": "2022-06-13T21:24:26.522Z"
   },
   {
    "duration": 76,
    "start_time": "2022-06-13T21:24:26.572Z"
   },
   {
    "duration": 46,
    "start_time": "2022-06-13T21:24:26.650Z"
   },
   {
    "duration": 38,
    "start_time": "2022-06-13T21:24:26.698Z"
   },
   {
    "duration": 24,
    "start_time": "2022-06-13T21:24:26.740Z"
   },
   {
    "duration": 39,
    "start_time": "2022-06-13T21:24:26.766Z"
   },
   {
    "duration": 28,
    "start_time": "2022-06-13T21:24:26.808Z"
   },
   {
    "duration": 9,
    "start_time": "2022-06-13T21:24:26.838Z"
   },
   {
    "duration": 26,
    "start_time": "2022-06-13T21:24:26.848Z"
   },
   {
    "duration": 30,
    "start_time": "2022-06-13T21:24:26.879Z"
   },
   {
    "duration": 13,
    "start_time": "2022-06-13T21:24:26.911Z"
   },
   {
    "duration": 23,
    "start_time": "2022-06-13T21:24:26.926Z"
   },
   {
    "duration": 5,
    "start_time": "2022-06-13T21:24:26.951Z"
   },
   {
    "duration": 36,
    "start_time": "2022-06-13T21:24:26.963Z"
   },
   {
    "duration": 30,
    "start_time": "2022-06-13T21:24:27.001Z"
   },
   {
    "duration": 5,
    "start_time": "2022-06-13T21:24:27.033Z"
   },
   {
    "duration": 36,
    "start_time": "2022-06-13T21:24:27.040Z"
   },
   {
    "duration": 13,
    "start_time": "2022-06-13T21:24:27.080Z"
   },
   {
    "duration": 184,
    "start_time": "2022-06-13T21:24:27.096Z"
   },
   {
    "duration": 6,
    "start_time": "2022-06-13T21:24:27.286Z"
   },
   {
    "duration": 50,
    "start_time": "2022-06-13T21:24:27.294Z"
   },
   {
    "duration": 40,
    "start_time": "2022-06-13T21:24:27.347Z"
   },
   {
    "duration": 46,
    "start_time": "2022-06-13T21:24:27.392Z"
   },
   {
    "duration": 73,
    "start_time": "2022-06-13T21:24:27.440Z"
   },
   {
    "duration": 57,
    "start_time": "2022-06-13T21:24:27.516Z"
   },
   {
    "duration": 320,
    "start_time": "2022-06-13T21:24:27.575Z"
   },
   {
    "duration": 278,
    "start_time": "2022-06-13T21:24:27.897Z"
   },
   {
    "duration": 409,
    "start_time": "2022-06-13T21:24:28.176Z"
   },
   {
    "duration": 297,
    "start_time": "2022-06-13T21:24:28.594Z"
   },
   {
    "duration": 13,
    "start_time": "2022-06-13T21:24:28.893Z"
   },
   {
    "duration": 16,
    "start_time": "2022-06-13T21:24:28.908Z"
   },
   {
    "duration": 11,
    "start_time": "2022-06-13T21:24:28.926Z"
   },
   {
    "duration": 65,
    "start_time": "2022-06-13T21:24:28.939Z"
   },
   {
    "duration": 27,
    "start_time": "2022-06-13T21:24:29.006Z"
   },
   {
    "duration": 15,
    "start_time": "2022-06-13T21:24:29.036Z"
   },
   {
    "duration": 61,
    "start_time": "2022-06-13T21:24:29.053Z"
   },
   {
    "duration": 217,
    "start_time": "2022-06-13T21:24:29.116Z"
   },
   {
    "duration": 164,
    "start_time": "2022-06-13T21:26:52.330Z"
   },
   {
    "duration": 1196,
    "start_time": "2022-06-13T21:27:09.104Z"
   },
   {
    "duration": 519,
    "start_time": "2022-06-13T21:27:10.301Z"
   },
   {
    "duration": 16,
    "start_time": "2022-06-13T21:27:10.823Z"
   },
   {
    "duration": 32,
    "start_time": "2022-06-13T21:27:10.841Z"
   },
   {
    "duration": 55,
    "start_time": "2022-06-13T21:27:10.878Z"
   },
   {
    "duration": 160,
    "start_time": "2022-06-13T21:27:10.935Z"
   },
   {
    "duration": 10,
    "start_time": "2022-06-13T21:27:11.097Z"
   },
   {
    "duration": 24,
    "start_time": "2022-06-13T21:27:11.109Z"
   },
   {
    "duration": 57,
    "start_time": "2022-06-13T21:27:11.136Z"
   },
   {
    "duration": 124,
    "start_time": "2022-06-13T21:27:11.195Z"
   },
   {
    "duration": 13,
    "start_time": "2022-06-13T21:27:11.321Z"
   },
   {
    "duration": 36,
    "start_time": "2022-06-13T21:27:11.336Z"
   },
   {
    "duration": 35,
    "start_time": "2022-06-13T21:27:11.375Z"
   },
   {
    "duration": 85,
    "start_time": "2022-06-13T21:27:11.412Z"
   },
   {
    "duration": 10,
    "start_time": "2022-06-13T21:27:11.499Z"
   },
   {
    "duration": 39,
    "start_time": "2022-06-13T21:27:11.511Z"
   },
   {
    "duration": 39,
    "start_time": "2022-06-13T21:27:11.552Z"
   },
   {
    "duration": 27,
    "start_time": "2022-06-13T21:27:11.592Z"
   },
   {
    "duration": 61,
    "start_time": "2022-06-13T21:27:11.621Z"
   },
   {
    "duration": 20,
    "start_time": "2022-06-13T21:27:11.684Z"
   },
   {
    "duration": 101,
    "start_time": "2022-06-13T21:27:11.707Z"
   },
   {
    "duration": 25,
    "start_time": "2022-06-13T21:27:11.810Z"
   },
   {
    "duration": 453,
    "start_time": "2022-06-13T21:27:11.837Z"
   },
   {
    "duration": 87,
    "start_time": "2022-06-13T21:27:12.293Z"
   },
   {
    "duration": 22,
    "start_time": "2022-06-13T21:27:12.382Z"
   },
   {
    "duration": 475,
    "start_time": "2022-06-13T21:27:12.406Z"
   },
   {
    "duration": 42,
    "start_time": "2022-06-13T21:27:12.894Z"
   },
   {
    "duration": 32,
    "start_time": "2022-06-13T21:27:12.939Z"
   },
   {
    "duration": 33,
    "start_time": "2022-06-13T21:27:12.973Z"
   },
   {
    "duration": 98,
    "start_time": "2022-06-13T21:27:13.008Z"
   },
   {
    "duration": 56,
    "start_time": "2022-06-13T21:27:13.108Z"
   },
   {
    "duration": 69,
    "start_time": "2022-06-13T21:27:13.170Z"
   },
   {
    "duration": 40,
    "start_time": "2022-06-13T21:27:13.241Z"
   },
   {
    "duration": 24,
    "start_time": "2022-06-13T21:27:13.288Z"
   },
   {
    "duration": 26,
    "start_time": "2022-06-13T21:27:13.316Z"
   },
   {
    "duration": 51,
    "start_time": "2022-06-13T21:27:13.344Z"
   },
   {
    "duration": 69,
    "start_time": "2022-06-13T21:27:13.397Z"
   },
   {
    "duration": 56,
    "start_time": "2022-06-13T21:27:13.468Z"
   },
   {
    "duration": 12,
    "start_time": "2022-06-13T21:27:13.526Z"
   },
   {
    "duration": 49,
    "start_time": "2022-06-13T21:27:13.540Z"
   },
   {
    "duration": 7,
    "start_time": "2022-06-13T21:27:13.591Z"
   },
   {
    "duration": 30,
    "start_time": "2022-06-13T21:27:13.600Z"
   },
   {
    "duration": 21,
    "start_time": "2022-06-13T21:27:13.632Z"
   },
   {
    "duration": 6,
    "start_time": "2022-06-13T21:27:13.655Z"
   },
   {
    "duration": 43,
    "start_time": "2022-06-13T21:27:13.669Z"
   },
   {
    "duration": 11,
    "start_time": "2022-06-13T21:27:13.713Z"
   },
   {
    "duration": 184,
    "start_time": "2022-06-13T21:27:13.726Z"
   },
   {
    "duration": 8,
    "start_time": "2022-06-13T21:27:13.913Z"
   },
   {
    "duration": 54,
    "start_time": "2022-06-13T21:27:13.924Z"
   },
   {
    "duration": 25,
    "start_time": "2022-06-13T21:27:13.980Z"
   },
   {
    "duration": 23,
    "start_time": "2022-06-13T21:27:14.007Z"
   },
   {
    "duration": 45,
    "start_time": "2022-06-13T21:27:14.032Z"
   },
   {
    "duration": 33,
    "start_time": "2022-06-13T21:27:14.079Z"
   },
   {
    "duration": 288,
    "start_time": "2022-06-13T21:27:14.113Z"
   },
   {
    "duration": 293,
    "start_time": "2022-06-13T21:27:14.402Z"
   },
   {
    "duration": 405,
    "start_time": "2022-06-13T21:27:14.697Z"
   },
   {
    "duration": 270,
    "start_time": "2022-06-13T21:27:15.104Z"
   },
   {
    "duration": 16,
    "start_time": "2022-06-13T21:27:15.378Z"
   },
   {
    "duration": 31,
    "start_time": "2022-06-13T21:27:15.396Z"
   },
   {
    "duration": 10,
    "start_time": "2022-06-13T21:27:15.429Z"
   },
   {
    "duration": 13,
    "start_time": "2022-06-13T21:27:15.442Z"
   },
   {
    "duration": 31,
    "start_time": "2022-06-13T21:27:15.458Z"
   },
   {
    "duration": 9,
    "start_time": "2022-06-13T21:27:15.492Z"
   },
   {
    "duration": 25,
    "start_time": "2022-06-13T21:27:15.503Z"
   },
   {
    "duration": 205,
    "start_time": "2022-06-13T21:27:15.530Z"
   },
   {
    "duration": 18,
    "start_time": "2022-06-13T21:38:38.034Z"
   },
   {
    "duration": 15,
    "start_time": "2022-06-13T22:54:21.802Z"
   },
   {
    "duration": 6,
    "start_time": "2022-06-13T22:56:30.847Z"
   }
  ],
  "kernelspec": {
   "display_name": "Python 3 (ipykernel)",
   "language": "python",
   "name": "python3"
  },
  "language_info": {
   "codemirror_mode": {
    "name": "ipython",
    "version": 3
   },
   "file_extension": ".py",
   "mimetype": "text/x-python",
   "name": "python",
   "nbconvert_exporter": "python",
   "pygments_lexer": "ipython3",
   "version": "3.9.5"
  },
  "toc": {
   "base_numbering": 1,
   "nav_menu": {},
   "number_sections": true,
   "sideBar": true,
   "skip_h1_title": true,
   "title_cell": "Table of Contents",
   "title_sidebar": "Contents",
   "toc_cell": false,
   "toc_position": {
    "height": "calc(100% - 180px)",
    "left": "10px",
    "top": "150px",
    "width": "165px"
   },
   "toc_section_display": true,
   "toc_window_display": true
  }
 },
 "nbformat": 4,
 "nbformat_minor": 2
}
