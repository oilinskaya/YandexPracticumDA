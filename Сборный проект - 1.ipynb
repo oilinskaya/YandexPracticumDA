{
 "cells": [
  {
   "cell_type": "markdown",
   "metadata": {},
   "source": [
    "# Сборный проект - 1"
   ]
  },
  {
   "cell_type": "markdown",
   "metadata": {},
   "source": [
    "**Цель исследования:**\n",
    "\n",
    "Приоритизировать гипотезы, запустить A/B-тест и проанализировать результаты.\n",
    "\n",
    "**Ход исследования:**\n",
    "\n",
    "Доступны исторические данные о продажах игр, оценки пользователей и экспертов, жанры и платформы \n",
    " \n",
    "Таким образом, исследование пройдёт в три этапа:\n",
    " 1. Обзор данных.\n",
    " 2. Предобработка данных.\n",
    " 3. Исследовательский анализ.\n",
    " 4. Проверка гипотез."
   ]
  },
  {
   "cell_type": "markdown",
   "metadata": {
    "id": "c1lxsHqA7Yfm"
   },
   "source": [
    "https://drive.google.com/file/d/1qXXMGhG8TJ2Bq6GgUnOPfo29cKMHOvER/view?usp=sharing"
   ]
  },
  {
   "cell_type": "code",
   "execution_count": 1,
   "metadata": {
    "colab": {
     "base_uri": "https://localhost:8080/"
    },
    "id": "coV4MEEz7Zwx",
    "outputId": "94e5b622-2d01-491d-d91b-a08b4e9293cc"
   },
   "outputs": [
    {
     "name": "stdout",
     "output_type": "stream",
     "text": [
      "/bin/bash: gdown: command not found\r\n"
     ]
    }
   ],
   "source": [
    "! gdown --id 1qXXMGhG8TJ2Bq6GgUnOPfo29cKMHOvER"
   ]
  },
  {
   "cell_type": "code",
   "execution_count": 2,
   "metadata": {
    "id": "bX2nXEwt-Dig"
   },
   "outputs": [],
   "source": [
    "import numpy as np\n",
    "import pandas as pd\n",
    "import matplotlib.pyplot as plt\n",
    "import seaborn as sns\n",
    "from scipy import stats as st"
   ]
  },
  {
   "cell_type": "code",
   "execution_count": 3,
   "metadata": {
    "id": "w-MN3ITs-HhD"
   },
   "outputs": [],
   "source": [
    "try:\n",
    "    df = pd.read_csv('/content/games.csv')\n",
    "except:\n",
    "    df = pd.read_csv('/datasets/games.csv')"
   ]
  },
  {
   "cell_type": "code",
   "execution_count": 4,
   "metadata": {
    "colab": {
     "base_uri": "https://localhost:8080/",
     "height": 204
    },
    "id": "ghpYO1cbObW2",
    "outputId": "cd2b0550-fb36-47ff-fd82-e1fa6098c2c7"
   },
   "outputs": [
    {
     "data": {
      "text/html": [
       "<div>\n",
       "<style scoped>\n",
       "    .dataframe tbody tr th:only-of-type {\n",
       "        vertical-align: middle;\n",
       "    }\n",
       "\n",
       "    .dataframe tbody tr th {\n",
       "        vertical-align: top;\n",
       "    }\n",
       "\n",
       "    .dataframe thead th {\n",
       "        text-align: right;\n",
       "    }\n",
       "</style>\n",
       "<table border=\"1\" class=\"dataframe\">\n",
       "  <thead>\n",
       "    <tr style=\"text-align: right;\">\n",
       "      <th></th>\n",
       "      <th>Name</th>\n",
       "      <th>Platform</th>\n",
       "      <th>Year_of_Release</th>\n",
       "      <th>Genre</th>\n",
       "      <th>NA_sales</th>\n",
       "      <th>EU_sales</th>\n",
       "      <th>JP_sales</th>\n",
       "      <th>Other_sales</th>\n",
       "      <th>Critic_Score</th>\n",
       "      <th>User_Score</th>\n",
       "      <th>Rating</th>\n",
       "    </tr>\n",
       "  </thead>\n",
       "  <tbody>\n",
       "    <tr>\n",
       "      <th>0</th>\n",
       "      <td>Wii Sports</td>\n",
       "      <td>Wii</td>\n",
       "      <td>2006.0</td>\n",
       "      <td>Sports</td>\n",
       "      <td>41.36</td>\n",
       "      <td>28.96</td>\n",
       "      <td>3.77</td>\n",
       "      <td>8.45</td>\n",
       "      <td>76.0</td>\n",
       "      <td>8</td>\n",
       "      <td>E</td>\n",
       "    </tr>\n",
       "    <tr>\n",
       "      <th>1</th>\n",
       "      <td>Super Mario Bros.</td>\n",
       "      <td>NES</td>\n",
       "      <td>1985.0</td>\n",
       "      <td>Platform</td>\n",
       "      <td>29.08</td>\n",
       "      <td>3.58</td>\n",
       "      <td>6.81</td>\n",
       "      <td>0.77</td>\n",
       "      <td>NaN</td>\n",
       "      <td>NaN</td>\n",
       "      <td>NaN</td>\n",
       "    </tr>\n",
       "    <tr>\n",
       "      <th>2</th>\n",
       "      <td>Mario Kart Wii</td>\n",
       "      <td>Wii</td>\n",
       "      <td>2008.0</td>\n",
       "      <td>Racing</td>\n",
       "      <td>15.68</td>\n",
       "      <td>12.76</td>\n",
       "      <td>3.79</td>\n",
       "      <td>3.29</td>\n",
       "      <td>82.0</td>\n",
       "      <td>8.3</td>\n",
       "      <td>E</td>\n",
       "    </tr>\n",
       "    <tr>\n",
       "      <th>3</th>\n",
       "      <td>Wii Sports Resort</td>\n",
       "      <td>Wii</td>\n",
       "      <td>2009.0</td>\n",
       "      <td>Sports</td>\n",
       "      <td>15.61</td>\n",
       "      <td>10.93</td>\n",
       "      <td>3.28</td>\n",
       "      <td>2.95</td>\n",
       "      <td>80.0</td>\n",
       "      <td>8</td>\n",
       "      <td>E</td>\n",
       "    </tr>\n",
       "    <tr>\n",
       "      <th>4</th>\n",
       "      <td>Pokemon Red/Pokemon Blue</td>\n",
       "      <td>GB</td>\n",
       "      <td>1996.0</td>\n",
       "      <td>Role-Playing</td>\n",
       "      <td>11.27</td>\n",
       "      <td>8.89</td>\n",
       "      <td>10.22</td>\n",
       "      <td>1.00</td>\n",
       "      <td>NaN</td>\n",
       "      <td>NaN</td>\n",
       "      <td>NaN</td>\n",
       "    </tr>\n",
       "  </tbody>\n",
       "</table>\n",
       "</div>"
      ],
      "text/plain": [
       "                       Name Platform  Year_of_Release         Genre  NA_sales  \\\n",
       "0                Wii Sports      Wii           2006.0        Sports     41.36   \n",
       "1         Super Mario Bros.      NES           1985.0      Platform     29.08   \n",
       "2            Mario Kart Wii      Wii           2008.0        Racing     15.68   \n",
       "3         Wii Sports Resort      Wii           2009.0        Sports     15.61   \n",
       "4  Pokemon Red/Pokemon Blue       GB           1996.0  Role-Playing     11.27   \n",
       "\n",
       "   EU_sales  JP_sales  Other_sales  Critic_Score User_Score Rating  \n",
       "0     28.96      3.77         8.45          76.0          8      E  \n",
       "1      3.58      6.81         0.77           NaN        NaN    NaN  \n",
       "2     12.76      3.79         3.29          82.0        8.3      E  \n",
       "3     10.93      3.28         2.95          80.0          8      E  \n",
       "4      8.89     10.22         1.00           NaN        NaN    NaN  "
      ]
     },
     "execution_count": 4,
     "metadata": {},
     "output_type": "execute_result"
    }
   ],
   "source": [
    "df.head()"
   ]
  },
  {
   "cell_type": "code",
   "execution_count": 5,
   "metadata": {
    "colab": {
     "base_uri": "https://localhost:8080/"
    },
    "id": "N0w3q2tWR-X7",
    "outputId": "79d3e185-3afe-411b-df40-636e33e736e5",
    "scrolled": true
   },
   "outputs": [
    {
     "name": "stdout",
     "output_type": "stream",
     "text": [
      "<class 'pandas.core.frame.DataFrame'>\n",
      "RangeIndex: 16715 entries, 0 to 16714\n",
      "Data columns (total 11 columns):\n",
      " #   Column           Non-Null Count  Dtype  \n",
      "---  ------           --------------  -----  \n",
      " 0   Name             16713 non-null  object \n",
      " 1   Platform         16715 non-null  object \n",
      " 2   Year_of_Release  16446 non-null  float64\n",
      " 3   Genre            16713 non-null  object \n",
      " 4   NA_sales         16715 non-null  float64\n",
      " 5   EU_sales         16715 non-null  float64\n",
      " 6   JP_sales         16715 non-null  float64\n",
      " 7   Other_sales      16715 non-null  float64\n",
      " 8   Critic_Score     8137 non-null   float64\n",
      " 9   User_Score       10014 non-null  object \n",
      " 10  Rating           9949 non-null   object \n",
      "dtypes: float64(6), object(5)\n",
      "memory usage: 1.4+ MB\n"
     ]
    }
   ],
   "source": [
    "df.info()"
   ]
  },
  {
   "cell_type": "markdown",
   "metadata": {
    "id": "UFVv9EqtMlC4"
   },
   "source": [
    "## Подготовка данных"
   ]
  },
  {
   "cell_type": "markdown",
   "metadata": {
    "id": "1E0EA977Nr24"
   },
   "source": [
    "В первую очередь приведу названия столбцов к нижнему регистру. В данных много пропусков. Проанализирую каждый столбец с пропусками и приму решение, что с ними делать. Есть столбцы, в которых необходимо поменять тип переменной (например, year_of_release и user_score)"
   ]
  },
  {
   "cell_type": "code",
   "execution_count": 6,
   "metadata": {
    "colab": {
     "base_uri": "https://localhost:8080/",
     "height": 204
    },
    "id": "IaK8ESl_Se3z",
    "outputId": "54b92f89-65a6-4c86-d7d0-4fc80da5e165"
   },
   "outputs": [
    {
     "data": {
      "text/html": [
       "<div>\n",
       "<style scoped>\n",
       "    .dataframe tbody tr th:only-of-type {\n",
       "        vertical-align: middle;\n",
       "    }\n",
       "\n",
       "    .dataframe tbody tr th {\n",
       "        vertical-align: top;\n",
       "    }\n",
       "\n",
       "    .dataframe thead th {\n",
       "        text-align: right;\n",
       "    }\n",
       "</style>\n",
       "<table border=\"1\" class=\"dataframe\">\n",
       "  <thead>\n",
       "    <tr style=\"text-align: right;\">\n",
       "      <th></th>\n",
       "      <th>name</th>\n",
       "      <th>platform</th>\n",
       "      <th>year_of_release</th>\n",
       "      <th>genre</th>\n",
       "      <th>na_sales</th>\n",
       "      <th>eu_sales</th>\n",
       "      <th>jp_sales</th>\n",
       "      <th>other_sales</th>\n",
       "      <th>critic_score</th>\n",
       "      <th>user_score</th>\n",
       "      <th>rating</th>\n",
       "    </tr>\n",
       "  </thead>\n",
       "  <tbody>\n",
       "    <tr>\n",
       "      <th>0</th>\n",
       "      <td>Wii Sports</td>\n",
       "      <td>Wii</td>\n",
       "      <td>2006.0</td>\n",
       "      <td>Sports</td>\n",
       "      <td>41.36</td>\n",
       "      <td>28.96</td>\n",
       "      <td>3.77</td>\n",
       "      <td>8.45</td>\n",
       "      <td>76.0</td>\n",
       "      <td>8</td>\n",
       "      <td>E</td>\n",
       "    </tr>\n",
       "    <tr>\n",
       "      <th>1</th>\n",
       "      <td>Super Mario Bros.</td>\n",
       "      <td>NES</td>\n",
       "      <td>1985.0</td>\n",
       "      <td>Platform</td>\n",
       "      <td>29.08</td>\n",
       "      <td>3.58</td>\n",
       "      <td>6.81</td>\n",
       "      <td>0.77</td>\n",
       "      <td>NaN</td>\n",
       "      <td>NaN</td>\n",
       "      <td>NaN</td>\n",
       "    </tr>\n",
       "    <tr>\n",
       "      <th>2</th>\n",
       "      <td>Mario Kart Wii</td>\n",
       "      <td>Wii</td>\n",
       "      <td>2008.0</td>\n",
       "      <td>Racing</td>\n",
       "      <td>15.68</td>\n",
       "      <td>12.76</td>\n",
       "      <td>3.79</td>\n",
       "      <td>3.29</td>\n",
       "      <td>82.0</td>\n",
       "      <td>8.3</td>\n",
       "      <td>E</td>\n",
       "    </tr>\n",
       "    <tr>\n",
       "      <th>3</th>\n",
       "      <td>Wii Sports Resort</td>\n",
       "      <td>Wii</td>\n",
       "      <td>2009.0</td>\n",
       "      <td>Sports</td>\n",
       "      <td>15.61</td>\n",
       "      <td>10.93</td>\n",
       "      <td>3.28</td>\n",
       "      <td>2.95</td>\n",
       "      <td>80.0</td>\n",
       "      <td>8</td>\n",
       "      <td>E</td>\n",
       "    </tr>\n",
       "    <tr>\n",
       "      <th>4</th>\n",
       "      <td>Pokemon Red/Pokemon Blue</td>\n",
       "      <td>GB</td>\n",
       "      <td>1996.0</td>\n",
       "      <td>Role-Playing</td>\n",
       "      <td>11.27</td>\n",
       "      <td>8.89</td>\n",
       "      <td>10.22</td>\n",
       "      <td>1.00</td>\n",
       "      <td>NaN</td>\n",
       "      <td>NaN</td>\n",
       "      <td>NaN</td>\n",
       "    </tr>\n",
       "  </tbody>\n",
       "</table>\n",
       "</div>"
      ],
      "text/plain": [
       "                       name platform  year_of_release         genre  na_sales  \\\n",
       "0                Wii Sports      Wii           2006.0        Sports     41.36   \n",
       "1         Super Mario Bros.      NES           1985.0      Platform     29.08   \n",
       "2            Mario Kart Wii      Wii           2008.0        Racing     15.68   \n",
       "3         Wii Sports Resort      Wii           2009.0        Sports     15.61   \n",
       "4  Pokemon Red/Pokemon Blue       GB           1996.0  Role-Playing     11.27   \n",
       "\n",
       "   eu_sales  jp_sales  other_sales  critic_score user_score rating  \n",
       "0     28.96      3.77         8.45          76.0          8      E  \n",
       "1      3.58      6.81         0.77           NaN        NaN    NaN  \n",
       "2     12.76      3.79         3.29          82.0        8.3      E  \n",
       "3     10.93      3.28         2.95          80.0          8      E  \n",
       "4      8.89     10.22         1.00           NaN        NaN    NaN  "
      ]
     },
     "execution_count": 6,
     "metadata": {},
     "output_type": "execute_result"
    }
   ],
   "source": [
    "#приведу названия столбцов к единому регистру\n",
    "df.columns = map(str.lower, df.columns)\n",
    "df.head()"
   ]
  },
  {
   "cell_type": "code",
   "execution_count": 7,
   "metadata": {},
   "outputs": [
    {
     "data": {
      "text/plain": [
       "critic_score       0.513192\n",
       "rating             0.404786\n",
       "user_score         0.400897\n",
       "year_of_release    0.016093\n",
       "name               0.000120\n",
       "genre              0.000120\n",
       "platform           0.000000\n",
       "na_sales           0.000000\n",
       "eu_sales           0.000000\n",
       "jp_sales           0.000000\n",
       "other_sales        0.000000\n",
       "dtype: float64"
      ]
     },
     "execution_count": 7,
     "metadata": {},
     "output_type": "execute_result"
    }
   ],
   "source": [
    "#посмотрим на процент пропущенных значений в датафрейме\n",
    "df.isna().mean().sort_values(ascending=False)"
   ]
  },
  {
   "cell_type": "markdown",
   "metadata": {
    "id": "2_rFnqJay0wT"
   },
   "source": [
    "В столбце year_of_release точно восстановить данные не представляется возможным. Доля пропущенных значений крайне мала (1,6%) и на результат не повлияет, поэтому удалю их. Заменю тип переменной на int."
   ]
  },
  {
   "cell_type": "code",
   "execution_count": 8,
   "metadata": {
    "colab": {
     "base_uri": "https://localhost:8080/"
    },
    "id": "8fSx9MDmVDSU",
    "outputId": "dbd9b973-57f6-4653-ecd4-d9da59c58967",
    "scrolled": true
   },
   "outputs": [
    {
     "name": "stdout",
     "output_type": "stream",
     "text": [
      "<class 'pandas.core.frame.DataFrame'>\n",
      "Int64Index: 16446 entries, 0 to 16714\n",
      "Data columns (total 11 columns):\n",
      " #   Column           Non-Null Count  Dtype  \n",
      "---  ------           --------------  -----  \n",
      " 0   name             16444 non-null  object \n",
      " 1   platform         16446 non-null  object \n",
      " 2   year_of_release  16446 non-null  int64  \n",
      " 3   genre            16444 non-null  object \n",
      " 4   na_sales         16446 non-null  float64\n",
      " 5   eu_sales         16446 non-null  float64\n",
      " 6   jp_sales         16446 non-null  float64\n",
      " 7   other_sales      16446 non-null  float64\n",
      " 8   critic_score     7983 non-null   float64\n",
      " 9   user_score       9839 non-null   object \n",
      " 10  rating           9768 non-null   object \n",
      "dtypes: float64(5), int64(1), object(5)\n",
      "memory usage: 1.5+ MB\n"
     ]
    }
   ],
   "source": [
    "df = df.dropna(subset=['year_of_release'])\n",
    "df['year_of_release'] = df['year_of_release'].astype('int')\n",
    "df.info()"
   ]
  },
  {
   "cell_type": "code",
   "execution_count": 9,
   "metadata": {
    "colab": {
     "base_uri": "https://localhost:8080/"
    },
    "id": "xYuEtBGGHpNi",
    "outputId": "b08c9963-890b-4437-d21b-07965fcadab6",
    "scrolled": true
   },
   "outputs": [
    {
     "data": {
      "text/plain": [
       "2008    1427\n",
       "2009    1426\n",
       "2010    1255\n",
       "2007    1197\n",
       "2011    1136\n",
       "2006    1006\n",
       "2005     939\n",
       "2002     829\n",
       "2003     775\n",
       "2004     762\n",
       "2012     653\n",
       "2015     606\n",
       "2014     581\n",
       "2013     544\n",
       "2016     502\n",
       "2001     482\n",
       "1998     379\n",
       "2000     350\n",
       "1999     338\n",
       "1997     289\n",
       "1996     263\n",
       "1995     219\n",
       "1994     121\n",
       "1993      62\n",
       "1981      46\n",
       "1992      43\n",
       "1991      41\n",
       "1982      36\n",
       "1986      21\n",
       "1983      17\n",
       "1989      17\n",
       "1990      16\n",
       "1987      16\n",
       "1988      15\n",
       "1985      14\n",
       "1984      14\n",
       "1980       9\n",
       "Name: year_of_release, dtype: int64"
      ]
     },
     "execution_count": 9,
     "metadata": {},
     "output_type": "execute_result"
    }
   ],
   "source": [
    "df['year_of_release'].value_counts()"
   ]
  },
  {
   "cell_type": "code",
   "execution_count": 10,
   "metadata": {
    "colab": {
     "base_uri": "https://localhost:8080/"
    },
    "id": "FIDUse5tiVbU",
    "outputId": "d0a7b29d-bdf1-4cf5-f82f-16a5416ad9c8"
   },
   "outputs": [
    {
     "data": {
      "text/plain": [
       "NaN    6607\n",
       "tbd    2376\n",
       "7.8     322\n",
       "8       285\n",
       "8.2     276\n",
       "       ... \n",
       "1         2\n",
       "0.6       2\n",
       "2.3       2\n",
       "0         1\n",
       "9.7       1\n",
       "Name: user_score, Length: 97, dtype: int64"
      ]
     },
     "execution_count": 10,
     "metadata": {},
     "output_type": "execute_result"
    }
   ],
   "source": [
    "df['user_score'].value_counts(dropna=False)"
   ]
  },
  {
   "cell_type": "markdown",
   "metadata": {
    "id": "vJ2C06bsif3r"
   },
   "source": [
    "В столбце user_score имеются строковые значения tbd, что означает 'To Be Determined' - будет определено позже. Чтобы привести столбец к вещественному типу и иметь возможность применить к нему математические операции, заменю tbd на Nan, затем заполню пропуски значением -1."
   ]
  },
  {
   "cell_type": "code",
   "execution_count": 11,
   "metadata": {
    "colab": {
     "base_uri": "https://localhost:8080/"
    },
    "id": "1cDmgzfpjQZZ",
    "outputId": "e0e4915d-1efc-48cd-80ca-c0fd95c3121e"
   },
   "outputs": [
    {
     "name": "stdout",
     "output_type": "stream",
     "text": [
      "<class 'pandas.core.frame.DataFrame'>\n",
      "Int64Index: 16446 entries, 0 to 16714\n",
      "Data columns (total 11 columns):\n",
      " #   Column           Non-Null Count  Dtype  \n",
      "---  ------           --------------  -----  \n",
      " 0   name             16444 non-null  object \n",
      " 1   platform         16446 non-null  object \n",
      " 2   year_of_release  16446 non-null  int64  \n",
      " 3   genre            16444 non-null  object \n",
      " 4   na_sales         16446 non-null  float64\n",
      " 5   eu_sales         16446 non-null  float64\n",
      " 6   jp_sales         16446 non-null  float64\n",
      " 7   other_sales      16446 non-null  float64\n",
      " 8   critic_score     7983 non-null   float64\n",
      " 9   user_score       16446 non-null  float64\n",
      " 10  rating           9768 non-null   object \n",
      "dtypes: float64(6), int64(1), object(4)\n",
      "memory usage: 1.5+ MB\n"
     ]
    }
   ],
   "source": [
    "df['user_score'] = df['user_score'].replace('tbd', np.nan, regex=True)\n",
    "df['user_score'].fillna(-1, inplace=True)\n",
    "df['user_score'] = df['user_score'].astype('float')\n",
    "df.info()"
   ]
  },
  {
   "cell_type": "markdown",
   "metadata": {
    "id": "wC4DVK6hKJzN"
   },
   "source": [
    "В столбце critic_score не вижу смысла заполнять пропуски средним или медианой, т.к. это субъективное мнение критика. Заполню пропуски значением -1.\n",
    "\n",
    "В столбце rating заменю пропуски на значение RP. По классификации ESRB это raiting pending - Ожидается присвоение рейтинга."
   ]
  },
  {
   "cell_type": "code",
   "execution_count": 12,
   "metadata": {
    "colab": {
     "base_uri": "https://localhost:8080/"
    },
    "id": "jeSXX0Y3xkC9",
    "outputId": "2192ec7e-7da6-4e07-b612-b68c1bf7c88c"
   },
   "outputs": [
    {
     "name": "stdout",
     "output_type": "stream",
     "text": [
      "<class 'pandas.core.frame.DataFrame'>\n",
      "Int64Index: 16446 entries, 0 to 16714\n",
      "Data columns (total 11 columns):\n",
      " #   Column           Non-Null Count  Dtype  \n",
      "---  ------           --------------  -----  \n",
      " 0   name             16444 non-null  object \n",
      " 1   platform         16446 non-null  object \n",
      " 2   year_of_release  16446 non-null  int64  \n",
      " 3   genre            16444 non-null  object \n",
      " 4   na_sales         16446 non-null  float64\n",
      " 5   eu_sales         16446 non-null  float64\n",
      " 6   jp_sales         16446 non-null  float64\n",
      " 7   other_sales      16446 non-null  float64\n",
      " 8   critic_score     16446 non-null  float64\n",
      " 9   user_score       16446 non-null  float64\n",
      " 10  rating           9768 non-null   object \n",
      "dtypes: float64(6), int64(1), object(4)\n",
      "memory usage: 1.5+ MB\n"
     ]
    }
   ],
   "source": [
    "df['critic_score'].fillna(-1, inplace=True)\n",
    "df.info()"
   ]
  },
  {
   "cell_type": "code",
   "execution_count": 13,
   "metadata": {
    "colab": {
     "base_uri": "https://localhost:8080/"
    },
    "id": "DeUqqdWLT-1y",
    "outputId": "1eee4797-7fee-4345-c5bb-c98753f86e69"
   },
   "outputs": [
    {
     "data": {
      "text/plain": [
       "E       3921\n",
       "T       2905\n",
       "M       1536\n",
       "E10+    1393\n",
       "EC         8\n",
       "K-A        3\n",
       "RP         1\n",
       "AO         1\n",
       "Name: rating, dtype: int64"
      ]
     },
     "execution_count": 13,
     "metadata": {},
     "output_type": "execute_result"
    }
   ],
   "source": [
    "df['rating'].value_counts()"
   ]
  },
  {
   "cell_type": "code",
   "execution_count": 14,
   "metadata": {
    "colab": {
     "base_uri": "https://localhost:8080/"
    },
    "id": "IA1QlxBgRb4V",
    "outputId": "5237dc9c-5379-471d-bfc5-f0e6e1e6f23e"
   },
   "outputs": [
    {
     "data": {
      "text/plain": [
       "RP      6679\n",
       "E       3921\n",
       "T       2905\n",
       "M       1536\n",
       "E10+    1393\n",
       "EC         8\n",
       "K-A        3\n",
       "AO         1\n",
       "Name: rating, dtype: int64"
      ]
     },
     "execution_count": 14,
     "metadata": {},
     "output_type": "execute_result"
    }
   ],
   "source": [
    "df['rating'] = df['rating'].fillna('RP')\n",
    "df['rating'].value_counts()"
   ]
  },
  {
   "cell_type": "code",
   "execution_count": 15,
   "metadata": {
    "colab": {
     "base_uri": "https://localhost:8080/",
     "height": 111
    },
    "id": "0c8EZDQprIwl",
    "outputId": "4250f8da-7db4-49fa-ad42-6b602977b08e"
   },
   "outputs": [
    {
     "data": {
      "text/html": [
       "<div>\n",
       "<style scoped>\n",
       "    .dataframe tbody tr th:only-of-type {\n",
       "        vertical-align: middle;\n",
       "    }\n",
       "\n",
       "    .dataframe tbody tr th {\n",
       "        vertical-align: top;\n",
       "    }\n",
       "\n",
       "    .dataframe thead th {\n",
       "        text-align: right;\n",
       "    }\n",
       "</style>\n",
       "<table border=\"1\" class=\"dataframe\">\n",
       "  <thead>\n",
       "    <tr style=\"text-align: right;\">\n",
       "      <th></th>\n",
       "      <th>name</th>\n",
       "      <th>platform</th>\n",
       "      <th>year_of_release</th>\n",
       "      <th>genre</th>\n",
       "      <th>na_sales</th>\n",
       "      <th>eu_sales</th>\n",
       "      <th>jp_sales</th>\n",
       "      <th>other_sales</th>\n",
       "      <th>critic_score</th>\n",
       "      <th>user_score</th>\n",
       "      <th>rating</th>\n",
       "    </tr>\n",
       "  </thead>\n",
       "  <tbody>\n",
       "    <tr>\n",
       "      <th>659</th>\n",
       "      <td>NaN</td>\n",
       "      <td>GEN</td>\n",
       "      <td>1993</td>\n",
       "      <td>NaN</td>\n",
       "      <td>1.78</td>\n",
       "      <td>0.53</td>\n",
       "      <td>0.00</td>\n",
       "      <td>0.08</td>\n",
       "      <td>-1.0</td>\n",
       "      <td>-1.0</td>\n",
       "      <td>RP</td>\n",
       "    </tr>\n",
       "    <tr>\n",
       "      <th>14244</th>\n",
       "      <td>NaN</td>\n",
       "      <td>GEN</td>\n",
       "      <td>1993</td>\n",
       "      <td>NaN</td>\n",
       "      <td>0.00</td>\n",
       "      <td>0.00</td>\n",
       "      <td>0.03</td>\n",
       "      <td>0.00</td>\n",
       "      <td>-1.0</td>\n",
       "      <td>-1.0</td>\n",
       "      <td>RP</td>\n",
       "    </tr>\n",
       "  </tbody>\n",
       "</table>\n",
       "</div>"
      ],
      "text/plain": [
       "      name platform  year_of_release genre  na_sales  eu_sales  jp_sales  \\\n",
       "659    NaN      GEN             1993   NaN      1.78      0.53      0.00   \n",
       "14244  NaN      GEN             1993   NaN      0.00      0.00      0.03   \n",
       "\n",
       "       other_sales  critic_score  user_score rating  \n",
       "659           0.08          -1.0        -1.0     RP  \n",
       "14244         0.00          -1.0        -1.0     RP  "
      ]
     },
     "execution_count": 15,
     "metadata": {},
     "output_type": "execute_result"
    }
   ],
   "source": [
    "df[df['name'].isna()]"
   ]
  },
  {
   "cell_type": "code",
   "execution_count": 16,
   "metadata": {
    "colab": {
     "base_uri": "https://localhost:8080/",
     "height": 111
    },
    "id": "xd4BhqOJroGW",
    "outputId": "15da1d62-46b1-45cd-8451-69e6ae611d34"
   },
   "outputs": [
    {
     "data": {
      "text/html": [
       "<div>\n",
       "<style scoped>\n",
       "    .dataframe tbody tr th:only-of-type {\n",
       "        vertical-align: middle;\n",
       "    }\n",
       "\n",
       "    .dataframe tbody tr th {\n",
       "        vertical-align: top;\n",
       "    }\n",
       "\n",
       "    .dataframe thead th {\n",
       "        text-align: right;\n",
       "    }\n",
       "</style>\n",
       "<table border=\"1\" class=\"dataframe\">\n",
       "  <thead>\n",
       "    <tr style=\"text-align: right;\">\n",
       "      <th></th>\n",
       "      <th>name</th>\n",
       "      <th>platform</th>\n",
       "      <th>year_of_release</th>\n",
       "      <th>genre</th>\n",
       "      <th>na_sales</th>\n",
       "      <th>eu_sales</th>\n",
       "      <th>jp_sales</th>\n",
       "      <th>other_sales</th>\n",
       "      <th>critic_score</th>\n",
       "      <th>user_score</th>\n",
       "      <th>rating</th>\n",
       "    </tr>\n",
       "  </thead>\n",
       "  <tbody>\n",
       "    <tr>\n",
       "      <th>659</th>\n",
       "      <td>NaN</td>\n",
       "      <td>GEN</td>\n",
       "      <td>1993</td>\n",
       "      <td>NaN</td>\n",
       "      <td>1.78</td>\n",
       "      <td>0.53</td>\n",
       "      <td>0.00</td>\n",
       "      <td>0.08</td>\n",
       "      <td>-1.0</td>\n",
       "      <td>-1.0</td>\n",
       "      <td>RP</td>\n",
       "    </tr>\n",
       "    <tr>\n",
       "      <th>14244</th>\n",
       "      <td>NaN</td>\n",
       "      <td>GEN</td>\n",
       "      <td>1993</td>\n",
       "      <td>NaN</td>\n",
       "      <td>0.00</td>\n",
       "      <td>0.00</td>\n",
       "      <td>0.03</td>\n",
       "      <td>0.00</td>\n",
       "      <td>-1.0</td>\n",
       "      <td>-1.0</td>\n",
       "      <td>RP</td>\n",
       "    </tr>\n",
       "  </tbody>\n",
       "</table>\n",
       "</div>"
      ],
      "text/plain": [
       "      name platform  year_of_release genre  na_sales  eu_sales  jp_sales  \\\n",
       "659    NaN      GEN             1993   NaN      1.78      0.53      0.00   \n",
       "14244  NaN      GEN             1993   NaN      0.00      0.00      0.03   \n",
       "\n",
       "       other_sales  critic_score  user_score rating  \n",
       "659           0.08          -1.0        -1.0     RP  \n",
       "14244         0.00          -1.0        -1.0     RP  "
      ]
     },
     "execution_count": 16,
     "metadata": {},
     "output_type": "execute_result"
    }
   ],
   "source": [
    "df[df['genre'].isna()]"
   ]
  },
  {
   "cell_type": "markdown",
   "metadata": {
    "id": "Js0SaaaDn93y"
   },
   "source": [
    "Удалю 2 строки с пропусками в названии и жанре игр."
   ]
  },
  {
   "cell_type": "code",
   "execution_count": 17,
   "metadata": {
    "colab": {
     "base_uri": "https://localhost:8080/"
    },
    "id": "07k4K6lupVQr",
    "outputId": "3ea86d70-83df-4e4f-ec71-2e8109ff8d73",
    "scrolled": true
   },
   "outputs": [
    {
     "name": "stdout",
     "output_type": "stream",
     "text": [
      "<class 'pandas.core.frame.DataFrame'>\n",
      "RangeIndex: 16444 entries, 0 to 16443\n",
      "Data columns (total 11 columns):\n",
      " #   Column           Non-Null Count  Dtype  \n",
      "---  ------           --------------  -----  \n",
      " 0   name             16444 non-null  object \n",
      " 1   platform         16444 non-null  object \n",
      " 2   year_of_release  16444 non-null  int64  \n",
      " 3   genre            16444 non-null  object \n",
      " 4   na_sales         16444 non-null  float64\n",
      " 5   eu_sales         16444 non-null  float64\n",
      " 6   jp_sales         16444 non-null  float64\n",
      " 7   other_sales      16444 non-null  float64\n",
      " 8   critic_score     16444 non-null  float64\n",
      " 9   user_score       16444 non-null  float64\n",
      " 10  rating           16444 non-null  object \n",
      "dtypes: float64(6), int64(1), object(4)\n",
      "memory usage: 1.4+ MB\n"
     ]
    }
   ],
   "source": [
    "#удаляю строки\n",
    "df = df.dropna(subset=['name', 'genre']).reset_index(drop=True)\n",
    "df.info()"
   ]
  },
  {
   "cell_type": "code",
   "execution_count": 18,
   "metadata": {
    "colab": {
     "base_uri": "https://localhost:8080/"
    },
    "id": "-l5eDHlCqClN",
    "outputId": "44df6b77-e4ee-4eee-fad9-151ee95bfc14",
    "scrolled": true
   },
   "outputs": [
    {
     "name": "stdout",
     "output_type": "stream",
     "text": [
      "<class 'pandas.core.frame.DataFrame'>\n",
      "RangeIndex: 16444 entries, 0 to 16443\n",
      "Data columns (total 11 columns):\n",
      " #   Column           Non-Null Count  Dtype  \n",
      "---  ------           --------------  -----  \n",
      " 0   name             16444 non-null  object \n",
      " 1   platform         16444 non-null  object \n",
      " 2   year_of_release  16444 non-null  int64  \n",
      " 3   genre            16444 non-null  object \n",
      " 4   na_sales         16444 non-null  float64\n",
      " 5   eu_sales         16444 non-null  float64\n",
      " 6   jp_sales         16444 non-null  float64\n",
      " 7   other_sales      16444 non-null  float64\n",
      " 8   critic_score     16444 non-null  float64\n",
      " 9   user_score       16444 non-null  float64\n",
      " 10  rating           16444 non-null  object \n",
      "dtypes: float64(6), int64(1), object(4)\n",
      "memory usage: 1.4+ MB\n"
     ]
    }
   ],
   "source": [
    "#удалим явные дубликаты\n",
    "df = df.drop_duplicates().reset_index(drop=True)\n",
    "df.info()"
   ]
  },
  {
   "cell_type": "markdown",
   "metadata": {
    "id": "t_rWWzyFYCHt"
   },
   "source": [
    "Посчитаем суммарные продажи во всех регионах и запишем их в отдельный столбец."
   ]
  },
  {
   "cell_type": "code",
   "execution_count": 19,
   "metadata": {
    "colab": {
     "base_uri": "https://localhost:8080/",
     "height": 204
    },
    "id": "sYCsYwgmYI11",
    "outputId": "d28072d2-d453-4b2c-a285-935b9ae8c835",
    "scrolled": true
   },
   "outputs": [
    {
     "data": {
      "text/html": [
       "<div>\n",
       "<style scoped>\n",
       "    .dataframe tbody tr th:only-of-type {\n",
       "        vertical-align: middle;\n",
       "    }\n",
       "\n",
       "    .dataframe tbody tr th {\n",
       "        vertical-align: top;\n",
       "    }\n",
       "\n",
       "    .dataframe thead th {\n",
       "        text-align: right;\n",
       "    }\n",
       "</style>\n",
       "<table border=\"1\" class=\"dataframe\">\n",
       "  <thead>\n",
       "    <tr style=\"text-align: right;\">\n",
       "      <th></th>\n",
       "      <th>name</th>\n",
       "      <th>platform</th>\n",
       "      <th>year_of_release</th>\n",
       "      <th>genre</th>\n",
       "      <th>na_sales</th>\n",
       "      <th>eu_sales</th>\n",
       "      <th>jp_sales</th>\n",
       "      <th>other_sales</th>\n",
       "      <th>critic_score</th>\n",
       "      <th>user_score</th>\n",
       "      <th>rating</th>\n",
       "      <th>total_sales</th>\n",
       "    </tr>\n",
       "  </thead>\n",
       "  <tbody>\n",
       "    <tr>\n",
       "      <th>0</th>\n",
       "      <td>Wii Sports</td>\n",
       "      <td>Wii</td>\n",
       "      <td>2006</td>\n",
       "      <td>Sports</td>\n",
       "      <td>41.36</td>\n",
       "      <td>28.96</td>\n",
       "      <td>3.77</td>\n",
       "      <td>8.45</td>\n",
       "      <td>76.0</td>\n",
       "      <td>8.0</td>\n",
       "      <td>E</td>\n",
       "      <td>82.54</td>\n",
       "    </tr>\n",
       "    <tr>\n",
       "      <th>1</th>\n",
       "      <td>Super Mario Bros.</td>\n",
       "      <td>NES</td>\n",
       "      <td>1985</td>\n",
       "      <td>Platform</td>\n",
       "      <td>29.08</td>\n",
       "      <td>3.58</td>\n",
       "      <td>6.81</td>\n",
       "      <td>0.77</td>\n",
       "      <td>-1.0</td>\n",
       "      <td>-1.0</td>\n",
       "      <td>RP</td>\n",
       "      <td>40.24</td>\n",
       "    </tr>\n",
       "    <tr>\n",
       "      <th>2</th>\n",
       "      <td>Mario Kart Wii</td>\n",
       "      <td>Wii</td>\n",
       "      <td>2008</td>\n",
       "      <td>Racing</td>\n",
       "      <td>15.68</td>\n",
       "      <td>12.76</td>\n",
       "      <td>3.79</td>\n",
       "      <td>3.29</td>\n",
       "      <td>82.0</td>\n",
       "      <td>8.3</td>\n",
       "      <td>E</td>\n",
       "      <td>35.52</td>\n",
       "    </tr>\n",
       "    <tr>\n",
       "      <th>3</th>\n",
       "      <td>Wii Sports Resort</td>\n",
       "      <td>Wii</td>\n",
       "      <td>2009</td>\n",
       "      <td>Sports</td>\n",
       "      <td>15.61</td>\n",
       "      <td>10.93</td>\n",
       "      <td>3.28</td>\n",
       "      <td>2.95</td>\n",
       "      <td>80.0</td>\n",
       "      <td>8.0</td>\n",
       "      <td>E</td>\n",
       "      <td>32.77</td>\n",
       "    </tr>\n",
       "    <tr>\n",
       "      <th>4</th>\n",
       "      <td>Pokemon Red/Pokemon Blue</td>\n",
       "      <td>GB</td>\n",
       "      <td>1996</td>\n",
       "      <td>Role-Playing</td>\n",
       "      <td>11.27</td>\n",
       "      <td>8.89</td>\n",
       "      <td>10.22</td>\n",
       "      <td>1.00</td>\n",
       "      <td>-1.0</td>\n",
       "      <td>-1.0</td>\n",
       "      <td>RP</td>\n",
       "      <td>31.38</td>\n",
       "    </tr>\n",
       "  </tbody>\n",
       "</table>\n",
       "</div>"
      ],
      "text/plain": [
       "                       name platform  year_of_release         genre  na_sales  \\\n",
       "0                Wii Sports      Wii             2006        Sports     41.36   \n",
       "1         Super Mario Bros.      NES             1985      Platform     29.08   \n",
       "2            Mario Kart Wii      Wii             2008        Racing     15.68   \n",
       "3         Wii Sports Resort      Wii             2009        Sports     15.61   \n",
       "4  Pokemon Red/Pokemon Blue       GB             1996  Role-Playing     11.27   \n",
       "\n",
       "   eu_sales  jp_sales  other_sales  critic_score  user_score rating  \\\n",
       "0     28.96      3.77         8.45          76.0         8.0      E   \n",
       "1      3.58      6.81         0.77          -1.0        -1.0     RP   \n",
       "2     12.76      3.79         3.29          82.0         8.3      E   \n",
       "3     10.93      3.28         2.95          80.0         8.0      E   \n",
       "4      8.89     10.22         1.00          -1.0        -1.0     RP   \n",
       "\n",
       "   total_sales  \n",
       "0        82.54  \n",
       "1        40.24  \n",
       "2        35.52  \n",
       "3        32.77  \n",
       "4        31.38  "
      ]
     },
     "execution_count": 19,
     "metadata": {},
     "output_type": "execute_result"
    }
   ],
   "source": [
    "df['total_sales'] = df['na_sales'] + df['eu_sales'] + df['jp_sales'] + df['other_sales']\n",
    "df.head()"
   ]
  },
  {
   "cell_type": "markdown",
   "metadata": {
    "id": "ba8zPzYrZ8BE"
   },
   "source": [
    "# Исследовательский анализ"
   ]
  },
  {
   "cell_type": "markdown",
   "metadata": {
    "id": "MjUsI_XBNIOs"
   },
   "source": [
    "**Посмотрите, сколько игр выпускалось в разные годы. Важны ли данные за все периоды?**"
   ]
  },
  {
   "cell_type": "code",
   "execution_count": 20,
   "metadata": {
    "colab": {
     "base_uri": "https://localhost:8080/"
    },
    "id": "EOJ9TeR_d2L5",
    "outputId": "fb81fe92-ef99-43a4-9921-fa4adf897461"
   },
   "outputs": [
    {
     "data": {
      "text/plain": [
       "year_of_release\n",
       "1980     9\n",
       "1981    46\n",
       "1982    36\n",
       "1983    17\n",
       "1984    14\n",
       "Name: name, dtype: int64"
      ]
     },
     "execution_count": 20,
     "metadata": {},
     "output_type": "execute_result"
    }
   ],
   "source": [
    "#создам сводник, в котором посчитаю количество выпущенных игр по годам\n",
    "df.query('year_of_release != -1').groupby('year_of_release')['name'].count().head()"
   ]
  },
  {
   "cell_type": "code",
   "execution_count": 21,
   "metadata": {
    "colab": {
     "base_uri": "https://localhost:8080/",
     "height": 366
    },
    "id": "H2zCpsu38HC0",
    "outputId": "fc885d0c-d2f9-4127-d8dc-d8a66fa5c36f",
    "scrolled": true
   },
   "outputs": [
    {
     "data": {
      "image/png": "[encoded data removed]",
      "text/plain": [
       "<Figure size 720x360 with 1 Axes>"
      ]
     },
     "metadata": {
      "needs_background": "light"
     },
     "output_type": "display_data"
    }
   ],
   "source": [
    "#строю гистограмму\n",
    "(\n",
    "    df.groupby(\n",
    "            'year_of_release')['name'].count()\n",
    "            ).plot(\n",
    "                kind='bar', figsize=(10,5), title='Количество выпущенных игр по годам'\n",
    "                );"
   ]
  },
  {
   "cell_type": "markdown",
   "metadata": {
    "id": "7jGHPboUiSFP"
   },
   "source": [
    "С 1980 по 1993 годы игр выпускалось очень мало.\n",
    "\n",
    "Начиная с 1994 года видим рост выпуска игра. Пик приходится на 2008-2009 годы.\n",
    "\n",
    "После 2009 года начинается падение. Резкое падение выпуска игр видим после 2011 года."
   ]
  },
  {
   "cell_type": "markdown",
   "metadata": {
    "id": "YPI2cZDljldJ"
   },
   "source": [
    "**Посмотрите, как менялись продажи по платформам. Выберите платформы с наибольшими суммарными продажами и постройте распределение по годам. За какой характерный срок появляются новые и исчезают старые платформы?**"
   ]
  },
  {
   "cell_type": "code",
   "execution_count": 22,
   "metadata": {
    "colab": {
     "base_uri": "https://localhost:8080/"
    },
    "id": "OTFgdoneiuDI",
    "outputId": "3dfd42db-8903-425d-d534-ca7f94532a9b"
   },
   "outputs": [
    {
     "data": {
      "text/plain": [
       "platform\n",
       "PS2     1233.56\n",
       "X360     961.24\n",
       "PS3      931.34\n",
       "Wii      891.18\n",
       "DS       802.78\n",
       "Name: total_sales, dtype: float64"
      ]
     },
     "execution_count": 22,
     "metadata": {},
     "output_type": "execute_result"
    }
   ],
   "source": [
    "#посмотрим на платформы с наибольшими суммарными продажами\n",
    "df.groupby('platform')['total_sales'].sum().sort_values(ascending=False).head()"
   ]
  },
  {
   "cell_type": "code",
   "execution_count": 23,
   "metadata": {
    "colab": {
     "base_uri": "https://localhost:8080/",
     "height": 366
    },
    "id": "7yjP5XILjW5X",
    "outputId": "1edc65b0-39b0-4ff4-a0f4-2c9357ff4f01"
   },
   "outputs": [
    {
     "data": {
      "image/png": "[encoded data removed]",
      "text/plain": [
       "<Figure size 720x360 with 1 Axes>"
      ]
     },
     "metadata": {
      "needs_background": "light"
     },
     "output_type": "display_data"
    }
   ],
   "source": [
    "df.groupby(\n",
    "        'platform')['total_sales'].sum().sort_values(ascending=False).plot(\n",
    "            kind='bar', figsize=(10,5), title='Продажи по платформам');"
   ]
  },
  {
   "cell_type": "markdown",
   "metadata": {
    "id": "O6zR_k2LpEzg"
   },
   "source": [
    "Топ-6 платформ по продажам: PS2, X360, PS3, Wii, DS и PS. Построю график продаж по годам для каждой платформы."
   ]
  },
  {
   "cell_type": "code",
   "execution_count": 24,
   "metadata": {
    "colab": {
     "base_uri": "https://localhost:8080/",
     "height": 350
    },
    "id": "BHWV6uhrojrM",
    "outputId": "fa8c99be-7798-4e2d-8e67-71eb738bc843"
   },
   "outputs": [
    {
     "data": {
      "image/png": "[encoded data removed]",
      "text/plain": [
       "<Figure size 720x360 with 1 Axes>"
      ]
     },
     "metadata": {
      "needs_background": "light"
     },
     "output_type": "display_data"
    }
   ],
   "source": [
    "platforms = ['PS2', 'X360', 'PS3', 'Wii', 'DS', 'PS']\n",
    "for i in platforms :\n",
    "    df.query('platform == @i and year_of_release != -1').groupby('year_of_release')['total_sales'].sum().plot(label=i,\n",
    "                                                                                    xlabel='Год',\n",
    "                                                                                    ylabel='Продажи (млн проданных копий)',\n",
    "                                                                                    title='График продаж по годам',\n",
    "                                                                                    xlim=(1994, 2016),\n",
    "                                                                                    figsize=(10,5),\n",
    "                                                                                    legend=True,\n",
    "                                                                                    grid=True)"
   ]
  },
  {
   "cell_type": "markdown",
   "metadata": {
    "id": "F6C2_J7tE0tN"
   },
   "source": [
    "Посмотрим на продолжительность жизни платформ на графике:\n",
    "\n",
    "- DS была выпущена в 2004 году. Поддержка прекращена в 2013 году;\n",
    "- PS была выпущена в 1994 году и просуществовала до 2003 года;\n",
    "- PS2 была выпущена в 2000 году. В 2013 Sony подтвердила, что производство PlayStation 2 прекращено по всему миру;\n",
    "- X360 была официально анонсирована в 2005 году. В 2016 было объявлено о прекращении производства;\n",
    "- PS3 была выпущена в 2006 году. Производство PS3 было прекращено в 2017 году;\n",
    "- Wii появилась в 2006 году. Выпуск Wii был прекращен в 2013 году.\n",
    "\n",
    "Можно сделать вывод, что средняя продолжительность жизни платформы примерно 10 лет."
   ]
  },
  {
   "cell_type": "markdown",
   "metadata": {
    "id": "4ev5uh4uNdig"
   },
   "source": [
    "**Возьмите данные за соответствующий актуальный период. Актуальный период определите самостоятельно в результате исследования предыдущих вопросов. Основной фактор — эти данные помогут построить прогноз на 2017 год.**"
   ]
  },
  {
   "cell_type": "markdown",
   "metadata": {
    "id": "54lQx0P_fdKQ"
   },
   "source": [
    "Посмотрим, какая платформа была наиболее популярна в 2016 году и посмотрим на ее распределение."
   ]
  },
  {
   "cell_type": "code",
   "execution_count": 25,
   "metadata": {
    "colab": {
     "base_uri": "https://localhost:8080/"
    },
    "id": "Q5-C0yy1fjen",
    "outputId": "f5451e89-eec6-47d4-846d-c78e0fa90449"
   },
   "outputs": [
    {
     "data": {
      "text/plain": [
       "platform\n",
       "PS4     69.25\n",
       "XOne    26.15\n",
       "3DS     15.14\n",
       "PC       5.25\n",
       "WiiU     4.60\n",
       "PSV      4.25\n",
       "PS3      3.60\n",
       "X360     1.52\n",
       "Wii      0.18\n",
       "Name: total_sales, dtype: float64"
      ]
     },
     "execution_count": 25,
     "metadata": {},
     "output_type": "execute_result"
    }
   ],
   "source": [
    "df.query('year_of_release == 2016').groupby('platform')['total_sales'].sum().sort_values(ascending=False)"
   ]
  },
  {
   "cell_type": "code",
   "execution_count": 26,
   "metadata": {
    "colab": {
     "base_uri": "https://localhost:8080/",
     "height": 296
    },
    "id": "2YhyM0Cnf20j",
    "outputId": "8bd2a3e5-5148-47fc-f765-a5fff13dc340"
   },
   "outputs": [
    {
     "data": {
      "image/png": "[encoded data removed]",
      "text/plain": [
       "<Figure size 432x288 with 1 Axes>"
      ]
     },
     "metadata": {
      "needs_background": "light"
     },
     "output_type": "display_data"
    }
   ],
   "source": [
    "df[df['platform'] == 'PS4'].groupby('year_of_release')['total_sales'].sum().plot(kind='bar');"
   ]
  },
  {
   "cell_type": "markdown",
   "metadata": {
    "id": "8eA5csiNhGgN"
   },
   "source": [
    "Самой прибыльной платформой в 2016 году была PS4. По распределению видно, что рост продаж произошел в 2014 году. Пик пришелся на 2015.\n",
    "\n",
    "Исходя из этого, возьмем за актуальный период 2013-2016 года."
   ]
  },
  {
   "cell_type": "code",
   "execution_count": 27,
   "metadata": {
    "colab": {
     "base_uri": "https://localhost:8080/",
     "height": 204
    },
    "id": "abdIenC-hlGa",
    "outputId": "14377a96-4692-401c-d0d1-a30d37d0088f"
   },
   "outputs": [
    {
     "data": {
      "text/html": [
       "<div>\n",
       "<style scoped>\n",
       "    .dataframe tbody tr th:only-of-type {\n",
       "        vertical-align: middle;\n",
       "    }\n",
       "\n",
       "    .dataframe tbody tr th {\n",
       "        vertical-align: top;\n",
       "    }\n",
       "\n",
       "    .dataframe thead th {\n",
       "        text-align: right;\n",
       "    }\n",
       "</style>\n",
       "<table border=\"1\" class=\"dataframe\">\n",
       "  <thead>\n",
       "    <tr style=\"text-align: right;\">\n",
       "      <th></th>\n",
       "      <th>name</th>\n",
       "      <th>platform</th>\n",
       "      <th>year_of_release</th>\n",
       "      <th>genre</th>\n",
       "      <th>na_sales</th>\n",
       "      <th>eu_sales</th>\n",
       "      <th>jp_sales</th>\n",
       "      <th>other_sales</th>\n",
       "      <th>critic_score</th>\n",
       "      <th>user_score</th>\n",
       "      <th>rating</th>\n",
       "      <th>total_sales</th>\n",
       "    </tr>\n",
       "  </thead>\n",
       "  <tbody>\n",
       "    <tr>\n",
       "      <th>16</th>\n",
       "      <td>Grand Theft Auto V</td>\n",
       "      <td>PS3</td>\n",
       "      <td>2013</td>\n",
       "      <td>Action</td>\n",
       "      <td>7.02</td>\n",
       "      <td>9.09</td>\n",
       "      <td>0.98</td>\n",
       "      <td>3.96</td>\n",
       "      <td>97.0</td>\n",
       "      <td>8.2</td>\n",
       "      <td>M</td>\n",
       "      <td>21.05</td>\n",
       "    </tr>\n",
       "    <tr>\n",
       "      <th>23</th>\n",
       "      <td>Grand Theft Auto V</td>\n",
       "      <td>X360</td>\n",
       "      <td>2013</td>\n",
       "      <td>Action</td>\n",
       "      <td>9.66</td>\n",
       "      <td>5.14</td>\n",
       "      <td>0.06</td>\n",
       "      <td>1.41</td>\n",
       "      <td>97.0</td>\n",
       "      <td>8.1</td>\n",
       "      <td>M</td>\n",
       "      <td>16.27</td>\n",
       "    </tr>\n",
       "    <tr>\n",
       "      <th>31</th>\n",
       "      <td>Call of Duty: Black Ops 3</td>\n",
       "      <td>PS4</td>\n",
       "      <td>2015</td>\n",
       "      <td>Shooter</td>\n",
       "      <td>6.03</td>\n",
       "      <td>5.86</td>\n",
       "      <td>0.36</td>\n",
       "      <td>2.38</td>\n",
       "      <td>-1.0</td>\n",
       "      <td>-1.0</td>\n",
       "      <td>RP</td>\n",
       "      <td>14.63</td>\n",
       "    </tr>\n",
       "    <tr>\n",
       "      <th>33</th>\n",
       "      <td>Pokemon X/Pokemon Y</td>\n",
       "      <td>3DS</td>\n",
       "      <td>2013</td>\n",
       "      <td>Role-Playing</td>\n",
       "      <td>5.28</td>\n",
       "      <td>4.19</td>\n",
       "      <td>4.35</td>\n",
       "      <td>0.78</td>\n",
       "      <td>-1.0</td>\n",
       "      <td>-1.0</td>\n",
       "      <td>RP</td>\n",
       "      <td>14.60</td>\n",
       "    </tr>\n",
       "    <tr>\n",
       "      <th>42</th>\n",
       "      <td>Grand Theft Auto V</td>\n",
       "      <td>PS4</td>\n",
       "      <td>2014</td>\n",
       "      <td>Action</td>\n",
       "      <td>3.96</td>\n",
       "      <td>6.31</td>\n",
       "      <td>0.38</td>\n",
       "      <td>1.97</td>\n",
       "      <td>97.0</td>\n",
       "      <td>8.3</td>\n",
       "      <td>M</td>\n",
       "      <td>12.62</td>\n",
       "    </tr>\n",
       "  </tbody>\n",
       "</table>\n",
       "</div>"
      ],
      "text/plain": [
       "                         name platform  year_of_release         genre  \\\n",
       "16         Grand Theft Auto V      PS3             2013        Action   \n",
       "23         Grand Theft Auto V     X360             2013        Action   \n",
       "31  Call of Duty: Black Ops 3      PS4             2015       Shooter   \n",
       "33        Pokemon X/Pokemon Y      3DS             2013  Role-Playing   \n",
       "42         Grand Theft Auto V      PS4             2014        Action   \n",
       "\n",
       "    na_sales  eu_sales  jp_sales  other_sales  critic_score  user_score  \\\n",
       "16      7.02      9.09      0.98         3.96          97.0         8.2   \n",
       "23      9.66      5.14      0.06         1.41          97.0         8.1   \n",
       "31      6.03      5.86      0.36         2.38          -1.0        -1.0   \n",
       "33      5.28      4.19      4.35         0.78          -1.0        -1.0   \n",
       "42      3.96      6.31      0.38         1.97          97.0         8.3   \n",
       "\n",
       "   rating  total_sales  \n",
       "16      M        21.05  \n",
       "23      M        16.27  \n",
       "31     RP        14.63  \n",
       "33     RP        14.60  \n",
       "42      M        12.62  "
      ]
     },
     "execution_count": 27,
     "metadata": {},
     "output_type": "execute_result"
    }
   ],
   "source": [
    "#уберу предыдущие годы из датасета\n",
    "df = df.query('year_of_release >= 2013')\n",
    "df.head()"
   ]
  },
  {
   "cell_type": "markdown",
   "metadata": {
    "id": "l45-TBeINlIN"
   },
   "source": [
    "**Какие платформы лидируют по продажам, растут или падают? Выберите несколько потенциально прибыльных платформ.**"
   ]
  },
  {
   "cell_type": "code",
   "execution_count": 28,
   "metadata": {
    "colab": {
     "base_uri": "https://localhost:8080/"
    },
    "id": "SuUmGKY7iFxt",
    "outputId": "08e2e8c1-e72c-43b6-81b1-96be7674745e"
   },
   "outputs": [
    {
     "data": {
      "text/plain": [
       "platform\n",
       "PS4     314.14\n",
       "PS3     181.43\n",
       "XOne    159.32\n",
       "3DS     143.25\n",
       "X360    136.80\n",
       "WiiU     64.63\n",
       "PC       39.43\n",
       "PSV      32.99\n",
       "Wii      13.66\n",
       "PSP       3.50\n",
       "DS        1.54\n",
       "Name: total_sales, dtype: float64"
      ]
     },
     "execution_count": 28,
     "metadata": {},
     "output_type": "execute_result"
    }
   ],
   "source": [
    "#посмотрим, какие платформы лидируют по продажам за актуальный период\n",
    "df.groupby('platform')['total_sales'].sum().sort_values(ascending=False)"
   ]
  },
  {
   "cell_type": "code",
   "execution_count": 29,
   "metadata": {
    "colab": {
     "base_uri": "https://localhost:8080/",
     "height": 366
    },
    "id": "N_Vf7ZIxjpMc",
    "outputId": "6aeb5ade-bf5c-40e2-aef5-228d91bddd18"
   },
   "outputs": [
    {
     "data": {
      "image/png": "[encoded data removed]",
      "text/plain": [
       "<Figure size 720x360 with 1 Axes>"
      ]
     },
     "metadata": {
      "needs_background": "light"
     },
     "output_type": "display_data"
    }
   ],
   "source": [
    "df.groupby(\n",
    "        'platform')['total_sales'].sum().sort_values(\n",
    "            ascending=False).plot(\n",
    "                kind='bar', figsize=(10,5), title='Продажи по платформам');"
   ]
  },
  {
   "cell_type": "markdown",
   "metadata": {
    "id": "O9QbkH_hmOcz"
   },
   "source": [
    "Выделю топ-5 платформ - это PS4, PS3, XOne, 3DS, и X360.\n",
    "\n",
    "Построю график продаж по годам для топ-5 платформ."
   ]
  },
  {
   "cell_type": "code",
   "execution_count": 30,
   "metadata": {
    "colab": {
     "base_uri": "https://localhost:8080/",
     "height": 350
    },
    "id": "lsFeGxf5jwMG",
    "outputId": "6db2443d-cf56-437b-9cc3-43a5723286de"
   },
   "outputs": [
    {
     "data": {
      "image/png": "[encoded data removed]",
      "text/plain": [
       "<Figure size 720x360 with 1 Axes>"
      ]
     },
     "metadata": {
      "needs_background": "light"
     },
     "output_type": "display_data"
    }
   ],
   "source": [
    "platforms = ['PS4', 'PS3', 'XOne', '3DS', 'X360']\n",
    "for i in platforms :\n",
    "    df.query('platform == @i and year_of_release != -1').groupby('year_of_release')['total_sales'].sum().plot(label=i,\n",
    "                                                                                    xlabel='Год',\n",
    "                                                                                    ylabel='Продажи (млн проданных копий)',\n",
    "                                                                                    title='График продаж по годам',\n",
    "                                                                                    figsize=(10,5),\n",
    "                                                                                    legend=True,\n",
    "                                                                                    grid=True)"
   ]
  },
  {
   "cell_type": "markdown",
   "metadata": {
    "id": "YMvInm4t94Vr"
   },
   "source": [
    "Судя по графику, потенциально прибыльными платформами являются PS4 и XOne."
   ]
  },
  {
   "cell_type": "markdown",
   "metadata": {
    "id": "-Y12jLAa_04x"
   },
   "source": [
    "**Постройте график «ящик с усами» по глобальным продажам игр в разбивке по платформам. Опишите результат.**"
   ]
  },
  {
   "cell_type": "code",
   "execution_count": 31,
   "metadata": {},
   "outputs": [
    {
     "data": {
      "image/png": "[encoded data removed]",
      "text/plain": [
       "<Figure size 1080x720 with 1 Axes>"
      ]
     },
     "metadata": {
      "needs_background": "light"
     },
     "output_type": "display_data"
    }
   ],
   "source": [
    "plt.figure(figsize=(15,10))\n",
    "sns.boxplot(\n",
    "    data=df.query(\n",
    "        'platform in [\"PS4\", \"PS3\", \"XOne\", \"3DS\",  \"X360\"]'), y='total_sales', x='platform').set(\n",
    "        title='Глобальные продажи игр по платформам');"
   ]
  },
  {
   "cell_type": "code",
   "execution_count": 32,
   "metadata": {
    "colab": {
     "base_uri": "https://localhost:8080/",
     "height": 350
    },
    "id": "j2OjduKW_qjM",
    "outputId": "159bbbe2-455c-4df0-cfa9-a58c358d0c87",
    "scrolled": true
   },
   "outputs": [
    {
     "data": {
      "image/png": "[encoded data removed]",
      "text/plain": [
       "<Figure size 720x360 with 1 Axes>"
      ]
     },
     "metadata": {
      "needs_background": "light"
     },
     "output_type": "display_data"
    }
   ],
   "source": [
    "plt.figure(figsize=(10,5))\n",
    "sns.boxplot(\n",
    "    data=df.query(\n",
    "        'platform in [\"PS4\", \"PS3\", \"XOne\", \"3DS\",  \"X360\"]'), y ='total_sales', x='platform').set(\n",
    "    ylim=(0, 2), title='Глобальные продажи игр по платформам');"
   ]
  },
  {
   "cell_type": "code",
   "execution_count": 33,
   "metadata": {
    "colab": {
     "base_uri": "https://localhost:8080/",
     "height": 204
    },
    "id": "OXH_ZyMcQ514",
    "outputId": "1fe9bae9-bd66-420a-bd41-5977a361795c"
   },
   "outputs": [
    {
     "data": {
      "text/html": [
       "<div>\n",
       "<style scoped>\n",
       "    .dataframe tbody tr th:only-of-type {\n",
       "        vertical-align: middle;\n",
       "    }\n",
       "\n",
       "    .dataframe tbody tr th {\n",
       "        vertical-align: top;\n",
       "    }\n",
       "\n",
       "    .dataframe thead th {\n",
       "        text-align: right;\n",
       "    }\n",
       "</style>\n",
       "<table border=\"1\" class=\"dataframe\">\n",
       "  <thead>\n",
       "    <tr style=\"text-align: right;\">\n",
       "      <th></th>\n",
       "      <th>name</th>\n",
       "      <th>platform</th>\n",
       "      <th>year_of_release</th>\n",
       "      <th>genre</th>\n",
       "      <th>na_sales</th>\n",
       "      <th>eu_sales</th>\n",
       "      <th>jp_sales</th>\n",
       "      <th>other_sales</th>\n",
       "      <th>critic_score</th>\n",
       "      <th>user_score</th>\n",
       "      <th>rating</th>\n",
       "      <th>total_sales</th>\n",
       "    </tr>\n",
       "  </thead>\n",
       "  <tbody>\n",
       "    <tr>\n",
       "      <th>16</th>\n",
       "      <td>Grand Theft Auto V</td>\n",
       "      <td>PS3</td>\n",
       "      <td>2013</td>\n",
       "      <td>Action</td>\n",
       "      <td>7.02</td>\n",
       "      <td>9.09</td>\n",
       "      <td>0.98</td>\n",
       "      <td>3.96</td>\n",
       "      <td>97.0</td>\n",
       "      <td>8.2</td>\n",
       "      <td>M</td>\n",
       "      <td>21.05</td>\n",
       "    </tr>\n",
       "    <tr>\n",
       "      <th>23</th>\n",
       "      <td>Grand Theft Auto V</td>\n",
       "      <td>X360</td>\n",
       "      <td>2013</td>\n",
       "      <td>Action</td>\n",
       "      <td>9.66</td>\n",
       "      <td>5.14</td>\n",
       "      <td>0.06</td>\n",
       "      <td>1.41</td>\n",
       "      <td>97.0</td>\n",
       "      <td>8.1</td>\n",
       "      <td>M</td>\n",
       "      <td>16.27</td>\n",
       "    </tr>\n",
       "    <tr>\n",
       "      <th>31</th>\n",
       "      <td>Call of Duty: Black Ops 3</td>\n",
       "      <td>PS4</td>\n",
       "      <td>2015</td>\n",
       "      <td>Shooter</td>\n",
       "      <td>6.03</td>\n",
       "      <td>5.86</td>\n",
       "      <td>0.36</td>\n",
       "      <td>2.38</td>\n",
       "      <td>-1.0</td>\n",
       "      <td>-1.0</td>\n",
       "      <td>RP</td>\n",
       "      <td>14.63</td>\n",
       "    </tr>\n",
       "    <tr>\n",
       "      <th>33</th>\n",
       "      <td>Pokemon X/Pokemon Y</td>\n",
       "      <td>3DS</td>\n",
       "      <td>2013</td>\n",
       "      <td>Role-Playing</td>\n",
       "      <td>5.28</td>\n",
       "      <td>4.19</td>\n",
       "      <td>4.35</td>\n",
       "      <td>0.78</td>\n",
       "      <td>-1.0</td>\n",
       "      <td>-1.0</td>\n",
       "      <td>RP</td>\n",
       "      <td>14.60</td>\n",
       "    </tr>\n",
       "    <tr>\n",
       "      <th>42</th>\n",
       "      <td>Grand Theft Auto V</td>\n",
       "      <td>PS4</td>\n",
       "      <td>2014</td>\n",
       "      <td>Action</td>\n",
       "      <td>3.96</td>\n",
       "      <td>6.31</td>\n",
       "      <td>0.38</td>\n",
       "      <td>1.97</td>\n",
       "      <td>97.0</td>\n",
       "      <td>8.3</td>\n",
       "      <td>M</td>\n",
       "      <td>12.62</td>\n",
       "    </tr>\n",
       "  </tbody>\n",
       "</table>\n",
       "</div>"
      ],
      "text/plain": [
       "                         name platform  year_of_release         genre  \\\n",
       "16         Grand Theft Auto V      PS3             2013        Action   \n",
       "23         Grand Theft Auto V     X360             2013        Action   \n",
       "31  Call of Duty: Black Ops 3      PS4             2015       Shooter   \n",
       "33        Pokemon X/Pokemon Y      3DS             2013  Role-Playing   \n",
       "42         Grand Theft Auto V      PS4             2014        Action   \n",
       "\n",
       "    na_sales  eu_sales  jp_sales  other_sales  critic_score  user_score  \\\n",
       "16      7.02      9.09      0.98         3.96          97.0         8.2   \n",
       "23      9.66      5.14      0.06         1.41          97.0         8.1   \n",
       "31      6.03      5.86      0.36         2.38          -1.0        -1.0   \n",
       "33      5.28      4.19      4.35         0.78          -1.0        -1.0   \n",
       "42      3.96      6.31      0.38         1.97          97.0         8.3   \n",
       "\n",
       "   rating  total_sales  \n",
       "16      M        21.05  \n",
       "23      M        16.27  \n",
       "31     RP        14.63  \n",
       "33     RP        14.60  \n",
       "42      M        12.62  "
      ]
     },
     "execution_count": 33,
     "metadata": {},
     "output_type": "execute_result"
    }
   ],
   "source": [
    "df_top5 = df.query('platform in [\"PS4\", \"PS3\", \"XOne\", \"3DS\",  \"X360\"]')\n",
    "df_top5.head()"
   ]
  },
  {
   "cell_type": "code",
   "execution_count": 34,
   "metadata": {
    "colab": {
     "base_uri": "https://localhost:8080/"
    },
    "id": "NAwPzFX7lPGf",
    "outputId": "dfd17200-8ac4-4f99-c0ad-235eae439d31"
   },
   "outputs": [
    {
     "name": "stdout",
     "output_type": "stream",
     "text": [
      "Платформа PS3\n",
      "count    345.000000\n",
      "mean       0.525884\n",
      "std        1.451939\n",
      "min        0.010000\n",
      "25%        0.040000\n",
      "50%        0.150000\n",
      "75%        0.510000\n",
      "max       21.050000\n",
      "Name: total_sales, dtype: float64\n",
      " \n",
      "Платформа X360\n",
      "count    186.000000\n",
      "mean       0.735484\n",
      "std        1.663275\n",
      "min        0.010000\n",
      "25%        0.080000\n",
      "50%        0.265000\n",
      "75%        0.795000\n",
      "max       16.270000\n",
      "Name: total_sales, dtype: float64\n",
      " \n",
      "Платформа PS4\n",
      "count    392.000000\n",
      "mean       0.801378\n",
      "std        1.609456\n",
      "min        0.010000\n",
      "25%        0.060000\n",
      "50%        0.200000\n",
      "75%        0.730000\n",
      "max       14.630000\n",
      "Name: total_sales, dtype: float64\n",
      " \n",
      "Платформа 3DS\n",
      "count    303.000000\n",
      "mean       0.472772\n",
      "std        1.381347\n",
      "min        0.010000\n",
      "25%        0.040000\n",
      "50%        0.090000\n",
      "75%        0.280000\n",
      "max       14.600000\n",
      "Name: total_sales, dtype: float64\n",
      " \n",
      "Платформа XOne\n",
      "count    247.000000\n",
      "mean       0.645020\n",
      "std        1.036139\n",
      "min        0.010000\n",
      "25%        0.060000\n",
      "50%        0.220000\n",
      "75%        0.685000\n",
      "max        7.390000\n",
      "Name: total_sales, dtype: float64\n",
      " \n"
     ]
    }
   ],
   "source": [
    "for platform in df_top5['platform'].unique():\n",
    "    p = df_top5.query('platform == @platform')\n",
    "    print('Платформа', platform)\n",
    "    print(p['total_sales'].describe())\n",
    "    print(' ')"
   ]
  },
  {
   "cell_type": "markdown",
   "metadata": {
    "id": "G1SQ0jYJPeqS"
   },
   "source": [
    "Лидерами по продажам за актуальный период являются платформы X360, PS4 и XOne. Их медиана варьируется в пределах 2 - 2.65 млн проданных копий. Верхняя граница усов находится примерно на отметке 17 млн проданных копий."
   ]
  },
  {
   "cell_type": "markdown",
   "metadata": {
    "id": "RU1TcL_DN-MZ"
   },
   "source": [
    "**Посмотрите, как влияют на продажи внутри одной популярной платформы отзывы пользователей и критиков. Постройте диаграмму рассеяния и посчитайте корреляцию между отзывами и продажами. Сформулируйте выводы.**"
   ]
  },
  {
   "cell_type": "markdown",
   "metadata": {
    "id": "kT0hy-AZuT0w"
   },
   "source": [
    "Возьмем платформу PS4 и посмотрим, как отзывы пользователей и критиков влияют на продажи."
   ]
  },
  {
   "cell_type": "code",
   "execution_count": 35,
   "metadata": {
    "colab": {
     "base_uri": "https://localhost:8080/",
     "height": 550
    },
    "id": "v7kMw5wvvjZh",
    "outputId": "2027a1ef-19f6-4c38-c0b5-00aff6cc4a3e"
   },
   "outputs": [
    {
     "data": {
      "image/png": "[encoded data removed]",
      "text/plain": [
       "<Figure size 540x540 with 12 Axes>"
      ]
     },
     "metadata": {
      "needs_background": "light"
     },
     "output_type": "display_data"
    }
   ],
   "source": [
    "cols = ['total_sales', 'critic_score', 'user_score']\n",
    "sns_plot = sns.pairplot(df_top5.query('platform == \"PS4\" and critic_score != -1 and user_score != -1')[cols])"
   ]
  },
  {
   "cell_type": "code",
   "execution_count": 36,
   "metadata": {
    "colab": {
     "base_uri": "https://localhost:8080/"
    },
    "id": "lpduGVi1vEf3",
    "outputId": "5c503f29-e8f1-46fe-8399-2d2e7af54ca4"
   },
   "outputs": [
    {
     "data": {
      "text/plain": [
       "0.40589480145836687"
      ]
     },
     "execution_count": 36,
     "metadata": {},
     "output_type": "execute_result"
    }
   ],
   "source": [
    "df_top5.query(\n",
    "    'platform == \"PS4\" and critic_score != -1 and user_score != -1')['critic_score'].corr(\n",
    "        df_top5.query('platform == \"PS4\" and critic_score != -1 and user_score != -1')['total_sales'])"
   ]
  },
  {
   "cell_type": "markdown",
   "metadata": {
    "id": "soW2NFCq2M_X"
   },
   "source": [
    "Корреляция в 0.40 говорит о наличии связи, однако не слишком сильной. Выходит, более высокая оценка критиков сопровождается более высокими продажами, но так бывает не всегда."
   ]
  },
  {
   "cell_type": "code",
   "execution_count": 37,
   "metadata": {
    "colab": {
     "base_uri": "https://localhost:8080/"
    },
    "id": "znjGcdrDzery",
    "outputId": "93ada8bf-3011-4a99-d277-f5b2300834ed"
   },
   "outputs": [
    {
     "data": {
      "text/plain": [
       "-0.03362497596528878"
      ]
     },
     "execution_count": 37,
     "metadata": {},
     "output_type": "execute_result"
    }
   ],
   "source": [
    "df_top5.query(\n",
    "    'platform == \"PS4\" and critic_score != -1 and user_score != -1')['user_score'].corr(\n",
    "        df_top5.query('platform == \"PS4\" and critic_score != -1 and user_score != -1')['total_sales'])"
   ]
  },
  {
   "cell_type": "markdown",
   "metadata": {
    "id": "TXCJMmzW1d_0"
   },
   "source": [
    "Отзывы пользователей никак не влияют на продажи (корреляция равна -0.03). "
   ]
  },
  {
   "cell_type": "markdown",
   "metadata": {
    "id": "MaVC0jhA7uLC"
   },
   "source": [
    "**Соотнесите выводы с продажами игр на других платформах.**"
   ]
  },
  {
   "cell_type": "code",
   "execution_count": 38,
   "metadata": {
    "colab": {
     "base_uri": "https://localhost:8080/",
     "height": 550
    },
    "id": "veR1xQCB7x6T",
    "outputId": "a03b220f-841a-48d4-e7af-a49ef6f90e95"
   },
   "outputs": [
    {
     "data": {
      "image/png": "[encoded data removed]",
      "text/plain": [
       "<Figure size 540x540 with 12 Axes>"
      ]
     },
     "metadata": {
      "needs_background": "light"
     },
     "output_type": "display_data"
    }
   ],
   "source": [
    "#посмотрим на взаимосвязь отзывов критиков и пользователей и рост продаж у других платформ\n",
    "cols = ['total_sales', 'critic_score', 'user_score']\n",
    "sns_plot = sns.pairplot(df_top5.query('platform == \"PS3\" and critic_score != -1 and user_score != -1')[cols])"
   ]
  },
  {
   "cell_type": "code",
   "execution_count": 39,
   "metadata": {
    "colab": {
     "base_uri": "https://localhost:8080/"
    },
    "id": "xiouqOb88s7Q",
    "outputId": "2c237a19-a18c-484b-cea3-713a7410e7c7"
   },
   "outputs": [
    {
     "data": {
      "text/plain": [
       "0.33380663565061736"
      ]
     },
     "execution_count": 39,
     "metadata": {},
     "output_type": "execute_result"
    }
   ],
   "source": [
    "df_top5.query(\n",
    "    'platform == \"PS3\" and critic_score != -1 and user_score != -1')['critic_score'].corr(\n",
    "        df_top5.query('platform == \"PS3\" and critic_score != -1 and user_score != -1')['total_sales'])"
   ]
  },
  {
   "cell_type": "code",
   "execution_count": 40,
   "metadata": {
    "colab": {
     "base_uri": "https://localhost:8080/"
    },
    "id": "Xmbx_EZ-86W8",
    "outputId": "fe24f8dc-e827-4965-a5a8-fcc4c2baaed6"
   },
   "outputs": [
    {
     "data": {
      "text/plain": [
       "0.02269094327112414"
      ]
     },
     "execution_count": 40,
     "metadata": {},
     "output_type": "execute_result"
    }
   ],
   "source": [
    "df_top5.query(\n",
    "    'platform == \"PS3\" and critic_score != -1 and user_score != -1')['user_score'].corr(\n",
    "        df_top5.query('platform == \"PS3\" and critic_score != -1 and user_score != -1')['total_sales'])"
   ]
  },
  {
   "cell_type": "code",
   "execution_count": 41,
   "metadata": {
    "colab": {
     "base_uri": "https://localhost:8080/",
     "height": 550
    },
    "id": "Tuo8fTis9HWU",
    "outputId": "1e83ddb1-d547-4918-eb7f-09c5c735a95a"
   },
   "outputs": [
    {
     "data": {
      "image/png": "[encoded data removed]",
      "text/plain": [
       "<Figure size 540x540 with 12 Axes>"
      ]
     },
     "metadata": {
      "needs_background": "light"
     },
     "output_type": "display_data"
    }
   ],
   "source": [
    "cols = ['total_sales', 'critic_score', 'user_score']\n",
    "sns_plot = sns.pairplot(df_top5.query('platform == \"XOne\" and critic_score != -1 and user_score != -1')[cols])"
   ]
  },
  {
   "cell_type": "code",
   "execution_count": 42,
   "metadata": {
    "colab": {
     "base_uri": "https://localhost:8080/"
    },
    "id": "NXMFB59-9ucw",
    "outputId": "8a4fc2de-6dca-42df-c1b5-3dd672cee125"
   },
   "outputs": [
    {
     "data": {
      "text/plain": [
       "0.41042203561296375"
      ]
     },
     "execution_count": 42,
     "metadata": {},
     "output_type": "execute_result"
    }
   ],
   "source": [
    "df_top5.query(\n",
    "    'platform == \"XOne\" and critic_score != -1 and user_score != -1')['critic_score'].corr(\n",
    "        df_top5.query('platform == \"XOne\" and critic_score != -1 and user_score != -1')['total_sales'])"
   ]
  },
  {
   "cell_type": "code",
   "execution_count": 43,
   "metadata": {
    "colab": {
     "base_uri": "https://localhost:8080/"
    },
    "id": "lMXIeJKx91aM",
    "outputId": "36eb8c9a-9ac1-4b0f-b87e-07d164a8556d"
   },
   "outputs": [
    {
     "data": {
      "text/plain": [
       "-0.09400318326920852"
      ]
     },
     "execution_count": 43,
     "metadata": {},
     "output_type": "execute_result"
    }
   ],
   "source": [
    "df_top5.query(\n",
    "    'platform == \"XOne\" and critic_score != -1 and user_score != -1')['user_score'].corr(\n",
    "        df_top5.query('platform == \"XOne\" and critic_score != -1 and user_score != -1')['total_sales'])"
   ]
  },
  {
   "cell_type": "code",
   "execution_count": 44,
   "metadata": {
    "colab": {
     "base_uri": "https://localhost:8080/",
     "height": 550
    },
    "id": "3T_Mm61599J6",
    "outputId": "005d582d-d81c-4a39-8e4c-9d6f6870dbe0"
   },
   "outputs": [
    {
     "data": {
      "image/png": "[encoded data removed]",
      "text/plain": [
       "<Figure size 540x540 with 12 Axes>"
      ]
     },
     "metadata": {
      "needs_background": "light"
     },
     "output_type": "display_data"
    }
   ],
   "source": [
    "cols = ['total_sales', 'critic_score', 'user_score']\n",
    "sns_plot = sns.pairplot(df_top5.query('platform == \"3DS\" and critic_score != -1 and user_score != -1')[cols])"
   ]
  },
  {
   "cell_type": "code",
   "execution_count": 45,
   "metadata": {
    "colab": {
     "base_uri": "https://localhost:8080/"
    },
    "id": "5jng9Ho_-AJ7",
    "outputId": "1f2d6e5f-d31f-4257-c646-c6f04be38eec"
   },
   "outputs": [
    {
     "data": {
      "text/plain": [
       "0.3392349287853147"
      ]
     },
     "execution_count": 45,
     "metadata": {},
     "output_type": "execute_result"
    }
   ],
   "source": [
    "df_top5.query(\n",
    "    'platform == \"3DS\" and critic_score != -1 and user_score != -1')['critic_score'].corr(\n",
    "        df_top5.query('platform == \"3DS\" and critic_score != -1 and user_score != -1')['total_sales'])"
   ]
  },
  {
   "cell_type": "code",
   "execution_count": 46,
   "metadata": {
    "colab": {
     "base_uri": "https://localhost:8080/"
    },
    "id": "hstMjp-2-NVe",
    "outputId": "ff63102a-646e-4625-9051-12ed799ba451"
   },
   "outputs": [
    {
     "data": {
      "text/plain": [
       "0.2729904366942444"
      ]
     },
     "execution_count": 46,
     "metadata": {},
     "output_type": "execute_result"
    }
   ],
   "source": [
    "df_top5.query(\n",
    "    'platform == \"3DS\" and critic_score != -1 and user_score != -1')['user_score'].corr(\n",
    "        df_top5.query('platform == \"3DS\" and critic_score != -1 and user_score != -1')['total_sales'])"
   ]
  },
  {
   "cell_type": "code",
   "execution_count": 47,
   "metadata": {
    "colab": {
     "base_uri": "https://localhost:8080/",
     "height": 550
    },
    "id": "PqnkJA4W-SBO",
    "outputId": "7e9565b7-b936-4953-fa80-c82ed5f916a4"
   },
   "outputs": [
    {
     "data": {
      "image/png": "[encoded data removed]",
      "text/plain": [
       "<Figure size 540x540 with 12 Axes>"
      ]
     },
     "metadata": {
      "needs_background": "light"
     },
     "output_type": "display_data"
    }
   ],
   "source": [
    "cols = ['total_sales', 'critic_score', 'user_score']\n",
    "sns_plot = sns.pairplot(df_top5.query('platform == \"X360\" and critic_score != -1 and user_score != -1')[cols])"
   ]
  },
  {
   "cell_type": "code",
   "execution_count": 48,
   "metadata": {
    "colab": {
     "base_uri": "https://localhost:8080/"
    },
    "id": "2_jvyZzT-Whq",
    "outputId": "ad4ffe11-cf58-499e-9ddb-d51919d163f3"
   },
   "outputs": [
    {
     "data": {
      "text/plain": [
       "0.3503445460228664"
      ]
     },
     "execution_count": 48,
     "metadata": {},
     "output_type": "execute_result"
    }
   ],
   "source": [
    "df_top5.query(\n",
    "    'platform == \"X360\" and critic_score != -1 and user_score != -1')['critic_score'].corr(\n",
    "        df_top5.query('platform == \"X360\" and critic_score != -1 and user_score != -1')['total_sales'])"
   ]
  },
  {
   "cell_type": "code",
   "execution_count": 49,
   "metadata": {
    "colab": {
     "base_uri": "https://localhost:8080/"
    },
    "id": "U774aB_K-c4-",
    "outputId": "121a79f3-f194-4de2-ac22-d3488be90023"
   },
   "outputs": [
    {
     "data": {
      "text/plain": [
       "-0.006238179532306317"
      ]
     },
     "execution_count": 49,
     "metadata": {},
     "output_type": "execute_result"
    }
   ],
   "source": [
    "df_top5.query(\n",
    "    'platform == \"X360\" and critic_score != -1 and user_score != -1')['user_score'].corr(\n",
    "        df_top5.query('platform == \"X360\" and critic_score != -1 and user_score != -1')['total_sales'])"
   ]
  },
  {
   "cell_type": "markdown",
   "metadata": {
    "id": "CnnKkotW-uqH"
   },
   "source": [
    "Видим, что по другим платформам ситуация похожая. Оценка критиков влияет на продажи, но не всегда так происходит. Оценка пользователей никак не влияет на продажи."
   ]
  },
  {
   "cell_type": "markdown",
   "metadata": {
    "id": "yMJYPS-p_cOt"
   },
   "source": [
    "**Посмотрите на общее распределение игр по жанрам. Что можно сказать о самых прибыльных жанрах? Выделяются ли жанры с высокими и низкими продажами?**"
   ]
  },
  {
   "cell_type": "code",
   "execution_count": 50,
   "metadata": {},
   "outputs": [
    {
     "data": {
      "text/plain": [
       "genre\n",
       "Action          321.87\n",
       "Shooter         232.98\n",
       "Sports          150.65\n",
       "Role-Playing    145.89\n",
       "Misc             62.82\n",
       "Platform         42.63\n",
       "Racing           39.89\n",
       "Fighting         35.31\n",
       "Adventure        23.64\n",
       "Simulation       21.76\n",
       "Strategy         10.08\n",
       "Puzzle            3.17\n",
       "Name: total_sales, dtype: float64"
      ]
     },
     "execution_count": 50,
     "metadata": {},
     "output_type": "execute_result"
    }
   ],
   "source": [
    "df_genre = df.groupby(\n",
    "        'genre')['total_sales'].sum().sort_values(\n",
    "            ascending=False)\n",
    "df_genre"
   ]
  },
  {
   "cell_type": "code",
   "execution_count": 51,
   "metadata": {
    "colab": {
     "base_uri": "https://localhost:8080/",
     "height": 401
    },
    "id": "rl_bec-IAq_E",
    "outputId": "c72c4bcf-028b-4c45-bd3e-db141ca396f0"
   },
   "outputs": [
    {
     "data": {
      "image/png": "[encoded data removed]",
      "text/plain": [
       "<Figure size 720x360 with 1 Axes>"
      ]
     },
     "metadata": {
      "needs_background": "light"
     },
     "output_type": "display_data"
    }
   ],
   "source": [
    "#посмотрим на общее распределение\n",
    "df.groupby(\n",
    "        'genre')['total_sales'].sum().sort_values(\n",
    "            ascending=False).plot(\n",
    "                kind='bar', figsize=(10,5), title='Продажи по жанрам');"
   ]
  },
  {
   "cell_type": "markdown",
   "metadata": {
    "id": "xHNrrw3gLM9p"
   },
   "source": [
    "Судя по распределению самым прибыльным является жанр Action. Можно выделить топ-4 жанра: Action, Shooter, Sports и Role-Playing. Остальные жанры сильно уступают по продажам."
   ]
  },
  {
   "cell_type": "code",
   "execution_count": 52,
   "metadata": {},
   "outputs": [
    {
     "data": {
      "image/png": "[encoded data removed]",
      "text/plain": [
       "<Figure size 1080x720 with 1 Axes>"
      ]
     },
     "metadata": {
      "needs_background": "light"
     },
     "output_type": "display_data"
    }
   ],
   "source": [
    "#построим диаграмму размаха и посмотрим на средние и медианные продажи\n",
    "plt.figure(figsize=(15,10))\n",
    "sns.boxplot(\n",
    "    data=df, y ='total_sales', x='genre').set(\n",
    "    ylim=(0, 10), title='Глобальные продажи игр по жанрам');"
   ]
  },
  {
   "cell_type": "code",
   "execution_count": 53,
   "metadata": {},
   "outputs": [
    {
     "name": "stdout",
     "output_type": "stream",
     "text": [
      "Жанр Action\n",
      "count    766.000000\n",
      "mean       0.420196\n",
      "std        1.253909\n",
      "min        0.010000\n",
      "25%        0.030000\n",
      "50%        0.110000\n",
      "75%        0.337500\n",
      "max       21.050000\n",
      "Name: total_sales, dtype: float64\n",
      " \n",
      "Жанр Shooter\n",
      "count    187.000000\n",
      "mean       1.245882\n",
      "std        2.014107\n",
      "min        0.010000\n",
      "25%        0.140000\n",
      "50%        0.450000\n",
      "75%        1.425000\n",
      "max       14.630000\n",
      "Name: total_sales, dtype: float64\n",
      " \n",
      "Жанр Role-Playing\n",
      "count    292.000000\n",
      "mean       0.499623\n",
      "std        1.353164\n",
      "min        0.010000\n",
      "25%        0.060000\n",
      "50%        0.125000\n",
      "75%        0.382500\n",
      "max       14.600000\n",
      "Name: total_sales, dtype: float64\n",
      " \n",
      "Жанр Misc\n",
      "count    155.000000\n",
      "mean       0.405290\n",
      "std        1.007985\n",
      "min        0.010000\n",
      "25%        0.030000\n",
      "50%        0.100000\n",
      "75%        0.330000\n",
      "max        9.180000\n",
      "Name: total_sales, dtype: float64\n",
      " \n",
      "Жанр Sports\n",
      "count    214.000000\n",
      "mean       0.703972\n",
      "std        1.219237\n",
      "min        0.010000\n",
      "25%        0.070000\n",
      "50%        0.240000\n",
      "75%        0.765000\n",
      "max        8.580000\n",
      "Name: total_sales, dtype: float64\n",
      " \n",
      "Жанр Fighting\n",
      "count    80.000000\n",
      "mean      0.441375\n",
      "std       1.048883\n",
      "min       0.010000\n",
      "25%       0.060000\n",
      "50%       0.125000\n",
      "75%       0.322500\n",
      "max       7.550000\n",
      "Name: total_sales, dtype: float64\n",
      " \n",
      "Жанр Racing\n",
      "count    85.000000\n",
      "mean      0.469294\n",
      "std       0.964101\n",
      "min       0.010000\n",
      "25%       0.050000\n",
      "50%       0.120000\n",
      "75%       0.380000\n",
      "max       7.090000\n",
      "Name: total_sales, dtype: float64\n",
      " \n",
      "Жанр Simulation\n",
      "count    62.000000\n",
      "mean      0.350968\n",
      "std       0.849163\n",
      "min       0.010000\n",
      "25%       0.030000\n",
      "50%       0.100000\n",
      "75%       0.295000\n",
      "max       5.220000\n",
      "Name: total_sales, dtype: float64\n",
      " \n",
      "Жанр Platform\n",
      "count    74.000000\n",
      "mean      0.576081\n",
      "std       0.806808\n",
      "min       0.010000\n",
      "25%       0.090000\n",
      "50%       0.225000\n",
      "75%       0.627500\n",
      "max       4.320000\n",
      "Name: total_sales, dtype: float64\n",
      " \n",
      "Жанр Strategy\n",
      "count    56.000000\n",
      "mean      0.180000\n",
      "std       0.279441\n",
      "min       0.010000\n",
      "25%       0.040000\n",
      "50%       0.080000\n",
      "75%       0.232500\n",
      "max       1.670000\n",
      "Name: total_sales, dtype: float64\n",
      " \n",
      "Жанр Adventure\n",
      "count    245.000000\n",
      "mean       0.096490\n",
      "std        0.216445\n",
      "min        0.010000\n",
      "25%        0.020000\n",
      "50%        0.030000\n",
      "75%        0.070000\n",
      "max        1.660000\n",
      "Name: total_sales, dtype: float64\n",
      " \n",
      "Жанр Puzzle\n",
      "count    17.000000\n",
      "mean      0.186471\n",
      "std       0.325172\n",
      "min       0.010000\n",
      "25%       0.020000\n",
      "50%       0.060000\n",
      "75%       0.110000\n",
      "max       1.190000\n",
      "Name: total_sales, dtype: float64\n",
      " \n"
     ]
    }
   ],
   "source": [
    "for genre in df['genre'].unique():\n",
    "    p = df.query('genre == @genre')\n",
    "    print('Жанр', genre)\n",
    "    print(p['total_sales'].describe())\n",
    "    print(' ')"
   ]
  },
  {
   "cell_type": "markdown",
   "metadata": {},
   "source": [
    "- По средним продажам лидирует жанр Shooter. На втором и третьем месте - Sports и Platform.\n",
    "- Самыми непопулярными жанрами являются Adventure, Simulation, Strategy и Puzzle."
   ]
  },
  {
   "cell_type": "markdown",
   "metadata": {
    "id": "UIgm_US0O0v0"
   },
   "source": [
    "# Составьте портрет пользователя каждого региона"
   ]
  },
  {
   "cell_type": "markdown",
   "metadata": {
    "id": "jljA1d1rO7BZ"
   },
   "source": [
    "Определите для пользователя каждого региона (NA, EU, JP):\n",
    "\n",
    "*   Самые популярные платформы (топ-5). Опишите различия в долях продаж.\n",
    "*   Самые популярные жанры (топ-5). Поясните разницу.\n",
    "*   Влияет ли рейтинг ESRB на продажи в отдельном регионе?"
   ]
  },
  {
   "cell_type": "code",
   "execution_count": 54,
   "metadata": {
    "id": "vgzVNKxJf-ho"
   },
   "outputs": [],
   "source": [
    "#сохраню топ-5 платформ по регионам в отдельные переменные\n",
    "na = df.groupby('platform')['na_sales'].sum().sort_values(ascending=False).reset_index().head(5)\n",
    "eu = df.groupby('platform')['eu_sales'].sum().sort_values(ascending=False).reset_index().head(5)\n",
    "jp = df.groupby('platform')['jp_sales'].sum().sort_values(ascending=False).reset_index().head(5)"
   ]
  },
  {
   "cell_type": "code",
   "execution_count": 55,
   "metadata": {
    "colab": {
     "base_uri": "https://localhost:8080/",
     "height": 248
    },
    "id": "e6jFyuJ9p8vh",
    "outputId": "de6f1d0d-94d5-40a9-ba53-bec2f747c8e0"
   },
   "outputs": [
    {
     "data": {
      "image/png": "[encoded data removed]",
      "text/plain": [
       "<Figure size 432x288 with 1 Axes>"
      ]
     },
     "metadata": {},
     "output_type": "display_data"
    }
   ],
   "source": [
    "#построю круговые диаграммы для каждого региона\n",
    "fig, ax = plt.subplots()\n",
    "ax.pie(na.na_sales, labels=na.platform, autopct='%1.1f%%')\n",
    "ax.axis(\"equal\");"
   ]
  },
  {
   "cell_type": "code",
   "execution_count": 56,
   "metadata": {
    "colab": {
     "base_uri": "https://localhost:8080/",
     "height": 248
    },
    "id": "mNaiNDj0iTXz",
    "outputId": "73484adb-acd1-4a76-b8e9-2afc8cf3e882"
   },
   "outputs": [
    {
     "data": {
      "image/png": "[encoded data removed]",
      "text/plain": [
       "<Figure size 432x288 with 1 Axes>"
      ]
     },
     "metadata": {},
     "output_type": "display_data"
    }
   ],
   "source": [
    "fig, ax = plt.subplots()\n",
    "ax.pie(eu.eu_sales, labels=eu.platform, autopct='%1.1f%%')\n",
    "ax.axis(\"equal\");"
   ]
  },
  {
   "cell_type": "code",
   "execution_count": 57,
   "metadata": {
    "colab": {
     "base_uri": "https://localhost:8080/",
     "height": 257
    },
    "id": "FGj7VVYWBvbx",
    "outputId": "6deeb21d-877a-4260-82e0-bf415c01d80b"
   },
   "outputs": [
    {
     "data": {
      "image/png": "[encoded data removed]",
      "text/plain": [
       "<Figure size 432x288 with 1 Axes>"
      ]
     },
     "metadata": {},
     "output_type": "display_data"
    }
   ],
   "source": [
    "fig, ax = plt.subplots()\n",
    "ax.pie(jp.jp_sales, labels=jp.platform, autopct='%1.1f%%')\n",
    "ax.axis(\"equal\");"
   ]
  },
  {
   "cell_type": "markdown",
   "metadata": {
    "id": "GRIOkV1HCc1J"
   },
   "source": [
    "- в топ-5 по Северной Америке попали платформы PS4(28,2%), XOne(24,2%), X360(21,2%), PS3(16,5%) и 3DS(9,9%);\n",
    "- в топ-5 по Европе попали платформы PS4(42,2%), PS3(20,3%), XOne(15,4%), X360(12,7%) и 3DS(9,3%);\n",
    "- в топ-5 по Японии попали платформы 3DS(49,6%), PS3(17,1%), PSV(13,6%), PS4(11,7%) и WiiU(8,0%);\n"
   ]
  },
  {
   "cell_type": "code",
   "execution_count": 58,
   "metadata": {
    "id": "5qvT8Bp-D3qX"
   },
   "outputs": [],
   "source": [
    "#теперь посмотрим на топ-5 жанров по регионам\n",
    "na_genre = df.groupby('genre')['na_sales'].sum().sort_values(ascending=False).reset_index().head(5)\n",
    "eu_genre = df.groupby('genre')['eu_sales'].sum().sort_values(ascending=False).reset_index().head(5)\n",
    "jp_genre = df.groupby('genre')['jp_sales'].sum().sort_values(ascending=False).reset_index().head(5)"
   ]
  },
  {
   "cell_type": "code",
   "execution_count": 59,
   "metadata": {
    "colab": {
     "base_uri": "https://localhost:8080/",
     "height": 249
    },
    "id": "i5mE9MPoEQh0",
    "outputId": "d6ef5b5c-4303-4ece-c5fe-2c5bed88ee02"
   },
   "outputs": [
    {
     "data": {
      "image/png": "[encoded data removed]",
      "text/plain": [
       "<Figure size 432x288 with 1 Axes>"
      ]
     },
     "metadata": {},
     "output_type": "display_data"
    }
   ],
   "source": [
    "#так же построю круговые диаграммы для каждого региона\n",
    "fig, ax = plt.subplots()\n",
    "ax.pie(na_genre.na_sales, labels=na_genre.genre, autopct='%1.1f%%')\n",
    "ax.axis(\"equal\");"
   ]
  },
  {
   "cell_type": "code",
   "execution_count": 60,
   "metadata": {
    "colab": {
     "base_uri": "https://localhost:8080/",
     "height": 251
    },
    "id": "sOHI6J15EfV9",
    "outputId": "a085f513-54cf-43ea-a1a2-d8cd58c77584"
   },
   "outputs": [
    {
     "data": {
      "image/png": "[encoded data removed]",
      "text/plain": [
       "<Figure size 432x288 with 1 Axes>"
      ]
     },
     "metadata": {},
     "output_type": "display_data"
    }
   ],
   "source": [
    "fig, ax = plt.subplots()\n",
    "ax.pie(eu_genre.eu_sales, labels=eu_genre.genre, autopct='%1.1f%%')\n",
    "ax.axis(\"equal\");"
   ]
  },
  {
   "cell_type": "code",
   "execution_count": 61,
   "metadata": {
    "colab": {
     "base_uri": "https://localhost:8080/",
     "height": 249
    },
    "id": "puyiORkbEuSe",
    "outputId": "6bd478a1-1c55-41ce-83ed-248997510f20"
   },
   "outputs": [
    {
     "data": {
      "image/png": "[encoded data removed]",
      "text/plain": [
       "<Figure size 432x288 with 1 Axes>"
      ]
     },
     "metadata": {},
     "output_type": "display_data"
    }
   ],
   "source": [
    "fig, ax = plt.subplots()\n",
    "ax.pie(jp_genre.jp_sales, labels=jp_genre.genre, autopct='%1.1f%%')\n",
    "ax.axis(\"equal\");"
   ]
  },
  {
   "cell_type": "markdown",
   "metadata": {
    "id": "2B40x2QqE51C"
   },
   "source": [
    "- в Северной Америке доминируют Action(33,6%), Shooter(29,3%), Sports(17,4%), Role-Playing(12,4%) и Misc(7,3%);\n",
    "- в Европе доминируют Action(36,5%), Shooter(27,1%), Sports(18,7%), Role-Playing(11,4%) и Racing(6,2%);\n",
    "- в Японии доминируют Role-Playing(44,4%), Action(35,2%), Misc(8,0%), Fighting(6,7%) и Shooter(5,7%);"
   ]
  },
  {
   "cell_type": "code",
   "execution_count": 62,
   "metadata": {
    "id": "mCZUO8SAF9uJ"
   },
   "outputs": [],
   "source": [
    "#теперь посмотрим влияет ли рейтинг ESRB на продажи в отдельном регионе\n",
    "na_rating = df.groupby('rating')['na_sales'].sum().sort_values(ascending=False).reset_index().head(5)\n",
    "eu_rating = df.groupby('rating')['eu_sales'].sum().sort_values(ascending=False).reset_index().head(5)\n",
    "jp_rating = df.groupby('rating')['jp_sales'].sum().sort_values(ascending=False).reset_index().head(5)"
   ]
  },
  {
   "cell_type": "code",
   "execution_count": 63,
   "metadata": {
    "colab": {
     "base_uri": "https://localhost:8080/",
     "height": 295
    },
    "id": "VsqGL0nGHrrb",
    "outputId": "ead9c665-a6ea-4e60-d220-c3c4762fa0fc"
   },
   "outputs": [
    {
     "data": {
      "image/png": "[encoded data removed]",
      "text/plain": [
       "<Figure size 432x288 with 1 Axes>"
      ]
     },
     "metadata": {
      "needs_background": "light"
     },
     "output_type": "display_data"
    }
   ],
   "source": [
    "x = na_rating.rating\n",
    "y = na_rating.na_sales\n",
    "\n",
    "sns.barplot(x=y, y=x)\n",
    "plt.title('Продажи в Северной Америке')\n",
    "plt.ylabel(\"рейтинг\")\n",
    "plt.xlabel('продажи млн, $');"
   ]
  },
  {
   "cell_type": "markdown",
   "metadata": {
    "id": "pY3i-YNTIK7F"
   },
   "source": [
    "В Северной Америке больше всего продаж игр с рейтингом «M» («Mature») — «Для взрослых», далее следуют рейтинг «RP» («Rating Pending») — «Рейтинг ожидается», «E» («Everyone») — «Для всех», «E10+» («Everyone 10 and older») — «Для всех от 10 лет и старше» и «T» («Teen») — «Подросткам». "
   ]
  },
  {
   "cell_type": "code",
   "execution_count": 64,
   "metadata": {
    "colab": {
     "base_uri": "https://localhost:8080/",
     "height": 295
    },
    "id": "YK7FaZQtHv5J",
    "outputId": "dece88cb-23b2-4c53-fa93-e60ed073696a"
   },
   "outputs": [
    {
     "data": {
      "image/png": "[encoded data removed]",
      "text/plain": [
       "<Figure size 432x288 with 1 Axes>"
      ]
     },
     "metadata": {
      "needs_background": "light"
     },
     "output_type": "display_data"
    }
   ],
   "source": [
    "x = eu_rating.rating\n",
    "y = eu_rating.eu_sales\n",
    "\n",
    "sns.barplot(x=y, y=x)\n",
    "plt.title('Продажи в Европе')\n",
    "plt.ylabel(\"рейтинг\")\n",
    "plt.xlabel('продажи млн, $');"
   ]
  },
  {
   "cell_type": "markdown",
   "metadata": {
    "id": "3O1UyggZJuF6"
   },
   "source": [
    "В Европе ситуация с продажами по рейтингу игр очень похожа на Северную Америку с одним небольшим исключением - на втором месте стоит рейтинг «E» («Everyone») — «Для всех», а на третьем - «RP» («Rating Pending») — «Рейтинг ожидается»."
   ]
  },
  {
   "cell_type": "code",
   "execution_count": 65,
   "metadata": {
    "colab": {
     "base_uri": "https://localhost:8080/",
     "height": 295
    },
    "id": "fQUptiumH_qz",
    "outputId": "f5a410b4-05f1-4255-b4cd-ccd33fc4f13b"
   },
   "outputs": [
    {
     "data": {
      "image/png": "[encoded data removed]",
      "text/plain": [
       "<Figure size 432x288 with 1 Axes>"
      ]
     },
     "metadata": {
      "needs_background": "light"
     },
     "output_type": "display_data"
    }
   ],
   "source": [
    "x = jp_rating.rating\n",
    "y = jp_rating.jp_sales\n",
    "\n",
    "sns.barplot(x=y, y=x)\n",
    "plt.title('Продажи в Японии')\n",
    "plt.ylabel(\"рейтинг\")\n",
    "plt.xlabel('продажи млн, $');"
   ]
  },
  {
   "cell_type": "markdown",
   "metadata": {
    "id": "O41jaX9-KbxX"
   },
   "source": [
    "А вот в Японии с явным преимуществом лидируют игры с рейтингом «RP» («Rating Pending») — «Рейтинг ожидается». Далее следуют рйтинги «T» («Teen») — «Подросткам», «E» («Everyone») — «Для всех», «M» («Mature») — «Для взрослых» и «E10+» («Everyone 10 and older») — «Для всех от 10 лет и старше»."
   ]
  },
  {
   "cell_type": "markdown",
   "metadata": {
    "id": "HEC14r-UmK2Y"
   },
   "source": [
    "- В Америке и Европе портрет пользователя выглядит следующим образом - это взрослые люди старше 18 лет, которые чаще всего играют в Action и Shooter на консоли PS4.\n",
    "\n",
    "- В Японии картина отличается - пользователи - подростки, которые чаще играют в Role-Playing и Action на консоли 3DS.\n",
    "Так как в Японии лидирует рейтинг RP, можно предположить, что пользователи чаще выбирают новинки, которые еще не получили рйтинг ESRB."
   ]
  },
  {
   "cell_type": "markdown",
   "metadata": {
    "id": "jRpppZ6imZsa"
   },
   "source": [
    "# Проверка гипотез"
   ]
  },
  {
   "cell_type": "markdown",
   "metadata": {
    "id": "DpSbjCvEmhEh"
   },
   "source": [
    "- H0 - Средние пользовательские рейтинги платформ Xbox One и PC одинаковые\n",
    "- H1 - Средние пользовательские рейтинги платформ Xbox One и PC разные\n",
    "- 𝛼=5%"
   ]
  },
  {
   "cell_type": "code",
   "execution_count": 66,
   "metadata": {
    "colab": {
     "base_uri": "https://localhost:8080/"
    },
    "id": "SqmipRYLv6Q4",
    "outputId": "d5980bfe-3537-47f0-dc93-2c277211044c",
    "scrolled": true
   },
   "outputs": [
    {
     "name": "stdout",
     "output_type": "stream",
     "text": [
      "p-значение: 0.14759594013430463\n",
      "Не получилось отвергнуть нулевую гипотезу\n"
     ]
    }
   ],
   "source": [
    "XOne = df.query('platform == \"XOne\" and user_score != -1')['user_score']\n",
    "PC = df.query('platform == \"PC\" and user_score != -1')['user_score']\n",
    "\n",
    "alpha = .05\n",
    "\n",
    "results = st.ttest_ind(\n",
    "    XOne, \n",
    "    PC,\n",
    "    equal_var = False)\n",
    "\n",
    "print('p-значение:', results.pvalue)\n",
    "\n",
    "if results.pvalue < alpha:\n",
    "    print(\"Отвергаем нулевую гипотезу\")\n",
    "else:\n",
    "    print(\"Не получилось отвергнуть нулевую гипотезу\")"
   ]
  },
  {
   "cell_type": "markdown",
   "metadata": {},
   "source": [
    "Значение p-value показывает: вероятность случайно получить такое или большее различие равно почти 15%. Это явно слишком большая вероятность, чтобы делать вывод о значимом различии между средними пользовательскими рейтингами."
   ]
  },
  {
   "cell_type": "code",
   "execution_count": 67,
   "metadata": {
    "colab": {
     "base_uri": "https://localhost:8080/"
    },
    "id": "3SEJuCLhxJsv",
    "outputId": "1d78fe75-714b-489c-929b-65685e69b11f"
   },
   "outputs": [
    {
     "data": {
      "text/plain": [
       "6.521428571428572"
      ]
     },
     "execution_count": 67,
     "metadata": {},
     "output_type": "execute_result"
    }
   ],
   "source": [
    "#посмотрим на средний пользовательский рейтинг\n",
    "XOne.mean()"
   ]
  },
  {
   "cell_type": "code",
   "execution_count": 68,
   "metadata": {
    "colab": {
     "base_uri": "https://localhost:8080/"
    },
    "id": "OEJlQ2Spy3tZ",
    "outputId": "de1d7df7-12a1-4c9a-bfa6-5d67fdf981ea"
   },
   "outputs": [
    {
     "data": {
      "text/plain": [
       "6.2696774193548395"
      ]
     },
     "execution_count": 68,
     "metadata": {},
     "output_type": "execute_result"
    }
   ],
   "source": [
    "PC.mean()"
   ]
  },
  {
   "cell_type": "markdown",
   "metadata": {
    "id": "EM6ILhW-2vrk"
   },
   "source": [
    "Действительно, видим, что средний пользовательский рейтинг по консоли XOne не сильно отличается от среднего рейтинга по консоли PC."
   ]
  },
  {
   "cell_type": "markdown",
   "metadata": {
    "id": "A4EMgF3fzRtC"
   },
   "source": [
    "- H0 - Средние пользовательские рейтинги жанров Action и Sports одинаковые\n",
    "- H1 - Средние пользовательские рейтинги жанров Action и Sports разные\n",
    "- 𝛼=5%"
   ]
  },
  {
   "cell_type": "code",
   "execution_count": 69,
   "metadata": {
    "colab": {
     "base_uri": "https://localhost:8080/"
    },
    "id": "-Vc0scqLzhbj",
    "outputId": "f844b938-1016-4803-d2e8-02fd33675f6d"
   },
   "outputs": [
    {
     "name": "stdout",
     "output_type": "stream",
     "text": [
      "p-значение: 1.4460039700704315e-20\n",
      "Отвергаем нулевую гипотезу\n"
     ]
    }
   ],
   "source": [
    "action = df.query('genre == \"Action\" and user_score != -1')['user_score']\n",
    "sports = df.query('genre == \"Sports\" and user_score != -1')['user_score']\n",
    "\n",
    "alpha = .05\n",
    "\n",
    "results = st.ttest_ind(\n",
    "    action, \n",
    "    sports,\n",
    "    equal_var = False)\n",
    "\n",
    "print('p-значение:', results.pvalue)\n",
    "\n",
    "if results.pvalue < alpha:\n",
    "    print(\"Отвергаем нулевую гипотезу\")\n",
    "else:\n",
    "    print(\"Не получилось отвергнуть нулевую гипотезу\")"
   ]
  },
  {
   "cell_type": "code",
   "execution_count": 70,
   "metadata": {
    "colab": {
     "base_uri": "https://localhost:8080/"
    },
    "id": "TsndiDc-z-nB",
    "outputId": "8eea59b3-1a8e-499c-9d0a-b8ff19fee954"
   },
   "outputs": [
    {
     "data": {
      "text/plain": [
       "6.837532133676092"
      ]
     },
     "execution_count": 70,
     "metadata": {},
     "output_type": "execute_result"
    }
   ],
   "source": [
    "#посмотрим на средний пользовательский рейтинг\n",
    "action.mean()"
   ]
  },
  {
   "cell_type": "code",
   "execution_count": 71,
   "metadata": {
    "colab": {
     "base_uri": "https://localhost:8080/"
    },
    "id": "QZFmEC4t0XOo",
    "outputId": "0f2a9907-8ef0-4b27-b155-cba0133ce7df"
   },
   "outputs": [
    {
     "data": {
      "text/plain": [
       "5.238124999999999"
      ]
     },
     "execution_count": 71,
     "metadata": {},
     "output_type": "execute_result"
    }
   ],
   "source": [
    "#посмотрим на средний пользовательский рейтинг\n",
    "sports.mean()"
   ]
  },
  {
   "cell_type": "markdown",
   "metadata": {
    "id": "tspurtZn3a-G"
   },
   "source": [
    "Средний пользовательский рейтинг у жанра Action выше, чем у жанра Sports."
   ]
  },
  {
   "cell_type": "markdown",
   "metadata": {
    "id": "10J6h6P638u_"
   },
   "source": [
    "# Общий вывод"
   ]
  },
  {
   "cell_type": "markdown",
   "metadata": {
    "id": "bsAYtfaU4LQQ"
   },
   "source": [
    "1. Были изучены данные о продажах игр, оценки пользователей и экспертов, жанры и платформы. В ходе подготовки данных были исправлены ошибки:\n",
    "- заменила названия столбцов (привела к нижнему регистру);\n",
    "- в столбцах year_of_release и user_score преобразовала данные в нужные типы;\n",
    "- удалила строки без названия игр и жанров и без года выпуска;\n",
    "- в остальных столбцах заменила пропуски на нереальные значения, чтобы была возможность в дальнейшем фильтровать их;\n",
    "- посчитала суммарные продажи во всех регионах и записала их в отдельный столбец.\n",
    "2. Провела исследовательский анализ, в ходе которого было выявлено:\n",
    "- С 1980 по 1993 годы игр выпускалось очень мало. Начиная с 1994 года видим рост выпуска игра. Пик приходится на 2008-2009 годы. После 2009 года начинается падение. Резкое падение выпуска игр видим после 2011 года.\n",
    "- Проанализировала, как менялись продажи по платформам. Выделила топ-6 платформ с наибольшими суммарными продажами - PS2, X360, PS3, Wii, DS и PS. С помощью графика определила примерную продолжительность каждой платформы - 10 лет.\n",
    "- На основании исследования определила актуальный период 2013-2016 год.\n",
    "- Выделила топ-5 платформ за актуальный период - PS4, PS3, XOne, 3DS, и X360. К потенциально прибыльным отнесла PS4 и XOne.\n",
    "- По результатам диаграммы размаха выделила тройку лидеров X360, PS4 и XOne по средней и медианной продажам.\n",
    "- Изучила, как влияют на продажи внутри одной популярной платформы (PS4) отзывы пользователей и критиков. Посчитала корреляцию. Корреляция в 0.40 говорит о наличии связи, однако не слишком сильной. Выходит, более высокая оценка критиков сопровождается более высокими продажами, но так бывает не всегда. Отзывы пользователей никак не влияют на продажи (корреляция равна -0.03).\n",
    "- Соотнесла выводы с продажами игр на других платформах и сделала вывод, что по другим платформам ситуация похожая. Оценка критиков влияет на продажи, но не всегда так происходит. Оценка пользователей никак не влияет на продажи.\n",
    "- На основании общего распределения игр по жанрам выделила четверку лидеров - Action, Shooter, Sports и Role-Playing. По средним и медианным продажам лидируют Shooter, Sports и Platform. Самыми непопулярными жанрами являются Adventure, Simulation, Strategy и Puzzle.\n",
    "3. Составила портрет пользователя для каждого региорна:\n",
    "- В разбивке по регионам я бы объединила пользователей из Северной Америки и Европы, т.к. пользователи этих регионов имеют похожие предпочтения.\n",
    "- В Северной Америке и Европе лидирую игры для взрослых старше 18 лет на платформе PS4. Любимыми жанрами являются Action и Shooter.\n",
    "- В Японии дела обстоят по-другому: пользователи - чаще всего подростки, которые выбирают Role-Playing и Action. Самая популярная платформа в Японии - 3DS.\n",
    "- Также в Японии была выявлена популярность игр с рейтингом RP (рейтинг ожидается). Возможно пользователи этого региона чаще пробуют новинки рынка.\n",
    "4. Проверила гипотезы:\n",
    "- Средние пользовательские рейтинги платформ Xbox One и PC одинаковые. Гипотеза подтвердилась. Действительно, средний пользовательский рейтинг по консоли XOne не сильно отличается от среднего рейтинга по консоли PC.\n",
    "- Средние пользовательские рейтинги жанров Action и Sports одинаковые. Гипотеза не подтвердилась. Средний пользовательский рейтинг у жанра Action выше, чем у жанра Sports.\n",
    "5. Рекомендации:\n",
    "- Для Северной Америки и Европы делать ставку на игры для взрослых (18+) в жанре Action, Shooter, Sports на платформах PS4 и XOne.\n",
    "- Для Японии выпускать игры преимущественно для подростков на платформе 3DS. Делать упор на жанры Action и Role-Playing.\n",
    "- Не брать во внимание отзывы пользователей, они никак не влияют на продажи игр. А вот на отзывы критиков, напротив, стоит учесть."
   ]
  },
  {
   "cell_type": "code",
   "execution_count": null,
   "metadata": {},
   "outputs": [],
   "source": []
  },
  {
   "cell_type": "code",
   "execution_count": null,
   "metadata": {},
   "outputs": [],
   "source": []
  },
  {
   "cell_type": "code",
   "execution_count": null,
   "metadata": {},
   "outputs": [],
   "source": []
  },
  {
   "cell_type": "code",
   "execution_count": null,
   "metadata": {},
   "outputs": [],
   "source": []
  }
 ],
 "metadata": {
  "ExecuteTimeLog": [
   {
    "duration": 711,
    "start_time": "2022-06-19T14:14:31.320Z"
   },
   {
    "duration": 1301,
    "start_time": "2022-06-19T14:14:32.036Z"
   },
   {
    "duration": 122,
    "start_time": "2022-06-19T14:14:33.340Z"
   },
   {
    "duration": 0,
    "start_time": "2022-06-19T14:14:33.466Z"
   },
   {
    "duration": 1,
    "start_time": "2022-06-19T14:14:33.467Z"
   },
   {
    "duration": 0,
    "start_time": "2022-06-19T14:14:33.469Z"
   },
   {
    "duration": 0,
    "start_time": "2022-06-19T14:14:33.470Z"
   },
   {
    "duration": 0,
    "start_time": "2022-06-19T14:14:33.472Z"
   },
   {
    "duration": 0,
    "start_time": "2022-06-19T14:14:33.473Z"
   },
   {
    "duration": 0,
    "start_time": "2022-06-19T14:14:33.475Z"
   },
   {
    "duration": 0,
    "start_time": "2022-06-19T14:14:33.476Z"
   },
   {
    "duration": 0,
    "start_time": "2022-06-19T14:14:33.477Z"
   },
   {
    "duration": 0,
    "start_time": "2022-06-19T14:14:33.479Z"
   },
   {
    "duration": 0,
    "start_time": "2022-06-19T14:14:33.480Z"
   },
   {
    "duration": 0,
    "start_time": "2022-06-19T14:14:33.483Z"
   },
   {
    "duration": 0,
    "start_time": "2022-06-19T14:14:33.484Z"
   },
   {
    "duration": 0,
    "start_time": "2022-06-19T14:14:33.485Z"
   },
   {
    "duration": 0,
    "start_time": "2022-06-19T14:14:33.487Z"
   },
   {
    "duration": 0,
    "start_time": "2022-06-19T14:14:33.523Z"
   },
   {
    "duration": 0,
    "start_time": "2022-06-19T14:14:33.524Z"
   },
   {
    "duration": 0,
    "start_time": "2022-06-19T14:14:33.529Z"
   },
   {
    "duration": 0,
    "start_time": "2022-06-19T14:14:33.530Z"
   },
   {
    "duration": 0,
    "start_time": "2022-06-19T14:14:33.530Z"
   },
   {
    "duration": 0,
    "start_time": "2022-06-19T14:14:33.532Z"
   },
   {
    "duration": 0,
    "start_time": "2022-06-19T14:14:33.533Z"
   },
   {
    "duration": 0,
    "start_time": "2022-06-19T14:14:33.534Z"
   },
   {
    "duration": 0,
    "start_time": "2022-06-19T14:14:33.535Z"
   },
   {
    "duration": 0,
    "start_time": "2022-06-19T14:14:33.536Z"
   },
   {
    "duration": 0,
    "start_time": "2022-06-19T14:14:33.537Z"
   },
   {
    "duration": 1,
    "start_time": "2022-06-19T14:14:33.537Z"
   },
   {
    "duration": 0,
    "start_time": "2022-06-19T14:14:33.538Z"
   },
   {
    "duration": 0,
    "start_time": "2022-06-19T14:14:33.539Z"
   },
   {
    "duration": 0,
    "start_time": "2022-06-19T14:14:33.540Z"
   },
   {
    "duration": 0,
    "start_time": "2022-06-19T14:14:33.541Z"
   },
   {
    "duration": 0,
    "start_time": "2022-06-19T14:14:33.542Z"
   },
   {
    "duration": 0,
    "start_time": "2022-06-19T14:14:33.543Z"
   },
   {
    "duration": 0,
    "start_time": "2022-06-19T14:14:33.544Z"
   },
   {
    "duration": 0,
    "start_time": "2022-06-19T14:14:33.545Z"
   },
   {
    "duration": 0,
    "start_time": "2022-06-19T14:14:33.545Z"
   },
   {
    "duration": 0,
    "start_time": "2022-06-19T14:14:33.546Z"
   },
   {
    "duration": 0,
    "start_time": "2022-06-19T14:14:33.547Z"
   },
   {
    "duration": 0,
    "start_time": "2022-06-19T14:14:33.548Z"
   },
   {
    "duration": 0,
    "start_time": "2022-06-19T14:14:33.549Z"
   },
   {
    "duration": 0,
    "start_time": "2022-06-19T14:14:33.550Z"
   },
   {
    "duration": 0,
    "start_time": "2022-06-19T14:14:33.551Z"
   },
   {
    "duration": 0,
    "start_time": "2022-06-19T14:14:33.552Z"
   },
   {
    "duration": 0,
    "start_time": "2022-06-19T14:14:33.553Z"
   },
   {
    "duration": 0,
    "start_time": "2022-06-19T14:14:33.554Z"
   },
   {
    "duration": 0,
    "start_time": "2022-06-19T14:14:33.555Z"
   },
   {
    "duration": 0,
    "start_time": "2022-06-19T14:14:33.556Z"
   },
   {
    "duration": 0,
    "start_time": "2022-06-19T14:14:33.557Z"
   },
   {
    "duration": 0,
    "start_time": "2022-06-19T14:14:33.559Z"
   },
   {
    "duration": 0,
    "start_time": "2022-06-19T14:14:33.560Z"
   },
   {
    "duration": 0,
    "start_time": "2022-06-19T14:14:33.561Z"
   },
   {
    "duration": 0,
    "start_time": "2022-06-19T14:14:33.562Z"
   },
   {
    "duration": 0,
    "start_time": "2022-06-19T14:14:33.564Z"
   },
   {
    "duration": 0,
    "start_time": "2022-06-19T14:14:33.565Z"
   },
   {
    "duration": 0,
    "start_time": "2022-06-19T14:14:33.567Z"
   },
   {
    "duration": 0,
    "start_time": "2022-06-19T14:14:33.568Z"
   },
   {
    "duration": 1,
    "start_time": "2022-06-19T14:14:33.569Z"
   },
   {
    "duration": 0,
    "start_time": "2022-06-19T14:14:33.626Z"
   },
   {
    "duration": 0,
    "start_time": "2022-06-19T14:14:33.627Z"
   },
   {
    "duration": 0,
    "start_time": "2022-06-19T14:14:33.628Z"
   },
   {
    "duration": 0,
    "start_time": "2022-06-19T14:14:33.629Z"
   },
   {
    "duration": 1,
    "start_time": "2022-06-19T14:14:33.630Z"
   },
   {
    "duration": 0,
    "start_time": "2022-06-19T14:14:33.632Z"
   },
   {
    "duration": 0,
    "start_time": "2022-06-19T14:14:33.633Z"
   },
   {
    "duration": 101,
    "start_time": "2022-06-19T14:15:42.029Z"
   },
   {
    "duration": 596,
    "start_time": "2022-06-19T14:15:46.112Z"
   },
   {
    "duration": 1408,
    "start_time": "2022-06-19T14:15:46.711Z"
   },
   {
    "duration": 78,
    "start_time": "2022-06-19T14:15:48.123Z"
   },
   {
    "duration": 28,
    "start_time": "2022-06-19T14:15:48.204Z"
   },
   {
    "duration": 21,
    "start_time": "2022-06-19T14:15:48.235Z"
   },
   {
    "duration": 23,
    "start_time": "2022-06-19T14:15:48.259Z"
   },
   {
    "duration": 55,
    "start_time": "2022-06-19T14:15:48.285Z"
   },
   {
    "duration": 8,
    "start_time": "2022-06-19T14:15:48.343Z"
   },
   {
    "duration": 17,
    "start_time": "2022-06-19T14:15:48.353Z"
   },
   {
    "duration": 67,
    "start_time": "2022-06-19T14:15:48.372Z"
   },
   {
    "duration": 20,
    "start_time": "2022-06-19T14:15:48.442Z"
   },
   {
    "duration": 9,
    "start_time": "2022-06-19T14:15:48.464Z"
   },
   {
    "duration": 18,
    "start_time": "2022-06-19T14:15:48.475Z"
   },
   {
    "duration": 28,
    "start_time": "2022-06-19T14:15:48.523Z"
   },
   {
    "duration": 22,
    "start_time": "2022-06-19T14:15:48.554Z"
   },
   {
    "duration": 35,
    "start_time": "2022-06-19T14:15:48.578Z"
   },
   {
    "duration": 36,
    "start_time": "2022-06-19T14:15:48.616Z"
   },
   {
    "duration": 28,
    "start_time": "2022-06-19T14:15:48.654Z"
   },
   {
    "duration": 16,
    "start_time": "2022-06-19T14:15:48.684Z"
   },
   {
    "duration": 368,
    "start_time": "2022-06-19T14:15:48.701Z"
   },
   {
    "duration": 15,
    "start_time": "2022-06-19T14:15:49.072Z"
   },
   {
    "duration": 353,
    "start_time": "2022-06-19T14:15:49.089Z"
   },
   {
    "duration": 328,
    "start_time": "2022-06-19T14:15:49.446Z"
   },
   {
    "duration": 12,
    "start_time": "2022-06-19T14:15:49.776Z"
   },
   {
    "duration": 154,
    "start_time": "2022-06-19T14:15:49.790Z"
   },
   {
    "duration": 27,
    "start_time": "2022-06-19T14:15:49.955Z"
   },
   {
    "duration": 13,
    "start_time": "2022-06-19T14:15:49.985Z"
   },
   {
    "duration": 197,
    "start_time": "2022-06-19T14:15:50.000Z"
   },
   {
    "duration": 290,
    "start_time": "2022-06-19T14:15:50.199Z"
   },
   {
    "duration": 330,
    "start_time": "2022-06-19T14:15:50.491Z"
   },
   {
    "duration": 29,
    "start_time": "2022-06-19T14:15:50.825Z"
   },
   {
    "duration": 46,
    "start_time": "2022-06-19T14:15:50.856Z"
   },
   {
    "duration": 1885,
    "start_time": "2022-06-19T14:15:50.905Z"
   },
   {
    "duration": 22,
    "start_time": "2022-06-19T14:15:52.798Z"
   },
   {
    "duration": 69,
    "start_time": "2022-06-19T14:15:52.822Z"
   },
   {
    "duration": 1638,
    "start_time": "2022-06-19T14:15:52.895Z"
   },
   {
    "duration": 18,
    "start_time": "2022-06-19T14:15:54.541Z"
   },
   {
    "duration": 16,
    "start_time": "2022-06-19T14:15:54.561Z"
   },
   {
    "duration": 1687,
    "start_time": "2022-06-19T14:15:54.580Z"
   },
   {
    "duration": 14,
    "start_time": "2022-06-19T14:15:56.268Z"
   },
   {
    "duration": 12,
    "start_time": "2022-06-19T14:15:56.286Z"
   },
   {
    "duration": 1393,
    "start_time": "2022-06-19T14:15:56.300Z"
   },
   {
    "duration": 43,
    "start_time": "2022-06-19T14:15:57.696Z"
   },
   {
    "duration": 17,
    "start_time": "2022-06-19T14:15:57.741Z"
   },
   {
    "duration": 1654,
    "start_time": "2022-06-19T14:15:57.761Z"
   },
   {
    "duration": 12,
    "start_time": "2022-06-19T14:15:59.423Z"
   },
   {
    "duration": 53,
    "start_time": "2022-06-19T14:15:59.442Z"
   },
   {
    "duration": 15,
    "start_time": "2022-06-19T14:15:59.497Z"
   },
   {
    "duration": 231,
    "start_time": "2022-06-19T14:15:59.514Z"
   },
   {
    "duration": 17,
    "start_time": "2022-06-19T14:15:59.748Z"
   },
   {
    "duration": 151,
    "start_time": "2022-06-19T14:15:59.767Z"
   },
   {
    "duration": 134,
    "start_time": "2022-06-19T14:15:59.920Z"
   },
   {
    "duration": 112,
    "start_time": "2022-06-19T14:16:00.056Z"
   },
   {
    "duration": 17,
    "start_time": "2022-06-19T14:16:00.171Z"
   },
   {
    "duration": 153,
    "start_time": "2022-06-19T14:16:00.190Z"
   },
   {
    "duration": 108,
    "start_time": "2022-06-19T14:16:00.344Z"
   },
   {
    "duration": 113,
    "start_time": "2022-06-19T14:16:00.454Z"
   },
   {
    "duration": 17,
    "start_time": "2022-06-19T14:16:00.569Z"
   },
   {
    "duration": 332,
    "start_time": "2022-06-19T14:16:00.589Z"
   },
   {
    "duration": 152,
    "start_time": "2022-06-19T14:16:00.924Z"
   },
   {
    "duration": 203,
    "start_time": "2022-06-19T14:16:01.078Z"
   },
   {
    "duration": 13,
    "start_time": "2022-06-19T14:16:01.283Z"
   },
   {
    "duration": 41,
    "start_time": "2022-06-19T14:16:01.298Z"
   },
   {
    "duration": 25,
    "start_time": "2022-06-19T14:16:01.344Z"
   },
   {
    "duration": 27,
    "start_time": "2022-06-19T14:16:01.372Z"
   },
   {
    "duration": 48,
    "start_time": "2022-06-19T14:16:01.400Z"
   },
   {
    "duration": 52,
    "start_time": "2022-06-19T14:16:01.451Z"
   },
   {
    "duration": 46,
    "start_time": "2022-06-19T17:40:39.856Z"
   },
   {
    "duration": 618,
    "start_time": "2022-06-19T17:40:49.883Z"
   },
   {
    "duration": 1230,
    "start_time": "2022-06-19T17:40:50.503Z"
   },
   {
    "duration": 96,
    "start_time": "2022-06-19T17:40:51.735Z"
   },
   {
    "duration": 17,
    "start_time": "2022-06-19T17:40:51.833Z"
   },
   {
    "duration": 17,
    "start_time": "2022-06-19T17:40:51.852Z"
   },
   {
    "duration": 12,
    "start_time": "2022-06-19T17:40:51.871Z"
   },
   {
    "duration": 11,
    "start_time": "2022-06-19T17:40:51.885Z"
   },
   {
    "duration": 31,
    "start_time": "2022-06-19T17:40:51.897Z"
   },
   {
    "duration": 6,
    "start_time": "2022-06-19T17:40:51.929Z"
   },
   {
    "duration": 10,
    "start_time": "2022-06-19T17:40:51.937Z"
   },
   {
    "duration": 31,
    "start_time": "2022-06-19T17:40:51.948Z"
   },
   {
    "duration": 11,
    "start_time": "2022-06-19T17:40:51.981Z"
   },
   {
    "duration": 6,
    "start_time": "2022-06-19T17:40:51.994Z"
   },
   {
    "duration": 9,
    "start_time": "2022-06-19T17:40:52.027Z"
   },
   {
    "duration": 16,
    "start_time": "2022-06-19T17:40:52.037Z"
   },
   {
    "duration": 12,
    "start_time": "2022-06-19T17:40:52.054Z"
   },
   {
    "duration": 20,
    "start_time": "2022-06-19T17:40:52.068Z"
   },
   {
    "duration": 47,
    "start_time": "2022-06-19T17:40:52.090Z"
   },
   {
    "duration": 15,
    "start_time": "2022-06-19T17:40:52.139Z"
   },
   {
    "duration": 12,
    "start_time": "2022-06-19T17:40:52.155Z"
   },
   {
    "duration": 331,
    "start_time": "2022-06-19T17:40:52.168Z"
   },
   {
    "duration": 11,
    "start_time": "2022-06-19T17:40:52.500Z"
   },
   {
    "duration": 273,
    "start_time": "2022-06-19T17:40:52.512Z"
   },
   {
    "duration": 279,
    "start_time": "2022-06-19T17:40:52.787Z"
   },
   {
    "duration": 11,
    "start_time": "2022-06-19T17:40:53.068Z"
   },
   {
    "duration": 121,
    "start_time": "2022-06-19T17:40:53.080Z"
   },
   {
    "duration": 16,
    "start_time": "2022-06-19T17:40:53.203Z"
   },
   {
    "duration": 22,
    "start_time": "2022-06-19T17:40:53.229Z"
   },
   {
    "duration": 172,
    "start_time": "2022-06-19T17:40:53.253Z"
   },
   {
    "duration": 227,
    "start_time": "2022-06-19T17:40:53.427Z"
   },
   {
    "duration": 273,
    "start_time": "2022-06-19T17:40:53.656Z"
   },
   {
    "duration": 16,
    "start_time": "2022-06-19T17:40:53.930Z"
   },
   {
    "duration": 32,
    "start_time": "2022-06-19T17:40:53.947Z"
   },
   {
    "duration": 1406,
    "start_time": "2022-06-19T17:40:53.981Z"
   },
   {
    "duration": 10,
    "start_time": "2022-06-19T17:40:55.389Z"
   },
   {
    "duration": 24,
    "start_time": "2022-06-19T17:40:55.400Z"
   },
   {
    "duration": 1380,
    "start_time": "2022-06-19T17:40:55.425Z"
   },
   {
    "duration": 10,
    "start_time": "2022-06-19T17:40:56.807Z"
   },
   {
    "duration": 36,
    "start_time": "2022-06-19T17:40:56.818Z"
   },
   {
    "duration": 1362,
    "start_time": "2022-06-19T17:40:56.855Z"
   },
   {
    "duration": 16,
    "start_time": "2022-06-19T17:40:58.218Z"
   },
   {
    "duration": 34,
    "start_time": "2022-06-19T17:40:58.235Z"
   },
   {
    "duration": 1266,
    "start_time": "2022-06-19T17:40:58.270Z"
   },
   {
    "duration": 10,
    "start_time": "2022-06-19T17:40:59.538Z"
   },
   {
    "duration": 11,
    "start_time": "2022-06-19T17:40:59.550Z"
   },
   {
    "duration": 1460,
    "start_time": "2022-06-19T17:40:59.562Z"
   },
   {
    "duration": 11,
    "start_time": "2022-06-19T17:41:01.023Z"
   },
   {
    "duration": 20,
    "start_time": "2022-06-19T17:41:01.036Z"
   },
   {
    "duration": 14,
    "start_time": "2022-06-19T17:41:01.058Z"
   },
   {
    "duration": 169,
    "start_time": "2022-06-19T17:41:01.073Z"
   },
   {
    "duration": 10,
    "start_time": "2022-06-19T17:41:01.244Z"
   },
   {
    "duration": 102,
    "start_time": "2022-06-19T17:41:01.256Z"
   },
   {
    "duration": 98,
    "start_time": "2022-06-19T17:41:01.361Z"
   },
   {
    "duration": 91,
    "start_time": "2022-06-19T17:41:01.460Z"
   },
   {
    "duration": 10,
    "start_time": "2022-06-19T17:41:01.553Z"
   },
   {
    "duration": 109,
    "start_time": "2022-06-19T17:41:01.564Z"
   },
   {
    "duration": 91,
    "start_time": "2022-06-19T17:41:01.675Z"
   },
   {
    "duration": 102,
    "start_time": "2022-06-19T17:41:01.768Z"
   },
   {
    "duration": 10,
    "start_time": "2022-06-19T17:41:01.871Z"
   },
   {
    "duration": 271,
    "start_time": "2022-06-19T17:41:01.883Z"
   },
   {
    "duration": 138,
    "start_time": "2022-06-19T17:41:02.156Z"
   },
   {
    "duration": 136,
    "start_time": "2022-06-19T17:41:02.295Z"
   },
   {
    "duration": 10,
    "start_time": "2022-06-19T17:41:02.433Z"
   },
   {
    "duration": 21,
    "start_time": "2022-06-19T17:41:02.444Z"
   },
   {
    "duration": 25,
    "start_time": "2022-06-19T17:41:02.466Z"
   },
   {
    "duration": 28,
    "start_time": "2022-06-19T17:41:02.492Z"
   },
   {
    "duration": 37,
    "start_time": "2022-06-19T17:41:02.521Z"
   },
   {
    "duration": 40,
    "start_time": "2022-06-19T17:41:02.559Z"
   },
   {
    "duration": 9,
    "start_time": "2022-06-19T17:48:16.614Z"
   },
   {
    "duration": 586,
    "start_time": "2022-06-19T17:48:22.860Z"
   },
   {
    "duration": 1068,
    "start_time": "2022-06-19T17:48:23.448Z"
   },
   {
    "duration": 53,
    "start_time": "2022-06-19T17:48:24.517Z"
   },
   {
    "duration": 16,
    "start_time": "2022-06-19T17:48:24.572Z"
   },
   {
    "duration": 13,
    "start_time": "2022-06-19T17:48:24.591Z"
   },
   {
    "duration": 13,
    "start_time": "2022-06-19T17:48:24.605Z"
   },
   {
    "duration": 15,
    "start_time": "2022-06-19T17:48:24.620Z"
   },
   {
    "duration": 20,
    "start_time": "2022-06-19T17:48:24.636Z"
   },
   {
    "duration": 6,
    "start_time": "2022-06-19T17:48:24.658Z"
   },
   {
    "duration": 14,
    "start_time": "2022-06-19T17:48:24.666Z"
   },
   {
    "duration": 49,
    "start_time": "2022-06-19T17:48:24.682Z"
   },
   {
    "duration": 12,
    "start_time": "2022-06-19T17:48:24.733Z"
   },
   {
    "duration": 7,
    "start_time": "2022-06-19T17:48:24.746Z"
   },
   {
    "duration": 7,
    "start_time": "2022-06-19T17:48:24.756Z"
   },
   {
    "duration": 14,
    "start_time": "2022-06-19T17:48:24.764Z"
   },
   {
    "duration": 47,
    "start_time": "2022-06-19T17:48:24.781Z"
   },
   {
    "duration": 22,
    "start_time": "2022-06-19T17:48:24.830Z"
   },
   {
    "duration": 27,
    "start_time": "2022-06-19T17:48:24.853Z"
   },
   {
    "duration": 15,
    "start_time": "2022-06-19T17:48:24.882Z"
   },
   {
    "duration": 10,
    "start_time": "2022-06-19T17:48:24.928Z"
   },
   {
    "duration": 320,
    "start_time": "2022-06-19T17:48:24.940Z"
   },
   {
    "duration": 13,
    "start_time": "2022-06-19T17:48:25.262Z"
   },
   {
    "duration": 258,
    "start_time": "2022-06-19T17:48:25.276Z"
   },
   {
    "duration": 287,
    "start_time": "2022-06-19T17:48:25.536Z"
   },
   {
    "duration": 9,
    "start_time": "2022-06-19T17:48:25.824Z"
   },
   {
    "duration": 107,
    "start_time": "2022-06-19T17:48:25.834Z"
   },
   {
    "duration": 15,
    "start_time": "2022-06-19T17:48:25.943Z"
   },
   {
    "duration": 8,
    "start_time": "2022-06-19T17:48:25.959Z"
   },
   {
    "duration": 171,
    "start_time": "2022-06-19T17:48:25.968Z"
   },
   {
    "duration": 297,
    "start_time": "2022-06-19T17:48:26.140Z"
   },
   {
    "duration": 261,
    "start_time": "2022-06-19T17:48:26.439Z"
   },
   {
    "duration": 26,
    "start_time": "2022-06-19T17:48:26.702Z"
   },
   {
    "duration": 29,
    "start_time": "2022-06-19T17:48:26.729Z"
   },
   {
    "duration": 1350,
    "start_time": "2022-06-19T17:48:26.759Z"
   },
   {
    "duration": 17,
    "start_time": "2022-06-19T17:48:28.111Z"
   },
   {
    "duration": 13,
    "start_time": "2022-06-19T17:48:28.130Z"
   },
   {
    "duration": 1306,
    "start_time": "2022-06-19T17:48:28.145Z"
   },
   {
    "duration": 12,
    "start_time": "2022-06-19T17:48:29.453Z"
   },
   {
    "duration": 14,
    "start_time": "2022-06-19T17:48:29.466Z"
   },
   {
    "duration": 1412,
    "start_time": "2022-06-19T17:48:29.482Z"
   },
   {
    "duration": 13,
    "start_time": "2022-06-19T17:48:30.899Z"
   },
   {
    "duration": 26,
    "start_time": "2022-06-19T17:48:30.913Z"
   },
   {
    "duration": 1279,
    "start_time": "2022-06-19T17:48:30.942Z"
   },
   {
    "duration": 12,
    "start_time": "2022-06-19T17:48:32.223Z"
   },
   {
    "duration": 13,
    "start_time": "2022-06-19T17:48:32.237Z"
   },
   {
    "duration": 1449,
    "start_time": "2022-06-19T17:48:32.251Z"
   },
   {
    "duration": 11,
    "start_time": "2022-06-19T17:48:33.701Z"
   },
   {
    "duration": 17,
    "start_time": "2022-06-19T17:48:33.714Z"
   },
   {
    "duration": 6,
    "start_time": "2022-06-19T17:48:33.733Z"
   },
   {
    "duration": 184,
    "start_time": "2022-06-19T17:48:33.741Z"
   },
   {
    "duration": 10,
    "start_time": "2022-06-19T17:48:33.928Z"
   },
   {
    "duration": 91,
    "start_time": "2022-06-19T17:48:33.939Z"
   },
   {
    "duration": 81,
    "start_time": "2022-06-19T17:48:34.031Z"
   },
   {
    "duration": 89,
    "start_time": "2022-06-19T17:48:34.114Z"
   },
   {
    "duration": 24,
    "start_time": "2022-06-19T17:48:34.205Z"
   },
   {
    "duration": 86,
    "start_time": "2022-06-19T17:48:34.230Z"
   },
   {
    "duration": 90,
    "start_time": "2022-06-19T17:48:34.317Z"
   },
   {
    "duration": 103,
    "start_time": "2022-06-19T17:48:34.409Z"
   },
   {
    "duration": 20,
    "start_time": "2022-06-19T17:48:34.513Z"
   },
   {
    "duration": 225,
    "start_time": "2022-06-19T17:48:34.535Z"
   },
   {
    "duration": 138,
    "start_time": "2022-06-19T17:48:34.762Z"
   },
   {
    "duration": 132,
    "start_time": "2022-06-19T17:48:34.901Z"
   },
   {
    "duration": 12,
    "start_time": "2022-06-19T17:48:35.035Z"
   },
   {
    "duration": 14,
    "start_time": "2022-06-19T17:48:35.049Z"
   },
   {
    "duration": 9,
    "start_time": "2022-06-19T17:48:35.064Z"
   },
   {
    "duration": 17,
    "start_time": "2022-06-19T17:48:35.075Z"
   },
   {
    "duration": 8,
    "start_time": "2022-06-19T17:48:35.093Z"
   },
   {
    "duration": 10,
    "start_time": "2022-06-19T17:48:35.103Z"
   },
   {
    "duration": 12,
    "start_time": "2022-06-19T17:50:45.399Z"
   },
   {
    "duration": 586,
    "start_time": "2022-06-19T17:50:52.376Z"
   },
   {
    "duration": 1062,
    "start_time": "2022-06-19T17:50:52.964Z"
   },
   {
    "duration": 54,
    "start_time": "2022-06-19T17:50:54.027Z"
   },
   {
    "duration": 16,
    "start_time": "2022-06-19T17:50:54.082Z"
   },
   {
    "duration": 17,
    "start_time": "2022-06-19T17:50:54.101Z"
   },
   {
    "duration": 13,
    "start_time": "2022-06-19T17:50:54.119Z"
   },
   {
    "duration": 13,
    "start_time": "2022-06-19T17:50:54.133Z"
   },
   {
    "duration": 103,
    "start_time": "2022-06-19T17:50:54.148Z"
   },
   {
    "duration": 0,
    "start_time": "2022-06-19T17:50:54.254Z"
   },
   {
    "duration": 0,
    "start_time": "2022-06-19T17:50:54.255Z"
   },
   {
    "duration": 0,
    "start_time": "2022-06-19T17:50:54.256Z"
   },
   {
    "duration": 0,
    "start_time": "2022-06-19T17:50:54.257Z"
   },
   {
    "duration": 1,
    "start_time": "2022-06-19T17:50:54.257Z"
   },
   {
    "duration": 0,
    "start_time": "2022-06-19T17:50:54.259Z"
   },
   {
    "duration": 0,
    "start_time": "2022-06-19T17:50:54.260Z"
   },
   {
    "duration": 0,
    "start_time": "2022-06-19T17:50:54.261Z"
   },
   {
    "duration": 0,
    "start_time": "2022-06-19T17:50:54.262Z"
   },
   {
    "duration": 0,
    "start_time": "2022-06-19T17:50:54.263Z"
   },
   {
    "duration": 0,
    "start_time": "2022-06-19T17:50:54.264Z"
   },
   {
    "duration": 0,
    "start_time": "2022-06-19T17:50:54.264Z"
   },
   {
    "duration": 0,
    "start_time": "2022-06-19T17:50:54.265Z"
   },
   {
    "duration": 0,
    "start_time": "2022-06-19T17:50:54.266Z"
   },
   {
    "duration": 0,
    "start_time": "2022-06-19T17:50:54.267Z"
   },
   {
    "duration": 0,
    "start_time": "2022-06-19T17:50:54.269Z"
   },
   {
    "duration": 0,
    "start_time": "2022-06-19T17:50:54.270Z"
   },
   {
    "duration": 0,
    "start_time": "2022-06-19T17:50:54.271Z"
   },
   {
    "duration": 0,
    "start_time": "2022-06-19T17:50:54.271Z"
   },
   {
    "duration": 0,
    "start_time": "2022-06-19T17:50:54.272Z"
   },
   {
    "duration": 0,
    "start_time": "2022-06-19T17:50:54.273Z"
   },
   {
    "duration": 0,
    "start_time": "2022-06-19T17:50:54.274Z"
   },
   {
    "duration": 0,
    "start_time": "2022-06-19T17:50:54.275Z"
   },
   {
    "duration": 0,
    "start_time": "2022-06-19T17:50:54.276Z"
   },
   {
    "duration": 0,
    "start_time": "2022-06-19T17:50:54.276Z"
   },
   {
    "duration": 0,
    "start_time": "2022-06-19T17:50:54.277Z"
   },
   {
    "duration": 0,
    "start_time": "2022-06-19T17:50:54.278Z"
   },
   {
    "duration": 0,
    "start_time": "2022-06-19T17:50:54.279Z"
   },
   {
    "duration": 0,
    "start_time": "2022-06-19T17:50:54.280Z"
   },
   {
    "duration": 0,
    "start_time": "2022-06-19T17:50:54.281Z"
   },
   {
    "duration": 0,
    "start_time": "2022-06-19T17:50:54.282Z"
   },
   {
    "duration": 0,
    "start_time": "2022-06-19T17:50:54.327Z"
   },
   {
    "duration": 0,
    "start_time": "2022-06-19T17:50:54.329Z"
   },
   {
    "duration": 0,
    "start_time": "2022-06-19T17:50:54.329Z"
   },
   {
    "duration": 0,
    "start_time": "2022-06-19T17:50:54.330Z"
   },
   {
    "duration": 0,
    "start_time": "2022-06-19T17:50:54.331Z"
   },
   {
    "duration": 0,
    "start_time": "2022-06-19T17:50:54.332Z"
   },
   {
    "duration": 0,
    "start_time": "2022-06-19T17:50:54.333Z"
   },
   {
    "duration": 0,
    "start_time": "2022-06-19T17:50:54.334Z"
   },
   {
    "duration": 0,
    "start_time": "2022-06-19T17:50:54.335Z"
   },
   {
    "duration": 0,
    "start_time": "2022-06-19T17:50:54.336Z"
   },
   {
    "duration": 0,
    "start_time": "2022-06-19T17:50:54.336Z"
   },
   {
    "duration": 0,
    "start_time": "2022-06-19T17:50:54.337Z"
   },
   {
    "duration": 0,
    "start_time": "2022-06-19T17:50:54.338Z"
   },
   {
    "duration": 0,
    "start_time": "2022-06-19T17:50:54.339Z"
   },
   {
    "duration": 0,
    "start_time": "2022-06-19T17:50:54.340Z"
   },
   {
    "duration": 0,
    "start_time": "2022-06-19T17:50:54.341Z"
   },
   {
    "duration": 0,
    "start_time": "2022-06-19T17:50:54.342Z"
   },
   {
    "duration": 0,
    "start_time": "2022-06-19T17:50:54.343Z"
   },
   {
    "duration": 0,
    "start_time": "2022-06-19T17:50:54.344Z"
   },
   {
    "duration": 0,
    "start_time": "2022-06-19T17:50:54.345Z"
   },
   {
    "duration": 0,
    "start_time": "2022-06-19T17:50:54.346Z"
   },
   {
    "duration": 0,
    "start_time": "2022-06-19T17:50:54.347Z"
   },
   {
    "duration": 0,
    "start_time": "2022-06-19T17:50:54.348Z"
   },
   {
    "duration": 0,
    "start_time": "2022-06-19T17:50:54.348Z"
   },
   {
    "duration": 0,
    "start_time": "2022-06-19T17:50:54.350Z"
   },
   {
    "duration": 0,
    "start_time": "2022-06-19T17:50:54.351Z"
   },
   {
    "duration": 0,
    "start_time": "2022-06-19T17:50:54.351Z"
   },
   {
    "duration": 0,
    "start_time": "2022-06-19T17:50:54.352Z"
   },
   {
    "duration": 0,
    "start_time": "2022-06-19T17:50:54.353Z"
   },
   {
    "duration": 13,
    "start_time": "2022-06-19T17:51:37.566Z"
   },
   {
    "duration": 590,
    "start_time": "2022-06-19T17:51:51.839Z"
   },
   {
    "duration": 1107,
    "start_time": "2022-06-19T17:51:52.432Z"
   },
   {
    "duration": 55,
    "start_time": "2022-06-19T17:51:53.541Z"
   },
   {
    "duration": 18,
    "start_time": "2022-06-19T17:51:53.597Z"
   },
   {
    "duration": 16,
    "start_time": "2022-06-19T17:51:53.617Z"
   },
   {
    "duration": 14,
    "start_time": "2022-06-19T17:51:53.635Z"
   },
   {
    "duration": 12,
    "start_time": "2022-06-19T17:51:53.651Z"
   },
   {
    "duration": 123,
    "start_time": "2022-06-19T17:51:53.664Z"
   },
   {
    "duration": 0,
    "start_time": "2022-06-19T17:51:53.791Z"
   },
   {
    "duration": 0,
    "start_time": "2022-06-19T17:51:53.792Z"
   },
   {
    "duration": 0,
    "start_time": "2022-06-19T17:51:53.792Z"
   },
   {
    "duration": 0,
    "start_time": "2022-06-19T17:51:53.794Z"
   },
   {
    "duration": 0,
    "start_time": "2022-06-19T17:51:53.795Z"
   },
   {
    "duration": 0,
    "start_time": "2022-06-19T17:51:53.796Z"
   },
   {
    "duration": 0,
    "start_time": "2022-06-19T17:51:53.797Z"
   },
   {
    "duration": 0,
    "start_time": "2022-06-19T17:51:53.799Z"
   },
   {
    "duration": 0,
    "start_time": "2022-06-19T17:51:53.800Z"
   },
   {
    "duration": 0,
    "start_time": "2022-06-19T17:51:53.801Z"
   },
   {
    "duration": 0,
    "start_time": "2022-06-19T17:51:53.802Z"
   },
   {
    "duration": 0,
    "start_time": "2022-06-19T17:51:53.827Z"
   },
   {
    "duration": 0,
    "start_time": "2022-06-19T17:51:53.830Z"
   },
   {
    "duration": 0,
    "start_time": "2022-06-19T17:51:53.831Z"
   },
   {
    "duration": 0,
    "start_time": "2022-06-19T17:51:53.832Z"
   },
   {
    "duration": 0,
    "start_time": "2022-06-19T17:51:53.834Z"
   },
   {
    "duration": 0,
    "start_time": "2022-06-19T17:51:53.836Z"
   },
   {
    "duration": 0,
    "start_time": "2022-06-19T17:51:53.837Z"
   },
   {
    "duration": 0,
    "start_time": "2022-06-19T17:51:53.839Z"
   },
   {
    "duration": 0,
    "start_time": "2022-06-19T17:51:53.840Z"
   },
   {
    "duration": 0,
    "start_time": "2022-06-19T17:51:53.841Z"
   },
   {
    "duration": 0,
    "start_time": "2022-06-19T17:51:53.842Z"
   },
   {
    "duration": 0,
    "start_time": "2022-06-19T17:51:53.843Z"
   },
   {
    "duration": 1,
    "start_time": "2022-06-19T17:51:53.845Z"
   },
   {
    "duration": 0,
    "start_time": "2022-06-19T17:51:53.846Z"
   },
   {
    "duration": 0,
    "start_time": "2022-06-19T17:51:53.848Z"
   },
   {
    "duration": 0,
    "start_time": "2022-06-19T17:51:53.849Z"
   },
   {
    "duration": 0,
    "start_time": "2022-06-19T17:51:53.850Z"
   },
   {
    "duration": 0,
    "start_time": "2022-06-19T17:51:53.851Z"
   },
   {
    "duration": 0,
    "start_time": "2022-06-19T17:51:53.852Z"
   },
   {
    "duration": 0,
    "start_time": "2022-06-19T17:51:53.854Z"
   },
   {
    "duration": 0,
    "start_time": "2022-06-19T17:51:53.855Z"
   },
   {
    "duration": 0,
    "start_time": "2022-06-19T17:51:53.857Z"
   },
   {
    "duration": 0,
    "start_time": "2022-06-19T17:51:53.858Z"
   },
   {
    "duration": 0,
    "start_time": "2022-06-19T17:51:53.859Z"
   },
   {
    "duration": 0,
    "start_time": "2022-06-19T17:51:53.861Z"
   },
   {
    "duration": 0,
    "start_time": "2022-06-19T17:51:53.862Z"
   },
   {
    "duration": 0,
    "start_time": "2022-06-19T17:51:53.864Z"
   },
   {
    "duration": 0,
    "start_time": "2022-06-19T17:51:53.865Z"
   },
   {
    "duration": 0,
    "start_time": "2022-06-19T17:51:53.869Z"
   },
   {
    "duration": 0,
    "start_time": "2022-06-19T17:51:53.928Z"
   },
   {
    "duration": 0,
    "start_time": "2022-06-19T17:51:53.929Z"
   },
   {
    "duration": 0,
    "start_time": "2022-06-19T17:51:53.931Z"
   },
   {
    "duration": 0,
    "start_time": "2022-06-19T17:51:53.932Z"
   },
   {
    "duration": 0,
    "start_time": "2022-06-19T17:51:53.933Z"
   },
   {
    "duration": 0,
    "start_time": "2022-06-19T17:51:53.934Z"
   },
   {
    "duration": 0,
    "start_time": "2022-06-19T17:51:53.935Z"
   },
   {
    "duration": 0,
    "start_time": "2022-06-19T17:51:53.935Z"
   },
   {
    "duration": 0,
    "start_time": "2022-06-19T17:51:53.936Z"
   },
   {
    "duration": 0,
    "start_time": "2022-06-19T17:51:53.938Z"
   },
   {
    "duration": 0,
    "start_time": "2022-06-19T17:51:53.939Z"
   },
   {
    "duration": 0,
    "start_time": "2022-06-19T17:51:53.940Z"
   },
   {
    "duration": 0,
    "start_time": "2022-06-19T17:51:53.941Z"
   },
   {
    "duration": 0,
    "start_time": "2022-06-19T17:51:53.943Z"
   },
   {
    "duration": 0,
    "start_time": "2022-06-19T17:51:53.944Z"
   },
   {
    "duration": 0,
    "start_time": "2022-06-19T17:51:53.944Z"
   },
   {
    "duration": 0,
    "start_time": "2022-06-19T17:51:53.945Z"
   },
   {
    "duration": 0,
    "start_time": "2022-06-19T17:51:53.946Z"
   },
   {
    "duration": 0,
    "start_time": "2022-06-19T17:51:53.948Z"
   },
   {
    "duration": 0,
    "start_time": "2022-06-19T17:51:53.949Z"
   },
   {
    "duration": 15,
    "start_time": "2022-06-19T17:54:40.868Z"
   },
   {
    "duration": 572,
    "start_time": "2022-06-19T17:54:58.186Z"
   },
   {
    "duration": 1053,
    "start_time": "2022-06-19T17:54:58.760Z"
   },
   {
    "duration": 54,
    "start_time": "2022-06-19T17:54:59.814Z"
   },
   {
    "duration": 17,
    "start_time": "2022-06-19T17:54:59.870Z"
   },
   {
    "duration": 13,
    "start_time": "2022-06-19T17:54:59.889Z"
   },
   {
    "duration": 13,
    "start_time": "2022-06-19T17:54:59.904Z"
   },
   {
    "duration": 9,
    "start_time": "2022-06-19T17:54:59.928Z"
   },
   {
    "duration": 111,
    "start_time": "2022-06-19T17:54:59.939Z"
   },
   {
    "duration": 0,
    "start_time": "2022-06-19T17:55:00.054Z"
   },
   {
    "duration": 0,
    "start_time": "2022-06-19T17:55:00.055Z"
   },
   {
    "duration": 0,
    "start_time": "2022-06-19T17:55:00.056Z"
   },
   {
    "duration": 0,
    "start_time": "2022-06-19T17:55:00.057Z"
   },
   {
    "duration": 0,
    "start_time": "2022-06-19T17:55:00.059Z"
   },
   {
    "duration": 0,
    "start_time": "2022-06-19T17:55:00.060Z"
   },
   {
    "duration": 0,
    "start_time": "2022-06-19T17:55:00.061Z"
   },
   {
    "duration": 0,
    "start_time": "2022-06-19T17:55:00.063Z"
   },
   {
    "duration": 0,
    "start_time": "2022-06-19T17:55:00.064Z"
   },
   {
    "duration": 1,
    "start_time": "2022-06-19T17:55:00.065Z"
   },
   {
    "duration": 0,
    "start_time": "2022-06-19T17:55:00.067Z"
   },
   {
    "duration": 0,
    "start_time": "2022-06-19T17:55:00.069Z"
   },
   {
    "duration": 0,
    "start_time": "2022-06-19T17:55:00.071Z"
   },
   {
    "duration": 0,
    "start_time": "2022-06-19T17:55:00.072Z"
   },
   {
    "duration": 0,
    "start_time": "2022-06-19T17:55:00.073Z"
   },
   {
    "duration": 0,
    "start_time": "2022-06-19T17:55:00.075Z"
   },
   {
    "duration": 0,
    "start_time": "2022-06-19T17:55:00.076Z"
   },
   {
    "duration": 0,
    "start_time": "2022-06-19T17:55:00.078Z"
   },
   {
    "duration": 0,
    "start_time": "2022-06-19T17:55:00.079Z"
   },
   {
    "duration": 0,
    "start_time": "2022-06-19T17:55:00.081Z"
   },
   {
    "duration": 0,
    "start_time": "2022-06-19T17:55:00.128Z"
   },
   {
    "duration": 0,
    "start_time": "2022-06-19T17:55:00.130Z"
   },
   {
    "duration": 0,
    "start_time": "2022-06-19T17:55:00.131Z"
   },
   {
    "duration": 0,
    "start_time": "2022-06-19T17:55:00.132Z"
   },
   {
    "duration": 0,
    "start_time": "2022-06-19T17:55:00.134Z"
   },
   {
    "duration": 0,
    "start_time": "2022-06-19T17:55:00.135Z"
   },
   {
    "duration": 0,
    "start_time": "2022-06-19T17:55:00.138Z"
   },
   {
    "duration": 0,
    "start_time": "2022-06-19T17:55:00.139Z"
   },
   {
    "duration": 0,
    "start_time": "2022-06-19T17:55:00.140Z"
   },
   {
    "duration": 0,
    "start_time": "2022-06-19T17:55:00.142Z"
   },
   {
    "duration": 0,
    "start_time": "2022-06-19T17:55:00.143Z"
   },
   {
    "duration": 0,
    "start_time": "2022-06-19T17:55:00.144Z"
   },
   {
    "duration": 0,
    "start_time": "2022-06-19T17:55:00.146Z"
   },
   {
    "duration": 0,
    "start_time": "2022-06-19T17:55:00.147Z"
   },
   {
    "duration": 0,
    "start_time": "2022-06-19T17:55:00.148Z"
   },
   {
    "duration": 0,
    "start_time": "2022-06-19T17:55:00.150Z"
   },
   {
    "duration": 0,
    "start_time": "2022-06-19T17:55:00.151Z"
   },
   {
    "duration": 0,
    "start_time": "2022-06-19T17:55:00.152Z"
   },
   {
    "duration": 0,
    "start_time": "2022-06-19T17:55:00.154Z"
   },
   {
    "duration": 0,
    "start_time": "2022-06-19T17:55:00.155Z"
   },
   {
    "duration": 0,
    "start_time": "2022-06-19T17:55:00.155Z"
   },
   {
    "duration": 0,
    "start_time": "2022-06-19T17:55:00.157Z"
   },
   {
    "duration": 0,
    "start_time": "2022-06-19T17:55:00.158Z"
   },
   {
    "duration": 0,
    "start_time": "2022-06-19T17:55:00.159Z"
   },
   {
    "duration": 0,
    "start_time": "2022-06-19T17:55:00.160Z"
   },
   {
    "duration": 0,
    "start_time": "2022-06-19T17:55:00.161Z"
   },
   {
    "duration": 0,
    "start_time": "2022-06-19T17:55:00.162Z"
   },
   {
    "duration": 0,
    "start_time": "2022-06-19T17:55:00.163Z"
   },
   {
    "duration": 0,
    "start_time": "2022-06-19T17:55:00.164Z"
   },
   {
    "duration": 0,
    "start_time": "2022-06-19T17:55:00.165Z"
   },
   {
    "duration": 0,
    "start_time": "2022-06-19T17:55:00.227Z"
   },
   {
    "duration": 0,
    "start_time": "2022-06-19T17:55:00.228Z"
   },
   {
    "duration": 0,
    "start_time": "2022-06-19T17:55:00.229Z"
   },
   {
    "duration": 0,
    "start_time": "2022-06-19T17:55:00.230Z"
   },
   {
    "duration": 0,
    "start_time": "2022-06-19T17:55:00.232Z"
   },
   {
    "duration": 0,
    "start_time": "2022-06-19T17:55:00.233Z"
   },
   {
    "duration": 0,
    "start_time": "2022-06-19T17:55:00.234Z"
   },
   {
    "duration": 0,
    "start_time": "2022-06-19T17:55:00.235Z"
   },
   {
    "duration": 0,
    "start_time": "2022-06-19T17:55:00.236Z"
   },
   {
    "duration": 0,
    "start_time": "2022-06-19T17:55:00.238Z"
   },
   {
    "duration": 37,
    "start_time": "2022-06-19T17:56:22.848Z"
   },
   {
    "duration": 596,
    "start_time": "2022-06-19T17:56:37.532Z"
   },
   {
    "duration": 1091,
    "start_time": "2022-06-19T17:56:38.131Z"
   },
   {
    "duration": 56,
    "start_time": "2022-06-19T17:56:39.224Z"
   },
   {
    "duration": 18,
    "start_time": "2022-06-19T17:56:39.282Z"
   },
   {
    "duration": 14,
    "start_time": "2022-06-19T17:56:39.301Z"
   },
   {
    "duration": 13,
    "start_time": "2022-06-19T17:56:39.316Z"
   },
   {
    "duration": 11,
    "start_time": "2022-06-19T17:56:39.330Z"
   },
   {
    "duration": 19,
    "start_time": "2022-06-19T17:56:39.342Z"
   },
   {
    "duration": 5,
    "start_time": "2022-06-19T17:56:39.362Z"
   },
   {
    "duration": 7,
    "start_time": "2022-06-19T17:56:39.370Z"
   },
   {
    "duration": 53,
    "start_time": "2022-06-19T17:56:39.378Z"
   },
   {
    "duration": 12,
    "start_time": "2022-06-19T17:56:39.432Z"
   },
   {
    "duration": 6,
    "start_time": "2022-06-19T17:56:39.446Z"
   },
   {
    "duration": 10,
    "start_time": "2022-06-19T17:56:39.453Z"
   },
   {
    "duration": 15,
    "start_time": "2022-06-19T17:56:39.465Z"
   },
   {
    "duration": 13,
    "start_time": "2022-06-19T17:56:39.481Z"
   },
   {
    "duration": 18,
    "start_time": "2022-06-19T17:56:39.528Z"
   },
   {
    "duration": 22,
    "start_time": "2022-06-19T17:56:39.547Z"
   },
   {
    "duration": 15,
    "start_time": "2022-06-19T17:56:39.570Z"
   },
   {
    "duration": 10,
    "start_time": "2022-06-19T17:56:39.586Z"
   },
   {
    "duration": 326,
    "start_time": "2022-06-19T17:56:39.598Z"
   },
   {
    "duration": 11,
    "start_time": "2022-06-19T17:56:39.926Z"
   },
   {
    "duration": 259,
    "start_time": "2022-06-19T17:56:39.939Z"
   },
   {
    "duration": 279,
    "start_time": "2022-06-19T17:56:40.200Z"
   },
   {
    "duration": 10,
    "start_time": "2022-06-19T17:56:40.480Z"
   },
   {
    "duration": 106,
    "start_time": "2022-06-19T17:56:40.491Z"
   },
   {
    "duration": 15,
    "start_time": "2022-06-19T17:56:40.599Z"
   },
   {
    "duration": 9,
    "start_time": "2022-06-19T17:56:40.628Z"
   },
   {
    "duration": 163,
    "start_time": "2022-06-19T17:56:40.639Z"
   },
   {
    "duration": 243,
    "start_time": "2022-06-19T17:56:40.803Z"
   },
   {
    "duration": 261,
    "start_time": "2022-06-19T17:56:41.047Z"
   },
   {
    "duration": 23,
    "start_time": "2022-06-19T17:56:41.309Z"
   },
   {
    "duration": 29,
    "start_time": "2022-06-19T17:56:41.334Z"
   },
   {
    "duration": 1347,
    "start_time": "2022-06-19T17:56:41.364Z"
   },
   {
    "duration": 16,
    "start_time": "2022-06-19T17:56:42.712Z"
   },
   {
    "duration": 13,
    "start_time": "2022-06-19T17:56:42.729Z"
   },
   {
    "duration": 1306,
    "start_time": "2022-06-19T17:56:42.743Z"
   },
   {
    "duration": 11,
    "start_time": "2022-06-19T17:56:44.051Z"
   },
   {
    "duration": 13,
    "start_time": "2022-06-19T17:56:44.064Z"
   },
   {
    "duration": 1405,
    "start_time": "2022-06-19T17:56:44.078Z"
   },
   {
    "duration": 12,
    "start_time": "2022-06-19T17:56:45.485Z"
   },
   {
    "duration": 11,
    "start_time": "2022-06-19T17:56:45.498Z"
   },
   {
    "duration": 1443,
    "start_time": "2022-06-19T17:56:45.527Z"
   },
   {
    "duration": 13,
    "start_time": "2022-06-19T17:56:46.972Z"
   },
   {
    "duration": 16,
    "start_time": "2022-06-19T17:56:46.987Z"
   },
   {
    "duration": 1498,
    "start_time": "2022-06-19T17:56:47.005Z"
   },
   {
    "duration": 11,
    "start_time": "2022-06-19T17:56:48.504Z"
   },
   {
    "duration": 22,
    "start_time": "2022-06-19T17:56:48.516Z"
   },
   {
    "duration": 13,
    "start_time": "2022-06-19T17:56:48.539Z"
   },
   {
    "duration": 185,
    "start_time": "2022-06-19T17:56:48.554Z"
   },
   {
    "duration": 12,
    "start_time": "2022-06-19T17:56:48.741Z"
   },
   {
    "duration": 107,
    "start_time": "2022-06-19T17:56:48.755Z"
   },
   {
    "duration": 98,
    "start_time": "2022-06-19T17:56:48.864Z"
   },
   {
    "duration": 94,
    "start_time": "2022-06-19T17:56:48.965Z"
   },
   {
    "duration": 13,
    "start_time": "2022-06-19T17:56:49.061Z"
   },
   {
    "duration": 109,
    "start_time": "2022-06-19T17:56:49.075Z"
   },
   {
    "duration": 110,
    "start_time": "2022-06-19T17:56:49.186Z"
   },
   {
    "duration": 122,
    "start_time": "2022-06-19T17:56:49.300Z"
   },
   {
    "duration": 12,
    "start_time": "2022-06-19T17:56:49.424Z"
   },
   {
    "duration": 242,
    "start_time": "2022-06-19T17:56:49.438Z"
   },
   {
    "duration": 131,
    "start_time": "2022-06-19T17:56:49.682Z"
   },
   {
    "duration": 141,
    "start_time": "2022-06-19T17:56:49.815Z"
   },
   {
    "duration": 11,
    "start_time": "2022-06-19T17:56:49.957Z"
   },
   {
    "duration": 11,
    "start_time": "2022-06-19T17:56:49.969Z"
   },
   {
    "duration": 7,
    "start_time": "2022-06-19T17:56:49.981Z"
   },
   {
    "duration": 12,
    "start_time": "2022-06-19T17:56:49.990Z"
   },
   {
    "duration": 25,
    "start_time": "2022-06-19T17:56:50.004Z"
   },
   {
    "duration": 7,
    "start_time": "2022-06-19T17:56:50.031Z"
   },
   {
    "duration": 128,
    "start_time": "2022-06-19T18:01:29.931Z"
   },
   {
    "duration": 6,
    "start_time": "2022-06-19T18:01:45.893Z"
   },
   {
    "duration": 611,
    "start_time": "2022-06-19T18:02:03.409Z"
   },
   {
    "duration": 1116,
    "start_time": "2022-06-19T18:02:04.022Z"
   },
   {
    "duration": 54,
    "start_time": "2022-06-19T18:02:05.140Z"
   },
   {
    "duration": 18,
    "start_time": "2022-06-19T18:02:05.196Z"
   },
   {
    "duration": 19,
    "start_time": "2022-06-19T18:02:05.216Z"
   },
   {
    "duration": 23,
    "start_time": "2022-06-19T18:02:05.237Z"
   },
   {
    "duration": 27,
    "start_time": "2022-06-19T18:02:05.262Z"
   },
   {
    "duration": 18,
    "start_time": "2022-06-19T18:02:05.290Z"
   },
   {
    "duration": 4,
    "start_time": "2022-06-19T18:02:05.310Z"
   },
   {
    "duration": 12,
    "start_time": "2022-06-19T18:02:05.316Z"
   },
   {
    "duration": 32,
    "start_time": "2022-06-19T18:02:05.330Z"
   },
   {
    "duration": 15,
    "start_time": "2022-06-19T18:02:05.364Z"
   },
   {
    "duration": 7,
    "start_time": "2022-06-19T18:02:05.381Z"
   },
   {
    "duration": 12,
    "start_time": "2022-06-19T18:02:05.390Z"
   },
   {
    "duration": 37,
    "start_time": "2022-06-19T18:02:05.404Z"
   },
   {
    "duration": 13,
    "start_time": "2022-06-19T18:02:05.443Z"
   },
   {
    "duration": 20,
    "start_time": "2022-06-19T18:02:05.458Z"
   },
   {
    "duration": 54,
    "start_time": "2022-06-19T18:02:05.480Z"
   },
   {
    "duration": 16,
    "start_time": "2022-06-19T18:02:05.536Z"
   },
   {
    "duration": 14,
    "start_time": "2022-06-19T18:02:05.554Z"
   },
   {
    "duration": 337,
    "start_time": "2022-06-19T18:02:05.570Z"
   },
   {
    "duration": 19,
    "start_time": "2022-06-19T18:02:05.909Z"
   },
   {
    "duration": 251,
    "start_time": "2022-06-19T18:02:05.930Z"
   },
   {
    "duration": 363,
    "start_time": "2022-06-19T18:02:06.183Z"
   },
   {
    "duration": 9,
    "start_time": "2022-06-19T18:02:06.548Z"
   },
   {
    "duration": 114,
    "start_time": "2022-06-19T18:02:06.558Z"
   },
   {
    "duration": 17,
    "start_time": "2022-06-19T18:02:06.674Z"
   },
   {
    "duration": 16,
    "start_time": "2022-06-19T18:02:06.695Z"
   },
   {
    "duration": 157,
    "start_time": "2022-06-19T18:02:06.712Z"
   },
   {
    "duration": 324,
    "start_time": "2022-06-19T18:02:06.870Z"
   },
   {
    "duration": 183,
    "start_time": "2022-06-19T18:02:07.196Z"
   },
   {
    "duration": 17,
    "start_time": "2022-06-19T18:02:07.380Z"
   },
   {
    "duration": 40,
    "start_time": "2022-06-19T18:02:07.399Z"
   },
   {
    "duration": 1357,
    "start_time": "2022-06-19T18:02:07.440Z"
   },
   {
    "duration": 12,
    "start_time": "2022-06-19T18:02:08.799Z"
   },
   {
    "duration": 24,
    "start_time": "2022-06-19T18:02:08.813Z"
   },
   {
    "duration": 1430,
    "start_time": "2022-06-19T18:02:08.838Z"
   },
   {
    "duration": 11,
    "start_time": "2022-06-19T18:02:10.270Z"
   },
   {
    "duration": 13,
    "start_time": "2022-06-19T18:02:10.282Z"
   },
   {
    "duration": 1358,
    "start_time": "2022-06-19T18:02:10.297Z"
   },
   {
    "duration": 13,
    "start_time": "2022-06-19T18:02:11.657Z"
   },
   {
    "duration": 12,
    "start_time": "2022-06-19T18:02:11.671Z"
   },
   {
    "duration": 1292,
    "start_time": "2022-06-19T18:02:11.685Z"
   },
   {
    "duration": 13,
    "start_time": "2022-06-19T18:02:12.979Z"
   },
   {
    "duration": 26,
    "start_time": "2022-06-19T18:02:12.993Z"
   },
   {
    "duration": 1486,
    "start_time": "2022-06-19T18:02:13.021Z"
   },
   {
    "duration": 11,
    "start_time": "2022-06-19T18:02:14.509Z"
   },
   {
    "duration": 20,
    "start_time": "2022-06-19T18:02:14.527Z"
   },
   {
    "duration": 31,
    "start_time": "2022-06-19T18:02:14.548Z"
   },
   {
    "duration": 180,
    "start_time": "2022-06-19T18:02:14.581Z"
   },
   {
    "duration": 11,
    "start_time": "2022-06-19T18:02:14.763Z"
   },
   {
    "duration": 120,
    "start_time": "2022-06-19T18:02:14.776Z"
   },
   {
    "duration": 95,
    "start_time": "2022-06-19T18:02:14.898Z"
   },
   {
    "duration": 97,
    "start_time": "2022-06-19T18:02:14.994Z"
   },
   {
    "duration": 10,
    "start_time": "2022-06-19T18:02:15.093Z"
   },
   {
    "duration": 115,
    "start_time": "2022-06-19T18:02:15.104Z"
   },
   {
    "duration": 99,
    "start_time": "2022-06-19T18:02:15.220Z"
   },
   {
    "duration": 187,
    "start_time": "2022-06-19T18:02:15.326Z"
   },
   {
    "duration": 17,
    "start_time": "2022-06-19T18:02:15.515Z"
   },
   {
    "duration": 136,
    "start_time": "2022-06-19T18:02:15.534Z"
   },
   {
    "duration": 126,
    "start_time": "2022-06-19T18:02:15.672Z"
   },
   {
    "duration": 148,
    "start_time": "2022-06-19T18:02:15.800Z"
   },
   {
    "duration": 10,
    "start_time": "2022-06-19T18:02:15.950Z"
   },
   {
    "duration": 16,
    "start_time": "2022-06-19T18:02:15.962Z"
   },
   {
    "duration": 7,
    "start_time": "2022-06-19T18:02:15.979Z"
   },
   {
    "duration": 14,
    "start_time": "2022-06-19T18:02:15.988Z"
   },
   {
    "duration": 5,
    "start_time": "2022-06-19T18:02:16.004Z"
   },
   {
    "duration": 5,
    "start_time": "2022-06-19T18:02:16.027Z"
   },
   {
    "duration": 146,
    "start_time": "2022-06-19T18:04:22.649Z"
   },
   {
    "duration": 573,
    "start_time": "2022-06-19T18:04:29.185Z"
   },
   {
    "duration": 1071,
    "start_time": "2022-06-19T18:04:29.760Z"
   },
   {
    "duration": 56,
    "start_time": "2022-06-19T18:04:30.832Z"
   },
   {
    "duration": 18,
    "start_time": "2022-06-19T18:04:30.889Z"
   },
   {
    "duration": 18,
    "start_time": "2022-06-19T18:04:30.909Z"
   },
   {
    "duration": 14,
    "start_time": "2022-06-19T18:04:30.928Z"
   },
   {
    "duration": 27,
    "start_time": "2022-06-19T18:04:30.943Z"
   },
   {
    "duration": 35,
    "start_time": "2022-06-19T18:04:30.972Z"
   },
   {
    "duration": 5,
    "start_time": "2022-06-19T18:04:31.009Z"
   },
   {
    "duration": 11,
    "start_time": "2022-06-19T18:04:31.015Z"
   },
   {
    "duration": 33,
    "start_time": "2022-06-19T18:04:31.027Z"
   },
   {
    "duration": 12,
    "start_time": "2022-06-19T18:04:31.061Z"
   },
   {
    "duration": 6,
    "start_time": "2022-06-19T18:04:31.074Z"
   },
   {
    "duration": 17,
    "start_time": "2022-06-19T18:04:31.083Z"
   },
   {
    "duration": 26,
    "start_time": "2022-06-19T18:04:31.102Z"
   },
   {
    "duration": 11,
    "start_time": "2022-06-19T18:04:31.130Z"
   },
   {
    "duration": 23,
    "start_time": "2022-06-19T18:04:31.143Z"
   },
   {
    "duration": 20,
    "start_time": "2022-06-19T18:04:31.168Z"
   },
   {
    "duration": 38,
    "start_time": "2022-06-19T18:04:31.190Z"
   },
   {
    "duration": 10,
    "start_time": "2022-06-19T18:04:31.229Z"
   },
   {
    "duration": 307,
    "start_time": "2022-06-19T18:04:31.241Z"
   },
   {
    "duration": 7,
    "start_time": "2022-06-19T18:04:31.549Z"
   },
   {
    "duration": 254,
    "start_time": "2022-06-19T18:04:31.558Z"
   },
   {
    "duration": 302,
    "start_time": "2022-06-19T18:04:31.814Z"
   },
   {
    "duration": 11,
    "start_time": "2022-06-19T18:04:32.118Z"
   },
   {
    "duration": 123,
    "start_time": "2022-06-19T18:04:32.131Z"
   },
   {
    "duration": 17,
    "start_time": "2022-06-19T18:04:32.255Z"
   },
   {
    "duration": 6,
    "start_time": "2022-06-19T18:04:32.274Z"
   },
   {
    "duration": 162,
    "start_time": "2022-06-19T18:04:32.281Z"
   },
   {
    "duration": 290,
    "start_time": "2022-06-19T18:04:32.445Z"
   },
   {
    "duration": 155,
    "start_time": "2022-06-19T18:04:32.737Z"
   },
   {
    "duration": 17,
    "start_time": "2022-06-19T18:04:32.893Z"
   },
   {
    "duration": 40,
    "start_time": "2022-06-19T18:04:32.911Z"
   },
   {
    "duration": 1372,
    "start_time": "2022-06-19T18:04:32.952Z"
   },
   {
    "duration": 11,
    "start_time": "2022-06-19T18:04:34.326Z"
   },
   {
    "duration": 12,
    "start_time": "2022-06-19T18:04:34.338Z"
   },
   {
    "duration": 1414,
    "start_time": "2022-06-19T18:04:34.351Z"
   },
   {
    "duration": 11,
    "start_time": "2022-06-19T18:04:35.766Z"
   },
   {
    "duration": 15,
    "start_time": "2022-06-19T18:04:35.778Z"
   },
   {
    "duration": 1421,
    "start_time": "2022-06-19T18:04:35.794Z"
   },
   {
    "duration": 14,
    "start_time": "2022-06-19T18:04:37.219Z"
   },
   {
    "duration": 14,
    "start_time": "2022-06-19T18:04:37.234Z"
   },
   {
    "duration": 1283,
    "start_time": "2022-06-19T18:04:37.250Z"
   },
   {
    "duration": 12,
    "start_time": "2022-06-19T18:04:38.535Z"
   },
   {
    "duration": 13,
    "start_time": "2022-06-19T18:04:38.550Z"
   },
   {
    "duration": 1554,
    "start_time": "2022-06-19T18:04:38.565Z"
   },
   {
    "duration": 10,
    "start_time": "2022-06-19T18:04:40.121Z"
   },
   {
    "duration": 16,
    "start_time": "2022-06-19T18:04:40.133Z"
   },
   {
    "duration": 9,
    "start_time": "2022-06-19T18:04:40.150Z"
   },
   {
    "duration": 173,
    "start_time": "2022-06-19T18:04:40.160Z"
   },
   {
    "duration": 10,
    "start_time": "2022-06-19T18:04:40.335Z"
   },
   {
    "duration": 89,
    "start_time": "2022-06-19T18:04:40.347Z"
   },
   {
    "duration": 91,
    "start_time": "2022-06-19T18:04:40.438Z"
   },
   {
    "duration": 80,
    "start_time": "2022-06-19T18:04:40.531Z"
   },
   {
    "duration": 23,
    "start_time": "2022-06-19T18:04:40.613Z"
   },
   {
    "duration": 98,
    "start_time": "2022-06-19T18:04:40.637Z"
   },
   {
    "duration": 96,
    "start_time": "2022-06-19T18:04:40.736Z"
   },
   {
    "duration": 184,
    "start_time": "2022-06-19T18:04:40.834Z"
   },
   {
    "duration": 10,
    "start_time": "2022-06-19T18:04:41.027Z"
   },
   {
    "duration": 132,
    "start_time": "2022-06-19T18:04:41.038Z"
   },
   {
    "duration": 128,
    "start_time": "2022-06-19T18:04:41.172Z"
   },
   {
    "duration": 131,
    "start_time": "2022-06-19T18:04:41.302Z"
   },
   {
    "duration": 10,
    "start_time": "2022-06-19T18:04:41.435Z"
   },
   {
    "duration": 7,
    "start_time": "2022-06-19T18:04:41.447Z"
   },
   {
    "duration": 6,
    "start_time": "2022-06-19T18:04:41.456Z"
   },
   {
    "duration": 12,
    "start_time": "2022-06-19T18:04:41.464Z"
   },
   {
    "duration": 6,
    "start_time": "2022-06-19T18:04:41.477Z"
   },
   {
    "duration": 5,
    "start_time": "2022-06-19T18:04:41.484Z"
   },
   {
    "duration": 168,
    "start_time": "2022-06-19T18:05:12.600Z"
   },
   {
    "duration": 155,
    "start_time": "2022-06-19T18:05:42.029Z"
   },
   {
    "duration": 24,
    "start_time": "2022-06-19T18:06:10.826Z"
   },
   {
    "duration": 20,
    "start_time": "2022-06-19T18:06:21.183Z"
   },
   {
    "duration": 172,
    "start_time": "2022-06-19T18:06:38.367Z"
   },
   {
    "duration": 165,
    "start_time": "2022-06-19T18:06:59.254Z"
   },
   {
    "duration": 196,
    "start_time": "2022-06-19T18:07:08.087Z"
   },
   {
    "duration": 26,
    "start_time": "2022-06-19T18:11:49.948Z"
   },
   {
    "duration": 608,
    "start_time": "2022-06-19T18:12:04.893Z"
   },
   {
    "duration": 1180,
    "start_time": "2022-06-19T18:12:05.503Z"
   },
   {
    "duration": 55,
    "start_time": "2022-06-19T18:12:06.685Z"
   },
   {
    "duration": 19,
    "start_time": "2022-06-19T18:12:06.741Z"
   },
   {
    "duration": 16,
    "start_time": "2022-06-19T18:12:06.763Z"
   },
   {
    "duration": 14,
    "start_time": "2022-06-19T18:12:06.781Z"
   },
   {
    "duration": 45,
    "start_time": "2022-06-19T18:12:06.797Z"
   },
   {
    "duration": 19,
    "start_time": "2022-06-19T18:12:06.844Z"
   },
   {
    "duration": 6,
    "start_time": "2022-06-19T18:12:06.864Z"
   },
   {
    "duration": 11,
    "start_time": "2022-06-19T18:12:06.871Z"
   },
   {
    "duration": 48,
    "start_time": "2022-06-19T18:12:06.883Z"
   },
   {
    "duration": 15,
    "start_time": "2022-06-19T18:12:06.933Z"
   },
   {
    "duration": 9,
    "start_time": "2022-06-19T18:12:06.951Z"
   },
   {
    "duration": 10,
    "start_time": "2022-06-19T18:12:06.964Z"
   },
   {
    "duration": 20,
    "start_time": "2022-06-19T18:12:06.975Z"
   },
   {
    "duration": 40,
    "start_time": "2022-06-19T18:12:06.997Z"
   },
   {
    "duration": 24,
    "start_time": "2022-06-19T18:12:07.039Z"
   },
   {
    "duration": 23,
    "start_time": "2022-06-19T18:12:07.065Z"
   },
   {
    "duration": 42,
    "start_time": "2022-06-19T18:12:07.089Z"
   },
   {
    "duration": 11,
    "start_time": "2022-06-19T18:12:07.133Z"
   },
   {
    "duration": 342,
    "start_time": "2022-06-19T18:12:07.146Z"
   },
   {
    "duration": 8,
    "start_time": "2022-06-19T18:12:07.490Z"
   },
   {
    "duration": 275,
    "start_time": "2022-06-19T18:12:07.499Z"
   },
   {
    "duration": 327,
    "start_time": "2022-06-19T18:12:07.776Z"
   },
   {
    "duration": 10,
    "start_time": "2022-06-19T18:12:08.104Z"
   },
   {
    "duration": 109,
    "start_time": "2022-06-19T18:12:08.115Z"
   },
   {
    "duration": 17,
    "start_time": "2022-06-19T18:12:08.225Z"
   },
   {
    "duration": 7,
    "start_time": "2022-06-19T18:12:08.243Z"
   },
   {
    "duration": 175,
    "start_time": "2022-06-19T18:12:08.252Z"
   },
   {
    "duration": 329,
    "start_time": "2022-06-19T18:12:08.429Z"
   },
   {
    "duration": 190,
    "start_time": "2022-06-19T18:12:08.759Z"
   },
   {
    "duration": 208,
    "start_time": "2022-06-19T18:12:08.950Z"
   },
   {
    "duration": 18,
    "start_time": "2022-06-19T18:12:09.159Z"
   },
   {
    "duration": 34,
    "start_time": "2022-06-19T18:12:09.178Z"
   },
   {
    "duration": 1490,
    "start_time": "2022-06-19T18:12:09.227Z"
   },
   {
    "duration": 18,
    "start_time": "2022-06-19T18:12:10.719Z"
   },
   {
    "duration": 20,
    "start_time": "2022-06-19T18:12:10.739Z"
   },
   {
    "duration": 1540,
    "start_time": "2022-06-19T18:12:10.761Z"
   },
   {
    "duration": 12,
    "start_time": "2022-06-19T18:12:12.302Z"
   },
   {
    "duration": 11,
    "start_time": "2022-06-19T18:12:12.326Z"
   },
   {
    "duration": 1394,
    "start_time": "2022-06-19T18:12:12.341Z"
   },
   {
    "duration": 12,
    "start_time": "2022-06-19T18:12:13.737Z"
   },
   {
    "duration": 22,
    "start_time": "2022-06-19T18:12:13.751Z"
   },
   {
    "duration": 1451,
    "start_time": "2022-06-19T18:12:13.774Z"
   },
   {
    "duration": 11,
    "start_time": "2022-06-19T18:12:15.227Z"
   },
   {
    "duration": 11,
    "start_time": "2022-06-19T18:12:15.240Z"
   },
   {
    "duration": 1568,
    "start_time": "2022-06-19T18:12:15.253Z"
   },
   {
    "duration": 13,
    "start_time": "2022-06-19T18:12:16.823Z"
   },
   {
    "duration": 11,
    "start_time": "2022-06-19T18:12:16.838Z"
   },
   {
    "duration": 9,
    "start_time": "2022-06-19T18:12:16.851Z"
   },
   {
    "duration": 199,
    "start_time": "2022-06-19T18:12:16.861Z"
   },
   {
    "duration": 5,
    "start_time": "2022-06-19T18:12:17.061Z"
   },
   {
    "duration": 0,
    "start_time": "2022-06-19T18:12:17.068Z"
   },
   {
    "duration": 0,
    "start_time": "2022-06-19T18:12:17.070Z"
   },
   {
    "duration": 0,
    "start_time": "2022-06-19T18:12:17.071Z"
   },
   {
    "duration": 0,
    "start_time": "2022-06-19T18:12:17.072Z"
   },
   {
    "duration": 0,
    "start_time": "2022-06-19T18:12:17.074Z"
   },
   {
    "duration": 0,
    "start_time": "2022-06-19T18:12:17.075Z"
   },
   {
    "duration": 0,
    "start_time": "2022-06-19T18:12:17.077Z"
   },
   {
    "duration": 0,
    "start_time": "2022-06-19T18:12:17.078Z"
   },
   {
    "duration": 0,
    "start_time": "2022-06-19T18:12:17.080Z"
   },
   {
    "duration": 0,
    "start_time": "2022-06-19T18:12:17.081Z"
   },
   {
    "duration": 0,
    "start_time": "2022-06-19T18:12:17.082Z"
   },
   {
    "duration": 0,
    "start_time": "2022-06-19T18:12:17.084Z"
   },
   {
    "duration": 0,
    "start_time": "2022-06-19T18:12:17.085Z"
   },
   {
    "duration": 0,
    "start_time": "2022-06-19T18:12:17.086Z"
   },
   {
    "duration": 0,
    "start_time": "2022-06-19T18:12:17.088Z"
   },
   {
    "duration": 0,
    "start_time": "2022-06-19T18:12:17.088Z"
   },
   {
    "duration": 0,
    "start_time": "2022-06-19T18:12:17.126Z"
   },
   {
    "duration": 0,
    "start_time": "2022-06-19T18:12:17.128Z"
   },
   {
    "duration": 5,
    "start_time": "2022-06-19T18:12:57.257Z"
   },
   {
    "duration": 25,
    "start_time": "2022-06-19T18:13:31.331Z"
   },
   {
    "duration": 593,
    "start_time": "2022-06-19T18:13:43.975Z"
   },
   {
    "duration": 1056,
    "start_time": "2022-06-19T18:13:44.571Z"
   },
   {
    "duration": 54,
    "start_time": "2022-06-19T18:13:45.628Z"
   },
   {
    "duration": 17,
    "start_time": "2022-06-19T18:13:45.684Z"
   },
   {
    "duration": 14,
    "start_time": "2022-06-19T18:13:45.702Z"
   },
   {
    "duration": 15,
    "start_time": "2022-06-19T18:13:45.717Z"
   },
   {
    "duration": 11,
    "start_time": "2022-06-19T18:13:45.734Z"
   },
   {
    "duration": 18,
    "start_time": "2022-06-19T18:13:45.747Z"
   },
   {
    "duration": 6,
    "start_time": "2022-06-19T18:13:45.767Z"
   },
   {
    "duration": 10,
    "start_time": "2022-06-19T18:13:45.775Z"
   },
   {
    "duration": 60,
    "start_time": "2022-06-19T18:13:45.787Z"
   },
   {
    "duration": 12,
    "start_time": "2022-06-19T18:13:45.849Z"
   },
   {
    "duration": 13,
    "start_time": "2022-06-19T18:13:45.862Z"
   },
   {
    "duration": 10,
    "start_time": "2022-06-19T18:13:45.876Z"
   },
   {
    "duration": 41,
    "start_time": "2022-06-19T18:13:45.887Z"
   },
   {
    "duration": 13,
    "start_time": "2022-06-19T18:13:45.929Z"
   },
   {
    "duration": 21,
    "start_time": "2022-06-19T18:13:45.944Z"
   },
   {
    "duration": 21,
    "start_time": "2022-06-19T18:13:45.967Z"
   },
   {
    "duration": 41,
    "start_time": "2022-06-19T18:13:45.989Z"
   },
   {
    "duration": 12,
    "start_time": "2022-06-19T18:13:46.032Z"
   },
   {
    "duration": 324,
    "start_time": "2022-06-19T18:13:46.046Z"
   },
   {
    "duration": 7,
    "start_time": "2022-06-19T18:13:46.372Z"
   },
   {
    "duration": 345,
    "start_time": "2022-06-19T18:13:46.380Z"
   },
   {
    "duration": 293,
    "start_time": "2022-06-19T18:13:46.726Z"
   },
   {
    "duration": 10,
    "start_time": "2022-06-19T18:13:47.020Z"
   },
   {
    "duration": 120,
    "start_time": "2022-06-19T18:13:47.031Z"
   },
   {
    "duration": 18,
    "start_time": "2022-06-19T18:13:47.153Z"
   },
   {
    "duration": 7,
    "start_time": "2022-06-19T18:13:47.176Z"
   },
   {
    "duration": 223,
    "start_time": "2022-06-19T18:13:47.184Z"
   },
   {
    "duration": 321,
    "start_time": "2022-06-19T18:13:47.409Z"
   },
   {
    "duration": 180,
    "start_time": "2022-06-19T18:13:47.732Z"
   },
   {
    "duration": 195,
    "start_time": "2022-06-19T18:13:47.914Z"
   },
   {
    "duration": 27,
    "start_time": "2022-06-19T18:13:48.110Z"
   },
   {
    "duration": 30,
    "start_time": "2022-06-19T18:13:48.139Z"
   },
   {
    "duration": 1415,
    "start_time": "2022-06-19T18:13:48.171Z"
   },
   {
    "duration": 10,
    "start_time": "2022-06-19T18:13:49.588Z"
   },
   {
    "duration": 28,
    "start_time": "2022-06-19T18:13:49.600Z"
   },
   {
    "duration": 1384,
    "start_time": "2022-06-19T18:13:49.629Z"
   },
   {
    "duration": 16,
    "start_time": "2022-06-19T18:13:51.015Z"
   },
   {
    "duration": 15,
    "start_time": "2022-06-19T18:13:51.032Z"
   },
   {
    "duration": 1391,
    "start_time": "2022-06-19T18:13:51.049Z"
   },
   {
    "duration": 11,
    "start_time": "2022-06-19T18:13:52.442Z"
   },
   {
    "duration": 22,
    "start_time": "2022-06-19T18:13:52.455Z"
   },
   {
    "duration": 1505,
    "start_time": "2022-06-19T18:13:52.478Z"
   },
   {
    "duration": 10,
    "start_time": "2022-06-19T18:13:53.985Z"
   },
   {
    "duration": 41,
    "start_time": "2022-06-19T18:13:53.997Z"
   },
   {
    "duration": 1383,
    "start_time": "2022-06-19T18:13:54.039Z"
   },
   {
    "duration": 11,
    "start_time": "2022-06-19T18:13:55.423Z"
   },
   {
    "duration": 13,
    "start_time": "2022-06-19T18:13:55.436Z"
   },
   {
    "duration": 6,
    "start_time": "2022-06-19T18:13:55.451Z"
   },
   {
    "duration": 202,
    "start_time": "2022-06-19T18:13:55.459Z"
   },
   {
    "duration": 4,
    "start_time": "2022-06-19T18:13:55.663Z"
   },
   {
    "duration": 0,
    "start_time": "2022-06-19T18:13:55.669Z"
   },
   {
    "duration": 0,
    "start_time": "2022-06-19T18:13:55.670Z"
   },
   {
    "duration": 0,
    "start_time": "2022-06-19T18:13:55.671Z"
   },
   {
    "duration": 0,
    "start_time": "2022-06-19T18:13:55.672Z"
   },
   {
    "duration": 0,
    "start_time": "2022-06-19T18:13:55.673Z"
   },
   {
    "duration": 0,
    "start_time": "2022-06-19T18:13:55.674Z"
   },
   {
    "duration": 0,
    "start_time": "2022-06-19T18:13:55.676Z"
   },
   {
    "duration": 0,
    "start_time": "2022-06-19T18:13:55.677Z"
   },
   {
    "duration": 0,
    "start_time": "2022-06-19T18:13:55.678Z"
   },
   {
    "duration": 0,
    "start_time": "2022-06-19T18:13:55.680Z"
   },
   {
    "duration": 0,
    "start_time": "2022-06-19T18:13:55.681Z"
   },
   {
    "duration": 0,
    "start_time": "2022-06-19T18:13:55.683Z"
   },
   {
    "duration": 0,
    "start_time": "2022-06-19T18:13:55.684Z"
   },
   {
    "duration": 0,
    "start_time": "2022-06-19T18:13:55.686Z"
   },
   {
    "duration": 0,
    "start_time": "2022-06-19T18:13:55.688Z"
   },
   {
    "duration": 0,
    "start_time": "2022-06-19T18:13:55.728Z"
   },
   {
    "duration": 0,
    "start_time": "2022-06-19T18:13:55.729Z"
   },
   {
    "duration": 0,
    "start_time": "2022-06-19T18:13:55.730Z"
   },
   {
    "duration": 6,
    "start_time": "2022-06-19T18:14:31.904Z"
   },
   {
    "duration": 114,
    "start_time": "2022-06-19T18:14:56.515Z"
   },
   {
    "duration": 14,
    "start_time": "2022-06-19T18:15:23.739Z"
   },
   {
    "duration": 614,
    "start_time": "2022-06-19T18:16:34.377Z"
   },
   {
    "duration": 1013,
    "start_time": "2022-06-19T18:16:34.994Z"
   },
   {
    "duration": 55,
    "start_time": "2022-06-19T18:16:36.008Z"
   },
   {
    "duration": 18,
    "start_time": "2022-06-19T18:16:36.065Z"
   },
   {
    "duration": 13,
    "start_time": "2022-06-19T18:16:36.086Z"
   },
   {
    "duration": 33,
    "start_time": "2022-06-19T18:16:36.101Z"
   },
   {
    "duration": 19,
    "start_time": "2022-06-19T18:16:36.137Z"
   },
   {
    "duration": 26,
    "start_time": "2022-06-19T18:16:36.158Z"
   },
   {
    "duration": 10,
    "start_time": "2022-06-19T18:16:36.187Z"
   },
   {
    "duration": 35,
    "start_time": "2022-06-19T18:16:36.199Z"
   },
   {
    "duration": 42,
    "start_time": "2022-06-19T18:16:36.235Z"
   },
   {
    "duration": 20,
    "start_time": "2022-06-19T18:16:36.280Z"
   },
   {
    "duration": 26,
    "start_time": "2022-06-19T18:16:36.302Z"
   },
   {
    "duration": 17,
    "start_time": "2022-06-19T18:16:36.333Z"
   },
   {
    "duration": 26,
    "start_time": "2022-06-19T18:16:36.352Z"
   },
   {
    "duration": 19,
    "start_time": "2022-06-19T18:16:36.380Z"
   },
   {
    "duration": 45,
    "start_time": "2022-06-19T18:16:36.402Z"
   },
   {
    "duration": 46,
    "start_time": "2022-06-19T18:16:36.450Z"
   },
   {
    "duration": 19,
    "start_time": "2022-06-19T18:16:36.498Z"
   },
   {
    "duration": 12,
    "start_time": "2022-06-19T18:16:36.528Z"
   },
   {
    "duration": 341,
    "start_time": "2022-06-19T18:16:36.542Z"
   },
   {
    "duration": 9,
    "start_time": "2022-06-19T18:16:36.885Z"
   },
   {
    "duration": 267,
    "start_time": "2022-06-19T18:16:36.895Z"
   },
   {
    "duration": 283,
    "start_time": "2022-06-19T18:16:37.164Z"
   },
   {
    "duration": 9,
    "start_time": "2022-06-19T18:16:37.449Z"
   },
   {
    "duration": 120,
    "start_time": "2022-06-19T18:16:37.460Z"
   },
   {
    "duration": 17,
    "start_time": "2022-06-19T18:16:37.582Z"
   },
   {
    "duration": 7,
    "start_time": "2022-06-19T18:16:37.600Z"
   },
   {
    "duration": 178,
    "start_time": "2022-06-19T18:16:37.608Z"
   },
   {
    "duration": 326,
    "start_time": "2022-06-19T18:16:37.788Z"
   },
   {
    "duration": 173,
    "start_time": "2022-06-19T18:16:38.116Z"
   },
   {
    "duration": 195,
    "start_time": "2022-06-19T18:16:38.291Z"
   },
   {
    "duration": 20,
    "start_time": "2022-06-19T18:16:38.487Z"
   },
   {
    "duration": 46,
    "start_time": "2022-06-19T18:16:38.509Z"
   },
   {
    "duration": 1531,
    "start_time": "2022-06-19T18:16:38.557Z"
   },
   {
    "duration": 12,
    "start_time": "2022-06-19T18:16:40.090Z"
   },
   {
    "duration": 27,
    "start_time": "2022-06-19T18:16:40.103Z"
   },
   {
    "duration": 1536,
    "start_time": "2022-06-19T18:16:40.132Z"
   },
   {
    "duration": 14,
    "start_time": "2022-06-19T18:16:41.671Z"
   },
   {
    "duration": 20,
    "start_time": "2022-06-19T18:16:41.687Z"
   },
   {
    "duration": 1316,
    "start_time": "2022-06-19T18:16:41.727Z"
   },
   {
    "duration": 10,
    "start_time": "2022-06-19T18:16:43.045Z"
   },
   {
    "duration": 13,
    "start_time": "2022-06-19T18:16:43.056Z"
   },
   {
    "duration": 1397,
    "start_time": "2022-06-19T18:16:43.070Z"
   },
   {
    "duration": 11,
    "start_time": "2022-06-19T18:16:44.469Z"
   },
   {
    "duration": 21,
    "start_time": "2022-06-19T18:16:44.481Z"
   },
   {
    "duration": 1468,
    "start_time": "2022-06-19T18:16:44.503Z"
   },
   {
    "duration": 14,
    "start_time": "2022-06-19T18:16:45.974Z"
   },
   {
    "duration": 27,
    "start_time": "2022-06-19T18:16:45.990Z"
   },
   {
    "duration": 24,
    "start_time": "2022-06-19T18:16:46.020Z"
   },
   {
    "duration": 226,
    "start_time": "2022-06-19T18:16:46.046Z"
   },
   {
    "duration": 13,
    "start_time": "2022-06-19T18:16:46.274Z"
   },
   {
    "duration": 128,
    "start_time": "2022-06-19T18:16:46.289Z"
   },
   {
    "duration": 132,
    "start_time": "2022-06-19T18:16:46.419Z"
   },
   {
    "duration": 146,
    "start_time": "2022-06-19T18:16:46.553Z"
   },
   {
    "duration": 15,
    "start_time": "2022-06-19T18:16:46.701Z"
   },
   {
    "duration": 94,
    "start_time": "2022-06-19T18:16:46.718Z"
   },
   {
    "duration": 218,
    "start_time": "2022-06-19T18:16:46.814Z"
   },
   {
    "duration": 109,
    "start_time": "2022-06-19T18:16:47.035Z"
   },
   {
    "duration": 13,
    "start_time": "2022-06-19T18:16:47.147Z"
   },
   {
    "duration": 162,
    "start_time": "2022-06-19T18:16:47.162Z"
   },
   {
    "duration": 130,
    "start_time": "2022-06-19T18:16:47.327Z"
   },
   {
    "duration": 146,
    "start_time": "2022-06-19T18:16:47.458Z"
   },
   {
    "duration": 14,
    "start_time": "2022-06-19T18:16:47.606Z"
   },
   {
    "duration": 8,
    "start_time": "2022-06-19T18:16:47.621Z"
   },
   {
    "duration": 10,
    "start_time": "2022-06-19T18:16:47.631Z"
   },
   {
    "duration": 24,
    "start_time": "2022-06-19T18:16:47.643Z"
   },
   {
    "duration": 13,
    "start_time": "2022-06-19T18:16:47.669Z"
   },
   {
    "duration": 13,
    "start_time": "2022-06-19T18:16:47.684Z"
   },
   {
    "duration": 40,
    "start_time": "2022-06-20T12:32:34.995Z"
   },
   {
    "duration": 364,
    "start_time": "2022-06-20T12:32:42.089Z"
   },
   {
    "duration": 1087,
    "start_time": "2022-06-20T12:32:42.456Z"
   },
   {
    "duration": 169,
    "start_time": "2022-06-20T12:32:43.545Z"
   },
   {
    "duration": 16,
    "start_time": "2022-06-20T12:32:43.716Z"
   },
   {
    "duration": 11,
    "start_time": "2022-06-20T12:32:43.735Z"
   },
   {
    "duration": 12,
    "start_time": "2022-06-20T12:32:43.748Z"
   },
   {
    "duration": 11,
    "start_time": "2022-06-20T12:32:43.761Z"
   },
   {
    "duration": 29,
    "start_time": "2022-06-20T12:32:43.773Z"
   },
   {
    "duration": 5,
    "start_time": "2022-06-20T12:32:43.804Z"
   },
   {
    "duration": 9,
    "start_time": "2022-06-20T12:32:43.811Z"
   },
   {
    "duration": 29,
    "start_time": "2022-06-20T12:32:43.821Z"
   },
   {
    "duration": 13,
    "start_time": "2022-06-20T12:32:43.851Z"
   },
   {
    "duration": 29,
    "start_time": "2022-06-20T12:32:43.865Z"
   },
   {
    "duration": 7,
    "start_time": "2022-06-20T12:32:43.898Z"
   },
   {
    "duration": 16,
    "start_time": "2022-06-20T12:32:43.906Z"
   },
   {
    "duration": 11,
    "start_time": "2022-06-20T12:32:43.923Z"
   },
   {
    "duration": 17,
    "start_time": "2022-06-20T12:32:43.935Z"
   },
   {
    "duration": 18,
    "start_time": "2022-06-20T12:32:43.953Z"
   },
   {
    "duration": 13,
    "start_time": "2022-06-20T12:32:43.994Z"
   },
   {
    "duration": 10,
    "start_time": "2022-06-20T12:32:44.008Z"
   },
   {
    "duration": 288,
    "start_time": "2022-06-20T12:32:44.019Z"
   },
   {
    "duration": 7,
    "start_time": "2022-06-20T12:32:44.308Z"
   },
   {
    "duration": 220,
    "start_time": "2022-06-20T12:32:44.316Z"
   },
   {
    "duration": 251,
    "start_time": "2022-06-20T12:32:44.537Z"
   },
   {
    "duration": 8,
    "start_time": "2022-06-20T12:32:44.790Z"
   },
   {
    "duration": 102,
    "start_time": "2022-06-20T12:32:44.799Z"
   },
   {
    "duration": 14,
    "start_time": "2022-06-20T12:32:44.903Z"
   },
   {
    "duration": 7,
    "start_time": "2022-06-20T12:32:44.919Z"
   },
   {
    "duration": 142,
    "start_time": "2022-06-20T12:32:44.928Z"
   },
   {
    "duration": 263,
    "start_time": "2022-06-20T12:32:45.072Z"
   },
   {
    "duration": 157,
    "start_time": "2022-06-20T12:32:45.337Z"
   },
   {
    "duration": 171,
    "start_time": "2022-06-20T12:32:45.495Z"
   },
   {
    "duration": 15,
    "start_time": "2022-06-20T12:32:45.667Z"
   },
   {
    "duration": 35,
    "start_time": "2022-06-20T12:32:45.683Z"
   },
   {
    "duration": 1266,
    "start_time": "2022-06-20T12:32:45.720Z"
   },
   {
    "duration": 9,
    "start_time": "2022-06-20T12:32:46.994Z"
   },
   {
    "duration": 11,
    "start_time": "2022-06-20T12:32:47.004Z"
   },
   {
    "duration": 1314,
    "start_time": "2022-06-20T12:32:47.016Z"
   },
   {
    "duration": 11,
    "start_time": "2022-06-20T12:32:48.331Z"
   },
   {
    "duration": 10,
    "start_time": "2022-06-20T12:32:48.343Z"
   },
   {
    "duration": 1186,
    "start_time": "2022-06-20T12:32:48.357Z"
   },
   {
    "duration": 10,
    "start_time": "2022-06-20T12:32:49.544Z"
   },
   {
    "duration": 8,
    "start_time": "2022-06-20T12:32:49.556Z"
   },
   {
    "duration": 1271,
    "start_time": "2022-06-20T12:32:49.565Z"
   },
   {
    "duration": 11,
    "start_time": "2022-06-20T12:32:50.838Z"
   },
   {
    "duration": 13,
    "start_time": "2022-06-20T12:32:50.850Z"
   },
   {
    "duration": 1261,
    "start_time": "2022-06-20T12:32:50.864Z"
   },
   {
    "duration": 9,
    "start_time": "2022-06-20T12:32:52.127Z"
   },
   {
    "duration": 10,
    "start_time": "2022-06-20T12:32:52.137Z"
   },
   {
    "duration": 5,
    "start_time": "2022-06-20T12:32:52.148Z"
   },
   {
    "duration": 156,
    "start_time": "2022-06-20T12:32:52.154Z"
   },
   {
    "duration": 10,
    "start_time": "2022-06-20T12:32:52.311Z"
   },
   {
    "duration": 90,
    "start_time": "2022-06-20T12:32:52.322Z"
   },
   {
    "duration": 71,
    "start_time": "2022-06-20T12:32:52.414Z"
   },
   {
    "duration": 74,
    "start_time": "2022-06-20T12:32:52.494Z"
   },
   {
    "duration": 9,
    "start_time": "2022-06-20T12:32:52.569Z"
   },
   {
    "duration": 81,
    "start_time": "2022-06-20T12:32:52.594Z"
   },
   {
    "duration": 181,
    "start_time": "2022-06-20T12:32:52.676Z"
   },
   {
    "duration": 88,
    "start_time": "2022-06-20T12:32:52.858Z"
   },
   {
    "duration": 10,
    "start_time": "2022-06-20T12:32:52.947Z"
   },
   {
    "duration": 119,
    "start_time": "2022-06-20T12:32:52.958Z"
   },
   {
    "duration": 117,
    "start_time": "2022-06-20T12:32:53.079Z"
   },
   {
    "duration": 119,
    "start_time": "2022-06-20T12:32:53.197Z"
   },
   {
    "duration": 9,
    "start_time": "2022-06-20T12:32:53.317Z"
   },
   {
    "duration": 6,
    "start_time": "2022-06-20T12:32:53.328Z"
   },
   {
    "duration": 9,
    "start_time": "2022-06-20T12:32:53.336Z"
   },
   {
    "duration": 16,
    "start_time": "2022-06-20T12:32:53.346Z"
   },
   {
    "duration": 12,
    "start_time": "2022-06-20T12:32:53.363Z"
   },
   {
    "duration": 18,
    "start_time": "2022-06-20T12:32:53.376Z"
   },
   {
    "duration": 375,
    "start_time": "2022-06-20T12:36:09.778Z"
   },
   {
    "duration": 1186,
    "start_time": "2022-06-20T12:36:10.156Z"
   },
   {
    "duration": 48,
    "start_time": "2022-06-20T12:36:11.343Z"
   },
   {
    "duration": 15,
    "start_time": "2022-06-20T12:36:11.393Z"
   },
   {
    "duration": 17,
    "start_time": "2022-06-20T12:36:11.410Z"
   },
   {
    "duration": 12,
    "start_time": "2022-06-20T12:36:11.429Z"
   },
   {
    "duration": 8,
    "start_time": "2022-06-20T12:36:11.443Z"
   },
   {
    "duration": 15,
    "start_time": "2022-06-20T12:36:11.452Z"
   },
   {
    "duration": 29,
    "start_time": "2022-06-20T12:36:11.469Z"
   },
   {
    "duration": 8,
    "start_time": "2022-06-20T12:36:11.500Z"
   },
   {
    "duration": 34,
    "start_time": "2022-06-20T12:36:11.509Z"
   },
   {
    "duration": 10,
    "start_time": "2022-06-20T12:36:11.545Z"
   },
   {
    "duration": 6,
    "start_time": "2022-06-20T12:36:11.556Z"
   },
   {
    "duration": 31,
    "start_time": "2022-06-20T12:36:11.564Z"
   },
   {
    "duration": 13,
    "start_time": "2022-06-20T12:36:11.596Z"
   },
   {
    "duration": 12,
    "start_time": "2022-06-20T12:36:11.610Z"
   },
   {
    "duration": 22,
    "start_time": "2022-06-20T12:36:11.623Z"
   },
   {
    "duration": 21,
    "start_time": "2022-06-20T12:36:11.646Z"
   },
   {
    "duration": 41,
    "start_time": "2022-06-20T12:36:11.668Z"
   },
   {
    "duration": 15,
    "start_time": "2022-06-20T12:36:11.711Z"
   },
   {
    "duration": 282,
    "start_time": "2022-06-20T12:36:11.727Z"
   },
   {
    "duration": 9,
    "start_time": "2022-06-20T12:36:12.011Z"
   },
   {
    "duration": 233,
    "start_time": "2022-06-20T12:36:12.021Z"
   },
   {
    "duration": 277,
    "start_time": "2022-06-20T12:36:12.256Z"
   },
   {
    "duration": 12,
    "start_time": "2022-06-20T12:36:12.535Z"
   },
   {
    "duration": 94,
    "start_time": "2022-06-20T12:36:12.548Z"
   },
   {
    "duration": 15,
    "start_time": "2022-06-20T12:36:12.643Z"
   },
   {
    "duration": 11,
    "start_time": "2022-06-20T12:36:12.660Z"
   },
   {
    "duration": 141,
    "start_time": "2022-06-20T12:36:12.673Z"
   },
   {
    "duration": 283,
    "start_time": "2022-06-20T12:36:12.816Z"
   },
   {
    "duration": 1000,
    "start_time": "2022-06-20T12:36:13.101Z"
   },
   {
    "duration": 0,
    "start_time": "2022-06-20T12:36:14.103Z"
   },
   {
    "duration": 0,
    "start_time": "2022-06-20T12:36:14.104Z"
   },
   {
    "duration": 0,
    "start_time": "2022-06-20T12:36:14.105Z"
   },
   {
    "duration": 0,
    "start_time": "2022-06-20T12:36:14.106Z"
   },
   {
    "duration": 0,
    "start_time": "2022-06-20T12:36:14.107Z"
   },
   {
    "duration": 0,
    "start_time": "2022-06-20T12:36:14.108Z"
   },
   {
    "duration": 0,
    "start_time": "2022-06-20T12:36:14.109Z"
   },
   {
    "duration": 0,
    "start_time": "2022-06-20T12:36:14.111Z"
   },
   {
    "duration": 0,
    "start_time": "2022-06-20T12:36:14.111Z"
   },
   {
    "duration": 0,
    "start_time": "2022-06-20T12:36:14.113Z"
   },
   {
    "duration": 0,
    "start_time": "2022-06-20T12:36:14.114Z"
   },
   {
    "duration": 0,
    "start_time": "2022-06-20T12:36:14.114Z"
   },
   {
    "duration": 0,
    "start_time": "2022-06-20T12:36:14.115Z"
   },
   {
    "duration": 0,
    "start_time": "2022-06-20T12:36:14.116Z"
   },
   {
    "duration": 0,
    "start_time": "2022-06-20T12:36:14.117Z"
   },
   {
    "duration": 0,
    "start_time": "2022-06-20T12:36:14.118Z"
   },
   {
    "duration": 1,
    "start_time": "2022-06-20T12:36:14.119Z"
   },
   {
    "duration": 0,
    "start_time": "2022-06-20T12:36:14.121Z"
   },
   {
    "duration": 0,
    "start_time": "2022-06-20T12:36:14.122Z"
   },
   {
    "duration": 0,
    "start_time": "2022-06-20T12:36:14.123Z"
   },
   {
    "duration": 0,
    "start_time": "2022-06-20T12:36:14.124Z"
   },
   {
    "duration": 0,
    "start_time": "2022-06-20T12:36:14.124Z"
   },
   {
    "duration": 0,
    "start_time": "2022-06-20T12:36:14.125Z"
   },
   {
    "duration": 0,
    "start_time": "2022-06-20T12:36:14.126Z"
   },
   {
    "duration": 0,
    "start_time": "2022-06-20T12:36:14.127Z"
   },
   {
    "duration": 0,
    "start_time": "2022-06-20T12:36:14.128Z"
   },
   {
    "duration": 0,
    "start_time": "2022-06-20T12:36:14.129Z"
   },
   {
    "duration": 0,
    "start_time": "2022-06-20T12:36:14.130Z"
   },
   {
    "duration": 0,
    "start_time": "2022-06-20T12:36:14.131Z"
   },
   {
    "duration": 0,
    "start_time": "2022-06-20T12:36:14.132Z"
   },
   {
    "duration": 0,
    "start_time": "2022-06-20T12:36:14.133Z"
   },
   {
    "duration": 0,
    "start_time": "2022-06-20T12:36:14.134Z"
   },
   {
    "duration": 0,
    "start_time": "2022-06-20T12:36:14.135Z"
   },
   {
    "duration": 0,
    "start_time": "2022-06-20T12:36:14.136Z"
   },
   {
    "duration": 0,
    "start_time": "2022-06-20T12:36:14.137Z"
   },
   {
    "duration": 0,
    "start_time": "2022-06-20T12:36:14.138Z"
   },
   {
    "duration": 0,
    "start_time": "2022-06-20T12:36:14.139Z"
   },
   {
    "duration": 0,
    "start_time": "2022-06-20T12:36:14.194Z"
   },
   {
    "duration": 87,
    "start_time": "2022-06-20T12:37:25.653Z"
   },
   {
    "duration": 92,
    "start_time": "2022-06-20T12:37:57.711Z"
   },
   {
    "duration": 148,
    "start_time": "2022-06-20T12:38:02.793Z"
   },
   {
    "duration": 374,
    "start_time": "2022-06-20T12:38:08.407Z"
   },
   {
    "duration": 1073,
    "start_time": "2022-06-20T12:38:08.783Z"
   },
   {
    "duration": 52,
    "start_time": "2022-06-20T12:38:09.858Z"
   },
   {
    "duration": 18,
    "start_time": "2022-06-20T12:38:09.912Z"
   },
   {
    "duration": 13,
    "start_time": "2022-06-20T12:38:09.933Z"
   },
   {
    "duration": 13,
    "start_time": "2022-06-20T12:38:09.948Z"
   },
   {
    "duration": 11,
    "start_time": "2022-06-20T12:38:09.963Z"
   },
   {
    "duration": 19,
    "start_time": "2022-06-20T12:38:09.994Z"
   },
   {
    "duration": 6,
    "start_time": "2022-06-20T12:38:10.015Z"
   },
   {
    "duration": 40,
    "start_time": "2022-06-20T12:38:10.023Z"
   },
   {
    "duration": 50,
    "start_time": "2022-06-20T12:38:10.065Z"
   },
   {
    "duration": 12,
    "start_time": "2022-06-20T12:38:10.116Z"
   },
   {
    "duration": 7,
    "start_time": "2022-06-20T12:38:10.130Z"
   },
   {
    "duration": 13,
    "start_time": "2022-06-20T12:38:10.140Z"
   },
   {
    "duration": 17,
    "start_time": "2022-06-20T12:38:10.155Z"
   },
   {
    "duration": 27,
    "start_time": "2022-06-20T12:38:10.173Z"
   },
   {
    "duration": 43,
    "start_time": "2022-06-20T12:38:10.202Z"
   },
   {
    "duration": 20,
    "start_time": "2022-06-20T12:38:10.247Z"
   },
   {
    "duration": 16,
    "start_time": "2022-06-20T12:38:10.269Z"
   },
   {
    "duration": 14,
    "start_time": "2022-06-20T12:38:10.287Z"
   },
   {
    "duration": 283,
    "start_time": "2022-06-20T12:38:10.302Z"
   },
   {
    "duration": 9,
    "start_time": "2022-06-20T12:38:10.586Z"
   },
   {
    "duration": 229,
    "start_time": "2022-06-20T12:38:10.597Z"
   },
   {
    "duration": 265,
    "start_time": "2022-06-20T12:38:10.828Z"
   },
   {
    "duration": 8,
    "start_time": "2022-06-20T12:38:11.095Z"
   },
   {
    "duration": 105,
    "start_time": "2022-06-20T12:38:11.104Z"
   },
   {
    "duration": 16,
    "start_time": "2022-06-20T12:38:11.210Z"
   },
   {
    "duration": 6,
    "start_time": "2022-06-20T12:38:11.227Z"
   },
   {
    "duration": 150,
    "start_time": "2022-06-20T12:38:11.235Z"
   },
   {
    "duration": 272,
    "start_time": "2022-06-20T12:38:11.386Z"
   },
   {
    "duration": 99,
    "start_time": "2022-06-20T12:38:11.660Z"
   },
   {
    "duration": 0,
    "start_time": "2022-06-20T12:38:11.762Z"
   },
   {
    "duration": 0,
    "start_time": "2022-06-20T12:38:11.764Z"
   },
   {
    "duration": 0,
    "start_time": "2022-06-20T12:38:11.765Z"
   },
   {
    "duration": 0,
    "start_time": "2022-06-20T12:38:11.766Z"
   },
   {
    "duration": 0,
    "start_time": "2022-06-20T12:38:11.767Z"
   },
   {
    "duration": 0,
    "start_time": "2022-06-20T12:38:11.768Z"
   },
   {
    "duration": 0,
    "start_time": "2022-06-20T12:38:11.769Z"
   },
   {
    "duration": 0,
    "start_time": "2022-06-20T12:38:11.769Z"
   },
   {
    "duration": 0,
    "start_time": "2022-06-20T12:38:11.770Z"
   },
   {
    "duration": 0,
    "start_time": "2022-06-20T12:38:11.771Z"
   },
   {
    "duration": 0,
    "start_time": "2022-06-20T12:38:11.772Z"
   },
   {
    "duration": 0,
    "start_time": "2022-06-20T12:38:11.773Z"
   },
   {
    "duration": 0,
    "start_time": "2022-06-20T12:38:11.774Z"
   },
   {
    "duration": 0,
    "start_time": "2022-06-20T12:38:11.775Z"
   },
   {
    "duration": 0,
    "start_time": "2022-06-20T12:38:11.776Z"
   },
   {
    "duration": 0,
    "start_time": "2022-06-20T12:38:11.777Z"
   },
   {
    "duration": 0,
    "start_time": "2022-06-20T12:38:11.778Z"
   },
   {
    "duration": 0,
    "start_time": "2022-06-20T12:38:11.779Z"
   },
   {
    "duration": 0,
    "start_time": "2022-06-20T12:38:11.780Z"
   },
   {
    "duration": 0,
    "start_time": "2022-06-20T12:38:11.781Z"
   },
   {
    "duration": 0,
    "start_time": "2022-06-20T12:38:11.782Z"
   },
   {
    "duration": 0,
    "start_time": "2022-06-20T12:38:11.782Z"
   },
   {
    "duration": 0,
    "start_time": "2022-06-20T12:38:11.783Z"
   },
   {
    "duration": 0,
    "start_time": "2022-06-20T12:38:11.784Z"
   },
   {
    "duration": 0,
    "start_time": "2022-06-20T12:38:11.785Z"
   },
   {
    "duration": 0,
    "start_time": "2022-06-20T12:38:11.786Z"
   },
   {
    "duration": 0,
    "start_time": "2022-06-20T12:38:11.787Z"
   },
   {
    "duration": 0,
    "start_time": "2022-06-20T12:38:11.788Z"
   },
   {
    "duration": 0,
    "start_time": "2022-06-20T12:38:11.789Z"
   },
   {
    "duration": 0,
    "start_time": "2022-06-20T12:38:11.790Z"
   },
   {
    "duration": 0,
    "start_time": "2022-06-20T12:38:11.791Z"
   },
   {
    "duration": 0,
    "start_time": "2022-06-20T12:38:11.792Z"
   },
   {
    "duration": 0,
    "start_time": "2022-06-20T12:38:11.793Z"
   },
   {
    "duration": 1,
    "start_time": "2022-06-20T12:38:11.793Z"
   },
   {
    "duration": 0,
    "start_time": "2022-06-20T12:38:11.795Z"
   },
   {
    "duration": 0,
    "start_time": "2022-06-20T12:38:11.796Z"
   },
   {
    "duration": 0,
    "start_time": "2022-06-20T12:38:11.797Z"
   },
   {
    "duration": 0,
    "start_time": "2022-06-20T12:38:11.799Z"
   },
   {
    "duration": 174,
    "start_time": "2022-06-20T12:39:18.491Z"
   },
   {
    "duration": 165,
    "start_time": "2022-06-20T12:39:25.141Z"
   },
   {
    "duration": 371,
    "start_time": "2022-06-20T12:39:30.899Z"
   },
   {
    "duration": 1066,
    "start_time": "2022-06-20T12:39:31.273Z"
   },
   {
    "duration": 48,
    "start_time": "2022-06-20T12:39:32.340Z"
   },
   {
    "duration": 15,
    "start_time": "2022-06-20T12:39:32.389Z"
   },
   {
    "duration": 13,
    "start_time": "2022-06-20T12:39:32.405Z"
   },
   {
    "duration": 13,
    "start_time": "2022-06-20T12:39:32.420Z"
   },
   {
    "duration": 10,
    "start_time": "2022-06-20T12:39:32.434Z"
   },
   {
    "duration": 17,
    "start_time": "2022-06-20T12:39:32.445Z"
   },
   {
    "duration": 5,
    "start_time": "2022-06-20T12:39:32.463Z"
   },
   {
    "duration": 6,
    "start_time": "2022-06-20T12:39:32.496Z"
   },
   {
    "duration": 35,
    "start_time": "2022-06-20T12:39:32.503Z"
   },
   {
    "duration": 10,
    "start_time": "2022-06-20T12:39:32.539Z"
   },
   {
    "duration": 5,
    "start_time": "2022-06-20T12:39:32.551Z"
   },
   {
    "duration": 8,
    "start_time": "2022-06-20T12:39:32.557Z"
   },
   {
    "duration": 31,
    "start_time": "2022-06-20T12:39:32.567Z"
   },
   {
    "duration": 10,
    "start_time": "2022-06-20T12:39:32.599Z"
   },
   {
    "duration": 24,
    "start_time": "2022-06-20T12:39:32.611Z"
   },
   {
    "duration": 20,
    "start_time": "2022-06-20T12:39:32.637Z"
   },
   {
    "duration": 14,
    "start_time": "2022-06-20T12:39:32.658Z"
   },
   {
    "duration": 28,
    "start_time": "2022-06-20T12:39:32.673Z"
   },
   {
    "duration": 284,
    "start_time": "2022-06-20T12:39:32.702Z"
   },
   {
    "duration": 11,
    "start_time": "2022-06-20T12:39:32.987Z"
   },
   {
    "duration": 221,
    "start_time": "2022-06-20T12:39:33.000Z"
   },
   {
    "duration": 241,
    "start_time": "2022-06-20T12:39:33.223Z"
   },
   {
    "duration": 8,
    "start_time": "2022-06-20T12:39:33.466Z"
   },
   {
    "duration": 94,
    "start_time": "2022-06-20T12:39:33.475Z"
   },
   {
    "duration": 15,
    "start_time": "2022-06-20T12:39:33.570Z"
   },
   {
    "duration": 6,
    "start_time": "2022-06-20T12:39:33.597Z"
   },
   {
    "duration": 148,
    "start_time": "2022-06-20T12:39:33.604Z"
   },
   {
    "duration": 288,
    "start_time": "2022-06-20T12:39:33.753Z"
   },
   {
    "duration": 178,
    "start_time": "2022-06-20T12:39:34.042Z"
   },
   {
    "duration": 151,
    "start_time": "2022-06-20T12:39:34.222Z"
   },
   {
    "duration": 80,
    "start_time": "2022-06-20T12:39:34.375Z"
   },
   {
    "duration": 0,
    "start_time": "2022-06-20T12:39:34.456Z"
   },
   {
    "duration": 0,
    "start_time": "2022-06-20T12:39:34.458Z"
   },
   {
    "duration": 0,
    "start_time": "2022-06-20T12:39:34.459Z"
   },
   {
    "duration": 0,
    "start_time": "2022-06-20T12:39:34.460Z"
   },
   {
    "duration": 0,
    "start_time": "2022-06-20T12:39:34.461Z"
   },
   {
    "duration": 0,
    "start_time": "2022-06-20T12:39:34.462Z"
   },
   {
    "duration": 0,
    "start_time": "2022-06-20T12:39:34.463Z"
   },
   {
    "duration": 0,
    "start_time": "2022-06-20T12:39:34.464Z"
   },
   {
    "duration": 0,
    "start_time": "2022-06-20T12:39:34.465Z"
   },
   {
    "duration": 0,
    "start_time": "2022-06-20T12:39:34.466Z"
   },
   {
    "duration": 0,
    "start_time": "2022-06-20T12:39:34.468Z"
   },
   {
    "duration": 0,
    "start_time": "2022-06-20T12:39:34.469Z"
   },
   {
    "duration": 0,
    "start_time": "2022-06-20T12:39:34.470Z"
   },
   {
    "duration": 0,
    "start_time": "2022-06-20T12:39:34.471Z"
   },
   {
    "duration": 0,
    "start_time": "2022-06-20T12:39:34.472Z"
   },
   {
    "duration": 0,
    "start_time": "2022-06-20T12:39:34.473Z"
   },
   {
    "duration": 0,
    "start_time": "2022-06-20T12:39:34.474Z"
   },
   {
    "duration": 0,
    "start_time": "2022-06-20T12:39:34.475Z"
   },
   {
    "duration": 0,
    "start_time": "2022-06-20T12:39:34.475Z"
   },
   {
    "duration": 0,
    "start_time": "2022-06-20T12:39:34.476Z"
   },
   {
    "duration": 0,
    "start_time": "2022-06-20T12:39:34.477Z"
   },
   {
    "duration": 0,
    "start_time": "2022-06-20T12:39:34.478Z"
   },
   {
    "duration": 0,
    "start_time": "2022-06-20T12:39:34.479Z"
   },
   {
    "duration": 0,
    "start_time": "2022-06-20T12:39:34.480Z"
   },
   {
    "duration": 0,
    "start_time": "2022-06-20T12:39:34.481Z"
   },
   {
    "duration": 0,
    "start_time": "2022-06-20T12:39:34.482Z"
   },
   {
    "duration": 0,
    "start_time": "2022-06-20T12:39:34.483Z"
   },
   {
    "duration": 0,
    "start_time": "2022-06-20T12:39:34.484Z"
   },
   {
    "duration": 0,
    "start_time": "2022-06-20T12:39:34.485Z"
   },
   {
    "duration": 0,
    "start_time": "2022-06-20T12:39:34.486Z"
   },
   {
    "duration": 0,
    "start_time": "2022-06-20T12:39:34.487Z"
   },
   {
    "duration": 0,
    "start_time": "2022-06-20T12:39:34.488Z"
   },
   {
    "duration": 0,
    "start_time": "2022-06-20T12:39:34.489Z"
   },
   {
    "duration": 0,
    "start_time": "2022-06-20T12:39:34.489Z"
   },
   {
    "duration": 0,
    "start_time": "2022-06-20T12:39:34.490Z"
   },
   {
    "duration": 0,
    "start_time": "2022-06-20T12:39:34.491Z"
   },
   {
    "duration": 85,
    "start_time": "2022-06-20T12:40:10.201Z"
   },
   {
    "duration": 15,
    "start_time": "2022-06-20T12:40:32.749Z"
   },
   {
    "duration": 370,
    "start_time": "2022-06-20T12:40:41.834Z"
   },
   {
    "duration": 1050,
    "start_time": "2022-06-20T12:40:42.206Z"
   },
   {
    "duration": 47,
    "start_time": "2022-06-20T12:40:43.257Z"
   },
   {
    "duration": 15,
    "start_time": "2022-06-20T12:40:43.305Z"
   },
   {
    "duration": 14,
    "start_time": "2022-06-20T12:40:43.322Z"
   },
   {
    "duration": 19,
    "start_time": "2022-06-20T12:40:43.338Z"
   },
   {
    "duration": 25,
    "start_time": "2022-06-20T12:40:43.358Z"
   },
   {
    "duration": 24,
    "start_time": "2022-06-20T12:40:43.384Z"
   },
   {
    "duration": 17,
    "start_time": "2022-06-20T12:40:43.410Z"
   },
   {
    "duration": 13,
    "start_time": "2022-06-20T12:40:43.428Z"
   },
   {
    "duration": 37,
    "start_time": "2022-06-20T12:40:43.442Z"
   },
   {
    "duration": 19,
    "start_time": "2022-06-20T12:40:43.480Z"
   },
   {
    "duration": 7,
    "start_time": "2022-06-20T12:40:43.501Z"
   },
   {
    "duration": 22,
    "start_time": "2022-06-20T12:40:43.510Z"
   },
   {
    "duration": 17,
    "start_time": "2022-06-20T12:40:43.534Z"
   },
   {
    "duration": 19,
    "start_time": "2022-06-20T12:40:43.552Z"
   },
   {
    "duration": 35,
    "start_time": "2022-06-20T12:40:43.573Z"
   },
   {
    "duration": 20,
    "start_time": "2022-06-20T12:40:43.610Z"
   },
   {
    "duration": 14,
    "start_time": "2022-06-20T12:40:43.632Z"
   },
   {
    "duration": 12,
    "start_time": "2022-06-20T12:40:43.648Z"
   },
   {
    "duration": 314,
    "start_time": "2022-06-20T12:40:43.662Z"
   },
   {
    "duration": 7,
    "start_time": "2022-06-20T12:40:43.978Z"
   },
   {
    "duration": 255,
    "start_time": "2022-06-20T12:40:43.994Z"
   },
   {
    "duration": 261,
    "start_time": "2022-06-20T12:40:44.251Z"
   },
   {
    "duration": 10,
    "start_time": "2022-06-20T12:40:44.514Z"
   },
   {
    "duration": 94,
    "start_time": "2022-06-20T12:40:44.525Z"
   },
   {
    "duration": 18,
    "start_time": "2022-06-20T12:40:44.622Z"
   },
   {
    "duration": 10,
    "start_time": "2022-06-20T12:40:44.642Z"
   },
   {
    "duration": 141,
    "start_time": "2022-06-20T12:40:44.653Z"
   },
   {
    "duration": 279,
    "start_time": "2022-06-20T12:40:44.796Z"
   },
   {
    "duration": 176,
    "start_time": "2022-06-20T12:40:45.077Z"
   },
   {
    "duration": 152,
    "start_time": "2022-06-20T12:40:45.255Z"
   },
   {
    "duration": 14,
    "start_time": "2022-06-20T12:40:45.409Z"
   },
   {
    "duration": 25,
    "start_time": "2022-06-20T12:40:45.425Z"
   },
   {
    "duration": 1235,
    "start_time": "2022-06-20T12:40:45.451Z"
   },
   {
    "duration": 10,
    "start_time": "2022-06-20T12:40:46.687Z"
   },
   {
    "duration": 13,
    "start_time": "2022-06-20T12:40:46.698Z"
   },
   {
    "duration": 1291,
    "start_time": "2022-06-20T12:40:46.712Z"
   },
   {
    "duration": 14,
    "start_time": "2022-06-20T12:40:48.004Z"
   },
   {
    "duration": 22,
    "start_time": "2022-06-20T12:40:48.019Z"
   },
   {
    "duration": 1154,
    "start_time": "2022-06-20T12:40:48.045Z"
   },
   {
    "duration": 11,
    "start_time": "2022-06-20T12:40:49.201Z"
   },
   {
    "duration": 12,
    "start_time": "2022-06-20T12:40:49.213Z"
   },
   {
    "duration": 1204,
    "start_time": "2022-06-20T12:40:49.226Z"
   },
   {
    "duration": 9,
    "start_time": "2022-06-20T12:40:50.432Z"
   },
   {
    "duration": 9,
    "start_time": "2022-06-20T12:40:50.442Z"
   },
   {
    "duration": 1161,
    "start_time": "2022-06-20T12:40:50.452Z"
   },
   {
    "duration": 10,
    "start_time": "2022-06-20T12:40:51.614Z"
   },
   {
    "duration": 19,
    "start_time": "2022-06-20T12:40:51.625Z"
   },
   {
    "duration": 23,
    "start_time": "2022-06-20T12:40:51.646Z"
   },
   {
    "duration": 138,
    "start_time": "2022-06-20T12:40:51.670Z"
   },
   {
    "duration": 9,
    "start_time": "2022-06-20T12:40:51.810Z"
   },
   {
    "duration": 79,
    "start_time": "2022-06-20T12:40:51.820Z"
   },
   {
    "duration": 72,
    "start_time": "2022-06-20T12:40:51.900Z"
   },
   {
    "duration": 88,
    "start_time": "2022-06-20T12:40:51.973Z"
   },
   {
    "duration": 9,
    "start_time": "2022-06-20T12:40:52.063Z"
   },
   {
    "duration": 93,
    "start_time": "2022-06-20T12:40:52.073Z"
   },
   {
    "duration": 163,
    "start_time": "2022-06-20T12:40:52.167Z"
   },
   {
    "duration": 79,
    "start_time": "2022-06-20T12:40:52.332Z"
   },
   {
    "duration": 9,
    "start_time": "2022-06-20T12:40:52.412Z"
   },
   {
    "duration": 121,
    "start_time": "2022-06-20T12:40:52.423Z"
   },
   {
    "duration": 109,
    "start_time": "2022-06-20T12:40:52.545Z"
   },
   {
    "duration": 114,
    "start_time": "2022-06-20T12:40:52.656Z"
   },
   {
    "duration": 9,
    "start_time": "2022-06-20T12:40:52.772Z"
   },
   {
    "duration": 12,
    "start_time": "2022-06-20T12:40:52.783Z"
   },
   {
    "duration": 10,
    "start_time": "2022-06-20T12:40:52.796Z"
   },
   {
    "duration": 15,
    "start_time": "2022-06-20T12:40:52.807Z"
   },
   {
    "duration": 3,
    "start_time": "2022-06-20T12:40:52.824Z"
   },
   {
    "duration": 10,
    "start_time": "2022-06-20T12:40:52.829Z"
   },
   {
    "duration": 87,
    "start_time": "2022-06-20T12:55:41.507Z"
   },
   {
    "duration": 6,
    "start_time": "2022-06-20T12:56:45.824Z"
   },
   {
    "duration": 370,
    "start_time": "2022-06-20T12:56:51.459Z"
   },
   {
    "duration": 1006,
    "start_time": "2022-06-20T12:56:51.831Z"
   },
   {
    "duration": 48,
    "start_time": "2022-06-20T12:56:52.838Z"
   },
   {
    "duration": 15,
    "start_time": "2022-06-20T12:56:52.888Z"
   },
   {
    "duration": 12,
    "start_time": "2022-06-20T12:56:52.905Z"
   },
   {
    "duration": 12,
    "start_time": "2022-06-20T12:56:52.918Z"
   },
   {
    "duration": 13,
    "start_time": "2022-06-20T12:56:52.931Z"
   },
   {
    "duration": 19,
    "start_time": "2022-06-20T12:56:52.946Z"
   },
   {
    "duration": 4,
    "start_time": "2022-06-20T12:56:52.967Z"
   },
   {
    "duration": 7,
    "start_time": "2022-06-20T12:56:52.994Z"
   },
   {
    "duration": 28,
    "start_time": "2022-06-20T12:56:53.003Z"
   },
   {
    "duration": 12,
    "start_time": "2022-06-20T12:56:53.033Z"
   },
   {
    "duration": 5,
    "start_time": "2022-06-20T12:56:53.047Z"
   },
   {
    "duration": 7,
    "start_time": "2022-06-20T12:56:53.056Z"
   },
   {
    "duration": 13,
    "start_time": "2022-06-20T12:56:53.093Z"
   },
   {
    "duration": 11,
    "start_time": "2022-06-20T12:56:53.107Z"
   },
   {
    "duration": 18,
    "start_time": "2022-06-20T12:56:53.119Z"
   },
   {
    "duration": 20,
    "start_time": "2022-06-20T12:56:53.138Z"
   },
   {
    "duration": 37,
    "start_time": "2022-06-20T12:56:53.159Z"
   },
   {
    "duration": 12,
    "start_time": "2022-06-20T12:56:53.198Z"
   },
   {
    "duration": 270,
    "start_time": "2022-06-20T12:56:53.212Z"
   },
   {
    "duration": 13,
    "start_time": "2022-06-20T12:56:53.484Z"
   },
   {
    "duration": 214,
    "start_time": "2022-06-20T12:56:53.498Z"
   },
   {
    "duration": 266,
    "start_time": "2022-06-20T12:56:53.714Z"
   },
   {
    "duration": 8,
    "start_time": "2022-06-20T12:56:53.982Z"
   },
   {
    "duration": 107,
    "start_time": "2022-06-20T12:56:53.991Z"
   },
   {
    "duration": 14,
    "start_time": "2022-06-20T12:56:54.100Z"
   },
   {
    "duration": 12,
    "start_time": "2022-06-20T12:56:54.116Z"
   },
   {
    "duration": 132,
    "start_time": "2022-06-20T12:56:54.129Z"
   },
   {
    "duration": 268,
    "start_time": "2022-06-20T12:56:54.263Z"
   },
   {
    "duration": 171,
    "start_time": "2022-06-20T12:56:54.532Z"
   },
   {
    "duration": 154,
    "start_time": "2022-06-20T12:56:54.704Z"
   },
   {
    "duration": 14,
    "start_time": "2022-06-20T12:56:54.859Z"
   },
   {
    "duration": 37,
    "start_time": "2022-06-20T12:56:54.875Z"
   },
   {
    "duration": 1208,
    "start_time": "2022-06-20T12:56:54.913Z"
   },
   {
    "duration": 10,
    "start_time": "2022-06-20T12:56:56.123Z"
   },
   {
    "duration": 14,
    "start_time": "2022-06-20T12:56:56.134Z"
   },
   {
    "duration": 1274,
    "start_time": "2022-06-20T12:56:56.149Z"
   },
   {
    "duration": 12,
    "start_time": "2022-06-20T12:56:57.425Z"
   },
   {
    "duration": 18,
    "start_time": "2022-06-20T12:56:57.439Z"
   },
   {
    "duration": 1223,
    "start_time": "2022-06-20T12:56:57.462Z"
   },
   {
    "duration": 13,
    "start_time": "2022-06-20T12:56:58.686Z"
   },
   {
    "duration": 12,
    "start_time": "2022-06-20T12:56:58.700Z"
   },
   {
    "duration": 1346,
    "start_time": "2022-06-20T12:56:58.713Z"
   },
   {
    "duration": 15,
    "start_time": "2022-06-20T12:57:00.061Z"
   },
   {
    "duration": 29,
    "start_time": "2022-06-20T12:57:00.078Z"
   },
   {
    "duration": 1227,
    "start_time": "2022-06-20T12:57:00.109Z"
   },
   {
    "duration": 10,
    "start_time": "2022-06-20T12:57:01.337Z"
   },
   {
    "duration": 20,
    "start_time": "2022-06-20T12:57:01.349Z"
   },
   {
    "duration": 11,
    "start_time": "2022-06-20T12:57:01.371Z"
   },
   {
    "duration": 169,
    "start_time": "2022-06-20T12:57:01.383Z"
   },
   {
    "duration": 96,
    "start_time": "2022-06-20T12:57:01.553Z"
   },
   {
    "duration": 9,
    "start_time": "2022-06-20T12:57:01.650Z"
   },
   {
    "duration": 96,
    "start_time": "2022-06-20T12:57:01.661Z"
   },
   {
    "duration": 83,
    "start_time": "2022-06-20T12:57:01.758Z"
   },
   {
    "duration": 105,
    "start_time": "2022-06-20T12:57:01.843Z"
   },
   {
    "duration": 11,
    "start_time": "2022-06-20T12:57:01.950Z"
   },
   {
    "duration": 203,
    "start_time": "2022-06-20T12:57:01.962Z"
   },
   {
    "duration": 91,
    "start_time": "2022-06-20T12:57:02.167Z"
   },
   {
    "duration": 86,
    "start_time": "2022-06-20T12:57:02.260Z"
   },
   {
    "duration": 10,
    "start_time": "2022-06-20T12:57:02.348Z"
   },
   {
    "duration": 130,
    "start_time": "2022-06-20T12:57:02.360Z"
   },
   {
    "duration": 116,
    "start_time": "2022-06-20T12:57:02.493Z"
   },
   {
    "duration": 112,
    "start_time": "2022-06-20T12:57:02.611Z"
   },
   {
    "duration": 9,
    "start_time": "2022-06-20T12:57:02.724Z"
   },
   {
    "duration": 17,
    "start_time": "2022-06-20T12:57:02.735Z"
   },
   {
    "duration": 8,
    "start_time": "2022-06-20T12:57:02.754Z"
   },
   {
    "duration": 16,
    "start_time": "2022-06-20T12:57:02.764Z"
   },
   {
    "duration": 11,
    "start_time": "2022-06-20T12:57:02.781Z"
   },
   {
    "duration": 16,
    "start_time": "2022-06-20T12:57:02.793Z"
   },
   {
    "duration": 244,
    "start_time": "2022-06-20T13:00:27.782Z"
   },
   {
    "duration": 229,
    "start_time": "2022-06-20T13:00:35.911Z"
   },
   {
    "duration": 348,
    "start_time": "2022-06-20T13:00:53.286Z"
   },
   {
    "duration": 249,
    "start_time": "2022-06-20T13:01:06.584Z"
   },
   {
    "duration": 253,
    "start_time": "2022-06-20T13:01:14.285Z"
   },
   {
    "duration": 8,
    "start_time": "2022-06-20T13:01:52.519Z"
   },
   {
    "duration": 9,
    "start_time": "2022-06-20T13:02:03.488Z"
   },
   {
    "duration": 4,
    "start_time": "2022-06-20T13:02:28.186Z"
   },
   {
    "duration": 382,
    "start_time": "2022-06-20T13:03:41.047Z"
   },
   {
    "duration": 1088,
    "start_time": "2022-06-20T13:03:41.431Z"
   },
   {
    "duration": 49,
    "start_time": "2022-06-20T13:03:42.520Z"
   },
   {
    "duration": 15,
    "start_time": "2022-06-20T13:03:42.570Z"
   },
   {
    "duration": 39,
    "start_time": "2022-06-20T13:03:42.586Z"
   },
   {
    "duration": 14,
    "start_time": "2022-06-20T13:03:42.626Z"
   },
   {
    "duration": 25,
    "start_time": "2022-06-20T13:03:42.642Z"
   },
   {
    "duration": 35,
    "start_time": "2022-06-20T13:03:42.668Z"
   },
   {
    "duration": 11,
    "start_time": "2022-06-20T13:03:42.709Z"
   },
   {
    "duration": 7,
    "start_time": "2022-06-20T13:03:42.723Z"
   },
   {
    "duration": 26,
    "start_time": "2022-06-20T13:03:42.732Z"
   },
   {
    "duration": 16,
    "start_time": "2022-06-20T13:03:42.760Z"
   },
   {
    "duration": 14,
    "start_time": "2022-06-20T13:03:42.778Z"
   },
   {
    "duration": 24,
    "start_time": "2022-06-20T13:03:42.793Z"
   },
   {
    "duration": 18,
    "start_time": "2022-06-20T13:03:42.818Z"
   },
   {
    "duration": 14,
    "start_time": "2022-06-20T13:03:42.837Z"
   },
   {
    "duration": 20,
    "start_time": "2022-06-20T13:03:42.852Z"
   },
   {
    "duration": 19,
    "start_time": "2022-06-20T13:03:42.873Z"
   },
   {
    "duration": 17,
    "start_time": "2022-06-20T13:03:42.893Z"
   },
   {
    "duration": 14,
    "start_time": "2022-06-20T13:03:42.912Z"
   },
   {
    "duration": 269,
    "start_time": "2022-06-20T13:03:42.927Z"
   },
   {
    "duration": 8,
    "start_time": "2022-06-20T13:03:43.198Z"
   },
   {
    "duration": 231,
    "start_time": "2022-06-20T13:03:43.207Z"
   },
   {
    "duration": 249,
    "start_time": "2022-06-20T13:03:43.440Z"
   },
   {
    "duration": 9,
    "start_time": "2022-06-20T13:03:43.690Z"
   },
   {
    "duration": 135,
    "start_time": "2022-06-20T13:03:43.701Z"
   },
   {
    "duration": 17,
    "start_time": "2022-06-20T13:03:43.838Z"
   },
   {
    "duration": 11,
    "start_time": "2022-06-20T13:03:43.859Z"
   },
   {
    "duration": 167,
    "start_time": "2022-06-20T13:03:43.872Z"
   },
   {
    "duration": 301,
    "start_time": "2022-06-20T13:03:44.041Z"
   },
   {
    "duration": 191,
    "start_time": "2022-06-20T13:03:44.343Z"
   },
   {
    "duration": 177,
    "start_time": "2022-06-20T13:03:44.535Z"
   },
   {
    "duration": 24,
    "start_time": "2022-06-20T13:03:44.714Z"
   },
   {
    "duration": 37,
    "start_time": "2022-06-20T13:03:44.740Z"
   },
   {
    "duration": 1242,
    "start_time": "2022-06-20T13:03:44.794Z"
   },
   {
    "duration": 13,
    "start_time": "2022-06-20T13:03:46.038Z"
   },
   {
    "duration": 15,
    "start_time": "2022-06-20T13:03:46.053Z"
   },
   {
    "duration": 1328,
    "start_time": "2022-06-20T13:03:46.069Z"
   },
   {
    "duration": 9,
    "start_time": "2022-06-20T13:03:47.399Z"
   },
   {
    "duration": 11,
    "start_time": "2022-06-20T13:03:47.410Z"
   },
   {
    "duration": 1362,
    "start_time": "2022-06-20T13:03:47.423Z"
   },
   {
    "duration": 13,
    "start_time": "2022-06-20T13:03:48.787Z"
   },
   {
    "duration": 11,
    "start_time": "2022-06-20T13:03:48.801Z"
   },
   {
    "duration": 1362,
    "start_time": "2022-06-20T13:03:48.814Z"
   },
   {
    "duration": 9,
    "start_time": "2022-06-20T13:03:50.178Z"
   },
   {
    "duration": 26,
    "start_time": "2022-06-20T13:03:50.194Z"
   },
   {
    "duration": 1239,
    "start_time": "2022-06-20T13:03:50.222Z"
   },
   {
    "duration": 11,
    "start_time": "2022-06-20T13:03:51.462Z"
   },
   {
    "duration": 22,
    "start_time": "2022-06-20T13:03:51.474Z"
   },
   {
    "duration": 176,
    "start_time": "2022-06-20T13:03:51.499Z"
   },
   {
    "duration": 293,
    "start_time": "2022-06-20T13:03:51.676Z"
   },
   {
    "duration": 9,
    "start_time": "2022-06-20T13:03:51.971Z"
   },
   {
    "duration": 101,
    "start_time": "2022-06-20T13:03:51.982Z"
   },
   {
    "duration": 87,
    "start_time": "2022-06-20T13:03:52.084Z"
   },
   {
    "duration": 191,
    "start_time": "2022-06-20T13:03:52.172Z"
   },
   {
    "duration": 9,
    "start_time": "2022-06-20T13:03:52.364Z"
   },
   {
    "duration": 93,
    "start_time": "2022-06-20T13:03:52.375Z"
   },
   {
    "duration": 108,
    "start_time": "2022-06-20T13:03:52.470Z"
   },
   {
    "duration": 102,
    "start_time": "2022-06-20T13:03:52.580Z"
   },
   {
    "duration": 18,
    "start_time": "2022-06-20T13:03:52.684Z"
   },
   {
    "duration": 121,
    "start_time": "2022-06-20T13:03:52.703Z"
   },
   {
    "duration": 120,
    "start_time": "2022-06-20T13:03:52.825Z"
   },
   {
    "duration": 127,
    "start_time": "2022-06-20T13:03:52.946Z"
   },
   {
    "duration": 25,
    "start_time": "2022-06-20T13:03:53.075Z"
   },
   {
    "duration": 8,
    "start_time": "2022-06-20T13:03:53.101Z"
   },
   {
    "duration": 5,
    "start_time": "2022-06-20T13:03:53.111Z"
   },
   {
    "duration": 12,
    "start_time": "2022-06-20T13:03:53.117Z"
   },
   {
    "duration": 4,
    "start_time": "2022-06-20T13:03:53.130Z"
   },
   {
    "duration": 5,
    "start_time": "2022-06-20T13:03:53.135Z"
   },
   {
    "duration": 253,
    "start_time": "2022-06-20T13:16:59.500Z"
   },
   {
    "duration": 12,
    "start_time": "2022-06-20T13:19:13.800Z"
   },
   {
    "duration": 52,
    "start_time": "2022-06-20T13:24:13.019Z"
   },
   {
    "duration": 9,
    "start_time": "2022-06-20T13:38:47.911Z"
   },
   {
    "duration": 45,
    "start_time": "2022-06-21T10:26:16.702Z"
   },
   {
    "duration": 402,
    "start_time": "2022-06-21T10:26:21.702Z"
   },
   {
    "duration": 1247,
    "start_time": "2022-06-21T10:26:22.107Z"
   },
   {
    "duration": 99,
    "start_time": "2022-06-21T10:26:23.356Z"
   },
   {
    "duration": 20,
    "start_time": "2022-06-21T10:26:23.457Z"
   },
   {
    "duration": 20,
    "start_time": "2022-06-21T10:26:23.478Z"
   },
   {
    "duration": 14,
    "start_time": "2022-06-21T10:26:23.499Z"
   },
   {
    "duration": 15,
    "start_time": "2022-06-21T10:26:23.515Z"
   },
   {
    "duration": 25,
    "start_time": "2022-06-21T10:26:23.531Z"
   },
   {
    "duration": 26,
    "start_time": "2022-06-21T10:26:23.557Z"
   },
   {
    "duration": 18,
    "start_time": "2022-06-21T10:26:23.586Z"
   },
   {
    "duration": 38,
    "start_time": "2022-06-21T10:26:23.606Z"
   },
   {
    "duration": 24,
    "start_time": "2022-06-21T10:26:23.645Z"
   },
   {
    "duration": 8,
    "start_time": "2022-06-21T10:26:23.681Z"
   },
   {
    "duration": 17,
    "start_time": "2022-06-21T10:26:23.690Z"
   },
   {
    "duration": 20,
    "start_time": "2022-06-21T10:26:23.708Z"
   },
   {
    "duration": 15,
    "start_time": "2022-06-21T10:26:23.729Z"
   },
   {
    "duration": 27,
    "start_time": "2022-06-21T10:26:23.745Z"
   },
   {
    "duration": 23,
    "start_time": "2022-06-21T10:26:23.780Z"
   },
   {
    "duration": 16,
    "start_time": "2022-06-21T10:26:23.804Z"
   },
   {
    "duration": 9,
    "start_time": "2022-06-21T10:26:23.822Z"
   },
   {
    "duration": 336,
    "start_time": "2022-06-21T10:26:23.833Z"
   },
   {
    "duration": 9,
    "start_time": "2022-06-21T10:26:24.178Z"
   },
   {
    "duration": 279,
    "start_time": "2022-06-21T10:26:24.189Z"
   },
   {
    "duration": 311,
    "start_time": "2022-06-21T10:26:24.482Z"
   },
   {
    "duration": 10,
    "start_time": "2022-06-21T10:26:24.795Z"
   },
   {
    "duration": 110,
    "start_time": "2022-06-21T10:26:24.806Z"
   },
   {
    "duration": 18,
    "start_time": "2022-06-21T10:26:24.918Z"
   },
   {
    "duration": 8,
    "start_time": "2022-06-21T10:26:24.941Z"
   },
   {
    "duration": 180,
    "start_time": "2022-06-21T10:26:24.950Z"
   },
   {
    "duration": 326,
    "start_time": "2022-06-21T10:26:25.132Z"
   },
   {
    "duration": 211,
    "start_time": "2022-06-21T10:26:25.460Z"
   },
   {
    "duration": 180,
    "start_time": "2022-06-21T10:26:25.683Z"
   },
   {
    "duration": 17,
    "start_time": "2022-06-21T10:26:25.872Z"
   },
   {
    "duration": 35,
    "start_time": "2022-06-21T10:26:25.891Z"
   },
   {
    "duration": 1507,
    "start_time": "2022-06-21T10:26:25.927Z"
   },
   {
    "duration": 11,
    "start_time": "2022-06-21T10:26:27.436Z"
   },
   {
    "duration": 34,
    "start_time": "2022-06-21T10:26:27.448Z"
   },
   {
    "duration": 1517,
    "start_time": "2022-06-21T10:26:27.483Z"
   },
   {
    "duration": 14,
    "start_time": "2022-06-21T10:26:29.002Z"
   },
   {
    "duration": 21,
    "start_time": "2022-06-21T10:26:29.018Z"
   },
   {
    "duration": 1469,
    "start_time": "2022-06-21T10:26:29.041Z"
   },
   {
    "duration": 11,
    "start_time": "2022-06-21T10:26:30.512Z"
   },
   {
    "duration": 32,
    "start_time": "2022-06-21T10:26:30.525Z"
   },
   {
    "duration": 1437,
    "start_time": "2022-06-21T10:26:30.559Z"
   },
   {
    "duration": 11,
    "start_time": "2022-06-21T10:26:31.997Z"
   },
   {
    "duration": 19,
    "start_time": "2022-06-21T10:26:32.009Z"
   },
   {
    "duration": 1356,
    "start_time": "2022-06-21T10:26:32.030Z"
   },
   {
    "duration": 10,
    "start_time": "2022-06-21T10:26:33.388Z"
   },
   {
    "duration": 12,
    "start_time": "2022-06-21T10:26:33.399Z"
   },
   {
    "duration": 8,
    "start_time": "2022-06-21T10:26:33.412Z"
   },
   {
    "duration": 184,
    "start_time": "2022-06-21T10:26:33.421Z"
   },
   {
    "duration": 288,
    "start_time": "2022-06-21T10:26:33.607Z"
   },
   {
    "duration": 75,
    "start_time": "2022-06-21T10:26:33.897Z"
   },
   {
    "duration": 12,
    "start_time": "2022-06-21T10:26:33.973Z"
   },
   {
    "duration": 103,
    "start_time": "2022-06-21T10:26:33.987Z"
   },
   {
    "duration": 102,
    "start_time": "2022-06-21T10:26:34.092Z"
   },
   {
    "duration": 187,
    "start_time": "2022-06-21T10:26:34.196Z"
   },
   {
    "duration": 10,
    "start_time": "2022-06-21T10:26:34.385Z"
   },
   {
    "duration": 106,
    "start_time": "2022-06-21T10:26:34.397Z"
   },
   {
    "duration": 98,
    "start_time": "2022-06-21T10:26:34.504Z"
   },
   {
    "duration": 118,
    "start_time": "2022-06-21T10:26:34.604Z"
   },
   {
    "duration": 11,
    "start_time": "2022-06-21T10:26:34.724Z"
   },
   {
    "duration": 144,
    "start_time": "2022-06-21T10:26:34.736Z"
   },
   {
    "duration": 128,
    "start_time": "2022-06-21T10:26:34.882Z"
   },
   {
    "duration": 135,
    "start_time": "2022-06-21T10:26:35.012Z"
   },
   {
    "duration": 28,
    "start_time": "2022-06-21T10:26:35.149Z"
   },
   {
    "duration": 9,
    "start_time": "2022-06-21T10:26:35.179Z"
   },
   {
    "duration": 8,
    "start_time": "2022-06-21T10:26:35.189Z"
   },
   {
    "duration": 14,
    "start_time": "2022-06-21T10:26:35.199Z"
   },
   {
    "duration": 8,
    "start_time": "2022-06-21T10:26:35.214Z"
   },
   {
    "duration": 8,
    "start_time": "2022-06-21T10:26:35.223Z"
   },
   {
    "duration": 111,
    "start_time": "2022-06-21T10:26:35.232Z"
   },
   {
    "duration": 11,
    "start_time": "2022-06-21T10:27:04.991Z"
   },
   {
    "duration": 21,
    "start_time": "2022-06-21T10:27:46.566Z"
   },
   {
    "duration": 407,
    "start_time": "2022-06-21T10:28:03.494Z"
   },
   {
    "duration": 1116,
    "start_time": "2022-06-21T10:28:03.903Z"
   },
   {
    "duration": 63,
    "start_time": "2022-06-21T10:28:05.021Z"
   },
   {
    "duration": 19,
    "start_time": "2022-06-21T10:28:05.086Z"
   },
   {
    "duration": 16,
    "start_time": "2022-06-21T10:28:05.106Z"
   },
   {
    "duration": 14,
    "start_time": "2022-06-21T10:28:05.124Z"
   },
   {
    "duration": 38,
    "start_time": "2022-06-21T10:28:05.140Z"
   },
   {
    "duration": 25,
    "start_time": "2022-06-21T10:28:05.180Z"
   },
   {
    "duration": 6,
    "start_time": "2022-06-21T10:28:05.207Z"
   },
   {
    "duration": 10,
    "start_time": "2022-06-21T10:28:05.215Z"
   },
   {
    "duration": 33,
    "start_time": "2022-06-21T10:28:05.227Z"
   },
   {
    "duration": 15,
    "start_time": "2022-06-21T10:28:05.277Z"
   },
   {
    "duration": 8,
    "start_time": "2022-06-21T10:28:05.294Z"
   },
   {
    "duration": 10,
    "start_time": "2022-06-21T10:28:05.304Z"
   },
   {
    "duration": 20,
    "start_time": "2022-06-21T10:28:05.316Z"
   },
   {
    "duration": 13,
    "start_time": "2022-06-21T10:28:05.337Z"
   },
   {
    "duration": 17,
    "start_time": "2022-06-21T10:28:05.378Z"
   },
   {
    "duration": 24,
    "start_time": "2022-06-21T10:28:05.397Z"
   },
   {
    "duration": 15,
    "start_time": "2022-06-21T10:28:05.423Z"
   },
   {
    "duration": 39,
    "start_time": "2022-06-21T10:28:05.440Z"
   },
   {
    "duration": 341,
    "start_time": "2022-06-21T10:28:05.481Z"
   },
   {
    "duration": 8,
    "start_time": "2022-06-21T10:28:05.824Z"
   },
   {
    "duration": 289,
    "start_time": "2022-06-21T10:28:05.834Z"
   },
   {
    "duration": 288,
    "start_time": "2022-06-21T10:28:06.125Z"
   },
   {
    "duration": 9,
    "start_time": "2022-06-21T10:28:06.415Z"
   },
   {
    "duration": 113,
    "start_time": "2022-06-21T10:28:06.425Z"
   },
   {
    "duration": 18,
    "start_time": "2022-06-21T10:28:06.540Z"
   },
   {
    "duration": 12,
    "start_time": "2022-06-21T10:28:06.569Z"
   },
   {
    "duration": 166,
    "start_time": "2022-06-21T10:28:06.583Z"
   },
   {
    "duration": 336,
    "start_time": "2022-06-21T10:28:06.751Z"
   },
   {
    "duration": 216,
    "start_time": "2022-06-21T10:28:07.089Z"
   },
   {
    "duration": 217,
    "start_time": "2022-06-21T10:28:07.306Z"
   },
   {
    "duration": 18,
    "start_time": "2022-06-21T10:28:07.525Z"
   },
   {
    "duration": 53,
    "start_time": "2022-06-21T10:28:07.545Z"
   },
   {
    "duration": 1688,
    "start_time": "2022-06-21T10:28:07.599Z"
   },
   {
    "duration": 11,
    "start_time": "2022-06-21T10:28:09.289Z"
   },
   {
    "duration": 20,
    "start_time": "2022-06-21T10:28:09.301Z"
   },
   {
    "duration": 1556,
    "start_time": "2022-06-21T10:28:09.323Z"
   },
   {
    "duration": 12,
    "start_time": "2022-06-21T10:28:10.882Z"
   },
   {
    "duration": 13,
    "start_time": "2022-06-21T10:28:10.896Z"
   },
   {
    "duration": 1496,
    "start_time": "2022-06-21T10:28:10.910Z"
   },
   {
    "duration": 11,
    "start_time": "2022-06-21T10:28:12.408Z"
   },
   {
    "duration": 11,
    "start_time": "2022-06-21T10:28:12.421Z"
   },
   {
    "duration": 1430,
    "start_time": "2022-06-21T10:28:12.434Z"
   },
   {
    "duration": 16,
    "start_time": "2022-06-21T10:28:13.866Z"
   },
   {
    "duration": 15,
    "start_time": "2022-06-21T10:28:13.884Z"
   },
   {
    "duration": 1454,
    "start_time": "2022-06-21T10:28:13.900Z"
   },
   {
    "duration": 28,
    "start_time": "2022-06-21T10:28:15.356Z"
   },
   {
    "duration": 14,
    "start_time": "2022-06-21T10:28:15.385Z"
   },
   {
    "duration": 8,
    "start_time": "2022-06-21T10:28:15.401Z"
   },
   {
    "duration": 180,
    "start_time": "2022-06-21T10:28:15.410Z"
   },
   {
    "duration": 300,
    "start_time": "2022-06-21T10:28:15.592Z"
   },
   {
    "duration": 57,
    "start_time": "2022-06-21T10:28:15.894Z"
   },
   {
    "duration": 12,
    "start_time": "2022-06-21T10:28:15.967Z"
   },
   {
    "duration": 101,
    "start_time": "2022-06-21T10:28:15.980Z"
   },
   {
    "duration": 93,
    "start_time": "2022-06-21T10:28:16.083Z"
   },
   {
    "duration": 184,
    "start_time": "2022-06-21T10:28:16.178Z"
   },
   {
    "duration": 27,
    "start_time": "2022-06-21T10:28:16.366Z"
   },
   {
    "duration": 108,
    "start_time": "2022-06-21T10:28:16.395Z"
   },
   {
    "duration": 110,
    "start_time": "2022-06-21T10:28:16.505Z"
   },
   {
    "duration": 98,
    "start_time": "2022-06-21T10:28:16.616Z"
   },
   {
    "duration": 12,
    "start_time": "2022-06-21T10:28:16.716Z"
   },
   {
    "duration": 151,
    "start_time": "2022-06-21T10:28:16.729Z"
   },
   {
    "duration": 145,
    "start_time": "2022-06-21T10:28:16.882Z"
   },
   {
    "duration": 155,
    "start_time": "2022-06-21T10:28:17.028Z"
   },
   {
    "duration": 10,
    "start_time": "2022-06-21T10:28:17.185Z"
   },
   {
    "duration": 13,
    "start_time": "2022-06-21T10:28:17.197Z"
   },
   {
    "duration": 11,
    "start_time": "2022-06-21T10:28:17.212Z"
   },
   {
    "duration": 18,
    "start_time": "2022-06-21T10:28:17.225Z"
   },
   {
    "duration": 40,
    "start_time": "2022-06-21T10:28:17.244Z"
   },
   {
    "duration": 29,
    "start_time": "2022-06-21T10:28:17.285Z"
   },
   {
    "duration": 30,
    "start_time": "2022-06-21T10:28:17.316Z"
   },
   {
    "duration": 30,
    "start_time": "2022-06-21T10:28:17.347Z"
   },
   {
    "duration": 17,
    "start_time": "2022-06-21T10:29:28.661Z"
   },
   {
    "duration": 10,
    "start_time": "2022-06-21T10:29:31.881Z"
   },
   {
    "duration": 12,
    "start_time": "2022-06-21T10:30:45.714Z"
   },
   {
    "duration": 421,
    "start_time": "2022-06-21T10:30:53.341Z"
   },
   {
    "duration": 1130,
    "start_time": "2022-06-21T10:30:53.764Z"
   },
   {
    "duration": 49,
    "start_time": "2022-06-21T10:30:54.895Z"
   },
   {
    "duration": 18,
    "start_time": "2022-06-21T10:30:54.946Z"
   },
   {
    "duration": 19,
    "start_time": "2022-06-21T10:30:54.966Z"
   },
   {
    "duration": 17,
    "start_time": "2022-06-21T10:30:54.987Z"
   },
   {
    "duration": 14,
    "start_time": "2022-06-21T10:30:55.005Z"
   },
   {
    "duration": 18,
    "start_time": "2022-06-21T10:30:55.021Z"
   },
   {
    "duration": 37,
    "start_time": "2022-06-21T10:30:55.041Z"
   },
   {
    "duration": 9,
    "start_time": "2022-06-21T10:30:55.082Z"
   },
   {
    "duration": 31,
    "start_time": "2022-06-21T10:30:55.092Z"
   },
   {
    "duration": 12,
    "start_time": "2022-06-21T10:30:55.125Z"
   },
   {
    "duration": 6,
    "start_time": "2022-06-21T10:30:55.138Z"
   },
   {
    "duration": 33,
    "start_time": "2022-06-21T10:30:55.146Z"
   },
   {
    "duration": 16,
    "start_time": "2022-06-21T10:30:55.181Z"
   },
   {
    "duration": 13,
    "start_time": "2022-06-21T10:30:55.199Z"
   },
   {
    "duration": 19,
    "start_time": "2022-06-21T10:30:55.213Z"
   },
   {
    "duration": 49,
    "start_time": "2022-06-21T10:30:55.234Z"
   },
   {
    "duration": 17,
    "start_time": "2022-06-21T10:30:55.285Z"
   },
   {
    "duration": 10,
    "start_time": "2022-06-21T10:30:55.303Z"
   },
   {
    "duration": 365,
    "start_time": "2022-06-21T10:30:55.315Z"
   },
   {
    "duration": 7,
    "start_time": "2022-06-21T10:30:55.682Z"
   },
   {
    "duration": 288,
    "start_time": "2022-06-21T10:30:55.691Z"
   },
   {
    "duration": 299,
    "start_time": "2022-06-21T10:30:55.981Z"
   },
   {
    "duration": 10,
    "start_time": "2022-06-21T10:30:56.282Z"
   },
   {
    "duration": 122,
    "start_time": "2022-06-21T10:30:56.293Z"
   },
   {
    "duration": 16,
    "start_time": "2022-06-21T10:30:56.417Z"
   },
   {
    "duration": 6,
    "start_time": "2022-06-21T10:30:56.437Z"
   },
   {
    "duration": 194,
    "start_time": "2022-06-21T10:30:56.445Z"
   },
   {
    "duration": 340,
    "start_time": "2022-06-21T10:30:56.641Z"
   },
   {
    "duration": 205,
    "start_time": "2022-06-21T10:30:56.983Z"
   },
   {
    "duration": 194,
    "start_time": "2022-06-21T10:30:57.190Z"
   },
   {
    "duration": 17,
    "start_time": "2022-06-21T10:30:57.386Z"
   },
   {
    "duration": 32,
    "start_time": "2022-06-21T10:30:57.404Z"
   },
   {
    "duration": 1696,
    "start_time": "2022-06-21T10:30:57.437Z"
   },
   {
    "duration": 15,
    "start_time": "2022-06-21T10:30:59.137Z"
   },
   {
    "duration": 28,
    "start_time": "2022-06-21T10:30:59.154Z"
   },
   {
    "duration": 1582,
    "start_time": "2022-06-21T10:30:59.184Z"
   },
   {
    "duration": 12,
    "start_time": "2022-06-21T10:31:00.767Z"
   },
   {
    "duration": 33,
    "start_time": "2022-06-21T10:31:00.781Z"
   },
   {
    "duration": 1513,
    "start_time": "2022-06-21T10:31:00.817Z"
   },
   {
    "duration": 13,
    "start_time": "2022-06-21T10:31:02.332Z"
   },
   {
    "duration": 32,
    "start_time": "2022-06-21T10:31:02.347Z"
   },
   {
    "duration": 1412,
    "start_time": "2022-06-21T10:31:02.381Z"
   },
   {
    "duration": 10,
    "start_time": "2022-06-21T10:31:03.795Z"
   },
   {
    "duration": 22,
    "start_time": "2022-06-21T10:31:03.806Z"
   },
   {
    "duration": 1475,
    "start_time": "2022-06-21T10:31:03.830Z"
   },
   {
    "duration": 11,
    "start_time": "2022-06-21T10:31:05.307Z"
   },
   {
    "duration": 18,
    "start_time": "2022-06-21T10:31:05.320Z"
   },
   {
    "duration": 15,
    "start_time": "2022-06-21T10:31:05.339Z"
   },
   {
    "duration": 183,
    "start_time": "2022-06-21T10:31:05.356Z"
   },
   {
    "duration": 309,
    "start_time": "2022-06-21T10:31:05.541Z"
   },
   {
    "duration": 74,
    "start_time": "2022-06-21T10:31:05.852Z"
   },
   {
    "duration": 10,
    "start_time": "2022-06-21T10:31:05.928Z"
   },
   {
    "duration": 110,
    "start_time": "2022-06-21T10:31:05.940Z"
   },
   {
    "duration": 99,
    "start_time": "2022-06-21T10:31:06.052Z"
   },
   {
    "duration": 203,
    "start_time": "2022-06-21T10:31:06.153Z"
   },
   {
    "duration": 22,
    "start_time": "2022-06-21T10:31:06.358Z"
   },
   {
    "duration": 109,
    "start_time": "2022-06-21T10:31:06.381Z"
   },
   {
    "duration": 96,
    "start_time": "2022-06-21T10:31:06.491Z"
   },
   {
    "duration": 110,
    "start_time": "2022-06-21T10:31:06.588Z"
   },
   {
    "duration": 10,
    "start_time": "2022-06-21T10:31:06.701Z"
   },
   {
    "duration": 168,
    "start_time": "2022-06-21T10:31:06.713Z"
   },
   {
    "duration": 139,
    "start_time": "2022-06-21T10:31:06.883Z"
   },
   {
    "duration": 161,
    "start_time": "2022-06-21T10:31:07.024Z"
   },
   {
    "duration": 12,
    "start_time": "2022-06-21T10:31:07.187Z"
   },
   {
    "duration": 7,
    "start_time": "2022-06-21T10:31:07.201Z"
   },
   {
    "duration": 8,
    "start_time": "2022-06-21T10:31:07.210Z"
   },
   {
    "duration": 12,
    "start_time": "2022-06-21T10:31:07.220Z"
   },
   {
    "duration": 5,
    "start_time": "2022-06-21T10:31:07.234Z"
   },
   {
    "duration": 30,
    "start_time": "2022-06-21T10:31:07.240Z"
   },
   {
    "duration": 22,
    "start_time": "2022-06-21T10:31:07.276Z"
   },
   {
    "duration": 12,
    "start_time": "2022-06-21T10:31:07.300Z"
   },
   {
    "duration": 17,
    "start_time": "2022-06-21T10:32:23.761Z"
   },
   {
    "duration": 14,
    "start_time": "2022-06-21T10:33:14.087Z"
   },
   {
    "duration": 405,
    "start_time": "2022-06-21T10:33:21.942Z"
   },
   {
    "duration": 1114,
    "start_time": "2022-06-21T10:33:22.349Z"
   },
   {
    "duration": 65,
    "start_time": "2022-06-21T10:33:23.464Z"
   },
   {
    "duration": 17,
    "start_time": "2022-06-21T10:33:23.531Z"
   },
   {
    "duration": 15,
    "start_time": "2022-06-21T10:33:23.550Z"
   },
   {
    "duration": 26,
    "start_time": "2022-06-21T10:33:23.566Z"
   },
   {
    "duration": 17,
    "start_time": "2022-06-21T10:33:23.594Z"
   },
   {
    "duration": 26,
    "start_time": "2022-06-21T10:33:23.613Z"
   },
   {
    "duration": 6,
    "start_time": "2022-06-21T10:33:23.640Z"
   },
   {
    "duration": 12,
    "start_time": "2022-06-21T10:33:23.647Z"
   },
   {
    "duration": 35,
    "start_time": "2022-06-21T10:33:23.668Z"
   },
   {
    "duration": 13,
    "start_time": "2022-06-21T10:33:23.705Z"
   },
   {
    "duration": 6,
    "start_time": "2022-06-21T10:33:23.719Z"
   },
   {
    "duration": 8,
    "start_time": "2022-06-21T10:33:23.727Z"
   },
   {
    "duration": 46,
    "start_time": "2022-06-21T10:33:23.736Z"
   },
   {
    "duration": 14,
    "start_time": "2022-06-21T10:33:23.784Z"
   },
   {
    "duration": 18,
    "start_time": "2022-06-21T10:33:23.800Z"
   },
   {
    "duration": 23,
    "start_time": "2022-06-21T10:33:23.819Z"
   },
   {
    "duration": 40,
    "start_time": "2022-06-21T10:33:23.844Z"
   },
   {
    "duration": 11,
    "start_time": "2022-06-21T10:33:23.886Z"
   },
   {
    "duration": 363,
    "start_time": "2022-06-21T10:33:23.899Z"
   },
   {
    "duration": 12,
    "start_time": "2022-06-21T10:33:24.273Z"
   },
   {
    "duration": 296,
    "start_time": "2022-06-21T10:33:24.287Z"
   },
   {
    "duration": 313,
    "start_time": "2022-06-21T10:33:24.584Z"
   },
   {
    "duration": 10,
    "start_time": "2022-06-21T10:33:24.899Z"
   },
   {
    "duration": 115,
    "start_time": "2022-06-21T10:33:24.911Z"
   },
   {
    "duration": 18,
    "start_time": "2022-06-21T10:33:25.028Z"
   },
   {
    "duration": 13,
    "start_time": "2022-06-21T10:33:25.048Z"
   },
   {
    "duration": 170,
    "start_time": "2022-06-21T10:33:25.069Z"
   },
   {
    "duration": 364,
    "start_time": "2022-06-21T10:33:25.241Z"
   },
   {
    "duration": 232,
    "start_time": "2022-06-21T10:33:25.607Z"
   },
   {
    "duration": 198,
    "start_time": "2022-06-21T10:33:25.840Z"
   },
   {
    "duration": 27,
    "start_time": "2022-06-21T10:33:26.040Z"
   },
   {
    "duration": 39,
    "start_time": "2022-06-21T10:33:26.069Z"
   },
   {
    "duration": 1592,
    "start_time": "2022-06-21T10:33:26.110Z"
   },
   {
    "duration": 13,
    "start_time": "2022-06-21T10:33:27.704Z"
   },
   {
    "duration": 36,
    "start_time": "2022-06-21T10:33:27.719Z"
   },
   {
    "duration": 1639,
    "start_time": "2022-06-21T10:33:27.757Z"
   },
   {
    "duration": 12,
    "start_time": "2022-06-21T10:33:29.398Z"
   },
   {
    "duration": 25,
    "start_time": "2022-06-21T10:33:29.411Z"
   },
   {
    "duration": 1467,
    "start_time": "2022-06-21T10:33:29.440Z"
   },
   {
    "duration": 13,
    "start_time": "2022-06-21T10:33:30.909Z"
   },
   {
    "duration": 54,
    "start_time": "2022-06-21T10:33:30.924Z"
   },
   {
    "duration": 1526,
    "start_time": "2022-06-21T10:33:30.980Z"
   },
   {
    "duration": 13,
    "start_time": "2022-06-21T10:33:32.508Z"
   },
   {
    "duration": 16,
    "start_time": "2022-06-21T10:33:32.522Z"
   },
   {
    "duration": 1458,
    "start_time": "2022-06-21T10:33:32.540Z"
   },
   {
    "duration": 12,
    "start_time": "2022-06-21T10:33:34.001Z"
   },
   {
    "duration": 10,
    "start_time": "2022-06-21T10:33:34.014Z"
   },
   {
    "duration": 7,
    "start_time": "2022-06-21T10:33:34.026Z"
   },
   {
    "duration": 201,
    "start_time": "2022-06-21T10:33:34.034Z"
   },
   {
    "duration": 325,
    "start_time": "2022-06-21T10:33:34.237Z"
   },
   {
    "duration": 78,
    "start_time": "2022-06-21T10:33:34.566Z"
   },
   {
    "duration": 10,
    "start_time": "2022-06-21T10:33:34.645Z"
   },
   {
    "duration": 100,
    "start_time": "2022-06-21T10:33:34.657Z"
   },
   {
    "duration": 91,
    "start_time": "2022-06-21T10:33:34.768Z"
   },
   {
    "duration": 185,
    "start_time": "2022-06-21T10:33:34.867Z"
   },
   {
    "duration": 27,
    "start_time": "2022-06-21T10:33:35.054Z"
   },
   {
    "duration": 101,
    "start_time": "2022-06-21T10:33:35.083Z"
   },
   {
    "duration": 102,
    "start_time": "2022-06-21T10:33:35.186Z"
   },
   {
    "duration": 111,
    "start_time": "2022-06-21T10:33:35.290Z"
   },
   {
    "duration": 11,
    "start_time": "2022-06-21T10:33:35.402Z"
   },
   {
    "duration": 173,
    "start_time": "2022-06-21T10:33:35.415Z"
   },
   {
    "duration": 143,
    "start_time": "2022-06-21T10:33:35.590Z"
   },
   {
    "duration": 154,
    "start_time": "2022-06-21T10:33:35.735Z"
   },
   {
    "duration": 10,
    "start_time": "2022-06-21T10:33:35.890Z"
   },
   {
    "duration": 6,
    "start_time": "2022-06-21T10:33:35.902Z"
   },
   {
    "duration": 6,
    "start_time": "2022-06-21T10:33:35.909Z"
   },
   {
    "duration": 11,
    "start_time": "2022-06-21T10:33:35.916Z"
   },
   {
    "duration": 10,
    "start_time": "2022-06-21T10:33:35.928Z"
   },
   {
    "duration": 33,
    "start_time": "2022-06-21T10:33:35.939Z"
   },
   {
    "duration": 21,
    "start_time": "2022-06-21T10:33:35.973Z"
   },
   {
    "duration": 11,
    "start_time": "2022-06-21T10:33:35.996Z"
   },
   {
    "duration": 553,
    "start_time": "2022-06-21T11:57:11.787Z"
   },
   {
    "duration": 1288,
    "start_time": "2022-06-21T11:57:12.342Z"
   },
   {
    "duration": 93,
    "start_time": "2022-06-21T11:57:13.632Z"
   },
   {
    "duration": 17,
    "start_time": "2022-06-21T11:57:13.727Z"
   },
   {
    "duration": 15,
    "start_time": "2022-06-21T11:57:13.747Z"
   },
   {
    "duration": 13,
    "start_time": "2022-06-21T11:57:13.764Z"
   },
   {
    "duration": 22,
    "start_time": "2022-06-21T11:57:13.779Z"
   },
   {
    "duration": 32,
    "start_time": "2022-06-21T11:57:13.803Z"
   },
   {
    "duration": 6,
    "start_time": "2022-06-21T11:57:13.837Z"
   },
   {
    "duration": 10,
    "start_time": "2022-06-21T11:57:13.844Z"
   },
   {
    "duration": 30,
    "start_time": "2022-06-21T11:57:13.855Z"
   },
   {
    "duration": 12,
    "start_time": "2022-06-21T11:57:13.886Z"
   },
   {
    "duration": 8,
    "start_time": "2022-06-21T11:57:13.925Z"
   },
   {
    "duration": 10,
    "start_time": "2022-06-21T11:57:13.936Z"
   },
   {
    "duration": 18,
    "start_time": "2022-06-21T11:57:13.948Z"
   },
   {
    "duration": 13,
    "start_time": "2022-06-21T11:57:13.967Z"
   },
   {
    "duration": 22,
    "start_time": "2022-06-21T11:57:13.981Z"
   },
   {
    "duration": 23,
    "start_time": "2022-06-21T11:57:14.027Z"
   },
   {
    "duration": 16,
    "start_time": "2022-06-21T11:57:14.051Z"
   },
   {
    "duration": 26,
    "start_time": "2022-06-21T11:57:14.069Z"
   },
   {
    "duration": 344,
    "start_time": "2022-06-21T11:57:14.097Z"
   },
   {
    "duration": 12,
    "start_time": "2022-06-21T11:57:14.443Z"
   },
   {
    "duration": 314,
    "start_time": "2022-06-21T11:57:14.457Z"
   },
   {
    "duration": 300,
    "start_time": "2022-06-21T11:57:14.773Z"
   },
   {
    "duration": 9,
    "start_time": "2022-06-21T11:57:15.075Z"
   },
   {
    "duration": 125,
    "start_time": "2022-06-21T11:57:15.086Z"
   },
   {
    "duration": 17,
    "start_time": "2022-06-21T11:57:15.213Z"
   },
   {
    "duration": 9,
    "start_time": "2022-06-21T11:57:15.232Z"
   },
   {
    "duration": 163,
    "start_time": "2022-06-21T11:57:15.242Z"
   },
   {
    "duration": 315,
    "start_time": "2022-06-21T11:57:15.407Z"
   },
   {
    "duration": 193,
    "start_time": "2022-06-21T11:57:15.723Z"
   },
   {
    "duration": 182,
    "start_time": "2022-06-21T11:57:15.918Z"
   },
   {
    "duration": 25,
    "start_time": "2022-06-21T11:57:16.102Z"
   },
   {
    "duration": 32,
    "start_time": "2022-06-21T11:57:16.128Z"
   },
   {
    "duration": 1490,
    "start_time": "2022-06-21T11:57:16.162Z"
   },
   {
    "duration": 12,
    "start_time": "2022-06-21T11:57:17.653Z"
   },
   {
    "duration": 18,
    "start_time": "2022-06-21T11:57:17.666Z"
   },
   {
    "duration": 1467,
    "start_time": "2022-06-21T11:57:17.686Z"
   },
   {
    "duration": 10,
    "start_time": "2022-06-21T11:57:19.155Z"
   },
   {
    "duration": 23,
    "start_time": "2022-06-21T11:57:19.166Z"
   },
   {
    "duration": 1404,
    "start_time": "2022-06-21T11:57:19.193Z"
   },
   {
    "duration": 11,
    "start_time": "2022-06-21T11:57:20.599Z"
   },
   {
    "duration": 27,
    "start_time": "2022-06-21T11:57:20.611Z"
   },
   {
    "duration": 1439,
    "start_time": "2022-06-21T11:57:20.639Z"
   },
   {
    "duration": 11,
    "start_time": "2022-06-21T11:57:22.079Z"
   },
   {
    "duration": 25,
    "start_time": "2022-06-21T11:57:22.091Z"
   },
   {
    "duration": 1485,
    "start_time": "2022-06-21T11:57:22.117Z"
   },
   {
    "duration": 13,
    "start_time": "2022-06-21T11:57:23.604Z"
   },
   {
    "duration": 12,
    "start_time": "2022-06-21T11:57:23.627Z"
   },
   {
    "duration": 14,
    "start_time": "2022-06-21T11:57:23.641Z"
   },
   {
    "duration": 189,
    "start_time": "2022-06-21T11:57:23.657Z"
   },
   {
    "duration": 308,
    "start_time": "2022-06-21T11:57:23.848Z"
   },
   {
    "duration": 76,
    "start_time": "2022-06-21T11:57:24.158Z"
   },
   {
    "duration": 10,
    "start_time": "2022-06-21T11:57:24.235Z"
   },
   {
    "duration": 115,
    "start_time": "2022-06-21T11:57:24.247Z"
   },
   {
    "duration": 120,
    "start_time": "2022-06-21T11:57:24.364Z"
   },
   {
    "duration": 233,
    "start_time": "2022-06-21T11:57:24.485Z"
   },
   {
    "duration": 14,
    "start_time": "2022-06-21T11:57:24.719Z"
   },
   {
    "duration": 107,
    "start_time": "2022-06-21T11:57:24.735Z"
   },
   {
    "duration": 107,
    "start_time": "2022-06-21T11:57:24.843Z"
   },
   {
    "duration": 108,
    "start_time": "2022-06-21T11:57:24.952Z"
   },
   {
    "duration": 11,
    "start_time": "2022-06-21T11:57:25.062Z"
   },
   {
    "duration": 147,
    "start_time": "2022-06-21T11:57:25.075Z"
   },
   {
    "duration": 130,
    "start_time": "2022-06-21T11:57:25.226Z"
   },
   {
    "duration": 142,
    "start_time": "2022-06-21T11:57:25.358Z"
   },
   {
    "duration": 11,
    "start_time": "2022-06-21T11:57:25.502Z"
   },
   {
    "duration": 15,
    "start_time": "2022-06-21T11:57:25.515Z"
   },
   {
    "duration": 7,
    "start_time": "2022-06-21T11:57:25.531Z"
   },
   {
    "duration": 11,
    "start_time": "2022-06-21T11:57:25.539Z"
   },
   {
    "duration": 9,
    "start_time": "2022-06-21T11:57:25.552Z"
   },
   {
    "duration": 7,
    "start_time": "2022-06-21T11:57:25.562Z"
   },
   {
    "duration": 15,
    "start_time": "2022-06-21T11:57:25.570Z"
   },
   {
    "duration": 9,
    "start_time": "2022-06-21T11:57:25.587Z"
   },
   {
    "duration": 212,
    "start_time": "2022-06-21T12:00:13.044Z"
   },
   {
    "duration": 10,
    "start_time": "2022-06-21T12:01:55.939Z"
   },
   {
    "duration": 99,
    "start_time": "2022-06-21T12:02:34.045Z"
   },
   {
    "duration": 16,
    "start_time": "2022-06-21T12:06:02.717Z"
   },
   {
    "duration": 12,
    "start_time": "2022-06-21T12:06:23.556Z"
   },
   {
    "duration": 586,
    "start_time": "2022-06-21T12:06:33.281Z"
   },
   {
    "duration": 1144,
    "start_time": "2022-06-21T12:06:33.869Z"
   },
   {
    "duration": 51,
    "start_time": "2022-06-21T12:06:35.015Z"
   },
   {
    "duration": 19,
    "start_time": "2022-06-21T12:06:35.068Z"
   },
   {
    "duration": 15,
    "start_time": "2022-06-21T12:06:35.090Z"
   },
   {
    "duration": 26,
    "start_time": "2022-06-21T12:06:35.106Z"
   },
   {
    "duration": 14,
    "start_time": "2022-06-21T12:06:35.134Z"
   },
   {
    "duration": 26,
    "start_time": "2022-06-21T12:06:35.150Z"
   },
   {
    "duration": 6,
    "start_time": "2022-06-21T12:06:35.177Z"
   },
   {
    "duration": 18,
    "start_time": "2022-06-21T12:06:35.184Z"
   },
   {
    "duration": 32,
    "start_time": "2022-06-21T12:06:35.204Z"
   },
   {
    "duration": 13,
    "start_time": "2022-06-21T12:06:35.237Z"
   },
   {
    "duration": 7,
    "start_time": "2022-06-21T12:06:35.252Z"
   },
   {
    "duration": 8,
    "start_time": "2022-06-21T12:06:35.262Z"
   },
   {
    "duration": 17,
    "start_time": "2022-06-21T12:06:35.272Z"
   },
   {
    "duration": 40,
    "start_time": "2022-06-21T12:06:35.290Z"
   },
   {
    "duration": 22,
    "start_time": "2022-06-21T12:06:35.332Z"
   },
   {
    "duration": 25,
    "start_time": "2022-06-21T12:06:35.356Z"
   },
   {
    "duration": 16,
    "start_time": "2022-06-21T12:06:35.383Z"
   },
   {
    "duration": 12,
    "start_time": "2022-06-21T12:06:35.427Z"
   },
   {
    "duration": 324,
    "start_time": "2022-06-21T12:06:35.441Z"
   },
   {
    "duration": 9,
    "start_time": "2022-06-21T12:06:35.767Z"
   },
   {
    "duration": 279,
    "start_time": "2022-06-21T12:06:35.778Z"
   },
   {
    "duration": 318,
    "start_time": "2022-06-21T12:06:36.059Z"
   },
   {
    "duration": 10,
    "start_time": "2022-06-21T12:06:36.380Z"
   },
   {
    "duration": 114,
    "start_time": "2022-06-21T12:06:36.392Z"
   },
   {
    "duration": 22,
    "start_time": "2022-06-21T12:06:36.508Z"
   },
   {
    "duration": 11,
    "start_time": "2022-06-21T12:06:36.532Z"
   },
   {
    "duration": 177,
    "start_time": "2022-06-21T12:06:36.545Z"
   },
   {
    "duration": 343,
    "start_time": "2022-06-21T12:06:36.725Z"
   },
   {
    "duration": 218,
    "start_time": "2022-06-21T12:06:37.069Z"
   },
   {
    "duration": 218,
    "start_time": "2022-06-21T12:06:37.290Z"
   },
   {
    "duration": 35,
    "start_time": "2022-06-21T12:06:37.510Z"
   },
   {
    "duration": 31,
    "start_time": "2022-06-21T12:06:37.547Z"
   },
   {
    "duration": 1487,
    "start_time": "2022-06-21T12:06:37.580Z"
   },
   {
    "duration": 13,
    "start_time": "2022-06-21T12:06:39.069Z"
   },
   {
    "duration": 15,
    "start_time": "2022-06-21T12:06:39.083Z"
   },
   {
    "duration": 1552,
    "start_time": "2022-06-21T12:06:39.100Z"
   },
   {
    "duration": 12,
    "start_time": "2022-06-21T12:06:40.653Z"
   },
   {
    "duration": 16,
    "start_time": "2022-06-21T12:06:40.666Z"
   },
   {
    "duration": 1410,
    "start_time": "2022-06-21T12:06:40.687Z"
   },
   {
    "duration": 17,
    "start_time": "2022-06-21T12:06:42.099Z"
   },
   {
    "duration": 15,
    "start_time": "2022-06-21T12:06:42.127Z"
   },
   {
    "duration": 1607,
    "start_time": "2022-06-21T12:06:42.144Z"
   },
   {
    "duration": 14,
    "start_time": "2022-06-21T12:06:43.754Z"
   },
   {
    "duration": 22,
    "start_time": "2022-06-21T12:06:43.769Z"
   },
   {
    "duration": 1592,
    "start_time": "2022-06-21T12:06:43.793Z"
   },
   {
    "duration": 13,
    "start_time": "2022-06-21T12:06:45.387Z"
   },
   {
    "duration": 29,
    "start_time": "2022-06-21T12:06:45.402Z"
   },
   {
    "duration": 9,
    "start_time": "2022-06-21T12:06:45.433Z"
   },
   {
    "duration": 195,
    "start_time": "2022-06-21T12:06:45.444Z"
   },
   {
    "duration": 298,
    "start_time": "2022-06-21T12:06:45.641Z"
   },
   {
    "duration": 93,
    "start_time": "2022-06-21T12:06:45.941Z"
   },
   {
    "duration": 11,
    "start_time": "2022-06-21T12:06:46.036Z"
   },
   {
    "duration": 99,
    "start_time": "2022-06-21T12:06:46.048Z"
   },
   {
    "duration": 111,
    "start_time": "2022-06-21T12:06:46.149Z"
   },
   {
    "duration": 219,
    "start_time": "2022-06-21T12:06:46.262Z"
   },
   {
    "duration": 15,
    "start_time": "2022-06-21T12:06:46.482Z"
   },
   {
    "duration": 115,
    "start_time": "2022-06-21T12:06:46.499Z"
   },
   {
    "duration": 97,
    "start_time": "2022-06-21T12:06:46.616Z"
   },
   {
    "duration": 125,
    "start_time": "2022-06-21T12:06:46.714Z"
   },
   {
    "duration": 12,
    "start_time": "2022-06-21T12:06:46.841Z"
   },
   {
    "duration": 149,
    "start_time": "2022-06-21T12:06:46.855Z"
   },
   {
    "duration": 153,
    "start_time": "2022-06-21T12:06:47.006Z"
   },
   {
    "duration": 153,
    "start_time": "2022-06-21T12:06:47.161Z"
   },
   {
    "duration": 18,
    "start_time": "2022-06-21T12:06:47.316Z"
   },
   {
    "duration": 17,
    "start_time": "2022-06-21T12:06:47.336Z"
   },
   {
    "duration": 25,
    "start_time": "2022-06-21T12:06:47.355Z"
   },
   {
    "duration": 40,
    "start_time": "2022-06-21T12:06:47.382Z"
   },
   {
    "duration": 52,
    "start_time": "2022-06-21T12:06:47.424Z"
   },
   {
    "duration": 22,
    "start_time": "2022-06-21T12:06:47.478Z"
   },
   {
    "duration": 36,
    "start_time": "2022-06-21T12:06:47.502Z"
   },
   {
    "duration": 17,
    "start_time": "2022-06-21T12:06:47.540Z"
   },
   {
    "duration": 22,
    "start_time": "2022-06-21T12:06:47.559Z"
   },
   {
    "duration": 14,
    "start_time": "2022-06-21T12:06:47.583Z"
   },
   {
    "duration": 609,
    "start_time": "2022-06-21T12:09:05.951Z"
   },
   {
    "duration": 1173,
    "start_time": "2022-06-21T12:09:06.562Z"
   },
   {
    "duration": 54,
    "start_time": "2022-06-21T12:09:07.736Z"
   },
   {
    "duration": 18,
    "start_time": "2022-06-21T12:09:07.793Z"
   },
   {
    "duration": 16,
    "start_time": "2022-06-21T12:09:07.812Z"
   },
   {
    "duration": 14,
    "start_time": "2022-06-21T12:09:07.830Z"
   },
   {
    "duration": 13,
    "start_time": "2022-06-21T12:09:07.846Z"
   },
   {
    "duration": 22,
    "start_time": "2022-06-21T12:09:07.861Z"
   },
   {
    "duration": 5,
    "start_time": "2022-06-21T12:09:07.885Z"
   },
   {
    "duration": 9,
    "start_time": "2022-06-21T12:09:07.893Z"
   },
   {
    "duration": 32,
    "start_time": "2022-06-21T12:09:07.926Z"
   },
   {
    "duration": 13,
    "start_time": "2022-06-21T12:09:07.960Z"
   },
   {
    "duration": 6,
    "start_time": "2022-06-21T12:09:07.975Z"
   },
   {
    "duration": 11,
    "start_time": "2022-06-21T12:09:07.982Z"
   },
   {
    "duration": 42,
    "start_time": "2022-06-21T12:09:07.995Z"
   },
   {
    "duration": 22,
    "start_time": "2022-06-21T12:09:08.040Z"
   },
   {
    "duration": 40,
    "start_time": "2022-06-21T12:09:08.064Z"
   },
   {
    "duration": 44,
    "start_time": "2022-06-21T12:09:08.106Z"
   },
   {
    "duration": 19,
    "start_time": "2022-06-21T12:09:08.152Z"
   },
   {
    "duration": 16,
    "start_time": "2022-06-21T12:09:08.173Z"
   },
   {
    "duration": 349,
    "start_time": "2022-06-21T12:09:08.191Z"
   },
   {
    "duration": 10,
    "start_time": "2022-06-21T12:09:08.542Z"
   },
   {
    "duration": 289,
    "start_time": "2022-06-21T12:09:08.554Z"
   },
   {
    "duration": 320,
    "start_time": "2022-06-21T12:09:08.845Z"
   },
   {
    "duration": 13,
    "start_time": "2022-06-21T12:09:09.168Z"
   },
   {
    "duration": 114,
    "start_time": "2022-06-21T12:09:09.183Z"
   },
   {
    "duration": 20,
    "start_time": "2022-06-21T12:09:09.299Z"
   },
   {
    "duration": 8,
    "start_time": "2022-06-21T12:09:09.330Z"
   },
   {
    "duration": 195,
    "start_time": "2022-06-21T12:09:09.341Z"
   },
   {
    "duration": 355,
    "start_time": "2022-06-21T12:09:09.537Z"
   },
   {
    "duration": 211,
    "start_time": "2022-06-21T12:09:09.893Z"
   },
   {
    "duration": 180,
    "start_time": "2022-06-21T12:09:10.106Z"
   },
   {
    "duration": 18,
    "start_time": "2022-06-21T12:09:10.288Z"
   },
   {
    "duration": 44,
    "start_time": "2022-06-21T12:09:10.308Z"
   },
   {
    "duration": 1420,
    "start_time": "2022-06-21T12:09:10.353Z"
   },
   {
    "duration": 12,
    "start_time": "2022-06-21T12:09:11.774Z"
   },
   {
    "duration": 17,
    "start_time": "2022-06-21T12:09:11.787Z"
   },
   {
    "duration": 1497,
    "start_time": "2022-06-21T12:09:11.806Z"
   },
   {
    "duration": 22,
    "start_time": "2022-06-21T12:09:13.304Z"
   },
   {
    "duration": 11,
    "start_time": "2022-06-21T12:09:13.328Z"
   },
   {
    "duration": 1427,
    "start_time": "2022-06-21T12:09:13.340Z"
   },
   {
    "duration": 12,
    "start_time": "2022-06-21T12:09:14.769Z"
   },
   {
    "duration": 11,
    "start_time": "2022-06-21T12:09:14.782Z"
   },
   {
    "duration": 1401,
    "start_time": "2022-06-21T12:09:14.794Z"
   },
   {
    "duration": 12,
    "start_time": "2022-06-21T12:09:16.197Z"
   },
   {
    "duration": 22,
    "start_time": "2022-06-21T12:09:16.210Z"
   },
   {
    "duration": 1366,
    "start_time": "2022-06-21T12:09:16.233Z"
   },
   {
    "duration": 11,
    "start_time": "2022-06-21T12:09:17.601Z"
   },
   {
    "duration": 21,
    "start_time": "2022-06-21T12:09:17.614Z"
   },
   {
    "duration": 6,
    "start_time": "2022-06-21T12:09:17.637Z"
   },
   {
    "duration": 183,
    "start_time": "2022-06-21T12:09:17.645Z"
   },
   {
    "duration": 301,
    "start_time": "2022-06-21T12:09:17.829Z"
   },
   {
    "duration": 58,
    "start_time": "2022-06-21T12:09:18.132Z"
   },
   {
    "duration": 37,
    "start_time": "2022-06-21T12:09:18.192Z"
   },
   {
    "duration": 100,
    "start_time": "2022-06-21T12:09:18.231Z"
   },
   {
    "duration": 95,
    "start_time": "2022-06-21T12:09:18.333Z"
   },
   {
    "duration": 198,
    "start_time": "2022-06-21T12:09:18.430Z"
   },
   {
    "duration": 11,
    "start_time": "2022-06-21T12:09:18.630Z"
   },
   {
    "duration": 108,
    "start_time": "2022-06-21T12:09:18.643Z"
   },
   {
    "duration": 99,
    "start_time": "2022-06-21T12:09:18.753Z"
   },
   {
    "duration": 95,
    "start_time": "2022-06-21T12:09:18.854Z"
   },
   {
    "duration": 12,
    "start_time": "2022-06-21T12:09:18.951Z"
   },
   {
    "duration": 162,
    "start_time": "2022-06-21T12:09:18.964Z"
   },
   {
    "duration": 145,
    "start_time": "2022-06-21T12:09:19.128Z"
   },
   {
    "duration": 137,
    "start_time": "2022-06-21T12:09:19.274Z"
   },
   {
    "duration": 19,
    "start_time": "2022-06-21T12:09:19.413Z"
   },
   {
    "duration": 18,
    "start_time": "2022-06-21T12:09:19.434Z"
   },
   {
    "duration": 9,
    "start_time": "2022-06-21T12:09:19.453Z"
   },
   {
    "duration": 11,
    "start_time": "2022-06-21T12:09:19.463Z"
   },
   {
    "duration": 7,
    "start_time": "2022-06-21T12:09:19.476Z"
   },
   {
    "duration": 10,
    "start_time": "2022-06-21T12:09:19.485Z"
   },
   {
    "duration": 14,
    "start_time": "2022-06-21T12:09:19.497Z"
   },
   {
    "duration": 19,
    "start_time": "2022-06-21T12:09:19.512Z"
   },
   {
    "duration": 11,
    "start_time": "2022-06-21T12:09:19.532Z"
   },
   {
    "duration": 16,
    "start_time": "2022-06-21T12:09:19.544Z"
   },
   {
    "duration": 557,
    "start_time": "2022-06-21T12:31:31.674Z"
   },
   {
    "duration": 1106,
    "start_time": "2022-06-21T12:31:32.233Z"
   },
   {
    "duration": 57,
    "start_time": "2022-06-21T12:31:33.341Z"
   },
   {
    "duration": 18,
    "start_time": "2022-06-21T12:31:33.400Z"
   },
   {
    "duration": 23,
    "start_time": "2022-06-21T12:31:33.421Z"
   },
   {
    "duration": 20,
    "start_time": "2022-06-21T12:31:33.446Z"
   },
   {
    "duration": 17,
    "start_time": "2022-06-21T12:31:33.468Z"
   },
   {
    "duration": 41,
    "start_time": "2022-06-21T12:31:33.487Z"
   },
   {
    "duration": 5,
    "start_time": "2022-06-21T12:31:33.530Z"
   },
   {
    "duration": 24,
    "start_time": "2022-06-21T12:31:33.537Z"
   },
   {
    "duration": 35,
    "start_time": "2022-06-21T12:31:33.562Z"
   },
   {
    "duration": 12,
    "start_time": "2022-06-21T12:31:33.599Z"
   },
   {
    "duration": 14,
    "start_time": "2022-06-21T12:31:33.613Z"
   },
   {
    "duration": 31,
    "start_time": "2022-06-21T12:31:33.629Z"
   },
   {
    "duration": 16,
    "start_time": "2022-06-21T12:31:33.662Z"
   },
   {
    "duration": 13,
    "start_time": "2022-06-21T12:31:33.679Z"
   },
   {
    "duration": 26,
    "start_time": "2022-06-21T12:31:33.694Z"
   },
   {
    "duration": 22,
    "start_time": "2022-06-21T12:31:33.722Z"
   },
   {
    "duration": 16,
    "start_time": "2022-06-21T12:31:33.746Z"
   },
   {
    "duration": 16,
    "start_time": "2022-06-21T12:31:33.764Z"
   },
   {
    "duration": 333,
    "start_time": "2022-06-21T12:31:33.781Z"
   },
   {
    "duration": 12,
    "start_time": "2022-06-21T12:31:34.115Z"
   },
   {
    "duration": 301,
    "start_time": "2022-06-21T12:31:34.128Z"
   },
   {
    "duration": 409,
    "start_time": "2022-06-21T12:31:34.432Z"
   },
   {
    "duration": 10,
    "start_time": "2022-06-21T12:31:34.843Z"
   },
   {
    "duration": 124,
    "start_time": "2022-06-21T12:31:34.855Z"
   },
   {
    "duration": 25,
    "start_time": "2022-06-21T12:31:34.981Z"
   },
   {
    "duration": 20,
    "start_time": "2022-06-21T12:31:35.013Z"
   },
   {
    "duration": 191,
    "start_time": "2022-06-21T12:31:35.035Z"
   },
   {
    "duration": 338,
    "start_time": "2022-06-21T12:31:35.228Z"
   },
   {
    "duration": 212,
    "start_time": "2022-06-21T12:31:35.568Z"
   },
   {
    "duration": 193,
    "start_time": "2022-06-21T12:31:35.782Z"
   },
   {
    "duration": 20,
    "start_time": "2022-06-21T12:31:35.977Z"
   },
   {
    "duration": 51,
    "start_time": "2022-06-21T12:31:35.999Z"
   },
   {
    "duration": 1569,
    "start_time": "2022-06-21T12:31:36.052Z"
   },
   {
    "duration": 16,
    "start_time": "2022-06-21T12:31:37.623Z"
   },
   {
    "duration": 27,
    "start_time": "2022-06-21T12:31:37.640Z"
   },
   {
    "duration": 1649,
    "start_time": "2022-06-21T12:31:37.669Z"
   },
   {
    "duration": 14,
    "start_time": "2022-06-21T12:31:39.325Z"
   },
   {
    "duration": 18,
    "start_time": "2022-06-21T12:31:39.341Z"
   },
   {
    "duration": 1486,
    "start_time": "2022-06-21T12:31:39.361Z"
   },
   {
    "duration": 12,
    "start_time": "2022-06-21T12:31:40.848Z"
   },
   {
    "duration": 15,
    "start_time": "2022-06-21T12:31:40.862Z"
   },
   {
    "duration": 1522,
    "start_time": "2022-06-21T12:31:40.879Z"
   },
   {
    "duration": 11,
    "start_time": "2022-06-21T12:31:42.403Z"
   },
   {
    "duration": 24,
    "start_time": "2022-06-21T12:31:42.416Z"
   },
   {
    "duration": 1393,
    "start_time": "2022-06-21T12:31:42.442Z"
   },
   {
    "duration": 11,
    "start_time": "2022-06-21T12:31:43.837Z"
   },
   {
    "duration": 11,
    "start_time": "2022-06-21T12:31:43.850Z"
   },
   {
    "duration": 25,
    "start_time": "2022-06-21T12:31:43.863Z"
   },
   {
    "duration": 194,
    "start_time": "2022-06-21T12:31:43.890Z"
   },
   {
    "duration": 301,
    "start_time": "2022-06-21T12:31:44.087Z"
   },
   {
    "duration": 91,
    "start_time": "2022-06-21T12:31:44.390Z"
   },
   {
    "duration": 14,
    "start_time": "2022-06-21T12:31:44.483Z"
   },
   {
    "duration": 154,
    "start_time": "2022-06-21T12:31:44.500Z"
   },
   {
    "duration": 114,
    "start_time": "2022-06-21T12:31:44.656Z"
   },
   {
    "duration": 201,
    "start_time": "2022-06-21T12:31:44.772Z"
   },
   {
    "duration": 12,
    "start_time": "2022-06-21T12:31:44.975Z"
   },
   {
    "duration": 107,
    "start_time": "2022-06-21T12:31:44.989Z"
   },
   {
    "duration": 101,
    "start_time": "2022-06-21T12:31:45.098Z"
   },
   {
    "duration": 97,
    "start_time": "2022-06-21T12:31:45.201Z"
   },
   {
    "duration": 27,
    "start_time": "2022-06-21T12:31:45.301Z"
   },
   {
    "duration": 136,
    "start_time": "2022-06-21T12:31:45.330Z"
   },
   {
    "duration": 138,
    "start_time": "2022-06-21T12:31:45.467Z"
   },
   {
    "duration": 134,
    "start_time": "2022-06-21T12:31:45.607Z"
   },
   {
    "duration": 12,
    "start_time": "2022-06-21T12:31:45.743Z"
   },
   {
    "duration": 11,
    "start_time": "2022-06-21T12:31:45.756Z"
   },
   {
    "duration": 7,
    "start_time": "2022-06-21T12:31:45.769Z"
   },
   {
    "duration": 11,
    "start_time": "2022-06-21T12:31:45.778Z"
   },
   {
    "duration": 10,
    "start_time": "2022-06-21T12:31:45.791Z"
   },
   {
    "duration": 14,
    "start_time": "2022-06-21T12:31:45.803Z"
   },
   {
    "duration": 582,
    "start_time": "2022-06-21T13:46:36.389Z"
   },
   {
    "duration": 1171,
    "start_time": "2022-06-21T13:46:36.973Z"
   },
   {
    "duration": 55,
    "start_time": "2022-06-21T13:46:38.145Z"
   },
   {
    "duration": 17,
    "start_time": "2022-06-21T13:46:38.202Z"
   },
   {
    "duration": 15,
    "start_time": "2022-06-21T13:46:38.221Z"
   },
   {
    "duration": 20,
    "start_time": "2022-06-21T13:46:38.237Z"
   },
   {
    "duration": 14,
    "start_time": "2022-06-21T13:46:38.258Z"
   },
   {
    "duration": 34,
    "start_time": "2022-06-21T13:46:38.274Z"
   },
   {
    "duration": 6,
    "start_time": "2022-06-21T13:46:38.310Z"
   },
   {
    "duration": 9,
    "start_time": "2022-06-21T13:46:38.325Z"
   },
   {
    "duration": 60,
    "start_time": "2022-06-21T13:46:38.336Z"
   },
   {
    "duration": 13,
    "start_time": "2022-06-21T13:46:38.398Z"
   },
   {
    "duration": 6,
    "start_time": "2022-06-21T13:46:38.412Z"
   },
   {
    "duration": 10,
    "start_time": "2022-06-21T13:46:38.421Z"
   },
   {
    "duration": 20,
    "start_time": "2022-06-21T13:46:38.432Z"
   },
   {
    "duration": 15,
    "start_time": "2022-06-21T13:46:38.454Z"
   },
   {
    "duration": 22,
    "start_time": "2022-06-21T13:46:38.470Z"
   },
   {
    "duration": 40,
    "start_time": "2022-06-21T13:46:38.494Z"
   },
   {
    "duration": 19,
    "start_time": "2022-06-21T13:46:38.535Z"
   },
   {
    "duration": 16,
    "start_time": "2022-06-21T13:46:38.555Z"
   },
   {
    "duration": 329,
    "start_time": "2022-06-21T13:46:38.572Z"
   },
   {
    "duration": 8,
    "start_time": "2022-06-21T13:46:38.903Z"
   },
   {
    "duration": 285,
    "start_time": "2022-06-21T13:46:38.913Z"
   },
   {
    "duration": 341,
    "start_time": "2022-06-21T13:46:39.200Z"
   },
   {
    "duration": 10,
    "start_time": "2022-06-21T13:46:39.543Z"
   },
   {
    "duration": 123,
    "start_time": "2022-06-21T13:46:39.555Z"
   },
   {
    "duration": 19,
    "start_time": "2022-06-21T13:46:39.680Z"
   },
   {
    "duration": 11,
    "start_time": "2022-06-21T13:46:39.701Z"
   },
   {
    "duration": 189,
    "start_time": "2022-06-21T13:46:39.714Z"
   },
   {
    "duration": 352,
    "start_time": "2022-06-21T13:46:39.905Z"
   },
   {
    "duration": 212,
    "start_time": "2022-06-21T13:46:40.259Z"
   },
   {
    "duration": 176,
    "start_time": "2022-06-21T13:46:40.473Z"
   },
   {
    "duration": 17,
    "start_time": "2022-06-21T13:46:40.650Z"
   },
   {
    "duration": 36,
    "start_time": "2022-06-21T13:46:40.668Z"
   },
   {
    "duration": 1417,
    "start_time": "2022-06-21T13:46:40.706Z"
   },
   {
    "duration": 12,
    "start_time": "2022-06-21T13:46:42.126Z"
   },
   {
    "duration": 18,
    "start_time": "2022-06-21T13:46:42.139Z"
   },
   {
    "duration": 1525,
    "start_time": "2022-06-21T13:46:42.159Z"
   },
   {
    "duration": 11,
    "start_time": "2022-06-21T13:46:43.686Z"
   },
   {
    "duration": 10,
    "start_time": "2022-06-21T13:46:43.699Z"
   },
   {
    "duration": 1399,
    "start_time": "2022-06-21T13:46:43.727Z"
   },
   {
    "duration": 11,
    "start_time": "2022-06-21T13:46:45.128Z"
   },
   {
    "duration": 16,
    "start_time": "2022-06-21T13:46:45.141Z"
   },
   {
    "duration": 1376,
    "start_time": "2022-06-21T13:46:45.158Z"
   },
   {
    "duration": 10,
    "start_time": "2022-06-21T13:46:46.536Z"
   },
   {
    "duration": 18,
    "start_time": "2022-06-21T13:46:46.547Z"
   },
   {
    "duration": 1323,
    "start_time": "2022-06-21T13:46:46.566Z"
   },
   {
    "duration": 11,
    "start_time": "2022-06-21T13:46:47.891Z"
   },
   {
    "duration": 24,
    "start_time": "2022-06-21T13:46:47.903Z"
   },
   {
    "duration": 10,
    "start_time": "2022-06-21T13:46:47.929Z"
   },
   {
    "duration": 174,
    "start_time": "2022-06-21T13:46:47.941Z"
   },
   {
    "duration": 288,
    "start_time": "2022-06-21T13:46:48.117Z"
   },
   {
    "duration": 63,
    "start_time": "2022-06-21T13:46:48.407Z"
   },
   {
    "duration": 10,
    "start_time": "2022-06-21T13:46:48.472Z"
   },
   {
    "duration": 99,
    "start_time": "2022-06-21T13:46:48.484Z"
   },
   {
    "duration": 92,
    "start_time": "2022-06-21T13:46:48.585Z"
   },
   {
    "duration": 195,
    "start_time": "2022-06-21T13:46:48.679Z"
   },
   {
    "duration": 11,
    "start_time": "2022-06-21T13:46:48.876Z"
   },
   {
    "duration": 115,
    "start_time": "2022-06-21T13:46:48.888Z"
   },
   {
    "duration": 98,
    "start_time": "2022-06-21T13:46:49.005Z"
   },
   {
    "duration": 98,
    "start_time": "2022-06-21T13:46:49.105Z"
   },
   {
    "duration": 21,
    "start_time": "2022-06-21T13:46:49.205Z"
   },
   {
    "duration": 129,
    "start_time": "2022-06-21T13:46:49.228Z"
   },
   {
    "duration": 126,
    "start_time": "2022-06-21T13:46:49.359Z"
   },
   {
    "duration": 143,
    "start_time": "2022-06-21T13:46:49.487Z"
   },
   {
    "duration": 10,
    "start_time": "2022-06-21T13:46:49.632Z"
   },
   {
    "duration": 8,
    "start_time": "2022-06-21T13:46:49.644Z"
   },
   {
    "duration": 7,
    "start_time": "2022-06-21T13:46:49.654Z"
   },
   {
    "duration": 12,
    "start_time": "2022-06-21T13:46:49.663Z"
   },
   {
    "duration": 6,
    "start_time": "2022-06-21T13:46:49.676Z"
   },
   {
    "duration": 6,
    "start_time": "2022-06-21T13:46:49.684Z"
   },
   {
    "duration": 423,
    "start_time": "2022-06-21T16:27:27.085Z"
   },
   {
    "duration": 1137,
    "start_time": "2022-06-21T16:27:27.511Z"
   },
   {
    "duration": 50,
    "start_time": "2022-06-21T16:27:28.650Z"
   },
   {
    "duration": 18,
    "start_time": "2022-06-21T16:27:28.702Z"
   },
   {
    "duration": 14,
    "start_time": "2022-06-21T16:27:28.721Z"
   },
   {
    "duration": 25,
    "start_time": "2022-06-21T16:27:28.737Z"
   },
   {
    "duration": 11,
    "start_time": "2022-06-21T16:27:28.764Z"
   },
   {
    "duration": 17,
    "start_time": "2022-06-21T16:27:28.776Z"
   },
   {
    "duration": 5,
    "start_time": "2022-06-21T16:27:28.795Z"
   },
   {
    "duration": 8,
    "start_time": "2022-06-21T16:27:28.802Z"
   },
   {
    "duration": 28,
    "start_time": "2022-06-21T16:27:28.829Z"
   },
   {
    "duration": 16,
    "start_time": "2022-06-21T16:27:28.859Z"
   },
   {
    "duration": 6,
    "start_time": "2022-06-21T16:27:28.876Z"
   },
   {
    "duration": 11,
    "start_time": "2022-06-21T16:27:28.883Z"
   },
   {
    "duration": 42,
    "start_time": "2022-06-21T16:27:28.895Z"
   },
   {
    "duration": 12,
    "start_time": "2022-06-21T16:27:28.938Z"
   },
   {
    "duration": 18,
    "start_time": "2022-06-21T16:27:28.952Z"
   },
   {
    "duration": 22,
    "start_time": "2022-06-21T16:27:28.971Z"
   },
   {
    "duration": 42,
    "start_time": "2022-06-21T16:27:28.995Z"
   },
   {
    "duration": 11,
    "start_time": "2022-06-21T16:27:29.039Z"
   },
   {
    "duration": 318,
    "start_time": "2022-06-21T16:27:29.051Z"
   },
   {
    "duration": 7,
    "start_time": "2022-06-21T16:27:29.371Z"
   },
   {
    "duration": 263,
    "start_time": "2022-06-21T16:27:29.380Z"
   },
   {
    "duration": 315,
    "start_time": "2022-06-21T16:27:29.644Z"
   },
   {
    "duration": 10,
    "start_time": "2022-06-21T16:27:29.961Z"
   },
   {
    "duration": 126,
    "start_time": "2022-06-21T16:27:29.973Z"
   },
   {
    "duration": 17,
    "start_time": "2022-06-21T16:27:30.101Z"
   },
   {
    "duration": 8,
    "start_time": "2022-06-21T16:27:30.132Z"
   },
   {
    "duration": 165,
    "start_time": "2022-06-21T16:27:30.142Z"
   },
   {
    "duration": 307,
    "start_time": "2022-06-21T16:27:30.309Z"
   },
   {
    "duration": 206,
    "start_time": "2022-06-21T16:27:30.618Z"
   },
   {
    "duration": 177,
    "start_time": "2022-06-21T16:27:30.830Z"
   },
   {
    "duration": 22,
    "start_time": "2022-06-21T16:27:31.010Z"
   },
   {
    "duration": 34,
    "start_time": "2022-06-21T16:27:31.034Z"
   },
   {
    "duration": 1372,
    "start_time": "2022-06-21T16:27:31.070Z"
   },
   {
    "duration": 13,
    "start_time": "2022-06-21T16:27:32.444Z"
   },
   {
    "duration": 33,
    "start_time": "2022-06-21T16:27:32.459Z"
   },
   {
    "duration": 1662,
    "start_time": "2022-06-21T16:27:32.494Z"
   },
   {
    "duration": 12,
    "start_time": "2022-06-21T16:27:34.157Z"
   },
   {
    "duration": 41,
    "start_time": "2022-06-21T16:27:34.171Z"
   },
   {
    "duration": 1462,
    "start_time": "2022-06-21T16:27:34.213Z"
   },
   {
    "duration": 11,
    "start_time": "2022-06-21T16:27:35.677Z"
   },
   {
    "duration": 18,
    "start_time": "2022-06-21T16:27:35.690Z"
   },
   {
    "duration": 1438,
    "start_time": "2022-06-21T16:27:35.710Z"
   },
   {
    "duration": 11,
    "start_time": "2022-06-21T16:27:37.150Z"
   },
   {
    "duration": 15,
    "start_time": "2022-06-21T16:27:37.163Z"
   },
   {
    "duration": 1349,
    "start_time": "2022-06-21T16:27:37.180Z"
   },
   {
    "duration": 11,
    "start_time": "2022-06-21T16:27:38.531Z"
   },
   {
    "duration": 22,
    "start_time": "2022-06-21T16:27:38.544Z"
   },
   {
    "duration": 31,
    "start_time": "2022-06-21T16:27:38.567Z"
   },
   {
    "duration": 173,
    "start_time": "2022-06-21T16:27:38.600Z"
   },
   {
    "duration": 281,
    "start_time": "2022-06-21T16:27:38.774Z"
   },
   {
    "duration": 55,
    "start_time": "2022-06-21T16:27:39.056Z"
   },
   {
    "duration": 24,
    "start_time": "2022-06-21T16:27:39.113Z"
   },
   {
    "duration": 117,
    "start_time": "2022-06-21T16:27:39.139Z"
   },
   {
    "duration": 91,
    "start_time": "2022-06-21T16:27:39.258Z"
   },
   {
    "duration": 174,
    "start_time": "2022-06-21T16:27:39.351Z"
   },
   {
    "duration": 10,
    "start_time": "2022-06-21T16:27:39.530Z"
   },
   {
    "duration": 109,
    "start_time": "2022-06-21T16:27:39.542Z"
   },
   {
    "duration": 84,
    "start_time": "2022-06-21T16:27:39.653Z"
   },
   {
    "duration": 90,
    "start_time": "2022-06-21T16:27:39.739Z"
   },
   {
    "duration": 10,
    "start_time": "2022-06-21T16:27:39.831Z"
   },
   {
    "duration": 155,
    "start_time": "2022-06-21T16:27:39.842Z"
   },
   {
    "duration": 154,
    "start_time": "2022-06-21T16:27:39.999Z"
   },
   {
    "duration": 128,
    "start_time": "2022-06-21T16:27:40.155Z"
   },
   {
    "duration": 10,
    "start_time": "2022-06-21T16:27:40.284Z"
   },
   {
    "duration": 26,
    "start_time": "2022-06-21T16:27:40.295Z"
   },
   {
    "duration": 21,
    "start_time": "2022-06-21T16:27:40.323Z"
   },
   {
    "duration": 24,
    "start_time": "2022-06-21T16:27:40.346Z"
   },
   {
    "duration": 36,
    "start_time": "2022-06-21T16:27:40.372Z"
   },
   {
    "duration": 23,
    "start_time": "2022-06-21T16:27:40.410Z"
   }
  ],
  "colab": {
   "collapsed_sections": [],
   "name": "Copy of strimchik",
   "provenance": []
  },
  "kernelspec": {
   "display_name": "Python 3 (ipykernel)",
   "language": "python",
   "name": "python3"
  },
  "language_info": {
   "codemirror_mode": {
    "name": "ipython",
    "version": 3
   },
   "file_extension": ".py",
   "mimetype": "text/x-python",
   "name": "python",
   "nbconvert_exporter": "python",
   "pygments_lexer": "ipython3",
   "version": "3.9.5"
  },
  "toc": {
   "base_numbering": 1,
   "nav_menu": {},
   "number_sections": true,
   "sideBar": true,
   "skip_h1_title": true,
   "title_cell": "Table of Contents",
   "title_sidebar": "Contents",
   "toc_cell": false,
   "toc_position": {},
   "toc_section_display": true,
   "toc_window_display": true
  }
 },
 "nbformat": 4,
 "nbformat_minor": 1
}
