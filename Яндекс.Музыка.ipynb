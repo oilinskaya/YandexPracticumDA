{
 "cells": [
  {
   "cell_type": "markdown",
   "metadata": {
    "id": "E0vqbgi9ay0H"
   },
   "source": [
    "# Яндекс.Музыка"
   ]
  },
  {
   "cell_type": "markdown",
   "metadata": {
    "id": "VUC88oWjTJw2"
   },
   "source": [
    "Сравнение Москвы и Петербурга окружено мифами. Например:\n",
    " * Москва — мегаполис, подчинённый жёсткому ритму рабочей недели;\n",
    " * Петербург — культурная столица, со своими вкусами.\n",
    "\n",
    "На данных Яндекс.Музыки вы сравните поведение пользователей двух столиц.\n",
    "\n",
    "**Цель исследования** — проверьте три гипотезы:\n",
    "1. Активность пользователей зависит от дня недели. Причём в Москве и Петербурге это проявляется по-разному.\n",
    "2. В понедельник утром в Москве преобладают одни жанры, а в Петербурге — другие. Так же и вечером пятницы преобладают разные жанры — в зависимости от города. \n",
    "3. Москва и Петербург предпочитают разные жанры музыки. В Москве чаще слушают поп-музыку, в Петербурге — русский рэп.\n",
    "\n",
    "**Ход исследования**\n",
    "\n",
    "Данные о поведении пользователей вы получите из файла `yandex_music_project.csv`. О качестве данных ничего не известно. Поэтому перед проверкой гипотез понадобится обзор данных. \n",
    "\n",
    "Вы проверите данные на ошибки и оцените их влияние на исследование. Затем, на этапе предобработки вы поищете возможность исправить самые критичные ошибки данных.\n",
    " \n",
    "Таким образом, исследование пройдёт в три этапа:\n",
    " 1. Обзор данных.\n",
    " 2. Предобработка данных.\n",
    " 3. Проверка гипотез.\n",
    "\n"
   ]
  },
  {
   "cell_type": "markdown",
   "metadata": {
    "id": "Ml1hmfXC_Zcs"
   },
   "source": [
    "## Обзор данных\n",
    "\n",
    "Составьте первое представление о данных Яндекс.Музыки.\n",
    "\n",
    "\n"
   ]
  },
  {
   "cell_type": "markdown",
   "metadata": {
    "id": "57eAOGIz_Zcs"
   },
   "source": [
    "Основной инструмент аналитика — `pandas`. Импортируйте эту библиотеку."
   ]
  },
  {
   "cell_type": "code",
   "execution_count": 1,
   "metadata": {
    "id": "AXN7PHPN_Zcs"
   },
   "outputs": [],
   "source": [
    "import pandas as pd # импорт библиотеки pandas"
   ]
  },
  {
   "cell_type": "markdown",
   "metadata": {
    "id": "SG23P8tt_Zcs"
   },
   "source": [
    "Прочитайте файл `yandex_music_project.csv` из папки `/datasets` и сохраните его в переменной `df`:"
   ]
  },
  {
   "cell_type": "code",
   "execution_count": 2,
   "metadata": {
    "id": "fFVu7vqh_Zct"
   },
   "outputs": [],
   "source": [
    "df = pd.read_csv('/datasets/yandex_music_project.csv') # чтение файла с данными и сохранение в df"
   ]
  },
  {
   "cell_type": "markdown",
   "metadata": {
    "id": "rDoOMd3uTqnZ"
   },
   "source": [
    "Выведите на экран первые десять строк таблицы:"
   ]
  },
  {
   "cell_type": "code",
   "execution_count": 3,
   "metadata": {
    "id": "oWTVX3gW_Zct"
   },
   "outputs": [
    {
     "data": {
      "text/html": [
       "<div>\n",
       "<style scoped>\n",
       "    .dataframe tbody tr th:only-of-type {\n",
       "        vertical-align: middle;\n",
       "    }\n",
       "\n",
       "    .dataframe tbody tr th {\n",
       "        vertical-align: top;\n",
       "    }\n",
       "\n",
       "    .dataframe thead th {\n",
       "        text-align: right;\n",
       "    }\n",
       "</style>\n",
       "<table border=\"1\" class=\"dataframe\">\n",
       "  <thead>\n",
       "    <tr style=\"text-align: right;\">\n",
       "      <th></th>\n",
       "      <th>userID</th>\n",
       "      <th>Track</th>\n",
       "      <th>artist</th>\n",
       "      <th>genre</th>\n",
       "      <th>City</th>\n",
       "      <th>time</th>\n",
       "      <th>Day</th>\n",
       "    </tr>\n",
       "  </thead>\n",
       "  <tbody>\n",
       "    <tr>\n",
       "      <th>0</th>\n",
       "      <td>FFB692EC</td>\n",
       "      <td>Kamigata To Boots</td>\n",
       "      <td>The Mass Missile</td>\n",
       "      <td>rock</td>\n",
       "      <td>Saint-Petersburg</td>\n",
       "      <td>20:28:33</td>\n",
       "      <td>Wednesday</td>\n",
       "    </tr>\n",
       "    <tr>\n",
       "      <th>1</th>\n",
       "      <td>55204538</td>\n",
       "      <td>Delayed Because of Accident</td>\n",
       "      <td>Andreas Rönnberg</td>\n",
       "      <td>rock</td>\n",
       "      <td>Moscow</td>\n",
       "      <td>14:07:09</td>\n",
       "      <td>Friday</td>\n",
       "    </tr>\n",
       "    <tr>\n",
       "      <th>2</th>\n",
       "      <td>20EC38</td>\n",
       "      <td>Funiculì funiculà</td>\n",
       "      <td>Mario Lanza</td>\n",
       "      <td>pop</td>\n",
       "      <td>Saint-Petersburg</td>\n",
       "      <td>20:58:07</td>\n",
       "      <td>Wednesday</td>\n",
       "    </tr>\n",
       "    <tr>\n",
       "      <th>3</th>\n",
       "      <td>A3DD03C9</td>\n",
       "      <td>Dragons in the Sunset</td>\n",
       "      <td>Fire + Ice</td>\n",
       "      <td>folk</td>\n",
       "      <td>Saint-Petersburg</td>\n",
       "      <td>08:37:09</td>\n",
       "      <td>Monday</td>\n",
       "    </tr>\n",
       "    <tr>\n",
       "      <th>4</th>\n",
       "      <td>E2DC1FAE</td>\n",
       "      <td>Soul People</td>\n",
       "      <td>Space Echo</td>\n",
       "      <td>dance</td>\n",
       "      <td>Moscow</td>\n",
       "      <td>08:34:34</td>\n",
       "      <td>Monday</td>\n",
       "    </tr>\n",
       "    <tr>\n",
       "      <th>5</th>\n",
       "      <td>842029A1</td>\n",
       "      <td>Преданная</td>\n",
       "      <td>IMPERVTOR</td>\n",
       "      <td>rusrap</td>\n",
       "      <td>Saint-Petersburg</td>\n",
       "      <td>13:09:41</td>\n",
       "      <td>Friday</td>\n",
       "    </tr>\n",
       "    <tr>\n",
       "      <th>6</th>\n",
       "      <td>4CB90AA5</td>\n",
       "      <td>True</td>\n",
       "      <td>Roman Messer</td>\n",
       "      <td>dance</td>\n",
       "      <td>Moscow</td>\n",
       "      <td>13:00:07</td>\n",
       "      <td>Wednesday</td>\n",
       "    </tr>\n",
       "    <tr>\n",
       "      <th>7</th>\n",
       "      <td>F03E1C1F</td>\n",
       "      <td>Feeling This Way</td>\n",
       "      <td>Polina Griffith</td>\n",
       "      <td>dance</td>\n",
       "      <td>Moscow</td>\n",
       "      <td>20:47:49</td>\n",
       "      <td>Wednesday</td>\n",
       "    </tr>\n",
       "    <tr>\n",
       "      <th>8</th>\n",
       "      <td>8FA1D3BE</td>\n",
       "      <td>И вновь продолжается бой</td>\n",
       "      <td>NaN</td>\n",
       "      <td>ruspop</td>\n",
       "      <td>Moscow</td>\n",
       "      <td>09:17:40</td>\n",
       "      <td>Friday</td>\n",
       "    </tr>\n",
       "    <tr>\n",
       "      <th>9</th>\n",
       "      <td>E772D5C0</td>\n",
       "      <td>Pessimist</td>\n",
       "      <td>NaN</td>\n",
       "      <td>dance</td>\n",
       "      <td>Saint-Petersburg</td>\n",
       "      <td>21:20:49</td>\n",
       "      <td>Wednesday</td>\n",
       "    </tr>\n",
       "  </tbody>\n",
       "</table>\n",
       "</div>"
      ],
      "text/plain": [
       "     userID                        Track            artist   genre  \\\n",
       "0  FFB692EC            Kamigata To Boots  The Mass Missile    rock   \n",
       "1  55204538  Delayed Because of Accident  Andreas Rönnberg    rock   \n",
       "2    20EC38            Funiculì funiculà       Mario Lanza     pop   \n",
       "3  A3DD03C9        Dragons in the Sunset        Fire + Ice    folk   \n",
       "4  E2DC1FAE                  Soul People        Space Echo   dance   \n",
       "5  842029A1                    Преданная         IMPERVTOR  rusrap   \n",
       "6  4CB90AA5                         True      Roman Messer   dance   \n",
       "7  F03E1C1F             Feeling This Way   Polina Griffith   dance   \n",
       "8  8FA1D3BE     И вновь продолжается бой               NaN  ruspop   \n",
       "9  E772D5C0                    Pessimist               NaN   dance   \n",
       "\n",
       "             City        time        Day  \n",
       "0  Saint-Petersburg  20:28:33  Wednesday  \n",
       "1            Moscow  14:07:09     Friday  \n",
       "2  Saint-Petersburg  20:58:07  Wednesday  \n",
       "3  Saint-Petersburg  08:37:09     Monday  \n",
       "4            Moscow  08:34:34     Monday  \n",
       "5  Saint-Petersburg  13:09:41     Friday  \n",
       "6            Moscow  13:00:07  Wednesday  \n",
       "7            Moscow  20:47:49  Wednesday  \n",
       "8            Moscow  09:17:40     Friday  \n",
       "9  Saint-Petersburg  21:20:49  Wednesday  "
      ]
     },
     "execution_count": 3,
     "metadata": {},
     "output_type": "execute_result"
    }
   ],
   "source": [
    "df.head(10) # получение первых 10 строк таблицы df"
   ]
  },
  {
   "cell_type": "markdown",
   "metadata": {
    "id": "EO73Kwic_Zct"
   },
   "source": [
    "Одной командой получить общую информацию о таблице:"
   ]
  },
  {
   "cell_type": "code",
   "execution_count": 4,
   "metadata": {
    "id": "DSf2kIb-_Zct"
   },
   "outputs": [
    {
     "name": "stdout",
     "output_type": "stream",
     "text": [
      "<class 'pandas.core.frame.DataFrame'>\n",
      "RangeIndex: 65079 entries, 0 to 65078\n",
      "Data columns (total 7 columns):\n",
      " #   Column    Non-Null Count  Dtype \n",
      "---  ------    --------------  ----- \n",
      " 0     userID  65079 non-null  object\n",
      " 1   Track     63848 non-null  object\n",
      " 2   artist    57876 non-null  object\n",
      " 3   genre     63881 non-null  object\n",
      " 4     City    65079 non-null  object\n",
      " 5   time      65079 non-null  object\n",
      " 6   Day       65079 non-null  object\n",
      "dtypes: object(7)\n",
      "memory usage: 3.5+ MB\n"
     ]
    }
   ],
   "source": [
    "df.info() # получение общей информации о данных в таблице df"
   ]
  },
  {
   "cell_type": "markdown",
   "metadata": {
    "id": "TaQ2Iwbr_Zct"
   },
   "source": [
    "Итак, в таблице семь столбцов. Тип данных во всех столбцах — `object`.\n",
    "\n",
    "Согласно документации к данным:\n",
    "* `userID` — идентификатор пользователя;\n",
    "* `Track` — название трека;  \n",
    "* `artist` — имя исполнителя;\n",
    "* `genre` — название жанра;\n",
    "* `City` — город пользователя;\n",
    "* `time` — время начала прослушивания;\n",
    "* `Day` — день недели.\n",
    "\n",
    "В названиях колонок видны три нарушения стиля:\n",
    "1. Строчные буквы сочетаются с прописными.\n",
    "2. Встречаются пробелы.\n",
    "3. Не соблюден «змеиный регистр».\n",
    "\n",
    "\n",
    "\n",
    "Количество значений в столбцах различается. Значит, в данных есть пропущенные значения.\n"
   ]
  },
  {
   "cell_type": "markdown",
   "metadata": {
    "id": "MCB6-dXG_Zct"
   },
   "source": [
    "**Выводы**\n",
    "\n",
    "В каждой строке таблицы — данные о прослушанном треке. Часть колонок описывает саму композицию: название, исполнителя и жанр. Остальные данные рассказывают о пользователе: из какого он города, когда он слушал музыку. \n",
    "\n",
    "Предварительно можно утверждать, что, данных достаточно для проверки гипотез. Но встречаются пропуски в данных, а в названиях колонок — расхождения с хорошим стилем.\n",
    "\n",
    "Чтобы двигаться дальше, нужно устранить проблемы в данных."
   ]
  },
  {
   "cell_type": "markdown",
   "metadata": {
    "id": "SjYF6Ub9_Zct"
   },
   "source": [
    "## Предобработка данных\n",
    "Исправьте стиль в заголовках столбцов, исключите пропуски. Затем проверьте данные на дубликаты."
   ]
  },
  {
   "cell_type": "markdown",
   "metadata": {
    "id": "dIaKXr29_Zct"
   },
   "source": [
    "### Стиль заголовков\n",
    "Выведите на экран названия столбцов:"
   ]
  },
  {
   "cell_type": "code",
   "execution_count": 5,
   "metadata": {
    "id": "oKOTdF_Q_Zct"
   },
   "outputs": [
    {
     "data": {
      "text/plain": [
       "Index(['  userID', 'Track', 'artist', 'genre', '  City  ', 'time', 'Day'], dtype='object')"
      ]
     },
     "execution_count": 5,
     "metadata": {},
     "output_type": "execute_result"
    }
   ],
   "source": [
    "df.columns # перечень названий столбцов таблицы df"
   ]
  },
  {
   "cell_type": "markdown",
   "metadata": {
    "id": "zj5534cv_Zct"
   },
   "source": [
    "Приведите названия в соответствие с хорошим стилем:\n",
    "* несколько слов в названии запишите в «змеином_регистре»,\n",
    "* все символы сделайте строчными,\n",
    "* устраните пробелы.\n",
    "\n",
    "Для этого переименуйте колонки так:\n",
    "* `'  userID'` → `'user_id'`;\n",
    "* `'Track'` → `'track'`;\n",
    "* `'  City  '` → `'city'`;\n",
    "* `'Day'` → `'day'`."
   ]
  },
  {
   "cell_type": "code",
   "execution_count": 6,
   "metadata": {
    "id": "ISlFqs5y_Zct"
   },
   "outputs": [],
   "source": [
    "df = df.rename(columns={'  userID': 'user_id', 'Track': 'track', '  City  ': 'city', 'Day': 'day'}) # переименование столбцов"
   ]
  },
  {
   "cell_type": "markdown",
   "metadata": {
    "id": "1dqbh00J_Zct"
   },
   "source": [
    "Проверьте результат. Для этого ещё раз выведите на экран названия столбцов:"
   ]
  },
  {
   "cell_type": "code",
   "execution_count": 7,
   "metadata": {
    "id": "d4NOAmTW_Zct"
   },
   "outputs": [
    {
     "data": {
      "text/plain": [
       "Index(['user_id', 'track', 'artist', 'genre', 'city', 'time', 'day'], dtype='object')"
      ]
     },
     "execution_count": 7,
     "metadata": {},
     "output_type": "execute_result"
    }
   ],
   "source": [
    "df.columns # проверка результатов - перечень названий столбцов"
   ]
  },
  {
   "cell_type": "markdown",
   "metadata": {
    "id": "5ISfbcfY_Zct"
   },
   "source": [
    "### Пропуски значений\n",
    "Сначала посчитайте, сколько в таблице пропущенных значений. Для этого достаточно двух методов `pandas`:"
   ]
  },
  {
   "cell_type": "code",
   "execution_count": 8,
   "metadata": {
    "id": "RskX29qr_Zct"
   },
   "outputs": [
    {
     "data": {
      "text/plain": [
       "user_id       0\n",
       "track      1231\n",
       "artist     7203\n",
       "genre      1198\n",
       "city          0\n",
       "time          0\n",
       "day           0\n",
       "dtype: int64"
      ]
     },
     "execution_count": 8,
     "metadata": {},
     "output_type": "execute_result"
    }
   ],
   "source": [
    "df.isna().sum() # подсчёт пропусков"
   ]
  },
  {
   "cell_type": "markdown",
   "metadata": {
    "id": "qubhgnlO_Zct"
   },
   "source": [
    "Не все пропущенные значения влияют на исследование. Так в `track` и `artist` пропуски не важны для вашей работы. Достаточно заменить их явными обозначениями.\n",
    "\n",
    "Но пропуски в `genre` могут помешать сравнению музыкальных вкусов в Москве и Санкт-Петербурге. На практике было бы правильно установить причину пропусков и восстановить данные. Такой возможности нет в учебном проекте. Придётся:\n",
    "* заполнить и эти пропуски явными обозначениями,\n",
    "* оценить, насколько они повредят расчётам. "
   ]
  },
  {
   "cell_type": "markdown",
   "metadata": {
    "id": "fSv2laPA_Zct"
   },
   "source": [
    "Замените пропущенные значения в столбцах `track`, `artist` и `genre` на строку `'unknown'`. Для этого создайте список `columns_to_replace`, переберите его элементы циклом `for` и для каждого столбца выполните замену пропущенных значений:"
   ]
  },
  {
   "cell_type": "code",
   "execution_count": 9,
   "metadata": {
    "id": "KplB5qWs_Zct"
   },
   "outputs": [],
   "source": [
    "columns_to_replace = ['track', 'artist', 'genre']\n",
    "for column in columns_to_replace:\n",
    "    df[column] = df[column].fillna('unknown')\n",
    "    \n",
    "# перебор названий столбцов в цикле и замена пропущенных значений на 'unknown'"
   ]
  },
  {
   "cell_type": "markdown",
   "metadata": {
    "id": "Ilsm-MZo_Zct"
   },
   "source": [
    "Убедитесь, что в таблице не осталось пропусков. Для этого ещё раз посчитайте пропущенные значения."
   ]
  },
  {
   "cell_type": "code",
   "execution_count": 10,
   "metadata": {
    "id": "Tq4nYRX4_Zct"
   },
   "outputs": [
    {
     "data": {
      "text/plain": [
       "user_id    0\n",
       "track      0\n",
       "artist     0\n",
       "genre      0\n",
       "city       0\n",
       "time       0\n",
       "day        0\n",
       "dtype: int64"
      ]
     },
     "execution_count": 10,
     "metadata": {},
     "output_type": "execute_result"
    }
   ],
   "source": [
    "df.isna().sum() # подсчёт пропусков"
   ]
  },
  {
   "cell_type": "markdown",
   "metadata": {
    "id": "BWKRtBJ3_Zct"
   },
   "source": [
    "### Дубликаты\n",
    "Посчитайте явные дубликаты в таблице одной командой:"
   ]
  },
  {
   "cell_type": "code",
   "execution_count": 11,
   "metadata": {
    "id": "36eES_S0_Zct"
   },
   "outputs": [
    {
     "data": {
      "text/plain": [
       "3826"
      ]
     },
     "execution_count": 11,
     "metadata": {},
     "output_type": "execute_result"
    }
   ],
   "source": [
    "df.duplicated().sum() # подсчёт явных дубликатов"
   ]
  },
  {
   "cell_type": "markdown",
   "metadata": {
    "id": "Ot25h6XR_Zct"
   },
   "source": [
    "Вызовите специальный метод `pandas`, чтобы удалить явные дубликаты:"
   ]
  },
  {
   "cell_type": "code",
   "execution_count": 12,
   "metadata": {
    "id": "exFHq6tt_Zct"
   },
   "outputs": [],
   "source": [
    "df = df.drop_duplicates().reset_index(drop=True) # удаление явных дубликатов (с удалением старых индексов и формированием новых)"
   ]
  },
  {
   "cell_type": "markdown",
   "metadata": {
    "id": "Im2YwBEG_Zct"
   },
   "source": [
    "Ещё раз посчитайте явные дубликаты в таблице — убедитесь, что полностью от них избавились:"
   ]
  },
  {
   "cell_type": "code",
   "execution_count": 13,
   "metadata": {
    "id": "-8PuNWQ0_Zct"
   },
   "outputs": [
    {
     "data": {
      "text/plain": [
       "0"
      ]
     },
     "execution_count": 13,
     "metadata": {},
     "output_type": "execute_result"
    }
   ],
   "source": [
    "df.duplicated().sum() # проверка на отсутствие дубликатов"
   ]
  },
  {
   "cell_type": "markdown",
   "metadata": {
    "id": "QlFBsxAr_Zct"
   },
   "source": [
    "Теперь избавьтесь от неявных дубликатов в колонке `genre`. Например, название одного и того же жанра может быть записано немного по-разному. Такие ошибки тоже повлияют на результат исследования."
   ]
  },
  {
   "cell_type": "markdown",
   "metadata": {
    "id": "eSjWwsOh_Zct"
   },
   "source": [
    "Выведите на экран список уникальных названий жанров, отсортированный в алфавитном порядке. Для этого:\n",
    "* извлеките нужный столбец датафрейма, \n",
    "* примените к нему метод сортировки,\n",
    "* для отсортированного столбца вызовите метод, который вернёт уникальные значения из столбца."
   ]
  },
  {
   "cell_type": "code",
   "execution_count": 14,
   "metadata": {
    "id": "JIUcqzZN_Zct"
   },
   "outputs": [
    {
     "data": {
      "text/plain": [
       "array(['acid', 'acoustic', 'action', 'adult', 'africa', 'afrikaans',\n",
       "       'alternative', 'alternativepunk', 'ambient', 'americana',\n",
       "       'animated', 'anime', 'arabesk', 'arabic', 'arena',\n",
       "       'argentinetango', 'art', 'audiobook', 'author', 'avantgarde',\n",
       "       'axé', 'baile', 'balkan', 'beats', 'bigroom', 'black', 'bluegrass',\n",
       "       'blues', 'bollywood', 'bossa', 'brazilian', 'breakbeat', 'breaks',\n",
       "       'broadway', 'cantautori', 'cantopop', 'canzone', 'caribbean',\n",
       "       'caucasian', 'celtic', 'chamber', 'chanson', 'children', 'chill',\n",
       "       'chinese', 'choral', 'christian', 'christmas', 'classical',\n",
       "       'classicmetal', 'club', 'colombian', 'comedy', 'conjazz',\n",
       "       'contemporary', 'country', 'cuban', 'dance', 'dancehall',\n",
       "       'dancepop', 'dark', 'death', 'deep', 'deutschrock', 'deutschspr',\n",
       "       'dirty', 'disco', 'dnb', 'documentary', 'downbeat', 'downtempo',\n",
       "       'drum', 'dub', 'dubstep', 'eastern', 'easy', 'electronic',\n",
       "       'electropop', 'emo', 'entehno', 'epicmetal', 'estrada', 'ethnic',\n",
       "       'eurofolk', 'european', 'experimental', 'extrememetal', 'fado',\n",
       "       'fairytail', 'film', 'fitness', 'flamenco', 'folk', 'folklore',\n",
       "       'folkmetal', 'folkrock', 'folktronica', 'forró', 'frankreich',\n",
       "       'französisch', 'french', 'funk', 'future', 'gangsta', 'garage',\n",
       "       'german', 'ghazal', 'gitarre', 'glitch', 'gospel', 'gothic',\n",
       "       'grime', 'grunge', 'gypsy', 'handsup', \"hard'n'heavy\", 'hardcore',\n",
       "       'hardstyle', 'hardtechno', 'hip', 'hip-hop', 'hiphop',\n",
       "       'historisch', 'holiday', 'hop', 'horror', 'house', 'hymn', 'idm',\n",
       "       'independent', 'indian', 'indie', 'indipop', 'industrial',\n",
       "       'inspirational', 'instrumental', 'international', 'irish', 'jam',\n",
       "       'japanese', 'jazz', 'jewish', 'jpop', 'jungle', 'k-pop',\n",
       "       'karadeniz', 'karaoke', 'kayokyoku', 'korean', 'laiko', 'latin',\n",
       "       'latino', 'leftfield', 'local', 'lounge', 'loungeelectronic',\n",
       "       'lovers', 'malaysian', 'mandopop', 'marschmusik', 'meditative',\n",
       "       'mediterranean', 'melodic', 'metal', 'metalcore', 'mexican',\n",
       "       'middle', 'minimal', 'miscellaneous', 'modern', 'mood', 'mpb',\n",
       "       'muslim', 'native', 'neoklassik', 'neue', 'new', 'newage',\n",
       "       'newwave', 'nu', 'nujazz', 'numetal', 'oceania', 'old', 'opera',\n",
       "       'orchestral', 'other', 'piano', 'podcasts', 'pop', 'popdance',\n",
       "       'popelectronic', 'popeurodance', 'poprussian', 'post',\n",
       "       'posthardcore', 'postrock', 'power', 'progmetal', 'progressive',\n",
       "       'psychedelic', 'punjabi', 'punk', 'quebecois', 'ragga', 'ram',\n",
       "       'rancheras', 'rap', 'rave', 'reggae', 'reggaeton', 'regional',\n",
       "       'relax', 'religious', 'retro', 'rhythm', 'rnb', 'rnr', 'rock',\n",
       "       'rockabilly', 'rockalternative', 'rockindie', 'rockother',\n",
       "       'romance', 'roots', 'ruspop', 'rusrap', 'rusrock', 'russian',\n",
       "       'salsa', 'samba', 'scenic', 'schlager', 'self', 'sertanejo',\n",
       "       'shanson', 'shoegazing', 'showtunes', 'singer', 'ska', 'skarock',\n",
       "       'slow', 'smooth', 'soft', 'soul', 'soulful', 'sound', 'soundtrack',\n",
       "       'southern', 'specialty', 'speech', 'spiritual', 'sport',\n",
       "       'stonerrock', 'surf', 'swing', 'synthpop', 'synthrock',\n",
       "       'sängerportrait', 'tango', 'tanzorchester', 'taraftar', 'tatar',\n",
       "       'tech', 'techno', 'teen', 'thrash', 'top', 'traditional',\n",
       "       'tradjazz', 'trance', 'tribal', 'trip', 'triphop', 'tropical',\n",
       "       'türk', 'türkçe', 'ukrrock', 'unknown', 'urban', 'uzbek',\n",
       "       'variété', 'vi', 'videogame', 'vocal', 'western', 'world',\n",
       "       'worldbeat', 'ïîï', 'электроника'], dtype=object)"
      ]
     },
     "execution_count": 14,
     "metadata": {},
     "output_type": "execute_result"
    }
   ],
   "source": [
    "df['genre'].sort_values().unique() # Просмотр уникальных названий жанров"
   ]
  },
  {
   "cell_type": "markdown",
   "metadata": {
    "id": "qej-Qmuo_Zct"
   },
   "source": [
    "Просмотрите список и найдите неявные дубликаты названия `hiphop`. Это могут быть названия с ошибками или альтернативные названия того же жанра.\n",
    "\n",
    "Вы увидите следующие неявные дубликаты:\n",
    "* *hip*,\n",
    "* *hop*,\n",
    "* *hip-hop*.\n",
    "\n",
    "Чтобы очистить от них таблицу, напишите функцию `replace_wrong_genres()` с двумя параметрами: \n",
    "* `wrong_genres` — список дубликатов,\n",
    "* `correct_genre` — строка с правильным значением.\n",
    "\n",
    "Функция должна исправить колонку `genre` в таблице `df`: заменить каждое значение из списка `wrong_genres` на значение из `correct_genre`."
   ]
  },
  {
   "cell_type": "code",
   "execution_count": 15,
   "metadata": {
    "id": "ErNDkmns_Zct"
   },
   "outputs": [],
   "source": [
    "def replace_wrong_genres(wrong_genres, correct_genre): # Функция для замены неявных дубликатов\n",
    "    for wrong_genre in wrong_genres: # перебираем неправильные имена\n",
    "        df['genre'] = df['genre'].replace(wrong_genre, correct_genre) # и для каждого неправильного имени вызываем метод replace()\n",
    "\n",
    "duplicates = ['hip', 'hop', 'hip-hop'] # список неправильных имён\n",
    "name = 'hiphop' # правильное имя"
   ]
  },
  {
   "cell_type": "markdown",
   "metadata": {
    "id": "aDoBJxbA_Zct"
   },
   "source": [
    "Вызовите `replace_wrong_genres()` и передайте ей такие аргументы, чтобы она устранила неявные дубликаты: вместо `hip`, `hop` и `hip-hop` в таблице должно быть значение `hiphop`:"
   ]
  },
  {
   "cell_type": "code",
   "execution_count": 16,
   "metadata": {
    "id": "YN5i2hpmSo09"
   },
   "outputs": [],
   "source": [
    "replace_wrong_genres(duplicates, name) # Устранение неявных дубликатов"
   ]
  },
  {
   "cell_type": "markdown",
   "metadata": {
    "id": "zQKF16_RG15m"
   },
   "source": [
    "Проверьте, что заменили неправильные названия:\n",
    "\n",
    "*   hip\n",
    "*   hop\n",
    "*   hip-hop\n",
    "\n",
    "Выведите отсортированный список уникальных значений столбца `genre`:"
   ]
  },
  {
   "cell_type": "code",
   "execution_count": 17,
   "metadata": {
    "id": "wvixALnFG15m"
   },
   "outputs": [
    {
     "data": {
      "text/plain": [
       "array(['acid', 'acoustic', 'action', 'adult', 'africa', 'afrikaans',\n",
       "       'alternative', 'alternativepunk', 'ambient', 'americana',\n",
       "       'animated', 'anime', 'arabesk', 'arabic', 'arena',\n",
       "       'argentinetango', 'art', 'audiobook', 'author', 'avantgarde',\n",
       "       'axé', 'baile', 'balkan', 'beats', 'bigroom', 'black', 'bluegrass',\n",
       "       'blues', 'bollywood', 'bossa', 'brazilian', 'breakbeat', 'breaks',\n",
       "       'broadway', 'cantautori', 'cantopop', 'canzone', 'caribbean',\n",
       "       'caucasian', 'celtic', 'chamber', 'chanson', 'children', 'chill',\n",
       "       'chinese', 'choral', 'christian', 'christmas', 'classical',\n",
       "       'classicmetal', 'club', 'colombian', 'comedy', 'conjazz',\n",
       "       'contemporary', 'country', 'cuban', 'dance', 'dancehall',\n",
       "       'dancepop', 'dark', 'death', 'deep', 'deutschrock', 'deutschspr',\n",
       "       'dirty', 'disco', 'dnb', 'documentary', 'downbeat', 'downtempo',\n",
       "       'drum', 'dub', 'dubstep', 'eastern', 'easy', 'electronic',\n",
       "       'electropop', 'emo', 'entehno', 'epicmetal', 'estrada', 'ethnic',\n",
       "       'eurofolk', 'european', 'experimental', 'extrememetal', 'fado',\n",
       "       'fairytail', 'film', 'fitness', 'flamenco', 'folk', 'folklore',\n",
       "       'folkmetal', 'folkrock', 'folktronica', 'forró', 'frankreich',\n",
       "       'französisch', 'french', 'funk', 'future', 'gangsta', 'garage',\n",
       "       'german', 'ghazal', 'gitarre', 'glitch', 'gospel', 'gothic',\n",
       "       'grime', 'grunge', 'gypsy', 'handsup', \"hard'n'heavy\", 'hardcore',\n",
       "       'hardstyle', 'hardtechno', 'hiphop', 'historisch', 'holiday',\n",
       "       'horror', 'house', 'hymn', 'idm', 'independent', 'indian', 'indie',\n",
       "       'indipop', 'industrial', 'inspirational', 'instrumental',\n",
       "       'international', 'irish', 'jam', 'japanese', 'jazz', 'jewish',\n",
       "       'jpop', 'jungle', 'k-pop', 'karadeniz', 'karaoke', 'kayokyoku',\n",
       "       'korean', 'laiko', 'latin', 'latino', 'leftfield', 'local',\n",
       "       'lounge', 'loungeelectronic', 'lovers', 'malaysian', 'mandopop',\n",
       "       'marschmusik', 'meditative', 'mediterranean', 'melodic', 'metal',\n",
       "       'metalcore', 'mexican', 'middle', 'minimal', 'miscellaneous',\n",
       "       'modern', 'mood', 'mpb', 'muslim', 'native', 'neoklassik', 'neue',\n",
       "       'new', 'newage', 'newwave', 'nu', 'nujazz', 'numetal', 'oceania',\n",
       "       'old', 'opera', 'orchestral', 'other', 'piano', 'podcasts', 'pop',\n",
       "       'popdance', 'popelectronic', 'popeurodance', 'poprussian', 'post',\n",
       "       'posthardcore', 'postrock', 'power', 'progmetal', 'progressive',\n",
       "       'psychedelic', 'punjabi', 'punk', 'quebecois', 'ragga', 'ram',\n",
       "       'rancheras', 'rap', 'rave', 'reggae', 'reggaeton', 'regional',\n",
       "       'relax', 'religious', 'retro', 'rhythm', 'rnb', 'rnr', 'rock',\n",
       "       'rockabilly', 'rockalternative', 'rockindie', 'rockother',\n",
       "       'romance', 'roots', 'ruspop', 'rusrap', 'rusrock', 'russian',\n",
       "       'salsa', 'samba', 'scenic', 'schlager', 'self', 'sertanejo',\n",
       "       'shanson', 'shoegazing', 'showtunes', 'singer', 'ska', 'skarock',\n",
       "       'slow', 'smooth', 'soft', 'soul', 'soulful', 'sound', 'soundtrack',\n",
       "       'southern', 'specialty', 'speech', 'spiritual', 'sport',\n",
       "       'stonerrock', 'surf', 'swing', 'synthpop', 'synthrock',\n",
       "       'sängerportrait', 'tango', 'tanzorchester', 'taraftar', 'tatar',\n",
       "       'tech', 'techno', 'teen', 'thrash', 'top', 'traditional',\n",
       "       'tradjazz', 'trance', 'tribal', 'trip', 'triphop', 'tropical',\n",
       "       'türk', 'türkçe', 'ukrrock', 'unknown', 'urban', 'uzbek',\n",
       "       'variété', 'vi', 'videogame', 'vocal', 'western', 'world',\n",
       "       'worldbeat', 'ïîï', 'электроника'], dtype=object)"
      ]
     },
     "execution_count": 17,
     "metadata": {},
     "output_type": "execute_result"
    }
   ],
   "source": [
    "df['genre'].sort_values().unique() # Проверка на неявные дубликаты"
   ]
  },
  {
   "cell_type": "markdown",
   "metadata": {
    "id": "jz6a9-7HQUDd"
   },
   "source": [
    "**Выводы**\n",
    "\n",
    "Предобработка обнаружила три проблемы в данных:\n",
    "\n",
    "- нарушения в стиле заголовков,\n",
    "- пропущенные значения,\n",
    "- дубликаты — явные и неявные.\n",
    "\n",
    "Вы исправили заголовки, чтобы упростить работу с таблицей. Без дубликатов исследование станет более точным.\n",
    "\n",
    "Пропущенные значения вы заменили на `'unknown'`. Ещё предстоит увидеть, не повредят ли исследованию пропуски в колонке `genre`.\n",
    "\n",
    "Теперь можно перейти к проверке гипотез. "
   ]
  },
  {
   "cell_type": "markdown",
   "metadata": {
    "id": "WttZHXH0SqKk"
   },
   "source": [
    "## Проверка гипотез"
   ]
  },
  {
   "cell_type": "markdown",
   "metadata": {
    "id": "Im936VVi_Zcu"
   },
   "source": [
    "### Сравнение поведения пользователей двух столиц"
   ]
  },
  {
   "cell_type": "markdown",
   "metadata": {
    "id": "nwt_MuaL_Zcu"
   },
   "source": [
    "Первая гипотеза утверждает, что пользователи по-разному слушают музыку в Москве и Санкт-Петербурге. Проверьте это предположение по данным о трёх днях недели — понедельнике, среде и пятнице. Для этого:\n",
    "\n",
    "* Разделите пользователей Москвы и Санкт-Петербурга\n",
    "* Сравните, сколько треков послушала каждая группа пользователей в понедельник, среду и пятницу.\n"
   ]
  },
  {
   "cell_type": "markdown",
   "metadata": {
    "id": "8Dw_YMmT_Zcu"
   },
   "source": [
    "Для тренировки сначала выполните каждый из расчётов по отдельности. \n",
    "\n",
    "Оцените активность пользователей в каждом городе. Сгруппируйте данные по городу и посчитайте прослушивания в каждой группе.\n",
    "\n"
   ]
  },
  {
   "cell_type": "code",
   "execution_count": 18,
   "metadata": {
    "id": "0_Qs96oh_Zcu"
   },
   "outputs": [
    {
     "data": {
      "text/plain": [
       "city\n",
       "Moscow              42741\n",
       "Saint-Petersburg    18512\n",
       "Name: genre, dtype: int64"
      ]
     },
     "execution_count": 18,
     "metadata": {},
     "output_type": "execute_result"
    }
   ],
   "source": [
    "df.groupby('city')['genre'].count() # Подсчёт прослушиваний в каждом городе"
   ]
  },
  {
   "cell_type": "markdown",
   "metadata": {
    "id": "dzli3w8o_Zcu"
   },
   "source": [
    "В Москве прослушиваний больше, чем в Петербурге. Из этого не следует, что московские пользователи чаще слушают музыку. Просто самих пользователей в Москве больше.\n",
    "\n",
    "Теперь сгруппируйте данные по дню недели и подсчитайте прослушивания в понедельник, среду и пятницу. Учтите, что в данных есть информация о прослушиваниях только за эти дни.\n"
   ]
  },
  {
   "cell_type": "code",
   "execution_count": 19,
   "metadata": {
    "id": "uZMKjiJz_Zcu"
   },
   "outputs": [
    {
     "data": {
      "text/plain": [
       "day\n",
       "Friday       21840\n",
       "Monday       21354\n",
       "Wednesday    18059\n",
       "Name: genre, dtype: int64"
      ]
     },
     "execution_count": 19,
     "metadata": {},
     "output_type": "execute_result"
    }
   ],
   "source": [
    "df.groupby('day')['genre'].count() # Подсчёт прослушиваний в каждый из трёх дней"
   ]
  },
  {
   "cell_type": "markdown",
   "metadata": {
    "id": "cC2tNrlL_Zcu"
   },
   "source": [
    "В среднем пользователи из двух городов менее активны по средам. Но картина может измениться, если рассмотреть каждый город в отдельности."
   ]
  },
  {
   "cell_type": "markdown",
   "metadata": {
    "id": "POzs8bGa_Zcu"
   },
   "source": [
    "Вы видели, как работает группировка по городу и по дням недели. Теперь напишите функцию, которая объединит два эти расчёта.\n",
    "\n",
    "Создайте функцию `number_tracks()`, которая посчитает прослушивания для заданного дня и города. Ей понадобятся два параметра:\n",
    "* день недели,\n",
    "* название города.\n",
    "\n",
    "В функции сохраните в переменную строки исходной таблицы, у которых значение:\n",
    "  * в колонке `day` равно параметру `day`,\n",
    "  * в колонке `city` равно параметру `city`.\n",
    "\n",
    "Для этого примените последовательную фильтрацию с логической индексацией.\n",
    "\n",
    "Затем посчитайте значения в столбце `user_id` получившейся таблицы. Результат сохраните в новую переменную. Верните эту переменную из функции."
   ]
  },
  {
   "cell_type": "code",
   "execution_count": 20,
   "metadata": {
    "id": "Nz3GdQB1_Zcu"
   },
   "outputs": [],
   "source": [
    "# <создание функции number_tracks()>\n",
    "\n",
    "def number_tracks(day, city): # Объявляется функция с двумя параметрами: day, city.\n",
    "    track_list = df[(df['day'] == day) & (df['city'] == city)]\n",
    "    \n",
    "# В переменной track_list сохраняются те строки таблицы df, для которых \n",
    "# значение в столбце 'day' равно параметру day и одновременно значение\n",
    "# в столбце 'city' равно параметру city (используйте последовательную фильтрацию\n",
    "# с помощью логической индексации).\n",
    "\n",
    "    track_list_count = track_list['user_id'].count()\n",
    "    \n",
    "# В переменной track_list_count сохраняется число значений столбца 'user_id',\n",
    "# рассчитанное методом count() для таблицы track_list.\n",
    "\n",
    "    return track_list_count # Функция возвращает число - значение track_list_count.\n",
    "\n",
    "# Функция для подсчёта прослушиваний для конкретного города и дня.\n",
    "# С помощью последовательной фильтрации с логической индексацией она \n",
    "# сначала получит из исходной таблицы строки с нужным днём,\n",
    "# затем из результата отфильтрует строки с нужным городом,\n",
    "# методом count() посчитает количество значений в колонке user_id. \n",
    "# Это количество функция вернёт в качестве результата"
   ]
  },
  {
   "cell_type": "markdown",
   "metadata": {
    "id": "ytf7xFrFJQ2r"
   },
   "source": [
    "Вызовите `number_tracks()` шесть раз, меняя значение параметров — так, чтобы получить данные для каждого города в каждый из трёх дней."
   ]
  },
  {
   "cell_type": "code",
   "execution_count": 21,
   "metadata": {
    "id": "rJcRATNQ_Zcu"
   },
   "outputs": [
    {
     "data": {
      "text/plain": [
       "15740"
      ]
     },
     "execution_count": 21,
     "metadata": {},
     "output_type": "execute_result"
    }
   ],
   "source": [
    "number_tracks('Monday', 'Moscow') # количество прослушиваний в Москве по понедельникам"
   ]
  },
  {
   "cell_type": "code",
   "execution_count": 22,
   "metadata": {
    "id": "hq_ncZ5T_Zcu"
   },
   "outputs": [
    {
     "data": {
      "text/plain": [
       "5614"
      ]
     },
     "execution_count": 22,
     "metadata": {},
     "output_type": "execute_result"
    }
   ],
   "source": [
    "number_tracks('Monday', 'Saint-Petersburg') # количество прослушиваний в Санкт-Петербурге по понедельникам"
   ]
  },
  {
   "cell_type": "code",
   "execution_count": 23,
   "metadata": {
    "id": "_NTy2VPU_Zcu"
   },
   "outputs": [
    {
     "data": {
      "text/plain": [
       "11056"
      ]
     },
     "execution_count": 23,
     "metadata": {},
     "output_type": "execute_result"
    }
   ],
   "source": [
    "number_tracks('Wednesday', 'Moscow') # количество прослушиваний в Москве по средам"
   ]
  },
  {
   "cell_type": "code",
   "execution_count": 24,
   "metadata": {
    "id": "j2y3TAwo_Zcu"
   },
   "outputs": [
    {
     "data": {
      "text/plain": [
       "7003"
      ]
     },
     "execution_count": 24,
     "metadata": {},
     "output_type": "execute_result"
    }
   ],
   "source": [
    "number_tracks('Wednesday', 'Saint-Petersburg') # количество прослушиваний в Санкт-Петербурге по средам"
   ]
  },
  {
   "cell_type": "code",
   "execution_count": 25,
   "metadata": {
    "id": "vYDw5u_K_Zcu"
   },
   "outputs": [
    {
     "data": {
      "text/plain": [
       "15945"
      ]
     },
     "execution_count": 25,
     "metadata": {},
     "output_type": "execute_result"
    }
   ],
   "source": [
    "number_tracks('Friday', 'Moscow') # количество прослушиваний в Москве по пятницам"
   ]
  },
  {
   "cell_type": "code",
   "execution_count": 26,
   "metadata": {
    "id": "8_yzFtW3_Zcu"
   },
   "outputs": [
    {
     "data": {
      "text/plain": [
       "5895"
      ]
     },
     "execution_count": 26,
     "metadata": {},
     "output_type": "execute_result"
    }
   ],
   "source": [
    "number_tracks('Friday', 'Saint-Petersburg') # количество прослушиваний в Санкт-Петербурге по пятницам"
   ]
  },
  {
   "cell_type": "markdown",
   "metadata": {
    "id": "7QXffbO-_Zcu"
   },
   "source": [
    "Создайте c помощью конструктора `pd.DataFrame` таблицу, где\n",
    "* названия колонок — `['city', 'monday', 'wednesday', 'friday']`;\n",
    "* данные — результаты, которые вы получили с помощью `number_tracks`."
   ]
  },
  {
   "cell_type": "code",
   "execution_count": 27,
   "metadata": {
    "id": "APAcLpOr_Zcu"
   },
   "outputs": [
    {
     "data": {
      "text/html": [
       "<div>\n",
       "<style scoped>\n",
       "    .dataframe tbody tr th:only-of-type {\n",
       "        vertical-align: middle;\n",
       "    }\n",
       "\n",
       "    .dataframe tbody tr th {\n",
       "        vertical-align: top;\n",
       "    }\n",
       "\n",
       "    .dataframe thead th {\n",
       "        text-align: right;\n",
       "    }\n",
       "</style>\n",
       "<table border=\"1\" class=\"dataframe\">\n",
       "  <thead>\n",
       "    <tr style=\"text-align: right;\">\n",
       "      <th></th>\n",
       "      <th>city</th>\n",
       "      <th>monday</th>\n",
       "      <th>wednesday</th>\n",
       "      <th>friday</th>\n",
       "    </tr>\n",
       "  </thead>\n",
       "  <tbody>\n",
       "    <tr>\n",
       "      <th>0</th>\n",
       "      <td>Moscow</td>\n",
       "      <td>15740</td>\n",
       "      <td>11056</td>\n",
       "      <td>15945</td>\n",
       "    </tr>\n",
       "    <tr>\n",
       "      <th>1</th>\n",
       "      <td>Saint-Petersburg</td>\n",
       "      <td>5614</td>\n",
       "      <td>7003</td>\n",
       "      <td>5895</td>\n",
       "    </tr>\n",
       "  </tbody>\n",
       "</table>\n",
       "</div>"
      ],
      "text/plain": [
       "               city  monday  wednesday  friday\n",
       "0            Moscow   15740      11056   15945\n",
       "1  Saint-Petersburg    5614       7003    5895"
      ]
     },
     "execution_count": 27,
     "metadata": {},
     "output_type": "execute_result"
    }
   ],
   "source": [
    "data = [['Moscow', 15740, 11056, 15945],\n",
    "       ['Saint-Petersburg', 5614, 7003, 5895]]\n",
    "columns = ['city','monday','wednesday','friday']\n",
    "research_genres_result = pd.DataFrame(data=data, columns=columns)\n",
    "research_genres_result # Таблица с результатами"
   ]
  },
  {
   "cell_type": "markdown",
   "metadata": {
    "id": "-EgPIHYu_Zcu"
   },
   "source": [
    "**Выводы**\n",
    "\n",
    "Данные показывают разницу поведения пользователей:\n",
    "\n",
    "- В Москве пик прослушиваний приходится на понедельник и пятницу, а в среду заметен спад.\n",
    "- В Петербурге, наоборот, больше слушают музыку по средам. Активность в понедельник и пятницу здесь почти в равной мере уступает среде.\n",
    "\n",
    "Значит, данные говорят в пользу первой гипотезы."
   ]
  },
  {
   "cell_type": "markdown",
   "metadata": {
    "id": "atZAxtq4_Zcu"
   },
   "source": [
    "### Музыка в начале и в конце недели"
   ]
  },
  {
   "cell_type": "markdown",
   "metadata": {
    "id": "eXrQqXFH_Zcu"
   },
   "source": [
    "Согласно второй гипотезе, утром в понедельник в Москве преобладают одни жанры, а в Петербурге — другие. Так же и вечером пятницы преобладают разные жанры — в зависимости от города."
   ]
  },
  {
   "cell_type": "markdown",
   "metadata": {
    "id": "S8UcW6Hw_Zcu"
   },
   "source": [
    "Сохраните таблицы с данными в две переменные:\n",
    "* по Москве — в `moscow_general`;\n",
    "* по Санкт-Петербургу — в `spb_general`."
   ]
  },
  {
   "cell_type": "code",
   "execution_count": 28,
   "metadata": {
    "id": "qeaFfM_P_Zcu"
   },
   "outputs": [],
   "source": [
    "moscow_general = df[df['city'] == 'Moscow']\n",
    "\n",
    "# получение таблицы moscow_general из тех строк таблицы df, \n",
    "# для которых значение в столбце 'city' равно 'Moscow'\n"
   ]
  },
  {
   "cell_type": "code",
   "execution_count": 29,
   "metadata": {
    "id": "ORaVRKto_Zcu"
   },
   "outputs": [],
   "source": [
    "spb_general = df[df['city'] == 'Saint-Petersburg']\n",
    "\n",
    "# получение таблицы spb_general из тех строк таблицы df,\n",
    "# для которых значение в столбце 'city' равно 'Saint-Petersburg'\n"
   ]
  },
  {
   "cell_type": "markdown",
   "metadata": {
    "id": "MEJV-CX2_Zcu"
   },
   "source": [
    "Создайте функцию `genre_weekday()` с четырьмя параметрами:\n",
    "* таблица (датафрейм) с данными,\n",
    "* день недели,\n",
    "* начальная временная метка в формате 'hh:mm', \n",
    "* последняя временная метка в формате 'hh:mm'.\n",
    "\n",
    "Функция должна вернуть информацию о топ-10 жанров тех треков, которые прослушивали в указанный день, в промежутке между двумя отметками времени."
   ]
  },
  {
   "cell_type": "code",
   "execution_count": 30,
   "metadata": {
    "id": "laJT9BYl_Zcu"
   },
   "outputs": [],
   "source": [
    "def genre_weekday(table, day, time1, time2):\n",
    "    \n",
    "# Объявление функции genre_weekday() с параметрами table, day, time1, time2,\n",
    "# которая возвращает информацию о самых популярных жанрах в указанный день в\n",
    "# заданное время:\n",
    "\n",
    "    genre_df = table[table['day'] == day]\n",
    "    genre_df = genre_df[genre_df['time'] > time1]\n",
    "    genre_df = genre_df[genre_df['time'] < time2]\n",
    "    \n",
    "# 1) в переменную genre_df сохраняются те строки переданного датафрейма table, для\n",
    "#    которых одновременно:\n",
    "#    - значение в столбце day равно значению аргумента day\n",
    "#    - значение в столбце time больше значения аргумента time1\n",
    "#    - значение в столбце time меньше значения аргумента time2\n",
    "#    Используйте последовательную фильтрацию с помощью логической индексации.\n",
    "\n",
    "    genre_df_count = genre_df.groupby('genre')['genre'].count()\n",
    "    \n",
    "# 2) сгруппировать датафрейм genre_df по столбцу genre, взять один из его\n",
    "#    столбцов и посчитать методом count() количество записей для каждого из\n",
    "#    присутствующих жанров, получившийся Series записать в переменную\n",
    "#    genre_df_count\n",
    "\n",
    "    genre_df_sorted = genre_df_count.sort_values(ascending=False)\n",
    "    \n",
    "# 3) отсортировать genre_df_count по убыванию встречаемости и сохранить\n",
    "#    в переменную genre_df_sorted\n",
    "\n",
    "    return genre_df_sorted.head(10)\n",
    "\n",
    "# 4) вернуть Series из 10 первых значений genre_df_sorted, это будут топ-10\n",
    "#    популярных жанров (в указанный день, в заданное время)"
   ]
  },
  {
   "cell_type": "markdown",
   "metadata": {
    "id": "la2s2_PF_Zcu"
   },
   "source": [
    "Cравните результаты функции `genre_weekday()` для Москвы и Санкт-Петербурга в понедельник утром (с 7:00 до 11:00) и в пятницу вечером (с 17:00 до 23:00):"
   ]
  },
  {
   "cell_type": "code",
   "execution_count": 31,
   "metadata": {
    "id": "yz7itPUQ_Zcu"
   },
   "outputs": [
    {
     "data": {
      "text/plain": [
       "genre\n",
       "pop            781\n",
       "dance          549\n",
       "electronic     480\n",
       "rock           474\n",
       "hiphop         286\n",
       "ruspop         186\n",
       "world          181\n",
       "rusrap         175\n",
       "alternative    164\n",
       "unknown        161\n",
       "Name: genre, dtype: int64"
      ]
     },
     "execution_count": 31,
     "metadata": {},
     "output_type": "execute_result"
    }
   ],
   "source": [
    "genre_weekday(moscow_general, 'Monday', '07:00', '11:00')\n",
    "# вызов функции для утра понедельника в Москве (вместо df — таблица moscow_general)\n",
    "# объекты, хранящие время, являются строками и сравниваются как строки\n",
    "# пример вызова: genre_weekday(moscow_general, 'Monday', '07:00', '11:00')"
   ]
  },
  {
   "cell_type": "code",
   "execution_count": 32,
   "metadata": {
    "id": "kwUcHPdy_Zcu"
   },
   "outputs": [
    {
     "data": {
      "text/plain": [
       "genre\n",
       "pop            218\n",
       "dance          182\n",
       "rock           162\n",
       "electronic     147\n",
       "hiphop          80\n",
       "ruspop          64\n",
       "alternative     58\n",
       "rusrap          55\n",
       "jazz            44\n",
       "classical       40\n",
       "Name: genre, dtype: int64"
      ]
     },
     "execution_count": 32,
     "metadata": {},
     "output_type": "execute_result"
    }
   ],
   "source": [
    "genre_weekday(spb_general, 'Monday', '07:00', '11:00')\n",
    "# вызов функции для утра понедельника в Петербурге (вместо df — таблица spb_general)"
   ]
  },
  {
   "cell_type": "code",
   "execution_count": 33,
   "metadata": {
    "id": "EzXVRE1o_Zcu"
   },
   "outputs": [
    {
     "data": {
      "text/plain": [
       "genre\n",
       "pop            713\n",
       "rock           517\n",
       "dance          495\n",
       "electronic     482\n",
       "hiphop         273\n",
       "world          208\n",
       "ruspop         170\n",
       "alternative    163\n",
       "classical      163\n",
       "rusrap         142\n",
       "Name: genre, dtype: int64"
      ]
     },
     "execution_count": 33,
     "metadata": {},
     "output_type": "execute_result"
    }
   ],
   "source": [
    "genre_weekday(moscow_general, 'Friday', '17:00', '23:00')\n",
    "# вызов функции для вечера пятницы в Москве"
   ]
  },
  {
   "cell_type": "code",
   "execution_count": 34,
   "metadata": {
    "id": "JZaEKu5v_Zcu"
   },
   "outputs": [
    {
     "data": {
      "text/plain": [
       "genre\n",
       "pop            256\n",
       "electronic     216\n",
       "rock           216\n",
       "dance          210\n",
       "hiphop          97\n",
       "alternative     63\n",
       "jazz            61\n",
       "classical       60\n",
       "rusrap          59\n",
       "world           54\n",
       "Name: genre, dtype: int64"
      ]
     },
     "execution_count": 34,
     "metadata": {},
     "output_type": "execute_result"
    }
   ],
   "source": [
    "genre_weekday(spb_general, 'Friday', '17:00', '23:00')\n",
    "# вызов функции для вечера пятницы в Петербурге"
   ]
  },
  {
   "cell_type": "markdown",
   "metadata": {
    "id": "wrCe4MNX_Zcu"
   },
   "source": [
    "**Выводы**\n",
    "\n",
    "Если сравнить топ-10 жанров в понедельник утром, можно сделать такие выводы:\n",
    "\n",
    "1. В Москве и Петербурге слушают похожую музыку. Единственное отличие — в московский рейтинг вошёл жанр “world”, а в петербургский — джаз и классика.\n",
    "\n",
    "2. В Москве пропущенных значений оказалось так много, что значение `'unknown'` заняло десятое место среди самых популярных жанров. Значит, пропущенные значения занимают существенную долю в данных и угрожают достоверности исследования.\n",
    "\n",
    "Вечер пятницы не меняет эту картину. Некоторые жанры поднимаются немного выше, другие спускаются, но в целом топ-10 остаётся тем же самым.\n",
    "\n",
    "Таким образом, вторая гипотеза подтвердилась лишь частично:\n",
    "* Пользователи слушают похожую музыку в начале недели и в конце.\n",
    "* Разница между Москвой и Петербургом не слишком выражена. В Москве чаще слушают русскую популярную музыку, в Петербурге — джаз.\n",
    "\n",
    "Однако пропуски в данных ставят под сомнение этот результат. В Москве их так много, что рейтинг топ-10 мог бы выглядеть иначе, если бы не утерянные  данные о жанрах."
   ]
  },
  {
   "cell_type": "markdown",
   "metadata": {
    "id": "JolODAqr_Zcu"
   },
   "source": [
    "### Жанровые предпочтения в Москве и Петербурге\n",
    "\n",
    "Гипотеза: Петербург — столица рэпа, музыку этого жанра там слушают чаще, чем в Москве.  А Москва — город контрастов, в котором, тем не менее, преобладает поп-музыка."
   ]
  },
  {
   "cell_type": "markdown",
   "metadata": {
    "id": "DlegSvaT_Zcu"
   },
   "source": [
    "Сгруппируйте таблицу `moscow_general` по жанру и посчитайте прослушивания треков каждого жанра методом `count()`. Затем отсортируйте результат в порядке убывания и сохраните его в таблице `moscow_genres`."
   ]
  },
  {
   "cell_type": "code",
   "execution_count": 35,
   "metadata": {
    "id": "r19lIPke_Zcu"
   },
   "outputs": [],
   "source": [
    "moscow_genres = moscow_general.groupby('genre')['genre'].count()\n",
    "moscow_genres = moscow_genres.sort_values(ascending=False)\n",
    "# одной строкой: группировка таблицы moscow_general по столбцу 'genre', \n",
    "# подсчёт числа значений 'genre' в этой группировке методом count(), \n",
    "# сортировка получившегося Series в порядке убывания и сохранение в moscow_genres"
   ]
  },
  {
   "cell_type": "markdown",
   "metadata": {
    "id": "6kMuomxTiIr8"
   },
   "source": [
    "Выведите на экран первые десять строк `moscow_genres`:"
   ]
  },
  {
   "cell_type": "code",
   "execution_count": 36,
   "metadata": {
    "id": "WhCSooF8_Zcv"
   },
   "outputs": [
    {
     "data": {
      "text/plain": [
       "genre\n",
       "pop            5892\n",
       "dance          4435\n",
       "rock           3965\n",
       "electronic     3786\n",
       "hiphop         2096\n",
       "classical      1616\n",
       "world          1432\n",
       "alternative    1379\n",
       "ruspop         1372\n",
       "rusrap         1161\n",
       "Name: genre, dtype: int64"
      ]
     },
     "execution_count": 36,
     "metadata": {},
     "output_type": "execute_result"
    }
   ],
   "source": [
    "moscow_genres.head(10) # просмотр первых 10 строк moscow_genres"
   ]
  },
  {
   "cell_type": "markdown",
   "metadata": {
    "id": "cnPG2vnN_Zcv"
   },
   "source": [
    "Теперь повторите то же и для Петербурга.\n",
    "\n",
    "Сгруппируйте таблицу `spb_general` по жанру. Посчитайте прослушивания треков каждого жанра. Результат отсортируйте в порядке убывания и сохраните в таблице `spb_genres`:\n"
   ]
  },
  {
   "cell_type": "code",
   "execution_count": 37,
   "metadata": {
    "id": "gluLIpE7_Zcv"
   },
   "outputs": [],
   "source": [
    "spb_genres = spb_general.groupby('genre')['genre'].count()\n",
    "spb_genres = spb_genres.sort_values(ascending=False)\n",
    "# одной строкой: группировка таблицы spb_general по столбцу 'genre', \n",
    "# подсчёт числа значений 'genre' в этой группировке методом count(), \n",
    "# сортировка получившегося Series в порядке убывания и сохранение в spb_genres"
   ]
  },
  {
   "cell_type": "markdown",
   "metadata": {
    "id": "5Doha_ODgyQ8"
   },
   "source": [
    "Выведите на экран первые десять строк `spb_genres`:"
   ]
  },
  {
   "cell_type": "code",
   "execution_count": 38,
   "metadata": {
    "id": "uaGJHjVU_Zcv"
   },
   "outputs": [
    {
     "data": {
      "text/plain": [
       "genre\n",
       "pop            2431\n",
       "dance          1932\n",
       "rock           1879\n",
       "electronic     1736\n",
       "hiphop          960\n",
       "alternative     649\n",
       "classical       646\n",
       "rusrap          564\n",
       "ruspop          538\n",
       "world           515\n",
       "Name: genre, dtype: int64"
      ]
     },
     "execution_count": 38,
     "metadata": {},
     "output_type": "execute_result"
    }
   ],
   "source": [
    "spb_genres.head(10) # просмотр первых 10 строк spb_genres"
   ]
  },
  {
   "cell_type": "markdown",
   "metadata": {
    "id": "RY51YJYu_Zcv"
   },
   "source": [
    "**Выводы**"
   ]
  },
  {
   "cell_type": "markdown",
   "metadata": {
    "id": "nVhnJEm__Zcv"
   },
   "source": [
    "Гипотеза частично подтвердилась:\n",
    "* Поп-музыка — самый популярный жанр в Москве, как и предполагала гипотеза. Более того, в топ-10 жанров встречается близкий жанр — русская популярная музыка.\n",
    "* Вопреки ожиданиям, рэп одинаково популярен в Москве и Петербурге. \n"
   ]
  },
  {
   "cell_type": "markdown",
   "metadata": {
    "id": "ykKQ0N65_Zcv"
   },
   "source": [
    "## Итоги исследования"
   ]
  },
  {
   "cell_type": "markdown",
   "metadata": {
    "id": "tjUwbHb3_Zcv"
   },
   "source": [
    "Вы проверили три гипотезы и установили:\n",
    "\n",
    "1. День недели по-разному влияет на активность пользователей в Москве и Петербурге. \n",
    "\n",
    "Первая гипотеза полностью подтвердилась.\n",
    "\n",
    "2. Музыкальные предпочтения не сильно меняются в течение недели — будь то Москва или Петербург. Небольшие различия заметны в начале недели, по понедельникам:\n",
    "* в Москве слушают музыку жанра “world”,\n",
    "* в Петербурге — джаз и классику.\n",
    "\n",
    "Таким образом, вторая гипотеза подтвердилась лишь отчасти. Этот результат мог оказаться иным, если бы не пропуски в данных.\n",
    "\n",
    "3. Во вкусах пользователей Москвы и Петербурга больше общего чем различий. Вопреки ожиданиям, предпочтения жанров в Петербурге напоминают московские.\n",
    "\n",
    "Третья гипотеза не подтвердилась. Если различия в предпочтениях и существуют, на основной массе пользователей они незаметны.\n",
    "\n",
    "**На практике исследования содержат проверки статистических гипотез.**\n",
    "Из данных одного сервиса не всегда можно сделать вывод о всех жителях города.\n",
    "Проверки статистических гипотез покажут, насколько они достоверны, исходя из имеющихся данных. \n",
    "С методами проверок гипотез вы ещё познакомитесь в следующих темах."
   ]
  }
 ],
 "metadata": {
  "ExecuteTimeLog": [
   {
    "duration": 65,
    "start_time": "2022-04-26T10:14:03.901Z"
   },
   {
    "duration": 9,
    "start_time": "2022-04-26T10:16:40.427Z"
   },
   {
    "duration": 16,
    "start_time": "2022-04-26T10:17:00.359Z"
   },
   {
    "duration": 453,
    "start_time": "2022-04-26T10:17:20.013Z"
   },
   {
    "duration": 207,
    "start_time": "2022-04-26T10:17:24.697Z"
   },
   {
    "duration": 19,
    "start_time": "2022-04-26T10:17:28.098Z"
   },
   {
    "duration": 6,
    "start_time": "2022-04-26T10:19:19.372Z"
   },
   {
    "duration": 33,
    "start_time": "2022-04-26T10:21:57.971Z"
   },
   {
    "duration": 6,
    "start_time": "2022-04-26T10:30:13.362Z"
   },
   {
    "duration": 22,
    "start_time": "2022-04-26T10:35:30.528Z"
   },
   {
    "duration": 5,
    "start_time": "2022-04-26T10:36:06.564Z"
   },
   {
    "duration": 59,
    "start_time": "2022-04-26T10:40:32.116Z"
   },
   {
    "duration": 22,
    "start_time": "2022-04-26T10:42:20.829Z"
   },
   {
    "duration": 4,
    "start_time": "2022-04-26T10:42:32.101Z"
   },
   {
    "duration": 4,
    "start_time": "2022-04-26T10:42:43.780Z"
   },
   {
    "duration": 33,
    "start_time": "2022-04-26T10:42:51.462Z"
   },
   {
    "duration": 31,
    "start_time": "2022-04-26T10:44:15.370Z"
   },
   {
    "duration": 4,
    "start_time": "2022-04-26T10:44:22.910Z"
   },
   {
    "duration": 4,
    "start_time": "2022-04-26T10:44:30.576Z"
   },
   {
    "duration": 17,
    "start_time": "2022-04-26T10:44:40.459Z"
   },
   {
    "duration": 51,
    "start_time": "2022-04-26T14:41:45.847Z"
   },
   {
    "duration": 59,
    "start_time": "2022-04-26T14:43:00.843Z"
   },
   {
    "duration": 6,
    "start_time": "2022-04-26T14:46:17.009Z"
   },
   {
    "duration": 10,
    "start_time": "2022-04-26T14:47:17.419Z"
   },
   {
    "duration": 431,
    "start_time": "2022-04-26T14:48:24.291Z"
   },
   {
    "duration": 293,
    "start_time": "2022-04-26T14:48:27.501Z"
   },
   {
    "duration": 18,
    "start_time": "2022-04-26T14:48:30.296Z"
   },
   {
    "duration": 30,
    "start_time": "2022-04-26T14:48:33.944Z"
   },
   {
    "duration": 4,
    "start_time": "2022-04-26T14:48:39.087Z"
   },
   {
    "duration": 12,
    "start_time": "2022-04-26T14:48:44.129Z"
   },
   {
    "duration": 4,
    "start_time": "2022-04-26T14:48:47.394Z"
   },
   {
    "duration": 26,
    "start_time": "2022-04-26T14:48:58.301Z"
   },
   {
    "duration": 27,
    "start_time": "2022-04-26T14:49:03.554Z"
   },
   {
    "duration": 19,
    "start_time": "2022-04-26T14:49:09.432Z"
   },
   {
    "duration": 27,
    "start_time": "2022-04-26T14:49:14.675Z"
   },
   {
    "duration": 30,
    "start_time": "2022-04-26T14:49:26.700Z"
   },
   {
    "duration": 70,
    "start_time": "2022-04-26T14:50:19.402Z"
   },
   {
    "duration": 61,
    "start_time": "2022-04-26T14:50:54.646Z"
   },
   {
    "duration": 82,
    "start_time": "2022-04-26T14:51:51.507Z"
   },
   {
    "duration": 64,
    "start_time": "2022-04-26T14:52:21.718Z"
   },
   {
    "duration": 66,
    "start_time": "2022-04-26T14:54:04.296Z"
   },
   {
    "duration": 92,
    "start_time": "2022-04-26T14:54:14.492Z"
   },
   {
    "duration": 61,
    "start_time": "2022-04-26T14:54:27.668Z"
   },
   {
    "duration": 52,
    "start_time": "2022-04-26T14:56:15.755Z"
   },
   {
    "duration": 7,
    "start_time": "2022-04-26T14:56:22.999Z"
   },
   {
    "duration": 372,
    "start_time": "2022-04-26T14:56:30.371Z"
   },
   {
    "duration": 157,
    "start_time": "2022-04-26T14:56:33.788Z"
   },
   {
    "duration": 17,
    "start_time": "2022-04-26T14:56:38.346Z"
   },
   {
    "duration": 31,
    "start_time": "2022-04-26T14:56:41.184Z"
   },
   {
    "duration": 5,
    "start_time": "2022-04-26T14:56:44.917Z"
   },
   {
    "duration": 11,
    "start_time": "2022-04-26T14:56:50.672Z"
   },
   {
    "duration": 4,
    "start_time": "2022-04-26T14:56:53.173Z"
   },
   {
    "duration": 25,
    "start_time": "2022-04-26T14:56:55.478Z"
   },
   {
    "duration": 18,
    "start_time": "2022-04-26T14:56:58.126Z"
   },
   {
    "duration": 27,
    "start_time": "2022-04-26T14:57:00.629Z"
   },
   {
    "duration": 64,
    "start_time": "2022-04-26T14:57:03.256Z"
   },
   {
    "duration": 90,
    "start_time": "2022-04-26T14:57:05.448Z"
   },
   {
    "duration": 68,
    "start_time": "2022-04-26T14:57:07.861Z"
   },
   {
    "duration": 84,
    "start_time": "2022-04-26T14:58:09.461Z"
   },
   {
    "duration": 71,
    "start_time": "2022-04-26T14:58:13.289Z"
   },
   {
    "duration": 67,
    "start_time": "2022-04-26T14:58:16.389Z"
   },
   {
    "duration": 12,
    "start_time": "2022-04-26T15:02:07.907Z"
   },
   {
    "duration": 33,
    "start_time": "2022-04-26T15:05:53.846Z"
   },
   {
    "duration": 8,
    "start_time": "2022-04-26T15:06:15.313Z"
   },
   {
    "duration": 10,
    "start_time": "2022-04-26T15:06:24.818Z"
   },
   {
    "duration": 8,
    "start_time": "2022-04-26T15:06:39.830Z"
   },
   {
    "duration": 8,
    "start_time": "2022-04-26T15:09:32.607Z"
   },
   {
    "duration": 15,
    "start_time": "2022-04-26T15:26:21.107Z"
   },
   {
    "duration": 44,
    "start_time": "2022-04-26T15:28:09.642Z"
   },
   {
    "duration": 12,
    "start_time": "2022-04-26T15:37:05.563Z"
   },
   {
    "duration": 16,
    "start_time": "2022-04-26T15:37:22.211Z"
   },
   {
    "duration": 4,
    "start_time": "2022-04-26T15:39:22.935Z"
   },
   {
    "duration": 10,
    "start_time": "2022-04-26T15:39:25.712Z"
   },
   {
    "duration": 6,
    "start_time": "2022-04-26T15:40:20.831Z"
   },
   {
    "duration": 8,
    "start_time": "2022-04-26T15:40:41.270Z"
   },
   {
    "duration": 84,
    "start_time": "2022-04-26T15:41:01.382Z"
   },
   {
    "duration": 44,
    "start_time": "2022-04-26T15:41:14.089Z"
   },
   {
    "duration": 37,
    "start_time": "2022-04-26T15:44:25.440Z"
   },
   {
    "duration": 35,
    "start_time": "2022-04-26T15:45:22.919Z"
   },
   {
    "duration": 65,
    "start_time": "2022-04-26T15:58:32.477Z"
   },
   {
    "duration": 3,
    "start_time": "2022-04-26T16:01:41.347Z"
   },
   {
    "duration": 90,
    "start_time": "2022-04-26T16:05:59.487Z"
   },
   {
    "duration": 99,
    "start_time": "2022-04-26T16:06:33.497Z"
   },
   {
    "duration": 88,
    "start_time": "2022-04-26T16:08:30.962Z"
   },
   {
    "duration": 896,
    "start_time": "2022-04-26T16:08:52.411Z"
   },
   {
    "duration": 3,
    "start_time": "2022-04-26T16:09:23.067Z"
   },
   {
    "duration": 4,
    "start_time": "2022-04-26T16:09:28.829Z"
   },
   {
    "duration": 4,
    "start_time": "2022-04-26T16:11:14.859Z"
   },
   {
    "duration": 17,
    "start_time": "2022-04-26T16:13:19.147Z"
   },
   {
    "duration": 18,
    "start_time": "2022-04-26T16:13:41.537Z"
   },
   {
    "duration": 26,
    "start_time": "2022-04-26T16:15:04.761Z"
   },
   {
    "duration": 5,
    "start_time": "2022-04-26T16:16:08.235Z"
   },
   {
    "duration": 3,
    "start_time": "2022-04-26T16:16:18.876Z"
   },
   {
    "duration": 45,
    "start_time": "2022-04-26T16:16:21.961Z"
   },
   {
    "duration": 4,
    "start_time": "2022-04-26T16:16:34.773Z"
   },
   {
    "duration": 26,
    "start_time": "2022-04-26T16:16:38.508Z"
   },
   {
    "duration": 21,
    "start_time": "2022-04-26T16:18:51.343Z"
   },
   {
    "duration": 19,
    "start_time": "2022-04-26T16:18:54.080Z"
   },
   {
    "duration": 26,
    "start_time": "2022-04-26T16:18:58.376Z"
   },
   {
    "duration": 25,
    "start_time": "2022-04-26T16:19:02.086Z"
   },
   {
    "duration": 28,
    "start_time": "2022-04-26T16:19:05.152Z"
   },
   {
    "duration": 25,
    "start_time": "2022-04-26T16:21:11.882Z"
   },
   {
    "duration": 21,
    "start_time": "2022-04-26T16:21:15.301Z"
   },
   {
    "duration": 20,
    "start_time": "2022-04-26T16:21:18.576Z"
   },
   {
    "duration": 16,
    "start_time": "2022-04-26T16:21:21.992Z"
   },
   {
    "duration": 24,
    "start_time": "2022-04-26T16:21:25.937Z"
   },
   {
    "duration": 21,
    "start_time": "2022-04-26T16:21:27.476Z"
   },
   {
    "duration": 4,
    "start_time": "2022-04-26T16:24:33.048Z"
   },
   {
    "duration": 24,
    "start_time": "2022-04-26T16:24:36.536Z"
   },
   {
    "duration": 20,
    "start_time": "2022-04-26T16:24:39.195Z"
   },
   {
    "duration": 20,
    "start_time": "2022-04-26T16:24:41.860Z"
   },
   {
    "duration": 16,
    "start_time": "2022-04-26T16:24:44.752Z"
   },
   {
    "duration": 25,
    "start_time": "2022-04-26T16:24:45.451Z"
   },
   {
    "duration": 21,
    "start_time": "2022-04-26T16:24:46.012Z"
   },
   {
    "duration": 4,
    "start_time": "2022-04-26T16:26:37.088Z"
   },
   {
    "duration": 17,
    "start_time": "2022-04-26T16:26:41.708Z"
   },
   {
    "duration": 14,
    "start_time": "2022-04-26T16:26:43.547Z"
   },
   {
    "duration": 12,
    "start_time": "2022-04-26T16:26:44.913Z"
   },
   {
    "duration": 12,
    "start_time": "2022-04-26T16:26:46.268Z"
   },
   {
    "duration": 17,
    "start_time": "2022-04-26T16:26:47.605Z"
   },
   {
    "duration": 13,
    "start_time": "2022-04-26T16:26:48.847Z"
   },
   {
    "duration": 3,
    "start_time": "2022-04-26T16:27:18.138Z"
   },
   {
    "duration": 16,
    "start_time": "2022-04-26T16:27:21.210Z"
   },
   {
    "duration": 3,
    "start_time": "2022-04-26T16:27:27.288Z"
   },
   {
    "duration": 4,
    "start_time": "2022-04-26T16:27:38.162Z"
   },
   {
    "duration": 559,
    "start_time": "2022-04-26T16:27:41.032Z"
   },
   {
    "duration": 4,
    "start_time": "2022-04-26T16:27:59.848Z"
   },
   {
    "duration": 18,
    "start_time": "2022-04-26T16:28:07.641Z"
   },
   {
    "duration": 17,
    "start_time": "2022-04-26T16:28:08.949Z"
   },
   {
    "duration": 12,
    "start_time": "2022-04-26T16:28:10.188Z"
   },
   {
    "duration": 12,
    "start_time": "2022-04-26T16:28:11.354Z"
   },
   {
    "duration": 16,
    "start_time": "2022-04-26T16:28:12.549Z"
   },
   {
    "duration": 15,
    "start_time": "2022-04-26T16:28:13.552Z"
   },
   {
    "duration": 15,
    "start_time": "2022-04-26T16:29:27.686Z"
   },
   {
    "duration": 16,
    "start_time": "2022-04-26T16:29:28.456Z"
   },
   {
    "duration": 17,
    "start_time": "2022-04-26T16:29:29.188Z"
   },
   {
    "duration": 15,
    "start_time": "2022-04-26T16:29:29.861Z"
   },
   {
    "duration": 68,
    "start_time": "2022-04-26T16:34:41.205Z"
   },
   {
    "duration": 9,
    "start_time": "2022-04-26T16:35:25.720Z"
   },
   {
    "duration": 5,
    "start_time": "2022-04-26T16:35:37.683Z"
   },
   {
    "duration": 4,
    "start_time": "2022-04-26T16:35:41.681Z"
   },
   {
    "duration": 8,
    "start_time": "2022-04-26T16:35:55.750Z"
   },
   {
    "duration": 12,
    "start_time": "2022-04-26T16:40:08.252Z"
   },
   {
    "duration": 10,
    "start_time": "2022-04-26T16:40:09.101Z"
   },
   {
    "duration": 4,
    "start_time": "2022-04-26T16:50:12.209Z"
   },
   {
    "duration": 25,
    "start_time": "2022-04-26T16:50:14.376Z"
   },
   {
    "duration": 22,
    "start_time": "2022-04-26T16:50:16.582Z"
   },
   {
    "duration": 23,
    "start_time": "2022-04-26T16:50:17.704Z"
   },
   {
    "duration": 20,
    "start_time": "2022-04-26T16:50:18.646Z"
   },
   {
    "duration": 24,
    "start_time": "2022-04-26T16:50:19.227Z"
   },
   {
    "duration": 21,
    "start_time": "2022-04-26T16:50:19.663Z"
   },
   {
    "duration": 7,
    "start_time": "2022-04-26T16:55:42.293Z"
   },
   {
    "duration": 3,
    "start_time": "2022-04-26T16:55:58.295Z"
   },
   {
    "duration": 16,
    "start_time": "2022-04-26T16:55:59.977Z"
   },
   {
    "duration": 15,
    "start_time": "2022-04-26T16:56:00.914Z"
   },
   {
    "duration": 16,
    "start_time": "2022-04-26T16:56:04.333Z"
   },
   {
    "duration": 15,
    "start_time": "2022-04-26T16:56:05.204Z"
   },
   {
    "duration": 17,
    "start_time": "2022-04-26T16:56:06.079Z"
   },
   {
    "duration": 15,
    "start_time": "2022-04-26T16:56:06.733Z"
   },
   {
    "duration": 9,
    "start_time": "2022-04-26T16:56:09.587Z"
   },
   {
    "duration": 13,
    "start_time": "2022-04-26T16:56:14.667Z"
   },
   {
    "duration": 11,
    "start_time": "2022-04-26T16:56:15.359Z"
   },
   {
    "duration": 4,
    "start_time": "2022-04-26T17:02:50.395Z"
   },
   {
    "duration": 4,
    "start_time": "2022-04-26T17:02:53.795Z"
   },
   {
    "duration": 4,
    "start_time": "2022-04-26T17:03:43.110Z"
   },
   {
    "duration": 4,
    "start_time": "2022-04-26T17:06:12.923Z"
   },
   {
    "duration": 4,
    "start_time": "2022-04-26T17:06:57.842Z"
   },
   {
    "duration": 4,
    "start_time": "2022-04-26T17:08:45.379Z"
   },
   {
    "duration": 4,
    "start_time": "2022-04-26T17:09:38.881Z"
   },
   {
    "duration": 72,
    "start_time": "2022-04-27T08:33:45.868Z"
   },
   {
    "duration": 9,
    "start_time": "2022-04-27T08:35:02.820Z"
   },
   {
    "duration": 8,
    "start_time": "2022-04-27T08:36:55.513Z"
   },
   {
    "duration": 8,
    "start_time": "2022-04-27T08:36:58.095Z"
   },
   {
    "duration": 726,
    "start_time": "2022-04-27T08:43:24.136Z"
   },
   {
    "duration": 311,
    "start_time": "2022-04-27T08:43:28.400Z"
   },
   {
    "duration": 41,
    "start_time": "2022-04-27T08:43:31.100Z"
   },
   {
    "duration": 65,
    "start_time": "2022-04-27T08:43:36.229Z"
   },
   {
    "duration": 6,
    "start_time": "2022-04-27T08:43:41.199Z"
   },
   {
    "duration": 17,
    "start_time": "2022-04-27T08:43:45.839Z"
   },
   {
    "duration": 8,
    "start_time": "2022-04-27T08:43:48.949Z"
   },
   {
    "duration": 34,
    "start_time": "2022-04-27T08:43:52.958Z"
   },
   {
    "duration": 26,
    "start_time": "2022-04-27T08:43:57.555Z"
   },
   {
    "duration": 53,
    "start_time": "2022-04-27T08:43:59.559Z"
   },
   {
    "duration": 106,
    "start_time": "2022-04-27T08:44:04.431Z"
   },
   {
    "duration": 130,
    "start_time": "2022-04-27T08:44:07.238Z"
   },
   {
    "duration": 152,
    "start_time": "2022-04-27T08:44:09.921Z"
   },
   {
    "duration": 60,
    "start_time": "2022-04-27T08:44:13.982Z"
   },
   {
    "duration": 8,
    "start_time": "2022-04-27T08:44:18.891Z"
   },
   {
    "duration": 16,
    "start_time": "2022-04-27T08:44:22.016Z"
   },
   {
    "duration": 57,
    "start_time": "2022-04-27T08:44:25.677Z"
   },
   {
    "duration": 79,
    "start_time": "2022-04-27T08:44:35.294Z"
   },
   {
    "duration": 51,
    "start_time": "2022-04-27T08:44:39.257Z"
   },
   {
    "duration": 16,
    "start_time": "2022-04-27T08:45:06.871Z"
   },
   {
    "duration": 47,
    "start_time": "2022-04-27T08:45:17.570Z"
   },
   {
    "duration": 48,
    "start_time": "2022-04-27T08:45:21.601Z"
   },
   {
    "duration": 5,
    "start_time": "2022-04-27T08:45:35.665Z"
   },
   {
    "duration": 24,
    "start_time": "2022-04-27T08:45:39.199Z"
   },
   {
    "duration": 21,
    "start_time": "2022-04-27T08:45:41.387Z"
   },
   {
    "duration": 22,
    "start_time": "2022-04-27T08:45:42.267Z"
   },
   {
    "duration": 20,
    "start_time": "2022-04-27T08:45:42.931Z"
   },
   {
    "duration": 26,
    "start_time": "2022-04-27T08:45:43.542Z"
   },
   {
    "duration": 29,
    "start_time": "2022-04-27T08:45:44.194Z"
   },
   {
    "duration": 13,
    "start_time": "2022-04-27T08:45:47.131Z"
   },
   {
    "duration": 20,
    "start_time": "2022-04-27T08:45:51.548Z"
   },
   {
    "duration": 12,
    "start_time": "2022-04-27T08:45:54.701Z"
   },
   {
    "duration": 7,
    "start_time": "2022-04-27T08:45:58.556Z"
   },
   {
    "duration": 8,
    "start_time": "2022-04-27T08:46:40.180Z"
   },
   {
    "duration": 9,
    "start_time": "2022-04-27T08:46:54.975Z"
   },
   {
    "duration": 8,
    "start_time": "2022-04-27T08:47:52.173Z"
   },
   {
    "duration": 91,
    "start_time": "2022-04-27T08:56:08.176Z"
   },
   {
    "duration": 10,
    "start_time": "2022-04-27T08:56:27.249Z"
   },
   {
    "duration": 44,
    "start_time": "2022-04-27T08:56:29.039Z"
   },
   {
    "duration": 7,
    "start_time": "2022-04-27T08:58:06.009Z"
   },
   {
    "duration": 6,
    "start_time": "2022-04-27T08:58:09.410Z"
   },
   {
    "duration": 51,
    "start_time": "2022-04-27T08:58:11.760Z"
   },
   {
    "duration": 8,
    "start_time": "2022-04-27T09:01:09.473Z"
   },
   {
    "duration": 32,
    "start_time": "2022-04-27T09:02:38.644Z"
   },
   {
    "duration": 9,
    "start_time": "2022-04-27T09:03:27.268Z"
   },
   {
    "duration": 49,
    "start_time": "2022-04-27T09:03:30.025Z"
   },
   {
    "duration": 8,
    "start_time": "2022-04-27T09:04:14.049Z"
   },
   {
    "duration": 33,
    "start_time": "2022-04-27T09:04:17.161Z"
   },
   {
    "duration": 8,
    "start_time": "2022-04-27T09:09:40.272Z"
   },
   {
    "duration": 46,
    "start_time": "2022-04-27T09:09:43.585Z"
   },
   {
    "duration": 5,
    "start_time": "2022-04-27T09:10:15.643Z"
   },
   {
    "duration": 9,
    "start_time": "2022-04-27T09:11:04.743Z"
   },
   {
    "duration": 46,
    "start_time": "2022-04-27T09:11:07.145Z"
   },
   {
    "duration": 5,
    "start_time": "2022-04-27T09:12:16.497Z"
   },
   {
    "duration": 29,
    "start_time": "2022-04-27T09:12:19.473Z"
   },
   {
    "duration": 5,
    "start_time": "2022-04-27T09:12:56.403Z"
   },
   {
    "duration": 28,
    "start_time": "2022-04-27T09:12:59.121Z"
   },
   {
    "duration": 6,
    "start_time": "2022-04-27T09:13:16.803Z"
   },
   {
    "duration": 31,
    "start_time": "2022-04-27T09:13:19.094Z"
   },
   {
    "duration": 8,
    "start_time": "2022-04-27T09:15:15.325Z"
   },
   {
    "duration": 30,
    "start_time": "2022-04-27T09:15:17.578Z"
   },
   {
    "duration": 266,
    "start_time": "2022-04-27T09:16:13.566Z"
   },
   {
    "duration": 9,
    "start_time": "2022-04-27T09:16:22.707Z"
   },
   {
    "duration": 5,
    "start_time": "2022-04-27T09:17:40.163Z"
   },
   {
    "duration": 31,
    "start_time": "2022-04-27T09:17:42.428Z"
   },
   {
    "duration": 9,
    "start_time": "2022-04-27T09:19:08.494Z"
   },
   {
    "duration": 47,
    "start_time": "2022-04-27T09:19:10.180Z"
   },
   {
    "duration": 8,
    "start_time": "2022-04-27T09:20:39.018Z"
   },
   {
    "duration": 23,
    "start_time": "2022-04-27T09:20:42.219Z"
   },
   {
    "duration": 6,
    "start_time": "2022-04-27T09:25:40.833Z"
   },
   {
    "duration": 44,
    "start_time": "2022-04-27T09:25:43.218Z"
   },
   {
    "duration": 8,
    "start_time": "2022-04-27T09:26:00.768Z"
   },
   {
    "duration": 66,
    "start_time": "2022-04-27T09:26:02.784Z"
   },
   {
    "duration": 8,
    "start_time": "2022-04-27T09:26:51.464Z"
   },
   {
    "duration": 42,
    "start_time": "2022-04-27T09:26:53.420Z"
   },
   {
    "duration": 8,
    "start_time": "2022-04-27T09:27:17.584Z"
   },
   {
    "duration": 44,
    "start_time": "2022-04-27T09:27:19.812Z"
   },
   {
    "duration": 34,
    "start_time": "2022-04-27T09:27:43.256Z"
   },
   {
    "duration": 40,
    "start_time": "2022-04-27T09:29:01.093Z"
   },
   {
    "duration": 29,
    "start_time": "2022-04-27T09:29:37.202Z"
   },
   {
    "duration": 7,
    "start_time": "2022-04-27T09:30:32.098Z"
   },
   {
    "duration": 40,
    "start_time": "2022-04-27T09:30:34.939Z"
   },
   {
    "duration": 41,
    "start_time": "2022-04-27T09:31:12.205Z"
   },
   {
    "duration": 37,
    "start_time": "2022-04-27T09:31:24.139Z"
   },
   {
    "duration": 6,
    "start_time": "2022-04-27T09:33:44.803Z"
   },
   {
    "duration": 46,
    "start_time": "2022-04-27T09:33:47.065Z"
   },
   {
    "duration": 7,
    "start_time": "2022-04-27T09:34:03.149Z"
   },
   {
    "duration": 28,
    "start_time": "2022-04-27T09:34:05.147Z"
   },
   {
    "duration": 6,
    "start_time": "2022-04-27T09:34:22.315Z"
   },
   {
    "duration": 24,
    "start_time": "2022-04-27T09:34:24.824Z"
   },
   {
    "duration": 14,
    "start_time": "2022-04-27T09:34:30.654Z"
   },
   {
    "duration": 20,
    "start_time": "2022-04-27T09:34:31.675Z"
   },
   {
    "duration": 12,
    "start_time": "2022-04-27T09:34:32.230Z"
   },
   {
    "duration": 19,
    "start_time": "2022-04-27T09:34:53.721Z"
   },
   {
    "duration": 12,
    "start_time": "2022-04-27T09:34:59.533Z"
   },
   {
    "duration": 6,
    "start_time": "2022-04-27T09:35:13.739Z"
   },
   {
    "duration": 6,
    "start_time": "2022-04-27T09:37:02.867Z"
   },
   {
    "duration": 21,
    "start_time": "2022-04-27T09:37:04.714Z"
   },
   {
    "duration": 14,
    "start_time": "2022-04-27T09:37:06.743Z"
   },
   {
    "duration": 18,
    "start_time": "2022-04-27T09:37:07.258Z"
   },
   {
    "duration": 13,
    "start_time": "2022-04-27T09:37:07.758Z"
   },
   {
    "duration": 6,
    "start_time": "2022-04-27T09:37:14.521Z"
   },
   {
    "duration": 34,
    "start_time": "2022-04-27T09:37:16.390Z"
   },
   {
    "duration": 7,
    "start_time": "2022-04-27T09:43:16.745Z"
   },
   {
    "duration": 35,
    "start_time": "2022-04-27T09:43:19.875Z"
   },
   {
    "duration": 6,
    "start_time": "2022-04-27T09:44:09.039Z"
   },
   {
    "duration": 22,
    "start_time": "2022-04-27T09:44:11.246Z"
   },
   {
    "duration": 13,
    "start_time": "2022-04-27T09:44:29.761Z"
   },
   {
    "duration": 59,
    "start_time": "2022-04-27T09:44:31.227Z"
   },
   {
    "duration": 7,
    "start_time": "2022-04-27T10:04:59.124Z"
   },
   {
    "duration": 52,
    "start_time": "2022-04-27T10:05:03.047Z"
   },
   {
    "duration": 27,
    "start_time": "2022-04-27T10:05:10.100Z"
   },
   {
    "duration": 45,
    "start_time": "2022-04-27T10:05:14.204Z"
   },
   {
    "duration": 25,
    "start_time": "2022-04-27T10:05:17.297Z"
   },
   {
    "duration": 33,
    "start_time": "2022-04-27T10:05:29.069Z"
   },
   {
    "duration": 6,
    "start_time": "2022-04-27T10:05:32.112Z"
   },
   {
    "duration": 50,
    "start_time": "2022-04-27T10:05:35.130Z"
   },
   {
    "duration": 37,
    "start_time": "2022-04-27T10:05:40.347Z"
   },
   {
    "duration": 47,
    "start_time": "2022-04-27T10:05:42.067Z"
   },
   {
    "duration": 38,
    "start_time": "2022-04-27T10:05:42.762Z"
   },
   {
    "duration": 8,
    "start_time": "2022-04-27T10:10:10.606Z"
   },
   {
    "duration": 36,
    "start_time": "2022-04-27T10:10:13.405Z"
   },
   {
    "duration": 6,
    "start_time": "2022-04-27T10:11:34.048Z"
   },
   {
    "duration": 43,
    "start_time": "2022-04-27T10:11:36.400Z"
   },
   {
    "duration": 9,
    "start_time": "2022-04-27T10:11:50.758Z"
   },
   {
    "duration": 47,
    "start_time": "2022-04-27T10:11:52.781Z"
   },
   {
    "duration": 5,
    "start_time": "2022-04-27T10:12:29.711Z"
   },
   {
    "duration": 31,
    "start_time": "2022-04-27T10:12:31.827Z"
   },
   {
    "duration": 9,
    "start_time": "2022-04-27T10:12:53.115Z"
   },
   {
    "duration": 30,
    "start_time": "2022-04-27T10:12:55.432Z"
   },
   {
    "duration": 7,
    "start_time": "2022-04-27T10:13:26.643Z"
   },
   {
    "duration": 30,
    "start_time": "2022-04-27T10:13:30.354Z"
   },
   {
    "duration": 7,
    "start_time": "2022-04-27T10:14:07.005Z"
   },
   {
    "duration": 31,
    "start_time": "2022-04-27T10:14:08.804Z"
   },
   {
    "duration": 6,
    "start_time": "2022-04-27T10:14:29.181Z"
   },
   {
    "duration": 30,
    "start_time": "2022-04-27T10:14:31.282Z"
   },
   {
    "duration": 6,
    "start_time": "2022-04-27T10:16:02.141Z"
   },
   {
    "duration": 28,
    "start_time": "2022-04-27T10:16:04.073Z"
   },
   {
    "duration": 54,
    "start_time": "2022-04-27T10:29:13.256Z"
   },
   {
    "duration": 7,
    "start_time": "2022-04-27T10:29:24.555Z"
   },
   {
    "duration": 27,
    "start_time": "2022-04-27T10:29:29.506Z"
   },
   {
    "duration": 17,
    "start_time": "2022-04-27T10:29:32.024Z"
   },
   {
    "duration": 22,
    "start_time": "2022-04-27T10:29:34.735Z"
   },
   {
    "duration": 23,
    "start_time": "2022-04-27T10:29:36.748Z"
   },
   {
    "duration": 9,
    "start_time": "2022-04-27T10:50:04.043Z"
   },
   {
    "duration": 16,
    "start_time": "2022-04-27T10:51:21.663Z"
   },
   {
    "duration": 7,
    "start_time": "2022-04-27T10:51:27.479Z"
   },
   {
    "duration": 12,
    "start_time": "2022-04-27T10:52:30.190Z"
   },
   {
    "duration": 8,
    "start_time": "2022-04-27T10:52:32.135Z"
   },
   {
    "duration": 513,
    "start_time": "2022-05-01T13:27:16.698Z"
   },
   {
    "duration": 170,
    "start_time": "2022-05-01T13:27:17.214Z"
   },
   {
    "duration": 23,
    "start_time": "2022-05-01T13:27:17.386Z"
   },
   {
    "duration": 32,
    "start_time": "2022-05-01T13:27:17.411Z"
   },
   {
    "duration": 5,
    "start_time": "2022-05-01T13:27:17.445Z"
   },
   {
    "duration": 42,
    "start_time": "2022-05-01T13:27:17.452Z"
   },
   {
    "duration": 5,
    "start_time": "2022-05-01T13:27:17.496Z"
   },
   {
    "duration": 30,
    "start_time": "2022-05-01T13:27:17.502Z"
   },
   {
    "duration": 22,
    "start_time": "2022-05-01T13:27:17.534Z"
   },
   {
    "duration": 53,
    "start_time": "2022-05-01T13:27:17.557Z"
   },
   {
    "duration": 90,
    "start_time": "2022-05-01T13:27:17.611Z"
   },
   {
    "duration": 307,
    "start_time": "2022-05-01T13:27:17.702Z"
   },
   {
    "duration": 186,
    "start_time": "2022-05-01T13:27:18.011Z"
   },
   {
    "duration": 100,
    "start_time": "2022-05-01T13:27:18.202Z"
   },
   {
    "duration": 4,
    "start_time": "2022-05-01T13:27:18.305Z"
   },
   {
    "duration": 14,
    "start_time": "2022-05-01T13:27:18.311Z"
   },
   {
    "duration": 186,
    "start_time": "2022-05-01T13:27:18.326Z"
   },
   {
    "duration": 129,
    "start_time": "2022-05-01T13:27:18.515Z"
   },
   {
    "duration": 33,
    "start_time": "2022-05-01T13:27:18.692Z"
   },
   {
    "duration": 68,
    "start_time": "2022-05-01T13:27:18.727Z"
   },
   {
    "duration": 103,
    "start_time": "2022-05-01T13:27:18.797Z"
   },
   {
    "duration": 16,
    "start_time": "2022-05-01T13:27:18.902Z"
   },
   {
    "duration": 144,
    "start_time": "2022-05-01T13:27:18.920Z"
   },
   {
    "duration": 46,
    "start_time": "2022-05-01T13:27:19.067Z"
   },
   {
    "duration": 89,
    "start_time": "2022-05-01T13:27:19.115Z"
   },
   {
    "duration": 17,
    "start_time": "2022-05-01T13:27:19.205Z"
   },
   {
    "duration": 74,
    "start_time": "2022-05-01T13:27:19.224Z"
   },
   {
    "duration": 13,
    "start_time": "2022-05-01T13:27:19.300Z"
   },
   {
    "duration": 14,
    "start_time": "2022-05-01T13:27:19.315Z"
   },
   {
    "duration": 7,
    "start_time": "2022-05-01T13:27:19.393Z"
   },
   {
    "duration": 35,
    "start_time": "2022-05-01T13:27:19.401Z"
   },
   {
    "duration": 61,
    "start_time": "2022-05-01T13:27:19.439Z"
   },
   {
    "duration": 18,
    "start_time": "2022-05-01T13:27:19.502Z"
   },
   {
    "duration": 72,
    "start_time": "2022-05-01T13:27:19.522Z"
   },
   {
    "duration": 9,
    "start_time": "2022-05-01T13:27:19.596Z"
   },
   {
    "duration": 15,
    "start_time": "2022-05-01T13:27:19.607Z"
   },
   {
    "duration": 77,
    "start_time": "2022-05-01T13:27:19.624Z"
   },
   {
    "duration": 5,
    "start_time": "2022-05-01T13:27:19.703Z"
   },
   {
    "duration": 69,
    "start_time": "2022-05-01T15:37:18.063Z"
   },
   {
    "duration": 8,
    "start_time": "2022-05-01T15:37:36.576Z"
   },
   {
    "duration": 9,
    "start_time": "2022-05-01T15:37:40.417Z"
   },
   {
    "duration": 446,
    "start_time": "2022-05-01T15:37:47.536Z"
   },
   {
    "duration": 198,
    "start_time": "2022-05-01T15:37:49.377Z"
   },
   {
    "duration": 25,
    "start_time": "2022-05-01T15:37:50.826Z"
   },
   {
    "duration": 40,
    "start_time": "2022-05-01T15:37:52.256Z"
   },
   {
    "duration": 5,
    "start_time": "2022-05-01T15:37:55.702Z"
   },
   {
    "duration": 14,
    "start_time": "2022-05-01T15:37:57.335Z"
   },
   {
    "duration": 5,
    "start_time": "2022-05-01T15:37:58.415Z"
   },
   {
    "duration": 32,
    "start_time": "2022-05-01T15:37:59.497Z"
   },
   {
    "duration": 26,
    "start_time": "2022-05-01T15:38:01.055Z"
   },
   {
    "duration": 33,
    "start_time": "2022-05-01T15:38:02.135Z"
   },
   {
    "duration": 98,
    "start_time": "2022-05-01T15:38:04.416Z"
   },
   {
    "duration": 128,
    "start_time": "2022-05-01T15:38:05.496Z"
   },
   {
    "duration": 91,
    "start_time": "2022-05-01T15:38:06.574Z"
   },
   {
    "duration": 54,
    "start_time": "2022-05-01T15:38:08.174Z"
   },
   {
    "duration": 5,
    "start_time": "2022-05-01T15:38:10.143Z"
   },
   {
    "duration": 13,
    "start_time": "2022-05-01T15:38:11.254Z"
   },
   {
    "duration": 50,
    "start_time": "2022-05-01T15:38:13.377Z"
   },
   {
    "duration": 17,
    "start_time": "2022-05-01T15:38:29.455Z"
   },
   {
    "duration": 16,
    "start_time": "2022-05-01T15:38:50.376Z"
   },
   {
    "duration": 624,
    "start_time": "2022-05-02T10:02:04.833Z"
   },
   {
    "duration": 296,
    "start_time": "2022-05-02T10:02:05.460Z"
   },
   {
    "duration": 49,
    "start_time": "2022-05-02T10:02:05.759Z"
   },
   {
    "duration": 41,
    "start_time": "2022-05-02T10:02:05.811Z"
   },
   {
    "duration": 33,
    "start_time": "2022-05-02T10:02:05.855Z"
   },
   {
    "duration": 36,
    "start_time": "2022-05-02T10:02:05.891Z"
   },
   {
    "duration": 33,
    "start_time": "2022-05-02T10:02:05.930Z"
   },
   {
    "duration": 60,
    "start_time": "2022-05-02T10:02:05.965Z"
   },
   {
    "duration": 29,
    "start_time": "2022-05-02T10:02:06.027Z"
   },
   {
    "duration": 53,
    "start_time": "2022-05-02T10:02:06.058Z"
   },
   {
    "duration": 158,
    "start_time": "2022-05-02T10:02:06.114Z"
   },
   {
    "duration": 131,
    "start_time": "2022-05-02T10:02:06.285Z"
   },
   {
    "duration": 108,
    "start_time": "2022-05-02T10:02:06.419Z"
   },
   {
    "duration": 68,
    "start_time": "2022-05-02T10:02:06.529Z"
   },
   {
    "duration": 6,
    "start_time": "2022-05-02T10:02:06.600Z"
   },
   {
    "duration": 24,
    "start_time": "2022-05-02T10:02:06.609Z"
   },
   {
    "duration": 84,
    "start_time": "2022-05-02T10:02:06.636Z"
   },
   {
    "duration": 16,
    "start_time": "2022-05-02T10:02:06.723Z"
   },
   {
    "duration": 40,
    "start_time": "2022-05-02T10:02:06.742Z"
   },
   {
    "duration": 6,
    "start_time": "2022-05-02T10:02:06.787Z"
   },
   {
    "duration": 43,
    "start_time": "2022-05-02T10:02:06.795Z"
   },
   {
    "duration": 24,
    "start_time": "2022-05-02T10:02:06.840Z"
   },
   {
    "duration": 29,
    "start_time": "2022-05-02T10:02:06.885Z"
   },
   {
    "duration": 42,
    "start_time": "2022-05-02T10:02:06.917Z"
   },
   {
    "duration": 78,
    "start_time": "2022-05-02T10:02:06.962Z"
   },
   {
    "duration": 38,
    "start_time": "2022-05-02T10:02:07.042Z"
   },
   {
    "duration": 35,
    "start_time": "2022-05-02T10:02:07.087Z"
   },
   {
    "duration": 52,
    "start_time": "2022-05-02T10:02:07.124Z"
   },
   {
    "duration": 40,
    "start_time": "2022-05-02T10:02:07.187Z"
   },
   {
    "duration": 13,
    "start_time": "2022-05-02T10:02:07.229Z"
   },
   {
    "duration": 62,
    "start_time": "2022-05-02T10:02:07.245Z"
   },
   {
    "duration": 22,
    "start_time": "2022-05-02T10:02:07.310Z"
   },
   {
    "duration": 28,
    "start_time": "2022-05-02T10:02:07.334Z"
   },
   {
    "duration": 26,
    "start_time": "2022-05-02T10:02:07.385Z"
   },
   {
    "duration": 19,
    "start_time": "2022-05-02T10:02:07.414Z"
   },
   {
    "duration": 13,
    "start_time": "2022-05-02T10:02:07.436Z"
   },
   {
    "duration": 29,
    "start_time": "2022-05-02T10:02:07.451Z"
   },
   {
    "duration": 33,
    "start_time": "2022-05-02T10:02:07.483Z"
   }
  ],
  "colab": {
   "collapsed_sections": [
    "E0vqbgi9ay0H",
    "VUC88oWjTJw2"
   ],
   "name": "yandex_music_project.ipynb",
   "provenance": []
  },
  "kernelspec": {
   "display_name": "Python 3 (ipykernel)",
   "language": "python",
   "name": "python3"
  },
  "language_info": {
   "codemirror_mode": {
    "name": "ipython",
    "version": 3
   },
   "file_extension": ".py",
   "mimetype": "text/x-python",
   "name": "python",
   "nbconvert_exporter": "python",
   "pygments_lexer": "ipython3",
   "version": "3.9.5"
  },
  "toc": {
   "base_numbering": 1,
   "nav_menu": {},
   "number_sections": true,
   "sideBar": true,
   "skip_h1_title": true,
   "title_cell": "Table of Contents",
   "title_sidebar": "Contents",
   "toc_cell": false,
   "toc_position": {},
   "toc_section_display": true,
   "toc_window_display": true
  }
 },
 "nbformat": 4,
 "nbformat_minor": 1
}
