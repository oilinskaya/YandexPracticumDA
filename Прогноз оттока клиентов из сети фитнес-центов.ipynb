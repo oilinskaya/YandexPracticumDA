{
 "cells": [
  {
   "cell_type": "markdown",
   "metadata": {},
   "source": [
    "## Прогноз оттока клиентов из сети фитнес-центов"
   ]
  },
  {
   "cell_type": "markdown",
   "metadata": {},
   "source": [
    "**Дополнительная информация:**\n",
    "\n",
    "Файл с данными: /datasets/gym_churn.csv\n",
    "\n",
    "**Цель исследования:**\n",
    "\n",
    "Провести анализ и подготовить план действий по удержанию клиентов:\n",
    "\n",
    "- спрогнозировать вероятность оттока (на уровне следующего месяца) для каждого клиента;\n",
    "- сформировать типичные портреты клиентов: выделить несколько наиболее ярких групп и охарактеризовать их основные свойства;\n",
    "- проанализировать основные признаки, наиболее сильно влияющие на отток;\n",
    "- сформулировать основные выводы и разработать рекомендации по повышению качества работы с клиентами:\n",
    "    1) выделить целевые группы клиентов;\n",
    "    2) предложить меры по снижению оттока;\n",
    "    3) определить другие особенности взаимодействия с клиентами.\n",
    "\n",
    "**Ход исследования:**\n",
    "\n",
    "1. Загрузим и изучим данные, подготовим данные к анализу.\n",
    "\n",
    "\n",
    "2. Проведем исследовательский анализ данных (EDA):\n",
    "\n",
    "- Посмотрим на датасет: есть ли в нем отсутствующие признаки, изучим средние значения и стандартные отклонения;\n",
    "- Посмотрим на средние значения признаков в двух группах — тех, кто ушел в отток и тех, кто остался;\n",
    "- Построим столбчатые гистограммы и распределения признаков для тех, кто ушёл (отток) и тех, кто остался (не попали в отток);\n",
    "- Построим матрицу корреляций и отобразим её.\n",
    "\n",
    "3. Построим модель прогнозирования оттока клиентов\n",
    "\n",
    "Построим модель бинарной классификации клиентов, где целевой признак — факт оттока клиента в следующем месяце:\n",
    "\n",
    "- Разобьем данные на обучающую и валидационную выборку функцией train_test_split().\n",
    "- Обучим модель на train-выборке двумя способами:\n",
    "    - логистической регрессией,\n",
    "    - случайным лесом.\n",
    "- Оценим метрики accuracy, precision и recall для обеих моделей на валидационной выборке. Сравним по ним модели. Какая модель показала себя лучше на основании метрик?\n",
    "\n",
    "4. Сделаем кластеризацию клиентов\n",
    "\n",
    "- Стандартизируем данные.\n",
    "- Построим матрицу расстояний функцией linkage() на стандартизованной матрице признаков и нарисуем дендрограмму. На основании полученного графика предположим, какое количество кластеров можно выделить.\n",
    "- Обучим модель кластеризации на основании алгоритма K-Means и спрогнозируем кластеры клиентов.\n",
    "- Посмотрим на средние значения признаков для кластеров. Можно ли сразу что-то заметить?\n",
    "- Построим распределения признаков для кластеров. Можно ли что-то заметить по ним?\n",
    "- Для каждого полученного кластера посчитаем долю оттока (методом groupby()). Отличаются ли они по доле оттока? Какие кластеры склонны к оттоку, а какие — надёжны?\n",
    "\n",
    "5. Сформулируем выводы и сделаем базовые рекомендации по работе с клиентами"
   ]
  },
  {
   "cell_type": "code",
   "execution_count": 1,
   "metadata": {},
   "outputs": [],
   "source": [
    "# импортируем необходимые библиотеки\n",
    "import pandas as pd\n",
    "import numpy as np\n",
    "import seaborn as sns\n",
    "\n",
    "import matplotlib\n",
    "import matplotlib.pyplot as plt\n",
    "\n",
    "from sklearn.model_selection import train_test_split\n",
    "from sklearn.linear_model import LogisticRegression\n",
    "from sklearn.ensemble import RandomForestClassifier\n",
    "from sklearn.preprocessing import StandardScaler\n",
    "from sklearn.metrics import accuracy_score, precision_score, recall_score\n",
    "from scipy.cluster.hierarchy import dendrogram, linkage\n",
    "from sklearn.cluster import KMeans"
   ]
  },
  {
   "cell_type": "markdown",
   "metadata": {},
   "source": [
    "## Шаг 1. Загружаем данные"
   ]
  },
  {
   "cell_type": "code",
   "execution_count": 2,
   "metadata": {},
   "outputs": [],
   "source": [
    "try:\n",
    "    data = pd.read_csv('/datasets/gym_churn.csv')\n",
    "except:\n",
    "    data = pd.read_csv('/content/gym_churn.csv')"
   ]
  },
  {
   "cell_type": "code",
   "execution_count": 3,
   "metadata": {},
   "outputs": [
    {
     "data": {
      "text/html": [
       "<div>\n",
       "<style scoped>\n",
       "    .dataframe tbody tr th:only-of-type {\n",
       "        vertical-align: middle;\n",
       "    }\n",
       "\n",
       "    .dataframe tbody tr th {\n",
       "        vertical-align: top;\n",
       "    }\n",
       "\n",
       "    .dataframe thead th {\n",
       "        text-align: right;\n",
       "    }\n",
       "</style>\n",
       "<table border=\"1\" class=\"dataframe\">\n",
       "  <thead>\n",
       "    <tr style=\"text-align: right;\">\n",
       "      <th></th>\n",
       "      <th>gender</th>\n",
       "      <th>Near_Location</th>\n",
       "      <th>Partner</th>\n",
       "      <th>Promo_friends</th>\n",
       "      <th>Phone</th>\n",
       "      <th>Contract_period</th>\n",
       "      <th>Group_visits</th>\n",
       "      <th>Age</th>\n",
       "      <th>Avg_additional_charges_total</th>\n",
       "      <th>Month_to_end_contract</th>\n",
       "      <th>Lifetime</th>\n",
       "      <th>Avg_class_frequency_total</th>\n",
       "      <th>Avg_class_frequency_current_month</th>\n",
       "      <th>Churn</th>\n",
       "    </tr>\n",
       "  </thead>\n",
       "  <tbody>\n",
       "    <tr>\n",
       "      <th>0</th>\n",
       "      <td>1</td>\n",
       "      <td>1</td>\n",
       "      <td>1</td>\n",
       "      <td>1</td>\n",
       "      <td>0</td>\n",
       "      <td>6</td>\n",
       "      <td>1</td>\n",
       "      <td>29</td>\n",
       "      <td>14.227470</td>\n",
       "      <td>5.0</td>\n",
       "      <td>3</td>\n",
       "      <td>0.020398</td>\n",
       "      <td>0.000000</td>\n",
       "      <td>0</td>\n",
       "    </tr>\n",
       "    <tr>\n",
       "      <th>1</th>\n",
       "      <td>0</td>\n",
       "      <td>1</td>\n",
       "      <td>0</td>\n",
       "      <td>0</td>\n",
       "      <td>1</td>\n",
       "      <td>12</td>\n",
       "      <td>1</td>\n",
       "      <td>31</td>\n",
       "      <td>113.202938</td>\n",
       "      <td>12.0</td>\n",
       "      <td>7</td>\n",
       "      <td>1.922936</td>\n",
       "      <td>1.910244</td>\n",
       "      <td>0</td>\n",
       "    </tr>\n",
       "    <tr>\n",
       "      <th>2</th>\n",
       "      <td>0</td>\n",
       "      <td>1</td>\n",
       "      <td>1</td>\n",
       "      <td>0</td>\n",
       "      <td>1</td>\n",
       "      <td>1</td>\n",
       "      <td>0</td>\n",
       "      <td>28</td>\n",
       "      <td>129.448479</td>\n",
       "      <td>1.0</td>\n",
       "      <td>2</td>\n",
       "      <td>1.859098</td>\n",
       "      <td>1.736502</td>\n",
       "      <td>0</td>\n",
       "    </tr>\n",
       "    <tr>\n",
       "      <th>3</th>\n",
       "      <td>0</td>\n",
       "      <td>1</td>\n",
       "      <td>1</td>\n",
       "      <td>1</td>\n",
       "      <td>1</td>\n",
       "      <td>12</td>\n",
       "      <td>1</td>\n",
       "      <td>33</td>\n",
       "      <td>62.669863</td>\n",
       "      <td>12.0</td>\n",
       "      <td>2</td>\n",
       "      <td>3.205633</td>\n",
       "      <td>3.357215</td>\n",
       "      <td>0</td>\n",
       "    </tr>\n",
       "    <tr>\n",
       "      <th>4</th>\n",
       "      <td>1</td>\n",
       "      <td>1</td>\n",
       "      <td>1</td>\n",
       "      <td>1</td>\n",
       "      <td>1</td>\n",
       "      <td>1</td>\n",
       "      <td>0</td>\n",
       "      <td>26</td>\n",
       "      <td>198.362265</td>\n",
       "      <td>1.0</td>\n",
       "      <td>3</td>\n",
       "      <td>1.113884</td>\n",
       "      <td>1.120078</td>\n",
       "      <td>0</td>\n",
       "    </tr>\n",
       "    <tr>\n",
       "      <th>5</th>\n",
       "      <td>1</td>\n",
       "      <td>1</td>\n",
       "      <td>0</td>\n",
       "      <td>0</td>\n",
       "      <td>1</td>\n",
       "      <td>1</td>\n",
       "      <td>1</td>\n",
       "      <td>34</td>\n",
       "      <td>450.743960</td>\n",
       "      <td>1.0</td>\n",
       "      <td>3</td>\n",
       "      <td>2.623477</td>\n",
       "      <td>2.637007</td>\n",
       "      <td>0</td>\n",
       "    </tr>\n",
       "    <tr>\n",
       "      <th>6</th>\n",
       "      <td>1</td>\n",
       "      <td>1</td>\n",
       "      <td>1</td>\n",
       "      <td>1</td>\n",
       "      <td>0</td>\n",
       "      <td>6</td>\n",
       "      <td>1</td>\n",
       "      <td>32</td>\n",
       "      <td>94.266389</td>\n",
       "      <td>6.0</td>\n",
       "      <td>2</td>\n",
       "      <td>1.138941</td>\n",
       "      <td>1.277242</td>\n",
       "      <td>0</td>\n",
       "    </tr>\n",
       "    <tr>\n",
       "      <th>7</th>\n",
       "      <td>0</td>\n",
       "      <td>1</td>\n",
       "      <td>0</td>\n",
       "      <td>0</td>\n",
       "      <td>1</td>\n",
       "      <td>1</td>\n",
       "      <td>0</td>\n",
       "      <td>30</td>\n",
       "      <td>217.786641</td>\n",
       "      <td>1.0</td>\n",
       "      <td>0</td>\n",
       "      <td>1.213502</td>\n",
       "      <td>1.049387</td>\n",
       "      <td>1</td>\n",
       "    </tr>\n",
       "    <tr>\n",
       "      <th>8</th>\n",
       "      <td>1</td>\n",
       "      <td>1</td>\n",
       "      <td>1</td>\n",
       "      <td>1</td>\n",
       "      <td>1</td>\n",
       "      <td>1</td>\n",
       "      <td>1</td>\n",
       "      <td>23</td>\n",
       "      <td>45.409909</td>\n",
       "      <td>1.0</td>\n",
       "      <td>1</td>\n",
       "      <td>1.106239</td>\n",
       "      <td>1.059333</td>\n",
       "      <td>0</td>\n",
       "    </tr>\n",
       "    <tr>\n",
       "      <th>9</th>\n",
       "      <td>0</td>\n",
       "      <td>1</td>\n",
       "      <td>0</td>\n",
       "      <td>0</td>\n",
       "      <td>1</td>\n",
       "      <td>1</td>\n",
       "      <td>0</td>\n",
       "      <td>31</td>\n",
       "      <td>65.310836</td>\n",
       "      <td>1.0</td>\n",
       "      <td>11</td>\n",
       "      <td>1.810852</td>\n",
       "      <td>1.951368</td>\n",
       "      <td>0</td>\n",
       "    </tr>\n",
       "  </tbody>\n",
       "</table>\n",
       "</div>"
      ],
      "text/plain": [
       "   gender  Near_Location  Partner  Promo_friends  Phone  Contract_period  \\\n",
       "0       1              1        1              1      0                6   \n",
       "1       0              1        0              0      1               12   \n",
       "2       0              1        1              0      1                1   \n",
       "3       0              1        1              1      1               12   \n",
       "4       1              1        1              1      1                1   \n",
       "5       1              1        0              0      1                1   \n",
       "6       1              1        1              1      0                6   \n",
       "7       0              1        0              0      1                1   \n",
       "8       1              1        1              1      1                1   \n",
       "9       0              1        0              0      1                1   \n",
       "\n",
       "   Group_visits  Age  Avg_additional_charges_total  Month_to_end_contract  \\\n",
       "0             1   29                     14.227470                    5.0   \n",
       "1             1   31                    113.202938                   12.0   \n",
       "2             0   28                    129.448479                    1.0   \n",
       "3             1   33                     62.669863                   12.0   \n",
       "4             0   26                    198.362265                    1.0   \n",
       "5             1   34                    450.743960                    1.0   \n",
       "6             1   32                     94.266389                    6.0   \n",
       "7             0   30                    217.786641                    1.0   \n",
       "8             1   23                     45.409909                    1.0   \n",
       "9             0   31                     65.310836                    1.0   \n",
       "\n",
       "   Lifetime  Avg_class_frequency_total  Avg_class_frequency_current_month  \\\n",
       "0         3                   0.020398                           0.000000   \n",
       "1         7                   1.922936                           1.910244   \n",
       "2         2                   1.859098                           1.736502   \n",
       "3         2                   3.205633                           3.357215   \n",
       "4         3                   1.113884                           1.120078   \n",
       "5         3                   2.623477                           2.637007   \n",
       "6         2                   1.138941                           1.277242   \n",
       "7         0                   1.213502                           1.049387   \n",
       "8         1                   1.106239                           1.059333   \n",
       "9        11                   1.810852                           1.951368   \n",
       "\n",
       "   Churn  \n",
       "0      0  \n",
       "1      0  \n",
       "2      0  \n",
       "3      0  \n",
       "4      0  \n",
       "5      0  \n",
       "6      0  \n",
       "7      1  \n",
       "8      0  \n",
       "9      0  "
      ]
     },
     "execution_count": 3,
     "metadata": {},
     "output_type": "execute_result"
    }
   ],
   "source": [
    "data.head(10)"
   ]
  },
  {
   "cell_type": "code",
   "execution_count": 4,
   "metadata": {},
   "outputs": [
    {
     "name": "stdout",
     "output_type": "stream",
     "text": [
      "<class 'pandas.core.frame.DataFrame'>\n",
      "RangeIndex: 4000 entries, 0 to 3999\n",
      "Data columns (total 14 columns):\n",
      " #   Column                             Non-Null Count  Dtype  \n",
      "---  ------                             --------------  -----  \n",
      " 0   gender                             4000 non-null   int64  \n",
      " 1   Near_Location                      4000 non-null   int64  \n",
      " 2   Partner                            4000 non-null   int64  \n",
      " 3   Promo_friends                      4000 non-null   int64  \n",
      " 4   Phone                              4000 non-null   int64  \n",
      " 5   Contract_period                    4000 non-null   int64  \n",
      " 6   Group_visits                       4000 non-null   int64  \n",
      " 7   Age                                4000 non-null   int64  \n",
      " 8   Avg_additional_charges_total       4000 non-null   float64\n",
      " 9   Month_to_end_contract              4000 non-null   float64\n",
      " 10  Lifetime                           4000 non-null   int64  \n",
      " 11  Avg_class_frequency_total          4000 non-null   float64\n",
      " 12  Avg_class_frequency_current_month  4000 non-null   float64\n",
      " 13  Churn                              4000 non-null   int64  \n",
      "dtypes: float64(4), int64(10)\n",
      "memory usage: 437.6 KB\n"
     ]
    }
   ],
   "source": [
    "data.info()"
   ]
  },
  {
   "cell_type": "code",
   "execution_count": 5,
   "metadata": {},
   "outputs": [],
   "source": [
    "# приводим названия столбцов к единому регистру\n",
    "data.columns = data.columns.str.lower()"
   ]
  },
  {
   "cell_type": "code",
   "execution_count": 6,
   "metadata": {},
   "outputs": [],
   "source": [
    "# поменяем тип данных в столбце month_to_end_contract на целочисленный\n",
    "data.month_to_end_contract = data.month_to_end_contract.astype(np.int64)"
   ]
  },
  {
   "cell_type": "code",
   "execution_count": 7,
   "metadata": {},
   "outputs": [],
   "source": [
    "# округлим числовые значения до сотых\n",
    "pd.options.display.float_format = '{:,.2f}'.format"
   ]
  },
  {
   "cell_type": "code",
   "execution_count": 8,
   "metadata": {},
   "outputs": [
    {
     "data": {
      "text/plain": [
       "1     2207\n",
       "12     960\n",
       "6      833\n",
       "Name: contract_period, dtype: int64"
      ]
     },
     "execution_count": 8,
     "metadata": {},
     "output_type": "execute_result"
    }
   ],
   "source": [
    "# длительность текущего действующего абонемента\n",
    "data['contract_period'].value_counts()"
   ]
  },
  {
   "cell_type": "code",
   "execution_count": 9,
   "metadata": {},
   "outputs": [
    {
     "data": {
      "image/png": "[encoded data removed]",
      "text/plain": [
       "<Figure size 432x288 with 1 Axes>"
      ]
     },
     "metadata": {
      "needs_background": "light"
     },
     "output_type": "display_data"
    }
   ],
   "source": [
    "# возраст\n",
    "sns.histplot(data=data, x=\"age\");"
   ]
  },
  {
   "cell_type": "code",
   "execution_count": 10,
   "metadata": {},
   "outputs": [
    {
     "data": {
      "image/png": "[encoded data removed]",
      "text/plain": [
       "<Figure size 432x288 with 1 Axes>"
      ]
     },
     "metadata": {
      "needs_background": "light"
     },
     "output_type": "display_data"
    }
   ],
   "source": [
    "# суммарная выручка от других услуг фитнес-центра: кафе, спорттовары, косметический и массажный салон\n",
    "sns.histplot(data=data, x=\"avg_additional_charges_total\");"
   ]
  },
  {
   "cell_type": "code",
   "execution_count": 11,
   "metadata": {},
   "outputs": [
    {
     "data": {
      "image/png": "[encoded data removed]",
      "text/plain": [
       "<Figure size 432x288 with 1 Axes>"
      ]
     },
     "metadata": {
      "needs_background": "light"
     },
     "output_type": "display_data"
    }
   ],
   "source": [
    "# срок до окончания текущего действующего абонемента (в месяцах)\n",
    "sns.histplot(data=data, x=\"month_to_end_contract\");"
   ]
  },
  {
   "cell_type": "code",
   "execution_count": 12,
   "metadata": {},
   "outputs": [
    {
     "data": {
      "image/png": "[encoded data removed]",
      "text/plain": [
       "<Figure size 432x288 with 1 Axes>"
      ]
     },
     "metadata": {
      "needs_background": "light"
     },
     "output_type": "display_data"
    }
   ],
   "source": [
    "# время с момента первого обращения в фитнес-центр (в месяцах)\n",
    "sns.histplot(data=data, x=\"lifetime\");"
   ]
  },
  {
   "cell_type": "code",
   "execution_count": 13,
   "metadata": {},
   "outputs": [
    {
     "data": {
      "image/png": "[encoded data removed]",
      "text/plain": [
       "<Figure size 432x288 with 1 Axes>"
      ]
     },
     "metadata": {
      "needs_background": "light"
     },
     "output_type": "display_data"
    }
   ],
   "source": [
    "# средняя частота посещений в неделю за все время с начала действия абонемента\n",
    "sns.histplot(data=data, x=\"avg_class_frequency_total\");"
   ]
  },
  {
   "cell_type": "code",
   "execution_count": 14,
   "metadata": {},
   "outputs": [
    {
     "data": {
      "image/png": "[encoded data removed]",
      "text/plain": [
       "<Figure size 432x288 with 1 Axes>"
      ]
     },
     "metadata": {
      "needs_background": "light"
     },
     "output_type": "display_data"
    }
   ],
   "source": [
    "# средняя частота посещений в неделю за предыдущий месяц\n",
    "sns.histplot(data=data, x=\"avg_class_frequency_current_month\");"
   ]
  },
  {
   "cell_type": "code",
   "execution_count": 15,
   "metadata": {},
   "outputs": [
    {
     "data": {
      "text/plain": [
       "0"
      ]
     },
     "execution_count": 15,
     "metadata": {},
     "output_type": "execute_result"
    }
   ],
   "source": [
    "#проверим датасет на дубликаты\n",
    "data.duplicated().sum()"
   ]
  },
  {
   "cell_type": "markdown",
   "metadata": {},
   "source": [
    "- Датасет состоит из 14 колонок и 4000 строк.\n",
    "- Привели названия столбцов к единому регистру.\n",
    "- Поменяли тип переменной в столбце month_to_end_contract на целочисленный.\n",
    "- Округлили числовые значения до сотых.\n",
    "- Пропусков в данных нет.\n",
    "- Дубликатов нет."
   ]
  },
  {
   "cell_type": "markdown",
   "metadata": {},
   "source": [
    "## Шаг 2. Проведем исследовательский анализ данных (EDA)"
   ]
  },
  {
   "cell_type": "markdown",
   "metadata": {},
   "source": [
    "- Посмотрим на датасет: есть ли в нем отсутствующие признаки, изучим средние значения и стандартные отклонения"
   ]
  },
  {
   "cell_type": "code",
   "execution_count": 16,
   "metadata": {},
   "outputs": [
    {
     "data": {
      "text/html": [
       "<div>\n",
       "<style scoped>\n",
       "    .dataframe tbody tr th:only-of-type {\n",
       "        vertical-align: middle;\n",
       "    }\n",
       "\n",
       "    .dataframe tbody tr th {\n",
       "        vertical-align: top;\n",
       "    }\n",
       "\n",
       "    .dataframe thead th {\n",
       "        text-align: right;\n",
       "    }\n",
       "</style>\n",
       "<table border=\"1\" class=\"dataframe\">\n",
       "  <thead>\n",
       "    <tr style=\"text-align: right;\">\n",
       "      <th></th>\n",
       "      <th>gender</th>\n",
       "      <th>near_location</th>\n",
       "      <th>partner</th>\n",
       "      <th>promo_friends</th>\n",
       "      <th>phone</th>\n",
       "      <th>contract_period</th>\n",
       "      <th>group_visits</th>\n",
       "      <th>age</th>\n",
       "      <th>avg_additional_charges_total</th>\n",
       "      <th>month_to_end_contract</th>\n",
       "      <th>lifetime</th>\n",
       "      <th>avg_class_frequency_total</th>\n",
       "      <th>avg_class_frequency_current_month</th>\n",
       "      <th>churn</th>\n",
       "    </tr>\n",
       "  </thead>\n",
       "  <tbody>\n",
       "    <tr>\n",
       "      <th>count</th>\n",
       "      <td>4,000.00</td>\n",
       "      <td>4,000.00</td>\n",
       "      <td>4,000.00</td>\n",
       "      <td>4,000.00</td>\n",
       "      <td>4,000.00</td>\n",
       "      <td>4,000.00</td>\n",
       "      <td>4,000.00</td>\n",
       "      <td>4,000.00</td>\n",
       "      <td>4,000.00</td>\n",
       "      <td>4,000.00</td>\n",
       "      <td>4,000.00</td>\n",
       "      <td>4,000.00</td>\n",
       "      <td>4,000.00</td>\n",
       "      <td>4,000.00</td>\n",
       "    </tr>\n",
       "    <tr>\n",
       "      <th>mean</th>\n",
       "      <td>0.51</td>\n",
       "      <td>0.85</td>\n",
       "      <td>0.49</td>\n",
       "      <td>0.31</td>\n",
       "      <td>0.90</td>\n",
       "      <td>4.68</td>\n",
       "      <td>0.41</td>\n",
       "      <td>29.18</td>\n",
       "      <td>146.94</td>\n",
       "      <td>4.32</td>\n",
       "      <td>3.72</td>\n",
       "      <td>1.88</td>\n",
       "      <td>1.77</td>\n",
       "      <td>0.27</td>\n",
       "    </tr>\n",
       "    <tr>\n",
       "      <th>std</th>\n",
       "      <td>0.50</td>\n",
       "      <td>0.36</td>\n",
       "      <td>0.50</td>\n",
       "      <td>0.46</td>\n",
       "      <td>0.30</td>\n",
       "      <td>4.55</td>\n",
       "      <td>0.49</td>\n",
       "      <td>3.26</td>\n",
       "      <td>96.36</td>\n",
       "      <td>4.19</td>\n",
       "      <td>3.75</td>\n",
       "      <td>0.97</td>\n",
       "      <td>1.05</td>\n",
       "      <td>0.44</td>\n",
       "    </tr>\n",
       "    <tr>\n",
       "      <th>min</th>\n",
       "      <td>0.00</td>\n",
       "      <td>0.00</td>\n",
       "      <td>0.00</td>\n",
       "      <td>0.00</td>\n",
       "      <td>0.00</td>\n",
       "      <td>1.00</td>\n",
       "      <td>0.00</td>\n",
       "      <td>18.00</td>\n",
       "      <td>0.15</td>\n",
       "      <td>1.00</td>\n",
       "      <td>0.00</td>\n",
       "      <td>0.00</td>\n",
       "      <td>0.00</td>\n",
       "      <td>0.00</td>\n",
       "    </tr>\n",
       "    <tr>\n",
       "      <th>25%</th>\n",
       "      <td>0.00</td>\n",
       "      <td>1.00</td>\n",
       "      <td>0.00</td>\n",
       "      <td>0.00</td>\n",
       "      <td>1.00</td>\n",
       "      <td>1.00</td>\n",
       "      <td>0.00</td>\n",
       "      <td>27.00</td>\n",
       "      <td>68.87</td>\n",
       "      <td>1.00</td>\n",
       "      <td>1.00</td>\n",
       "      <td>1.18</td>\n",
       "      <td>0.96</td>\n",
       "      <td>0.00</td>\n",
       "    </tr>\n",
       "    <tr>\n",
       "      <th>50%</th>\n",
       "      <td>1.00</td>\n",
       "      <td>1.00</td>\n",
       "      <td>0.00</td>\n",
       "      <td>0.00</td>\n",
       "      <td>1.00</td>\n",
       "      <td>1.00</td>\n",
       "      <td>0.00</td>\n",
       "      <td>29.00</td>\n",
       "      <td>136.22</td>\n",
       "      <td>1.00</td>\n",
       "      <td>3.00</td>\n",
       "      <td>1.83</td>\n",
       "      <td>1.72</td>\n",
       "      <td>0.00</td>\n",
       "    </tr>\n",
       "    <tr>\n",
       "      <th>75%</th>\n",
       "      <td>1.00</td>\n",
       "      <td>1.00</td>\n",
       "      <td>1.00</td>\n",
       "      <td>1.00</td>\n",
       "      <td>1.00</td>\n",
       "      <td>6.00</td>\n",
       "      <td>1.00</td>\n",
       "      <td>31.00</td>\n",
       "      <td>210.95</td>\n",
       "      <td>6.00</td>\n",
       "      <td>5.00</td>\n",
       "      <td>2.54</td>\n",
       "      <td>2.51</td>\n",
       "      <td>1.00</td>\n",
       "    </tr>\n",
       "    <tr>\n",
       "      <th>max</th>\n",
       "      <td>1.00</td>\n",
       "      <td>1.00</td>\n",
       "      <td>1.00</td>\n",
       "      <td>1.00</td>\n",
       "      <td>1.00</td>\n",
       "      <td>12.00</td>\n",
       "      <td>1.00</td>\n",
       "      <td>41.00</td>\n",
       "      <td>552.59</td>\n",
       "      <td>12.00</td>\n",
       "      <td>31.00</td>\n",
       "      <td>6.02</td>\n",
       "      <td>6.15</td>\n",
       "      <td>1.00</td>\n",
       "    </tr>\n",
       "  </tbody>\n",
       "</table>\n",
       "</div>"
      ],
      "text/plain": [
       "        gender  near_location  partner  promo_friends    phone  \\\n",
       "count 4,000.00       4,000.00 4,000.00       4,000.00 4,000.00   \n",
       "mean      0.51           0.85     0.49           0.31     0.90   \n",
       "std       0.50           0.36     0.50           0.46     0.30   \n",
       "min       0.00           0.00     0.00           0.00     0.00   \n",
       "25%       0.00           1.00     0.00           0.00     1.00   \n",
       "50%       1.00           1.00     0.00           0.00     1.00   \n",
       "75%       1.00           1.00     1.00           1.00     1.00   \n",
       "max       1.00           1.00     1.00           1.00     1.00   \n",
       "\n",
       "       contract_period  group_visits      age  avg_additional_charges_total  \\\n",
       "count         4,000.00      4,000.00 4,000.00                      4,000.00   \n",
       "mean              4.68          0.41    29.18                        146.94   \n",
       "std               4.55          0.49     3.26                         96.36   \n",
       "min               1.00          0.00    18.00                          0.15   \n",
       "25%               1.00          0.00    27.00                         68.87   \n",
       "50%               1.00          0.00    29.00                        136.22   \n",
       "75%               6.00          1.00    31.00                        210.95   \n",
       "max              12.00          1.00    41.00                        552.59   \n",
       "\n",
       "       month_to_end_contract  lifetime  avg_class_frequency_total  \\\n",
       "count               4,000.00  4,000.00                   4,000.00   \n",
       "mean                    4.32      3.72                       1.88   \n",
       "std                     4.19      3.75                       0.97   \n",
       "min                     1.00      0.00                       0.00   \n",
       "25%                     1.00      1.00                       1.18   \n",
       "50%                     1.00      3.00                       1.83   \n",
       "75%                     6.00      5.00                       2.54   \n",
       "max                    12.00     31.00                       6.02   \n",
       "\n",
       "       avg_class_frequency_current_month    churn  \n",
       "count                           4,000.00 4,000.00  \n",
       "mean                                1.77     0.27  \n",
       "std                                 1.05     0.44  \n",
       "min                                 0.00     0.00  \n",
       "25%                                 0.96     0.00  \n",
       "50%                                 1.72     0.00  \n",
       "75%                                 2.51     1.00  \n",
       "max                                 6.15     1.00  "
      ]
     },
     "execution_count": 16,
     "metadata": {},
     "output_type": "execute_result"
    }
   ],
   "source": [
    "data.describe()"
   ]
  },
  {
   "cell_type": "markdown",
   "metadata": {},
   "source": [
    "- Распределение по полу практически 50/50.\n",
    "- 85% клиентов проживают или работают в районе, где находится фитнес-центр.\n",
    "- 49% клиентов являются сотрудниками компании-партнёра клуба.\n",
    "- 31% клиентов использовали промо-код от знакомого при оплате первого абонемента.\n",
    "- у 90% клиентов присутствует контактный телефон.\n",
    "- Средняя длительность текущего действующего абонемента - 4.68 месяцев. Больше половины контрактов длительностью 1 месяц.\n",
    "- 41% клиентов посещают групповые занятия.\n",
    "- Средний возраст клиента 29 лет.\n",
    "- Средняя суммарная выручка от других услуг фитнес-центра - 147 у.е.\n",
    "- Средний срок до окончания текущего действующего абонемента - 4.32 месяца. Большинство контрактов заканчиваются через 1 месяц.\n",
    "- Среднее время с момента первого обращения в фитнес-центр - 3.72 месяца. Для большинства клиентов это 1 месяц.\n",
    "- Средняя частота посещений в неделю за все время с начала действия абонемента 1.88.\n",
    "- Средняя частота посещений в неделю за предыдущий месяц 1.77. Т.е. в среднем клиенты ходят в фитнес-центр 2 раза в неделю.\n",
    "- Доля оттока клиентов в среднем 27%."
   ]
  },
  {
   "cell_type": "markdown",
   "metadata": {},
   "source": [
    "- Посмотрим на средние значения признаков в двух группах — тех, кто ушел в отток и тех, кто остался"
   ]
  },
  {
   "cell_type": "code",
   "execution_count": 17,
   "metadata": {},
   "outputs": [
    {
     "data": {
      "text/html": [
       "<div>\n",
       "<style scoped>\n",
       "    .dataframe tbody tr th:only-of-type {\n",
       "        vertical-align: middle;\n",
       "    }\n",
       "\n",
       "    .dataframe tbody tr th {\n",
       "        vertical-align: top;\n",
       "    }\n",
       "\n",
       "    .dataframe thead th {\n",
       "        text-align: right;\n",
       "    }\n",
       "</style>\n",
       "<table border=\"1\" class=\"dataframe\">\n",
       "  <thead>\n",
       "    <tr style=\"text-align: right;\">\n",
       "      <th>churn</th>\n",
       "      <th>0</th>\n",
       "      <th>1</th>\n",
       "    </tr>\n",
       "  </thead>\n",
       "  <tbody>\n",
       "    <tr>\n",
       "      <th>gender</th>\n",
       "      <td>0.51</td>\n",
       "      <td>0.51</td>\n",
       "    </tr>\n",
       "    <tr>\n",
       "      <th>near_location</th>\n",
       "      <td>0.87</td>\n",
       "      <td>0.77</td>\n",
       "    </tr>\n",
       "    <tr>\n",
       "      <th>partner</th>\n",
       "      <td>0.53</td>\n",
       "      <td>0.36</td>\n",
       "    </tr>\n",
       "    <tr>\n",
       "      <th>promo_friends</th>\n",
       "      <td>0.35</td>\n",
       "      <td>0.18</td>\n",
       "    </tr>\n",
       "    <tr>\n",
       "      <th>phone</th>\n",
       "      <td>0.90</td>\n",
       "      <td>0.90</td>\n",
       "    </tr>\n",
       "    <tr>\n",
       "      <th>contract_period</th>\n",
       "      <td>5.75</td>\n",
       "      <td>1.73</td>\n",
       "    </tr>\n",
       "    <tr>\n",
       "      <th>group_visits</th>\n",
       "      <td>0.46</td>\n",
       "      <td>0.27</td>\n",
       "    </tr>\n",
       "    <tr>\n",
       "      <th>age</th>\n",
       "      <td>29.98</td>\n",
       "      <td>26.99</td>\n",
       "    </tr>\n",
       "    <tr>\n",
       "      <th>avg_additional_charges_total</th>\n",
       "      <td>158.45</td>\n",
       "      <td>115.08</td>\n",
       "    </tr>\n",
       "    <tr>\n",
       "      <th>month_to_end_contract</th>\n",
       "      <td>5.28</td>\n",
       "      <td>1.66</td>\n",
       "    </tr>\n",
       "    <tr>\n",
       "      <th>lifetime</th>\n",
       "      <td>4.71</td>\n",
       "      <td>0.99</td>\n",
       "    </tr>\n",
       "    <tr>\n",
       "      <th>avg_class_frequency_total</th>\n",
       "      <td>2.02</td>\n",
       "      <td>1.47</td>\n",
       "    </tr>\n",
       "    <tr>\n",
       "      <th>avg_class_frequency_current_month</th>\n",
       "      <td>2.03</td>\n",
       "      <td>1.04</td>\n",
       "    </tr>\n",
       "  </tbody>\n",
       "</table>\n",
       "</div>"
      ],
      "text/plain": [
       "churn                                  0      1\n",
       "gender                              0.51   0.51\n",
       "near_location                       0.87   0.77\n",
       "partner                             0.53   0.36\n",
       "promo_friends                       0.35   0.18\n",
       "phone                               0.90   0.90\n",
       "contract_period                     5.75   1.73\n",
       "group_visits                        0.46   0.27\n",
       "age                                29.98  26.99\n",
       "avg_additional_charges_total      158.45 115.08\n",
       "month_to_end_contract               5.28   1.66\n",
       "lifetime                            4.71   0.99\n",
       "avg_class_frequency_total           2.02   1.47\n",
       "avg_class_frequency_current_month   2.03   1.04"
      ]
     },
     "execution_count": 17,
     "metadata": {},
     "output_type": "execute_result"
    }
   ],
   "source": [
    "data.groupby('churn').mean().T"
   ]
  },
  {
   "cell_type": "markdown",
   "metadata": {},
   "source": [
    "- Распределение по полу не отличается.\n",
    "- Ближе живущие или работающие клиенты реже попадают в отток.\n",
    "- Сотрудники компаний-партнеров реже перестают посещать фитнесс-клуб.\n",
    "- Клиенты, пришедшие по акции \"Приведи друга\" в два раза реже уходят в отток.\n",
    "- Наличие мобильного номера клиента не отличается в группах\n",
    "- Средняя длительность договора больше у оставшихся пользователей, у большей части клиентов в оттоке срок договора составляет 1 месяц.\n",
    "- Оставшиеся пользователи чаще ходят на групповые занятия.\n",
    "- Разница в среднем возрасте небольшая.\n",
    "- Выручка от других услуг фитнес-центра выше у оставшихся клиентов.\n",
    "- Оставшееся время до окончания срока действия договора больше у оставшихся клиентов.\n",
    "- Средняя частота посещений в неделю за все время и за предыдущий месяц у оставшихся клиентов больше в 2 раза."
   ]
  },
  {
   "cell_type": "markdown",
   "metadata": {},
   "source": [
    "- Построим столбчатые гистограммы и распределения признаков для тех, кто ушёл (отток) и тех, кто остался (не попали в отток)"
   ]
  },
  {
   "cell_type": "code",
   "execution_count": 18,
   "metadata": {},
   "outputs": [
    {
     "data": {
      "image/png": "[encoded data removed]",
      "text/plain": [
       "<Figure size 1080x720 with 6 Axes>"
      ]
     },
     "metadata": {
      "needs_background": "light"
     },
     "output_type": "display_data"
    }
   ],
   "source": [
    "# сначала посмотррим на распределения для бинарных признаков\n",
    "columns = ['gender', 'near_location', 'partner', 'promo_friends', 'phone', 'group_visits']\n",
    "\n",
    "a = 2\n",
    "b = 3\n",
    "c = 1\n",
    "\n",
    "fig = plt.figure(figsize=(15,10))\n",
    "\n",
    "for i in columns:\n",
    "    plt.subplot(a, b, c)\n",
    "    plt.title(i)\n",
    "    plt.xlabel(i)\n",
    "    sns.countplot(data=data, x=data[i], hue='churn')\n",
    "    c = c + 1\n",
    "\n",
    "plt.tight_layout()\n",
    "plt.show()"
   ]
  },
  {
   "cell_type": "code",
   "execution_count": 19,
   "metadata": {
    "scrolled": true
   },
   "outputs": [
    {
     "data": {
      "image/png": "[encoded data removed]",
      "text/plain": [
       "<Figure size 1080x1080 with 7 Axes>"
      ]
     },
     "metadata": {
      "needs_background": "light"
     },
     "output_type": "display_data"
    }
   ],
   "source": [
    "columns = ['contract_period',\n",
    "           'age',\n",
    "           'avg_additional_charges_total',\n",
    "           'month_to_end_contract',\n",
    "           'lifetime',\n",
    "           'avg_class_frequency_total',\n",
    "           'avg_class_frequency_current_month']\n",
    "\n",
    "a = 4\n",
    "b = 2\n",
    "c = 1\n",
    "\n",
    "fig = plt.figure(figsize=(15,15))\n",
    "\n",
    "for i in columns:\n",
    "    plt.subplot(a, b, c)\n",
    "    plt.title(i)\n",
    "    plt.xlabel(i)\n",
    "    sns.histplot(x = data[i],\n",
    "                hue='churn',\n",
    "                data=data,\n",
    "                multiple='dodge')\n",
    "    c = c + 1\n",
    "\n",
    "plt.tight_layout()\n",
    "plt.show()"
   ]
  },
  {
   "cell_type": "markdown",
   "metadata": {},
   "source": [
    "- Построим матрицу корреляций и отобразим её"
   ]
  },
  {
   "cell_type": "code",
   "execution_count": 20,
   "metadata": {},
   "outputs": [
    {
     "data": {
      "image/png": "[encoded data removed]",
      "text/plain": [
       "<Figure size 1152x648 with 2 Axes>"
      ]
     },
     "metadata": {
      "needs_background": "light"
     },
     "output_type": "display_data"
    }
   ],
   "source": [
    "cm = data.corr()\n",
    "plt.figure(figsize=(16,9))\n",
    "sns.heatmap(cm, annot=True, fmt = '0.2f', cmap=\"YlGnBu\")\n",
    "plt.title('Матрица корреляции')\n",
    "plt.show();"
   ]
  },
  {
   "cell_type": "markdown",
   "metadata": {},
   "source": [
    "- Явной зависимости факта оттока от признаков не обнаружено.\n",
    "- Судя по матрице корреляций, есть две пары скоррелированных признаков: month_to_end_contract и contract_period, avg_class_frequency_total и avg_class_frequency_current_month. Удалим их."
   ]
  },
  {
   "cell_type": "markdown",
   "metadata": {},
   "source": [
    "## Шаг 3. Постройте модель прогнозирования оттока клиентов"
   ]
  },
  {
   "cell_type": "markdown",
   "metadata": {},
   "source": [
    "Построим модель бинарной классификации клиентов, где целевой признак — факт оттока клиента в следующем месяце:\n",
    "\n",
    "- Разбьем данные на обучающую и валидационную выборку функцией train_test_split().\n",
    "- Обучим модель на train-выборке двумя способами:\n",
    "    - логистической регрессией,\n",
    "    - случайным лесом.\n",
    "- Оценим метрики accuracy, precision и recall для обеих моделей на валидационной выборке. Сравним по ним модели."
   ]
  },
  {
   "cell_type": "code",
   "execution_count": 21,
   "metadata": {},
   "outputs": [],
   "source": [
    "# разделим наши данные на признаки (матрица X) и целевую переменную (y)\n",
    "X = data.drop('churn', axis=1)\n",
    "y = data['churn']\n",
    "\n",
    "# разделяем модель на обучающую и валидационную выборку\n",
    "X_train, X_test, y_train, y_test = train_test_split(X, y, test_size=0.2, random_state=0, stratify=y)\n",
    "\n",
    "# обучаем StandartScaler на обучающей выборке\n",
    "scaler = StandardScaler()\n",
    "scaler.fit(X_train)\n",
    "\n",
    "# Преобразуем обучающий и валидационные наборы данных\n",
    "X_train_st = scaler.fit_transform(X_train)\n",
    "X_test_st = scaler.transform(X_test)"
   ]
  },
  {
   "cell_type": "code",
   "execution_count": 22,
   "metadata": {},
   "outputs": [
    {
     "name": "stdout",
     "output_type": "stream",
     "text": [
      "Метрики для модели логистической регрессии:\n",
      "\tAccuracy: 0.94\n",
      "\tPrecision: 0.90\n",
      "\tRecall: 0.85\n",
      "Метрики для модели случайного леса:\n",
      "\tAccuracy: 0.92\n",
      "\tPrecision: 0.88\n",
      "\tRecall: 0.83\n"
     ]
    }
   ],
   "source": [
    "# определим функцию, которая будет выводить наши метрики\n",
    "def print_all_metrics(y_true, y_pred, y_proba, title='Метрики классификации'):\n",
    "    print(title)\n",
    "    print('\\tAccuracy: {:.2f}'.format(accuracy_score(y_true, y_pred)))\n",
    "    print('\\tPrecision: {:.2f}'.format(precision_score(y_true, y_pred)))\n",
    "    print('\\tRecall: {:.2f}'.format(recall_score(y_true, y_pred)))\n",
    "\n",
    "# зададим алгоритм для модели логистической регрессии\n",
    "lr_model = LogisticRegression(random_state=0, solver='liblinear')\n",
    "# обучим модель\n",
    "lr_model.fit(X_train_st, y_train)\n",
    "# воспользуемся уже обученной моделью, чтобы сделать прогнозы\n",
    "lr_predictions = lr_model.predict(X_test_st)\n",
    "lr_probabilities = lr_model.predict_proba(X_test_st)[:, 1]\n",
    "# выведем все метрики\n",
    "print_all_metrics(\n",
    "    y_test,\n",
    "    lr_predictions,\n",
    "    lr_probabilities,\n",
    "    title='Метрики для модели логистической регрессии:',\n",
    ")\n",
    "\n",
    "\n",
    "# зададим алгоритм для новой модели на основе алгоритма случайного леса\n",
    "rf_model = RandomForestClassifier(n_estimators = 100, random_state = 0) # Ваш код здесь\n",
    "# обучим модель случайного леса\n",
    "rf_model.fit(X_train_st, y_train)\n",
    "# воспользуемся уже обученной моделью, чтобы сделать прогнозы\n",
    "rf_predictions = rf_model.predict(X_test_st)\n",
    "rf_probabilities = rf_model.predict_proba(X_test_st)[:, 1]\n",
    "# выведем все метрики\n",
    "print_all_metrics(\n",
    "    y_test,\n",
    "    rf_predictions,\n",
    "    rf_probabilities,\n",
    "    title='Метрики для модели случайного леса:'\n",
    ")"
   ]
  },
  {
   "cell_type": "markdown",
   "metadata": {},
   "source": [
    "- По всем показателям модель логической регрессии показала себя лучше."
   ]
  },
  {
   "cell_type": "markdown",
   "metadata": {},
   "source": [
    "## Шаг 4. Сделайте кластеризацию клиентов"
   ]
  },
  {
   "cell_type": "markdown",
   "metadata": {},
   "source": [
    "- Стандартизируем данные.\n",
    "- Построим матрицу расстояний функцией linkage() на стандартизованной матрице признаков и нарисуем дендрограмму."
   ]
  },
  {
   "cell_type": "code",
   "execution_count": 23,
   "metadata": {},
   "outputs": [
    {
     "data": {
      "image/png": "[encoded data removed]",
      "text/plain": [
       "<Figure size 1080x720 with 1 Axes>"
      ]
     },
     "metadata": {
      "needs_background": "light"
     },
     "output_type": "display_data"
    }
   ],
   "source": [
    "scaler = StandardScaler() # создаём объект класса scaler (нормализатор)\n",
    "X_sc = scaler.fit_transform(X) # обучаем нормализатор и преобразуем набор данных\n",
    "\n",
    "linked = linkage(X_sc, method = 'ward')\n",
    "\n",
    "plt.figure(figsize=(15, 10))  \n",
    "dendrogram(linked, orientation='top')\n",
    "plt.title('Hierarchial clustering for GYM')\n",
    "plt.show()"
   ]
  },
  {
   "cell_type": "markdown",
   "metadata": {},
   "source": [
    "- Явно выделены 4 кластера.\n",
    "- Мы использует 5 по ТЗ."
   ]
  },
  {
   "cell_type": "markdown",
   "metadata": {},
   "source": [
    "- Обучим модель кластеризации на основании алгоритма K-Means и спрогнозируем кластеры клиентов"
   ]
  },
  {
   "cell_type": "code",
   "execution_count": 24,
   "metadata": {},
   "outputs": [],
   "source": [
    "# задаём модель k_means с числом кластеров 5 и фиксируем значение random_state\n",
    "km = KMeans(n_clusters=5, random_state=0)\n",
    "# прогнозируем кластеры для наблюдений (алгоритм присваивает им номера от 0 до 2)\n",
    "labels = km.fit_predict(X_sc)"
   ]
  },
  {
   "cell_type": "markdown",
   "metadata": {},
   "source": [
    "- Посмотрим на средние значения признаков для кластеров. Можно ли сразу что-то заметить?"
   ]
  },
  {
   "cell_type": "code",
   "execution_count": 25,
   "metadata": {},
   "outputs": [
    {
     "data": {
      "text/html": [
       "<style  type=\"text/css\" >\n",
       "#T_31954_row0_col0{\n",
       "            background-color:  #86a9fc;\n",
       "            color:  #000000;\n",
       "        }#T_31954_row0_col1{\n",
       "            background-color:  #dadce0;\n",
       "            color:  #000000;\n",
       "        }#T_31954_row0_col2,#T_31954_row8_col2{\n",
       "            background-color:  #6282ea;\n",
       "            color:  #000000;\n",
       "        }#T_31954_row0_col3,#T_31954_row1_col2,#T_31954_row2_col3,#T_31954_row3_col2,#T_31954_row4_col1,#T_31954_row5_col3,#T_31954_row6_col2,#T_31954_row7_col3,#T_31954_row8_col3,#T_31954_row9_col3,#T_31954_row10_col3,#T_31954_row11_col3,#T_31954_row12_col3,#T_31954_row13_col0{\n",
       "            background-color:  #3b4cc0;\n",
       "            color:  #f1f1f1;\n",
       "        }#T_31954_row0_col4,#T_31954_row1_col3,#T_31954_row2_col0,#T_31954_row3_col0,#T_31954_row4_col0,#T_31954_row4_col2,#T_31954_row4_col3,#T_31954_row4_col4,#T_31954_row5_col0,#T_31954_row6_col0,#T_31954_row7_col4,#T_31954_row8_col4,#T_31954_row9_col0,#T_31954_row10_col4,#T_31954_row11_col4,#T_31954_row12_col4,#T_31954_row13_col3{\n",
       "            background-color:  #b40426;\n",
       "            color:  #f1f1f1;\n",
       "        }#T_31954_row1_col0{\n",
       "            background-color:  #c32e31;\n",
       "            color:  #f1f1f1;\n",
       "        }#T_31954_row1_col1{\n",
       "            background-color:  #e16751;\n",
       "            color:  #000000;\n",
       "        }#T_31954_row1_col4{\n",
       "            background-color:  #bd1f2d;\n",
       "            color:  #f1f1f1;\n",
       "        }#T_31954_row2_col1{\n",
       "            background-color:  #96b7ff;\n",
       "            color:  #000000;\n",
       "        }#T_31954_row2_col2{\n",
       "            background-color:  #90b2fe;\n",
       "            color:  #000000;\n",
       "        }#T_31954_row2_col4{\n",
       "            background-color:  #3e51c5;\n",
       "            color:  #f1f1f1;\n",
       "        }#T_31954_row3_col1,#T_31954_row11_col0{\n",
       "            background-color:  #d2dbe8;\n",
       "            color:  #000000;\n",
       "        }#T_31954_row3_col3{\n",
       "            background-color:  #a7c5fe;\n",
       "            color:  #000000;\n",
       "        }#T_31954_row3_col4{\n",
       "            background-color:  #a1c0ff;\n",
       "            color:  #000000;\n",
       "        }#T_31954_row5_col1{\n",
       "            background-color:  #a5c3fe;\n",
       "            color:  #000000;\n",
       "        }#T_31954_row5_col2{\n",
       "            background-color:  #485fd1;\n",
       "            color:  #f1f1f1;\n",
       "        }#T_31954_row5_col4{\n",
       "            background-color:  #536edd;\n",
       "            color:  #000000;\n",
       "        }#T_31954_row6_col1{\n",
       "            background-color:  #f6bfa6;\n",
       "            color:  #000000;\n",
       "        }#T_31954_row6_col3,#T_31954_row12_col1{\n",
       "            background-color:  #bbd1f8;\n",
       "            color:  #000000;\n",
       "        }#T_31954_row6_col4{\n",
       "            background-color:  #ef886b;\n",
       "            color:  #000000;\n",
       "        }#T_31954_row7_col0{\n",
       "            background-color:  #cd423b;\n",
       "            color:  #f1f1f1;\n",
       "        }#T_31954_row7_col1{\n",
       "            background-color:  #efcfbf;\n",
       "            color:  #000000;\n",
       "        }#T_31954_row7_col2{\n",
       "            background-color:  #6c8ff1;\n",
       "            color:  #000000;\n",
       "        }#T_31954_row8_col0{\n",
       "            background-color:  #be242e;\n",
       "            color:  #f1f1f1;\n",
       "        }#T_31954_row8_col1{\n",
       "            background-color:  #c4d5f3;\n",
       "            color:  #000000;\n",
       "        }#T_31954_row9_col1{\n",
       "            background-color:  #a6c4fe;\n",
       "            color:  #000000;\n",
       "        }#T_31954_row9_col2{\n",
       "            background-color:  #465ecf;\n",
       "            color:  #f1f1f1;\n",
       "        }#T_31954_row9_col4{\n",
       "            background-color:  #516ddb;\n",
       "            color:  #000000;\n",
       "        }#T_31954_row10_col0{\n",
       "            background-color:  #cb3e38;\n",
       "            color:  #f1f1f1;\n",
       "        }#T_31954_row10_col1{\n",
       "            background-color:  #f2cab5;\n",
       "            color:  #000000;\n",
       "        }#T_31954_row10_col2{\n",
       "            background-color:  #6a8bef;\n",
       "            color:  #000000;\n",
       "        }#T_31954_row11_col1{\n",
       "            background-color:  #b7cff9;\n",
       "            color:  #000000;\n",
       "        }#T_31954_row11_col2{\n",
       "            background-color:  #8fb1fe;\n",
       "            color:  #000000;\n",
       "        }#T_31954_row12_col0{\n",
       "            background-color:  #e3d9d3;\n",
       "            color:  #000000;\n",
       "        }#T_31954_row12_col2{\n",
       "            background-color:  #8db0fe;\n",
       "            color:  #000000;\n",
       "        }#T_31954_row13_col1{\n",
       "            background-color:  #dbdcde;\n",
       "            color:  #000000;\n",
       "        }#T_31954_row13_col2{\n",
       "            background-color:  #e36b54;\n",
       "            color:  #000000;\n",
       "        }#T_31954_row13_col4{\n",
       "            background-color:  #5470de;\n",
       "            color:  #000000;\n",
       "        }</style><table id=\"T_31954_\" ><thead>    <tr>        <th class=\"index_name level0\" >cluster_km</th>        <th class=\"col_heading level0 col0\" >0</th>        <th class=\"col_heading level0 col1\" >1</th>        <th class=\"col_heading level0 col2\" >2</th>        <th class=\"col_heading level0 col3\" >3</th>        <th class=\"col_heading level0 col4\" >4</th>    </tr></thead><tbody>\n",
       "                <tr>\n",
       "                        <th id=\"T_31954_level0_row0\" class=\"row_heading level0 row0\" >gender</th>\n",
       "                        <td id=\"T_31954_row0_col0\" class=\"data row0 col0\" >0.50</td>\n",
       "                        <td id=\"T_31954_row0_col1\" class=\"data row0 col1\" >0.52</td>\n",
       "                        <td id=\"T_31954_row0_col2\" class=\"data row0 col2\" >0.50</td>\n",
       "                        <td id=\"T_31954_row0_col3\" class=\"data row0 col3\" >0.49</td>\n",
       "                        <td id=\"T_31954_row0_col4\" class=\"data row0 col4\" >0.56</td>\n",
       "            </tr>\n",
       "            <tr>\n",
       "                        <th id=\"T_31954_level0_row1\" class=\"row_heading level0 row1\" >near_location</th>\n",
       "                        <td id=\"T_31954_row1_col0\" class=\"data row1 col0\" >0.96</td>\n",
       "                        <td id=\"T_31954_row1_col1\" class=\"data row1 col1\" >0.86</td>\n",
       "                        <td id=\"T_31954_row1_col2\" class=\"data row1 col2\" >0.00</td>\n",
       "                        <td id=\"T_31954_row1_col3\" class=\"data row1 col3\" >1.00</td>\n",
       "                        <td id=\"T_31954_row1_col4\" class=\"data row1 col4\" >0.98</td>\n",
       "            </tr>\n",
       "            <tr>\n",
       "                        <th id=\"T_31954_level0_row2\" class=\"row_heading level0 row2\" >partner</th>\n",
       "                        <td id=\"T_31954_row2_col0\" class=\"data row2 col0\" >0.78</td>\n",
       "                        <td id=\"T_31954_row2_col1\" class=\"data row2 col1\" >0.47</td>\n",
       "                        <td id=\"T_31954_row2_col2\" class=\"data row2 col2\" >0.46</td>\n",
       "                        <td id=\"T_31954_row2_col3\" class=\"data row2 col3\" >0.35</td>\n",
       "                        <td id=\"T_31954_row2_col4\" class=\"data row2 col4\" >0.36</td>\n",
       "            </tr>\n",
       "            <tr>\n",
       "                        <th id=\"T_31954_level0_row3\" class=\"row_heading level0 row3\" >promo_friends</th>\n",
       "                        <td id=\"T_31954_row3_col0\" class=\"data row3 col0\" >0.57</td>\n",
       "                        <td id=\"T_31954_row3_col1\" class=\"data row3 col1\" >0.31</td>\n",
       "                        <td id=\"T_31954_row3_col2\" class=\"data row3 col2\" >0.08</td>\n",
       "                        <td id=\"T_31954_row3_col3\" class=\"data row3 col3\" >0.24</td>\n",
       "                        <td id=\"T_31954_row3_col4\" class=\"data row3 col4\" >0.23</td>\n",
       "            </tr>\n",
       "            <tr>\n",
       "                        <th id=\"T_31954_level0_row4\" class=\"row_heading level0 row4\" >phone</th>\n",
       "                        <td id=\"T_31954_row4_col0\" class=\"data row4 col0\" >1.00</td>\n",
       "                        <td id=\"T_31954_row4_col1\" class=\"data row4 col1\" >0.00</td>\n",
       "                        <td id=\"T_31954_row4_col2\" class=\"data row4 col2\" >1.00</td>\n",
       "                        <td id=\"T_31954_row4_col3\" class=\"data row4 col3\" >1.00</td>\n",
       "                        <td id=\"T_31954_row4_col4\" class=\"data row4 col4\" >1.00</td>\n",
       "            </tr>\n",
       "            <tr>\n",
       "                        <th id=\"T_31954_level0_row5\" class=\"row_heading level0 row5\" >contract_period</th>\n",
       "                        <td id=\"T_31954_row5_col0\" class=\"data row5 col0\" >10.89</td>\n",
       "                        <td id=\"T_31954_row5_col1\" class=\"data row5 col1\" >4.79</td>\n",
       "                        <td id=\"T_31954_row5_col2\" class=\"data row5 col2\" >2.35</td>\n",
       "                        <td id=\"T_31954_row5_col3\" class=\"data row5 col3\" >1.95</td>\n",
       "                        <td id=\"T_31954_row5_col4\" class=\"data row5 col4\" >2.67</td>\n",
       "            </tr>\n",
       "            <tr>\n",
       "                        <th id=\"T_31954_level0_row6\" class=\"row_heading level0 row6\" >group_visits</th>\n",
       "                        <td id=\"T_31954_row6_col0\" class=\"data row6 col0\" >0.54</td>\n",
       "                        <td id=\"T_31954_row6_col1\" class=\"data row6 col1\" >0.43</td>\n",
       "                        <td id=\"T_31954_row6_col2\" class=\"data row6 col2\" >0.22</td>\n",
       "                        <td id=\"T_31954_row6_col3\" class=\"data row6 col3\" >0.34</td>\n",
       "                        <td id=\"T_31954_row6_col4\" class=\"data row6 col4\" >0.47</td>\n",
       "            </tr>\n",
       "            <tr>\n",
       "                        <th id=\"T_31954_level0_row7\" class=\"row_heading level0 row7\" >age</th>\n",
       "                        <td id=\"T_31954_row7_col0\" class=\"data row7 col0\" >29.98</td>\n",
       "                        <td id=\"T_31954_row7_col1\" class=\"data row7 col1\" >29.30</td>\n",
       "                        <td id=\"T_31954_row7_col2\" class=\"data row7 col2\" >28.48</td>\n",
       "                        <td id=\"T_31954_row7_col3\" class=\"data row7 col3\" >28.17</td>\n",
       "                        <td id=\"T_31954_row7_col4\" class=\"data row7 col4\" >30.13</td>\n",
       "            </tr>\n",
       "            <tr>\n",
       "                        <th id=\"T_31954_level0_row8\" class=\"row_heading level0 row8\" >avg_additional_charges_total</th>\n",
       "                        <td id=\"T_31954_row8_col0\" class=\"data row8 col0\" >160.76</td>\n",
       "                        <td id=\"T_31954_row8_col1\" class=\"data row8 col1\" >143.96</td>\n",
       "                        <td id=\"T_31954_row8_col2\" class=\"data row8 col2\" >135.46</td>\n",
       "                        <td id=\"T_31954_row8_col3\" class=\"data row8 col3\" >131.62</td>\n",
       "                        <td id=\"T_31954_row8_col4\" class=\"data row8 col4\" >161.66</td>\n",
       "            </tr>\n",
       "            <tr>\n",
       "                        <th id=\"T_31954_level0_row9\" class=\"row_heading level0 row9\" >month_to_end_contract</th>\n",
       "                        <td id=\"T_31954_row9_col0\" class=\"data row9 col0\" >9.95</td>\n",
       "                        <td id=\"T_31954_row9_col1\" class=\"data row9 col1\" >4.48</td>\n",
       "                        <td id=\"T_31954_row9_col2\" class=\"data row9 col2\" >2.20</td>\n",
       "                        <td id=\"T_31954_row9_col3\" class=\"data row9 col3\" >1.86</td>\n",
       "                        <td id=\"T_31954_row9_col4\" class=\"data row9 col4\" >2.46</td>\n",
       "            </tr>\n",
       "            <tr>\n",
       "                        <th id=\"T_31954_level0_row10\" class=\"row_heading level0 row10\" >lifetime</th>\n",
       "                        <td id=\"T_31954_row10_col0\" class=\"data row10 col0\" >4.74</td>\n",
       "                        <td id=\"T_31954_row10_col1\" class=\"data row10 col1\" >3.92</td>\n",
       "                        <td id=\"T_31954_row10_col2\" class=\"data row10 col2\" >2.81</td>\n",
       "                        <td id=\"T_31954_row10_col3\" class=\"data row10 col3\" >2.44</td>\n",
       "                        <td id=\"T_31954_row10_col4\" class=\"data row10 col4\" >4.90</td>\n",
       "            </tr>\n",
       "            <tr>\n",
       "                        <th id=\"T_31954_level0_row11\" class=\"row_heading level0 row11\" >avg_class_frequency_total</th>\n",
       "                        <td id=\"T_31954_row11_col0\" class=\"data row11 col0\" >1.98</td>\n",
       "                        <td id=\"T_31954_row11_col1\" class=\"data row11 col1\" >1.85</td>\n",
       "                        <td id=\"T_31954_row11_col2\" class=\"data row11 col2\" >1.66</td>\n",
       "                        <td id=\"T_31954_row11_col3\" class=\"data row11 col3\" >1.25</td>\n",
       "                        <td id=\"T_31954_row11_col4\" class=\"data row11 col4\" >2.85</td>\n",
       "            </tr>\n",
       "            <tr>\n",
       "                        <th id=\"T_31954_level0_row12\" class=\"row_heading level0 row12\" >avg_class_frequency_current_month</th>\n",
       "                        <td id=\"T_31954_row12_col0\" class=\"data row12 col0\" >1.97</td>\n",
       "                        <td id=\"T_31954_row12_col1\" class=\"data row12 col1\" >1.72</td>\n",
       "                        <td id=\"T_31954_row12_col2\" class=\"data row12 col2\" >1.48</td>\n",
       "                        <td id=\"T_31954_row12_col3\" class=\"data row12 col3\" >1.01</td>\n",
       "                        <td id=\"T_31954_row12_col4\" class=\"data row12 col4\" >2.85</td>\n",
       "            </tr>\n",
       "            <tr>\n",
       "                        <th id=\"T_31954_level0_row13\" class=\"row_heading level0 row13\" >churn</th>\n",
       "                        <td id=\"T_31954_row13_col0\" class=\"data row13 col0\" >0.03</td>\n",
       "                        <td id=\"T_31954_row13_col1\" class=\"data row13 col1\" >0.27</td>\n",
       "                        <td id=\"T_31954_row13_col2\" class=\"data row13 col2\" >0.44</td>\n",
       "                        <td id=\"T_31954_row13_col3\" class=\"data row13 col3\" >0.51</td>\n",
       "                        <td id=\"T_31954_row13_col4\" class=\"data row13 col4\" >0.07</td>\n",
       "            </tr>\n",
       "    </tbody></table>"
      ],
      "text/plain": [
       "<pandas.io.formats.style.Styler at 0x7f79169c0970>"
      ]
     },
     "execution_count": 25,
     "metadata": {},
     "output_type": "execute_result"
    }
   ],
   "source": [
    "# сохраняем метки кластера в поле нашего датасета\n",
    "data['cluster_km'] = labels\n",
    " \n",
    "# выводим статистику по средним значениям нафших признаков по кластеру\n",
    "data.groupby(['cluster_km']).mean().T.style.background_gradient(cmap='coolwarm', axis=1).set_precision(2)"
   ]
  },
  {
   "cell_type": "code",
   "execution_count": 26,
   "metadata": {},
   "outputs": [
    {
     "data": {
      "text/plain": [
       "cluster_km\n",
       "0    1010\n",
       "1     385\n",
       "2     505\n",
       "3    1262\n",
       "4     838\n",
       "Name: gender, dtype: int64"
      ]
     },
     "execution_count": 26,
     "metadata": {},
     "output_type": "execute_result"
    }
   ],
   "source": [
    "# посмотрим, сколько примеров в кластерах\n",
    "data.groupby(['cluster_km'])['gender'].count()"
   ]
  },
  {
   "cell_type": "markdown",
   "metadata": {},
   "source": [
    "- Кластеры 0 и 3 - самые многочисленные.\n",
    "- Кластеры 1 и 2 напротив - самые малочисленные."
   ]
  },
  {
   "cell_type": "markdown",
   "metadata": {},
   "source": [
    "- Кластеры 0 и 4 с самым низким оттоком.\n",
    "- У этих кластеров также:\n",
    "    - самая высокая средняя суммарная выручка от других услуг фитнес-центра;\n",
    "    - самое высокое среднее время с момента первого обращения в фитнес-центр;\n",
    "    - самый высокий процент посещения групповых занятий;\n",
    "    - самая высокая средняя частота посещений в неделю за все время и за предыдущий месяц.\n",
    "- Клиенты из кластера 0:\n",
    "    - чаще являются сотрудниками компании-партнёра клуба;\n",
    "    - чаще являются участниками акции «приведи друга»;\n",
    "    - у них самый длительный текущий действующий абонемент;\n",
    "    - самый большой срок до окончания текущего действующего абонемента.\n",
    "- Кластеры 2 и 3 с самым высоким оттоком.\n",
    "- У этих кластеров также:\n",
    "    - самая низкая средняя суммарная выручка от других услуг фитнес-центра;\n",
    "    - самое маленькое среднее время с момента первого обращения в фитнес-центр;\n",
    "    - самая низкая средняя частота посещений в неделю за все время и за предыдущий месяц."
   ]
  },
  {
   "cell_type": "markdown",
   "metadata": {},
   "source": [
    "- Построим распределения признаков для кластеров. Можно ли что-то заметить по ним?"
   ]
  },
  {
   "cell_type": "code",
   "execution_count": 27,
   "metadata": {},
   "outputs": [
    {
     "data": {
      "image/png": "[encoded data removed]",
      "text/plain": [
       "<Figure size 1080x720 with 6 Axes>"
      ]
     },
     "metadata": {
      "needs_background": "light"
     },
     "output_type": "display_data"
    }
   ],
   "source": [
    "# построим countplot-графики для бинарных признаков\n",
    "columns = ['gender', 'near_location', 'partner', 'promo_friends', 'phone', 'group_visits']\n",
    "\n",
    "a = 2\n",
    "b = 3\n",
    "c = 1\n",
    "\n",
    "fig = plt.figure(figsize=(15,10))\n",
    "\n",
    "for i in columns:\n",
    "    plt.subplot(a, b, c)\n",
    "    plt.title(i)\n",
    "    plt.xlabel(i)\n",
    "    sns.countplot(data=data, x='cluster_km', hue=data[i])\n",
    "    c = c + 1\n",
    "\n",
    "plt.tight_layout()\n",
    "plt.show()"
   ]
  },
  {
   "cell_type": "code",
   "execution_count": 28,
   "metadata": {},
   "outputs": [
    {
     "data": {
      "image/png": "[encoded data removed]",
      "text/plain": [
       "<Figure size 1080x1440 with 7 Axes>"
      ]
     },
     "metadata": {
      "needs_background": "light"
     },
     "output_type": "display_data"
    }
   ],
   "source": [
    "# построим kdeplot-графики для небинарных признаков\n",
    "columns = ['contract_period',\n",
    "           'age',\n",
    "           'avg_additional_charges_total',\n",
    "           'month_to_end_contract',\n",
    "           'lifetime',\n",
    "           'avg_class_frequency_total',\n",
    "           'avg_class_frequency_current_month']\n",
    "\n",
    "a = 4\n",
    "b = 2\n",
    "c = 1\n",
    "\n",
    "fig = plt.figure(figsize=(15,20))\n",
    "\n",
    "for i in columns:\n",
    "    plt.subplot(a, b, c)\n",
    "    plt.title(i)\n",
    "    plt.xlabel(i)\n",
    "    sns.kdeplot(x = data[i],\n",
    "                hue='cluster_km',\n",
    "                data=data)\n",
    "    c = c + 1\n",
    "\n",
    "plt.tight_layout()\n",
    "plt.show()"
   ]
  },
  {
   "cell_type": "markdown",
   "metadata": {},
   "source": [
    "- Распределения подтверждают сделанные ранее выводы."
   ]
  },
  {
   "cell_type": "markdown",
   "metadata": {},
   "source": [
    "- Для каждого полученного кластера посчитаем долю оттока (методом groupby()). Отличаются ли они по доле оттока? Какие кластеры склонны к оттоку, а какие — надёжны?"
   ]
  },
  {
   "cell_type": "code",
   "execution_count": 29,
   "metadata": {},
   "outputs": [
    {
     "data": {
      "text/html": [
       "<div>\n",
       "<style scoped>\n",
       "    .dataframe tbody tr th:only-of-type {\n",
       "        vertical-align: middle;\n",
       "    }\n",
       "\n",
       "    .dataframe tbody tr th {\n",
       "        vertical-align: top;\n",
       "    }\n",
       "\n",
       "    .dataframe thead th {\n",
       "        text-align: right;\n",
       "    }\n",
       "</style>\n",
       "<table border=\"1\" class=\"dataframe\">\n",
       "  <thead>\n",
       "    <tr style=\"text-align: right;\">\n",
       "      <th></th>\n",
       "      <th>churn</th>\n",
       "    </tr>\n",
       "    <tr>\n",
       "      <th>cluster_km</th>\n",
       "      <th></th>\n",
       "    </tr>\n",
       "  </thead>\n",
       "  <tbody>\n",
       "    <tr>\n",
       "      <th>0</th>\n",
       "      <td>0.03</td>\n",
       "    </tr>\n",
       "    <tr>\n",
       "      <th>4</th>\n",
       "      <td>0.07</td>\n",
       "    </tr>\n",
       "    <tr>\n",
       "      <th>1</th>\n",
       "      <td>0.27</td>\n",
       "    </tr>\n",
       "    <tr>\n",
       "      <th>2</th>\n",
       "      <td>0.44</td>\n",
       "    </tr>\n",
       "    <tr>\n",
       "      <th>3</th>\n",
       "      <td>0.51</td>\n",
       "    </tr>\n",
       "  </tbody>\n",
       "</table>\n",
       "</div>"
      ],
      "text/plain": [
       "            churn\n",
       "cluster_km       \n",
       "0            0.03\n",
       "4            0.07\n",
       "1            0.27\n",
       "2            0.44\n",
       "3            0.51"
      ]
     },
     "execution_count": 29,
     "metadata": {},
     "output_type": "execute_result"
    }
   ],
   "source": [
    "data.groupby('cluster_km').agg({'churn':'mean'}).sort_values(by='churn')"
   ]
  },
  {
   "cell_type": "markdown",
   "metadata": {},
   "source": [
    "- Кластеры 0 и 4 с самым низким оттоком.\n",
    "- Кластеры 2 и 3 с самым высоким оттоком."
   ]
  },
  {
   "cell_type": "markdown",
   "metadata": {},
   "source": [
    "## Шаг 5. Сформулируем выводы и предложим базовые рекомендации по работе с клиентами"
   ]
  },
  {
   "cell_type": "markdown",
   "metadata": {},
   "source": [
    "Выводы по имеющимся данным:\n",
    "\n",
    "- Распределение по полу практически 50/50.\n",
    "- 85% клиентов проживают или работают в районе, где находится фитнес-центр.\n",
    "- 49% клиентов являются сотрудниками компании-партнёра клуба.\n",
    "- 31% клиентов использовали промо-код от знакомого при оплате первого абонемента.\n",
    "- у 90% клиентов присутствует контактный телефон.\n",
    "- Средняя длительность текущего действующего абонемента - 4.68 месяцев. Больше половины контрактов длительностью 1 месяц.\n",
    "- 41% клиентов посещают групповые занятия.\n",
    "- Средний возраст клиента 29 лет.\n",
    "- Средняя суммарная выручка от других услуг фитнес-центра - 147 у.е.\n",
    "- Средний срок до окончания текущего действующего абонемента - 4.32 месяца. Большинство контрактов заканчиваются через 1 месяц.\n",
    "- Среднее время с момента первого обращения в фитнес-центр - 3.72 месяца. Для большинства клиентов это 1 месяц.\n",
    "- Средняя частота посещений в неделю за все время с начала действия абонемента 1.88.\n",
    "- Средняя частота посещений в неделю за предыдущий месяц 1.77. Т.е. в среднем клиенты ходят в фитнес-центр 2 раза в неделю.\n",
    "- Доля оттока клиентов в среднем 27%.\n",
    "\n",
    "Выводы на основе отличий признаков у клиентов, попавших в отток и оставшихся:\n",
    "\n",
    "- Распределение по полу не отличается.\n",
    "- Ближе живущие или работающие клиенты реже попадают в отток.\n",
    "- Сотрудники компаний-партнеров реже перестают посещать фитнесс-клуб.\n",
    "- Клиенты, пришедшие по акции \"Приведи друга\" в два раза реже уходят в отток.\n",
    "- Наличие мобильного номера клиента не отличается в группах\n",
    "- Средняя длительность договора больше у оставшихся пользователей, у большей части клиентов в оттоке срок договора составляет 1 месяц.\n",
    "- Оставшиеся пользователи чаще ходят на групповые занятия.\n",
    "- Разница в среднем возрасте небольшая.\n",
    "- Выручка от других услуг фитнес-центра выше у оставшихся клиентов.\n",
    "- Оставшееся время до окончания срока действия договора больше у оставшихся клиентов.\n",
    "- Средняя частота посещений в неделю за все время и за предыдущий месяц у оставшихся клиентов больше в 2 раза.\n",
    "\n",
    "Матрица корреляции показала, что:\n",
    "\n",
    "- Явной зависимости факта оттока от признаков не обнаружено.\n",
    "- Есть две пары скоррелированных признаков: month_to_end_contract и contract_period, avg_class_frequency_total и avg_class_frequency_current_month.\n",
    "\n",
    "Далее была построена модель бинарной классификации клиентов, где целевой признак — факт оттока клиента в следующем месяце.\n",
    "\n",
    "Обучили модель на train-выборке двумя способами:\n",
    "    - логистической регрессией,\n",
    "    - случайным лесом.\n",
    "\n",
    "Оценили метрики accuracy, precision и recall для обеих моделей на валидационной выборке и пришли к выводу, что по всем показателям модель логической регрессии показала себя лучше.\n",
    "\n",
    "Сделали кластеризацию клиентов:\n",
    "\n",
    "- Кластеры 0 и 4 с самым низким оттоком.\n",
    "- У этих кластеров также:\n",
    "    - самая высокая средняя суммарная выручка от других услуг фитнес-центра;\n",
    "    - самое высокое среднее время с момента первого обращения в фитнес-центр;\n",
    "    - самый высокий процент посещения групповых занятий;\n",
    "    - самая высокая средняя частота посещений в неделю за все время и за предыдущий месяц.\n",
    "- Клиенты из кластера 0:\n",
    "    - чаще являются сотрудниками компании-партнёра клуба;\n",
    "    - чаще являются участниками акции «приведи друга»;\n",
    "    - у них самый длительный текущий действующий абонемент;\n",
    "    - самый большой срок до окончания текущего действующего абонемента.\n",
    "- Кластеры 2 и 3 с самым высоким оттоком.\n",
    "- У этих кластеров также:\n",
    "    - самая низкая средняя суммарная выручка от других услуг фитнес-центра;\n",
    "    - самое маленькое среднее время с момента первого обращения в фитнес-центр;\n",
    "    - самая низкая средняя частота посещений в неделю за все время и за предыдущий месяц.\n",
    "    \n",
    "Основные выводы:\n",
    "\n",
    "У нас нарисовался портрет идеального среднестатистического клиента фитнес-центра:\n",
    "\n",
    "- Это мужчина или женщина в среднем 30 лет.\n",
    "- Проживает или работает в районе, где находится фитнес-центр.\n",
    "- Является сотрудником компании-партнёра клуба или пришел в рамках акции «приведи друга».\n",
    "- Заключает абонемент минимум на 6 мес.\n",
    "- Посещает групповые занятия.\n",
    "- Пользуется дополнительными услугами фитнес-центра.\n",
    "- В среднем посещает фитнес-центр 2-3 раза в неделю.\n",
    "\n",
    "В отток часто попадают клиенты, которые:\n",
    "\n",
    "- живут или работают далеко от фитнес-центра;\n",
    "- не являются сотрудниками компании-партнёра клуба или не участвовали в акции «приведи друга»;\n",
    "- заключают абонемент на срок 1 месяц;\n",
    "- редко посещаю групповые занятия;\n",
    "- редко пользуются дополнительными услугами фитнес-центра;\n",
    "- в среднем посещают фитнес-центр 1 раз в неделю.\n",
    "\n",
    "Рекомендации:\n",
    "\n",
    "- Завлекать клиентов, предлагая партнерские программы и промо-акции.\n",
    "- Завлекать клиентов, предлагая более выгодные цены на абонементы на 6-12 месяцев.\n",
    "- Реклама групповых занятий и дополнительных услуг фитне-центра."
   ]
  },
  {
   "cell_type": "code",
   "execution_count": null,
   "metadata": {},
   "outputs": [],
   "source": []
  }
 ],
 "metadata": {
  "ExecuteTimeLog": [
   {
    "duration": 431,
    "start_time": "2022-09-26T06:39:12.713Z"
   },
   {
    "duration": 135,
    "start_time": "2022-09-26T06:40:00.460Z"
   },
   {
    "duration": 20,
    "start_time": "2022-09-26T06:59:14.142Z"
   },
   {
    "duration": 11,
    "start_time": "2022-09-26T06:59:24.144Z"
   },
   {
    "duration": 37,
    "start_time": "2022-09-26T07:05:41.804Z"
   },
   {
    "duration": 12,
    "start_time": "2022-09-26T07:05:42.337Z"
   },
   {
    "duration": 11,
    "start_time": "2022-09-26T07:05:42.904Z"
   },
   {
    "duration": 3,
    "start_time": "2022-09-26T07:49:27.147Z"
   },
   {
    "duration": 362,
    "start_time": "2022-09-26T07:49:44.345Z"
   },
   {
    "duration": 34,
    "start_time": "2022-09-26T07:49:44.709Z"
   },
   {
    "duration": 19,
    "start_time": "2022-09-26T07:49:44.744Z"
   },
   {
    "duration": 12,
    "start_time": "2022-09-26T07:49:44.764Z"
   },
   {
    "duration": 4,
    "start_time": "2022-09-26T07:56:54.382Z"
   },
   {
    "duration": 19,
    "start_time": "2022-09-26T07:57:02.536Z"
   },
   {
    "duration": 16,
    "start_time": "2022-09-26T08:01:58.296Z"
   },
   {
    "duration": 412,
    "start_time": "2022-09-26T08:25:53.906Z"
   },
   {
    "duration": 34,
    "start_time": "2022-09-26T08:25:54.320Z"
   },
   {
    "duration": 19,
    "start_time": "2022-09-26T08:25:54.355Z"
   },
   {
    "duration": 13,
    "start_time": "2022-09-26T08:25:54.376Z"
   },
   {
    "duration": 7,
    "start_time": "2022-09-26T08:25:54.391Z"
   },
   {
    "duration": 15,
    "start_time": "2022-09-26T08:25:54.399Z"
   },
   {
    "duration": 7,
    "start_time": "2022-09-26T08:25:54.416Z"
   },
   {
    "duration": 66,
    "start_time": "2022-09-26T08:28:30.834Z"
   },
   {
    "duration": 7,
    "start_time": "2022-09-26T08:28:39.549Z"
   },
   {
    "duration": 8,
    "start_time": "2022-09-26T08:28:44.789Z"
   },
   {
    "duration": 1701,
    "start_time": "2022-09-26T08:29:43.368Z"
   },
   {
    "duration": 36,
    "start_time": "2022-09-26T08:29:45.071Z"
   },
   {
    "duration": 18,
    "start_time": "2022-09-26T08:29:45.109Z"
   },
   {
    "duration": 13,
    "start_time": "2022-09-26T08:29:45.128Z"
   },
   {
    "duration": 3,
    "start_time": "2022-09-26T08:29:45.144Z"
   },
   {
    "duration": 9,
    "start_time": "2022-09-26T08:29:45.149Z"
   },
   {
    "duration": 14,
    "start_time": "2022-09-26T08:29:45.160Z"
   },
   {
    "duration": 6,
    "start_time": "2022-09-26T08:29:45.190Z"
   },
   {
    "duration": 12,
    "start_time": "2022-09-26T08:31:51.515Z"
   },
   {
    "duration": 1692,
    "start_time": "2022-09-26T08:31:58.796Z"
   },
   {
    "duration": 39,
    "start_time": "2022-09-26T08:32:00.491Z"
   },
   {
    "duration": 45,
    "start_time": "2022-09-26T08:32:00.532Z"
   },
   {
    "duration": 79,
    "start_time": "2022-09-26T08:32:00.579Z"
   },
   {
    "duration": 20,
    "start_time": "2022-09-26T08:32:00.661Z"
   },
   {
    "duration": 39,
    "start_time": "2022-09-26T08:32:00.683Z"
   },
   {
    "duration": 34,
    "start_time": "2022-09-26T08:32:00.724Z"
   },
   {
    "duration": 1957,
    "start_time": "2022-09-26T08:32:00.760Z"
   },
   {
    "duration": 13,
    "start_time": "2022-09-26T08:32:08.359Z"
   },
   {
    "duration": 1590,
    "start_time": "2022-09-26T08:32:23.601Z"
   },
   {
    "duration": 36,
    "start_time": "2022-09-26T08:32:25.193Z"
   },
   {
    "duration": 21,
    "start_time": "2022-09-26T08:32:25.230Z"
   },
   {
    "duration": 42,
    "start_time": "2022-09-26T08:32:25.252Z"
   },
   {
    "duration": 3,
    "start_time": "2022-09-26T08:32:25.297Z"
   },
   {
    "duration": 9,
    "start_time": "2022-09-26T08:32:25.302Z"
   },
   {
    "duration": 28,
    "start_time": "2022-09-26T08:32:25.312Z"
   },
   {
    "duration": 1939,
    "start_time": "2022-09-26T08:32:25.342Z"
   },
   {
    "duration": 1558,
    "start_time": "2022-09-26T08:40:08.688Z"
   },
   {
    "duration": 36,
    "start_time": "2022-09-26T08:40:10.248Z"
   },
   {
    "duration": 20,
    "start_time": "2022-09-26T08:40:10.285Z"
   },
   {
    "duration": 13,
    "start_time": "2022-09-26T08:40:10.307Z"
   },
   {
    "duration": 10,
    "start_time": "2022-09-26T08:40:10.323Z"
   },
   {
    "duration": 11,
    "start_time": "2022-09-26T08:40:10.335Z"
   },
   {
    "duration": 16,
    "start_time": "2022-09-26T08:40:10.348Z"
   },
   {
    "duration": 18,
    "start_time": "2022-09-26T08:40:10.366Z"
   },
   {
    "duration": 3987,
    "start_time": "2022-09-26T08:40:10.386Z"
   },
   {
    "duration": 18,
    "start_time": "2022-09-26T08:40:17.276Z"
   },
   {
    "duration": 1582,
    "start_time": "2022-09-26T08:40:55.680Z"
   },
   {
    "duration": 34,
    "start_time": "2022-09-26T08:40:57.264Z"
   },
   {
    "duration": 19,
    "start_time": "2022-09-26T08:40:57.300Z"
   },
   {
    "duration": 13,
    "start_time": "2022-09-26T08:40:57.321Z"
   },
   {
    "duration": 3,
    "start_time": "2022-09-26T08:40:57.336Z"
   },
   {
    "duration": 7,
    "start_time": "2022-09-26T08:40:57.341Z"
   },
   {
    "duration": 5,
    "start_time": "2022-09-26T08:40:57.350Z"
   },
   {
    "duration": 39,
    "start_time": "2022-09-26T08:40:57.357Z"
   },
   {
    "duration": 17,
    "start_time": "2022-09-26T08:40:57.398Z"
   },
   {
    "duration": 14,
    "start_time": "2022-09-26T08:42:07.479Z"
   },
   {
    "duration": 12,
    "start_time": "2022-09-26T08:42:11.553Z"
   },
   {
    "duration": 118,
    "start_time": "2022-09-26T08:42:40.637Z"
   },
   {
    "duration": 7,
    "start_time": "2022-09-26T08:42:46.259Z"
   },
   {
    "duration": 5,
    "start_time": "2022-09-26T08:43:34.149Z"
   },
   {
    "duration": 5,
    "start_time": "2022-09-26T08:44:12.408Z"
   },
   {
    "duration": 7,
    "start_time": "2022-09-26T08:44:38.664Z"
   },
   {
    "duration": 6,
    "start_time": "2022-09-26T08:45:03.595Z"
   },
   {
    "duration": 6,
    "start_time": "2022-09-26T08:45:43.748Z"
   },
   {
    "duration": 6,
    "start_time": "2022-09-26T08:46:09.848Z"
   },
   {
    "duration": 7,
    "start_time": "2022-09-26T08:46:24.919Z"
   },
   {
    "duration": 9,
    "start_time": "2022-09-26T08:47:23.755Z"
   },
   {
    "duration": 131,
    "start_time": "2022-09-26T08:48:43.540Z"
   },
   {
    "duration": 1566,
    "start_time": "2022-09-26T08:50:14.575Z"
   },
   {
    "duration": 35,
    "start_time": "2022-09-26T08:50:16.143Z"
   },
   {
    "duration": 20,
    "start_time": "2022-09-26T08:50:16.180Z"
   },
   {
    "duration": 13,
    "start_time": "2022-09-26T08:50:16.202Z"
   },
   {
    "duration": 6,
    "start_time": "2022-09-26T08:50:16.217Z"
   },
   {
    "duration": 8,
    "start_time": "2022-09-26T08:50:16.225Z"
   },
   {
    "duration": 7,
    "start_time": "2022-09-26T08:50:16.235Z"
   },
   {
    "duration": 143,
    "start_time": "2022-09-26T08:50:16.243Z"
   },
   {
    "duration": 0,
    "start_time": "2022-09-26T08:50:16.388Z"
   },
   {
    "duration": 0,
    "start_time": "2022-09-26T08:50:16.389Z"
   },
   {
    "duration": 0,
    "start_time": "2022-09-26T08:50:16.390Z"
   },
   {
    "duration": 0,
    "start_time": "2022-09-26T08:50:16.391Z"
   },
   {
    "duration": 0,
    "start_time": "2022-09-26T08:50:16.392Z"
   },
   {
    "duration": 0,
    "start_time": "2022-09-26T08:50:16.393Z"
   },
   {
    "duration": 0,
    "start_time": "2022-09-26T08:50:16.394Z"
   },
   {
    "duration": 0,
    "start_time": "2022-09-26T08:50:16.395Z"
   },
   {
    "duration": 0,
    "start_time": "2022-09-26T08:50:16.396Z"
   },
   {
    "duration": 172,
    "start_time": "2022-09-26T08:50:38.977Z"
   },
   {
    "duration": 159,
    "start_time": "2022-09-26T08:50:44.064Z"
   },
   {
    "duration": 177,
    "start_time": "2022-09-26T08:51:02.811Z"
   },
   {
    "duration": 170,
    "start_time": "2022-09-26T08:51:23.006Z"
   },
   {
    "duration": 242,
    "start_time": "2022-09-26T08:51:48.073Z"
   },
   {
    "duration": 228,
    "start_time": "2022-09-26T08:52:10.109Z"
   },
   {
    "duration": 171,
    "start_time": "2022-09-26T08:52:33.612Z"
   },
   {
    "duration": 197,
    "start_time": "2022-09-26T08:52:43.073Z"
   },
   {
    "duration": 157,
    "start_time": "2022-09-26T08:53:20.169Z"
   },
   {
    "duration": 6,
    "start_time": "2022-09-26T08:55:27.283Z"
   },
   {
    "duration": 5,
    "start_time": "2022-09-26T08:56:53.914Z"
   },
   {
    "duration": 151,
    "start_time": "2022-09-26T08:57:13.169Z"
   },
   {
    "duration": 1523,
    "start_time": "2022-09-26T08:58:16.366Z"
   },
   {
    "duration": 36,
    "start_time": "2022-09-26T08:58:17.891Z"
   },
   {
    "duration": 17,
    "start_time": "2022-09-26T08:58:17.928Z"
   },
   {
    "duration": 31,
    "start_time": "2022-09-26T08:58:17.947Z"
   },
   {
    "duration": 7,
    "start_time": "2022-09-26T08:58:17.981Z"
   },
   {
    "duration": 40,
    "start_time": "2022-09-26T08:58:17.990Z"
   },
   {
    "duration": 39,
    "start_time": "2022-09-26T08:58:18.032Z"
   },
   {
    "duration": 31,
    "start_time": "2022-09-26T08:58:18.073Z"
   },
   {
    "duration": 224,
    "start_time": "2022-09-26T08:58:18.106Z"
   },
   {
    "duration": 168,
    "start_time": "2022-09-26T08:58:18.332Z"
   },
   {
    "duration": 161,
    "start_time": "2022-09-26T08:58:18.502Z"
   },
   {
    "duration": 309,
    "start_time": "2022-09-26T08:58:18.664Z"
   },
   {
    "duration": 186,
    "start_time": "2022-09-26T08:58:18.974Z"
   },
   {
    "duration": 196,
    "start_time": "2022-09-26T08:58:19.163Z"
   },
   {
    "duration": 9,
    "start_time": "2022-09-26T08:58:19.360Z"
   },
   {
    "duration": 2,
    "start_time": "2022-09-26T09:04:53.711Z"
   },
   {
    "duration": 1526,
    "start_time": "2022-09-26T12:22:42.330Z"
   },
   {
    "duration": 70,
    "start_time": "2022-09-26T12:22:43.858Z"
   },
   {
    "duration": 16,
    "start_time": "2022-09-26T12:22:43.929Z"
   },
   {
    "duration": 10,
    "start_time": "2022-09-26T12:22:43.947Z"
   },
   {
    "duration": 4,
    "start_time": "2022-09-26T12:22:43.959Z"
   },
   {
    "duration": 5,
    "start_time": "2022-09-26T12:22:43.964Z"
   },
   {
    "duration": 5,
    "start_time": "2022-09-26T12:22:43.970Z"
   },
   {
    "duration": 6,
    "start_time": "2022-09-26T12:22:43.977Z"
   },
   {
    "duration": 173,
    "start_time": "2022-09-26T12:22:43.984Z"
   },
   {
    "duration": 151,
    "start_time": "2022-09-26T12:22:44.159Z"
   },
   {
    "duration": 147,
    "start_time": "2022-09-26T12:22:44.312Z"
   },
   {
    "duration": 289,
    "start_time": "2022-09-26T12:22:44.461Z"
   },
   {
    "duration": 156,
    "start_time": "2022-09-26T12:22:44.751Z"
   },
   {
    "duration": 151,
    "start_time": "2022-09-26T12:22:44.909Z"
   },
   {
    "duration": 8,
    "start_time": "2022-09-26T12:22:45.061Z"
   },
   {
    "duration": 36,
    "start_time": "2022-09-26T12:23:35.879Z"
   },
   {
    "duration": 120,
    "start_time": "2022-09-26T13:24:50.305Z"
   },
   {
    "duration": 3,
    "start_time": "2022-09-26T13:25:18.231Z"
   },
   {
    "duration": 64,
    "start_time": "2022-09-26T13:25:30.995Z"
   },
   {
    "duration": 3,
    "start_time": "2022-09-26T13:25:57.013Z"
   },
   {
    "duration": 2,
    "start_time": "2022-09-26T13:26:01.347Z"
   },
   {
    "duration": 3,
    "start_time": "2022-09-26T13:26:03.628Z"
   },
   {
    "duration": 11,
    "start_time": "2022-09-26T13:26:42.304Z"
   },
   {
    "duration": 10,
    "start_time": "2022-09-26T13:28:25.146Z"
   },
   {
    "duration": 1356,
    "start_time": "2022-09-26T14:07:16.130Z"
   },
   {
    "duration": 33,
    "start_time": "2022-09-26T14:07:17.488Z"
   },
   {
    "duration": 18,
    "start_time": "2022-09-26T14:07:17.522Z"
   },
   {
    "duration": 10,
    "start_time": "2022-09-26T14:07:17.541Z"
   },
   {
    "duration": 2,
    "start_time": "2022-09-26T14:07:17.553Z"
   },
   {
    "duration": 5,
    "start_time": "2022-09-26T14:07:17.557Z"
   },
   {
    "duration": 10,
    "start_time": "2022-09-26T14:07:17.563Z"
   },
   {
    "duration": 9,
    "start_time": "2022-09-26T14:07:17.574Z"
   },
   {
    "duration": 175,
    "start_time": "2022-09-26T14:07:17.585Z"
   },
   {
    "duration": 153,
    "start_time": "2022-09-26T14:07:17.762Z"
   },
   {
    "duration": 131,
    "start_time": "2022-09-26T14:07:17.916Z"
   },
   {
    "duration": 254,
    "start_time": "2022-09-26T14:07:18.049Z"
   },
   {
    "duration": 152,
    "start_time": "2022-09-26T14:07:18.304Z"
   },
   {
    "duration": 158,
    "start_time": "2022-09-26T14:07:18.458Z"
   },
   {
    "duration": 9,
    "start_time": "2022-09-26T14:07:18.617Z"
   },
   {
    "duration": 36,
    "start_time": "2022-09-26T14:07:18.627Z"
   },
   {
    "duration": 11,
    "start_time": "2022-09-26T14:07:18.664Z"
   },
   {
    "duration": 146,
    "start_time": "2022-09-26T14:07:18.677Z"
   },
   {
    "duration": 139,
    "start_time": "2022-09-26T14:13:25.399Z"
   },
   {
    "duration": 118,
    "start_time": "2022-09-26T14:14:28.235Z"
   },
   {
    "duration": 114,
    "start_time": "2022-09-26T14:14:34.217Z"
   },
   {
    "duration": 700,
    "start_time": "2022-09-26T14:15:33.118Z"
   },
   {
    "duration": 741,
    "start_time": "2022-09-26T14:15:55.200Z"
   },
   {
    "duration": 803,
    "start_time": "2022-09-26T14:16:36.422Z"
   },
   {
    "duration": 1142,
    "start_time": "2022-09-26T14:17:11.675Z"
   },
   {
    "duration": 1303,
    "start_time": "2022-09-26T14:19:21.758Z"
   },
   {
    "duration": 33,
    "start_time": "2022-09-26T14:19:23.063Z"
   },
   {
    "duration": 15,
    "start_time": "2022-09-26T14:19:23.097Z"
   },
   {
    "duration": 10,
    "start_time": "2022-09-26T14:19:23.114Z"
   },
   {
    "duration": 3,
    "start_time": "2022-09-26T14:19:23.125Z"
   },
   {
    "duration": 4,
    "start_time": "2022-09-26T14:19:23.129Z"
   },
   {
    "duration": 4,
    "start_time": "2022-09-26T14:19:23.135Z"
   },
   {
    "duration": 7,
    "start_time": "2022-09-26T14:19:23.140Z"
   },
   {
    "duration": 174,
    "start_time": "2022-09-26T14:19:23.149Z"
   },
   {
    "duration": 148,
    "start_time": "2022-09-26T14:19:23.325Z"
   },
   {
    "duration": 125,
    "start_time": "2022-09-26T14:19:23.475Z"
   },
   {
    "duration": 253,
    "start_time": "2022-09-26T14:19:23.601Z"
   },
   {
    "duration": 154,
    "start_time": "2022-09-26T14:19:23.855Z"
   },
   {
    "duration": 152,
    "start_time": "2022-09-26T14:19:24.010Z"
   },
   {
    "duration": 7,
    "start_time": "2022-09-26T14:19:24.164Z"
   },
   {
    "duration": 45,
    "start_time": "2022-09-26T14:19:24.172Z"
   },
   {
    "duration": 13,
    "start_time": "2022-09-26T14:19:24.219Z"
   },
   {
    "duration": 871,
    "start_time": "2022-09-26T14:19:24.233Z"
   },
   {
    "duration": 2352,
    "start_time": "2022-09-26T14:20:08.700Z"
   },
   {
    "duration": 685,
    "start_time": "2022-09-26T14:21:50.817Z"
   },
   {
    "duration": 757,
    "start_time": "2022-09-26T14:22:48.439Z"
   },
   {
    "duration": 1405,
    "start_time": "2022-09-26T14:27:15.438Z"
   },
   {
    "duration": 33,
    "start_time": "2022-09-26T14:27:16.845Z"
   },
   {
    "duration": 15,
    "start_time": "2022-09-26T14:27:16.880Z"
   },
   {
    "duration": 10,
    "start_time": "2022-09-26T14:27:16.898Z"
   },
   {
    "duration": 2,
    "start_time": "2022-09-26T14:27:16.910Z"
   },
   {
    "duration": 5,
    "start_time": "2022-09-26T14:27:16.914Z"
   },
   {
    "duration": 4,
    "start_time": "2022-09-26T14:27:16.921Z"
   },
   {
    "duration": 6,
    "start_time": "2022-09-26T14:27:16.926Z"
   },
   {
    "duration": 169,
    "start_time": "2022-09-26T14:27:16.934Z"
   },
   {
    "duration": 153,
    "start_time": "2022-09-26T14:27:17.109Z"
   },
   {
    "duration": 139,
    "start_time": "2022-09-26T14:27:17.263Z"
   },
   {
    "duration": 1363,
    "start_time": "2022-09-26T14:28:33.825Z"
   },
   {
    "duration": 33,
    "start_time": "2022-09-26T14:28:35.189Z"
   },
   {
    "duration": 16,
    "start_time": "2022-09-26T14:28:35.223Z"
   },
   {
    "duration": 9,
    "start_time": "2022-09-26T14:28:35.241Z"
   },
   {
    "duration": 3,
    "start_time": "2022-09-26T14:28:35.251Z"
   },
   {
    "duration": 19,
    "start_time": "2022-09-26T14:28:35.256Z"
   },
   {
    "duration": 10,
    "start_time": "2022-09-26T14:28:35.277Z"
   },
   {
    "duration": 10,
    "start_time": "2022-09-26T14:28:35.289Z"
   },
   {
    "duration": 152,
    "start_time": "2022-09-26T14:28:35.300Z"
   },
   {
    "duration": 141,
    "start_time": "2022-09-26T14:28:35.454Z"
   },
   {
    "duration": 128,
    "start_time": "2022-09-26T14:28:35.597Z"
   },
   {
    "duration": 239,
    "start_time": "2022-09-26T14:28:35.726Z"
   },
   {
    "duration": 151,
    "start_time": "2022-09-26T14:28:35.967Z"
   },
   {
    "duration": 166,
    "start_time": "2022-09-26T14:28:36.120Z"
   },
   {
    "duration": 7,
    "start_time": "2022-09-26T14:28:36.288Z"
   },
   {
    "duration": 48,
    "start_time": "2022-09-26T14:28:36.296Z"
   },
   {
    "duration": 10,
    "start_time": "2022-09-26T14:28:36.345Z"
   },
   {
    "duration": 844,
    "start_time": "2022-09-26T14:28:36.357Z"
   },
   {
    "duration": 1271,
    "start_time": "2022-09-26T14:28:37.202Z"
   },
   {
    "duration": 124,
    "start_time": "2022-09-26T14:29:42.877Z"
   },
   {
    "duration": 13,
    "start_time": "2022-09-26T14:30:24.002Z"
   },
   {
    "duration": 1324,
    "start_time": "2022-09-26T14:31:08.930Z"
   },
   {
    "duration": 33,
    "start_time": "2022-09-26T14:31:10.256Z"
   },
   {
    "duration": 17,
    "start_time": "2022-09-26T14:31:10.290Z"
   },
   {
    "duration": 11,
    "start_time": "2022-09-26T14:31:10.309Z"
   },
   {
    "duration": 3,
    "start_time": "2022-09-26T14:31:10.321Z"
   },
   {
    "duration": 5,
    "start_time": "2022-09-26T14:31:10.325Z"
   },
   {
    "duration": 4,
    "start_time": "2022-09-26T14:31:10.331Z"
   },
   {
    "duration": 7,
    "start_time": "2022-09-26T14:31:10.337Z"
   },
   {
    "duration": 178,
    "start_time": "2022-09-26T14:31:10.345Z"
   },
   {
    "duration": 147,
    "start_time": "2022-09-26T14:31:10.526Z"
   },
   {
    "duration": 139,
    "start_time": "2022-09-26T14:31:10.675Z"
   },
   {
    "duration": 244,
    "start_time": "2022-09-26T14:31:10.816Z"
   },
   {
    "duration": 152,
    "start_time": "2022-09-26T14:31:11.061Z"
   },
   {
    "duration": 159,
    "start_time": "2022-09-26T14:31:11.214Z"
   },
   {
    "duration": 9,
    "start_time": "2022-09-26T14:31:11.375Z"
   },
   {
    "duration": 54,
    "start_time": "2022-09-26T14:31:11.385Z"
   },
   {
    "duration": 10,
    "start_time": "2022-09-26T14:31:11.441Z"
   },
   {
    "duration": 704,
    "start_time": "2022-09-26T14:31:11.453Z"
   },
   {
    "duration": 125,
    "start_time": "2022-09-26T14:31:12.158Z"
   },
   {
    "duration": 1791,
    "start_time": "2022-09-26T14:33:17.469Z"
   },
   {
    "duration": 1789,
    "start_time": "2022-09-26T14:35:27.470Z"
   },
   {
    "duration": 1861,
    "start_time": "2022-09-27T12:35:53.731Z"
   },
   {
    "duration": 79,
    "start_time": "2022-09-27T12:35:55.594Z"
   },
   {
    "duration": 19,
    "start_time": "2022-09-27T12:35:55.675Z"
   },
   {
    "duration": 20,
    "start_time": "2022-09-27T12:35:55.695Z"
   },
   {
    "duration": 5,
    "start_time": "2022-09-27T12:35:55.718Z"
   },
   {
    "duration": 9,
    "start_time": "2022-09-27T12:35:55.725Z"
   },
   {
    "duration": 6,
    "start_time": "2022-09-27T12:35:55.736Z"
   },
   {
    "duration": 15,
    "start_time": "2022-09-27T12:35:55.743Z"
   },
   {
    "duration": 193,
    "start_time": "2022-09-27T12:35:55.760Z"
   },
   {
    "duration": 185,
    "start_time": "2022-09-27T12:35:55.954Z"
   },
   {
    "duration": 162,
    "start_time": "2022-09-27T12:35:56.140Z"
   },
   {
    "duration": 307,
    "start_time": "2022-09-27T12:35:56.303Z"
   },
   {
    "duration": 189,
    "start_time": "2022-09-27T12:35:56.612Z"
   },
   {
    "duration": 197,
    "start_time": "2022-09-27T12:35:56.804Z"
   },
   {
    "duration": 9,
    "start_time": "2022-09-27T12:35:57.003Z"
   },
   {
    "duration": 59,
    "start_time": "2022-09-27T12:35:57.013Z"
   },
   {
    "duration": 12,
    "start_time": "2022-09-27T12:35:57.074Z"
   },
   {
    "duration": 921,
    "start_time": "2022-09-27T12:35:57.087Z"
   },
   {
    "duration": 4724,
    "start_time": "2022-09-27T12:44:25.507Z"
   },
   {
    "duration": 1564,
    "start_time": "2022-09-27T12:44:57.979Z"
   },
   {
    "duration": 34,
    "start_time": "2022-09-27T12:44:59.545Z"
   },
   {
    "duration": 22,
    "start_time": "2022-09-27T12:44:59.581Z"
   },
   {
    "duration": 13,
    "start_time": "2022-09-27T12:44:59.605Z"
   },
   {
    "duration": 4,
    "start_time": "2022-09-27T12:44:59.620Z"
   },
   {
    "duration": 17,
    "start_time": "2022-09-27T12:44:59.625Z"
   },
   {
    "duration": 5,
    "start_time": "2022-09-27T12:44:59.644Z"
   },
   {
    "duration": 10,
    "start_time": "2022-09-27T12:44:59.650Z"
   },
   {
    "duration": 205,
    "start_time": "2022-09-27T12:44:59.661Z"
   },
   {
    "duration": 184,
    "start_time": "2022-09-27T12:44:59.869Z"
   },
   {
    "duration": 159,
    "start_time": "2022-09-27T12:45:00.055Z"
   },
   {
    "duration": 329,
    "start_time": "2022-09-27T12:45:00.215Z"
   },
   {
    "duration": 198,
    "start_time": "2022-09-27T12:45:00.545Z"
   },
   {
    "duration": 191,
    "start_time": "2022-09-27T12:45:00.745Z"
   },
   {
    "duration": 9,
    "start_time": "2022-09-27T12:45:00.938Z"
   },
   {
    "duration": 51,
    "start_time": "2022-09-27T12:45:00.949Z"
   },
   {
    "duration": 12,
    "start_time": "2022-09-27T12:45:01.002Z"
   },
   {
    "duration": 875,
    "start_time": "2022-09-27T12:45:01.016Z"
   },
   {
    "duration": 4580,
    "start_time": "2022-09-27T12:45:01.893Z"
   },
   {
    "duration": 4634,
    "start_time": "2022-09-27T12:45:33.229Z"
   },
   {
    "duration": 4927,
    "start_time": "2022-09-27T12:45:48.848Z"
   },
   {
    "duration": 4873,
    "start_time": "2022-09-27T12:47:05.603Z"
   },
   {
    "duration": 5514,
    "start_time": "2022-09-27T12:48:26.238Z"
   },
   {
    "duration": 5028,
    "start_time": "2022-09-27T12:48:46.950Z"
   },
   {
    "duration": 5017,
    "start_time": "2022-09-27T12:50:44.360Z"
   },
   {
    "duration": 4770,
    "start_time": "2022-09-27T12:50:59.808Z"
   },
   {
    "duration": 4642,
    "start_time": "2022-09-27T12:52:30.184Z"
   },
   {
    "duration": 4707,
    "start_time": "2022-09-27T12:52:49.531Z"
   },
   {
    "duration": 5346,
    "start_time": "2022-09-27T12:53:56.083Z"
   },
   {
    "duration": 5057,
    "start_time": "2022-09-27T12:55:06.178Z"
   },
   {
    "duration": 1604,
    "start_time": "2022-09-27T12:59:58.755Z"
   },
   {
    "duration": 34,
    "start_time": "2022-09-27T13:00:00.362Z"
   },
   {
    "duration": 19,
    "start_time": "2022-09-27T13:00:00.398Z"
   },
   {
    "duration": 19,
    "start_time": "2022-09-27T13:00:00.420Z"
   },
   {
    "duration": 5,
    "start_time": "2022-09-27T13:00:00.441Z"
   },
   {
    "duration": 15,
    "start_time": "2022-09-27T13:00:00.448Z"
   },
   {
    "duration": 6,
    "start_time": "2022-09-27T13:00:00.465Z"
   },
   {
    "duration": 13,
    "start_time": "2022-09-27T13:00:00.473Z"
   },
   {
    "duration": 201,
    "start_time": "2022-09-27T13:00:00.488Z"
   },
   {
    "duration": 183,
    "start_time": "2022-09-27T13:00:00.692Z"
   },
   {
    "duration": 157,
    "start_time": "2022-09-27T13:00:00.876Z"
   },
   {
    "duration": 324,
    "start_time": "2022-09-27T13:00:01.039Z"
   },
   {
    "duration": 191,
    "start_time": "2022-09-27T13:00:01.364Z"
   },
   {
    "duration": 197,
    "start_time": "2022-09-27T13:00:01.557Z"
   },
   {
    "duration": 10,
    "start_time": "2022-09-27T13:00:01.756Z"
   },
   {
    "duration": 81,
    "start_time": "2022-09-27T13:00:01.768Z"
   },
   {
    "duration": 14,
    "start_time": "2022-09-27T13:00:01.851Z"
   },
   {
    "duration": 900,
    "start_time": "2022-09-27T13:00:01.867Z"
   },
   {
    "duration": 1653,
    "start_time": "2022-09-27T13:00:06.154Z"
   },
   {
    "duration": 35,
    "start_time": "2022-09-27T13:00:07.809Z"
   },
   {
    "duration": 18,
    "start_time": "2022-09-27T13:00:07.846Z"
   },
   {
    "duration": 13,
    "start_time": "2022-09-27T13:00:07.866Z"
   },
   {
    "duration": 3,
    "start_time": "2022-09-27T13:00:07.882Z"
   },
   {
    "duration": 14,
    "start_time": "2022-09-27T13:00:07.888Z"
   },
   {
    "duration": 11,
    "start_time": "2022-09-27T13:00:07.903Z"
   },
   {
    "duration": 10,
    "start_time": "2022-09-27T13:00:07.916Z"
   },
   {
    "duration": 199,
    "start_time": "2022-09-27T13:00:07.939Z"
   },
   {
    "duration": 186,
    "start_time": "2022-09-27T13:00:08.141Z"
   },
   {
    "duration": 163,
    "start_time": "2022-09-27T13:00:08.329Z"
   },
   {
    "duration": 337,
    "start_time": "2022-09-27T13:00:08.493Z"
   },
   {
    "duration": 181,
    "start_time": "2022-09-27T13:00:08.832Z"
   },
   {
    "duration": 189,
    "start_time": "2022-09-27T13:00:09.014Z"
   },
   {
    "duration": 9,
    "start_time": "2022-09-27T13:00:09.205Z"
   },
   {
    "duration": 60,
    "start_time": "2022-09-27T13:00:09.216Z"
   },
   {
    "duration": 13,
    "start_time": "2022-09-27T13:00:09.279Z"
   },
   {
    "duration": 871,
    "start_time": "2022-09-27T13:00:09.294Z"
   },
   {
    "duration": 4946,
    "start_time": "2022-09-27T13:00:10.167Z"
   },
   {
    "duration": 116,
    "start_time": "2022-09-27T13:04:33.862Z"
   },
   {
    "duration": 1703,
    "start_time": "2022-09-27T13:04:59.317Z"
   },
   {
    "duration": 1570,
    "start_time": "2022-09-27T13:05:41.883Z"
   },
   {
    "duration": 1574,
    "start_time": "2022-09-27T13:05:48.961Z"
   },
   {
    "duration": 1756,
    "start_time": "2022-09-27T13:07:33.275Z"
   },
   {
    "duration": 1916,
    "start_time": "2022-09-27T13:08:06.559Z"
   },
   {
    "duration": 1696,
    "start_time": "2022-09-27T13:10:48.406Z"
   },
   {
    "duration": 1807,
    "start_time": "2022-09-27T13:12:46.905Z"
   },
   {
    "duration": 1842,
    "start_time": "2022-09-27T13:13:02.350Z"
   },
   {
    "duration": 1841,
    "start_time": "2022-09-27T13:14:35.185Z"
   },
   {
    "duration": 1726,
    "start_time": "2022-09-27T13:14:51.105Z"
   },
   {
    "duration": 1602,
    "start_time": "2022-09-27T13:22:07.612Z"
   },
   {
    "duration": 44,
    "start_time": "2022-09-27T13:22:09.216Z"
   },
   {
    "duration": 18,
    "start_time": "2022-09-27T13:22:09.261Z"
   },
   {
    "duration": 26,
    "start_time": "2022-09-27T13:22:09.282Z"
   },
   {
    "duration": 11,
    "start_time": "2022-09-27T13:22:09.310Z"
   },
   {
    "duration": 14,
    "start_time": "2022-09-27T13:22:09.323Z"
   },
   {
    "duration": 14,
    "start_time": "2022-09-27T13:22:09.348Z"
   },
   {
    "duration": 15,
    "start_time": "2022-09-27T13:22:09.363Z"
   },
   {
    "duration": 229,
    "start_time": "2022-09-27T13:22:09.380Z"
   },
   {
    "duration": 202,
    "start_time": "2022-09-27T13:22:09.611Z"
   },
   {
    "duration": 165,
    "start_time": "2022-09-27T13:22:09.814Z"
   },
   {
    "duration": 346,
    "start_time": "2022-09-27T13:22:09.981Z"
   },
   {
    "duration": 208,
    "start_time": "2022-09-27T13:22:10.329Z"
   },
   {
    "duration": 200,
    "start_time": "2022-09-27T13:22:10.552Z"
   },
   {
    "duration": 10,
    "start_time": "2022-09-27T13:22:10.754Z"
   },
   {
    "duration": 49,
    "start_time": "2022-09-27T13:22:10.766Z"
   },
   {
    "duration": 30,
    "start_time": "2022-09-27T13:22:10.818Z"
   },
   {
    "duration": 892,
    "start_time": "2022-09-27T13:22:10.851Z"
   },
   {
    "duration": 5201,
    "start_time": "2022-09-27T13:22:11.745Z"
   },
   {
    "duration": 2048,
    "start_time": "2022-09-27T13:22:16.952Z"
   },
   {
    "duration": 946,
    "start_time": "2022-09-27T13:23:08.849Z"
   },
   {
    "duration": 5271,
    "start_time": "2022-09-27T13:23:19.691Z"
   },
   {
    "duration": 130,
    "start_time": "2022-09-27T13:40:45.544Z"
   },
   {
    "duration": 2580,
    "start_time": "2022-09-27T13:40:56.111Z"
   },
   {
    "duration": 1508,
    "start_time": "2022-09-28T06:26:42.953Z"
   },
   {
    "duration": 123,
    "start_time": "2022-09-28T06:26:44.463Z"
   },
   {
    "duration": 17,
    "start_time": "2022-09-28T06:26:44.587Z"
   },
   {
    "duration": 12,
    "start_time": "2022-09-28T06:26:44.606Z"
   },
   {
    "duration": 3,
    "start_time": "2022-09-28T06:26:44.619Z"
   },
   {
    "duration": 6,
    "start_time": "2022-09-28T06:26:44.623Z"
   },
   {
    "duration": 5,
    "start_time": "2022-09-28T06:26:44.630Z"
   },
   {
    "duration": 7,
    "start_time": "2022-09-28T06:26:44.637Z"
   },
   {
    "duration": 165,
    "start_time": "2022-09-28T06:26:44.645Z"
   },
   {
    "duration": 149,
    "start_time": "2022-09-28T06:26:44.812Z"
   },
   {
    "duration": 133,
    "start_time": "2022-09-28T06:26:44.962Z"
   },
   {
    "duration": 257,
    "start_time": "2022-09-28T06:26:45.097Z"
   },
   {
    "duration": 162,
    "start_time": "2022-09-28T06:26:45.356Z"
   },
   {
    "duration": 149,
    "start_time": "2022-09-28T06:26:45.521Z"
   },
   {
    "duration": 7,
    "start_time": "2022-09-28T06:26:45.671Z"
   },
   {
    "duration": 46,
    "start_time": "2022-09-28T06:26:45.680Z"
   },
   {
    "duration": 9,
    "start_time": "2022-09-28T06:26:45.727Z"
   },
   {
    "duration": 738,
    "start_time": "2022-09-28T06:26:45.737Z"
   },
   {
    "duration": 4290,
    "start_time": "2022-09-28T06:26:46.476Z"
   },
   {
    "duration": 1516,
    "start_time": "2022-09-28T06:26:50.768Z"
   },
   {
    "duration": 961,
    "start_time": "2022-09-28T06:26:52.286Z"
   },
   {
    "duration": 14,
    "start_time": "2022-09-28T06:32:03.455Z"
   },
   {
    "duration": 109,
    "start_time": "2022-09-28T06:41:30.004Z"
   },
   {
    "duration": 21,
    "start_time": "2022-09-28T06:44:50.519Z"
   },
   {
    "duration": 176,
    "start_time": "2022-09-28T06:45:04.047Z"
   },
   {
    "duration": 539,
    "start_time": "2022-09-28T06:47:08.387Z"
   },
   {
    "duration": 61,
    "start_time": "2022-09-28T06:47:26.362Z"
   },
   {
    "duration": 14,
    "start_time": "2022-09-28T06:52:44.979Z"
   },
   {
    "duration": 540,
    "start_time": "2022-09-28T06:53:08.800Z"
   },
   {
    "duration": 1393,
    "start_time": "2022-09-28T06:55:12.815Z"
   },
   {
    "duration": 32,
    "start_time": "2022-09-28T06:55:14.210Z"
   },
   {
    "duration": 16,
    "start_time": "2022-09-28T06:55:14.243Z"
   },
   {
    "duration": 10,
    "start_time": "2022-09-28T06:55:14.260Z"
   },
   {
    "duration": 11,
    "start_time": "2022-09-28T06:55:14.272Z"
   },
   {
    "duration": 9,
    "start_time": "2022-09-28T06:55:14.285Z"
   },
   {
    "duration": 20,
    "start_time": "2022-09-28T06:55:14.295Z"
   },
   {
    "duration": 9,
    "start_time": "2022-09-28T06:55:14.317Z"
   },
   {
    "duration": 170,
    "start_time": "2022-09-28T06:55:14.327Z"
   },
   {
    "duration": 154,
    "start_time": "2022-09-28T06:55:14.499Z"
   },
   {
    "duration": 139,
    "start_time": "2022-09-28T06:55:14.654Z"
   },
   {
    "duration": 259,
    "start_time": "2022-09-28T06:55:14.795Z"
   },
   {
    "duration": 169,
    "start_time": "2022-09-28T06:55:15.055Z"
   },
   {
    "duration": 195,
    "start_time": "2022-09-28T06:55:15.226Z"
   },
   {
    "duration": 9,
    "start_time": "2022-09-28T06:55:15.423Z"
   },
   {
    "duration": 38,
    "start_time": "2022-09-28T06:55:15.433Z"
   },
   {
    "duration": 10,
    "start_time": "2022-09-28T06:55:15.472Z"
   },
   {
    "duration": 832,
    "start_time": "2022-09-28T06:55:15.484Z"
   },
   {
    "duration": 4337,
    "start_time": "2022-09-28T06:55:16.317Z"
   },
   {
    "duration": 1449,
    "start_time": "2022-09-28T06:55:20.655Z"
   },
   {
    "duration": 13,
    "start_time": "2022-09-28T06:55:22.106Z"
   },
   {
    "duration": 836,
    "start_time": "2022-09-28T06:55:22.121Z"
   },
   {
    "duration": 22,
    "start_time": "2022-09-28T06:56:34.358Z"
   },
   {
    "duration": 723,
    "start_time": "2022-09-28T06:56:34.728Z"
   },
   {
    "duration": 15,
    "start_time": "2022-09-28T06:58:41.777Z"
   },
   {
    "duration": 588,
    "start_time": "2022-09-28T06:58:42.360Z"
   },
   {
    "duration": 20,
    "start_time": "2022-09-28T06:59:20.047Z"
   },
   {
    "duration": 633,
    "start_time": "2022-09-28T06:59:20.555Z"
   },
   {
    "duration": 863,
    "start_time": "2022-09-28T07:07:23.683Z"
   },
   {
    "duration": 6,
    "start_time": "2022-09-28T07:07:47.694Z"
   },
   {
    "duration": 996,
    "start_time": "2022-09-28T07:07:48.217Z"
   },
   {
    "duration": 534,
    "start_time": "2022-09-28T07:08:22.741Z"
   },
   {
    "duration": 14,
    "start_time": "2022-09-28T07:14:29.822Z"
   },
   {
    "duration": 486,
    "start_time": "2022-09-28T07:14:30.357Z"
   },
   {
    "duration": 10,
    "start_time": "2022-09-28T07:17:18.474Z"
   },
   {
    "duration": 5,
    "start_time": "2022-09-28T07:19:09.074Z"
   },
   {
    "duration": 104,
    "start_time": "2022-09-28T07:23:32.244Z"
   },
   {
    "duration": 1357,
    "start_time": "2022-09-28T07:24:18.219Z"
   },
   {
    "duration": 31,
    "start_time": "2022-09-28T07:24:19.577Z"
   },
   {
    "duration": 15,
    "start_time": "2022-09-28T07:24:19.610Z"
   },
   {
    "duration": 26,
    "start_time": "2022-09-28T07:24:19.627Z"
   },
   {
    "duration": 15,
    "start_time": "2022-09-28T07:24:19.655Z"
   },
   {
    "duration": 12,
    "start_time": "2022-09-28T07:24:19.672Z"
   },
   {
    "duration": 19,
    "start_time": "2022-09-28T07:24:19.686Z"
   },
   {
    "duration": 17,
    "start_time": "2022-09-28T07:24:19.708Z"
   },
   {
    "duration": 185,
    "start_time": "2022-09-28T07:24:19.726Z"
   },
   {
    "duration": 158,
    "start_time": "2022-09-28T07:24:19.913Z"
   },
   {
    "duration": 132,
    "start_time": "2022-09-28T07:24:20.072Z"
   },
   {
    "duration": 279,
    "start_time": "2022-09-28T07:24:20.205Z"
   },
   {
    "duration": 162,
    "start_time": "2022-09-28T07:24:20.485Z"
   },
   {
    "duration": 156,
    "start_time": "2022-09-28T07:24:20.649Z"
   },
   {
    "duration": 15,
    "start_time": "2022-09-28T07:24:20.807Z"
   },
   {
    "duration": 43,
    "start_time": "2022-09-28T07:24:20.824Z"
   },
   {
    "duration": 13,
    "start_time": "2022-09-28T07:24:20.868Z"
   },
   {
    "duration": 754,
    "start_time": "2022-09-28T07:24:20.883Z"
   },
   {
    "duration": 4497,
    "start_time": "2022-09-28T07:24:21.639Z"
   },
   {
    "duration": 1425,
    "start_time": "2022-09-28T07:24:26.138Z"
   },
   {
    "duration": 14,
    "start_time": "2022-09-28T07:24:27.565Z"
   },
   {
    "duration": 477,
    "start_time": "2022-09-28T07:24:27.581Z"
   },
   {
    "duration": 101517,
    "start_time": "2022-09-28T07:24:28.059Z"
   },
   {
    "duration": 4,
    "start_time": "2022-09-28T07:26:09.578Z"
   },
   {
    "duration": 107,
    "start_time": "2022-09-28T07:26:09.583Z"
   },
   {
    "duration": 915,
    "start_time": "2022-09-28T07:29:37.317Z"
   },
   {
    "duration": 1258,
    "start_time": "2022-09-28T07:31:45.966Z"
   },
   {
    "duration": 1120,
    "start_time": "2022-09-28T07:32:36.803Z"
   },
   {
    "duration": 1480,
    "start_time": "2022-09-28T07:33:00.224Z"
   },
   {
    "duration": 32,
    "start_time": "2022-09-28T07:33:01.706Z"
   },
   {
    "duration": 61,
    "start_time": "2022-09-28T07:33:01.740Z"
   },
   {
    "duration": 27,
    "start_time": "2022-09-28T07:33:01.802Z"
   },
   {
    "duration": 2,
    "start_time": "2022-09-28T07:33:01.833Z"
   },
   {
    "duration": 21,
    "start_time": "2022-09-28T07:33:01.837Z"
   },
   {
    "duration": 74,
    "start_time": "2022-09-28T07:33:01.860Z"
   },
   {
    "duration": 48,
    "start_time": "2022-09-28T07:33:01.936Z"
   },
   {
    "duration": 207,
    "start_time": "2022-09-28T07:33:01.986Z"
   },
   {
    "duration": 157,
    "start_time": "2022-09-28T07:33:02.195Z"
   },
   {
    "duration": 149,
    "start_time": "2022-09-28T07:33:02.354Z"
   },
   {
    "duration": 283,
    "start_time": "2022-09-28T07:33:02.505Z"
   },
   {
    "duration": 163,
    "start_time": "2022-09-28T07:33:02.790Z"
   },
   {
    "duration": 162,
    "start_time": "2022-09-28T07:33:02.955Z"
   },
   {
    "duration": 7,
    "start_time": "2022-09-28T07:33:03.122Z"
   },
   {
    "duration": 40,
    "start_time": "2022-09-28T07:33:03.131Z"
   },
   {
    "duration": 10,
    "start_time": "2022-09-28T07:33:03.173Z"
   },
   {
    "duration": 802,
    "start_time": "2022-09-28T07:33:03.185Z"
   },
   {
    "duration": 4581,
    "start_time": "2022-09-28T07:33:03.989Z"
   },
   {
    "duration": 1449,
    "start_time": "2022-09-28T07:33:08.571Z"
   },
   {
    "duration": 15,
    "start_time": "2022-09-28T07:33:10.023Z"
   },
   {
    "duration": 513,
    "start_time": "2022-09-28T07:33:10.040Z"
   },
   {
    "duration": 109777,
    "start_time": "2022-09-28T07:33:10.554Z"
   },
   {
    "duration": 4,
    "start_time": "2022-09-28T07:35:00.333Z"
   },
   {
    "duration": 1296,
    "start_time": "2022-09-28T07:35:00.338Z"
   },
   {
    "duration": 1366,
    "start_time": "2022-09-28T07:36:00.759Z"
   },
   {
    "duration": 1562,
    "start_time": "2022-09-28T07:36:55.205Z"
   },
   {
    "duration": 38,
    "start_time": "2022-09-28T07:36:56.769Z"
   },
   {
    "duration": 29,
    "start_time": "2022-09-28T07:36:56.809Z"
   },
   {
    "duration": 12,
    "start_time": "2022-09-28T07:36:56.840Z"
   },
   {
    "duration": 36,
    "start_time": "2022-09-28T07:36:56.854Z"
   },
   {
    "duration": 33,
    "start_time": "2022-09-28T07:36:56.892Z"
   },
   {
    "duration": 65,
    "start_time": "2022-09-28T07:36:56.927Z"
   },
   {
    "duration": 29,
    "start_time": "2022-09-28T07:36:56.994Z"
   },
   {
    "duration": 202,
    "start_time": "2022-09-28T07:36:57.026Z"
   },
   {
    "duration": 240,
    "start_time": "2022-09-28T07:36:57.230Z"
   },
   {
    "duration": 200,
    "start_time": "2022-09-28T07:36:57.472Z"
   },
   {
    "duration": 401,
    "start_time": "2022-09-28T07:36:57.674Z"
   },
   {
    "duration": 201,
    "start_time": "2022-09-28T07:36:58.077Z"
   },
   {
    "duration": 196,
    "start_time": "2022-09-28T07:36:58.282Z"
   },
   {
    "duration": 10,
    "start_time": "2022-09-28T07:36:58.480Z"
   },
   {
    "duration": 82,
    "start_time": "2022-09-28T07:36:58.492Z"
   },
   {
    "duration": 16,
    "start_time": "2022-09-28T07:36:58.576Z"
   },
   {
    "duration": 920,
    "start_time": "2022-09-28T07:36:58.594Z"
   },
   {
    "duration": 5920,
    "start_time": "2022-09-28T07:36:59.522Z"
   },
   {
    "duration": 1728,
    "start_time": "2022-09-28T07:37:05.444Z"
   },
   {
    "duration": 15,
    "start_time": "2022-09-28T07:37:07.174Z"
   },
   {
    "duration": 582,
    "start_time": "2022-09-28T07:37:07.191Z"
   },
   {
    "duration": 121939,
    "start_time": "2022-09-28T07:37:07.775Z"
   },
   {
    "duration": 13,
    "start_time": "2022-09-28T07:39:09.716Z"
   },
   {
    "duration": 39013,
    "start_time": "2022-09-28T07:39:09.731Z"
   },
   {
    "duration": 4,
    "start_time": "2022-09-28T07:40:19.052Z"
   },
   {
    "duration": 1465,
    "start_time": "2022-09-28T07:43:33.549Z"
   },
   {
    "duration": 32,
    "start_time": "2022-09-28T07:43:35.016Z"
   },
   {
    "duration": 17,
    "start_time": "2022-09-28T07:43:35.050Z"
   },
   {
    "duration": 12,
    "start_time": "2022-09-28T07:43:35.068Z"
   },
   {
    "duration": 5,
    "start_time": "2022-09-28T07:43:35.083Z"
   },
   {
    "duration": 7,
    "start_time": "2022-09-28T07:43:35.090Z"
   },
   {
    "duration": 6,
    "start_time": "2022-09-28T07:43:35.098Z"
   },
   {
    "duration": 10,
    "start_time": "2022-09-28T07:43:35.105Z"
   },
   {
    "duration": 196,
    "start_time": "2022-09-28T07:43:35.116Z"
   },
   {
    "duration": 175,
    "start_time": "2022-09-28T07:43:35.314Z"
   },
   {
    "duration": 157,
    "start_time": "2022-09-28T07:43:35.492Z"
   },
   {
    "duration": 314,
    "start_time": "2022-09-28T07:43:35.651Z"
   },
   {
    "duration": 214,
    "start_time": "2022-09-28T07:43:35.967Z"
   },
   {
    "duration": 191,
    "start_time": "2022-09-28T07:43:36.185Z"
   },
   {
    "duration": 8,
    "start_time": "2022-09-28T07:43:36.379Z"
   },
   {
    "duration": 54,
    "start_time": "2022-09-28T07:43:36.389Z"
   },
   {
    "duration": 10,
    "start_time": "2022-09-28T07:43:36.445Z"
   },
   {
    "duration": 760,
    "start_time": "2022-09-28T07:43:36.457Z"
   },
   {
    "duration": 5284,
    "start_time": "2022-09-28T07:43:37.222Z"
   },
   {
    "duration": 1704,
    "start_time": "2022-09-28T07:43:42.508Z"
   },
   {
    "duration": 17,
    "start_time": "2022-09-28T07:43:44.214Z"
   },
   {
    "duration": 517,
    "start_time": "2022-09-28T07:43:44.232Z"
   },
   {
    "duration": 108325,
    "start_time": "2022-09-28T07:43:44.751Z"
   },
   {
    "duration": 3,
    "start_time": "2022-09-28T07:45:33.078Z"
   },
   {
    "duration": 1334,
    "start_time": "2022-09-29T06:33:08.942Z"
   },
   {
    "duration": 32,
    "start_time": "2022-09-29T06:33:10.277Z"
   },
   {
    "duration": 17,
    "start_time": "2022-09-29T06:33:10.311Z"
   },
   {
    "duration": 14,
    "start_time": "2022-09-29T06:33:10.329Z"
   },
   {
    "duration": 5,
    "start_time": "2022-09-29T06:33:10.345Z"
   },
   {
    "duration": 14,
    "start_time": "2022-09-29T06:33:10.351Z"
   },
   {
    "duration": 14,
    "start_time": "2022-09-29T06:33:10.366Z"
   },
   {
    "duration": 10,
    "start_time": "2022-09-29T06:33:10.382Z"
   },
   {
    "duration": 167,
    "start_time": "2022-09-29T06:33:10.393Z"
   },
   {
    "duration": 159,
    "start_time": "2022-09-29T06:33:10.562Z"
   },
   {
    "duration": 149,
    "start_time": "2022-09-29T06:33:10.722Z"
   },
   {
    "duration": 287,
    "start_time": "2022-09-29T06:33:10.876Z"
   },
   {
    "duration": 166,
    "start_time": "2022-09-29T06:33:11.165Z"
   },
   {
    "duration": 166,
    "start_time": "2022-09-29T06:33:11.334Z"
   },
   {
    "duration": 7,
    "start_time": "2022-09-29T06:33:11.502Z"
   },
   {
    "duration": 38,
    "start_time": "2022-09-29T06:33:11.511Z"
   },
   {
    "duration": 30,
    "start_time": "2022-09-29T06:33:11.550Z"
   },
   {
    "duration": 781,
    "start_time": "2022-09-29T06:33:11.582Z"
   },
   {
    "duration": 4672,
    "start_time": "2022-09-29T06:33:12.365Z"
   },
   {
    "duration": 1506,
    "start_time": "2022-09-29T06:33:17.038Z"
   },
   {
    "duration": 15,
    "start_time": "2022-09-29T06:33:18.546Z"
   },
   {
    "duration": 552,
    "start_time": "2022-09-29T06:33:18.563Z"
   },
   {
    "duration": 109025,
    "start_time": "2022-09-29T06:33:19.117Z"
   },
   {
    "duration": 4,
    "start_time": "2022-09-29T06:35:08.143Z"
   },
   {
    "duration": 1487,
    "start_time": "2022-09-29T06:39:36.778Z"
   },
   {
    "duration": 32,
    "start_time": "2022-09-29T06:39:38.267Z"
   },
   {
    "duration": 17,
    "start_time": "2022-09-29T06:39:38.301Z"
   },
   {
    "duration": 15,
    "start_time": "2022-09-29T06:39:38.320Z"
   },
   {
    "duration": 4,
    "start_time": "2022-09-29T06:39:38.337Z"
   },
   {
    "duration": 12,
    "start_time": "2022-09-29T06:39:38.343Z"
   },
   {
    "duration": 8,
    "start_time": "2022-09-29T06:39:38.357Z"
   },
   {
    "duration": 10,
    "start_time": "2022-09-29T06:39:38.366Z"
   },
   {
    "duration": 210,
    "start_time": "2022-09-29T06:39:38.377Z"
   },
   {
    "duration": 167,
    "start_time": "2022-09-29T06:39:38.590Z"
   },
   {
    "duration": 149,
    "start_time": "2022-09-29T06:39:38.758Z"
   },
   {
    "duration": 310,
    "start_time": "2022-09-29T06:39:38.909Z"
   },
   {
    "duration": 185,
    "start_time": "2022-09-29T06:39:39.221Z"
   },
   {
    "duration": 187,
    "start_time": "2022-09-29T06:39:39.408Z"
   },
   {
    "duration": 8,
    "start_time": "2022-09-29T06:39:39.596Z"
   },
   {
    "duration": 45,
    "start_time": "2022-09-29T06:39:39.606Z"
   },
   {
    "duration": 29,
    "start_time": "2022-09-29T06:39:39.653Z"
   },
   {
    "duration": 855,
    "start_time": "2022-09-29T06:39:39.684Z"
   },
   {
    "duration": 4902,
    "start_time": "2022-09-29T06:39:40.541Z"
   },
   {
    "duration": 1556,
    "start_time": "2022-09-29T06:39:45.444Z"
   },
   {
    "duration": 18,
    "start_time": "2022-09-29T06:39:47.002Z"
   },
   {
    "duration": 592,
    "start_time": "2022-09-29T06:39:47.022Z"
   },
   {
    "duration": 110921,
    "start_time": "2022-09-29T06:39:47.616Z"
   },
   {
    "duration": 1241,
    "start_time": "2022-09-29T06:41:38.539Z"
   },
   {
    "duration": 102,
    "start_time": "2022-09-29T06:41:39.782Z"
   },
   {
    "duration": 4,
    "start_time": "2022-09-29T06:41:39.885Z"
   },
   {
    "duration": 1474,
    "start_time": "2022-09-29T06:47:59.156Z"
   },
   {
    "duration": 35,
    "start_time": "2022-09-29T06:48:00.632Z"
   },
   {
    "duration": 20,
    "start_time": "2022-09-29T06:48:00.669Z"
   },
   {
    "duration": 21,
    "start_time": "2022-09-29T06:48:00.692Z"
   },
   {
    "duration": 29,
    "start_time": "2022-09-29T06:48:00.715Z"
   },
   {
    "duration": 26,
    "start_time": "2022-09-29T06:48:00.746Z"
   },
   {
    "duration": 31,
    "start_time": "2022-09-29T06:48:00.774Z"
   },
   {
    "duration": 36,
    "start_time": "2022-09-29T06:48:00.807Z"
   },
   {
    "duration": 217,
    "start_time": "2022-09-29T06:48:00.845Z"
   },
   {
    "duration": 178,
    "start_time": "2022-09-29T06:48:01.065Z"
   },
   {
    "duration": 156,
    "start_time": "2022-09-29T06:48:01.245Z"
   },
   {
    "duration": 302,
    "start_time": "2022-09-29T06:48:01.403Z"
   },
   {
    "duration": 186,
    "start_time": "2022-09-29T06:48:01.707Z"
   },
   {
    "duration": 185,
    "start_time": "2022-09-29T06:48:01.894Z"
   },
   {
    "duration": 9,
    "start_time": "2022-09-29T06:48:02.080Z"
   },
   {
    "duration": 103,
    "start_time": "2022-09-29T06:48:02.090Z"
   },
   {
    "duration": 103,
    "start_time": "2022-09-29T06:48:02.194Z"
   },
   {
    "duration": 777,
    "start_time": "2022-09-29T06:48:02.299Z"
   },
   {
    "duration": 4654,
    "start_time": "2022-09-29T06:48:03.078Z"
   },
   {
    "duration": 1566,
    "start_time": "2022-09-29T06:48:07.734Z"
   },
   {
    "duration": 14,
    "start_time": "2022-09-29T06:48:09.302Z"
   },
   {
    "duration": 508,
    "start_time": "2022-09-29T06:48:09.317Z"
   },
   {
    "duration": 113114,
    "start_time": "2022-09-29T06:48:09.826Z"
   },
   {
    "duration": 1137,
    "start_time": "2022-09-29T06:50:02.942Z"
   },
   {
    "duration": 104,
    "start_time": "2022-09-29T06:50:04.080Z"
   },
   {
    "duration": 130,
    "start_time": "2022-09-29T06:50:04.187Z"
   },
   {
    "duration": 957,
    "start_time": "2022-09-29T06:50:38.350Z"
   },
   {
    "duration": 1030,
    "start_time": "2022-09-29T06:51:06.471Z"
   },
   {
    "duration": 1201,
    "start_time": "2022-09-29T06:51:25.856Z"
   },
   {
    "duration": 6683,
    "start_time": "2022-09-29T06:51:48.996Z"
   },
   {
    "duration": 122,
    "start_time": "2022-09-29T06:54:00.960Z"
   },
   {
    "duration": 19,
    "start_time": "2022-09-29T06:54:31.973Z"
   },
   {
    "duration": 6889,
    "start_time": "2022-09-29T06:54:43.001Z"
   },
   {
    "duration": 13,
    "start_time": "2022-09-29T06:55:22.913Z"
   },
   {
    "duration": 120,
    "start_time": "2022-09-29T06:58:00.395Z"
   },
   {
    "duration": 1960,
    "start_time": "2022-09-29T06:58:17.710Z"
   },
   {
    "duration": 1233,
    "start_time": "2022-09-29T06:58:54.906Z"
   },
   {
    "duration": 7604,
    "start_time": "2022-09-29T06:59:11.031Z"
   },
   {
    "duration": 823,
    "start_time": "2022-09-29T06:59:38.314Z"
   },
   {
    "duration": 5463,
    "start_time": "2022-09-29T06:59:48.954Z"
   },
   {
    "duration": 1819,
    "start_time": "2022-09-29T07:00:12.910Z"
   },
   {
    "duration": 2008,
    "start_time": "2022-09-29T07:00:49.502Z"
   },
   {
    "duration": 2195,
    "start_time": "2022-09-29T07:01:01.180Z"
   },
   {
    "duration": 70,
    "start_time": "2022-09-29T07:05:29.833Z"
   },
   {
    "duration": 134,
    "start_time": "2022-09-29T07:05:51.200Z"
   },
   {
    "duration": 10,
    "start_time": "2022-09-29T07:06:28.409Z"
   },
   {
    "duration": 11,
    "start_time": "2022-09-29T07:11:32.480Z"
   },
   {
    "duration": 9,
    "start_time": "2022-09-29T07:11:42.362Z"
   },
   {
    "duration": 133,
    "start_time": "2022-09-29T07:11:55.893Z"
   },
   {
    "duration": 139,
    "start_time": "2022-09-29T07:12:15.450Z"
   },
   {
    "duration": 132,
    "start_time": "2022-09-29T07:14:17.610Z"
   },
   {
    "duration": 137,
    "start_time": "2022-09-29T07:14:56.072Z"
   },
   {
    "duration": 1687,
    "start_time": "2022-09-29T07:22:15.597Z"
   },
   {
    "duration": 1312,
    "start_time": "2022-09-29T07:36:31.085Z"
   },
   {
    "duration": 1393,
    "start_time": "2022-09-29T07:36:46.954Z"
   },
   {
    "duration": 32,
    "start_time": "2022-09-29T07:36:48.349Z"
   },
   {
    "duration": 16,
    "start_time": "2022-09-29T07:36:48.382Z"
   },
   {
    "duration": 12,
    "start_time": "2022-09-29T07:36:48.399Z"
   },
   {
    "duration": 3,
    "start_time": "2022-09-29T07:36:48.413Z"
   },
   {
    "duration": 12,
    "start_time": "2022-09-29T07:36:48.418Z"
   },
   {
    "duration": 8,
    "start_time": "2022-09-29T07:36:48.432Z"
   },
   {
    "duration": 10,
    "start_time": "2022-09-29T07:36:48.441Z"
   },
   {
    "duration": 208,
    "start_time": "2022-09-29T07:36:48.452Z"
   },
   {
    "duration": 184,
    "start_time": "2022-09-29T07:36:48.661Z"
   },
   {
    "duration": 135,
    "start_time": "2022-09-29T07:36:48.846Z"
   },
   {
    "duration": 293,
    "start_time": "2022-09-29T07:36:48.983Z"
   },
   {
    "duration": 169,
    "start_time": "2022-09-29T07:36:49.278Z"
   },
   {
    "duration": 179,
    "start_time": "2022-09-29T07:36:49.451Z"
   },
   {
    "duration": 7,
    "start_time": "2022-09-29T07:36:49.632Z"
   },
   {
    "duration": 51,
    "start_time": "2022-09-29T07:36:49.640Z"
   },
   {
    "duration": 9,
    "start_time": "2022-09-29T07:36:49.693Z"
   },
   {
    "duration": 762,
    "start_time": "2022-09-29T07:36:49.704Z"
   },
   {
    "duration": 124,
    "start_time": "2022-09-29T07:36:50.468Z"
   },
   {
    "duration": 0,
    "start_time": "2022-09-29T07:36:50.594Z"
   },
   {
    "duration": 0,
    "start_time": "2022-09-29T07:36:50.595Z"
   },
   {
    "duration": 0,
    "start_time": "2022-09-29T07:36:50.596Z"
   },
   {
    "duration": 0,
    "start_time": "2022-09-29T07:36:50.597Z"
   },
   {
    "duration": 0,
    "start_time": "2022-09-29T07:36:50.599Z"
   },
   {
    "duration": 0,
    "start_time": "2022-09-29T07:36:50.600Z"
   },
   {
    "duration": 0,
    "start_time": "2022-09-29T07:36:50.601Z"
   },
   {
    "duration": 0,
    "start_time": "2022-09-29T07:36:50.603Z"
   },
   {
    "duration": 0,
    "start_time": "2022-09-29T07:36:50.604Z"
   },
   {
    "duration": 0,
    "start_time": "2022-09-29T07:36:50.606Z"
   },
   {
    "duration": 1261,
    "start_time": "2022-09-29T07:37:04.909Z"
   },
   {
    "duration": 4716,
    "start_time": "2022-09-29T07:37:21.707Z"
   },
   {
    "duration": 9,
    "start_time": "2022-09-29T07:37:53.781Z"
   },
   {
    "duration": 8,
    "start_time": "2022-09-29T07:39:58.536Z"
   },
   {
    "duration": 2108,
    "start_time": "2022-09-29T07:40:34.254Z"
   },
   {
    "duration": 1342,
    "start_time": "2022-09-29T07:46:06.920Z"
   },
   {
    "duration": 32,
    "start_time": "2022-09-29T07:46:08.265Z"
   },
   {
    "duration": 17,
    "start_time": "2022-09-29T07:46:08.299Z"
   },
   {
    "duration": 12,
    "start_time": "2022-09-29T07:46:08.317Z"
   },
   {
    "duration": 2,
    "start_time": "2022-09-29T07:46:08.332Z"
   },
   {
    "duration": 7,
    "start_time": "2022-09-29T07:46:08.336Z"
   },
   {
    "duration": 5,
    "start_time": "2022-09-29T07:46:08.345Z"
   },
   {
    "duration": 22,
    "start_time": "2022-09-29T07:46:08.351Z"
   },
   {
    "duration": 188,
    "start_time": "2022-09-29T07:46:08.374Z"
   },
   {
    "duration": 166,
    "start_time": "2022-09-29T07:46:08.564Z"
   },
   {
    "duration": 138,
    "start_time": "2022-09-29T07:46:08.732Z"
   },
   {
    "duration": 282,
    "start_time": "2022-09-29T07:46:08.876Z"
   },
   {
    "duration": 167,
    "start_time": "2022-09-29T07:46:09.159Z"
   },
   {
    "duration": 167,
    "start_time": "2022-09-29T07:46:09.328Z"
   },
   {
    "duration": 8,
    "start_time": "2022-09-29T07:46:09.496Z"
   },
   {
    "duration": 42,
    "start_time": "2022-09-29T07:46:09.505Z"
   },
   {
    "duration": 31,
    "start_time": "2022-09-29T07:46:09.548Z"
   },
   {
    "duration": 747,
    "start_time": "2022-09-29T07:46:09.581Z"
   },
   {
    "duration": 4719,
    "start_time": "2022-09-29T07:46:10.329Z"
   },
   {
    "duration": 1658,
    "start_time": "2022-09-29T07:46:15.050Z"
   },
   {
    "duration": 17,
    "start_time": "2022-09-29T07:46:16.710Z"
   },
   {
    "duration": 538,
    "start_time": "2022-09-29T07:46:16.729Z"
   },
   {
    "duration": 108837,
    "start_time": "2022-09-29T07:46:17.269Z"
   },
   {
    "duration": 1277,
    "start_time": "2022-09-29T07:48:06.108Z"
   },
   {
    "duration": 13,
    "start_time": "2022-09-29T07:48:07.477Z"
   },
   {
    "duration": 924,
    "start_time": "2022-09-29T07:48:07.492Z"
   },
   {
    "duration": 2112,
    "start_time": "2022-09-29T07:48:08.417Z"
   },
   {
    "duration": 10,
    "start_time": "2022-09-29T07:48:10.544Z"
   },
   {
    "duration": 1642,
    "start_time": "2022-09-29T12:46:44.364Z"
   },
   {
    "duration": 71,
    "start_time": "2022-09-29T12:46:46.008Z"
   },
   {
    "duration": 18,
    "start_time": "2022-09-29T12:46:46.081Z"
   },
   {
    "duration": 12,
    "start_time": "2022-09-29T12:46:46.101Z"
   },
   {
    "duration": 4,
    "start_time": "2022-09-29T12:46:46.115Z"
   },
   {
    "duration": 7,
    "start_time": "2022-09-29T12:46:46.121Z"
   },
   {
    "duration": 6,
    "start_time": "2022-09-29T12:46:46.130Z"
   },
   {
    "duration": 7,
    "start_time": "2022-09-29T12:46:46.138Z"
   },
   {
    "duration": 212,
    "start_time": "2022-09-29T12:46:46.147Z"
   },
   {
    "duration": 185,
    "start_time": "2022-09-29T12:46:46.360Z"
   },
   {
    "duration": 155,
    "start_time": "2022-09-29T12:46:46.548Z"
   },
   {
    "duration": 320,
    "start_time": "2022-09-29T12:46:46.705Z"
   },
   {
    "duration": 197,
    "start_time": "2022-09-29T12:46:47.027Z"
   },
   {
    "duration": 216,
    "start_time": "2022-09-29T12:46:47.228Z"
   },
   {
    "duration": 9,
    "start_time": "2022-09-29T12:46:47.446Z"
   },
   {
    "duration": 53,
    "start_time": "2022-09-29T12:46:47.456Z"
   },
   {
    "duration": 18,
    "start_time": "2022-09-29T12:46:47.511Z"
   },
   {
    "duration": 874,
    "start_time": "2022-09-29T12:46:47.531Z"
   },
   {
    "duration": 4984,
    "start_time": "2022-09-29T12:46:48.408Z"
   },
   {
    "duration": 1685,
    "start_time": "2022-09-29T12:46:53.394Z"
   },
   {
    "duration": 18,
    "start_time": "2022-09-29T12:46:55.081Z"
   },
   {
    "duration": 590,
    "start_time": "2022-09-29T12:46:55.101Z"
   },
   {
    "duration": 119572,
    "start_time": "2022-09-29T12:46:55.693Z"
   },
   {
    "duration": 1353,
    "start_time": "2022-09-29T12:48:55.267Z"
   },
   {
    "duration": 14,
    "start_time": "2022-09-29T12:48:56.622Z"
   },
   {
    "duration": 1048,
    "start_time": "2022-09-29T12:48:56.637Z"
   },
   {
    "duration": 2434,
    "start_time": "2022-09-29T12:48:57.687Z"
   },
   {
    "duration": 12,
    "start_time": "2022-09-29T12:49:00.124Z"
   },
   {
    "duration": 1712,
    "start_time": "2022-09-29T12:53:03.541Z"
   },
   {
    "duration": 1599,
    "start_time": "2022-09-29T12:53:40.163Z"
   },
   {
    "duration": 33,
    "start_time": "2022-09-29T12:53:41.764Z"
   },
   {
    "duration": 30,
    "start_time": "2022-09-29T12:53:41.799Z"
   },
   {
    "duration": 23,
    "start_time": "2022-09-29T12:53:41.831Z"
   },
   {
    "duration": 3,
    "start_time": "2022-09-29T12:53:41.857Z"
   },
   {
    "duration": 16,
    "start_time": "2022-09-29T12:53:41.862Z"
   },
   {
    "duration": 42,
    "start_time": "2022-09-29T12:53:41.880Z"
   },
   {
    "duration": 22,
    "start_time": "2022-09-29T12:53:41.924Z"
   },
   {
    "duration": 208,
    "start_time": "2022-09-29T12:53:41.947Z"
   },
   {
    "duration": 188,
    "start_time": "2022-09-29T12:53:42.157Z"
   },
   {
    "duration": 157,
    "start_time": "2022-09-29T12:53:42.347Z"
   },
   {
    "duration": 327,
    "start_time": "2022-09-29T12:53:42.505Z"
   },
   {
    "duration": 189,
    "start_time": "2022-09-29T12:53:42.833Z"
   },
   {
    "duration": 189,
    "start_time": "2022-09-29T12:53:43.025Z"
   },
   {
    "duration": 8,
    "start_time": "2022-09-29T12:53:43.220Z"
   },
   {
    "duration": 45,
    "start_time": "2022-09-29T12:53:43.230Z"
   },
   {
    "duration": 12,
    "start_time": "2022-09-29T12:53:43.278Z"
   },
   {
    "duration": 839,
    "start_time": "2022-09-29T12:53:43.291Z"
   },
   {
    "duration": 4934,
    "start_time": "2022-09-29T12:53:44.132Z"
   },
   {
    "duration": 1695,
    "start_time": "2022-09-29T12:53:49.068Z"
   },
   {
    "duration": 20,
    "start_time": "2022-09-29T12:53:50.765Z"
   },
   {
    "duration": 605,
    "start_time": "2022-09-29T12:53:50.787Z"
   },
   {
    "duration": 119811,
    "start_time": "2022-09-29T12:53:51.394Z"
   },
   {
    "duration": 1116,
    "start_time": "2022-09-29T12:55:51.206Z"
   },
   {
    "duration": 98,
    "start_time": "2022-09-29T12:55:52.324Z"
   },
   {
    "duration": 1074,
    "start_time": "2022-09-29T12:55:52.424Z"
   },
   {
    "duration": 2325,
    "start_time": "2022-09-29T12:55:53.499Z"
   },
   {
    "duration": 12,
    "start_time": "2022-09-29T12:55:55.827Z"
   },
   {
    "duration": 1526,
    "start_time": "2022-09-29T13:14:49.071Z"
   },
   {
    "duration": 34,
    "start_time": "2022-09-29T13:14:50.599Z"
   },
   {
    "duration": 21,
    "start_time": "2022-09-29T13:14:50.634Z"
   },
   {
    "duration": 12,
    "start_time": "2022-09-29T13:14:50.658Z"
   },
   {
    "duration": 3,
    "start_time": "2022-09-29T13:14:50.672Z"
   },
   {
    "duration": 6,
    "start_time": "2022-09-29T13:14:50.677Z"
   },
   {
    "duration": 9,
    "start_time": "2022-09-29T13:14:50.684Z"
   },
   {
    "duration": 28,
    "start_time": "2022-09-29T13:14:50.695Z"
   },
   {
    "duration": 212,
    "start_time": "2022-09-29T13:14:50.725Z"
   },
   {
    "duration": 186,
    "start_time": "2022-09-29T13:14:50.939Z"
   },
   {
    "duration": 163,
    "start_time": "2022-09-29T13:14:51.126Z"
   },
   {
    "duration": 334,
    "start_time": "2022-09-29T13:14:51.291Z"
   },
   {
    "duration": 203,
    "start_time": "2022-09-29T13:14:51.627Z"
   },
   {
    "duration": 193,
    "start_time": "2022-09-29T13:14:51.832Z"
   },
   {
    "duration": 8,
    "start_time": "2022-09-29T13:14:52.028Z"
   },
   {
    "duration": 59,
    "start_time": "2022-09-29T13:14:52.038Z"
   },
   {
    "duration": 25,
    "start_time": "2022-09-29T13:14:52.099Z"
   },
   {
    "duration": 877,
    "start_time": "2022-09-29T13:14:52.127Z"
   },
   {
    "duration": 5134,
    "start_time": "2022-09-29T13:14:53.005Z"
   },
   {
    "duration": 1754,
    "start_time": "2022-09-29T13:14:58.141Z"
   },
   {
    "duration": 119,
    "start_time": "2022-09-29T13:14:59.897Z"
   },
   {
    "duration": 0,
    "start_time": "2022-09-29T13:15:00.018Z"
   },
   {
    "duration": 0,
    "start_time": "2022-09-29T13:15:00.020Z"
   },
   {
    "duration": 0,
    "start_time": "2022-09-29T13:15:00.022Z"
   },
   {
    "duration": 0,
    "start_time": "2022-09-29T13:15:00.023Z"
   },
   {
    "duration": 0,
    "start_time": "2022-09-29T13:15:00.025Z"
   },
   {
    "duration": 0,
    "start_time": "2022-09-29T13:15:00.026Z"
   },
   {
    "duration": 1,
    "start_time": "2022-09-29T13:15:00.027Z"
   },
   {
    "duration": 0,
    "start_time": "2022-09-29T13:15:00.029Z"
   },
   {
    "duration": 0,
    "start_time": "2022-09-29T13:15:00.030Z"
   },
   {
    "duration": 4,
    "start_time": "2022-09-29T13:16:46.391Z"
   },
   {
    "duration": 12,
    "start_time": "2022-09-29T13:16:48.071Z"
   },
   {
    "duration": 10,
    "start_time": "2022-09-29T13:17:10.911Z"
   },
   {
    "duration": 10,
    "start_time": "2022-09-29T13:17:35.166Z"
   },
   {
    "duration": 17,
    "start_time": "2022-09-29T13:21:38.900Z"
   },
   {
    "duration": 21,
    "start_time": "2022-09-29T13:21:39.061Z"
   },
   {
    "duration": 1700,
    "start_time": "2022-09-29T13:21:47.422Z"
   },
   {
    "duration": 48,
    "start_time": "2022-09-29T13:21:49.126Z"
   },
   {
    "duration": 31,
    "start_time": "2022-09-29T13:21:49.177Z"
   },
   {
    "duration": 44,
    "start_time": "2022-09-29T13:21:49.212Z"
   },
   {
    "duration": 12,
    "start_time": "2022-09-29T13:21:49.259Z"
   },
   {
    "duration": 29,
    "start_time": "2022-09-29T13:21:49.274Z"
   },
   {
    "duration": 42,
    "start_time": "2022-09-29T13:21:49.305Z"
   },
   {
    "duration": 31,
    "start_time": "2022-09-29T13:21:49.349Z"
   },
   {
    "duration": 288,
    "start_time": "2022-09-29T13:21:49.382Z"
   },
   {
    "duration": 208,
    "start_time": "2022-09-29T13:21:49.673Z"
   },
   {
    "duration": 177,
    "start_time": "2022-09-29T13:21:49.883Z"
   },
   {
    "duration": 352,
    "start_time": "2022-09-29T13:21:50.063Z"
   },
   {
    "duration": 227,
    "start_time": "2022-09-29T13:21:50.420Z"
   },
   {
    "duration": 209,
    "start_time": "2022-09-29T13:21:50.649Z"
   },
   {
    "duration": 9,
    "start_time": "2022-09-29T13:21:50.861Z"
   },
   {
    "duration": 61,
    "start_time": "2022-09-29T13:21:50.872Z"
   },
   {
    "duration": 14,
    "start_time": "2022-09-29T13:21:50.935Z"
   },
   {
    "duration": 976,
    "start_time": "2022-09-29T13:21:50.951Z"
   },
   {
    "duration": 5392,
    "start_time": "2022-09-29T13:21:51.930Z"
   },
   {
    "duration": 1899,
    "start_time": "2022-09-29T13:21:57.324Z"
   },
   {
    "duration": 23,
    "start_time": "2022-09-29T13:21:59.226Z"
   },
   {
    "duration": 579,
    "start_time": "2022-09-29T13:21:59.251Z"
   },
   {
    "duration": 127247,
    "start_time": "2022-09-29T13:21:59.832Z"
   },
   {
    "duration": 1239,
    "start_time": "2022-09-29T13:24:07.082Z"
   },
   {
    "duration": 94,
    "start_time": "2022-09-29T13:24:08.327Z"
   },
   {
    "duration": 1250,
    "start_time": "2022-09-29T13:24:08.432Z"
   },
   {
    "duration": 2521,
    "start_time": "2022-09-29T13:24:09.685Z"
   },
   {
    "duration": 26,
    "start_time": "2022-09-29T13:24:12.210Z"
   },
   {
    "duration": 1929,
    "start_time": "2022-09-29T14:50:45.061Z"
   },
   {
    "duration": 2631,
    "start_time": "2022-09-29T14:51:09.354Z"
   },
   {
    "duration": 273,
    "start_time": "2022-09-29T14:51:34.520Z"
   },
   {
    "duration": 2392,
    "start_time": "2022-09-29T14:51:58.294Z"
   },
   {
    "duration": 1511,
    "start_time": "2022-09-29T15:24:35.581Z"
   },
   {
    "duration": 34,
    "start_time": "2022-09-29T15:24:37.094Z"
   },
   {
    "duration": 20,
    "start_time": "2022-09-29T15:24:37.130Z"
   },
   {
    "duration": 15,
    "start_time": "2022-09-29T15:24:37.153Z"
   },
   {
    "duration": 4,
    "start_time": "2022-09-29T15:24:37.171Z"
   },
   {
    "duration": 46,
    "start_time": "2022-09-29T15:24:37.177Z"
   },
   {
    "duration": 9,
    "start_time": "2022-09-29T15:24:37.226Z"
   },
   {
    "duration": 20,
    "start_time": "2022-09-29T15:24:37.237Z"
   },
   {
    "duration": 219,
    "start_time": "2022-09-29T15:24:37.259Z"
   },
   {
    "duration": 189,
    "start_time": "2022-09-29T15:24:37.480Z"
   },
   {
    "duration": 192,
    "start_time": "2022-09-29T15:24:37.671Z"
   },
   {
    "duration": 347,
    "start_time": "2022-09-29T15:24:37.865Z"
   },
   {
    "duration": 223,
    "start_time": "2022-09-29T15:24:38.214Z"
   },
   {
    "duration": 208,
    "start_time": "2022-09-29T15:24:38.440Z"
   },
   {
    "duration": 9,
    "start_time": "2022-09-29T15:24:38.650Z"
   },
   {
    "duration": 86,
    "start_time": "2022-09-29T15:24:38.661Z"
   },
   {
    "duration": 16,
    "start_time": "2022-09-29T15:24:38.750Z"
   },
   {
    "duration": 1034,
    "start_time": "2022-09-29T15:24:38.768Z"
   },
   {
    "duration": 5299,
    "start_time": "2022-09-29T15:24:39.804Z"
   },
   {
    "duration": 1720,
    "start_time": "2022-09-29T15:24:45.105Z"
   },
   {
    "duration": 23,
    "start_time": "2022-09-29T15:24:46.827Z"
   },
   {
    "duration": 563,
    "start_time": "2022-09-29T15:24:46.852Z"
   },
   {
    "duration": 124403,
    "start_time": "2022-09-29T15:24:47.417Z"
   },
   {
    "duration": 1013,
    "start_time": "2022-09-29T15:26:51.822Z"
   },
   {
    "duration": 97,
    "start_time": "2022-09-29T15:26:52.840Z"
   },
   {
    "duration": 1156,
    "start_time": "2022-09-29T15:26:52.939Z"
   },
   {
    "duration": 2446,
    "start_time": "2022-09-29T15:26:54.096Z"
   },
   {
    "duration": 11,
    "start_time": "2022-09-29T15:26:56.544Z"
   },
   {
    "duration": 2014,
    "start_time": "2022-09-30T03:00:32.700Z"
   },
   {
    "duration": 72,
    "start_time": "2022-09-30T03:00:34.717Z"
   },
   {
    "duration": 19,
    "start_time": "2022-09-30T03:00:34.791Z"
   },
   {
    "duration": 13,
    "start_time": "2022-09-30T03:00:34.813Z"
   },
   {
    "duration": 3,
    "start_time": "2022-09-30T03:00:34.828Z"
   },
   {
    "duration": 17,
    "start_time": "2022-09-30T03:00:34.833Z"
   },
   {
    "duration": 8,
    "start_time": "2022-09-30T03:00:34.852Z"
   },
   {
    "duration": 14,
    "start_time": "2022-09-30T03:00:34.862Z"
   },
   {
    "duration": 181,
    "start_time": "2022-09-30T03:00:34.878Z"
   },
   {
    "duration": 180,
    "start_time": "2022-09-30T03:00:35.061Z"
   },
   {
    "duration": 147,
    "start_time": "2022-09-30T03:00:35.243Z"
   },
   {
    "duration": 316,
    "start_time": "2022-09-30T03:00:35.392Z"
   },
   {
    "duration": 171,
    "start_time": "2022-09-30T03:00:35.710Z"
   },
   {
    "duration": 175,
    "start_time": "2022-09-30T03:00:35.883Z"
   },
   {
    "duration": 8,
    "start_time": "2022-09-30T03:00:36.059Z"
   },
   {
    "duration": 46,
    "start_time": "2022-09-30T03:00:36.068Z"
   },
   {
    "duration": 10,
    "start_time": "2022-09-30T03:00:36.115Z"
   },
   {
    "duration": 794,
    "start_time": "2022-09-30T03:00:36.127Z"
   },
   {
    "duration": 4854,
    "start_time": "2022-09-30T03:00:36.923Z"
   },
   {
    "duration": 1514,
    "start_time": "2022-09-30T03:00:41.779Z"
   },
   {
    "duration": 15,
    "start_time": "2022-09-30T03:00:43.294Z"
   },
   {
    "duration": 507,
    "start_time": "2022-09-30T03:00:43.310Z"
   },
   {
    "duration": 112285,
    "start_time": "2022-09-30T03:00:43.818Z"
   },
   {
    "duration": 1251,
    "start_time": "2022-09-30T03:02:36.105Z"
   },
   {
    "duration": 105,
    "start_time": "2022-09-30T03:02:37.358Z"
   },
   {
    "duration": 957,
    "start_time": "2022-09-30T03:02:37.465Z"
   },
   {
    "duration": 2275,
    "start_time": "2022-09-30T03:02:38.423Z"
   },
   {
    "duration": 10,
    "start_time": "2022-09-30T03:02:40.702Z"
   },
   {
    "duration": 1710,
    "start_time": "2022-09-30T04:29:36.945Z"
   },
   {
    "duration": 87,
    "start_time": "2022-09-30T04:29:38.657Z"
   },
   {
    "duration": 17,
    "start_time": "2022-09-30T04:29:38.746Z"
   },
   {
    "duration": 11,
    "start_time": "2022-09-30T04:29:38.765Z"
   },
   {
    "duration": 32,
    "start_time": "2022-09-30T04:29:38.777Z"
   },
   {
    "duration": 10,
    "start_time": "2022-09-30T04:29:38.812Z"
   },
   {
    "duration": 4,
    "start_time": "2022-09-30T04:29:38.823Z"
   },
   {
    "duration": 8,
    "start_time": "2022-09-30T04:29:38.829Z"
   },
   {
    "duration": 186,
    "start_time": "2022-09-30T04:29:38.838Z"
   },
   {
    "duration": 190,
    "start_time": "2022-09-30T04:29:39.027Z"
   },
   {
    "duration": 136,
    "start_time": "2022-09-30T04:29:39.219Z"
   },
   {
    "duration": 293,
    "start_time": "2022-09-30T04:29:39.357Z"
   },
   {
    "duration": 187,
    "start_time": "2022-09-30T04:29:39.651Z"
   },
   {
    "duration": 186,
    "start_time": "2022-09-30T04:29:39.840Z"
   },
   {
    "duration": 9,
    "start_time": "2022-09-30T04:29:40.028Z"
   },
   {
    "duration": 63,
    "start_time": "2022-09-30T04:29:40.039Z"
   },
   {
    "duration": 20,
    "start_time": "2022-09-30T04:29:40.103Z"
   },
   {
    "duration": 806,
    "start_time": "2022-09-30T04:29:40.125Z"
   },
   {
    "duration": 4923,
    "start_time": "2022-09-30T04:29:40.933Z"
   },
   {
    "duration": 1783,
    "start_time": "2022-09-30T04:29:45.857Z"
   },
   {
    "duration": 14,
    "start_time": "2022-09-30T04:29:47.642Z"
   },
   {
    "duration": 540,
    "start_time": "2022-09-30T04:29:47.657Z"
   },
   {
    "duration": 119128,
    "start_time": "2022-09-30T04:29:48.204Z"
   },
   {
    "duration": 976,
    "start_time": "2022-09-30T04:31:47.333Z"
   },
   {
    "duration": 83,
    "start_time": "2022-09-30T04:31:48.311Z"
   },
   {
    "duration": 1016,
    "start_time": "2022-09-30T04:31:48.397Z"
   },
   {
    "duration": 2212,
    "start_time": "2022-09-30T04:31:49.414Z"
   },
   {
    "duration": 10,
    "start_time": "2022-09-30T04:31:51.630Z"
   },
   {
    "duration": 1676,
    "start_time": "2022-09-30T04:32:22.957Z"
   },
   {
    "duration": 34,
    "start_time": "2022-09-30T04:32:24.634Z"
   },
   {
    "duration": 32,
    "start_time": "2022-09-30T04:32:24.669Z"
   },
   {
    "duration": 30,
    "start_time": "2022-09-30T04:32:24.703Z"
   },
   {
    "duration": 4,
    "start_time": "2022-09-30T04:32:24.735Z"
   },
   {
    "duration": 7,
    "start_time": "2022-09-30T04:32:24.740Z"
   },
   {
    "duration": 12,
    "start_time": "2022-09-30T04:32:24.749Z"
   },
   {
    "duration": 12,
    "start_time": "2022-09-30T04:32:24.763Z"
   },
   {
    "duration": 229,
    "start_time": "2022-09-30T04:32:24.783Z"
   },
   {
    "duration": 178,
    "start_time": "2022-09-30T04:32:25.017Z"
   },
   {
    "duration": 157,
    "start_time": "2022-09-30T04:32:25.197Z"
   },
   {
    "duration": 372,
    "start_time": "2022-09-30T04:32:25.355Z"
   },
   {
    "duration": 204,
    "start_time": "2022-09-30T04:32:25.729Z"
   },
   {
    "duration": 185,
    "start_time": "2022-09-30T04:32:25.935Z"
   },
   {
    "duration": 8,
    "start_time": "2022-09-30T04:32:26.122Z"
   },
   {
    "duration": 54,
    "start_time": "2022-09-30T04:32:26.131Z"
   },
   {
    "duration": 14,
    "start_time": "2022-09-30T04:32:26.186Z"
   },
   {
    "duration": 823,
    "start_time": "2022-09-30T04:32:26.204Z"
   },
   {
    "duration": 4847,
    "start_time": "2022-09-30T04:32:27.032Z"
   },
   {
    "duration": 1755,
    "start_time": "2022-09-30T04:32:31.881Z"
   },
   {
    "duration": 15,
    "start_time": "2022-09-30T04:32:33.638Z"
   },
   {
    "duration": 612,
    "start_time": "2022-09-30T04:32:33.655Z"
   },
   {
    "duration": 120975,
    "start_time": "2022-09-30T04:32:34.269Z"
   },
   {
    "duration": 978,
    "start_time": "2022-09-30T04:34:35.247Z"
   },
   {
    "duration": 23,
    "start_time": "2022-09-30T04:34:36.288Z"
   },
   {
    "duration": 1049,
    "start_time": "2022-09-30T04:34:36.316Z"
   },
   {
    "duration": 2342,
    "start_time": "2022-09-30T04:34:37.367Z"
   },
   {
    "duration": 11,
    "start_time": "2022-09-30T04:34:39.719Z"
   },
   {
    "duration": 52,
    "start_time": "2022-09-30T06:37:38.555Z"
   },
   {
    "duration": 7,
    "start_time": "2022-09-30T06:58:13.323Z"
   },
   {
    "duration": 1651,
    "start_time": "2022-09-30T06:58:25.397Z"
   },
   {
    "duration": 73,
    "start_time": "2022-09-30T06:58:27.050Z"
   },
   {
    "duration": 18,
    "start_time": "2022-09-30T06:58:27.124Z"
   },
   {
    "duration": 13,
    "start_time": "2022-09-30T06:58:27.144Z"
   },
   {
    "duration": 3,
    "start_time": "2022-09-30T06:58:27.158Z"
   },
   {
    "duration": 13,
    "start_time": "2022-09-30T06:58:27.163Z"
   },
   {
    "duration": 8,
    "start_time": "2022-09-30T06:58:27.178Z"
   },
   {
    "duration": 21,
    "start_time": "2022-09-30T06:58:27.188Z"
   },
   {
    "duration": 196,
    "start_time": "2022-09-30T06:58:27.210Z"
   },
   {
    "duration": 182,
    "start_time": "2022-09-30T06:58:27.408Z"
   },
   {
    "duration": 152,
    "start_time": "2022-09-30T06:58:27.592Z"
   },
   {
    "duration": 334,
    "start_time": "2022-09-30T06:58:27.746Z"
   },
   {
    "duration": 192,
    "start_time": "2022-09-30T06:58:28.082Z"
   },
   {
    "duration": 195,
    "start_time": "2022-09-30T06:58:28.276Z"
   },
   {
    "duration": 10,
    "start_time": "2022-09-30T06:58:28.473Z"
   },
   {
    "duration": 62,
    "start_time": "2022-09-30T06:58:28.485Z"
   },
   {
    "duration": 12,
    "start_time": "2022-09-30T06:58:28.549Z"
   },
   {
    "duration": 143,
    "start_time": "2022-09-30T06:58:28.563Z"
   },
   {
    "duration": 0,
    "start_time": "2022-09-30T06:58:28.708Z"
   },
   {
    "duration": 0,
    "start_time": "2022-09-30T06:58:28.710Z"
   },
   {
    "duration": 0,
    "start_time": "2022-09-30T06:58:28.711Z"
   },
   {
    "duration": 0,
    "start_time": "2022-09-30T06:58:28.714Z"
   },
   {
    "duration": 0,
    "start_time": "2022-09-30T06:58:28.715Z"
   },
   {
    "duration": 0,
    "start_time": "2022-09-30T06:58:28.716Z"
   },
   {
    "duration": 0,
    "start_time": "2022-09-30T06:58:28.718Z"
   },
   {
    "duration": 0,
    "start_time": "2022-09-30T06:58:28.720Z"
   },
   {
    "duration": 0,
    "start_time": "2022-09-30T06:58:28.721Z"
   },
   {
    "duration": 0,
    "start_time": "2022-09-30T06:58:28.722Z"
   },
   {
    "duration": 0,
    "start_time": "2022-09-30T06:58:28.724Z"
   },
   {
    "duration": 0,
    "start_time": "2022-09-30T06:58:28.725Z"
   },
   {
    "duration": 895,
    "start_time": "2022-09-30T06:59:02.678Z"
   },
   {
    "duration": 957,
    "start_time": "2022-09-30T06:59:15.102Z"
   },
   {
    "duration": 4873,
    "start_time": "2022-09-30T07:04:56.539Z"
   },
   {
    "duration": 1001,
    "start_time": "2022-09-30T07:15:35.850Z"
   },
   {
    "duration": 1242,
    "start_time": "2022-09-30T07:15:57.872Z"
   },
   {
    "duration": 829,
    "start_time": "2022-09-30T07:17:07.705Z"
   },
   {
    "duration": 186,
    "start_time": "2022-09-30T07:25:36.924Z"
   },
   {
    "duration": 292,
    "start_time": "2022-09-30T07:26:29.264Z"
   },
   {
    "duration": 233,
    "start_time": "2022-09-30T07:26:54.610Z"
   },
   {
    "duration": 542,
    "start_time": "2022-09-30T07:28:13.883Z"
   },
   {
    "duration": 473,
    "start_time": "2022-09-30T07:28:49.645Z"
   },
   {
    "duration": 410,
    "start_time": "2022-09-30T07:30:06.907Z"
   },
   {
    "duration": 405,
    "start_time": "2022-09-30T07:32:00.717Z"
   },
   {
    "duration": 2718,
    "start_time": "2022-09-30T07:32:52.936Z"
   },
   {
    "duration": 380,
    "start_time": "2022-09-30T07:33:23.040Z"
   },
   {
    "duration": 549,
    "start_time": "2022-09-30T07:33:43.871Z"
   },
   {
    "duration": 841,
    "start_time": "2022-09-30T07:34:02.519Z"
   },
   {
    "duration": 641,
    "start_time": "2022-09-30T07:37:09.133Z"
   },
   {
    "duration": 117,
    "start_time": "2022-09-30T07:38:11.160Z"
   },
   {
    "duration": 49,
    "start_time": "2022-09-30T07:38:23.627Z"
   },
   {
    "duration": 1014,
    "start_time": "2022-09-30T07:38:40.657Z"
   },
   {
    "duration": 941,
    "start_time": "2022-09-30T07:39:11.857Z"
   },
   {
    "duration": 109,
    "start_time": "2022-09-30T07:39:36.565Z"
   },
   {
    "duration": 901,
    "start_time": "2022-09-30T07:39:47.039Z"
   },
   {
    "duration": 1016,
    "start_time": "2022-09-30T07:41:01.670Z"
   },
   {
    "duration": 4980,
    "start_time": "2022-09-30T07:42:45.676Z"
   },
   {
    "duration": 4648,
    "start_time": "2022-09-30T07:44:13.060Z"
   },
   {
    "duration": 4560,
    "start_time": "2022-09-30T07:45:01.083Z"
   },
   {
    "duration": 2186,
    "start_time": "2022-09-30T07:48:06.211Z"
   },
   {
    "duration": 2623,
    "start_time": "2022-09-30T07:48:43.325Z"
   },
   {
    "duration": 2600,
    "start_time": "2022-09-30T07:50:09.570Z"
   },
   {
    "duration": 2694,
    "start_time": "2022-09-30T07:50:27.245Z"
   },
   {
    "duration": 2440,
    "start_time": "2022-09-30T07:50:42.921Z"
   },
   {
    "duration": 2379,
    "start_time": "2022-09-30T07:51:05.252Z"
   },
   {
    "duration": 2502,
    "start_time": "2022-09-30T07:51:19.821Z"
   },
   {
    "duration": 2442,
    "start_time": "2022-09-30T07:51:30.423Z"
   },
   {
    "duration": 2389,
    "start_time": "2022-09-30T07:52:29.356Z"
   },
   {
    "duration": 2699,
    "start_time": "2022-09-30T07:52:38.683Z"
   },
   {
    "duration": 2652,
    "start_time": "2022-09-30T07:52:51.854Z"
   },
   {
    "duration": 2540,
    "start_time": "2022-09-30T07:53:06.840Z"
   },
   {
    "duration": 2469,
    "start_time": "2022-09-30T07:53:20.723Z"
   },
   {
    "duration": 2572,
    "start_time": "2022-09-30T07:53:27.215Z"
   },
   {
    "duration": 1571,
    "start_time": "2022-09-30T07:54:02.779Z"
   },
   {
    "duration": 1468,
    "start_time": "2022-09-30T08:25:31.716Z"
   },
   {
    "duration": 35,
    "start_time": "2022-09-30T08:25:33.186Z"
   },
   {
    "duration": 18,
    "start_time": "2022-09-30T08:25:33.222Z"
   },
   {
    "duration": 14,
    "start_time": "2022-09-30T08:25:33.242Z"
   },
   {
    "duration": 7,
    "start_time": "2022-09-30T08:25:33.258Z"
   },
   {
    "duration": 13,
    "start_time": "2022-09-30T08:25:33.267Z"
   },
   {
    "duration": 9,
    "start_time": "2022-09-30T08:25:33.281Z"
   },
   {
    "duration": 12,
    "start_time": "2022-09-30T08:25:33.292Z"
   },
   {
    "duration": 193,
    "start_time": "2022-09-30T08:25:33.321Z"
   },
   {
    "duration": 179,
    "start_time": "2022-09-30T08:25:33.520Z"
   },
   {
    "duration": 172,
    "start_time": "2022-09-30T08:25:33.701Z"
   },
   {
    "duration": 314,
    "start_time": "2022-09-30T08:25:33.875Z"
   },
   {
    "duration": 192,
    "start_time": "2022-09-30T08:25:34.191Z"
   },
   {
    "duration": 195,
    "start_time": "2022-09-30T08:25:34.388Z"
   },
   {
    "duration": 9,
    "start_time": "2022-09-30T08:25:34.585Z"
   },
   {
    "duration": 62,
    "start_time": "2022-09-30T08:25:34.595Z"
   },
   {
    "duration": 14,
    "start_time": "2022-09-30T08:25:34.659Z"
   },
   {
    "duration": 894,
    "start_time": "2022-09-30T08:25:34.675Z"
   },
   {
    "duration": 2552,
    "start_time": "2022-09-30T08:25:35.571Z"
   },
   {
    "duration": 1596,
    "start_time": "2022-09-30T08:25:38.125Z"
   },
   {
    "duration": 29,
    "start_time": "2022-09-30T08:25:39.723Z"
   },
   {
    "duration": 562,
    "start_time": "2022-09-30T08:25:39.754Z"
   },
   {
    "duration": 119602,
    "start_time": "2022-09-30T08:25:40.320Z"
   },
   {
    "duration": 1300,
    "start_time": "2022-09-30T08:27:39.923Z"
   },
   {
    "duration": 98,
    "start_time": "2022-09-30T08:27:41.224Z"
   },
   {
    "duration": 1110,
    "start_time": "2022-09-30T08:27:41.324Z"
   },
   {
    "duration": 2359,
    "start_time": "2022-09-30T08:27:42.436Z"
   },
   {
    "duration": 10,
    "start_time": "2022-09-30T08:27:44.797Z"
   },
   {
    "duration": 19,
    "start_time": "2022-09-30T08:29:49.815Z"
   },
   {
    "duration": 1548,
    "start_time": "2022-09-30T08:29:54.413Z"
   },
   {
    "duration": 34,
    "start_time": "2022-09-30T08:29:55.963Z"
   },
   {
    "duration": 17,
    "start_time": "2022-09-30T08:29:55.999Z"
   },
   {
    "duration": 21,
    "start_time": "2022-09-30T08:29:56.018Z"
   },
   {
    "duration": 4,
    "start_time": "2022-09-30T08:29:56.041Z"
   },
   {
    "duration": 19,
    "start_time": "2022-09-30T08:29:56.046Z"
   },
   {
    "duration": 9,
    "start_time": "2022-09-30T08:29:56.067Z"
   },
   {
    "duration": 12,
    "start_time": "2022-09-30T08:29:56.078Z"
   },
   {
    "duration": 187,
    "start_time": "2022-09-30T08:29:56.092Z"
   },
   {
    "duration": 170,
    "start_time": "2022-09-30T08:29:56.281Z"
   },
   {
    "duration": 156,
    "start_time": "2022-09-30T08:29:56.452Z"
   },
   {
    "duration": 314,
    "start_time": "2022-09-30T08:29:56.609Z"
   },
   {
    "duration": 195,
    "start_time": "2022-09-30T08:29:56.925Z"
   },
   {
    "duration": 191,
    "start_time": "2022-09-30T08:29:57.123Z"
   },
   {
    "duration": 10,
    "start_time": "2022-09-30T08:29:57.320Z"
   },
   {
    "duration": 48,
    "start_time": "2022-09-30T08:29:57.332Z"
   },
   {
    "duration": 12,
    "start_time": "2022-09-30T08:29:57.382Z"
   },
   {
    "duration": 943,
    "start_time": "2022-09-30T08:29:57.420Z"
   },
   {
    "duration": 2658,
    "start_time": "2022-09-30T08:29:58.365Z"
   },
   {
    "duration": 1516,
    "start_time": "2022-09-30T08:30:01.024Z"
   },
   {
    "duration": 16,
    "start_time": "2022-09-30T08:30:02.542Z"
   },
   {
    "duration": 625,
    "start_time": "2022-09-30T08:30:02.560Z"
   },
   {
    "duration": 119002,
    "start_time": "2022-09-30T08:30:03.186Z"
   },
   {
    "duration": 1235,
    "start_time": "2022-09-30T08:32:02.189Z"
   },
   {
    "duration": 105,
    "start_time": "2022-09-30T08:32:03.428Z"
   },
   {
    "duration": 1048,
    "start_time": "2022-09-30T08:32:03.535Z"
   },
   {
    "duration": 2312,
    "start_time": "2022-09-30T08:32:04.585Z"
   },
   {
    "duration": 11,
    "start_time": "2022-09-30T08:32:06.898Z"
   },
   {
    "duration": 92,
    "start_time": "2022-09-30T10:00:47.119Z"
   },
   {
    "duration": 36,
    "start_time": "2022-09-30T10:01:38.960Z"
   },
   {
    "duration": 30,
    "start_time": "2022-09-30T10:04:14.314Z"
   },
   {
    "duration": 7,
    "start_time": "2022-09-30T10:05:56.537Z"
   },
   {
    "duration": 1408,
    "start_time": "2022-09-30T10:08:21.175Z"
   },
   {
    "duration": 35,
    "start_time": "2022-09-30T10:08:22.585Z"
   },
   {
    "duration": 19,
    "start_time": "2022-09-30T10:08:22.621Z"
   },
   {
    "duration": 23,
    "start_time": "2022-09-30T10:08:22.642Z"
   },
   {
    "duration": 36,
    "start_time": "2022-09-30T10:08:22.667Z"
   },
   {
    "duration": 38,
    "start_time": "2022-09-30T10:08:22.705Z"
   },
   {
    "duration": 23,
    "start_time": "2022-09-30T10:08:22.745Z"
   },
   {
    "duration": 32,
    "start_time": "2022-09-30T10:08:22.770Z"
   },
   {
    "duration": 230,
    "start_time": "2022-09-30T10:08:22.805Z"
   },
   {
    "duration": 188,
    "start_time": "2022-09-30T10:08:23.039Z"
   },
   {
    "duration": 162,
    "start_time": "2022-09-30T10:08:23.229Z"
   },
   {
    "duration": 315,
    "start_time": "2022-09-30T10:08:23.393Z"
   },
   {
    "duration": 196,
    "start_time": "2022-09-30T10:08:23.710Z"
   },
   {
    "duration": 191,
    "start_time": "2022-09-30T10:08:23.908Z"
   },
   {
    "duration": 20,
    "start_time": "2022-09-30T10:08:24.101Z"
   },
   {
    "duration": 45,
    "start_time": "2022-09-30T10:08:24.124Z"
   },
   {
    "duration": 12,
    "start_time": "2022-09-30T10:08:24.172Z"
   },
   {
    "duration": 984,
    "start_time": "2022-09-30T10:08:24.186Z"
   },
   {
    "duration": 2559,
    "start_time": "2022-09-30T10:08:25.172Z"
   },
   {
    "duration": 1645,
    "start_time": "2022-09-30T10:08:27.732Z"
   },
   {
    "duration": 19,
    "start_time": "2022-09-30T10:08:29.380Z"
   },
   {
    "duration": 597,
    "start_time": "2022-09-30T10:08:29.400Z"
   },
   {
    "duration": 120400,
    "start_time": "2022-09-30T10:08:30.000Z"
   },
   {
    "duration": 1122,
    "start_time": "2022-09-30T10:10:30.402Z"
   },
   {
    "duration": 152,
    "start_time": "2022-09-30T10:10:31.526Z"
   },
   {
    "duration": 6,
    "start_time": "2022-09-30T10:10:31.679Z"
   },
   {
    "duration": 1064,
    "start_time": "2022-09-30T10:10:31.686Z"
   },
   {
    "duration": 2256,
    "start_time": "2022-09-30T10:10:32.753Z"
   },
   {
    "duration": 14,
    "start_time": "2022-09-30T10:10:35.011Z"
   },
   {
    "duration": 1072,
    "start_time": "2022-09-30T10:11:38.520Z"
   },
   {
    "duration": 1164,
    "start_time": "2022-09-30T10:11:55.724Z"
   },
   {
    "duration": 319,
    "start_time": "2022-09-30T10:14:25.002Z"
   },
   {
    "duration": 2694,
    "start_time": "2022-09-30T10:14:36.742Z"
   },
   {
    "duration": 2442,
    "start_time": "2022-09-30T10:15:40.635Z"
   },
   {
    "duration": 2667,
    "start_time": "2022-09-30T10:16:08.455Z"
   },
   {
    "duration": 2416,
    "start_time": "2022-09-30T10:16:21.961Z"
   },
   {
    "duration": 2672,
    "start_time": "2022-09-30T10:17:06.459Z"
   },
   {
    "duration": 2569,
    "start_time": "2022-09-30T10:17:18.256Z"
   },
   {
    "duration": 1136,
    "start_time": "2022-09-30T10:18:44.199Z"
   },
   {
    "duration": 4761,
    "start_time": "2022-09-30T10:19:56.579Z"
   },
   {
    "duration": 2499,
    "start_time": "2022-09-30T10:20:30.514Z"
   },
   {
    "duration": 1498,
    "start_time": "2022-09-30T10:23:46.182Z"
   },
   {
    "duration": 35,
    "start_time": "2022-09-30T10:23:47.682Z"
   },
   {
    "duration": 18,
    "start_time": "2022-09-30T10:23:47.719Z"
   },
   {
    "duration": 12,
    "start_time": "2022-09-30T10:23:47.738Z"
   },
   {
    "duration": 3,
    "start_time": "2022-09-30T10:23:47.752Z"
   },
   {
    "duration": 10,
    "start_time": "2022-09-30T10:23:47.757Z"
   },
   {
    "duration": 10,
    "start_time": "2022-09-30T10:23:47.769Z"
   },
   {
    "duration": 14,
    "start_time": "2022-09-30T10:23:47.780Z"
   },
   {
    "duration": 215,
    "start_time": "2022-09-30T10:23:47.796Z"
   },
   {
    "duration": 181,
    "start_time": "2022-09-30T10:23:48.013Z"
   },
   {
    "duration": 159,
    "start_time": "2022-09-30T10:23:48.196Z"
   },
   {
    "duration": 314,
    "start_time": "2022-09-30T10:23:48.357Z"
   },
   {
    "duration": 188,
    "start_time": "2022-09-30T10:23:48.673Z"
   },
   {
    "duration": 267,
    "start_time": "2022-09-30T10:23:48.865Z"
   },
   {
    "duration": 14,
    "start_time": "2022-09-30T10:23:49.134Z"
   },
   {
    "duration": 84,
    "start_time": "2022-09-30T10:23:49.150Z"
   },
   {
    "duration": 13,
    "start_time": "2022-09-30T10:23:49.237Z"
   },
   {
    "duration": 1001,
    "start_time": "2022-09-30T10:23:49.252Z"
   },
   {
    "duration": 2641,
    "start_time": "2022-09-30T10:23:50.254Z"
   },
   {
    "duration": 1590,
    "start_time": "2022-09-30T10:23:52.897Z"
   },
   {
    "duration": 18,
    "start_time": "2022-09-30T10:23:54.489Z"
   },
   {
    "duration": 581,
    "start_time": "2022-09-30T10:23:54.520Z"
   },
   {
    "duration": 119602,
    "start_time": "2022-09-30T10:23:55.103Z"
   },
   {
    "duration": 1219,
    "start_time": "2022-09-30T10:25:54.707Z"
   },
   {
    "duration": 151,
    "start_time": "2022-09-30T10:25:55.929Z"
   },
   {
    "duration": 6,
    "start_time": "2022-09-30T10:25:56.082Z"
   },
   {
    "duration": 1065,
    "start_time": "2022-09-30T10:25:56.090Z"
   },
   {
    "duration": 2669,
    "start_time": "2022-09-30T10:25:57.157Z"
   },
   {
    "duration": 14,
    "start_time": "2022-09-30T10:25:59.828Z"
   },
   {
    "duration": 1813,
    "start_time": "2022-09-30T12:04:42.975Z"
   },
   {
    "duration": 35,
    "start_time": "2022-09-30T12:04:44.790Z"
   },
   {
    "duration": 18,
    "start_time": "2022-09-30T12:04:44.827Z"
   },
   {
    "duration": 13,
    "start_time": "2022-09-30T12:04:44.847Z"
   },
   {
    "duration": 14,
    "start_time": "2022-09-30T12:04:44.862Z"
   },
   {
    "duration": 13,
    "start_time": "2022-09-30T12:04:44.877Z"
   },
   {
    "duration": 6,
    "start_time": "2022-09-30T12:04:44.891Z"
   },
   {
    "duration": 9,
    "start_time": "2022-09-30T12:04:44.899Z"
   },
   {
    "duration": 197,
    "start_time": "2022-09-30T12:04:44.910Z"
   },
   {
    "duration": 184,
    "start_time": "2022-09-30T12:04:45.111Z"
   },
   {
    "duration": 159,
    "start_time": "2022-09-30T12:04:45.297Z"
   },
   {
    "duration": 344,
    "start_time": "2022-09-30T12:04:45.458Z"
   },
   {
    "duration": 191,
    "start_time": "2022-09-30T12:04:45.804Z"
   },
   {
    "duration": 194,
    "start_time": "2022-09-30T12:04:45.997Z"
   },
   {
    "duration": 9,
    "start_time": "2022-09-30T12:04:46.192Z"
   },
   {
    "duration": 60,
    "start_time": "2022-09-30T12:04:46.203Z"
   },
   {
    "duration": 12,
    "start_time": "2022-09-30T12:04:46.265Z"
   },
   {
    "duration": 919,
    "start_time": "2022-09-30T12:04:46.279Z"
   },
   {
    "duration": 2589,
    "start_time": "2022-09-30T12:04:47.200Z"
   },
   {
    "duration": 1556,
    "start_time": "2022-09-30T12:04:49.791Z"
   },
   {
    "duration": 20,
    "start_time": "2022-09-30T12:04:51.355Z"
   },
   {
    "duration": 606,
    "start_time": "2022-09-30T12:04:51.377Z"
   },
   {
    "duration": 121532,
    "start_time": "2022-09-30T12:04:51.985Z"
   },
   {
    "duration": 1139,
    "start_time": "2022-09-30T12:06:53.519Z"
   },
   {
    "duration": 150,
    "start_time": "2022-09-30T12:06:54.660Z"
   },
   {
    "duration": 8,
    "start_time": "2022-09-30T12:06:54.812Z"
   },
   {
    "duration": 1060,
    "start_time": "2022-09-30T12:06:54.822Z"
   },
   {
    "duration": 2611,
    "start_time": "2022-09-30T12:06:55.886Z"
   },
   {
    "duration": 13,
    "start_time": "2022-09-30T12:06:58.500Z"
   },
   {
    "duration": 44,
    "start_time": "2022-10-16T11:47:51.201Z"
   },
   {
    "duration": 1401,
    "start_time": "2022-10-16T11:47:55.605Z"
   },
   {
    "duration": 138,
    "start_time": "2022-10-16T11:47:57.008Z"
   },
   {
    "duration": 17,
    "start_time": "2022-10-16T11:47:57.147Z"
   },
   {
    "duration": 10,
    "start_time": "2022-10-16T11:47:57.166Z"
   },
   {
    "duration": 2,
    "start_time": "2022-10-16T11:47:57.178Z"
   },
   {
    "duration": 6,
    "start_time": "2022-10-16T11:47:57.182Z"
   },
   {
    "duration": 8,
    "start_time": "2022-10-16T11:47:57.190Z"
   },
   {
    "duration": 6,
    "start_time": "2022-10-16T11:47:57.199Z"
   },
   {
    "duration": 177,
    "start_time": "2022-10-16T11:47:57.207Z"
   },
   {
    "duration": 161,
    "start_time": "2022-10-16T11:47:57.395Z"
   },
   {
    "duration": 137,
    "start_time": "2022-10-16T11:47:57.558Z"
   },
   {
    "duration": 268,
    "start_time": "2022-10-16T11:47:57.697Z"
   },
   {
    "duration": 180,
    "start_time": "2022-10-16T11:47:57.966Z"
   },
   {
    "duration": 165,
    "start_time": "2022-10-16T11:47:58.147Z"
   },
   {
    "duration": 8,
    "start_time": "2022-10-16T11:47:58.313Z"
   },
   {
    "duration": 37,
    "start_time": "2022-10-16T11:47:58.322Z"
   },
   {
    "duration": 9,
    "start_time": "2022-10-16T11:47:58.361Z"
   },
   {
    "duration": 817,
    "start_time": "2022-10-16T11:47:58.371Z"
   },
   {
    "duration": 2307,
    "start_time": "2022-10-16T11:47:59.189Z"
   },
   {
    "duration": 1397,
    "start_time": "2022-10-16T11:48:01.498Z"
   },
   {
    "duration": 18,
    "start_time": "2022-10-16T11:48:02.897Z"
   },
   {
    "duration": 618,
    "start_time": "2022-10-16T11:48:02.917Z"
   },
   {
    "duration": 105399,
    "start_time": "2022-10-16T11:48:03.536Z"
   },
   {
    "duration": 1067,
    "start_time": "2022-10-16T11:49:48.937Z"
   },
   {
    "duration": 60,
    "start_time": "2022-10-16T11:49:50.096Z"
   },
   {
    "duration": 4,
    "start_time": "2022-10-16T11:49:50.158Z"
   },
   {
    "duration": 953,
    "start_time": "2022-10-16T11:49:50.164Z"
   },
   {
    "duration": 2169,
    "start_time": "2022-10-16T11:49:51.120Z"
   },
   {
    "duration": 13,
    "start_time": "2022-10-16T11:49:53.290Z"
   }
  ],
  "kernelspec": {
   "display_name": "Python 3 (ipykernel)",
   "language": "python",
   "name": "python3"
  },
  "language_info": {
   "codemirror_mode": {
    "name": "ipython",
    "version": 3
   },
   "file_extension": ".py",
   "mimetype": "text/x-python",
   "name": "python",
   "nbconvert_exporter": "python",
   "pygments_lexer": "ipython3",
   "version": "3.9.5"
  },
  "toc": {
   "base_numbering": 1,
   "nav_menu": {},
   "number_sections": true,
   "sideBar": true,
   "skip_h1_title": true,
   "title_cell": "Table of Contents",
   "title_sidebar": "Contents",
   "toc_cell": false,
   "toc_position": {},
   "toc_section_display": true,
   "toc_window_display": false
  }
 },
 "nbformat": 4,
 "nbformat_minor": 2
}
