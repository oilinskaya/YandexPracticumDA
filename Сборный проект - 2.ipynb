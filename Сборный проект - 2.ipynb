{
 "cells": [
  {
   "cell_type": "markdown",
   "metadata": {},
   "source": [
    "# Сборный проект - 2"
   ]
  },
  {
   "cell_type": "markdown",
   "metadata": {},
   "source": [
    "**Дополнительная информация:**\n",
    "\n",
    "Файл с данными: /datasets/logs_exp.csv\n",
    "\n",
    "**Цель исследования:**\n",
    "\n",
    "- Разобраться, как ведут себя пользователи мобильного приложения (продажа продуктов питания).\n",
    "\n",
    "- Изучим воронку продаж. Узнаем, как пользователи доходят до покупки. Сколько пользователей доходит до покупки, а сколько — «застревает» на предыдущих шагах? На каких именно?\n",
    "\n",
    "- Исследуем результаты A/A/B-эксперимента. Дизайнеры захотели поменять шрифты во всём приложении, а менеджеры испугались, что пользователям будет непривычно. Договорились принять решение по результатам A/A/B-теста. Пользователей разбили на 3 группы: 2 контрольные со старыми шрифтами и одну экспериментальную — с новыми. Выясним, какой шрифт лучше.\n",
    "\n",
    "- Создание двух групп A вместо одной имеет определённые преимущества. Если две контрольные группы окажутся равны, мы можем быть уверены в точности проведенного тестирования. Если же между значениями A и A будут существенные различия, это поможет обнаружить факторы, которые привели к искажению результатов. Сравнение контрольных групп также поможет понять, сколько времени и данных потребуется для дальнейших тестов.\n",
    "\n",
    "**Ход исследования:**\n",
    "\n",
    "1. Откроем файл с данными и изучим общую информацию.\n",
    "\n",
    "2. Подготовим данные.\n",
    "\n",
    "3. Изучим и проверим данные:\n",
    "- Сколько всего событий в логе?\n",
    "- Сколько всего пользователей в логе?\n",
    "- Сколько в среднем событий приходится на пользователя?\n",
    "- Данными за какой период мы располагаем? Найдем максимальную и минимальную дату. Построим гистограмму по дате и времени. Определим, с какого момента данные полные и отбросьте более старые.\n",
    "- Посмотрим, сколько событий и пользователей мы потеряли, отбросив старые данные?\n",
    "- Проверим, что у нас есть пользователи из всех трёх экспериментальных групп.\n",
    "\n",
    "4. Изучите воронку событий:\n",
    "- Посмотрим, какие события есть в логах, как часто они встречаются. Отсортируем  события по частоте.\n",
    "- Посчитаем, сколько пользователей совершали каждое из этих событий. Отсортируем события по числу пользователей. Посчитаем долю пользователей, которые хоть раз совершали событие.\n",
    "- Предположим, в каком порядке происходят события. Все ли они выстраиваются в последовательную цепочку?\n",
    "- По воронке событий посчитаем, какая доля пользователей проходит на следующий шаг воронки (от числа пользователей на предыдущем). То есть для последовательности событий A → B → C посчитаем отношение числа пользователей с событием B к количеству пользователей с событием A, а также отношение числа пользователей с событием C к количеству пользователей с событием B.\n",
    "- На каком шаге теряете больше всего пользователей?\n",
    "- Какая доля пользователей доходит от первого события до оплаты?\n",
    "\n",
    "5. Изучите результаты эксперимента:\n",
    "- Сколько пользователей в каждой экспериментальной группе?\n",
    "- Есть 2 контрольные группы для А/А-эксперимента, чтобы проверить корректность всех механизмов и расчётов. Проверим, находят ли статистические критерии разницу между выборками 246 и 247.\n",
    "- Выберем самое популярное событие. Посчитаем число пользователей, совершивших это событие в каждой из контрольных групп. Посчитаем долю пользователей, совершивших это событие. Проверим, будет ли отличие между группами статистически достоверным. Проделаем то же самое для всех других событий.\n",
    "- Аналогично поступим с группой с изменённым шрифтом. Сравним результаты с каждой из контрольных групп в отдельности по каждому событию. Сравним результаты с объединённой контрольной группой. Сделаем выводы."
   ]
  },
  {
   "cell_type": "markdown",
   "metadata": {},
   "source": [
    "## Шаг 1. Открыаем файл с данными и изучаем общую информацию"
   ]
  },
  {
   "cell_type": "code",
   "execution_count": 1,
   "metadata": {},
   "outputs": [],
   "source": [
    "import pandas as pd\n",
    "import seaborn as sns\n",
    "import datetime as dt\n",
    "import matplotlib\n",
    "import matplotlib.pyplot as plt\n",
    "import matplotlib.dates as mdates\n",
    "import numpy as np\n",
    "import plotly.express as px\n",
    "from plotly import graph_objects as go\n",
    "from scipy import stats as st\n",
    "import math as mth"
   ]
  },
  {
   "cell_type": "code",
   "execution_count": 2,
   "metadata": {},
   "outputs": [],
   "source": [
    "try:\n",
    "    df = pd.read_csv('/datasets/logs_exp.csv', sep='\\t')\n",
    "except:\n",
    "    df = pd.read_csv('/content/logs_exp.csv', sep='\\t')"
   ]
  },
  {
   "cell_type": "code",
   "execution_count": 3,
   "metadata": {},
   "outputs": [
    {
     "data": {
      "text/html": [
       "<div>\n",
       "<style scoped>\n",
       "    .dataframe tbody tr th:only-of-type {\n",
       "        vertical-align: middle;\n",
       "    }\n",
       "\n",
       "    .dataframe tbody tr th {\n",
       "        vertical-align: top;\n",
       "    }\n",
       "\n",
       "    .dataframe thead th {\n",
       "        text-align: right;\n",
       "    }\n",
       "</style>\n",
       "<table border=\"1\" class=\"dataframe\">\n",
       "  <thead>\n",
       "    <tr style=\"text-align: right;\">\n",
       "      <th></th>\n",
       "      <th>EventName</th>\n",
       "      <th>DeviceIDHash</th>\n",
       "      <th>EventTimestamp</th>\n",
       "      <th>ExpId</th>\n",
       "    </tr>\n",
       "  </thead>\n",
       "  <tbody>\n",
       "    <tr>\n",
       "      <th>0</th>\n",
       "      <td>MainScreenAppear</td>\n",
       "      <td>4575588528974610257</td>\n",
       "      <td>1564029816</td>\n",
       "      <td>246</td>\n",
       "    </tr>\n",
       "    <tr>\n",
       "      <th>1</th>\n",
       "      <td>MainScreenAppear</td>\n",
       "      <td>7416695313311560658</td>\n",
       "      <td>1564053102</td>\n",
       "      <td>246</td>\n",
       "    </tr>\n",
       "    <tr>\n",
       "      <th>2</th>\n",
       "      <td>PaymentScreenSuccessful</td>\n",
       "      <td>3518123091307005509</td>\n",
       "      <td>1564054127</td>\n",
       "      <td>248</td>\n",
       "    </tr>\n",
       "    <tr>\n",
       "      <th>3</th>\n",
       "      <td>CartScreenAppear</td>\n",
       "      <td>3518123091307005509</td>\n",
       "      <td>1564054127</td>\n",
       "      <td>248</td>\n",
       "    </tr>\n",
       "    <tr>\n",
       "      <th>4</th>\n",
       "      <td>PaymentScreenSuccessful</td>\n",
       "      <td>6217807653094995999</td>\n",
       "      <td>1564055322</td>\n",
       "      <td>248</td>\n",
       "    </tr>\n",
       "  </tbody>\n",
       "</table>\n",
       "</div>"
      ],
      "text/plain": [
       "                 EventName         DeviceIDHash  EventTimestamp  ExpId\n",
       "0         MainScreenAppear  4575588528974610257      1564029816    246\n",
       "1         MainScreenAppear  7416695313311560658      1564053102    246\n",
       "2  PaymentScreenSuccessful  3518123091307005509      1564054127    248\n",
       "3         CartScreenAppear  3518123091307005509      1564054127    248\n",
       "4  PaymentScreenSuccessful  6217807653094995999      1564055322    248"
      ]
     },
     "execution_count": 3,
     "metadata": {},
     "output_type": "execute_result"
    }
   ],
   "source": [
    "df.head()"
   ]
  },
  {
   "cell_type": "code",
   "execution_count": 4,
   "metadata": {},
   "outputs": [
    {
     "name": "stdout",
     "output_type": "stream",
     "text": [
      "<class 'pandas.core.frame.DataFrame'>\n",
      "RangeIndex: 244126 entries, 0 to 244125\n",
      "Data columns (total 4 columns):\n",
      " #   Column          Non-Null Count   Dtype \n",
      "---  ------          --------------   ----- \n",
      " 0   EventName       244126 non-null  object\n",
      " 1   DeviceIDHash    244126 non-null  int64 \n",
      " 2   EventTimestamp  244126 non-null  int64 \n",
      " 3   ExpId           244126 non-null  int64 \n",
      "dtypes: int64(3), object(1)\n",
      "memory usage: 7.5+ MB\n"
     ]
    }
   ],
   "source": [
    "df.info()"
   ]
  },
  {
   "cell_type": "markdown",
   "metadata": {},
   "source": [
    "- Датасет состоит из 4 колонок и 244126 строк.\n",
    "- Заменим названия столбцов.\n",
    "- Заменим названия групп в столбце group на A1, A2 и B.\n",
    "- Пропусков в данных нет.\n",
    "- Поменяем тип переменной в столбце EventTimestamp на дату.\n",
    "- Добавим столбец даты и времени, а также столбец дат.\n",
    "- Проверим на дубликаты."
   ]
  },
  {
   "cell_type": "markdown",
   "metadata": {},
   "source": [
    "## Шаг 2. Подготавливаем данные"
   ]
  },
  {
   "cell_type": "code",
   "execution_count": 5,
   "metadata": {},
   "outputs": [],
   "source": [
    "# заменим названия столбцов\n",
    "df.rename(columns = {\n",
    "    'EventName' : 'event_name',\n",
    "    'DeviceIDHash' : 'user_id',\n",
    "    'EventTimestamp' : 'event_time',\n",
    "    'ExpId' : 'group'}, inplace = True)"
   ]
  },
  {
   "cell_type": "code",
   "execution_count": 6,
   "metadata": {},
   "outputs": [
    {
     "data": {
      "text/html": [
       "<div>\n",
       "<style scoped>\n",
       "    .dataframe tbody tr th:only-of-type {\n",
       "        vertical-align: middle;\n",
       "    }\n",
       "\n",
       "    .dataframe tbody tr th {\n",
       "        vertical-align: top;\n",
       "    }\n",
       "\n",
       "    .dataframe thead th {\n",
       "        text-align: right;\n",
       "    }\n",
       "</style>\n",
       "<table border=\"1\" class=\"dataframe\">\n",
       "  <thead>\n",
       "    <tr style=\"text-align: right;\">\n",
       "      <th></th>\n",
       "      <th>event_name</th>\n",
       "      <th>user_id</th>\n",
       "      <th>event_time</th>\n",
       "      <th>group</th>\n",
       "    </tr>\n",
       "  </thead>\n",
       "  <tbody>\n",
       "    <tr>\n",
       "      <th>0</th>\n",
       "      <td>MainScreenAppear</td>\n",
       "      <td>4575588528974610257</td>\n",
       "      <td>1564029816</td>\n",
       "      <td>246</td>\n",
       "    </tr>\n",
       "    <tr>\n",
       "      <th>1</th>\n",
       "      <td>MainScreenAppear</td>\n",
       "      <td>7416695313311560658</td>\n",
       "      <td>1564053102</td>\n",
       "      <td>246</td>\n",
       "    </tr>\n",
       "    <tr>\n",
       "      <th>2</th>\n",
       "      <td>PaymentScreenSuccessful</td>\n",
       "      <td>3518123091307005509</td>\n",
       "      <td>1564054127</td>\n",
       "      <td>248</td>\n",
       "    </tr>\n",
       "    <tr>\n",
       "      <th>3</th>\n",
       "      <td>CartScreenAppear</td>\n",
       "      <td>3518123091307005509</td>\n",
       "      <td>1564054127</td>\n",
       "      <td>248</td>\n",
       "    </tr>\n",
       "    <tr>\n",
       "      <th>4</th>\n",
       "      <td>PaymentScreenSuccessful</td>\n",
       "      <td>6217807653094995999</td>\n",
       "      <td>1564055322</td>\n",
       "      <td>248</td>\n",
       "    </tr>\n",
       "  </tbody>\n",
       "</table>\n",
       "</div>"
      ],
      "text/plain": [
       "                event_name              user_id  event_time  group\n",
       "0         MainScreenAppear  4575588528974610257  1564029816    246\n",
       "1         MainScreenAppear  7416695313311560658  1564053102    246\n",
       "2  PaymentScreenSuccessful  3518123091307005509  1564054127    248\n",
       "3         CartScreenAppear  3518123091307005509  1564054127    248\n",
       "4  PaymentScreenSuccessful  6217807653094995999  1564055322    248"
      ]
     },
     "execution_count": 6,
     "metadata": {},
     "output_type": "execute_result"
    }
   ],
   "source": [
    "df.head()"
   ]
  },
  {
   "cell_type": "code",
   "execution_count": 7,
   "metadata": {},
   "outputs": [
    {
     "data": {
      "text/html": [
       "<div>\n",
       "<style scoped>\n",
       "    .dataframe tbody tr th:only-of-type {\n",
       "        vertical-align: middle;\n",
       "    }\n",
       "\n",
       "    .dataframe tbody tr th {\n",
       "        vertical-align: top;\n",
       "    }\n",
       "\n",
       "    .dataframe thead th {\n",
       "        text-align: right;\n",
       "    }\n",
       "</style>\n",
       "<table border=\"1\" class=\"dataframe\">\n",
       "  <thead>\n",
       "    <tr style=\"text-align: right;\">\n",
       "      <th></th>\n",
       "      <th>event_name</th>\n",
       "      <th>user_id</th>\n",
       "      <th>event_time</th>\n",
       "      <th>group</th>\n",
       "    </tr>\n",
       "  </thead>\n",
       "  <tbody>\n",
       "    <tr>\n",
       "      <th>0</th>\n",
       "      <td>MainScreenAppear</td>\n",
       "      <td>4575588528974610257</td>\n",
       "      <td>2019-07-25 04:43:36</td>\n",
       "      <td>246</td>\n",
       "    </tr>\n",
       "    <tr>\n",
       "      <th>1</th>\n",
       "      <td>MainScreenAppear</td>\n",
       "      <td>7416695313311560658</td>\n",
       "      <td>2019-07-25 11:11:42</td>\n",
       "      <td>246</td>\n",
       "    </tr>\n",
       "    <tr>\n",
       "      <th>2</th>\n",
       "      <td>PaymentScreenSuccessful</td>\n",
       "      <td>3518123091307005509</td>\n",
       "      <td>2019-07-25 11:28:47</td>\n",
       "      <td>248</td>\n",
       "    </tr>\n",
       "    <tr>\n",
       "      <th>3</th>\n",
       "      <td>CartScreenAppear</td>\n",
       "      <td>3518123091307005509</td>\n",
       "      <td>2019-07-25 11:28:47</td>\n",
       "      <td>248</td>\n",
       "    </tr>\n",
       "    <tr>\n",
       "      <th>4</th>\n",
       "      <td>PaymentScreenSuccessful</td>\n",
       "      <td>6217807653094995999</td>\n",
       "      <td>2019-07-25 11:48:42</td>\n",
       "      <td>248</td>\n",
       "    </tr>\n",
       "  </tbody>\n",
       "</table>\n",
       "</div>"
      ],
      "text/plain": [
       "                event_name              user_id          event_time  group\n",
       "0         MainScreenAppear  4575588528974610257 2019-07-25 04:43:36    246\n",
       "1         MainScreenAppear  7416695313311560658 2019-07-25 11:11:42    246\n",
       "2  PaymentScreenSuccessful  3518123091307005509 2019-07-25 11:28:47    248\n",
       "3         CartScreenAppear  3518123091307005509 2019-07-25 11:28:47    248\n",
       "4  PaymentScreenSuccessful  6217807653094995999 2019-07-25 11:48:42    248"
      ]
     },
     "execution_count": 7,
     "metadata": {},
     "output_type": "execute_result"
    }
   ],
   "source": [
    "# поменяем тип переменной в столбце EventTimestamp на дату\n",
    "df['event_time'] = pd.to_datetime(df['event_time'], unit='s')\n",
    "df.head()"
   ]
  },
  {
   "cell_type": "code",
   "execution_count": 8,
   "metadata": {},
   "outputs": [
    {
     "name": "stdout",
     "output_type": "stream",
     "text": [
      "<class 'pandas.core.frame.DataFrame'>\n",
      "RangeIndex: 244126 entries, 0 to 244125\n",
      "Data columns (total 5 columns):\n",
      " #   Column      Non-Null Count   Dtype         \n",
      "---  ------      --------------   -----         \n",
      " 0   event_name  244126 non-null  object        \n",
      " 1   user_id     244126 non-null  int64         \n",
      " 2   event_time  244126 non-null  datetime64[ns]\n",
      " 3   group       244126 non-null  int64         \n",
      " 4   date        244126 non-null  datetime64[ns]\n",
      "dtypes: datetime64[ns](2), int64(2), object(1)\n",
      "memory usage: 9.3+ MB\n"
     ]
    }
   ],
   "source": [
    "# добавим столбец дат\n",
    "df['date'] = df['event_time'].dt.date\n",
    "df['date'] = pd.to_datetime(df['date'], format=\"%Y-%m-%d\")\n",
    "df.info()"
   ]
  },
  {
   "cell_type": "code",
   "execution_count": 9,
   "metadata": {},
   "outputs": [
    {
     "data": {
      "text/html": [
       "<div>\n",
       "<style scoped>\n",
       "    .dataframe tbody tr th:only-of-type {\n",
       "        vertical-align: middle;\n",
       "    }\n",
       "\n",
       "    .dataframe tbody tr th {\n",
       "        vertical-align: top;\n",
       "    }\n",
       "\n",
       "    .dataframe thead th {\n",
       "        text-align: right;\n",
       "    }\n",
       "</style>\n",
       "<table border=\"1\" class=\"dataframe\">\n",
       "  <thead>\n",
       "    <tr style=\"text-align: right;\">\n",
       "      <th></th>\n",
       "      <th>event_name</th>\n",
       "      <th>user_id</th>\n",
       "      <th>event_time</th>\n",
       "      <th>group</th>\n",
       "      <th>date</th>\n",
       "    </tr>\n",
       "  </thead>\n",
       "  <tbody>\n",
       "    <tr>\n",
       "      <th>0</th>\n",
       "      <td>MainScreenAppear</td>\n",
       "      <td>4575588528974610257</td>\n",
       "      <td>2019-07-25 04:43:36</td>\n",
       "      <td>A1</td>\n",
       "      <td>2019-07-25</td>\n",
       "    </tr>\n",
       "    <tr>\n",
       "      <th>1</th>\n",
       "      <td>MainScreenAppear</td>\n",
       "      <td>7416695313311560658</td>\n",
       "      <td>2019-07-25 11:11:42</td>\n",
       "      <td>A1</td>\n",
       "      <td>2019-07-25</td>\n",
       "    </tr>\n",
       "    <tr>\n",
       "      <th>2</th>\n",
       "      <td>PaymentScreenSuccessful</td>\n",
       "      <td>3518123091307005509</td>\n",
       "      <td>2019-07-25 11:28:47</td>\n",
       "      <td>B</td>\n",
       "      <td>2019-07-25</td>\n",
       "    </tr>\n",
       "    <tr>\n",
       "      <th>3</th>\n",
       "      <td>CartScreenAppear</td>\n",
       "      <td>3518123091307005509</td>\n",
       "      <td>2019-07-25 11:28:47</td>\n",
       "      <td>B</td>\n",
       "      <td>2019-07-25</td>\n",
       "    </tr>\n",
       "    <tr>\n",
       "      <th>4</th>\n",
       "      <td>PaymentScreenSuccessful</td>\n",
       "      <td>6217807653094995999</td>\n",
       "      <td>2019-07-25 11:48:42</td>\n",
       "      <td>B</td>\n",
       "      <td>2019-07-25</td>\n",
       "    </tr>\n",
       "  </tbody>\n",
       "</table>\n",
       "</div>"
      ],
      "text/plain": [
       "                event_name              user_id          event_time group  \\\n",
       "0         MainScreenAppear  4575588528974610257 2019-07-25 04:43:36    A1   \n",
       "1         MainScreenAppear  7416695313311560658 2019-07-25 11:11:42    A1   \n",
       "2  PaymentScreenSuccessful  3518123091307005509 2019-07-25 11:28:47     B   \n",
       "3         CartScreenAppear  3518123091307005509 2019-07-25 11:28:47     B   \n",
       "4  PaymentScreenSuccessful  6217807653094995999 2019-07-25 11:48:42     B   \n",
       "\n",
       "        date  \n",
       "0 2019-07-25  \n",
       "1 2019-07-25  \n",
       "2 2019-07-25  \n",
       "3 2019-07-25  \n",
       "4 2019-07-25  "
      ]
     },
     "execution_count": 9,
     "metadata": {},
     "output_type": "execute_result"
    }
   ],
   "source": [
    "# для удобства переименуем группы\n",
    "df['group'] = df['group'].astype('object')\n",
    "mapping = {246:'A1',247:'A2',248:'B'}\n",
    "df['group'] = df['group'].map(mapping)\n",
    "df.head()"
   ]
  },
  {
   "cell_type": "code",
   "execution_count": 10,
   "metadata": {},
   "outputs": [
    {
     "data": {
      "text/plain": [
       "413"
      ]
     },
     "execution_count": 10,
     "metadata": {},
     "output_type": "execute_result"
    }
   ],
   "source": [
    "# проверяем на дубликаты\n",
    "df.duplicated().sum()"
   ]
  },
  {
   "cell_type": "code",
   "execution_count": 11,
   "metadata": {},
   "outputs": [
    {
     "data": {
      "text/html": [
       "<div>\n",
       "<style scoped>\n",
       "    .dataframe tbody tr th:only-of-type {\n",
       "        vertical-align: middle;\n",
       "    }\n",
       "\n",
       "    .dataframe tbody tr th {\n",
       "        vertical-align: top;\n",
       "    }\n",
       "\n",
       "    .dataframe thead th {\n",
       "        text-align: right;\n",
       "    }\n",
       "</style>\n",
       "<table border=\"1\" class=\"dataframe\">\n",
       "  <thead>\n",
       "    <tr style=\"text-align: right;\">\n",
       "      <th></th>\n",
       "      <th>event_name</th>\n",
       "      <th>user_id</th>\n",
       "      <th>event_time</th>\n",
       "      <th>group</th>\n",
       "      <th>date</th>\n",
       "    </tr>\n",
       "  </thead>\n",
       "  <tbody>\n",
       "    <tr>\n",
       "      <th>452</th>\n",
       "      <td>MainScreenAppear</td>\n",
       "      <td>5613408041324010552</td>\n",
       "      <td>2019-07-30 08:19:44</td>\n",
       "      <td>B</td>\n",
       "      <td>2019-07-30</td>\n",
       "    </tr>\n",
       "    <tr>\n",
       "      <th>453</th>\n",
       "      <td>MainScreenAppear</td>\n",
       "      <td>5613408041324010552</td>\n",
       "      <td>2019-07-30 08:19:44</td>\n",
       "      <td>B</td>\n",
       "      <td>2019-07-30</td>\n",
       "    </tr>\n",
       "    <tr>\n",
       "      <th>2348</th>\n",
       "      <td>CartScreenAppear</td>\n",
       "      <td>1694940645335807244</td>\n",
       "      <td>2019-07-31 21:51:39</td>\n",
       "      <td>B</td>\n",
       "      <td>2019-07-31</td>\n",
       "    </tr>\n",
       "    <tr>\n",
       "      <th>2350</th>\n",
       "      <td>CartScreenAppear</td>\n",
       "      <td>1694940645335807244</td>\n",
       "      <td>2019-07-31 21:51:39</td>\n",
       "      <td>B</td>\n",
       "      <td>2019-07-31</td>\n",
       "    </tr>\n",
       "    <tr>\n",
       "      <th>3572</th>\n",
       "      <td>MainScreenAppear</td>\n",
       "      <td>434103746454591587</td>\n",
       "      <td>2019-08-01 02:59:37</td>\n",
       "      <td>B</td>\n",
       "      <td>2019-08-01</td>\n",
       "    </tr>\n",
       "  </tbody>\n",
       "</table>\n",
       "</div>"
      ],
      "text/plain": [
       "            event_name              user_id          event_time group  \\\n",
       "452   MainScreenAppear  5613408041324010552 2019-07-30 08:19:44     B   \n",
       "453   MainScreenAppear  5613408041324010552 2019-07-30 08:19:44     B   \n",
       "2348  CartScreenAppear  1694940645335807244 2019-07-31 21:51:39     B   \n",
       "2350  CartScreenAppear  1694940645335807244 2019-07-31 21:51:39     B   \n",
       "3572  MainScreenAppear   434103746454591587 2019-08-01 02:59:37     B   \n",
       "\n",
       "           date  \n",
       "452  2019-07-30  \n",
       "453  2019-07-30  \n",
       "2348 2019-07-31  \n",
       "2350 2019-07-31  \n",
       "3572 2019-08-01  "
      ]
     },
     "execution_count": 11,
     "metadata": {},
     "output_type": "execute_result"
    }
   ],
   "source": [
    "df[df.duplicated(keep=False)].head()"
   ]
  },
  {
   "cell_type": "code",
   "execution_count": 12,
   "metadata": {},
   "outputs": [
    {
     "name": "stdout",
     "output_type": "stream",
     "text": [
      "<class 'pandas.core.frame.DataFrame'>\n",
      "RangeIndex: 243713 entries, 0 to 243712\n",
      "Data columns (total 5 columns):\n",
      " #   Column      Non-Null Count   Dtype         \n",
      "---  ------      --------------   -----         \n",
      " 0   event_name  243713 non-null  object        \n",
      " 1   user_id     243713 non-null  int64         \n",
      " 2   event_time  243713 non-null  datetime64[ns]\n",
      " 3   group       243713 non-null  object        \n",
      " 4   date        243713 non-null  datetime64[ns]\n",
      "dtypes: datetime64[ns](2), int64(1), object(2)\n",
      "memory usage: 9.3+ MB\n"
     ]
    }
   ],
   "source": [
    "# удаляем дубликаты\n",
    "df = df.drop_duplicates().reset_index(drop=True)\n",
    "df.info()"
   ]
  },
  {
   "cell_type": "code",
   "execution_count": 13,
   "metadata": {},
   "outputs": [
    {
     "data": {
      "text/plain": [
       "MainScreenAppear           119101\n",
       "OffersScreenAppear          46808\n",
       "CartScreenAppear            42668\n",
       "PaymentScreenSuccessful     34118\n",
       "Tutorial                     1018\n",
       "Name: event_name, dtype: int64"
      ]
     },
     "execution_count": 13,
     "metadata": {},
     "output_type": "execute_result"
    }
   ],
   "source": [
    "df['event_name'].value_counts()"
   ]
  },
  {
   "cell_type": "code",
   "execution_count": 14,
   "metadata": {},
   "outputs": [
    {
     "data": {
      "text/plain": [
       "B     85582\n",
       "A1    80181\n",
       "A2    77950\n",
       "Name: group, dtype: int64"
      ]
     },
     "execution_count": 14,
     "metadata": {},
     "output_type": "execute_result"
    }
   ],
   "source": [
    "df['group'].value_counts()"
   ]
  },
  {
   "cell_type": "code",
   "execution_count": 15,
   "metadata": {},
   "outputs": [
    {
     "data": {
      "text/html": [
       "<div>\n",
       "<style scoped>\n",
       "    .dataframe tbody tr th:only-of-type {\n",
       "        vertical-align: middle;\n",
       "    }\n",
       "\n",
       "    .dataframe tbody tr th {\n",
       "        vertical-align: top;\n",
       "    }\n",
       "\n",
       "    .dataframe thead th {\n",
       "        text-align: right;\n",
       "    }\n",
       "</style>\n",
       "<table border=\"1\" class=\"dataframe\">\n",
       "  <thead>\n",
       "    <tr style=\"text-align: right;\">\n",
       "      <th></th>\n",
       "      <th>event_name</th>\n",
       "      <th>user_id</th>\n",
       "      <th>event_time</th>\n",
       "      <th>group</th>\n",
       "      <th>date</th>\n",
       "    </tr>\n",
       "  </thead>\n",
       "  <tbody>\n",
       "    <tr>\n",
       "      <th>0</th>\n",
       "      <td>MainScreenAppear</td>\n",
       "      <td>4575588528974610257</td>\n",
       "      <td>2019-07-25 04:43:36</td>\n",
       "      <td>A1</td>\n",
       "      <td>2019-07-25</td>\n",
       "    </tr>\n",
       "    <tr>\n",
       "      <th>1</th>\n",
       "      <td>MainScreenAppear</td>\n",
       "      <td>7416695313311560658</td>\n",
       "      <td>2019-07-25 11:11:42</td>\n",
       "      <td>A1</td>\n",
       "      <td>2019-07-25</td>\n",
       "    </tr>\n",
       "    <tr>\n",
       "      <th>2</th>\n",
       "      <td>PaymentScreenSuccessful</td>\n",
       "      <td>3518123091307005509</td>\n",
       "      <td>2019-07-25 11:28:47</td>\n",
       "      <td>B</td>\n",
       "      <td>2019-07-25</td>\n",
       "    </tr>\n",
       "    <tr>\n",
       "      <th>3</th>\n",
       "      <td>CartScreenAppear</td>\n",
       "      <td>3518123091307005509</td>\n",
       "      <td>2019-07-25 11:28:47</td>\n",
       "      <td>B</td>\n",
       "      <td>2019-07-25</td>\n",
       "    </tr>\n",
       "    <tr>\n",
       "      <th>4</th>\n",
       "      <td>PaymentScreenSuccessful</td>\n",
       "      <td>6217807653094995999</td>\n",
       "      <td>2019-07-25 11:48:42</td>\n",
       "      <td>B</td>\n",
       "      <td>2019-07-25</td>\n",
       "    </tr>\n",
       "  </tbody>\n",
       "</table>\n",
       "</div>"
      ],
      "text/plain": [
       "                event_name              user_id          event_time group  \\\n",
       "0         MainScreenAppear  4575588528974610257 2019-07-25 04:43:36    A1   \n",
       "1         MainScreenAppear  7416695313311560658 2019-07-25 11:11:42    A1   \n",
       "2  PaymentScreenSuccessful  3518123091307005509 2019-07-25 11:28:47     B   \n",
       "3         CartScreenAppear  3518123091307005509 2019-07-25 11:28:47     B   \n",
       "4  PaymentScreenSuccessful  6217807653094995999 2019-07-25 11:48:42     B   \n",
       "\n",
       "        date  \n",
       "0 2019-07-25  \n",
       "1 2019-07-25  \n",
       "2 2019-07-25  \n",
       "3 2019-07-25  \n",
       "4 2019-07-25  "
      ]
     },
     "execution_count": 15,
     "metadata": {},
     "output_type": "execute_result"
    }
   ],
   "source": [
    "df.head()"
   ]
  },
  {
   "cell_type": "code",
   "execution_count": 16,
   "metadata": {},
   "outputs": [
    {
     "name": "stdout",
     "output_type": "stream",
     "text": [
      "<class 'pandas.core.frame.DataFrame'>\n",
      "RangeIndex: 243713 entries, 0 to 243712\n",
      "Data columns (total 5 columns):\n",
      " #   Column      Non-Null Count   Dtype         \n",
      "---  ------      --------------   -----         \n",
      " 0   event_name  243713 non-null  object        \n",
      " 1   user_id     243713 non-null  int64         \n",
      " 2   event_time  243713 non-null  datetime64[ns]\n",
      " 3   group       243713 non-null  object        \n",
      " 4   date        243713 non-null  datetime64[ns]\n",
      "dtypes: datetime64[ns](2), int64(1), object(2)\n",
      "memory usage: 9.3+ MB\n"
     ]
    }
   ],
   "source": [
    "df.info()"
   ]
  },
  {
   "cell_type": "markdown",
   "metadata": {},
   "source": [
    "Проверим, не попали ли у нас одни и те же пользователи в разные группы"
   ]
  },
  {
   "cell_type": "code",
   "execution_count": 17,
   "metadata": {},
   "outputs": [
    {
     "data": {
      "text/plain": [
       "0"
      ]
     },
     "execution_count": 17,
     "metadata": {},
     "output_type": "execute_result"
    }
   ],
   "source": [
    "len(np.intersect1d(df.query('group == \"A1\"')['user_id'].unique(), df.query('group == \"A2\"')['user_id'].unique()))"
   ]
  },
  {
   "cell_type": "code",
   "execution_count": 18,
   "metadata": {},
   "outputs": [
    {
     "data": {
      "text/plain": [
       "0"
      ]
     },
     "execution_count": 18,
     "metadata": {},
     "output_type": "execute_result"
    }
   ],
   "source": [
    "len(np.intersect1d(df.query('group == \"A1\"')['user_id'].unique(), df.query('group == \"B\"')['user_id'].unique()))"
   ]
  },
  {
   "cell_type": "code",
   "execution_count": 19,
   "metadata": {},
   "outputs": [
    {
     "data": {
      "text/plain": [
       "0"
      ]
     },
     "execution_count": 19,
     "metadata": {},
     "output_type": "execute_result"
    }
   ],
   "source": [
    "len(np.intersect1d(df.query('group == \"A2\"')['user_id'].unique(), df.query('group == \"B\"')['user_id'].unique()))"
   ]
  },
  {
   "cell_type": "markdown",
   "metadata": {},
   "source": [
    "Таких пользователей нет."
   ]
  },
  {
   "cell_type": "markdown",
   "metadata": {},
   "source": [
    "## Шаг 3. Изучаем и проверяем данные"
   ]
  },
  {
   "cell_type": "markdown",
   "metadata": {},
   "source": [
    "- Сколько всего событий в логе?"
   ]
  },
  {
   "cell_type": "code",
   "execution_count": 20,
   "metadata": {},
   "outputs": [
    {
     "data": {
      "text/plain": [
       "'Всего событий в логе: 243713'"
      ]
     },
     "execution_count": 20,
     "metadata": {},
     "output_type": "execute_result"
    }
   ],
   "source": [
    "events = len(df)\n",
    "'Всего событий в логе: {}'.format(events)"
   ]
  },
  {
   "cell_type": "markdown",
   "metadata": {},
   "source": [
    "- Сколько всего пользователей в логе?"
   ]
  },
  {
   "cell_type": "code",
   "execution_count": 21,
   "metadata": {},
   "outputs": [
    {
     "data": {
      "text/plain": [
       "'Всего уникальных пользователей в логе: 7551'"
      ]
     },
     "execution_count": 21,
     "metadata": {},
     "output_type": "execute_result"
    }
   ],
   "source": [
    "users = df['user_id'].nunique()\n",
    "'Всего уникальных пользователей в логе: {}'.format(users)"
   ]
  },
  {
   "cell_type": "markdown",
   "metadata": {},
   "source": [
    "- Сколько в среднем событий приходится на пользователя?"
   ]
  },
  {
   "cell_type": "code",
   "execution_count": 22,
   "metadata": {},
   "outputs": [
    {
     "data": {
      "text/html": [
       "<div>\n",
       "<style scoped>\n",
       "    .dataframe tbody tr th:only-of-type {\n",
       "        vertical-align: middle;\n",
       "    }\n",
       "\n",
       "    .dataframe tbody tr th {\n",
       "        vertical-align: top;\n",
       "    }\n",
       "\n",
       "    .dataframe thead th {\n",
       "        text-align: right;\n",
       "    }\n",
       "</style>\n",
       "<table border=\"1\" class=\"dataframe\">\n",
       "  <thead>\n",
       "    <tr style=\"text-align: right;\">\n",
       "      <th></th>\n",
       "      <th>user_id</th>\n",
       "      <th>count</th>\n",
       "    </tr>\n",
       "  </thead>\n",
       "  <tbody>\n",
       "    <tr>\n",
       "      <th>5116</th>\n",
       "      <td>6304868067479728361</td>\n",
       "      <td>2307</td>\n",
       "    </tr>\n",
       "    <tr>\n",
       "      <th>147</th>\n",
       "      <td>197027893265565660</td>\n",
       "      <td>1998</td>\n",
       "    </tr>\n",
       "    <tr>\n",
       "      <th>3714</th>\n",
       "      <td>4623191541214045580</td>\n",
       "      <td>1768</td>\n",
       "    </tr>\n",
       "    <tr>\n",
       "      <th>5590</th>\n",
       "      <td>6932517045703054087</td>\n",
       "      <td>1439</td>\n",
       "    </tr>\n",
       "    <tr>\n",
       "      <th>1391</th>\n",
       "      <td>1754140665440434215</td>\n",
       "      <td>1221</td>\n",
       "    </tr>\n",
       "    <tr>\n",
       "      <th>...</th>\n",
       "      <td>...</td>\n",
       "      <td>...</td>\n",
       "    </tr>\n",
       "    <tr>\n",
       "      <th>6013</th>\n",
       "      <td>7399061063341528729</td>\n",
       "      <td>1</td>\n",
       "    </tr>\n",
       "    <tr>\n",
       "      <th>2356</th>\n",
       "      <td>2968164493349205501</td>\n",
       "      <td>1</td>\n",
       "    </tr>\n",
       "    <tr>\n",
       "      <th>6575</th>\n",
       "      <td>8071397669512236988</td>\n",
       "      <td>1</td>\n",
       "    </tr>\n",
       "    <tr>\n",
       "      <th>311</th>\n",
       "      <td>425817683219936619</td>\n",
       "      <td>1</td>\n",
       "    </tr>\n",
       "    <tr>\n",
       "      <th>0</th>\n",
       "      <td>6888746892508752</td>\n",
       "      <td>1</td>\n",
       "    </tr>\n",
       "  </tbody>\n",
       "</table>\n",
       "<p>7551 rows × 2 columns</p>\n",
       "</div>"
      ],
      "text/plain": [
       "                  user_id  count\n",
       "5116  6304868067479728361   2307\n",
       "147    197027893265565660   1998\n",
       "3714  4623191541214045580   1768\n",
       "5590  6932517045703054087   1439\n",
       "1391  1754140665440434215   1221\n",
       "...                   ...    ...\n",
       "6013  7399061063341528729      1\n",
       "2356  2968164493349205501      1\n",
       "6575  8071397669512236988      1\n",
       "311    425817683219936619      1\n",
       "0        6888746892508752      1\n",
       "\n",
       "[7551 rows x 2 columns]"
      ]
     },
     "execution_count": 22,
     "metadata": {},
     "output_type": "execute_result"
    }
   ],
   "source": [
    "event_mean = df.groupby('user_id').agg({'event_name':'count'}).reset_index().sort_values(by='event_name', ascending=False)\n",
    "event_mean.columns = ['user_id', 'count']\n",
    "event_mean"
   ]
  },
  {
   "cell_type": "code",
   "execution_count": 23,
   "metadata": {},
   "outputs": [
    {
     "data": {
      "text/html": [
       "<div>\n",
       "<style scoped>\n",
       "    .dataframe tbody tr th:only-of-type {\n",
       "        vertical-align: middle;\n",
       "    }\n",
       "\n",
       "    .dataframe tbody tr th {\n",
       "        vertical-align: top;\n",
       "    }\n",
       "\n",
       "    .dataframe thead th {\n",
       "        text-align: right;\n",
       "    }\n",
       "</style>\n",
       "<table border=\"1\" class=\"dataframe\">\n",
       "  <thead>\n",
       "    <tr style=\"text-align: right;\">\n",
       "      <th></th>\n",
       "      <th>user_id</th>\n",
       "      <th>count</th>\n",
       "    </tr>\n",
       "  </thead>\n",
       "  <tbody>\n",
       "    <tr>\n",
       "      <th>count</th>\n",
       "      <td>7.551000e+03</td>\n",
       "      <td>7551.000000</td>\n",
       "    </tr>\n",
       "    <tr>\n",
       "      <th>mean</th>\n",
       "      <td>4.677319e+18</td>\n",
       "      <td>32.275593</td>\n",
       "    </tr>\n",
       "    <tr>\n",
       "      <th>std</th>\n",
       "      <td>2.655343e+18</td>\n",
       "      <td>65.154219</td>\n",
       "    </tr>\n",
       "    <tr>\n",
       "      <th>min</th>\n",
       "      <td>6.888747e+15</td>\n",
       "      <td>1.000000</td>\n",
       "    </tr>\n",
       "    <tr>\n",
       "      <th>25%</th>\n",
       "      <td>2.397700e+18</td>\n",
       "      <td>9.000000</td>\n",
       "    </tr>\n",
       "    <tr>\n",
       "      <th>50%</th>\n",
       "      <td>4.688022e+18</td>\n",
       "      <td>20.000000</td>\n",
       "    </tr>\n",
       "    <tr>\n",
       "      <th>75%</th>\n",
       "      <td>7.007353e+18</td>\n",
       "      <td>37.000000</td>\n",
       "    </tr>\n",
       "    <tr>\n",
       "      <th>max</th>\n",
       "      <td>9.222603e+18</td>\n",
       "      <td>2307.000000</td>\n",
       "    </tr>\n",
       "  </tbody>\n",
       "</table>\n",
       "</div>"
      ],
      "text/plain": [
       "            user_id        count\n",
       "count  7.551000e+03  7551.000000\n",
       "mean   4.677319e+18    32.275593\n",
       "std    2.655343e+18    65.154219\n",
       "min    6.888747e+15     1.000000\n",
       "25%    2.397700e+18     9.000000\n",
       "50%    4.688022e+18    20.000000\n",
       "75%    7.007353e+18    37.000000\n",
       "max    9.222603e+18  2307.000000"
      ]
     },
     "execution_count": 23,
     "metadata": {},
     "output_type": "execute_result"
    }
   ],
   "source": [
    "event_mean.describe()"
   ]
  },
  {
   "cell_type": "markdown",
   "metadata": {},
   "source": [
    "- В среднем на пользователя приходится 32 события.\n",
    "- Медиана равна 20."
   ]
  },
  {
   "cell_type": "code",
   "execution_count": 24,
   "metadata": {},
   "outputs": [
    {
     "data": {
      "image/png": "[encoded data removed]",
      "text/plain": [
       "<Figure size 432x288 with 1 Axes>"
      ]
     },
     "metadata": {
      "needs_background": "light"
     },
     "output_type": "display_data"
    }
   ],
   "source": [
    "event_mean['count'].hist(bins=30);"
   ]
  },
  {
   "cell_type": "code",
   "execution_count": null,
   "metadata": {},
   "outputs": [],
   "source": [
    "event_mean['count'].hist(bins=30, range=(0,500));"
   ]
  },
  {
   "cell_type": "code",
   "execution_count": null,
   "metadata": {},
   "outputs": [],
   "source": [
    "event_mean['count'].hist(bins=30, range=(0,150));"
   ]
  },
  {
   "cell_type": "markdown",
   "metadata": {},
   "source": [
    "Гистограмма говорит нам о том, что большинство пользователей совершают до 30 событий."
   ]
  },
  {
   "cell_type": "markdown",
   "metadata": {},
   "source": [
    "- Данными за какой период вы располагаете? Найдите максимальную и минимальную дату. Постройте гистограмму по дате и времени. Можно ли быть уверенным, что у вас одинаково полные данные за весь период? Технически в логи новых дней по некоторым пользователям могут «доезжать» события из прошлого — это может «перекашивать данные». Определите, с какого момента данные полные и отбросьте более старые. Данными за какой период времени вы располагаете на самом деле?"
   ]
  },
  {
   "cell_type": "code",
   "execution_count": null,
   "metadata": {},
   "outputs": [],
   "source": [
    "# узнаем минимальную и максимальную дату\n",
    "'Минимальная дата: {}'.format(df['event_time'].min())"
   ]
  },
  {
   "cell_type": "code",
   "execution_count": null,
   "metadata": {},
   "outputs": [],
   "source": [
    "'Максимальная дата: {}'.format(df['event_time'].max())"
   ]
  },
  {
   "cell_type": "code",
   "execution_count": null,
   "metadata": {},
   "outputs": [],
   "source": [
    "df_group = df.groupby('date').agg({'event_time':'count'}).reset_index()\n",
    "df_group"
   ]
  },
  {
   "cell_type": "code",
   "execution_count": null,
   "metadata": {},
   "outputs": [],
   "source": [
    "df_group.plot(x='date', y='event_time', kind='bar', figsize = (15,5));"
   ]
  },
  {
   "cell_type": "code",
   "execution_count": null,
   "metadata": {},
   "outputs": [],
   "source": [
    "# код ревьюера\n",
    "df['event_time'].hist(bins=14*24, figsize=(14, 5));"
   ]
  },
  {
   "cell_type": "markdown",
   "metadata": {},
   "source": [
    "По гистограмме видно, что полные данные у нас за период с 01.08.2019 по 07.08.2019. Этот период и будем считать актуальным для анализа."
   ]
  },
  {
   "cell_type": "code",
   "execution_count": null,
   "metadata": {},
   "outputs": [],
   "source": [
    "# удаляем неактувальные данные\n",
    "df_new = df.loc[df['date'] > '2019-07-31']\n",
    "df_new.head()"
   ]
  },
  {
   "cell_type": "markdown",
   "metadata": {},
   "source": [
    "- Много ли событий и пользователей вы потеряли, отбросив старые данные?"
   ]
  },
  {
   "cell_type": "code",
   "execution_count": null,
   "metadata": {},
   "outputs": [],
   "source": [
    "'Событий до очистки: {}'.format(len(df))"
   ]
  },
  {
   "cell_type": "code",
   "execution_count": null,
   "metadata": {},
   "outputs": [],
   "source": [
    "'Событий после очистки: {}'.format(len(df_new))"
   ]
  },
  {
   "cell_type": "code",
   "execution_count": null,
   "metadata": {},
   "outputs": [],
   "source": [
    "'Потеря ~ {} % событий'.format((len(df)-len(df_new))/len(df))"
   ]
  },
  {
   "cell_type": "code",
   "execution_count": null,
   "metadata": {},
   "outputs": [],
   "source": [
    "'Пользователей до очистки: {}'.format(users)"
   ]
  },
  {
   "cell_type": "code",
   "execution_count": null,
   "metadata": {},
   "outputs": [],
   "source": [
    "users_new = df_new['user_id'].nunique()\n",
    "'Пользователей после очистки: {}'.format(users_new)"
   ]
  },
  {
   "cell_type": "code",
   "execution_count": null,
   "metadata": {},
   "outputs": [],
   "source": [
    "'Потеря ~ {} % событий'.format((users-users_new)/users)"
   ]
  },
  {
   "cell_type": "markdown",
   "metadata": {},
   "source": [
    "- Проверьте, что у вас есть пользователи из всех трёх экспериментальных групп."
   ]
  },
  {
   "cell_type": "code",
   "execution_count": null,
   "metadata": {},
   "outputs": [],
   "source": [
    "df['group'].value_counts()"
   ]
  },
  {
   "cell_type": "code",
   "execution_count": null,
   "metadata": {},
   "outputs": [],
   "source": [
    "df.groupby('group')['user_id'].nunique()"
   ]
  },
  {
   "cell_type": "markdown",
   "metadata": {},
   "source": [
    "Мы изучили данные и можем сделать вывод:\n",
    "- Всего в логе 243713 событий.\n",
    "- Всего в логе 7551 пользователь.\n",
    "- В среднем на пользователя приходится примерно 32 события.\n",
    "- Актуальный период для анализа с 01.08.2019 по 07.08.2019.\n",
    "- Отбросив старые данные мы потеряли около 1% пользователей и событий.\n",
    "- Отбросив старые данные, у нас остались пользователи всех трех экспериментальных групп."
   ]
  },
  {
   "cell_type": "markdown",
   "metadata": {},
   "source": [
    "## Шаг 4. Изучаем воронку событий"
   ]
  },
  {
   "cell_type": "markdown",
   "metadata": {},
   "source": [
    "- Посмотрим, какие события есть в логах, как часто они встречаются. Отсортируем события по частоте."
   ]
  },
  {
   "cell_type": "code",
   "execution_count": null,
   "metadata": {},
   "outputs": [],
   "source": [
    "df_new['event_name'].value_counts().sort_values(ascending=False)"
   ]
  },
  {
   "cell_type": "markdown",
   "metadata": {},
   "source": [
    "- MainScreenAppear - появление главного экрана\n",
    "- OffersScreenAppear - появление экрана с предложением товара\n",
    "- CartScreenAppear - переход в корзину\n",
    "- PaymentScreenSuccessful - экран с успешной оплатой\n",
    "- Tutorial - руководство пользователя"
   ]
  },
  {
   "cell_type": "markdown",
   "metadata": {},
   "source": [
    "- Посчитаем, сколько пользователей совершали каждое из этих событий. Отсортируем события по числу пользователей. Посчитаем долю пользователей, которые хоть раз совершали событие."
   ]
  },
  {
   "cell_type": "code",
   "execution_count": null,
   "metadata": {},
   "outputs": [],
   "source": [
    "users_count = df_new.groupby('event_name').agg({'user_id':'nunique'}).reset_index().sort_values(by='user_id')\n",
    "users_count.columns = ['event_name', 'user_count']\n",
    "users_count['ratio'] = round((users_count['user_count']/users_new*100), 1)\n",
    "users_count"
   ]
  },
  {
   "cell_type": "code",
   "execution_count": null,
   "metadata": {
    "scrolled": false
   },
   "outputs": [],
   "source": [
    "fig = px.bar(users_count, x='ratio', y='event_name', text='ratio')\n",
    "\n",
    "fig.update_layout(\n",
    "    title='Доля пользователей, которые хоть раз совершали событие',\n",
    "    xaxis_title='Доля пользователей',\n",
    "    yaxis_title='Событие'\n",
    ")\n",
    "\n",
    "fig.show()"
   ]
  },
  {
   "cell_type": "markdown",
   "metadata": {},
   "source": [
    "- 98,5% пользователей заходили на главный экран.\n",
    "- 61% пользователей заходили на страницу с предложением.\n",
    "- 49.6% пользователей преходили в корзину.\n",
    "- 47% пользователей производили успешную оплату.\n",
    "- 11.1% пользователей знакомились с руководством."
   ]
  },
  {
   "cell_type": "markdown",
   "metadata": {},
   "source": [
    "- Предположим, в каком порядке происходят события. Все ли они выстраиваются в последовательную цепочку? Их не нужно учитывать при расчёте воронки."
   ]
  },
  {
   "cell_type": "markdown",
   "metadata": {},
   "source": [
    "События происходят в следующей последовательности:\n",
    "1. Пользователь зашел на главную страницу.\n",
    "2. Пользователю предлагается ознакомиться с руководством.\n",
    "3. Пользователь заходит на страницу с предложением.\n",
    "4. Пользователь переходит в корзину.\n",
    "5. Пользователь оплачивает товар.\n",
    "\n",
    "Т.к. этап Tutorial пользователи чаще всего пропускают, удалим это событие из воронки."
   ]
  },
  {
   "cell_type": "code",
   "execution_count": null,
   "metadata": {},
   "outputs": [],
   "source": [
    "df_new = df_new.query('event_name!=\"Tutorial\"').reset_index()\n",
    "df_new.head()"
   ]
  },
  {
   "cell_type": "markdown",
   "metadata": {},
   "source": [
    "- По воронке событий посчитайте, какая доля пользователей проходит на следующий шаг воронки (от числа пользователей на предыдущем). То есть для последовательности событий A → B → C посчитайте отношение числа пользователей с событием B к количеству пользователей с событием A, а также отношение числа пользователей с событием C к количеству пользователей с событием B."
   ]
  },
  {
   "cell_type": "code",
   "execution_count": null,
   "metadata": {},
   "outputs": [],
   "source": [
    "users_count = users_count.query('event_name!=\"Tutorial\"').sort_values(by='user_count', ascending=False)\n",
    "users_count"
   ]
  },
  {
   "cell_type": "code",
   "execution_count": null,
   "metadata": {},
   "outputs": [],
   "source": [
    "users_count['funnel'] = (users_count['user_count'].div(users_count['user_count'].shift(1)).fillna(1)).round(2)\n",
    "users_count"
   ]
  },
  {
   "cell_type": "code",
   "execution_count": null,
   "metadata": {},
   "outputs": [],
   "source": [
    "# построим воронку\n",
    "fig = go.Figure(go.Funnel(\n",
    "    y = users_count['event_name'],\n",
    "    x = users_count['user_count'], \n",
    "    textinfo = 'value+percent previous'))\n",
    "fig.update_layout(title='Число и доля пользователей совершавших событытие', title_x = 0.5)\n",
    "fig.show()"
   ]
  },
  {
   "cell_type": "markdown",
   "metadata": {},
   "source": [
    "- На каком шаге теряете больше всего пользователей?"
   ]
  },
  {
   "cell_type": "markdown",
   "metadata": {},
   "source": [
    "Больше всего пользователей (38%) теряется на этапе перехода с главного экрана на страницу с предложением."
   ]
  },
  {
   "cell_type": "markdown",
   "metadata": {},
   "source": [
    "- Какая доля пользователей доходит от первого события до оплаты?"
   ]
  },
  {
   "cell_type": "code",
   "execution_count": null,
   "metadata": {},
   "outputs": [],
   "source": [
    "users_count"
   ]
  },
  {
   "cell_type": "markdown",
   "metadata": {},
   "source": [
    "47% пользователей доходят от первого события до оплаты."
   ]
  },
  {
   "cell_type": "markdown",
   "metadata": {},
   "source": [
    "## Шаг 5. Изучите результаты эксперимента"
   ]
  },
  {
   "cell_type": "markdown",
   "metadata": {},
   "source": [
    "- Сколько пользователей в каждой экспериментальной группе?"
   ]
  },
  {
   "cell_type": "code",
   "execution_count": null,
   "metadata": {},
   "outputs": [],
   "source": [
    "users_group = df_new.groupby('group')['user_id'].nunique()\n",
    "users_group['A1+A2'] = users_group['A1'] + users_group['A2']\n",
    "users_group"
   ]
  },
  {
   "cell_type": "markdown",
   "metadata": {},
   "source": [
    "- В группе A1 - 2483 пользователей.\n",
    "- В группе A2 - 2512 пользователей.\n",
    "- В группе B - 2535 пользователей."
   ]
  },
  {
   "cell_type": "markdown",
   "metadata": {},
   "source": [
    "- Есть 2 контрольные группы для А/А-эксперимента, чтобы проверить корректность всех механизмов и расчётов. Проверьте, находят ли статистические критерии разницу между выборками 246 и 247.\n",
    "- Выберите самое популярное событие. Посчитайте число пользователей, совершивших это событие в каждой из контрольных групп. Посчитайте долю пользователей, совершивших это событие. Проверьте, будет ли отличие между группами статистически достоверным. Проделайте то же самое для всех других событий (удобно обернуть проверку в отдельную функцию). Можно ли сказать, что разбиение на группы работает корректно?\n",
    "- Аналогично поступите с группой с изменённым шрифтом. Сравните результаты с каждой из контрольных групп в отдельности по каждому событию. Сравните результаты с объединённой контрольной группой. Какие выводы из эксперимента можно сделать?"
   ]
  },
  {
   "cell_type": "markdown",
   "metadata": {},
   "source": [
    "Критерии успешного A/A-теста:\n",
    "- Количество пользователей в различных группах различается не более, чем на 1%;\n",
    "- Для всех групп фиксируют и отправляют в системы аналитики данные об одном и том же;\n",
    "- Различие ключевых метрик по группам не превышает 1% и не имеет статистической значимости;\n",
    "- Попавший в одну из групп посетитель остаётся в этой группе до конца теста. Если пользователь видит разные версии исследуемой страницы в ходе одного исследования, неизвестно, какая именно повлияла на его решения. Значит, и результаты такого теста нельзя интерпретировать однозначно."
   ]
  },
  {
   "cell_type": "code",
   "execution_count": null,
   "metadata": {},
   "outputs": [],
   "source": [
    "((1 - users_group['A1']/users_group['A2'])*100).round(2)"
   ]
  },
  {
   "cell_type": "code",
   "execution_count": null,
   "metadata": {},
   "outputs": [],
   "source": [
    "# для проведения теста создадим сводную таблицу\n",
    "event_group = df_new.pivot_table(index='event_name', columns='group', values='user_id', aggfunc='nunique').sort_values(by='A1', ascending=False).reset_index()\n",
    "event_group['A1+A2'] = event_group['A1'] + event_group['A2']\n",
    "event_group['all'] = event_group['A1'] + event_group['A2'] + event_group['B']\n",
    "event_group['part_A1'] = (event_group['A1'] / users_group['A1'] * 100).round(2)\n",
    "event_group['part_A2'] = (event_group['A2'] / users_group['A2'] * 100).round(2)\n",
    "event_group['part_B'] = (event_group['B'] / users_group['B'] * 100).round(2)\n",
    "event_group['part_A1+A2'] = ((event_group['A1']+event_group['A2']) / (users_group['A1+A2']) * 100).round(2)\n",
    "event_group"
   ]
  },
  {
   "cell_type": "markdown",
   "metadata": {},
   "source": [
    "- Разбивка на группы довольно равномерная, и можно считать ее корректной."
   ]
  },
  {
   "cell_type": "code",
   "execution_count": null,
   "metadata": {},
   "outputs": [],
   "source": [
    "df['event_name'].value_counts()"
   ]
  },
  {
   "cell_type": "markdown",
   "metadata": {},
   "source": [
    "- Самое популярное событие - MainScreenAppear.\n",
    "- Всего 7419 пользователей совершили событие MainScreenAppear.\n",
    "- Из них:\n",
    "- 2450 из группы А1.\n",
    "- 2476 из группы А2.\n",
    "- 2493 из группы В.\n",
    "- Доли пользователей, совершивших событие MainScreenAppear:\n",
    "- 98.67% группа А1.\n",
    "- 98.57% группа А2.\n",
    "- 98.34% группа В."
   ]
  },
  {
   "cell_type": "markdown",
   "metadata": {},
   "source": [
    "Напишем функцию z_test для проведения тестов, на вход подаются 3 параметра: group1, group2, alpha(уровень статистической значимости):\n",
    "\n",
    "Сформулируем гипотезы:\n",
    "\n",
    "- H0: Доли уникальных посетителей, побывавших на этапе воронки, одинаковы.\n",
    "- H1: Между долями уникальных посетителей, побывавших на этапе воронки, есть значимая разница."
   ]
  },
  {
   "cell_type": "code",
   "execution_count": null,
   "metadata": {},
   "outputs": [],
   "source": [
    "def z_test(group1, group2, alpha):\n",
    "    for i in event_group.index:\n",
    "        p1 = event_group[group1][i] / users_group[group1]\n",
    "        # пропорция успехов во второй группе:\n",
    "        p2 = event_group[group2][i] / users_group[group2]\n",
    "        # пропорция успехов в комбинированном датасете:\n",
    "        p_combined = ((event_group[group1][i] + event_group[group2][i]) / \n",
    "                      (users_group[group1] + users_group[group2]))\n",
    "        # разница пропорций в датасетах\n",
    "        difference = p1 - p2\n",
    "        # считаем статистику в ст.отклонениях стандартного нормального распределения\n",
    "        z_value = difference / mth.sqrt(p_combined * (1 - p_combined) * \n",
    "                                        (1/users_group[group1] + 1/users_group[group2]))\n",
    "        # задаем стандартное нормальное распределение (среднее 0, ст.отклонение 1)\n",
    "        distr = st.norm(0, 1) \n",
    "        p_value = (1 - distr.cdf(abs(z_value))) * 2\n",
    "        print('{} p-значение: {}'.format(event_group['event_name'][i], p_value))\n",
    "        if (p_value < alpha):\n",
    "            print(\"Отвергаем нулевую гипотезу: между долями есть значимая разница\")\n",
    "        else:\n",
    "            print(\"Не получилось отвергнуть нулевую гипотезу, нет оснований считать доли разными\")\n",
    "        print('')"
   ]
  },
  {
   "cell_type": "markdown",
   "metadata": {},
   "source": [
    "Степень различия ключевых метрик по группам зависит от необходимой чувствительности эксперимента. Если мы хотим определить результаты теста, в котором ожидаем не менее 30% прироста, то 10% погрешности измерений нас устроят. Однако такое бывает редко: изменение показателей на 30% обычно заметно и без A/B-теста. Его применяют там, где степень различия между группами не больше 10%, или же подвержены колебаниям. В таких случаях точность A/A-теста в 1% — распространённый критерий."
   ]
  },
  {
   "cell_type": "code",
   "execution_count": null,
   "metadata": {},
   "outputs": [],
   "source": [
    "z_test('A1', 'A2', 0.01)"
   ]
  },
  {
   "cell_type": "markdown",
   "metadata": {},
   "source": [
    "По результатам A1/A2 тестирования для всех событий разница не оказалось значимой, поэтому эти группы считаем контрольными. Так как для A/B теста не нужна высокая точность, то для дальнейших экспериментов выберем самый стандартный уровень значимости равный 5%. Дальше проведем еще 3 группы тестов: A1/B , A2/B , A1+A2/B:"
   ]
  },
  {
   "cell_type": "code",
   "execution_count": null,
   "metadata": {},
   "outputs": [],
   "source": [
    "z_test('A1', 'B', 0.05)"
   ]
  },
  {
   "cell_type": "code",
   "execution_count": null,
   "metadata": {},
   "outputs": [],
   "source": [
    "z_test('A2', 'B', 0.05)"
   ]
  },
  {
   "cell_type": "code",
   "execution_count": null,
   "metadata": {},
   "outputs": [],
   "source": [
    "z_test('A1+A2', 'B', 0.05)"
   ]
  },
  {
   "cell_type": "markdown",
   "metadata": {},
   "source": [
    "Значимой разницы между группами во всех тестах не выявлено. Вывод о различии долей сделать нельзя. Изменение шрифта никак не повлияло на пользователей."
   ]
  },
  {
   "cell_type": "markdown",
   "metadata": {},
   "source": [
    "## Вывод:"
   ]
  },
  {
   "cell_type": "markdown",
   "metadata": {},
   "source": [
    "Были загружены и подготовлены к анализу данные:\n",
    "\n",
    "- Заменили названия столбцов.\n",
    "- Заменили названия групп в столбце group на A1, A2 и B.\n",
    "- Пропусков в данных не обнаружено.\n",
    "- Поменяли тип переменной в столбце EventTimestamp на дату.\n",
    "- Добавили столбец даты и времени, а также столбец дат.\n",
    "- Удалили явные дубликаты.\n",
    "\n",
    "В ходе анализа было выявлено:\n",
    "\n",
    "- Всего в логе 243713 событий.\n",
    "- Всего в логе 7551 пользователь.\n",
    "- В среднем на пользователя приходится примерно 32 события.\n",
    "- Актуальный период для анализа с 01.08.2019 по 07.08.2019.\n",
    "- Отбросив старые данные мы потеряли около 1% пользователей и событий.\n",
    "- Отбросив старые данные, у нас остались пользователи всех трех экспериментальных групп.\n",
    "\n",
    "Изучили воронку событий:\n",
    "\n",
    "События происходят в следующей последовательности:\n",
    "\n",
    "1. Пользователь зашел на главную страницу.\n",
    "2. Пользователю предлагается ознакомиться с руководством.\n",
    "3. Пользователь заходит на страницу с предложением.\n",
    "4. Пользователь переходит в корзину.\n",
    "5. Пользователь оплачивает товар.\n",
    "\n",
    "Доли пользователей, которые хоть раз совершали событие, выглядят так:\n",
    "\n",
    "- 98,5% пользователей заходили на главный экран.\n",
    "- 61% пользователей заходили на страницу с предложением.\n",
    "- 49.6% пользователей преходили в корзину.\n",
    "- 47% пользователей производили успешную оплату.\n",
    "- 11.1% пользователей знакомились с руководством.\n",
    "\n",
    "Выяснили, что больше всего пользователей (38%) теряется на этапе перехода с главного экрана на страницу с предложением и 47% пользователей доходят от первого события до оплаты.\n",
    "\n",
    "\n",
    "\n",
    "Группы для А/А/В-тестирования были достаточно хорошо сформированы, хоть и между группами А1 и А2 количество пользователей отличается на 1.15 % при рекомендованных 0.5-1%\n",
    "\n",
    "По результатам А/А/В-теста не было выявлено различий между контрольными и эксперементальной группами, что говорит о том, что замена шрифтов никак не повлияла на пользователей ни в худшую, ни в лучшую сторону."
   ]
  },
  {
   "cell_type": "code",
   "execution_count": null,
   "metadata": {},
   "outputs": [],
   "source": []
  }
 ],
 "metadata": {
  "ExecuteTimeLog": [
   {
    "duration": 47,
    "start_time": "2022-08-22T11:10:41.994Z"
   },
   {
    "duration": 1342,
    "start_time": "2022-08-22T11:10:46.782Z"
   },
   {
    "duration": 810,
    "start_time": "2022-08-22T11:10:48.126Z"
   },
   {
    "duration": 12,
    "start_time": "2022-08-22T11:10:48.938Z"
   },
   {
    "duration": 3,
    "start_time": "2022-08-22T11:12:23.055Z"
   },
   {
    "duration": 288,
    "start_time": "2022-08-22T11:12:23.706Z"
   },
   {
    "duration": 18,
    "start_time": "2022-08-22T11:12:24.251Z"
   },
   {
    "duration": 158,
    "start_time": "2022-08-22T11:13:01.853Z"
   },
   {
    "duration": 10,
    "start_time": "2022-08-22T11:13:03.552Z"
   },
   {
    "duration": 3,
    "start_time": "2022-08-22T11:13:06.436Z"
   },
   {
    "duration": 141,
    "start_time": "2022-08-22T11:13:06.967Z"
   },
   {
    "duration": 9,
    "start_time": "2022-08-22T11:13:07.465Z"
   },
   {
    "duration": 6,
    "start_time": "2022-08-22T11:13:14.191Z"
   },
   {
    "duration": 19,
    "start_time": "2022-08-22T11:13:22.481Z"
   },
   {
    "duration": 1022,
    "start_time": "2022-08-22T11:22:53.224Z"
   },
   {
    "duration": 234,
    "start_time": "2022-08-22T11:22:54.248Z"
   },
   {
    "duration": 15,
    "start_time": "2022-08-22T11:22:54.484Z"
   },
   {
    "duration": 25,
    "start_time": "2022-08-22T11:22:54.501Z"
   },
   {
    "duration": 3,
    "start_time": "2022-08-22T11:24:05.939Z"
   },
   {
    "duration": 9,
    "start_time": "2022-08-22T11:24:08.226Z"
   },
   {
    "duration": 3,
    "start_time": "2022-08-22T11:28:22.637Z"
   },
   {
    "duration": 9,
    "start_time": "2022-08-22T11:28:23.350Z"
   },
   {
    "duration": 957,
    "start_time": "2022-08-22T11:28:31.039Z"
   },
   {
    "duration": 194,
    "start_time": "2022-08-22T11:28:31.998Z"
   },
   {
    "duration": 11,
    "start_time": "2022-08-22T11:28:32.193Z"
   },
   {
    "duration": 29,
    "start_time": "2022-08-22T11:28:32.205Z"
   },
   {
    "duration": 3,
    "start_time": "2022-08-22T11:28:32.236Z"
   },
   {
    "duration": 12,
    "start_time": "2022-08-22T11:28:32.240Z"
   },
   {
    "duration": 7,
    "start_time": "2022-08-22T11:28:55.332Z"
   },
   {
    "duration": 949,
    "start_time": "2022-08-22T11:31:05.450Z"
   },
   {
    "duration": 188,
    "start_time": "2022-08-22T11:31:06.401Z"
   },
   {
    "duration": 12,
    "start_time": "2022-08-22T11:31:06.590Z"
   },
   {
    "duration": 18,
    "start_time": "2022-08-22T11:31:06.603Z"
   },
   {
    "duration": 3,
    "start_time": "2022-08-22T11:31:06.623Z"
   },
   {
    "duration": 9,
    "start_time": "2022-08-22T11:31:06.627Z"
   },
   {
    "duration": 47,
    "start_time": "2022-08-22T11:37:28.001Z"
   },
   {
    "duration": 660,
    "start_time": "2022-08-22T11:39:39.547Z"
   },
   {
    "duration": 1028,
    "start_time": "2022-08-22T11:39:47.086Z"
   },
   {
    "duration": 183,
    "start_time": "2022-08-22T11:39:48.115Z"
   },
   {
    "duration": 12,
    "start_time": "2022-08-22T11:39:48.299Z"
   },
   {
    "duration": 29,
    "start_time": "2022-08-22T11:39:48.313Z"
   },
   {
    "duration": 3,
    "start_time": "2022-08-22T11:39:48.344Z"
   },
   {
    "duration": 17,
    "start_time": "2022-08-22T11:39:48.349Z"
   },
   {
    "duration": 535,
    "start_time": "2022-08-22T11:39:48.367Z"
   },
   {
    "duration": 1193,
    "start_time": "2022-08-22T11:40:03.486Z"
   },
   {
    "duration": 1268,
    "start_time": "2022-08-22T11:40:25.303Z"
   },
   {
    "duration": 405,
    "start_time": "2022-08-22T11:40:35.598Z"
   },
   {
    "duration": 931,
    "start_time": "2022-08-22T11:40:40.853Z"
   },
   {
    "duration": 178,
    "start_time": "2022-08-22T11:40:41.786Z"
   },
   {
    "duration": 10,
    "start_time": "2022-08-22T11:40:41.966Z"
   },
   {
    "duration": 28,
    "start_time": "2022-08-22T11:40:41.977Z"
   },
   {
    "duration": 3,
    "start_time": "2022-08-22T11:40:42.007Z"
   },
   {
    "duration": 19,
    "start_time": "2022-08-22T11:40:42.011Z"
   },
   {
    "duration": 518,
    "start_time": "2022-08-22T11:40:42.031Z"
   },
   {
    "duration": 1196,
    "start_time": "2022-08-22T11:43:36.837Z"
   },
   {
    "duration": 935,
    "start_time": "2022-08-22T11:43:43.050Z"
   },
   {
    "duration": 190,
    "start_time": "2022-08-22T11:43:43.987Z"
   },
   {
    "duration": 10,
    "start_time": "2022-08-22T11:43:44.179Z"
   },
   {
    "duration": 19,
    "start_time": "2022-08-22T11:43:44.191Z"
   },
   {
    "duration": 3,
    "start_time": "2022-08-22T11:43:44.211Z"
   },
   {
    "duration": 10,
    "start_time": "2022-08-22T11:43:44.215Z"
   },
   {
    "duration": 1225,
    "start_time": "2022-08-22T11:43:44.227Z"
   },
   {
    "duration": 1010,
    "start_time": "2022-08-22T11:44:19.118Z"
   },
   {
    "duration": 187,
    "start_time": "2022-08-22T11:44:20.130Z"
   },
   {
    "duration": 10,
    "start_time": "2022-08-22T11:44:20.319Z"
   },
   {
    "duration": 18,
    "start_time": "2022-08-22T11:44:20.331Z"
   },
   {
    "duration": 3,
    "start_time": "2022-08-22T11:44:20.351Z"
   },
   {
    "duration": 9,
    "start_time": "2022-08-22T11:44:20.355Z"
   },
   {
    "duration": 611,
    "start_time": "2022-08-22T11:44:20.365Z"
   },
   {
    "duration": 20,
    "start_time": "2022-08-22T11:46:48.006Z"
   },
   {
    "duration": 1001,
    "start_time": "2022-08-22T11:46:54.416Z"
   },
   {
    "duration": 181,
    "start_time": "2022-08-22T11:46:55.418Z"
   },
   {
    "duration": 10,
    "start_time": "2022-08-22T11:46:55.600Z"
   },
   {
    "duration": 23,
    "start_time": "2022-08-22T11:46:55.612Z"
   },
   {
    "duration": 3,
    "start_time": "2022-08-22T11:46:55.637Z"
   },
   {
    "duration": 11,
    "start_time": "2022-08-22T11:46:55.642Z"
   },
   {
    "duration": 19,
    "start_time": "2022-08-22T11:46:55.654Z"
   },
   {
    "duration": 15,
    "start_time": "2022-08-22T11:48:03.859Z"
   },
   {
    "duration": 62,
    "start_time": "2022-08-22T11:50:50.487Z"
   },
   {
    "duration": 81,
    "start_time": "2022-08-22T11:57:59.984Z"
   },
   {
    "duration": 76,
    "start_time": "2022-08-22T12:00:21.677Z"
   },
   {
    "duration": 94,
    "start_time": "2022-08-22T12:00:37.991Z"
   },
   {
    "duration": 92,
    "start_time": "2022-08-22T12:09:01.836Z"
   },
   {
    "duration": 106,
    "start_time": "2022-08-22T12:09:10.830Z"
   },
   {
    "duration": 1027,
    "start_time": "2022-08-22T12:09:55.769Z"
   },
   {
    "duration": 173,
    "start_time": "2022-08-22T12:09:56.798Z"
   },
   {
    "duration": 11,
    "start_time": "2022-08-22T12:09:56.972Z"
   },
   {
    "duration": 35,
    "start_time": "2022-08-22T12:09:56.985Z"
   },
   {
    "duration": 4,
    "start_time": "2022-08-22T12:09:57.021Z"
   },
   {
    "duration": 14,
    "start_time": "2022-08-22T12:09:57.026Z"
   },
   {
    "duration": 21,
    "start_time": "2022-08-22T12:09:57.041Z"
   },
   {
    "duration": 90,
    "start_time": "2022-08-22T12:09:57.064Z"
   },
   {
    "duration": 89,
    "start_time": "2022-08-22T12:09:57.156Z"
   },
   {
    "duration": 97,
    "start_time": "2022-08-22T12:09:57.247Z"
   },
   {
    "duration": 120,
    "start_time": "2022-08-22T12:09:57.345Z"
   },
   {
    "duration": 572,
    "start_time": "2022-08-22T12:11:58.656Z"
   },
   {
    "duration": 1050,
    "start_time": "2022-08-22T12:12:03.591Z"
   },
   {
    "duration": 200,
    "start_time": "2022-08-22T12:12:04.643Z"
   },
   {
    "duration": 11,
    "start_time": "2022-08-22T12:12:04.845Z"
   },
   {
    "duration": 24,
    "start_time": "2022-08-22T12:12:04.858Z"
   },
   {
    "duration": 16,
    "start_time": "2022-08-22T12:12:04.883Z"
   },
   {
    "duration": 19,
    "start_time": "2022-08-22T12:12:04.900Z"
   },
   {
    "duration": 24,
    "start_time": "2022-08-22T12:12:04.921Z"
   },
   {
    "duration": 604,
    "start_time": "2022-08-22T12:12:04.947Z"
   },
   {
    "duration": 0,
    "start_time": "2022-08-22T12:12:05.553Z"
   },
   {
    "duration": 0,
    "start_time": "2022-08-22T12:12:05.554Z"
   },
   {
    "duration": 0,
    "start_time": "2022-08-22T12:12:05.555Z"
   },
   {
    "duration": 107,
    "start_time": "2022-08-22T12:12:18.025Z"
   },
   {
    "duration": 62,
    "start_time": "2022-08-22T12:12:32.900Z"
   },
   {
    "duration": 76,
    "start_time": "2022-08-22T12:12:34.957Z"
   },
   {
    "duration": 89,
    "start_time": "2022-08-22T12:12:38.044Z"
   },
   {
    "duration": 60,
    "start_time": "2022-08-22T12:15:04.639Z"
   },
   {
    "duration": 976,
    "start_time": "2022-08-22T12:15:12.924Z"
   },
   {
    "duration": 196,
    "start_time": "2022-08-22T12:15:13.902Z"
   },
   {
    "duration": 11,
    "start_time": "2022-08-22T12:15:14.100Z"
   },
   {
    "duration": 18,
    "start_time": "2022-08-22T12:15:14.114Z"
   },
   {
    "duration": 4,
    "start_time": "2022-08-22T12:15:14.134Z"
   },
   {
    "duration": 11,
    "start_time": "2022-08-22T12:15:14.139Z"
   },
   {
    "duration": 18,
    "start_time": "2022-08-22T12:15:14.151Z"
   },
   {
    "duration": 116,
    "start_time": "2022-08-22T12:15:14.199Z"
   },
   {
    "duration": 61,
    "start_time": "2022-08-22T12:15:14.317Z"
   },
   {
    "duration": 101,
    "start_time": "2022-08-22T12:15:14.381Z"
   },
   {
    "duration": 120,
    "start_time": "2022-08-22T12:15:14.484Z"
   },
   {
    "duration": 9,
    "start_time": "2022-08-22T12:32:13.913Z"
   },
   {
    "duration": 20,
    "start_time": "2022-08-22T12:33:37.686Z"
   },
   {
    "duration": 4,
    "start_time": "2022-08-22T12:35:01.980Z"
   },
   {
    "duration": 6,
    "start_time": "2022-08-22T12:41:14.211Z"
   },
   {
    "duration": 23,
    "start_time": "2022-08-22T12:41:44.525Z"
   },
   {
    "duration": 107,
    "start_time": "2022-08-22T12:44:09.628Z"
   },
   {
    "duration": 10,
    "start_time": "2022-08-22T12:44:23.611Z"
   },
   {
    "duration": 27,
    "start_time": "2022-08-22T12:44:42.783Z"
   },
   {
    "duration": 31,
    "start_time": "2022-08-22T12:45:23.032Z"
   },
   {
    "duration": 988,
    "start_time": "2022-08-22T12:45:37.500Z"
   },
   {
    "duration": 191,
    "start_time": "2022-08-22T12:45:38.490Z"
   },
   {
    "duration": 10,
    "start_time": "2022-08-22T12:45:38.683Z"
   },
   {
    "duration": 17,
    "start_time": "2022-08-22T12:45:38.698Z"
   },
   {
    "duration": 4,
    "start_time": "2022-08-22T12:45:38.717Z"
   },
   {
    "duration": 11,
    "start_time": "2022-08-22T12:45:38.722Z"
   },
   {
    "duration": 18,
    "start_time": "2022-08-22T12:45:38.734Z"
   },
   {
    "duration": 128,
    "start_time": "2022-08-22T12:45:38.754Z"
   },
   {
    "duration": 77,
    "start_time": "2022-08-22T12:45:38.884Z"
   },
   {
    "duration": 96,
    "start_time": "2022-08-22T12:45:38.963Z"
   },
   {
    "duration": 101,
    "start_time": "2022-08-22T12:45:39.061Z"
   },
   {
    "duration": 9,
    "start_time": "2022-08-22T12:45:39.163Z"
   },
   {
    "duration": 27,
    "start_time": "2022-08-22T12:45:39.173Z"
   },
   {
    "duration": 23,
    "start_time": "2022-08-22T12:45:39.202Z"
   },
   {
    "duration": 12,
    "start_time": "2022-08-22T12:45:39.227Z"
   },
   {
    "duration": 125,
    "start_time": "2022-08-22T12:45:39.240Z"
   },
   {
    "duration": 29,
    "start_time": "2022-08-22T12:45:55.960Z"
   },
   {
    "duration": 23,
    "start_time": "2022-08-22T12:49:32.710Z"
   },
   {
    "duration": 23,
    "start_time": "2022-08-22T12:49:49.515Z"
   },
   {
    "duration": 62,
    "start_time": "2022-08-22T12:50:14.572Z"
   },
   {
    "duration": 25,
    "start_time": "2022-08-22T12:50:24.045Z"
   },
   {
    "duration": 24,
    "start_time": "2022-08-22T12:50:32.099Z"
   },
   {
    "duration": 26,
    "start_time": "2022-08-22T12:51:12.616Z"
   },
   {
    "duration": 23,
    "start_time": "2022-08-22T12:52:19.561Z"
   },
   {
    "duration": 25,
    "start_time": "2022-08-22T12:52:33.680Z"
   },
   {
    "duration": 219,
    "start_time": "2022-08-22T12:53:13.228Z"
   },
   {
    "duration": 27,
    "start_time": "2022-08-22T12:53:22.885Z"
   },
   {
    "duration": 23,
    "start_time": "2022-08-22T12:54:08.220Z"
   },
   {
    "duration": 956,
    "start_time": "2022-08-22T12:54:35.804Z"
   },
   {
    "duration": 9,
    "start_time": "2022-08-22T12:55:18.958Z"
   },
   {
    "duration": 1034,
    "start_time": "2022-08-22T12:55:25.073Z"
   },
   {
    "duration": 199,
    "start_time": "2022-08-22T12:55:26.109Z"
   },
   {
    "duration": 10,
    "start_time": "2022-08-22T12:55:26.310Z"
   },
   {
    "duration": 19,
    "start_time": "2022-08-22T12:55:26.322Z"
   },
   {
    "duration": 4,
    "start_time": "2022-08-22T12:55:26.342Z"
   },
   {
    "duration": 11,
    "start_time": "2022-08-22T12:55:26.348Z"
   },
   {
    "duration": 38,
    "start_time": "2022-08-22T12:55:26.361Z"
   },
   {
    "duration": 126,
    "start_time": "2022-08-22T12:55:26.402Z"
   },
   {
    "duration": 103,
    "start_time": "2022-08-22T12:55:26.530Z"
   },
   {
    "duration": 82,
    "start_time": "2022-08-22T12:55:26.635Z"
   },
   {
    "duration": 101,
    "start_time": "2022-08-22T12:55:26.719Z"
   },
   {
    "duration": 9,
    "start_time": "2022-08-22T12:55:26.822Z"
   },
   {
    "duration": 20,
    "start_time": "2022-08-22T12:55:26.832Z"
   },
   {
    "duration": 21,
    "start_time": "2022-08-22T12:55:26.853Z"
   },
   {
    "duration": 28,
    "start_time": "2022-08-22T12:55:26.875Z"
   },
   {
    "duration": 22,
    "start_time": "2022-08-22T12:55:26.905Z"
   },
   {
    "duration": 5,
    "start_time": "2022-08-22T12:55:26.930Z"
   },
   {
    "duration": 21,
    "start_time": "2022-08-22T12:55:42.059Z"
   },
   {
    "duration": 5,
    "start_time": "2022-08-22T13:08:03.038Z"
   },
   {
    "duration": 5,
    "start_time": "2022-08-22T13:08:17.223Z"
   },
   {
    "duration": 4,
    "start_time": "2022-08-22T13:08:45.434Z"
   },
   {
    "duration": 5,
    "start_time": "2022-08-22T13:08:49.119Z"
   },
   {
    "duration": 99,
    "start_time": "2022-08-22T13:16:40.863Z"
   },
   {
    "duration": 1085,
    "start_time": "2022-08-22T13:17:11.287Z"
   },
   {
    "duration": 146,
    "start_time": "2022-08-22T13:17:12.374Z"
   },
   {
    "duration": 10,
    "start_time": "2022-08-22T13:17:12.522Z"
   },
   {
    "duration": 42,
    "start_time": "2022-08-22T13:17:12.534Z"
   },
   {
    "duration": 31,
    "start_time": "2022-08-22T13:17:12.578Z"
   },
   {
    "duration": 44,
    "start_time": "2022-08-22T13:17:12.611Z"
   },
   {
    "duration": 56,
    "start_time": "2022-08-22T13:17:12.657Z"
   },
   {
    "duration": 135,
    "start_time": "2022-08-22T13:17:12.714Z"
   },
   {
    "duration": 66,
    "start_time": "2022-08-22T13:17:12.851Z"
   },
   {
    "duration": 86,
    "start_time": "2022-08-22T13:17:12.919Z"
   },
   {
    "duration": 95,
    "start_time": "2022-08-22T13:17:13.007Z"
   },
   {
    "duration": 7,
    "start_time": "2022-08-22T13:17:13.104Z"
   },
   {
    "duration": 35,
    "start_time": "2022-08-22T13:17:13.113Z"
   },
   {
    "duration": 34,
    "start_time": "2022-08-22T13:17:13.150Z"
   },
   {
    "duration": 30,
    "start_time": "2022-08-22T13:17:13.185Z"
   },
   {
    "duration": 68,
    "start_time": "2022-08-22T13:17:13.216Z"
   },
   {
    "duration": 20,
    "start_time": "2022-08-22T13:17:13.285Z"
   },
   {
    "duration": 39,
    "start_time": "2022-08-22T13:17:13.306Z"
   },
   {
    "duration": 46,
    "start_time": "2022-08-22T13:17:13.346Z"
   },
   {
    "duration": 391,
    "start_time": "2022-08-22T13:17:13.394Z"
   },
   {
    "duration": 181,
    "start_time": "2022-08-22T13:23:31.307Z"
   },
   {
    "duration": 248,
    "start_time": "2022-08-22T13:23:40.304Z"
   },
   {
    "duration": 174,
    "start_time": "2022-08-22T13:23:44.922Z"
   },
   {
    "duration": 154,
    "start_time": "2022-08-22T13:23:51.050Z"
   },
   {
    "duration": 164,
    "start_time": "2022-08-22T13:23:55.725Z"
   },
   {
    "duration": 232,
    "start_time": "2022-08-22T13:23:59.932Z"
   },
   {
    "duration": 280,
    "start_time": "2022-08-22T13:24:09.118Z"
   },
   {
    "duration": 239,
    "start_time": "2022-08-22T13:25:24.855Z"
   },
   {
    "duration": 346,
    "start_time": "2022-08-22T13:25:43.387Z"
   },
   {
    "duration": 1142,
    "start_time": "2022-08-22T13:30:31.365Z"
   },
   {
    "duration": 150,
    "start_time": "2022-08-22T13:30:32.509Z"
   },
   {
    "duration": 11,
    "start_time": "2022-08-22T13:30:32.660Z"
   },
   {
    "duration": 35,
    "start_time": "2022-08-22T13:30:32.673Z"
   },
   {
    "duration": 4,
    "start_time": "2022-08-22T13:30:32.711Z"
   },
   {
    "duration": 24,
    "start_time": "2022-08-22T13:30:32.716Z"
   },
   {
    "duration": 28,
    "start_time": "2022-08-22T13:30:32.742Z"
   },
   {
    "duration": 118,
    "start_time": "2022-08-22T13:30:32.772Z"
   },
   {
    "duration": 64,
    "start_time": "2022-08-22T13:30:32.898Z"
   },
   {
    "duration": 89,
    "start_time": "2022-08-22T13:30:32.964Z"
   },
   {
    "duration": 101,
    "start_time": "2022-08-22T13:30:33.055Z"
   },
   {
    "duration": 8,
    "start_time": "2022-08-22T13:30:33.158Z"
   },
   {
    "duration": 32,
    "start_time": "2022-08-22T13:30:33.167Z"
   },
   {
    "duration": 26,
    "start_time": "2022-08-22T13:30:33.203Z"
   },
   {
    "duration": 17,
    "start_time": "2022-08-22T13:30:33.231Z"
   },
   {
    "duration": 28,
    "start_time": "2022-08-22T13:30:33.250Z"
   },
   {
    "duration": 4,
    "start_time": "2022-08-22T13:30:33.280Z"
   },
   {
    "duration": 17,
    "start_time": "2022-08-22T13:30:33.285Z"
   },
   {
    "duration": 17,
    "start_time": "2022-08-22T13:30:33.303Z"
   },
   {
    "duration": 378,
    "start_time": "2022-08-22T13:30:33.321Z"
   },
   {
    "duration": 21,
    "start_time": "2022-08-22T13:31:28.684Z"
   },
   {
    "duration": 6,
    "start_time": "2022-08-22T13:31:31.803Z"
   },
   {
    "duration": 6,
    "start_time": "2022-08-22T13:31:36.443Z"
   },
   {
    "duration": 5,
    "start_time": "2022-08-22T13:31:38.856Z"
   },
   {
    "duration": 292,
    "start_time": "2022-08-22T13:31:42.338Z"
   },
   {
    "duration": 214,
    "start_time": "2022-08-22T13:34:56.147Z"
   },
   {
    "duration": 1160,
    "start_time": "2022-08-22T13:37:58.800Z"
   },
   {
    "duration": 156,
    "start_time": "2022-08-22T13:37:59.962Z"
   },
   {
    "duration": 12,
    "start_time": "2022-08-22T13:38:00.120Z"
   },
   {
    "duration": 21,
    "start_time": "2022-08-22T13:38:00.133Z"
   },
   {
    "duration": 3,
    "start_time": "2022-08-22T13:38:00.157Z"
   },
   {
    "duration": 36,
    "start_time": "2022-08-22T13:38:00.162Z"
   },
   {
    "duration": 17,
    "start_time": "2022-08-22T13:38:00.200Z"
   },
   {
    "duration": 119,
    "start_time": "2022-08-22T13:38:00.218Z"
   },
   {
    "duration": 80,
    "start_time": "2022-08-22T13:38:00.340Z"
   },
   {
    "duration": 86,
    "start_time": "2022-08-22T13:38:00.422Z"
   },
   {
    "duration": 102,
    "start_time": "2022-08-22T13:38:00.509Z"
   },
   {
    "duration": 11,
    "start_time": "2022-08-22T13:38:00.613Z"
   },
   {
    "duration": 47,
    "start_time": "2022-08-22T13:38:00.626Z"
   },
   {
    "duration": 21,
    "start_time": "2022-08-22T13:38:00.676Z"
   },
   {
    "duration": 24,
    "start_time": "2022-08-22T13:38:00.699Z"
   },
   {
    "duration": 31,
    "start_time": "2022-08-22T13:38:00.725Z"
   },
   {
    "duration": 15,
    "start_time": "2022-08-22T13:38:00.758Z"
   },
   {
    "duration": 10,
    "start_time": "2022-08-22T13:38:00.775Z"
   },
   {
    "duration": 32,
    "start_time": "2022-08-22T13:38:00.786Z"
   },
   {
    "duration": 1125,
    "start_time": "2022-08-22T13:39:04.676Z"
   },
   {
    "duration": 149,
    "start_time": "2022-08-22T13:39:05.803Z"
   },
   {
    "duration": 15,
    "start_time": "2022-08-22T13:39:05.954Z"
   },
   {
    "duration": 28,
    "start_time": "2022-08-22T13:39:05.970Z"
   },
   {
    "duration": 3,
    "start_time": "2022-08-22T13:39:06.001Z"
   },
   {
    "duration": 16,
    "start_time": "2022-08-22T13:39:06.006Z"
   },
   {
    "duration": 30,
    "start_time": "2022-08-22T13:39:06.024Z"
   },
   {
    "duration": 153,
    "start_time": "2022-08-22T13:39:06.056Z"
   },
   {
    "duration": 87,
    "start_time": "2022-08-22T13:39:06.212Z"
   },
   {
    "duration": 76,
    "start_time": "2022-08-22T13:39:06.301Z"
   },
   {
    "duration": 105,
    "start_time": "2022-08-22T13:39:06.378Z"
   },
   {
    "duration": 19,
    "start_time": "2022-08-22T13:39:06.485Z"
   },
   {
    "duration": 27,
    "start_time": "2022-08-22T13:39:06.506Z"
   },
   {
    "duration": 20,
    "start_time": "2022-08-22T13:39:06.536Z"
   },
   {
    "duration": 7,
    "start_time": "2022-08-22T13:39:06.557Z"
   },
   {
    "duration": 47,
    "start_time": "2022-08-22T13:39:06.566Z"
   },
   {
    "duration": 4,
    "start_time": "2022-08-22T13:39:06.615Z"
   },
   {
    "duration": 8,
    "start_time": "2022-08-22T13:39:06.620Z"
   },
   {
    "duration": 9,
    "start_time": "2022-08-22T13:39:06.630Z"
   },
   {
    "duration": 1056,
    "start_time": "2022-08-22T13:39:32.837Z"
   },
   {
    "duration": 158,
    "start_time": "2022-08-22T13:39:33.895Z"
   },
   {
    "duration": 12,
    "start_time": "2022-08-22T13:39:34.055Z"
   },
   {
    "duration": 30,
    "start_time": "2022-08-22T13:39:34.068Z"
   },
   {
    "duration": 4,
    "start_time": "2022-08-22T13:39:34.101Z"
   },
   {
    "duration": 16,
    "start_time": "2022-08-22T13:39:34.106Z"
   },
   {
    "duration": 24,
    "start_time": "2022-08-22T13:39:34.124Z"
   },
   {
    "duration": 123,
    "start_time": "2022-08-22T13:39:34.150Z"
   },
   {
    "duration": 75,
    "start_time": "2022-08-22T13:39:34.275Z"
   },
   {
    "duration": 97,
    "start_time": "2022-08-22T13:39:34.351Z"
   },
   {
    "duration": 140,
    "start_time": "2022-08-22T13:39:34.450Z"
   },
   {
    "duration": 15,
    "start_time": "2022-08-22T13:39:34.592Z"
   },
   {
    "duration": 31,
    "start_time": "2022-08-22T13:39:34.609Z"
   },
   {
    "duration": 20,
    "start_time": "2022-08-22T13:39:34.643Z"
   },
   {
    "duration": 12,
    "start_time": "2022-08-22T13:39:34.665Z"
   },
   {
    "duration": 40,
    "start_time": "2022-08-22T13:39:34.679Z"
   },
   {
    "duration": 5,
    "start_time": "2022-08-22T13:39:34.721Z"
   },
   {
    "duration": 47,
    "start_time": "2022-08-22T13:39:34.728Z"
   },
   {
    "duration": 0,
    "start_time": "2022-08-22T13:39:34.777Z"
   },
   {
    "duration": 0,
    "start_time": "2022-08-22T13:39:34.778Z"
   },
   {
    "duration": 0,
    "start_time": "2022-08-22T13:39:34.779Z"
   },
   {
    "duration": 5,
    "start_time": "2022-08-22T13:39:41.511Z"
   },
   {
    "duration": 6,
    "start_time": "2022-08-22T13:39:48.885Z"
   },
   {
    "duration": 1070,
    "start_time": "2022-08-22T13:39:59.064Z"
   },
   {
    "duration": 153,
    "start_time": "2022-08-22T13:40:00.136Z"
   },
   {
    "duration": 12,
    "start_time": "2022-08-22T13:40:00.290Z"
   },
   {
    "duration": 22,
    "start_time": "2022-08-22T13:40:00.304Z"
   },
   {
    "duration": 16,
    "start_time": "2022-08-22T13:40:00.328Z"
   },
   {
    "duration": 27,
    "start_time": "2022-08-22T13:40:00.346Z"
   },
   {
    "duration": 29,
    "start_time": "2022-08-22T13:40:00.374Z"
   },
   {
    "duration": 117,
    "start_time": "2022-08-22T13:40:00.405Z"
   },
   {
    "duration": 76,
    "start_time": "2022-08-22T13:40:00.523Z"
   },
   {
    "duration": 75,
    "start_time": "2022-08-22T13:40:00.601Z"
   },
   {
    "duration": 111,
    "start_time": "2022-08-22T13:40:00.678Z"
   },
   {
    "duration": 8,
    "start_time": "2022-08-22T13:40:00.798Z"
   },
   {
    "duration": 26,
    "start_time": "2022-08-22T13:40:00.807Z"
   },
   {
    "duration": 37,
    "start_time": "2022-08-22T13:40:00.836Z"
   },
   {
    "duration": 25,
    "start_time": "2022-08-22T13:40:00.875Z"
   },
   {
    "duration": 46,
    "start_time": "2022-08-22T13:40:00.902Z"
   },
   {
    "duration": 6,
    "start_time": "2022-08-22T13:40:00.949Z"
   },
   {
    "duration": 57,
    "start_time": "2022-08-22T13:40:00.957Z"
   },
   {
    "duration": 35,
    "start_time": "2022-08-22T13:40:01.016Z"
   },
   {
    "duration": 76,
    "start_time": "2022-08-22T13:42:40.330Z"
   },
   {
    "duration": 1177,
    "start_time": "2022-08-22T13:42:45.951Z"
   },
   {
    "duration": 554,
    "start_time": "2022-08-22T13:42:47.130Z"
   },
   {
    "duration": 11,
    "start_time": "2022-08-22T13:42:47.686Z"
   },
   {
    "duration": 25,
    "start_time": "2022-08-22T13:42:47.700Z"
   },
   {
    "duration": 3,
    "start_time": "2022-08-22T13:42:47.727Z"
   },
   {
    "duration": 31,
    "start_time": "2022-08-22T13:42:47.731Z"
   },
   {
    "duration": 27,
    "start_time": "2022-08-22T13:42:47.763Z"
   },
   {
    "duration": 113,
    "start_time": "2022-08-22T13:42:47.791Z"
   },
   {
    "duration": 77,
    "start_time": "2022-08-22T13:42:47.906Z"
   },
   {
    "duration": 89,
    "start_time": "2022-08-22T13:42:47.985Z"
   },
   {
    "duration": 104,
    "start_time": "2022-08-22T13:42:48.075Z"
   },
   {
    "duration": 20,
    "start_time": "2022-08-22T13:42:48.180Z"
   },
   {
    "duration": 18,
    "start_time": "2022-08-22T13:42:48.202Z"
   },
   {
    "duration": 32,
    "start_time": "2022-08-22T13:42:48.222Z"
   },
   {
    "duration": 9,
    "start_time": "2022-08-22T13:42:48.256Z"
   },
   {
    "duration": 39,
    "start_time": "2022-08-22T13:42:48.266Z"
   },
   {
    "duration": 5,
    "start_time": "2022-08-22T13:42:48.307Z"
   },
   {
    "duration": 13,
    "start_time": "2022-08-22T13:42:48.314Z"
   },
   {
    "duration": 11,
    "start_time": "2022-08-22T13:42:48.329Z"
   },
   {
    "duration": 229,
    "start_time": "2022-08-22T13:42:48.341Z"
   },
   {
    "duration": 0,
    "start_time": "2022-08-22T13:42:48.572Z"
   },
   {
    "duration": 1048,
    "start_time": "2022-08-22T13:43:42.549Z"
   },
   {
    "duration": 150,
    "start_time": "2022-08-22T13:43:43.599Z"
   },
   {
    "duration": 11,
    "start_time": "2022-08-22T13:43:43.751Z"
   },
   {
    "duration": 21,
    "start_time": "2022-08-22T13:43:43.764Z"
   },
   {
    "duration": 12,
    "start_time": "2022-08-22T13:43:43.787Z"
   },
   {
    "duration": 12,
    "start_time": "2022-08-22T13:43:43.801Z"
   },
   {
    "duration": 17,
    "start_time": "2022-08-22T13:43:43.814Z"
   },
   {
    "duration": 141,
    "start_time": "2022-08-22T13:43:43.832Z"
   },
   {
    "duration": 68,
    "start_time": "2022-08-22T13:43:43.976Z"
   },
   {
    "duration": 89,
    "start_time": "2022-08-22T13:43:44.046Z"
   },
   {
    "duration": 126,
    "start_time": "2022-08-22T13:43:44.137Z"
   },
   {
    "duration": 8,
    "start_time": "2022-08-22T13:43:44.265Z"
   },
   {
    "duration": 30,
    "start_time": "2022-08-22T13:43:44.275Z"
   },
   {
    "duration": 20,
    "start_time": "2022-08-22T13:43:44.306Z"
   },
   {
    "duration": 9,
    "start_time": "2022-08-22T13:43:44.328Z"
   },
   {
    "duration": 21,
    "start_time": "2022-08-22T13:43:44.338Z"
   },
   {
    "duration": 4,
    "start_time": "2022-08-22T13:43:44.361Z"
   },
   {
    "duration": 34,
    "start_time": "2022-08-22T13:43:44.366Z"
   },
   {
    "duration": 27,
    "start_time": "2022-08-22T13:43:44.402Z"
   },
   {
    "duration": 373,
    "start_time": "2022-08-22T13:43:44.430Z"
   },
   {
    "duration": 0,
    "start_time": "2022-08-22T13:43:44.804Z"
   },
   {
    "duration": 130,
    "start_time": "2022-08-22T13:46:09.847Z"
   },
   {
    "duration": 1082,
    "start_time": "2022-08-22T13:47:49.732Z"
   },
   {
    "duration": 151,
    "start_time": "2022-08-22T13:47:50.815Z"
   },
   {
    "duration": 10,
    "start_time": "2022-08-22T13:47:50.968Z"
   },
   {
    "duration": 31,
    "start_time": "2022-08-22T13:47:50.979Z"
   },
   {
    "duration": 3,
    "start_time": "2022-08-22T13:47:51.013Z"
   },
   {
    "duration": 17,
    "start_time": "2022-08-22T13:47:51.018Z"
   },
   {
    "duration": 22,
    "start_time": "2022-08-22T13:47:51.037Z"
   },
   {
    "duration": 155,
    "start_time": "2022-08-22T13:47:51.062Z"
   },
   {
    "duration": 65,
    "start_time": "2022-08-22T13:47:51.219Z"
   },
   {
    "duration": 86,
    "start_time": "2022-08-22T13:47:51.285Z"
   },
   {
    "duration": 105,
    "start_time": "2022-08-22T13:47:51.373Z"
   },
   {
    "duration": 20,
    "start_time": "2022-08-22T13:47:51.480Z"
   },
   {
    "duration": 21,
    "start_time": "2022-08-22T13:47:51.501Z"
   },
   {
    "duration": 21,
    "start_time": "2022-08-22T13:47:51.524Z"
   },
   {
    "duration": 8,
    "start_time": "2022-08-22T13:47:51.547Z"
   },
   {
    "duration": 63,
    "start_time": "2022-08-22T13:47:51.557Z"
   },
   {
    "duration": 5,
    "start_time": "2022-08-22T13:47:51.622Z"
   },
   {
    "duration": 10,
    "start_time": "2022-08-22T13:47:51.629Z"
   },
   {
    "duration": 5,
    "start_time": "2022-08-22T13:47:51.641Z"
   },
   {
    "duration": 285,
    "start_time": "2022-08-22T13:47:51.648Z"
   },
   {
    "duration": 0,
    "start_time": "2022-08-22T13:47:51.935Z"
   },
   {
    "duration": 365,
    "start_time": "2022-08-22T13:47:58.461Z"
   },
   {
    "duration": 10,
    "start_time": "2022-08-22T13:49:03.244Z"
   },
   {
    "duration": 1057,
    "start_time": "2022-08-22T13:49:31.459Z"
   },
   {
    "duration": 151,
    "start_time": "2022-08-22T13:49:32.517Z"
   },
   {
    "duration": 12,
    "start_time": "2022-08-22T13:49:32.670Z"
   },
   {
    "duration": 31,
    "start_time": "2022-08-22T13:49:32.683Z"
   },
   {
    "duration": 4,
    "start_time": "2022-08-22T13:49:32.717Z"
   },
   {
    "duration": 9,
    "start_time": "2022-08-22T13:49:32.723Z"
   },
   {
    "duration": 20,
    "start_time": "2022-08-22T13:49:32.733Z"
   },
   {
    "duration": 133,
    "start_time": "2022-08-22T13:49:32.755Z"
   },
   {
    "duration": 74,
    "start_time": "2022-08-22T13:49:32.890Z"
   },
   {
    "duration": 97,
    "start_time": "2022-08-22T13:49:32.965Z"
   },
   {
    "duration": 104,
    "start_time": "2022-08-22T13:49:33.064Z"
   },
   {
    "duration": 9,
    "start_time": "2022-08-22T13:49:33.169Z"
   },
   {
    "duration": 41,
    "start_time": "2022-08-22T13:49:33.179Z"
   },
   {
    "duration": 21,
    "start_time": "2022-08-22T13:49:33.222Z"
   },
   {
    "duration": 12,
    "start_time": "2022-08-22T13:49:33.244Z"
   },
   {
    "duration": 22,
    "start_time": "2022-08-22T13:49:33.257Z"
   },
   {
    "duration": 17,
    "start_time": "2022-08-22T13:49:33.281Z"
   },
   {
    "duration": 5,
    "start_time": "2022-08-22T13:49:33.300Z"
   },
   {
    "duration": 5,
    "start_time": "2022-08-22T13:49:33.307Z"
   },
   {
    "duration": 407,
    "start_time": "2022-08-22T13:49:33.313Z"
   },
   {
    "duration": 113,
    "start_time": "2022-08-22T13:49:33.722Z"
   },
   {
    "duration": 10,
    "start_time": "2022-08-22T13:50:06.204Z"
   },
   {
    "duration": 1078,
    "start_time": "2022-08-22T13:50:18.128Z"
   },
   {
    "duration": 155,
    "start_time": "2022-08-22T13:50:19.208Z"
   },
   {
    "duration": 11,
    "start_time": "2022-08-22T13:50:19.365Z"
   },
   {
    "duration": 34,
    "start_time": "2022-08-22T13:50:19.377Z"
   },
   {
    "duration": 3,
    "start_time": "2022-08-22T13:50:19.413Z"
   },
   {
    "duration": 11,
    "start_time": "2022-08-22T13:50:19.418Z"
   },
   {
    "duration": 21,
    "start_time": "2022-08-22T13:50:19.431Z"
   },
   {
    "duration": 162,
    "start_time": "2022-08-22T13:50:19.454Z"
   },
   {
    "duration": 68,
    "start_time": "2022-08-22T13:50:19.618Z"
   },
   {
    "duration": 89,
    "start_time": "2022-08-22T13:50:19.688Z"
   },
   {
    "duration": 104,
    "start_time": "2022-08-22T13:50:19.779Z"
   },
   {
    "duration": 9,
    "start_time": "2022-08-22T13:50:19.898Z"
   },
   {
    "duration": 23,
    "start_time": "2022-08-22T13:50:19.908Z"
   },
   {
    "duration": 29,
    "start_time": "2022-08-22T13:50:19.933Z"
   },
   {
    "duration": 35,
    "start_time": "2022-08-22T13:50:19.963Z"
   },
   {
    "duration": 21,
    "start_time": "2022-08-22T13:50:20.001Z"
   },
   {
    "duration": 4,
    "start_time": "2022-08-22T13:50:20.024Z"
   },
   {
    "duration": 11,
    "start_time": "2022-08-22T13:50:20.029Z"
   },
   {
    "duration": 16,
    "start_time": "2022-08-22T13:50:20.042Z"
   },
   {
    "duration": 383,
    "start_time": "2022-08-22T13:50:20.060Z"
   },
   {
    "duration": 115,
    "start_time": "2022-08-22T13:50:20.444Z"
   },
   {
    "duration": 140,
    "start_time": "2022-08-22T13:51:26.518Z"
   },
   {
    "duration": 154,
    "start_time": "2022-08-22T13:55:52.037Z"
   },
   {
    "duration": 232,
    "start_time": "2022-08-22T13:56:14.310Z"
   },
   {
    "duration": 299,
    "start_time": "2022-08-22T13:56:26.618Z"
   },
   {
    "duration": 254,
    "start_time": "2022-08-22T13:56:34.845Z"
   },
   {
    "duration": 192,
    "start_time": "2022-08-22T14:00:50.309Z"
   },
   {
    "duration": 301,
    "start_time": "2022-08-22T14:01:23.844Z"
   },
   {
    "duration": 230,
    "start_time": "2022-08-22T14:01:48.531Z"
   },
   {
    "duration": 1155,
    "start_time": "2022-08-22T14:01:55.223Z"
   },
   {
    "duration": 160,
    "start_time": "2022-08-22T14:01:56.380Z"
   },
   {
    "duration": 13,
    "start_time": "2022-08-22T14:01:56.542Z"
   },
   {
    "duration": 20,
    "start_time": "2022-08-22T14:01:56.557Z"
   },
   {
    "duration": 21,
    "start_time": "2022-08-22T14:01:56.579Z"
   },
   {
    "duration": 9,
    "start_time": "2022-08-22T14:01:56.602Z"
   },
   {
    "duration": 21,
    "start_time": "2022-08-22T14:01:56.612Z"
   },
   {
    "duration": 150,
    "start_time": "2022-08-22T14:01:56.635Z"
   },
   {
    "duration": 101,
    "start_time": "2022-08-22T14:01:56.786Z"
   },
   {
    "duration": 108,
    "start_time": "2022-08-22T14:01:56.900Z"
   },
   {
    "duration": 106,
    "start_time": "2022-08-22T14:01:57.009Z"
   },
   {
    "duration": 9,
    "start_time": "2022-08-22T14:01:57.116Z"
   },
   {
    "duration": 30,
    "start_time": "2022-08-22T14:01:57.127Z"
   },
   {
    "duration": 40,
    "start_time": "2022-08-22T14:01:57.159Z"
   },
   {
    "duration": 6,
    "start_time": "2022-08-22T14:01:57.201Z"
   },
   {
    "duration": 35,
    "start_time": "2022-08-22T14:01:57.209Z"
   },
   {
    "duration": 6,
    "start_time": "2022-08-22T14:01:57.247Z"
   },
   {
    "duration": 17,
    "start_time": "2022-08-22T14:01:57.254Z"
   },
   {
    "duration": 25,
    "start_time": "2022-08-22T14:01:57.273Z"
   },
   {
    "duration": 388,
    "start_time": "2022-08-22T14:01:57.300Z"
   },
   {
    "duration": 229,
    "start_time": "2022-08-22T14:01:57.699Z"
   },
   {
    "duration": 304,
    "start_time": "2022-08-22T14:01:57.929Z"
   },
   {
    "duration": 165,
    "start_time": "2022-08-22T14:03:48.535Z"
   },
   {
    "duration": 324,
    "start_time": "2022-08-22T14:06:38.779Z"
   },
   {
    "duration": 306,
    "start_time": "2022-08-22T14:06:49.936Z"
   },
   {
    "duration": 253,
    "start_time": "2022-08-22T14:06:59.134Z"
   },
   {
    "duration": 252,
    "start_time": "2022-08-22T14:07:04.986Z"
   },
   {
    "duration": 260,
    "start_time": "2022-08-22T14:08:19.155Z"
   },
   {
    "duration": 1317,
    "start_time": "2022-08-22T14:08:46.729Z"
   },
   {
    "duration": 319,
    "start_time": "2022-08-22T14:13:17.682Z"
   },
   {
    "duration": 230,
    "start_time": "2022-08-22T14:14:00.438Z"
   },
   {
    "duration": 250,
    "start_time": "2022-08-22T14:14:11.324Z"
   },
   {
    "duration": 1106,
    "start_time": "2022-08-22T14:24:09.606Z"
   },
   {
    "duration": 148,
    "start_time": "2022-08-22T14:24:10.715Z"
   },
   {
    "duration": 10,
    "start_time": "2022-08-22T14:24:10.865Z"
   },
   {
    "duration": 29,
    "start_time": "2022-08-22T14:24:10.877Z"
   },
   {
    "duration": 3,
    "start_time": "2022-08-22T14:24:10.908Z"
   },
   {
    "duration": 9,
    "start_time": "2022-08-22T14:24:10.913Z"
   },
   {
    "duration": 23,
    "start_time": "2022-08-22T14:24:10.924Z"
   },
   {
    "duration": 134,
    "start_time": "2022-08-22T14:24:10.949Z"
   },
   {
    "duration": 75,
    "start_time": "2022-08-22T14:24:11.085Z"
   },
   {
    "duration": 89,
    "start_time": "2022-08-22T14:24:11.161Z"
   },
   {
    "duration": 101,
    "start_time": "2022-08-22T14:24:11.251Z"
   },
   {
    "duration": 9,
    "start_time": "2022-08-22T14:24:11.353Z"
   },
   {
    "duration": 69,
    "start_time": "2022-08-22T14:24:11.364Z"
   },
   {
    "duration": 22,
    "start_time": "2022-08-22T14:24:11.436Z"
   },
   {
    "duration": 11,
    "start_time": "2022-08-22T14:24:11.459Z"
   },
   {
    "duration": 35,
    "start_time": "2022-08-22T14:24:11.472Z"
   },
   {
    "duration": 4,
    "start_time": "2022-08-22T14:24:11.508Z"
   },
   {
    "duration": 6,
    "start_time": "2022-08-22T14:24:11.513Z"
   },
   {
    "duration": 6,
    "start_time": "2022-08-22T14:24:11.521Z"
   },
   {
    "duration": 400,
    "start_time": "2022-08-22T14:24:11.528Z"
   },
   {
    "duration": 4,
    "start_time": "2022-08-22T14:26:10.878Z"
   },
   {
    "duration": 11,
    "start_time": "2022-08-22T14:26:14.966Z"
   },
   {
    "duration": 10,
    "start_time": "2022-08-22T14:26:22.920Z"
   },
   {
    "duration": 23,
    "start_time": "2022-08-22T14:26:34.866Z"
   },
   {
    "duration": 69,
    "start_time": "2022-08-22T14:27:01.637Z"
   },
   {
    "duration": 29,
    "start_time": "2022-08-22T14:27:40.803Z"
   },
   {
    "duration": 62,
    "start_time": "2022-08-22T14:29:19.845Z"
   },
   {
    "duration": 76,
    "start_time": "2022-08-22T14:29:39.201Z"
   },
   {
    "duration": 6,
    "start_time": "2022-08-22T14:30:45.833Z"
   },
   {
    "duration": 6,
    "start_time": "2022-08-22T14:31:44.550Z"
   },
   {
    "duration": 5,
    "start_time": "2022-08-22T14:32:05.914Z"
   },
   {
    "duration": 104,
    "start_time": "2022-08-22T14:33:23.743Z"
   },
   {
    "duration": 5,
    "start_time": "2022-08-22T14:34:29.338Z"
   },
   {
    "duration": 29,
    "start_time": "2022-08-22T14:36:45.117Z"
   },
   {
    "duration": 8,
    "start_time": "2022-08-22T14:37:11.742Z"
   },
   {
    "duration": 1247,
    "start_time": "2022-08-22T14:39:51.768Z"
   },
   {
    "duration": 154,
    "start_time": "2022-08-22T14:39:53.017Z"
   },
   {
    "duration": 12,
    "start_time": "2022-08-22T14:39:53.173Z"
   },
   {
    "duration": 31,
    "start_time": "2022-08-22T14:39:53.187Z"
   },
   {
    "duration": 3,
    "start_time": "2022-08-22T14:39:53.220Z"
   },
   {
    "duration": 21,
    "start_time": "2022-08-22T14:39:53.225Z"
   },
   {
    "duration": 27,
    "start_time": "2022-08-22T14:39:53.248Z"
   },
   {
    "duration": 162,
    "start_time": "2022-08-22T14:39:53.278Z"
   },
   {
    "duration": 74,
    "start_time": "2022-08-22T14:39:53.441Z"
   },
   {
    "duration": 87,
    "start_time": "2022-08-22T14:39:53.517Z"
   },
   {
    "duration": 104,
    "start_time": "2022-08-22T14:39:53.606Z"
   },
   {
    "duration": 9,
    "start_time": "2022-08-22T14:39:53.712Z"
   },
   {
    "duration": 67,
    "start_time": "2022-08-22T14:39:53.723Z"
   },
   {
    "duration": 41,
    "start_time": "2022-08-22T14:39:53.791Z"
   },
   {
    "duration": 14,
    "start_time": "2022-08-22T14:39:53.834Z"
   },
   {
    "duration": 0,
    "start_time": "2022-08-22T14:40:29.285Z"
   },
   {
    "duration": 0,
    "start_time": "2022-08-22T14:40:29.286Z"
   },
   {
    "duration": 0,
    "start_time": "2022-08-22T14:40:29.287Z"
   },
   {
    "duration": 0,
    "start_time": "2022-08-22T14:40:29.288Z"
   },
   {
    "duration": 1125,
    "start_time": "2022-08-22T14:41:15.005Z"
   },
   {
    "duration": 150,
    "start_time": "2022-08-22T14:41:16.132Z"
   },
   {
    "duration": 16,
    "start_time": "2022-08-22T14:41:16.283Z"
   },
   {
    "duration": 19,
    "start_time": "2022-08-22T14:41:16.300Z"
   },
   {
    "duration": 3,
    "start_time": "2022-08-22T14:41:16.321Z"
   },
   {
    "duration": 12,
    "start_time": "2022-08-22T14:41:16.326Z"
   },
   {
    "duration": 21,
    "start_time": "2022-08-22T14:41:16.340Z"
   },
   {
    "duration": 181,
    "start_time": "2022-08-22T14:41:16.363Z"
   },
   {
    "duration": 75,
    "start_time": "2022-08-22T14:41:16.545Z"
   },
   {
    "duration": 86,
    "start_time": "2022-08-22T14:41:16.622Z"
   },
   {
    "duration": 103,
    "start_time": "2022-08-22T14:41:16.709Z"
   },
   {
    "duration": 8,
    "start_time": "2022-08-22T14:41:16.813Z"
   },
   {
    "duration": 31,
    "start_time": "2022-08-22T14:41:16.822Z"
   },
   {
    "duration": 43,
    "start_time": "2022-08-22T14:41:16.856Z"
   },
   {
    "duration": 7,
    "start_time": "2022-08-22T14:41:16.901Z"
   },
   {
    "duration": 1137,
    "start_time": "2022-08-22T14:41:50.461Z"
   },
   {
    "duration": 150,
    "start_time": "2022-08-22T14:41:51.600Z"
   },
   {
    "duration": 12,
    "start_time": "2022-08-22T14:41:51.752Z"
   },
   {
    "duration": 24,
    "start_time": "2022-08-22T14:41:51.765Z"
   },
   {
    "duration": 9,
    "start_time": "2022-08-22T14:41:51.791Z"
   },
   {
    "duration": 12,
    "start_time": "2022-08-22T14:41:51.802Z"
   },
   {
    "duration": 24,
    "start_time": "2022-08-22T14:41:51.816Z"
   },
   {
    "duration": 148,
    "start_time": "2022-08-22T14:41:51.841Z"
   },
   {
    "duration": 76,
    "start_time": "2022-08-22T14:41:51.991Z"
   },
   {
    "duration": 95,
    "start_time": "2022-08-22T14:41:52.069Z"
   },
   {
    "duration": 140,
    "start_time": "2022-08-22T14:41:52.166Z"
   },
   {
    "duration": 11,
    "start_time": "2022-08-22T14:41:52.308Z"
   },
   {
    "duration": 40,
    "start_time": "2022-08-22T14:41:52.321Z"
   },
   {
    "duration": 19,
    "start_time": "2022-08-22T14:41:52.363Z"
   },
   {
    "duration": 21,
    "start_time": "2022-08-22T14:41:52.383Z"
   },
   {
    "duration": 25,
    "start_time": "2022-08-22T14:42:28.075Z"
   },
   {
    "duration": 16,
    "start_time": "2022-08-22T14:42:28.102Z"
   },
   {
    "duration": 507,
    "start_time": "2022-08-22T14:42:28.120Z"
   },
   {
    "duration": 5,
    "start_time": "2022-08-22T14:42:29.110Z"
   },
   {
    "duration": 1229,
    "start_time": "2022-08-22T14:42:33.686Z"
   },
   {
    "duration": 154,
    "start_time": "2022-08-22T14:42:34.918Z"
   },
   {
    "duration": 12,
    "start_time": "2022-08-22T14:42:35.074Z"
   },
   {
    "duration": 18,
    "start_time": "2022-08-22T14:42:35.098Z"
   },
   {
    "duration": 3,
    "start_time": "2022-08-22T14:42:35.118Z"
   },
   {
    "duration": 13,
    "start_time": "2022-08-22T14:42:35.123Z"
   },
   {
    "duration": 19,
    "start_time": "2022-08-22T14:42:35.137Z"
   },
   {
    "duration": 168,
    "start_time": "2022-08-22T14:42:35.158Z"
   },
   {
    "duration": 76,
    "start_time": "2022-08-22T14:42:35.327Z"
   },
   {
    "duration": 93,
    "start_time": "2022-08-22T14:42:35.406Z"
   },
   {
    "duration": 101,
    "start_time": "2022-08-22T14:42:35.501Z"
   },
   {
    "duration": 9,
    "start_time": "2022-08-22T14:42:35.603Z"
   },
   {
    "duration": 30,
    "start_time": "2022-08-22T14:42:35.613Z"
   },
   {
    "duration": 19,
    "start_time": "2022-08-22T14:42:35.645Z"
   },
   {
    "duration": 35,
    "start_time": "2022-08-22T14:42:35.665Z"
   },
   {
    "duration": 5,
    "start_time": "2022-08-22T14:42:35.702Z"
   },
   {
    "duration": 6,
    "start_time": "2022-08-22T14:42:35.708Z"
   },
   {
    "duration": 5,
    "start_time": "2022-08-22T14:42:35.715Z"
   },
   {
    "duration": 417,
    "start_time": "2022-08-22T14:42:35.722Z"
   },
   {
    "duration": 101,
    "start_time": "2022-08-22T14:42:43.802Z"
   },
   {
    "duration": 4,
    "start_time": "2022-08-22T14:42:51.536Z"
   },
   {
    "duration": 18,
    "start_time": "2022-08-22T14:46:03.339Z"
   },
   {
    "duration": 23,
    "start_time": "2022-08-22T14:46:09.271Z"
   },
   {
    "duration": 15,
    "start_time": "2022-08-22T14:46:27.071Z"
   },
   {
    "duration": 1347,
    "start_time": "2022-08-22T14:51:06.528Z"
   },
   {
    "duration": 217,
    "start_time": "2022-08-22T14:51:07.877Z"
   },
   {
    "duration": 15,
    "start_time": "2022-08-22T14:51:08.096Z"
   },
   {
    "duration": 26,
    "start_time": "2022-08-22T14:51:08.113Z"
   },
   {
    "duration": 4,
    "start_time": "2022-08-22T14:51:08.142Z"
   },
   {
    "duration": 17,
    "start_time": "2022-08-22T14:51:08.148Z"
   },
   {
    "duration": 53,
    "start_time": "2022-08-22T14:51:08.167Z"
   },
   {
    "duration": 213,
    "start_time": "2022-08-22T14:51:08.222Z"
   },
   {
    "duration": 111,
    "start_time": "2022-08-22T14:51:08.437Z"
   },
   {
    "duration": 126,
    "start_time": "2022-08-22T14:51:08.550Z"
   },
   {
    "duration": 150,
    "start_time": "2022-08-22T14:51:08.678Z"
   },
   {
    "duration": 12,
    "start_time": "2022-08-22T14:51:08.830Z"
   },
   {
    "duration": 60,
    "start_time": "2022-08-22T14:51:08.844Z"
   },
   {
    "duration": 37,
    "start_time": "2022-08-22T14:51:08.908Z"
   },
   {
    "duration": 14,
    "start_time": "2022-08-22T14:51:08.947Z"
   },
   {
    "duration": 61,
    "start_time": "2022-08-22T14:51:08.964Z"
   },
   {
    "duration": 23,
    "start_time": "2022-08-22T14:51:09.027Z"
   },
   {
    "duration": 7,
    "start_time": "2022-08-22T14:51:09.051Z"
   },
   {
    "duration": 15,
    "start_time": "2022-08-22T14:51:09.061Z"
   },
   {
    "duration": 137,
    "start_time": "2022-08-22T14:51:09.079Z"
   },
   {
    "duration": 56,
    "start_time": "2022-08-22T14:51:29.067Z"
   },
   {
    "duration": 21,
    "start_time": "2022-08-22T14:51:55.386Z"
   },
   {
    "duration": 22,
    "start_time": "2022-08-22T14:52:26.647Z"
   },
   {
    "duration": 182,
    "start_time": "2022-08-22T14:53:20.425Z"
   },
   {
    "duration": 167,
    "start_time": "2022-08-22T14:53:31.394Z"
   },
   {
    "duration": 313,
    "start_time": "2022-08-22T14:54:05.357Z"
   },
   {
    "duration": 249,
    "start_time": "2022-08-22T14:54:38.815Z"
   },
   {
    "duration": 27,
    "start_time": "2022-08-22T14:54:56.501Z"
   },
   {
    "duration": 215,
    "start_time": "2022-08-22T14:54:57.219Z"
   },
   {
    "duration": 223,
    "start_time": "2022-08-22T14:55:04.464Z"
   },
   {
    "duration": 228,
    "start_time": "2022-08-22T14:55:11.426Z"
   },
   {
    "duration": 315,
    "start_time": "2022-08-22T14:55:59.992Z"
   },
   {
    "duration": 288,
    "start_time": "2022-08-22T14:56:21.717Z"
   },
   {
    "duration": 1085,
    "start_time": "2022-08-22T14:56:31.030Z"
   },
   {
    "duration": 232,
    "start_time": "2022-08-22T14:56:32.118Z"
   },
   {
    "duration": 14,
    "start_time": "2022-08-22T14:56:32.352Z"
   },
   {
    "duration": 38,
    "start_time": "2022-08-22T14:56:32.367Z"
   },
   {
    "duration": 3,
    "start_time": "2022-08-22T14:56:32.408Z"
   },
   {
    "duration": 10,
    "start_time": "2022-08-22T14:56:32.413Z"
   },
   {
    "duration": 35,
    "start_time": "2022-08-22T14:56:32.425Z"
   },
   {
    "duration": 125,
    "start_time": "2022-08-22T14:56:32.462Z"
   },
   {
    "duration": 67,
    "start_time": "2022-08-22T14:56:32.598Z"
   },
   {
    "duration": 90,
    "start_time": "2022-08-22T14:56:32.666Z"
   },
   {
    "duration": 109,
    "start_time": "2022-08-22T14:56:32.758Z"
   },
   {
    "duration": 8,
    "start_time": "2022-08-22T14:56:32.869Z"
   },
   {
    "duration": 45,
    "start_time": "2022-08-22T14:56:32.879Z"
   },
   {
    "duration": 21,
    "start_time": "2022-08-22T14:56:32.927Z"
   },
   {
    "duration": 14,
    "start_time": "2022-08-22T14:56:32.949Z"
   },
   {
    "duration": 41,
    "start_time": "2022-08-22T14:56:32.965Z"
   },
   {
    "duration": 20,
    "start_time": "2022-08-22T14:56:33.008Z"
   },
   {
    "duration": 6,
    "start_time": "2022-08-22T14:56:33.030Z"
   },
   {
    "duration": 6,
    "start_time": "2022-08-22T14:56:33.038Z"
   },
   {
    "duration": 64,
    "start_time": "2022-08-22T14:56:33.045Z"
   },
   {
    "duration": 279,
    "start_time": "2022-08-22T14:56:33.111Z"
   },
   {
    "duration": 206,
    "start_time": "2022-08-22T14:56:46.136Z"
   },
   {
    "duration": 256,
    "start_time": "2022-08-22T14:57:09.589Z"
   },
   {
    "duration": 46,
    "start_time": "2022-08-22T14:57:53.232Z"
   },
   {
    "duration": 1130,
    "start_time": "2022-08-22T14:58:12.373Z"
   },
   {
    "duration": 156,
    "start_time": "2022-08-22T14:58:13.505Z"
   },
   {
    "duration": 11,
    "start_time": "2022-08-22T14:58:13.663Z"
   },
   {
    "duration": 28,
    "start_time": "2022-08-22T14:58:13.676Z"
   },
   {
    "duration": 3,
    "start_time": "2022-08-22T14:58:13.706Z"
   },
   {
    "duration": 8,
    "start_time": "2022-08-22T14:58:13.711Z"
   },
   {
    "duration": 17,
    "start_time": "2022-08-22T14:58:13.721Z"
   },
   {
    "duration": 128,
    "start_time": "2022-08-22T14:58:13.739Z"
   },
   {
    "duration": 79,
    "start_time": "2022-08-22T14:58:13.869Z"
   },
   {
    "duration": 122,
    "start_time": "2022-08-22T14:58:13.952Z"
   },
   {
    "duration": 130,
    "start_time": "2022-08-22T14:58:14.076Z"
   },
   {
    "duration": 11,
    "start_time": "2022-08-22T14:58:14.208Z"
   },
   {
    "duration": 50,
    "start_time": "2022-08-22T14:58:14.221Z"
   },
   {
    "duration": 53,
    "start_time": "2022-08-22T14:58:14.273Z"
   },
   {
    "duration": 13,
    "start_time": "2022-08-22T14:58:14.328Z"
   },
   {
    "duration": 34,
    "start_time": "2022-08-22T14:58:14.343Z"
   },
   {
    "duration": 23,
    "start_time": "2022-08-22T14:58:14.403Z"
   },
   {
    "duration": 33,
    "start_time": "2022-08-22T14:58:14.428Z"
   },
   {
    "duration": 11,
    "start_time": "2022-08-22T14:58:14.463Z"
   },
   {
    "duration": 60,
    "start_time": "2022-08-22T14:58:14.477Z"
   },
   {
    "duration": 1121,
    "start_time": "2022-08-22T14:58:56.195Z"
   },
   {
    "duration": 149,
    "start_time": "2022-08-22T14:58:57.317Z"
   },
   {
    "duration": 11,
    "start_time": "2022-08-22T14:58:57.468Z"
   },
   {
    "duration": 31,
    "start_time": "2022-08-22T14:58:57.481Z"
   },
   {
    "duration": 4,
    "start_time": "2022-08-22T14:58:57.514Z"
   },
   {
    "duration": 16,
    "start_time": "2022-08-22T14:58:57.520Z"
   },
   {
    "duration": 25,
    "start_time": "2022-08-22T14:58:57.538Z"
   },
   {
    "duration": 133,
    "start_time": "2022-08-22T14:58:57.565Z"
   },
   {
    "duration": 65,
    "start_time": "2022-08-22T14:58:57.700Z"
   },
   {
    "duration": 90,
    "start_time": "2022-08-22T14:58:57.767Z"
   },
   {
    "duration": 108,
    "start_time": "2022-08-22T14:58:57.859Z"
   },
   {
    "duration": 8,
    "start_time": "2022-08-22T14:58:57.969Z"
   },
   {
    "duration": 60,
    "start_time": "2022-08-22T14:58:57.979Z"
   },
   {
    "duration": 35,
    "start_time": "2022-08-22T14:58:58.043Z"
   },
   {
    "duration": 20,
    "start_time": "2022-08-22T14:58:58.081Z"
   },
   {
    "duration": 35,
    "start_time": "2022-08-22T14:58:58.104Z"
   },
   {
    "duration": 16,
    "start_time": "2022-08-22T14:58:58.141Z"
   },
   {
    "duration": 7,
    "start_time": "2022-08-22T14:58:58.159Z"
   },
   {
    "duration": 36,
    "start_time": "2022-08-22T14:58:58.167Z"
   },
   {
    "duration": 41,
    "start_time": "2022-08-22T14:58:58.204Z"
   },
   {
    "duration": 1085,
    "start_time": "2022-08-22T14:59:56.804Z"
   },
   {
    "duration": 166,
    "start_time": "2022-08-22T14:59:57.891Z"
   },
   {
    "duration": 14,
    "start_time": "2022-08-22T14:59:58.059Z"
   },
   {
    "duration": 36,
    "start_time": "2022-08-22T14:59:58.075Z"
   },
   {
    "duration": 15,
    "start_time": "2022-08-22T14:59:58.114Z"
   },
   {
    "duration": 13,
    "start_time": "2022-08-22T14:59:58.130Z"
   },
   {
    "duration": 24,
    "start_time": "2022-08-22T14:59:58.144Z"
   },
   {
    "duration": 115,
    "start_time": "2022-08-22T14:59:58.170Z"
   },
   {
    "duration": 71,
    "start_time": "2022-08-22T14:59:58.287Z"
   },
   {
    "duration": 96,
    "start_time": "2022-08-22T14:59:58.360Z"
   },
   {
    "duration": 102,
    "start_time": "2022-08-22T14:59:58.458Z"
   },
   {
    "duration": 7,
    "start_time": "2022-08-22T14:59:58.562Z"
   },
   {
    "duration": 38,
    "start_time": "2022-08-22T14:59:58.571Z"
   },
   {
    "duration": 19,
    "start_time": "2022-08-22T14:59:58.611Z"
   },
   {
    "duration": 8,
    "start_time": "2022-08-22T14:59:58.632Z"
   },
   {
    "duration": 23,
    "start_time": "2022-08-22T14:59:58.642Z"
   },
   {
    "duration": 49,
    "start_time": "2022-08-22T14:59:58.666Z"
   },
   {
    "duration": 4,
    "start_time": "2022-08-22T14:59:58.716Z"
   },
   {
    "duration": 6,
    "start_time": "2022-08-22T14:59:58.722Z"
   },
   {
    "duration": 15,
    "start_time": "2022-08-22T14:59:58.729Z"
   },
   {
    "duration": 261,
    "start_time": "2022-08-22T14:59:58.745Z"
   },
   {
    "duration": 1195,
    "start_time": "2022-08-22T15:05:33.643Z"
   },
   {
    "duration": 166,
    "start_time": "2022-08-22T15:05:34.840Z"
   },
   {
    "duration": 11,
    "start_time": "2022-08-22T15:05:35.008Z"
   },
   {
    "duration": 23,
    "start_time": "2022-08-22T15:05:35.021Z"
   },
   {
    "duration": 4,
    "start_time": "2022-08-22T15:05:35.045Z"
   },
   {
    "duration": 14,
    "start_time": "2022-08-22T15:05:35.050Z"
   },
   {
    "duration": 34,
    "start_time": "2022-08-22T15:05:35.065Z"
   },
   {
    "duration": 138,
    "start_time": "2022-08-22T15:05:35.101Z"
   },
   {
    "duration": 76,
    "start_time": "2022-08-22T15:05:35.241Z"
   },
   {
    "duration": 85,
    "start_time": "2022-08-22T15:05:35.319Z"
   },
   {
    "duration": 105,
    "start_time": "2022-08-22T15:05:35.405Z"
   },
   {
    "duration": 9,
    "start_time": "2022-08-22T15:05:35.512Z"
   },
   {
    "duration": 34,
    "start_time": "2022-08-22T15:05:35.523Z"
   },
   {
    "duration": 43,
    "start_time": "2022-08-22T15:05:35.559Z"
   },
   {
    "duration": 10,
    "start_time": "2022-08-22T15:05:35.603Z"
   },
   {
    "duration": 23,
    "start_time": "2022-08-22T15:05:35.615Z"
   },
   {
    "duration": 16,
    "start_time": "2022-08-22T15:05:35.640Z"
   },
   {
    "duration": 5,
    "start_time": "2022-08-22T15:05:35.658Z"
   },
   {
    "duration": 12,
    "start_time": "2022-08-22T15:05:35.699Z"
   },
   {
    "duration": 19,
    "start_time": "2022-08-22T15:05:35.713Z"
   },
   {
    "duration": 123,
    "start_time": "2022-08-22T15:05:35.734Z"
   },
   {
    "duration": 0,
    "start_time": "2022-08-22T15:05:35.858Z"
   },
   {
    "duration": 1309,
    "start_time": "2022-08-22T15:06:00.382Z"
   },
   {
    "duration": 160,
    "start_time": "2022-08-22T15:06:01.697Z"
   },
   {
    "duration": 11,
    "start_time": "2022-08-22T15:06:01.859Z"
   },
   {
    "duration": 28,
    "start_time": "2022-08-22T15:06:01.872Z"
   },
   {
    "duration": 4,
    "start_time": "2022-08-22T15:06:01.901Z"
   },
   {
    "duration": 12,
    "start_time": "2022-08-22T15:06:01.906Z"
   },
   {
    "duration": 44,
    "start_time": "2022-08-22T15:06:01.920Z"
   },
   {
    "duration": 116,
    "start_time": "2022-08-22T15:06:01.966Z"
   },
   {
    "duration": 99,
    "start_time": "2022-08-22T15:06:02.085Z"
   },
   {
    "duration": 122,
    "start_time": "2022-08-22T15:06:02.188Z"
   },
   {
    "duration": 118,
    "start_time": "2022-08-22T15:06:02.312Z"
   },
   {
    "duration": 11,
    "start_time": "2022-08-22T15:06:02.432Z"
   },
   {
    "duration": 35,
    "start_time": "2022-08-22T15:06:02.445Z"
   },
   {
    "duration": 36,
    "start_time": "2022-08-22T15:06:02.498Z"
   },
   {
    "duration": 11,
    "start_time": "2022-08-22T15:06:02.536Z"
   },
   {
    "duration": 24,
    "start_time": "2022-08-22T15:06:02.549Z"
   },
   {
    "duration": 37,
    "start_time": "2022-08-22T15:06:02.575Z"
   },
   {
    "duration": 5,
    "start_time": "2022-08-22T15:06:02.613Z"
   },
   {
    "duration": 41,
    "start_time": "2022-08-22T15:06:02.620Z"
   },
   {
    "duration": 17,
    "start_time": "2022-08-22T15:06:02.663Z"
   },
   {
    "duration": 127,
    "start_time": "2022-08-22T15:06:02.681Z"
   },
   {
    "duration": 330,
    "start_time": "2022-08-22T15:06:02.810Z"
   },
   {
    "duration": 246,
    "start_time": "2022-08-22T15:06:34.805Z"
   },
   {
    "duration": 1361,
    "start_time": "2022-08-23T13:00:33.224Z"
   },
   {
    "duration": 526,
    "start_time": "2022-08-23T13:00:34.587Z"
   },
   {
    "duration": 11,
    "start_time": "2022-08-23T13:00:35.114Z"
   },
   {
    "duration": 18,
    "start_time": "2022-08-23T13:00:35.127Z"
   },
   {
    "duration": 3,
    "start_time": "2022-08-23T13:00:35.147Z"
   },
   {
    "duration": 11,
    "start_time": "2022-08-23T13:00:35.151Z"
   },
   {
    "duration": 24,
    "start_time": "2022-08-23T13:00:35.163Z"
   },
   {
    "duration": 128,
    "start_time": "2022-08-23T13:00:35.189Z"
   },
   {
    "duration": 67,
    "start_time": "2022-08-23T13:00:35.319Z"
   },
   {
    "duration": 69,
    "start_time": "2022-08-23T13:00:35.387Z"
   },
   {
    "duration": 98,
    "start_time": "2022-08-23T13:00:35.458Z"
   },
   {
    "duration": 9,
    "start_time": "2022-08-23T13:00:35.558Z"
   },
   {
    "duration": 41,
    "start_time": "2022-08-23T13:00:35.569Z"
   },
   {
    "duration": 20,
    "start_time": "2022-08-23T13:00:35.612Z"
   },
   {
    "duration": 10,
    "start_time": "2022-08-23T13:00:35.633Z"
   },
   {
    "duration": 41,
    "start_time": "2022-08-23T13:00:35.644Z"
   },
   {
    "duration": 15,
    "start_time": "2022-08-23T13:00:35.687Z"
   },
   {
    "duration": 5,
    "start_time": "2022-08-23T13:00:35.704Z"
   },
   {
    "duration": 5,
    "start_time": "2022-08-23T13:00:35.710Z"
   },
   {
    "duration": 14,
    "start_time": "2022-08-23T13:00:35.717Z"
   },
   {
    "duration": 267,
    "start_time": "2022-08-23T13:00:35.733Z"
   },
   {
    "duration": 209,
    "start_time": "2022-08-23T13:01:04.722Z"
   },
   {
    "duration": 113,
    "start_time": "2022-08-23T13:06:52.874Z"
   },
   {
    "duration": 9,
    "start_time": "2022-08-23T13:06:57.575Z"
   },
   {
    "duration": 12,
    "start_time": "2022-08-23T13:07:47.044Z"
   },
   {
    "duration": 8,
    "start_time": "2022-08-23T13:08:23.837Z"
   },
   {
    "duration": 23,
    "start_time": "2022-08-23T13:10:40.360Z"
   },
   {
    "duration": 21,
    "start_time": "2022-08-23T13:10:47.342Z"
   },
   {
    "duration": 18,
    "start_time": "2022-08-23T13:11:39.264Z"
   },
   {
    "duration": 8,
    "start_time": "2022-08-23T13:12:36.785Z"
   },
   {
    "duration": 1177,
    "start_time": "2022-08-23T13:12:43.344Z"
   },
   {
    "duration": 154,
    "start_time": "2022-08-23T13:12:44.523Z"
   },
   {
    "duration": 10,
    "start_time": "2022-08-23T13:12:44.679Z"
   },
   {
    "duration": 21,
    "start_time": "2022-08-23T13:12:44.691Z"
   },
   {
    "duration": 4,
    "start_time": "2022-08-23T13:12:44.713Z"
   },
   {
    "duration": 16,
    "start_time": "2022-08-23T13:12:44.718Z"
   },
   {
    "duration": 22,
    "start_time": "2022-08-23T13:12:44.736Z"
   },
   {
    "duration": 138,
    "start_time": "2022-08-23T13:12:44.760Z"
   },
   {
    "duration": 61,
    "start_time": "2022-08-23T13:12:44.900Z"
   },
   {
    "duration": 93,
    "start_time": "2022-08-23T13:12:44.964Z"
   },
   {
    "duration": 102,
    "start_time": "2022-08-23T13:12:45.059Z"
   },
   {
    "duration": 8,
    "start_time": "2022-08-23T13:12:45.163Z"
   },
   {
    "duration": 41,
    "start_time": "2022-08-23T13:12:45.173Z"
   },
   {
    "duration": 19,
    "start_time": "2022-08-23T13:12:45.215Z"
   },
   {
    "duration": 11,
    "start_time": "2022-08-23T13:12:45.236Z"
   },
   {
    "duration": 37,
    "start_time": "2022-08-23T13:12:45.248Z"
   },
   {
    "duration": 14,
    "start_time": "2022-08-23T13:12:45.287Z"
   },
   {
    "duration": 5,
    "start_time": "2022-08-23T13:12:45.302Z"
   },
   {
    "duration": 4,
    "start_time": "2022-08-23T13:12:45.308Z"
   },
   {
    "duration": 12,
    "start_time": "2022-08-23T13:12:45.314Z"
   },
   {
    "duration": 246,
    "start_time": "2022-08-23T13:12:45.327Z"
   },
   {
    "duration": 23,
    "start_time": "2022-08-23T13:12:45.575Z"
   },
   {
    "duration": 4,
    "start_time": "2022-08-23T13:12:45.599Z"
   },
   {
    "duration": 4,
    "start_time": "2022-08-23T13:13:57.455Z"
   },
   {
    "duration": 4,
    "start_time": "2022-08-23T13:19:47.446Z"
   },
   {
    "duration": 5,
    "start_time": "2022-08-23T13:20:18.504Z"
   },
   {
    "duration": 5,
    "start_time": "2022-08-23T13:20:36.916Z"
   },
   {
    "duration": 5,
    "start_time": "2022-08-23T13:20:38.309Z"
   },
   {
    "duration": 5,
    "start_time": "2022-08-23T13:20:40.882Z"
   },
   {
    "duration": 4,
    "start_time": "2022-08-23T13:20:52.029Z"
   },
   {
    "duration": 119,
    "start_time": "2022-08-23T13:21:07.212Z"
   },
   {
    "duration": 372,
    "start_time": "2022-08-23T13:22:21.530Z"
   },
   {
    "duration": 5,
    "start_time": "2022-08-23T13:22:32.460Z"
   },
   {
    "duration": 4,
    "start_time": "2022-08-23T13:22:40.419Z"
   },
   {
    "duration": 6,
    "start_time": "2022-08-23T13:23:50.908Z"
   },
   {
    "duration": 31,
    "start_time": "2022-08-23T13:24:23.880Z"
   },
   {
    "duration": 8,
    "start_time": "2022-08-23T13:25:07.055Z"
   },
   {
    "duration": 19,
    "start_time": "2022-08-23T13:26:17.577Z"
   },
   {
    "duration": 15,
    "start_time": "2022-08-23T13:26:38.058Z"
   },
   {
    "duration": 1276,
    "start_time": "2022-08-23T13:28:26.273Z"
   },
   {
    "duration": 180,
    "start_time": "2022-08-23T13:28:27.551Z"
   },
   {
    "duration": 11,
    "start_time": "2022-08-23T13:28:27.732Z"
   },
   {
    "duration": 20,
    "start_time": "2022-08-23T13:28:27.744Z"
   },
   {
    "duration": 25,
    "start_time": "2022-08-23T13:28:27.766Z"
   },
   {
    "duration": 17,
    "start_time": "2022-08-23T13:28:27.800Z"
   },
   {
    "duration": 28,
    "start_time": "2022-08-23T13:28:27.819Z"
   },
   {
    "duration": 144,
    "start_time": "2022-08-23T13:28:27.848Z"
   },
   {
    "duration": 73,
    "start_time": "2022-08-23T13:28:28.001Z"
   },
   {
    "duration": 85,
    "start_time": "2022-08-23T13:28:28.076Z"
   },
   {
    "duration": 104,
    "start_time": "2022-08-23T13:28:28.163Z"
   },
   {
    "duration": 35,
    "start_time": "2022-08-23T13:28:28.269Z"
   },
   {
    "duration": 31,
    "start_time": "2022-08-23T13:28:28.308Z"
   },
   {
    "duration": 19,
    "start_time": "2022-08-23T13:28:28.341Z"
   },
   {
    "duration": 10,
    "start_time": "2022-08-23T13:28:28.362Z"
   },
   {
    "duration": 45,
    "start_time": "2022-08-23T13:28:28.373Z"
   },
   {
    "duration": 16,
    "start_time": "2022-08-23T13:28:28.419Z"
   },
   {
    "duration": 5,
    "start_time": "2022-08-23T13:28:28.436Z"
   },
   {
    "duration": 8,
    "start_time": "2022-08-23T13:28:28.442Z"
   },
   {
    "duration": 17,
    "start_time": "2022-08-23T13:28:28.451Z"
   },
   {
    "duration": 270,
    "start_time": "2022-08-23T13:28:28.470Z"
   },
   {
    "duration": 16,
    "start_time": "2022-08-23T13:28:28.742Z"
   },
   {
    "duration": 4,
    "start_time": "2022-08-23T13:28:28.759Z"
   },
   {
    "duration": 4,
    "start_time": "2022-08-23T13:28:28.765Z"
   },
   {
    "duration": 5,
    "start_time": "2022-08-23T13:28:28.784Z"
   },
   {
    "duration": 29,
    "start_time": "2022-08-23T13:28:28.794Z"
   },
   {
    "duration": 10,
    "start_time": "2022-08-23T13:28:28.824Z"
   },
   {
    "duration": 7,
    "start_time": "2022-08-23T13:28:28.835Z"
   },
   {
    "duration": 5,
    "start_time": "2022-08-23T13:28:28.844Z"
   },
   {
    "duration": 41,
    "start_time": "2022-08-23T13:29:27.633Z"
   },
   {
    "duration": 4,
    "start_time": "2022-08-23T13:31:42.648Z"
   },
   {
    "duration": 1146,
    "start_time": "2022-08-23T13:32:06.445Z"
   },
   {
    "duration": 165,
    "start_time": "2022-08-23T13:32:07.595Z"
   },
   {
    "duration": 10,
    "start_time": "2022-08-23T13:32:07.762Z"
   },
   {
    "duration": 32,
    "start_time": "2022-08-23T13:32:07.774Z"
   },
   {
    "duration": 14,
    "start_time": "2022-08-23T13:32:07.808Z"
   },
   {
    "duration": 9,
    "start_time": "2022-08-23T13:32:07.824Z"
   },
   {
    "duration": 20,
    "start_time": "2022-08-23T13:32:07.835Z"
   },
   {
    "duration": 155,
    "start_time": "2022-08-23T13:32:07.857Z"
   },
   {
    "duration": 58,
    "start_time": "2022-08-23T13:32:08.019Z"
   },
   {
    "duration": 84,
    "start_time": "2022-08-23T13:32:08.079Z"
   },
   {
    "duration": 98,
    "start_time": "2022-08-23T13:32:08.164Z"
   },
   {
    "duration": 27,
    "start_time": "2022-08-23T13:32:08.264Z"
   },
   {
    "duration": 22,
    "start_time": "2022-08-23T13:32:08.293Z"
   },
   {
    "duration": 45,
    "start_time": "2022-08-23T13:32:08.320Z"
   },
   {
    "duration": 25,
    "start_time": "2022-08-23T13:32:08.366Z"
   },
   {
    "duration": 60,
    "start_time": "2022-08-23T13:32:08.393Z"
   },
   {
    "duration": 22,
    "start_time": "2022-08-23T13:32:08.455Z"
   },
   {
    "duration": 40,
    "start_time": "2022-08-23T13:32:08.479Z"
   },
   {
    "duration": 42,
    "start_time": "2022-08-23T13:32:08.521Z"
   },
   {
    "duration": 68,
    "start_time": "2022-08-23T13:32:08.565Z"
   },
   {
    "duration": 269,
    "start_time": "2022-08-23T13:32:08.635Z"
   },
   {
    "duration": 18,
    "start_time": "2022-08-23T13:32:08.906Z"
   },
   {
    "duration": 15,
    "start_time": "2022-08-23T13:32:08.926Z"
   },
   {
    "duration": 30,
    "start_time": "2022-08-23T13:32:08.943Z"
   },
   {
    "duration": 53,
    "start_time": "2022-08-23T13:32:08.974Z"
   },
   {
    "duration": 27,
    "start_time": "2022-08-23T13:32:09.028Z"
   },
   {
    "duration": 75,
    "start_time": "2022-08-23T13:32:09.057Z"
   },
   {
    "duration": 49,
    "start_time": "2022-08-23T13:32:09.134Z"
   },
   {
    "duration": 57,
    "start_time": "2022-08-23T13:32:09.184Z"
   },
   {
    "duration": 38,
    "start_time": "2022-08-23T13:32:09.242Z"
   },
   {
    "duration": 20,
    "start_time": "2022-08-23T13:39:26.638Z"
   },
   {
    "duration": 12,
    "start_time": "2022-08-23T13:39:44.005Z"
   },
   {
    "duration": 41,
    "start_time": "2022-08-23T13:40:15.175Z"
   },
   {
    "duration": 20,
    "start_time": "2022-08-23T13:40:32.841Z"
   },
   {
    "duration": 21,
    "start_time": "2022-08-23T13:40:42.615Z"
   },
   {
    "duration": 1241,
    "start_time": "2022-08-23T14:12:11.174Z"
   },
   {
    "duration": 160,
    "start_time": "2022-08-23T14:12:12.417Z"
   },
   {
    "duration": 19,
    "start_time": "2022-08-23T14:12:12.579Z"
   },
   {
    "duration": 31,
    "start_time": "2022-08-23T14:12:12.599Z"
   },
   {
    "duration": 3,
    "start_time": "2022-08-23T14:12:12.633Z"
   },
   {
    "duration": 10,
    "start_time": "2022-08-23T14:12:12.638Z"
   },
   {
    "duration": 18,
    "start_time": "2022-08-23T14:12:12.650Z"
   },
   {
    "duration": 146,
    "start_time": "2022-08-23T14:12:12.670Z"
   },
   {
    "duration": 86,
    "start_time": "2022-08-23T14:12:12.819Z"
   },
   {
    "duration": 86,
    "start_time": "2022-08-23T14:12:12.910Z"
   },
   {
    "duration": 100,
    "start_time": "2022-08-23T14:12:13.003Z"
   },
   {
    "duration": 22,
    "start_time": "2022-08-23T14:12:13.105Z"
   },
   {
    "duration": 6,
    "start_time": "2022-08-23T14:12:13.128Z"
   },
   {
    "duration": 7,
    "start_time": "2022-08-23T14:12:13.137Z"
   },
   {
    "duration": 5,
    "start_time": "2022-08-23T14:12:13.145Z"
   },
   {
    "duration": 42,
    "start_time": "2022-08-23T14:12:13.152Z"
   },
   {
    "duration": 25,
    "start_time": "2022-08-23T14:12:13.195Z"
   },
   {
    "duration": 21,
    "start_time": "2022-08-23T14:12:13.221Z"
   },
   {
    "duration": 14,
    "start_time": "2022-08-23T14:12:13.244Z"
   },
   {
    "duration": 5,
    "start_time": "2022-08-23T14:12:13.260Z"
   },
   {
    "duration": 6,
    "start_time": "2022-08-23T14:12:13.266Z"
   },
   {
    "duration": 37,
    "start_time": "2022-08-23T14:12:13.273Z"
   },
   {
    "duration": 233,
    "start_time": "2022-08-23T14:12:13.311Z"
   },
   {
    "duration": 17,
    "start_time": "2022-08-23T14:12:13.545Z"
   },
   {
    "duration": 3,
    "start_time": "2022-08-23T14:12:13.563Z"
   },
   {
    "duration": 27,
    "start_time": "2022-08-23T14:12:13.567Z"
   },
   {
    "duration": 33,
    "start_time": "2022-08-23T14:12:13.595Z"
   },
   {
    "duration": 7,
    "start_time": "2022-08-23T14:12:13.630Z"
   },
   {
    "duration": 11,
    "start_time": "2022-08-23T14:12:13.639Z"
   },
   {
    "duration": 6,
    "start_time": "2022-08-23T14:12:13.652Z"
   },
   {
    "duration": 7,
    "start_time": "2022-08-23T14:12:13.659Z"
   },
   {
    "duration": 47,
    "start_time": "2022-08-23T14:12:13.667Z"
   },
   {
    "duration": 18,
    "start_time": "2022-08-23T14:12:13.716Z"
   },
   {
    "duration": 118,
    "start_time": "2022-08-23T14:17:48.357Z"
   },
   {
    "duration": 35,
    "start_time": "2022-08-23T14:17:55.990Z"
   },
   {
    "duration": 36,
    "start_time": "2022-08-23T14:18:01.185Z"
   },
   {
    "duration": 116,
    "start_time": "2022-08-23T14:26:37.123Z"
   },
   {
    "duration": 128,
    "start_time": "2022-08-23T14:26:59.887Z"
   },
   {
    "duration": 1520,
    "start_time": "2022-08-23T14:29:44.063Z"
   },
   {
    "duration": 297,
    "start_time": "2022-08-23T14:30:45.415Z"
   },
   {
    "duration": 27,
    "start_time": "2022-08-23T14:31:03.874Z"
   },
   {
    "duration": 131,
    "start_time": "2022-08-23T14:31:27.181Z"
   },
   {
    "duration": 133,
    "start_time": "2022-08-23T14:31:36.210Z"
   },
   {
    "duration": 139,
    "start_time": "2022-08-23T14:34:22.699Z"
   },
   {
    "duration": 141,
    "start_time": "2022-08-23T14:35:00.470Z"
   },
   {
    "duration": 97,
    "start_time": "2022-08-23T14:37:14.617Z"
   },
   {
    "duration": 178,
    "start_time": "2022-08-23T14:38:58.875Z"
   },
   {
    "duration": 243,
    "start_time": "2022-08-23T14:39:35.051Z"
   },
   {
    "duration": 209,
    "start_time": "2022-08-23T14:39:45.323Z"
   },
   {
    "duration": 217,
    "start_time": "2022-08-23T14:40:25.108Z"
   },
   {
    "duration": 264,
    "start_time": "2022-08-23T14:40:46.067Z"
   },
   {
    "duration": 27,
    "start_time": "2022-08-23T15:05:55.294Z"
   },
   {
    "duration": 1358,
    "start_time": "2022-08-24T08:44:55.287Z"
   },
   {
    "duration": 493,
    "start_time": "2022-08-24T08:44:56.647Z"
   },
   {
    "duration": 12,
    "start_time": "2022-08-24T08:44:57.141Z"
   },
   {
    "duration": 18,
    "start_time": "2022-08-24T08:44:57.154Z"
   },
   {
    "duration": 3,
    "start_time": "2022-08-24T08:44:57.174Z"
   },
   {
    "duration": 9,
    "start_time": "2022-08-24T08:44:57.178Z"
   },
   {
    "duration": 19,
    "start_time": "2022-08-24T08:44:57.188Z"
   },
   {
    "duration": 124,
    "start_time": "2022-08-24T08:44:57.208Z"
   },
   {
    "duration": 74,
    "start_time": "2022-08-24T08:44:57.334Z"
   },
   {
    "duration": 77,
    "start_time": "2022-08-24T08:44:57.409Z"
   },
   {
    "duration": 85,
    "start_time": "2022-08-24T08:44:57.488Z"
   },
   {
    "duration": 20,
    "start_time": "2022-08-24T08:44:57.585Z"
   },
   {
    "duration": 8,
    "start_time": "2022-08-24T08:44:57.606Z"
   },
   {
    "duration": 8,
    "start_time": "2022-08-24T08:44:57.618Z"
   },
   {
    "duration": 5,
    "start_time": "2022-08-24T08:44:57.627Z"
   },
   {
    "duration": 21,
    "start_time": "2022-08-24T08:44:57.633Z"
   },
   {
    "duration": 35,
    "start_time": "2022-08-24T08:44:57.656Z"
   },
   {
    "duration": 23,
    "start_time": "2022-08-24T08:44:57.692Z"
   },
   {
    "duration": 15,
    "start_time": "2022-08-24T08:44:57.717Z"
   },
   {
    "duration": 5,
    "start_time": "2022-08-24T08:44:57.733Z"
   },
   {
    "duration": 6,
    "start_time": "2022-08-24T08:44:57.740Z"
   },
   {
    "duration": 44,
    "start_time": "2022-08-24T08:44:57.748Z"
   },
   {
    "duration": 233,
    "start_time": "2022-08-24T08:44:57.794Z"
   },
   {
    "duration": 18,
    "start_time": "2022-08-24T08:44:58.029Z"
   },
   {
    "duration": 4,
    "start_time": "2022-08-24T08:44:58.049Z"
   },
   {
    "duration": 7,
    "start_time": "2022-08-24T08:44:58.055Z"
   },
   {
    "duration": 23,
    "start_time": "2022-08-24T08:44:58.063Z"
   },
   {
    "duration": 3,
    "start_time": "2022-08-24T08:44:58.088Z"
   },
   {
    "duration": 13,
    "start_time": "2022-08-24T08:44:58.092Z"
   },
   {
    "duration": 7,
    "start_time": "2022-08-24T08:44:58.106Z"
   },
   {
    "duration": 6,
    "start_time": "2022-08-24T08:44:58.115Z"
   },
   {
    "duration": 65,
    "start_time": "2022-08-24T08:44:58.122Z"
   },
   {
    "duration": 20,
    "start_time": "2022-08-24T08:44:58.189Z"
   },
   {
    "duration": 36,
    "start_time": "2022-08-24T08:44:58.210Z"
   },
   {
    "duration": 313,
    "start_time": "2022-08-24T08:44:58.247Z"
   },
   {
    "duration": 71,
    "start_time": "2022-08-24T08:44:58.562Z"
   },
   {
    "duration": 22,
    "start_time": "2022-08-24T08:54:49.269Z"
   },
   {
    "duration": 1196,
    "start_time": "2022-08-24T08:55:00.192Z"
   },
   {
    "duration": 147,
    "start_time": "2022-08-24T08:55:01.390Z"
   },
   {
    "duration": 11,
    "start_time": "2022-08-24T08:55:01.538Z"
   },
   {
    "duration": 25,
    "start_time": "2022-08-24T08:55:01.551Z"
   },
   {
    "duration": 3,
    "start_time": "2022-08-24T08:55:01.577Z"
   },
   {
    "duration": 13,
    "start_time": "2022-08-24T08:55:01.585Z"
   },
   {
    "duration": 37,
    "start_time": "2022-08-24T08:55:01.599Z"
   },
   {
    "duration": 120,
    "start_time": "2022-08-24T08:55:01.638Z"
   },
   {
    "duration": 63,
    "start_time": "2022-08-24T08:55:01.759Z"
   },
   {
    "duration": 84,
    "start_time": "2022-08-24T08:55:01.826Z"
   },
   {
    "duration": 100,
    "start_time": "2022-08-24T08:55:01.912Z"
   },
   {
    "duration": 19,
    "start_time": "2022-08-24T08:55:02.013Z"
   },
   {
    "duration": 28,
    "start_time": "2022-08-24T08:55:02.033Z"
   },
   {
    "duration": 12,
    "start_time": "2022-08-24T08:55:02.063Z"
   },
   {
    "duration": 23,
    "start_time": "2022-08-24T08:55:02.077Z"
   },
   {
    "duration": 43,
    "start_time": "2022-08-24T08:55:02.102Z"
   },
   {
    "duration": 13,
    "start_time": "2022-08-24T08:55:02.148Z"
   },
   {
    "duration": 22,
    "start_time": "2022-08-24T08:55:02.163Z"
   },
   {
    "duration": 14,
    "start_time": "2022-08-24T08:55:02.187Z"
   },
   {
    "duration": 9,
    "start_time": "2022-08-24T08:55:02.203Z"
   },
   {
    "duration": 19,
    "start_time": "2022-08-24T08:55:02.213Z"
   },
   {
    "duration": 14,
    "start_time": "2022-08-24T08:55:02.233Z"
   },
   {
    "duration": 255,
    "start_time": "2022-08-24T08:55:02.248Z"
   },
   {
    "duration": 21,
    "start_time": "2022-08-24T08:55:02.505Z"
   },
   {
    "duration": 5,
    "start_time": "2022-08-24T08:55:02.527Z"
   },
   {
    "duration": 11,
    "start_time": "2022-08-24T08:55:02.533Z"
   },
   {
    "duration": 8,
    "start_time": "2022-08-24T08:55:02.545Z"
   },
   {
    "duration": 6,
    "start_time": "2022-08-24T08:55:02.556Z"
   },
   {
    "duration": 10,
    "start_time": "2022-08-24T08:55:02.586Z"
   },
   {
    "duration": 7,
    "start_time": "2022-08-24T08:55:02.598Z"
   },
   {
    "duration": 8,
    "start_time": "2022-08-24T08:55:02.607Z"
   },
   {
    "duration": 35,
    "start_time": "2022-08-24T08:55:02.616Z"
   },
   {
    "duration": 46,
    "start_time": "2022-08-24T08:55:02.652Z"
   },
   {
    "duration": 28,
    "start_time": "2022-08-24T08:55:02.700Z"
   },
   {
    "duration": 30,
    "start_time": "2022-08-24T08:55:02.729Z"
   },
   {
    "duration": 287,
    "start_time": "2022-08-24T08:55:02.760Z"
   },
   {
    "duration": 56,
    "start_time": "2022-08-24T08:55:03.048Z"
   },
   {
    "duration": 60,
    "start_time": "2022-08-24T08:57:20.872Z"
   },
   {
    "duration": 270,
    "start_time": "2022-08-24T08:57:37.033Z"
   },
   {
    "duration": 148,
    "start_time": "2022-08-24T08:58:53.262Z"
   },
   {
    "duration": 60,
    "start_time": "2022-08-24T08:58:57.774Z"
   },
   {
    "duration": 1148,
    "start_time": "2022-08-24T08:59:03.018Z"
   },
   {
    "duration": 148,
    "start_time": "2022-08-24T08:59:04.168Z"
   },
   {
    "duration": 11,
    "start_time": "2022-08-24T08:59:04.317Z"
   },
   {
    "duration": 21,
    "start_time": "2022-08-24T08:59:04.329Z"
   },
   {
    "duration": 7,
    "start_time": "2022-08-24T08:59:04.352Z"
   },
   {
    "duration": 16,
    "start_time": "2022-08-24T08:59:04.361Z"
   },
   {
    "duration": 19,
    "start_time": "2022-08-24T08:59:04.378Z"
   },
   {
    "duration": 164,
    "start_time": "2022-08-24T08:59:04.399Z"
   },
   {
    "duration": 91,
    "start_time": "2022-08-24T08:59:04.565Z"
   },
   {
    "duration": 81,
    "start_time": "2022-08-24T08:59:04.658Z"
   },
   {
    "duration": 96,
    "start_time": "2022-08-24T08:59:04.740Z"
   },
   {
    "duration": 18,
    "start_time": "2022-08-24T08:59:04.837Z"
   },
   {
    "duration": 8,
    "start_time": "2022-08-24T08:59:04.857Z"
   },
   {
    "duration": 23,
    "start_time": "2022-08-24T08:59:04.867Z"
   },
   {
    "duration": 7,
    "start_time": "2022-08-24T08:59:04.891Z"
   },
   {
    "duration": 20,
    "start_time": "2022-08-24T08:59:04.899Z"
   },
   {
    "duration": 12,
    "start_time": "2022-08-24T08:59:04.921Z"
   },
   {
    "duration": 20,
    "start_time": "2022-08-24T08:59:04.934Z"
   },
   {
    "duration": 37,
    "start_time": "2022-08-24T08:59:04.955Z"
   },
   {
    "duration": 4,
    "start_time": "2022-08-24T08:59:04.993Z"
   },
   {
    "duration": 8,
    "start_time": "2022-08-24T08:59:04.999Z"
   },
   {
    "duration": 14,
    "start_time": "2022-08-24T08:59:05.009Z"
   },
   {
    "duration": 245,
    "start_time": "2022-08-24T08:59:05.024Z"
   },
   {
    "duration": 25,
    "start_time": "2022-08-24T08:59:05.270Z"
   },
   {
    "duration": 4,
    "start_time": "2022-08-24T08:59:05.296Z"
   },
   {
    "duration": 8,
    "start_time": "2022-08-24T08:59:05.302Z"
   },
   {
    "duration": 7,
    "start_time": "2022-08-24T08:59:05.311Z"
   },
   {
    "duration": 7,
    "start_time": "2022-08-24T08:59:05.320Z"
   },
   {
    "duration": 21,
    "start_time": "2022-08-24T08:59:05.328Z"
   },
   {
    "duration": 8,
    "start_time": "2022-08-24T08:59:05.350Z"
   },
   {
    "duration": 29,
    "start_time": "2022-08-24T08:59:05.359Z"
   },
   {
    "duration": 32,
    "start_time": "2022-08-24T08:59:05.389Z"
   },
   {
    "duration": 21,
    "start_time": "2022-08-24T08:59:05.423Z"
   },
   {
    "duration": 81,
    "start_time": "2022-08-24T08:59:05.445Z"
   },
   {
    "duration": 216,
    "start_time": "2022-08-24T08:59:05.527Z"
   },
   {
    "duration": 77,
    "start_time": "2022-08-24T08:59:05.745Z"
   },
   {
    "duration": 1178,
    "start_time": "2022-08-24T09:04:13.930Z"
   },
   {
    "duration": 150,
    "start_time": "2022-08-24T09:04:15.109Z"
   },
   {
    "duration": 10,
    "start_time": "2022-08-24T09:04:15.261Z"
   },
   {
    "duration": 25,
    "start_time": "2022-08-24T09:04:15.272Z"
   },
   {
    "duration": 3,
    "start_time": "2022-08-24T09:04:15.298Z"
   },
   {
    "duration": 15,
    "start_time": "2022-08-24T09:04:15.303Z"
   },
   {
    "duration": 20,
    "start_time": "2022-08-24T09:04:15.319Z"
   },
   {
    "duration": 129,
    "start_time": "2022-08-24T09:04:15.340Z"
   },
   {
    "duration": 85,
    "start_time": "2022-08-24T09:04:15.471Z"
   },
   {
    "duration": 95,
    "start_time": "2022-08-24T09:04:15.559Z"
   },
   {
    "duration": 118,
    "start_time": "2022-08-24T09:04:15.656Z"
   },
   {
    "duration": 41,
    "start_time": "2022-08-24T09:04:15.776Z"
   },
   {
    "duration": 18,
    "start_time": "2022-08-24T09:04:15.819Z"
   },
   {
    "duration": 13,
    "start_time": "2022-08-24T09:04:15.839Z"
   },
   {
    "duration": 7,
    "start_time": "2022-08-24T09:04:15.853Z"
   },
   {
    "duration": 36,
    "start_time": "2022-08-24T09:04:15.861Z"
   },
   {
    "duration": 15,
    "start_time": "2022-08-24T09:04:15.899Z"
   },
   {
    "duration": 32,
    "start_time": "2022-08-24T09:04:15.916Z"
   },
   {
    "duration": 15,
    "start_time": "2022-08-24T09:04:15.949Z"
   },
   {
    "duration": 5,
    "start_time": "2022-08-24T09:04:15.984Z"
   },
   {
    "duration": 10,
    "start_time": "2022-08-24T09:04:15.991Z"
   },
   {
    "duration": 15,
    "start_time": "2022-08-24T09:04:16.003Z"
   },
   {
    "duration": 255,
    "start_time": "2022-08-24T09:04:16.020Z"
   },
   {
    "duration": 22,
    "start_time": "2022-08-24T09:04:16.277Z"
   },
   {
    "duration": 5,
    "start_time": "2022-08-24T09:04:16.301Z"
   },
   {
    "duration": 6,
    "start_time": "2022-08-24T09:04:16.308Z"
   },
   {
    "duration": 8,
    "start_time": "2022-08-24T09:04:16.316Z"
   },
   {
    "duration": 6,
    "start_time": "2022-08-24T09:04:16.328Z"
   },
   {
    "duration": 17,
    "start_time": "2022-08-24T09:04:16.336Z"
   },
   {
    "duration": 31,
    "start_time": "2022-08-24T09:04:16.355Z"
   },
   {
    "duration": 15,
    "start_time": "2022-08-24T09:04:16.388Z"
   },
   {
    "duration": 40,
    "start_time": "2022-08-24T09:04:16.406Z"
   },
   {
    "duration": 20,
    "start_time": "2022-08-24T09:04:16.447Z"
   },
   {
    "duration": 185,
    "start_time": "2022-08-24T09:04:16.468Z"
   },
   {
    "duration": 0,
    "start_time": "2022-08-24T09:04:16.655Z"
   },
   {
    "duration": 0,
    "start_time": "2022-08-24T09:04:16.656Z"
   },
   {
    "duration": 53,
    "start_time": "2022-08-24T09:05:14.021Z"
   },
   {
    "duration": 285,
    "start_time": "2022-08-24T09:05:18.940Z"
   },
   {
    "duration": 224,
    "start_time": "2022-08-24T09:05:42.523Z"
   },
   {
    "duration": 1167,
    "start_time": "2022-08-24T09:05:49.498Z"
   },
   {
    "duration": 146,
    "start_time": "2022-08-24T09:05:50.667Z"
   },
   {
    "duration": 11,
    "start_time": "2022-08-24T09:05:50.814Z"
   },
   {
    "duration": 19,
    "start_time": "2022-08-24T09:05:50.826Z"
   },
   {
    "duration": 3,
    "start_time": "2022-08-24T09:05:50.847Z"
   },
   {
    "duration": 10,
    "start_time": "2022-08-24T09:05:50.851Z"
   },
   {
    "duration": 36,
    "start_time": "2022-08-24T09:05:50.862Z"
   },
   {
    "duration": 125,
    "start_time": "2022-08-24T09:05:50.899Z"
   },
   {
    "duration": 74,
    "start_time": "2022-08-24T09:05:51.025Z"
   },
   {
    "duration": 84,
    "start_time": "2022-08-24T09:05:51.101Z"
   },
   {
    "duration": 86,
    "start_time": "2022-08-24T09:05:51.187Z"
   },
   {
    "duration": 20,
    "start_time": "2022-08-24T09:05:51.285Z"
   },
   {
    "duration": 7,
    "start_time": "2022-08-24T09:05:51.307Z"
   },
   {
    "duration": 9,
    "start_time": "2022-08-24T09:05:51.316Z"
   },
   {
    "duration": 5,
    "start_time": "2022-08-24T09:05:51.326Z"
   },
   {
    "duration": 20,
    "start_time": "2022-08-24T09:05:51.332Z"
   },
   {
    "duration": 34,
    "start_time": "2022-08-24T09:05:51.354Z"
   },
   {
    "duration": 21,
    "start_time": "2022-08-24T09:05:51.389Z"
   },
   {
    "duration": 15,
    "start_time": "2022-08-24T09:05:51.411Z"
   },
   {
    "duration": 5,
    "start_time": "2022-08-24T09:05:51.427Z"
   },
   {
    "duration": 8,
    "start_time": "2022-08-24T09:05:51.433Z"
   },
   {
    "duration": 48,
    "start_time": "2022-08-24T09:05:51.443Z"
   },
   {
    "duration": 227,
    "start_time": "2022-08-24T09:05:51.493Z"
   },
   {
    "duration": 16,
    "start_time": "2022-08-24T09:05:51.721Z"
   },
   {
    "duration": 3,
    "start_time": "2022-08-24T09:05:51.738Z"
   },
   {
    "duration": 7,
    "start_time": "2022-08-24T09:05:51.743Z"
   },
   {
    "duration": 7,
    "start_time": "2022-08-24T09:05:51.751Z"
   },
   {
    "duration": 3,
    "start_time": "2022-08-24T09:05:51.784Z"
   },
   {
    "duration": 16,
    "start_time": "2022-08-24T09:05:51.789Z"
   },
   {
    "duration": 4,
    "start_time": "2022-08-24T09:05:51.806Z"
   },
   {
    "duration": 19,
    "start_time": "2022-08-24T09:05:51.811Z"
   },
   {
    "duration": 33,
    "start_time": "2022-08-24T09:05:51.832Z"
   },
   {
    "duration": 35,
    "start_time": "2022-08-24T09:05:51.866Z"
   },
   {
    "duration": 59,
    "start_time": "2022-08-24T09:05:51.902Z"
   },
   {
    "duration": 288,
    "start_time": "2022-08-24T09:05:51.962Z"
   },
   {
    "duration": 60,
    "start_time": "2022-08-24T09:05:52.252Z"
   },
   {
    "duration": 156,
    "start_time": "2022-08-24T09:08:31.123Z"
   },
   {
    "duration": 174,
    "start_time": "2022-08-24T09:09:23.296Z"
   },
   {
    "duration": 57,
    "start_time": "2022-08-24T09:09:55.042Z"
   },
   {
    "duration": 240,
    "start_time": "2022-08-24T09:09:56.290Z"
   },
   {
    "duration": 1279,
    "start_time": "2022-08-24T09:10:43.482Z"
   },
   {
    "duration": 144,
    "start_time": "2022-08-24T09:10:44.764Z"
   },
   {
    "duration": 10,
    "start_time": "2022-08-24T09:10:44.910Z"
   },
   {
    "duration": 18,
    "start_time": "2022-08-24T09:10:44.922Z"
   },
   {
    "duration": 4,
    "start_time": "2022-08-24T09:10:44.942Z"
   },
   {
    "duration": 15,
    "start_time": "2022-08-24T09:10:44.947Z"
   },
   {
    "duration": 32,
    "start_time": "2022-08-24T09:10:44.964Z"
   },
   {
    "duration": 125,
    "start_time": "2022-08-24T09:10:44.998Z"
   },
   {
    "duration": 72,
    "start_time": "2022-08-24T09:10:45.126Z"
   },
   {
    "duration": 90,
    "start_time": "2022-08-24T09:10:45.200Z"
   },
   {
    "duration": 109,
    "start_time": "2022-08-24T09:10:45.291Z"
   },
   {
    "duration": 22,
    "start_time": "2022-08-24T09:10:45.402Z"
   },
   {
    "duration": 13,
    "start_time": "2022-08-24T09:10:45.426Z"
   },
   {
    "duration": 10,
    "start_time": "2022-08-24T09:10:45.441Z"
   },
   {
    "duration": 32,
    "start_time": "2022-08-24T09:10:45.453Z"
   },
   {
    "duration": 20,
    "start_time": "2022-08-24T09:10:45.486Z"
   },
   {
    "duration": 10,
    "start_time": "2022-08-24T09:10:45.508Z"
   },
   {
    "duration": 22,
    "start_time": "2022-08-24T09:10:45.519Z"
   },
   {
    "duration": 49,
    "start_time": "2022-08-24T09:10:45.543Z"
   },
   {
    "duration": 5,
    "start_time": "2022-08-24T09:10:45.595Z"
   },
   {
    "duration": 6,
    "start_time": "2022-08-24T09:10:45.601Z"
   },
   {
    "duration": 14,
    "start_time": "2022-08-24T09:10:45.609Z"
   },
   {
    "duration": 269,
    "start_time": "2022-08-24T09:10:45.624Z"
   },
   {
    "duration": 17,
    "start_time": "2022-08-24T09:10:45.894Z"
   },
   {
    "duration": 4,
    "start_time": "2022-08-24T09:10:45.912Z"
   },
   {
    "duration": 5,
    "start_time": "2022-08-24T09:10:45.917Z"
   },
   {
    "duration": 6,
    "start_time": "2022-08-24T09:10:45.923Z"
   },
   {
    "duration": 5,
    "start_time": "2022-08-24T09:10:45.932Z"
   },
   {
    "duration": 11,
    "start_time": "2022-08-24T09:10:45.938Z"
   },
   {
    "duration": 4,
    "start_time": "2022-08-24T09:10:45.985Z"
   },
   {
    "duration": 10,
    "start_time": "2022-08-24T09:10:45.992Z"
   },
   {
    "duration": 37,
    "start_time": "2022-08-24T09:10:46.004Z"
   },
   {
    "duration": 23,
    "start_time": "2022-08-24T09:10:46.042Z"
   },
   {
    "duration": 83,
    "start_time": "2022-08-24T09:10:46.085Z"
   },
   {
    "duration": 270,
    "start_time": "2022-08-24T09:10:46.170Z"
   },
   {
    "duration": 50,
    "start_time": "2022-08-24T09:10:46.442Z"
   },
   {
    "duration": 195,
    "start_time": "2022-08-24T09:13:55.035Z"
   },
   {
    "duration": 124,
    "start_time": "2022-08-24T09:14:17.548Z"
   },
   {
    "duration": 130,
    "start_time": "2022-08-24T09:14:52.074Z"
   },
   {
    "duration": 112,
    "start_time": "2022-08-24T09:15:16.585Z"
   },
   {
    "duration": 223,
    "start_time": "2022-08-24T09:17:06.863Z"
   },
   {
    "duration": 207,
    "start_time": "2022-08-24T09:17:27.781Z"
   },
   {
    "duration": 198,
    "start_time": "2022-08-24T09:17:55.518Z"
   },
   {
    "duration": 215,
    "start_time": "2022-08-24T09:18:32.187Z"
   },
   {
    "duration": 168,
    "start_time": "2022-08-24T09:19:30.401Z"
   },
   {
    "duration": 242,
    "start_time": "2022-08-24T09:37:21.177Z"
   },
   {
    "duration": 58,
    "start_time": "2022-08-24T09:37:42.306Z"
   },
   {
    "duration": 43,
    "start_time": "2022-08-24T09:37:43.825Z"
   },
   {
    "duration": 58,
    "start_time": "2022-08-24T09:38:51.701Z"
   },
   {
    "duration": 45,
    "start_time": "2022-08-24T09:38:53.860Z"
   },
   {
    "duration": 42,
    "start_time": "2022-08-24T09:39:58.168Z"
   },
   {
    "duration": 102,
    "start_time": "2022-08-24T09:40:38.901Z"
   },
   {
    "duration": 54,
    "start_time": "2022-08-24T09:40:54.901Z"
   },
   {
    "duration": 45,
    "start_time": "2022-08-24T09:40:56.483Z"
   },
   {
    "duration": 64,
    "start_time": "2022-08-24T09:41:05.267Z"
   },
   {
    "duration": 41,
    "start_time": "2022-08-24T09:41:05.907Z"
   },
   {
    "duration": 36,
    "start_time": "2022-08-24T10:04:22.112Z"
   },
   {
    "duration": 25,
    "start_time": "2022-08-24T10:04:28.662Z"
   },
   {
    "duration": 7,
    "start_time": "2022-08-24T10:07:46.046Z"
   },
   {
    "duration": 9,
    "start_time": "2022-08-24T10:08:48.576Z"
   },
   {
    "duration": 4,
    "start_time": "2022-08-24T10:08:57.737Z"
   },
   {
    "duration": 9,
    "start_time": "2022-08-24T10:09:01.233Z"
   },
   {
    "duration": 9,
    "start_time": "2022-08-24T10:28:56.929Z"
   },
   {
    "duration": 4,
    "start_time": "2022-08-24T10:30:30.597Z"
   },
   {
    "duration": 9,
    "start_time": "2022-08-24T10:30:41.057Z"
   },
   {
    "duration": 10,
    "start_time": "2022-08-24T10:32:02.663Z"
   },
   {
    "duration": 9,
    "start_time": "2022-08-24T10:32:40.476Z"
   },
   {
    "duration": 35,
    "start_time": "2022-08-24T10:33:33.637Z"
   },
   {
    "duration": 29,
    "start_time": "2022-08-24T10:33:40.674Z"
   },
   {
    "duration": 10,
    "start_time": "2022-08-24T10:33:53.834Z"
   },
   {
    "duration": 12,
    "start_time": "2022-08-24T10:33:55.337Z"
   },
   {
    "duration": 1111,
    "start_time": "2022-08-24T10:34:07.939Z"
   },
   {
    "duration": 152,
    "start_time": "2022-08-24T10:34:09.052Z"
   },
   {
    "duration": 11,
    "start_time": "2022-08-24T10:34:09.206Z"
   },
   {
    "duration": 23,
    "start_time": "2022-08-24T10:34:09.219Z"
   },
   {
    "duration": 3,
    "start_time": "2022-08-24T10:34:09.245Z"
   },
   {
    "duration": 12,
    "start_time": "2022-08-24T10:34:09.249Z"
   },
   {
    "duration": 33,
    "start_time": "2022-08-24T10:34:09.263Z"
   },
   {
    "duration": 129,
    "start_time": "2022-08-24T10:34:09.298Z"
   },
   {
    "duration": 69,
    "start_time": "2022-08-24T10:34:09.429Z"
   },
   {
    "duration": 91,
    "start_time": "2022-08-24T10:34:09.499Z"
   },
   {
    "duration": 107,
    "start_time": "2022-08-24T10:34:09.592Z"
   },
   {
    "duration": 20,
    "start_time": "2022-08-24T10:34:09.701Z"
   },
   {
    "duration": 11,
    "start_time": "2022-08-24T10:34:09.723Z"
   },
   {
    "duration": 9,
    "start_time": "2022-08-24T10:34:09.736Z"
   },
   {
    "duration": 5,
    "start_time": "2022-08-24T10:34:09.746Z"
   },
   {
    "duration": 43,
    "start_time": "2022-08-24T10:34:09.753Z"
   },
   {
    "duration": 11,
    "start_time": "2022-08-24T10:34:09.798Z"
   },
   {
    "duration": 21,
    "start_time": "2022-08-24T10:34:09.811Z"
   },
   {
    "duration": 14,
    "start_time": "2022-08-24T10:34:09.833Z"
   },
   {
    "duration": 5,
    "start_time": "2022-08-24T10:34:09.848Z"
   },
   {
    "duration": 31,
    "start_time": "2022-08-24T10:34:09.854Z"
   },
   {
    "duration": 13,
    "start_time": "2022-08-24T10:34:09.887Z"
   },
   {
    "duration": 237,
    "start_time": "2022-08-24T10:34:09.901Z"
   },
   {
    "duration": 17,
    "start_time": "2022-08-24T10:34:10.140Z"
   },
   {
    "duration": 4,
    "start_time": "2022-08-24T10:34:10.159Z"
   },
   {
    "duration": 21,
    "start_time": "2022-08-24T10:34:10.164Z"
   },
   {
    "duration": 5,
    "start_time": "2022-08-24T10:34:10.187Z"
   },
   {
    "duration": 6,
    "start_time": "2022-08-24T10:34:10.193Z"
   },
   {
    "duration": 12,
    "start_time": "2022-08-24T10:34:10.201Z"
   },
   {
    "duration": 5,
    "start_time": "2022-08-24T10:34:10.215Z"
   },
   {
    "duration": 18,
    "start_time": "2022-08-24T10:34:10.221Z"
   },
   {
    "duration": 56,
    "start_time": "2022-08-24T10:34:10.241Z"
   },
   {
    "duration": 21,
    "start_time": "2022-08-24T10:34:10.298Z"
   },
   {
    "duration": 76,
    "start_time": "2022-08-24T10:34:10.321Z"
   },
   {
    "duration": 350,
    "start_time": "2022-08-24T10:34:10.398Z"
   },
   {
    "duration": 37,
    "start_time": "2022-08-24T10:34:10.750Z"
   },
   {
    "duration": 8,
    "start_time": "2022-08-24T10:34:10.789Z"
   },
   {
    "duration": 13,
    "start_time": "2022-08-24T10:34:10.799Z"
   },
   {
    "duration": 11,
    "start_time": "2022-08-24T10:35:09.657Z"
   },
   {
    "duration": 9,
    "start_time": "2022-08-24T10:35:10.368Z"
   },
   {
    "duration": 1138,
    "start_time": "2022-08-24T10:35:43.926Z"
   },
   {
    "duration": 149,
    "start_time": "2022-08-24T10:35:45.066Z"
   },
   {
    "duration": 10,
    "start_time": "2022-08-24T10:35:45.216Z"
   },
   {
    "duration": 19,
    "start_time": "2022-08-24T10:35:45.227Z"
   },
   {
    "duration": 3,
    "start_time": "2022-08-24T10:35:45.248Z"
   },
   {
    "duration": 34,
    "start_time": "2022-08-24T10:35:45.252Z"
   },
   {
    "duration": 44,
    "start_time": "2022-08-24T10:35:45.287Z"
   },
   {
    "duration": 130,
    "start_time": "2022-08-24T10:35:45.332Z"
   },
   {
    "duration": 63,
    "start_time": "2022-08-24T10:35:45.464Z"
   },
   {
    "duration": 82,
    "start_time": "2022-08-24T10:35:45.528Z"
   },
   {
    "duration": 88,
    "start_time": "2022-08-24T10:35:45.611Z"
   },
   {
    "duration": 19,
    "start_time": "2022-08-24T10:35:45.700Z"
   },
   {
    "duration": 26,
    "start_time": "2022-08-24T10:35:45.720Z"
   },
   {
    "duration": 23,
    "start_time": "2022-08-24T10:35:45.748Z"
   },
   {
    "duration": 9,
    "start_time": "2022-08-24T10:35:45.772Z"
   },
   {
    "duration": 36,
    "start_time": "2022-08-24T10:35:45.782Z"
   },
   {
    "duration": 13,
    "start_time": "2022-08-24T10:35:45.819Z"
   },
   {
    "duration": 27,
    "start_time": "2022-08-24T10:35:45.833Z"
   },
   {
    "duration": 13,
    "start_time": "2022-08-24T10:35:45.862Z"
   },
   {
    "duration": 15,
    "start_time": "2022-08-24T10:35:45.876Z"
   },
   {
    "duration": 20,
    "start_time": "2022-08-24T10:35:45.892Z"
   },
   {
    "duration": 35,
    "start_time": "2022-08-24T10:35:45.913Z"
   },
   {
    "duration": 216,
    "start_time": "2022-08-24T10:35:45.950Z"
   },
   {
    "duration": 24,
    "start_time": "2022-08-24T10:35:46.167Z"
   },
   {
    "duration": 4,
    "start_time": "2022-08-24T10:35:46.192Z"
   },
   {
    "duration": 20,
    "start_time": "2022-08-24T10:35:46.197Z"
   },
   {
    "duration": 14,
    "start_time": "2022-08-24T10:35:46.218Z"
   },
   {
    "duration": 22,
    "start_time": "2022-08-24T10:35:46.234Z"
   },
   {
    "duration": 29,
    "start_time": "2022-08-24T10:35:46.257Z"
   },
   {
    "duration": 16,
    "start_time": "2022-08-24T10:35:46.287Z"
   },
   {
    "duration": 39,
    "start_time": "2022-08-24T10:35:46.305Z"
   },
   {
    "duration": 36,
    "start_time": "2022-08-24T10:35:46.345Z"
   },
   {
    "duration": 19,
    "start_time": "2022-08-24T10:35:46.383Z"
   },
   {
    "duration": 69,
    "start_time": "2022-08-24T10:35:46.403Z"
   },
   {
    "duration": 333,
    "start_time": "2022-08-24T10:35:46.474Z"
   },
   {
    "duration": 27,
    "start_time": "2022-08-24T10:35:46.808Z"
   },
   {
    "duration": 9,
    "start_time": "2022-08-24T10:35:46.836Z"
   },
   {
    "duration": 46,
    "start_time": "2022-08-24T10:35:46.847Z"
   },
   {
    "duration": 10,
    "start_time": "2022-08-24T10:36:02.402Z"
   },
   {
    "duration": 9,
    "start_time": "2022-08-24T10:36:13.953Z"
   },
   {
    "duration": 10,
    "start_time": "2022-08-24T10:36:44.876Z"
   },
   {
    "duration": 9,
    "start_time": "2022-08-24T10:36:46.027Z"
   },
   {
    "duration": 7,
    "start_time": "2022-08-24T10:42:17.620Z"
   },
   {
    "duration": 13,
    "start_time": "2022-08-24T10:52:33.310Z"
   },
   {
    "duration": 169,
    "start_time": "2022-08-24T10:54:31.143Z"
   },
   {
    "duration": 34,
    "start_time": "2022-08-24T10:54:37.046Z"
   },
   {
    "duration": 1174,
    "start_time": "2022-08-24T10:57:56.578Z"
   },
   {
    "duration": 160,
    "start_time": "2022-08-24T10:57:57.754Z"
   },
   {
    "duration": 11,
    "start_time": "2022-08-24T10:57:57.915Z"
   },
   {
    "duration": 31,
    "start_time": "2022-08-24T10:57:57.928Z"
   },
   {
    "duration": 3,
    "start_time": "2022-08-24T10:57:57.961Z"
   },
   {
    "duration": 29,
    "start_time": "2022-08-24T10:57:57.965Z"
   },
   {
    "duration": 26,
    "start_time": "2022-08-24T10:57:57.996Z"
   },
   {
    "duration": 115,
    "start_time": "2022-08-24T10:57:58.024Z"
   },
   {
    "duration": 70,
    "start_time": "2022-08-24T10:57:58.141Z"
   },
   {
    "duration": 80,
    "start_time": "2022-08-24T10:57:58.214Z"
   },
   {
    "duration": 102,
    "start_time": "2022-08-24T10:57:58.295Z"
   },
   {
    "duration": 24,
    "start_time": "2022-08-24T10:57:58.398Z"
   },
   {
    "duration": 16,
    "start_time": "2022-08-24T10:57:58.424Z"
   },
   {
    "duration": 16,
    "start_time": "2022-08-24T10:57:58.442Z"
   },
   {
    "duration": 13,
    "start_time": "2022-08-24T10:57:58.460Z"
   },
   {
    "duration": 26,
    "start_time": "2022-08-24T10:57:58.475Z"
   },
   {
    "duration": 20,
    "start_time": "2022-08-24T10:57:58.503Z"
   },
   {
    "duration": 28,
    "start_time": "2022-08-24T10:57:58.525Z"
   },
   {
    "duration": 14,
    "start_time": "2022-08-24T10:57:58.554Z"
   },
   {
    "duration": 4,
    "start_time": "2022-08-24T10:57:58.570Z"
   },
   {
    "duration": 14,
    "start_time": "2022-08-24T10:57:58.575Z"
   },
   {
    "duration": 21,
    "start_time": "2022-08-24T10:57:58.590Z"
   },
   {
    "duration": 216,
    "start_time": "2022-08-24T10:57:58.612Z"
   },
   {
    "duration": 16,
    "start_time": "2022-08-24T10:57:58.829Z"
   },
   {
    "duration": 3,
    "start_time": "2022-08-24T10:57:58.847Z"
   },
   {
    "duration": 15,
    "start_time": "2022-08-24T10:57:58.852Z"
   },
   {
    "duration": 18,
    "start_time": "2022-08-24T10:57:58.868Z"
   },
   {
    "duration": 3,
    "start_time": "2022-08-24T10:57:58.889Z"
   },
   {
    "duration": 10,
    "start_time": "2022-08-24T10:57:58.893Z"
   },
   {
    "duration": 3,
    "start_time": "2022-08-24T10:57:58.904Z"
   },
   {
    "duration": 7,
    "start_time": "2022-08-24T10:57:58.908Z"
   },
   {
    "duration": 30,
    "start_time": "2022-08-24T10:57:58.917Z"
   },
   {
    "duration": 40,
    "start_time": "2022-08-24T10:57:58.949Z"
   },
   {
    "duration": 55,
    "start_time": "2022-08-24T10:57:58.990Z"
   },
   {
    "duration": 319,
    "start_time": "2022-08-24T10:57:59.046Z"
   },
   {
    "duration": 25,
    "start_time": "2022-08-24T10:57:59.366Z"
   },
   {
    "duration": 9,
    "start_time": "2022-08-24T10:57:59.392Z"
   },
   {
    "duration": 14,
    "start_time": "2022-08-24T10:57:59.403Z"
   },
   {
    "duration": 6,
    "start_time": "2022-08-24T10:57:59.419Z"
   },
   {
    "duration": 86,
    "start_time": "2022-08-24T10:57:59.427Z"
   },
   {
    "duration": 1112,
    "start_time": "2022-08-24T11:03:49.143Z"
   },
   {
    "duration": 155,
    "start_time": "2022-08-24T11:03:50.257Z"
   },
   {
    "duration": 11,
    "start_time": "2022-08-24T11:03:50.413Z"
   },
   {
    "duration": 24,
    "start_time": "2022-08-24T11:03:50.426Z"
   },
   {
    "duration": 3,
    "start_time": "2022-08-24T11:03:50.451Z"
   },
   {
    "duration": 10,
    "start_time": "2022-08-24T11:03:50.456Z"
   },
   {
    "duration": 28,
    "start_time": "2022-08-24T11:03:50.468Z"
   },
   {
    "duration": 138,
    "start_time": "2022-08-24T11:03:50.498Z"
   },
   {
    "duration": 81,
    "start_time": "2022-08-24T11:03:50.637Z"
   },
   {
    "duration": 96,
    "start_time": "2022-08-24T11:03:50.720Z"
   },
   {
    "duration": 90,
    "start_time": "2022-08-24T11:03:50.818Z"
   },
   {
    "duration": 21,
    "start_time": "2022-08-24T11:03:50.910Z"
   },
   {
    "duration": 12,
    "start_time": "2022-08-24T11:03:50.932Z"
   },
   {
    "duration": 10,
    "start_time": "2022-08-24T11:03:50.946Z"
   },
   {
    "duration": 7,
    "start_time": "2022-08-24T11:03:50.957Z"
   },
   {
    "duration": 37,
    "start_time": "2022-08-24T11:03:50.965Z"
   },
   {
    "duration": 8,
    "start_time": "2022-08-24T11:03:51.004Z"
   },
   {
    "duration": 21,
    "start_time": "2022-08-24T11:03:51.013Z"
   },
   {
    "duration": 12,
    "start_time": "2022-08-24T11:03:51.036Z"
   },
   {
    "duration": 6,
    "start_time": "2022-08-24T11:03:51.050Z"
   },
   {
    "duration": 9,
    "start_time": "2022-08-24T11:03:51.057Z"
   },
   {
    "duration": 12,
    "start_time": "2022-08-24T11:03:51.086Z"
   },
   {
    "duration": 238,
    "start_time": "2022-08-24T11:03:51.100Z"
   },
   {
    "duration": 19,
    "start_time": "2022-08-24T11:03:51.340Z"
   },
   {
    "duration": 4,
    "start_time": "2022-08-24T11:03:51.360Z"
   },
   {
    "duration": 21,
    "start_time": "2022-08-24T11:03:51.365Z"
   },
   {
    "duration": 5,
    "start_time": "2022-08-24T11:03:51.387Z"
   },
   {
    "duration": 3,
    "start_time": "2022-08-24T11:03:51.395Z"
   },
   {
    "duration": 12,
    "start_time": "2022-08-24T11:03:51.399Z"
   },
   {
    "duration": 3,
    "start_time": "2022-08-24T11:03:51.412Z"
   },
   {
    "duration": 9,
    "start_time": "2022-08-24T11:03:51.416Z"
   },
   {
    "duration": 31,
    "start_time": "2022-08-24T11:03:51.426Z"
   },
   {
    "duration": 19,
    "start_time": "2022-08-24T11:03:51.484Z"
   },
   {
    "duration": 56,
    "start_time": "2022-08-24T11:03:51.504Z"
   },
   {
    "duration": 346,
    "start_time": "2022-08-24T11:03:51.561Z"
   },
   {
    "duration": 27,
    "start_time": "2022-08-24T11:03:51.910Z"
   },
   {
    "duration": 10,
    "start_time": "2022-08-24T11:03:51.938Z"
   },
   {
    "duration": 46,
    "start_time": "2022-08-24T11:03:51.949Z"
   },
   {
    "duration": 9,
    "start_time": "2022-08-24T11:03:51.997Z"
   },
   {
    "duration": 39,
    "start_time": "2022-08-24T11:03:52.007Z"
   },
   {
    "duration": 1294,
    "start_time": "2022-08-26T09:40:28.862Z"
   },
   {
    "duration": 471,
    "start_time": "2022-08-26T09:40:30.158Z"
   },
   {
    "duration": 10,
    "start_time": "2022-08-26T09:40:30.631Z"
   },
   {
    "duration": 38,
    "start_time": "2022-08-26T09:40:30.642Z"
   },
   {
    "duration": 6,
    "start_time": "2022-08-26T09:40:30.682Z"
   },
   {
    "duration": 19,
    "start_time": "2022-08-26T09:40:30.690Z"
   },
   {
    "duration": 37,
    "start_time": "2022-08-26T09:40:30.710Z"
   },
   {
    "duration": 117,
    "start_time": "2022-08-26T09:40:30.748Z"
   },
   {
    "duration": 59,
    "start_time": "2022-08-26T09:40:30.867Z"
   },
   {
    "duration": 78,
    "start_time": "2022-08-26T09:40:30.927Z"
   },
   {
    "duration": 98,
    "start_time": "2022-08-26T09:40:31.006Z"
   },
   {
    "duration": 19,
    "start_time": "2022-08-26T09:40:31.106Z"
   },
   {
    "duration": 12,
    "start_time": "2022-08-26T09:40:31.126Z"
   },
   {
    "duration": 23,
    "start_time": "2022-08-26T09:40:31.140Z"
   },
   {
    "duration": 6,
    "start_time": "2022-08-26T09:40:31.165Z"
   },
   {
    "duration": 22,
    "start_time": "2022-08-26T09:40:31.172Z"
   },
   {
    "duration": 6,
    "start_time": "2022-08-26T09:40:31.198Z"
   },
   {
    "duration": 22,
    "start_time": "2022-08-26T09:40:31.206Z"
   },
   {
    "duration": 13,
    "start_time": "2022-08-26T09:40:31.230Z"
   },
   {
    "duration": 7,
    "start_time": "2022-08-26T09:40:31.244Z"
   },
   {
    "duration": 12,
    "start_time": "2022-08-26T09:40:31.252Z"
   },
   {
    "duration": 33,
    "start_time": "2022-08-26T09:40:31.266Z"
   },
   {
    "duration": 220,
    "start_time": "2022-08-26T09:40:31.301Z"
   },
   {
    "duration": 15,
    "start_time": "2022-08-26T09:40:31.522Z"
   },
   {
    "duration": 36,
    "start_time": "2022-08-26T09:40:31.539Z"
   },
   {
    "duration": 70,
    "start_time": "2022-08-26T09:40:31.577Z"
   },
   {
    "duration": 4,
    "start_time": "2022-08-26T09:40:31.649Z"
   },
   {
    "duration": 23,
    "start_time": "2022-08-26T09:40:31.655Z"
   },
   {
    "duration": 30,
    "start_time": "2022-08-26T09:40:31.679Z"
   },
   {
    "duration": 14,
    "start_time": "2022-08-26T09:40:31.711Z"
   },
   {
    "duration": 19,
    "start_time": "2022-08-26T09:40:31.726Z"
   },
   {
    "duration": 33,
    "start_time": "2022-08-26T09:40:31.746Z"
   },
   {
    "duration": 19,
    "start_time": "2022-08-26T09:40:31.780Z"
   },
   {
    "duration": 59,
    "start_time": "2022-08-26T09:40:31.801Z"
   },
   {
    "duration": 335,
    "start_time": "2022-08-26T09:40:31.862Z"
   },
   {
    "duration": 26,
    "start_time": "2022-08-26T09:40:32.200Z"
   },
   {
    "duration": 9,
    "start_time": "2022-08-26T09:40:32.227Z"
   },
   {
    "duration": 67,
    "start_time": "2022-08-26T09:40:32.238Z"
   },
   {
    "duration": 7,
    "start_time": "2022-08-26T09:40:32.307Z"
   },
   {
    "duration": 234,
    "start_time": "2022-08-26T09:40:32.315Z"
   },
   {
    "duration": 72,
    "start_time": "2022-08-26T09:47:14.162Z"
   },
   {
    "duration": 73,
    "start_time": "2022-08-26T09:47:25.852Z"
   },
   {
    "duration": 229,
    "start_time": "2022-08-26T09:48:24.794Z"
   },
   {
    "duration": 76,
    "start_time": "2022-08-26T09:49:00.227Z"
   },
   {
    "duration": 36,
    "start_time": "2022-08-26T09:53:02.145Z"
   },
   {
    "duration": 37,
    "start_time": "2022-08-26T09:53:05.592Z"
   },
   {
    "duration": 36,
    "start_time": "2022-08-26T09:53:24.073Z"
   },
   {
    "duration": 35,
    "start_time": "2022-08-26T09:53:46.587Z"
   },
   {
    "duration": 487,
    "start_time": "2022-08-26T10:07:16.364Z"
   },
   {
    "duration": 1137,
    "start_time": "2022-08-26T10:28:27.733Z"
   },
   {
    "duration": 145,
    "start_time": "2022-08-26T10:28:28.872Z"
   },
   {
    "duration": 11,
    "start_time": "2022-08-26T10:28:29.018Z"
   },
   {
    "duration": 30,
    "start_time": "2022-08-26T10:28:29.030Z"
   },
   {
    "duration": 4,
    "start_time": "2022-08-26T10:28:29.062Z"
   },
   {
    "duration": 23,
    "start_time": "2022-08-26T10:28:29.067Z"
   },
   {
    "duration": 23,
    "start_time": "2022-08-26T10:28:29.092Z"
   },
   {
    "duration": 107,
    "start_time": "2022-08-26T10:28:29.117Z"
   },
   {
    "duration": 60,
    "start_time": "2022-08-26T10:28:29.226Z"
   },
   {
    "duration": 72,
    "start_time": "2022-08-26T10:28:29.298Z"
   },
   {
    "duration": 98,
    "start_time": "2022-08-26T10:28:29.371Z"
   },
   {
    "duration": 30,
    "start_time": "2022-08-26T10:28:29.471Z"
   },
   {
    "duration": 12,
    "start_time": "2022-08-26T10:28:29.503Z"
   },
   {
    "duration": 10,
    "start_time": "2022-08-26T10:28:29.518Z"
   },
   {
    "duration": 11,
    "start_time": "2022-08-26T10:28:29.529Z"
   },
   {
    "duration": 22,
    "start_time": "2022-08-26T10:28:29.541Z"
   },
   {
    "duration": 13,
    "start_time": "2022-08-26T10:28:29.565Z"
   },
   {
    "duration": 33,
    "start_time": "2022-08-26T10:28:29.580Z"
   },
   {
    "duration": 13,
    "start_time": "2022-08-26T10:28:29.615Z"
   },
   {
    "duration": 4,
    "start_time": "2022-08-26T10:28:29.629Z"
   },
   {
    "duration": 7,
    "start_time": "2022-08-26T10:28:29.635Z"
   },
   {
    "duration": 25,
    "start_time": "2022-08-26T10:28:29.644Z"
   },
   {
    "duration": 232,
    "start_time": "2022-08-26T10:28:29.671Z"
   },
   {
    "duration": 16,
    "start_time": "2022-08-26T10:28:29.904Z"
   },
   {
    "duration": 3,
    "start_time": "2022-08-26T10:28:29.922Z"
   },
   {
    "duration": 6,
    "start_time": "2022-08-26T10:28:29.926Z"
   },
   {
    "duration": 11,
    "start_time": "2022-08-26T10:28:29.933Z"
   },
   {
    "duration": 10,
    "start_time": "2022-08-26T10:28:29.946Z"
   },
   {
    "duration": 15,
    "start_time": "2022-08-26T10:28:29.958Z"
   },
   {
    "duration": 25,
    "start_time": "2022-08-26T10:28:29.974Z"
   },
   {
    "duration": 10,
    "start_time": "2022-08-26T10:28:30.001Z"
   },
   {
    "duration": 42,
    "start_time": "2022-08-26T10:28:30.013Z"
   },
   {
    "duration": 21,
    "start_time": "2022-08-26T10:28:30.057Z"
   },
   {
    "duration": 78,
    "start_time": "2022-08-26T10:28:30.080Z"
   },
   {
    "duration": 331,
    "start_time": "2022-08-26T10:28:30.160Z"
   },
   {
    "duration": 33,
    "start_time": "2022-08-26T10:28:30.493Z"
   },
   {
    "duration": 11,
    "start_time": "2022-08-26T10:28:30.528Z"
   },
   {
    "duration": 70,
    "start_time": "2022-08-26T10:28:30.540Z"
   },
   {
    "duration": 15,
    "start_time": "2022-08-26T10:28:30.612Z"
   },
   {
    "duration": 72,
    "start_time": "2022-08-26T10:28:30.629Z"
   },
   {
    "duration": 1073,
    "start_time": "2022-08-26T10:28:30.705Z"
   },
   {
    "duration": 79,
    "start_time": "2022-08-26T10:30:47.845Z"
   },
   {
    "duration": 87,
    "start_time": "2022-08-26T10:31:28.805Z"
   },
   {
    "duration": 69,
    "start_time": "2022-08-26T10:32:12.824Z"
   },
   {
    "duration": 88,
    "start_time": "2022-08-26T10:32:46.848Z"
   },
   {
    "duration": 47,
    "start_time": "2022-08-26T10:34:39.981Z"
   },
   {
    "duration": 78,
    "start_time": "2022-08-26T10:38:26.949Z"
   },
   {
    "duration": 82,
    "start_time": "2022-08-26T10:39:57.715Z"
   },
   {
    "duration": 82,
    "start_time": "2022-08-26T10:42:07.335Z"
   },
   {
    "duration": 1555,
    "start_time": "2022-08-26T12:00:09.282Z"
   },
   {
    "duration": 709,
    "start_time": "2022-08-26T12:00:10.840Z"
   },
   {
    "duration": 13,
    "start_time": "2022-08-26T12:00:11.551Z"
   },
   {
    "duration": 23,
    "start_time": "2022-08-26T12:00:11.567Z"
   },
   {
    "duration": 4,
    "start_time": "2022-08-26T12:00:11.592Z"
   },
   {
    "duration": 56,
    "start_time": "2022-08-26T12:00:11.597Z"
   },
   {
    "duration": 28,
    "start_time": "2022-08-26T12:00:11.657Z"
   },
   {
    "duration": 190,
    "start_time": "2022-08-26T12:00:11.687Z"
   },
   {
    "duration": 93,
    "start_time": "2022-08-26T12:00:11.879Z"
   },
   {
    "duration": 118,
    "start_time": "2022-08-26T12:00:11.975Z"
   },
   {
    "duration": 122,
    "start_time": "2022-08-26T12:00:12.094Z"
   },
   {
    "duration": 39,
    "start_time": "2022-08-26T12:00:12.217Z"
   },
   {
    "duration": 12,
    "start_time": "2022-08-26T12:00:12.258Z"
   },
   {
    "duration": 9,
    "start_time": "2022-08-26T12:00:12.271Z"
   },
   {
    "duration": 14,
    "start_time": "2022-08-26T12:00:12.282Z"
   },
   {
    "duration": 90,
    "start_time": "2022-08-26T12:00:12.301Z"
   },
   {
    "duration": 31,
    "start_time": "2022-08-26T12:00:12.393Z"
   },
   {
    "duration": 42,
    "start_time": "2022-08-26T12:00:12.426Z"
   },
   {
    "duration": 17,
    "start_time": "2022-08-26T12:00:12.470Z"
   },
   {
    "duration": 5,
    "start_time": "2022-08-26T12:00:12.492Z"
   },
   {
    "duration": 46,
    "start_time": "2022-08-26T12:00:12.505Z"
   },
   {
    "duration": 16,
    "start_time": "2022-08-26T12:00:12.553Z"
   },
   {
    "duration": 255,
    "start_time": "2022-08-26T12:00:12.570Z"
   },
   {
    "duration": 22,
    "start_time": "2022-08-26T12:00:12.836Z"
   },
   {
    "duration": 4,
    "start_time": "2022-08-26T12:00:12.860Z"
   },
   {
    "duration": 11,
    "start_time": "2022-08-26T12:00:12.865Z"
   },
   {
    "duration": 8,
    "start_time": "2022-08-26T12:00:12.877Z"
   },
   {
    "duration": 10,
    "start_time": "2022-08-26T12:00:12.889Z"
   },
   {
    "duration": 30,
    "start_time": "2022-08-26T12:00:12.915Z"
   },
   {
    "duration": 6,
    "start_time": "2022-08-26T12:00:12.949Z"
   },
   {
    "duration": 16,
    "start_time": "2022-08-26T12:00:12.957Z"
   },
   {
    "duration": 42,
    "start_time": "2022-08-26T12:00:12.975Z"
   },
   {
    "duration": 29,
    "start_time": "2022-08-26T12:00:13.018Z"
   },
   {
    "duration": 80,
    "start_time": "2022-08-26T12:00:13.048Z"
   },
   {
    "duration": 413,
    "start_time": "2022-08-26T12:00:13.131Z"
   },
   {
    "duration": 31,
    "start_time": "2022-08-26T12:00:13.545Z"
   },
   {
    "duration": 42,
    "start_time": "2022-08-26T12:00:13.578Z"
   },
   {
    "duration": 33,
    "start_time": "2022-08-26T12:00:13.622Z"
   },
   {
    "duration": 9,
    "start_time": "2022-08-26T12:00:13.657Z"
   },
   {
    "duration": 89,
    "start_time": "2022-08-26T12:00:13.668Z"
   },
   {
    "duration": 98,
    "start_time": "2022-08-26T12:00:13.759Z"
   },
   {
    "duration": 81,
    "start_time": "2022-08-26T13:24:12.390Z"
   },
   {
    "duration": 24,
    "start_time": "2022-08-26T13:43:26.025Z"
   },
   {
    "duration": 75,
    "start_time": "2022-08-26T14:05:38.165Z"
   },
   {
    "duration": 5,
    "start_time": "2022-08-26T14:25:46.354Z"
   },
   {
    "duration": 3,
    "start_time": "2022-08-26T14:26:13.901Z"
   },
   {
    "duration": 65,
    "start_time": "2022-08-26T14:26:30.842Z"
   },
   {
    "duration": 5,
    "start_time": "2022-08-26T14:26:37.886Z"
   },
   {
    "duration": 5,
    "start_time": "2022-08-26T14:27:10.242Z"
   },
   {
    "duration": 5,
    "start_time": "2022-08-26T14:27:13.960Z"
   },
   {
    "duration": 50,
    "start_time": "2022-08-26T14:31:29.511Z"
   },
   {
    "duration": 62,
    "start_time": "2022-08-26T14:31:41.978Z"
   },
   {
    "duration": 167,
    "start_time": "2022-08-26T14:32:06.995Z"
   },
   {
    "duration": 5,
    "start_time": "2022-08-26T14:32:20.630Z"
   },
   {
    "duration": 5,
    "start_time": "2022-08-26T14:32:47.727Z"
   },
   {
    "duration": 3,
    "start_time": "2022-08-26T14:34:10.968Z"
   },
   {
    "duration": 4,
    "start_time": "2022-08-26T14:34:17.413Z"
   },
   {
    "duration": 4,
    "start_time": "2022-08-26T14:34:23.031Z"
   },
   {
    "duration": 5,
    "start_time": "2022-08-26T14:34:34.409Z"
   },
   {
    "duration": 5,
    "start_time": "2022-08-26T14:35:05.809Z"
   },
   {
    "duration": 5,
    "start_time": "2022-08-26T14:35:12.672Z"
   },
   {
    "duration": 5,
    "start_time": "2022-08-26T14:35:22.621Z"
   },
   {
    "duration": 4,
    "start_time": "2022-08-26T14:36:20.751Z"
   },
   {
    "duration": 3,
    "start_time": "2022-08-26T14:38:01.829Z"
   },
   {
    "duration": 5,
    "start_time": "2022-08-26T14:38:13.604Z"
   },
   {
    "duration": 5,
    "start_time": "2022-08-26T14:38:22.059Z"
   },
   {
    "duration": 5,
    "start_time": "2022-08-26T14:38:32.652Z"
   },
   {
    "duration": 4,
    "start_time": "2022-08-26T14:38:43.386Z"
   },
   {
    "duration": 5,
    "start_time": "2022-08-26T14:39:03.283Z"
   },
   {
    "duration": 4,
    "start_time": "2022-08-26T14:39:13.251Z"
   },
   {
    "duration": 6,
    "start_time": "2022-08-26T14:40:15.162Z"
   },
   {
    "duration": 9,
    "start_time": "2022-08-26T14:40:34.219Z"
   },
   {
    "duration": 5,
    "start_time": "2022-08-26T14:53:20.222Z"
   },
   {
    "duration": 5,
    "start_time": "2022-08-26T14:56:27.195Z"
   },
   {
    "duration": 4,
    "start_time": "2022-08-26T14:56:41.797Z"
   },
   {
    "duration": 4,
    "start_time": "2022-08-26T14:59:01.863Z"
   },
   {
    "duration": 5,
    "start_time": "2022-08-26T14:59:20.689Z"
   },
   {
    "duration": 5,
    "start_time": "2022-08-26T15:02:36.140Z"
   },
   {
    "duration": 6,
    "start_time": "2022-08-26T15:04:45.953Z"
   },
   {
    "duration": 3,
    "start_time": "2022-08-26T15:05:52.749Z"
   },
   {
    "duration": 4,
    "start_time": "2022-08-26T15:05:57.091Z"
   },
   {
    "duration": 4,
    "start_time": "2022-08-26T15:06:09.587Z"
   },
   {
    "duration": 5,
    "start_time": "2022-08-26T15:06:20.710Z"
   },
   {
    "duration": 5,
    "start_time": "2022-08-26T15:06:33.318Z"
   },
   {
    "duration": 5,
    "start_time": "2022-08-26T15:07:08.240Z"
   },
   {
    "duration": 6,
    "start_time": "2022-08-26T15:07:16.575Z"
   },
   {
    "duration": 5,
    "start_time": "2022-08-26T15:07:20.338Z"
   },
   {
    "duration": 5,
    "start_time": "2022-08-26T15:08:28.580Z"
   },
   {
    "duration": 5,
    "start_time": "2022-08-26T15:08:34.401Z"
   },
   {
    "duration": 5,
    "start_time": "2022-08-26T15:08:43.950Z"
   },
   {
    "duration": 4,
    "start_time": "2022-08-26T15:12:02.419Z"
   },
   {
    "duration": 4,
    "start_time": "2022-08-26T15:12:10.196Z"
   },
   {
    "duration": 82,
    "start_time": "2022-08-26T15:21:59.776Z"
   },
   {
    "duration": 72,
    "start_time": "2022-08-26T15:22:13.110Z"
   },
   {
    "duration": 73,
    "start_time": "2022-08-26T15:24:14.211Z"
   },
   {
    "duration": 8,
    "start_time": "2022-08-26T15:30:10.308Z"
   },
   {
    "duration": 80,
    "start_time": "2022-08-26T15:30:43.564Z"
   },
   {
    "duration": 74,
    "start_time": "2022-08-26T15:30:54.067Z"
   },
   {
    "duration": 78,
    "start_time": "2022-08-26T15:31:11.897Z"
   },
   {
    "duration": 13,
    "start_time": "2022-08-26T15:33:39.901Z"
   },
   {
    "duration": 11,
    "start_time": "2022-08-26T15:34:03.694Z"
   },
   {
    "duration": 11,
    "start_time": "2022-08-26T15:34:27.928Z"
   },
   {
    "duration": 5,
    "start_time": "2022-08-26T15:37:22.672Z"
   },
   {
    "duration": 5,
    "start_time": "2022-08-26T15:37:46.671Z"
   },
   {
    "duration": 4,
    "start_time": "2022-08-26T15:39:14.242Z"
   },
   {
    "duration": 55,
    "start_time": "2022-08-26T15:40:38.482Z"
   },
   {
    "duration": 4,
    "start_time": "2022-08-26T15:40:45.505Z"
   },
   {
    "duration": 12,
    "start_time": "2022-08-26T15:45:03.417Z"
   },
   {
    "duration": 4,
    "start_time": "2022-08-26T15:45:16.179Z"
   },
   {
    "duration": 4,
    "start_time": "2022-08-26T15:45:22.784Z"
   },
   {
    "duration": 5,
    "start_time": "2022-08-26T15:45:27.960Z"
   },
   {
    "duration": 1199,
    "start_time": "2022-08-26T16:00:58.663Z"
   },
   {
    "duration": 150,
    "start_time": "2022-08-26T16:00:59.864Z"
   },
   {
    "duration": 12,
    "start_time": "2022-08-26T16:01:00.016Z"
   },
   {
    "duration": 19,
    "start_time": "2022-08-26T16:01:00.030Z"
   },
   {
    "duration": 3,
    "start_time": "2022-08-26T16:01:00.051Z"
   },
   {
    "duration": 11,
    "start_time": "2022-08-26T16:01:00.056Z"
   },
   {
    "duration": 34,
    "start_time": "2022-08-26T16:01:00.069Z"
   },
   {
    "duration": 117,
    "start_time": "2022-08-26T16:01:00.104Z"
   },
   {
    "duration": 62,
    "start_time": "2022-08-26T16:01:00.223Z"
   },
   {
    "duration": 84,
    "start_time": "2022-08-26T16:01:00.286Z"
   },
   {
    "duration": 99,
    "start_time": "2022-08-26T16:01:00.371Z"
   },
   {
    "duration": 27,
    "start_time": "2022-08-26T16:01:00.472Z"
   },
   {
    "duration": 19,
    "start_time": "2022-08-26T16:01:00.500Z"
   },
   {
    "duration": 30,
    "start_time": "2022-08-26T16:01:00.521Z"
   },
   {
    "duration": 13,
    "start_time": "2022-08-26T16:01:00.552Z"
   },
   {
    "duration": 38,
    "start_time": "2022-08-26T16:01:00.567Z"
   },
   {
    "duration": 27,
    "start_time": "2022-08-26T16:01:00.606Z"
   },
   {
    "duration": 21,
    "start_time": "2022-08-26T16:01:00.634Z"
   },
   {
    "duration": 23,
    "start_time": "2022-08-26T16:01:00.657Z"
   },
   {
    "duration": 34,
    "start_time": "2022-08-26T16:01:00.681Z"
   },
   {
    "duration": 25,
    "start_time": "2022-08-26T16:01:00.717Z"
   },
   {
    "duration": 65,
    "start_time": "2022-08-26T16:01:00.744Z"
   },
   {
    "duration": 239,
    "start_time": "2022-08-26T16:01:00.811Z"
   },
   {
    "duration": 17,
    "start_time": "2022-08-26T16:01:01.051Z"
   },
   {
    "duration": 20,
    "start_time": "2022-08-26T16:01:01.069Z"
   },
   {
    "duration": 46,
    "start_time": "2022-08-26T16:01:01.091Z"
   },
   {
    "duration": 20,
    "start_time": "2022-08-26T16:01:01.138Z"
   },
   {
    "duration": 15,
    "start_time": "2022-08-26T16:01:01.159Z"
   },
   {
    "duration": 15,
    "start_time": "2022-08-26T16:01:01.175Z"
   },
   {
    "duration": 23,
    "start_time": "2022-08-26T16:01:01.191Z"
   },
   {
    "duration": 10,
    "start_time": "2022-08-26T16:01:01.215Z"
   },
   {
    "duration": 40,
    "start_time": "2022-08-26T16:01:01.226Z"
   },
   {
    "duration": 19,
    "start_time": "2022-08-26T16:01:01.268Z"
   },
   {
    "duration": 71,
    "start_time": "2022-08-26T16:01:01.289Z"
   },
   {
    "duration": 353,
    "start_time": "2022-08-26T16:01:01.362Z"
   },
   {
    "duration": 25,
    "start_time": "2022-08-26T16:01:01.717Z"
   },
   {
    "duration": 55,
    "start_time": "2022-08-26T16:01:01.743Z"
   },
   {
    "duration": 13,
    "start_time": "2022-08-26T16:01:01.800Z"
   },
   {
    "duration": 13,
    "start_time": "2022-08-26T16:01:01.814Z"
   },
   {
    "duration": 88,
    "start_time": "2022-08-26T16:01:01.828Z"
   },
   {
    "duration": 88,
    "start_time": "2022-08-26T16:01:01.921Z"
   },
   {
    "duration": 14,
    "start_time": "2022-08-26T16:01:02.012Z"
   },
   {
    "duration": 17,
    "start_time": "2022-08-26T16:01:02.027Z"
   },
   {
    "duration": 19,
    "start_time": "2022-08-26T16:01:02.046Z"
   },
   {
    "duration": 103,
    "start_time": "2022-08-26T16:01:02.067Z"
   },
   {
    "duration": 39,
    "start_time": "2022-08-26T16:01:02.172Z"
   },
   {
    "duration": 93,
    "start_time": "2022-08-26T16:01:02.212Z"
   },
   {
    "duration": 2,
    "start_time": "2022-08-26T16:01:02.307Z"
   },
   {
    "duration": 28,
    "start_time": "2022-08-26T16:01:02.311Z"
   },
   {
    "duration": 50,
    "start_time": "2022-08-26T16:01:02.341Z"
   },
   {
    "duration": 169,
    "start_time": "2022-08-26T16:01:02.393Z"
   },
   {
    "duration": 5,
    "start_time": "2022-08-26T16:01:02.563Z"
   },
   {
    "duration": 162,
    "start_time": "2022-08-26T16:01:50.463Z"
   },
   {
    "duration": 1153,
    "start_time": "2022-08-26T16:01:58.207Z"
   },
   {
    "duration": 163,
    "start_time": "2022-08-26T16:01:59.361Z"
   },
   {
    "duration": 11,
    "start_time": "2022-08-26T16:01:59.525Z"
   },
   {
    "duration": 23,
    "start_time": "2022-08-26T16:01:59.538Z"
   },
   {
    "duration": 4,
    "start_time": "2022-08-26T16:01:59.563Z"
   },
   {
    "duration": 15,
    "start_time": "2022-08-26T16:01:59.568Z"
   },
   {
    "duration": 34,
    "start_time": "2022-08-26T16:01:59.585Z"
   },
   {
    "duration": 120,
    "start_time": "2022-08-26T16:01:59.620Z"
   },
   {
    "duration": 66,
    "start_time": "2022-08-26T16:01:59.742Z"
   },
   {
    "duration": 68,
    "start_time": "2022-08-26T16:01:59.810Z"
   },
   {
    "duration": 99,
    "start_time": "2022-08-26T16:01:59.879Z"
   },
   {
    "duration": 31,
    "start_time": "2022-08-26T16:01:59.979Z"
   },
   {
    "duration": 11,
    "start_time": "2022-08-26T16:02:00.012Z"
   },
   {
    "duration": 14,
    "start_time": "2022-08-26T16:02:00.025Z"
   },
   {
    "duration": 10,
    "start_time": "2022-08-26T16:02:00.040Z"
   },
   {
    "duration": 24,
    "start_time": "2022-08-26T16:02:00.051Z"
   },
   {
    "duration": 24,
    "start_time": "2022-08-26T16:02:00.077Z"
   },
   {
    "duration": 27,
    "start_time": "2022-08-26T16:02:00.103Z"
   },
   {
    "duration": 15,
    "start_time": "2022-08-26T16:02:00.132Z"
   },
   {
    "duration": 4,
    "start_time": "2022-08-26T16:02:00.149Z"
   },
   {
    "duration": 5,
    "start_time": "2022-08-26T16:02:00.155Z"
   },
   {
    "duration": 53,
    "start_time": "2022-08-26T16:02:00.162Z"
   },
   {
    "duration": 222,
    "start_time": "2022-08-26T16:02:00.216Z"
   },
   {
    "duration": 14,
    "start_time": "2022-08-26T16:02:00.440Z"
   },
   {
    "duration": 11,
    "start_time": "2022-08-26T16:02:00.456Z"
   },
   {
    "duration": 14,
    "start_time": "2022-08-26T16:02:00.468Z"
   },
   {
    "duration": 22,
    "start_time": "2022-08-26T16:02:00.484Z"
   },
   {
    "duration": 55,
    "start_time": "2022-08-26T16:02:00.509Z"
   },
   {
    "duration": 33,
    "start_time": "2022-08-26T16:02:00.566Z"
   },
   {
    "duration": 20,
    "start_time": "2022-08-26T16:02:00.600Z"
   },
   {
    "duration": 19,
    "start_time": "2022-08-26T16:02:00.621Z"
   },
   {
    "duration": 54,
    "start_time": "2022-08-26T16:02:00.641Z"
   },
   {
    "duration": 20,
    "start_time": "2022-08-26T16:02:00.696Z"
   },
   {
    "duration": 83,
    "start_time": "2022-08-26T16:02:00.717Z"
   },
   {
    "duration": 346,
    "start_time": "2022-08-26T16:02:00.801Z"
   },
   {
    "duration": 26,
    "start_time": "2022-08-26T16:02:01.148Z"
   },
   {
    "duration": 8,
    "start_time": "2022-08-26T16:02:01.175Z"
   },
   {
    "duration": 17,
    "start_time": "2022-08-26T16:02:01.199Z"
   },
   {
    "duration": 13,
    "start_time": "2022-08-26T16:02:01.217Z"
   },
   {
    "duration": 90,
    "start_time": "2022-08-26T16:02:01.231Z"
   },
   {
    "duration": 79,
    "start_time": "2022-08-26T16:02:01.323Z"
   },
   {
    "duration": 11,
    "start_time": "2022-08-26T16:02:01.404Z"
   },
   {
    "duration": 29,
    "start_time": "2022-08-26T16:02:01.416Z"
   },
   {
    "duration": 12,
    "start_time": "2022-08-26T16:02:01.446Z"
   },
   {
    "duration": 16,
    "start_time": "2022-08-26T16:02:01.459Z"
   },
   {
    "duration": 5,
    "start_time": "2022-08-26T16:02:01.477Z"
   },
   {
    "duration": 80,
    "start_time": "2022-08-26T16:02:01.483Z"
   },
   {
    "duration": 3,
    "start_time": "2022-08-26T16:02:01.565Z"
   },
   {
    "duration": 22,
    "start_time": "2022-08-26T16:02:01.570Z"
   },
   {
    "duration": 11,
    "start_time": "2022-08-26T16:02:01.594Z"
   },
   {
    "duration": 101,
    "start_time": "2022-08-26T16:02:01.607Z"
   },
   {
    "duration": 5,
    "start_time": "2022-08-26T16:02:01.709Z"
   },
   {
    "duration": 1485,
    "start_time": "2022-08-27T08:33:04.537Z"
   },
   {
    "duration": 638,
    "start_time": "2022-08-27T08:33:06.024Z"
   },
   {
    "duration": 15,
    "start_time": "2022-08-27T08:33:06.663Z"
   },
   {
    "duration": 31,
    "start_time": "2022-08-27T08:33:06.680Z"
   },
   {
    "duration": 5,
    "start_time": "2022-08-27T08:33:06.712Z"
   },
   {
    "duration": 13,
    "start_time": "2022-08-27T08:33:06.719Z"
   },
   {
    "duration": 30,
    "start_time": "2022-08-27T08:33:06.733Z"
   },
   {
    "duration": 170,
    "start_time": "2022-08-27T08:33:06.765Z"
   },
   {
    "duration": 74,
    "start_time": "2022-08-27T08:33:06.938Z"
   },
   {
    "duration": 97,
    "start_time": "2022-08-27T08:33:07.015Z"
   },
   {
    "duration": 112,
    "start_time": "2022-08-27T08:33:07.114Z"
   },
   {
    "duration": 25,
    "start_time": "2022-08-27T08:33:07.228Z"
   },
   {
    "duration": 9,
    "start_time": "2022-08-27T08:33:07.255Z"
   },
   {
    "duration": 7,
    "start_time": "2022-08-27T08:33:07.266Z"
   },
   {
    "duration": 5,
    "start_time": "2022-08-27T08:33:07.274Z"
   },
   {
    "duration": 56,
    "start_time": "2022-08-27T08:33:07.281Z"
   },
   {
    "duration": 12,
    "start_time": "2022-08-27T08:33:07.339Z"
   },
   {
    "duration": 31,
    "start_time": "2022-08-27T08:33:07.353Z"
   },
   {
    "duration": 33,
    "start_time": "2022-08-27T08:33:07.385Z"
   },
   {
    "duration": 6,
    "start_time": "2022-08-27T08:33:07.430Z"
   },
   {
    "duration": 36,
    "start_time": "2022-08-27T08:33:07.438Z"
   },
   {
    "duration": 24,
    "start_time": "2022-08-27T08:33:07.476Z"
   },
   {
    "duration": 257,
    "start_time": "2022-08-27T08:33:07.501Z"
   },
   {
    "duration": 17,
    "start_time": "2022-08-27T08:33:07.759Z"
   },
   {
    "duration": 3,
    "start_time": "2022-08-27T08:33:07.777Z"
   },
   {
    "duration": 4,
    "start_time": "2022-08-27T08:33:07.782Z"
   },
   {
    "duration": 24,
    "start_time": "2022-08-27T08:33:07.788Z"
   },
   {
    "duration": 7,
    "start_time": "2022-08-27T08:33:07.816Z"
   },
   {
    "duration": 11,
    "start_time": "2022-08-27T08:33:07.825Z"
   },
   {
    "duration": 11,
    "start_time": "2022-08-27T08:33:07.838Z"
   },
   {
    "duration": 12,
    "start_time": "2022-08-27T08:33:07.851Z"
   },
   {
    "duration": 53,
    "start_time": "2022-08-27T08:33:07.864Z"
   },
   {
    "duration": 42,
    "start_time": "2022-08-27T08:33:07.919Z"
   },
   {
    "duration": 91,
    "start_time": "2022-08-27T08:33:07.963Z"
   },
   {
    "duration": 406,
    "start_time": "2022-08-27T08:33:08.056Z"
   },
   {
    "duration": 28,
    "start_time": "2022-08-27T08:33:08.464Z"
   },
   {
    "duration": 15,
    "start_time": "2022-08-27T08:33:08.510Z"
   },
   {
    "duration": 45,
    "start_time": "2022-08-27T08:33:08.527Z"
   },
   {
    "duration": 44,
    "start_time": "2022-08-27T08:33:08.574Z"
   },
   {
    "duration": 53,
    "start_time": "2022-08-27T08:33:08.620Z"
   },
   {
    "duration": 87,
    "start_time": "2022-08-27T08:33:08.675Z"
   },
   {
    "duration": 11,
    "start_time": "2022-08-27T08:33:08.764Z"
   },
   {
    "duration": 25,
    "start_time": "2022-08-27T08:33:08.776Z"
   },
   {
    "duration": 23,
    "start_time": "2022-08-27T08:33:08.802Z"
   },
   {
    "duration": 41,
    "start_time": "2022-08-27T08:33:08.827Z"
   },
   {
    "duration": 4,
    "start_time": "2022-08-27T08:33:08.870Z"
   },
   {
    "duration": 101,
    "start_time": "2022-08-27T08:33:08.876Z"
   },
   {
    "duration": 99,
    "start_time": "2022-08-27T08:33:08.978Z"
   },
   {
    "duration": 14,
    "start_time": "2022-08-27T08:48:14.737Z"
   },
   {
    "duration": 1168,
    "start_time": "2022-08-27T08:48:23.628Z"
   },
   {
    "duration": 144,
    "start_time": "2022-08-27T08:48:24.798Z"
   },
   {
    "duration": 11,
    "start_time": "2022-08-27T08:48:24.944Z"
   },
   {
    "duration": 18,
    "start_time": "2022-08-27T08:48:24.957Z"
   },
   {
    "duration": 3,
    "start_time": "2022-08-27T08:48:24.977Z"
   },
   {
    "duration": 31,
    "start_time": "2022-08-27T08:48:24.981Z"
   },
   {
    "duration": 16,
    "start_time": "2022-08-27T08:48:25.014Z"
   },
   {
    "duration": 139,
    "start_time": "2022-08-27T08:48:25.032Z"
   },
   {
    "duration": 14,
    "start_time": "2022-08-27T08:48:25.173Z"
   },
   {
    "duration": 74,
    "start_time": "2022-08-27T08:48:25.189Z"
   },
   {
    "duration": 83,
    "start_time": "2022-08-27T08:48:25.265Z"
   },
   {
    "duration": 100,
    "start_time": "2022-08-27T08:48:25.349Z"
   },
   {
    "duration": 26,
    "start_time": "2022-08-27T08:48:25.451Z"
   },
   {
    "duration": 10,
    "start_time": "2022-08-27T08:48:25.479Z"
   },
   {
    "duration": 22,
    "start_time": "2022-08-27T08:48:25.491Z"
   },
   {
    "duration": 9,
    "start_time": "2022-08-27T08:48:25.515Z"
   },
   {
    "duration": 21,
    "start_time": "2022-08-27T08:48:25.525Z"
   },
   {
    "duration": 8,
    "start_time": "2022-08-27T08:48:25.548Z"
   },
   {
    "duration": 22,
    "start_time": "2022-08-27T08:48:25.557Z"
   },
   {
    "duration": 38,
    "start_time": "2022-08-27T08:48:25.580Z"
   },
   {
    "duration": 5,
    "start_time": "2022-08-27T08:48:25.620Z"
   },
   {
    "duration": 7,
    "start_time": "2022-08-27T08:48:25.626Z"
   },
   {
    "duration": 29,
    "start_time": "2022-08-27T08:48:25.634Z"
   },
   {
    "duration": 225,
    "start_time": "2022-08-27T08:48:25.664Z"
   },
   {
    "duration": 23,
    "start_time": "2022-08-27T08:48:25.890Z"
   },
   {
    "duration": 16,
    "start_time": "2022-08-27T08:48:25.915Z"
   },
   {
    "duration": 9,
    "start_time": "2022-08-27T08:48:25.933Z"
   },
   {
    "duration": 7,
    "start_time": "2022-08-27T08:48:25.945Z"
   },
   {
    "duration": 5,
    "start_time": "2022-08-27T08:48:25.955Z"
   },
   {
    "duration": 14,
    "start_time": "2022-08-27T08:48:25.961Z"
   },
   {
    "duration": 4,
    "start_time": "2022-08-27T08:48:25.976Z"
   },
   {
    "duration": 7,
    "start_time": "2022-08-27T08:48:25.982Z"
   },
   {
    "duration": 49,
    "start_time": "2022-08-27T08:48:25.991Z"
   },
   {
    "duration": 21,
    "start_time": "2022-08-27T08:48:26.041Z"
   },
   {
    "duration": 80,
    "start_time": "2022-08-27T08:48:26.063Z"
   },
   {
    "duration": 347,
    "start_time": "2022-08-27T08:48:26.145Z"
   },
   {
    "duration": 24,
    "start_time": "2022-08-27T08:48:26.493Z"
   },
   {
    "duration": 9,
    "start_time": "2022-08-27T08:48:26.518Z"
   },
   {
    "duration": 14,
    "start_time": "2022-08-27T08:48:26.528Z"
   },
   {
    "duration": 6,
    "start_time": "2022-08-27T08:48:26.543Z"
   },
   {
    "duration": 89,
    "start_time": "2022-08-27T08:48:26.550Z"
   },
   {
    "duration": 112,
    "start_time": "2022-08-27T08:48:26.640Z"
   },
   {
    "duration": 12,
    "start_time": "2022-08-27T08:48:26.754Z"
   },
   {
    "duration": 13,
    "start_time": "2022-08-27T08:48:26.767Z"
   },
   {
    "duration": 89,
    "start_time": "2022-08-27T08:48:26.782Z"
   },
   {
    "duration": 97,
    "start_time": "2022-08-27T08:48:26.873Z"
   },
   {
    "duration": 164,
    "start_time": "2022-08-27T08:49:02.011Z"
   },
   {
    "duration": 44,
    "start_time": "2022-08-27T08:50:21.293Z"
   },
   {
    "duration": 1230,
    "start_time": "2022-08-27T08:50:29.796Z"
   },
   {
    "duration": 161,
    "start_time": "2022-08-27T08:50:31.027Z"
   },
   {
    "duration": 10,
    "start_time": "2022-08-27T08:50:31.190Z"
   },
   {
    "duration": 30,
    "start_time": "2022-08-27T08:50:31.202Z"
   },
   {
    "duration": 3,
    "start_time": "2022-08-27T08:50:31.234Z"
   },
   {
    "duration": 15,
    "start_time": "2022-08-27T08:50:31.239Z"
   },
   {
    "duration": 21,
    "start_time": "2022-08-27T08:50:31.256Z"
   },
   {
    "duration": 116,
    "start_time": "2022-08-27T08:50:31.279Z"
   },
   {
    "duration": 59,
    "start_time": "2022-08-27T08:50:31.396Z"
   },
   {
    "duration": 88,
    "start_time": "2022-08-27T08:50:31.457Z"
   },
   {
    "duration": 93,
    "start_time": "2022-08-27T08:50:31.547Z"
   },
   {
    "duration": 113,
    "start_time": "2022-08-27T08:50:31.641Z"
   },
   {
    "duration": 20,
    "start_time": "2022-08-27T08:50:31.755Z"
   },
   {
    "duration": 37,
    "start_time": "2022-08-27T08:50:31.778Z"
   },
   {
    "duration": 16,
    "start_time": "2022-08-27T08:50:31.817Z"
   },
   {
    "duration": 17,
    "start_time": "2022-08-27T08:50:31.835Z"
   },
   {
    "duration": 63,
    "start_time": "2022-08-27T08:50:31.854Z"
   },
   {
    "duration": 13,
    "start_time": "2022-08-27T08:50:31.919Z"
   },
   {
    "duration": 33,
    "start_time": "2022-08-27T08:50:31.934Z"
   },
   {
    "duration": 14,
    "start_time": "2022-08-27T08:50:31.969Z"
   },
   {
    "duration": 4,
    "start_time": "2022-08-27T08:50:31.985Z"
   },
   {
    "duration": 22,
    "start_time": "2022-08-27T08:50:31.991Z"
   },
   {
    "duration": 14,
    "start_time": "2022-08-27T08:50:32.015Z"
   },
   {
    "duration": 233,
    "start_time": "2022-08-27T08:50:32.030Z"
   },
   {
    "duration": 27,
    "start_time": "2022-08-27T08:50:32.264Z"
   },
   {
    "duration": 18,
    "start_time": "2022-08-27T08:50:32.293Z"
   },
   {
    "duration": 4,
    "start_time": "2022-08-27T08:50:32.312Z"
   },
   {
    "duration": 5,
    "start_time": "2022-08-27T08:50:32.317Z"
   },
   {
    "duration": 6,
    "start_time": "2022-08-27T08:50:32.324Z"
   },
   {
    "duration": 10,
    "start_time": "2022-08-27T08:50:32.332Z"
   },
   {
    "duration": 4,
    "start_time": "2022-08-27T08:50:32.344Z"
   },
   {
    "duration": 27,
    "start_time": "2022-08-27T08:50:32.350Z"
   },
   {
    "duration": 63,
    "start_time": "2022-08-27T08:50:32.379Z"
   },
   {
    "duration": 20,
    "start_time": "2022-08-27T08:50:32.444Z"
   },
   {
    "duration": 104,
    "start_time": "2022-08-27T08:50:32.466Z"
   },
   {
    "duration": 408,
    "start_time": "2022-08-27T08:50:32.572Z"
   },
   {
    "duration": 30,
    "start_time": "2022-08-27T08:50:32.981Z"
   },
   {
    "duration": 8,
    "start_time": "2022-08-27T08:50:33.013Z"
   },
   {
    "duration": 37,
    "start_time": "2022-08-27T08:50:33.023Z"
   },
   {
    "duration": 55,
    "start_time": "2022-08-27T08:50:33.061Z"
   },
   {
    "duration": 57,
    "start_time": "2022-08-27T08:50:33.119Z"
   },
   {
    "duration": 464,
    "start_time": "2022-08-27T08:50:33.177Z"
   },
   {
    "duration": 0,
    "start_time": "2022-08-27T08:50:33.643Z"
   },
   {
    "duration": 0,
    "start_time": "2022-08-27T08:50:33.644Z"
   },
   {
    "duration": 0,
    "start_time": "2022-08-27T08:50:33.645Z"
   },
   {
    "duration": 0,
    "start_time": "2022-08-27T08:50:33.646Z"
   },
   {
    "duration": 79,
    "start_time": "2022-08-27T08:50:52.049Z"
   },
   {
    "duration": 88,
    "start_time": "2022-08-27T08:51:36.725Z"
   },
   {
    "duration": 1164,
    "start_time": "2022-08-27T08:51:44.338Z"
   },
   {
    "duration": 156,
    "start_time": "2022-08-27T08:51:45.504Z"
   },
   {
    "duration": 13,
    "start_time": "2022-08-27T08:51:45.661Z"
   },
   {
    "duration": 25,
    "start_time": "2022-08-27T08:51:45.675Z"
   },
   {
    "duration": 9,
    "start_time": "2022-08-27T08:51:45.703Z"
   },
   {
    "duration": 17,
    "start_time": "2022-08-27T08:51:45.714Z"
   },
   {
    "duration": 25,
    "start_time": "2022-08-27T08:51:45.733Z"
   },
   {
    "duration": 117,
    "start_time": "2022-08-27T08:51:45.760Z"
   },
   {
    "duration": 48,
    "start_time": "2022-08-27T08:51:45.879Z"
   },
   {
    "duration": 82,
    "start_time": "2022-08-27T08:51:45.929Z"
   },
   {
    "duration": 99,
    "start_time": "2022-08-27T08:51:46.013Z"
   },
   {
    "duration": 113,
    "start_time": "2022-08-27T08:51:46.113Z"
   },
   {
    "duration": 19,
    "start_time": "2022-08-27T08:51:46.228Z"
   },
   {
    "duration": 28,
    "start_time": "2022-08-27T08:51:46.250Z"
   },
   {
    "duration": 24,
    "start_time": "2022-08-27T08:51:46.280Z"
   },
   {
    "duration": 11,
    "start_time": "2022-08-27T08:51:46.305Z"
   },
   {
    "duration": 29,
    "start_time": "2022-08-27T08:51:46.317Z"
   },
   {
    "duration": 33,
    "start_time": "2022-08-27T08:51:46.348Z"
   },
   {
    "duration": 24,
    "start_time": "2022-08-27T08:51:46.382Z"
   },
   {
    "duration": 13,
    "start_time": "2022-08-27T08:51:46.408Z"
   },
   {
    "duration": 3,
    "start_time": "2022-08-27T08:51:46.423Z"
   },
   {
    "duration": 15,
    "start_time": "2022-08-27T08:51:46.428Z"
   },
   {
    "duration": 21,
    "start_time": "2022-08-27T08:51:46.444Z"
   },
   {
    "duration": 218,
    "start_time": "2022-08-27T08:51:46.467Z"
   },
   {
    "duration": 28,
    "start_time": "2022-08-27T08:51:46.686Z"
   },
   {
    "duration": 3,
    "start_time": "2022-08-27T08:51:46.716Z"
   },
   {
    "duration": 13,
    "start_time": "2022-08-27T08:51:46.720Z"
   },
   {
    "duration": 21,
    "start_time": "2022-08-27T08:51:46.734Z"
   },
   {
    "duration": 19,
    "start_time": "2022-08-27T08:51:46.756Z"
   },
   {
    "duration": 20,
    "start_time": "2022-08-27T08:51:46.777Z"
   },
   {
    "duration": 18,
    "start_time": "2022-08-27T08:51:46.798Z"
   },
   {
    "duration": 29,
    "start_time": "2022-08-27T08:51:46.817Z"
   },
   {
    "duration": 50,
    "start_time": "2022-08-27T08:51:46.847Z"
   },
   {
    "duration": 20,
    "start_time": "2022-08-27T08:51:46.899Z"
   },
   {
    "duration": 68,
    "start_time": "2022-08-27T08:51:46.920Z"
   },
   {
    "duration": 342,
    "start_time": "2022-08-27T08:51:46.990Z"
   },
   {
    "duration": 25,
    "start_time": "2022-08-27T08:51:47.333Z"
   },
   {
    "duration": 9,
    "start_time": "2022-08-27T08:51:47.359Z"
   },
   {
    "duration": 50,
    "start_time": "2022-08-27T08:51:47.370Z"
   },
   {
    "duration": 13,
    "start_time": "2022-08-27T08:51:47.422Z"
   },
   {
    "duration": 99,
    "start_time": "2022-08-27T08:51:47.438Z"
   },
   {
    "duration": 107,
    "start_time": "2022-08-27T08:51:47.539Z"
   },
   {
    "duration": 11,
    "start_time": "2022-08-27T08:51:47.647Z"
   },
   {
    "duration": 14,
    "start_time": "2022-08-27T08:51:47.660Z"
   },
   {
    "duration": 259,
    "start_time": "2022-08-27T08:51:47.675Z"
   },
   {
    "duration": 0,
    "start_time": "2022-08-27T08:51:47.936Z"
   },
   {
    "duration": 69,
    "start_time": "2022-08-27T08:52:02.637Z"
   },
   {
    "duration": 1129,
    "start_time": "2022-08-27T08:52:07.964Z"
   },
   {
    "duration": 149,
    "start_time": "2022-08-27T08:52:09.094Z"
   },
   {
    "duration": 11,
    "start_time": "2022-08-27T08:52:09.245Z"
   },
   {
    "duration": 18,
    "start_time": "2022-08-27T08:52:09.257Z"
   },
   {
    "duration": 3,
    "start_time": "2022-08-27T08:52:09.277Z"
   },
   {
    "duration": 13,
    "start_time": "2022-08-27T08:52:09.281Z"
   },
   {
    "duration": 17,
    "start_time": "2022-08-27T08:52:09.310Z"
   },
   {
    "duration": 129,
    "start_time": "2022-08-27T08:52:09.328Z"
   },
   {
    "duration": 52,
    "start_time": "2022-08-27T08:52:09.460Z"
   },
   {
    "duration": 77,
    "start_time": "2022-08-27T08:52:09.513Z"
   },
   {
    "duration": 101,
    "start_time": "2022-08-27T08:52:09.591Z"
   },
   {
    "duration": 119,
    "start_time": "2022-08-27T08:52:09.693Z"
   },
   {
    "duration": 22,
    "start_time": "2022-08-27T08:52:09.813Z"
   },
   {
    "duration": 19,
    "start_time": "2022-08-27T08:52:09.839Z"
   },
   {
    "duration": 10,
    "start_time": "2022-08-27T08:52:09.860Z"
   },
   {
    "duration": 6,
    "start_time": "2022-08-27T08:52:09.872Z"
   },
   {
    "duration": 49,
    "start_time": "2022-08-27T08:52:09.880Z"
   },
   {
    "duration": 9,
    "start_time": "2022-08-27T08:52:09.931Z"
   },
   {
    "duration": 22,
    "start_time": "2022-08-27T08:52:09.941Z"
   },
   {
    "duration": 48,
    "start_time": "2022-08-27T08:52:09.965Z"
   },
   {
    "duration": 5,
    "start_time": "2022-08-27T08:52:10.015Z"
   },
   {
    "duration": 9,
    "start_time": "2022-08-27T08:52:10.021Z"
   },
   {
    "duration": 14,
    "start_time": "2022-08-27T08:52:10.032Z"
   },
   {
    "duration": 252,
    "start_time": "2022-08-27T08:52:10.048Z"
   },
   {
    "duration": 23,
    "start_time": "2022-08-27T08:52:10.302Z"
   },
   {
    "duration": 4,
    "start_time": "2022-08-27T08:52:10.327Z"
   },
   {
    "duration": 10,
    "start_time": "2022-08-27T08:52:10.333Z"
   },
   {
    "duration": 6,
    "start_time": "2022-08-27T08:52:10.345Z"
   },
   {
    "duration": 4,
    "start_time": "2022-08-27T08:52:10.353Z"
   },
   {
    "duration": 9,
    "start_time": "2022-08-27T08:52:10.359Z"
   },
   {
    "duration": 3,
    "start_time": "2022-08-27T08:52:10.370Z"
   },
   {
    "duration": 54,
    "start_time": "2022-08-27T08:52:10.375Z"
   },
   {
    "duration": 50,
    "start_time": "2022-08-27T08:52:10.430Z"
   },
   {
    "duration": 30,
    "start_time": "2022-08-27T08:52:10.481Z"
   },
   {
    "duration": 59,
    "start_time": "2022-08-27T08:52:10.513Z"
   },
   {
    "duration": 338,
    "start_time": "2022-08-27T08:52:10.574Z"
   },
   {
    "duration": 37,
    "start_time": "2022-08-27T08:52:10.913Z"
   },
   {
    "duration": 61,
    "start_time": "2022-08-27T08:52:10.952Z"
   },
   {
    "duration": 16,
    "start_time": "2022-08-27T08:52:11.015Z"
   },
   {
    "duration": 8,
    "start_time": "2022-08-27T08:52:11.033Z"
   },
   {
    "duration": 102,
    "start_time": "2022-08-27T08:52:11.046Z"
   },
   {
    "duration": 136,
    "start_time": "2022-08-27T08:52:11.149Z"
   },
   {
    "duration": 13,
    "start_time": "2022-08-27T08:52:11.286Z"
   },
   {
    "duration": 27,
    "start_time": "2022-08-27T08:52:11.300Z"
   },
   {
    "duration": 293,
    "start_time": "2022-08-27T08:52:11.328Z"
   },
   {
    "duration": 0,
    "start_time": "2022-08-27T08:52:11.622Z"
   },
   {
    "duration": 94,
    "start_time": "2022-08-27T08:54:39.291Z"
   },
   {
    "duration": 101,
    "start_time": "2022-08-27T08:54:48.111Z"
   },
   {
    "duration": 42,
    "start_time": "2022-08-27T08:56:56.983Z"
   },
   {
    "duration": 764,
    "start_time": "2022-08-27T08:57:57.374Z"
   },
   {
    "duration": 1163,
    "start_time": "2022-08-27T08:58:13.931Z"
   },
   {
    "duration": 147,
    "start_time": "2022-08-27T08:58:15.096Z"
   },
   {
    "duration": 10,
    "start_time": "2022-08-27T08:58:15.245Z"
   },
   {
    "duration": 17,
    "start_time": "2022-08-27T08:58:15.257Z"
   },
   {
    "duration": 7,
    "start_time": "2022-08-27T08:58:15.276Z"
   },
   {
    "duration": 12,
    "start_time": "2022-08-27T08:58:15.284Z"
   },
   {
    "duration": 28,
    "start_time": "2022-08-27T08:58:15.298Z"
   },
   {
    "duration": 124,
    "start_time": "2022-08-27T08:58:15.327Z"
   },
   {
    "duration": 42,
    "start_time": "2022-08-27T08:58:15.453Z"
   },
   {
    "duration": 88,
    "start_time": "2022-08-27T08:58:15.497Z"
   },
   {
    "duration": 99,
    "start_time": "2022-08-27T08:58:15.586Z"
   },
   {
    "duration": 128,
    "start_time": "2022-08-27T08:58:15.687Z"
   },
   {
    "duration": 36,
    "start_time": "2022-08-27T08:58:15.817Z"
   },
   {
    "duration": 23,
    "start_time": "2022-08-27T08:58:15.855Z"
   },
   {
    "duration": 13,
    "start_time": "2022-08-27T08:58:15.879Z"
   },
   {
    "duration": 21,
    "start_time": "2022-08-27T08:58:15.893Z"
   },
   {
    "duration": 21,
    "start_time": "2022-08-27T08:58:15.915Z"
   },
   {
    "duration": 9,
    "start_time": "2022-08-27T08:58:15.938Z"
   },
   {
    "duration": 26,
    "start_time": "2022-08-27T08:58:15.948Z"
   },
   {
    "duration": 46,
    "start_time": "2022-08-27T08:58:15.975Z"
   },
   {
    "duration": 6,
    "start_time": "2022-08-27T08:58:16.023Z"
   },
   {
    "duration": 12,
    "start_time": "2022-08-27T08:58:16.031Z"
   },
   {
    "duration": 26,
    "start_time": "2022-08-27T08:58:16.045Z"
   },
   {
    "duration": 255,
    "start_time": "2022-08-27T08:58:16.073Z"
   },
   {
    "duration": 16,
    "start_time": "2022-08-27T08:58:16.330Z"
   },
   {
    "duration": 4,
    "start_time": "2022-08-27T08:58:16.348Z"
   },
   {
    "duration": 5,
    "start_time": "2022-08-27T08:58:16.354Z"
   },
   {
    "duration": 9,
    "start_time": "2022-08-27T08:58:16.364Z"
   },
   {
    "duration": 5,
    "start_time": "2022-08-27T08:58:16.375Z"
   },
   {
    "duration": 36,
    "start_time": "2022-08-27T08:58:16.381Z"
   },
   {
    "duration": 4,
    "start_time": "2022-08-27T08:58:16.419Z"
   },
   {
    "duration": 20,
    "start_time": "2022-08-27T08:58:16.424Z"
   },
   {
    "duration": 67,
    "start_time": "2022-08-27T08:58:16.445Z"
   },
   {
    "duration": 21,
    "start_time": "2022-08-27T08:58:16.514Z"
   },
   {
    "duration": 58,
    "start_time": "2022-08-27T08:58:16.537Z"
   },
   {
    "duration": 362,
    "start_time": "2022-08-27T08:58:16.597Z"
   },
   {
    "duration": 35,
    "start_time": "2022-08-27T08:58:16.960Z"
   },
   {
    "duration": 11,
    "start_time": "2022-08-27T08:58:17.012Z"
   },
   {
    "duration": 37,
    "start_time": "2022-08-27T08:58:17.025Z"
   },
   {
    "duration": 51,
    "start_time": "2022-08-27T08:58:17.064Z"
   },
   {
    "duration": 56,
    "start_time": "2022-08-27T08:58:17.117Z"
   },
   {
    "duration": 1005,
    "start_time": "2022-08-27T08:58:17.174Z"
   },
   {
    "duration": 0,
    "start_time": "2022-08-27T08:58:18.181Z"
   },
   {
    "duration": 915,
    "start_time": "2022-08-27T08:59:47.269Z"
   },
   {
    "duration": 1172,
    "start_time": "2022-08-27T09:00:04.974Z"
   },
   {
    "duration": 146,
    "start_time": "2022-08-27T09:00:06.148Z"
   },
   {
    "duration": 20,
    "start_time": "2022-08-27T09:00:06.296Z"
   },
   {
    "duration": 19,
    "start_time": "2022-08-27T09:00:06.318Z"
   },
   {
    "duration": 3,
    "start_time": "2022-08-27T09:00:06.339Z"
   },
   {
    "duration": 10,
    "start_time": "2022-08-27T09:00:06.344Z"
   },
   {
    "duration": 17,
    "start_time": "2022-08-27T09:00:06.355Z"
   },
   {
    "duration": 139,
    "start_time": "2022-08-27T09:00:06.374Z"
   },
   {
    "duration": 45,
    "start_time": "2022-08-27T09:00:06.515Z"
   },
   {
    "duration": 95,
    "start_time": "2022-08-27T09:00:06.561Z"
   },
   {
    "duration": 97,
    "start_time": "2022-08-27T09:00:06.657Z"
   },
   {
    "duration": 115,
    "start_time": "2022-08-27T09:00:06.755Z"
   },
   {
    "duration": 21,
    "start_time": "2022-08-27T09:00:06.871Z"
   },
   {
    "duration": 38,
    "start_time": "2022-08-27T09:00:06.895Z"
   },
   {
    "duration": 13,
    "start_time": "2022-08-27T09:00:06.935Z"
   },
   {
    "duration": 5,
    "start_time": "2022-08-27T09:00:06.950Z"
   },
   {
    "duration": 22,
    "start_time": "2022-08-27T09:00:06.957Z"
   },
   {
    "duration": 14,
    "start_time": "2022-08-27T09:00:06.980Z"
   },
   {
    "duration": 35,
    "start_time": "2022-08-27T09:00:06.995Z"
   },
   {
    "duration": 13,
    "start_time": "2022-08-27T09:00:07.032Z"
   },
   {
    "duration": 9,
    "start_time": "2022-08-27T09:00:07.047Z"
   },
   {
    "duration": 10,
    "start_time": "2022-08-27T09:00:07.058Z"
   },
   {
    "duration": 23,
    "start_time": "2022-08-27T09:00:07.069Z"
   },
   {
    "duration": 263,
    "start_time": "2022-08-27T09:00:07.093Z"
   },
   {
    "duration": 21,
    "start_time": "2022-08-27T09:00:07.358Z"
   },
   {
    "duration": 4,
    "start_time": "2022-08-27T09:00:07.381Z"
   },
   {
    "duration": 25,
    "start_time": "2022-08-27T09:00:07.386Z"
   },
   {
    "duration": 15,
    "start_time": "2022-08-27T09:00:07.412Z"
   },
   {
    "duration": 33,
    "start_time": "2022-08-27T09:00:07.429Z"
   },
   {
    "duration": 13,
    "start_time": "2022-08-27T09:00:07.464Z"
   },
   {
    "duration": 4,
    "start_time": "2022-08-27T09:00:07.479Z"
   },
   {
    "duration": 21,
    "start_time": "2022-08-27T09:00:07.485Z"
   },
   {
    "duration": 44,
    "start_time": "2022-08-27T09:00:07.508Z"
   },
   {
    "duration": 38,
    "start_time": "2022-08-27T09:00:07.554Z"
   },
   {
    "duration": 89,
    "start_time": "2022-08-27T09:00:07.594Z"
   },
   {
    "duration": 356,
    "start_time": "2022-08-27T09:00:07.684Z"
   },
   {
    "duration": 25,
    "start_time": "2022-08-27T09:00:08.042Z"
   },
   {
    "duration": 9,
    "start_time": "2022-08-27T09:00:08.068Z"
   },
   {
    "duration": 41,
    "start_time": "2022-08-27T09:00:08.079Z"
   },
   {
    "duration": 9,
    "start_time": "2022-08-27T09:00:08.122Z"
   },
   {
    "duration": 1361,
    "start_time": "2022-08-27T09:00:08.136Z"
   },
   {
    "duration": 0,
    "start_time": "2022-08-27T09:00:09.499Z"
   },
   {
    "duration": 0,
    "start_time": "2022-08-27T09:00:09.500Z"
   },
   {
    "duration": 44,
    "start_time": "2022-08-27T09:00:17.126Z"
   },
   {
    "duration": 41,
    "start_time": "2022-08-27T09:00:54.050Z"
   },
   {
    "duration": 41,
    "start_time": "2022-08-27T09:01:16.945Z"
   },
   {
    "duration": 98,
    "start_time": "2022-08-27T09:01:25.326Z"
   },
   {
    "duration": 108,
    "start_time": "2022-08-27T09:01:46.396Z"
   },
   {
    "duration": 88,
    "start_time": "2022-08-27T09:05:39.323Z"
   },
   {
    "duration": 90,
    "start_time": "2022-08-27T09:06:18.058Z"
   },
   {
    "duration": 93,
    "start_time": "2022-08-27T09:08:04.406Z"
   },
   {
    "duration": 5,
    "start_time": "2022-08-27T09:09:18.228Z"
   },
   {
    "duration": 101,
    "start_time": "2022-08-27T09:09:25.207Z"
   },
   {
    "duration": 80,
    "start_time": "2022-08-27T09:10:47.230Z"
   },
   {
    "duration": 81,
    "start_time": "2022-08-27T09:10:59.768Z"
   },
   {
    "duration": 90,
    "start_time": "2022-08-27T09:11:11.430Z"
   },
   {
    "duration": 99,
    "start_time": "2022-08-27T09:11:18.423Z"
   },
   {
    "duration": 78,
    "start_time": "2022-08-27T09:11:27.630Z"
   },
   {
    "duration": 110,
    "start_time": "2022-08-27T09:12:11.827Z"
   },
   {
    "duration": 18,
    "start_time": "2022-08-27T09:15:59.732Z"
   },
   {
    "duration": 12,
    "start_time": "2022-08-27T09:16:13.580Z"
   },
   {
    "duration": 106,
    "start_time": "2022-08-27T09:18:19.820Z"
   },
   {
    "duration": 11,
    "start_time": "2022-08-27T09:19:15.320Z"
   },
   {
    "duration": 98,
    "start_time": "2022-08-27T09:19:23.690Z"
   },
   {
    "duration": 12,
    "start_time": "2022-08-27T09:21:18.233Z"
   },
   {
    "duration": 14,
    "start_time": "2022-08-27T09:21:40.271Z"
   },
   {
    "duration": 93,
    "start_time": "2022-08-27T09:21:49.050Z"
   },
   {
    "duration": 107,
    "start_time": "2022-08-27T09:27:31.692Z"
   },
   {
    "duration": 57,
    "start_time": "2022-08-27T10:11:34.544Z"
   },
   {
    "duration": 96,
    "start_time": "2022-08-27T10:13:52.468Z"
   },
   {
    "duration": 17,
    "start_time": "2022-08-27T10:19:29.365Z"
   },
   {
    "duration": 1211,
    "start_time": "2022-08-27T10:19:59.762Z"
   },
   {
    "duration": 177,
    "start_time": "2022-08-27T10:20:00.975Z"
   },
   {
    "duration": 14,
    "start_time": "2022-08-27T10:20:01.153Z"
   },
   {
    "duration": 30,
    "start_time": "2022-08-27T10:20:01.168Z"
   },
   {
    "duration": 4,
    "start_time": "2022-08-27T10:20:01.200Z"
   },
   {
    "duration": 22,
    "start_time": "2022-08-27T10:20:01.206Z"
   },
   {
    "duration": 24,
    "start_time": "2022-08-27T10:20:01.230Z"
   },
   {
    "duration": 125,
    "start_time": "2022-08-27T10:20:01.255Z"
   },
   {
    "duration": 70,
    "start_time": "2022-08-27T10:20:01.381Z"
   },
   {
    "duration": 99,
    "start_time": "2022-08-27T10:20:01.453Z"
   },
   {
    "duration": 108,
    "start_time": "2022-08-27T10:20:01.554Z"
   },
   {
    "duration": 124,
    "start_time": "2022-08-27T10:20:01.664Z"
   },
   {
    "duration": 28,
    "start_time": "2022-08-27T10:20:01.789Z"
   },
   {
    "duration": 32,
    "start_time": "2022-08-27T10:20:01.820Z"
   },
   {
    "duration": 38,
    "start_time": "2022-08-27T10:20:01.853Z"
   },
   {
    "duration": 32,
    "start_time": "2022-08-27T10:20:01.893Z"
   },
   {
    "duration": 26,
    "start_time": "2022-08-27T10:20:01.927Z"
   },
   {
    "duration": 16,
    "start_time": "2022-08-27T10:20:01.955Z"
   },
   {
    "duration": 42,
    "start_time": "2022-08-27T10:20:01.972Z"
   },
   {
    "duration": 27,
    "start_time": "2022-08-27T10:20:02.016Z"
   },
   {
    "duration": 8,
    "start_time": "2022-08-27T10:20:02.045Z"
   },
   {
    "duration": 6,
    "start_time": "2022-08-27T10:20:02.054Z"
   },
   {
    "duration": 14,
    "start_time": "2022-08-27T10:20:02.061Z"
   },
   {
    "duration": 260,
    "start_time": "2022-08-27T10:20:02.076Z"
   },
   {
    "duration": 15,
    "start_time": "2022-08-27T10:20:02.338Z"
   },
   {
    "duration": 11,
    "start_time": "2022-08-27T10:20:02.354Z"
   },
   {
    "duration": 9,
    "start_time": "2022-08-27T10:20:02.366Z"
   },
   {
    "duration": 12,
    "start_time": "2022-08-27T10:20:02.376Z"
   },
   {
    "duration": 8,
    "start_time": "2022-08-27T10:20:02.390Z"
   },
   {
    "duration": 20,
    "start_time": "2022-08-27T10:20:02.399Z"
   },
   {
    "duration": 18,
    "start_time": "2022-08-27T10:20:02.422Z"
   },
   {
    "duration": 29,
    "start_time": "2022-08-27T10:20:02.441Z"
   },
   {
    "duration": 96,
    "start_time": "2022-08-27T10:20:02.472Z"
   },
   {
    "duration": 26,
    "start_time": "2022-08-27T10:20:02.571Z"
   },
   {
    "duration": 132,
    "start_time": "2022-08-27T10:20:02.619Z"
   },
   {
    "duration": 399,
    "start_time": "2022-08-27T10:20:02.753Z"
   },
   {
    "duration": 37,
    "start_time": "2022-08-27T10:20:03.154Z"
   },
   {
    "duration": 29,
    "start_time": "2022-08-27T10:20:03.193Z"
   },
   {
    "duration": 52,
    "start_time": "2022-08-27T10:20:03.225Z"
   },
   {
    "duration": 184,
    "start_time": "2022-08-27T10:20:03.278Z"
   },
   {
    "duration": 0,
    "start_time": "2022-08-27T10:20:03.464Z"
   },
   {
    "duration": 0,
    "start_time": "2022-08-27T10:20:03.465Z"
   },
   {
    "duration": 0,
    "start_time": "2022-08-27T10:20:03.466Z"
   },
   {
    "duration": 0,
    "start_time": "2022-08-27T10:20:03.467Z"
   },
   {
    "duration": 0,
    "start_time": "2022-08-27T10:20:03.469Z"
   },
   {
    "duration": 933,
    "start_time": "2022-08-27T10:21:03.898Z"
   },
   {
    "duration": 36,
    "start_time": "2022-08-27T10:21:27.870Z"
   },
   {
    "duration": 1188,
    "start_time": "2022-08-27T10:21:34.220Z"
   },
   {
    "duration": 168,
    "start_time": "2022-08-27T10:21:35.410Z"
   },
   {
    "duration": 11,
    "start_time": "2022-08-27T10:21:35.579Z"
   },
   {
    "duration": 30,
    "start_time": "2022-08-27T10:21:35.591Z"
   },
   {
    "duration": 5,
    "start_time": "2022-08-27T10:21:35.624Z"
   },
   {
    "duration": 14,
    "start_time": "2022-08-27T10:21:35.630Z"
   },
   {
    "duration": 17,
    "start_time": "2022-08-27T10:21:35.646Z"
   },
   {
    "duration": 132,
    "start_time": "2022-08-27T10:21:35.665Z"
   },
   {
    "duration": 50,
    "start_time": "2022-08-27T10:21:35.799Z"
   },
   {
    "duration": 87,
    "start_time": "2022-08-27T10:21:35.851Z"
   },
   {
    "duration": 104,
    "start_time": "2022-08-27T10:21:35.939Z"
   },
   {
    "duration": 114,
    "start_time": "2022-08-27T10:21:36.044Z"
   },
   {
    "duration": 23,
    "start_time": "2022-08-27T10:21:36.159Z"
   },
   {
    "duration": 54,
    "start_time": "2022-08-27T10:21:36.184Z"
   },
   {
    "duration": 11,
    "start_time": "2022-08-27T10:21:36.239Z"
   },
   {
    "duration": 4,
    "start_time": "2022-08-27T10:21:36.252Z"
   },
   {
    "duration": 21,
    "start_time": "2022-08-27T10:21:36.258Z"
   },
   {
    "duration": 6,
    "start_time": "2022-08-27T10:21:36.280Z"
   },
   {
    "duration": 51,
    "start_time": "2022-08-27T10:21:36.288Z"
   },
   {
    "duration": 13,
    "start_time": "2022-08-27T10:21:36.341Z"
   },
   {
    "duration": 5,
    "start_time": "2022-08-27T10:21:36.356Z"
   },
   {
    "duration": 7,
    "start_time": "2022-08-27T10:21:36.363Z"
   },
   {
    "duration": 45,
    "start_time": "2022-08-27T10:21:36.372Z"
   },
   {
    "duration": 258,
    "start_time": "2022-08-27T10:21:36.418Z"
   },
   {
    "duration": 17,
    "start_time": "2022-08-27T10:21:36.678Z"
   },
   {
    "duration": 20,
    "start_time": "2022-08-27T10:21:36.697Z"
   },
   {
    "duration": 5,
    "start_time": "2022-08-27T10:21:36.721Z"
   },
   {
    "duration": 13,
    "start_time": "2022-08-27T10:21:36.731Z"
   },
   {
    "duration": 8,
    "start_time": "2022-08-27T10:21:36.747Z"
   },
   {
    "duration": 14,
    "start_time": "2022-08-27T10:21:36.757Z"
   },
   {
    "duration": 4,
    "start_time": "2022-08-27T10:21:36.772Z"
   },
   {
    "duration": 53,
    "start_time": "2022-08-27T10:21:36.778Z"
   },
   {
    "duration": 51,
    "start_time": "2022-08-27T10:21:36.833Z"
   },
   {
    "duration": 27,
    "start_time": "2022-08-27T10:21:36.885Z"
   },
   {
    "duration": 65,
    "start_time": "2022-08-27T10:21:36.915Z"
   },
   {
    "duration": 438,
    "start_time": "2022-08-27T10:21:36.982Z"
   },
   {
    "duration": 99,
    "start_time": "2022-08-27T10:21:37.422Z"
   },
   {
    "duration": 14,
    "start_time": "2022-08-27T10:21:37.524Z"
   },
   {
    "duration": 10,
    "start_time": "2022-08-27T10:21:37.539Z"
   },
   {
    "duration": 1017,
    "start_time": "2022-08-27T10:21:37.551Z"
   },
   {
    "duration": 0,
    "start_time": "2022-08-27T10:21:38.569Z"
   },
   {
    "duration": 0,
    "start_time": "2022-08-27T10:21:38.571Z"
   },
   {
    "duration": 0,
    "start_time": "2022-08-27T10:21:38.571Z"
   },
   {
    "duration": 0,
    "start_time": "2022-08-27T10:21:38.572Z"
   },
   {
    "duration": 0,
    "start_time": "2022-08-27T10:21:38.574Z"
   },
   {
    "duration": 1236,
    "start_time": "2022-08-27T10:22:42.703Z"
   },
   {
    "duration": 146,
    "start_time": "2022-08-27T10:22:43.941Z"
   },
   {
    "duration": 10,
    "start_time": "2022-08-27T10:22:44.088Z"
   },
   {
    "duration": 24,
    "start_time": "2022-08-27T10:22:44.100Z"
   },
   {
    "duration": 4,
    "start_time": "2022-08-27T10:22:44.127Z"
   },
   {
    "duration": 32,
    "start_time": "2022-08-27T10:22:44.132Z"
   },
   {
    "duration": 24,
    "start_time": "2022-08-27T10:22:44.166Z"
   },
   {
    "duration": 124,
    "start_time": "2022-08-27T10:22:44.192Z"
   },
   {
    "duration": 40,
    "start_time": "2022-08-27T10:22:44.318Z"
   },
   {
    "duration": 95,
    "start_time": "2022-08-27T10:22:44.359Z"
   },
   {
    "duration": 119,
    "start_time": "2022-08-27T10:22:44.456Z"
   },
   {
    "duration": 114,
    "start_time": "2022-08-27T10:22:44.577Z"
   },
   {
    "duration": 30,
    "start_time": "2022-08-27T10:22:44.693Z"
   },
   {
    "duration": 33,
    "start_time": "2022-08-27T10:22:44.728Z"
   },
   {
    "duration": 19,
    "start_time": "2022-08-27T10:22:44.763Z"
   },
   {
    "duration": 17,
    "start_time": "2022-08-27T10:22:44.783Z"
   },
   {
    "duration": 39,
    "start_time": "2022-08-27T10:22:44.801Z"
   },
   {
    "duration": 16,
    "start_time": "2022-08-27T10:22:44.842Z"
   },
   {
    "duration": 27,
    "start_time": "2022-08-27T10:22:44.860Z"
   },
   {
    "duration": 13,
    "start_time": "2022-08-27T10:22:44.889Z"
   },
   {
    "duration": 14,
    "start_time": "2022-08-27T10:22:44.904Z"
   },
   {
    "duration": 34,
    "start_time": "2022-08-27T10:22:44.919Z"
   },
   {
    "duration": 31,
    "start_time": "2022-08-27T10:22:44.956Z"
   },
   {
    "duration": 230,
    "start_time": "2022-08-27T10:22:44.989Z"
   },
   {
    "duration": 18,
    "start_time": "2022-08-27T10:22:45.221Z"
   },
   {
    "duration": 22,
    "start_time": "2022-08-27T10:22:45.240Z"
   },
   {
    "duration": 16,
    "start_time": "2022-08-27T10:22:45.264Z"
   },
   {
    "duration": 29,
    "start_time": "2022-08-27T10:22:45.281Z"
   },
   {
    "duration": 24,
    "start_time": "2022-08-27T10:22:45.312Z"
   },
   {
    "duration": 19,
    "start_time": "2022-08-27T10:22:45.338Z"
   },
   {
    "duration": 9,
    "start_time": "2022-08-27T10:22:45.368Z"
   },
   {
    "duration": 34,
    "start_time": "2022-08-27T10:22:45.379Z"
   },
   {
    "duration": 83,
    "start_time": "2022-08-27T10:22:45.415Z"
   },
   {
    "duration": 25,
    "start_time": "2022-08-27T10:22:45.500Z"
   },
   {
    "duration": 74,
    "start_time": "2022-08-27T10:22:45.527Z"
   },
   {
    "duration": 375,
    "start_time": "2022-08-27T10:22:45.602Z"
   },
   {
    "duration": 48,
    "start_time": "2022-08-27T10:22:45.978Z"
   },
   {
    "duration": 10,
    "start_time": "2022-08-27T10:22:46.028Z"
   },
   {
    "duration": 76,
    "start_time": "2022-08-27T10:22:46.039Z"
   },
   {
    "duration": 1190,
    "start_time": "2022-08-27T10:23:23.461Z"
   },
   {
    "duration": 186,
    "start_time": "2022-08-27T10:23:24.652Z"
   },
   {
    "duration": 10,
    "start_time": "2022-08-27T10:23:24.840Z"
   },
   {
    "duration": 31,
    "start_time": "2022-08-27T10:23:24.852Z"
   },
   {
    "duration": 4,
    "start_time": "2022-08-27T10:23:24.884Z"
   },
   {
    "duration": 22,
    "start_time": "2022-08-27T10:23:24.890Z"
   },
   {
    "duration": 20,
    "start_time": "2022-08-27T10:23:24.914Z"
   },
   {
    "duration": 133,
    "start_time": "2022-08-27T10:23:24.936Z"
   },
   {
    "duration": 45,
    "start_time": "2022-08-27T10:23:25.071Z"
   },
   {
    "duration": 86,
    "start_time": "2022-08-27T10:23:25.120Z"
   },
   {
    "duration": 112,
    "start_time": "2022-08-27T10:23:25.207Z"
   },
   {
    "duration": 131,
    "start_time": "2022-08-27T10:23:25.321Z"
   },
   {
    "duration": 19,
    "start_time": "2022-08-27T10:23:25.453Z"
   },
   {
    "duration": 19,
    "start_time": "2022-08-27T10:23:25.474Z"
   },
   {
    "duration": 25,
    "start_time": "2022-08-27T10:23:25.494Z"
   },
   {
    "duration": 6,
    "start_time": "2022-08-27T10:23:25.521Z"
   },
   {
    "duration": 27,
    "start_time": "2022-08-27T10:23:25.529Z"
   },
   {
    "duration": 8,
    "start_time": "2022-08-27T10:23:25.557Z"
   },
   {
    "duration": 51,
    "start_time": "2022-08-27T10:23:25.567Z"
   },
   {
    "duration": 19,
    "start_time": "2022-08-27T10:23:25.620Z"
   },
   {
    "duration": 6,
    "start_time": "2022-08-27T10:23:25.641Z"
   },
   {
    "duration": 5,
    "start_time": "2022-08-27T10:23:25.648Z"
   },
   {
    "duration": 12,
    "start_time": "2022-08-27T10:23:25.654Z"
   },
   {
    "duration": 275,
    "start_time": "2022-08-27T10:23:25.668Z"
   },
   {
    "duration": 18,
    "start_time": "2022-08-27T10:23:25.945Z"
   },
   {
    "duration": 3,
    "start_time": "2022-08-27T10:23:25.965Z"
   },
   {
    "duration": 5,
    "start_time": "2022-08-27T10:23:25.969Z"
   },
   {
    "duration": 5,
    "start_time": "2022-08-27T10:23:25.977Z"
   },
   {
    "duration": 5,
    "start_time": "2022-08-27T10:23:25.983Z"
   },
   {
    "duration": 13,
    "start_time": "2022-08-27T10:23:26.010Z"
   },
   {
    "duration": 5,
    "start_time": "2022-08-27T10:23:26.025Z"
   },
   {
    "duration": 26,
    "start_time": "2022-08-27T10:23:26.032Z"
   },
   {
    "duration": 55,
    "start_time": "2022-08-27T10:23:26.060Z"
   },
   {
    "duration": 21,
    "start_time": "2022-08-27T10:23:26.117Z"
   },
   {
    "duration": 55,
    "start_time": "2022-08-27T10:23:26.140Z"
   },
   {
    "duration": 378,
    "start_time": "2022-08-27T10:23:26.197Z"
   },
   {
    "duration": 55,
    "start_time": "2022-08-27T10:23:26.576Z"
   },
   {
    "duration": 11,
    "start_time": "2022-08-27T10:23:26.633Z"
   },
   {
    "duration": 70,
    "start_time": "2022-08-27T10:23:26.645Z"
   },
   {
    "duration": 1220,
    "start_time": "2022-08-27T10:24:06.137Z"
   },
   {
    "duration": 190,
    "start_time": "2022-08-27T10:24:07.359Z"
   },
   {
    "duration": 11,
    "start_time": "2022-08-27T10:24:07.551Z"
   },
   {
    "duration": 19,
    "start_time": "2022-08-27T10:24:07.563Z"
   },
   {
    "duration": 4,
    "start_time": "2022-08-27T10:24:07.584Z"
   },
   {
    "duration": 29,
    "start_time": "2022-08-27T10:24:07.590Z"
   },
   {
    "duration": 23,
    "start_time": "2022-08-27T10:24:07.623Z"
   },
   {
    "duration": 141,
    "start_time": "2022-08-27T10:24:07.648Z"
   },
   {
    "duration": 66,
    "start_time": "2022-08-27T10:24:07.790Z"
   },
   {
    "duration": 90,
    "start_time": "2022-08-27T10:24:07.857Z"
   },
   {
    "duration": 122,
    "start_time": "2022-08-27T10:24:07.949Z"
   },
   {
    "duration": 133,
    "start_time": "2022-08-27T10:24:08.073Z"
   },
   {
    "duration": 28,
    "start_time": "2022-08-27T10:24:08.210Z"
   },
   {
    "duration": 46,
    "start_time": "2022-08-27T10:24:08.241Z"
   },
   {
    "duration": 39,
    "start_time": "2022-08-27T10:24:08.288Z"
   },
   {
    "duration": 15,
    "start_time": "2022-08-27T10:24:08.329Z"
   },
   {
    "duration": 27,
    "start_time": "2022-08-27T10:24:08.345Z"
   },
   {
    "duration": 29,
    "start_time": "2022-08-27T10:24:08.373Z"
   },
   {
    "duration": 40,
    "start_time": "2022-08-27T10:24:08.403Z"
   },
   {
    "duration": 14,
    "start_time": "2022-08-27T10:24:08.444Z"
   },
   {
    "duration": 4,
    "start_time": "2022-08-27T10:24:08.460Z"
   },
   {
    "duration": 15,
    "start_time": "2022-08-27T10:24:08.466Z"
   },
   {
    "duration": 55,
    "start_time": "2022-08-27T10:24:08.482Z"
   },
   {
    "duration": 240,
    "start_time": "2022-08-27T10:24:08.539Z"
   },
   {
    "duration": 15,
    "start_time": "2022-08-27T10:24:08.781Z"
   },
   {
    "duration": 23,
    "start_time": "2022-08-27T10:24:08.797Z"
   },
   {
    "duration": 35,
    "start_time": "2022-08-27T10:24:08.823Z"
   },
   {
    "duration": 11,
    "start_time": "2022-08-27T10:24:08.859Z"
   },
   {
    "duration": 21,
    "start_time": "2022-08-27T10:24:08.871Z"
   },
   {
    "duration": 35,
    "start_time": "2022-08-27T10:24:08.893Z"
   },
   {
    "duration": 6,
    "start_time": "2022-08-27T10:24:08.930Z"
   },
   {
    "duration": 44,
    "start_time": "2022-08-27T10:24:08.938Z"
   },
   {
    "duration": 64,
    "start_time": "2022-08-27T10:24:08.983Z"
   },
   {
    "duration": 29,
    "start_time": "2022-08-27T10:24:09.048Z"
   },
   {
    "duration": 89,
    "start_time": "2022-08-27T10:24:09.079Z"
   },
   {
    "duration": 395,
    "start_time": "2022-08-27T10:24:09.169Z"
   },
   {
    "duration": 47,
    "start_time": "2022-08-27T10:24:09.566Z"
   },
   {
    "duration": 13,
    "start_time": "2022-08-27T10:24:09.614Z"
   },
   {
    "duration": 24,
    "start_time": "2022-08-27T10:24:09.628Z"
   },
   {
    "duration": 1276,
    "start_time": "2022-08-27T10:24:50.286Z"
   },
   {
    "duration": 162,
    "start_time": "2022-08-27T10:24:51.564Z"
   },
   {
    "duration": 12,
    "start_time": "2022-08-27T10:24:51.728Z"
   },
   {
    "duration": 20,
    "start_time": "2022-08-27T10:24:51.742Z"
   },
   {
    "duration": 3,
    "start_time": "2022-08-27T10:24:51.764Z"
   },
   {
    "duration": 13,
    "start_time": "2022-08-27T10:24:51.769Z"
   },
   {
    "duration": 44,
    "start_time": "2022-08-27T10:24:51.783Z"
   },
   {
    "duration": 128,
    "start_time": "2022-08-27T10:24:51.829Z"
   },
   {
    "duration": 54,
    "start_time": "2022-08-27T10:24:51.958Z"
   },
   {
    "duration": 87,
    "start_time": "2022-08-27T10:24:52.014Z"
   },
   {
    "duration": 125,
    "start_time": "2022-08-27T10:24:52.111Z"
   },
   {
    "duration": 123,
    "start_time": "2022-08-27T10:24:52.238Z"
   },
   {
    "duration": 20,
    "start_time": "2022-08-27T10:24:52.362Z"
   },
   {
    "duration": 30,
    "start_time": "2022-08-27T10:24:52.385Z"
   },
   {
    "duration": 45,
    "start_time": "2022-08-27T10:24:52.417Z"
   },
   {
    "duration": 17,
    "start_time": "2022-08-27T10:24:52.464Z"
   },
   {
    "duration": 29,
    "start_time": "2022-08-27T10:24:52.482Z"
   },
   {
    "duration": 46,
    "start_time": "2022-08-27T10:24:52.514Z"
   },
   {
    "duration": 26,
    "start_time": "2022-08-27T10:24:52.562Z"
   },
   {
    "duration": 18,
    "start_time": "2022-08-27T10:24:52.590Z"
   },
   {
    "duration": 5,
    "start_time": "2022-08-27T10:24:52.610Z"
   },
   {
    "duration": 26,
    "start_time": "2022-08-27T10:24:52.617Z"
   },
   {
    "duration": 18,
    "start_time": "2022-08-27T10:24:52.645Z"
   },
   {
    "duration": 284,
    "start_time": "2022-08-27T10:24:52.665Z"
   },
   {
    "duration": 18,
    "start_time": "2022-08-27T10:24:52.950Z"
   },
   {
    "duration": 4,
    "start_time": "2022-08-27T10:24:52.970Z"
   },
   {
    "duration": 11,
    "start_time": "2022-08-27T10:24:52.976Z"
   },
   {
    "duration": 23,
    "start_time": "2022-08-27T10:24:52.989Z"
   },
   {
    "duration": 6,
    "start_time": "2022-08-27T10:24:53.014Z"
   },
   {
    "duration": 20,
    "start_time": "2022-08-27T10:24:53.022Z"
   },
   {
    "duration": 3,
    "start_time": "2022-08-27T10:24:53.044Z"
   },
   {
    "duration": 31,
    "start_time": "2022-08-27T10:24:53.049Z"
   },
   {
    "duration": 62,
    "start_time": "2022-08-27T10:24:53.082Z"
   },
   {
    "duration": 25,
    "start_time": "2022-08-27T10:24:53.146Z"
   },
   {
    "duration": 87,
    "start_time": "2022-08-27T10:24:53.173Z"
   },
   {
    "duration": 391,
    "start_time": "2022-08-27T10:24:53.261Z"
   },
   {
    "duration": 62,
    "start_time": "2022-08-27T10:24:53.653Z"
   },
   {
    "duration": 17,
    "start_time": "2022-08-27T10:24:53.717Z"
   },
   {
    "duration": 12,
    "start_time": "2022-08-27T10:24:53.736Z"
   },
   {
    "duration": 7,
    "start_time": "2022-08-27T10:24:53.749Z"
   },
   {
    "duration": 50,
    "start_time": "2022-08-27T10:24:53.810Z"
   },
   {
    "duration": 135,
    "start_time": "2022-08-27T10:24:53.862Z"
   },
   {
    "duration": 108,
    "start_time": "2022-08-27T10:24:53.999Z"
   },
   {
    "duration": 922,
    "start_time": "2022-08-27T10:24:54.111Z"
   },
   {
    "duration": 5,
    "start_time": "2022-08-27T10:57:47.003Z"
   },
   {
    "duration": 856,
    "start_time": "2022-08-27T10:57:48.347Z"
   },
   {
    "duration": 1141,
    "start_time": "2022-08-27T10:57:54.626Z"
   },
   {
    "duration": 143,
    "start_time": "2022-08-27T10:57:55.769Z"
   },
   {
    "duration": 11,
    "start_time": "2022-08-27T10:57:55.913Z"
   },
   {
    "duration": 19,
    "start_time": "2022-08-27T10:57:55.926Z"
   },
   {
    "duration": 3,
    "start_time": "2022-08-27T10:57:55.948Z"
   },
   {
    "duration": 11,
    "start_time": "2022-08-27T10:57:55.952Z"
   },
   {
    "duration": 28,
    "start_time": "2022-08-27T10:57:55.964Z"
   },
   {
    "duration": 119,
    "start_time": "2022-08-27T10:57:55.993Z"
   },
   {
    "duration": 35,
    "start_time": "2022-08-27T10:57:56.114Z"
   },
   {
    "duration": 97,
    "start_time": "2022-08-27T10:57:56.151Z"
   },
   {
    "duration": 96,
    "start_time": "2022-08-27T10:57:56.250Z"
   },
   {
    "duration": 116,
    "start_time": "2022-08-27T10:57:56.348Z"
   },
   {
    "duration": 20,
    "start_time": "2022-08-27T10:57:56.466Z"
   },
   {
    "duration": 31,
    "start_time": "2022-08-27T10:57:56.489Z"
   },
   {
    "duration": 10,
    "start_time": "2022-08-27T10:57:56.522Z"
   },
   {
    "duration": 5,
    "start_time": "2022-08-27T10:57:56.533Z"
   },
   {
    "duration": 21,
    "start_time": "2022-08-27T10:57:56.539Z"
   },
   {
    "duration": 7,
    "start_time": "2022-08-27T10:57:56.561Z"
   },
   {
    "duration": 41,
    "start_time": "2022-08-27T10:57:56.570Z"
   },
   {
    "duration": 14,
    "start_time": "2022-08-27T10:57:56.613Z"
   },
   {
    "duration": 4,
    "start_time": "2022-08-27T10:57:56.628Z"
   },
   {
    "duration": 6,
    "start_time": "2022-08-27T10:57:56.633Z"
   },
   {
    "duration": 14,
    "start_time": "2022-08-27T10:57:56.641Z"
   },
   {
    "duration": 239,
    "start_time": "2022-08-27T10:57:56.657Z"
   },
   {
    "duration": 20,
    "start_time": "2022-08-27T10:57:56.897Z"
   },
   {
    "duration": 3,
    "start_time": "2022-08-27T10:57:56.918Z"
   },
   {
    "duration": 13,
    "start_time": "2022-08-27T10:57:56.923Z"
   },
   {
    "duration": 29,
    "start_time": "2022-08-27T10:57:56.937Z"
   },
   {
    "duration": 22,
    "start_time": "2022-08-27T10:57:56.967Z"
   },
   {
    "duration": 15,
    "start_time": "2022-08-27T10:57:56.990Z"
   },
   {
    "duration": 9,
    "start_time": "2022-08-27T10:57:57.007Z"
   },
   {
    "duration": 34,
    "start_time": "2022-08-27T10:57:57.018Z"
   },
   {
    "duration": 53,
    "start_time": "2022-08-27T10:57:57.054Z"
   },
   {
    "duration": 20,
    "start_time": "2022-08-27T10:57:57.109Z"
   },
   {
    "duration": 75,
    "start_time": "2022-08-27T10:57:57.131Z"
   },
   {
    "duration": 339,
    "start_time": "2022-08-27T10:57:57.208Z"
   },
   {
    "duration": 37,
    "start_time": "2022-08-27T10:57:57.548Z"
   },
   {
    "duration": 9,
    "start_time": "2022-08-27T10:57:57.611Z"
   },
   {
    "duration": 14,
    "start_time": "2022-08-27T10:57:57.621Z"
   },
   {
    "duration": 12,
    "start_time": "2022-08-27T10:57:57.637Z"
   },
   {
    "duration": 89,
    "start_time": "2022-08-27T10:57:57.652Z"
   },
   {
    "duration": 101,
    "start_time": "2022-08-27T10:57:57.742Z"
   },
   {
    "duration": 98,
    "start_time": "2022-08-27T10:57:57.845Z"
   },
   {
    "duration": 4,
    "start_time": "2022-08-27T10:57:57.944Z"
   },
   {
    "duration": 838,
    "start_time": "2022-08-27T10:57:57.950Z"
   },
   {
    "duration": 908,
    "start_time": "2022-08-27T10:58:18.710Z"
   },
   {
    "duration": 9,
    "start_time": "2022-08-27T10:58:40.094Z"
   },
   {
    "duration": 715,
    "start_time": "2022-08-27T10:58:53.077Z"
   },
   {
    "duration": 930,
    "start_time": "2022-08-27T10:58:58.708Z"
   },
   {
    "duration": 5,
    "start_time": "2022-08-27T10:59:38.486Z"
   },
   {
    "duration": 10,
    "start_time": "2022-08-27T10:59:39.577Z"
   },
   {
    "duration": 8,
    "start_time": "2022-08-27T11:00:16.143Z"
   },
   {
    "duration": 9,
    "start_time": "2022-08-27T11:00:30.426Z"
   },
   {
    "duration": 8,
    "start_time": "2022-08-27T11:00:53.509Z"
   },
   {
    "duration": 1536,
    "start_time": "2022-08-30T13:49:17.330Z"
   },
   {
    "duration": 722,
    "start_time": "2022-08-30T13:49:18.869Z"
   },
   {
    "duration": 11,
    "start_time": "2022-08-30T13:49:19.593Z"
   },
   {
    "duration": 19,
    "start_time": "2022-08-30T13:49:19.606Z"
   },
   {
    "duration": 3,
    "start_time": "2022-08-30T13:49:19.627Z"
   },
   {
    "duration": 12,
    "start_time": "2022-08-30T13:49:19.632Z"
   },
   {
    "duration": 17,
    "start_time": "2022-08-30T13:49:19.655Z"
   },
   {
    "duration": 140,
    "start_time": "2022-08-30T13:49:19.674Z"
   },
   {
    "duration": 40,
    "start_time": "2022-08-30T13:49:19.816Z"
   },
   {
    "duration": 68,
    "start_time": "2022-08-30T13:49:19.857Z"
   },
   {
    "duration": 96,
    "start_time": "2022-08-30T13:49:19.926Z"
   },
   {
    "duration": 119,
    "start_time": "2022-08-30T13:49:20.023Z"
   },
   {
    "duration": 20,
    "start_time": "2022-08-30T13:49:20.143Z"
   },
   {
    "duration": 18,
    "start_time": "2022-08-30T13:49:20.166Z"
   },
   {
    "duration": 10,
    "start_time": "2022-08-30T13:49:20.186Z"
   },
   {
    "duration": 14,
    "start_time": "2022-08-30T13:49:20.197Z"
   },
   {
    "duration": 48,
    "start_time": "2022-08-30T13:49:20.213Z"
   },
   {
    "duration": 12,
    "start_time": "2022-08-30T13:49:20.263Z"
   },
   {
    "duration": 21,
    "start_time": "2022-08-30T13:49:20.277Z"
   },
   {
    "duration": 14,
    "start_time": "2022-08-30T13:49:20.299Z"
   },
   {
    "duration": 4,
    "start_time": "2022-08-30T13:49:20.315Z"
   },
   {
    "duration": 38,
    "start_time": "2022-08-30T13:49:20.320Z"
   },
   {
    "duration": 22,
    "start_time": "2022-08-30T13:49:20.360Z"
   },
   {
    "duration": 233,
    "start_time": "2022-08-30T13:49:20.384Z"
   },
   {
    "duration": 16,
    "start_time": "2022-08-30T13:49:20.618Z"
   },
   {
    "duration": 19,
    "start_time": "2022-08-30T13:49:20.636Z"
   },
   {
    "duration": 5,
    "start_time": "2022-08-30T13:49:20.657Z"
   },
   {
    "duration": 6,
    "start_time": "2022-08-30T13:49:20.663Z"
   },
   {
    "duration": 5,
    "start_time": "2022-08-30T13:49:20.670Z"
   },
   {
    "duration": 10,
    "start_time": "2022-08-30T13:49:20.677Z"
   },
   {
    "duration": 4,
    "start_time": "2022-08-30T13:49:20.688Z"
   },
   {
    "duration": 20,
    "start_time": "2022-08-30T13:49:20.693Z"
   },
   {
    "duration": 53,
    "start_time": "2022-08-30T13:49:20.755Z"
   },
   {
    "duration": 18,
    "start_time": "2022-08-30T13:49:20.810Z"
   },
   {
    "duration": 71,
    "start_time": "2022-08-30T13:49:20.830Z"
   },
   {
    "duration": 397,
    "start_time": "2022-08-30T13:49:20.902Z"
   },
   {
    "duration": 65,
    "start_time": "2022-08-30T13:49:21.301Z"
   },
   {
    "duration": 13,
    "start_time": "2022-08-30T13:49:21.368Z"
   },
   {
    "duration": 18,
    "start_time": "2022-08-30T13:49:21.383Z"
   },
   {
    "duration": 9,
    "start_time": "2022-08-30T13:49:21.456Z"
   },
   {
    "duration": 96,
    "start_time": "2022-08-30T13:49:21.470Z"
   },
   {
    "duration": 113,
    "start_time": "2022-08-30T13:49:21.567Z"
   },
   {
    "duration": 5,
    "start_time": "2022-08-30T13:49:21.681Z"
   },
   {
    "duration": 15,
    "start_time": "2022-08-30T13:49:21.688Z"
   },
   {
    "duration": 19,
    "start_time": "2022-08-30T13:49:21.704Z"
   },
   {
    "duration": 22,
    "start_time": "2022-08-30T13:49:21.724Z"
   },
   {
    "duration": 17,
    "start_time": "2022-08-30T13:49:21.747Z"
   },
   {
    "duration": 3,
    "start_time": "2022-08-30T14:20:22.605Z"
   },
   {
    "duration": 9,
    "start_time": "2022-08-30T14:20:23.402Z"
   },
   {
    "duration": 1088,
    "start_time": "2022-08-30T14:22:30.608Z"
   },
   {
    "duration": 141,
    "start_time": "2022-08-30T14:22:31.698Z"
   },
   {
    "duration": 10,
    "start_time": "2022-08-30T14:22:31.840Z"
   },
   {
    "duration": 22,
    "start_time": "2022-08-30T14:22:31.851Z"
   },
   {
    "duration": 3,
    "start_time": "2022-08-30T14:22:31.875Z"
   },
   {
    "duration": 9,
    "start_time": "2022-08-30T14:22:31.879Z"
   },
   {
    "duration": 19,
    "start_time": "2022-08-30T14:22:31.890Z"
   },
   {
    "duration": 132,
    "start_time": "2022-08-30T14:22:31.911Z"
   },
   {
    "duration": 34,
    "start_time": "2022-08-30T14:22:32.045Z"
   },
   {
    "duration": 77,
    "start_time": "2022-08-30T14:22:32.081Z"
   },
   {
    "duration": 81,
    "start_time": "2022-08-30T14:22:32.159Z"
   },
   {
    "duration": 105,
    "start_time": "2022-08-30T14:22:32.242Z"
   },
   {
    "duration": 17,
    "start_time": "2022-08-30T14:22:32.355Z"
   },
   {
    "duration": 18,
    "start_time": "2022-08-30T14:22:32.375Z"
   },
   {
    "duration": 12,
    "start_time": "2022-08-30T14:22:32.395Z"
   },
   {
    "duration": 5,
    "start_time": "2022-08-30T14:22:32.408Z"
   },
   {
    "duration": 21,
    "start_time": "2022-08-30T14:22:32.415Z"
   },
   {
    "duration": 24,
    "start_time": "2022-08-30T14:22:32.437Z"
   },
   {
    "duration": 23,
    "start_time": "2022-08-30T14:22:32.462Z"
   },
   {
    "duration": 14,
    "start_time": "2022-08-30T14:22:32.486Z"
   },
   {
    "duration": 8,
    "start_time": "2022-08-30T14:22:32.501Z"
   },
   {
    "duration": 5,
    "start_time": "2022-08-30T14:22:32.511Z"
   },
   {
    "duration": 39,
    "start_time": "2022-08-30T14:22:32.517Z"
   },
   {
    "duration": 211,
    "start_time": "2022-08-30T14:22:32.557Z"
   },
   {
    "duration": 16,
    "start_time": "2022-08-30T14:22:32.770Z"
   },
   {
    "duration": 4,
    "start_time": "2022-08-30T14:22:32.788Z"
   },
   {
    "duration": 7,
    "start_time": "2022-08-30T14:22:32.793Z"
   },
   {
    "duration": 5,
    "start_time": "2022-08-30T14:22:32.801Z"
   },
   {
    "duration": 5,
    "start_time": "2022-08-30T14:22:32.807Z"
   },
   {
    "duration": 9,
    "start_time": "2022-08-30T14:22:32.814Z"
   },
   {
    "duration": 3,
    "start_time": "2022-08-30T14:22:32.855Z"
   },
   {
    "duration": 18,
    "start_time": "2022-08-30T14:22:32.860Z"
   },
   {
    "duration": 39,
    "start_time": "2022-08-30T14:22:32.880Z"
   },
   {
    "duration": 35,
    "start_time": "2022-08-30T14:22:32.920Z"
   },
   {
    "duration": 51,
    "start_time": "2022-08-30T14:22:32.957Z"
   },
   {
    "duration": 344,
    "start_time": "2022-08-30T14:22:33.010Z"
   },
   {
    "duration": 36,
    "start_time": "2022-08-30T14:22:33.355Z"
   },
   {
    "duration": 9,
    "start_time": "2022-08-30T14:22:33.393Z"
   },
   {
    "duration": 63,
    "start_time": "2022-08-30T14:22:33.403Z"
   },
   {
    "duration": 7,
    "start_time": "2022-08-30T14:22:33.468Z"
   },
   {
    "duration": 60,
    "start_time": "2022-08-30T14:22:33.478Z"
   },
   {
    "duration": 96,
    "start_time": "2022-08-30T14:22:33.539Z"
   },
   {
    "duration": 18,
    "start_time": "2022-08-30T14:22:33.637Z"
   },
   {
    "duration": 17,
    "start_time": "2022-08-30T14:22:33.657Z"
   },
   {
    "duration": 9,
    "start_time": "2022-08-30T14:22:33.676Z"
   },
   {
    "duration": 10,
    "start_time": "2022-08-30T14:22:33.687Z"
   },
   {
    "duration": 10,
    "start_time": "2022-08-30T14:22:33.698Z"
   },
   {
    "duration": 24,
    "start_time": "2022-08-30T14:23:27.720Z"
   },
   {
    "duration": 16,
    "start_time": "2022-08-30T14:34:02.526Z"
   },
   {
    "duration": 66,
    "start_time": "2022-08-30T14:36:17.956Z"
   },
   {
    "duration": 2355,
    "start_time": "2022-08-30T14:36:31.866Z"
   },
   {
    "duration": 62,
    "start_time": "2022-08-30T14:46:08.178Z"
   },
   {
    "duration": 1132,
    "start_time": "2022-08-30T14:46:13.282Z"
   },
   {
    "duration": 143,
    "start_time": "2022-08-30T14:46:14.416Z"
   },
   {
    "duration": 10,
    "start_time": "2022-08-30T14:46:14.561Z"
   },
   {
    "duration": 50,
    "start_time": "2022-08-30T14:46:14.572Z"
   },
   {
    "duration": 3,
    "start_time": "2022-08-30T14:46:14.624Z"
   },
   {
    "duration": 39,
    "start_time": "2022-08-30T14:46:14.628Z"
   },
   {
    "duration": 29,
    "start_time": "2022-08-30T14:46:14.669Z"
   },
   {
    "duration": 133,
    "start_time": "2022-08-30T14:46:14.700Z"
   },
   {
    "duration": 36,
    "start_time": "2022-08-30T14:46:14.835Z"
   },
   {
    "duration": 70,
    "start_time": "2022-08-30T14:46:14.873Z"
   },
   {
    "duration": 88,
    "start_time": "2022-08-30T14:46:14.955Z"
   },
   {
    "duration": 113,
    "start_time": "2022-08-30T14:46:15.045Z"
   },
   {
    "duration": 19,
    "start_time": "2022-08-30T14:46:15.160Z"
   },
   {
    "duration": 39,
    "start_time": "2022-08-30T14:46:15.181Z"
   },
   {
    "duration": 44,
    "start_time": "2022-08-30T14:46:15.221Z"
   },
   {
    "duration": 52,
    "start_time": "2022-08-30T14:46:15.266Z"
   },
   {
    "duration": 10,
    "start_time": "2022-08-30T14:46:15.319Z"
   },
   {
    "duration": 46,
    "start_time": "2022-08-30T14:46:15.331Z"
   },
   {
    "duration": 42,
    "start_time": "2022-08-30T14:46:15.378Z"
   },
   {
    "duration": 25,
    "start_time": "2022-08-30T14:46:15.421Z"
   },
   {
    "duration": 14,
    "start_time": "2022-08-30T14:46:15.448Z"
   },
   {
    "duration": 20,
    "start_time": "2022-08-30T14:46:15.463Z"
   },
   {
    "duration": 27,
    "start_time": "2022-08-30T14:46:15.485Z"
   },
   {
    "duration": 222,
    "start_time": "2022-08-30T14:46:15.514Z"
   },
   {
    "duration": 23,
    "start_time": "2022-08-30T14:46:15.737Z"
   },
   {
    "duration": 7,
    "start_time": "2022-08-30T14:46:15.762Z"
   },
   {
    "duration": 25,
    "start_time": "2022-08-30T14:46:15.770Z"
   },
   {
    "duration": 24,
    "start_time": "2022-08-30T14:46:15.796Z"
   },
   {
    "duration": 21,
    "start_time": "2022-08-30T14:46:15.822Z"
   },
   {
    "duration": 29,
    "start_time": "2022-08-30T14:46:15.845Z"
   },
   {
    "duration": 21,
    "start_time": "2022-08-30T14:46:15.876Z"
   },
   {
    "duration": 29,
    "start_time": "2022-08-30T14:46:15.898Z"
   },
   {
    "duration": 52,
    "start_time": "2022-08-30T14:46:15.928Z"
   },
   {
    "duration": 18,
    "start_time": "2022-08-30T14:46:15.981Z"
   },
   {
    "duration": 59,
    "start_time": "2022-08-30T14:46:16.001Z"
   },
   {
    "duration": 330,
    "start_time": "2022-08-30T14:46:16.061Z"
   },
   {
    "duration": 38,
    "start_time": "2022-08-30T14:46:16.392Z"
   },
   {
    "duration": 29,
    "start_time": "2022-08-30T14:46:16.431Z"
   },
   {
    "duration": 26,
    "start_time": "2022-08-30T14:46:16.462Z"
   },
   {
    "duration": 80,
    "start_time": "2022-08-30T14:46:16.489Z"
   },
   {
    "duration": 1574,
    "start_time": "2022-08-30T14:46:16.572Z"
   },
   {
    "duration": 0,
    "start_time": "2022-08-30T14:46:18.148Z"
   },
   {
    "duration": 0,
    "start_time": "2022-08-30T14:46:18.149Z"
   },
   {
    "duration": 0,
    "start_time": "2022-08-30T14:46:18.149Z"
   },
   {
    "duration": 0,
    "start_time": "2022-08-30T14:46:18.150Z"
   },
   {
    "duration": 0,
    "start_time": "2022-08-30T14:46:18.152Z"
   },
   {
    "duration": 0,
    "start_time": "2022-08-30T14:46:18.153Z"
   },
   {
    "duration": 0,
    "start_time": "2022-08-30T14:46:18.154Z"
   },
   {
    "duration": 0,
    "start_time": "2022-08-30T14:46:18.155Z"
   },
   {
    "duration": 0,
    "start_time": "2022-08-30T14:46:18.156Z"
   },
   {
    "duration": 55,
    "start_time": "2022-08-30T14:46:43.803Z"
   },
   {
    "duration": 1182,
    "start_time": "2022-08-30T14:47:00.228Z"
   },
   {
    "duration": 137,
    "start_time": "2022-08-30T14:47:01.412Z"
   },
   {
    "duration": 10,
    "start_time": "2022-08-30T14:47:01.551Z"
   },
   {
    "duration": 16,
    "start_time": "2022-08-30T14:47:01.563Z"
   },
   {
    "duration": 3,
    "start_time": "2022-08-30T14:47:01.581Z"
   },
   {
    "duration": 19,
    "start_time": "2022-08-30T14:47:01.585Z"
   },
   {
    "duration": 18,
    "start_time": "2022-08-30T14:47:01.605Z"
   },
   {
    "duration": 123,
    "start_time": "2022-08-30T14:47:01.625Z"
   },
   {
    "duration": 31,
    "start_time": "2022-08-30T14:47:01.755Z"
   },
   {
    "duration": 79,
    "start_time": "2022-08-30T14:47:01.788Z"
   },
   {
    "duration": 93,
    "start_time": "2022-08-30T14:47:01.868Z"
   },
   {
    "duration": 107,
    "start_time": "2022-08-30T14:47:01.962Z"
   },
   {
    "duration": 19,
    "start_time": "2022-08-30T14:47:02.070Z"
   },
   {
    "duration": 25,
    "start_time": "2022-08-30T14:47:02.093Z"
   },
   {
    "duration": 10,
    "start_time": "2022-08-30T14:47:02.119Z"
   },
   {
    "duration": 36,
    "start_time": "2022-08-30T14:47:02.130Z"
   },
   {
    "duration": 3,
    "start_time": "2022-08-30T14:47:02.168Z"
   },
   {
    "duration": 12,
    "start_time": "2022-08-30T14:47:02.172Z"
   },
   {
    "duration": 21,
    "start_time": "2022-08-30T14:47:02.185Z"
   },
   {
    "duration": 12,
    "start_time": "2022-08-30T14:47:02.208Z"
   },
   {
    "duration": 4,
    "start_time": "2022-08-30T14:47:02.222Z"
   },
   {
    "duration": 29,
    "start_time": "2022-08-30T14:47:02.227Z"
   },
   {
    "duration": 13,
    "start_time": "2022-08-30T14:47:02.258Z"
   },
   {
    "duration": 213,
    "start_time": "2022-08-30T14:47:02.273Z"
   },
   {
    "duration": 16,
    "start_time": "2022-08-30T14:47:02.488Z"
   },
   {
    "duration": 4,
    "start_time": "2022-08-30T14:47:02.506Z"
   },
   {
    "duration": 5,
    "start_time": "2022-08-30T14:47:02.512Z"
   },
   {
    "duration": 8,
    "start_time": "2022-08-30T14:47:02.518Z"
   },
   {
    "duration": 5,
    "start_time": "2022-08-30T14:47:02.527Z"
   },
   {
    "duration": 10,
    "start_time": "2022-08-30T14:47:02.555Z"
   },
   {
    "duration": 4,
    "start_time": "2022-08-30T14:47:02.566Z"
   },
   {
    "duration": 17,
    "start_time": "2022-08-30T14:47:02.572Z"
   },
   {
    "duration": 65,
    "start_time": "2022-08-30T14:47:02.591Z"
   },
   {
    "duration": 18,
    "start_time": "2022-08-30T14:47:02.657Z"
   },
   {
    "duration": 50,
    "start_time": "2022-08-30T14:47:02.676Z"
   },
   {
    "duration": 324,
    "start_time": "2022-08-30T14:47:02.728Z"
   },
   {
    "duration": 53,
    "start_time": "2022-08-30T14:47:03.054Z"
   },
   {
    "duration": 53,
    "start_time": "2022-08-30T14:47:03.109Z"
   },
   {
    "duration": 14,
    "start_time": "2022-08-30T14:47:03.163Z"
   },
   {
    "duration": 84,
    "start_time": "2022-08-30T14:47:03.178Z"
   },
   {
    "duration": 1424,
    "start_time": "2022-08-30T14:47:03.265Z"
   },
   {
    "duration": 0,
    "start_time": "2022-08-30T14:47:04.691Z"
   },
   {
    "duration": 0,
    "start_time": "2022-08-30T14:47:04.692Z"
   },
   {
    "duration": 0,
    "start_time": "2022-08-30T14:47:04.693Z"
   },
   {
    "duration": 0,
    "start_time": "2022-08-30T14:47:04.694Z"
   },
   {
    "duration": 0,
    "start_time": "2022-08-30T14:47:04.695Z"
   },
   {
    "duration": 0,
    "start_time": "2022-08-30T14:47:04.696Z"
   },
   {
    "duration": 0,
    "start_time": "2022-08-30T14:47:04.697Z"
   },
   {
    "duration": 0,
    "start_time": "2022-08-30T14:47:04.698Z"
   },
   {
    "duration": 0,
    "start_time": "2022-08-30T14:47:04.699Z"
   },
   {
    "duration": 1350,
    "start_time": "2022-08-30T14:48:25.297Z"
   },
   {
    "duration": 1371,
    "start_time": "2022-08-30T14:48:32.487Z"
   },
   {
    "duration": 157,
    "start_time": "2022-08-30T14:48:33.860Z"
   },
   {
    "duration": 13,
    "start_time": "2022-08-30T14:48:34.019Z"
   },
   {
    "duration": 40,
    "start_time": "2022-08-30T14:48:34.035Z"
   },
   {
    "duration": 4,
    "start_time": "2022-08-30T14:48:34.078Z"
   },
   {
    "duration": 11,
    "start_time": "2022-08-30T14:48:34.084Z"
   },
   {
    "duration": 18,
    "start_time": "2022-08-30T14:48:34.097Z"
   },
   {
    "duration": 139,
    "start_time": "2022-08-30T14:48:34.117Z"
   },
   {
    "duration": 34,
    "start_time": "2022-08-30T14:48:34.258Z"
   },
   {
    "duration": 84,
    "start_time": "2022-08-30T14:48:34.293Z"
   },
   {
    "duration": 102,
    "start_time": "2022-08-30T14:48:34.379Z"
   },
   {
    "duration": 111,
    "start_time": "2022-08-30T14:48:34.482Z"
   },
   {
    "duration": 18,
    "start_time": "2022-08-30T14:48:34.595Z"
   },
   {
    "duration": 22,
    "start_time": "2022-08-30T14:48:34.616Z"
   },
   {
    "duration": 23,
    "start_time": "2022-08-30T14:48:34.639Z"
   },
   {
    "duration": 26,
    "start_time": "2022-08-30T14:48:34.664Z"
   },
   {
    "duration": 4,
    "start_time": "2022-08-30T14:48:34.692Z"
   },
   {
    "duration": 9,
    "start_time": "2022-08-30T14:48:34.698Z"
   },
   {
    "duration": 47,
    "start_time": "2022-08-30T14:48:34.709Z"
   },
   {
    "duration": 15,
    "start_time": "2022-08-30T14:48:34.758Z"
   },
   {
    "duration": 6,
    "start_time": "2022-08-30T14:48:34.775Z"
   },
   {
    "duration": 7,
    "start_time": "2022-08-30T14:48:34.783Z"
   },
   {
    "duration": 19,
    "start_time": "2022-08-30T14:48:34.792Z"
   },
   {
    "duration": 289,
    "start_time": "2022-08-30T14:48:34.812Z"
   },
   {
    "duration": 24,
    "start_time": "2022-08-30T14:48:35.103Z"
   },
   {
    "duration": 4,
    "start_time": "2022-08-30T14:48:35.129Z"
   },
   {
    "duration": 5,
    "start_time": "2022-08-30T14:48:35.135Z"
   },
   {
    "duration": 5,
    "start_time": "2022-08-30T14:48:35.154Z"
   },
   {
    "duration": 6,
    "start_time": "2022-08-30T14:48:35.161Z"
   },
   {
    "duration": 10,
    "start_time": "2022-08-30T14:48:35.168Z"
   },
   {
    "duration": 4,
    "start_time": "2022-08-30T14:48:35.179Z"
   },
   {
    "duration": 18,
    "start_time": "2022-08-30T14:48:35.184Z"
   },
   {
    "duration": 70,
    "start_time": "2022-08-30T14:48:35.204Z"
   },
   {
    "duration": 19,
    "start_time": "2022-08-30T14:48:35.275Z"
   },
   {
    "duration": 65,
    "start_time": "2022-08-30T14:48:35.296Z"
   },
   {
    "duration": 757,
    "start_time": "2022-08-30T14:48:35.362Z"
   },
   {
    "duration": 44,
    "start_time": "2022-08-30T14:48:36.120Z"
   },
   {
    "duration": 10,
    "start_time": "2022-08-30T14:48:36.165Z"
   },
   {
    "duration": 33,
    "start_time": "2022-08-30T14:48:36.176Z"
   },
   {
    "duration": 86,
    "start_time": "2022-08-30T14:48:36.210Z"
   },
   {
    "duration": 1517,
    "start_time": "2022-08-30T14:48:36.299Z"
   },
   {
    "duration": 0,
    "start_time": "2022-08-30T14:48:37.818Z"
   },
   {
    "duration": 0,
    "start_time": "2022-08-30T14:48:37.820Z"
   },
   {
    "duration": 0,
    "start_time": "2022-08-30T14:48:37.822Z"
   },
   {
    "duration": 0,
    "start_time": "2022-08-30T14:48:37.824Z"
   },
   {
    "duration": 0,
    "start_time": "2022-08-30T14:48:37.825Z"
   },
   {
    "duration": 0,
    "start_time": "2022-08-30T14:48:37.827Z"
   },
   {
    "duration": 0,
    "start_time": "2022-08-30T14:48:37.829Z"
   },
   {
    "duration": 0,
    "start_time": "2022-08-30T14:48:37.831Z"
   },
   {
    "duration": 0,
    "start_time": "2022-08-30T14:48:37.833Z"
   },
   {
    "duration": 1501,
    "start_time": "2022-08-30T14:49:36.872Z"
   },
   {
    "duration": 2160,
    "start_time": "2022-08-30T14:51:34.522Z"
   },
   {
    "duration": 1543,
    "start_time": "2022-08-30T14:52:09.570Z"
   },
   {
    "duration": 1243,
    "start_time": "2022-08-30T14:53:49.917Z"
   },
   {
    "duration": 162,
    "start_time": "2022-08-30T14:53:51.162Z"
   },
   {
    "duration": 12,
    "start_time": "2022-08-30T14:53:51.325Z"
   },
   {
    "duration": 34,
    "start_time": "2022-08-30T14:53:51.340Z"
   },
   {
    "duration": 3,
    "start_time": "2022-08-30T14:53:51.375Z"
   },
   {
    "duration": 19,
    "start_time": "2022-08-30T14:53:51.380Z"
   },
   {
    "duration": 28,
    "start_time": "2022-08-30T14:53:51.401Z"
   },
   {
    "duration": 117,
    "start_time": "2022-08-30T14:53:51.431Z"
   },
   {
    "duration": 38,
    "start_time": "2022-08-30T14:53:51.554Z"
   },
   {
    "duration": 93,
    "start_time": "2022-08-30T14:53:51.594Z"
   },
   {
    "duration": 102,
    "start_time": "2022-08-30T14:53:51.689Z"
   },
   {
    "duration": 115,
    "start_time": "2022-08-30T14:53:51.792Z"
   },
   {
    "duration": 21,
    "start_time": "2022-08-30T14:53:51.908Z"
   },
   {
    "duration": 31,
    "start_time": "2022-08-30T14:53:51.930Z"
   },
   {
    "duration": 9,
    "start_time": "2022-08-30T14:53:51.963Z"
   },
   {
    "duration": 24,
    "start_time": "2022-08-30T14:53:51.974Z"
   },
   {
    "duration": 3,
    "start_time": "2022-08-30T14:53:51.999Z"
   },
   {
    "duration": 9,
    "start_time": "2022-08-30T14:53:52.004Z"
   },
   {
    "duration": 55,
    "start_time": "2022-08-30T14:53:52.014Z"
   },
   {
    "duration": 15,
    "start_time": "2022-08-30T14:53:52.070Z"
   },
   {
    "duration": 4,
    "start_time": "2022-08-30T14:53:52.086Z"
   },
   {
    "duration": 4,
    "start_time": "2022-08-30T14:53:52.091Z"
   },
   {
    "duration": 15,
    "start_time": "2022-08-30T14:53:52.097Z"
   },
   {
    "duration": 251,
    "start_time": "2022-08-30T14:53:52.114Z"
   },
   {
    "duration": 16,
    "start_time": "2022-08-30T14:53:52.367Z"
   },
   {
    "duration": 3,
    "start_time": "2022-08-30T14:53:52.385Z"
   },
   {
    "duration": 9,
    "start_time": "2022-08-30T14:53:52.389Z"
   },
   {
    "duration": 12,
    "start_time": "2022-08-30T14:53:52.400Z"
   },
   {
    "duration": 15,
    "start_time": "2022-08-30T14:53:52.414Z"
   },
   {
    "duration": 20,
    "start_time": "2022-08-30T14:53:52.430Z"
   },
   {
    "duration": 8,
    "start_time": "2022-08-30T14:53:52.455Z"
   },
   {
    "duration": 26,
    "start_time": "2022-08-30T14:53:52.464Z"
   },
   {
    "duration": 53,
    "start_time": "2022-08-30T14:53:52.492Z"
   },
   {
    "duration": 19,
    "start_time": "2022-08-30T14:53:52.546Z"
   },
   {
    "duration": 56,
    "start_time": "2022-08-30T14:53:52.566Z"
   },
   {
    "duration": 360,
    "start_time": "2022-08-30T14:53:52.624Z"
   },
   {
    "duration": 71,
    "start_time": "2022-08-30T14:53:52.985Z"
   },
   {
    "duration": 10,
    "start_time": "2022-08-30T14:53:53.058Z"
   },
   {
    "duration": 15,
    "start_time": "2022-08-30T14:53:53.069Z"
   },
   {
    "duration": 94,
    "start_time": "2022-08-30T14:53:53.086Z"
   },
   {
    "duration": 1471,
    "start_time": "2022-08-30T14:53:53.182Z"
   },
   {
    "duration": 0,
    "start_time": "2022-08-30T14:53:54.654Z"
   },
   {
    "duration": 0,
    "start_time": "2022-08-30T14:53:54.656Z"
   },
   {
    "duration": 0,
    "start_time": "2022-08-30T14:53:54.657Z"
   },
   {
    "duration": 0,
    "start_time": "2022-08-30T14:53:54.658Z"
   },
   {
    "duration": 0,
    "start_time": "2022-08-30T14:53:54.658Z"
   },
   {
    "duration": 0,
    "start_time": "2022-08-30T14:53:54.660Z"
   },
   {
    "duration": 0,
    "start_time": "2022-08-30T14:53:54.660Z"
   },
   {
    "duration": 0,
    "start_time": "2022-08-30T14:53:54.661Z"
   },
   {
    "duration": 0,
    "start_time": "2022-08-30T14:53:54.662Z"
   },
   {
    "duration": 68,
    "start_time": "2022-08-30T14:54:53.137Z"
   },
   {
    "duration": 1143,
    "start_time": "2022-08-30T14:55:14.463Z"
   },
   {
    "duration": 151,
    "start_time": "2022-08-30T14:55:15.608Z"
   },
   {
    "duration": 11,
    "start_time": "2022-08-30T14:55:15.761Z"
   },
   {
    "duration": 20,
    "start_time": "2022-08-30T14:55:15.774Z"
   },
   {
    "duration": 3,
    "start_time": "2022-08-30T14:55:15.796Z"
   },
   {
    "duration": 12,
    "start_time": "2022-08-30T14:55:15.801Z"
   },
   {
    "duration": 41,
    "start_time": "2022-08-30T14:55:15.814Z"
   },
   {
    "duration": 123,
    "start_time": "2022-08-30T14:55:15.857Z"
   },
   {
    "duration": 36,
    "start_time": "2022-08-30T14:55:15.981Z"
   },
   {
    "duration": 90,
    "start_time": "2022-08-30T14:55:16.018Z"
   },
   {
    "duration": 97,
    "start_time": "2022-08-30T14:55:16.110Z"
   },
   {
    "duration": 107,
    "start_time": "2022-08-30T14:55:16.209Z"
   },
   {
    "duration": 17,
    "start_time": "2022-08-30T14:55:16.318Z"
   },
   {
    "duration": 29,
    "start_time": "2022-08-30T14:55:16.338Z"
   },
   {
    "duration": 9,
    "start_time": "2022-08-30T14:55:16.369Z"
   },
   {
    "duration": 25,
    "start_time": "2022-08-30T14:55:16.379Z"
   },
   {
    "duration": 3,
    "start_time": "2022-08-30T14:55:16.406Z"
   },
   {
    "duration": 9,
    "start_time": "2022-08-30T14:55:16.410Z"
   },
   {
    "duration": 42,
    "start_time": "2022-08-30T14:55:16.421Z"
   },
   {
    "duration": 13,
    "start_time": "2022-08-30T14:55:16.465Z"
   },
   {
    "duration": 4,
    "start_time": "2022-08-30T14:55:16.479Z"
   },
   {
    "duration": 6,
    "start_time": "2022-08-30T14:55:16.484Z"
   },
   {
    "duration": 13,
    "start_time": "2022-08-30T14:55:16.492Z"
   },
   {
    "duration": 249,
    "start_time": "2022-08-30T14:55:16.506Z"
   },
   {
    "duration": 17,
    "start_time": "2022-08-30T14:55:16.757Z"
   },
   {
    "duration": 6,
    "start_time": "2022-08-30T14:55:16.775Z"
   },
   {
    "duration": 5,
    "start_time": "2022-08-30T14:55:16.783Z"
   },
   {
    "duration": 7,
    "start_time": "2022-08-30T14:55:16.789Z"
   },
   {
    "duration": 7,
    "start_time": "2022-08-30T14:55:16.797Z"
   },
   {
    "duration": 16,
    "start_time": "2022-08-30T14:55:16.806Z"
   },
   {
    "duration": 4,
    "start_time": "2022-08-30T14:55:16.823Z"
   },
   {
    "duration": 18,
    "start_time": "2022-08-30T14:55:16.855Z"
   },
   {
    "duration": 41,
    "start_time": "2022-08-30T14:55:16.875Z"
   },
   {
    "duration": 19,
    "start_time": "2022-08-30T14:55:16.917Z"
   },
   {
    "duration": 58,
    "start_time": "2022-08-30T14:55:16.955Z"
   },
   {
    "duration": 316,
    "start_time": "2022-08-30T14:55:17.014Z"
   },
   {
    "duration": 42,
    "start_time": "2022-08-30T14:55:17.331Z"
   },
   {
    "duration": 10,
    "start_time": "2022-08-30T14:55:17.374Z"
   },
   {
    "duration": 13,
    "start_time": "2022-08-30T14:55:17.385Z"
   },
   {
    "duration": 290,
    "start_time": "2022-08-30T14:55:17.399Z"
   },
   {
    "duration": 0,
    "start_time": "2022-08-30T14:55:17.690Z"
   },
   {
    "duration": 0,
    "start_time": "2022-08-30T14:55:17.691Z"
   },
   {
    "duration": 0,
    "start_time": "2022-08-30T14:55:17.692Z"
   },
   {
    "duration": 0,
    "start_time": "2022-08-30T14:55:17.693Z"
   },
   {
    "duration": 0,
    "start_time": "2022-08-30T14:55:17.694Z"
   },
   {
    "duration": 0,
    "start_time": "2022-08-30T14:55:17.695Z"
   },
   {
    "duration": 0,
    "start_time": "2022-08-30T14:55:17.696Z"
   },
   {
    "duration": 0,
    "start_time": "2022-08-30T14:55:17.697Z"
   },
   {
    "duration": 0,
    "start_time": "2022-08-30T14:55:17.698Z"
   },
   {
    "duration": 0,
    "start_time": "2022-08-30T14:55:17.699Z"
   },
   {
    "duration": 555,
    "start_time": "2022-08-30T14:56:35.485Z"
   },
   {
    "duration": 1664,
    "start_time": "2022-08-30T14:56:53.107Z"
   },
   {
    "duration": 62,
    "start_time": "2022-08-30T14:57:20.590Z"
   },
   {
    "duration": 1242,
    "start_time": "2022-08-30T14:57:29.999Z"
   },
   {
    "duration": 146,
    "start_time": "2022-08-30T14:57:31.243Z"
   },
   {
    "duration": 11,
    "start_time": "2022-08-30T14:57:31.390Z"
   },
   {
    "duration": 18,
    "start_time": "2022-08-30T14:57:31.402Z"
   },
   {
    "duration": 3,
    "start_time": "2022-08-30T14:57:31.422Z"
   },
   {
    "duration": 12,
    "start_time": "2022-08-30T14:57:31.426Z"
   },
   {
    "duration": 31,
    "start_time": "2022-08-30T14:57:31.439Z"
   },
   {
    "duration": 117,
    "start_time": "2022-08-30T14:57:31.471Z"
   },
   {
    "duration": 33,
    "start_time": "2022-08-30T14:57:31.590Z"
   },
   {
    "duration": 88,
    "start_time": "2022-08-30T14:57:31.625Z"
   },
   {
    "duration": 98,
    "start_time": "2022-08-30T14:57:31.715Z"
   },
   {
    "duration": 104,
    "start_time": "2022-08-30T14:57:31.814Z"
   },
   {
    "duration": 18,
    "start_time": "2022-08-30T14:57:31.919Z"
   },
   {
    "duration": 27,
    "start_time": "2022-08-30T14:57:31.940Z"
   },
   {
    "duration": 16,
    "start_time": "2022-08-30T14:57:31.968Z"
   },
   {
    "duration": 25,
    "start_time": "2022-08-30T14:57:31.985Z"
   },
   {
    "duration": 4,
    "start_time": "2022-08-30T14:57:32.011Z"
   },
   {
    "duration": 10,
    "start_time": "2022-08-30T14:57:32.016Z"
   },
   {
    "duration": 42,
    "start_time": "2022-08-30T14:57:32.028Z"
   },
   {
    "duration": 15,
    "start_time": "2022-08-30T14:57:32.071Z"
   },
   {
    "duration": 5,
    "start_time": "2022-08-30T14:57:32.088Z"
   },
   {
    "duration": 7,
    "start_time": "2022-08-30T14:57:32.095Z"
   },
   {
    "duration": 14,
    "start_time": "2022-08-30T14:57:32.104Z"
   },
   {
    "duration": 240,
    "start_time": "2022-08-30T14:57:32.119Z"
   },
   {
    "duration": 16,
    "start_time": "2022-08-30T14:57:32.360Z"
   },
   {
    "duration": 3,
    "start_time": "2022-08-30T14:57:32.378Z"
   },
   {
    "duration": 6,
    "start_time": "2022-08-30T14:57:32.383Z"
   },
   {
    "duration": 8,
    "start_time": "2022-08-30T14:57:32.390Z"
   },
   {
    "duration": 6,
    "start_time": "2022-08-30T14:57:32.400Z"
   },
   {
    "duration": 14,
    "start_time": "2022-08-30T14:57:32.408Z"
   },
   {
    "duration": 32,
    "start_time": "2022-08-30T14:57:32.424Z"
   },
   {
    "duration": 30,
    "start_time": "2022-08-30T14:57:32.458Z"
   },
   {
    "duration": 45,
    "start_time": "2022-08-30T14:57:32.490Z"
   },
   {
    "duration": 29,
    "start_time": "2022-08-30T14:57:32.537Z"
   },
   {
    "duration": 55,
    "start_time": "2022-08-30T14:57:32.567Z"
   },
   {
    "duration": 714,
    "start_time": "2022-08-30T14:57:32.624Z"
   },
   {
    "duration": 35,
    "start_time": "2022-08-30T14:57:33.340Z"
   },
   {
    "duration": 9,
    "start_time": "2022-08-30T14:57:33.377Z"
   },
   {
    "duration": 13,
    "start_time": "2022-08-30T14:57:33.387Z"
   },
   {
    "duration": 249,
    "start_time": "2022-08-30T14:57:33.401Z"
   },
   {
    "duration": 0,
    "start_time": "2022-08-30T14:57:33.652Z"
   },
   {
    "duration": 0,
    "start_time": "2022-08-30T14:57:33.655Z"
   },
   {
    "duration": 0,
    "start_time": "2022-08-30T14:57:33.656Z"
   },
   {
    "duration": 0,
    "start_time": "2022-08-30T14:57:33.656Z"
   },
   {
    "duration": 0,
    "start_time": "2022-08-30T14:57:33.657Z"
   },
   {
    "duration": 0,
    "start_time": "2022-08-30T14:57:33.658Z"
   },
   {
    "duration": 0,
    "start_time": "2022-08-30T14:57:33.659Z"
   },
   {
    "duration": 0,
    "start_time": "2022-08-30T14:57:33.660Z"
   },
   {
    "duration": 0,
    "start_time": "2022-08-30T14:57:33.661Z"
   },
   {
    "duration": 0,
    "start_time": "2022-08-30T14:57:33.662Z"
   },
   {
    "duration": 62,
    "start_time": "2022-08-30T14:57:55.155Z"
   },
   {
    "duration": 61,
    "start_time": "2022-08-30T14:58:03.742Z"
   },
   {
    "duration": 68,
    "start_time": "2022-08-30T14:58:14.732Z"
   },
   {
    "duration": 1476,
    "start_time": "2022-08-30T14:59:22.640Z"
   },
   {
    "duration": 1111,
    "start_time": "2022-08-30T14:59:28.497Z"
   },
   {
    "duration": 143,
    "start_time": "2022-08-30T14:59:29.609Z"
   },
   {
    "duration": 10,
    "start_time": "2022-08-30T14:59:29.754Z"
   },
   {
    "duration": 21,
    "start_time": "2022-08-30T14:59:29.765Z"
   },
   {
    "duration": 3,
    "start_time": "2022-08-30T14:59:29.789Z"
   },
   {
    "duration": 12,
    "start_time": "2022-08-30T14:59:29.793Z"
   },
   {
    "duration": 19,
    "start_time": "2022-08-30T14:59:29.806Z"
   },
   {
    "duration": 140,
    "start_time": "2022-08-30T14:59:29.827Z"
   },
   {
    "duration": 33,
    "start_time": "2022-08-30T14:59:29.969Z"
   },
   {
    "duration": 89,
    "start_time": "2022-08-30T14:59:30.003Z"
   },
   {
    "duration": 103,
    "start_time": "2022-08-30T14:59:30.094Z"
   },
   {
    "duration": 110,
    "start_time": "2022-08-30T14:59:30.199Z"
   },
   {
    "duration": 18,
    "start_time": "2022-08-30T14:59:30.311Z"
   },
   {
    "duration": 35,
    "start_time": "2022-08-30T14:59:30.331Z"
   },
   {
    "duration": 31,
    "start_time": "2022-08-30T14:59:30.368Z"
   },
   {
    "duration": 51,
    "start_time": "2022-08-30T14:59:30.400Z"
   },
   {
    "duration": 11,
    "start_time": "2022-08-30T14:59:30.452Z"
   },
   {
    "duration": 26,
    "start_time": "2022-08-30T14:59:30.465Z"
   },
   {
    "duration": 43,
    "start_time": "2022-08-30T14:59:30.493Z"
   },
   {
    "duration": 14,
    "start_time": "2022-08-30T14:59:30.537Z"
   },
   {
    "duration": 30,
    "start_time": "2022-08-30T14:59:30.552Z"
   },
   {
    "duration": 22,
    "start_time": "2022-08-30T14:59:30.584Z"
   },
   {
    "duration": 35,
    "start_time": "2022-08-30T14:59:30.608Z"
   },
   {
    "duration": 241,
    "start_time": "2022-08-30T14:59:30.645Z"
   },
   {
    "duration": 16,
    "start_time": "2022-08-30T14:59:30.888Z"
   },
   {
    "duration": 13,
    "start_time": "2022-08-30T14:59:30.905Z"
   },
   {
    "duration": 10,
    "start_time": "2022-08-30T14:59:30.920Z"
   },
   {
    "duration": 16,
    "start_time": "2022-08-30T14:59:30.931Z"
   },
   {
    "duration": 13,
    "start_time": "2022-08-30T14:59:30.948Z"
   },
   {
    "duration": 11,
    "start_time": "2022-08-30T14:59:30.963Z"
   },
   {
    "duration": 3,
    "start_time": "2022-08-30T14:59:30.976Z"
   },
   {
    "duration": 40,
    "start_time": "2022-08-30T14:59:30.981Z"
   },
   {
    "duration": 55,
    "start_time": "2022-08-30T14:59:31.023Z"
   },
   {
    "duration": 21,
    "start_time": "2022-08-30T14:59:31.080Z"
   },
   {
    "duration": 71,
    "start_time": "2022-08-30T14:59:31.103Z"
   },
   {
    "duration": 338,
    "start_time": "2022-08-30T14:59:31.176Z"
   },
   {
    "duration": 49,
    "start_time": "2022-08-30T14:59:31.516Z"
   },
   {
    "duration": 10,
    "start_time": "2022-08-30T14:59:31.566Z"
   },
   {
    "duration": 24,
    "start_time": "2022-08-30T14:59:31.578Z"
   },
   {
    "duration": 2630,
    "start_time": "2022-08-30T14:59:31.603Z"
   },
   {
    "duration": 0,
    "start_time": "2022-08-30T14:59:34.234Z"
   },
   {
    "duration": 0,
    "start_time": "2022-08-30T14:59:34.235Z"
   },
   {
    "duration": 0,
    "start_time": "2022-08-30T14:59:34.237Z"
   },
   {
    "duration": 0,
    "start_time": "2022-08-30T14:59:34.239Z"
   },
   {
    "duration": 0,
    "start_time": "2022-08-30T14:59:34.240Z"
   },
   {
    "duration": 0,
    "start_time": "2022-08-30T14:59:34.242Z"
   },
   {
    "duration": 0,
    "start_time": "2022-08-30T14:59:34.244Z"
   },
   {
    "duration": 0,
    "start_time": "2022-08-30T14:59:34.245Z"
   },
   {
    "duration": 0,
    "start_time": "2022-08-30T14:59:34.246Z"
   },
   {
    "duration": 57,
    "start_time": "2022-08-30T15:01:13.890Z"
   },
   {
    "duration": 2109,
    "start_time": "2022-08-30T15:01:44.789Z"
   },
   {
    "duration": 1389,
    "start_time": "2022-08-31T07:29:38.689Z"
   },
   {
    "duration": 505,
    "start_time": "2022-08-31T07:29:40.081Z"
   },
   {
    "duration": 13,
    "start_time": "2022-08-31T07:29:40.588Z"
   },
   {
    "duration": 26,
    "start_time": "2022-08-31T07:29:40.603Z"
   },
   {
    "duration": 4,
    "start_time": "2022-08-31T07:29:40.632Z"
   },
   {
    "duration": 26,
    "start_time": "2022-08-31T07:29:40.638Z"
   },
   {
    "duration": 28,
    "start_time": "2022-08-31T07:29:40.666Z"
   },
   {
    "duration": 127,
    "start_time": "2022-08-31T07:29:40.696Z"
   },
   {
    "duration": 41,
    "start_time": "2022-08-31T07:29:40.825Z"
   },
   {
    "duration": 83,
    "start_time": "2022-08-31T07:29:40.884Z"
   },
   {
    "duration": 118,
    "start_time": "2022-08-31T07:29:40.968Z"
   },
   {
    "duration": 129,
    "start_time": "2022-08-31T07:29:41.087Z"
   },
   {
    "duration": 19,
    "start_time": "2022-08-31T07:29:41.217Z"
   },
   {
    "duration": 27,
    "start_time": "2022-08-31T07:29:41.239Z"
   },
   {
    "duration": 23,
    "start_time": "2022-08-31T07:29:41.268Z"
   },
   {
    "duration": 31,
    "start_time": "2022-08-31T07:29:41.294Z"
   },
   {
    "duration": 4,
    "start_time": "2022-08-31T07:29:41.327Z"
   },
   {
    "duration": 21,
    "start_time": "2022-08-31T07:29:41.333Z"
   },
   {
    "duration": 33,
    "start_time": "2022-08-31T07:29:41.356Z"
   },
   {
    "duration": 16,
    "start_time": "2022-08-31T07:29:41.390Z"
   },
   {
    "duration": 4,
    "start_time": "2022-08-31T07:29:41.408Z"
   },
   {
    "duration": 8,
    "start_time": "2022-08-31T07:29:41.414Z"
   },
   {
    "duration": 21,
    "start_time": "2022-08-31T07:29:41.424Z"
   },
   {
    "duration": 268,
    "start_time": "2022-08-31T07:29:41.446Z"
   },
   {
    "duration": 18,
    "start_time": "2022-08-31T07:29:41.716Z"
   },
   {
    "duration": 5,
    "start_time": "2022-08-31T07:29:41.736Z"
   },
   {
    "duration": 7,
    "start_time": "2022-08-31T07:29:41.743Z"
   },
   {
    "duration": 9,
    "start_time": "2022-08-31T07:29:41.752Z"
   },
   {
    "duration": 5,
    "start_time": "2022-08-31T07:29:41.785Z"
   },
   {
    "duration": 14,
    "start_time": "2022-08-31T07:29:41.791Z"
   },
   {
    "duration": 4,
    "start_time": "2022-08-31T07:29:41.808Z"
   },
   {
    "duration": 22,
    "start_time": "2022-08-31T07:29:41.813Z"
   },
   {
    "duration": 71,
    "start_time": "2022-08-31T07:29:41.836Z"
   },
   {
    "duration": 21,
    "start_time": "2022-08-31T07:29:41.909Z"
   },
   {
    "duration": 81,
    "start_time": "2022-08-31T07:29:41.931Z"
   },
   {
    "duration": 382,
    "start_time": "2022-08-31T07:29:42.013Z"
   },
   {
    "duration": 98,
    "start_time": "2022-08-31T07:29:42.399Z"
   },
   {
    "duration": 10,
    "start_time": "2022-08-31T07:29:42.499Z"
   },
   {
    "duration": 38,
    "start_time": "2022-08-31T07:29:42.510Z"
   },
   {
    "duration": 99,
    "start_time": "2022-08-31T07:29:42.550Z"
   },
   {
    "duration": 1754,
    "start_time": "2022-08-31T07:29:42.654Z"
   },
   {
    "duration": 0,
    "start_time": "2022-08-31T07:29:44.410Z"
   },
   {
    "duration": 0,
    "start_time": "2022-08-31T07:29:44.413Z"
   },
   {
    "duration": 0,
    "start_time": "2022-08-31T07:29:44.414Z"
   },
   {
    "duration": 0,
    "start_time": "2022-08-31T07:29:44.415Z"
   },
   {
    "duration": 0,
    "start_time": "2022-08-31T07:29:44.416Z"
   },
   {
    "duration": 0,
    "start_time": "2022-08-31T07:29:44.417Z"
   },
   {
    "duration": 0,
    "start_time": "2022-08-31T07:29:44.418Z"
   },
   {
    "duration": 0,
    "start_time": "2022-08-31T07:29:44.419Z"
   },
   {
    "duration": 2467,
    "start_time": "2022-08-31T07:31:10.391Z"
   },
   {
    "duration": 4,
    "start_time": "2022-08-31T07:37:57.915Z"
   },
   {
    "duration": 8,
    "start_time": "2022-08-31T07:38:39.779Z"
   },
   {
    "duration": 98,
    "start_time": "2022-08-31T07:39:11.965Z"
   },
   {
    "duration": 1321,
    "start_time": "2022-08-31T07:39:20.954Z"
   },
   {
    "duration": 168,
    "start_time": "2022-08-31T07:39:22.276Z"
   },
   {
    "duration": 11,
    "start_time": "2022-08-31T07:39:22.446Z"
   },
   {
    "duration": 26,
    "start_time": "2022-08-31T07:39:22.459Z"
   },
   {
    "duration": 3,
    "start_time": "2022-08-31T07:39:22.486Z"
   },
   {
    "duration": 18,
    "start_time": "2022-08-31T07:39:22.491Z"
   },
   {
    "duration": 20,
    "start_time": "2022-08-31T07:39:22.510Z"
   },
   {
    "duration": 125,
    "start_time": "2022-08-31T07:39:22.532Z"
   },
   {
    "duration": 47,
    "start_time": "2022-08-31T07:39:22.659Z"
   },
   {
    "duration": 94,
    "start_time": "2022-08-31T07:39:22.708Z"
   },
   {
    "duration": 126,
    "start_time": "2022-08-31T07:39:22.803Z"
   },
   {
    "duration": 124,
    "start_time": "2022-08-31T07:39:22.931Z"
   },
   {
    "duration": 28,
    "start_time": "2022-08-31T07:39:23.057Z"
   },
   {
    "duration": 19,
    "start_time": "2022-08-31T07:39:23.087Z"
   },
   {
    "duration": 20,
    "start_time": "2022-08-31T07:39:23.107Z"
   },
   {
    "duration": 30,
    "start_time": "2022-08-31T07:39:23.129Z"
   },
   {
    "duration": 5,
    "start_time": "2022-08-31T07:39:23.161Z"
   },
   {
    "duration": 21,
    "start_time": "2022-08-31T07:39:23.167Z"
   },
   {
    "duration": 24,
    "start_time": "2022-08-31T07:39:23.189Z"
   },
   {
    "duration": 16,
    "start_time": "2022-08-31T07:39:23.215Z"
   },
   {
    "duration": 5,
    "start_time": "2022-08-31T07:39:23.232Z"
   },
   {
    "duration": 14,
    "start_time": "2022-08-31T07:39:23.238Z"
   },
   {
    "duration": 43,
    "start_time": "2022-08-31T07:39:23.254Z"
   },
   {
    "duration": 244,
    "start_time": "2022-08-31T07:39:23.299Z"
   },
   {
    "duration": 16,
    "start_time": "2022-08-31T07:39:23.545Z"
   },
   {
    "duration": 3,
    "start_time": "2022-08-31T07:39:23.563Z"
   },
   {
    "duration": 19,
    "start_time": "2022-08-31T07:39:23.568Z"
   },
   {
    "duration": 11,
    "start_time": "2022-08-31T07:39:23.591Z"
   },
   {
    "duration": 17,
    "start_time": "2022-08-31T07:39:23.604Z"
   },
   {
    "duration": 29,
    "start_time": "2022-08-31T07:39:23.623Z"
   },
   {
    "duration": 14,
    "start_time": "2022-08-31T07:39:23.654Z"
   },
   {
    "duration": 42,
    "start_time": "2022-08-31T07:39:23.670Z"
   },
   {
    "duration": 59,
    "start_time": "2022-08-31T07:39:23.714Z"
   },
   {
    "duration": 23,
    "start_time": "2022-08-31T07:39:23.775Z"
   },
   {
    "duration": 70,
    "start_time": "2022-08-31T07:39:23.800Z"
   },
   {
    "duration": 363,
    "start_time": "2022-08-31T07:39:23.871Z"
   },
   {
    "duration": 63,
    "start_time": "2022-08-31T07:39:24.236Z"
   },
   {
    "duration": 12,
    "start_time": "2022-08-31T07:39:24.301Z"
   },
   {
    "duration": 44,
    "start_time": "2022-08-31T07:39:24.314Z"
   },
   {
    "duration": 10,
    "start_time": "2022-08-31T07:39:24.385Z"
   },
   {
    "duration": 68,
    "start_time": "2022-08-31T07:39:24.396Z"
   },
   {
    "duration": 127,
    "start_time": "2022-08-31T07:39:24.466Z"
   },
   {
    "duration": 5,
    "start_time": "2022-08-31T07:39:24.596Z"
   },
   {
    "duration": 32,
    "start_time": "2022-08-31T07:39:24.603Z"
   },
   {
    "duration": 25,
    "start_time": "2022-08-31T07:39:24.637Z"
   },
   {
    "duration": 34,
    "start_time": "2022-08-31T07:39:24.664Z"
   },
   {
    "duration": 21,
    "start_time": "2022-08-31T07:39:24.700Z"
   },
   {
    "duration": 106,
    "start_time": "2022-08-31T07:39:43.739Z"
   },
   {
    "duration": 6,
    "start_time": "2022-08-31T07:45:05.931Z"
   },
   {
    "duration": 24,
    "start_time": "2022-08-31T07:45:23.349Z"
   },
   {
    "duration": 8,
    "start_time": "2022-08-31T08:09:14.959Z"
   },
   {
    "duration": 1260,
    "start_time": "2022-08-31T08:11:23.293Z"
   },
   {
    "duration": 163,
    "start_time": "2022-08-31T08:11:24.556Z"
   },
   {
    "duration": 10,
    "start_time": "2022-08-31T08:11:24.721Z"
   },
   {
    "duration": 20,
    "start_time": "2022-08-31T08:11:24.733Z"
   },
   {
    "duration": 4,
    "start_time": "2022-08-31T08:11:24.755Z"
   },
   {
    "duration": 26,
    "start_time": "2022-08-31T08:11:24.760Z"
   },
   {
    "duration": 23,
    "start_time": "2022-08-31T08:11:24.788Z"
   },
   {
    "duration": 130,
    "start_time": "2022-08-31T08:11:24.813Z"
   },
   {
    "duration": 46,
    "start_time": "2022-08-31T08:11:24.945Z"
   },
   {
    "duration": 94,
    "start_time": "2022-08-31T08:11:24.992Z"
   },
   {
    "duration": 109,
    "start_time": "2022-08-31T08:11:25.088Z"
   },
   {
    "duration": 128,
    "start_time": "2022-08-31T08:11:25.199Z"
   },
   {
    "duration": 21,
    "start_time": "2022-08-31T08:11:25.329Z"
   },
   {
    "duration": 33,
    "start_time": "2022-08-31T08:11:25.353Z"
   },
   {
    "duration": 10,
    "start_time": "2022-08-31T08:11:25.388Z"
   },
   {
    "duration": 30,
    "start_time": "2022-08-31T08:11:25.400Z"
   },
   {
    "duration": 6,
    "start_time": "2022-08-31T08:11:25.432Z"
   },
   {
    "duration": 11,
    "start_time": "2022-08-31T08:11:25.440Z"
   },
   {
    "duration": 49,
    "start_time": "2022-08-31T08:11:25.453Z"
   },
   {
    "duration": 16,
    "start_time": "2022-08-31T08:11:25.505Z"
   },
   {
    "duration": 6,
    "start_time": "2022-08-31T08:11:25.523Z"
   },
   {
    "duration": 6,
    "start_time": "2022-08-31T08:11:25.531Z"
   },
   {
    "duration": 50,
    "start_time": "2022-08-31T08:11:25.539Z"
   },
   {
    "duration": 238,
    "start_time": "2022-08-31T08:11:25.591Z"
   },
   {
    "duration": 17,
    "start_time": "2022-08-31T08:11:25.831Z"
   },
   {
    "duration": 4,
    "start_time": "2022-08-31T08:11:25.850Z"
   },
   {
    "duration": 15,
    "start_time": "2022-08-31T08:11:25.856Z"
   },
   {
    "duration": 14,
    "start_time": "2022-08-31T08:11:25.873Z"
   },
   {
    "duration": 6,
    "start_time": "2022-08-31T08:11:25.889Z"
   },
   {
    "duration": 15,
    "start_time": "2022-08-31T08:11:25.897Z"
   },
   {
    "duration": 4,
    "start_time": "2022-08-31T08:11:25.913Z"
   },
   {
    "duration": 23,
    "start_time": "2022-08-31T08:11:25.918Z"
   },
   {
    "duration": 64,
    "start_time": "2022-08-31T08:11:25.942Z"
   },
   {
    "duration": 19,
    "start_time": "2022-08-31T08:11:26.007Z"
   },
   {
    "duration": 71,
    "start_time": "2022-08-31T08:11:26.027Z"
   },
   {
    "duration": 332,
    "start_time": "2022-08-31T08:11:26.099Z"
   },
   {
    "duration": 63,
    "start_time": "2022-08-31T08:11:26.434Z"
   },
   {
    "duration": 11,
    "start_time": "2022-08-31T08:11:26.499Z"
   },
   {
    "duration": 13,
    "start_time": "2022-08-31T08:11:26.511Z"
   },
   {
    "duration": 62,
    "start_time": "2022-08-31T08:11:26.525Z"
   },
   {
    "duration": 95,
    "start_time": "2022-08-31T08:11:26.592Z"
   },
   {
    "duration": 107,
    "start_time": "2022-08-31T08:11:26.689Z"
   },
   {
    "duration": 21,
    "start_time": "2022-08-31T08:11:26.798Z"
   },
   {
    "duration": 7,
    "start_time": "2022-08-31T08:11:26.821Z"
   },
   {
    "duration": 19,
    "start_time": "2022-08-31T08:11:26.830Z"
   },
   {
    "duration": 11,
    "start_time": "2022-08-31T08:11:26.851Z"
   },
   {
    "duration": 10,
    "start_time": "2022-08-31T08:11:26.885Z"
   },
   {
    "duration": 9,
    "start_time": "2022-08-31T08:11:26.897Z"
   },
   {
    "duration": 4,
    "start_time": "2022-08-31T08:30:14.026Z"
   },
   {
    "duration": 5,
    "start_time": "2022-08-31T08:30:22.207Z"
   },
   {
    "duration": 4,
    "start_time": "2022-08-31T08:30:34.784Z"
   },
   {
    "duration": 4,
    "start_time": "2022-08-31T08:30:51.668Z"
   },
   {
    "duration": 5,
    "start_time": "2022-08-31T08:30:59.023Z"
   },
   {
    "duration": 5,
    "start_time": "2022-08-31T08:31:12.345Z"
   },
   {
    "duration": 100,
    "start_time": "2022-08-31T08:31:24.946Z"
   },
   {
    "duration": 4,
    "start_time": "2022-08-31T08:31:28.416Z"
   },
   {
    "duration": 1341,
    "start_time": "2022-08-31T13:50:01.235Z"
   },
   {
    "duration": 503,
    "start_time": "2022-08-31T13:50:02.578Z"
   },
   {
    "duration": 10,
    "start_time": "2022-08-31T13:50:03.082Z"
   },
   {
    "duration": 20,
    "start_time": "2022-08-31T13:50:03.093Z"
   },
   {
    "duration": 3,
    "start_time": "2022-08-31T13:50:03.115Z"
   },
   {
    "duration": 23,
    "start_time": "2022-08-31T13:50:03.119Z"
   },
   {
    "duration": 18,
    "start_time": "2022-08-31T13:50:03.143Z"
   },
   {
    "duration": 105,
    "start_time": "2022-08-31T13:50:03.162Z"
   },
   {
    "duration": 43,
    "start_time": "2022-08-31T13:50:03.268Z"
   },
   {
    "duration": 70,
    "start_time": "2022-08-31T13:50:03.313Z"
   },
   {
    "duration": 108,
    "start_time": "2022-08-31T13:50:03.385Z"
   },
   {
    "duration": 117,
    "start_time": "2022-08-31T13:50:03.494Z"
   },
   {
    "duration": 19,
    "start_time": "2022-08-31T13:50:03.613Z"
   },
   {
    "duration": 19,
    "start_time": "2022-08-31T13:50:03.635Z"
   },
   {
    "duration": 26,
    "start_time": "2022-08-31T13:50:03.655Z"
   },
   {
    "duration": 32,
    "start_time": "2022-08-31T13:50:03.683Z"
   },
   {
    "duration": 4,
    "start_time": "2022-08-31T13:50:03.716Z"
   },
   {
    "duration": 17,
    "start_time": "2022-08-31T13:50:03.721Z"
   },
   {
    "duration": 21,
    "start_time": "2022-08-31T13:50:03.740Z"
   },
   {
    "duration": 12,
    "start_time": "2022-08-31T13:50:03.763Z"
   },
   {
    "duration": 5,
    "start_time": "2022-08-31T13:50:03.777Z"
   },
   {
    "duration": 8,
    "start_time": "2022-08-31T13:50:03.784Z"
   },
   {
    "duration": 24,
    "start_time": "2022-08-31T13:50:03.794Z"
   },
   {
    "duration": 223,
    "start_time": "2022-08-31T13:50:03.819Z"
   },
   {
    "duration": 16,
    "start_time": "2022-08-31T13:50:04.043Z"
   },
   {
    "duration": 3,
    "start_time": "2022-08-31T13:50:04.060Z"
   },
   {
    "duration": 35,
    "start_time": "2022-08-31T13:50:04.065Z"
   },
   {
    "duration": 19,
    "start_time": "2022-08-31T13:50:04.102Z"
   },
   {
    "duration": 19,
    "start_time": "2022-08-31T13:50:04.123Z"
   },
   {
    "duration": 18,
    "start_time": "2022-08-31T13:50:04.143Z"
   },
   {
    "duration": 10,
    "start_time": "2022-08-31T13:50:04.163Z"
   },
   {
    "duration": 39,
    "start_time": "2022-08-31T13:50:04.174Z"
   },
   {
    "duration": 48,
    "start_time": "2022-08-31T13:50:04.215Z"
   },
   {
    "duration": 19,
    "start_time": "2022-08-31T13:50:04.265Z"
   },
   {
    "duration": 60,
    "start_time": "2022-08-31T13:50:04.285Z"
   },
   {
    "duration": 461,
    "start_time": "2022-08-31T13:50:04.346Z"
   },
   {
    "duration": 36,
    "start_time": "2022-08-31T13:50:04.809Z"
   },
   {
    "duration": 9,
    "start_time": "2022-08-31T13:50:04.846Z"
   },
   {
    "duration": 69,
    "start_time": "2022-08-31T13:50:04.856Z"
   },
   {
    "duration": 7,
    "start_time": "2022-08-31T13:50:04.926Z"
   },
   {
    "duration": 40,
    "start_time": "2022-08-31T13:50:04.938Z"
   },
   {
    "duration": 5,
    "start_time": "2022-08-31T13:50:05.011Z"
   },
   {
    "duration": 105,
    "start_time": "2022-08-31T13:50:05.018Z"
   },
   {
    "duration": 20,
    "start_time": "2022-08-31T13:50:05.125Z"
   },
   {
    "duration": 20,
    "start_time": "2022-08-31T13:50:05.147Z"
   },
   {
    "duration": 19,
    "start_time": "2022-08-31T13:50:05.168Z"
   },
   {
    "duration": 24,
    "start_time": "2022-08-31T13:50:05.189Z"
   },
   {
    "duration": 21,
    "start_time": "2022-08-31T13:50:05.214Z"
   },
   {
    "duration": 10,
    "start_time": "2022-08-31T13:50:05.237Z"
   },
   {
    "duration": 4,
    "start_time": "2022-08-31T13:51:45.578Z"
   },
   {
    "duration": 3,
    "start_time": "2022-08-31T13:51:55.485Z"
   },
   {
    "duration": 578,
    "start_time": "2022-08-31T13:56:34.764Z"
   },
   {
    "duration": 1319,
    "start_time": "2022-08-31T14:13:31.763Z"
   },
   {
    "duration": 705,
    "start_time": "2022-08-31T14:13:33.084Z"
   },
   {
    "duration": 10,
    "start_time": "2022-08-31T14:13:33.791Z"
   },
   {
    "duration": 18,
    "start_time": "2022-08-31T14:13:33.803Z"
   },
   {
    "duration": 3,
    "start_time": "2022-08-31T14:13:33.822Z"
   },
   {
    "duration": 8,
    "start_time": "2022-08-31T14:13:33.827Z"
   },
   {
    "duration": 26,
    "start_time": "2022-08-31T14:13:33.837Z"
   },
   {
    "duration": 115,
    "start_time": "2022-08-31T14:13:33.864Z"
   },
   {
    "duration": 35,
    "start_time": "2022-08-31T14:13:33.981Z"
   },
   {
    "duration": 90,
    "start_time": "2022-08-31T14:13:34.019Z"
   },
   {
    "duration": 96,
    "start_time": "2022-08-31T14:13:34.110Z"
   },
   {
    "duration": 104,
    "start_time": "2022-08-31T14:13:34.208Z"
   },
   {
    "duration": 19,
    "start_time": "2022-08-31T14:13:34.314Z"
   },
   {
    "duration": 33,
    "start_time": "2022-08-31T14:13:34.335Z"
   },
   {
    "duration": 11,
    "start_time": "2022-08-31T14:13:34.370Z"
   },
   {
    "duration": 26,
    "start_time": "2022-08-31T14:13:34.382Z"
   },
   {
    "duration": 3,
    "start_time": "2022-08-31T14:13:34.410Z"
   },
   {
    "duration": 10,
    "start_time": "2022-08-31T14:13:34.415Z"
   },
   {
    "duration": 40,
    "start_time": "2022-08-31T14:13:34.426Z"
   },
   {
    "duration": 14,
    "start_time": "2022-08-31T14:13:34.468Z"
   },
   {
    "duration": 4,
    "start_time": "2022-08-31T14:13:34.484Z"
   },
   {
    "duration": 5,
    "start_time": "2022-08-31T14:13:34.490Z"
   },
   {
    "duration": 13,
    "start_time": "2022-08-31T14:13:34.496Z"
   },
   {
    "duration": 234,
    "start_time": "2022-08-31T14:13:34.511Z"
   },
   {
    "duration": 581,
    "start_time": "2022-08-31T14:13:34.746Z"
   },
   {
    "duration": 16,
    "start_time": "2022-08-31T14:13:35.329Z"
   },
   {
    "duration": 4,
    "start_time": "2022-08-31T14:13:35.355Z"
   },
   {
    "duration": 4,
    "start_time": "2022-08-31T14:13:35.362Z"
   },
   {
    "duration": 7,
    "start_time": "2022-08-31T14:13:35.367Z"
   },
   {
    "duration": 6,
    "start_time": "2022-08-31T14:13:35.375Z"
   },
   {
    "duration": 11,
    "start_time": "2022-08-31T14:13:35.382Z"
   },
   {
    "duration": 5,
    "start_time": "2022-08-31T14:13:35.394Z"
   },
   {
    "duration": 17,
    "start_time": "2022-08-31T14:13:35.400Z"
   },
   {
    "duration": 72,
    "start_time": "2022-08-31T14:13:35.419Z"
   },
   {
    "duration": 19,
    "start_time": "2022-08-31T14:13:35.493Z"
   },
   {
    "duration": 70,
    "start_time": "2022-08-31T14:13:35.514Z"
   },
   {
    "duration": 406,
    "start_time": "2022-08-31T14:13:35.586Z"
   },
   {
    "duration": 78,
    "start_time": "2022-08-31T14:13:35.995Z"
   },
   {
    "duration": 10,
    "start_time": "2022-08-31T14:13:36.075Z"
   },
   {
    "duration": 20,
    "start_time": "2022-08-31T14:13:36.087Z"
   },
   {
    "duration": 47,
    "start_time": "2022-08-31T14:13:36.109Z"
   },
   {
    "duration": 40,
    "start_time": "2022-08-31T14:13:36.158Z"
   },
   {
    "duration": 4,
    "start_time": "2022-08-31T14:13:36.200Z"
   },
   {
    "duration": 118,
    "start_time": "2022-08-31T14:13:36.205Z"
   },
   {
    "duration": 19,
    "start_time": "2022-08-31T14:13:36.324Z"
   },
   {
    "duration": 13,
    "start_time": "2022-08-31T14:13:36.344Z"
   },
   {
    "duration": 15,
    "start_time": "2022-08-31T14:13:36.359Z"
   },
   {
    "duration": 16,
    "start_time": "2022-08-31T14:13:36.376Z"
   },
   {
    "duration": 10,
    "start_time": "2022-08-31T14:13:36.394Z"
   },
   {
    "duration": 8,
    "start_time": "2022-08-31T14:13:36.406Z"
   },
   {
    "duration": 220,
    "start_time": "2022-08-31T14:14:13.521Z"
   },
   {
    "duration": 27,
    "start_time": "2022-08-31T14:21:43.000Z"
   },
   {
    "duration": 106,
    "start_time": "2022-08-31T14:22:29.895Z"
   },
   {
    "duration": 20,
    "start_time": "2022-08-31T14:22:51.213Z"
   },
   {
    "duration": 14,
    "start_time": "2022-08-31T14:22:51.918Z"
   },
   {
    "duration": 1103,
    "start_time": "2022-08-31T14:25:12.208Z"
   },
   {
    "duration": 153,
    "start_time": "2022-08-31T14:25:13.312Z"
   },
   {
    "duration": 9,
    "start_time": "2022-08-31T14:25:13.466Z"
   },
   {
    "duration": 18,
    "start_time": "2022-08-31T14:25:13.477Z"
   },
   {
    "duration": 3,
    "start_time": "2022-08-31T14:25:13.496Z"
   },
   {
    "duration": 8,
    "start_time": "2022-08-31T14:25:13.501Z"
   },
   {
    "duration": 21,
    "start_time": "2022-08-31T14:25:13.510Z"
   },
   {
    "duration": 114,
    "start_time": "2022-08-31T14:25:13.554Z"
   },
   {
    "duration": 33,
    "start_time": "2022-08-31T14:25:13.670Z"
   },
   {
    "duration": 82,
    "start_time": "2022-08-31T14:25:13.706Z"
   },
   {
    "duration": 88,
    "start_time": "2022-08-31T14:25:13.789Z"
   },
   {
    "duration": 105,
    "start_time": "2022-08-31T14:25:13.878Z"
   },
   {
    "duration": 18,
    "start_time": "2022-08-31T14:25:13.984Z"
   },
   {
    "duration": 23,
    "start_time": "2022-08-31T14:25:14.003Z"
   },
   {
    "duration": 9,
    "start_time": "2022-08-31T14:25:14.028Z"
   },
   {
    "duration": 33,
    "start_time": "2022-08-31T14:25:14.038Z"
   },
   {
    "duration": 3,
    "start_time": "2022-08-31T14:25:14.072Z"
   },
   {
    "duration": 9,
    "start_time": "2022-08-31T14:25:14.077Z"
   },
   {
    "duration": 20,
    "start_time": "2022-08-31T14:25:14.087Z"
   },
   {
    "duration": 14,
    "start_time": "2022-08-31T14:25:14.108Z"
   },
   {
    "duration": 1106,
    "start_time": "2022-08-31T14:26:45.410Z"
   },
   {
    "duration": 139,
    "start_time": "2022-08-31T14:26:46.518Z"
   },
   {
    "duration": 11,
    "start_time": "2022-08-31T14:26:46.658Z"
   },
   {
    "duration": 30,
    "start_time": "2022-08-31T14:26:46.673Z"
   },
   {
    "duration": 4,
    "start_time": "2022-08-31T14:26:46.704Z"
   },
   {
    "duration": 11,
    "start_time": "2022-08-31T14:26:46.709Z"
   },
   {
    "duration": 46,
    "start_time": "2022-08-31T14:26:46.722Z"
   },
   {
    "duration": 120,
    "start_time": "2022-08-31T14:26:46.769Z"
   },
   {
    "duration": 32,
    "start_time": "2022-08-31T14:26:46.891Z"
   },
   {
    "duration": 87,
    "start_time": "2022-08-31T14:26:46.926Z"
   },
   {
    "duration": 97,
    "start_time": "2022-08-31T14:26:47.014Z"
   },
   {
    "duration": 108,
    "start_time": "2022-08-31T14:26:47.113Z"
   },
   {
    "duration": 19,
    "start_time": "2022-08-31T14:26:47.223Z"
   },
   {
    "duration": 22,
    "start_time": "2022-08-31T14:26:47.244Z"
   },
   {
    "duration": 9,
    "start_time": "2022-08-31T14:26:47.268Z"
   },
   {
    "duration": 35,
    "start_time": "2022-08-31T14:26:47.279Z"
   },
   {
    "duration": 4,
    "start_time": "2022-08-31T14:26:47.316Z"
   },
   {
    "duration": 36,
    "start_time": "2022-08-31T14:26:47.322Z"
   },
   {
    "duration": 30,
    "start_time": "2022-08-31T14:26:47.360Z"
   },
   {
    "duration": 17,
    "start_time": "2022-08-31T14:26:47.392Z"
   },
   {
    "duration": 1129,
    "start_time": "2022-08-31T14:28:54.491Z"
   },
   {
    "duration": 142,
    "start_time": "2022-08-31T14:28:55.622Z"
   },
   {
    "duration": 12,
    "start_time": "2022-08-31T14:28:55.766Z"
   },
   {
    "duration": 18,
    "start_time": "2022-08-31T14:28:55.780Z"
   },
   {
    "duration": 3,
    "start_time": "2022-08-31T14:28:55.800Z"
   },
   {
    "duration": 8,
    "start_time": "2022-08-31T14:28:55.805Z"
   },
   {
    "duration": 45,
    "start_time": "2022-08-31T14:28:55.815Z"
   },
   {
    "duration": 128,
    "start_time": "2022-08-31T14:28:55.861Z"
   },
   {
    "duration": 36,
    "start_time": "2022-08-31T14:28:55.991Z"
   },
   {
    "duration": 83,
    "start_time": "2022-08-31T14:28:56.029Z"
   },
   {
    "duration": 95,
    "start_time": "2022-08-31T14:28:56.113Z"
   },
   {
    "duration": 113,
    "start_time": "2022-08-31T14:28:56.210Z"
   },
   {
    "duration": 18,
    "start_time": "2022-08-31T14:28:56.325Z"
   },
   {
    "duration": 20,
    "start_time": "2022-08-31T14:28:56.345Z"
   },
   {
    "duration": 10,
    "start_time": "2022-08-31T14:28:56.367Z"
   },
   {
    "duration": 26,
    "start_time": "2022-08-31T14:28:56.378Z"
   },
   {
    "duration": 4,
    "start_time": "2022-08-31T14:28:56.406Z"
   },
   {
    "duration": 9,
    "start_time": "2022-08-31T14:28:56.412Z"
   },
   {
    "duration": 52,
    "start_time": "2022-08-31T14:28:56.423Z"
   },
   {
    "duration": 15,
    "start_time": "2022-08-31T14:28:56.477Z"
   },
   {
    "duration": 1279,
    "start_time": "2022-08-31T14:28:56.493Z"
   },
   {
    "duration": 0,
    "start_time": "2022-08-31T14:28:57.774Z"
   },
   {
    "duration": 0,
    "start_time": "2022-08-31T14:28:57.775Z"
   },
   {
    "duration": 0,
    "start_time": "2022-08-31T14:28:57.776Z"
   },
   {
    "duration": 0,
    "start_time": "2022-08-31T14:28:57.777Z"
   },
   {
    "duration": 0,
    "start_time": "2022-08-31T14:28:57.778Z"
   },
   {
    "duration": 0,
    "start_time": "2022-08-31T14:28:57.779Z"
   },
   {
    "duration": 0,
    "start_time": "2022-08-31T14:28:57.780Z"
   },
   {
    "duration": 0,
    "start_time": "2022-08-31T14:28:57.781Z"
   },
   {
    "duration": 0,
    "start_time": "2022-08-31T14:28:57.782Z"
   },
   {
    "duration": 0,
    "start_time": "2022-08-31T14:28:57.783Z"
   },
   {
    "duration": 0,
    "start_time": "2022-08-31T14:28:57.785Z"
   },
   {
    "duration": 0,
    "start_time": "2022-08-31T14:28:57.786Z"
   },
   {
    "duration": 0,
    "start_time": "2022-08-31T14:28:57.787Z"
   },
   {
    "duration": 0,
    "start_time": "2022-08-31T14:28:57.788Z"
   },
   {
    "duration": 0,
    "start_time": "2022-08-31T14:28:57.789Z"
   },
   {
    "duration": 0,
    "start_time": "2022-08-31T14:28:57.790Z"
   },
   {
    "duration": 0,
    "start_time": "2022-08-31T14:28:57.791Z"
   },
   {
    "duration": 0,
    "start_time": "2022-08-31T14:28:57.795Z"
   },
   {
    "duration": 0,
    "start_time": "2022-08-31T14:28:57.796Z"
   },
   {
    "duration": 0,
    "start_time": "2022-08-31T14:28:57.798Z"
   },
   {
    "duration": 0,
    "start_time": "2022-08-31T14:28:57.798Z"
   },
   {
    "duration": 0,
    "start_time": "2022-08-31T14:28:57.803Z"
   },
   {
    "duration": 0,
    "start_time": "2022-08-31T14:28:57.804Z"
   },
   {
    "duration": 0,
    "start_time": "2022-08-31T14:28:57.805Z"
   },
   {
    "duration": 0,
    "start_time": "2022-08-31T14:28:57.806Z"
   },
   {
    "duration": 0,
    "start_time": "2022-08-31T14:28:57.806Z"
   },
   {
    "duration": 0,
    "start_time": "2022-08-31T14:28:57.807Z"
   },
   {
    "duration": 0,
    "start_time": "2022-08-31T14:28:57.808Z"
   },
   {
    "duration": 0,
    "start_time": "2022-08-31T14:28:57.809Z"
   },
   {
    "duration": 0,
    "start_time": "2022-08-31T14:28:57.810Z"
   },
   {
    "duration": 1215,
    "start_time": "2022-08-31T14:30:35.657Z"
   },
   {
    "duration": 142,
    "start_time": "2022-08-31T14:30:36.874Z"
   },
   {
    "duration": 15,
    "start_time": "2022-08-31T14:30:37.018Z"
   },
   {
    "duration": 24,
    "start_time": "2022-08-31T14:30:37.034Z"
   },
   {
    "duration": 3,
    "start_time": "2022-08-31T14:30:37.059Z"
   },
   {
    "duration": 9,
    "start_time": "2022-08-31T14:30:37.064Z"
   },
   {
    "duration": 18,
    "start_time": "2022-08-31T14:30:37.074Z"
   },
   {
    "duration": 121,
    "start_time": "2022-08-31T14:30:37.093Z"
   },
   {
    "duration": 44,
    "start_time": "2022-08-31T14:30:37.216Z"
   },
   {
    "duration": 104,
    "start_time": "2022-08-31T14:30:37.262Z"
   },
   {
    "duration": 140,
    "start_time": "2022-08-31T14:30:37.368Z"
   },
   {
    "duration": 110,
    "start_time": "2022-08-31T14:30:37.510Z"
   },
   {
    "duration": 18,
    "start_time": "2022-08-31T14:30:37.621Z"
   },
   {
    "duration": 24,
    "start_time": "2022-08-31T14:30:37.641Z"
   },
   {
    "duration": 9,
    "start_time": "2022-08-31T14:30:37.667Z"
   },
   {
    "duration": 26,
    "start_time": "2022-08-31T14:30:37.677Z"
   },
   {
    "duration": 4,
    "start_time": "2022-08-31T14:30:37.705Z"
   },
   {
    "duration": 8,
    "start_time": "2022-08-31T14:30:37.710Z"
   },
   {
    "duration": 47,
    "start_time": "2022-08-31T14:30:37.720Z"
   },
   {
    "duration": 20,
    "start_time": "2022-08-31T14:30:37.769Z"
   },
   {
    "duration": 129739,
    "start_time": "2022-08-31T14:30:37.790Z"
   },
   {
    "duration": 5,
    "start_time": "2022-08-31T14:32:47.531Z"
   },
   {
    "duration": 17,
    "start_time": "2022-08-31T14:32:47.539Z"
   },
   {
    "duration": 39,
    "start_time": "2022-08-31T14:32:47.557Z"
   },
   {
    "duration": 320,
    "start_time": "2022-08-31T14:32:47.598Z"
   },
   {
    "duration": 603,
    "start_time": "2022-08-31T14:32:47.920Z"
   },
   {
    "duration": 21,
    "start_time": "2022-08-31T14:32:48.525Z"
   },
   {
    "duration": 4,
    "start_time": "2022-08-31T14:32:48.557Z"
   },
   {
    "duration": 6,
    "start_time": "2022-08-31T14:32:48.562Z"
   },
   {
    "duration": 7,
    "start_time": "2022-08-31T14:32:48.569Z"
   },
   {
    "duration": 8,
    "start_time": "2022-08-31T14:32:48.577Z"
   },
   {
    "duration": 12,
    "start_time": "2022-08-31T14:32:48.587Z"
   },
   {
    "duration": 3,
    "start_time": "2022-08-31T14:32:48.601Z"
   },
   {
    "duration": 58,
    "start_time": "2022-08-31T14:32:48.605Z"
   },
   {
    "duration": 40,
    "start_time": "2022-08-31T14:32:48.665Z"
   },
   {
    "duration": 18,
    "start_time": "2022-08-31T14:32:48.706Z"
   },
   {
    "duration": 79,
    "start_time": "2022-08-31T14:32:48.726Z"
   },
   {
    "duration": 339,
    "start_time": "2022-08-31T14:32:48.807Z"
   },
   {
    "duration": 34,
    "start_time": "2022-08-31T14:32:49.148Z"
   },
   {
    "duration": 9,
    "start_time": "2022-08-31T14:32:49.184Z"
   },
   {
    "duration": 65,
    "start_time": "2022-08-31T14:32:49.194Z"
   },
   {
    "duration": 7,
    "start_time": "2022-08-31T14:32:49.260Z"
   },
   {
    "duration": 43,
    "start_time": "2022-08-31T14:32:49.269Z"
   },
   {
    "duration": 5,
    "start_time": "2022-08-31T14:32:49.314Z"
   },
   {
    "duration": 115,
    "start_time": "2022-08-31T14:32:49.321Z"
   },
   {
    "duration": 40,
    "start_time": "2022-08-31T14:32:49.438Z"
   },
   {
    "duration": 5,
    "start_time": "2022-08-31T14:32:49.479Z"
   },
   {
    "duration": 13,
    "start_time": "2022-08-31T14:32:49.486Z"
   },
   {
    "duration": 9,
    "start_time": "2022-08-31T14:32:49.500Z"
   },
   {
    "duration": 9,
    "start_time": "2022-08-31T14:32:49.511Z"
   },
   {
    "duration": 38,
    "start_time": "2022-08-31T14:32:49.521Z"
   },
   {
    "duration": 22,
    "start_time": "2022-08-31T14:34:13.109Z"
   },
   {
    "duration": 16,
    "start_time": "2022-08-31T14:34:16.543Z"
   },
   {
    "duration": 133732,
    "start_time": "2022-08-31T14:34:19.948Z"
   },
   {
    "duration": 122,
    "start_time": "2022-08-31T14:36:33.681Z"
   },
   {
    "duration": 4,
    "start_time": "2022-08-31T14:40:03.805Z"
   },
   {
    "duration": 4,
    "start_time": "2022-08-31T14:40:14.876Z"
   },
   {
    "duration": 3,
    "start_time": "2022-08-31T14:40:48.548Z"
   },
   {
    "duration": 4,
    "start_time": "2022-08-31T14:41:30.629Z"
   },
   {
    "duration": 151,
    "start_time": "2022-08-31T14:46:20.210Z"
   },
   {
    "duration": 4,
    "start_time": "2022-08-31T14:47:22.041Z"
   },
   {
    "duration": 8,
    "start_time": "2022-08-31T14:47:37.410Z"
   },
   {
    "duration": 9,
    "start_time": "2022-08-31T14:51:43.860Z"
   },
   {
    "duration": 9,
    "start_time": "2022-08-31T14:57:06.781Z"
   },
   {
    "duration": 1192,
    "start_time": "2022-08-31T14:58:09.728Z"
   },
   {
    "duration": 1443,
    "start_time": "2022-08-31T15:00:38.604Z"
   },
   {
    "duration": 11,
    "start_time": "2022-08-31T15:04:10.830Z"
   },
   {
    "duration": 9,
    "start_time": "2022-08-31T15:05:33.303Z"
   },
   {
    "duration": 8,
    "start_time": "2022-08-31T15:05:44.251Z"
   },
   {
    "duration": 9,
    "start_time": "2022-08-31T15:05:50.176Z"
   },
   {
    "duration": 9,
    "start_time": "2022-08-31T15:06:06.215Z"
   },
   {
    "duration": 8,
    "start_time": "2022-08-31T15:06:45.264Z"
   },
   {
    "duration": 1144,
    "start_time": "2022-08-31T15:07:37.860Z"
   },
   {
    "duration": 146,
    "start_time": "2022-08-31T15:07:39.006Z"
   },
   {
    "duration": 10,
    "start_time": "2022-08-31T15:07:39.153Z"
   },
   {
    "duration": 19,
    "start_time": "2022-08-31T15:07:39.165Z"
   },
   {
    "duration": 4,
    "start_time": "2022-08-31T15:07:39.186Z"
   },
   {
    "duration": 10,
    "start_time": "2022-08-31T15:07:39.191Z"
   },
   {
    "duration": 23,
    "start_time": "2022-08-31T15:07:39.203Z"
   },
   {
    "duration": 146,
    "start_time": "2022-08-31T15:07:39.228Z"
   },
   {
    "duration": 32,
    "start_time": "2022-08-31T15:07:39.376Z"
   },
   {
    "duration": 88,
    "start_time": "2022-08-31T15:07:39.410Z"
   },
   {
    "duration": 88,
    "start_time": "2022-08-31T15:07:39.500Z"
   },
   {
    "duration": 111,
    "start_time": "2022-08-31T15:07:39.589Z"
   },
   {
    "duration": 19,
    "start_time": "2022-08-31T15:07:39.701Z"
   },
   {
    "duration": 32,
    "start_time": "2022-08-31T15:07:39.723Z"
   },
   {
    "duration": 8,
    "start_time": "2022-08-31T15:07:39.757Z"
   },
   {
    "duration": 28,
    "start_time": "2022-08-31T15:07:39.766Z"
   },
   {
    "duration": 3,
    "start_time": "2022-08-31T15:07:39.796Z"
   },
   {
    "duration": 10,
    "start_time": "2022-08-31T15:07:39.800Z"
   },
   {
    "duration": 47,
    "start_time": "2022-08-31T15:07:39.811Z"
   },
   {
    "duration": 14,
    "start_time": "2022-08-31T15:07:39.859Z"
   },
   {
    "duration": 133221,
    "start_time": "2022-08-31T15:07:39.874Z"
   },
   {
    "duration": 5,
    "start_time": "2022-08-31T15:09:53.097Z"
   },
   {
    "duration": 8,
    "start_time": "2022-08-31T15:09:53.103Z"
   },
   {
    "duration": 17,
    "start_time": "2022-08-31T15:09:53.112Z"
   },
   {
    "duration": 230,
    "start_time": "2022-08-31T15:09:53.131Z"
   },
   {
    "duration": 660,
    "start_time": "2022-08-31T15:09:53.363Z"
   },
   {
    "duration": 31,
    "start_time": "2022-08-31T15:09:54.025Z"
   },
   {
    "duration": 4,
    "start_time": "2022-08-31T15:09:54.057Z"
   },
   {
    "duration": 8,
    "start_time": "2022-08-31T15:09:54.063Z"
   },
   {
    "duration": 7,
    "start_time": "2022-08-31T15:09:54.072Z"
   },
   {
    "duration": 11,
    "start_time": "2022-08-31T15:09:54.080Z"
   },
   {
    "duration": 13,
    "start_time": "2022-08-31T15:09:54.093Z"
   },
   {
    "duration": 5,
    "start_time": "2022-08-31T15:09:54.107Z"
   },
   {
    "duration": 42,
    "start_time": "2022-08-31T15:09:54.113Z"
   },
   {
    "duration": 42,
    "start_time": "2022-08-31T15:09:54.157Z"
   },
   {
    "duration": 19,
    "start_time": "2022-08-31T15:09:54.201Z"
   },
   {
    "duration": 76,
    "start_time": "2022-08-31T15:09:54.222Z"
   },
   {
    "duration": 375,
    "start_time": "2022-08-31T15:09:54.300Z"
   },
   {
    "duration": 36,
    "start_time": "2022-08-31T15:09:54.677Z"
   },
   {
    "duration": 49,
    "start_time": "2022-08-31T15:09:54.715Z"
   },
   {
    "duration": 13,
    "start_time": "2022-08-31T15:09:54.767Z"
   },
   {
    "duration": 18,
    "start_time": "2022-08-31T15:09:54.782Z"
   },
   {
    "duration": 8,
    "start_time": "2022-08-31T15:09:54.802Z"
   },
   {
    "duration": 69,
    "start_time": "2022-08-31T15:09:54.811Z"
   },
   {
    "duration": 5,
    "start_time": "2022-08-31T15:09:54.881Z"
   },
   {
    "duration": 127,
    "start_time": "2022-08-31T15:09:54.887Z"
   },
   {
    "duration": 23,
    "start_time": "2022-08-31T15:09:55.015Z"
   },
   {
    "duration": 16,
    "start_time": "2022-08-31T15:09:55.040Z"
   },
   {
    "duration": 25,
    "start_time": "2022-08-31T15:09:55.057Z"
   },
   {
    "duration": 12,
    "start_time": "2022-08-31T15:09:55.083Z"
   },
   {
    "duration": 9,
    "start_time": "2022-08-31T15:09:55.096Z"
   },
   {
    "duration": 8,
    "start_time": "2022-08-31T15:09:55.107Z"
   },
   {
    "duration": 940,
    "start_time": "2022-08-31T15:10:07.970Z"
   },
   {
    "duration": 1012,
    "start_time": "2022-08-31T15:10:16.414Z"
   },
   {
    "duration": 156,
    "start_time": "2022-08-31T15:15:20.936Z"
   },
   {
    "duration": 1169,
    "start_time": "2022-08-31T15:15:36.466Z"
   },
   {
    "duration": 141,
    "start_time": "2022-08-31T15:15:37.636Z"
   },
   {
    "duration": 11,
    "start_time": "2022-08-31T15:15:37.778Z"
   },
   {
    "duration": 23,
    "start_time": "2022-08-31T15:15:37.794Z"
   },
   {
    "duration": 3,
    "start_time": "2022-08-31T15:15:37.818Z"
   },
   {
    "duration": 9,
    "start_time": "2022-08-31T15:15:37.823Z"
   },
   {
    "duration": 28,
    "start_time": "2022-08-31T15:15:37.833Z"
   },
   {
    "duration": 120,
    "start_time": "2022-08-31T15:15:37.862Z"
   },
   {
    "duration": 34,
    "start_time": "2022-08-31T15:15:37.983Z"
   },
   {
    "duration": 89,
    "start_time": "2022-08-31T15:15:38.020Z"
   },
   {
    "duration": 86,
    "start_time": "2022-08-31T15:15:38.111Z"
   },
   {
    "duration": 101,
    "start_time": "2022-08-31T15:15:38.198Z"
   },
   {
    "duration": 18,
    "start_time": "2022-08-31T15:15:38.301Z"
   },
   {
    "duration": 19,
    "start_time": "2022-08-31T15:15:38.320Z"
   },
   {
    "duration": 9,
    "start_time": "2022-08-31T15:15:38.355Z"
   },
   {
    "duration": 25,
    "start_time": "2022-08-31T15:15:38.365Z"
   },
   {
    "duration": 116,
    "start_time": "2022-08-31T15:15:38.391Z"
   },
   {
    "duration": 0,
    "start_time": "2022-08-31T15:15:38.510Z"
   },
   {
    "duration": 0,
    "start_time": "2022-08-31T15:15:38.511Z"
   },
   {
    "duration": 0,
    "start_time": "2022-08-31T15:15:38.513Z"
   },
   {
    "duration": 0,
    "start_time": "2022-08-31T15:15:38.513Z"
   },
   {
    "duration": 0,
    "start_time": "2022-08-31T15:15:38.514Z"
   },
   {
    "duration": 0,
    "start_time": "2022-08-31T15:15:38.515Z"
   },
   {
    "duration": 0,
    "start_time": "2022-08-31T15:15:38.516Z"
   },
   {
    "duration": 0,
    "start_time": "2022-08-31T15:15:38.517Z"
   },
   {
    "duration": 0,
    "start_time": "2022-08-31T15:15:38.518Z"
   },
   {
    "duration": 0,
    "start_time": "2022-08-31T15:15:38.519Z"
   },
   {
    "duration": 0,
    "start_time": "2022-08-31T15:15:38.520Z"
   },
   {
    "duration": 0,
    "start_time": "2022-08-31T15:15:38.520Z"
   },
   {
    "duration": 0,
    "start_time": "2022-08-31T15:15:38.521Z"
   },
   {
    "duration": 0,
    "start_time": "2022-08-31T15:15:38.523Z"
   },
   {
    "duration": 0,
    "start_time": "2022-08-31T15:15:38.523Z"
   },
   {
    "duration": 0,
    "start_time": "2022-08-31T15:15:38.524Z"
   },
   {
    "duration": 0,
    "start_time": "2022-08-31T15:15:38.525Z"
   },
   {
    "duration": 0,
    "start_time": "2022-08-31T15:15:38.555Z"
   },
   {
    "duration": 0,
    "start_time": "2022-08-31T15:15:38.556Z"
   },
   {
    "duration": 0,
    "start_time": "2022-08-31T15:15:38.557Z"
   },
   {
    "duration": 0,
    "start_time": "2022-08-31T15:15:38.558Z"
   },
   {
    "duration": 0,
    "start_time": "2022-08-31T15:15:38.559Z"
   },
   {
    "duration": 0,
    "start_time": "2022-08-31T15:15:38.560Z"
   },
   {
    "duration": 0,
    "start_time": "2022-08-31T15:15:38.561Z"
   },
   {
    "duration": 0,
    "start_time": "2022-08-31T15:15:38.562Z"
   },
   {
    "duration": 0,
    "start_time": "2022-08-31T15:15:38.563Z"
   },
   {
    "duration": 0,
    "start_time": "2022-08-31T15:15:38.563Z"
   },
   {
    "duration": 0,
    "start_time": "2022-08-31T15:15:38.564Z"
   },
   {
    "duration": 0,
    "start_time": "2022-08-31T15:15:38.565Z"
   },
   {
    "duration": 0,
    "start_time": "2022-08-31T15:15:38.566Z"
   },
   {
    "duration": 0,
    "start_time": "2022-08-31T15:15:38.567Z"
   },
   {
    "duration": 0,
    "start_time": "2022-08-31T15:15:38.568Z"
   },
   {
    "duration": 0,
    "start_time": "2022-08-31T15:15:38.569Z"
   },
   {
    "duration": 0,
    "start_time": "2022-08-31T15:15:38.570Z"
   },
   {
    "duration": 0,
    "start_time": "2022-08-31T15:15:38.571Z"
   },
   {
    "duration": 0,
    "start_time": "2022-08-31T15:15:38.572Z"
   },
   {
    "duration": 25,
    "start_time": "2022-08-31T15:16:24.905Z"
   },
   {
    "duration": 26,
    "start_time": "2022-08-31T15:16:58.181Z"
   },
   {
    "duration": 23,
    "start_time": "2022-08-31T15:17:54.019Z"
   },
   {
    "duration": 23,
    "start_time": "2022-08-31T15:18:23.714Z"
   },
   {
    "duration": 1128,
    "start_time": "2022-08-31T15:21:13.991Z"
   },
   {
    "duration": 141,
    "start_time": "2022-08-31T15:21:15.121Z"
   },
   {
    "duration": 10,
    "start_time": "2022-08-31T15:21:15.263Z"
   },
   {
    "duration": 28,
    "start_time": "2022-08-31T15:21:15.275Z"
   },
   {
    "duration": 3,
    "start_time": "2022-08-31T15:21:15.305Z"
   },
   {
    "duration": 9,
    "start_time": "2022-08-31T15:21:15.309Z"
   },
   {
    "duration": 20,
    "start_time": "2022-08-31T15:21:15.319Z"
   },
   {
    "duration": 119,
    "start_time": "2022-08-31T15:21:15.340Z"
   },
   {
    "duration": 33,
    "start_time": "2022-08-31T15:21:15.461Z"
   },
   {
    "duration": 87,
    "start_time": "2022-08-31T15:21:15.497Z"
   },
   {
    "duration": 97,
    "start_time": "2022-08-31T15:21:15.586Z"
   },
   {
    "duration": 114,
    "start_time": "2022-08-31T15:21:15.685Z"
   },
   {
    "duration": 19,
    "start_time": "2022-08-31T15:21:15.801Z"
   },
   {
    "duration": 34,
    "start_time": "2022-08-31T15:21:15.822Z"
   },
   {
    "duration": 9,
    "start_time": "2022-08-31T15:21:15.858Z"
   },
   {
    "duration": 24,
    "start_time": "2022-08-31T15:21:15.868Z"
   },
   {
    "duration": 30,
    "start_time": "2022-08-31T15:21:15.894Z"
   },
   {
    "duration": 56,
    "start_time": "2022-08-31T15:21:15.926Z"
   },
   {
    "duration": 27,
    "start_time": "2022-08-31T15:21:15.983Z"
   },
   {
    "duration": 4,
    "start_time": "2022-08-31T15:21:16.011Z"
   },
   {
    "duration": 8,
    "start_time": "2022-08-31T15:21:16.017Z"
   },
   {
    "duration": 48,
    "start_time": "2022-08-31T15:21:16.026Z"
   },
   {
    "duration": 14,
    "start_time": "2022-08-31T15:21:16.076Z"
   },
   {
    "duration": 1107,
    "start_time": "2022-08-31T15:21:16.092Z"
   },
   {
    "duration": 5,
    "start_time": "2022-08-31T15:21:17.200Z"
   },
   {
    "duration": 9,
    "start_time": "2022-08-31T15:21:17.206Z"
   },
   {
    "duration": 13,
    "start_time": "2022-08-31T15:21:17.217Z"
   },
   {
    "duration": 233,
    "start_time": "2022-08-31T15:21:17.233Z"
   },
   {
    "duration": 607,
    "start_time": "2022-08-31T15:21:17.468Z"
   },
   {
    "duration": 19,
    "start_time": "2022-08-31T15:21:18.076Z"
   },
   {
    "duration": 4,
    "start_time": "2022-08-31T15:21:18.096Z"
   },
   {
    "duration": 7,
    "start_time": "2022-08-31T15:21:18.101Z"
   },
   {
    "duration": 7,
    "start_time": "2022-08-31T15:21:18.109Z"
   },
   {
    "duration": 5,
    "start_time": "2022-08-31T15:21:18.117Z"
   },
   {
    "duration": 39,
    "start_time": "2022-08-31T15:21:18.123Z"
   },
   {
    "duration": 3,
    "start_time": "2022-08-31T15:21:18.164Z"
   },
   {
    "duration": 20,
    "start_time": "2022-08-31T15:21:18.169Z"
   },
   {
    "duration": 45,
    "start_time": "2022-08-31T15:21:18.191Z"
   },
   {
    "duration": 36,
    "start_time": "2022-08-31T15:21:18.238Z"
   },
   {
    "duration": 61,
    "start_time": "2022-08-31T15:21:18.275Z"
   },
   {
    "duration": 473,
    "start_time": "2022-08-31T15:21:18.338Z"
   },
   {
    "duration": 51,
    "start_time": "2022-08-31T15:21:18.813Z"
   },
   {
    "duration": 9,
    "start_time": "2022-08-31T15:21:18.866Z"
   },
   {
    "duration": 28,
    "start_time": "2022-08-31T15:21:18.876Z"
   },
   {
    "duration": 49,
    "start_time": "2022-08-31T15:21:18.906Z"
   },
   {
    "duration": 8,
    "start_time": "2022-08-31T15:21:18.957Z"
   },
   {
    "duration": 75,
    "start_time": "2022-08-31T15:21:18.967Z"
   },
   {
    "duration": 5,
    "start_time": "2022-08-31T15:21:19.044Z"
   },
   {
    "duration": 113,
    "start_time": "2022-08-31T15:21:19.051Z"
   },
   {
    "duration": 19,
    "start_time": "2022-08-31T15:21:19.165Z"
   },
   {
    "duration": 11,
    "start_time": "2022-08-31T15:21:19.185Z"
   },
   {
    "duration": 18,
    "start_time": "2022-08-31T15:21:19.197Z"
   },
   {
    "duration": 10,
    "start_time": "2022-08-31T15:21:19.217Z"
   },
   {
    "duration": 9,
    "start_time": "2022-08-31T15:21:19.229Z"
   },
   {
    "duration": 20,
    "start_time": "2022-08-31T15:21:19.239Z"
   },
   {
    "duration": 79,
    "start_time": "2022-08-31T15:28:13.239Z"
   },
   {
    "duration": 83,
    "start_time": "2022-08-31T15:28:31.792Z"
   },
   {
    "duration": 81,
    "start_time": "2022-08-31T15:28:38.024Z"
   },
   {
    "duration": 73,
    "start_time": "2022-08-31T15:33:51.086Z"
   },
   {
    "duration": 436,
    "start_time": "2022-08-31T15:37:54.402Z"
   },
   {
    "duration": 961,
    "start_time": "2022-08-31T15:40:43.420Z"
   },
   {
    "duration": 1116,
    "start_time": "2022-08-31T15:42:41.483Z"
   },
   {
    "duration": 139,
    "start_time": "2022-08-31T15:42:42.600Z"
   },
   {
    "duration": 10,
    "start_time": "2022-08-31T15:42:42.740Z"
   },
   {
    "duration": 19,
    "start_time": "2022-08-31T15:42:42.751Z"
   },
   {
    "duration": 13,
    "start_time": "2022-08-31T15:42:42.771Z"
   },
   {
    "duration": 29,
    "start_time": "2022-08-31T15:42:42.785Z"
   },
   {
    "duration": 29,
    "start_time": "2022-08-31T15:42:42.816Z"
   },
   {
    "duration": 106,
    "start_time": "2022-08-31T15:42:42.847Z"
   },
   {
    "duration": 35,
    "start_time": "2022-08-31T15:42:42.955Z"
   },
   {
    "duration": 90,
    "start_time": "2022-08-31T15:42:42.994Z"
   },
   {
    "duration": 91,
    "start_time": "2022-08-31T15:42:43.085Z"
   },
   {
    "duration": 108,
    "start_time": "2022-08-31T15:42:43.178Z"
   },
   {
    "duration": 18,
    "start_time": "2022-08-31T15:42:43.288Z"
   },
   {
    "duration": 23,
    "start_time": "2022-08-31T15:42:43.308Z"
   },
   {
    "duration": 13,
    "start_time": "2022-08-31T15:42:43.332Z"
   },
   {
    "duration": 29,
    "start_time": "2022-08-31T15:42:43.346Z"
   },
   {
    "duration": 24,
    "start_time": "2022-08-31T15:42:43.376Z"
   },
   {
    "duration": 23,
    "start_time": "2022-08-31T15:42:43.401Z"
   },
   {
    "duration": 46,
    "start_time": "2022-08-31T15:42:43.425Z"
   },
   {
    "duration": 3,
    "start_time": "2022-08-31T15:42:43.473Z"
   },
   {
    "duration": 10,
    "start_time": "2022-08-31T15:42:43.478Z"
   },
   {
    "duration": 23,
    "start_time": "2022-08-31T15:42:43.489Z"
   },
   {
    "duration": 13,
    "start_time": "2022-08-31T15:42:43.513Z"
   },
   {
    "duration": 4,
    "start_time": "2022-08-31T15:44:50.487Z"
   },
   {
    "duration": 12,
    "start_time": "2022-08-31T15:44:50.492Z"
   },
   {
    "duration": 14,
    "start_time": "2022-08-31T15:44:50.506Z"
   },
   {
    "duration": 210,
    "start_time": "2022-08-31T15:44:50.523Z"
   },
   {
    "duration": 586,
    "start_time": "2022-08-31T15:44:50.734Z"
   },
   {
    "duration": 21,
    "start_time": "2022-08-31T15:44:51.321Z"
   },
   {
    "duration": 12,
    "start_time": "2022-08-31T15:44:51.344Z"
   },
   {
    "duration": 10,
    "start_time": "2022-08-31T15:44:51.358Z"
   },
   {
    "duration": 5,
    "start_time": "2022-08-31T15:44:51.369Z"
   },
   {
    "duration": 6,
    "start_time": "2022-08-31T15:44:51.376Z"
   },
   {
    "duration": 14,
    "start_time": "2022-08-31T15:44:51.384Z"
   },
   {
    "duration": 3,
    "start_time": "2022-08-31T15:44:51.399Z"
   },
   {
    "duration": 27,
    "start_time": "2022-08-31T15:44:51.404Z"
   },
   {
    "duration": 55,
    "start_time": "2022-08-31T15:44:51.433Z"
   },
   {
    "duration": 18,
    "start_time": "2022-08-31T15:44:51.489Z"
   },
   {
    "duration": 62,
    "start_time": "2022-08-31T15:44:51.509Z"
   },
   {
    "duration": 323,
    "start_time": "2022-08-31T15:44:51.572Z"
   },
   {
    "duration": 60,
    "start_time": "2022-08-31T15:44:51.896Z"
   },
   {
    "duration": 10,
    "start_time": "2022-08-31T15:44:51.957Z"
   },
   {
    "duration": 34,
    "start_time": "2022-08-31T15:44:51.968Z"
   },
   {
    "duration": 34,
    "start_time": "2022-08-31T15:44:52.004Z"
   },
   {
    "duration": 20,
    "start_time": "2022-08-31T15:44:52.039Z"
   },
   {
    "duration": 50,
    "start_time": "2022-08-31T15:44:52.061Z"
   },
   {
    "duration": 4,
    "start_time": "2022-08-31T15:44:52.112Z"
   },
   {
    "duration": 96,
    "start_time": "2022-08-31T15:44:52.117Z"
   },
   {
    "duration": 17,
    "start_time": "2022-08-31T15:44:52.215Z"
   },
   {
    "duration": 12,
    "start_time": "2022-08-31T15:44:52.234Z"
   },
   {
    "duration": 21,
    "start_time": "2022-08-31T15:44:52.248Z"
   },
   {
    "duration": 22,
    "start_time": "2022-08-31T15:44:52.271Z"
   },
   {
    "duration": 13,
    "start_time": "2022-08-31T15:44:52.294Z"
   },
   {
    "duration": 19,
    "start_time": "2022-08-31T15:44:52.308Z"
   },
   {
    "duration": 129977,
    "start_time": "2022-08-31T15:44:52.328Z"
   },
   {
    "duration": 130718,
    "start_time": "2022-08-31T15:48:14.170Z"
   },
   {
    "duration": 131951,
    "start_time": "2022-08-31T15:54:50.790Z"
   },
   {
    "duration": 3,
    "start_time": "2022-08-31T15:58:20.451Z"
   },
   {
    "duration": 1213,
    "start_time": "2022-08-31T15:58:32.999Z"
   },
   {
    "duration": 150,
    "start_time": "2022-08-31T15:58:34.214Z"
   },
   {
    "duration": 10,
    "start_time": "2022-08-31T15:58:34.366Z"
   },
   {
    "duration": 30,
    "start_time": "2022-08-31T15:58:34.378Z"
   },
   {
    "duration": 4,
    "start_time": "2022-08-31T15:58:34.410Z"
   },
   {
    "duration": 11,
    "start_time": "2022-08-31T15:58:34.415Z"
   },
   {
    "duration": 32,
    "start_time": "2022-08-31T15:58:34.428Z"
   },
   {
    "duration": 114,
    "start_time": "2022-08-31T15:58:34.461Z"
   },
   {
    "duration": 35,
    "start_time": "2022-08-31T15:58:34.577Z"
   },
   {
    "duration": 86,
    "start_time": "2022-08-31T15:58:34.616Z"
   },
   {
    "duration": 91,
    "start_time": "2022-08-31T15:58:34.704Z"
   },
   {
    "duration": 104,
    "start_time": "2022-08-31T15:58:34.796Z"
   },
   {
    "duration": 18,
    "start_time": "2022-08-31T15:58:34.901Z"
   },
   {
    "duration": 17,
    "start_time": "2022-08-31T15:58:34.921Z"
   },
   {
    "duration": 22,
    "start_time": "2022-08-31T15:58:34.940Z"
   },
   {
    "duration": 24,
    "start_time": "2022-08-31T15:58:34.964Z"
   },
   {
    "duration": 27,
    "start_time": "2022-08-31T15:58:34.990Z"
   },
   {
    "duration": 42,
    "start_time": "2022-08-31T15:58:35.018Z"
   },
   {
    "duration": 25,
    "start_time": "2022-08-31T15:58:35.062Z"
   },
   {
    "duration": 3,
    "start_time": "2022-08-31T15:58:35.089Z"
   },
   {
    "duration": 9,
    "start_time": "2022-08-31T15:58:35.094Z"
   },
   {
    "duration": 23,
    "start_time": "2022-08-31T15:58:35.105Z"
   },
   {
    "duration": 40,
    "start_time": "2022-08-31T15:58:35.129Z"
   },
   {
    "duration": 36,
    "start_time": "2022-08-31T15:58:35.170Z"
   },
   {
    "duration": 0,
    "start_time": "2022-08-31T15:58:35.209Z"
   },
   {
    "duration": 0,
    "start_time": "2022-08-31T15:58:35.210Z"
   },
   {
    "duration": 0,
    "start_time": "2022-08-31T15:58:35.211Z"
   },
   {
    "duration": 0,
    "start_time": "2022-08-31T15:58:35.212Z"
   },
   {
    "duration": 0,
    "start_time": "2022-08-31T15:58:35.213Z"
   },
   {
    "duration": 0,
    "start_time": "2022-08-31T15:58:35.214Z"
   },
   {
    "duration": 0,
    "start_time": "2022-08-31T15:58:35.215Z"
   },
   {
    "duration": 0,
    "start_time": "2022-08-31T15:58:35.216Z"
   },
   {
    "duration": 0,
    "start_time": "2022-08-31T15:58:35.217Z"
   },
   {
    "duration": 0,
    "start_time": "2022-08-31T15:58:35.218Z"
   },
   {
    "duration": 0,
    "start_time": "2022-08-31T15:58:35.219Z"
   },
   {
    "duration": 0,
    "start_time": "2022-08-31T15:58:35.220Z"
   },
   {
    "duration": 0,
    "start_time": "2022-08-31T15:58:35.221Z"
   },
   {
    "duration": 0,
    "start_time": "2022-08-31T15:58:35.222Z"
   },
   {
    "duration": 0,
    "start_time": "2022-08-31T15:58:35.223Z"
   },
   {
    "duration": 0,
    "start_time": "2022-08-31T15:58:35.225Z"
   },
   {
    "duration": 0,
    "start_time": "2022-08-31T15:58:35.226Z"
   },
   {
    "duration": 0,
    "start_time": "2022-08-31T15:58:35.226Z"
   },
   {
    "duration": 0,
    "start_time": "2022-08-31T15:58:35.228Z"
   },
   {
    "duration": 0,
    "start_time": "2022-08-31T15:58:35.229Z"
   },
   {
    "duration": 0,
    "start_time": "2022-08-31T15:58:35.230Z"
   },
   {
    "duration": 0,
    "start_time": "2022-08-31T15:58:35.231Z"
   },
   {
    "duration": 0,
    "start_time": "2022-08-31T15:58:35.232Z"
   },
   {
    "duration": 0,
    "start_time": "2022-08-31T15:58:35.232Z"
   },
   {
    "duration": 0,
    "start_time": "2022-08-31T15:58:35.255Z"
   },
   {
    "duration": 0,
    "start_time": "2022-08-31T15:58:35.256Z"
   },
   {
    "duration": 0,
    "start_time": "2022-08-31T15:58:35.257Z"
   },
   {
    "duration": 0,
    "start_time": "2022-08-31T15:58:35.258Z"
   },
   {
    "duration": 0,
    "start_time": "2022-08-31T15:58:35.259Z"
   },
   {
    "duration": 0,
    "start_time": "2022-08-31T15:58:35.260Z"
   },
   {
    "duration": 0,
    "start_time": "2022-08-31T15:58:35.260Z"
   },
   {
    "duration": 0,
    "start_time": "2022-08-31T15:58:35.261Z"
   },
   {
    "duration": 128,
    "start_time": "2022-08-31T16:09:22.979Z"
   },
   {
    "duration": 128278,
    "start_time": "2022-08-31T16:11:36.110Z"
   },
   {
    "duration": 1153,
    "start_time": "2022-08-31T16:25:17.105Z"
   },
   {
    "duration": 161,
    "start_time": "2022-08-31T16:25:18.260Z"
   },
   {
    "duration": 11,
    "start_time": "2022-08-31T16:25:18.422Z"
   },
   {
    "duration": 25,
    "start_time": "2022-08-31T16:25:18.434Z"
   },
   {
    "duration": 4,
    "start_time": "2022-08-31T16:25:18.460Z"
   },
   {
    "duration": 10,
    "start_time": "2022-08-31T16:25:18.465Z"
   },
   {
    "duration": 24,
    "start_time": "2022-08-31T16:25:18.477Z"
   },
   {
    "duration": 146,
    "start_time": "2022-08-31T16:25:18.502Z"
   },
   {
    "duration": 36,
    "start_time": "2022-08-31T16:25:18.649Z"
   },
   {
    "duration": 87,
    "start_time": "2022-08-31T16:25:18.687Z"
   },
   {
    "duration": 98,
    "start_time": "2022-08-31T16:25:18.776Z"
   },
   {
    "duration": 118,
    "start_time": "2022-08-31T16:25:18.876Z"
   },
   {
    "duration": 21,
    "start_time": "2022-08-31T16:25:18.996Z"
   },
   {
    "duration": 20,
    "start_time": "2022-08-31T16:25:19.019Z"
   },
   {
    "duration": 18,
    "start_time": "2022-08-31T16:25:19.040Z"
   },
   {
    "duration": 25,
    "start_time": "2022-08-31T16:25:19.059Z"
   },
   {
    "duration": 27,
    "start_time": "2022-08-31T16:25:19.085Z"
   },
   {
    "duration": 49,
    "start_time": "2022-08-31T16:25:19.113Z"
   },
   {
    "duration": 27,
    "start_time": "2022-08-31T16:25:19.163Z"
   },
   {
    "duration": 4,
    "start_time": "2022-08-31T16:25:19.192Z"
   },
   {
    "duration": 10,
    "start_time": "2022-08-31T16:25:19.197Z"
   },
   {
    "duration": 47,
    "start_time": "2022-08-31T16:25:19.209Z"
   },
   {
    "duration": 13,
    "start_time": "2022-08-31T16:25:19.258Z"
   },
   {
    "duration": 126785,
    "start_time": "2022-08-31T16:25:19.272Z"
   },
   {
    "duration": 4,
    "start_time": "2022-08-31T16:27:26.059Z"
   },
   {
    "duration": 7,
    "start_time": "2022-08-31T16:27:26.065Z"
   },
   {
    "duration": 16,
    "start_time": "2022-08-31T16:27:26.074Z"
   },
   {
    "duration": 209,
    "start_time": "2022-08-31T16:27:26.093Z"
   },
   {
    "duration": 597,
    "start_time": "2022-08-31T16:27:26.304Z"
   },
   {
    "duration": 22,
    "start_time": "2022-08-31T16:27:26.903Z"
   },
   {
    "duration": 3,
    "start_time": "2022-08-31T16:27:26.926Z"
   },
   {
    "duration": 5,
    "start_time": "2022-08-31T16:27:26.931Z"
   },
   {
    "duration": 4,
    "start_time": "2022-08-31T16:27:26.954Z"
   },
   {
    "duration": 7,
    "start_time": "2022-08-31T16:27:26.959Z"
   },
   {
    "duration": 12,
    "start_time": "2022-08-31T16:27:26.967Z"
   },
   {
    "duration": 3,
    "start_time": "2022-08-31T16:27:26.981Z"
   },
   {
    "duration": 21,
    "start_time": "2022-08-31T16:27:26.986Z"
   },
   {
    "duration": 59,
    "start_time": "2022-08-31T16:27:27.008Z"
   },
   {
    "duration": 19,
    "start_time": "2022-08-31T16:27:27.068Z"
   },
   {
    "duration": 67,
    "start_time": "2022-08-31T16:27:27.088Z"
   },
   {
    "duration": 367,
    "start_time": "2022-08-31T16:27:27.156Z"
   },
   {
    "duration": 40,
    "start_time": "2022-08-31T16:27:27.525Z"
   },
   {
    "duration": 10,
    "start_time": "2022-08-31T16:27:27.566Z"
   },
   {
    "duration": 15,
    "start_time": "2022-08-31T16:27:27.577Z"
   },
   {
    "duration": 22,
    "start_time": "2022-08-31T16:27:27.594Z"
   },
   {
    "duration": 43,
    "start_time": "2022-08-31T16:27:27.618Z"
   },
   {
    "duration": 40,
    "start_time": "2022-08-31T16:27:27.662Z"
   },
   {
    "duration": 4,
    "start_time": "2022-08-31T16:27:27.703Z"
   },
   {
    "duration": 115,
    "start_time": "2022-08-31T16:27:27.708Z"
   },
   {
    "duration": 18,
    "start_time": "2022-08-31T16:27:27.824Z"
   },
   {
    "duration": 13,
    "start_time": "2022-08-31T16:27:27.843Z"
   },
   {
    "duration": 23,
    "start_time": "2022-08-31T16:27:27.858Z"
   },
   {
    "duration": 8,
    "start_time": "2022-08-31T16:27:27.882Z"
   },
   {
    "duration": 10,
    "start_time": "2022-08-31T16:27:27.892Z"
   },
   {
    "duration": 12,
    "start_time": "2022-08-31T16:27:27.903Z"
   },
   {
    "duration": 1156,
    "start_time": "2022-08-31T16:33:41.058Z"
   },
   {
    "duration": 140,
    "start_time": "2022-08-31T16:33:42.215Z"
   },
   {
    "duration": 9,
    "start_time": "2022-08-31T16:33:42.357Z"
   },
   {
    "duration": 17,
    "start_time": "2022-08-31T16:33:42.368Z"
   },
   {
    "duration": 3,
    "start_time": "2022-08-31T16:33:42.386Z"
   },
   {
    "duration": 8,
    "start_time": "2022-08-31T16:33:42.390Z"
   },
   {
    "duration": 18,
    "start_time": "2022-08-31T16:33:42.399Z"
   },
   {
    "duration": 127,
    "start_time": "2022-08-31T16:33:42.418Z"
   },
   {
    "duration": 32,
    "start_time": "2022-08-31T16:33:42.555Z"
   },
   {
    "duration": 83,
    "start_time": "2022-08-31T16:33:42.589Z"
   },
   {
    "duration": 94,
    "start_time": "2022-08-31T16:33:42.673Z"
   },
   {
    "duration": 103,
    "start_time": "2022-08-31T16:33:42.768Z"
   },
   {
    "duration": 17,
    "start_time": "2022-08-31T16:33:42.873Z"
   },
   {
    "duration": 22,
    "start_time": "2022-08-31T16:33:42.891Z"
   },
   {
    "duration": 12,
    "start_time": "2022-08-31T16:33:42.914Z"
   },
   {
    "duration": 34,
    "start_time": "2022-08-31T16:33:42.927Z"
   },
   {
    "duration": 24,
    "start_time": "2022-08-31T16:33:42.963Z"
   },
   {
    "duration": 24,
    "start_time": "2022-08-31T16:33:42.988Z"
   },
   {
    "duration": 48,
    "start_time": "2022-08-31T16:33:43.014Z"
   },
   {
    "duration": 4,
    "start_time": "2022-08-31T16:33:43.063Z"
   },
   {
    "duration": 9,
    "start_time": "2022-08-31T16:33:43.069Z"
   },
   {
    "duration": 21,
    "start_time": "2022-08-31T16:33:43.080Z"
   },
   {
    "duration": 12,
    "start_time": "2022-08-31T16:33:43.103Z"
   },
   {
    "duration": 5,
    "start_time": "2022-08-31T16:35:50.693Z"
   },
   {
    "duration": 6,
    "start_time": "2022-08-31T16:35:50.699Z"
   },
   {
    "duration": 13,
    "start_time": "2022-08-31T16:35:50.707Z"
   },
   {
    "duration": 218,
    "start_time": "2022-08-31T16:35:50.723Z"
   },
   {
    "duration": 600,
    "start_time": "2022-08-31T16:35:50.943Z"
   },
   {
    "duration": 25,
    "start_time": "2022-08-31T16:35:51.544Z"
   },
   {
    "duration": 4,
    "start_time": "2022-08-31T16:35:51.570Z"
   },
   {
    "duration": 5,
    "start_time": "2022-08-31T16:35:51.575Z"
   },
   {
    "duration": 5,
    "start_time": "2022-08-31T16:35:51.581Z"
   },
   {
    "duration": 4,
    "start_time": "2022-08-31T16:35:51.588Z"
   },
   {
    "duration": 11,
    "start_time": "2022-08-31T16:35:51.593Z"
   },
   {
    "duration": 4,
    "start_time": "2022-08-31T16:35:51.605Z"
   },
   {
    "duration": 53,
    "start_time": "2022-08-31T16:35:51.611Z"
   },
   {
    "duration": 41,
    "start_time": "2022-08-31T16:35:51.665Z"
   },
   {
    "duration": 20,
    "start_time": "2022-08-31T16:35:51.708Z"
   },
   {
    "duration": 76,
    "start_time": "2022-08-31T16:35:51.729Z"
   },
   {
    "duration": 322,
    "start_time": "2022-08-31T16:35:51.807Z"
   },
   {
    "duration": 45,
    "start_time": "2022-08-31T16:35:52.130Z"
   },
   {
    "duration": 8,
    "start_time": "2022-08-31T16:35:52.177Z"
   },
   {
    "duration": 10,
    "start_time": "2022-08-31T16:35:52.186Z"
   },
   {
    "duration": 13,
    "start_time": "2022-08-31T16:35:52.198Z"
   },
   {
    "duration": 7,
    "start_time": "2022-08-31T16:35:52.255Z"
   },
   {
    "duration": 40,
    "start_time": "2022-08-31T16:35:52.263Z"
   },
   {
    "duration": 4,
    "start_time": "2022-08-31T16:35:52.304Z"
   },
   {
    "duration": 110,
    "start_time": "2022-08-31T16:35:52.309Z"
   },
   {
    "duration": 17,
    "start_time": "2022-08-31T16:35:52.420Z"
   },
   {
    "duration": 17,
    "start_time": "2022-08-31T16:35:52.439Z"
   },
   {
    "duration": 12,
    "start_time": "2022-08-31T16:35:52.457Z"
   },
   {
    "duration": 7,
    "start_time": "2022-08-31T16:35:52.471Z"
   },
   {
    "duration": 9,
    "start_time": "2022-08-31T16:35:52.479Z"
   },
   {
    "duration": 9,
    "start_time": "2022-08-31T16:35:52.489Z"
   },
   {
    "duration": 130019,
    "start_time": "2022-08-31T16:38:01.661Z"
   },
   {
    "duration": 110,
    "start_time": "2022-08-31T16:40:14.225Z"
   },
   {
    "duration": 107,
    "start_time": "2022-08-31T16:40:20.636Z"
   },
   {
    "duration": 1085,
    "start_time": "2022-08-31T16:42:13.819Z"
   },
   {
    "duration": 144,
    "start_time": "2022-08-31T16:42:14.906Z"
   },
   {
    "duration": 10,
    "start_time": "2022-08-31T16:42:15.051Z"
   },
   {
    "duration": 19,
    "start_time": "2022-08-31T16:42:15.063Z"
   },
   {
    "duration": 3,
    "start_time": "2022-08-31T16:42:15.084Z"
   },
   {
    "duration": 15,
    "start_time": "2022-08-31T16:42:15.088Z"
   },
   {
    "duration": 21,
    "start_time": "2022-08-31T16:42:15.104Z"
   },
   {
    "duration": 122,
    "start_time": "2022-08-31T16:42:15.126Z"
   },
   {
    "duration": 35,
    "start_time": "2022-08-31T16:42:15.250Z"
   },
   {
    "duration": 80,
    "start_time": "2022-08-31T16:42:15.287Z"
   },
   {
    "duration": 93,
    "start_time": "2022-08-31T16:42:15.368Z"
   },
   {
    "duration": 103,
    "start_time": "2022-08-31T16:42:15.463Z"
   },
   {
    "duration": 17,
    "start_time": "2022-08-31T16:42:15.567Z"
   },
   {
    "duration": 20,
    "start_time": "2022-08-31T16:42:15.586Z"
   },
   {
    "duration": 11,
    "start_time": "2022-08-31T16:42:15.608Z"
   },
   {
    "duration": 38,
    "start_time": "2022-08-31T16:42:15.621Z"
   },
   {
    "duration": 27,
    "start_time": "2022-08-31T16:42:15.660Z"
   },
   {
    "duration": 25,
    "start_time": "2022-08-31T16:42:15.688Z"
   },
   {
    "duration": 45,
    "start_time": "2022-08-31T16:42:15.715Z"
   },
   {
    "duration": 3,
    "start_time": "2022-08-31T16:42:15.762Z"
   },
   {
    "duration": 13,
    "start_time": "2022-08-31T16:42:15.767Z"
   },
   {
    "duration": 25,
    "start_time": "2022-08-31T16:42:15.781Z"
   },
   {
    "duration": 14,
    "start_time": "2022-08-31T16:42:15.807Z"
   },
   {
    "duration": 151,
    "start_time": "2022-08-31T16:42:15.822Z"
   },
   {
    "duration": 1121,
    "start_time": "2022-08-31T16:43:02.878Z"
   },
   {
    "duration": 138,
    "start_time": "2022-08-31T16:43:04.000Z"
   },
   {
    "duration": 10,
    "start_time": "2022-08-31T16:43:04.140Z"
   },
   {
    "duration": 17,
    "start_time": "2022-08-31T16:43:04.154Z"
   },
   {
    "duration": 3,
    "start_time": "2022-08-31T16:43:04.172Z"
   },
   {
    "duration": 8,
    "start_time": "2022-08-31T16:43:04.177Z"
   },
   {
    "duration": 18,
    "start_time": "2022-08-31T16:43:04.186Z"
   },
   {
    "duration": 120,
    "start_time": "2022-08-31T16:43:04.206Z"
   },
   {
    "duration": 43,
    "start_time": "2022-08-31T16:43:04.327Z"
   },
   {
    "duration": 68,
    "start_time": "2022-08-31T16:43:04.372Z"
   },
   {
    "duration": 92,
    "start_time": "2022-08-31T16:43:04.442Z"
   },
   {
    "duration": 106,
    "start_time": "2022-08-31T16:43:04.536Z"
   },
   {
    "duration": 20,
    "start_time": "2022-08-31T16:43:04.643Z"
   },
   {
    "duration": 18,
    "start_time": "2022-08-31T16:43:04.665Z"
   },
   {
    "duration": 9,
    "start_time": "2022-08-31T16:43:04.684Z"
   },
   {
    "duration": 24,
    "start_time": "2022-08-31T16:43:04.694Z"
   },
   {
    "duration": 42,
    "start_time": "2022-08-31T16:43:04.719Z"
   },
   {
    "duration": 22,
    "start_time": "2022-08-31T16:43:04.763Z"
   },
   {
    "duration": 25,
    "start_time": "2022-08-31T16:43:04.786Z"
   },
   {
    "duration": 3,
    "start_time": "2022-08-31T16:43:04.812Z"
   },
   {
    "duration": 7,
    "start_time": "2022-08-31T16:43:04.817Z"
   },
   {
    "duration": 42,
    "start_time": "2022-08-31T16:43:04.826Z"
   },
   {
    "duration": 12,
    "start_time": "2022-08-31T16:43:04.870Z"
   },
   {
    "duration": 177,
    "start_time": "2022-08-31T16:43:04.883Z"
   },
   {
    "duration": 1111,
    "start_time": "2022-08-31T16:43:41.680Z"
   },
   {
    "duration": 139,
    "start_time": "2022-08-31T16:43:42.793Z"
   },
   {
    "duration": 10,
    "start_time": "2022-08-31T16:43:42.933Z"
   },
   {
    "duration": 26,
    "start_time": "2022-08-31T16:43:42.944Z"
   },
   {
    "duration": 3,
    "start_time": "2022-08-31T16:43:42.972Z"
   },
   {
    "duration": 19,
    "start_time": "2022-08-31T16:43:42.976Z"
   },
   {
    "duration": 37,
    "start_time": "2022-08-31T16:43:42.996Z"
   },
   {
    "duration": 117,
    "start_time": "2022-08-31T16:43:43.035Z"
   },
   {
    "duration": 33,
    "start_time": "2022-08-31T16:43:43.153Z"
   },
   {
    "duration": 80,
    "start_time": "2022-08-31T16:43:43.188Z"
   },
   {
    "duration": 90,
    "start_time": "2022-08-31T16:43:43.269Z"
   },
   {
    "duration": 101,
    "start_time": "2022-08-31T16:43:43.360Z"
   },
   {
    "duration": 17,
    "start_time": "2022-08-31T16:43:43.463Z"
   },
   {
    "duration": 24,
    "start_time": "2022-08-31T16:43:43.482Z"
   },
   {
    "duration": 13,
    "start_time": "2022-08-31T16:43:43.507Z"
   },
   {
    "duration": 37,
    "start_time": "2022-08-31T16:43:43.521Z"
   },
   {
    "duration": 25,
    "start_time": "2022-08-31T16:43:43.560Z"
   },
   {
    "duration": 26,
    "start_time": "2022-08-31T16:43:43.586Z"
   },
   {
    "duration": 44,
    "start_time": "2022-08-31T16:43:43.614Z"
   },
   {
    "duration": 3,
    "start_time": "2022-08-31T16:43:43.659Z"
   },
   {
    "duration": 28,
    "start_time": "2022-08-31T16:43:43.663Z"
   },
   {
    "duration": 28,
    "start_time": "2022-08-31T16:43:43.692Z"
   },
   {
    "duration": 13,
    "start_time": "2022-08-31T16:43:43.721Z"
   },
   {
    "duration": 163,
    "start_time": "2022-08-31T16:43:43.735Z"
   },
   {
    "duration": 1145,
    "start_time": "2022-08-31T16:44:12.868Z"
   },
   {
    "duration": 141,
    "start_time": "2022-08-31T16:44:14.015Z"
   },
   {
    "duration": 11,
    "start_time": "2022-08-31T16:44:14.157Z"
   },
   {
    "duration": 17,
    "start_time": "2022-08-31T16:44:14.170Z"
   },
   {
    "duration": 3,
    "start_time": "2022-08-31T16:44:14.190Z"
   },
   {
    "duration": 9,
    "start_time": "2022-08-31T16:44:14.195Z"
   },
   {
    "duration": 18,
    "start_time": "2022-08-31T16:44:14.206Z"
   },
   {
    "duration": 136,
    "start_time": "2022-08-31T16:44:14.226Z"
   },
   {
    "duration": 34,
    "start_time": "2022-08-31T16:44:14.364Z"
   },
   {
    "duration": 87,
    "start_time": "2022-08-31T16:44:14.399Z"
   },
   {
    "duration": 92,
    "start_time": "2022-08-31T16:44:14.488Z"
   },
   {
    "duration": 114,
    "start_time": "2022-08-31T16:44:14.582Z"
   },
   {
    "duration": 18,
    "start_time": "2022-08-31T16:44:14.697Z"
   },
   {
    "duration": 18,
    "start_time": "2022-08-31T16:44:14.718Z"
   },
   {
    "duration": 24,
    "start_time": "2022-08-31T16:44:14.737Z"
   },
   {
    "duration": 25,
    "start_time": "2022-08-31T16:44:14.763Z"
   },
   {
    "duration": 25,
    "start_time": "2022-08-31T16:44:14.789Z"
   },
   {
    "duration": 43,
    "start_time": "2022-08-31T16:44:14.815Z"
   },
   {
    "duration": 25,
    "start_time": "2022-08-31T16:44:14.859Z"
   },
   {
    "duration": 4,
    "start_time": "2022-08-31T16:44:14.886Z"
   },
   {
    "duration": 8,
    "start_time": "2022-08-31T16:44:14.892Z"
   },
   {
    "duration": 22,
    "start_time": "2022-08-31T16:44:14.902Z"
   },
   {
    "duration": 41,
    "start_time": "2022-08-31T16:44:14.926Z"
   },
   {
    "duration": 181,
    "start_time": "2022-08-31T16:44:14.969Z"
   },
   {
    "duration": 1160,
    "start_time": "2022-08-31T16:45:08.554Z"
   },
   {
    "duration": 139,
    "start_time": "2022-08-31T16:45:09.716Z"
   },
   {
    "duration": 10,
    "start_time": "2022-08-31T16:45:09.857Z"
   },
   {
    "duration": 17,
    "start_time": "2022-08-31T16:45:09.868Z"
   },
   {
    "duration": 3,
    "start_time": "2022-08-31T16:45:09.886Z"
   },
   {
    "duration": 9,
    "start_time": "2022-08-31T16:45:09.890Z"
   },
   {
    "duration": 19,
    "start_time": "2022-08-31T16:45:09.900Z"
   },
   {
    "duration": 117,
    "start_time": "2022-08-31T16:45:09.920Z"
   },
   {
    "duration": 43,
    "start_time": "2022-08-31T16:45:10.039Z"
   },
   {
    "duration": 82,
    "start_time": "2022-08-31T16:45:10.084Z"
   },
   {
    "duration": 104,
    "start_time": "2022-08-31T16:45:10.167Z"
   },
   {
    "duration": 123,
    "start_time": "2022-08-31T16:45:10.272Z"
   },
   {
    "duration": 23,
    "start_time": "2022-08-31T16:45:10.396Z"
   },
   {
    "duration": 40,
    "start_time": "2022-08-31T16:45:10.422Z"
   },
   {
    "duration": 15,
    "start_time": "2022-08-31T16:45:10.463Z"
   },
   {
    "duration": 26,
    "start_time": "2022-08-31T16:45:10.479Z"
   },
   {
    "duration": 24,
    "start_time": "2022-08-31T16:45:10.507Z"
   },
   {
    "duration": 38,
    "start_time": "2022-08-31T16:45:10.533Z"
   },
   {
    "duration": 23,
    "start_time": "2022-08-31T16:45:10.572Z"
   },
   {
    "duration": 4,
    "start_time": "2022-08-31T16:45:10.597Z"
   },
   {
    "duration": 8,
    "start_time": "2022-08-31T16:45:10.602Z"
   },
   {
    "duration": 47,
    "start_time": "2022-08-31T16:45:10.611Z"
   },
   {
    "duration": 12,
    "start_time": "2022-08-31T16:45:10.660Z"
   },
   {
    "duration": 151,
    "start_time": "2022-08-31T16:45:10.673Z"
   },
   {
    "duration": 1117,
    "start_time": "2022-08-31T16:46:38.603Z"
   },
   {
    "duration": 139,
    "start_time": "2022-08-31T16:46:39.722Z"
   },
   {
    "duration": 10,
    "start_time": "2022-08-31T16:46:39.863Z"
   },
   {
    "duration": 16,
    "start_time": "2022-08-31T16:46:39.874Z"
   },
   {
    "duration": 3,
    "start_time": "2022-08-31T16:46:39.892Z"
   },
   {
    "duration": 8,
    "start_time": "2022-08-31T16:46:39.896Z"
   },
   {
    "duration": 19,
    "start_time": "2022-08-31T16:46:39.905Z"
   },
   {
    "duration": 130,
    "start_time": "2022-08-31T16:46:39.926Z"
   },
   {
    "duration": 32,
    "start_time": "2022-08-31T16:46:40.057Z"
   },
   {
    "duration": 85,
    "start_time": "2022-08-31T16:46:40.092Z"
   },
   {
    "duration": 96,
    "start_time": "2022-08-31T16:46:40.179Z"
   },
   {
    "duration": 120,
    "start_time": "2022-08-31T16:46:40.277Z"
   },
   {
    "duration": 19,
    "start_time": "2022-08-31T16:46:40.398Z"
   },
   {
    "duration": 18,
    "start_time": "2022-08-31T16:46:40.418Z"
   },
   {
    "duration": 22,
    "start_time": "2022-08-31T16:46:40.438Z"
   },
   {
    "duration": 21,
    "start_time": "2022-08-31T16:46:40.462Z"
   },
   {
    "duration": 25,
    "start_time": "2022-08-31T16:46:40.485Z"
   },
   {
    "duration": 44,
    "start_time": "2022-08-31T16:46:40.511Z"
   },
   {
    "duration": 23,
    "start_time": "2022-08-31T16:46:40.557Z"
   },
   {
    "duration": 4,
    "start_time": "2022-08-31T16:46:40.581Z"
   },
   {
    "duration": 9,
    "start_time": "2022-08-31T16:46:40.586Z"
   },
   {
    "duration": 20,
    "start_time": "2022-08-31T16:46:40.596Z"
   },
   {
    "duration": 37,
    "start_time": "2022-08-31T16:46:40.618Z"
   },
   {
    "duration": 136,
    "start_time": "2022-08-31T16:46:40.657Z"
   },
   {
    "duration": 134,
    "start_time": "2022-08-31T16:46:40.795Z"
   },
   {
    "duration": 3,
    "start_time": "2022-08-31T16:46:40.930Z"
   },
   {
    "duration": 8,
    "start_time": "2022-08-31T16:46:40.934Z"
   },
   {
    "duration": 4,
    "start_time": "2022-08-31T16:46:40.955Z"
   },
   {
    "duration": 13,
    "start_time": "2022-08-31T16:46:40.960Z"
   },
   {
    "duration": 210,
    "start_time": "2022-08-31T16:46:40.974Z"
   },
   {
    "duration": 546,
    "start_time": "2022-08-31T16:46:41.186Z"
   },
   {
    "duration": 22,
    "start_time": "2022-08-31T16:46:41.733Z"
   },
   {
    "duration": 4,
    "start_time": "2022-08-31T16:46:41.756Z"
   },
   {
    "duration": 5,
    "start_time": "2022-08-31T16:46:41.761Z"
   },
   {
    "duration": 5,
    "start_time": "2022-08-31T16:46:41.767Z"
   },
   {
    "duration": 5,
    "start_time": "2022-08-31T16:46:41.774Z"
   },
   {
    "duration": 11,
    "start_time": "2022-08-31T16:46:41.780Z"
   },
   {
    "duration": 3,
    "start_time": "2022-08-31T16:46:41.793Z"
   },
   {
    "duration": 17,
    "start_time": "2022-08-31T16:46:41.797Z"
   },
   {
    "duration": 63,
    "start_time": "2022-08-31T16:46:41.816Z"
   },
   {
    "duration": 18,
    "start_time": "2022-08-31T16:46:41.881Z"
   },
   {
    "duration": 135,
    "start_time": "2022-08-31T16:46:41.900Z"
   },
   {
    "duration": 315,
    "start_time": "2022-08-31T16:46:42.037Z"
   },
   {
    "duration": 36,
    "start_time": "2022-08-31T16:46:42.354Z"
   },
   {
    "duration": 9,
    "start_time": "2022-08-31T16:46:42.391Z"
   },
   {
    "duration": 60,
    "start_time": "2022-08-31T16:46:42.402Z"
   },
   {
    "duration": 11,
    "start_time": "2022-08-31T16:46:42.464Z"
   },
   {
    "duration": 7,
    "start_time": "2022-08-31T16:46:42.476Z"
   },
   {
    "duration": 38,
    "start_time": "2022-08-31T16:46:42.485Z"
   },
   {
    "duration": 31,
    "start_time": "2022-08-31T16:46:42.524Z"
   },
   {
    "duration": 98,
    "start_time": "2022-08-31T16:46:42.557Z"
   },
   {
    "duration": 16,
    "start_time": "2022-08-31T16:46:42.657Z"
   },
   {
    "duration": 7,
    "start_time": "2022-08-31T16:46:42.674Z"
   },
   {
    "duration": 13,
    "start_time": "2022-08-31T16:46:42.682Z"
   },
   {
    "duration": 8,
    "start_time": "2022-08-31T16:46:42.696Z"
   },
   {
    "duration": 8,
    "start_time": "2022-08-31T16:46:42.705Z"
   },
   {
    "duration": 7,
    "start_time": "2022-08-31T16:46:42.715Z"
   },
   {
    "duration": 127,
    "start_time": "2022-08-31T16:48:17.027Z"
   },
   {
    "duration": 1161,
    "start_time": "2022-08-31T16:50:57.240Z"
   },
   {
    "duration": 141,
    "start_time": "2022-08-31T16:50:58.402Z"
   },
   {
    "duration": 14,
    "start_time": "2022-08-31T16:50:58.544Z"
   },
   {
    "duration": 16,
    "start_time": "2022-08-31T16:50:58.560Z"
   },
   {
    "duration": 2,
    "start_time": "2022-08-31T16:50:58.578Z"
   },
   {
    "duration": 8,
    "start_time": "2022-08-31T16:50:58.582Z"
   },
   {
    "duration": 18,
    "start_time": "2022-08-31T16:50:58.592Z"
   },
   {
    "duration": 123,
    "start_time": "2022-08-31T16:50:58.611Z"
   },
   {
    "duration": 43,
    "start_time": "2022-08-31T16:50:58.736Z"
   },
   {
    "duration": 74,
    "start_time": "2022-08-31T16:50:58.781Z"
   },
   {
    "duration": 84,
    "start_time": "2022-08-31T16:50:58.857Z"
   },
   {
    "duration": 104,
    "start_time": "2022-08-31T16:50:58.942Z"
   },
   {
    "duration": 18,
    "start_time": "2022-08-31T16:50:59.054Z"
   },
   {
    "duration": 19,
    "start_time": "2022-08-31T16:50:59.073Z"
   },
   {
    "duration": 10,
    "start_time": "2022-08-31T16:50:59.093Z"
   },
   {
    "duration": 23,
    "start_time": "2022-08-31T16:50:59.104Z"
   },
   {
    "duration": 49,
    "start_time": "2022-08-31T16:50:59.129Z"
   },
   {
    "duration": 24,
    "start_time": "2022-08-31T16:50:59.179Z"
   },
   {
    "duration": 24,
    "start_time": "2022-08-31T16:50:59.205Z"
   },
   {
    "duration": 3,
    "start_time": "2022-08-31T16:50:59.230Z"
   },
   {
    "duration": 22,
    "start_time": "2022-08-31T16:50:59.235Z"
   },
   {
    "duration": 21,
    "start_time": "2022-08-31T16:50:59.258Z"
   },
   {
    "duration": 13,
    "start_time": "2022-08-31T16:50:59.281Z"
   },
   {
    "duration": 165,
    "start_time": "2022-08-31T16:50:59.295Z"
   },
   {
    "duration": 138,
    "start_time": "2022-08-31T16:50:59.461Z"
   },
   {
    "duration": 143,
    "start_time": "2022-08-31T16:50:59.600Z"
   },
   {
    "duration": 10,
    "start_time": "2022-08-31T16:50:59.745Z"
   },
   {
    "duration": 4,
    "start_time": "2022-08-31T16:50:59.758Z"
   },
   {
    "duration": 15,
    "start_time": "2022-08-31T16:50:59.763Z"
   },
   {
    "duration": 207,
    "start_time": "2022-08-31T16:50:59.779Z"
   },
   {
    "duration": 630,
    "start_time": "2022-08-31T16:50:59.987Z"
   },
   {
    "duration": 16,
    "start_time": "2022-08-31T16:51:00.618Z"
   },
   {
    "duration": 6,
    "start_time": "2022-08-31T16:51:00.635Z"
   },
   {
    "duration": 14,
    "start_time": "2022-08-31T16:51:00.643Z"
   },
   {
    "duration": 23,
    "start_time": "2022-08-31T16:51:00.658Z"
   },
   {
    "duration": 9,
    "start_time": "2022-08-31T16:51:00.683Z"
   },
   {
    "duration": 26,
    "start_time": "2022-08-31T16:51:00.693Z"
   },
   {
    "duration": 9,
    "start_time": "2022-08-31T16:51:00.720Z"
   },
   {
    "duration": 36,
    "start_time": "2022-08-31T16:51:00.731Z"
   },
   {
    "duration": 55,
    "start_time": "2022-08-31T16:51:00.768Z"
   },
   {
    "duration": 19,
    "start_time": "2022-08-31T16:51:00.824Z"
   },
   {
    "duration": 81,
    "start_time": "2022-08-31T16:51:00.845Z"
   },
   {
    "duration": 340,
    "start_time": "2022-08-31T16:51:00.928Z"
   },
   {
    "duration": 87,
    "start_time": "2022-08-31T16:51:01.269Z"
   },
   {
    "duration": 9,
    "start_time": "2022-08-31T16:51:01.357Z"
   },
   {
    "duration": 15,
    "start_time": "2022-08-31T16:51:01.368Z"
   },
   {
    "duration": 22,
    "start_time": "2022-08-31T16:51:01.384Z"
   },
   {
    "duration": 8,
    "start_time": "2022-08-31T16:51:01.407Z"
   },
   {
    "duration": 56,
    "start_time": "2022-08-31T16:51:01.417Z"
   },
   {
    "duration": 3,
    "start_time": "2022-08-31T16:51:01.475Z"
   },
   {
    "duration": 105,
    "start_time": "2022-08-31T16:51:01.479Z"
   },
   {
    "duration": 17,
    "start_time": "2022-08-31T16:51:01.586Z"
   },
   {
    "duration": 6,
    "start_time": "2022-08-31T16:51:01.605Z"
   },
   {
    "duration": 12,
    "start_time": "2022-08-31T16:51:01.612Z"
   },
   {
    "duration": 9,
    "start_time": "2022-08-31T16:51:01.625Z"
   },
   {
    "duration": 24,
    "start_time": "2022-08-31T16:51:01.636Z"
   },
   {
    "duration": 12,
    "start_time": "2022-08-31T16:51:01.661Z"
   },
   {
    "duration": 1217,
    "start_time": "2022-09-01T10:18:16.601Z"
   },
   {
    "duration": 474,
    "start_time": "2022-09-01T10:18:17.820Z"
   },
   {
    "duration": 11,
    "start_time": "2022-09-01T10:18:18.295Z"
   },
   {
    "duration": 19,
    "start_time": "2022-09-01T10:18:18.308Z"
   },
   {
    "duration": 3,
    "start_time": "2022-09-01T10:18:18.329Z"
   },
   {
    "duration": 10,
    "start_time": "2022-09-01T10:18:18.334Z"
   },
   {
    "duration": 20,
    "start_time": "2022-09-01T10:18:18.345Z"
   },
   {
    "duration": 130,
    "start_time": "2022-09-01T10:18:18.367Z"
   },
   {
    "duration": 35,
    "start_time": "2022-09-01T10:18:18.509Z"
   },
   {
    "duration": 83,
    "start_time": "2022-09-01T10:18:18.546Z"
   },
   {
    "duration": 115,
    "start_time": "2022-09-01T10:18:18.631Z"
   },
   {
    "duration": 112,
    "start_time": "2022-09-01T10:18:18.747Z"
   },
   {
    "duration": 22,
    "start_time": "2022-09-01T10:18:18.860Z"
   },
   {
    "duration": 30,
    "start_time": "2022-09-01T10:18:18.884Z"
   },
   {
    "duration": 10,
    "start_time": "2022-09-01T10:18:18.916Z"
   },
   {
    "duration": 29,
    "start_time": "2022-09-01T10:18:18.927Z"
   },
   {
    "duration": 25,
    "start_time": "2022-09-01T10:18:18.958Z"
   },
   {
    "duration": 44,
    "start_time": "2022-09-01T10:18:18.985Z"
   },
   {
    "duration": 24,
    "start_time": "2022-09-01T10:18:19.031Z"
   },
   {
    "duration": 4,
    "start_time": "2022-09-01T10:18:19.057Z"
   },
   {
    "duration": 8,
    "start_time": "2022-09-01T10:18:19.063Z"
   },
   {
    "duration": 52,
    "start_time": "2022-09-01T10:18:19.073Z"
   },
   {
    "duration": 15,
    "start_time": "2022-09-01T10:18:19.127Z"
   },
   {
    "duration": 155,
    "start_time": "2022-09-01T10:18:19.144Z"
   },
   {
    "duration": 131,
    "start_time": "2022-09-01T10:18:19.309Z"
   },
   {
    "duration": 143,
    "start_time": "2022-09-01T10:18:19.441Z"
   },
   {
    "duration": 6,
    "start_time": "2022-09-01T10:18:19.586Z"
   },
   {
    "duration": 6,
    "start_time": "2022-09-01T10:18:19.608Z"
   },
   {
    "duration": 13,
    "start_time": "2022-09-01T10:18:19.616Z"
   },
   {
    "duration": 242,
    "start_time": "2022-09-01T10:18:19.631Z"
   },
   {
    "duration": 656,
    "start_time": "2022-09-01T10:18:19.875Z"
   },
   {
    "duration": 16,
    "start_time": "2022-09-01T10:18:20.534Z"
   },
   {
    "duration": 4,
    "start_time": "2022-09-01T10:18:20.552Z"
   },
   {
    "duration": 18,
    "start_time": "2022-09-01T10:18:20.557Z"
   },
   {
    "duration": 21,
    "start_time": "2022-09-01T10:18:20.577Z"
   },
   {
    "duration": 16,
    "start_time": "2022-09-01T10:18:20.599Z"
   },
   {
    "duration": 18,
    "start_time": "2022-09-01T10:18:20.617Z"
   },
   {
    "duration": 6,
    "start_time": "2022-09-01T10:18:20.637Z"
   },
   {
    "duration": 34,
    "start_time": "2022-09-01T10:18:20.644Z"
   },
   {
    "duration": 45,
    "start_time": "2022-09-01T10:18:20.680Z"
   },
   {
    "duration": 22,
    "start_time": "2022-09-01T10:18:20.727Z"
   },
   {
    "duration": 71,
    "start_time": "2022-09-01T10:18:20.751Z"
   },
   {
    "duration": 482,
    "start_time": "2022-09-01T10:18:20.825Z"
   },
   {
    "duration": 50,
    "start_time": "2022-09-01T10:18:21.309Z"
   },
   {
    "duration": 12,
    "start_time": "2022-09-01T10:18:21.410Z"
   },
   {
    "duration": 15,
    "start_time": "2022-09-01T10:18:21.423Z"
   },
   {
    "duration": 69,
    "start_time": "2022-09-01T10:18:21.440Z"
   },
   {
    "duration": 10,
    "start_time": "2022-09-01T10:18:21.511Z"
   },
   {
    "duration": 59,
    "start_time": "2022-09-01T10:18:21.523Z"
   },
   {
    "duration": 4,
    "start_time": "2022-09-01T10:18:21.584Z"
   },
   {
    "duration": 104,
    "start_time": "2022-09-01T10:18:21.590Z"
   },
   {
    "duration": 28,
    "start_time": "2022-09-01T10:18:21.696Z"
   },
   {
    "duration": 6,
    "start_time": "2022-09-01T10:18:21.726Z"
   },
   {
    "duration": 15,
    "start_time": "2022-09-01T10:18:21.734Z"
   },
   {
    "duration": 16,
    "start_time": "2022-09-01T10:18:21.750Z"
   },
   {
    "duration": 12,
    "start_time": "2022-09-01T10:18:21.768Z"
   },
   {
    "duration": 16,
    "start_time": "2022-09-01T10:18:21.782Z"
   },
   {
    "duration": 1295,
    "start_time": "2022-09-01T11:40:04.369Z"
   },
   {
    "duration": 478,
    "start_time": "2022-09-01T11:40:05.666Z"
   },
   {
    "duration": 10,
    "start_time": "2022-09-01T11:40:06.146Z"
   },
   {
    "duration": 20,
    "start_time": "2022-09-01T11:40:06.158Z"
   },
   {
    "duration": 3,
    "start_time": "2022-09-01T11:40:06.179Z"
   },
   {
    "duration": 15,
    "start_time": "2022-09-01T11:40:06.184Z"
   },
   {
    "duration": 19,
    "start_time": "2022-09-01T11:40:06.201Z"
   },
   {
    "duration": 110,
    "start_time": "2022-09-01T11:40:06.221Z"
   },
   {
    "duration": 34,
    "start_time": "2022-09-01T11:40:06.332Z"
   },
   {
    "duration": 86,
    "start_time": "2022-09-01T11:40:06.368Z"
   },
   {
    "duration": 92,
    "start_time": "2022-09-01T11:40:06.456Z"
   },
   {
    "duration": 116,
    "start_time": "2022-09-01T11:40:06.551Z"
   },
   {
    "duration": 19,
    "start_time": "2022-09-01T11:40:06.669Z"
   },
   {
    "duration": 30,
    "start_time": "2022-09-01T11:40:06.689Z"
   },
   {
    "duration": 7,
    "start_time": "2022-09-01T11:40:06.721Z"
   },
   {
    "duration": 31,
    "start_time": "2022-09-01T11:40:06.730Z"
   },
   {
    "duration": 48,
    "start_time": "2022-09-01T11:40:06.763Z"
   },
   {
    "duration": 28,
    "start_time": "2022-09-01T11:40:06.813Z"
   },
   {
    "duration": 27,
    "start_time": "2022-09-01T11:40:06.843Z"
   },
   {
    "duration": 4,
    "start_time": "2022-09-01T11:40:06.872Z"
   },
   {
    "duration": 13,
    "start_time": "2022-09-01T11:40:06.877Z"
   },
   {
    "duration": 40,
    "start_time": "2022-09-01T11:40:06.891Z"
   },
   {
    "duration": 12,
    "start_time": "2022-09-01T11:40:06.933Z"
   },
   {
    "duration": 147,
    "start_time": "2022-09-01T11:40:06.946Z"
   },
   {
    "duration": 135,
    "start_time": "2022-09-01T11:40:07.094Z"
   }
  ],
  "kernelspec": {
   "display_name": "Python 3 (ipykernel)",
   "language": "python",
   "name": "python3"
  },
  "language_info": {
   "codemirror_mode": {
    "name": "ipython",
    "version": 3
   },
   "file_extension": ".py",
   "mimetype": "text/x-python",
   "name": "python",
   "nbconvert_exporter": "python",
   "pygments_lexer": "ipython3",
   "version": "3.9.5"
  },
  "toc": {
   "base_numbering": 1,
   "nav_menu": {},
   "number_sections": false,
   "sideBar": true,
   "skip_h1_title": false,
   "title_cell": "Table of Contents",
   "title_sidebar": "Contents",
   "toc_cell": false,
   "toc_position": {},
   "toc_section_display": true,
   "toc_window_display": true
  }
 },
 "nbformat": 4,
 "nbformat_minor": 2
}
