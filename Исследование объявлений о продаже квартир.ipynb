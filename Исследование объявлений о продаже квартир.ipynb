{
 "cells": [
  {
   "cell_type": "markdown",
   "metadata": {},
   "source": [
    "# Исследование объявлений о продаже квартир\n",
    "\n",
    "В вашем распоряжении данные сервиса Яндекc Недвижимость — архив объявлений о продаже квартир в Санкт-Петербурге и соседних населённых пунктах за несколько лет. Нужно научиться определять рыночную стоимость объектов недвижимости. Ваша задача — установить параметры. Это позволит построить автоматизированную систему: она отследит аномалии и мошенническую деятельность. \n",
    "\n",
    "По каждой квартире на продажу доступны два вида данных. Первые вписаны пользователем, вторые получены автоматически на основе картографических данных. Например, расстояние до центра, аэропорта, ближайшего парка и водоёма. "
   ]
  },
  {
   "cell_type": "markdown",
   "metadata": {},
   "source": [
    "## Изучение данных из файла"
   ]
  },
  {
   "cell_type": "code",
   "execution_count": 1,
   "metadata": {},
   "outputs": [],
   "source": [
    "import pandas as pd\n",
    "import numpy as np\n",
    "import seaborn as sns\n",
    "import matplotlib.pyplot as plt"
   ]
  },
  {
   "cell_type": "code",
   "execution_count": 2,
   "metadata": {},
   "outputs": [],
   "source": [
    "df = pd.read_csv('/datasets/real_estate_data.csv', sep='\\t')"
   ]
  },
  {
   "cell_type": "code",
   "execution_count": 3,
   "metadata": {},
   "outputs": [
    {
     "data": {
      "text/html": [
       "<div>\n",
       "<style scoped>\n",
       "    .dataframe tbody tr th:only-of-type {\n",
       "        vertical-align: middle;\n",
       "    }\n",
       "\n",
       "    .dataframe tbody tr th {\n",
       "        vertical-align: top;\n",
       "    }\n",
       "\n",
       "    .dataframe thead th {\n",
       "        text-align: right;\n",
       "    }\n",
       "</style>\n",
       "<table border=\"1\" class=\"dataframe\">\n",
       "  <thead>\n",
       "    <tr style=\"text-align: right;\">\n",
       "      <th></th>\n",
       "      <th>total_images</th>\n",
       "      <th>last_price</th>\n",
       "      <th>total_area</th>\n",
       "      <th>first_day_exposition</th>\n",
       "      <th>rooms</th>\n",
       "      <th>ceiling_height</th>\n",
       "      <th>floors_total</th>\n",
       "      <th>living_area</th>\n",
       "      <th>floor</th>\n",
       "      <th>is_apartment</th>\n",
       "      <th>...</th>\n",
       "      <th>kitchen_area</th>\n",
       "      <th>balcony</th>\n",
       "      <th>locality_name</th>\n",
       "      <th>airports_nearest</th>\n",
       "      <th>cityCenters_nearest</th>\n",
       "      <th>parks_around3000</th>\n",
       "      <th>parks_nearest</th>\n",
       "      <th>ponds_around3000</th>\n",
       "      <th>ponds_nearest</th>\n",
       "      <th>days_exposition</th>\n",
       "    </tr>\n",
       "  </thead>\n",
       "  <tbody>\n",
       "    <tr>\n",
       "      <th>0</th>\n",
       "      <td>20</td>\n",
       "      <td>13000000.0</td>\n",
       "      <td>108.00</td>\n",
       "      <td>2019-03-07T00:00:00</td>\n",
       "      <td>3</td>\n",
       "      <td>2.70</td>\n",
       "      <td>16.0</td>\n",
       "      <td>51.00</td>\n",
       "      <td>8</td>\n",
       "      <td>NaN</td>\n",
       "      <td>...</td>\n",
       "      <td>25.00</td>\n",
       "      <td>NaN</td>\n",
       "      <td>Санкт-Петербург</td>\n",
       "      <td>18863.0</td>\n",
       "      <td>16028.0</td>\n",
       "      <td>1.0</td>\n",
       "      <td>482.0</td>\n",
       "      <td>2.0</td>\n",
       "      <td>755.0</td>\n",
       "      <td>NaN</td>\n",
       "    </tr>\n",
       "    <tr>\n",
       "      <th>1</th>\n",
       "      <td>7</td>\n",
       "      <td>3350000.0</td>\n",
       "      <td>40.40</td>\n",
       "      <td>2018-12-04T00:00:00</td>\n",
       "      <td>1</td>\n",
       "      <td>NaN</td>\n",
       "      <td>11.0</td>\n",
       "      <td>18.60</td>\n",
       "      <td>1</td>\n",
       "      <td>NaN</td>\n",
       "      <td>...</td>\n",
       "      <td>11.00</td>\n",
       "      <td>2.0</td>\n",
       "      <td>посёлок Шушары</td>\n",
       "      <td>12817.0</td>\n",
       "      <td>18603.0</td>\n",
       "      <td>0.0</td>\n",
       "      <td>NaN</td>\n",
       "      <td>0.0</td>\n",
       "      <td>NaN</td>\n",
       "      <td>81.0</td>\n",
       "    </tr>\n",
       "    <tr>\n",
       "      <th>2</th>\n",
       "      <td>10</td>\n",
       "      <td>5196000.0</td>\n",
       "      <td>56.00</td>\n",
       "      <td>2015-08-20T00:00:00</td>\n",
       "      <td>2</td>\n",
       "      <td>NaN</td>\n",
       "      <td>5.0</td>\n",
       "      <td>34.30</td>\n",
       "      <td>4</td>\n",
       "      <td>NaN</td>\n",
       "      <td>...</td>\n",
       "      <td>8.30</td>\n",
       "      <td>0.0</td>\n",
       "      <td>Санкт-Петербург</td>\n",
       "      <td>21741.0</td>\n",
       "      <td>13933.0</td>\n",
       "      <td>1.0</td>\n",
       "      <td>90.0</td>\n",
       "      <td>2.0</td>\n",
       "      <td>574.0</td>\n",
       "      <td>558.0</td>\n",
       "    </tr>\n",
       "    <tr>\n",
       "      <th>3</th>\n",
       "      <td>0</td>\n",
       "      <td>64900000.0</td>\n",
       "      <td>159.00</td>\n",
       "      <td>2015-07-24T00:00:00</td>\n",
       "      <td>3</td>\n",
       "      <td>NaN</td>\n",
       "      <td>14.0</td>\n",
       "      <td>NaN</td>\n",
       "      <td>9</td>\n",
       "      <td>NaN</td>\n",
       "      <td>...</td>\n",
       "      <td>NaN</td>\n",
       "      <td>0.0</td>\n",
       "      <td>Санкт-Петербург</td>\n",
       "      <td>28098.0</td>\n",
       "      <td>6800.0</td>\n",
       "      <td>2.0</td>\n",
       "      <td>84.0</td>\n",
       "      <td>3.0</td>\n",
       "      <td>234.0</td>\n",
       "      <td>424.0</td>\n",
       "    </tr>\n",
       "    <tr>\n",
       "      <th>4</th>\n",
       "      <td>2</td>\n",
       "      <td>10000000.0</td>\n",
       "      <td>100.00</td>\n",
       "      <td>2018-06-19T00:00:00</td>\n",
       "      <td>2</td>\n",
       "      <td>3.03</td>\n",
       "      <td>14.0</td>\n",
       "      <td>32.00</td>\n",
       "      <td>13</td>\n",
       "      <td>NaN</td>\n",
       "      <td>...</td>\n",
       "      <td>41.00</td>\n",
       "      <td>NaN</td>\n",
       "      <td>Санкт-Петербург</td>\n",
       "      <td>31856.0</td>\n",
       "      <td>8098.0</td>\n",
       "      <td>2.0</td>\n",
       "      <td>112.0</td>\n",
       "      <td>1.0</td>\n",
       "      <td>48.0</td>\n",
       "      <td>121.0</td>\n",
       "    </tr>\n",
       "    <tr>\n",
       "      <th>5</th>\n",
       "      <td>10</td>\n",
       "      <td>2890000.0</td>\n",
       "      <td>30.40</td>\n",
       "      <td>2018-09-10T00:00:00</td>\n",
       "      <td>1</td>\n",
       "      <td>NaN</td>\n",
       "      <td>12.0</td>\n",
       "      <td>14.40</td>\n",
       "      <td>5</td>\n",
       "      <td>NaN</td>\n",
       "      <td>...</td>\n",
       "      <td>9.10</td>\n",
       "      <td>NaN</td>\n",
       "      <td>городской посёлок Янино-1</td>\n",
       "      <td>NaN</td>\n",
       "      <td>NaN</td>\n",
       "      <td>NaN</td>\n",
       "      <td>NaN</td>\n",
       "      <td>NaN</td>\n",
       "      <td>NaN</td>\n",
       "      <td>55.0</td>\n",
       "    </tr>\n",
       "    <tr>\n",
       "      <th>6</th>\n",
       "      <td>6</td>\n",
       "      <td>3700000.0</td>\n",
       "      <td>37.30</td>\n",
       "      <td>2017-11-02T00:00:00</td>\n",
       "      <td>1</td>\n",
       "      <td>NaN</td>\n",
       "      <td>26.0</td>\n",
       "      <td>10.60</td>\n",
       "      <td>6</td>\n",
       "      <td>NaN</td>\n",
       "      <td>...</td>\n",
       "      <td>14.40</td>\n",
       "      <td>1.0</td>\n",
       "      <td>посёлок Парголово</td>\n",
       "      <td>52996.0</td>\n",
       "      <td>19143.0</td>\n",
       "      <td>0.0</td>\n",
       "      <td>NaN</td>\n",
       "      <td>0.0</td>\n",
       "      <td>NaN</td>\n",
       "      <td>155.0</td>\n",
       "    </tr>\n",
       "    <tr>\n",
       "      <th>7</th>\n",
       "      <td>5</td>\n",
       "      <td>7915000.0</td>\n",
       "      <td>71.60</td>\n",
       "      <td>2019-04-18T00:00:00</td>\n",
       "      <td>2</td>\n",
       "      <td>NaN</td>\n",
       "      <td>24.0</td>\n",
       "      <td>NaN</td>\n",
       "      <td>22</td>\n",
       "      <td>NaN</td>\n",
       "      <td>...</td>\n",
       "      <td>18.90</td>\n",
       "      <td>2.0</td>\n",
       "      <td>Санкт-Петербург</td>\n",
       "      <td>23982.0</td>\n",
       "      <td>11634.0</td>\n",
       "      <td>0.0</td>\n",
       "      <td>NaN</td>\n",
       "      <td>0.0</td>\n",
       "      <td>NaN</td>\n",
       "      <td>NaN</td>\n",
       "    </tr>\n",
       "    <tr>\n",
       "      <th>8</th>\n",
       "      <td>20</td>\n",
       "      <td>2900000.0</td>\n",
       "      <td>33.16</td>\n",
       "      <td>2018-05-23T00:00:00</td>\n",
       "      <td>1</td>\n",
       "      <td>NaN</td>\n",
       "      <td>27.0</td>\n",
       "      <td>15.43</td>\n",
       "      <td>26</td>\n",
       "      <td>NaN</td>\n",
       "      <td>...</td>\n",
       "      <td>8.81</td>\n",
       "      <td>NaN</td>\n",
       "      <td>посёлок Мурино</td>\n",
       "      <td>NaN</td>\n",
       "      <td>NaN</td>\n",
       "      <td>NaN</td>\n",
       "      <td>NaN</td>\n",
       "      <td>NaN</td>\n",
       "      <td>NaN</td>\n",
       "      <td>189.0</td>\n",
       "    </tr>\n",
       "    <tr>\n",
       "      <th>9</th>\n",
       "      <td>18</td>\n",
       "      <td>5400000.0</td>\n",
       "      <td>61.00</td>\n",
       "      <td>2017-02-26T00:00:00</td>\n",
       "      <td>3</td>\n",
       "      <td>2.50</td>\n",
       "      <td>9.0</td>\n",
       "      <td>43.60</td>\n",
       "      <td>7</td>\n",
       "      <td>NaN</td>\n",
       "      <td>...</td>\n",
       "      <td>6.50</td>\n",
       "      <td>2.0</td>\n",
       "      <td>Санкт-Петербург</td>\n",
       "      <td>50898.0</td>\n",
       "      <td>15008.0</td>\n",
       "      <td>0.0</td>\n",
       "      <td>NaN</td>\n",
       "      <td>0.0</td>\n",
       "      <td>NaN</td>\n",
       "      <td>289.0</td>\n",
       "    </tr>\n",
       "  </tbody>\n",
       "</table>\n",
       "<p>10 rows × 22 columns</p>\n",
       "</div>"
      ],
      "text/plain": [
       "   total_images  last_price  total_area first_day_exposition  rooms  \\\n",
       "0            20  13000000.0      108.00  2019-03-07T00:00:00      3   \n",
       "1             7   3350000.0       40.40  2018-12-04T00:00:00      1   \n",
       "2            10   5196000.0       56.00  2015-08-20T00:00:00      2   \n",
       "3             0  64900000.0      159.00  2015-07-24T00:00:00      3   \n",
       "4             2  10000000.0      100.00  2018-06-19T00:00:00      2   \n",
       "5            10   2890000.0       30.40  2018-09-10T00:00:00      1   \n",
       "6             6   3700000.0       37.30  2017-11-02T00:00:00      1   \n",
       "7             5   7915000.0       71.60  2019-04-18T00:00:00      2   \n",
       "8            20   2900000.0       33.16  2018-05-23T00:00:00      1   \n",
       "9            18   5400000.0       61.00  2017-02-26T00:00:00      3   \n",
       "\n",
       "   ceiling_height  floors_total  living_area  floor is_apartment  ...  \\\n",
       "0            2.70          16.0        51.00      8          NaN  ...   \n",
       "1             NaN          11.0        18.60      1          NaN  ...   \n",
       "2             NaN           5.0        34.30      4          NaN  ...   \n",
       "3             NaN          14.0          NaN      9          NaN  ...   \n",
       "4            3.03          14.0        32.00     13          NaN  ...   \n",
       "5             NaN          12.0        14.40      5          NaN  ...   \n",
       "6             NaN          26.0        10.60      6          NaN  ...   \n",
       "7             NaN          24.0          NaN     22          NaN  ...   \n",
       "8             NaN          27.0        15.43     26          NaN  ...   \n",
       "9            2.50           9.0        43.60      7          NaN  ...   \n",
       "\n",
       "   kitchen_area  balcony              locality_name  airports_nearest  \\\n",
       "0         25.00      NaN            Санкт-Петербург           18863.0   \n",
       "1         11.00      2.0             посёлок Шушары           12817.0   \n",
       "2          8.30      0.0            Санкт-Петербург           21741.0   \n",
       "3           NaN      0.0            Санкт-Петербург           28098.0   \n",
       "4         41.00      NaN            Санкт-Петербург           31856.0   \n",
       "5          9.10      NaN  городской посёлок Янино-1               NaN   \n",
       "6         14.40      1.0          посёлок Парголово           52996.0   \n",
       "7         18.90      2.0            Санкт-Петербург           23982.0   \n",
       "8          8.81      NaN             посёлок Мурино               NaN   \n",
       "9          6.50      2.0            Санкт-Петербург           50898.0   \n",
       "\n",
       "  cityCenters_nearest  parks_around3000  parks_nearest  ponds_around3000  \\\n",
       "0             16028.0               1.0          482.0               2.0   \n",
       "1             18603.0               0.0            NaN               0.0   \n",
       "2             13933.0               1.0           90.0               2.0   \n",
       "3              6800.0               2.0           84.0               3.0   \n",
       "4              8098.0               2.0          112.0               1.0   \n",
       "5                 NaN               NaN            NaN               NaN   \n",
       "6             19143.0               0.0            NaN               0.0   \n",
       "7             11634.0               0.0            NaN               0.0   \n",
       "8                 NaN               NaN            NaN               NaN   \n",
       "9             15008.0               0.0            NaN               0.0   \n",
       "\n",
       "   ponds_nearest  days_exposition  \n",
       "0          755.0              NaN  \n",
       "1            NaN             81.0  \n",
       "2          574.0            558.0  \n",
       "3          234.0            424.0  \n",
       "4           48.0            121.0  \n",
       "5            NaN             55.0  \n",
       "6            NaN            155.0  \n",
       "7            NaN              NaN  \n",
       "8            NaN            189.0  \n",
       "9            NaN            289.0  \n",
       "\n",
       "[10 rows x 22 columns]"
      ]
     },
     "execution_count": 3,
     "metadata": {},
     "output_type": "execute_result"
    }
   ],
   "source": [
    "#выведу первые 10 строк датафрейма\n",
    "df.head(10)"
   ]
  },
  {
   "cell_type": "markdown",
   "metadata": {},
   "source": [
    "На первый взгляд в данных много NaN."
   ]
  },
  {
   "cell_type": "code",
   "execution_count": 4,
   "metadata": {},
   "outputs": [
    {
     "name": "stdout",
     "output_type": "stream",
     "text": [
      "<class 'pandas.core.frame.DataFrame'>\n",
      "RangeIndex: 23699 entries, 0 to 23698\n",
      "Data columns (total 22 columns):\n",
      " #   Column                Non-Null Count  Dtype  \n",
      "---  ------                --------------  -----  \n",
      " 0   total_images          23699 non-null  int64  \n",
      " 1   last_price            23699 non-null  float64\n",
      " 2   total_area            23699 non-null  float64\n",
      " 3   first_day_exposition  23699 non-null  object \n",
      " 4   rooms                 23699 non-null  int64  \n",
      " 5   ceiling_height        14504 non-null  float64\n",
      " 6   floors_total          23613 non-null  float64\n",
      " 7   living_area           21796 non-null  float64\n",
      " 8   floor                 23699 non-null  int64  \n",
      " 9   is_apartment          2775 non-null   object \n",
      " 10  studio                23699 non-null  bool   \n",
      " 11  open_plan             23699 non-null  bool   \n",
      " 12  kitchen_area          21421 non-null  float64\n",
      " 13  balcony               12180 non-null  float64\n",
      " 14  locality_name         23650 non-null  object \n",
      " 15  airports_nearest      18157 non-null  float64\n",
      " 16  cityCenters_nearest   18180 non-null  float64\n",
      " 17  parks_around3000      18181 non-null  float64\n",
      " 18  parks_nearest         8079 non-null   float64\n",
      " 19  ponds_around3000      18181 non-null  float64\n",
      " 20  ponds_nearest         9110 non-null   float64\n",
      " 21  days_exposition       20518 non-null  float64\n",
      "dtypes: bool(2), float64(14), int64(3), object(3)\n",
      "memory usage: 3.7+ MB\n"
     ]
    }
   ],
   "source": [
    "#посмотрю общюю информацию о датафрейме\n",
    "df.info()"
   ]
  },
  {
   "cell_type": "markdown",
   "metadata": {},
   "source": [
    "NaN действительно много."
   ]
  },
  {
   "cell_type": "code",
   "execution_count": 5,
   "metadata": {},
   "outputs": [
    {
     "data": {
      "text/html": [
       "<div>\n",
       "<style scoped>\n",
       "    .dataframe tbody tr th:only-of-type {\n",
       "        vertical-align: middle;\n",
       "    }\n",
       "\n",
       "    .dataframe tbody tr th {\n",
       "        vertical-align: top;\n",
       "    }\n",
       "\n",
       "    .dataframe thead th {\n",
       "        text-align: right;\n",
       "    }\n",
       "</style>\n",
       "<table border=\"1\" class=\"dataframe\">\n",
       "  <thead>\n",
       "    <tr style=\"text-align: right;\">\n",
       "      <th></th>\n",
       "      <th>total_images</th>\n",
       "      <th>last_price</th>\n",
       "      <th>total_area</th>\n",
       "      <th>rooms</th>\n",
       "      <th>ceiling_height</th>\n",
       "      <th>floors_total</th>\n",
       "      <th>living_area</th>\n",
       "      <th>floor</th>\n",
       "      <th>kitchen_area</th>\n",
       "      <th>balcony</th>\n",
       "      <th>airports_nearest</th>\n",
       "      <th>cityCenters_nearest</th>\n",
       "      <th>parks_around3000</th>\n",
       "      <th>parks_nearest</th>\n",
       "      <th>ponds_around3000</th>\n",
       "      <th>ponds_nearest</th>\n",
       "      <th>days_exposition</th>\n",
       "    </tr>\n",
       "  </thead>\n",
       "  <tbody>\n",
       "    <tr>\n",
       "      <th>count</th>\n",
       "      <td>23699.000000</td>\n",
       "      <td>2.369900e+04</td>\n",
       "      <td>23699.000000</td>\n",
       "      <td>23699.000000</td>\n",
       "      <td>14504.000000</td>\n",
       "      <td>23613.000000</td>\n",
       "      <td>21796.000000</td>\n",
       "      <td>23699.000000</td>\n",
       "      <td>21421.000000</td>\n",
       "      <td>12180.000000</td>\n",
       "      <td>18157.000000</td>\n",
       "      <td>18180.000000</td>\n",
       "      <td>18181.000000</td>\n",
       "      <td>8079.000000</td>\n",
       "      <td>18181.000000</td>\n",
       "      <td>9110.000000</td>\n",
       "      <td>20518.000000</td>\n",
       "    </tr>\n",
       "    <tr>\n",
       "      <th>mean</th>\n",
       "      <td>9.858475</td>\n",
       "      <td>6.541549e+06</td>\n",
       "      <td>60.348651</td>\n",
       "      <td>2.070636</td>\n",
       "      <td>2.771499</td>\n",
       "      <td>10.673824</td>\n",
       "      <td>34.457852</td>\n",
       "      <td>5.892358</td>\n",
       "      <td>10.569807</td>\n",
       "      <td>1.150082</td>\n",
       "      <td>28793.672193</td>\n",
       "      <td>14191.277833</td>\n",
       "      <td>0.611408</td>\n",
       "      <td>490.804555</td>\n",
       "      <td>0.770255</td>\n",
       "      <td>517.980900</td>\n",
       "      <td>180.888634</td>\n",
       "    </tr>\n",
       "    <tr>\n",
       "      <th>std</th>\n",
       "      <td>5.682529</td>\n",
       "      <td>1.088701e+07</td>\n",
       "      <td>35.654083</td>\n",
       "      <td>1.078405</td>\n",
       "      <td>1.261056</td>\n",
       "      <td>6.597173</td>\n",
       "      <td>22.030445</td>\n",
       "      <td>4.885249</td>\n",
       "      <td>5.905438</td>\n",
       "      <td>1.071300</td>\n",
       "      <td>12630.880622</td>\n",
       "      <td>8608.386210</td>\n",
       "      <td>0.802074</td>\n",
       "      <td>342.317995</td>\n",
       "      <td>0.938346</td>\n",
       "      <td>277.720643</td>\n",
       "      <td>219.727988</td>\n",
       "    </tr>\n",
       "    <tr>\n",
       "      <th>min</th>\n",
       "      <td>0.000000</td>\n",
       "      <td>1.219000e+04</td>\n",
       "      <td>12.000000</td>\n",
       "      <td>0.000000</td>\n",
       "      <td>1.000000</td>\n",
       "      <td>1.000000</td>\n",
       "      <td>2.000000</td>\n",
       "      <td>1.000000</td>\n",
       "      <td>1.300000</td>\n",
       "      <td>0.000000</td>\n",
       "      <td>0.000000</td>\n",
       "      <td>181.000000</td>\n",
       "      <td>0.000000</td>\n",
       "      <td>1.000000</td>\n",
       "      <td>0.000000</td>\n",
       "      <td>13.000000</td>\n",
       "      <td>1.000000</td>\n",
       "    </tr>\n",
       "    <tr>\n",
       "      <th>25%</th>\n",
       "      <td>6.000000</td>\n",
       "      <td>3.400000e+06</td>\n",
       "      <td>40.000000</td>\n",
       "      <td>1.000000</td>\n",
       "      <td>2.520000</td>\n",
       "      <td>5.000000</td>\n",
       "      <td>18.600000</td>\n",
       "      <td>2.000000</td>\n",
       "      <td>7.000000</td>\n",
       "      <td>0.000000</td>\n",
       "      <td>18585.000000</td>\n",
       "      <td>9238.000000</td>\n",
       "      <td>0.000000</td>\n",
       "      <td>288.000000</td>\n",
       "      <td>0.000000</td>\n",
       "      <td>294.000000</td>\n",
       "      <td>45.000000</td>\n",
       "    </tr>\n",
       "    <tr>\n",
       "      <th>50%</th>\n",
       "      <td>9.000000</td>\n",
       "      <td>4.650000e+06</td>\n",
       "      <td>52.000000</td>\n",
       "      <td>2.000000</td>\n",
       "      <td>2.650000</td>\n",
       "      <td>9.000000</td>\n",
       "      <td>30.000000</td>\n",
       "      <td>4.000000</td>\n",
       "      <td>9.100000</td>\n",
       "      <td>1.000000</td>\n",
       "      <td>26726.000000</td>\n",
       "      <td>13098.500000</td>\n",
       "      <td>0.000000</td>\n",
       "      <td>455.000000</td>\n",
       "      <td>1.000000</td>\n",
       "      <td>502.000000</td>\n",
       "      <td>95.000000</td>\n",
       "    </tr>\n",
       "    <tr>\n",
       "      <th>75%</th>\n",
       "      <td>14.000000</td>\n",
       "      <td>6.800000e+06</td>\n",
       "      <td>69.900000</td>\n",
       "      <td>3.000000</td>\n",
       "      <td>2.800000</td>\n",
       "      <td>16.000000</td>\n",
       "      <td>42.300000</td>\n",
       "      <td>8.000000</td>\n",
       "      <td>12.000000</td>\n",
       "      <td>2.000000</td>\n",
       "      <td>37273.000000</td>\n",
       "      <td>16293.000000</td>\n",
       "      <td>1.000000</td>\n",
       "      <td>612.000000</td>\n",
       "      <td>1.000000</td>\n",
       "      <td>729.000000</td>\n",
       "      <td>232.000000</td>\n",
       "    </tr>\n",
       "    <tr>\n",
       "      <th>max</th>\n",
       "      <td>50.000000</td>\n",
       "      <td>7.630000e+08</td>\n",
       "      <td>900.000000</td>\n",
       "      <td>19.000000</td>\n",
       "      <td>100.000000</td>\n",
       "      <td>60.000000</td>\n",
       "      <td>409.700000</td>\n",
       "      <td>33.000000</td>\n",
       "      <td>112.000000</td>\n",
       "      <td>5.000000</td>\n",
       "      <td>84869.000000</td>\n",
       "      <td>65968.000000</td>\n",
       "      <td>3.000000</td>\n",
       "      <td>3190.000000</td>\n",
       "      <td>3.000000</td>\n",
       "      <td>1344.000000</td>\n",
       "      <td>1580.000000</td>\n",
       "    </tr>\n",
       "  </tbody>\n",
       "</table>\n",
       "</div>"
      ],
      "text/plain": [
       "       total_images    last_price    total_area         rooms  ceiling_height  \\\n",
       "count  23699.000000  2.369900e+04  23699.000000  23699.000000    14504.000000   \n",
       "mean       9.858475  6.541549e+06     60.348651      2.070636        2.771499   \n",
       "std        5.682529  1.088701e+07     35.654083      1.078405        1.261056   \n",
       "min        0.000000  1.219000e+04     12.000000      0.000000        1.000000   \n",
       "25%        6.000000  3.400000e+06     40.000000      1.000000        2.520000   \n",
       "50%        9.000000  4.650000e+06     52.000000      2.000000        2.650000   \n",
       "75%       14.000000  6.800000e+06     69.900000      3.000000        2.800000   \n",
       "max       50.000000  7.630000e+08    900.000000     19.000000      100.000000   \n",
       "\n",
       "       floors_total   living_area         floor  kitchen_area       balcony  \\\n",
       "count  23613.000000  21796.000000  23699.000000  21421.000000  12180.000000   \n",
       "mean      10.673824     34.457852      5.892358     10.569807      1.150082   \n",
       "std        6.597173     22.030445      4.885249      5.905438      1.071300   \n",
       "min        1.000000      2.000000      1.000000      1.300000      0.000000   \n",
       "25%        5.000000     18.600000      2.000000      7.000000      0.000000   \n",
       "50%        9.000000     30.000000      4.000000      9.100000      1.000000   \n",
       "75%       16.000000     42.300000      8.000000     12.000000      2.000000   \n",
       "max       60.000000    409.700000     33.000000    112.000000      5.000000   \n",
       "\n",
       "       airports_nearest  cityCenters_nearest  parks_around3000  parks_nearest  \\\n",
       "count      18157.000000         18180.000000      18181.000000    8079.000000   \n",
       "mean       28793.672193         14191.277833          0.611408     490.804555   \n",
       "std        12630.880622          8608.386210          0.802074     342.317995   \n",
       "min            0.000000           181.000000          0.000000       1.000000   \n",
       "25%        18585.000000          9238.000000          0.000000     288.000000   \n",
       "50%        26726.000000         13098.500000          0.000000     455.000000   \n",
       "75%        37273.000000         16293.000000          1.000000     612.000000   \n",
       "max        84869.000000         65968.000000          3.000000    3190.000000   \n",
       "\n",
       "       ponds_around3000  ponds_nearest  days_exposition  \n",
       "count      18181.000000    9110.000000     20518.000000  \n",
       "mean           0.770255     517.980900       180.888634  \n",
       "std            0.938346     277.720643       219.727988  \n",
       "min            0.000000      13.000000         1.000000  \n",
       "25%            0.000000     294.000000        45.000000  \n",
       "50%            1.000000     502.000000        95.000000  \n",
       "75%            1.000000     729.000000       232.000000  \n",
       "max            3.000000    1344.000000      1580.000000  "
      ]
     },
     "execution_count": 5,
     "metadata": {},
     "output_type": "execute_result"
    }
   ],
   "source": [
    "df.describe()"
   ]
  },
  {
   "cell_type": "markdown",
   "metadata": {},
   "source": [
    "Есть аномальные значения, например, 19 комнат или потолки 100 м."
   ]
  },
  {
   "cell_type": "code",
   "execution_count": 6,
   "metadata": {},
   "outputs": [
    {
     "data": {
      "text/plain": [
       "total_images            0.000000\n",
       "last_price              0.000000\n",
       "total_area              0.000000\n",
       "first_day_exposition    0.000000\n",
       "rooms                   0.000000\n",
       "ceiling_height          0.387991\n",
       "floors_total            0.003629\n",
       "living_area             0.080299\n",
       "floor                   0.000000\n",
       "is_apartment            0.882906\n",
       "studio                  0.000000\n",
       "open_plan               0.000000\n",
       "kitchen_area            0.096122\n",
       "balcony                 0.486054\n",
       "locality_name           0.002068\n",
       "airports_nearest        0.233850\n",
       "cityCenters_nearest     0.232879\n",
       "parks_around3000        0.232837\n",
       "parks_nearest           0.659100\n",
       "ponds_around3000        0.232837\n",
       "ponds_nearest           0.615596\n",
       "days_exposition         0.134225\n",
       "dtype: float64"
      ]
     },
     "execution_count": 6,
     "metadata": {},
     "output_type": "execute_result"
    }
   ],
   "source": [
    "#посчитаю долю пропущенных значений во всех столбцах\n",
    "df.isna().mean()"
   ]
  },
  {
   "cell_type": "markdown",
   "metadata": {},
   "source": [
    "### Вывод"
   ]
  },
  {
   "cell_type": "markdown",
   "metadata": {},
   "source": [
    "Много пропущенные значений, есть аномалии, в некоторых столобцах поменяю тип данных. В первую очередь посмотрю столбцы с наибольшим количеством пропусков. Заполню пропуски, где это возможно."
   ]
  },
  {
   "cell_type": "markdown",
   "metadata": {},
   "source": [
    "## Предобработка данных"
   ]
  },
  {
   "cell_type": "code",
   "execution_count": 7,
   "metadata": {},
   "outputs": [
    {
     "data": {
      "text/plain": [
       "False    2725\n",
       "True       50\n",
       "Name: is_apartment, dtype: int64"
      ]
     },
     "execution_count": 7,
     "metadata": {},
     "output_type": "execute_result"
    }
   ],
   "source": [
    "#проверю столбец is_apartment\n",
    "df['is_apartment'].value_counts()"
   ]
  },
  {
   "cell_type": "code",
   "execution_count": 8,
   "metadata": {},
   "outputs": [
    {
     "data": {
      "text/plain": [
       "0    False\n",
       "1    False\n",
       "2    False\n",
       "3    False\n",
       "4    False\n",
       "Name: is_apartment, dtype: bool"
      ]
     },
     "execution_count": 8,
     "metadata": {},
     "output_type": "execute_result"
    }
   ],
   "source": [
    "#предположу, что пропуски это не апартаменты, и заполню их False\n",
    "df['is_apartment'] = df['is_apartment'].fillna(False)\n",
    "df['is_apartment'].head()"
   ]
  },
  {
   "cell_type": "markdown",
   "metadata": {},
   "source": [
    "Заполнила пропуски и заменила тип данных на bool."
   ]
  },
  {
   "cell_type": "code",
   "execution_count": 9,
   "metadata": {},
   "outputs": [
    {
     "data": {
      "text/plain": [
       "441.0     67\n",
       "392.0     41\n",
       "173.0     41\n",
       "456.0     40\n",
       "471.0     32\n",
       "          ..\n",
       "2489.0     1\n",
       "786.0      1\n",
       "793.0      1\n",
       "92.0       1\n",
       "929.0      1\n",
       "Name: parks_nearest, Length: 995, dtype: int64"
      ]
     },
     "execution_count": 9,
     "metadata": {},
     "output_type": "execute_result"
    }
   ],
   "source": [
    "#проверю столбцы parks_nearest и ponds_nearest\n",
    "df['parks_nearest'].value_counts()"
   ]
  },
  {
   "cell_type": "code",
   "execution_count": 10,
   "metadata": {},
   "outputs": [
    {
     "data": {
      "text/plain": [
       "427.0     70\n",
       "454.0     41\n",
       "153.0     40\n",
       "433.0     39\n",
       "564.0     37\n",
       "          ..\n",
       "1075.0     1\n",
       "74.0       1\n",
       "1236.0     1\n",
       "395.0      1\n",
       "995.0      1\n",
       "Name: ponds_nearest, Length: 1096, dtype: int64"
      ]
     },
     "execution_count": 10,
     "metadata": {},
     "output_type": "execute_result"
    }
   ],
   "source": [
    "df['ponds_nearest'].value_counts()"
   ]
  },
  {
   "cell_type": "markdown",
   "metadata": {},
   "source": [
    "В этих столбцах оставлю все без изменений, т.к. в дальнейших расчетах эти данные не понадобятся."
   ]
  },
  {
   "cell_type": "code",
   "execution_count": 11,
   "metadata": {},
   "outputs": [
    {
     "data": {
      "text/plain": [
       "1.0    4195\n",
       "0.0    3758\n",
       "2.0    3659\n",
       "5.0     304\n",
       "4.0     183\n",
       "3.0      81\n",
       "Name: balcony, dtype: int64"
      ]
     },
     "execution_count": 11,
     "metadata": {},
     "output_type": "execute_result"
    }
   ],
   "source": [
    "#проверю столбец balcony\n",
    "df['balcony'].value_counts()"
   ]
  },
  {
   "cell_type": "code",
   "execution_count": 12,
   "metadata": {},
   "outputs": [
    {
     "data": {
      "text/plain": [
       "0"
      ]
     },
     "execution_count": 12,
     "metadata": {},
     "output_type": "execute_result"
    }
   ],
   "source": [
    "#предположу, что пропуски означают, что балконов нет, и заполню их нолями; также заменю тип переменной на целочисленный\n",
    "df['balcony'] = df['balcony'].fillna(0).astype('int')\n",
    "df['balcony'].isna().sum()"
   ]
  },
  {
   "cell_type": "code",
   "execution_count": 13,
   "metadata": {},
   "outputs": [
    {
     "data": {
      "text/plain": [
       "2.50     3515\n",
       "2.60     1646\n",
       "2.70     1574\n",
       "3.00     1112\n",
       "2.80      993\n",
       "         ... \n",
       "4.25        1\n",
       "3.39        1\n",
       "3.93        1\n",
       "10.30       1\n",
       "4.65        1\n",
       "Name: ceiling_height, Length: 183, dtype: int64"
      ]
     },
     "execution_count": 13,
     "metadata": {},
     "output_type": "execute_result"
    }
   ],
   "source": [
    "#проверю столбец ceiling_height\n",
    "df['ceiling_height'].value_counts()"
   ]
  },
  {
   "cell_type": "code",
   "execution_count": 14,
   "metadata": {},
   "outputs": [
    {
     "data": {
      "text/html": [
       "<div>\n",
       "<style scoped>\n",
       "    .dataframe tbody tr th:only-of-type {\n",
       "        vertical-align: middle;\n",
       "    }\n",
       "\n",
       "    .dataframe tbody tr th {\n",
       "        vertical-align: top;\n",
       "    }\n",
       "\n",
       "    .dataframe thead th {\n",
       "        text-align: right;\n",
       "    }\n",
       "</style>\n",
       "<table border=\"1\" class=\"dataframe\">\n",
       "  <thead>\n",
       "    <tr style=\"text-align: right;\">\n",
       "      <th></th>\n",
       "      <th>total_images</th>\n",
       "      <th>last_price</th>\n",
       "      <th>total_area</th>\n",
       "      <th>first_day_exposition</th>\n",
       "      <th>rooms</th>\n",
       "      <th>ceiling_height</th>\n",
       "      <th>floors_total</th>\n",
       "      <th>living_area</th>\n",
       "      <th>floor</th>\n",
       "      <th>is_apartment</th>\n",
       "      <th>...</th>\n",
       "      <th>kitchen_area</th>\n",
       "      <th>balcony</th>\n",
       "      <th>locality_name</th>\n",
       "      <th>airports_nearest</th>\n",
       "      <th>cityCenters_nearest</th>\n",
       "      <th>parks_around3000</th>\n",
       "      <th>parks_nearest</th>\n",
       "      <th>ponds_around3000</th>\n",
       "      <th>ponds_nearest</th>\n",
       "      <th>days_exposition</th>\n",
       "    </tr>\n",
       "  </thead>\n",
       "  <tbody>\n",
       "    <tr>\n",
       "      <th>0</th>\n",
       "      <td>20</td>\n",
       "      <td>13000000.0</td>\n",
       "      <td>108.00</td>\n",
       "      <td>2019-03-07T00:00:00</td>\n",
       "      <td>3</td>\n",
       "      <td>2.70</td>\n",
       "      <td>16.0</td>\n",
       "      <td>51.00</td>\n",
       "      <td>8</td>\n",
       "      <td>False</td>\n",
       "      <td>...</td>\n",
       "      <td>25.00</td>\n",
       "      <td>0</td>\n",
       "      <td>Санкт-Петербург</td>\n",
       "      <td>18863.0</td>\n",
       "      <td>16028.0</td>\n",
       "      <td>1.0</td>\n",
       "      <td>482.0</td>\n",
       "      <td>2.0</td>\n",
       "      <td>755.0</td>\n",
       "      <td>NaN</td>\n",
       "    </tr>\n",
       "    <tr>\n",
       "      <th>1</th>\n",
       "      <td>7</td>\n",
       "      <td>3350000.0</td>\n",
       "      <td>40.40</td>\n",
       "      <td>2018-12-04T00:00:00</td>\n",
       "      <td>1</td>\n",
       "      <td>2.65</td>\n",
       "      <td>11.0</td>\n",
       "      <td>18.60</td>\n",
       "      <td>1</td>\n",
       "      <td>False</td>\n",
       "      <td>...</td>\n",
       "      <td>11.00</td>\n",
       "      <td>2</td>\n",
       "      <td>посёлок Шушары</td>\n",
       "      <td>12817.0</td>\n",
       "      <td>18603.0</td>\n",
       "      <td>0.0</td>\n",
       "      <td>NaN</td>\n",
       "      <td>0.0</td>\n",
       "      <td>NaN</td>\n",
       "      <td>81.0</td>\n",
       "    </tr>\n",
       "    <tr>\n",
       "      <th>2</th>\n",
       "      <td>10</td>\n",
       "      <td>5196000.0</td>\n",
       "      <td>56.00</td>\n",
       "      <td>2015-08-20T00:00:00</td>\n",
       "      <td>2</td>\n",
       "      <td>2.65</td>\n",
       "      <td>5.0</td>\n",
       "      <td>34.30</td>\n",
       "      <td>4</td>\n",
       "      <td>False</td>\n",
       "      <td>...</td>\n",
       "      <td>8.30</td>\n",
       "      <td>0</td>\n",
       "      <td>Санкт-Петербург</td>\n",
       "      <td>21741.0</td>\n",
       "      <td>13933.0</td>\n",
       "      <td>1.0</td>\n",
       "      <td>90.0</td>\n",
       "      <td>2.0</td>\n",
       "      <td>574.0</td>\n",
       "      <td>558.0</td>\n",
       "    </tr>\n",
       "    <tr>\n",
       "      <th>3</th>\n",
       "      <td>0</td>\n",
       "      <td>64900000.0</td>\n",
       "      <td>159.00</td>\n",
       "      <td>2015-07-24T00:00:00</td>\n",
       "      <td>3</td>\n",
       "      <td>2.65</td>\n",
       "      <td>14.0</td>\n",
       "      <td>NaN</td>\n",
       "      <td>9</td>\n",
       "      <td>False</td>\n",
       "      <td>...</td>\n",
       "      <td>NaN</td>\n",
       "      <td>0</td>\n",
       "      <td>Санкт-Петербург</td>\n",
       "      <td>28098.0</td>\n",
       "      <td>6800.0</td>\n",
       "      <td>2.0</td>\n",
       "      <td>84.0</td>\n",
       "      <td>3.0</td>\n",
       "      <td>234.0</td>\n",
       "      <td>424.0</td>\n",
       "    </tr>\n",
       "    <tr>\n",
       "      <th>4</th>\n",
       "      <td>2</td>\n",
       "      <td>10000000.0</td>\n",
       "      <td>100.00</td>\n",
       "      <td>2018-06-19T00:00:00</td>\n",
       "      <td>2</td>\n",
       "      <td>3.03</td>\n",
       "      <td>14.0</td>\n",
       "      <td>32.00</td>\n",
       "      <td>13</td>\n",
       "      <td>False</td>\n",
       "      <td>...</td>\n",
       "      <td>41.00</td>\n",
       "      <td>0</td>\n",
       "      <td>Санкт-Петербург</td>\n",
       "      <td>31856.0</td>\n",
       "      <td>8098.0</td>\n",
       "      <td>2.0</td>\n",
       "      <td>112.0</td>\n",
       "      <td>1.0</td>\n",
       "      <td>48.0</td>\n",
       "      <td>121.0</td>\n",
       "    </tr>\n",
       "    <tr>\n",
       "      <th>5</th>\n",
       "      <td>10</td>\n",
       "      <td>2890000.0</td>\n",
       "      <td>30.40</td>\n",
       "      <td>2018-09-10T00:00:00</td>\n",
       "      <td>1</td>\n",
       "      <td>2.65</td>\n",
       "      <td>12.0</td>\n",
       "      <td>14.40</td>\n",
       "      <td>5</td>\n",
       "      <td>False</td>\n",
       "      <td>...</td>\n",
       "      <td>9.10</td>\n",
       "      <td>0</td>\n",
       "      <td>городской посёлок Янино-1</td>\n",
       "      <td>NaN</td>\n",
       "      <td>NaN</td>\n",
       "      <td>NaN</td>\n",
       "      <td>NaN</td>\n",
       "      <td>NaN</td>\n",
       "      <td>NaN</td>\n",
       "      <td>55.0</td>\n",
       "    </tr>\n",
       "    <tr>\n",
       "      <th>6</th>\n",
       "      <td>6</td>\n",
       "      <td>3700000.0</td>\n",
       "      <td>37.30</td>\n",
       "      <td>2017-11-02T00:00:00</td>\n",
       "      <td>1</td>\n",
       "      <td>2.65</td>\n",
       "      <td>26.0</td>\n",
       "      <td>10.60</td>\n",
       "      <td>6</td>\n",
       "      <td>False</td>\n",
       "      <td>...</td>\n",
       "      <td>14.40</td>\n",
       "      <td>1</td>\n",
       "      <td>посёлок Парголово</td>\n",
       "      <td>52996.0</td>\n",
       "      <td>19143.0</td>\n",
       "      <td>0.0</td>\n",
       "      <td>NaN</td>\n",
       "      <td>0.0</td>\n",
       "      <td>NaN</td>\n",
       "      <td>155.0</td>\n",
       "    </tr>\n",
       "    <tr>\n",
       "      <th>7</th>\n",
       "      <td>5</td>\n",
       "      <td>7915000.0</td>\n",
       "      <td>71.60</td>\n",
       "      <td>2019-04-18T00:00:00</td>\n",
       "      <td>2</td>\n",
       "      <td>2.65</td>\n",
       "      <td>24.0</td>\n",
       "      <td>NaN</td>\n",
       "      <td>22</td>\n",
       "      <td>False</td>\n",
       "      <td>...</td>\n",
       "      <td>18.90</td>\n",
       "      <td>2</td>\n",
       "      <td>Санкт-Петербург</td>\n",
       "      <td>23982.0</td>\n",
       "      <td>11634.0</td>\n",
       "      <td>0.0</td>\n",
       "      <td>NaN</td>\n",
       "      <td>0.0</td>\n",
       "      <td>NaN</td>\n",
       "      <td>NaN</td>\n",
       "    </tr>\n",
       "    <tr>\n",
       "      <th>8</th>\n",
       "      <td>20</td>\n",
       "      <td>2900000.0</td>\n",
       "      <td>33.16</td>\n",
       "      <td>2018-05-23T00:00:00</td>\n",
       "      <td>1</td>\n",
       "      <td>2.65</td>\n",
       "      <td>27.0</td>\n",
       "      <td>15.43</td>\n",
       "      <td>26</td>\n",
       "      <td>False</td>\n",
       "      <td>...</td>\n",
       "      <td>8.81</td>\n",
       "      <td>0</td>\n",
       "      <td>посёлок Мурино</td>\n",
       "      <td>NaN</td>\n",
       "      <td>NaN</td>\n",
       "      <td>NaN</td>\n",
       "      <td>NaN</td>\n",
       "      <td>NaN</td>\n",
       "      <td>NaN</td>\n",
       "      <td>189.0</td>\n",
       "    </tr>\n",
       "    <tr>\n",
       "      <th>9</th>\n",
       "      <td>18</td>\n",
       "      <td>5400000.0</td>\n",
       "      <td>61.00</td>\n",
       "      <td>2017-02-26T00:00:00</td>\n",
       "      <td>3</td>\n",
       "      <td>2.50</td>\n",
       "      <td>9.0</td>\n",
       "      <td>43.60</td>\n",
       "      <td>7</td>\n",
       "      <td>False</td>\n",
       "      <td>...</td>\n",
       "      <td>6.50</td>\n",
       "      <td>2</td>\n",
       "      <td>Санкт-Петербург</td>\n",
       "      <td>50898.0</td>\n",
       "      <td>15008.0</td>\n",
       "      <td>0.0</td>\n",
       "      <td>NaN</td>\n",
       "      <td>0.0</td>\n",
       "      <td>NaN</td>\n",
       "      <td>289.0</td>\n",
       "    </tr>\n",
       "  </tbody>\n",
       "</table>\n",
       "<p>10 rows × 22 columns</p>\n",
       "</div>"
      ],
      "text/plain": [
       "   total_images  last_price  total_area first_day_exposition  rooms  \\\n",
       "0            20  13000000.0      108.00  2019-03-07T00:00:00      3   \n",
       "1             7   3350000.0       40.40  2018-12-04T00:00:00      1   \n",
       "2            10   5196000.0       56.00  2015-08-20T00:00:00      2   \n",
       "3             0  64900000.0      159.00  2015-07-24T00:00:00      3   \n",
       "4             2  10000000.0      100.00  2018-06-19T00:00:00      2   \n",
       "5            10   2890000.0       30.40  2018-09-10T00:00:00      1   \n",
       "6             6   3700000.0       37.30  2017-11-02T00:00:00      1   \n",
       "7             5   7915000.0       71.60  2019-04-18T00:00:00      2   \n",
       "8            20   2900000.0       33.16  2018-05-23T00:00:00      1   \n",
       "9            18   5400000.0       61.00  2017-02-26T00:00:00      3   \n",
       "\n",
       "   ceiling_height  floors_total  living_area  floor  is_apartment  ...  \\\n",
       "0            2.70          16.0        51.00      8         False  ...   \n",
       "1            2.65          11.0        18.60      1         False  ...   \n",
       "2            2.65           5.0        34.30      4         False  ...   \n",
       "3            2.65          14.0          NaN      9         False  ...   \n",
       "4            3.03          14.0        32.00     13         False  ...   \n",
       "5            2.65          12.0        14.40      5         False  ...   \n",
       "6            2.65          26.0        10.60      6         False  ...   \n",
       "7            2.65          24.0          NaN     22         False  ...   \n",
       "8            2.65          27.0        15.43     26         False  ...   \n",
       "9            2.50           9.0        43.60      7         False  ...   \n",
       "\n",
       "   kitchen_area  balcony              locality_name  airports_nearest  \\\n",
       "0         25.00        0            Санкт-Петербург           18863.0   \n",
       "1         11.00        2             посёлок Шушары           12817.0   \n",
       "2          8.30        0            Санкт-Петербург           21741.0   \n",
       "3           NaN        0            Санкт-Петербург           28098.0   \n",
       "4         41.00        0            Санкт-Петербург           31856.0   \n",
       "5          9.10        0  городской посёлок Янино-1               NaN   \n",
       "6         14.40        1          посёлок Парголово           52996.0   \n",
       "7         18.90        2            Санкт-Петербург           23982.0   \n",
       "8          8.81        0             посёлок Мурино               NaN   \n",
       "9          6.50        2            Санкт-Петербург           50898.0   \n",
       "\n",
       "  cityCenters_nearest  parks_around3000  parks_nearest  ponds_around3000  \\\n",
       "0             16028.0               1.0          482.0               2.0   \n",
       "1             18603.0               0.0            NaN               0.0   \n",
       "2             13933.0               1.0           90.0               2.0   \n",
       "3              6800.0               2.0           84.0               3.0   \n",
       "4              8098.0               2.0          112.0               1.0   \n",
       "5                 NaN               NaN            NaN               NaN   \n",
       "6             19143.0               0.0            NaN               0.0   \n",
       "7             11634.0               0.0            NaN               0.0   \n",
       "8                 NaN               NaN            NaN               NaN   \n",
       "9             15008.0               0.0            NaN               0.0   \n",
       "\n",
       "   ponds_nearest  days_exposition  \n",
       "0          755.0              NaN  \n",
       "1            NaN             81.0  \n",
       "2          574.0            558.0  \n",
       "3          234.0            424.0  \n",
       "4           48.0            121.0  \n",
       "5            NaN             55.0  \n",
       "6            NaN            155.0  \n",
       "7            NaN              NaN  \n",
       "8            NaN            189.0  \n",
       "9            NaN            289.0  \n",
       "\n",
       "[10 rows x 22 columns]"
      ]
     },
     "execution_count": 14,
     "metadata": {},
     "output_type": "execute_result"
    }
   ],
   "source": [
    "#пропуски в столбце ceiling_height заполню медианным значением\n",
    "df['ceiling_height'] = df['ceiling_height'].fillna(df['ceiling_height'].median())\n",
    "df.head(10)"
   ]
  },
  {
   "cell_type": "code",
   "execution_count": 15,
   "metadata": {},
   "outputs": [
    {
     "data": {
      "text/plain": [
       "5.0     5788\n",
       "9.0     3761\n",
       "16.0    1376\n",
       "12.0    1362\n",
       "4.0     1200\n",
       "10.0    1174\n",
       "25.0    1075\n",
       "6.0      914\n",
       "17.0     833\n",
       "3.0      668\n",
       "7.0      592\n",
       "14.0     553\n",
       "18.0     505\n",
       "24.0     469\n",
       "8.0      390\n",
       "2.0      383\n",
       "15.0     365\n",
       "23.0     352\n",
       "19.0     339\n",
       "22.0     286\n",
       "20.0     271\n",
       "13.0     229\n",
       "11.0     203\n",
       "27.0     164\n",
       "21.0     158\n",
       "26.0     124\n",
       "1.0       25\n",
       "35.0      24\n",
       "28.0      21\n",
       "36.0       3\n",
       "37.0       1\n",
       "34.0       1\n",
       "33.0       1\n",
       "60.0       1\n",
       "29.0       1\n",
       "52.0       1\n",
       "Name: floors_total, dtype: int64"
      ]
     },
     "execution_count": 15,
     "metadata": {},
     "output_type": "execute_result"
    }
   ],
   "source": [
    "#проверю столбец floors_total\n",
    "df['floors_total'].value_counts()"
   ]
  },
  {
   "cell_type": "code",
   "execution_count": 16,
   "metadata": {},
   "outputs": [
    {
     "data": {
      "text/html": [
       "<div>\n",
       "<style scoped>\n",
       "    .dataframe tbody tr th:only-of-type {\n",
       "        vertical-align: middle;\n",
       "    }\n",
       "\n",
       "    .dataframe tbody tr th {\n",
       "        vertical-align: top;\n",
       "    }\n",
       "\n",
       "    .dataframe thead th {\n",
       "        text-align: right;\n",
       "    }\n",
       "</style>\n",
       "<table border=\"1\" class=\"dataframe\">\n",
       "  <thead>\n",
       "    <tr style=\"text-align: right;\">\n",
       "      <th></th>\n",
       "      <th>total_images</th>\n",
       "      <th>last_price</th>\n",
       "      <th>total_area</th>\n",
       "      <th>first_day_exposition</th>\n",
       "      <th>rooms</th>\n",
       "      <th>ceiling_height</th>\n",
       "      <th>floors_total</th>\n",
       "      <th>living_area</th>\n",
       "      <th>floor</th>\n",
       "      <th>is_apartment</th>\n",
       "      <th>...</th>\n",
       "      <th>kitchen_area</th>\n",
       "      <th>balcony</th>\n",
       "      <th>locality_name</th>\n",
       "      <th>airports_nearest</th>\n",
       "      <th>cityCenters_nearest</th>\n",
       "      <th>parks_around3000</th>\n",
       "      <th>parks_nearest</th>\n",
       "      <th>ponds_around3000</th>\n",
       "      <th>ponds_nearest</th>\n",
       "      <th>days_exposition</th>\n",
       "    </tr>\n",
       "  </thead>\n",
       "  <tbody>\n",
       "    <tr>\n",
       "      <th>0</th>\n",
       "      <td>20</td>\n",
       "      <td>13000000.0</td>\n",
       "      <td>108.00</td>\n",
       "      <td>2019-03-07T00:00:00</td>\n",
       "      <td>3</td>\n",
       "      <td>2.70</td>\n",
       "      <td>16</td>\n",
       "      <td>51.00</td>\n",
       "      <td>8</td>\n",
       "      <td>False</td>\n",
       "      <td>...</td>\n",
       "      <td>25.00</td>\n",
       "      <td>0</td>\n",
       "      <td>Санкт-Петербург</td>\n",
       "      <td>18863.0</td>\n",
       "      <td>16028.0</td>\n",
       "      <td>1.0</td>\n",
       "      <td>482.0</td>\n",
       "      <td>2.0</td>\n",
       "      <td>755.0</td>\n",
       "      <td>NaN</td>\n",
       "    </tr>\n",
       "    <tr>\n",
       "      <th>1</th>\n",
       "      <td>7</td>\n",
       "      <td>3350000.0</td>\n",
       "      <td>40.40</td>\n",
       "      <td>2018-12-04T00:00:00</td>\n",
       "      <td>1</td>\n",
       "      <td>2.65</td>\n",
       "      <td>11</td>\n",
       "      <td>18.60</td>\n",
       "      <td>1</td>\n",
       "      <td>False</td>\n",
       "      <td>...</td>\n",
       "      <td>11.00</td>\n",
       "      <td>2</td>\n",
       "      <td>посёлок Шушары</td>\n",
       "      <td>12817.0</td>\n",
       "      <td>18603.0</td>\n",
       "      <td>0.0</td>\n",
       "      <td>NaN</td>\n",
       "      <td>0.0</td>\n",
       "      <td>NaN</td>\n",
       "      <td>81.0</td>\n",
       "    </tr>\n",
       "    <tr>\n",
       "      <th>2</th>\n",
       "      <td>10</td>\n",
       "      <td>5196000.0</td>\n",
       "      <td>56.00</td>\n",
       "      <td>2015-08-20T00:00:00</td>\n",
       "      <td>2</td>\n",
       "      <td>2.65</td>\n",
       "      <td>5</td>\n",
       "      <td>34.30</td>\n",
       "      <td>4</td>\n",
       "      <td>False</td>\n",
       "      <td>...</td>\n",
       "      <td>8.30</td>\n",
       "      <td>0</td>\n",
       "      <td>Санкт-Петербург</td>\n",
       "      <td>21741.0</td>\n",
       "      <td>13933.0</td>\n",
       "      <td>1.0</td>\n",
       "      <td>90.0</td>\n",
       "      <td>2.0</td>\n",
       "      <td>574.0</td>\n",
       "      <td>558.0</td>\n",
       "    </tr>\n",
       "    <tr>\n",
       "      <th>3</th>\n",
       "      <td>0</td>\n",
       "      <td>64900000.0</td>\n",
       "      <td>159.00</td>\n",
       "      <td>2015-07-24T00:00:00</td>\n",
       "      <td>3</td>\n",
       "      <td>2.65</td>\n",
       "      <td>14</td>\n",
       "      <td>NaN</td>\n",
       "      <td>9</td>\n",
       "      <td>False</td>\n",
       "      <td>...</td>\n",
       "      <td>NaN</td>\n",
       "      <td>0</td>\n",
       "      <td>Санкт-Петербург</td>\n",
       "      <td>28098.0</td>\n",
       "      <td>6800.0</td>\n",
       "      <td>2.0</td>\n",
       "      <td>84.0</td>\n",
       "      <td>3.0</td>\n",
       "      <td>234.0</td>\n",
       "      <td>424.0</td>\n",
       "    </tr>\n",
       "    <tr>\n",
       "      <th>4</th>\n",
       "      <td>2</td>\n",
       "      <td>10000000.0</td>\n",
       "      <td>100.00</td>\n",
       "      <td>2018-06-19T00:00:00</td>\n",
       "      <td>2</td>\n",
       "      <td>3.03</td>\n",
       "      <td>14</td>\n",
       "      <td>32.00</td>\n",
       "      <td>13</td>\n",
       "      <td>False</td>\n",
       "      <td>...</td>\n",
       "      <td>41.00</td>\n",
       "      <td>0</td>\n",
       "      <td>Санкт-Петербург</td>\n",
       "      <td>31856.0</td>\n",
       "      <td>8098.0</td>\n",
       "      <td>2.0</td>\n",
       "      <td>112.0</td>\n",
       "      <td>1.0</td>\n",
       "      <td>48.0</td>\n",
       "      <td>121.0</td>\n",
       "    </tr>\n",
       "    <tr>\n",
       "      <th>5</th>\n",
       "      <td>10</td>\n",
       "      <td>2890000.0</td>\n",
       "      <td>30.40</td>\n",
       "      <td>2018-09-10T00:00:00</td>\n",
       "      <td>1</td>\n",
       "      <td>2.65</td>\n",
       "      <td>12</td>\n",
       "      <td>14.40</td>\n",
       "      <td>5</td>\n",
       "      <td>False</td>\n",
       "      <td>...</td>\n",
       "      <td>9.10</td>\n",
       "      <td>0</td>\n",
       "      <td>городской посёлок Янино-1</td>\n",
       "      <td>NaN</td>\n",
       "      <td>NaN</td>\n",
       "      <td>NaN</td>\n",
       "      <td>NaN</td>\n",
       "      <td>NaN</td>\n",
       "      <td>NaN</td>\n",
       "      <td>55.0</td>\n",
       "    </tr>\n",
       "    <tr>\n",
       "      <th>6</th>\n",
       "      <td>6</td>\n",
       "      <td>3700000.0</td>\n",
       "      <td>37.30</td>\n",
       "      <td>2017-11-02T00:00:00</td>\n",
       "      <td>1</td>\n",
       "      <td>2.65</td>\n",
       "      <td>26</td>\n",
       "      <td>10.60</td>\n",
       "      <td>6</td>\n",
       "      <td>False</td>\n",
       "      <td>...</td>\n",
       "      <td>14.40</td>\n",
       "      <td>1</td>\n",
       "      <td>посёлок Парголово</td>\n",
       "      <td>52996.0</td>\n",
       "      <td>19143.0</td>\n",
       "      <td>0.0</td>\n",
       "      <td>NaN</td>\n",
       "      <td>0.0</td>\n",
       "      <td>NaN</td>\n",
       "      <td>155.0</td>\n",
       "    </tr>\n",
       "    <tr>\n",
       "      <th>7</th>\n",
       "      <td>5</td>\n",
       "      <td>7915000.0</td>\n",
       "      <td>71.60</td>\n",
       "      <td>2019-04-18T00:00:00</td>\n",
       "      <td>2</td>\n",
       "      <td>2.65</td>\n",
       "      <td>24</td>\n",
       "      <td>NaN</td>\n",
       "      <td>22</td>\n",
       "      <td>False</td>\n",
       "      <td>...</td>\n",
       "      <td>18.90</td>\n",
       "      <td>2</td>\n",
       "      <td>Санкт-Петербург</td>\n",
       "      <td>23982.0</td>\n",
       "      <td>11634.0</td>\n",
       "      <td>0.0</td>\n",
       "      <td>NaN</td>\n",
       "      <td>0.0</td>\n",
       "      <td>NaN</td>\n",
       "      <td>NaN</td>\n",
       "    </tr>\n",
       "    <tr>\n",
       "      <th>8</th>\n",
       "      <td>20</td>\n",
       "      <td>2900000.0</td>\n",
       "      <td>33.16</td>\n",
       "      <td>2018-05-23T00:00:00</td>\n",
       "      <td>1</td>\n",
       "      <td>2.65</td>\n",
       "      <td>27</td>\n",
       "      <td>15.43</td>\n",
       "      <td>26</td>\n",
       "      <td>False</td>\n",
       "      <td>...</td>\n",
       "      <td>8.81</td>\n",
       "      <td>0</td>\n",
       "      <td>посёлок Мурино</td>\n",
       "      <td>NaN</td>\n",
       "      <td>NaN</td>\n",
       "      <td>NaN</td>\n",
       "      <td>NaN</td>\n",
       "      <td>NaN</td>\n",
       "      <td>NaN</td>\n",
       "      <td>189.0</td>\n",
       "    </tr>\n",
       "    <tr>\n",
       "      <th>9</th>\n",
       "      <td>18</td>\n",
       "      <td>5400000.0</td>\n",
       "      <td>61.00</td>\n",
       "      <td>2017-02-26T00:00:00</td>\n",
       "      <td>3</td>\n",
       "      <td>2.50</td>\n",
       "      <td>9</td>\n",
       "      <td>43.60</td>\n",
       "      <td>7</td>\n",
       "      <td>False</td>\n",
       "      <td>...</td>\n",
       "      <td>6.50</td>\n",
       "      <td>2</td>\n",
       "      <td>Санкт-Петербург</td>\n",
       "      <td>50898.0</td>\n",
       "      <td>15008.0</td>\n",
       "      <td>0.0</td>\n",
       "      <td>NaN</td>\n",
       "      <td>0.0</td>\n",
       "      <td>NaN</td>\n",
       "      <td>289.0</td>\n",
       "    </tr>\n",
       "  </tbody>\n",
       "</table>\n",
       "<p>10 rows × 22 columns</p>\n",
       "</div>"
      ],
      "text/plain": [
       "   total_images  last_price  total_area first_day_exposition  rooms  \\\n",
       "0            20  13000000.0      108.00  2019-03-07T00:00:00      3   \n",
       "1             7   3350000.0       40.40  2018-12-04T00:00:00      1   \n",
       "2            10   5196000.0       56.00  2015-08-20T00:00:00      2   \n",
       "3             0  64900000.0      159.00  2015-07-24T00:00:00      3   \n",
       "4             2  10000000.0      100.00  2018-06-19T00:00:00      2   \n",
       "5            10   2890000.0       30.40  2018-09-10T00:00:00      1   \n",
       "6             6   3700000.0       37.30  2017-11-02T00:00:00      1   \n",
       "7             5   7915000.0       71.60  2019-04-18T00:00:00      2   \n",
       "8            20   2900000.0       33.16  2018-05-23T00:00:00      1   \n",
       "9            18   5400000.0       61.00  2017-02-26T00:00:00      3   \n",
       "\n",
       "   ceiling_height  floors_total  living_area  floor  is_apartment  ...  \\\n",
       "0            2.70            16        51.00      8         False  ...   \n",
       "1            2.65            11        18.60      1         False  ...   \n",
       "2            2.65             5        34.30      4         False  ...   \n",
       "3            2.65            14          NaN      9         False  ...   \n",
       "4            3.03            14        32.00     13         False  ...   \n",
       "5            2.65            12        14.40      5         False  ...   \n",
       "6            2.65            26        10.60      6         False  ...   \n",
       "7            2.65            24          NaN     22         False  ...   \n",
       "8            2.65            27        15.43     26         False  ...   \n",
       "9            2.50             9        43.60      7         False  ...   \n",
       "\n",
       "   kitchen_area  balcony              locality_name  airports_nearest  \\\n",
       "0         25.00        0            Санкт-Петербург           18863.0   \n",
       "1         11.00        2             посёлок Шушары           12817.0   \n",
       "2          8.30        0            Санкт-Петербург           21741.0   \n",
       "3           NaN        0            Санкт-Петербург           28098.0   \n",
       "4         41.00        0            Санкт-Петербург           31856.0   \n",
       "5          9.10        0  городской посёлок Янино-1               NaN   \n",
       "6         14.40        1          посёлок Парголово           52996.0   \n",
       "7         18.90        2            Санкт-Петербург           23982.0   \n",
       "8          8.81        0             посёлок Мурино               NaN   \n",
       "9          6.50        2            Санкт-Петербург           50898.0   \n",
       "\n",
       "  cityCenters_nearest  parks_around3000  parks_nearest  ponds_around3000  \\\n",
       "0             16028.0               1.0          482.0               2.0   \n",
       "1             18603.0               0.0            NaN               0.0   \n",
       "2             13933.0               1.0           90.0               2.0   \n",
       "3              6800.0               2.0           84.0               3.0   \n",
       "4              8098.0               2.0          112.0               1.0   \n",
       "5                 NaN               NaN            NaN               NaN   \n",
       "6             19143.0               0.0            NaN               0.0   \n",
       "7             11634.0               0.0            NaN               0.0   \n",
       "8                 NaN               NaN            NaN               NaN   \n",
       "9             15008.0               0.0            NaN               0.0   \n",
       "\n",
       "   ponds_nearest  days_exposition  \n",
       "0          755.0              NaN  \n",
       "1            NaN             81.0  \n",
       "2          574.0            558.0  \n",
       "3          234.0            424.0  \n",
       "4           48.0            121.0  \n",
       "5            NaN             55.0  \n",
       "6            NaN            155.0  \n",
       "7            NaN              NaN  \n",
       "8            NaN            189.0  \n",
       "9            NaN            289.0  \n",
       "\n",
       "[10 rows x 22 columns]"
      ]
     },
     "execution_count": 16,
     "metadata": {},
     "output_type": "execute_result"
    }
   ],
   "source": [
    "#пропуски заменю на значения из floor, предположив, что это последний этаж\n",
    "#заменю тип данных на int\n",
    "df['floors_total'] = df['floors_total'].fillna(df['floor']).astype('int')\n",
    "df.head(10)"
   ]
  },
  {
   "cell_type": "code",
   "execution_count": 17,
   "metadata": {},
   "outputs": [
    {
     "data": {
      "text/plain": [
       "False    23699\n",
       "Name: floors_total, dtype: int64"
      ]
     },
     "execution_count": 17,
     "metadata": {},
     "output_type": "execute_result"
    }
   ],
   "source": [
    "df['floors_total'].isna().value_counts()"
   ]
  },
  {
   "cell_type": "code",
   "execution_count": 18,
   "metadata": {},
   "outputs": [
    {
     "data": {
      "text/plain": [
       "18.00    882\n",
       "17.00    675\n",
       "30.00    598\n",
       "16.00    486\n",
       "20.00    481\n",
       "        ... \n",
       "96.40      1\n",
       "50.26      1\n",
       "43.81      1\n",
       "54.43      1\n",
       "16.74      1\n",
       "Name: living_area, Length: 1782, dtype: int64"
      ]
     },
     "execution_count": 18,
     "metadata": {},
     "output_type": "execute_result"
    }
   ],
   "source": [
    "#проверю столбец living_area\n",
    "df['living_area'].value_counts()"
   ]
  },
  {
   "cell_type": "code",
   "execution_count": 19,
   "metadata": {},
   "outputs": [
    {
     "data": {
      "text/plain": [
       "False    23699\n",
       "Name: living_area, dtype: int64"
      ]
     },
     "execution_count": 19,
     "metadata": {},
     "output_type": "execute_result"
    }
   ],
   "source": [
    "#найду соотношение общей площади к жилой и найду среднее от этого соотношения и сохраню его в переменной living_area_ratio\n",
    "#заполню пропуски, поделив total_area на среднее от соотношения\n",
    "living_area_ratio = (df['total_area'] / df['living_area']).mean()\n",
    "df['living_area'] = df['living_area'].fillna(df['total_area'] / living_area_ratio)\n",
    "df['living_area'].isna().value_counts()"
   ]
  },
  {
   "cell_type": "code",
   "execution_count": 20,
   "metadata": {},
   "outputs": [
    {
     "data": {
      "text/plain": [
       "6.00     1300\n",
       "10.00    1262\n",
       "8.00     1110\n",
       "9.00     1101\n",
       "7.00     1062\n",
       "         ... \n",
       "7.12        1\n",
       "13.73       1\n",
       "14.74       1\n",
       "53.10       1\n",
       "16.74       1\n",
       "Name: kitchen_area, Length: 971, dtype: int64"
      ]
     },
     "execution_count": 20,
     "metadata": {},
     "output_type": "execute_result"
    }
   ],
   "source": [
    "df['kitchen_area'].value_counts()"
   ]
  },
  {
   "cell_type": "code",
   "execution_count": 21,
   "metadata": {},
   "outputs": [
    {
     "data": {
      "text/plain": [
       "False    23699\n",
       "Name: kitchen_area, dtype: int64"
      ]
     },
     "execution_count": 21,
     "metadata": {},
     "output_type": "execute_result"
    }
   ],
   "source": [
    "#с площадью кухни проделаю такую же операцию, как и с living_area\n",
    "kitchen_area_ratio = (df['total_area'] / df['kitchen_area']).mean()\n",
    "df['kitchen_area'] = df['kitchen_area'].fillna(df['total_area'] / kitchen_area_ratio)\n",
    "df['kitchen_area'].isna().value_counts()"
   ]
  },
  {
   "cell_type": "code",
   "execution_count": 22,
   "metadata": {},
   "outputs": [
    {
     "data": {
      "text/plain": [
       "Санкт-Петербург                   15721\n",
       "посёлок Мурино                      522\n",
       "посёлок Шушары                      440\n",
       "Всеволожск                          398\n",
       "Пушкин                              369\n",
       "                                  ...  \n",
       "поселок Перово                        1\n",
       "деревня Щеглово                       1\n",
       "посёлок городского типа Рябово        1\n",
       "деревня Борисова Грива                1\n",
       "деревня Шпаньково                     1\n",
       "Name: locality_name, Length: 364, dtype: int64"
      ]
     },
     "execution_count": 22,
     "metadata": {},
     "output_type": "execute_result"
    }
   ],
   "source": [
    "#этот столбец оставлю без изменений\n",
    "df['locality_name'].value_counts()"
   ]
  },
  {
   "cell_type": "code",
   "execution_count": 23,
   "metadata": {},
   "outputs": [
    {
     "data": {
      "text/plain": [
       "0.0    9071\n",
       "1.0    5717\n",
       "2.0    1892\n",
       "3.0    1501\n",
       "Name: ponds_around3000, dtype: int64"
      ]
     },
     "execution_count": 23,
     "metadata": {},
     "output_type": "execute_result"
    }
   ],
   "source": [
    "#эти столбцы также оставлю без изменений\n",
    "df['airports_nearest'].value_counts()\n",
    "df['cityCenters_nearest'].value_counts()\n",
    "df['parks_around3000'].value_counts()\n",
    "df['ponds_around3000'].value_counts()"
   ]
  },
  {
   "cell_type": "code",
   "execution_count": 24,
   "metadata": {},
   "outputs": [
    {
     "data": {
      "text/plain": [
       "45.0      880\n",
       "60.0      538\n",
       "7.0       234\n",
       "30.0      208\n",
       "90.0      204\n",
       "         ... \n",
       "969.0       1\n",
       "1.0         1\n",
       "1147.0      1\n",
       "1148.0      1\n",
       "1174.0      1\n",
       "Name: days_exposition, Length: 1141, dtype: int64"
      ]
     },
     "execution_count": 24,
     "metadata": {},
     "output_type": "execute_result"
    }
   ],
   "source": [
    "#проверю столбец days_exposition\n",
    "df['days_exposition'].value_counts()"
   ]
  },
  {
   "cell_type": "code",
   "execution_count": 25,
   "metadata": {},
   "outputs": [],
   "source": [
    "#заполню пропуски нулями и заменю тип данных\n",
    "#df['days_exposition'] = df['days_exposition'].fillna(0).astype('int')\n",
    "#df['days_exposition'].isna().value_counts()"
   ]
  },
  {
   "cell_type": "markdown",
   "metadata": {},
   "source": [
    "В этом столбце оставлю все без изменений. Предположу, что  пропуск означает, что квартира не продана."
   ]
  },
  {
   "cell_type": "code",
   "execution_count": 26,
   "metadata": {},
   "outputs": [],
   "source": [
    "#переведу столбец с датой в формат даты без времени, т.к. время не указано\n",
    "df['first_day_exposition'] = pd.to_datetime(df['first_day_exposition'], format = '%Y-%m-%d')"
   ]
  },
  {
   "cell_type": "code",
   "execution_count": 27,
   "metadata": {},
   "outputs": [
    {
     "data": {
      "text/plain": [
       "4500000.0     342\n",
       "3500000.0     291\n",
       "4000000.0     260\n",
       "4300000.0     260\n",
       "4200000.0     259\n",
       "             ... \n",
       "10430000.0      1\n",
       "9917600.0       1\n",
       "3180500.0       1\n",
       "7297000.0       1\n",
       "4386000.0       1\n",
       "Name: last_price, Length: 2978, dtype: int64"
      ]
     },
     "execution_count": 27,
     "metadata": {},
     "output_type": "execute_result"
    }
   ],
   "source": [
    "#проверю столбец last_price\n",
    "df['last_price'].value_counts()"
   ]
  },
  {
   "cell_type": "code",
   "execution_count": 28,
   "metadata": {},
   "outputs": [],
   "source": [
    "#заменю тип данных в столбце last_price\n",
    "df['last_price'] = (df['last_price']/1000).astype('int')"
   ]
  },
  {
   "cell_type": "code",
   "execution_count": 29,
   "metadata": {},
   "outputs": [
    {
     "data": {
      "text/html": [
       "<div>\n",
       "<style scoped>\n",
       "    .dataframe tbody tr th:only-of-type {\n",
       "        vertical-align: middle;\n",
       "    }\n",
       "\n",
       "    .dataframe tbody tr th {\n",
       "        vertical-align: top;\n",
       "    }\n",
       "\n",
       "    .dataframe thead th {\n",
       "        text-align: right;\n",
       "    }\n",
       "</style>\n",
       "<table border=\"1\" class=\"dataframe\">\n",
       "  <thead>\n",
       "    <tr style=\"text-align: right;\">\n",
       "      <th></th>\n",
       "      <th>total_images</th>\n",
       "      <th>last_price</th>\n",
       "      <th>total_area</th>\n",
       "      <th>first_day_exposition</th>\n",
       "      <th>rooms</th>\n",
       "      <th>ceiling_height</th>\n",
       "      <th>floors_total</th>\n",
       "      <th>living_area</th>\n",
       "      <th>floor</th>\n",
       "      <th>is_apartment</th>\n",
       "      <th>...</th>\n",
       "      <th>kitchen_area</th>\n",
       "      <th>balcony</th>\n",
       "      <th>locality_name</th>\n",
       "      <th>airports_nearest</th>\n",
       "      <th>cityCenters_nearest</th>\n",
       "      <th>parks_around3000</th>\n",
       "      <th>parks_nearest</th>\n",
       "      <th>ponds_around3000</th>\n",
       "      <th>ponds_nearest</th>\n",
       "      <th>days_exposition</th>\n",
       "    </tr>\n",
       "  </thead>\n",
       "  <tbody>\n",
       "    <tr>\n",
       "      <th>0</th>\n",
       "      <td>20</td>\n",
       "      <td>13000</td>\n",
       "      <td>108.00</td>\n",
       "      <td>2019-03-07</td>\n",
       "      <td>3</td>\n",
       "      <td>2.70</td>\n",
       "      <td>16</td>\n",
       "      <td>51.000000</td>\n",
       "      <td>8</td>\n",
       "      <td>False</td>\n",
       "      <td>...</td>\n",
       "      <td>25.000000</td>\n",
       "      <td>0</td>\n",
       "      <td>Санкт-Петербург</td>\n",
       "      <td>18863.0</td>\n",
       "      <td>16028.0</td>\n",
       "      <td>1.0</td>\n",
       "      <td>482.0</td>\n",
       "      <td>2.0</td>\n",
       "      <td>755.0</td>\n",
       "      <td>NaN</td>\n",
       "    </tr>\n",
       "    <tr>\n",
       "      <th>1</th>\n",
       "      <td>7</td>\n",
       "      <td>3350</td>\n",
       "      <td>40.40</td>\n",
       "      <td>2018-12-04</td>\n",
       "      <td>1</td>\n",
       "      <td>2.65</td>\n",
       "      <td>11</td>\n",
       "      <td>18.600000</td>\n",
       "      <td>1</td>\n",
       "      <td>False</td>\n",
       "      <td>...</td>\n",
       "      <td>11.000000</td>\n",
       "      <td>2</td>\n",
       "      <td>посёлок Шушары</td>\n",
       "      <td>12817.0</td>\n",
       "      <td>18603.0</td>\n",
       "      <td>0.0</td>\n",
       "      <td>NaN</td>\n",
       "      <td>0.0</td>\n",
       "      <td>NaN</td>\n",
       "      <td>81.0</td>\n",
       "    </tr>\n",
       "    <tr>\n",
       "      <th>2</th>\n",
       "      <td>10</td>\n",
       "      <td>5196</td>\n",
       "      <td>56.00</td>\n",
       "      <td>2015-08-20</td>\n",
       "      <td>2</td>\n",
       "      <td>2.65</td>\n",
       "      <td>5</td>\n",
       "      <td>34.300000</td>\n",
       "      <td>4</td>\n",
       "      <td>False</td>\n",
       "      <td>...</td>\n",
       "      <td>8.300000</td>\n",
       "      <td>0</td>\n",
       "      <td>Санкт-Петербург</td>\n",
       "      <td>21741.0</td>\n",
       "      <td>13933.0</td>\n",
       "      <td>1.0</td>\n",
       "      <td>90.0</td>\n",
       "      <td>2.0</td>\n",
       "      <td>574.0</td>\n",
       "      <td>558.0</td>\n",
       "    </tr>\n",
       "    <tr>\n",
       "      <th>3</th>\n",
       "      <td>0</td>\n",
       "      <td>64900</td>\n",
       "      <td>159.00</td>\n",
       "      <td>2015-07-24</td>\n",
       "      <td>3</td>\n",
       "      <td>2.65</td>\n",
       "      <td>14</td>\n",
       "      <td>86.110251</td>\n",
       "      <td>9</td>\n",
       "      <td>False</td>\n",
       "      <td>...</td>\n",
       "      <td>25.923237</td>\n",
       "      <td>0</td>\n",
       "      <td>Санкт-Петербург</td>\n",
       "      <td>28098.0</td>\n",
       "      <td>6800.0</td>\n",
       "      <td>2.0</td>\n",
       "      <td>84.0</td>\n",
       "      <td>3.0</td>\n",
       "      <td>234.0</td>\n",
       "      <td>424.0</td>\n",
       "    </tr>\n",
       "    <tr>\n",
       "      <th>4</th>\n",
       "      <td>2</td>\n",
       "      <td>10000</td>\n",
       "      <td>100.00</td>\n",
       "      <td>2018-06-19</td>\n",
       "      <td>2</td>\n",
       "      <td>3.03</td>\n",
       "      <td>14</td>\n",
       "      <td>32.000000</td>\n",
       "      <td>13</td>\n",
       "      <td>False</td>\n",
       "      <td>...</td>\n",
       "      <td>41.000000</td>\n",
       "      <td>0</td>\n",
       "      <td>Санкт-Петербург</td>\n",
       "      <td>31856.0</td>\n",
       "      <td>8098.0</td>\n",
       "      <td>2.0</td>\n",
       "      <td>112.0</td>\n",
       "      <td>1.0</td>\n",
       "      <td>48.0</td>\n",
       "      <td>121.0</td>\n",
       "    </tr>\n",
       "    <tr>\n",
       "      <th>5</th>\n",
       "      <td>10</td>\n",
       "      <td>2890</td>\n",
       "      <td>30.40</td>\n",
       "      <td>2018-09-10</td>\n",
       "      <td>1</td>\n",
       "      <td>2.65</td>\n",
       "      <td>12</td>\n",
       "      <td>14.400000</td>\n",
       "      <td>5</td>\n",
       "      <td>False</td>\n",
       "      <td>...</td>\n",
       "      <td>9.100000</td>\n",
       "      <td>0</td>\n",
       "      <td>городской посёлок Янино-1</td>\n",
       "      <td>NaN</td>\n",
       "      <td>NaN</td>\n",
       "      <td>NaN</td>\n",
       "      <td>NaN</td>\n",
       "      <td>NaN</td>\n",
       "      <td>NaN</td>\n",
       "      <td>55.0</td>\n",
       "    </tr>\n",
       "    <tr>\n",
       "      <th>6</th>\n",
       "      <td>6</td>\n",
       "      <td>3700</td>\n",
       "      <td>37.30</td>\n",
       "      <td>2017-11-02</td>\n",
       "      <td>1</td>\n",
       "      <td>2.65</td>\n",
       "      <td>26</td>\n",
       "      <td>10.600000</td>\n",
       "      <td>6</td>\n",
       "      <td>False</td>\n",
       "      <td>...</td>\n",
       "      <td>14.400000</td>\n",
       "      <td>1</td>\n",
       "      <td>посёлок Парголово</td>\n",
       "      <td>52996.0</td>\n",
       "      <td>19143.0</td>\n",
       "      <td>0.0</td>\n",
       "      <td>NaN</td>\n",
       "      <td>0.0</td>\n",
       "      <td>NaN</td>\n",
       "      <td>155.0</td>\n",
       "    </tr>\n",
       "    <tr>\n",
       "      <th>7</th>\n",
       "      <td>5</td>\n",
       "      <td>7915</td>\n",
       "      <td>71.60</td>\n",
       "      <td>2019-04-18</td>\n",
       "      <td>2</td>\n",
       "      <td>2.65</td>\n",
       "      <td>24</td>\n",
       "      <td>38.776692</td>\n",
       "      <td>22</td>\n",
       "      <td>False</td>\n",
       "      <td>...</td>\n",
       "      <td>18.900000</td>\n",
       "      <td>2</td>\n",
       "      <td>Санкт-Петербург</td>\n",
       "      <td>23982.0</td>\n",
       "      <td>11634.0</td>\n",
       "      <td>0.0</td>\n",
       "      <td>NaN</td>\n",
       "      <td>0.0</td>\n",
       "      <td>NaN</td>\n",
       "      <td>NaN</td>\n",
       "    </tr>\n",
       "    <tr>\n",
       "      <th>8</th>\n",
       "      <td>20</td>\n",
       "      <td>2900</td>\n",
       "      <td>33.16</td>\n",
       "      <td>2018-05-23</td>\n",
       "      <td>1</td>\n",
       "      <td>2.65</td>\n",
       "      <td>27</td>\n",
       "      <td>15.430000</td>\n",
       "      <td>26</td>\n",
       "      <td>False</td>\n",
       "      <td>...</td>\n",
       "      <td>8.810000</td>\n",
       "      <td>0</td>\n",
       "      <td>посёлок Мурино</td>\n",
       "      <td>NaN</td>\n",
       "      <td>NaN</td>\n",
       "      <td>NaN</td>\n",
       "      <td>NaN</td>\n",
       "      <td>NaN</td>\n",
       "      <td>NaN</td>\n",
       "      <td>189.0</td>\n",
       "    </tr>\n",
       "    <tr>\n",
       "      <th>9</th>\n",
       "      <td>18</td>\n",
       "      <td>5400</td>\n",
       "      <td>61.00</td>\n",
       "      <td>2017-02-26</td>\n",
       "      <td>3</td>\n",
       "      <td>2.50</td>\n",
       "      <td>9</td>\n",
       "      <td>43.600000</td>\n",
       "      <td>7</td>\n",
       "      <td>False</td>\n",
       "      <td>...</td>\n",
       "      <td>6.500000</td>\n",
       "      <td>2</td>\n",
       "      <td>Санкт-Петербург</td>\n",
       "      <td>50898.0</td>\n",
       "      <td>15008.0</td>\n",
       "      <td>0.0</td>\n",
       "      <td>NaN</td>\n",
       "      <td>0.0</td>\n",
       "      <td>NaN</td>\n",
       "      <td>289.0</td>\n",
       "    </tr>\n",
       "  </tbody>\n",
       "</table>\n",
       "<p>10 rows × 22 columns</p>\n",
       "</div>"
      ],
      "text/plain": [
       "   total_images  last_price  total_area first_day_exposition  rooms  \\\n",
       "0            20       13000      108.00           2019-03-07      3   \n",
       "1             7        3350       40.40           2018-12-04      1   \n",
       "2            10        5196       56.00           2015-08-20      2   \n",
       "3             0       64900      159.00           2015-07-24      3   \n",
       "4             2       10000      100.00           2018-06-19      2   \n",
       "5            10        2890       30.40           2018-09-10      1   \n",
       "6             6        3700       37.30           2017-11-02      1   \n",
       "7             5        7915       71.60           2019-04-18      2   \n",
       "8            20        2900       33.16           2018-05-23      1   \n",
       "9            18        5400       61.00           2017-02-26      3   \n",
       "\n",
       "   ceiling_height  floors_total  living_area  floor  is_apartment  ...  \\\n",
       "0            2.70            16    51.000000      8         False  ...   \n",
       "1            2.65            11    18.600000      1         False  ...   \n",
       "2            2.65             5    34.300000      4         False  ...   \n",
       "3            2.65            14    86.110251      9         False  ...   \n",
       "4            3.03            14    32.000000     13         False  ...   \n",
       "5            2.65            12    14.400000      5         False  ...   \n",
       "6            2.65            26    10.600000      6         False  ...   \n",
       "7            2.65            24    38.776692     22         False  ...   \n",
       "8            2.65            27    15.430000     26         False  ...   \n",
       "9            2.50             9    43.600000      7         False  ...   \n",
       "\n",
       "   kitchen_area  balcony              locality_name  airports_nearest  \\\n",
       "0     25.000000        0            Санкт-Петербург           18863.0   \n",
       "1     11.000000        2             посёлок Шушары           12817.0   \n",
       "2      8.300000        0            Санкт-Петербург           21741.0   \n",
       "3     25.923237        0            Санкт-Петербург           28098.0   \n",
       "4     41.000000        0            Санкт-Петербург           31856.0   \n",
       "5      9.100000        0  городской посёлок Янино-1               NaN   \n",
       "6     14.400000        1          посёлок Парголово           52996.0   \n",
       "7     18.900000        2            Санкт-Петербург           23982.0   \n",
       "8      8.810000        0             посёлок Мурино               NaN   \n",
       "9      6.500000        2            Санкт-Петербург           50898.0   \n",
       "\n",
       "  cityCenters_nearest  parks_around3000  parks_nearest  ponds_around3000  \\\n",
       "0             16028.0               1.0          482.0               2.0   \n",
       "1             18603.0               0.0            NaN               0.0   \n",
       "2             13933.0               1.0           90.0               2.0   \n",
       "3              6800.0               2.0           84.0               3.0   \n",
       "4              8098.0               2.0          112.0               1.0   \n",
       "5                 NaN               NaN            NaN               NaN   \n",
       "6             19143.0               0.0            NaN               0.0   \n",
       "7             11634.0               0.0            NaN               0.0   \n",
       "8                 NaN               NaN            NaN               NaN   \n",
       "9             15008.0               0.0            NaN               0.0   \n",
       "\n",
       "   ponds_nearest  days_exposition  \n",
       "0          755.0              NaN  \n",
       "1            NaN             81.0  \n",
       "2          574.0            558.0  \n",
       "3          234.0            424.0  \n",
       "4           48.0            121.0  \n",
       "5            NaN             55.0  \n",
       "6            NaN            155.0  \n",
       "7            NaN              NaN  \n",
       "8            NaN            189.0  \n",
       "9            NaN            289.0  \n",
       "\n",
       "[10 rows x 22 columns]"
      ]
     },
     "execution_count": 29,
     "metadata": {},
     "output_type": "execute_result"
    }
   ],
   "source": [
    "#посмотрим, что получилось\n",
    "df.head(10)"
   ]
  },
  {
   "cell_type": "code",
   "execution_count": 30,
   "metadata": {},
   "outputs": [
    {
     "name": "stdout",
     "output_type": "stream",
     "text": [
      "<class 'pandas.core.frame.DataFrame'>\n",
      "RangeIndex: 23699 entries, 0 to 23698\n",
      "Data columns (total 22 columns):\n",
      " #   Column                Non-Null Count  Dtype         \n",
      "---  ------                --------------  -----         \n",
      " 0   total_images          23699 non-null  int64         \n",
      " 1   last_price            23699 non-null  int64         \n",
      " 2   total_area            23699 non-null  float64       \n",
      " 3   first_day_exposition  23699 non-null  datetime64[ns]\n",
      " 4   rooms                 23699 non-null  int64         \n",
      " 5   ceiling_height        23699 non-null  float64       \n",
      " 6   floors_total          23699 non-null  int64         \n",
      " 7   living_area           23699 non-null  float64       \n",
      " 8   floor                 23699 non-null  int64         \n",
      " 9   is_apartment          23699 non-null  bool          \n",
      " 10  studio                23699 non-null  bool          \n",
      " 11  open_plan             23699 non-null  bool          \n",
      " 12  kitchen_area          23699 non-null  float64       \n",
      " 13  balcony               23699 non-null  int64         \n",
      " 14  locality_name         23650 non-null  object        \n",
      " 15  airports_nearest      18157 non-null  float64       \n",
      " 16  cityCenters_nearest   18180 non-null  float64       \n",
      " 17  parks_around3000      18181 non-null  float64       \n",
      " 18  parks_nearest         8079 non-null   float64       \n",
      " 19  ponds_around3000      18181 non-null  float64       \n",
      " 20  ponds_nearest         9110 non-null   float64       \n",
      " 21  days_exposition       20518 non-null  float64       \n",
      "dtypes: bool(3), datetime64[ns](1), float64(11), int64(6), object(1)\n",
      "memory usage: 3.5+ MB\n"
     ]
    }
   ],
   "source": [
    "df.info()"
   ]
  },
  {
   "cell_type": "markdown",
   "metadata": {},
   "source": [
    "## Расчёты и добавление результатов в таблицу"
   ]
  },
  {
   "cell_type": "code",
   "execution_count": 31,
   "metadata": {},
   "outputs": [
    {
     "data": {
      "text/html": [
       "<div>\n",
       "<style scoped>\n",
       "    .dataframe tbody tr th:only-of-type {\n",
       "        vertical-align: middle;\n",
       "    }\n",
       "\n",
       "    .dataframe tbody tr th {\n",
       "        vertical-align: top;\n",
       "    }\n",
       "\n",
       "    .dataframe thead th {\n",
       "        text-align: right;\n",
       "    }\n",
       "</style>\n",
       "<table border=\"1\" class=\"dataframe\">\n",
       "  <thead>\n",
       "    <tr style=\"text-align: right;\">\n",
       "      <th></th>\n",
       "      <th>last_price</th>\n",
       "      <th>total_area</th>\n",
       "      <th>price_per_square_meter</th>\n",
       "    </tr>\n",
       "  </thead>\n",
       "  <tbody>\n",
       "    <tr>\n",
       "      <th>0</th>\n",
       "      <td>13000</td>\n",
       "      <td>108.00</td>\n",
       "      <td>120</td>\n",
       "    </tr>\n",
       "    <tr>\n",
       "      <th>1</th>\n",
       "      <td>3350</td>\n",
       "      <td>40.40</td>\n",
       "      <td>82</td>\n",
       "    </tr>\n",
       "    <tr>\n",
       "      <th>2</th>\n",
       "      <td>5196</td>\n",
       "      <td>56.00</td>\n",
       "      <td>92</td>\n",
       "    </tr>\n",
       "    <tr>\n",
       "      <th>3</th>\n",
       "      <td>64900</td>\n",
       "      <td>159.00</td>\n",
       "      <td>408</td>\n",
       "    </tr>\n",
       "    <tr>\n",
       "      <th>4</th>\n",
       "      <td>10000</td>\n",
       "      <td>100.00</td>\n",
       "      <td>100</td>\n",
       "    </tr>\n",
       "    <tr>\n",
       "      <th>5</th>\n",
       "      <td>2890</td>\n",
       "      <td>30.40</td>\n",
       "      <td>95</td>\n",
       "    </tr>\n",
       "    <tr>\n",
       "      <th>6</th>\n",
       "      <td>3700</td>\n",
       "      <td>37.30</td>\n",
       "      <td>99</td>\n",
       "    </tr>\n",
       "    <tr>\n",
       "      <th>7</th>\n",
       "      <td>7915</td>\n",
       "      <td>71.60</td>\n",
       "      <td>110</td>\n",
       "    </tr>\n",
       "    <tr>\n",
       "      <th>8</th>\n",
       "      <td>2900</td>\n",
       "      <td>33.16</td>\n",
       "      <td>87</td>\n",
       "    </tr>\n",
       "    <tr>\n",
       "      <th>9</th>\n",
       "      <td>5400</td>\n",
       "      <td>61.00</td>\n",
       "      <td>88</td>\n",
       "    </tr>\n",
       "  </tbody>\n",
       "</table>\n",
       "</div>"
      ],
      "text/plain": [
       "   last_price  total_area  price_per_square_meter\n",
       "0       13000      108.00                     120\n",
       "1        3350       40.40                      82\n",
       "2        5196       56.00                      92\n",
       "3       64900      159.00                     408\n",
       "4       10000      100.00                     100\n",
       "5        2890       30.40                      95\n",
       "6        3700       37.30                      99\n",
       "7        7915       71.60                     110\n",
       "8        2900       33.16                      87\n",
       "9        5400       61.00                      88"
      ]
     },
     "execution_count": 31,
     "metadata": {},
     "output_type": "execute_result"
    }
   ],
   "source": [
    "#посчитаю цену квадратного метра и добавим столбец в. таблицу\n",
    "df['price_per_square_meter'] = (df['last_price']/df['total_area']).astype('int')\n",
    "df[['last_price', 'total_area', 'price_per_square_meter']].head(10)"
   ]
  },
  {
   "cell_type": "code",
   "execution_count": 32,
   "metadata": {},
   "outputs": [
    {
     "data": {
      "text/html": [
       "<div>\n",
       "<style scoped>\n",
       "    .dataframe tbody tr th:only-of-type {\n",
       "        vertical-align: middle;\n",
       "    }\n",
       "\n",
       "    .dataframe tbody tr th {\n",
       "        vertical-align: top;\n",
       "    }\n",
       "\n",
       "    .dataframe thead th {\n",
       "        text-align: right;\n",
       "    }\n",
       "</style>\n",
       "<table border=\"1\" class=\"dataframe\">\n",
       "  <thead>\n",
       "    <tr style=\"text-align: right;\">\n",
       "      <th></th>\n",
       "      <th>first_day_exposition</th>\n",
       "      <th>weekday</th>\n",
       "      <th>month</th>\n",
       "      <th>year</th>\n",
       "    </tr>\n",
       "  </thead>\n",
       "  <tbody>\n",
       "    <tr>\n",
       "      <th>0</th>\n",
       "      <td>2019-03-07</td>\n",
       "      <td>3</td>\n",
       "      <td>3</td>\n",
       "      <td>2019</td>\n",
       "    </tr>\n",
       "    <tr>\n",
       "      <th>1</th>\n",
       "      <td>2018-12-04</td>\n",
       "      <td>1</td>\n",
       "      <td>12</td>\n",
       "      <td>2018</td>\n",
       "    </tr>\n",
       "    <tr>\n",
       "      <th>2</th>\n",
       "      <td>2015-08-20</td>\n",
       "      <td>3</td>\n",
       "      <td>8</td>\n",
       "      <td>2015</td>\n",
       "    </tr>\n",
       "    <tr>\n",
       "      <th>3</th>\n",
       "      <td>2015-07-24</td>\n",
       "      <td>4</td>\n",
       "      <td>7</td>\n",
       "      <td>2015</td>\n",
       "    </tr>\n",
       "    <tr>\n",
       "      <th>4</th>\n",
       "      <td>2018-06-19</td>\n",
       "      <td>1</td>\n",
       "      <td>6</td>\n",
       "      <td>2018</td>\n",
       "    </tr>\n",
       "    <tr>\n",
       "      <th>5</th>\n",
       "      <td>2018-09-10</td>\n",
       "      <td>0</td>\n",
       "      <td>9</td>\n",
       "      <td>2018</td>\n",
       "    </tr>\n",
       "    <tr>\n",
       "      <th>6</th>\n",
       "      <td>2017-11-02</td>\n",
       "      <td>3</td>\n",
       "      <td>11</td>\n",
       "      <td>2017</td>\n",
       "    </tr>\n",
       "    <tr>\n",
       "      <th>7</th>\n",
       "      <td>2019-04-18</td>\n",
       "      <td>3</td>\n",
       "      <td>4</td>\n",
       "      <td>2019</td>\n",
       "    </tr>\n",
       "    <tr>\n",
       "      <th>8</th>\n",
       "      <td>2018-05-23</td>\n",
       "      <td>2</td>\n",
       "      <td>5</td>\n",
       "      <td>2018</td>\n",
       "    </tr>\n",
       "    <tr>\n",
       "      <th>9</th>\n",
       "      <td>2017-02-26</td>\n",
       "      <td>6</td>\n",
       "      <td>2</td>\n",
       "      <td>2017</td>\n",
       "    </tr>\n",
       "  </tbody>\n",
       "</table>\n",
       "</div>"
      ],
      "text/plain": [
       "  first_day_exposition  weekday  month  year\n",
       "0           2019-03-07        3      3  2019\n",
       "1           2018-12-04        1     12  2018\n",
       "2           2015-08-20        3      8  2015\n",
       "3           2015-07-24        4      7  2015\n",
       "4           2018-06-19        1      6  2018\n",
       "5           2018-09-10        0      9  2018\n",
       "6           2017-11-02        3     11  2017\n",
       "7           2019-04-18        3      4  2019\n",
       "8           2018-05-23        2      5  2018\n",
       "9           2017-02-26        6      2  2017"
      ]
     },
     "execution_count": 32,
     "metadata": {},
     "output_type": "execute_result"
    }
   ],
   "source": [
    "#добавлю в таблицу день недели, месяц и год публикации объявления\n",
    "df['weekday'] = df['first_day_exposition'].dt.weekday\n",
    "df['month'] = df['first_day_exposition'].dt.month\n",
    "df['year'] = df['first_day_exposition'].dt.year\n",
    "df[['first_day_exposition', 'weekday', 'month', 'year']].head(10)"
   ]
  },
  {
   "cell_type": "code",
   "execution_count": 33,
   "metadata": {},
   "outputs": [],
   "source": [
    "#напишу функцию, которая вернет категорию этажа\n",
    "def group_floor(row):\n",
    "    if row['floor'] == 1:\n",
    "        return 'первый'\n",
    "    if row['floor'] == row['floors_total']:\n",
    "        return 'последний'\n",
    "    return 'другой'"
   ]
  },
  {
   "cell_type": "code",
   "execution_count": 34,
   "metadata": {},
   "outputs": [
    {
     "data": {
      "text/html": [
       "<div>\n",
       "<style scoped>\n",
       "    .dataframe tbody tr th:only-of-type {\n",
       "        vertical-align: middle;\n",
       "    }\n",
       "\n",
       "    .dataframe tbody tr th {\n",
       "        vertical-align: top;\n",
       "    }\n",
       "\n",
       "    .dataframe thead th {\n",
       "        text-align: right;\n",
       "    }\n",
       "</style>\n",
       "<table border=\"1\" class=\"dataframe\">\n",
       "  <thead>\n",
       "    <tr style=\"text-align: right;\">\n",
       "      <th></th>\n",
       "      <th>floor</th>\n",
       "      <th>floors_total</th>\n",
       "      <th>group_floor</th>\n",
       "    </tr>\n",
       "  </thead>\n",
       "  <tbody>\n",
       "    <tr>\n",
       "      <th>0</th>\n",
       "      <td>8</td>\n",
       "      <td>16</td>\n",
       "      <td>другой</td>\n",
       "    </tr>\n",
       "    <tr>\n",
       "      <th>1</th>\n",
       "      <td>1</td>\n",
       "      <td>11</td>\n",
       "      <td>первый</td>\n",
       "    </tr>\n",
       "    <tr>\n",
       "      <th>2</th>\n",
       "      <td>4</td>\n",
       "      <td>5</td>\n",
       "      <td>другой</td>\n",
       "    </tr>\n",
       "    <tr>\n",
       "      <th>3</th>\n",
       "      <td>9</td>\n",
       "      <td>14</td>\n",
       "      <td>другой</td>\n",
       "    </tr>\n",
       "    <tr>\n",
       "      <th>4</th>\n",
       "      <td>13</td>\n",
       "      <td>14</td>\n",
       "      <td>другой</td>\n",
       "    </tr>\n",
       "    <tr>\n",
       "      <th>5</th>\n",
       "      <td>5</td>\n",
       "      <td>12</td>\n",
       "      <td>другой</td>\n",
       "    </tr>\n",
       "    <tr>\n",
       "      <th>6</th>\n",
       "      <td>6</td>\n",
       "      <td>26</td>\n",
       "      <td>другой</td>\n",
       "    </tr>\n",
       "    <tr>\n",
       "      <th>7</th>\n",
       "      <td>22</td>\n",
       "      <td>24</td>\n",
       "      <td>другой</td>\n",
       "    </tr>\n",
       "    <tr>\n",
       "      <th>8</th>\n",
       "      <td>26</td>\n",
       "      <td>27</td>\n",
       "      <td>другой</td>\n",
       "    </tr>\n",
       "    <tr>\n",
       "      <th>9</th>\n",
       "      <td>7</td>\n",
       "      <td>9</td>\n",
       "      <td>другой</td>\n",
       "    </tr>\n",
       "  </tbody>\n",
       "</table>\n",
       "</div>"
      ],
      "text/plain": [
       "   floor  floors_total group_floor\n",
       "0      8            16      другой\n",
       "1      1            11      первый\n",
       "2      4             5      другой\n",
       "3      9            14      другой\n",
       "4     13            14      другой\n",
       "5      5            12      другой\n",
       "6      6            26      другой\n",
       "7     22            24      другой\n",
       "8     26            27      другой\n",
       "9      7             9      другой"
      ]
     },
     "execution_count": 34,
     "metadata": {},
     "output_type": "execute_result"
    }
   ],
   "source": [
    "df['group_floor'] = df.apply(group_floor, axis=1)\n",
    "df[['floor', 'floors_total', 'group_floor']].head(10)"
   ]
  },
  {
   "cell_type": "code",
   "execution_count": 35,
   "metadata": {},
   "outputs": [
    {
     "data": {
      "text/html": [
       "<div>\n",
       "<style scoped>\n",
       "    .dataframe tbody tr th:only-of-type {\n",
       "        vertical-align: middle;\n",
       "    }\n",
       "\n",
       "    .dataframe tbody tr th {\n",
       "        vertical-align: top;\n",
       "    }\n",
       "\n",
       "    .dataframe thead th {\n",
       "        text-align: right;\n",
       "    }\n",
       "</style>\n",
       "<table border=\"1\" class=\"dataframe\">\n",
       "  <thead>\n",
       "    <tr style=\"text-align: right;\">\n",
       "      <th></th>\n",
       "      <th>living_area</th>\n",
       "      <th>kitchen_area</th>\n",
       "      <th>total_area</th>\n",
       "      <th>living_area_part</th>\n",
       "      <th>kitchen_area_part</th>\n",
       "    </tr>\n",
       "  </thead>\n",
       "  <tbody>\n",
       "    <tr>\n",
       "      <th>0</th>\n",
       "      <td>51.000000</td>\n",
       "      <td>25.000000</td>\n",
       "      <td>108.00</td>\n",
       "      <td>0.472222</td>\n",
       "      <td>0.231481</td>\n",
       "    </tr>\n",
       "    <tr>\n",
       "      <th>1</th>\n",
       "      <td>18.600000</td>\n",
       "      <td>11.000000</td>\n",
       "      <td>40.40</td>\n",
       "      <td>0.460396</td>\n",
       "      <td>0.272277</td>\n",
       "    </tr>\n",
       "    <tr>\n",
       "      <th>2</th>\n",
       "      <td>34.300000</td>\n",
       "      <td>8.300000</td>\n",
       "      <td>56.00</td>\n",
       "      <td>0.612500</td>\n",
       "      <td>0.148214</td>\n",
       "    </tr>\n",
       "    <tr>\n",
       "      <th>3</th>\n",
       "      <td>86.110251</td>\n",
       "      <td>25.923237</td>\n",
       "      <td>159.00</td>\n",
       "      <td>0.541574</td>\n",
       "      <td>0.163039</td>\n",
       "    </tr>\n",
       "    <tr>\n",
       "      <th>4</th>\n",
       "      <td>32.000000</td>\n",
       "      <td>41.000000</td>\n",
       "      <td>100.00</td>\n",
       "      <td>0.320000</td>\n",
       "      <td>0.410000</td>\n",
       "    </tr>\n",
       "    <tr>\n",
       "      <th>5</th>\n",
       "      <td>14.400000</td>\n",
       "      <td>9.100000</td>\n",
       "      <td>30.40</td>\n",
       "      <td>0.473684</td>\n",
       "      <td>0.299342</td>\n",
       "    </tr>\n",
       "    <tr>\n",
       "      <th>6</th>\n",
       "      <td>10.600000</td>\n",
       "      <td>14.400000</td>\n",
       "      <td>37.30</td>\n",
       "      <td>0.284182</td>\n",
       "      <td>0.386059</td>\n",
       "    </tr>\n",
       "    <tr>\n",
       "      <th>7</th>\n",
       "      <td>38.776692</td>\n",
       "      <td>18.900000</td>\n",
       "      <td>71.60</td>\n",
       "      <td>0.541574</td>\n",
       "      <td>0.263966</td>\n",
       "    </tr>\n",
       "    <tr>\n",
       "      <th>8</th>\n",
       "      <td>15.430000</td>\n",
       "      <td>8.810000</td>\n",
       "      <td>33.16</td>\n",
       "      <td>0.465320</td>\n",
       "      <td>0.265682</td>\n",
       "    </tr>\n",
       "    <tr>\n",
       "      <th>9</th>\n",
       "      <td>43.600000</td>\n",
       "      <td>6.500000</td>\n",
       "      <td>61.00</td>\n",
       "      <td>0.714754</td>\n",
       "      <td>0.106557</td>\n",
       "    </tr>\n",
       "  </tbody>\n",
       "</table>\n",
       "</div>"
      ],
      "text/plain": [
       "   living_area  kitchen_area  total_area  living_area_part  kitchen_area_part\n",
       "0    51.000000     25.000000      108.00          0.472222           0.231481\n",
       "1    18.600000     11.000000       40.40          0.460396           0.272277\n",
       "2    34.300000      8.300000       56.00          0.612500           0.148214\n",
       "3    86.110251     25.923237      159.00          0.541574           0.163039\n",
       "4    32.000000     41.000000      100.00          0.320000           0.410000\n",
       "5    14.400000      9.100000       30.40          0.473684           0.299342\n",
       "6    10.600000     14.400000       37.30          0.284182           0.386059\n",
       "7    38.776692     18.900000       71.60          0.541574           0.263966\n",
       "8    15.430000      8.810000       33.16          0.465320           0.265682\n",
       "9    43.600000      6.500000       61.00          0.714754           0.106557"
      ]
     },
     "execution_count": 35,
     "metadata": {},
     "output_type": "execute_result"
    }
   ],
   "source": [
    "#создаю столбцы соотношения жилой/кухни к общей площади\n",
    "df['living_area_part'] = df['living_area']/df['total_area']\n",
    "df['kitchen_area_part'] = df['kitchen_area']/df['total_area']\n",
    "df[['living_area', 'kitchen_area', 'total_area', 'living_area_part', 'kitchen_area_part']].head(10)"
   ]
  },
  {
   "cell_type": "markdown",
   "metadata": {},
   "source": [
    "## Исследовательский анализ данных"
   ]
  },
  {
   "cell_type": "code",
   "execution_count": 36,
   "metadata": {},
   "outputs": [
    {
     "data": {
      "text/plain": [
       "count    23699.000000\n",
       "mean        60.348651\n",
       "std         35.654083\n",
       "min         12.000000\n",
       "25%         40.000000\n",
       "50%         52.000000\n",
       "75%         69.900000\n",
       "max        900.000000\n",
       "Name: total_area, dtype: float64"
      ]
     },
     "execution_count": 36,
     "metadata": {},
     "output_type": "execute_result"
    }
   ],
   "source": [
    "#изучу данные из столбца total_area\n",
    "df['total_area'].describe()"
   ]
  },
  {
   "cell_type": "code",
   "execution_count": 37,
   "metadata": {},
   "outputs": [
    {
     "data": {
      "image/png": "[encoded data removed]",
      "text/plain": [
       "<Figure size 432x288 with 1 Axes>"
      ]
     },
     "metadata": {
      "needs_background": "light"
     },
     "output_type": "display_data"
    }
   ],
   "source": [
    "#построю диаграмму размаха для total_area\n",
    "plt.ylim(0, 150)\n",
    "df.boxplot('total_area');"
   ]
  },
  {
   "cell_type": "code",
   "execution_count": 38,
   "metadata": {},
   "outputs": [
    {
     "data": {
      "image/png": "[encoded data removed]",
      "text/plain": [
       "<Figure size 432x288 with 1 Axes>"
      ]
     },
     "metadata": {
      "needs_background": "light"
     },
     "output_type": "display_data"
    }
   ],
   "source": [
    "#построю гистограмму для total_area\n",
    "df['total_area'].hist(bins= 60, range=(12, 400))\n",
    "plt.title('Total area')\n",
    "plt.xlabel('площадь (кв.м)')\n",
    "plt.show()"
   ]
  },
  {
   "cell_type": "markdown",
   "metadata": {},
   "source": [
    "- Площадь квартир варьируется от 12 до 900 кв.м\n",
    "- Средняя - 60\n",
    "- Медиана - 52\n",
    "- Квартиры свыше 300 кв. м. приму за аномалии и уберу"
   ]
  },
  {
   "cell_type": "code",
   "execution_count": 39,
   "metadata": {},
   "outputs": [
    {
     "data": {
      "text/plain": [
       "count     23699.000000\n",
       "mean       6541.532723\n",
       "std       10887.008378\n",
       "min          12.000000\n",
       "25%        3400.000000\n",
       "50%        4650.000000\n",
       "75%        6800.000000\n",
       "max      763000.000000\n",
       "Name: last_price, dtype: float64"
      ]
     },
     "execution_count": 39,
     "metadata": {},
     "output_type": "execute_result"
    }
   ],
   "source": [
    "#изучу данные из столбца last_price\n",
    "df['last_price'].describe()"
   ]
  },
  {
   "cell_type": "code",
   "execution_count": 40,
   "metadata": {},
   "outputs": [
    {
     "data": {
      "image/png": "[encoded data removed]",
      "text/plain": [
       "<Figure size 432x288 with 1 Axes>"
      ]
     },
     "metadata": {
      "needs_background": "light"
     },
     "output_type": "display_data"
    }
   ],
   "source": [
    "#построю диаграмму размаха для last_price\n",
    "plt.ylim(0, 20000)\n",
    "df.boxplot('last_price');"
   ]
  },
  {
   "cell_type": "code",
   "execution_count": 41,
   "metadata": {},
   "outputs": [
    {
     "data": {
      "image/png": "[encoded data removed]",
      "text/plain": [
       "<Figure size 432x288 with 1 Axes>"
      ]
     },
     "metadata": {
      "needs_background": "light"
     },
     "output_type": "display_data"
    }
   ],
   "source": [
    "#построю гистограмму для last_price\n",
    "df['last_price'].hist(bins=100, range=(12, 50000))\n",
    "plt.title('Last price')\n",
    "plt.xlabel('цена (тыс.руб)')\n",
    "plt.show()"
   ]
  },
  {
   "cell_type": "markdown",
   "metadata": {},
   "source": [
    "- Цены варьируются от 12000 до 763 млн. руб\n",
    "- Средняя - 6,5 млн\n",
    "- Медиана - 4,65 млн\n",
    "- Квартиры стоимостью более 100 млн. руб. уберу"
   ]
  },
  {
   "cell_type": "code",
   "execution_count": 42,
   "metadata": {},
   "outputs": [
    {
     "data": {
      "text/plain": [
       "count    23699.000000\n",
       "mean         2.070636\n",
       "std          1.078405\n",
       "min          0.000000\n",
       "25%          1.000000\n",
       "50%          2.000000\n",
       "75%          3.000000\n",
       "max         19.000000\n",
       "Name: rooms, dtype: float64"
      ]
     },
     "execution_count": 42,
     "metadata": {},
     "output_type": "execute_result"
    }
   ],
   "source": [
    "#изучу данные из столбца rooms\n",
    "df['rooms'].describe()"
   ]
  },
  {
   "cell_type": "code",
   "execution_count": 43,
   "metadata": {},
   "outputs": [
    {
     "data": {
      "image/png": "[encoded data removed]",
      "text/plain": [
       "<Figure size 432x288 with 1 Axes>"
      ]
     },
     "metadata": {
      "needs_background": "light"
     },
     "output_type": "display_data"
    }
   ],
   "source": [
    "#построю диаграмму размаха для rooms\n",
    "plt.ylim(0, 10)\n",
    "df.boxplot('rooms');"
   ]
  },
  {
   "cell_type": "code",
   "execution_count": 44,
   "metadata": {},
   "outputs": [
    {
     "data": {
      "image/png": "[encoded data removed]",
      "text/plain": [
       "<Figure size 432x288 with 1 Axes>"
      ]
     },
     "metadata": {
      "needs_background": "light"
     },
     "output_type": "display_data"
    }
   ],
   "source": [
    "#построю гистограмму для rooms\n",
    "df['rooms'].hist(bins=20, range=(0, 10))\n",
    "plt.title('Rooms')\n",
    "plt.xlabel('количество комнат')\n",
    "plt.show()"
   ]
  },
  {
   "cell_type": "markdown",
   "metadata": {},
   "source": [
    "- Комнаты варьируются от 0 до 19\n",
    "- Среднее - 2\n",
    "- Медиана - 2\n",
    "- Квартиры с количеством комнат более 8 уберу"
   ]
  },
  {
   "cell_type": "code",
   "execution_count": 45,
   "metadata": {},
   "outputs": [
    {
     "data": {
      "text/plain": [
       "count    23699.000000\n",
       "mean         2.724358\n",
       "std          0.988298\n",
       "min          1.000000\n",
       "25%          2.600000\n",
       "50%          2.650000\n",
       "75%          2.700000\n",
       "max        100.000000\n",
       "Name: ceiling_height, dtype: float64"
      ]
     },
     "execution_count": 45,
     "metadata": {},
     "output_type": "execute_result"
    }
   ],
   "source": [
    "#изучу данные из столбца ceiling_height\n",
    "df['ceiling_height'].describe()"
   ]
  },
  {
   "cell_type": "code",
   "execution_count": 46,
   "metadata": {},
   "outputs": [
    {
     "data": {
      "image/png": "[encoded data removed]",
      "text/plain": [
       "<Figure size 432x288 with 1 Axes>"
      ]
     },
     "metadata": {
      "needs_background": "light"
     },
     "output_type": "display_data"
    }
   ],
   "source": [
    "#построю диаграмму размаха для ceiling_height\n",
    "plt.ylim(2, 4)\n",
    "df.boxplot('ceiling_height');"
   ]
  },
  {
   "cell_type": "code",
   "execution_count": 47,
   "metadata": {},
   "outputs": [
    {
     "data": {
      "image/png": "[encoded data removed]",
      "text/plain": [
       "<Figure size 432x288 with 1 Axes>"
      ]
     },
     "metadata": {
      "needs_background": "light"
     },
     "output_type": "display_data"
    }
   ],
   "source": [
    "#построю гистограмму для ceiling_height\n",
    "df['ceiling_height'].hist(bins=30, range=(2, 4))\n",
    "plt.title('Ceiling height')\n",
    "plt.xlabel('высота потолков (м)')\n",
    "plt.show()"
   ]
  },
  {
   "cell_type": "markdown",
   "metadata": {},
   "source": [
    "- Высота потолков варьируется от 1 до 100 м\n",
    "- Среднее  - 2,7\n",
    "- Медиана - 2,65\n",
    "- Квартиры с потолком менее 2 и более 4 м уберу"
   ]
  },
  {
   "cell_type": "code",
   "execution_count": 48,
   "metadata": {},
   "outputs": [
    {
     "data": {
      "text/plain": [
       "count    20518.000000\n",
       "mean       180.888634\n",
       "std        219.727988\n",
       "min          1.000000\n",
       "25%         45.000000\n",
       "50%         95.000000\n",
       "75%        232.000000\n",
       "max       1580.000000\n",
       "Name: days_exposition, dtype: float64"
      ]
     },
     "execution_count": 48,
     "metadata": {},
     "output_type": "execute_result"
    }
   ],
   "source": [
    "#изучу время продажи квартиры\n",
    "df['days_exposition'].describe()"
   ]
  },
  {
   "cell_type": "markdown",
   "metadata": {},
   "source": [
    "- Среднее - 180\n",
    "- Медиана - 95"
   ]
  },
  {
   "cell_type": "code",
   "execution_count": 49,
   "metadata": {},
   "outputs": [
    {
     "data": {
      "image/png": "[encoded data removed]",
      "text/plain": [
       "<Figure size 432x288 with 1 Axes>"
      ]
     },
     "metadata": {
      "needs_background": "light"
     },
     "output_type": "display_data"
    }
   ],
   "source": [
    "#построю диаграмму размаха для days_exposition\n",
    "plt.ylim(1, 1000)\n",
    "df.boxplot('days_exposition');"
   ]
  },
  {
   "cell_type": "code",
   "execution_count": 50,
   "metadata": {},
   "outputs": [
    {
     "data": {
      "image/png": "[encoded data removed]",
      "text/plain": [
       "<Figure size 432x288 with 1 Axes>"
      ]
     },
     "metadata": {
      "needs_background": "light"
     },
     "output_type": "display_data"
    }
   ],
   "source": [
    "#построю гистограмму для days_exposition\n",
    "df['days_exposition'].hist(bins=60, range=(1, 1600))\n",
    "plt.title('Days exposition')\n",
    "plt.xlabel('количество дней')\n",
    "plt.show()"
   ]
  },
  {
   "cell_type": "code",
   "execution_count": 51,
   "metadata": {},
   "outputs": [
    {
     "data": {
      "image/png": "[encoded data removed]",
      "text/plain": [
       "<Figure size 432x288 with 1 Axes>"
      ]
     },
     "metadata": {
      "needs_background": "light"
     },
     "output_type": "display_data"
    }
   ],
   "source": [
    "df['days_exposition'].hist(bins=60, range=(1, 500))\n",
    "plt.title('Days exposition')\n",
    "plt.xlabel('количество дней')\n",
    "plt.show()"
   ]
  },
  {
   "cell_type": "code",
   "execution_count": 52,
   "metadata": {},
   "outputs": [
    {
     "data": {
      "image/png": "[encoded data removed]",
      "text/plain": [
       "<Figure size 432x288 with 1 Axes>"
      ]
     },
     "metadata": {
      "needs_background": "light"
     },
     "output_type": "display_data"
    }
   ],
   "source": [
    "#посмотрю поближе на пики\n",
    "df['days_exposition'].hist(bins=60, range=(1, 200))\n",
    "plt.title('Days exposition')\n",
    "plt.xlabel('количество дней')\n",
    "plt.show()"
   ]
  },
  {
   "cell_type": "markdown",
   "metadata": {},
   "source": [
    "Странные пики на 45-ый и 60-ый дни. У Яндекс.Недвижимость есть сроки публикации объявлений в зависимости от стоимости квартир. Это как раз 45, 60 и 90 дней.\n",
    "\n",
    "Обычно продажа квартиры занимает до 6 месяцев. Необоснованно быстрых продаж я не вижу, к долгим отнесу продажи свыше 1200 дней."
   ]
  },
  {
   "cell_type": "code",
   "execution_count": 53,
   "metadata": {},
   "outputs": [
    {
     "data": {
      "text/html": [
       "<div>\n",
       "<style scoped>\n",
       "    .dataframe tbody tr th:only-of-type {\n",
       "        vertical-align: middle;\n",
       "    }\n",
       "\n",
       "    .dataframe tbody tr th {\n",
       "        vertical-align: top;\n",
       "    }\n",
       "\n",
       "    .dataframe thead th {\n",
       "        text-align: right;\n",
       "    }\n",
       "</style>\n",
       "<table border=\"1\" class=\"dataframe\">\n",
       "  <thead>\n",
       "    <tr style=\"text-align: right;\">\n",
       "      <th></th>\n",
       "      <th>total_images</th>\n",
       "      <th>last_price</th>\n",
       "      <th>total_area</th>\n",
       "      <th>rooms</th>\n",
       "      <th>ceiling_height</th>\n",
       "      <th>floors_total</th>\n",
       "      <th>living_area</th>\n",
       "      <th>floor</th>\n",
       "      <th>kitchen_area</th>\n",
       "      <th>balcony</th>\n",
       "      <th>...</th>\n",
       "      <th>parks_nearest</th>\n",
       "      <th>ponds_around3000</th>\n",
       "      <th>ponds_nearest</th>\n",
       "      <th>days_exposition</th>\n",
       "      <th>price_per_square_meter</th>\n",
       "      <th>weekday</th>\n",
       "      <th>month</th>\n",
       "      <th>year</th>\n",
       "      <th>living_area_part</th>\n",
       "      <th>kitchen_area_part</th>\n",
       "    </tr>\n",
       "  </thead>\n",
       "  <tbody>\n",
       "    <tr>\n",
       "      <th>count</th>\n",
       "      <td>23434.000000</td>\n",
       "      <td>23434.000000</td>\n",
       "      <td>23434.000000</td>\n",
       "      <td>23434.000000</td>\n",
       "      <td>23434.000000</td>\n",
       "      <td>23434.000000</td>\n",
       "      <td>23434.000000</td>\n",
       "      <td>23434.000000</td>\n",
       "      <td>23434.000000</td>\n",
       "      <td>23434.000000</td>\n",
       "      <td>...</td>\n",
       "      <td>7912.00000</td>\n",
       "      <td>17946.000000</td>\n",
       "      <td>8940.000000</td>\n",
       "      <td>20313.000000</td>\n",
       "      <td>23434.000000</td>\n",
       "      <td>23434.000000</td>\n",
       "      <td>23434.000000</td>\n",
       "      <td>23434.000000</td>\n",
       "      <td>23434.000000</td>\n",
       "      <td>23434.000000</td>\n",
       "    </tr>\n",
       "    <tr>\n",
       "      <th>mean</th>\n",
       "      <td>9.840232</td>\n",
       "      <td>5985.830545</td>\n",
       "      <td>58.751590</td>\n",
       "      <td>2.045191</td>\n",
       "      <td>2.689554</td>\n",
       "      <td>10.715157</td>\n",
       "      <td>33.514479</td>\n",
       "      <td>5.904882</td>\n",
       "      <td>10.267959</td>\n",
       "      <td>0.592857</td>\n",
       "      <td>...</td>\n",
       "      <td>491.80953</td>\n",
       "      <td>0.761005</td>\n",
       "      <td>520.481655</td>\n",
       "      <td>179.812682</td>\n",
       "      <td>97.271358</td>\n",
       "      <td>2.567722</td>\n",
       "      <td>6.398481</td>\n",
       "      <td>2017.369634</td>\n",
       "      <td>0.562637</td>\n",
       "      <td>0.185436</td>\n",
       "    </tr>\n",
       "    <tr>\n",
       "      <th>std</th>\n",
       "      <td>5.665078</td>\n",
       "      <td>5072.388999</td>\n",
       "      <td>28.706852</td>\n",
       "      <td>1.013862</td>\n",
       "      <td>0.193979</td>\n",
       "      <td>6.600809</td>\n",
       "      <td>18.529604</td>\n",
       "      <td>4.895995</td>\n",
       "      <td>5.393711</td>\n",
       "      <td>0.959346</td>\n",
       "      <td>...</td>\n",
       "      <td>342.87897</td>\n",
       "      <td>0.931417</td>\n",
       "      <td>277.797368</td>\n",
       "      <td>218.762281</td>\n",
       "      <td>40.074789</td>\n",
       "      <td>1.789849</td>\n",
       "      <td>3.491532</td>\n",
       "      <td>1.037517</td>\n",
       "      <td>0.100887</td>\n",
       "      <td>0.069470</td>\n",
       "    </tr>\n",
       "    <tr>\n",
       "      <th>min</th>\n",
       "      <td>0.000000</td>\n",
       "      <td>12.000000</td>\n",
       "      <td>12.000000</td>\n",
       "      <td>0.000000</td>\n",
       "      <td>2.200000</td>\n",
       "      <td>1.000000</td>\n",
       "      <td>2.000000</td>\n",
       "      <td>1.000000</td>\n",
       "      <td>1.300000</td>\n",
       "      <td>0.000000</td>\n",
       "      <td>...</td>\n",
       "      <td>1.00000</td>\n",
       "      <td>0.000000</td>\n",
       "      <td>13.000000</td>\n",
       "      <td>1.000000</td>\n",
       "      <td>0.000000</td>\n",
       "      <td>0.000000</td>\n",
       "      <td>1.000000</td>\n",
       "      <td>2014.000000</td>\n",
       "      <td>0.038462</td>\n",
       "      <td>0.025381</td>\n",
       "    </tr>\n",
       "    <tr>\n",
       "      <th>25%</th>\n",
       "      <td>6.000000</td>\n",
       "      <td>3400.000000</td>\n",
       "      <td>40.000000</td>\n",
       "      <td>1.000000</td>\n",
       "      <td>2.600000</td>\n",
       "      <td>5.000000</td>\n",
       "      <td>18.955087</td>\n",
       "      <td>2.000000</td>\n",
       "      <td>7.000000</td>\n",
       "      <td>0.000000</td>\n",
       "      <td>...</td>\n",
       "      <td>288.00000</td>\n",
       "      <td>0.000000</td>\n",
       "      <td>297.750000</td>\n",
       "      <td>45.000000</td>\n",
       "      <td>76.000000</td>\n",
       "      <td>1.000000</td>\n",
       "      <td>3.000000</td>\n",
       "      <td>2017.000000</td>\n",
       "      <td>0.500000</td>\n",
       "      <td>0.137476</td>\n",
       "    </tr>\n",
       "    <tr>\n",
       "      <th>50%</th>\n",
       "      <td>9.000000</td>\n",
       "      <td>4600.000000</td>\n",
       "      <td>52.000000</td>\n",
       "      <td>2.000000</td>\n",
       "      <td>2.650000</td>\n",
       "      <td>9.000000</td>\n",
       "      <td>30.000000</td>\n",
       "      <td>4.000000</td>\n",
       "      <td>9.000000</td>\n",
       "      <td>0.000000</td>\n",
       "      <td>...</td>\n",
       "      <td>455.00000</td>\n",
       "      <td>0.000000</td>\n",
       "      <td>503.500000</td>\n",
       "      <td>95.000000</td>\n",
       "      <td>94.000000</td>\n",
       "      <td>3.000000</td>\n",
       "      <td>6.000000</td>\n",
       "      <td>2017.000000</td>\n",
       "      <td>0.556802</td>\n",
       "      <td>0.163039</td>\n",
       "    </tr>\n",
       "    <tr>\n",
       "      <th>75%</th>\n",
       "      <td>14.000000</td>\n",
       "      <td>6700.000000</td>\n",
       "      <td>69.000000</td>\n",
       "      <td>3.000000</td>\n",
       "      <td>2.700000</td>\n",
       "      <td>16.000000</td>\n",
       "      <td>42.000000</td>\n",
       "      <td>8.000000</td>\n",
       "      <td>11.800000</td>\n",
       "      <td>1.000000</td>\n",
       "      <td>...</td>\n",
       "      <td>613.00000</td>\n",
       "      <td>1.000000</td>\n",
       "      <td>733.000000</td>\n",
       "      <td>229.000000</td>\n",
       "      <td>113.000000</td>\n",
       "      <td>4.000000</td>\n",
       "      <td>10.000000</td>\n",
       "      <td>2018.000000</td>\n",
       "      <td>0.631160</td>\n",
       "      <td>0.224138</td>\n",
       "    </tr>\n",
       "    <tr>\n",
       "      <th>max</th>\n",
       "      <td>50.000000</td>\n",
       "      <td>59914.000000</td>\n",
       "      <td>297.500000</td>\n",
       "      <td>7.000000</td>\n",
       "      <td>3.980000</td>\n",
       "      <td>60.000000</td>\n",
       "      <td>211.000000</td>\n",
       "      <td>33.000000</td>\n",
       "      <td>100.700000</td>\n",
       "      <td>5.000000</td>\n",
       "      <td>...</td>\n",
       "      <td>3190.00000</td>\n",
       "      <td>3.000000</td>\n",
       "      <td>1344.000000</td>\n",
       "      <td>1580.000000</td>\n",
       "      <td>848.000000</td>\n",
       "      <td>6.000000</td>\n",
       "      <td>12.000000</td>\n",
       "      <td>2019.000000</td>\n",
       "      <td>1.000000</td>\n",
       "      <td>0.787879</td>\n",
       "    </tr>\n",
       "  </tbody>\n",
       "</table>\n",
       "<p>8 rows × 23 columns</p>\n",
       "</div>"
      ],
      "text/plain": [
       "       total_images    last_price    total_area         rooms  ceiling_height  \\\n",
       "count  23434.000000  23434.000000  23434.000000  23434.000000    23434.000000   \n",
       "mean       9.840232   5985.830545     58.751590      2.045191        2.689554   \n",
       "std        5.665078   5072.388999     28.706852      1.013862        0.193979   \n",
       "min        0.000000     12.000000     12.000000      0.000000        2.200000   \n",
       "25%        6.000000   3400.000000     40.000000      1.000000        2.600000   \n",
       "50%        9.000000   4600.000000     52.000000      2.000000        2.650000   \n",
       "75%       14.000000   6700.000000     69.000000      3.000000        2.700000   \n",
       "max       50.000000  59914.000000    297.500000      7.000000        3.980000   \n",
       "\n",
       "       floors_total   living_area         floor  kitchen_area       balcony  \\\n",
       "count  23434.000000  23434.000000  23434.000000  23434.000000  23434.000000   \n",
       "mean      10.715157     33.514479      5.904882     10.267959      0.592857   \n",
       "std        6.600809     18.529604      4.895995      5.393711      0.959346   \n",
       "min        1.000000      2.000000      1.000000      1.300000      0.000000   \n",
       "25%        5.000000     18.955087      2.000000      7.000000      0.000000   \n",
       "50%        9.000000     30.000000      4.000000      9.000000      0.000000   \n",
       "75%       16.000000     42.000000      8.000000     11.800000      1.000000   \n",
       "max       60.000000    211.000000     33.000000    100.700000      5.000000   \n",
       "\n",
       "       ...  parks_nearest  ponds_around3000  ponds_nearest  days_exposition  \\\n",
       "count  ...     7912.00000      17946.000000    8940.000000     20313.000000   \n",
       "mean   ...      491.80953          0.761005     520.481655       179.812682   \n",
       "std    ...      342.87897          0.931417     277.797368       218.762281   \n",
       "min    ...        1.00000          0.000000      13.000000         1.000000   \n",
       "25%    ...      288.00000          0.000000     297.750000        45.000000   \n",
       "50%    ...      455.00000          0.000000     503.500000        95.000000   \n",
       "75%    ...      613.00000          1.000000     733.000000       229.000000   \n",
       "max    ...     3190.00000          3.000000    1344.000000      1580.000000   \n",
       "\n",
       "       price_per_square_meter       weekday         month          year  \\\n",
       "count            23434.000000  23434.000000  23434.000000  23434.000000   \n",
       "mean                97.271358      2.567722      6.398481   2017.369634   \n",
       "std                 40.074789      1.789849      3.491532      1.037517   \n",
       "min                  0.000000      0.000000      1.000000   2014.000000   \n",
       "25%                 76.000000      1.000000      3.000000   2017.000000   \n",
       "50%                 94.000000      3.000000      6.000000   2017.000000   \n",
       "75%                113.000000      4.000000     10.000000   2018.000000   \n",
       "max                848.000000      6.000000     12.000000   2019.000000   \n",
       "\n",
       "       living_area_part  kitchen_area_part  \n",
       "count      23434.000000       23434.000000  \n",
       "mean           0.562637           0.185436  \n",
       "std            0.100887           0.069470  \n",
       "min            0.038462           0.025381  \n",
       "25%            0.500000           0.137476  \n",
       "50%            0.556802           0.163039  \n",
       "75%            0.631160           0.224138  \n",
       "max            1.000000           0.787879  \n",
       "\n",
       "[8 rows x 23 columns]"
      ]
     },
     "execution_count": 53,
     "metadata": {},
     "output_type": "execute_result"
    }
   ],
   "source": [
    "#уберу редкие и выбивающиеся значения\n",
    "df_new = df.query('total_area<300 and last_price<60000 and rooms<8 and 2<ceiling_height<4')\n",
    "df_new.describe()"
   ]
  },
  {
   "cell_type": "code",
   "execution_count": 54,
   "metadata": {},
   "outputs": [
    {
     "data": {
      "text/plain": [
       "0.9888180935904468"
      ]
     },
     "execution_count": 54,
     "metadata": {},
     "output_type": "execute_result"
    }
   ],
   "source": [
    "df_new.shape[0] / df.shape[0]"
   ]
  },
  {
   "cell_type": "markdown",
   "metadata": {},
   "source": [
    "В итоге я убрала 1,2% данных, что вполне допустимо."
   ]
  },
  {
   "cell_type": "code",
   "execution_count": 55,
   "metadata": {},
   "outputs": [
    {
     "data": {
      "image/png": "[encoded data removed]",
      "text/plain": [
       "<Figure size 432x288 with 1 Axes>"
      ]
     },
     "metadata": {
      "needs_background": "light"
     },
     "output_type": "display_data"
    }
   ],
   "source": [
    "#построю столбчатую диаграмму, чтобы изучить зависимость цены от общей площади\n",
    "sns.barplot(data=df_new, x='total_area', y='last_price', errwidth=0)\n",
    "plt.title('Зависимость цены от общей площади')\n",
    "plt.xlabel('общая площадь (кв.м)')\n",
    "plt.ylabel('цена (тыс.руб)')\n",
    "plt.show()"
   ]
  },
  {
   "cell_type": "code",
   "execution_count": 56,
   "metadata": {},
   "outputs": [
    {
     "data": {
      "text/plain": [
       "0.7723918479015474"
      ]
     },
     "execution_count": 56,
     "metadata": {},
     "output_type": "execute_result"
    }
   ],
   "source": [
    "#посчитаю корреляцию\n",
    "df_new['total_area'].corr(df_new['last_price'])"
   ]
  },
  {
   "cell_type": "markdown",
   "metadata": {},
   "source": [
    "Видим, что зависимость есть. Коэффициент корреляции равен 0,77. Чем больше общая площадь квартиры, тем выше ее стоимость."
   ]
  },
  {
   "cell_type": "code",
   "execution_count": 57,
   "metadata": {},
   "outputs": [
    {
     "data": {
      "image/png": "[encoded data removed]",
      "text/plain": [
       "<Figure size 432x288 with 1 Axes>"
      ]
     },
     "metadata": {
      "needs_background": "light"
     },
     "output_type": "display_data"
    }
   ],
   "source": [
    "#построю столбчатую диаграмму, чтобы изучить зависимость цены от количества комнат\n",
    "sns.barplot(data=df_new, x='rooms', y='last_price', errwidth=0)\n",
    "plt.title('Зависимость цены от количества комнат')\n",
    "plt.xlabel('количество комнат')\n",
    "plt.ylabel('цена (тыс.руб)')\n",
    "plt.show()"
   ]
  },
  {
   "cell_type": "code",
   "execution_count": 58,
   "metadata": {},
   "outputs": [
    {
     "data": {
      "text/plain": [
       "0.4837251653473701"
      ]
     },
     "execution_count": 58,
     "metadata": {},
     "output_type": "execute_result"
    }
   ],
   "source": [
    "#посчитаю корреляцию\n",
    "df_new['rooms'].corr(df_new['last_price'])"
   ]
  },
  {
   "cell_type": "markdown",
   "metadata": {},
   "source": [
    "И тут тоже видна зависимость. Хотя коэффициент корреляции ниже и равен 0,48. Все равно можно сказать, чем больше комнат в квартире, тем цена будет выше."
   ]
  },
  {
   "cell_type": "code",
   "execution_count": null,
   "metadata": {},
   "outputs": [],
   "source": [
    "#построю столбчатую диаграмму, чтобы изучить зависимость цены от удаленности от центра\n",
    "sns.barplot(data=df_new, x='cityCenters_nearest', y='last_price', errwidth=0)\n",
    "plt.title('Зависимость цены от удаленности от центра')\n",
    "plt.xlabel('удаленность от центра (км)')\n",
    "plt.ylabel('цена (тыс.руб)')\n",
    "plt.show()"
   ]
  },
  {
   "cell_type": "code",
   "execution_count": null,
   "metadata": {},
   "outputs": [],
   "source": [
    "#посчитаю корреляцию\n",
    "df_new['cityCenters_nearest'].corr(df_new['last_price'])"
   ]
  },
  {
   "cell_type": "markdown",
   "metadata": {},
   "source": [
    "Зависимость слабая. Об этом также нам говорит коэффициент корреляции, который равен -0,32. Самые дорогие квартиры действительно находятся ближе к центру, но не всегда."
   ]
  },
  {
   "cell_type": "code",
   "execution_count": null,
   "metadata": {},
   "outputs": [],
   "source": [
    "#построю столбчатую диаграмму, чтобы изучить зависимость цены от того, на каком этаже расположена квартира\n",
    "sns.barplot(data=df_new, x='group_floor', y='last_price', errwidth=0)\n",
    "plt.title('Зависимость цены от того, на каком этаже расположена квартира')\n",
    "plt.xlabel('этаж')\n",
    "plt.ylabel('цена (тыс.руб)')\n",
    "plt.show()"
   ]
  },
  {
   "cell_type": "markdown",
   "metadata": {},
   "source": [
    "Квартиры на первом этаже самые дешевые. При этом квартиры на посленем этаже чуть дешевле квартир на других этажах."
   ]
  },
  {
   "cell_type": "code",
   "execution_count": null,
   "metadata": {},
   "outputs": [],
   "source": [
    "#построю столбчатую диаграмму, чтобы изучить зависимость цены от дня недели\n",
    "sns.barplot(data=df_new, x='weekday', y='last_price', errwidth=0)\n",
    "plt.title('Зависимость цены от дня недели')\n",
    "plt.xlabel('день недели')\n",
    "plt.ylabel('цена (тыс.руб)')\n",
    "plt.show()"
   ]
  },
  {
   "cell_type": "code",
   "execution_count": null,
   "metadata": {},
   "outputs": [],
   "source": [
    "#посчитаю корреляцию\n",
    "#df['weekday'].corr(df['last_price'])"
   ]
  },
  {
   "cell_type": "code",
   "execution_count": null,
   "metadata": {},
   "outputs": [],
   "source": [
    "#построю столбчатую диаграмму, чтобы изучить зависимость цены от месяца\n",
    "sns.barplot(data=df_new, x='month', y='last_price', errwidth=0)\n",
    "plt.title('Зависимость цены от месяца')\n",
    "plt.xlabel('месяц')\n",
    "plt.ylabel('цена (тыс.руб)')\n",
    "plt.show()"
   ]
  },
  {
   "cell_type": "code",
   "execution_count": null,
   "metadata": {},
   "outputs": [],
   "source": [
    "#посчитаю корреляцию\n",
    "#df['month'].corr(df['last_price'])"
   ]
  },
  {
   "cell_type": "code",
   "execution_count": null,
   "metadata": {},
   "outputs": [],
   "source": [
    "#построю столбчатую диаграмму, чтобы изучить зависимость цены от года\n",
    "sns.barplot(data=df_new, x='year', y='last_price', errwidth=0)\n",
    "plt.title('Зависимость цены от года')\n",
    "plt.xlabel('год')\n",
    "plt.ylabel('цена (тыс.руб)')\n",
    "plt.show()"
   ]
  },
  {
   "cell_type": "code",
   "execution_count": null,
   "metadata": {},
   "outputs": [],
   "source": [
    "#посчитаю корреляцию\n",
    "#df['year'].corr(df['last_price'])"
   ]
  },
  {
   "cell_type": "markdown",
   "metadata": {},
   "source": [
    "Зависимости цены от даты размещения объявления я не нашла. По последнему графику можно сказать, что цены на квартиры, размещенные в 2014 году, были чуть выше цен последующих годов. После 2018 года мы снова видим небольшое повешение цен."
   ]
  },
  {
   "cell_type": "code",
   "execution_count": null,
   "metadata": {},
   "outputs": [],
   "source": [
    "#создам сводную таблицу по населенным пунктам и посчитаю среднюю цену за квадратный метр для каждого locality_name\n",
    "locality_pivot_table = df_new.pivot_table(index='locality_name', values='last_price', aggfunc=['count', 'mean'])\n",
    "locality_pivot_table.columns = ['count', 'mean']\n",
    "locality_pivot_table = locality_pivot_table.sort_values('count', ascending = False)\n",
    "locality_pivot_table.head(10)"
   ]
  },
  {
   "cell_type": "markdown",
   "metadata": {},
   "source": [
    "Из таблицы выше мы видим, что самая высокая стоимсть жилья в Санкт-Петербурге, а самая низкая - в Выборге. "
   ]
  },
  {
   "cell_type": "code",
   "execution_count": null,
   "metadata": {},
   "outputs": [],
   "source": [
    "#создаю столбец cityCenters_nearest_km\n",
    "#в отдельной таблице выделю квартиры в Санкт-Петербурге\n",
    "df_new['cityCenters_nearest_km'] = (df_new['cityCenters_nearest']/1000).round()\n",
    "df_new['cityCenters_nearest_km'] = df_new['cityCenters_nearest_km'].fillna(0).astype('int')\n",
    "df_spb = df_new.query('locality_name == \"Санкт-Петербург\"')\n",
    "df_spb.head(10)"
   ]
  },
  {
   "cell_type": "code",
   "execution_count": null,
   "metadata": {},
   "outputs": [],
   "source": [
    "#создам сводную таблицу, в которой посчитаю среднюю цену за каждый км\n",
    "df_spb_pivot = df_spb.pivot_table(index='cityCenters_nearest_km', values='last_price')\n",
    "df_spb_pivot.head(10)"
   ]
  },
  {
   "cell_type": "code",
   "execution_count": null,
   "metadata": {},
   "outputs": [],
   "source": [
    "#построю график, который покажет, как цена зависит от удалённости от центра\n",
    "df_spb_pivot['last_price'].plot(kind='bar')\n",
    "plt.title('Зависимость цены от удаленности от центар')\n",
    "plt.xlabel('удаленность от центра (км)')\n",
    "plt.ylabel('цена (тыс.руб)')\n",
    "plt.show()"
   ]
  },
  {
   "cell_type": "markdown",
   "metadata": {},
   "source": [
    "По графику видно, как уменьшается цена за квадратный метр с увеличением удаленности от центра. Центральную зону определю в 8 км."
   ]
  },
  {
   "cell_type": "code",
   "execution_count": null,
   "metadata": {},
   "outputs": [],
   "source": [
    "#выделю квартиры в центре Санкт-Петербурга\n",
    "df_spb_center = df_spb.query('locality_name == \"Санкт-Петербург\" and cityCenters_nearest_km <= 8')\n",
    "df_spb_center"
   ]
  },
  {
   "cell_type": "code",
   "execution_count": null,
   "metadata": {},
   "outputs": [],
   "source": [
    "#изучу данные из столбца total_area\n",
    "df_spb_center['total_area'].describe()"
   ]
  },
  {
   "cell_type": "code",
   "execution_count": null,
   "metadata": {},
   "outputs": [],
   "source": [
    "#построю диаграмму размаха для total_area\n",
    "plt.ylim(0, 160)\n",
    "df_spb_center.boxplot('total_area');"
   ]
  },
  {
   "cell_type": "code",
   "execution_count": null,
   "metadata": {},
   "outputs": [],
   "source": [
    "#построю гистограмму для total_area\n",
    "df_spb_center['total_area'].hist(bins=60, range=(12, 160))\n",
    "plt.title('Total area')\n",
    "plt.xlabel('общая площадь (кв.м)')\n",
    "plt.show()"
   ]
  },
  {
   "cell_type": "markdown",
   "metadata": {},
   "source": [
    "В центре Питера средняя площадь квартир 50-100 кв.м"
   ]
  },
  {
   "cell_type": "code",
   "execution_count": null,
   "metadata": {},
   "outputs": [],
   "source": [
    "#изучу данные из столбца last_price\n",
    "df_spb_center['last_price'].describe()"
   ]
  },
  {
   "cell_type": "code",
   "execution_count": null,
   "metadata": {},
   "outputs": [],
   "source": [
    "#построю диаграмму размаха для last_price\n",
    "plt.ylim(0, 20000)\n",
    "df_spb_center.boxplot('last_price');"
   ]
  },
  {
   "cell_type": "code",
   "execution_count": null,
   "metadata": {},
   "outputs": [],
   "source": [
    "#построю гистограмму для last_price\n",
    "df_spb_center['last_price'].hist(bins=60, range=(0, 20000))\n",
    "plt.title('Last price')\n",
    "plt.xlabel('цена (тыс.руб)')\n",
    "plt.show()"
   ]
  },
  {
   "cell_type": "markdown",
   "metadata": {},
   "source": [
    "Средняя цена квартиры в центре Питера - 5-10 млн. руб"
   ]
  },
  {
   "cell_type": "code",
   "execution_count": null,
   "metadata": {},
   "outputs": [],
   "source": [
    "#изучу данные из столбца rooms\n",
    "df_spb_center['rooms'].describe()"
   ]
  },
  {
   "cell_type": "code",
   "execution_count": null,
   "metadata": {},
   "outputs": [],
   "source": [
    "#построю диаграмму размаха для rooms\n",
    "plt.ylim(0, 6)\n",
    "df_spb_center.boxplot('rooms');"
   ]
  },
  {
   "cell_type": "code",
   "execution_count": null,
   "metadata": {},
   "outputs": [],
   "source": [
    "#построю гистограмму для rooms\n",
    "df_spb_center['rooms'].hist(bins=20, range=(0, 7))\n",
    "plt.title('Rooms')\n",
    "plt.xlabel('количество комнат')\n",
    "plt.show()"
   ]
  },
  {
   "cell_type": "markdown",
   "metadata": {},
   "source": [
    "Среднее количество комнат в квартирах в центре Питера - 2-3"
   ]
  },
  {
   "cell_type": "code",
   "execution_count": null,
   "metadata": {},
   "outputs": [],
   "source": [
    "#изучу данные из столбца ceiling_height\n",
    "df_spb_center['ceiling_height'].describe()"
   ]
  },
  {
   "cell_type": "code",
   "execution_count": null,
   "metadata": {},
   "outputs": [],
   "source": [
    "#построю диаграмму размаха для ceiling_height\n",
    "plt.ylim(2, 4)\n",
    "df_spb_center.boxplot('ceiling_height');"
   ]
  },
  {
   "cell_type": "code",
   "execution_count": null,
   "metadata": {},
   "outputs": [],
   "source": [
    "#построю гистограмму для ceiling_height\n",
    "df_spb_center['ceiling_height'].hist(bins=20, range=(2, 4))\n",
    "plt.title('Сeiling height')\n",
    "plt.xlabel('высота потолков (м)')\n",
    "plt.show()"
   ]
  },
  {
   "cell_type": "markdown",
   "metadata": {},
   "source": [
    "Средняя высота потолков - 2,65 - 3 м"
   ]
  },
  {
   "cell_type": "code",
   "execution_count": null,
   "metadata": {},
   "outputs": [],
   "source": [
    "#построю столбчатую диаграмму, чтобы изучить зависимость цены от общей площади\n",
    "sns.barplot(data=df_spb_center, x='total_area', y='last_price', errwidth=0)\n",
    "plt.title('Зависимость цены от общей площади')\n",
    "plt.xlabel('общая площадь (кв.м)')\n",
    "plt.ylabel('цена (тыс.руб)')\n",
    "plt.show()"
   ]
  },
  {
   "cell_type": "code",
   "execution_count": null,
   "metadata": {},
   "outputs": [],
   "source": [
    "#посчитаю корреляцию\n",
    "df_spb_center['total_area'].corr(df_spb_center['last_price'])"
   ]
  },
  {
   "cell_type": "markdown",
   "metadata": {},
   "source": [
    "- Корреляция - 0,71. Диаграмма показывает нам, как с увеличением общей площади, растет и цена на квартиры.\n",
    "- Выводы схожи с общими выводами по всей базе."
   ]
  },
  {
   "cell_type": "code",
   "execution_count": null,
   "metadata": {},
   "outputs": [],
   "source": [
    "#построю столбчатую диаграмму, чтобы изучить зависимость цены от количества комнат\n",
    "sns.barplot(data=df_spb_center, x='rooms', y='last_price', errwidth=0)\n",
    "plt.title('Зависимость цены от количества комнат')\n",
    "plt.xlabel('количество комнат')\n",
    "plt.ylabel('цена (тыс.руб)')\n",
    "plt.show()"
   ]
  },
  {
   "cell_type": "code",
   "execution_count": null,
   "metadata": {},
   "outputs": [],
   "source": [
    "#посчитаю корреляцию\n",
    "df_spb_center['rooms'].corr(df_spb_center['last_price'])"
   ]
  },
  {
   "cell_type": "markdown",
   "metadata": {},
   "source": [
    "- Корреляция - 0,43. Диаграмма показывает нам, как с увеличением количества комнат, растет и цена на квартиры.\n",
    "- Выводы схожи с общими выводами по всей базе."
   ]
  },
  {
   "cell_type": "code",
   "execution_count": null,
   "metadata": {},
   "outputs": [],
   "source": [
    "#построю столбчатую диаграмму, чтобы изучить зависимость цены от того, на каком этаже расположена квартира\n",
    "sns.barplot(data=df_spb_center, x='group_floor', y='last_price', errwidth=0)\n",
    "plt.title('Зависимость цены от того, на каком этаже расположена квартира')\n",
    "plt.xlabel('этаж')\n",
    "plt.ylabel('цена (тыс.руб)')\n",
    "plt.show()"
   ]
  },
  {
   "cell_type": "markdown",
   "metadata": {},
   "source": [
    "- Цены на квартиры на первом этаже ниже цен на квартиры на других этажах. Цена квартир на последнем этаже чуть ниже цены квартир на других этажах. Разница незначительна.\n",
    "- Выводы схожи с общими выводами по всей базе."
   ]
  },
  {
   "cell_type": "code",
   "execution_count": null,
   "metadata": {},
   "outputs": [],
   "source": [
    "#построю столбчатую диаграмму, чтобы изучить зависимость цены от удаленности от центра\n",
    "sns.barplot(data=df_spb_center, x='cityCenters_nearest_km', y='last_price', errwidth=0)\n",
    "plt.title('Зависимость цены от удаленности от центра')\n",
    "plt.xlabel('удаленность от центра (км)')\n",
    "plt.ylabel('цена (тыс.руб)')\n",
    "plt.show()"
   ]
  },
  {
   "cell_type": "code",
   "execution_count": null,
   "metadata": {},
   "outputs": [],
   "source": [
    "#посчитаю корреляцию\n",
    "df_spb_center['cityCenters_nearest_km'].corr(df_spb_center['last_price'])"
   ]
  },
  {
   "cell_type": "markdown",
   "metadata": {},
   "source": [
    "- Взаимосвязь очень слабая. Корреляция -0,07 говорит нам об этом. Цены на квартиры в центре Питера +- одинаковые.\n",
    "- Если в общей выборке мы видили, как цена уменьшается с увеличением расстояния от центра, то здесь такой зависимости нет."
   ]
  },
  {
   "cell_type": "code",
   "execution_count": null,
   "metadata": {},
   "outputs": [],
   "source": [
    "#построю столбчатую диаграмму, чтобы изучить зависимость цены от дня недели\n",
    "sns.barplot(data=df_spb_center, x='weekday', y='last_price', errwidth=0)\n",
    "plt.title('Зависимость цены от дня недели')\n",
    "plt.xlabel('день недели')\n",
    "plt.ylabel('цена (тыс.руб)')\n",
    "plt.show()"
   ]
  },
  {
   "cell_type": "code",
   "execution_count": null,
   "metadata": {},
   "outputs": [],
   "source": [
    "#посчитаю корреляцию\n",
    "#df_spb_center['weekday'].corr(df_spb_center['last_price'])"
   ]
  },
  {
   "cell_type": "code",
   "execution_count": null,
   "metadata": {},
   "outputs": [],
   "source": [
    "#построю столбчатую диаграмму, чтобы изучить зависимость цены от месяца\n",
    "sns.barplot(data=df_spb_center, x='month', y='last_price', errwidth=0)\n",
    "plt.title('Зависимость цены от месяца')\n",
    "plt.xlabel('месяц')\n",
    "plt.ylabel('цена (тыс.руб)')\n",
    "plt.show()"
   ]
  },
  {
   "cell_type": "code",
   "execution_count": null,
   "metadata": {},
   "outputs": [],
   "source": [
    "#посчитаю корреляцию\n",
    "#df_spb_center['month'].corr(df_spb_center['last_price'])"
   ]
  },
  {
   "cell_type": "code",
   "execution_count": null,
   "metadata": {},
   "outputs": [],
   "source": [
    "#построю столбчатую диаграмму, чтобы изучить зависимость цены от года\n",
    "sns.barplot(data=df_spb_center, x='year', y='last_price', errwidth=0)\n",
    "plt.title('Зависимость цены от года')\n",
    "plt.xlabel('год')\n",
    "plt.ylabel('цена (тыс.руб)')\n",
    "plt.show()"
   ]
  },
  {
   "cell_type": "code",
   "execution_count": null,
   "metadata": {},
   "outputs": [],
   "source": [
    "#посчитаю корреляцию\n",
    "#df_spb_center['year'].corr(df_spb_center['last_price'])"
   ]
  },
  {
   "cell_type": "markdown",
   "metadata": {},
   "source": [
    "Выводы схожи с общими выводами по всей базе."
   ]
  },
  {
   "cell_type": "markdown",
   "metadata": {},
   "source": [
    "## Общий вывод"
   ]
  },
  {
   "cell_type": "markdown",
   "metadata": {},
   "source": [
    "- Я изучила данные сервиса Яндекс Недвижимость — архив объявлений о продаже квартир в Санкт-Петербурге и соседних населённых пунктах за несколько лет и выявила несколько факторов, влияющих на конечную рыночную стоимоть квартир.\n",
    "- Рыночная стоимость выше у квартир:\n",
    "    - с большей площадью;\n",
    "    - с большим количеством комнат;\n",
    "    - расположенных ближе к центру;\n",
    "    - расположенных на этажах кроме первого и последнего.\n",
    "- Я не увидела зависимости цены от даты размещения объявления. Единственный момент здесь - цены на квартиры упали после 2014 года и снова пошли вверх после 2018 года.\n",
    "- Если сравнивать общие данные с данными по квартирам в центре Санкт-Петербурга, большой разницы не вижу. Единственный момент:\n",
    "    - по общим данным есть зависимость цены от удаленности от центра. Чем ближе к центру, тем выше цена;\n",
    "    - если брать выборку по центру Питера, такой зависимости нет. Цены +- одинаковые."
   ]
  }
 ],
 "metadata": {
  "ExecuteTimeLog": [
   {
    "duration": 80,
    "start_time": "2022-05-19T15:03:49.271Z"
   },
   {
    "duration": 7,
    "start_time": "2022-05-19T15:03:51.303Z"
   },
   {
    "duration": 95,
    "start_time": "2022-05-19T15:08:41.663Z"
   },
   {
    "duration": 43,
    "start_time": "2022-05-19T15:08:42.581Z"
   },
   {
    "duration": 16,
    "start_time": "2022-05-19T15:09:15.669Z"
   },
   {
    "duration": 628,
    "start_time": "2022-05-19T15:20:27.942Z"
   },
   {
    "duration": 35,
    "start_time": "2022-05-19T15:20:28.572Z"
   },
   {
    "duration": 12,
    "start_time": "2022-05-19T15:20:28.609Z"
   },
   {
    "duration": 104,
    "start_time": "2022-05-19T15:49:11.777Z"
   },
   {
    "duration": 27,
    "start_time": "2022-05-19T15:49:12.753Z"
   },
   {
    "duration": 12,
    "start_time": "2022-05-19T15:49:14.457Z"
   },
   {
    "duration": 89,
    "start_time": "2022-05-19T15:57:17.276Z"
   },
   {
    "duration": 34,
    "start_time": "2022-05-19T15:57:19.187Z"
   },
   {
    "duration": 18,
    "start_time": "2022-05-19T15:57:23.275Z"
   },
   {
    "duration": 5,
    "start_time": "2022-05-19T16:06:47.418Z"
   },
   {
    "duration": 7,
    "start_time": "2022-05-19T16:07:43.788Z"
   },
   {
    "duration": 6,
    "start_time": "2022-05-19T16:10:02.706Z"
   },
   {
    "duration": 7,
    "start_time": "2022-05-19T16:10:39.947Z"
   },
   {
    "duration": 9,
    "start_time": "2022-05-19T16:12:12.221Z"
   },
   {
    "duration": 59,
    "start_time": "2022-05-20T09:32:38.391Z"
   },
   {
    "duration": 762,
    "start_time": "2022-05-20T09:32:47.546Z"
   },
   {
    "duration": 43,
    "start_time": "2022-05-20T09:32:48.310Z"
   },
   {
    "duration": 18,
    "start_time": "2022-05-20T09:32:48.354Z"
   },
   {
    "duration": 22,
    "start_time": "2022-05-20T09:32:48.374Z"
   },
   {
    "duration": 760,
    "start_time": "2022-05-20T09:36:43.743Z"
   },
   {
    "duration": 179,
    "start_time": "2022-05-20T09:36:57.386Z"
   },
   {
    "duration": 148,
    "start_time": "2022-05-20T09:37:05.151Z"
   },
   {
    "duration": 151,
    "start_time": "2022-05-20T09:37:17.067Z"
   },
   {
    "duration": 134,
    "start_time": "2022-05-20T09:37:29.266Z"
   },
   {
    "duration": 194,
    "start_time": "2022-05-20T09:37:37.183Z"
   },
   {
    "duration": 13,
    "start_time": "2022-05-20T09:37:52.343Z"
   },
   {
    "duration": 7,
    "start_time": "2022-05-20T10:48:55.282Z"
   },
   {
    "duration": 495,
    "start_time": "2022-05-20T10:49:05.920Z"
   },
   {
    "duration": 51,
    "start_time": "2022-05-20T10:49:06.417Z"
   },
   {
    "duration": 30,
    "start_time": "2022-05-20T10:49:06.470Z"
   },
   {
    "duration": 6,
    "start_time": "2022-05-20T10:49:06.502Z"
   },
   {
    "duration": 9,
    "start_time": "2022-05-20T10:52:23.151Z"
   },
   {
    "duration": 7,
    "start_time": "2022-05-20T10:52:30.399Z"
   },
   {
    "duration": 9,
    "start_time": "2022-05-20T10:52:35.072Z"
   },
   {
    "duration": 8,
    "start_time": "2022-05-20T10:52:43.071Z"
   },
   {
    "duration": 6,
    "start_time": "2022-05-20T10:53:05.831Z"
   },
   {
    "duration": 8,
    "start_time": "2022-05-20T10:53:28.112Z"
   },
   {
    "duration": 10,
    "start_time": "2022-05-20T10:53:30.642Z"
   },
   {
    "duration": 8,
    "start_time": "2022-05-20T10:53:44.631Z"
   },
   {
    "duration": 5,
    "start_time": "2022-05-20T10:57:31.553Z"
   },
   {
    "duration": 6,
    "start_time": "2022-05-20T10:58:56.639Z"
   },
   {
    "duration": 5,
    "start_time": "2022-05-20T11:00:25.032Z"
   },
   {
    "duration": 497,
    "start_time": "2022-05-20T11:02:37.442Z"
   },
   {
    "duration": 45,
    "start_time": "2022-05-20T11:02:37.941Z"
   },
   {
    "duration": 27,
    "start_time": "2022-05-20T11:02:37.987Z"
   },
   {
    "duration": 8,
    "start_time": "2022-05-20T11:02:38.017Z"
   },
   {
    "duration": 28,
    "start_time": "2022-05-20T11:02:38.027Z"
   },
   {
    "duration": 16,
    "start_time": "2022-05-20T11:02:38.057Z"
   },
   {
    "duration": 6,
    "start_time": "2022-05-20T11:02:38.076Z"
   },
   {
    "duration": 519,
    "start_time": "2022-05-20T11:03:47.693Z"
   },
   {
    "duration": 43,
    "start_time": "2022-05-20T11:03:48.214Z"
   },
   {
    "duration": 14,
    "start_time": "2022-05-20T11:03:48.259Z"
   },
   {
    "duration": 21,
    "start_time": "2022-05-20T11:03:48.276Z"
   },
   {
    "duration": 9,
    "start_time": "2022-05-20T11:03:48.299Z"
   },
   {
    "duration": 7,
    "start_time": "2022-05-20T11:03:48.309Z"
   },
   {
    "duration": 6,
    "start_time": "2022-05-20T11:03:48.318Z"
   },
   {
    "duration": 8,
    "start_time": "2022-05-20T11:04:01.528Z"
   },
   {
    "duration": 6,
    "start_time": "2022-05-20T11:04:04.864Z"
   },
   {
    "duration": 6,
    "start_time": "2022-05-20T11:04:27.945Z"
   },
   {
    "duration": 8,
    "start_time": "2022-05-20T11:04:53.227Z"
   },
   {
    "duration": 1050,
    "start_time": "2022-05-20T11:35:13.317Z"
   },
   {
    "duration": 93,
    "start_time": "2022-05-20T11:36:09.234Z"
   },
   {
    "duration": 8,
    "start_time": "2022-05-20T11:36:13.049Z"
   },
   {
    "duration": 168,
    "start_time": "2022-05-20T11:37:05.637Z"
   },
   {
    "duration": 7,
    "start_time": "2022-05-20T11:39:44.353Z"
   },
   {
    "duration": 8,
    "start_time": "2022-05-20T11:40:00.840Z"
   },
   {
    "duration": 19,
    "start_time": "2022-05-20T11:40:15.789Z"
   },
   {
    "duration": 6,
    "start_time": "2022-05-20T11:41:07.928Z"
   },
   {
    "duration": 9,
    "start_time": "2022-05-20T11:46:01.305Z"
   },
   {
    "duration": 9,
    "start_time": "2022-05-20T11:46:16.889Z"
   },
   {
    "duration": 7,
    "start_time": "2022-05-20T11:47:38.650Z"
   },
   {
    "duration": 513,
    "start_time": "2022-05-20T11:50:19.115Z"
   },
   {
    "duration": 36,
    "start_time": "2022-05-20T11:50:19.630Z"
   },
   {
    "duration": 14,
    "start_time": "2022-05-20T11:50:19.668Z"
   },
   {
    "duration": 26,
    "start_time": "2022-05-20T11:50:19.684Z"
   },
   {
    "duration": 8,
    "start_time": "2022-05-20T11:50:19.712Z"
   },
   {
    "duration": 5,
    "start_time": "2022-05-20T11:50:19.722Z"
   },
   {
    "duration": 5,
    "start_time": "2022-05-20T11:50:19.729Z"
   },
   {
    "duration": 425,
    "start_time": "2022-05-20T11:50:19.736Z"
   },
   {
    "duration": 183,
    "start_time": "2022-05-20T11:51:08.030Z"
   },
   {
    "duration": 160,
    "start_time": "2022-05-20T11:51:18.309Z"
   },
   {
    "duration": 237,
    "start_time": "2022-05-20T11:51:25.840Z"
   },
   {
    "duration": 401,
    "start_time": "2022-05-20T11:51:31.710Z"
   },
   {
    "duration": 125,
    "start_time": "2022-05-20T11:51:39.753Z"
   },
   {
    "duration": 7,
    "start_time": "2022-05-20T11:52:51.950Z"
   },
   {
    "duration": 6,
    "start_time": "2022-05-20T11:53:28.669Z"
   },
   {
    "duration": 7,
    "start_time": "2022-05-20T12:00:29.048Z"
   },
   {
    "duration": 8,
    "start_time": "2022-05-20T12:00:51.646Z"
   },
   {
    "duration": 529,
    "start_time": "2022-05-20T12:01:17.578Z"
   },
   {
    "duration": 38,
    "start_time": "2022-05-20T12:01:18.109Z"
   },
   {
    "duration": 15,
    "start_time": "2022-05-20T12:01:18.149Z"
   },
   {
    "duration": 6,
    "start_time": "2022-05-20T12:01:18.166Z"
   },
   {
    "duration": 28,
    "start_time": "2022-05-20T12:01:18.173Z"
   },
   {
    "duration": 18,
    "start_time": "2022-05-20T12:01:18.202Z"
   },
   {
    "duration": 6,
    "start_time": "2022-05-20T12:01:18.221Z"
   },
   {
    "duration": 11,
    "start_time": "2022-05-20T12:01:18.229Z"
   },
   {
    "duration": 10,
    "start_time": "2022-05-20T12:01:53.816Z"
   },
   {
    "duration": 9,
    "start_time": "2022-05-20T12:01:56.973Z"
   },
   {
    "duration": 15,
    "start_time": "2022-05-20T12:02:09.613Z"
   },
   {
    "duration": 9,
    "start_time": "2022-05-20T12:02:21.611Z"
   },
   {
    "duration": 7,
    "start_time": "2022-05-20T12:02:53.909Z"
   },
   {
    "duration": 93,
    "start_time": "2022-05-20T12:03:00.637Z"
   },
   {
    "duration": 31,
    "start_time": "2022-05-20T12:03:04.250Z"
   },
   {
    "duration": 15,
    "start_time": "2022-05-20T12:03:09.650Z"
   },
   {
    "duration": 6,
    "start_time": "2022-05-20T12:03:18.330Z"
   },
   {
    "duration": 10,
    "start_time": "2022-05-20T12:03:29.687Z"
   },
   {
    "duration": 10,
    "start_time": "2022-05-20T12:03:44.545Z"
   },
   {
    "duration": 10,
    "start_time": "2022-05-20T12:04:24.044Z"
   },
   {
    "duration": 4,
    "start_time": "2022-05-20T12:06:07.015Z"
   },
   {
    "duration": 95,
    "start_time": "2022-05-20T12:16:07.392Z"
   },
   {
    "duration": 42,
    "start_time": "2022-05-20T12:16:07.489Z"
   },
   {
    "duration": 15,
    "start_time": "2022-05-20T12:16:07.533Z"
   },
   {
    "duration": 6,
    "start_time": "2022-05-20T12:16:07.550Z"
   },
   {
    "duration": 9,
    "start_time": "2022-05-20T12:16:07.558Z"
   },
   {
    "duration": 5,
    "start_time": "2022-05-20T12:16:07.569Z"
   },
   {
    "duration": 35,
    "start_time": "2022-05-20T12:16:07.576Z"
   },
   {
    "duration": 6,
    "start_time": "2022-05-20T12:16:07.614Z"
   },
   {
    "duration": 11,
    "start_time": "2022-05-20T12:16:07.622Z"
   },
   {
    "duration": 4,
    "start_time": "2022-05-20T12:16:07.635Z"
   },
   {
    "duration": 7,
    "start_time": "2022-05-20T12:16:57.611Z"
   },
   {
    "duration": 9,
    "start_time": "2022-05-20T12:17:16.410Z"
   },
   {
    "duration": 10,
    "start_time": "2022-05-20T12:18:07.531Z"
   },
   {
    "duration": 6,
    "start_time": "2022-05-20T12:18:25.894Z"
   },
   {
    "duration": 6,
    "start_time": "2022-05-20T12:18:45.734Z"
   },
   {
    "duration": 7,
    "start_time": "2022-05-20T12:18:52.612Z"
   },
   {
    "duration": 130,
    "start_time": "2022-05-20T12:18:57.572Z"
   },
   {
    "duration": 37,
    "start_time": "2022-05-20T12:18:59.973Z"
   },
   {
    "duration": 15,
    "start_time": "2022-05-20T12:19:02.172Z"
   },
   {
    "duration": 7,
    "start_time": "2022-05-20T12:19:12.548Z"
   },
   {
    "duration": 9,
    "start_time": "2022-05-20T12:19:17.412Z"
   },
   {
    "duration": 6,
    "start_time": "2022-05-20T12:19:21.972Z"
   },
   {
    "duration": 7,
    "start_time": "2022-05-20T12:19:25.492Z"
   },
   {
    "duration": 6,
    "start_time": "2022-05-20T12:19:40.412Z"
   },
   {
    "duration": 5,
    "start_time": "2022-05-20T12:19:43.973Z"
   },
   {
    "duration": 5,
    "start_time": "2022-05-20T12:20:04.053Z"
   },
   {
    "duration": 6,
    "start_time": "2022-05-20T12:20:13.972Z"
   },
   {
    "duration": 5,
    "start_time": "2022-05-20T12:21:12.533Z"
   },
   {
    "duration": 18,
    "start_time": "2022-05-20T12:25:57.333Z"
   },
   {
    "duration": 523,
    "start_time": "2022-05-20T12:26:08.355Z"
   },
   {
    "duration": 51,
    "start_time": "2022-05-20T12:26:08.880Z"
   },
   {
    "duration": 15,
    "start_time": "2022-05-20T12:26:08.933Z"
   },
   {
    "duration": 7,
    "start_time": "2022-05-20T12:26:08.950Z"
   },
   {
    "duration": 14,
    "start_time": "2022-05-20T12:26:08.958Z"
   },
   {
    "duration": 25,
    "start_time": "2022-05-20T12:26:08.974Z"
   },
   {
    "duration": 10,
    "start_time": "2022-05-20T12:26:09.001Z"
   },
   {
    "duration": 29,
    "start_time": "2022-05-20T12:26:09.014Z"
   },
   {
    "duration": 23,
    "start_time": "2022-05-20T12:26:09.045Z"
   },
   {
    "duration": 5,
    "start_time": "2022-05-20T12:26:09.071Z"
   },
   {
    "duration": 537,
    "start_time": "2022-05-20T12:45:18.922Z"
   },
   {
    "duration": 70,
    "start_time": "2022-05-20T12:45:19.462Z"
   },
   {
    "duration": 22,
    "start_time": "2022-05-20T12:45:19.534Z"
   },
   {
    "duration": 8,
    "start_time": "2022-05-20T12:45:19.559Z"
   },
   {
    "duration": 12,
    "start_time": "2022-05-20T12:45:19.569Z"
   },
   {
    "duration": 26,
    "start_time": "2022-05-20T12:45:19.583Z"
   },
   {
    "duration": 12,
    "start_time": "2022-05-20T12:45:19.613Z"
   },
   {
    "duration": 6,
    "start_time": "2022-05-20T12:45:19.627Z"
   },
   {
    "duration": 11,
    "start_time": "2022-05-20T12:45:19.634Z"
   },
   {
    "duration": 6,
    "start_time": "2022-05-20T12:45:19.647Z"
   },
   {
    "duration": 7,
    "start_time": "2022-05-20T12:47:42.855Z"
   },
   {
    "duration": 58,
    "start_time": "2022-05-20T12:48:16.353Z"
   },
   {
    "duration": 84,
    "start_time": "2022-05-20T12:48:22.672Z"
   },
   {
    "duration": 10,
    "start_time": "2022-05-20T12:48:40.191Z"
   },
   {
    "duration": 6,
    "start_time": "2022-05-20T12:49:10.077Z"
   },
   {
    "duration": 8,
    "start_time": "2022-05-20T12:53:11.040Z"
   },
   {
    "duration": 4,
    "start_time": "2022-05-20T12:53:24.065Z"
   },
   {
    "duration": 30,
    "start_time": "2022-05-20T12:54:30.089Z"
   },
   {
    "duration": 7,
    "start_time": "2022-05-20T13:01:42.537Z"
   },
   {
    "duration": 7,
    "start_time": "2022-05-20T13:03:23.128Z"
   },
   {
    "duration": 18,
    "start_time": "2022-05-20T13:06:18.915Z"
   },
   {
    "duration": 21,
    "start_time": "2022-05-20T13:06:49.669Z"
   },
   {
    "duration": 19,
    "start_time": "2022-05-20T13:08:17.162Z"
   },
   {
    "duration": 27,
    "start_time": "2022-05-20T13:08:26.189Z"
   },
   {
    "duration": 24,
    "start_time": "2022-05-20T13:08:31.568Z"
   },
   {
    "duration": 7,
    "start_time": "2022-05-20T13:19:02.264Z"
   },
   {
    "duration": 800,
    "start_time": "2022-05-20T13:25:05.917Z"
   },
   {
    "duration": 6,
    "start_time": "2022-05-20T13:26:21.886Z"
   },
   {
    "duration": 10,
    "start_time": "2022-05-20T13:27:10.060Z"
   },
   {
    "duration": 39,
    "start_time": "2022-05-20T13:27:37.154Z"
   },
   {
    "duration": 48,
    "start_time": "2022-05-20T13:28:02.326Z"
   },
   {
    "duration": 6,
    "start_time": "2022-05-20T13:36:23.687Z"
   },
   {
    "duration": 10,
    "start_time": "2022-05-20T13:45:38.783Z"
   },
   {
    "duration": 6,
    "start_time": "2022-05-20T13:50:19.568Z"
   },
   {
    "duration": 6,
    "start_time": "2022-05-20T13:50:47.531Z"
   },
   {
    "duration": 46,
    "start_time": "2022-05-20T13:50:58.575Z"
   },
   {
    "duration": 16,
    "start_time": "2022-05-20T14:06:04.902Z"
   },
   {
    "duration": 9,
    "start_time": "2022-05-20T14:06:37.783Z"
   },
   {
    "duration": 9,
    "start_time": "2022-05-20T14:08:10.822Z"
   },
   {
    "duration": 20,
    "start_time": "2022-05-20T14:10:17.992Z"
   },
   {
    "duration": 182,
    "start_time": "2022-05-20T14:11:43.217Z"
   },
   {
    "duration": 183,
    "start_time": "2022-05-20T14:11:52.374Z"
   },
   {
    "duration": 9,
    "start_time": "2022-05-20T14:12:21.737Z"
   },
   {
    "duration": 35,
    "start_time": "2022-05-20T14:12:34.317Z"
   },
   {
    "duration": 6,
    "start_time": "2022-05-20T14:12:56.864Z"
   },
   {
    "duration": 12,
    "start_time": "2022-05-20T14:14:15.014Z"
   },
   {
    "duration": 62,
    "start_time": "2022-05-21T06:57:24.485Z"
   },
   {
    "duration": 624,
    "start_time": "2022-05-21T06:57:32.118Z"
   },
   {
    "duration": 46,
    "start_time": "2022-05-21T06:57:32.745Z"
   },
   {
    "duration": 17,
    "start_time": "2022-05-21T06:57:32.792Z"
   },
   {
    "duration": 10,
    "start_time": "2022-05-21T06:57:32.811Z"
   },
   {
    "duration": 27,
    "start_time": "2022-05-21T06:57:32.826Z"
   },
   {
    "duration": 16,
    "start_time": "2022-05-21T06:57:32.855Z"
   },
   {
    "duration": 23,
    "start_time": "2022-05-21T06:57:32.872Z"
   },
   {
    "duration": 16,
    "start_time": "2022-05-21T06:57:32.897Z"
   },
   {
    "duration": 13,
    "start_time": "2022-05-21T06:57:32.915Z"
   },
   {
    "duration": 17,
    "start_time": "2022-05-21T06:57:32.936Z"
   },
   {
    "duration": 11,
    "start_time": "2022-05-21T06:57:32.955Z"
   },
   {
    "duration": 8,
    "start_time": "2022-05-21T06:57:32.968Z"
   },
   {
    "duration": 10,
    "start_time": "2022-05-21T06:57:32.978Z"
   },
   {
    "duration": 6,
    "start_time": "2022-05-21T06:58:06.461Z"
   },
   {
    "duration": 5,
    "start_time": "2022-05-21T06:58:42.166Z"
   },
   {
    "duration": 106,
    "start_time": "2022-05-21T06:58:52.277Z"
   },
   {
    "duration": 57,
    "start_time": "2022-05-21T06:59:08.293Z"
   },
   {
    "duration": 48,
    "start_time": "2022-05-21T07:00:37.807Z"
   },
   {
    "duration": 8,
    "start_time": "2022-05-21T07:02:00.709Z"
   },
   {
    "duration": 9,
    "start_time": "2022-05-21T07:02:04.506Z"
   },
   {
    "duration": 52,
    "start_time": "2022-05-22T07:36:52.050Z"
   },
   {
    "duration": 6,
    "start_time": "2022-05-22T07:37:01.053Z"
   },
   {
    "duration": 707,
    "start_time": "2022-05-22T07:37:07.105Z"
   },
   {
    "duration": 34,
    "start_time": "2022-05-22T07:37:07.814Z"
   },
   {
    "duration": 12,
    "start_time": "2022-05-22T07:37:07.850Z"
   },
   {
    "duration": 5,
    "start_time": "2022-05-22T07:37:07.865Z"
   },
   {
    "duration": 6,
    "start_time": "2022-05-22T07:37:07.871Z"
   },
   {
    "duration": 45,
    "start_time": "2022-05-22T07:37:07.878Z"
   },
   {
    "duration": 5,
    "start_time": "2022-05-22T07:37:07.925Z"
   },
   {
    "duration": 9,
    "start_time": "2022-05-22T07:37:07.931Z"
   },
   {
    "duration": 9,
    "start_time": "2022-05-22T07:37:07.941Z"
   },
   {
    "duration": 7,
    "start_time": "2022-05-22T07:37:07.952Z"
   },
   {
    "duration": 5,
    "start_time": "2022-05-22T07:37:07.960Z"
   },
   {
    "duration": 7,
    "start_time": "2022-05-22T07:37:07.966Z"
   },
   {
    "duration": 7,
    "start_time": "2022-05-22T07:37:07.974Z"
   },
   {
    "duration": 3,
    "start_time": "2022-05-22T07:37:08.013Z"
   },
   {
    "duration": 20,
    "start_time": "2022-05-22T07:37:29.573Z"
   },
   {
    "duration": 17,
    "start_time": "2022-05-22T07:37:39.893Z"
   },
   {
    "duration": 67,
    "start_time": "2022-05-22T07:38:05.662Z"
   },
   {
    "duration": 7,
    "start_time": "2022-05-22T07:38:12.147Z"
   },
   {
    "duration": 26,
    "start_time": "2022-05-22T07:38:31.766Z"
   },
   {
    "duration": 8,
    "start_time": "2022-05-22T07:38:44.149Z"
   },
   {
    "duration": 6,
    "start_time": "2022-05-22T07:38:54.140Z"
   },
   {
    "duration": 36,
    "start_time": "2022-05-22T07:39:14.101Z"
   },
   {
    "duration": 5,
    "start_time": "2022-05-22T07:39:47.145Z"
   },
   {
    "duration": 3,
    "start_time": "2022-05-22T07:43:07.492Z"
   },
   {
    "duration": 3,
    "start_time": "2022-05-22T07:43:12.048Z"
   },
   {
    "duration": 6,
    "start_time": "2022-05-22T07:43:25.553Z"
   },
   {
    "duration": 8,
    "start_time": "2022-05-22T07:45:51.635Z"
   },
   {
    "duration": 20,
    "start_time": "2022-05-22T07:45:59.049Z"
   },
   {
    "duration": 8,
    "start_time": "2022-05-22T07:50:13.670Z"
   },
   {
    "duration": 19,
    "start_time": "2022-05-22T07:50:20.738Z"
   },
   {
    "duration": 171,
    "start_time": "2022-05-22T07:50:24.782Z"
   },
   {
    "duration": 170,
    "start_time": "2022-05-22T07:50:28.664Z"
   },
   {
    "duration": 201,
    "start_time": "2022-05-22T07:50:31.730Z"
   },
   {
    "duration": 35,
    "start_time": "2022-05-22T07:52:15.328Z"
   },
   {
    "duration": 35,
    "start_time": "2022-05-22T07:53:10.829Z"
   },
   {
    "duration": 6,
    "start_time": "2022-05-22T07:53:32.882Z"
   },
   {
    "duration": 7,
    "start_time": "2022-05-22T07:54:08.366Z"
   },
   {
    "duration": 6,
    "start_time": "2022-05-22T07:55:16.285Z"
   },
   {
    "duration": 7,
    "start_time": "2022-05-22T07:55:35.648Z"
   },
   {
    "duration": 7,
    "start_time": "2022-05-22T07:56:03.521Z"
   },
   {
    "duration": 19,
    "start_time": "2022-05-22T07:56:19.273Z"
   },
   {
    "duration": 27,
    "start_time": "2022-05-22T07:57:46.691Z"
   },
   {
    "duration": 33,
    "start_time": "2022-05-22T07:57:48.750Z"
   },
   {
    "duration": 6,
    "start_time": "2022-05-22T07:57:50.881Z"
   },
   {
    "duration": 35,
    "start_time": "2022-05-22T07:58:45.388Z"
   },
   {
    "duration": 520,
    "start_time": "2022-05-22T08:31:38.124Z"
   },
   {
    "duration": 34,
    "start_time": "2022-05-22T08:31:38.646Z"
   },
   {
    "duration": 15,
    "start_time": "2022-05-22T08:31:38.682Z"
   },
   {
    "duration": 6,
    "start_time": "2022-05-22T08:31:38.713Z"
   },
   {
    "duration": 20,
    "start_time": "2022-05-22T08:31:38.721Z"
   },
   {
    "duration": 27,
    "start_time": "2022-05-22T08:31:38.743Z"
   },
   {
    "duration": 7,
    "start_time": "2022-05-22T08:31:38.772Z"
   },
   {
    "duration": 65,
    "start_time": "2022-05-22T08:31:38.780Z"
   },
   {
    "duration": 5,
    "start_time": "2022-05-22T08:31:38.846Z"
   },
   {
    "duration": 29,
    "start_time": "2022-05-22T08:31:38.853Z"
   },
   {
    "duration": 5,
    "start_time": "2022-05-22T08:31:38.883Z"
   },
   {
    "duration": 27,
    "start_time": "2022-05-22T08:31:38.890Z"
   },
   {
    "duration": 9,
    "start_time": "2022-05-22T08:31:38.919Z"
   },
   {
    "duration": 7,
    "start_time": "2022-05-22T08:31:38.929Z"
   },
   {
    "duration": 7,
    "start_time": "2022-05-22T08:31:38.937Z"
   },
   {
    "duration": 9,
    "start_time": "2022-05-22T08:31:38.945Z"
   },
   {
    "duration": 7,
    "start_time": "2022-05-22T08:31:38.955Z"
   },
   {
    "duration": 7,
    "start_time": "2022-05-22T08:31:38.963Z"
   },
   {
    "duration": 4,
    "start_time": "2022-05-22T08:32:09.668Z"
   },
   {
    "duration": 6,
    "start_time": "2022-05-22T08:32:16.250Z"
   },
   {
    "duration": 44,
    "start_time": "2022-05-22T08:32:23.088Z"
   },
   {
    "duration": 6,
    "start_time": "2022-05-22T08:32:24.886Z"
   },
   {
    "duration": 65,
    "start_time": "2022-05-22T08:38:35.553Z"
   },
   {
    "duration": 131,
    "start_time": "2022-05-22T08:38:42.992Z"
   },
   {
    "duration": 7,
    "start_time": "2022-05-22T08:38:46.647Z"
   },
   {
    "duration": 158,
    "start_time": "2022-05-22T08:38:58.912Z"
   },
   {
    "duration": 47,
    "start_time": "2022-05-22T08:39:05.728Z"
   },
   {
    "duration": 6,
    "start_time": "2022-05-22T08:39:08.612Z"
   },
   {
    "duration": 45,
    "start_time": "2022-05-22T08:39:17.196Z"
   },
   {
    "duration": 6,
    "start_time": "2022-05-22T08:39:19.682Z"
   },
   {
    "duration": 66,
    "start_time": "2022-05-22T08:41:58.738Z"
   },
   {
    "duration": 8,
    "start_time": "2022-05-22T08:42:00.873Z"
   },
   {
    "duration": 66,
    "start_time": "2022-05-22T08:42:26.457Z"
   },
   {
    "duration": 5,
    "start_time": "2022-05-22T08:42:38.548Z"
   },
   {
    "duration": 5,
    "start_time": "2022-05-22T08:42:44.185Z"
   },
   {
    "duration": 5,
    "start_time": "2022-05-22T08:42:52.570Z"
   },
   {
    "duration": 513,
    "start_time": "2022-05-22T08:42:57.925Z"
   },
   {
    "duration": 39,
    "start_time": "2022-05-22T08:42:58.441Z"
   },
   {
    "duration": 16,
    "start_time": "2022-05-22T08:42:58.481Z"
   },
   {
    "duration": 25,
    "start_time": "2022-05-22T08:42:58.499Z"
   },
   {
    "duration": 20,
    "start_time": "2022-05-22T08:42:58.527Z"
   },
   {
    "duration": 75,
    "start_time": "2022-05-22T08:42:58.549Z"
   },
   {
    "duration": 5,
    "start_time": "2022-05-22T08:42:58.627Z"
   },
   {
    "duration": 35,
    "start_time": "2022-05-22T08:42:58.634Z"
   },
   {
    "duration": 5,
    "start_time": "2022-05-22T08:42:58.671Z"
   },
   {
    "duration": 52,
    "start_time": "2022-05-22T08:42:58.677Z"
   },
   {
    "duration": 6,
    "start_time": "2022-05-22T08:42:58.731Z"
   },
   {
    "duration": 8,
    "start_time": "2022-05-22T08:42:58.739Z"
   },
   {
    "duration": 8,
    "start_time": "2022-05-22T08:42:58.749Z"
   },
   {
    "duration": 5,
    "start_time": "2022-05-22T08:42:58.760Z"
   },
   {
    "duration": 10,
    "start_time": "2022-05-22T08:42:58.767Z"
   },
   {
    "duration": 35,
    "start_time": "2022-05-22T08:42:58.778Z"
   },
   {
    "duration": 18,
    "start_time": "2022-05-22T08:42:58.814Z"
   },
   {
    "duration": 7,
    "start_time": "2022-05-22T08:42:58.833Z"
   },
   {
    "duration": 79,
    "start_time": "2022-05-22T08:44:04.718Z"
   },
   {
    "duration": 25,
    "start_time": "2022-05-22T08:44:11.703Z"
   },
   {
    "duration": 5,
    "start_time": "2022-05-22T08:44:14.187Z"
   },
   {
    "duration": 516,
    "start_time": "2022-05-22T08:44:19.132Z"
   },
   {
    "duration": 37,
    "start_time": "2022-05-22T08:44:19.649Z"
   },
   {
    "duration": 15,
    "start_time": "2022-05-22T08:44:19.687Z"
   },
   {
    "duration": 8,
    "start_time": "2022-05-22T08:44:19.713Z"
   },
   {
    "duration": 35,
    "start_time": "2022-05-22T08:44:19.723Z"
   },
   {
    "duration": 79,
    "start_time": "2022-05-22T08:44:19.760Z"
   },
   {
    "duration": 7,
    "start_time": "2022-05-22T08:44:19.840Z"
   },
   {
    "duration": 103,
    "start_time": "2022-05-22T08:44:19.849Z"
   },
   {
    "duration": 0,
    "start_time": "2022-05-22T08:44:19.954Z"
   },
   {
    "duration": 0,
    "start_time": "2022-05-22T08:44:19.956Z"
   },
   {
    "duration": 0,
    "start_time": "2022-05-22T08:44:19.957Z"
   },
   {
    "duration": 0,
    "start_time": "2022-05-22T08:44:19.959Z"
   },
   {
    "duration": 0,
    "start_time": "2022-05-22T08:44:19.960Z"
   },
   {
    "duration": 0,
    "start_time": "2022-05-22T08:44:19.961Z"
   },
   {
    "duration": 0,
    "start_time": "2022-05-22T08:44:19.962Z"
   },
   {
    "duration": 0,
    "start_time": "2022-05-22T08:44:19.963Z"
   },
   {
    "duration": 0,
    "start_time": "2022-05-22T08:44:19.964Z"
   },
   {
    "duration": 0,
    "start_time": "2022-05-22T08:44:19.965Z"
   },
   {
    "duration": 204,
    "start_time": "2022-05-22T08:47:43.528Z"
   },
   {
    "duration": 147,
    "start_time": "2022-05-22T08:47:47.374Z"
   },
   {
    "duration": 154,
    "start_time": "2022-05-22T08:47:53.343Z"
   },
   {
    "duration": 523,
    "start_time": "2022-05-22T08:47:58.432Z"
   },
   {
    "duration": 41,
    "start_time": "2022-05-22T08:47:58.958Z"
   },
   {
    "duration": 17,
    "start_time": "2022-05-22T08:47:59.011Z"
   },
   {
    "duration": 7,
    "start_time": "2022-05-22T08:47:59.031Z"
   },
   {
    "duration": 23,
    "start_time": "2022-05-22T08:47:59.039Z"
   },
   {
    "duration": 63,
    "start_time": "2022-05-22T08:47:59.063Z"
   },
   {
    "duration": 9,
    "start_time": "2022-05-22T08:47:59.128Z"
   },
   {
    "duration": 107,
    "start_time": "2022-05-22T08:47:59.139Z"
   },
   {
    "duration": 0,
    "start_time": "2022-05-22T08:47:59.249Z"
   },
   {
    "duration": 0,
    "start_time": "2022-05-22T08:47:59.251Z"
   },
   {
    "duration": 0,
    "start_time": "2022-05-22T08:47:59.253Z"
   },
   {
    "duration": 0,
    "start_time": "2022-05-22T08:47:59.254Z"
   },
   {
    "duration": 0,
    "start_time": "2022-05-22T08:47:59.256Z"
   },
   {
    "duration": 0,
    "start_time": "2022-05-22T08:47:59.258Z"
   },
   {
    "duration": 0,
    "start_time": "2022-05-22T08:47:59.259Z"
   },
   {
    "duration": 0,
    "start_time": "2022-05-22T08:47:59.261Z"
   },
   {
    "duration": 0,
    "start_time": "2022-05-22T08:47:59.263Z"
   },
   {
    "duration": 0,
    "start_time": "2022-05-22T08:47:59.264Z"
   },
   {
    "duration": 9,
    "start_time": "2022-05-22T08:52:54.890Z"
   },
   {
    "duration": 207,
    "start_time": "2022-05-22T08:56:36.983Z"
   },
   {
    "duration": 6,
    "start_time": "2022-05-22T08:56:42.402Z"
   },
   {
    "duration": 6,
    "start_time": "2022-05-22T08:56:58.229Z"
   },
   {
    "duration": 24,
    "start_time": "2022-05-22T08:57:44.012Z"
   },
   {
    "duration": 20,
    "start_time": "2022-05-22T08:58:20.874Z"
   },
   {
    "duration": 19,
    "start_time": "2022-05-22T08:58:25.661Z"
   },
   {
    "duration": 11,
    "start_time": "2022-05-22T09:00:27.553Z"
   },
   {
    "duration": 8,
    "start_time": "2022-05-22T09:01:12.819Z"
   },
   {
    "duration": 9,
    "start_time": "2022-05-22T09:01:25.332Z"
   },
   {
    "duration": 38,
    "start_time": "2022-05-22T09:05:01.514Z"
   },
   {
    "duration": 10,
    "start_time": "2022-05-22T09:06:44.929Z"
   },
   {
    "duration": 9,
    "start_time": "2022-05-22T09:07:31.797Z"
   },
   {
    "duration": 10,
    "start_time": "2022-05-22T09:07:49.814Z"
   },
   {
    "duration": 34,
    "start_time": "2022-05-22T09:10:35.882Z"
   },
   {
    "duration": 7,
    "start_time": "2022-05-22T09:11:42.076Z"
   },
   {
    "duration": 7,
    "start_time": "2022-05-22T09:13:05.615Z"
   },
   {
    "duration": 9,
    "start_time": "2022-05-22T09:13:08.387Z"
   },
   {
    "duration": 31,
    "start_time": "2022-05-22T09:13:12.581Z"
   },
   {
    "duration": 7,
    "start_time": "2022-05-22T09:13:23.082Z"
   },
   {
    "duration": 7,
    "start_time": "2022-05-22T09:14:27.566Z"
   },
   {
    "duration": 609,
    "start_time": "2022-05-22T09:15:21.178Z"
   },
   {
    "duration": 57,
    "start_time": "2022-05-22T09:15:21.790Z"
   },
   {
    "duration": 23,
    "start_time": "2022-05-22T09:15:21.849Z"
   },
   {
    "duration": 8,
    "start_time": "2022-05-22T09:15:21.874Z"
   },
   {
    "duration": 36,
    "start_time": "2022-05-22T09:15:21.884Z"
   },
   {
    "duration": 46,
    "start_time": "2022-05-22T09:15:21.921Z"
   },
   {
    "duration": 6,
    "start_time": "2022-05-22T09:15:21.969Z"
   },
   {
    "duration": 11,
    "start_time": "2022-05-22T09:15:21.977Z"
   },
   {
    "duration": 23,
    "start_time": "2022-05-22T09:15:21.990Z"
   },
   {
    "duration": 8,
    "start_time": "2022-05-22T09:15:22.015Z"
   },
   {
    "duration": 9,
    "start_time": "2022-05-22T09:15:22.025Z"
   },
   {
    "duration": 6,
    "start_time": "2022-05-22T09:15:22.035Z"
   },
   {
    "duration": 7,
    "start_time": "2022-05-22T09:15:22.042Z"
   },
   {
    "duration": 5,
    "start_time": "2022-05-22T09:15:22.051Z"
   },
   {
    "duration": 10,
    "start_time": "2022-05-22T09:15:22.057Z"
   },
   {
    "duration": 46,
    "start_time": "2022-05-22T09:15:22.068Z"
   },
   {
    "duration": 7,
    "start_time": "2022-05-22T09:16:57.307Z"
   },
   {
    "duration": 31,
    "start_time": "2022-05-22T09:17:43.841Z"
   },
   {
    "duration": 6,
    "start_time": "2022-05-22T09:17:51.388Z"
   },
   {
    "duration": 31,
    "start_time": "2022-05-22T09:18:54.211Z"
   },
   {
    "duration": 6,
    "start_time": "2022-05-22T09:19:00.480Z"
   },
   {
    "duration": 32,
    "start_time": "2022-05-22T09:19:35.134Z"
   },
   {
    "duration": 6,
    "start_time": "2022-05-22T09:19:38.486Z"
   },
   {
    "duration": 542,
    "start_time": "2022-05-22T09:19:46.201Z"
   },
   {
    "duration": 35,
    "start_time": "2022-05-22T09:19:46.745Z"
   },
   {
    "duration": 15,
    "start_time": "2022-05-22T09:19:46.782Z"
   },
   {
    "duration": 7,
    "start_time": "2022-05-22T09:19:46.812Z"
   },
   {
    "duration": 12,
    "start_time": "2022-05-22T09:19:46.820Z"
   },
   {
    "duration": 31,
    "start_time": "2022-05-22T09:19:46.834Z"
   },
   {
    "duration": 6,
    "start_time": "2022-05-22T09:19:46.867Z"
   },
   {
    "duration": 10,
    "start_time": "2022-05-22T09:19:46.875Z"
   },
   {
    "duration": 7,
    "start_time": "2022-05-22T09:19:46.913Z"
   },
   {
    "duration": 10,
    "start_time": "2022-05-22T09:19:46.923Z"
   },
   {
    "duration": 15,
    "start_time": "2022-05-22T09:19:46.935Z"
   },
   {
    "duration": 10,
    "start_time": "2022-05-22T09:19:46.952Z"
   },
   {
    "duration": 8,
    "start_time": "2022-05-22T09:19:46.964Z"
   },
   {
    "duration": 9,
    "start_time": "2022-05-22T09:19:46.974Z"
   },
   {
    "duration": 15,
    "start_time": "2022-05-22T09:19:46.984Z"
   },
   {
    "duration": 5,
    "start_time": "2022-05-22T09:19:47.012Z"
   },
   {
    "duration": 34,
    "start_time": "2022-05-22T09:20:48.541Z"
   },
   {
    "duration": 6,
    "start_time": "2022-05-22T09:20:52.070Z"
   },
   {
    "duration": 528,
    "start_time": "2022-05-22T09:20:58.401Z"
   },
   {
    "duration": 41,
    "start_time": "2022-05-22T09:20:58.931Z"
   },
   {
    "duration": 14,
    "start_time": "2022-05-22T09:20:58.974Z"
   },
   {
    "duration": 5,
    "start_time": "2022-05-22T09:20:58.990Z"
   },
   {
    "duration": 9,
    "start_time": "2022-05-22T09:20:59.013Z"
   },
   {
    "duration": 30,
    "start_time": "2022-05-22T09:20:59.024Z"
   },
   {
    "duration": 6,
    "start_time": "2022-05-22T09:20:59.056Z"
   },
   {
    "duration": 11,
    "start_time": "2022-05-22T09:20:59.063Z"
   },
   {
    "duration": 37,
    "start_time": "2022-05-22T09:20:59.075Z"
   },
   {
    "duration": 8,
    "start_time": "2022-05-22T09:20:59.115Z"
   },
   {
    "duration": 8,
    "start_time": "2022-05-22T09:20:59.125Z"
   },
   {
    "duration": 6,
    "start_time": "2022-05-22T09:20:59.135Z"
   },
   {
    "duration": 7,
    "start_time": "2022-05-22T09:20:59.143Z"
   },
   {
    "duration": 7,
    "start_time": "2022-05-22T09:20:59.152Z"
   },
   {
    "duration": 8,
    "start_time": "2022-05-22T09:20:59.161Z"
   },
   {
    "duration": 5,
    "start_time": "2022-05-22T09:20:59.213Z"
   },
   {
    "duration": 36,
    "start_time": "2022-05-22T09:22:09.270Z"
   },
   {
    "duration": 7,
    "start_time": "2022-05-22T09:22:12.409Z"
   },
   {
    "duration": 508,
    "start_time": "2022-05-22T09:22:22.618Z"
   },
   {
    "duration": 35,
    "start_time": "2022-05-22T09:22:23.128Z"
   },
   {
    "duration": 17,
    "start_time": "2022-05-22T09:22:23.164Z"
   },
   {
    "duration": 31,
    "start_time": "2022-05-22T09:22:23.183Z"
   },
   {
    "duration": 10,
    "start_time": "2022-05-22T09:22:23.216Z"
   },
   {
    "duration": 33,
    "start_time": "2022-05-22T09:22:23.228Z"
   },
   {
    "duration": 6,
    "start_time": "2022-05-22T09:22:23.262Z"
   },
   {
    "duration": 9,
    "start_time": "2022-05-22T09:22:23.269Z"
   },
   {
    "duration": 35,
    "start_time": "2022-05-22T09:22:23.280Z"
   },
   {
    "duration": 6,
    "start_time": "2022-05-22T09:22:23.318Z"
   },
   {
    "duration": 14,
    "start_time": "2022-05-22T09:22:23.326Z"
   },
   {
    "duration": 5,
    "start_time": "2022-05-22T09:22:23.342Z"
   },
   {
    "duration": 6,
    "start_time": "2022-05-22T09:22:23.348Z"
   },
   {
    "duration": 5,
    "start_time": "2022-05-22T09:22:23.355Z"
   },
   {
    "duration": 51,
    "start_time": "2022-05-22T09:22:23.362Z"
   },
   {
    "duration": 5,
    "start_time": "2022-05-22T09:22:23.415Z"
   },
   {
    "duration": 30,
    "start_time": "2022-05-22T09:23:51.099Z"
   },
   {
    "duration": 7,
    "start_time": "2022-05-22T09:23:55.367Z"
   },
   {
    "duration": 502,
    "start_time": "2022-05-22T09:24:14.536Z"
   },
   {
    "duration": 35,
    "start_time": "2022-05-22T09:24:15.040Z"
   },
   {
    "duration": 14,
    "start_time": "2022-05-22T09:24:15.077Z"
   },
   {
    "duration": 19,
    "start_time": "2022-05-22T09:24:15.094Z"
   },
   {
    "duration": 11,
    "start_time": "2022-05-22T09:24:15.115Z"
   },
   {
    "duration": 30,
    "start_time": "2022-05-22T09:24:15.127Z"
   },
   {
    "duration": 5,
    "start_time": "2022-05-22T09:24:15.159Z"
   },
   {
    "duration": 10,
    "start_time": "2022-05-22T09:24:15.166Z"
   },
   {
    "duration": 5,
    "start_time": "2022-05-22T09:24:15.213Z"
   },
   {
    "duration": 6,
    "start_time": "2022-05-22T09:24:15.221Z"
   },
   {
    "duration": 9,
    "start_time": "2022-05-22T09:24:15.229Z"
   },
   {
    "duration": 11,
    "start_time": "2022-05-22T09:24:15.240Z"
   },
   {
    "duration": 7,
    "start_time": "2022-05-22T09:24:15.252Z"
   },
   {
    "duration": 7,
    "start_time": "2022-05-22T09:24:15.261Z"
   },
   {
    "duration": 44,
    "start_time": "2022-05-22T09:24:15.270Z"
   },
   {
    "duration": 6,
    "start_time": "2022-05-22T09:24:15.316Z"
   },
   {
    "duration": 8,
    "start_time": "2022-05-22T09:25:52.242Z"
   },
   {
    "duration": 7,
    "start_time": "2022-05-22T09:26:52.986Z"
   },
   {
    "duration": 7,
    "start_time": "2022-05-22T09:31:20.553Z"
   },
   {
    "duration": 7,
    "start_time": "2022-05-22T09:32:12.231Z"
   },
   {
    "duration": 85,
    "start_time": "2022-05-22T09:34:06.163Z"
   },
   {
    "duration": 489,
    "start_time": "2022-05-22T09:34:13.556Z"
   },
   {
    "duration": 37,
    "start_time": "2022-05-22T09:34:14.047Z"
   },
   {
    "duration": 31,
    "start_time": "2022-05-22T09:34:14.086Z"
   },
   {
    "duration": 7,
    "start_time": "2022-05-22T09:34:14.119Z"
   },
   {
    "duration": 16,
    "start_time": "2022-05-22T09:34:14.127Z"
   },
   {
    "duration": 31,
    "start_time": "2022-05-22T09:34:14.145Z"
   },
   {
    "duration": 8,
    "start_time": "2022-05-22T09:34:14.178Z"
   },
   {
    "duration": 30,
    "start_time": "2022-05-22T09:34:14.188Z"
   },
   {
    "duration": 86,
    "start_time": "2022-05-22T09:34:14.219Z"
   },
   {
    "duration": 0,
    "start_time": "2022-05-22T09:34:14.307Z"
   },
   {
    "duration": 0,
    "start_time": "2022-05-22T09:34:14.314Z"
   },
   {
    "duration": 0,
    "start_time": "2022-05-22T09:34:14.315Z"
   },
   {
    "duration": 0,
    "start_time": "2022-05-22T09:34:14.316Z"
   },
   {
    "duration": 0,
    "start_time": "2022-05-22T09:34:14.317Z"
   },
   {
    "duration": 0,
    "start_time": "2022-05-22T09:34:14.318Z"
   },
   {
    "duration": 0,
    "start_time": "2022-05-22T09:34:14.319Z"
   },
   {
    "duration": 0,
    "start_time": "2022-05-22T09:34:14.319Z"
   },
   {
    "duration": 326,
    "start_time": "2022-05-22T09:43:40.353Z"
   },
   {
    "duration": 59,
    "start_time": "2022-05-22T09:45:03.368Z"
   },
   {
    "duration": 35,
    "start_time": "2022-05-22T09:46:38.672Z"
   },
   {
    "duration": 7,
    "start_time": "2022-05-22T09:47:03.231Z"
   },
   {
    "duration": 5,
    "start_time": "2022-05-22T09:47:26.553Z"
   },
   {
    "duration": 579,
    "start_time": "2022-05-22T09:48:21.593Z"
   },
   {
    "duration": 44,
    "start_time": "2022-05-22T09:48:22.174Z"
   },
   {
    "duration": 21,
    "start_time": "2022-05-22T09:48:22.221Z"
   },
   {
    "duration": 8,
    "start_time": "2022-05-22T09:48:22.244Z"
   },
   {
    "duration": 20,
    "start_time": "2022-05-22T09:48:22.253Z"
   },
   {
    "duration": 78,
    "start_time": "2022-05-22T09:48:22.275Z"
   },
   {
    "duration": 35,
    "start_time": "2022-05-22T09:48:22.354Z"
   },
   {
    "duration": 5,
    "start_time": "2022-05-22T09:48:22.391Z"
   },
   {
    "duration": 49,
    "start_time": "2022-05-22T09:48:22.397Z"
   },
   {
    "duration": 5,
    "start_time": "2022-05-22T09:48:22.448Z"
   },
   {
    "duration": 8,
    "start_time": "2022-05-22T09:48:22.454Z"
   },
   {
    "duration": 98,
    "start_time": "2022-05-22T09:48:22.464Z"
   },
   {
    "duration": 0,
    "start_time": "2022-05-22T09:48:22.564Z"
   },
   {
    "duration": 0,
    "start_time": "2022-05-22T09:48:22.565Z"
   },
   {
    "duration": 0,
    "start_time": "2022-05-22T09:48:22.567Z"
   },
   {
    "duration": 0,
    "start_time": "2022-05-22T09:48:22.568Z"
   },
   {
    "duration": 0,
    "start_time": "2022-05-22T09:48:22.570Z"
   },
   {
    "duration": 0,
    "start_time": "2022-05-22T09:48:22.571Z"
   },
   {
    "duration": 0,
    "start_time": "2022-05-22T09:48:22.572Z"
   },
   {
    "duration": 0,
    "start_time": "2022-05-22T09:48:22.574Z"
   },
   {
    "duration": 21,
    "start_time": "2022-05-22T09:48:44.259Z"
   },
   {
    "duration": 5,
    "start_time": "2022-05-22T09:49:17.070Z"
   },
   {
    "duration": 635,
    "start_time": "2022-05-22T09:54:27.490Z"
   },
   {
    "duration": 36,
    "start_time": "2022-05-22T09:54:28.127Z"
   },
   {
    "duration": 16,
    "start_time": "2022-05-22T09:54:28.164Z"
   },
   {
    "duration": 6,
    "start_time": "2022-05-22T09:54:28.182Z"
   },
   {
    "duration": 41,
    "start_time": "2022-05-22T09:54:28.189Z"
   },
   {
    "duration": 107,
    "start_time": "2022-05-22T09:54:28.231Z"
   },
   {
    "duration": 0,
    "start_time": "2022-05-22T09:54:28.341Z"
   },
   {
    "duration": 0,
    "start_time": "2022-05-22T09:54:28.342Z"
   },
   {
    "duration": 0,
    "start_time": "2022-05-22T09:54:28.343Z"
   },
   {
    "duration": 0,
    "start_time": "2022-05-22T09:54:28.344Z"
   },
   {
    "duration": 0,
    "start_time": "2022-05-22T09:54:28.345Z"
   },
   {
    "duration": 0,
    "start_time": "2022-05-22T09:54:28.346Z"
   },
   {
    "duration": 0,
    "start_time": "2022-05-22T09:54:28.347Z"
   },
   {
    "duration": 0,
    "start_time": "2022-05-22T09:54:28.348Z"
   },
   {
    "duration": 0,
    "start_time": "2022-05-22T09:54:28.349Z"
   },
   {
    "duration": 0,
    "start_time": "2022-05-22T09:54:28.350Z"
   },
   {
    "duration": 0,
    "start_time": "2022-05-22T09:54:28.351Z"
   },
   {
    "duration": 0,
    "start_time": "2022-05-22T09:54:28.353Z"
   },
   {
    "duration": 50,
    "start_time": "2022-05-22T09:55:01.327Z"
   },
   {
    "duration": 28,
    "start_time": "2022-05-22T09:55:05.382Z"
   },
   {
    "duration": 47,
    "start_time": "2022-05-22T09:55:11.499Z"
   },
   {
    "duration": 7,
    "start_time": "2022-05-22T09:55:13.560Z"
   },
   {
    "duration": 593,
    "start_time": "2022-05-22T09:55:22.502Z"
   },
   {
    "duration": 47,
    "start_time": "2022-05-22T09:55:23.097Z"
   },
   {
    "duration": 16,
    "start_time": "2022-05-22T09:55:23.146Z"
   },
   {
    "duration": 7,
    "start_time": "2022-05-22T09:55:23.165Z"
   },
   {
    "duration": 56,
    "start_time": "2022-05-22T09:55:23.174Z"
   },
   {
    "duration": 53,
    "start_time": "2022-05-22T09:55:23.232Z"
   },
   {
    "duration": 42,
    "start_time": "2022-05-22T09:55:23.287Z"
   },
   {
    "duration": 6,
    "start_time": "2022-05-22T09:55:23.330Z"
   },
   {
    "duration": 11,
    "start_time": "2022-05-22T09:55:23.337Z"
   },
   {
    "duration": 89,
    "start_time": "2022-05-22T09:55:23.350Z"
   },
   {
    "duration": 0,
    "start_time": "2022-05-22T09:55:23.442Z"
   },
   {
    "duration": 0,
    "start_time": "2022-05-22T09:55:23.443Z"
   },
   {
    "duration": 0,
    "start_time": "2022-05-22T09:55:23.445Z"
   },
   {
    "duration": 0,
    "start_time": "2022-05-22T09:55:23.446Z"
   },
   {
    "duration": 0,
    "start_time": "2022-05-22T09:55:23.448Z"
   },
   {
    "duration": 0,
    "start_time": "2022-05-22T09:55:23.450Z"
   },
   {
    "duration": 0,
    "start_time": "2022-05-22T09:55:23.452Z"
   },
   {
    "duration": 0,
    "start_time": "2022-05-22T09:55:23.454Z"
   },
   {
    "duration": 6,
    "start_time": "2022-05-22T10:02:24.269Z"
   },
   {
    "duration": 22,
    "start_time": "2022-05-22T10:04:29.926Z"
   },
   {
    "duration": 8,
    "start_time": "2022-05-22T10:04:32.436Z"
   },
   {
    "duration": 506,
    "start_time": "2022-05-22T10:04:38.876Z"
   },
   {
    "duration": 43,
    "start_time": "2022-05-22T10:04:39.384Z"
   },
   {
    "duration": 16,
    "start_time": "2022-05-22T10:04:39.429Z"
   },
   {
    "duration": 6,
    "start_time": "2022-05-22T10:04:39.448Z"
   },
   {
    "duration": 35,
    "start_time": "2022-05-22T10:04:39.456Z"
   },
   {
    "duration": 20,
    "start_time": "2022-05-22T10:04:39.492Z"
   },
   {
    "duration": 7,
    "start_time": "2022-05-22T10:04:39.514Z"
   },
   {
    "duration": 86,
    "start_time": "2022-05-22T10:04:39.523Z"
   },
   {
    "duration": 0,
    "start_time": "2022-05-22T10:04:39.617Z"
   },
   {
    "duration": 0,
    "start_time": "2022-05-22T10:04:39.617Z"
   },
   {
    "duration": 0,
    "start_time": "2022-05-22T10:04:39.620Z"
   },
   {
    "duration": 0,
    "start_time": "2022-05-22T10:04:39.620Z"
   },
   {
    "duration": 0,
    "start_time": "2022-05-22T10:04:39.621Z"
   },
   {
    "duration": 0,
    "start_time": "2022-05-22T10:04:39.622Z"
   },
   {
    "duration": 0,
    "start_time": "2022-05-22T10:04:39.622Z"
   },
   {
    "duration": 0,
    "start_time": "2022-05-22T10:04:39.623Z"
   },
   {
    "duration": 45,
    "start_time": "2022-05-22T10:06:28.700Z"
   },
   {
    "duration": 7,
    "start_time": "2022-05-22T10:06:32.767Z"
   },
   {
    "duration": 580,
    "start_time": "2022-05-22T10:06:38.998Z"
   },
   {
    "duration": 39,
    "start_time": "2022-05-22T10:06:39.580Z"
   },
   {
    "duration": 20,
    "start_time": "2022-05-22T10:06:39.626Z"
   },
   {
    "duration": 23,
    "start_time": "2022-05-22T10:06:39.648Z"
   },
   {
    "duration": 66,
    "start_time": "2022-05-22T10:06:39.673Z"
   },
   {
    "duration": 7,
    "start_time": "2022-05-22T10:06:39.741Z"
   },
   {
    "duration": 30,
    "start_time": "2022-05-22T10:06:39.749Z"
   },
   {
    "duration": 93,
    "start_time": "2022-05-22T10:06:39.781Z"
   },
   {
    "duration": 0,
    "start_time": "2022-05-22T10:06:39.876Z"
   },
   {
    "duration": 0,
    "start_time": "2022-05-22T10:06:39.878Z"
   },
   {
    "duration": 0,
    "start_time": "2022-05-22T10:06:39.879Z"
   },
   {
    "duration": 0,
    "start_time": "2022-05-22T10:06:39.881Z"
   },
   {
    "duration": 0,
    "start_time": "2022-05-22T10:06:39.882Z"
   },
   {
    "duration": 0,
    "start_time": "2022-05-22T10:06:39.883Z"
   },
   {
    "duration": 0,
    "start_time": "2022-05-22T10:06:39.885Z"
   },
   {
    "duration": 0,
    "start_time": "2022-05-22T10:06:39.886Z"
   },
   {
    "duration": 13,
    "start_time": "2022-05-22T10:07:00.711Z"
   },
   {
    "duration": 29,
    "start_time": "2022-05-22T10:07:43.383Z"
   },
   {
    "duration": 6,
    "start_time": "2022-05-22T10:07:46.875Z"
   },
   {
    "duration": 6,
    "start_time": "2022-05-22T10:07:59.758Z"
   },
   {
    "duration": 12,
    "start_time": "2022-05-22T10:08:05.030Z"
   },
   {
    "duration": 10,
    "start_time": "2022-05-22T10:10:34.266Z"
   },
   {
    "duration": 526,
    "start_time": "2022-05-22T10:38:55.684Z"
   },
   {
    "duration": 50,
    "start_time": "2022-05-22T10:38:56.213Z"
   },
   {
    "duration": 14,
    "start_time": "2022-05-22T10:38:56.265Z"
   },
   {
    "duration": 7,
    "start_time": "2022-05-22T10:38:56.281Z"
   },
   {
    "duration": 23,
    "start_time": "2022-05-22T10:38:56.290Z"
   },
   {
    "duration": 42,
    "start_time": "2022-05-22T10:38:56.314Z"
   },
   {
    "duration": 5,
    "start_time": "2022-05-22T10:38:56.358Z"
   },
   {
    "duration": 8,
    "start_time": "2022-05-22T10:38:56.365Z"
   },
   {
    "duration": 86,
    "start_time": "2022-05-22T10:38:56.375Z"
   },
   {
    "duration": 0,
    "start_time": "2022-05-22T10:38:56.462Z"
   },
   {
    "duration": 0,
    "start_time": "2022-05-22T10:38:56.463Z"
   },
   {
    "duration": 0,
    "start_time": "2022-05-22T10:38:56.464Z"
   },
   {
    "duration": 0,
    "start_time": "2022-05-22T10:38:56.465Z"
   },
   {
    "duration": 0,
    "start_time": "2022-05-22T10:38:56.466Z"
   },
   {
    "duration": 0,
    "start_time": "2022-05-22T10:38:56.467Z"
   },
   {
    "duration": 0,
    "start_time": "2022-05-22T10:38:56.468Z"
   },
   {
    "duration": 0,
    "start_time": "2022-05-22T10:38:56.469Z"
   },
   {
    "duration": 0,
    "start_time": "2022-05-22T10:38:56.470Z"
   },
   {
    "duration": 6,
    "start_time": "2022-05-22T10:40:26.676Z"
   },
   {
    "duration": 362,
    "start_time": "2022-05-22T10:40:28.685Z"
   },
   {
    "duration": 5,
    "start_time": "2022-05-22T10:40:34.272Z"
   },
   {
    "duration": 7,
    "start_time": "2022-05-22T10:41:05.139Z"
   },
   {
    "duration": 5,
    "start_time": "2022-05-22T10:41:37.143Z"
   },
   {
    "duration": 7,
    "start_time": "2022-05-22T10:41:38.976Z"
   },
   {
    "duration": 520,
    "start_time": "2022-05-22T10:41:43.604Z"
   },
   {
    "duration": 37,
    "start_time": "2022-05-22T10:41:44.126Z"
   },
   {
    "duration": 36,
    "start_time": "2022-05-22T10:41:44.165Z"
   },
   {
    "duration": 6,
    "start_time": "2022-05-22T10:41:44.204Z"
   },
   {
    "duration": 12,
    "start_time": "2022-05-22T10:41:44.212Z"
   },
   {
    "duration": 29,
    "start_time": "2022-05-22T10:41:44.226Z"
   },
   {
    "duration": 7,
    "start_time": "2022-05-22T10:41:44.256Z"
   },
   {
    "duration": 9,
    "start_time": "2022-05-22T10:41:44.265Z"
   },
   {
    "duration": 6,
    "start_time": "2022-05-22T10:41:44.275Z"
   },
   {
    "duration": 33,
    "start_time": "2022-05-22T10:41:44.283Z"
   },
   {
    "duration": 6,
    "start_time": "2022-05-22T10:41:44.318Z"
   },
   {
    "duration": 90,
    "start_time": "2022-05-22T10:41:44.326Z"
   },
   {
    "duration": 0,
    "start_time": "2022-05-22T10:41:44.418Z"
   },
   {
    "duration": 0,
    "start_time": "2022-05-22T10:41:44.419Z"
   },
   {
    "duration": 0,
    "start_time": "2022-05-22T10:41:44.420Z"
   },
   {
    "duration": 0,
    "start_time": "2022-05-22T10:41:44.421Z"
   },
   {
    "duration": 0,
    "start_time": "2022-05-22T10:41:44.422Z"
   },
   {
    "duration": 0,
    "start_time": "2022-05-22T10:41:44.423Z"
   },
   {
    "duration": 0,
    "start_time": "2022-05-22T10:41:44.424Z"
   },
   {
    "duration": 0,
    "start_time": "2022-05-22T10:41:44.425Z"
   },
   {
    "duration": 5,
    "start_time": "2022-05-22T10:42:04.917Z"
   },
   {
    "duration": 8,
    "start_time": "2022-05-22T10:42:06.694Z"
   },
   {
    "duration": 4,
    "start_time": "2022-05-22T10:42:52.682Z"
   },
   {
    "duration": 6,
    "start_time": "2022-05-22T10:42:55.292Z"
   },
   {
    "duration": 11,
    "start_time": "2022-05-22T10:42:57.909Z"
   },
   {
    "duration": 7,
    "start_time": "2022-05-22T10:43:15.570Z"
   },
   {
    "duration": 502,
    "start_time": "2022-05-22T10:43:25.976Z"
   },
   {
    "duration": 37,
    "start_time": "2022-05-22T10:43:26.479Z"
   },
   {
    "duration": 15,
    "start_time": "2022-05-22T10:43:26.518Z"
   },
   {
    "duration": 25,
    "start_time": "2022-05-22T10:43:26.535Z"
   },
   {
    "duration": 41,
    "start_time": "2022-05-22T10:43:26.561Z"
   },
   {
    "duration": 41,
    "start_time": "2022-05-22T10:43:26.603Z"
   },
   {
    "duration": 16,
    "start_time": "2022-05-22T10:43:26.645Z"
   },
   {
    "duration": 36,
    "start_time": "2022-05-22T10:43:26.663Z"
   },
   {
    "duration": 51,
    "start_time": "2022-05-22T10:43:26.701Z"
   },
   {
    "duration": 23,
    "start_time": "2022-05-22T10:43:26.755Z"
   },
   {
    "duration": 41,
    "start_time": "2022-05-22T10:43:26.780Z"
   },
   {
    "duration": 35,
    "start_time": "2022-05-22T10:43:26.823Z"
   },
   {
    "duration": 121,
    "start_time": "2022-05-22T10:43:26.859Z"
   },
   {
    "duration": 0,
    "start_time": "2022-05-22T10:43:26.982Z"
   },
   {
    "duration": 0,
    "start_time": "2022-05-22T10:43:26.983Z"
   },
   {
    "duration": 0,
    "start_time": "2022-05-22T10:43:26.984Z"
   },
   {
    "duration": 0,
    "start_time": "2022-05-22T10:43:26.984Z"
   },
   {
    "duration": 0,
    "start_time": "2022-05-22T10:43:26.985Z"
   },
   {
    "duration": 0,
    "start_time": "2022-05-22T10:43:26.986Z"
   },
   {
    "duration": 0,
    "start_time": "2022-05-22T10:43:26.987Z"
   },
   {
    "duration": 0,
    "start_time": "2022-05-22T10:43:26.988Z"
   },
   {
    "duration": 6,
    "start_time": "2022-05-22T10:47:34.487Z"
   },
   {
    "duration": 516,
    "start_time": "2022-05-22T10:47:40.909Z"
   },
   {
    "duration": 52,
    "start_time": "2022-05-22T10:47:41.428Z"
   },
   {
    "duration": 37,
    "start_time": "2022-05-22T10:47:41.482Z"
   },
   {
    "duration": 7,
    "start_time": "2022-05-22T10:47:41.522Z"
   },
   {
    "duration": 16,
    "start_time": "2022-05-22T10:47:41.531Z"
   },
   {
    "duration": 38,
    "start_time": "2022-05-22T10:47:41.549Z"
   },
   {
    "duration": 26,
    "start_time": "2022-05-22T10:47:41.589Z"
   },
   {
    "duration": 32,
    "start_time": "2022-05-22T10:47:41.617Z"
   },
   {
    "duration": 7,
    "start_time": "2022-05-22T10:47:41.651Z"
   },
   {
    "duration": 12,
    "start_time": "2022-05-22T10:47:41.661Z"
   },
   {
    "duration": 6,
    "start_time": "2022-05-22T10:47:41.674Z"
   },
   {
    "duration": 9,
    "start_time": "2022-05-22T10:47:41.682Z"
   },
   {
    "duration": 101,
    "start_time": "2022-05-22T10:47:41.693Z"
   },
   {
    "duration": 0,
    "start_time": "2022-05-22T10:47:41.795Z"
   },
   {
    "duration": 0,
    "start_time": "2022-05-22T10:47:41.797Z"
   },
   {
    "duration": 0,
    "start_time": "2022-05-22T10:47:41.798Z"
   },
   {
    "duration": 0,
    "start_time": "2022-05-22T10:47:41.812Z"
   },
   {
    "duration": 0,
    "start_time": "2022-05-22T10:47:41.813Z"
   },
   {
    "duration": 0,
    "start_time": "2022-05-22T10:47:41.814Z"
   },
   {
    "duration": 1,
    "start_time": "2022-05-22T10:47:41.815Z"
   },
   {
    "duration": 0,
    "start_time": "2022-05-22T10:47:41.817Z"
   },
   {
    "duration": 6,
    "start_time": "2022-05-22T10:48:08.429Z"
   },
   {
    "duration": 21,
    "start_time": "2022-05-22T10:48:26.697Z"
   },
   {
    "duration": 19,
    "start_time": "2022-05-22T10:48:43.502Z"
   },
   {
    "duration": 6,
    "start_time": "2022-05-22T10:51:46.268Z"
   },
   {
    "duration": 6,
    "start_time": "2022-05-22T10:51:52.771Z"
   },
   {
    "duration": 38,
    "start_time": "2022-05-22T10:53:47.463Z"
   },
   {
    "duration": 382,
    "start_time": "2022-05-22T10:53:54.175Z"
   },
   {
    "duration": 7,
    "start_time": "2022-05-22T10:54:04.173Z"
   },
   {
    "duration": 3,
    "start_time": "2022-05-22T10:57:52.469Z"
   },
   {
    "duration": 6,
    "start_time": "2022-05-22T10:57:55.243Z"
   },
   {
    "duration": 6,
    "start_time": "2022-05-22T10:58:06.805Z"
   },
   {
    "duration": 5,
    "start_time": "2022-05-22T10:58:26.736Z"
   },
   {
    "duration": 6,
    "start_time": "2022-05-22T10:58:30.009Z"
   },
   {
    "duration": 6,
    "start_time": "2022-05-22T10:58:33.476Z"
   },
   {
    "duration": 5,
    "start_time": "2022-05-22T10:59:52.309Z"
   },
   {
    "duration": 8,
    "start_time": "2022-05-22T10:59:53.699Z"
   },
   {
    "duration": 40,
    "start_time": "2022-05-22T10:59:55.067Z"
   },
   {
    "duration": 6,
    "start_time": "2022-05-22T11:00:00.541Z"
   },
   {
    "duration": 6,
    "start_time": "2022-05-22T11:00:07.708Z"
   },
   {
    "duration": 8,
    "start_time": "2022-05-22T11:00:34.807Z"
   },
   {
    "duration": 12,
    "start_time": "2022-05-22T11:00:49.221Z"
   },
   {
    "duration": 9,
    "start_time": "2022-05-22T11:01:10.905Z"
   },
   {
    "duration": 9,
    "start_time": "2022-05-22T11:02:36.667Z"
   },
   {
    "duration": 8,
    "start_time": "2022-05-22T11:04:04.533Z"
   },
   {
    "duration": 9,
    "start_time": "2022-05-22T11:04:38.594Z"
   },
   {
    "duration": 9,
    "start_time": "2022-05-22T11:04:44.563Z"
   },
   {
    "duration": 6,
    "start_time": "2022-05-22T11:09:12.317Z"
   },
   {
    "duration": 6,
    "start_time": "2022-05-22T11:09:48.189Z"
   },
   {
    "duration": 9,
    "start_time": "2022-05-22T11:11:20.444Z"
   },
   {
    "duration": 7,
    "start_time": "2022-05-22T11:11:27.020Z"
   },
   {
    "duration": 8,
    "start_time": "2022-05-22T11:11:34.589Z"
   },
   {
    "duration": 9,
    "start_time": "2022-05-22T11:13:33.284Z"
   },
   {
    "duration": 495,
    "start_time": "2022-05-22T11:13:43.530Z"
   },
   {
    "duration": 34,
    "start_time": "2022-05-22T11:13:44.027Z"
   },
   {
    "duration": 14,
    "start_time": "2022-05-22T11:13:44.062Z"
   },
   {
    "duration": 6,
    "start_time": "2022-05-22T11:13:44.078Z"
   },
   {
    "duration": 28,
    "start_time": "2022-05-22T11:13:44.085Z"
   },
   {
    "duration": 29,
    "start_time": "2022-05-22T11:13:44.114Z"
   },
   {
    "duration": 5,
    "start_time": "2022-05-22T11:13:44.145Z"
   },
   {
    "duration": 6,
    "start_time": "2022-05-22T11:13:44.152Z"
   },
   {
    "duration": 102,
    "start_time": "2022-05-22T11:13:44.159Z"
   },
   {
    "duration": 0,
    "start_time": "2022-05-22T11:13:44.264Z"
   },
   {
    "duration": 0,
    "start_time": "2022-05-22T11:13:44.264Z"
   },
   {
    "duration": 0,
    "start_time": "2022-05-22T11:13:44.266Z"
   },
   {
    "duration": 0,
    "start_time": "2022-05-22T11:13:44.267Z"
   },
   {
    "duration": 0,
    "start_time": "2022-05-22T11:13:44.268Z"
   },
   {
    "duration": 0,
    "start_time": "2022-05-22T11:13:44.269Z"
   },
   {
    "duration": 0,
    "start_time": "2022-05-22T11:13:44.270Z"
   },
   {
    "duration": 0,
    "start_time": "2022-05-22T11:13:44.271Z"
   },
   {
    "duration": 0,
    "start_time": "2022-05-22T11:13:44.272Z"
   },
   {
    "duration": 13,
    "start_time": "2022-05-22T11:14:02.201Z"
   },
   {
    "duration": 15,
    "start_time": "2022-05-22T11:15:25.830Z"
   },
   {
    "duration": 68,
    "start_time": "2022-05-22T11:17:53.637Z"
   },
   {
    "duration": 355,
    "start_time": "2022-05-22T11:17:58.189Z"
   },
   {
    "duration": 96,
    "start_time": "2022-05-22T11:18:43.682Z"
   },
   {
    "duration": 550,
    "start_time": "2022-05-22T11:26:28.312Z"
   },
   {
    "duration": 35,
    "start_time": "2022-05-22T11:26:28.864Z"
   },
   {
    "duration": 24,
    "start_time": "2022-05-22T11:26:28.901Z"
   },
   {
    "duration": 5,
    "start_time": "2022-05-22T11:26:28.927Z"
   },
   {
    "duration": 9,
    "start_time": "2022-05-22T11:26:28.934Z"
   },
   {
    "duration": 28,
    "start_time": "2022-05-22T11:26:28.945Z"
   },
   {
    "duration": 39,
    "start_time": "2022-05-22T11:26:28.974Z"
   },
   {
    "duration": 7,
    "start_time": "2022-05-22T11:26:29.014Z"
   },
   {
    "duration": 8,
    "start_time": "2022-05-22T11:26:29.023Z"
   },
   {
    "duration": 7,
    "start_time": "2022-05-22T11:26:29.033Z"
   },
   {
    "duration": 10,
    "start_time": "2022-05-22T11:26:29.041Z"
   },
   {
    "duration": 7,
    "start_time": "2022-05-22T11:26:29.052Z"
   },
   {
    "duration": 11,
    "start_time": "2022-05-22T11:26:29.060Z"
   },
   {
    "duration": 6,
    "start_time": "2022-05-22T11:26:29.111Z"
   },
   {
    "duration": 7,
    "start_time": "2022-05-22T11:26:29.118Z"
   },
   {
    "duration": 10,
    "start_time": "2022-05-22T11:26:29.127Z"
   },
   {
    "duration": 9,
    "start_time": "2022-05-22T11:26:29.138Z"
   },
   {
    "duration": 7,
    "start_time": "2022-05-22T11:26:29.149Z"
   },
   {
    "duration": 7,
    "start_time": "2022-05-22T11:26:53.926Z"
   },
   {
    "duration": 8,
    "start_time": "2022-05-22T11:28:00.378Z"
   },
   {
    "duration": 9,
    "start_time": "2022-05-22T11:29:10.615Z"
   },
   {
    "duration": 8,
    "start_time": "2022-05-22T11:29:15.499Z"
   },
   {
    "duration": 8,
    "start_time": "2022-05-22T11:29:19.336Z"
   },
   {
    "duration": 514,
    "start_time": "2022-05-22T11:29:37.408Z"
   },
   {
    "duration": 35,
    "start_time": "2022-05-22T11:29:37.924Z"
   },
   {
    "duration": 13,
    "start_time": "2022-05-22T11:29:37.961Z"
   },
   {
    "duration": 23,
    "start_time": "2022-05-22T11:29:37.975Z"
   },
   {
    "duration": 35,
    "start_time": "2022-05-22T11:29:38.000Z"
   },
   {
    "duration": 44,
    "start_time": "2022-05-22T11:29:38.037Z"
   },
   {
    "duration": 6,
    "start_time": "2022-05-22T11:29:38.083Z"
   },
   {
    "duration": 7,
    "start_time": "2022-05-22T11:29:38.091Z"
   },
   {
    "duration": 16,
    "start_time": "2022-05-22T11:29:38.099Z"
   },
   {
    "duration": 8,
    "start_time": "2022-05-22T11:29:38.116Z"
   },
   {
    "duration": 9,
    "start_time": "2022-05-22T11:29:38.125Z"
   },
   {
    "duration": 6,
    "start_time": "2022-05-22T11:29:38.136Z"
   },
   {
    "duration": 10,
    "start_time": "2022-05-22T11:29:38.144Z"
   },
   {
    "duration": 9,
    "start_time": "2022-05-22T11:29:38.157Z"
   },
   {
    "duration": 45,
    "start_time": "2022-05-22T11:29:38.168Z"
   },
   {
    "duration": 6,
    "start_time": "2022-05-22T11:29:38.215Z"
   },
   {
    "duration": 14,
    "start_time": "2022-05-22T11:29:38.222Z"
   },
   {
    "duration": 6,
    "start_time": "2022-05-22T11:29:38.237Z"
   },
   {
    "duration": 13,
    "start_time": "2022-05-22T11:32:18.686Z"
   },
   {
    "duration": 12,
    "start_time": "2022-05-22T11:32:23.494Z"
   },
   {
    "duration": 12,
    "start_time": "2022-05-22T11:32:50.778Z"
   },
   {
    "duration": 27,
    "start_time": "2022-05-22T11:33:17.725Z"
   },
   {
    "duration": 6,
    "start_time": "2022-05-22T11:34:47.985Z"
   },
   {
    "duration": 29,
    "start_time": "2022-05-22T11:34:50.404Z"
   },
   {
    "duration": 7,
    "start_time": "2022-05-22T11:35:16.530Z"
   },
   {
    "duration": 30,
    "start_time": "2022-05-22T11:35:55.630Z"
   },
   {
    "duration": 8,
    "start_time": "2022-05-22T11:36:02.797Z"
   },
   {
    "duration": 7,
    "start_time": "2022-05-22T11:36:32.818Z"
   },
   {
    "duration": 8,
    "start_time": "2022-05-22T11:36:48.873Z"
   },
   {
    "duration": 538,
    "start_time": "2022-05-22T11:37:27.486Z"
   },
   {
    "duration": 36,
    "start_time": "2022-05-22T11:37:28.026Z"
   },
   {
    "duration": 13,
    "start_time": "2022-05-22T11:37:28.064Z"
   },
   {
    "duration": 5,
    "start_time": "2022-05-22T11:37:28.079Z"
   },
   {
    "duration": 28,
    "start_time": "2022-05-22T11:37:28.086Z"
   },
   {
    "duration": 30,
    "start_time": "2022-05-22T11:37:28.116Z"
   },
   {
    "duration": 6,
    "start_time": "2022-05-22T11:37:28.147Z"
   },
   {
    "duration": 7,
    "start_time": "2022-05-22T11:37:28.154Z"
   },
   {
    "duration": 6,
    "start_time": "2022-05-22T11:37:28.163Z"
   },
   {
    "duration": 44,
    "start_time": "2022-05-22T11:37:28.170Z"
   },
   {
    "duration": 13,
    "start_time": "2022-05-22T11:37:28.216Z"
   },
   {
    "duration": 5,
    "start_time": "2022-05-22T11:37:28.231Z"
   },
   {
    "duration": 5,
    "start_time": "2022-05-22T11:37:28.238Z"
   },
   {
    "duration": 6,
    "start_time": "2022-05-22T11:37:28.245Z"
   },
   {
    "duration": 10,
    "start_time": "2022-05-22T11:37:28.253Z"
   },
   {
    "duration": 24,
    "start_time": "2022-05-22T11:37:28.264Z"
   },
   {
    "duration": 23,
    "start_time": "2022-05-22T11:37:28.290Z"
   },
   {
    "duration": 8,
    "start_time": "2022-05-22T11:37:28.314Z"
   },
   {
    "duration": 9,
    "start_time": "2022-05-22T11:37:28.323Z"
   },
   {
    "duration": 5,
    "start_time": "2022-05-22T11:38:13.541Z"
   },
   {
    "duration": 32,
    "start_time": "2022-05-22T11:38:18.369Z"
   },
   {
    "duration": 37,
    "start_time": "2022-05-22T11:38:53.990Z"
   },
   {
    "duration": 6,
    "start_time": "2022-05-22T11:39:14.992Z"
   },
   {
    "duration": 30,
    "start_time": "2022-05-22T11:39:51.128Z"
   },
   {
    "duration": 8,
    "start_time": "2022-05-22T11:41:45.967Z"
   },
   {
    "duration": 5,
    "start_time": "2022-05-22T11:42:20.223Z"
   },
   {
    "duration": 6,
    "start_time": "2022-05-22T11:42:54.892Z"
   },
   {
    "duration": 6,
    "start_time": "2022-05-22T11:43:17.525Z"
   },
   {
    "duration": 7,
    "start_time": "2022-05-22T11:43:47.394Z"
   },
   {
    "duration": 44,
    "start_time": "2022-05-22T11:44:03.619Z"
   },
   {
    "duration": 7,
    "start_time": "2022-05-22T11:44:21.788Z"
   },
   {
    "duration": 7,
    "start_time": "2022-05-22T11:45:07.681Z"
   },
   {
    "duration": 17,
    "start_time": "2022-05-22T11:45:10.121Z"
   },
   {
    "duration": 24,
    "start_time": "2022-05-22T11:45:34.390Z"
   },
   {
    "duration": 12,
    "start_time": "2022-05-22T11:45:48.035Z"
   },
   {
    "duration": 499,
    "start_time": "2022-05-22T11:45:58.523Z"
   },
   {
    "duration": 38,
    "start_time": "2022-05-22T11:45:59.024Z"
   },
   {
    "duration": 16,
    "start_time": "2022-05-22T11:45:59.063Z"
   },
   {
    "duration": 7,
    "start_time": "2022-05-22T11:45:59.080Z"
   },
   {
    "duration": 9,
    "start_time": "2022-05-22T11:45:59.113Z"
   },
   {
    "duration": 44,
    "start_time": "2022-05-22T11:45:59.124Z"
   },
   {
    "duration": 8,
    "start_time": "2022-05-22T11:45:59.170Z"
   },
   {
    "duration": 32,
    "start_time": "2022-05-22T11:45:59.180Z"
   },
   {
    "duration": 31,
    "start_time": "2022-05-22T11:45:59.214Z"
   },
   {
    "duration": 6,
    "start_time": "2022-05-22T11:45:59.246Z"
   },
   {
    "duration": 11,
    "start_time": "2022-05-22T11:45:59.254Z"
   },
   {
    "duration": 65,
    "start_time": "2022-05-22T11:45:59.267Z"
   },
   {
    "duration": 7,
    "start_time": "2022-05-22T11:45:59.334Z"
   },
   {
    "duration": 7,
    "start_time": "2022-05-22T11:45:59.343Z"
   },
   {
    "duration": 9,
    "start_time": "2022-05-22T11:45:59.352Z"
   },
   {
    "duration": 14,
    "start_time": "2022-05-22T11:45:59.363Z"
   },
   {
    "duration": 34,
    "start_time": "2022-05-22T11:45:59.378Z"
   },
   {
    "duration": 6,
    "start_time": "2022-05-22T11:45:59.413Z"
   },
   {
    "duration": 27,
    "start_time": "2022-05-22T11:45:59.420Z"
   },
   {
    "duration": 23,
    "start_time": "2022-05-22T11:45:59.448Z"
   },
   {
    "duration": 5,
    "start_time": "2022-05-22T11:46:17.931Z"
   },
   {
    "duration": 6,
    "start_time": "2022-05-22T11:46:33.490Z"
   },
   {
    "duration": 6,
    "start_time": "2022-05-22T11:46:46.792Z"
   },
   {
    "duration": 31,
    "start_time": "2022-05-22T11:47:22.966Z"
   },
   {
    "duration": 7,
    "start_time": "2022-05-22T11:47:34.139Z"
   },
   {
    "duration": 7,
    "start_time": "2022-05-22T11:47:37.118Z"
   },
   {
    "duration": 37,
    "start_time": "2022-05-22T11:47:45.103Z"
   },
   {
    "duration": 6,
    "start_time": "2022-05-22T11:47:49.983Z"
   },
   {
    "duration": 8,
    "start_time": "2022-05-22T11:47:54.187Z"
   },
   {
    "duration": 30,
    "start_time": "2022-05-22T11:48:00.539Z"
   },
   {
    "duration": 8,
    "start_time": "2022-05-22T11:48:07.094Z"
   },
   {
    "duration": 7,
    "start_time": "2022-05-22T11:48:09.979Z"
   },
   {
    "duration": 8,
    "start_time": "2022-05-22T11:48:23.574Z"
   },
   {
    "duration": 7,
    "start_time": "2022-05-22T11:48:31.790Z"
   },
   {
    "duration": 7,
    "start_time": "2022-05-22T11:48:35.167Z"
   },
   {
    "duration": 585,
    "start_time": "2022-05-22T11:49:01.671Z"
   },
   {
    "duration": 37,
    "start_time": "2022-05-22T11:49:02.259Z"
   },
   {
    "duration": 23,
    "start_time": "2022-05-22T11:49:02.298Z"
   },
   {
    "duration": 6,
    "start_time": "2022-05-22T11:49:02.322Z"
   },
   {
    "duration": 9,
    "start_time": "2022-05-22T11:49:02.330Z"
   },
   {
    "duration": 29,
    "start_time": "2022-05-22T11:49:02.340Z"
   },
   {
    "duration": 5,
    "start_time": "2022-05-22T11:49:02.371Z"
   },
   {
    "duration": 39,
    "start_time": "2022-05-22T11:49:02.378Z"
   },
   {
    "duration": 31,
    "start_time": "2022-05-22T11:49:02.418Z"
   },
   {
    "duration": 6,
    "start_time": "2022-05-22T11:49:02.450Z"
   },
   {
    "duration": 7,
    "start_time": "2022-05-22T11:49:02.457Z"
   },
   {
    "duration": 62,
    "start_time": "2022-05-22T11:49:02.465Z"
   },
   {
    "duration": 6,
    "start_time": "2022-05-22T11:49:02.528Z"
   },
   {
    "duration": 8,
    "start_time": "2022-05-22T11:49:02.537Z"
   },
   {
    "duration": 11,
    "start_time": "2022-05-22T11:49:02.546Z"
   },
   {
    "duration": 10,
    "start_time": "2022-05-22T11:49:02.558Z"
   },
   {
    "duration": 7,
    "start_time": "2022-05-22T11:49:02.569Z"
   },
   {
    "duration": 6,
    "start_time": "2022-05-22T11:49:02.613Z"
   },
   {
    "duration": 9,
    "start_time": "2022-05-22T11:49:02.621Z"
   },
   {
    "duration": 6,
    "start_time": "2022-05-22T11:49:02.631Z"
   },
   {
    "duration": 13,
    "start_time": "2022-05-22T11:49:52.094Z"
   },
   {
    "duration": 8,
    "start_time": "2022-05-22T11:50:46.236Z"
   },
   {
    "duration": 10,
    "start_time": "2022-05-22T11:53:30.371Z"
   },
   {
    "duration": 7,
    "start_time": "2022-05-22T11:53:50.291Z"
   },
   {
    "duration": 42,
    "start_time": "2022-05-22T11:54:43.921Z"
   },
   {
    "duration": 16,
    "start_time": "2022-05-22T11:54:49.855Z"
   },
   {
    "duration": 14,
    "start_time": "2022-05-22T11:55:24.064Z"
   },
   {
    "duration": 525,
    "start_time": "2022-05-22T11:55:34.623Z"
   },
   {
    "duration": 46,
    "start_time": "2022-05-22T11:55:35.151Z"
   },
   {
    "duration": 26,
    "start_time": "2022-05-22T11:55:35.199Z"
   },
   {
    "duration": 7,
    "start_time": "2022-05-22T11:55:35.227Z"
   },
   {
    "duration": 12,
    "start_time": "2022-05-22T11:55:35.236Z"
   },
   {
    "duration": 33,
    "start_time": "2022-05-22T11:55:35.250Z"
   },
   {
    "duration": 32,
    "start_time": "2022-05-22T11:55:35.285Z"
   },
   {
    "duration": 17,
    "start_time": "2022-05-22T11:55:35.319Z"
   },
   {
    "duration": 35,
    "start_time": "2022-05-22T11:55:35.338Z"
   },
   {
    "duration": 6,
    "start_time": "2022-05-22T11:55:35.375Z"
   },
   {
    "duration": 37,
    "start_time": "2022-05-22T11:55:35.383Z"
   },
   {
    "duration": 37,
    "start_time": "2022-05-22T11:55:35.422Z"
   },
   {
    "duration": 7,
    "start_time": "2022-05-22T11:55:35.462Z"
   },
   {
    "duration": 16,
    "start_time": "2022-05-22T11:55:35.472Z"
   },
   {
    "duration": 30,
    "start_time": "2022-05-22T11:55:35.490Z"
   },
   {
    "duration": 18,
    "start_time": "2022-05-22T11:55:35.522Z"
   },
   {
    "duration": 28,
    "start_time": "2022-05-22T11:55:35.541Z"
   },
   {
    "duration": 11,
    "start_time": "2022-05-22T11:55:35.571Z"
   },
   {
    "duration": 15,
    "start_time": "2022-05-22T11:55:35.584Z"
   },
   {
    "duration": 16,
    "start_time": "2022-05-22T11:55:35.601Z"
   },
   {
    "duration": 38,
    "start_time": "2022-05-22T11:55:35.619Z"
   },
   {
    "duration": 28,
    "start_time": "2022-05-22T11:56:03.274Z"
   },
   {
    "duration": 30,
    "start_time": "2022-05-22T11:56:24.372Z"
   },
   {
    "duration": 5,
    "start_time": "2022-05-22T11:56:28.606Z"
   },
   {
    "duration": 11,
    "start_time": "2022-05-22T11:56:31.535Z"
   },
   {
    "duration": 34,
    "start_time": "2022-05-22T11:56:47.290Z"
   },
   {
    "duration": 7,
    "start_time": "2022-05-22T11:56:50.074Z"
   },
   {
    "duration": 11,
    "start_time": "2022-05-22T11:56:51.717Z"
   },
   {
    "duration": 31,
    "start_time": "2022-05-22T11:57:02.613Z"
   },
   {
    "duration": 6,
    "start_time": "2022-05-22T11:57:08.493Z"
   },
   {
    "duration": 7,
    "start_time": "2022-05-22T11:57:11.212Z"
   },
   {
    "duration": 10,
    "start_time": "2022-05-22T11:57:19.476Z"
   },
   {
    "duration": 7,
    "start_time": "2022-05-22T11:57:22.278Z"
   },
   {
    "duration": 12,
    "start_time": "2022-05-22T11:57:25.779Z"
   },
   {
    "duration": 11,
    "start_time": "2022-05-22T11:57:42.786Z"
   },
   {
    "duration": 502,
    "start_time": "2022-05-22T11:57:49.514Z"
   },
   {
    "duration": 35,
    "start_time": "2022-05-22T11:57:50.018Z"
   },
   {
    "duration": 15,
    "start_time": "2022-05-22T11:57:50.054Z"
   },
   {
    "duration": 6,
    "start_time": "2022-05-22T11:57:50.070Z"
   },
   {
    "duration": 35,
    "start_time": "2022-05-22T11:57:50.078Z"
   },
   {
    "duration": 31,
    "start_time": "2022-05-22T11:57:50.115Z"
   },
   {
    "duration": 5,
    "start_time": "2022-05-22T11:57:50.148Z"
   },
   {
    "duration": 6,
    "start_time": "2022-05-22T11:57:50.155Z"
   },
   {
    "duration": 55,
    "start_time": "2022-05-22T11:57:50.162Z"
   },
   {
    "duration": 7,
    "start_time": "2022-05-22T11:57:50.218Z"
   },
   {
    "duration": 10,
    "start_time": "2022-05-22T11:57:50.226Z"
   },
   {
    "duration": 34,
    "start_time": "2022-05-22T11:57:50.237Z"
   },
   {
    "duration": 7,
    "start_time": "2022-05-22T11:57:50.272Z"
   },
   {
    "duration": 35,
    "start_time": "2022-05-22T11:57:50.281Z"
   },
   {
    "duration": 19,
    "start_time": "2022-05-22T11:57:50.318Z"
   },
   {
    "duration": 16,
    "start_time": "2022-05-22T11:57:50.338Z"
   },
   {
    "duration": 16,
    "start_time": "2022-05-22T11:57:50.356Z"
   },
   {
    "duration": 7,
    "start_time": "2022-05-22T11:57:50.373Z"
   },
   {
    "duration": 17,
    "start_time": "2022-05-22T11:57:50.382Z"
   },
   {
    "duration": 18,
    "start_time": "2022-05-22T11:57:50.400Z"
   },
   {
    "duration": 8,
    "start_time": "2022-05-22T11:57:50.420Z"
   },
   {
    "duration": 5,
    "start_time": "2022-05-22T11:58:23.070Z"
   },
   {
    "duration": 52,
    "start_time": "2022-05-22T11:58:50.925Z"
   },
   {
    "duration": 29,
    "start_time": "2022-05-22T12:00:43.173Z"
   },
   {
    "duration": 5,
    "start_time": "2022-05-22T12:00:47.385Z"
   },
   {
    "duration": 6,
    "start_time": "2022-05-22T12:00:49.481Z"
   },
   {
    "duration": 5,
    "start_time": "2022-05-22T12:00:50.525Z"
   },
   {
    "duration": 7,
    "start_time": "2022-05-22T12:00:55.837Z"
   },
   {
    "duration": 13,
    "start_time": "2022-05-22T12:14:34.323Z"
   },
   {
    "duration": 5,
    "start_time": "2022-05-22T12:16:10.820Z"
   },
   {
    "duration": 6,
    "start_time": "2022-05-22T12:16:19.496Z"
   },
   {
    "duration": 37,
    "start_time": "2022-05-22T12:19:31.973Z"
   },
   {
    "duration": 10,
    "start_time": "2022-05-22T12:20:00.472Z"
   },
   {
    "duration": 7,
    "start_time": "2022-05-22T12:20:19.870Z"
   },
   {
    "duration": 36,
    "start_time": "2022-05-22T12:20:48.383Z"
   },
   {
    "duration": 571,
    "start_time": "2022-05-22T12:21:23.889Z"
   },
   {
    "duration": 51,
    "start_time": "2022-05-22T12:21:24.462Z"
   },
   {
    "duration": 16,
    "start_time": "2022-05-22T12:21:24.514Z"
   },
   {
    "duration": 7,
    "start_time": "2022-05-22T12:21:24.534Z"
   },
   {
    "duration": 16,
    "start_time": "2022-05-22T12:21:24.543Z"
   },
   {
    "duration": 54,
    "start_time": "2022-05-22T12:21:24.560Z"
   },
   {
    "duration": 5,
    "start_time": "2022-05-22T12:21:24.616Z"
   },
   {
    "duration": 11,
    "start_time": "2022-05-22T12:21:24.623Z"
   },
   {
    "duration": 33,
    "start_time": "2022-05-22T12:21:24.635Z"
   },
   {
    "duration": 5,
    "start_time": "2022-05-22T12:21:24.670Z"
   },
   {
    "duration": 38,
    "start_time": "2022-05-22T12:21:24.677Z"
   },
   {
    "duration": 34,
    "start_time": "2022-05-22T12:21:24.717Z"
   },
   {
    "duration": 6,
    "start_time": "2022-05-22T12:21:24.753Z"
   },
   {
    "duration": 12,
    "start_time": "2022-05-22T12:21:24.760Z"
   },
   {
    "duration": 11,
    "start_time": "2022-05-22T12:21:24.773Z"
   },
   {
    "duration": 6,
    "start_time": "2022-05-22T12:21:24.813Z"
   },
   {
    "duration": 17,
    "start_time": "2022-05-22T12:21:24.821Z"
   },
   {
    "duration": 6,
    "start_time": "2022-05-22T12:21:24.840Z"
   },
   {
    "duration": 9,
    "start_time": "2022-05-22T12:21:24.847Z"
   },
   {
    "duration": 13,
    "start_time": "2022-05-22T12:21:24.858Z"
   },
   {
    "duration": 3,
    "start_time": "2022-05-22T12:21:24.912Z"
   },
   {
    "duration": 18,
    "start_time": "2022-05-22T12:21:49.566Z"
   },
   {
    "duration": 27,
    "start_time": "2022-05-22T12:22:14.981Z"
   },
   {
    "duration": 8,
    "start_time": "2022-05-22T12:22:50.965Z"
   },
   {
    "duration": 28,
    "start_time": "2022-05-22T12:23:08.478Z"
   },
   {
    "duration": 7,
    "start_time": "2022-05-22T12:23:24.901Z"
   },
   {
    "duration": 16,
    "start_time": "2022-05-22T12:23:53.095Z"
   },
   {
    "duration": 6,
    "start_time": "2022-05-22T12:23:59.502Z"
   },
   {
    "duration": 7,
    "start_time": "2022-05-22T12:25:12.042Z"
   },
   {
    "duration": 15,
    "start_time": "2022-05-22T12:25:36.897Z"
   },
   {
    "duration": 569,
    "start_time": "2022-05-22T12:25:50.201Z"
   },
   {
    "duration": 44,
    "start_time": "2022-05-22T12:25:50.772Z"
   },
   {
    "duration": 24,
    "start_time": "2022-05-22T12:25:50.818Z"
   },
   {
    "duration": 8,
    "start_time": "2022-05-22T12:25:50.845Z"
   },
   {
    "duration": 12,
    "start_time": "2022-05-22T12:25:50.855Z"
   },
   {
    "duration": 71,
    "start_time": "2022-05-22T12:25:50.869Z"
   },
   {
    "duration": 5,
    "start_time": "2022-05-22T12:25:50.942Z"
   },
   {
    "duration": 12,
    "start_time": "2022-05-22T12:25:50.949Z"
   },
   {
    "duration": 51,
    "start_time": "2022-05-22T12:25:50.963Z"
   },
   {
    "duration": 7,
    "start_time": "2022-05-22T12:25:51.017Z"
   },
   {
    "duration": 22,
    "start_time": "2022-05-22T12:25:51.026Z"
   },
   {
    "duration": 8,
    "start_time": "2022-05-22T12:25:51.049Z"
   },
   {
    "duration": 7,
    "start_time": "2022-05-22T12:25:51.059Z"
   },
   {
    "duration": 18,
    "start_time": "2022-05-22T12:25:51.068Z"
   },
   {
    "duration": 30,
    "start_time": "2022-05-22T12:25:51.087Z"
   },
   {
    "duration": 11,
    "start_time": "2022-05-22T12:25:51.119Z"
   },
   {
    "duration": 8,
    "start_time": "2022-05-22T12:25:51.132Z"
   },
   {
    "duration": 8,
    "start_time": "2022-05-22T12:25:51.142Z"
   },
   {
    "duration": 8,
    "start_time": "2022-05-22T12:25:51.152Z"
   },
   {
    "duration": 5,
    "start_time": "2022-05-22T12:25:51.162Z"
   },
   {
    "duration": 9,
    "start_time": "2022-05-22T12:27:08.189Z"
   },
   {
    "duration": 11,
    "start_time": "2022-05-22T12:29:38.821Z"
   },
   {
    "duration": 48,
    "start_time": "2022-05-22T12:29:56.583Z"
   },
   {
    "duration": 7,
    "start_time": "2022-05-22T12:29:59.499Z"
   },
   {
    "duration": 77,
    "start_time": "2022-05-22T13:39:18.294Z"
   },
   {
    "duration": 534,
    "start_time": "2022-05-22T13:39:24.871Z"
   },
   {
    "duration": 45,
    "start_time": "2022-05-22T13:39:25.408Z"
   },
   {
    "duration": 18,
    "start_time": "2022-05-22T13:39:25.454Z"
   },
   {
    "duration": 91,
    "start_time": "2022-05-22T13:39:25.474Z"
   },
   {
    "duration": 7,
    "start_time": "2022-05-22T13:39:25.567Z"
   },
   {
    "duration": 12,
    "start_time": "2022-05-22T13:39:25.575Z"
   },
   {
    "duration": 42,
    "start_time": "2022-05-22T13:39:25.588Z"
   },
   {
    "duration": 8,
    "start_time": "2022-05-22T13:39:25.633Z"
   },
   {
    "duration": 23,
    "start_time": "2022-05-22T13:39:25.642Z"
   },
   {
    "duration": 48,
    "start_time": "2022-05-22T13:39:25.668Z"
   },
   {
    "duration": 7,
    "start_time": "2022-05-22T13:39:25.718Z"
   },
   {
    "duration": 28,
    "start_time": "2022-05-22T13:39:25.731Z"
   },
   {
    "duration": 16,
    "start_time": "2022-05-22T13:39:25.761Z"
   },
   {
    "duration": 19,
    "start_time": "2022-05-22T13:39:25.778Z"
   },
   {
    "duration": 13,
    "start_time": "2022-05-22T13:39:25.799Z"
   },
   {
    "duration": 35,
    "start_time": "2022-05-22T13:39:25.813Z"
   },
   {
    "duration": 12,
    "start_time": "2022-05-22T13:39:25.850Z"
   },
   {
    "duration": 16,
    "start_time": "2022-05-22T13:39:25.863Z"
   },
   {
    "duration": 8,
    "start_time": "2022-05-22T13:39:25.881Z"
   },
   {
    "duration": 7,
    "start_time": "2022-05-22T13:39:25.891Z"
   },
   {
    "duration": 15,
    "start_time": "2022-05-22T13:39:25.900Z"
   },
   {
    "duration": 29,
    "start_time": "2022-05-22T13:39:25.917Z"
   },
   {
    "duration": 10,
    "start_time": "2022-05-22T13:53:37.261Z"
   },
   {
    "duration": 1280,
    "start_time": "2022-05-22T13:56:00.669Z"
   },
   {
    "duration": 44,
    "start_time": "2022-05-22T13:56:01.952Z"
   },
   {
    "duration": 15,
    "start_time": "2022-05-22T13:56:02.446Z"
   },
   {
    "duration": 79,
    "start_time": "2022-05-22T13:56:04.272Z"
   },
   {
    "duration": 1275,
    "start_time": "2022-05-22T13:58:15.917Z"
   },
   {
    "duration": 10,
    "start_time": "2022-05-22T13:58:53.729Z"
   },
   {
    "duration": 1213,
    "start_time": "2022-05-22T13:59:20.521Z"
   },
   {
    "duration": 33,
    "start_time": "2022-05-22T13:59:21.736Z"
   },
   {
    "duration": 15,
    "start_time": "2022-05-22T13:59:21.771Z"
   },
   {
    "duration": 89,
    "start_time": "2022-05-22T13:59:21.789Z"
   },
   {
    "duration": 9,
    "start_time": "2022-05-22T13:59:21.880Z"
   },
   {
    "duration": 12,
    "start_time": "2022-05-22T13:59:21.891Z"
   },
   {
    "duration": 27,
    "start_time": "2022-05-22T13:59:21.905Z"
   },
   {
    "duration": 41,
    "start_time": "2022-05-22T13:59:21.934Z"
   },
   {
    "duration": 7,
    "start_time": "2022-05-22T13:59:21.977Z"
   },
   {
    "duration": 13,
    "start_time": "2022-05-22T13:59:21.987Z"
   },
   {
    "duration": 46,
    "start_time": "2022-05-22T13:59:22.002Z"
   },
   {
    "duration": 6,
    "start_time": "2022-05-22T13:59:22.050Z"
   },
   {
    "duration": 10,
    "start_time": "2022-05-22T13:59:22.058Z"
   },
   {
    "duration": 11,
    "start_time": "2022-05-22T13:59:22.070Z"
   },
   {
    "duration": 7,
    "start_time": "2022-05-22T13:59:22.083Z"
   },
   {
    "duration": 10,
    "start_time": "2022-05-22T13:59:22.091Z"
   },
   {
    "duration": 6,
    "start_time": "2022-05-22T13:59:22.127Z"
   },
   {
    "duration": 10,
    "start_time": "2022-05-22T13:59:22.135Z"
   },
   {
    "duration": 7,
    "start_time": "2022-05-22T13:59:22.146Z"
   },
   {
    "duration": 19,
    "start_time": "2022-05-22T13:59:22.154Z"
   },
   {
    "duration": 9,
    "start_time": "2022-05-22T13:59:22.174Z"
   },
   {
    "duration": 11,
    "start_time": "2022-05-22T13:59:22.185Z"
   },
   {
    "duration": 31,
    "start_time": "2022-05-22T13:59:22.198Z"
   },
   {
    "duration": 3,
    "start_time": "2022-05-22T14:03:55.399Z"
   },
   {
    "duration": 3,
    "start_time": "2022-05-22T14:03:57.623Z"
   },
   {
    "duration": 7,
    "start_time": "2022-05-22T14:04:07.418Z"
   },
   {
    "duration": 26,
    "start_time": "2022-05-22T14:04:50.154Z"
   },
   {
    "duration": 7,
    "start_time": "2022-05-22T14:05:14.829Z"
   },
   {
    "duration": 6,
    "start_time": "2022-05-22T14:05:18.698Z"
   },
   {
    "duration": 9,
    "start_time": "2022-05-22T14:06:41.746Z"
   },
   {
    "duration": 1197,
    "start_time": "2022-05-22T14:07:52.947Z"
   },
   {
    "duration": 33,
    "start_time": "2022-05-22T14:07:54.146Z"
   },
   {
    "duration": 13,
    "start_time": "2022-05-22T14:07:54.180Z"
   },
   {
    "duration": 85,
    "start_time": "2022-05-22T14:07:54.194Z"
   },
   {
    "duration": 9,
    "start_time": "2022-05-22T14:07:54.281Z"
   },
   {
    "duration": 7,
    "start_time": "2022-05-22T14:07:54.291Z"
   },
   {
    "duration": 29,
    "start_time": "2022-05-22T14:07:54.299Z"
   },
   {
    "duration": 11,
    "start_time": "2022-05-22T14:07:54.335Z"
   },
   {
    "duration": 15,
    "start_time": "2022-05-22T14:07:54.348Z"
   },
   {
    "duration": 24,
    "start_time": "2022-05-22T14:07:54.366Z"
   },
   {
    "duration": 5,
    "start_time": "2022-05-22T14:07:54.392Z"
   },
   {
    "duration": 8,
    "start_time": "2022-05-22T14:07:54.398Z"
   },
   {
    "duration": 46,
    "start_time": "2022-05-22T14:07:54.408Z"
   },
   {
    "duration": 5,
    "start_time": "2022-05-22T14:07:54.456Z"
   },
   {
    "duration": 10,
    "start_time": "2022-05-22T14:07:54.462Z"
   },
   {
    "duration": 10,
    "start_time": "2022-05-22T14:07:54.473Z"
   },
   {
    "duration": 7,
    "start_time": "2022-05-22T14:07:54.484Z"
   },
   {
    "duration": 8,
    "start_time": "2022-05-22T14:07:54.492Z"
   },
   {
    "duration": 33,
    "start_time": "2022-05-22T14:07:54.502Z"
   },
   {
    "duration": 16,
    "start_time": "2022-05-22T14:07:54.537Z"
   },
   {
    "duration": 6,
    "start_time": "2022-05-22T14:07:54.555Z"
   },
   {
    "duration": 11,
    "start_time": "2022-05-22T14:07:54.562Z"
   },
   {
    "duration": 15,
    "start_time": "2022-05-22T14:07:54.574Z"
   },
   {
    "duration": 8,
    "start_time": "2022-05-22T14:09:57.327Z"
   },
   {
    "duration": 707,
    "start_time": "2022-05-22T14:11:18.024Z"
   },
   {
    "duration": 6,
    "start_time": "2022-05-22T14:11:27.949Z"
   },
   {
    "duration": 8,
    "start_time": "2022-05-22T14:11:44.871Z"
   },
   {
    "duration": 1183,
    "start_time": "2022-05-22T14:15:07.556Z"
   },
   {
    "duration": 33,
    "start_time": "2022-05-22T14:15:08.741Z"
   },
   {
    "duration": 14,
    "start_time": "2022-05-22T14:15:08.776Z"
   },
   {
    "duration": 91,
    "start_time": "2022-05-22T14:15:08.792Z"
   },
   {
    "duration": 9,
    "start_time": "2022-05-22T14:15:08.884Z"
   },
   {
    "duration": 12,
    "start_time": "2022-05-22T14:15:08.895Z"
   },
   {
    "duration": 22,
    "start_time": "2022-05-22T14:15:08.909Z"
   },
   {
    "duration": 8,
    "start_time": "2022-05-22T14:15:08.939Z"
   },
   {
    "duration": 7,
    "start_time": "2022-05-22T14:15:08.949Z"
   },
   {
    "duration": 5,
    "start_time": "2022-05-22T14:15:08.959Z"
   },
   {
    "duration": 9,
    "start_time": "2022-05-22T14:15:08.966Z"
   },
   {
    "duration": 14,
    "start_time": "2022-05-22T14:15:08.977Z"
   },
   {
    "duration": 10,
    "start_time": "2022-05-22T14:15:08.993Z"
   },
   {
    "duration": 46,
    "start_time": "2022-05-22T14:15:09.026Z"
   },
   {
    "duration": 7,
    "start_time": "2022-05-22T14:15:09.074Z"
   },
   {
    "duration": 23,
    "start_time": "2022-05-22T14:15:09.086Z"
   },
   {
    "duration": 35,
    "start_time": "2022-05-22T14:15:09.111Z"
   },
   {
    "duration": 5,
    "start_time": "2022-05-22T14:15:09.148Z"
   },
   {
    "duration": 11,
    "start_time": "2022-05-22T14:15:09.154Z"
   },
   {
    "duration": 11,
    "start_time": "2022-05-22T14:15:09.166Z"
   },
   {
    "duration": 7,
    "start_time": "2022-05-22T14:15:09.178Z"
   },
   {
    "duration": 7,
    "start_time": "2022-05-22T14:15:09.186Z"
   },
   {
    "duration": 44,
    "start_time": "2022-05-22T14:15:09.195Z"
   },
   {
    "duration": 9,
    "start_time": "2022-05-22T14:15:09.240Z"
   },
   {
    "duration": 10,
    "start_time": "2022-05-22T14:15:09.251Z"
   },
   {
    "duration": 5,
    "start_time": "2022-05-22T14:17:59.615Z"
   },
   {
    "duration": 26,
    "start_time": "2022-05-22T14:26:30.758Z"
   },
   {
    "duration": 26,
    "start_time": "2022-05-22T14:26:52.124Z"
   },
   {
    "duration": 16,
    "start_time": "2022-05-22T14:26:56.261Z"
   },
   {
    "duration": 19,
    "start_time": "2022-05-22T14:28:00.877Z"
   },
   {
    "duration": 19,
    "start_time": "2022-05-22T14:28:14.683Z"
   },
   {
    "duration": 24,
    "start_time": "2022-05-22T14:29:20.371Z"
   },
   {
    "duration": 49,
    "start_time": "2022-05-23T10:59:20.600Z"
   },
   {
    "duration": 1497,
    "start_time": "2022-05-23T10:59:26.185Z"
   },
   {
    "duration": 31,
    "start_time": "2022-05-23T10:59:27.685Z"
   },
   {
    "duration": 14,
    "start_time": "2022-05-23T10:59:27.717Z"
   },
   {
    "duration": 74,
    "start_time": "2022-05-23T10:59:27.733Z"
   },
   {
    "duration": 9,
    "start_time": "2022-05-23T10:59:27.808Z"
   },
   {
    "duration": 40,
    "start_time": "2022-05-23T10:59:27.819Z"
   },
   {
    "duration": 24,
    "start_time": "2022-05-23T10:59:27.861Z"
   },
   {
    "duration": 18,
    "start_time": "2022-05-23T10:59:27.887Z"
   },
   {
    "duration": 29,
    "start_time": "2022-05-23T10:59:27.907Z"
   },
   {
    "duration": 10,
    "start_time": "2022-05-23T10:59:27.938Z"
   },
   {
    "duration": 23,
    "start_time": "2022-05-23T10:59:27.950Z"
   },
   {
    "duration": 18,
    "start_time": "2022-05-23T10:59:27.975Z"
   },
   {
    "duration": 28,
    "start_time": "2022-05-23T10:59:27.994Z"
   },
   {
    "duration": 15,
    "start_time": "2022-05-23T10:59:28.024Z"
   },
   {
    "duration": 45,
    "start_time": "2022-05-23T10:59:28.041Z"
   },
   {
    "duration": 5,
    "start_time": "2022-05-23T10:59:28.087Z"
   },
   {
    "duration": 20,
    "start_time": "2022-05-23T10:59:28.093Z"
   },
   {
    "duration": 15,
    "start_time": "2022-05-23T10:59:28.115Z"
   },
   {
    "duration": 36,
    "start_time": "2022-05-23T10:59:28.131Z"
   },
   {
    "duration": 27,
    "start_time": "2022-05-23T10:59:28.169Z"
   },
   {
    "duration": 16,
    "start_time": "2022-05-23T10:59:28.198Z"
   },
   {
    "duration": 28,
    "start_time": "2022-05-23T10:59:28.215Z"
   },
   {
    "duration": 9,
    "start_time": "2022-05-23T10:59:28.245Z"
   },
   {
    "duration": 7,
    "start_time": "2022-05-23T10:59:53.840Z"
   },
   {
    "duration": 25,
    "start_time": "2022-05-23T11:00:16.306Z"
   },
   {
    "duration": 24,
    "start_time": "2022-05-23T11:00:35.779Z"
   },
   {
    "duration": 25,
    "start_time": "2022-05-23T11:00:40.851Z"
   },
   {
    "duration": 1200,
    "start_time": "2022-05-23T11:00:46.778Z"
   },
   {
    "duration": 34,
    "start_time": "2022-05-23T11:00:47.981Z"
   },
   {
    "duration": 16,
    "start_time": "2022-05-23T11:00:48.017Z"
   },
   {
    "duration": 77,
    "start_time": "2022-05-23T11:00:48.035Z"
   },
   {
    "duration": 7,
    "start_time": "2022-05-23T11:00:48.114Z"
   },
   {
    "duration": 6,
    "start_time": "2022-05-23T11:00:48.122Z"
   },
   {
    "duration": 11,
    "start_time": "2022-05-23T11:00:48.129Z"
   },
   {
    "duration": 19,
    "start_time": "2022-05-23T11:00:48.141Z"
   },
   {
    "duration": 6,
    "start_time": "2022-05-23T11:00:48.162Z"
   },
   {
    "duration": 4,
    "start_time": "2022-05-23T11:00:48.170Z"
   },
   {
    "duration": 6,
    "start_time": "2022-05-23T11:00:48.175Z"
   },
   {
    "duration": 6,
    "start_time": "2022-05-23T11:00:48.182Z"
   },
   {
    "duration": 25,
    "start_time": "2022-05-23T11:00:48.189Z"
   },
   {
    "duration": 5,
    "start_time": "2022-05-23T11:00:48.216Z"
   },
   {
    "duration": 62,
    "start_time": "2022-05-23T11:00:48.222Z"
   },
   {
    "duration": 4,
    "start_time": "2022-05-23T11:00:48.286Z"
   },
   {
    "duration": 6,
    "start_time": "2022-05-23T11:00:48.292Z"
   },
   {
    "duration": 8,
    "start_time": "2022-05-23T11:00:48.299Z"
   },
   {
    "duration": 7,
    "start_time": "2022-05-23T11:00:48.308Z"
   },
   {
    "duration": 7,
    "start_time": "2022-05-23T11:00:48.316Z"
   },
   {
    "duration": 36,
    "start_time": "2022-05-23T11:00:48.324Z"
   },
   {
    "duration": 8,
    "start_time": "2022-05-23T11:00:48.361Z"
   },
   {
    "duration": 9,
    "start_time": "2022-05-23T11:00:48.370Z"
   },
   {
    "duration": 25,
    "start_time": "2022-05-23T11:02:59.268Z"
   },
   {
    "duration": 26,
    "start_time": "2022-05-23T11:03:13.170Z"
   },
   {
    "duration": 8,
    "start_time": "2022-05-23T11:04:25.661Z"
   },
   {
    "duration": 7,
    "start_time": "2022-05-23T11:09:20.978Z"
   },
   {
    "duration": 8,
    "start_time": "2022-05-23T11:09:50.865Z"
   },
   {
    "duration": 8,
    "start_time": "2022-05-23T11:10:31.486Z"
   },
   {
    "duration": 10,
    "start_time": "2022-05-23T11:11:42.537Z"
   },
   {
    "duration": 9,
    "start_time": "2022-05-23T11:12:15.629Z"
   },
   {
    "duration": 5,
    "start_time": "2022-05-23T11:16:37.629Z"
   },
   {
    "duration": 3,
    "start_time": "2022-05-23T11:18:09.050Z"
   },
   {
    "duration": 24,
    "start_time": "2022-05-23T11:20:03.302Z"
   },
   {
    "duration": 8,
    "start_time": "2022-05-23T11:20:14.625Z"
   },
   {
    "duration": 4,
    "start_time": "2022-05-23T11:20:16.809Z"
   },
   {
    "duration": 23,
    "start_time": "2022-05-23T11:20:18.626Z"
   },
   {
    "duration": 1185,
    "start_time": "2022-05-23T11:20:31.374Z"
   },
   {
    "duration": 30,
    "start_time": "2022-05-23T11:20:32.561Z"
   },
   {
    "duration": 13,
    "start_time": "2022-05-23T11:20:32.593Z"
   },
   {
    "duration": 91,
    "start_time": "2022-05-23T11:20:32.608Z"
   },
   {
    "duration": 10,
    "start_time": "2022-05-23T11:20:32.700Z"
   },
   {
    "duration": 7,
    "start_time": "2022-05-23T11:20:32.711Z"
   },
   {
    "duration": 14,
    "start_time": "2022-05-23T11:20:32.719Z"
   },
   {
    "duration": 7,
    "start_time": "2022-05-23T11:20:32.734Z"
   },
   {
    "duration": 21,
    "start_time": "2022-05-23T11:20:32.743Z"
   },
   {
    "duration": 5,
    "start_time": "2022-05-23T11:20:32.767Z"
   },
   {
    "duration": 8,
    "start_time": "2022-05-23T11:20:32.774Z"
   },
   {
    "duration": 5,
    "start_time": "2022-05-23T11:20:32.783Z"
   },
   {
    "duration": 31,
    "start_time": "2022-05-23T11:20:32.790Z"
   },
   {
    "duration": 38,
    "start_time": "2022-05-23T11:20:32.822Z"
   },
   {
    "duration": 31,
    "start_time": "2022-05-23T11:20:32.862Z"
   },
   {
    "duration": 5,
    "start_time": "2022-05-23T11:20:32.894Z"
   },
   {
    "duration": 8,
    "start_time": "2022-05-23T11:20:32.901Z"
   },
   {
    "duration": 7,
    "start_time": "2022-05-23T11:20:32.910Z"
   },
   {
    "duration": 6,
    "start_time": "2022-05-23T11:20:32.919Z"
   },
   {
    "duration": 39,
    "start_time": "2022-05-23T11:20:32.926Z"
   },
   {
    "duration": 7,
    "start_time": "2022-05-23T11:20:32.967Z"
   },
   {
    "duration": 12,
    "start_time": "2022-05-23T11:20:32.975Z"
   },
   {
    "duration": 8,
    "start_time": "2022-05-23T11:20:32.988Z"
   },
   {
    "duration": 6,
    "start_time": "2022-05-23T11:20:32.998Z"
   },
   {
    "duration": 28,
    "start_time": "2022-05-23T11:20:33.005Z"
   },
   {
    "duration": 26,
    "start_time": "2022-05-23T11:20:33.035Z"
   },
   {
    "duration": 8,
    "start_time": "2022-05-23T11:20:58.111Z"
   },
   {
    "duration": 3,
    "start_time": "2022-05-23T11:20:58.954Z"
   },
   {
    "duration": 25,
    "start_time": "2022-05-23T11:20:59.552Z"
   },
   {
    "duration": 5,
    "start_time": "2022-05-23T11:21:45.526Z"
   },
   {
    "duration": 3,
    "start_time": "2022-05-23T11:21:46.665Z"
   },
   {
    "duration": 28,
    "start_time": "2022-05-23T11:21:47.246Z"
   },
   {
    "duration": 1195,
    "start_time": "2022-05-23T11:21:52.982Z"
   },
   {
    "duration": 36,
    "start_time": "2022-05-23T11:21:54.178Z"
   },
   {
    "duration": 15,
    "start_time": "2022-05-23T11:21:54.216Z"
   },
   {
    "duration": 98,
    "start_time": "2022-05-23T11:21:54.233Z"
   },
   {
    "duration": 8,
    "start_time": "2022-05-23T11:21:54.333Z"
   },
   {
    "duration": 22,
    "start_time": "2022-05-23T11:21:54.343Z"
   },
   {
    "duration": 19,
    "start_time": "2022-05-23T11:21:54.366Z"
   },
   {
    "duration": 8,
    "start_time": "2022-05-23T11:21:54.387Z"
   },
   {
    "duration": 5,
    "start_time": "2022-05-23T11:21:54.396Z"
   },
   {
    "duration": 5,
    "start_time": "2022-05-23T11:21:54.404Z"
   },
   {
    "duration": 7,
    "start_time": "2022-05-23T11:21:54.410Z"
   },
   {
    "duration": 8,
    "start_time": "2022-05-23T11:21:54.418Z"
   },
   {
    "duration": 55,
    "start_time": "2022-05-23T11:21:54.427Z"
   },
   {
    "duration": 6,
    "start_time": "2022-05-23T11:21:54.484Z"
   },
   {
    "duration": 41,
    "start_time": "2022-05-23T11:21:54.491Z"
   },
   {
    "duration": 6,
    "start_time": "2022-05-23T11:21:54.533Z"
   },
   {
    "duration": 18,
    "start_time": "2022-05-23T11:21:54.541Z"
   },
   {
    "duration": 10,
    "start_time": "2022-05-23T11:21:54.561Z"
   },
   {
    "duration": 7,
    "start_time": "2022-05-23T11:21:54.572Z"
   },
   {
    "duration": 7,
    "start_time": "2022-05-23T11:21:54.580Z"
   },
   {
    "duration": 7,
    "start_time": "2022-05-23T11:21:54.589Z"
   },
   {
    "duration": 14,
    "start_time": "2022-05-23T11:21:54.598Z"
   },
   {
    "duration": 7,
    "start_time": "2022-05-23T11:21:54.615Z"
   },
   {
    "duration": 38,
    "start_time": "2022-05-23T11:21:54.624Z"
   },
   {
    "duration": 31,
    "start_time": "2022-05-23T11:21:54.664Z"
   },
   {
    "duration": 11,
    "start_time": "2022-05-23T11:21:54.697Z"
   },
   {
    "duration": 14,
    "start_time": "2022-05-23T11:22:31.802Z"
   },
   {
    "duration": 110,
    "start_time": "2022-05-23T11:24:52.825Z"
   },
   {
    "duration": 1214,
    "start_time": "2022-05-23T11:25:00.449Z"
   },
   {
    "duration": 37,
    "start_time": "2022-05-23T11:25:01.665Z"
   },
   {
    "duration": 17,
    "start_time": "2022-05-23T11:25:01.704Z"
   },
   {
    "duration": 105,
    "start_time": "2022-05-23T11:25:01.723Z"
   },
   {
    "duration": 9,
    "start_time": "2022-05-23T11:25:01.829Z"
   },
   {
    "duration": 23,
    "start_time": "2022-05-23T11:25:01.839Z"
   },
   {
    "duration": 21,
    "start_time": "2022-05-23T11:25:01.866Z"
   },
   {
    "duration": 20,
    "start_time": "2022-05-23T11:25:01.888Z"
   },
   {
    "duration": 23,
    "start_time": "2022-05-23T11:25:01.910Z"
   },
   {
    "duration": 16,
    "start_time": "2022-05-23T11:25:01.937Z"
   },
   {
    "duration": 15,
    "start_time": "2022-05-23T11:25:01.955Z"
   },
   {
    "duration": 26,
    "start_time": "2022-05-23T11:25:01.971Z"
   },
   {
    "duration": 64,
    "start_time": "2022-05-23T11:25:01.999Z"
   },
   {
    "duration": 7,
    "start_time": "2022-05-23T11:25:02.065Z"
   },
   {
    "duration": 42,
    "start_time": "2022-05-23T11:25:02.073Z"
   },
   {
    "duration": 6,
    "start_time": "2022-05-23T11:25:02.116Z"
   },
   {
    "duration": 7,
    "start_time": "2022-05-23T11:25:02.124Z"
   },
   {
    "duration": 33,
    "start_time": "2022-05-23T11:25:02.133Z"
   },
   {
    "duration": 10,
    "start_time": "2022-05-23T11:25:02.167Z"
   },
   {
    "duration": 12,
    "start_time": "2022-05-23T11:25:02.178Z"
   },
   {
    "duration": 8,
    "start_time": "2022-05-23T11:25:02.191Z"
   },
   {
    "duration": 14,
    "start_time": "2022-05-23T11:25:02.200Z"
   },
   {
    "duration": 116,
    "start_time": "2022-05-23T11:25:02.215Z"
   },
   {
    "duration": 0,
    "start_time": "2022-05-23T11:25:02.333Z"
   },
   {
    "duration": 0,
    "start_time": "2022-05-23T11:25:02.334Z"
   },
   {
    "duration": 0,
    "start_time": "2022-05-23T11:25:02.334Z"
   },
   {
    "duration": 0,
    "start_time": "2022-05-23T11:25:02.335Z"
   },
   {
    "duration": 0,
    "start_time": "2022-05-23T11:25:02.336Z"
   },
   {
    "duration": 6,
    "start_time": "2022-05-23T11:26:38.769Z"
   },
   {
    "duration": 28,
    "start_time": "2022-05-23T11:31:35.736Z"
   },
   {
    "duration": 13,
    "start_time": "2022-05-23T11:31:38.555Z"
   },
   {
    "duration": 25,
    "start_time": "2022-05-23T11:32:19.472Z"
   },
   {
    "duration": 26,
    "start_time": "2022-05-23T11:33:00.670Z"
   },
   {
    "duration": 12,
    "start_time": "2022-05-23T11:37:07.206Z"
   },
   {
    "duration": 9,
    "start_time": "2022-05-23T11:39:03.618Z"
   },
   {
    "duration": 9,
    "start_time": "2022-05-23T11:39:11.029Z"
   },
   {
    "duration": 10,
    "start_time": "2022-05-23T11:39:15.995Z"
   },
   {
    "duration": 10,
    "start_time": "2022-05-23T11:44:09.858Z"
   },
   {
    "duration": 1238,
    "start_time": "2022-05-23T11:44:15.488Z"
   },
   {
    "duration": 41,
    "start_time": "2022-05-23T11:44:16.732Z"
   },
   {
    "duration": 38,
    "start_time": "2022-05-23T11:44:16.775Z"
   },
   {
    "duration": 98,
    "start_time": "2022-05-23T11:44:16.815Z"
   },
   {
    "duration": 8,
    "start_time": "2022-05-23T11:44:16.914Z"
   },
   {
    "duration": 13,
    "start_time": "2022-05-23T11:44:16.923Z"
   },
   {
    "duration": 15,
    "start_time": "2022-05-23T11:44:16.937Z"
   },
   {
    "duration": 10,
    "start_time": "2022-05-23T11:44:16.953Z"
   },
   {
    "duration": 7,
    "start_time": "2022-05-23T11:44:16.964Z"
   },
   {
    "duration": 8,
    "start_time": "2022-05-23T11:44:16.973Z"
   },
   {
    "duration": 8,
    "start_time": "2022-05-23T11:44:16.983Z"
   },
   {
    "duration": 7,
    "start_time": "2022-05-23T11:44:16.992Z"
   },
   {
    "duration": 33,
    "start_time": "2022-05-23T11:44:17.000Z"
   },
   {
    "duration": 5,
    "start_time": "2022-05-23T11:44:17.034Z"
   },
   {
    "duration": 45,
    "start_time": "2022-05-23T11:44:17.040Z"
   },
   {
    "duration": 4,
    "start_time": "2022-05-23T11:44:17.086Z"
   },
   {
    "duration": 11,
    "start_time": "2022-05-23T11:44:17.091Z"
   },
   {
    "duration": 8,
    "start_time": "2022-05-23T11:44:17.103Z"
   },
   {
    "duration": 12,
    "start_time": "2022-05-23T11:44:17.112Z"
   },
   {
    "duration": 18,
    "start_time": "2022-05-23T11:44:17.125Z"
   },
   {
    "duration": 15,
    "start_time": "2022-05-23T11:44:17.145Z"
   },
   {
    "duration": 9,
    "start_time": "2022-05-23T11:44:17.161Z"
   },
   {
    "duration": 6,
    "start_time": "2022-05-23T11:44:17.171Z"
   },
   {
    "duration": 10,
    "start_time": "2022-05-23T11:44:17.178Z"
   },
   {
    "duration": 7,
    "start_time": "2022-05-23T11:44:17.189Z"
   },
   {
    "duration": 26,
    "start_time": "2022-05-23T11:44:17.198Z"
   },
   {
    "duration": 12,
    "start_time": "2022-05-23T11:44:17.226Z"
   },
   {
    "duration": 25,
    "start_time": "2022-05-23T11:44:17.261Z"
   },
   {
    "duration": 24,
    "start_time": "2022-05-23T11:44:17.287Z"
   },
   {
    "duration": 46,
    "start_time": "2022-05-23T11:44:49.843Z"
   },
   {
    "duration": 9,
    "start_time": "2022-05-23T11:46:39.486Z"
   },
   {
    "duration": 25,
    "start_time": "2022-05-23T11:46:45.524Z"
   },
   {
    "duration": 1200,
    "start_time": "2022-05-23T11:47:02.930Z"
   },
   {
    "duration": 38,
    "start_time": "2022-05-23T11:47:04.132Z"
   },
   {
    "duration": 13,
    "start_time": "2022-05-23T11:47:04.173Z"
   },
   {
    "duration": 89,
    "start_time": "2022-05-23T11:47:04.188Z"
   },
   {
    "duration": 9,
    "start_time": "2022-05-23T11:47:04.278Z"
   },
   {
    "duration": 5,
    "start_time": "2022-05-23T11:47:04.288Z"
   },
   {
    "duration": 8,
    "start_time": "2022-05-23T11:47:04.295Z"
   },
   {
    "duration": 5,
    "start_time": "2022-05-23T11:47:04.304Z"
   },
   {
    "duration": 5,
    "start_time": "2022-05-23T11:47:04.311Z"
   },
   {
    "duration": 4,
    "start_time": "2022-05-23T11:47:04.318Z"
   },
   {
    "duration": 45,
    "start_time": "2022-05-23T11:47:04.324Z"
   },
   {
    "duration": 11,
    "start_time": "2022-05-23T11:47:04.371Z"
   },
   {
    "duration": 26,
    "start_time": "2022-05-23T11:47:04.383Z"
   },
   {
    "duration": 6,
    "start_time": "2022-05-23T11:47:04.410Z"
   },
   {
    "duration": 45,
    "start_time": "2022-05-23T11:47:04.417Z"
   },
   {
    "duration": 6,
    "start_time": "2022-05-23T11:47:04.464Z"
   },
   {
    "duration": 12,
    "start_time": "2022-05-23T11:47:04.472Z"
   },
   {
    "duration": 7,
    "start_time": "2022-05-23T11:47:04.485Z"
   },
   {
    "duration": 5,
    "start_time": "2022-05-23T11:47:04.493Z"
   },
   {
    "duration": 12,
    "start_time": "2022-05-23T11:47:04.500Z"
   },
   {
    "duration": 8,
    "start_time": "2022-05-23T11:47:04.513Z"
   },
   {
    "duration": 48,
    "start_time": "2022-05-23T11:47:04.522Z"
   },
   {
    "duration": 6,
    "start_time": "2022-05-23T11:47:04.573Z"
   },
   {
    "duration": 14,
    "start_time": "2022-05-23T11:47:04.581Z"
   },
   {
    "duration": 8,
    "start_time": "2022-05-23T11:47:04.596Z"
   },
   {
    "duration": 25,
    "start_time": "2022-05-23T11:47:04.605Z"
   },
   {
    "duration": 13,
    "start_time": "2022-05-23T11:47:04.631Z"
   },
   {
    "duration": 32,
    "start_time": "2022-05-23T11:47:04.660Z"
   },
   {
    "duration": 30,
    "start_time": "2022-05-23T11:47:04.694Z"
   },
   {
    "duration": 51,
    "start_time": "2022-05-23T11:47:04.725Z"
   },
   {
    "duration": 25,
    "start_time": "2022-05-23T11:53:50.514Z"
   },
   {
    "duration": 8,
    "start_time": "2022-05-23T11:55:36.472Z"
   },
   {
    "duration": 8,
    "start_time": "2022-05-23T11:56:16.759Z"
   },
   {
    "duration": 1229,
    "start_time": "2022-05-23T11:57:38.836Z"
   },
   {
    "duration": 31,
    "start_time": "2022-05-23T11:57:40.067Z"
   },
   {
    "duration": 14,
    "start_time": "2022-05-23T11:57:40.099Z"
   },
   {
    "duration": 83,
    "start_time": "2022-05-23T11:57:40.114Z"
   },
   {
    "duration": 8,
    "start_time": "2022-05-23T11:57:40.199Z"
   },
   {
    "duration": 24,
    "start_time": "2022-05-23T11:57:40.208Z"
   },
   {
    "duration": 35,
    "start_time": "2022-05-23T11:57:40.233Z"
   },
   {
    "duration": 22,
    "start_time": "2022-05-23T11:57:40.270Z"
   },
   {
    "duration": 20,
    "start_time": "2022-05-23T11:57:40.294Z"
   },
   {
    "duration": 22,
    "start_time": "2022-05-23T11:57:40.315Z"
   },
   {
    "duration": 17,
    "start_time": "2022-05-23T11:57:40.338Z"
   },
   {
    "duration": 19,
    "start_time": "2022-05-23T11:57:40.356Z"
   },
   {
    "duration": 45,
    "start_time": "2022-05-23T11:57:40.376Z"
   },
   {
    "duration": 16,
    "start_time": "2022-05-23T11:57:40.423Z"
   },
   {
    "duration": 59,
    "start_time": "2022-05-23T11:57:40.440Z"
   },
   {
    "duration": 5,
    "start_time": "2022-05-23T11:57:40.501Z"
   },
   {
    "duration": 30,
    "start_time": "2022-05-23T11:57:40.507Z"
   },
   {
    "duration": 47,
    "start_time": "2022-05-23T11:57:40.538Z"
   },
   {
    "duration": 19,
    "start_time": "2022-05-23T11:57:40.586Z"
   },
   {
    "duration": 29,
    "start_time": "2022-05-23T11:57:40.606Z"
   },
   {
    "duration": 22,
    "start_time": "2022-05-23T11:57:40.636Z"
   },
   {
    "duration": 34,
    "start_time": "2022-05-23T11:57:40.661Z"
   },
   {
    "duration": 16,
    "start_time": "2022-05-23T11:57:40.697Z"
   },
   {
    "duration": 31,
    "start_time": "2022-05-23T11:57:40.714Z"
   },
   {
    "duration": 57,
    "start_time": "2022-05-23T11:57:40.746Z"
   },
   {
    "duration": 57,
    "start_time": "2022-05-23T11:57:40.805Z"
   },
   {
    "duration": 45,
    "start_time": "2022-05-23T11:57:40.863Z"
   },
   {
    "duration": 41,
    "start_time": "2022-05-23T11:57:40.909Z"
   },
   {
    "duration": 39,
    "start_time": "2022-05-23T11:57:40.951Z"
   },
   {
    "duration": 28,
    "start_time": "2022-05-23T11:57:40.991Z"
   },
   {
    "duration": 26,
    "start_time": "2022-05-23T11:57:41.020Z"
   },
   {
    "duration": 117,
    "start_time": "2022-05-23T11:59:19.861Z"
   },
   {
    "duration": 8,
    "start_time": "2022-05-23T12:20:51.240Z"
   },
   {
    "duration": 24,
    "start_time": "2022-05-23T12:30:50.338Z"
   },
   {
    "duration": 4,
    "start_time": "2022-05-23T12:32:06.542Z"
   },
   {
    "duration": 1176,
    "start_time": "2022-05-23T12:35:09.971Z"
   },
   {
    "duration": 30,
    "start_time": "2022-05-23T12:35:11.149Z"
   },
   {
    "duration": 21,
    "start_time": "2022-05-23T12:35:11.181Z"
   },
   {
    "duration": 105,
    "start_time": "2022-05-23T12:35:11.204Z"
   },
   {
    "duration": 9,
    "start_time": "2022-05-23T12:35:11.311Z"
   },
   {
    "duration": 7,
    "start_time": "2022-05-23T12:35:11.322Z"
   },
   {
    "duration": 29,
    "start_time": "2022-05-23T12:35:11.331Z"
   },
   {
    "duration": 7,
    "start_time": "2022-05-23T12:35:11.363Z"
   },
   {
    "duration": 8,
    "start_time": "2022-05-23T12:35:11.372Z"
   },
   {
    "duration": 8,
    "start_time": "2022-05-23T12:35:11.383Z"
   },
   {
    "duration": 6,
    "start_time": "2022-05-23T12:35:11.393Z"
   },
   {
    "duration": 9,
    "start_time": "2022-05-23T12:35:11.400Z"
   },
   {
    "duration": 59,
    "start_time": "2022-05-23T12:35:11.410Z"
   },
   {
    "duration": 7,
    "start_time": "2022-05-23T12:35:11.471Z"
   },
   {
    "duration": 31,
    "start_time": "2022-05-23T12:35:11.480Z"
   },
   {
    "duration": 5,
    "start_time": "2022-05-23T12:35:11.512Z"
   },
   {
    "duration": 9,
    "start_time": "2022-05-23T12:35:11.519Z"
   },
   {
    "duration": 40,
    "start_time": "2022-05-23T12:35:11.529Z"
   },
   {
    "duration": 8,
    "start_time": "2022-05-23T12:35:11.571Z"
   },
   {
    "duration": 12,
    "start_time": "2022-05-23T12:35:11.582Z"
   },
   {
    "duration": 13,
    "start_time": "2022-05-23T12:35:11.596Z"
   },
   {
    "duration": 26,
    "start_time": "2022-05-23T12:35:11.611Z"
   },
   {
    "duration": 30,
    "start_time": "2022-05-23T12:35:11.639Z"
   },
   {
    "duration": 26,
    "start_time": "2022-05-23T12:35:11.671Z"
   },
   {
    "duration": 8,
    "start_time": "2022-05-23T12:35:11.699Z"
   },
   {
    "duration": 39,
    "start_time": "2022-05-23T12:35:11.709Z"
   },
   {
    "duration": 19,
    "start_time": "2022-05-23T12:35:11.750Z"
   },
   {
    "duration": 28,
    "start_time": "2022-05-23T12:35:11.773Z"
   },
   {
    "duration": 32,
    "start_time": "2022-05-23T12:35:11.804Z"
   },
   {
    "duration": 4,
    "start_time": "2022-05-23T12:35:11.860Z"
   },
   {
    "duration": 498,
    "start_time": "2022-05-23T12:35:11.866Z"
   },
   {
    "duration": 0,
    "start_time": "2022-05-23T12:35:12.365Z"
   },
   {
    "duration": 0,
    "start_time": "2022-05-23T12:35:12.366Z"
   },
   {
    "duration": 297,
    "start_time": "2022-05-23T12:35:34.494Z"
   },
   {
    "duration": 19,
    "start_time": "2022-05-23T12:49:54.246Z"
   },
   {
    "duration": 9,
    "start_time": "2022-05-23T12:50:32.950Z"
   },
   {
    "duration": 16,
    "start_time": "2022-05-23T12:52:27.006Z"
   },
   {
    "duration": 1158,
    "start_time": "2022-05-23T12:52:43.304Z"
   },
   {
    "duration": 31,
    "start_time": "2022-05-23T12:52:44.463Z"
   },
   {
    "duration": 16,
    "start_time": "2022-05-23T12:52:44.495Z"
   },
   {
    "duration": 83,
    "start_time": "2022-05-23T12:52:44.513Z"
   },
   {
    "duration": 8,
    "start_time": "2022-05-23T12:52:44.598Z"
   },
   {
    "duration": 13,
    "start_time": "2022-05-23T12:52:44.608Z"
   },
   {
    "duration": 12,
    "start_time": "2022-05-23T12:52:44.623Z"
   },
   {
    "duration": 24,
    "start_time": "2022-05-23T12:52:44.637Z"
   },
   {
    "duration": 7,
    "start_time": "2022-05-23T12:52:44.663Z"
   },
   {
    "duration": 8,
    "start_time": "2022-05-23T12:52:44.673Z"
   },
   {
    "duration": 11,
    "start_time": "2022-05-23T12:52:44.683Z"
   },
   {
    "duration": 6,
    "start_time": "2022-05-23T12:52:44.696Z"
   },
   {
    "duration": 62,
    "start_time": "2022-05-23T12:52:44.704Z"
   },
   {
    "duration": 6,
    "start_time": "2022-05-23T12:52:44.768Z"
   },
   {
    "duration": 35,
    "start_time": "2022-05-23T12:52:44.775Z"
   },
   {
    "duration": 5,
    "start_time": "2022-05-23T12:52:44.811Z"
   },
   {
    "duration": 13,
    "start_time": "2022-05-23T12:52:44.817Z"
   },
   {
    "duration": 35,
    "start_time": "2022-05-23T12:52:44.832Z"
   },
   {
    "duration": 12,
    "start_time": "2022-05-23T12:52:44.868Z"
   },
   {
    "duration": 8,
    "start_time": "2022-05-23T12:52:44.881Z"
   },
   {
    "duration": 15,
    "start_time": "2022-05-23T12:52:44.891Z"
   },
   {
    "duration": 11,
    "start_time": "2022-05-23T12:52:44.908Z"
   },
   {
    "duration": 15,
    "start_time": "2022-05-23T12:52:44.920Z"
   },
   {
    "duration": 8,
    "start_time": "2022-05-23T12:52:44.960Z"
   },
   {
    "duration": 8,
    "start_time": "2022-05-23T12:52:44.969Z"
   },
   {
    "duration": 28,
    "start_time": "2022-05-23T12:52:44.979Z"
   },
   {
    "duration": 19,
    "start_time": "2022-05-23T12:52:45.008Z"
   },
   {
    "duration": 40,
    "start_time": "2022-05-23T12:52:45.030Z"
   },
   {
    "duration": 24,
    "start_time": "2022-05-23T12:52:45.072Z"
   },
   {
    "duration": 3,
    "start_time": "2022-05-23T12:52:45.097Z"
   },
   {
    "duration": 384,
    "start_time": "2022-05-23T12:52:45.101Z"
   },
   {
    "duration": 17,
    "start_time": "2022-05-23T12:52:45.487Z"
   },
   {
    "duration": 8,
    "start_time": "2022-05-23T12:52:45.505Z"
   },
   {
    "duration": 316,
    "start_time": "2022-05-23T13:03:11.680Z"
   },
   {
    "duration": 131,
    "start_time": "2022-05-23T13:03:36.709Z"
   },
   {
    "duration": 154,
    "start_time": "2022-05-23T13:04:02.459Z"
   },
   {
    "duration": 117,
    "start_time": "2022-05-23T13:04:08.716Z"
   },
   {
    "duration": 752,
    "start_time": "2022-05-23T13:05:42.882Z"
   },
   {
    "duration": 28,
    "start_time": "2022-05-23T13:05:43.636Z"
   },
   {
    "duration": 12,
    "start_time": "2022-05-23T13:05:43.666Z"
   },
   {
    "duration": 91,
    "start_time": "2022-05-23T13:05:43.681Z"
   },
   {
    "duration": 9,
    "start_time": "2022-05-23T13:05:43.773Z"
   },
   {
    "duration": 11,
    "start_time": "2022-05-23T13:05:43.783Z"
   },
   {
    "duration": 14,
    "start_time": "2022-05-23T13:05:43.796Z"
   },
   {
    "duration": 11,
    "start_time": "2022-05-23T13:05:43.811Z"
   },
   {
    "duration": 15,
    "start_time": "2022-05-23T13:05:43.823Z"
   },
   {
    "duration": 22,
    "start_time": "2022-05-23T13:05:43.841Z"
   },
   {
    "duration": 6,
    "start_time": "2022-05-23T13:05:43.867Z"
   },
   {
    "duration": 11,
    "start_time": "2022-05-23T13:05:43.875Z"
   },
   {
    "duration": 32,
    "start_time": "2022-05-23T13:05:43.887Z"
   },
   {
    "duration": 7,
    "start_time": "2022-05-23T13:05:43.921Z"
   },
   {
    "duration": 63,
    "start_time": "2022-05-23T13:05:43.929Z"
   },
   {
    "duration": 7,
    "start_time": "2022-05-23T13:05:43.993Z"
   },
   {
    "duration": 10,
    "start_time": "2022-05-23T13:05:44.001Z"
   },
   {
    "duration": 19,
    "start_time": "2022-05-23T13:05:44.012Z"
   },
   {
    "duration": 5,
    "start_time": "2022-05-23T13:05:44.032Z"
   },
   {
    "duration": 10,
    "start_time": "2022-05-23T13:05:44.039Z"
   },
   {
    "duration": 7,
    "start_time": "2022-05-23T13:05:44.059Z"
   },
   {
    "duration": 11,
    "start_time": "2022-05-23T13:05:44.067Z"
   },
   {
    "duration": 7,
    "start_time": "2022-05-23T13:05:44.079Z"
   },
   {
    "duration": 8,
    "start_time": "2022-05-23T13:05:44.087Z"
   },
   {
    "duration": 7,
    "start_time": "2022-05-23T13:05:44.097Z"
   },
   {
    "duration": 37,
    "start_time": "2022-05-23T13:05:44.106Z"
   },
   {
    "duration": 25,
    "start_time": "2022-05-23T13:05:44.145Z"
   },
   {
    "duration": 12,
    "start_time": "2022-05-23T13:05:44.172Z"
   },
   {
    "duration": 23,
    "start_time": "2022-05-23T13:05:44.186Z"
   },
   {
    "duration": 3,
    "start_time": "2022-05-23T13:05:44.210Z"
   },
   {
    "duration": 337,
    "start_time": "2022-05-23T13:05:44.215Z"
   },
   {
    "duration": 19,
    "start_time": "2022-05-23T13:05:44.554Z"
   },
   {
    "duration": 8,
    "start_time": "2022-05-23T13:05:44.574Z"
   },
   {
    "duration": 160,
    "start_time": "2022-05-23T13:05:44.583Z"
   },
   {
    "duration": 3,
    "start_time": "2022-05-23T13:05:44.744Z"
   },
   {
    "duration": 87,
    "start_time": "2022-05-23T13:07:06.558Z"
   },
   {
    "duration": 110,
    "start_time": "2022-05-23T13:08:31.996Z"
   },
   {
    "duration": 124,
    "start_time": "2022-05-23T13:13:42.691Z"
   },
   {
    "duration": 8,
    "start_time": "2022-05-23T13:14:04.082Z"
   },
   {
    "duration": 8,
    "start_time": "2022-05-23T13:14:26.704Z"
   },
   {
    "duration": 10,
    "start_time": "2022-05-23T13:14:31.688Z"
   },
   {
    "duration": 86,
    "start_time": "2022-05-23T13:14:39.605Z"
   },
   {
    "duration": 11,
    "start_time": "2022-05-23T13:19:04.383Z"
   },
   {
    "duration": 32,
    "start_time": "2022-05-23T13:19:10.088Z"
   },
   {
    "duration": 27,
    "start_time": "2022-05-23T13:19:52.854Z"
   },
   {
    "duration": 206,
    "start_time": "2022-05-23T13:24:30.815Z"
   },
   {
    "duration": 174,
    "start_time": "2022-05-23T13:24:44.179Z"
   },
   {
    "duration": 6,
    "start_time": "2022-05-23T13:25:39.613Z"
   },
   {
    "duration": 6,
    "start_time": "2022-05-23T13:25:57.488Z"
   },
   {
    "duration": 129,
    "start_time": "2022-05-23T13:27:52.787Z"
   },
   {
    "duration": 122,
    "start_time": "2022-05-23T13:28:13.387Z"
   },
   {
    "duration": 139,
    "start_time": "2022-05-23T13:28:26.538Z"
   },
   {
    "duration": 131,
    "start_time": "2022-05-23T13:28:49.462Z"
   },
   {
    "duration": 136,
    "start_time": "2022-05-23T13:28:56.313Z"
   },
   {
    "duration": 126,
    "start_time": "2022-05-23T13:29:11.386Z"
   },
   {
    "duration": 133,
    "start_time": "2022-05-23T13:29:45.013Z"
   },
   {
    "duration": 117,
    "start_time": "2022-05-23T13:29:50.268Z"
   },
   {
    "duration": 121,
    "start_time": "2022-05-23T13:29:56.484Z"
   },
   {
    "duration": 131,
    "start_time": "2022-05-23T13:30:03.150Z"
   },
   {
    "duration": 203,
    "start_time": "2022-05-23T13:30:08.606Z"
   },
   {
    "duration": 138,
    "start_time": "2022-05-23T13:30:39.128Z"
   },
   {
    "duration": 154,
    "start_time": "2022-05-23T13:30:49.712Z"
   },
   {
    "duration": 124,
    "start_time": "2022-05-23T13:30:56.721Z"
   },
   {
    "duration": 170,
    "start_time": "2022-05-23T13:31:01.746Z"
   },
   {
    "duration": 149,
    "start_time": "2022-05-23T13:31:11.412Z"
   },
   {
    "duration": 157,
    "start_time": "2022-05-23T13:31:15.145Z"
   },
   {
    "duration": 140,
    "start_time": "2022-05-23T13:34:01.765Z"
   },
   {
    "duration": 135,
    "start_time": "2022-05-23T13:34:06.927Z"
   },
   {
    "duration": 124,
    "start_time": "2022-05-23T13:34:15.166Z"
   },
   {
    "duration": 118,
    "start_time": "2022-05-23T13:34:29.211Z"
   },
   {
    "duration": 129,
    "start_time": "2022-05-23T13:34:36.106Z"
   },
   {
    "duration": 214,
    "start_time": "2022-05-23T13:34:40.506Z"
   },
   {
    "duration": 129,
    "start_time": "2022-05-23T13:34:45.442Z"
   },
   {
    "duration": 117,
    "start_time": "2022-05-23T13:42:59.648Z"
   },
   {
    "duration": 120,
    "start_time": "2022-05-23T13:43:05.925Z"
   },
   {
    "duration": 105,
    "start_time": "2022-05-23T13:43:59.408Z"
   },
   {
    "duration": 103,
    "start_time": "2022-05-23T13:44:35.246Z"
   },
   {
    "duration": 132,
    "start_time": "2022-05-23T13:46:05.763Z"
   },
   {
    "duration": 152,
    "start_time": "2022-05-23T13:46:28.327Z"
   },
   {
    "duration": 124,
    "start_time": "2022-05-23T13:46:36.361Z"
   },
   {
    "duration": 199,
    "start_time": "2022-05-23T13:46:52.376Z"
   },
   {
    "duration": 4,
    "start_time": "2022-05-23T13:46:59.329Z"
   },
   {
    "duration": 196,
    "start_time": "2022-05-23T13:47:06.357Z"
   },
   {
    "duration": 105,
    "start_time": "2022-05-23T13:47:31.312Z"
   },
   {
    "duration": 108,
    "start_time": "2022-05-23T13:48:03.838Z"
   },
   {
    "duration": 129,
    "start_time": "2022-05-23T13:48:09.840Z"
   },
   {
    "duration": 184,
    "start_time": "2022-05-23T13:48:13.752Z"
   },
   {
    "duration": 164,
    "start_time": "2022-05-23T13:48:21.932Z"
   },
   {
    "duration": 144,
    "start_time": "2022-05-23T13:48:32.556Z"
   },
   {
    "duration": 110,
    "start_time": "2022-05-23T13:48:36.979Z"
   },
   {
    "duration": 310,
    "start_time": "2022-05-23T13:48:45.325Z"
   },
   {
    "duration": 12,
    "start_time": "2022-05-23T15:47:13.285Z"
   },
   {
    "duration": 132,
    "start_time": "2022-05-23T15:52:41.222Z"
   },
   {
    "duration": 125,
    "start_time": "2022-05-23T15:53:00.753Z"
   },
   {
    "duration": 95,
    "start_time": "2022-05-23T15:53:32.169Z"
   },
   {
    "duration": 1218,
    "start_time": "2022-05-23T16:04:00.890Z"
   },
   {
    "duration": 32,
    "start_time": "2022-05-23T16:04:02.110Z"
   },
   {
    "duration": 32,
    "start_time": "2022-05-23T16:04:02.144Z"
   },
   {
    "duration": 67,
    "start_time": "2022-05-23T16:04:02.179Z"
   },
   {
    "duration": 17,
    "start_time": "2022-05-23T16:04:02.248Z"
   },
   {
    "duration": 11,
    "start_time": "2022-05-23T16:04:02.266Z"
   },
   {
    "duration": 16,
    "start_time": "2022-05-23T16:04:02.279Z"
   },
   {
    "duration": 11,
    "start_time": "2022-05-23T16:04:02.297Z"
   },
   {
    "duration": 25,
    "start_time": "2022-05-23T16:04:02.309Z"
   },
   {
    "duration": 15,
    "start_time": "2022-05-23T16:04:02.336Z"
   },
   {
    "duration": 15,
    "start_time": "2022-05-23T16:04:02.353Z"
   },
   {
    "duration": 7,
    "start_time": "2022-05-23T16:04:02.370Z"
   },
   {
    "duration": 33,
    "start_time": "2022-05-23T16:04:02.378Z"
   },
   {
    "duration": 7,
    "start_time": "2022-05-23T16:04:02.413Z"
   },
   {
    "duration": 69,
    "start_time": "2022-05-23T16:04:02.422Z"
   },
   {
    "duration": 6,
    "start_time": "2022-05-23T16:04:02.493Z"
   },
   {
    "duration": 8,
    "start_time": "2022-05-23T16:04:02.500Z"
   },
   {
    "duration": 11,
    "start_time": "2022-05-23T16:04:02.510Z"
   },
   {
    "duration": 15,
    "start_time": "2022-05-23T16:04:02.523Z"
   },
   {
    "duration": 23,
    "start_time": "2022-05-23T16:04:02.539Z"
   },
   {
    "duration": 9,
    "start_time": "2022-05-23T16:04:02.564Z"
   },
   {
    "duration": 14,
    "start_time": "2022-05-23T16:04:02.575Z"
   },
   {
    "duration": 6,
    "start_time": "2022-05-23T16:04:02.590Z"
   },
   {
    "duration": 11,
    "start_time": "2022-05-23T16:04:02.597Z"
   },
   {
    "duration": 8,
    "start_time": "2022-05-23T16:04:02.610Z"
   },
   {
    "duration": 56,
    "start_time": "2022-05-23T16:04:02.620Z"
   },
   {
    "duration": 18,
    "start_time": "2022-05-23T16:04:02.678Z"
   },
   {
    "duration": 16,
    "start_time": "2022-05-23T16:04:02.700Z"
   },
   {
    "duration": 45,
    "start_time": "2022-05-23T16:04:02.718Z"
   },
   {
    "duration": 4,
    "start_time": "2022-05-23T16:04:02.765Z"
   },
   {
    "duration": 381,
    "start_time": "2022-05-23T16:04:02.770Z"
   },
   {
    "duration": 17,
    "start_time": "2022-05-23T16:04:03.159Z"
   },
   {
    "duration": 32,
    "start_time": "2022-05-23T16:04:03.177Z"
   },
   {
    "duration": 148,
    "start_time": "2022-05-23T16:04:03.211Z"
   },
   {
    "duration": 121,
    "start_time": "2022-05-23T16:04:03.361Z"
   },
   {
    "duration": 166,
    "start_time": "2022-05-23T16:04:03.484Z"
   },
   {
    "duration": 126,
    "start_time": "2022-05-23T16:04:03.652Z"
   },
   {
    "duration": 139,
    "start_time": "2022-05-23T16:04:03.780Z"
   },
   {
    "duration": 104,
    "start_time": "2022-05-23T16:04:03.921Z"
   },
   {
    "duration": 151,
    "start_time": "2022-05-23T16:04:04.027Z"
   },
   {
    "duration": 109,
    "start_time": "2022-05-23T16:04:04.179Z"
   },
   {
    "duration": 10,
    "start_time": "2022-05-23T16:04:04.290Z"
   },
   {
    "duration": 124,
    "start_time": "2022-05-23T16:04:04.302Z"
   },
   {
    "duration": 110,
    "start_time": "2022-05-23T16:04:04.427Z"
   },
   {
    "duration": 237,
    "start_time": "2022-05-23T16:10:32.144Z"
   },
   {
    "duration": 116,
    "start_time": "2022-05-23T16:10:45.519Z"
   },
   {
    "duration": 168,
    "start_time": "2022-05-23T16:10:57.750Z"
   },
   {
    "duration": 135,
    "start_time": "2022-05-23T16:11:07.177Z"
   },
   {
    "duration": 123,
    "start_time": "2022-05-23T16:11:23.744Z"
   },
   {
    "duration": 154,
    "start_time": "2022-05-23T16:11:28.874Z"
   },
   {
    "duration": 158,
    "start_time": "2022-05-23T16:11:34.064Z"
   },
   {
    "duration": 140,
    "start_time": "2022-05-23T16:18:47.264Z"
   },
   {
    "duration": 36,
    "start_time": "2022-05-23T16:21:24.782Z"
   },
   {
    "duration": 211,
    "start_time": "2022-05-23T16:21:34.908Z"
   },
   {
    "duration": 205,
    "start_time": "2022-05-23T16:21:48.485Z"
   },
   {
    "duration": 336,
    "start_time": "2022-05-23T16:21:55.231Z"
   },
   {
    "duration": 33,
    "start_time": "2022-05-23T16:22:18.988Z"
   },
   {
    "duration": 210,
    "start_time": "2022-05-23T16:22:26.383Z"
   },
   {
    "duration": 219,
    "start_time": "2022-05-23T16:22:36.455Z"
   },
   {
    "duration": 205,
    "start_time": "2022-05-23T16:22:42.085Z"
   },
   {
    "duration": 156,
    "start_time": "2022-05-23T16:24:11.471Z"
   },
   {
    "duration": 200,
    "start_time": "2022-05-23T16:24:25.127Z"
   },
   {
    "duration": 156,
    "start_time": "2022-05-23T16:24:39.933Z"
   },
   {
    "duration": 284,
    "start_time": "2022-05-23T16:24:46.224Z"
   },
   {
    "duration": 152,
    "start_time": "2022-05-23T16:24:53.696Z"
   },
   {
    "duration": 188,
    "start_time": "2022-05-23T16:24:58.809Z"
   },
   {
    "duration": 130,
    "start_time": "2022-05-23T16:25:13.732Z"
   },
   {
    "duration": 138,
    "start_time": "2022-05-23T16:25:27.295Z"
   },
   {
    "duration": 129,
    "start_time": "2022-05-23T16:25:40.922Z"
   },
   {
    "duration": 148,
    "start_time": "2022-05-23T16:25:48.672Z"
   },
   {
    "duration": 137,
    "start_time": "2022-05-23T16:25:56.027Z"
   },
   {
    "duration": 122,
    "start_time": "2022-05-23T16:27:13.414Z"
   },
   {
    "duration": 281,
    "start_time": "2022-05-23T16:28:26.334Z"
   },
   {
    "duration": 276,
    "start_time": "2022-05-23T16:29:01.073Z"
   },
   {
    "duration": 434,
    "start_time": "2022-05-23T16:29:38.380Z"
   },
   {
    "duration": 155,
    "start_time": "2022-05-23T16:30:46.980Z"
   },
   {
    "duration": 152,
    "start_time": "2022-05-23T16:32:55.474Z"
   },
   {
    "duration": 162,
    "start_time": "2022-05-23T16:33:00.184Z"
   },
   {
    "duration": 128,
    "start_time": "2022-05-23T16:35:34.956Z"
   },
   {
    "duration": 127,
    "start_time": "2022-05-23T16:35:43.157Z"
   },
   {
    "duration": 142,
    "start_time": "2022-05-23T16:35:52.135Z"
   },
   {
    "duration": 113,
    "start_time": "2022-05-23T16:36:39.221Z"
   },
   {
    "duration": 127,
    "start_time": "2022-05-23T16:37:35.674Z"
   },
   {
    "duration": 118,
    "start_time": "2022-05-23T16:37:46.291Z"
   },
   {
    "duration": 123,
    "start_time": "2022-05-23T16:37:57.154Z"
   },
   {
    "duration": 138,
    "start_time": "2022-05-23T16:38:06.357Z"
   },
   {
    "duration": 125,
    "start_time": "2022-05-23T16:38:33.108Z"
   },
   {
    "duration": 123,
    "start_time": "2022-05-23T16:38:45.415Z"
   },
   {
    "duration": 147,
    "start_time": "2022-05-23T16:38:59.128Z"
   },
   {
    "duration": 134,
    "start_time": "2022-05-23T16:39:41.654Z"
   },
   {
    "duration": 120,
    "start_time": "2022-05-23T16:40:19.820Z"
   },
   {
    "duration": 118,
    "start_time": "2022-05-23T16:40:51.474Z"
   },
   {
    "duration": 114,
    "start_time": "2022-05-23T16:41:21.429Z"
   },
   {
    "duration": 140,
    "start_time": "2022-05-23T16:42:33.057Z"
   },
   {
    "duration": 139,
    "start_time": "2022-05-23T16:42:45.273Z"
   },
   {
    "duration": 140,
    "start_time": "2022-05-23T16:42:51.963Z"
   },
   {
    "duration": 146,
    "start_time": "2022-05-23T16:42:58.753Z"
   },
   {
    "duration": 301,
    "start_time": "2022-05-23T16:43:12.936Z"
   },
   {
    "duration": 135,
    "start_time": "2022-05-23T16:43:20.311Z"
   },
   {
    "duration": 136,
    "start_time": "2022-05-23T16:44:55.412Z"
   },
   {
    "duration": 143,
    "start_time": "2022-05-23T16:45:02.034Z"
   },
   {
    "duration": 156,
    "start_time": "2022-05-23T16:45:08.852Z"
   },
   {
    "duration": 182,
    "start_time": "2022-05-23T16:45:16.884Z"
   },
   {
    "duration": 173,
    "start_time": "2022-05-23T16:45:23.597Z"
   },
   {
    "duration": 185,
    "start_time": "2022-05-23T16:45:28.995Z"
   },
   {
    "duration": 177,
    "start_time": "2022-05-23T16:45:33.913Z"
   },
   {
    "duration": 2121,
    "start_time": "2022-05-24T11:06:05.532Z"
   },
   {
    "duration": 37,
    "start_time": "2022-05-24T11:06:07.655Z"
   },
   {
    "duration": 16,
    "start_time": "2022-05-24T11:06:07.694Z"
   },
   {
    "duration": 92,
    "start_time": "2022-05-24T11:06:07.711Z"
   },
   {
    "duration": 8,
    "start_time": "2022-05-24T11:06:07.806Z"
   },
   {
    "duration": 11,
    "start_time": "2022-05-24T11:06:07.815Z"
   },
   {
    "duration": 11,
    "start_time": "2022-05-24T11:06:07.827Z"
   },
   {
    "duration": 26,
    "start_time": "2022-05-24T11:06:07.839Z"
   },
   {
    "duration": 6,
    "start_time": "2022-05-24T11:06:07.867Z"
   },
   {
    "duration": 8,
    "start_time": "2022-05-24T11:06:07.875Z"
   },
   {
    "duration": 8,
    "start_time": "2022-05-24T11:06:07.884Z"
   },
   {
    "duration": 8,
    "start_time": "2022-05-24T11:06:07.894Z"
   },
   {
    "duration": 32,
    "start_time": "2022-05-24T11:06:07.903Z"
   },
   {
    "duration": 32,
    "start_time": "2022-05-24T11:06:07.938Z"
   },
   {
    "duration": 43,
    "start_time": "2022-05-24T11:06:07.971Z"
   },
   {
    "duration": 6,
    "start_time": "2022-05-24T11:06:08.015Z"
   },
   {
    "duration": 27,
    "start_time": "2022-05-24T11:06:08.022Z"
   },
   {
    "duration": 8,
    "start_time": "2022-05-24T11:06:08.051Z"
   },
   {
    "duration": 7,
    "start_time": "2022-05-24T11:06:08.064Z"
   },
   {
    "duration": 7,
    "start_time": "2022-05-24T11:06:08.073Z"
   },
   {
    "duration": 7,
    "start_time": "2022-05-24T11:06:08.082Z"
   },
   {
    "duration": 16,
    "start_time": "2022-05-24T11:06:08.091Z"
   },
   {
    "duration": 5,
    "start_time": "2022-05-24T11:06:08.109Z"
   },
   {
    "duration": 10,
    "start_time": "2022-05-24T11:06:08.115Z"
   },
   {
    "duration": 6,
    "start_time": "2022-05-24T11:06:08.126Z"
   },
   {
    "duration": 53,
    "start_time": "2022-05-24T11:06:08.134Z"
   },
   {
    "duration": 16,
    "start_time": "2022-05-24T11:06:08.189Z"
   },
   {
    "duration": 13,
    "start_time": "2022-05-24T11:06:08.206Z"
   },
   {
    "duration": 44,
    "start_time": "2022-05-24T11:06:08.221Z"
   },
   {
    "duration": 3,
    "start_time": "2022-05-24T11:06:08.267Z"
   },
   {
    "duration": 406,
    "start_time": "2022-05-24T11:06:08.271Z"
   },
   {
    "duration": 15,
    "start_time": "2022-05-24T11:06:08.679Z"
   },
   {
    "duration": 22,
    "start_time": "2022-05-24T11:06:08.696Z"
   },
   {
    "duration": 163,
    "start_time": "2022-05-24T11:06:08.720Z"
   },
   {
    "duration": 163,
    "start_time": "2022-05-24T11:06:08.885Z"
   },
   {
    "duration": 163,
    "start_time": "2022-05-24T11:06:09.050Z"
   },
   {
    "duration": 134,
    "start_time": "2022-05-24T11:06:09.215Z"
   },
   {
    "duration": 151,
    "start_time": "2022-05-24T11:06:09.351Z"
   },
   {
    "duration": 108,
    "start_time": "2022-05-24T11:06:09.503Z"
   },
   {
    "duration": 157,
    "start_time": "2022-05-24T11:06:09.613Z"
   },
   {
    "duration": 119,
    "start_time": "2022-05-24T11:06:09.775Z"
   },
   {
    "duration": 10,
    "start_time": "2022-05-24T11:06:09.896Z"
   },
   {
    "duration": 282,
    "start_time": "2022-05-24T11:06:09.908Z"
   },
   {
    "duration": 120,
    "start_time": "2022-05-24T11:06:10.192Z"
   },
   {
    "duration": 170,
    "start_time": "2022-05-24T11:06:55.651Z"
   },
   {
    "duration": 147,
    "start_time": "2022-05-24T11:17:41.297Z"
   },
   {
    "duration": 150,
    "start_time": "2022-05-24T11:17:45.038Z"
   },
   {
    "duration": 138,
    "start_time": "2022-05-24T11:17:53.404Z"
   },
   {
    "duration": 141,
    "start_time": "2022-05-24T11:18:05.946Z"
   },
   {
    "duration": 143,
    "start_time": "2022-05-24T11:18:42.846Z"
   },
   {
    "duration": 108,
    "start_time": "2022-05-24T11:29:58.220Z"
   },
   {
    "duration": 40,
    "start_time": "2022-05-24T11:29:58.330Z"
   },
   {
    "duration": 23,
    "start_time": "2022-05-24T11:29:58.372Z"
   },
   {
    "duration": 76,
    "start_time": "2022-05-24T11:29:58.397Z"
   },
   {
    "duration": 9,
    "start_time": "2022-05-24T11:29:58.474Z"
   },
   {
    "duration": 7,
    "start_time": "2022-05-24T11:29:58.484Z"
   },
   {
    "duration": 9,
    "start_time": "2022-05-24T11:29:58.492Z"
   },
   {
    "duration": 6,
    "start_time": "2022-05-24T11:29:58.502Z"
   },
   {
    "duration": 6,
    "start_time": "2022-05-24T11:29:58.509Z"
   },
   {
    "duration": 5,
    "start_time": "2022-05-24T11:29:58.516Z"
   },
   {
    "duration": 45,
    "start_time": "2022-05-24T11:29:58.523Z"
   },
   {
    "duration": 7,
    "start_time": "2022-05-24T11:29:58.570Z"
   },
   {
    "duration": 44,
    "start_time": "2022-05-24T11:29:58.578Z"
   },
   {
    "duration": 5,
    "start_time": "2022-05-24T11:29:58.624Z"
   },
   {
    "duration": 48,
    "start_time": "2022-05-24T11:29:58.630Z"
   },
   {
    "duration": 7,
    "start_time": "2022-05-24T11:29:58.680Z"
   },
   {
    "duration": 11,
    "start_time": "2022-05-24T11:29:58.689Z"
   },
   {
    "duration": 9,
    "start_time": "2022-05-24T11:29:58.701Z"
   },
   {
    "duration": 7,
    "start_time": "2022-05-24T11:29:58.712Z"
   },
   {
    "duration": 10,
    "start_time": "2022-05-24T11:29:58.720Z"
   },
   {
    "duration": 38,
    "start_time": "2022-05-24T11:29:58.731Z"
   },
   {
    "duration": 14,
    "start_time": "2022-05-24T11:29:58.771Z"
   },
   {
    "duration": 6,
    "start_time": "2022-05-24T11:29:58.786Z"
   },
   {
    "duration": 7,
    "start_time": "2022-05-24T11:29:58.794Z"
   },
   {
    "duration": 9,
    "start_time": "2022-05-24T11:29:58.802Z"
   },
   {
    "duration": 52,
    "start_time": "2022-05-24T11:29:58.813Z"
   },
   {
    "duration": 16,
    "start_time": "2022-05-24T11:29:58.867Z"
   },
   {
    "duration": 29,
    "start_time": "2022-05-24T11:29:58.885Z"
   },
   {
    "duration": 22,
    "start_time": "2022-05-24T11:29:58.916Z"
   },
   {
    "duration": 4,
    "start_time": "2022-05-24T11:29:58.940Z"
   },
   {
    "duration": 379,
    "start_time": "2022-05-24T11:29:58.945Z"
   },
   {
    "duration": 19,
    "start_time": "2022-05-24T11:29:59.326Z"
   },
   {
    "duration": 20,
    "start_time": "2022-05-24T11:29:59.347Z"
   },
   {
    "duration": 138,
    "start_time": "2022-05-24T11:29:59.370Z"
   },
   {
    "duration": 136,
    "start_time": "2022-05-24T11:29:59.510Z"
   },
   {
    "duration": 138,
    "start_time": "2022-05-24T11:29:59.648Z"
   },
   {
    "duration": 142,
    "start_time": "2022-05-24T11:29:59.788Z"
   },
   {
    "duration": 108,
    "start_time": "2022-05-24T11:29:59.932Z"
   },
   {
    "duration": 252,
    "start_time": "2022-05-24T11:30:00.042Z"
   },
   {
    "duration": 123,
    "start_time": "2022-05-24T11:30:00.296Z"
   },
   {
    "duration": 158,
    "start_time": "2022-05-24T11:30:00.421Z"
   },
   {
    "duration": 10,
    "start_time": "2022-05-24T11:30:00.581Z"
   },
   {
    "duration": 219,
    "start_time": "2022-05-24T11:30:00.593Z"
   },
   {
    "duration": 115,
    "start_time": "2022-05-24T11:30:00.814Z"
   },
   {
    "duration": 56,
    "start_time": "2022-05-24T11:41:24.071Z"
   },
   {
    "duration": 1239,
    "start_time": "2022-05-24T11:41:29.702Z"
   },
   {
    "duration": 38,
    "start_time": "2022-05-24T11:41:30.943Z"
   },
   {
    "duration": 15,
    "start_time": "2022-05-24T11:41:30.982Z"
   },
   {
    "duration": 108,
    "start_time": "2022-05-24T11:41:30.999Z"
   },
   {
    "duration": 19,
    "start_time": "2022-05-24T11:41:31.110Z"
   },
   {
    "duration": 18,
    "start_time": "2022-05-24T11:41:31.131Z"
   },
   {
    "duration": 14,
    "start_time": "2022-05-24T11:41:31.151Z"
   },
   {
    "duration": 8,
    "start_time": "2022-05-24T11:41:31.167Z"
   },
   {
    "duration": 8,
    "start_time": "2022-05-24T11:41:31.177Z"
   },
   {
    "duration": 7,
    "start_time": "2022-05-24T11:41:31.189Z"
   },
   {
    "duration": 9,
    "start_time": "2022-05-24T11:41:31.198Z"
   },
   {
    "duration": 8,
    "start_time": "2022-05-24T11:41:31.209Z"
   },
   {
    "duration": 61,
    "start_time": "2022-05-24T11:41:31.219Z"
   },
   {
    "duration": 6,
    "start_time": "2022-05-24T11:41:31.282Z"
   },
   {
    "duration": 33,
    "start_time": "2022-05-24T11:41:31.290Z"
   },
   {
    "duration": 5,
    "start_time": "2022-05-24T11:41:31.325Z"
   },
   {
    "duration": 34,
    "start_time": "2022-05-24T11:41:31.332Z"
   },
   {
    "duration": 19,
    "start_time": "2022-05-24T11:41:31.368Z"
   },
   {
    "duration": 14,
    "start_time": "2022-05-24T11:41:31.389Z"
   },
   {
    "duration": 8,
    "start_time": "2022-05-24T11:41:31.405Z"
   },
   {
    "duration": 12,
    "start_time": "2022-05-24T11:41:31.415Z"
   },
   {
    "duration": 14,
    "start_time": "2022-05-24T11:41:31.428Z"
   },
   {
    "duration": 21,
    "start_time": "2022-05-24T11:41:31.444Z"
   },
   {
    "duration": 7,
    "start_time": "2022-05-24T11:41:31.467Z"
   },
   {
    "duration": 39,
    "start_time": "2022-05-24T11:41:31.476Z"
   },
   {
    "duration": 29,
    "start_time": "2022-05-24T11:41:31.517Z"
   },
   {
    "duration": 21,
    "start_time": "2022-05-24T11:41:31.548Z"
   },
   {
    "duration": 14,
    "start_time": "2022-05-24T11:41:31.573Z"
   },
   {
    "duration": 24,
    "start_time": "2022-05-24T11:41:31.588Z"
   },
   {
    "duration": 3,
    "start_time": "2022-05-24T11:41:31.614Z"
   },
   {
    "duration": 435,
    "start_time": "2022-05-24T11:41:31.618Z"
   },
   {
    "duration": 23,
    "start_time": "2022-05-24T11:41:32.055Z"
   },
   {
    "duration": 8,
    "start_time": "2022-05-24T11:41:32.080Z"
   },
   {
    "duration": 145,
    "start_time": "2022-05-24T11:41:32.089Z"
   },
   {
    "duration": 152,
    "start_time": "2022-05-24T11:41:32.236Z"
   },
   {
    "duration": 9,
    "start_time": "2022-05-24T11:41:32.390Z"
   },
   {
    "duration": 130,
    "start_time": "2022-05-24T11:41:32.400Z"
   },
   {
    "duration": 154,
    "start_time": "2022-05-24T11:41:32.531Z"
   },
   {
    "duration": 116,
    "start_time": "2022-05-24T11:41:32.687Z"
   },
   {
    "duration": 164,
    "start_time": "2022-05-24T11:41:32.805Z"
   },
   {
    "duration": 124,
    "start_time": "2022-05-24T11:41:32.970Z"
   },
   {
    "duration": 162,
    "start_time": "2022-05-24T11:41:33.096Z"
   },
   {
    "duration": 11,
    "start_time": "2022-05-24T11:41:33.260Z"
   },
   {
    "duration": 131,
    "start_time": "2022-05-24T11:41:33.273Z"
   },
   {
    "duration": 216,
    "start_time": "2022-05-24T11:41:33.406Z"
   },
   {
    "duration": 8,
    "start_time": "2022-05-24T11:43:00.741Z"
   },
   {
    "duration": 9,
    "start_time": "2022-05-24T11:44:11.999Z"
   },
   {
    "duration": 256,
    "start_time": "2022-05-24T11:46:21.342Z"
   },
   {
    "duration": 208,
    "start_time": "2022-05-24T11:50:15.380Z"
   },
   {
    "duration": 219,
    "start_time": "2022-05-24T11:50:41.810Z"
   },
   {
    "duration": 195,
    "start_time": "2022-05-24T11:50:54.371Z"
   },
   {
    "duration": 197,
    "start_time": "2022-05-24T11:51:11.747Z"
   },
   {
    "duration": 203,
    "start_time": "2022-05-24T11:57:13.992Z"
   },
   {
    "duration": 218,
    "start_time": "2022-05-24T12:17:42.291Z"
   },
   {
    "duration": 123,
    "start_time": "2022-05-24T12:27:01.741Z"
   },
   {
    "duration": 128,
    "start_time": "2022-05-24T12:27:09.640Z"
   },
   {
    "duration": 151,
    "start_time": "2022-05-24T12:31:53.168Z"
   },
   {
    "duration": 100,
    "start_time": "2022-05-24T12:32:29.781Z"
   },
   {
    "duration": 9,
    "start_time": "2022-05-24T12:33:45.462Z"
   },
   {
    "duration": 37,
    "start_time": "2022-05-24T12:35:18.938Z"
   },
   {
    "duration": 33,
    "start_time": "2022-05-24T12:35:37.010Z"
   },
   {
    "duration": 37,
    "start_time": "2022-05-24T12:40:20.120Z"
   },
   {
    "duration": 25,
    "start_time": "2022-05-24T12:41:00.493Z"
   },
   {
    "duration": 21,
    "start_time": "2022-05-24T12:41:38.039Z"
   },
   {
    "duration": 10,
    "start_time": "2022-05-24T12:42:12.250Z"
   },
   {
    "duration": 11,
    "start_time": "2022-05-24T12:43:27.437Z"
   },
   {
    "duration": 8,
    "start_time": "2022-05-24T12:43:56.518Z"
   },
   {
    "duration": 366,
    "start_time": "2022-05-24T12:44:28.436Z"
   },
   {
    "duration": 10,
    "start_time": "2022-05-24T12:44:42.239Z"
   },
   {
    "duration": 8,
    "start_time": "2022-05-24T12:45:00.106Z"
   },
   {
    "duration": 11,
    "start_time": "2022-05-24T12:45:47.475Z"
   },
   {
    "duration": 33,
    "start_time": "2022-05-24T12:46:01.575Z"
   },
   {
    "duration": 87,
    "start_time": "2022-05-24T12:46:37.922Z"
   },
   {
    "duration": 1457,
    "start_time": "2022-05-24T13:33:08.721Z"
   },
   {
    "duration": 40,
    "start_time": "2022-05-24T13:33:10.181Z"
   },
   {
    "duration": 16,
    "start_time": "2022-05-24T13:33:10.223Z"
   },
   {
    "duration": 89,
    "start_time": "2022-05-24T13:33:10.241Z"
   },
   {
    "duration": 9,
    "start_time": "2022-05-24T13:33:10.332Z"
   },
   {
    "duration": 22,
    "start_time": "2022-05-24T13:33:10.342Z"
   },
   {
    "duration": 13,
    "start_time": "2022-05-24T13:33:10.366Z"
   },
   {
    "duration": 18,
    "start_time": "2022-05-24T13:33:10.381Z"
   },
   {
    "duration": 10,
    "start_time": "2022-05-24T13:33:10.401Z"
   },
   {
    "duration": 5,
    "start_time": "2022-05-24T13:33:10.414Z"
   },
   {
    "duration": 10,
    "start_time": "2022-05-24T13:33:10.420Z"
   },
   {
    "duration": 9,
    "start_time": "2022-05-24T13:33:10.431Z"
   },
   {
    "duration": 59,
    "start_time": "2022-05-24T13:33:10.442Z"
   },
   {
    "duration": 7,
    "start_time": "2022-05-24T13:33:10.503Z"
   },
   {
    "duration": 39,
    "start_time": "2022-05-24T13:33:10.512Z"
   },
   {
    "duration": 8,
    "start_time": "2022-05-24T13:33:10.564Z"
   },
   {
    "duration": 34,
    "start_time": "2022-05-24T13:33:10.576Z"
   },
   {
    "duration": 13,
    "start_time": "2022-05-24T13:33:10.612Z"
   },
   {
    "duration": 9,
    "start_time": "2022-05-24T13:33:10.627Z"
   },
   {
    "duration": 10,
    "start_time": "2022-05-24T13:33:10.638Z"
   },
   {
    "duration": 7,
    "start_time": "2022-05-24T13:33:10.650Z"
   },
   {
    "duration": 15,
    "start_time": "2022-05-24T13:33:10.664Z"
   },
   {
    "duration": 13,
    "start_time": "2022-05-24T13:33:10.682Z"
   },
   {
    "duration": 8,
    "start_time": "2022-05-24T13:33:10.696Z"
   },
   {
    "duration": 11,
    "start_time": "2022-05-24T13:33:10.706Z"
   },
   {
    "duration": 63,
    "start_time": "2022-05-24T13:33:10.719Z"
   },
   {
    "duration": 15,
    "start_time": "2022-05-24T13:33:10.785Z"
   },
   {
    "duration": 14,
    "start_time": "2022-05-24T13:33:10.804Z"
   },
   {
    "duration": 46,
    "start_time": "2022-05-24T13:33:10.820Z"
   },
   {
    "duration": 7,
    "start_time": "2022-05-24T13:33:10.869Z"
   },
   {
    "duration": 469,
    "start_time": "2022-05-24T13:33:10.878Z"
   },
   {
    "duration": 32,
    "start_time": "2022-05-24T13:33:11.349Z"
   },
   {
    "duration": 9,
    "start_time": "2022-05-24T13:33:11.383Z"
   },
   {
    "duration": 149,
    "start_time": "2022-05-24T13:33:11.394Z"
   },
   {
    "duration": 167,
    "start_time": "2022-05-24T13:33:11.545Z"
   },
   {
    "duration": 9,
    "start_time": "2022-05-24T13:33:11.714Z"
   },
   {
    "duration": 167,
    "start_time": "2022-05-24T13:33:11.724Z"
   },
   {
    "duration": 187,
    "start_time": "2022-05-24T13:33:11.893Z"
   },
   {
    "duration": 9,
    "start_time": "2022-05-24T13:33:12.082Z"
   },
   {
    "duration": 135,
    "start_time": "2022-05-24T13:33:12.092Z"
   },
   {
    "duration": 179,
    "start_time": "2022-05-24T13:33:12.229Z"
   },
   {
    "duration": 10,
    "start_time": "2022-05-24T13:33:12.410Z"
   },
   {
    "duration": 159,
    "start_time": "2022-05-24T13:33:12.422Z"
   },
   {
    "duration": 184,
    "start_time": "2022-05-24T13:33:12.584Z"
   },
   {
    "duration": 16,
    "start_time": "2022-05-24T13:33:12.770Z"
   },
   {
    "duration": 134,
    "start_time": "2022-05-24T13:33:12.788Z"
   },
   {
    "duration": 320,
    "start_time": "2022-05-24T13:33:12.923Z"
   },
   {
    "duration": 227,
    "start_time": "2022-05-24T13:33:13.245Z"
   },
   {
    "duration": 133,
    "start_time": "2022-05-24T13:33:13.474Z"
   },
   {
    "duration": 202,
    "start_time": "2022-05-24T13:33:32.642Z"
   },
   {
    "duration": 250,
    "start_time": "2022-05-24T13:34:19.077Z"
   },
   {
    "duration": 171,
    "start_time": "2022-05-24T13:48:38.021Z"
   },
   {
    "duration": 257,
    "start_time": "2022-05-24T13:48:52.474Z"
   },
   {
    "duration": 254,
    "start_time": "2022-05-24T13:53:22.452Z"
   },
   {
    "duration": 330,
    "start_time": "2022-05-24T13:53:37.195Z"
   },
   {
    "duration": 208,
    "start_time": "2022-05-24T14:01:02.216Z"
   },
   {
    "duration": 227,
    "start_time": "2022-05-24T14:03:03.577Z"
   },
   {
    "duration": 1378,
    "start_time": "2022-05-24T14:03:11.156Z"
   },
   {
    "duration": 45,
    "start_time": "2022-05-24T14:03:12.536Z"
   },
   {
    "duration": 16,
    "start_time": "2022-05-24T14:03:12.584Z"
   },
   {
    "duration": 103,
    "start_time": "2022-05-24T14:03:12.603Z"
   },
   {
    "duration": 9,
    "start_time": "2022-05-24T14:03:12.708Z"
   },
   {
    "duration": 8,
    "start_time": "2022-05-24T14:03:12.719Z"
   },
   {
    "duration": 10,
    "start_time": "2022-05-24T14:03:12.729Z"
   },
   {
    "duration": 10,
    "start_time": "2022-05-24T14:03:12.765Z"
   },
   {
    "duration": 17,
    "start_time": "2022-05-24T14:03:12.776Z"
   },
   {
    "duration": 6,
    "start_time": "2022-05-24T14:03:12.796Z"
   },
   {
    "duration": 8,
    "start_time": "2022-05-24T14:03:12.804Z"
   },
   {
    "duration": 8,
    "start_time": "2022-05-24T14:03:12.813Z"
   },
   {
    "duration": 65,
    "start_time": "2022-05-24T14:03:12.823Z"
   },
   {
    "duration": 7,
    "start_time": "2022-05-24T14:03:12.890Z"
   },
   {
    "duration": 37,
    "start_time": "2022-05-24T14:03:12.899Z"
   },
   {
    "duration": 29,
    "start_time": "2022-05-24T14:03:12.937Z"
   },
   {
    "duration": 16,
    "start_time": "2022-05-24T14:03:12.969Z"
   },
   {
    "duration": 10,
    "start_time": "2022-05-24T14:03:12.987Z"
   },
   {
    "duration": 6,
    "start_time": "2022-05-24T14:03:12.999Z"
   },
   {
    "duration": 9,
    "start_time": "2022-05-24T14:03:13.007Z"
   },
   {
    "duration": 52,
    "start_time": "2022-05-24T14:03:13.017Z"
   },
   {
    "duration": 24,
    "start_time": "2022-05-24T14:03:13.071Z"
   },
   {
    "duration": 14,
    "start_time": "2022-05-24T14:03:13.097Z"
   },
   {
    "duration": 10,
    "start_time": "2022-05-24T14:03:13.113Z"
   },
   {
    "duration": 8,
    "start_time": "2022-05-24T14:03:13.125Z"
   },
   {
    "duration": 52,
    "start_time": "2022-05-24T14:03:13.135Z"
   },
   {
    "duration": 40,
    "start_time": "2022-05-24T14:03:13.189Z"
   },
   {
    "duration": 15,
    "start_time": "2022-05-24T14:03:13.234Z"
   },
   {
    "duration": 36,
    "start_time": "2022-05-24T14:03:13.251Z"
   },
   {
    "duration": 3,
    "start_time": "2022-05-24T14:03:13.289Z"
   },
   {
    "duration": 473,
    "start_time": "2022-05-24T14:03:13.294Z"
   },
   {
    "duration": 23,
    "start_time": "2022-05-24T14:03:13.770Z"
   },
   {
    "duration": 8,
    "start_time": "2022-05-24T14:03:13.795Z"
   },
   {
    "duration": 182,
    "start_time": "2022-05-24T14:03:13.805Z"
   },
   {
    "duration": 161,
    "start_time": "2022-05-24T14:03:13.988Z"
   },
   {
    "duration": 22,
    "start_time": "2022-05-24T14:03:14.150Z"
   },
   {
    "duration": 165,
    "start_time": "2022-05-24T14:03:14.175Z"
   },
   {
    "duration": 165,
    "start_time": "2022-05-24T14:03:14.342Z"
   },
   {
    "duration": 10,
    "start_time": "2022-05-24T14:03:14.508Z"
   },
   {
    "duration": 165,
    "start_time": "2022-05-24T14:03:14.520Z"
   },
   {
    "duration": 205,
    "start_time": "2022-05-24T14:03:14.687Z"
   },
   {
    "duration": 10,
    "start_time": "2022-05-24T14:03:14.894Z"
   },
   {
    "duration": 153,
    "start_time": "2022-05-24T14:03:14.906Z"
   },
   {
    "duration": 188,
    "start_time": "2022-05-24T14:03:15.064Z"
   },
   {
    "duration": 13,
    "start_time": "2022-05-24T14:03:15.254Z"
   },
   {
    "duration": 148,
    "start_time": "2022-05-24T14:03:15.269Z"
   },
   {
    "duration": 329,
    "start_time": "2022-05-24T14:03:15.419Z"
   },
   {
    "duration": 236,
    "start_time": "2022-05-24T14:03:15.750Z"
   },
   {
    "duration": 118,
    "start_time": "2022-05-24T14:03:15.988Z"
   },
   {
    "duration": 419,
    "start_time": "2022-05-24T14:03:16.108Z"
   },
   {
    "duration": 238,
    "start_time": "2022-05-24T14:03:16.529Z"
   },
   {
    "duration": 250,
    "start_time": "2022-05-24T14:03:23.210Z"
   },
   {
    "duration": 224,
    "start_time": "2022-05-24T14:03:32.362Z"
   },
   {
    "duration": 214,
    "start_time": "2022-05-24T14:05:04.195Z"
   },
   {
    "duration": 222,
    "start_time": "2022-05-24T14:07:29.263Z"
   },
   {
    "duration": 201,
    "start_time": "2022-05-24T14:07:32.642Z"
   },
   {
    "duration": 1360,
    "start_time": "2022-05-24T14:09:08.833Z"
   },
   {
    "duration": 33,
    "start_time": "2022-05-24T14:09:10.195Z"
   },
   {
    "duration": 15,
    "start_time": "2022-05-24T14:09:10.229Z"
   },
   {
    "duration": 81,
    "start_time": "2022-05-24T14:09:10.265Z"
   },
   {
    "duration": 25,
    "start_time": "2022-05-24T14:09:10.348Z"
   },
   {
    "duration": 11,
    "start_time": "2022-05-24T14:09:10.375Z"
   },
   {
    "duration": 12,
    "start_time": "2022-05-24T14:09:10.387Z"
   },
   {
    "duration": 11,
    "start_time": "2022-05-24T14:09:10.401Z"
   },
   {
    "duration": 8,
    "start_time": "2022-05-24T14:09:10.413Z"
   },
   {
    "duration": 42,
    "start_time": "2022-05-24T14:09:10.424Z"
   },
   {
    "duration": 22,
    "start_time": "2022-05-24T14:09:10.468Z"
   },
   {
    "duration": 6,
    "start_time": "2022-05-24T14:09:10.493Z"
   },
   {
    "duration": 30,
    "start_time": "2022-05-24T14:09:10.501Z"
   },
   {
    "duration": 8,
    "start_time": "2022-05-24T14:09:10.532Z"
   },
   {
    "duration": 94,
    "start_time": "2022-05-24T14:09:10.542Z"
   },
   {
    "duration": 7,
    "start_time": "2022-05-24T14:09:10.637Z"
   },
   {
    "duration": 9,
    "start_time": "2022-05-24T14:09:10.645Z"
   },
   {
    "duration": 17,
    "start_time": "2022-05-24T14:09:10.656Z"
   },
   {
    "duration": 19,
    "start_time": "2022-05-24T14:09:10.675Z"
   },
   {
    "duration": 9,
    "start_time": "2022-05-24T14:09:10.696Z"
   },
   {
    "duration": 11,
    "start_time": "2022-05-24T14:09:10.707Z"
   },
   {
    "duration": 12,
    "start_time": "2022-05-24T14:09:10.720Z"
   },
   {
    "duration": 7,
    "start_time": "2022-05-24T14:09:10.734Z"
   },
   {
    "duration": 39,
    "start_time": "2022-05-24T14:09:10.742Z"
   },
   {
    "duration": 12,
    "start_time": "2022-05-24T14:09:10.783Z"
   },
   {
    "duration": 34,
    "start_time": "2022-05-24T14:09:10.796Z"
   },
   {
    "duration": 39,
    "start_time": "2022-05-24T14:09:10.832Z"
   },
   {
    "duration": 21,
    "start_time": "2022-05-24T14:09:10.876Z"
   },
   {
    "duration": 23,
    "start_time": "2022-05-24T14:09:10.899Z"
   },
   {
    "duration": 3,
    "start_time": "2022-05-24T14:09:10.924Z"
   },
   {
    "duration": 486,
    "start_time": "2022-05-24T14:09:10.929Z"
   },
   {
    "duration": 18,
    "start_time": "2022-05-24T14:09:11.417Z"
   },
   {
    "duration": 10,
    "start_time": "2022-05-24T14:09:11.436Z"
   },
   {
    "duration": 147,
    "start_time": "2022-05-24T14:09:11.466Z"
   },
   {
    "duration": 153,
    "start_time": "2022-05-24T14:09:11.614Z"
   },
   {
    "duration": 16,
    "start_time": "2022-05-24T14:09:11.769Z"
   },
   {
    "duration": 172,
    "start_time": "2022-05-24T14:09:11.787Z"
   },
   {
    "duration": 156,
    "start_time": "2022-05-24T14:09:11.966Z"
   },
   {
    "duration": 10,
    "start_time": "2022-05-24T14:09:12.125Z"
   },
   {
    "duration": 140,
    "start_time": "2022-05-24T14:09:12.137Z"
   },
   {
    "duration": 163,
    "start_time": "2022-05-24T14:09:12.282Z"
   },
   {
    "duration": 24,
    "start_time": "2022-05-24T14:09:12.447Z"
   },
   {
    "duration": 146,
    "start_time": "2022-05-24T14:09:12.473Z"
   },
   {
    "duration": 197,
    "start_time": "2022-05-24T14:09:12.621Z"
   },
   {
    "duration": 9,
    "start_time": "2022-05-24T14:09:12.820Z"
   },
   {
    "duration": 156,
    "start_time": "2022-05-24T14:09:12.831Z"
   },
   {
    "duration": 327,
    "start_time": "2022-05-24T14:09:12.989Z"
   },
   {
    "duration": 218,
    "start_time": "2022-05-24T14:09:13.318Z"
   },
   {
    "duration": 114,
    "start_time": "2022-05-24T14:09:13.538Z"
   },
   {
    "duration": 257,
    "start_time": "2022-05-24T14:09:13.654Z"
   },
   {
    "duration": 245,
    "start_time": "2022-05-24T14:09:13.914Z"
   },
   {
    "duration": 145,
    "start_time": "2022-05-24T14:09:48.718Z"
   },
   {
    "duration": 55,
    "start_time": "2022-05-24T14:10:01.553Z"
   },
   {
    "duration": 8,
    "start_time": "2022-05-24T14:10:29.950Z"
   },
   {
    "duration": 25,
    "start_time": "2022-05-24T14:10:45.662Z"
   },
   {
    "duration": 15,
    "start_time": "2022-05-24T14:10:50.451Z"
   },
   {
    "duration": 223,
    "start_time": "2022-05-24T14:11:00.281Z"
   },
   {
    "duration": 249,
    "start_time": "2022-05-24T14:11:07.234Z"
   },
   {
    "duration": 199,
    "start_time": "2022-05-24T14:11:13.624Z"
   },
   {
    "duration": 333,
    "start_time": "2022-05-24T14:11:21.927Z"
   },
   {
    "duration": 192,
    "start_time": "2022-05-24T14:11:27.924Z"
   },
   {
    "duration": 17,
    "start_time": "2022-05-24T14:11:41.734Z"
   },
   {
    "duration": 20,
    "start_time": "2022-05-24T14:11:47.383Z"
   },
   {
    "duration": 38,
    "start_time": "2022-05-24T14:11:51.498Z"
   },
   {
    "duration": 15,
    "start_time": "2022-05-24T14:11:58.582Z"
   },
   {
    "duration": 206,
    "start_time": "2022-05-24T14:12:15.715Z"
   },
   {
    "duration": 125,
    "start_time": "2022-05-24T14:13:58.426Z"
   },
   {
    "duration": 209,
    "start_time": "2022-05-24T14:14:12.398Z"
   },
   {
    "duration": 15,
    "start_time": "2022-05-24T14:14:47.896Z"
   },
   {
    "duration": 9,
    "start_time": "2022-05-24T14:17:01.351Z"
   },
   {
    "duration": 1407,
    "start_time": "2022-05-24T14:17:15.619Z"
   },
   {
    "duration": 38,
    "start_time": "2022-05-24T14:17:17.028Z"
   },
   {
    "duration": 22,
    "start_time": "2022-05-24T14:17:17.068Z"
   },
   {
    "duration": 107,
    "start_time": "2022-05-24T14:17:17.093Z"
   },
   {
    "duration": 10,
    "start_time": "2022-05-24T14:17:17.203Z"
   },
   {
    "duration": 7,
    "start_time": "2022-05-24T14:17:17.215Z"
   },
   {
    "duration": 24,
    "start_time": "2022-05-24T14:17:17.224Z"
   },
   {
    "duration": 16,
    "start_time": "2022-05-24T14:17:17.250Z"
   },
   {
    "duration": 10,
    "start_time": "2022-05-24T14:17:17.267Z"
   },
   {
    "duration": 10,
    "start_time": "2022-05-24T14:17:17.281Z"
   },
   {
    "duration": 8,
    "start_time": "2022-05-24T14:17:17.293Z"
   },
   {
    "duration": 8,
    "start_time": "2022-05-24T14:17:17.302Z"
   },
   {
    "duration": 75,
    "start_time": "2022-05-24T14:17:17.311Z"
   },
   {
    "duration": 8,
    "start_time": "2022-05-24T14:17:17.388Z"
   },
   {
    "duration": 40,
    "start_time": "2022-05-24T14:17:17.398Z"
   },
   {
    "duration": 34,
    "start_time": "2022-05-24T14:17:17.440Z"
   },
   {
    "duration": 18,
    "start_time": "2022-05-24T14:17:17.477Z"
   },
   {
    "duration": 15,
    "start_time": "2022-05-24T14:17:17.497Z"
   },
   {
    "duration": 5,
    "start_time": "2022-05-24T14:17:17.514Z"
   },
   {
    "duration": 8,
    "start_time": "2022-05-24T14:17:17.520Z"
   },
   {
    "duration": 15,
    "start_time": "2022-05-24T14:17:17.529Z"
   },
   {
    "duration": 22,
    "start_time": "2022-05-24T14:17:17.545Z"
   },
   {
    "duration": 19,
    "start_time": "2022-05-24T14:17:17.569Z"
   },
   {
    "duration": 13,
    "start_time": "2022-05-24T14:17:17.590Z"
   },
   {
    "duration": 12,
    "start_time": "2022-05-24T14:17:17.605Z"
   },
   {
    "duration": 10,
    "start_time": "2022-05-24T14:17:17.619Z"
   },
   {
    "duration": 59,
    "start_time": "2022-05-24T14:17:17.631Z"
   },
   {
    "duration": 14,
    "start_time": "2022-05-24T14:17:17.694Z"
   },
   {
    "duration": 17,
    "start_time": "2022-05-24T14:17:17.710Z"
   },
   {
    "duration": 52,
    "start_time": "2022-05-24T14:17:17.730Z"
   },
   {
    "duration": 4,
    "start_time": "2022-05-24T14:17:17.784Z"
   },
   {
    "duration": 464,
    "start_time": "2022-05-24T14:17:17.790Z"
   },
   {
    "duration": 26,
    "start_time": "2022-05-24T14:17:18.257Z"
   },
   {
    "duration": 9,
    "start_time": "2022-05-24T14:17:18.285Z"
   },
   {
    "duration": 171,
    "start_time": "2022-05-24T14:17:18.296Z"
   },
   {
    "duration": 167,
    "start_time": "2022-05-24T14:17:18.469Z"
   },
   {
    "duration": 9,
    "start_time": "2022-05-24T14:17:18.638Z"
   },
   {
    "duration": 161,
    "start_time": "2022-05-24T14:17:18.648Z"
   },
   {
    "duration": 146,
    "start_time": "2022-05-24T14:17:18.811Z"
   },
   {
    "duration": 13,
    "start_time": "2022-05-24T14:17:18.966Z"
   },
   {
    "duration": 137,
    "start_time": "2022-05-24T14:17:18.981Z"
   },
   {
    "duration": 209,
    "start_time": "2022-05-24T14:17:19.120Z"
   },
   {
    "duration": 10,
    "start_time": "2022-05-24T14:17:19.331Z"
   },
   {
    "duration": 159,
    "start_time": "2022-05-24T14:17:19.343Z"
   },
   {
    "duration": 186,
    "start_time": "2022-05-24T14:17:19.504Z"
   },
   {
    "duration": 13,
    "start_time": "2022-05-24T14:17:19.692Z"
   },
   {
    "duration": 134,
    "start_time": "2022-05-24T14:17:19.707Z"
   },
   {
    "duration": 339,
    "start_time": "2022-05-24T14:17:19.842Z"
   },
   {
    "duration": 206,
    "start_time": "2022-05-24T14:17:20.183Z"
   },
   {
    "duration": 113,
    "start_time": "2022-05-24T14:17:20.392Z"
   },
   {
    "duration": 229,
    "start_time": "2022-05-24T14:17:20.506Z"
   },
   {
    "duration": 15,
    "start_time": "2022-05-24T14:17:20.737Z"
   },
   {
    "duration": 7,
    "start_time": "2022-05-24T14:17:51.882Z"
   },
   {
    "duration": 225,
    "start_time": "2022-05-24T14:18:18.495Z"
   },
   {
    "duration": 113,
    "start_time": "2022-05-24T14:19:23.477Z"
   },
   {
    "duration": 97,
    "start_time": "2022-05-24T14:19:53.730Z"
   },
   {
    "duration": 193,
    "start_time": "2022-05-24T14:20:06.139Z"
   },
   {
    "duration": 138,
    "start_time": "2022-05-24T14:23:59.530Z"
   },
   {
    "duration": 139,
    "start_time": "2022-05-24T14:24:17.378Z"
   },
   {
    "duration": 116,
    "start_time": "2022-05-24T14:24:21.209Z"
   },
   {
    "duration": 109,
    "start_time": "2022-05-24T14:24:37.732Z"
   },
   {
    "duration": 1277,
    "start_time": "2022-05-24T14:30:10.741Z"
   },
   {
    "duration": 33,
    "start_time": "2022-05-24T14:30:12.020Z"
   },
   {
    "duration": 24,
    "start_time": "2022-05-24T14:30:12.054Z"
   },
   {
    "duration": 86,
    "start_time": "2022-05-24T14:30:12.080Z"
   },
   {
    "duration": 10,
    "start_time": "2022-05-24T14:30:12.168Z"
   },
   {
    "duration": 11,
    "start_time": "2022-05-24T14:30:12.179Z"
   },
   {
    "duration": 18,
    "start_time": "2022-05-24T14:30:12.191Z"
   },
   {
    "duration": 8,
    "start_time": "2022-05-24T14:30:12.211Z"
   },
   {
    "duration": 6,
    "start_time": "2022-05-24T14:30:12.221Z"
   },
   {
    "duration": 36,
    "start_time": "2022-05-24T14:30:12.230Z"
   },
   {
    "duration": 10,
    "start_time": "2022-05-24T14:30:12.268Z"
   },
   {
    "duration": 10,
    "start_time": "2022-05-24T14:30:12.280Z"
   },
   {
    "duration": 34,
    "start_time": "2022-05-24T14:30:12.291Z"
   },
   {
    "duration": 6,
    "start_time": "2022-05-24T14:30:12.327Z"
   },
   {
    "duration": 51,
    "start_time": "2022-05-24T14:30:12.335Z"
   },
   {
    "duration": 7,
    "start_time": "2022-05-24T14:30:12.389Z"
   },
   {
    "duration": 19,
    "start_time": "2022-05-24T14:30:12.398Z"
   },
   {
    "duration": 12,
    "start_time": "2022-05-24T14:30:12.419Z"
   },
   {
    "duration": 6,
    "start_time": "2022-05-24T14:30:12.433Z"
   },
   {
    "duration": 29,
    "start_time": "2022-05-24T14:30:12.441Z"
   },
   {
    "duration": 7,
    "start_time": "2022-05-24T14:30:12.472Z"
   },
   {
    "duration": 15,
    "start_time": "2022-05-24T14:30:12.481Z"
   },
   {
    "duration": 6,
    "start_time": "2022-05-24T14:30:12.498Z"
   },
   {
    "duration": 11,
    "start_time": "2022-05-24T14:30:12.505Z"
   },
   {
    "duration": 7,
    "start_time": "2022-05-24T14:30:12.517Z"
   },
   {
    "duration": 9,
    "start_time": "2022-05-24T14:30:12.526Z"
   },
   {
    "duration": 34,
    "start_time": "2022-05-24T14:30:12.567Z"
   },
   {
    "duration": 17,
    "start_time": "2022-05-24T14:30:12.605Z"
   },
   {
    "duration": 12,
    "start_time": "2022-05-24T14:30:12.624Z"
   },
   {
    "duration": 46,
    "start_time": "2022-05-24T14:30:12.638Z"
   },
   {
    "duration": 4,
    "start_time": "2022-05-24T14:30:12.685Z"
   },
   {
    "duration": 437,
    "start_time": "2022-05-24T14:30:12.690Z"
   },
   {
    "duration": 15,
    "start_time": "2022-05-24T14:30:13.129Z"
   },
   {
    "duration": 27,
    "start_time": "2022-05-24T14:30:13.147Z"
   },
   {
    "duration": 139,
    "start_time": "2022-05-24T14:30:13.176Z"
   },
   {
    "duration": 137,
    "start_time": "2022-05-24T14:30:13.317Z"
   },
   {
    "duration": 15,
    "start_time": "2022-05-24T14:30:13.456Z"
   },
   {
    "duration": 143,
    "start_time": "2022-05-24T14:30:13.472Z"
   },
   {
    "duration": 151,
    "start_time": "2022-05-24T14:30:13.617Z"
   },
   {
    "duration": 8,
    "start_time": "2022-05-24T14:30:13.770Z"
   },
   {
    "duration": 124,
    "start_time": "2022-05-24T14:30:13.780Z"
   },
   {
    "duration": 175,
    "start_time": "2022-05-24T14:30:13.905Z"
   },
   {
    "duration": 10,
    "start_time": "2022-05-24T14:30:14.082Z"
   },
   {
    "duration": 135,
    "start_time": "2022-05-24T14:30:14.093Z"
   },
   {
    "duration": 170,
    "start_time": "2022-05-24T14:30:14.229Z"
   },
   {
    "duration": 12,
    "start_time": "2022-05-24T14:30:14.402Z"
   },
   {
    "duration": 129,
    "start_time": "2022-05-24T14:30:14.417Z"
   },
   {
    "duration": 319,
    "start_time": "2022-05-24T14:30:14.548Z"
   },
   {
    "duration": 209,
    "start_time": "2022-05-24T14:30:14.869Z"
   },
   {
    "duration": 109,
    "start_time": "2022-05-24T14:30:15.080Z"
   },
   {
    "duration": 120,
    "start_time": "2022-05-24T14:30:15.191Z"
   },
   {
    "duration": 194,
    "start_time": "2022-05-24T14:30:15.313Z"
   },
   {
    "duration": 16,
    "start_time": "2022-05-24T14:30:15.509Z"
   },
   {
    "duration": 13,
    "start_time": "2022-05-24T14:34:02.294Z"
   },
   {
    "duration": 1223,
    "start_time": "2022-05-24T14:34:11.081Z"
   },
   {
    "duration": 34,
    "start_time": "2022-05-24T14:34:12.306Z"
   },
   {
    "duration": 26,
    "start_time": "2022-05-24T14:34:12.341Z"
   },
   {
    "duration": 76,
    "start_time": "2022-05-24T14:34:12.369Z"
   },
   {
    "duration": 25,
    "start_time": "2022-05-24T14:34:12.446Z"
   },
   {
    "duration": 7,
    "start_time": "2022-05-24T14:34:12.472Z"
   },
   {
    "duration": 9,
    "start_time": "2022-05-24T14:34:12.480Z"
   },
   {
    "duration": 7,
    "start_time": "2022-05-24T14:34:12.490Z"
   },
   {
    "duration": 6,
    "start_time": "2022-05-24T14:34:12.499Z"
   },
   {
    "duration": 8,
    "start_time": "2022-05-24T14:34:12.507Z"
   },
   {
    "duration": 7,
    "start_time": "2022-05-24T14:34:12.516Z"
   },
   {
    "duration": 44,
    "start_time": "2022-05-24T14:34:12.524Z"
   },
   {
    "duration": 42,
    "start_time": "2022-05-24T14:34:12.570Z"
   },
   {
    "duration": 10,
    "start_time": "2022-05-24T14:34:12.614Z"
   },
   {
    "duration": 58,
    "start_time": "2022-05-24T14:34:12.626Z"
   },
   {
    "duration": 7,
    "start_time": "2022-05-24T14:34:12.685Z"
   },
   {
    "duration": 8,
    "start_time": "2022-05-24T14:34:12.694Z"
   },
   {
    "duration": 9,
    "start_time": "2022-05-24T14:34:12.704Z"
   },
   {
    "duration": 6,
    "start_time": "2022-05-24T14:34:12.715Z"
   },
   {
    "duration": 13,
    "start_time": "2022-05-24T14:34:12.722Z"
   },
   {
    "duration": 9,
    "start_time": "2022-05-24T14:34:12.765Z"
   },
   {
    "duration": 12,
    "start_time": "2022-05-24T14:34:12.775Z"
   },
   {
    "duration": 6,
    "start_time": "2022-05-24T14:34:12.789Z"
   },
   {
    "duration": 9,
    "start_time": "2022-05-24T14:34:12.796Z"
   },
   {
    "duration": 10,
    "start_time": "2022-05-24T14:34:12.807Z"
   },
   {
    "duration": 46,
    "start_time": "2022-05-24T14:34:12.819Z"
   },
   {
    "duration": 28,
    "start_time": "2022-05-24T14:34:12.867Z"
   },
   {
    "duration": 14,
    "start_time": "2022-05-24T14:34:12.898Z"
   },
   {
    "duration": 17,
    "start_time": "2022-05-24T14:34:12.914Z"
   },
   {
    "duration": 22,
    "start_time": "2022-05-24T14:34:12.966Z"
   },
   {
    "duration": 3,
    "start_time": "2022-05-24T14:34:12.990Z"
   },
   {
    "duration": 414,
    "start_time": "2022-05-24T14:34:12.995Z"
   },
   {
    "duration": 14,
    "start_time": "2022-05-24T14:34:13.411Z"
   },
   {
    "duration": 8,
    "start_time": "2022-05-24T14:34:13.427Z"
   },
   {
    "duration": 159,
    "start_time": "2022-05-24T14:34:13.437Z"
   },
   {
    "duration": 172,
    "start_time": "2022-05-24T14:34:13.598Z"
   },
   {
    "duration": 10,
    "start_time": "2022-05-24T14:34:13.773Z"
   },
   {
    "duration": 154,
    "start_time": "2022-05-24T14:34:13.785Z"
   },
   {
    "duration": 177,
    "start_time": "2022-05-24T14:34:13.941Z"
   },
   {
    "duration": 14,
    "start_time": "2022-05-24T14:34:14.120Z"
   },
   {
    "duration": 166,
    "start_time": "2022-05-24T14:34:14.136Z"
   },
   {
    "duration": 162,
    "start_time": "2022-05-24T14:34:14.304Z"
   },
   {
    "duration": 9,
    "start_time": "2022-05-24T14:34:14.468Z"
   },
   {
    "duration": 148,
    "start_time": "2022-05-24T14:34:14.479Z"
   },
   {
    "duration": 182,
    "start_time": "2022-05-24T14:34:14.629Z"
   },
   {
    "duration": 15,
    "start_time": "2022-05-24T14:34:14.813Z"
   },
   {
    "duration": 128,
    "start_time": "2022-05-24T14:34:14.830Z"
   },
   {
    "duration": 304,
    "start_time": "2022-05-24T14:34:14.960Z"
   },
   {
    "duration": 203,
    "start_time": "2022-05-24T14:34:15.266Z"
   },
   {
    "duration": 106,
    "start_time": "2022-05-24T14:34:15.471Z"
   },
   {
    "duration": 123,
    "start_time": "2022-05-24T14:34:15.579Z"
   },
   {
    "duration": 197,
    "start_time": "2022-05-24T14:34:15.704Z"
   },
   {
    "duration": 16,
    "start_time": "2022-05-24T14:34:15.902Z"
   },
   {
    "duration": 139,
    "start_time": "2022-05-24T14:34:47.259Z"
   },
   {
    "duration": 112,
    "start_time": "2022-05-24T14:35:58.375Z"
   },
   {
    "duration": 133,
    "start_time": "2022-05-24T14:36:14.361Z"
   },
   {
    "duration": 330,
    "start_time": "2022-05-24T14:36:19.016Z"
   },
   {
    "duration": 230,
    "start_time": "2022-05-24T14:36:28.907Z"
   },
   {
    "duration": 177,
    "start_time": "2022-05-24T14:36:34.873Z"
   },
   {
    "duration": 291,
    "start_time": "2022-05-24T14:44:12.224Z"
   },
   {
    "duration": 216,
    "start_time": "2022-05-24T14:44:30.051Z"
   },
   {
    "duration": 190,
    "start_time": "2022-05-24T14:44:42.930Z"
   },
   {
    "duration": 243,
    "start_time": "2022-05-24T14:44:56.423Z"
   },
   {
    "duration": 228,
    "start_time": "2022-05-24T14:45:54.905Z"
   },
   {
    "duration": 115,
    "start_time": "2022-05-24T14:46:32.925Z"
   },
   {
    "duration": 113,
    "start_time": "2022-05-24T14:46:48.114Z"
   },
   {
    "duration": 136,
    "start_time": "2022-05-24T14:50:52.853Z"
   },
   {
    "duration": 112,
    "start_time": "2022-05-24T14:51:11.832Z"
   },
   {
    "duration": 140,
    "start_time": "2022-05-24T14:51:41.405Z"
   },
   {
    "duration": 111,
    "start_time": "2022-05-24T14:51:57.739Z"
   },
   {
    "duration": 145,
    "start_time": "2022-05-24T14:52:14.580Z"
   },
   {
    "duration": 1235,
    "start_time": "2022-05-24T14:53:26.491Z"
   },
   {
    "duration": 43,
    "start_time": "2022-05-24T14:53:27.728Z"
   },
   {
    "duration": 16,
    "start_time": "2022-05-24T14:53:27.773Z"
   },
   {
    "duration": 95,
    "start_time": "2022-05-24T14:53:27.793Z"
   },
   {
    "duration": 14,
    "start_time": "2022-05-24T14:53:27.890Z"
   },
   {
    "duration": 10,
    "start_time": "2022-05-24T14:53:27.906Z"
   },
   {
    "duration": 12,
    "start_time": "2022-05-24T14:53:27.917Z"
   },
   {
    "duration": 37,
    "start_time": "2022-05-24T14:53:27.930Z"
   },
   {
    "duration": 6,
    "start_time": "2022-05-24T14:53:27.969Z"
   },
   {
    "duration": 11,
    "start_time": "2022-05-24T14:53:27.978Z"
   },
   {
    "duration": 15,
    "start_time": "2022-05-24T14:53:27.990Z"
   },
   {
    "duration": 7,
    "start_time": "2022-05-24T14:53:28.007Z"
   },
   {
    "duration": 64,
    "start_time": "2022-05-24T14:53:28.016Z"
   },
   {
    "duration": 8,
    "start_time": "2022-05-24T14:53:28.082Z"
   },
   {
    "duration": 41,
    "start_time": "2022-05-24T14:53:28.091Z"
   },
   {
    "duration": 32,
    "start_time": "2022-05-24T14:53:28.135Z"
   },
   {
    "duration": 8,
    "start_time": "2022-05-24T14:53:28.169Z"
   },
   {
    "duration": 10,
    "start_time": "2022-05-24T14:53:28.179Z"
   },
   {
    "duration": 8,
    "start_time": "2022-05-24T14:53:28.190Z"
   },
   {
    "duration": 11,
    "start_time": "2022-05-24T14:53:28.200Z"
   },
   {
    "duration": 9,
    "start_time": "2022-05-24T14:53:28.212Z"
   },
   {
    "duration": 51,
    "start_time": "2022-05-24T14:53:28.223Z"
   },
   {
    "duration": 8,
    "start_time": "2022-05-24T14:53:28.276Z"
   },
   {
    "duration": 24,
    "start_time": "2022-05-24T14:53:28.285Z"
   },
   {
    "duration": 11,
    "start_time": "2022-05-24T14:53:28.311Z"
   },
   {
    "duration": 10,
    "start_time": "2022-05-24T14:53:28.324Z"
   },
   {
    "duration": 53,
    "start_time": "2022-05-24T14:53:28.336Z"
   },
   {
    "duration": 14,
    "start_time": "2022-05-24T14:53:28.393Z"
   },
   {
    "duration": 15,
    "start_time": "2022-05-24T14:53:28.409Z"
   },
   {
    "duration": 54,
    "start_time": "2022-05-24T14:53:28.426Z"
   },
   {
    "duration": 3,
    "start_time": "2022-05-24T14:53:28.482Z"
   },
   {
    "duration": 454,
    "start_time": "2022-05-24T14:53:28.486Z"
   },
   {
    "duration": 34,
    "start_time": "2022-05-24T14:53:28.942Z"
   },
   {
    "duration": 13,
    "start_time": "2022-05-24T14:53:28.978Z"
   },
   {
    "duration": 200,
    "start_time": "2022-05-24T14:53:28.993Z"
   },
   {
    "duration": 205,
    "start_time": "2022-05-24T14:53:29.196Z"
   },
   {
    "duration": 12,
    "start_time": "2022-05-24T14:53:29.403Z"
   },
   {
    "duration": 175,
    "start_time": "2022-05-24T14:53:29.417Z"
   },
   {
    "duration": 176,
    "start_time": "2022-05-24T14:53:29.595Z"
   },
   {
    "duration": 10,
    "start_time": "2022-05-24T14:53:29.773Z"
   },
   {
    "duration": 135,
    "start_time": "2022-05-24T14:53:29.785Z"
   },
   {
    "duration": 190,
    "start_time": "2022-05-24T14:53:29.923Z"
   },
   {
    "duration": 10,
    "start_time": "2022-05-24T14:53:30.115Z"
   },
   {
    "duration": 142,
    "start_time": "2022-05-24T14:53:30.127Z"
   },
   {
    "duration": 189,
    "start_time": "2022-05-24T14:53:30.271Z"
   },
   {
    "duration": 18,
    "start_time": "2022-05-24T14:53:30.464Z"
   },
   {
    "duration": 113,
    "start_time": "2022-05-24T14:53:30.484Z"
   },
   {
    "duration": 330,
    "start_time": "2022-05-24T14:53:30.600Z"
   },
   {
    "duration": 206,
    "start_time": "2022-05-24T14:53:30.933Z"
   },
   {
    "duration": 104,
    "start_time": "2022-05-24T14:53:31.141Z"
   },
   {
    "duration": 124,
    "start_time": "2022-05-24T14:53:31.247Z"
   },
   {
    "duration": 205,
    "start_time": "2022-05-24T14:53:31.373Z"
   },
   {
    "duration": 114,
    "start_time": "2022-05-24T14:55:39.866Z"
   },
   {
    "duration": 110,
    "start_time": "2022-05-24T14:55:57.311Z"
   },
   {
    "duration": 175,
    "start_time": "2022-05-24T14:56:09.701Z"
   },
   {
    "duration": 222,
    "start_time": "2022-05-24T14:56:16.560Z"
   },
   {
    "duration": 224,
    "start_time": "2022-05-24T14:56:49.977Z"
   },
   {
    "duration": 202,
    "start_time": "2022-05-24T14:57:27.984Z"
   },
   {
    "duration": 141,
    "start_time": "2022-05-24T14:57:32.367Z"
   },
   {
    "duration": 226,
    "start_time": "2022-05-24T14:57:39.587Z"
   },
   {
    "duration": 349,
    "start_time": "2022-05-24T14:57:45.650Z"
   },
   {
    "duration": 254,
    "start_time": "2022-05-24T14:57:55.171Z"
   },
   {
    "duration": 506,
    "start_time": "2022-05-24T14:59:25.699Z"
   },
   {
    "duration": 1177,
    "start_time": "2022-05-24T15:00:03.000Z"
   },
   {
    "duration": 21,
    "start_time": "2022-05-24T15:00:37.623Z"
   },
   {
    "duration": 399,
    "start_time": "2022-05-24T15:00:54.169Z"
   },
   {
    "duration": 19,
    "start_time": "2022-05-24T15:01:36.880Z"
   },
   {
    "duration": 30,
    "start_time": "2022-05-24T15:02:26.775Z"
   },
   {
    "duration": 16,
    "start_time": "2022-05-24T15:03:48.552Z"
   },
   {
    "duration": 17,
    "start_time": "2022-05-24T15:04:03.898Z"
   },
   {
    "duration": 16,
    "start_time": "2022-05-24T15:04:13.708Z"
   },
   {
    "duration": 129,
    "start_time": "2022-05-24T15:04:27.399Z"
   },
   {
    "duration": 167,
    "start_time": "2022-05-24T15:05:19.502Z"
   },
   {
    "duration": 143,
    "start_time": "2022-05-24T15:14:13.680Z"
   },
   {
    "duration": 127,
    "start_time": "2022-05-24T15:15:05.987Z"
   },
   {
    "duration": 129,
    "start_time": "2022-05-24T15:15:17.533Z"
   },
   {
    "duration": 168,
    "start_time": "2022-05-24T15:15:21.316Z"
   },
   {
    "duration": 171,
    "start_time": "2022-05-24T15:16:03.689Z"
   },
   {
    "duration": 319,
    "start_time": "2022-05-24T15:16:16.062Z"
   },
   {
    "duration": 176,
    "start_time": "2022-05-24T15:16:20.579Z"
   },
   {
    "duration": 172,
    "start_time": "2022-05-24T15:16:24.619Z"
   },
   {
    "duration": 130,
    "start_time": "2022-05-24T15:22:49.078Z"
   },
   {
    "duration": 3697,
    "start_time": "2022-05-24T15:23:40.451Z"
   },
   {
    "duration": 230,
    "start_time": "2022-05-24T15:23:53.958Z"
   },
   {
    "duration": 9,
    "start_time": "2022-05-24T15:25:01.910Z"
   },
   {
    "duration": 128,
    "start_time": "2022-05-24T15:26:59.204Z"
   },
   {
    "duration": 197,
    "start_time": "2022-05-24T15:27:10.699Z"
   },
   {
    "duration": 160,
    "start_time": "2022-05-24T15:28:00.659Z"
   },
   {
    "duration": 202,
    "start_time": "2022-05-24T15:28:10.755Z"
   },
   {
    "duration": 499,
    "start_time": "2022-05-24T15:28:19.255Z"
   },
   {
    "duration": 273,
    "start_time": "2022-05-24T15:28:31.357Z"
   },
   {
    "duration": 256,
    "start_time": "2022-05-24T15:28:37.382Z"
   },
   {
    "duration": 247,
    "start_time": "2022-05-24T15:28:40.680Z"
   },
   {
    "duration": 230,
    "start_time": "2022-05-24T15:29:08.275Z"
   },
   {
    "duration": 242,
    "start_time": "2022-05-24T15:29:25.160Z"
   },
   {
    "duration": 196,
    "start_time": "2022-05-24T15:29:33.213Z"
   },
   {
    "duration": 212,
    "start_time": "2022-05-24T15:29:47.394Z"
   },
   {
    "duration": 226,
    "start_time": "2022-05-24T15:30:39.259Z"
   },
   {
    "duration": 195,
    "start_time": "2022-05-24T15:31:35.112Z"
   },
   {
    "duration": 274,
    "start_time": "2022-05-24T15:31:45.004Z"
   },
   {
    "duration": 509,
    "start_time": "2022-05-24T15:31:50.978Z"
   },
   {
    "duration": 305,
    "start_time": "2022-05-24T15:31:57.296Z"
   },
   {
    "duration": 219,
    "start_time": "2022-05-24T15:32:02.103Z"
   },
   {
    "duration": 265,
    "start_time": "2022-05-24T15:32:08.184Z"
   },
   {
    "duration": 200,
    "start_time": "2022-05-24T15:32:40.778Z"
   },
   {
    "duration": 171,
    "start_time": "2022-05-24T15:32:50.270Z"
   },
   {
    "duration": 180,
    "start_time": "2022-05-24T15:32:58.811Z"
   },
   {
    "duration": 162,
    "start_time": "2022-05-24T15:33:10.756Z"
   },
   {
    "duration": 157,
    "start_time": "2022-05-24T15:33:24.596Z"
   },
   {
    "duration": 120,
    "start_time": "2022-05-24T15:34:12.179Z"
   },
   {
    "duration": 245,
    "start_time": "2022-05-24T15:34:20.299Z"
   },
   {
    "duration": 241,
    "start_time": "2022-05-24T15:34:26.281Z"
   },
   {
    "duration": 204,
    "start_time": "2022-05-24T15:34:38.255Z"
   },
   {
    "duration": 165,
    "start_time": "2022-05-24T15:34:44.456Z"
   },
   {
    "duration": 150,
    "start_time": "2022-05-24T15:38:11.511Z"
   },
   {
    "duration": 237,
    "start_time": "2022-05-24T15:39:38.200Z"
   },
   {
    "duration": 216,
    "start_time": "2022-05-24T15:39:43.627Z"
   },
   {
    "duration": 548,
    "start_time": "2022-05-24T15:39:51.888Z"
   },
   {
    "duration": 273,
    "start_time": "2022-05-24T15:39:59.250Z"
   },
   {
    "duration": 100,
    "start_time": "2022-05-24T15:41:11.657Z"
   },
   {
    "duration": 36,
    "start_time": "2022-05-24T15:42:10.328Z"
   },
   {
    "duration": 17,
    "start_time": "2022-05-24T15:42:37.706Z"
   },
   {
    "duration": 13,
    "start_time": "2022-05-24T15:42:44.504Z"
   },
   {
    "duration": 103,
    "start_time": "2022-05-24T15:43:10.694Z"
   },
   {
    "duration": 96,
    "start_time": "2022-05-24T15:44:12.646Z"
   },
   {
    "duration": 116,
    "start_time": "2022-05-24T15:44:19.645Z"
   },
   {
    "duration": 105,
    "start_time": "2022-05-24T15:45:26.794Z"
   },
   {
    "duration": 96,
    "start_time": "2022-05-24T15:45:37.048Z"
   },
   {
    "duration": 99,
    "start_time": "2022-05-24T15:45:44.146Z"
   },
   {
    "duration": 236,
    "start_time": "2022-05-24T15:48:58.563Z"
   },
   {
    "duration": 104,
    "start_time": "2022-05-24T15:53:31.039Z"
   },
   {
    "duration": 116,
    "start_time": "2022-05-24T15:53:34.740Z"
   },
   {
    "duration": 188,
    "start_time": "2022-05-24T15:53:39.241Z"
   },
   {
    "duration": 217,
    "start_time": "2022-05-24T15:53:54.058Z"
   },
   {
    "duration": 200,
    "start_time": "2022-05-24T15:54:05.700Z"
   },
   {
    "duration": 208,
    "start_time": "2022-05-24T15:54:17.900Z"
   },
   {
    "duration": 184,
    "start_time": "2022-05-24T15:54:23.337Z"
   },
   {
    "duration": 96,
    "start_time": "2022-05-24T15:56:12.703Z"
   },
   {
    "duration": 107,
    "start_time": "2022-05-24T15:56:16.910Z"
   },
   {
    "duration": 193,
    "start_time": "2022-05-24T15:56:19.604Z"
   },
   {
    "duration": 98,
    "start_time": "2022-05-24T15:58:33.309Z"
   },
   {
    "duration": 6,
    "start_time": "2022-05-24T16:05:29.340Z"
   },
   {
    "duration": 1335,
    "start_time": "2022-05-24T16:33:12.297Z"
   },
   {
    "duration": 55,
    "start_time": "2022-05-24T16:33:13.634Z"
   },
   {
    "duration": 17,
    "start_time": "2022-05-24T16:33:13.696Z"
   },
   {
    "duration": 94,
    "start_time": "2022-05-24T16:33:13.715Z"
   },
   {
    "duration": 13,
    "start_time": "2022-05-24T16:33:13.813Z"
   },
   {
    "duration": 9,
    "start_time": "2022-05-24T16:33:13.827Z"
   },
   {
    "duration": 13,
    "start_time": "2022-05-24T16:33:13.838Z"
   },
   {
    "duration": 19,
    "start_time": "2022-05-24T16:33:13.852Z"
   },
   {
    "duration": 32,
    "start_time": "2022-05-24T16:33:13.872Z"
   },
   {
    "duration": 6,
    "start_time": "2022-05-24T16:33:13.906Z"
   },
   {
    "duration": 7,
    "start_time": "2022-05-24T16:33:13.913Z"
   },
   {
    "duration": 7,
    "start_time": "2022-05-24T16:33:13.922Z"
   },
   {
    "duration": 41,
    "start_time": "2022-05-24T16:33:13.931Z"
   },
   {
    "duration": 21,
    "start_time": "2022-05-24T16:33:13.975Z"
   },
   {
    "duration": 46,
    "start_time": "2022-05-24T16:33:13.998Z"
   },
   {
    "duration": 7,
    "start_time": "2022-05-24T16:33:14.046Z"
   },
   {
    "duration": 18,
    "start_time": "2022-05-24T16:33:14.055Z"
   },
   {
    "duration": 25,
    "start_time": "2022-05-24T16:33:14.079Z"
   },
   {
    "duration": 6,
    "start_time": "2022-05-24T16:33:14.106Z"
   },
   {
    "duration": 8,
    "start_time": "2022-05-24T16:33:14.115Z"
   },
   {
    "duration": 7,
    "start_time": "2022-05-24T16:33:14.125Z"
   },
   {
    "duration": 43,
    "start_time": "2022-05-24T16:33:14.134Z"
   },
   {
    "duration": 16,
    "start_time": "2022-05-24T16:33:14.179Z"
   },
   {
    "duration": 15,
    "start_time": "2022-05-24T16:33:14.197Z"
   },
   {
    "duration": 8,
    "start_time": "2022-05-24T16:33:14.213Z"
   },
   {
    "duration": 12,
    "start_time": "2022-05-24T16:33:14.222Z"
   },
   {
    "duration": 5,
    "start_time": "2022-05-24T16:33:14.236Z"
   },
   {
    "duration": 54,
    "start_time": "2022-05-24T16:33:14.243Z"
   },
   {
    "duration": 16,
    "start_time": "2022-05-24T16:33:14.301Z"
   },
   {
    "duration": 13,
    "start_time": "2022-05-24T16:33:14.319Z"
   },
   {
    "duration": 58,
    "start_time": "2022-05-24T16:33:14.334Z"
   },
   {
    "duration": 4,
    "start_time": "2022-05-24T16:33:14.394Z"
   },
   {
    "duration": 480,
    "start_time": "2022-05-24T16:33:14.400Z"
   },
   {
    "duration": 19,
    "start_time": "2022-05-24T16:33:14.887Z"
   },
   {
    "duration": 9,
    "start_time": "2022-05-24T16:33:14.908Z"
   },
   {
    "duration": 169,
    "start_time": "2022-05-24T16:33:14.919Z"
   },
   {
    "duration": 233,
    "start_time": "2022-05-24T16:33:15.093Z"
   },
   {
    "duration": 9,
    "start_time": "2022-05-24T16:33:15.327Z"
   },
   {
    "duration": 169,
    "start_time": "2022-05-24T16:33:15.338Z"
   },
   {
    "duration": 299,
    "start_time": "2022-05-24T16:33:15.509Z"
   },
   {
    "duration": 11,
    "start_time": "2022-05-24T16:33:15.813Z"
   },
   {
    "duration": 168,
    "start_time": "2022-05-24T16:33:15.826Z"
   },
   {
    "duration": 187,
    "start_time": "2022-05-24T16:33:15.996Z"
   },
   {
    "duration": 14,
    "start_time": "2022-05-24T16:33:16.184Z"
   },
   {
    "duration": 147,
    "start_time": "2022-05-24T16:33:16.200Z"
   },
   {
    "duration": 292,
    "start_time": "2022-05-24T16:33:16.349Z"
   },
   {
    "duration": 25,
    "start_time": "2022-05-24T16:33:16.643Z"
   },
   {
    "duration": 135,
    "start_time": "2022-05-24T16:33:16.673Z"
   },
   {
    "duration": 242,
    "start_time": "2022-05-24T16:33:16.810Z"
   },
   {
    "duration": 235,
    "start_time": "2022-05-24T16:33:17.054Z"
   },
   {
    "duration": 234,
    "start_time": "2022-05-24T16:33:17.291Z"
   },
   {
    "duration": 113,
    "start_time": "2022-05-24T16:33:17.526Z"
   },
   {
    "duration": 378,
    "start_time": "2022-05-24T16:33:49.120Z"
   },
   {
    "duration": 201,
    "start_time": "2022-05-24T16:45:35.541Z"
   },
   {
    "duration": 225,
    "start_time": "2022-05-24T16:46:42.995Z"
   },
   {
    "duration": 195,
    "start_time": "2022-05-24T16:47:34.717Z"
   },
   {
    "duration": 307,
    "start_time": "2022-05-24T16:48:41.485Z"
   },
   {
    "duration": 201,
    "start_time": "2022-05-24T16:48:47.384Z"
   },
   {
    "duration": 283,
    "start_time": "2022-05-24T16:49:35.903Z"
   },
   {
    "duration": 283,
    "start_time": "2022-05-24T16:50:00.671Z"
   },
   {
    "duration": 272,
    "start_time": "2022-05-24T16:50:08.920Z"
   },
   {
    "duration": 199,
    "start_time": "2022-05-24T16:50:18.213Z"
   },
   {
    "duration": 239,
    "start_time": "2022-05-24T16:50:23.459Z"
   },
   {
    "duration": 233,
    "start_time": "2022-05-24T16:51:27.235Z"
   },
   {
    "duration": 1584,
    "start_time": "2022-05-25T12:37:28.993Z"
   },
   {
    "duration": 40,
    "start_time": "2022-05-25T12:37:30.580Z"
   },
   {
    "duration": 46,
    "start_time": "2022-05-25T12:37:30.622Z"
   },
   {
    "duration": 115,
    "start_time": "2022-05-25T12:37:30.670Z"
   },
   {
    "duration": 10,
    "start_time": "2022-05-25T12:37:30.787Z"
   },
   {
    "duration": 32,
    "start_time": "2022-05-25T12:37:30.799Z"
   },
   {
    "duration": 31,
    "start_time": "2022-05-25T12:37:30.833Z"
   },
   {
    "duration": 65,
    "start_time": "2022-05-25T12:37:30.866Z"
   },
   {
    "duration": 16,
    "start_time": "2022-05-25T12:37:30.932Z"
   },
   {
    "duration": 18,
    "start_time": "2022-05-25T12:37:30.949Z"
   },
   {
    "duration": 21,
    "start_time": "2022-05-25T12:37:30.968Z"
   },
   {
    "duration": 64,
    "start_time": "2022-05-25T12:37:30.991Z"
   },
   {
    "duration": 77,
    "start_time": "2022-05-25T12:37:31.057Z"
   },
   {
    "duration": 12,
    "start_time": "2022-05-25T12:37:31.136Z"
   },
   {
    "duration": 39,
    "start_time": "2022-05-25T12:37:31.150Z"
   },
   {
    "duration": 7,
    "start_time": "2022-05-25T12:37:31.191Z"
   },
   {
    "duration": 13,
    "start_time": "2022-05-25T12:37:31.199Z"
   },
   {
    "duration": 10,
    "start_time": "2022-05-25T12:37:31.213Z"
   },
   {
    "duration": 18,
    "start_time": "2022-05-25T12:37:31.224Z"
   },
   {
    "duration": 21,
    "start_time": "2022-05-25T12:37:31.244Z"
   },
   {
    "duration": 21,
    "start_time": "2022-05-25T12:37:31.267Z"
   },
   {
    "duration": 25,
    "start_time": "2022-05-25T12:37:31.294Z"
   },
   {
    "duration": 13,
    "start_time": "2022-05-25T12:37:31.321Z"
   },
   {
    "duration": 14,
    "start_time": "2022-05-25T12:37:31.335Z"
   },
   {
    "duration": 28,
    "start_time": "2022-05-25T12:37:31.350Z"
   },
   {
    "duration": 20,
    "start_time": "2022-05-25T12:37:31.379Z"
   },
   {
    "duration": 16,
    "start_time": "2022-05-25T12:37:31.401Z"
   },
   {
    "duration": 42,
    "start_time": "2022-05-25T12:37:31.419Z"
   },
   {
    "duration": 17,
    "start_time": "2022-05-25T12:37:31.463Z"
   },
   {
    "duration": 26,
    "start_time": "2022-05-25T12:37:31.482Z"
   },
   {
    "duration": 44,
    "start_time": "2022-05-25T12:37:31.510Z"
   },
   {
    "duration": 3,
    "start_time": "2022-05-25T12:37:31.555Z"
   },
   {
    "duration": 494,
    "start_time": "2022-05-25T12:37:31.560Z"
   },
   {
    "duration": 20,
    "start_time": "2022-05-25T12:37:32.056Z"
   },
   {
    "duration": 42,
    "start_time": "2022-05-25T12:37:32.078Z"
   },
   {
    "duration": 147,
    "start_time": "2022-05-25T12:37:32.122Z"
   },
   {
    "duration": 220,
    "start_time": "2022-05-25T12:37:32.271Z"
   },
   {
    "duration": 10,
    "start_time": "2022-05-25T12:37:32.493Z"
   },
   {
    "duration": 168,
    "start_time": "2022-05-25T12:37:32.505Z"
   },
   {
    "duration": 322,
    "start_time": "2022-05-25T12:37:32.675Z"
   },
   {
    "duration": 9,
    "start_time": "2022-05-25T12:37:33.001Z"
   },
   {
    "duration": 134,
    "start_time": "2022-05-25T12:37:33.012Z"
   },
   {
    "duration": 169,
    "start_time": "2022-05-25T12:37:33.148Z"
   },
   {
    "duration": 9,
    "start_time": "2022-05-25T12:37:33.319Z"
   },
   {
    "duration": 147,
    "start_time": "2022-05-25T12:37:33.330Z"
   },
   {
    "duration": 276,
    "start_time": "2022-05-25T12:37:33.479Z"
   },
   {
    "duration": 13,
    "start_time": "2022-05-25T12:37:33.757Z"
   },
   {
    "duration": 145,
    "start_time": "2022-05-25T12:37:33.771Z"
   },
   {
    "duration": 258,
    "start_time": "2022-05-25T12:37:33.919Z"
   },
   {
    "duration": 210,
    "start_time": "2022-05-25T12:37:34.179Z"
   },
   {
    "duration": 215,
    "start_time": "2022-05-25T12:37:34.391Z"
   },
   {
    "duration": 92,
    "start_time": "2022-05-25T12:37:34.607Z"
   },
   {
    "duration": 200,
    "start_time": "2022-05-25T12:37:34.700Z"
   },
   {
    "duration": 174,
    "start_time": "2022-05-25T12:37:34.901Z"
   },
   {
    "duration": 167,
    "start_time": "2022-05-25T12:37:35.077Z"
   },
   {
    "duration": 149,
    "start_time": "2022-05-25T12:41:39.692Z"
   },
   {
    "duration": 1198,
    "start_time": "2022-05-25T12:42:06.228Z"
   },
   {
    "duration": 43,
    "start_time": "2022-05-25T12:42:07.428Z"
   },
   {
    "duration": 31,
    "start_time": "2022-05-25T12:42:07.474Z"
   },
   {
    "duration": 106,
    "start_time": "2022-05-25T12:42:07.508Z"
   },
   {
    "duration": 12,
    "start_time": "2022-05-25T12:42:07.616Z"
   },
   {
    "duration": 7,
    "start_time": "2022-05-25T12:42:07.630Z"
   },
   {
    "duration": 10,
    "start_time": "2022-05-25T12:42:07.639Z"
   },
   {
    "duration": 8,
    "start_time": "2022-05-25T12:42:07.651Z"
   },
   {
    "duration": 33,
    "start_time": "2022-05-25T12:42:07.661Z"
   },
   {
    "duration": 5,
    "start_time": "2022-05-25T12:42:07.697Z"
   },
   {
    "duration": 10,
    "start_time": "2022-05-25T12:42:07.704Z"
   },
   {
    "duration": 6,
    "start_time": "2022-05-25T12:42:07.716Z"
   },
   {
    "duration": 30,
    "start_time": "2022-05-25T12:42:07.724Z"
   },
   {
    "duration": 6,
    "start_time": "2022-05-25T12:42:07.756Z"
   },
   {
    "duration": 58,
    "start_time": "2022-05-25T12:42:07.763Z"
   },
   {
    "duration": 6,
    "start_time": "2022-05-25T12:42:07.823Z"
   },
   {
    "duration": 11,
    "start_time": "2022-05-25T12:42:07.830Z"
   },
   {
    "duration": 11,
    "start_time": "2022-05-25T12:42:07.843Z"
   },
   {
    "duration": 7,
    "start_time": "2022-05-25T12:42:07.856Z"
   },
   {
    "duration": 37,
    "start_time": "2022-05-25T12:42:07.864Z"
   },
   {
    "duration": 10,
    "start_time": "2022-05-25T12:42:07.903Z"
   },
   {
    "duration": 15,
    "start_time": "2022-05-25T12:42:07.915Z"
   },
   {
    "duration": 6,
    "start_time": "2022-05-25T12:42:07.932Z"
   },
   {
    "duration": 9,
    "start_time": "2022-05-25T12:42:07.939Z"
   },
   {
    "duration": 7,
    "start_time": "2022-05-25T12:42:07.950Z"
   },
   {
    "duration": 38,
    "start_time": "2022-05-25T12:42:07.958Z"
   },
   {
    "duration": 5,
    "start_time": "2022-05-25T12:42:07.997Z"
   },
   {
    "duration": 26,
    "start_time": "2022-05-25T12:42:08.005Z"
   },
   {
    "duration": 15,
    "start_time": "2022-05-25T12:42:08.032Z"
   },
   {
    "duration": 12,
    "start_time": "2022-05-25T12:42:08.049Z"
   },
   {
    "duration": 21,
    "start_time": "2022-05-25T12:42:08.095Z"
   },
   {
    "duration": 3,
    "start_time": "2022-05-25T12:42:08.117Z"
   },
   {
    "duration": 391,
    "start_time": "2022-05-25T12:42:08.122Z"
   },
   {
    "duration": 14,
    "start_time": "2022-05-25T12:42:08.514Z"
   },
   {
    "duration": 9,
    "start_time": "2022-05-25T12:42:08.529Z"
   },
   {
    "duration": 159,
    "start_time": "2022-05-25T12:42:08.540Z"
   },
   {
    "duration": 214,
    "start_time": "2022-05-25T12:42:08.701Z"
   },
   {
    "duration": 10,
    "start_time": "2022-05-25T12:42:08.917Z"
   },
   {
    "duration": 135,
    "start_time": "2022-05-25T12:42:08.928Z"
   },
   {
    "duration": 257,
    "start_time": "2022-05-25T12:42:09.065Z"
   },
   {
    "duration": 9,
    "start_time": "2022-05-25T12:42:09.324Z"
   },
   {
    "duration": 117,
    "start_time": "2022-05-25T12:42:09.334Z"
   },
   {
    "duration": 173,
    "start_time": "2022-05-25T12:42:09.452Z"
   },
   {
    "duration": 9,
    "start_time": "2022-05-25T12:42:09.626Z"
   },
   {
    "duration": 125,
    "start_time": "2022-05-25T12:42:09.637Z"
   },
   {
    "duration": 261,
    "start_time": "2022-05-25T12:42:09.764Z"
   },
   {
    "duration": 13,
    "start_time": "2022-05-25T12:42:10.027Z"
   },
   {
    "duration": 109,
    "start_time": "2022-05-25T12:42:10.041Z"
   },
   {
    "duration": 258,
    "start_time": "2022-05-25T12:42:10.152Z"
   },
   {
    "duration": 226,
    "start_time": "2022-05-25T12:42:10.412Z"
   },
   {
    "duration": 213,
    "start_time": "2022-05-25T12:42:10.639Z"
   },
   {
    "duration": 110,
    "start_time": "2022-05-25T12:42:10.854Z"
   },
   {
    "duration": 42087,
    "start_time": "2022-05-25T12:42:10.966Z"
   },
   {
    "duration": 192,
    "start_time": "2022-05-25T12:42:53.054Z"
   },
   {
    "duration": 190,
    "start_time": "2022-05-25T12:42:53.247Z"
   },
   {
    "duration": 1194,
    "start_time": "2022-05-25T12:46:39.416Z"
   },
   {
    "duration": 44,
    "start_time": "2022-05-25T12:46:40.612Z"
   },
   {
    "duration": 16,
    "start_time": "2022-05-25T12:46:40.658Z"
   },
   {
    "duration": 84,
    "start_time": "2022-05-25T12:46:40.676Z"
   },
   {
    "duration": 10,
    "start_time": "2022-05-25T12:46:40.762Z"
   },
   {
    "duration": 23,
    "start_time": "2022-05-25T12:46:40.773Z"
   },
   {
    "duration": 8,
    "start_time": "2022-05-25T12:46:40.797Z"
   },
   {
    "duration": 11,
    "start_time": "2022-05-25T12:46:40.806Z"
   },
   {
    "duration": 7,
    "start_time": "2022-05-25T12:46:40.818Z"
   },
   {
    "duration": 6,
    "start_time": "2022-05-25T12:46:40.827Z"
   },
   {
    "duration": 12,
    "start_time": "2022-05-25T12:46:40.834Z"
   },
   {
    "duration": 5,
    "start_time": "2022-05-25T12:46:40.848Z"
   },
   {
    "duration": 59,
    "start_time": "2022-05-25T12:46:40.855Z"
   },
   {
    "duration": 5,
    "start_time": "2022-05-25T12:46:40.916Z"
   },
   {
    "duration": 33,
    "start_time": "2022-05-25T12:46:40.923Z"
   },
   {
    "duration": 6,
    "start_time": "2022-05-25T12:46:40.957Z"
   },
   {
    "duration": 9,
    "start_time": "2022-05-25T12:46:40.964Z"
   },
   {
    "duration": 9,
    "start_time": "2022-05-25T12:46:40.995Z"
   },
   {
    "duration": 6,
    "start_time": "2022-05-25T12:46:41.006Z"
   },
   {
    "duration": 7,
    "start_time": "2022-05-25T12:46:41.013Z"
   },
   {
    "duration": 6,
    "start_time": "2022-05-25T12:46:41.022Z"
   },
   {
    "duration": 14,
    "start_time": "2022-05-25T12:46:41.029Z"
   },
   {
    "duration": 6,
    "start_time": "2022-05-25T12:46:41.044Z"
   },
   {
    "duration": 44,
    "start_time": "2022-05-25T12:46:41.052Z"
   },
   {
    "duration": 8,
    "start_time": "2022-05-25T12:46:41.097Z"
   },
   {
    "duration": 9,
    "start_time": "2022-05-25T12:46:41.106Z"
   },
   {
    "duration": 5,
    "start_time": "2022-05-25T12:46:41.116Z"
   },
   {
    "duration": 28,
    "start_time": "2022-05-25T12:46:41.124Z"
   },
   {
    "duration": 45,
    "start_time": "2022-05-25T12:46:41.153Z"
   },
   {
    "duration": 12,
    "start_time": "2022-05-25T12:46:41.200Z"
   },
   {
    "duration": 20,
    "start_time": "2022-05-25T12:46:41.213Z"
   },
   {
    "duration": 4,
    "start_time": "2022-05-25T12:46:41.234Z"
   },
   {
    "duration": 416,
    "start_time": "2022-05-25T12:46:41.239Z"
   },
   {
    "duration": 14,
    "start_time": "2022-05-25T12:46:41.657Z"
   },
   {
    "duration": 8,
    "start_time": "2022-05-25T12:46:41.672Z"
   },
   {
    "duration": 142,
    "start_time": "2022-05-25T12:46:41.682Z"
   },
   {
    "duration": 206,
    "start_time": "2022-05-25T12:46:41.825Z"
   },
   {
    "duration": 8,
    "start_time": "2022-05-25T12:46:42.033Z"
   },
   {
    "duration": 128,
    "start_time": "2022-05-25T12:46:42.042Z"
   },
   {
    "duration": 269,
    "start_time": "2022-05-25T12:46:42.172Z"
   },
   {
    "duration": 8,
    "start_time": "2022-05-25T12:46:42.443Z"
   },
   {
    "duration": 108,
    "start_time": "2022-05-25T12:46:42.453Z"
   },
   {
    "duration": 161,
    "start_time": "2022-05-25T12:46:42.562Z"
   },
   {
    "duration": 9,
    "start_time": "2022-05-25T12:46:42.726Z"
   },
   {
    "duration": 119,
    "start_time": "2022-05-25T12:46:42.737Z"
   },
   {
    "duration": 232,
    "start_time": "2022-05-25T12:46:42.858Z"
   },
   {
    "duration": 12,
    "start_time": "2022-05-25T12:46:43.095Z"
   },
   {
    "duration": 113,
    "start_time": "2022-05-25T12:46:43.109Z"
   },
   {
    "duration": 204,
    "start_time": "2022-05-25T12:46:43.224Z"
   },
   {
    "duration": 184,
    "start_time": "2022-05-25T12:46:43.430Z"
   },
   {
    "duration": 192,
    "start_time": "2022-05-25T12:46:43.616Z"
   },
   {
    "duration": 98,
    "start_time": "2022-05-25T12:46:43.810Z"
   },
   {
    "duration": 176,
    "start_time": "2022-05-25T12:47:24.675Z"
   },
   {
    "duration": 173,
    "start_time": "2022-05-25T12:47:24.853Z"
   },
   {
    "duration": 41433,
    "start_time": "2022-05-25T12:47:25.029Z"
   },
   {
    "duration": 42674,
    "start_time": "2022-05-25T12:51:02.527Z"
   },
   {
    "duration": 4,
    "start_time": "2022-05-25T12:54:01.219Z"
   },
   {
    "duration": 24,
    "start_time": "2022-05-25T12:54:04.954Z"
   },
   {
    "duration": 1302,
    "start_time": "2022-05-25T12:54:16.009Z"
   },
   {
    "duration": 46,
    "start_time": "2022-05-25T12:54:17.314Z"
   },
   {
    "duration": 39,
    "start_time": "2022-05-25T12:54:17.361Z"
   },
   {
    "duration": 118,
    "start_time": "2022-05-25T12:54:17.403Z"
   },
   {
    "duration": 12,
    "start_time": "2022-05-25T12:54:17.524Z"
   },
   {
    "duration": 11,
    "start_time": "2022-05-25T12:54:17.538Z"
   },
   {
    "duration": 14,
    "start_time": "2022-05-25T12:54:17.551Z"
   },
   {
    "duration": 14,
    "start_time": "2022-05-25T12:54:17.567Z"
   },
   {
    "duration": 7,
    "start_time": "2022-05-25T12:54:17.595Z"
   },
   {
    "duration": 5,
    "start_time": "2022-05-25T12:54:17.605Z"
   },
   {
    "duration": 17,
    "start_time": "2022-05-25T12:54:17.612Z"
   },
   {
    "duration": 8,
    "start_time": "2022-05-25T12:54:17.630Z"
   },
   {
    "duration": 31,
    "start_time": "2022-05-25T12:54:17.639Z"
   },
   {
    "duration": 28,
    "start_time": "2022-05-25T12:54:17.671Z"
   },
   {
    "duration": 38,
    "start_time": "2022-05-25T12:54:17.701Z"
   },
   {
    "duration": 7,
    "start_time": "2022-05-25T12:54:17.741Z"
   },
   {
    "duration": 10,
    "start_time": "2022-05-25T12:54:17.749Z"
   },
   {
    "duration": 34,
    "start_time": "2022-05-25T12:54:17.761Z"
   },
   {
    "duration": 8,
    "start_time": "2022-05-25T12:54:17.797Z"
   },
   {
    "duration": 8,
    "start_time": "2022-05-25T12:54:17.807Z"
   },
   {
    "duration": 8,
    "start_time": "2022-05-25T12:54:17.817Z"
   },
   {
    "duration": 11,
    "start_time": "2022-05-25T12:54:17.827Z"
   },
   {
    "duration": 7,
    "start_time": "2022-05-25T12:54:17.840Z"
   },
   {
    "duration": 48,
    "start_time": "2022-05-25T12:54:17.849Z"
   },
   {
    "duration": 9,
    "start_time": "2022-05-25T12:54:17.899Z"
   },
   {
    "duration": 8,
    "start_time": "2022-05-25T12:54:17.909Z"
   },
   {
    "duration": 6,
    "start_time": "2022-05-25T12:54:17.919Z"
   },
   {
    "duration": 26,
    "start_time": "2022-05-25T12:54:17.929Z"
   },
   {
    "duration": 47,
    "start_time": "2022-05-25T12:54:17.957Z"
   },
   {
    "duration": 22,
    "start_time": "2022-05-25T12:54:18.005Z"
   },
   {
    "duration": 22,
    "start_time": "2022-05-25T12:54:18.029Z"
   },
   {
    "duration": 4,
    "start_time": "2022-05-25T12:54:18.053Z"
   },
   {
    "duration": 440,
    "start_time": "2022-05-25T12:54:18.058Z"
   },
   {
    "duration": 16,
    "start_time": "2022-05-25T12:54:18.499Z"
   },
   {
    "duration": 8,
    "start_time": "2022-05-25T12:54:18.517Z"
   },
   {
    "duration": 151,
    "start_time": "2022-05-25T12:54:18.527Z"
   },
   {
    "duration": 274,
    "start_time": "2022-05-25T12:54:18.680Z"
   },
   {
    "duration": 9,
    "start_time": "2022-05-25T12:54:18.956Z"
   },
   {
    "duration": 170,
    "start_time": "2022-05-25T12:54:18.967Z"
   },
   {
    "duration": 333,
    "start_time": "2022-05-25T12:54:19.139Z"
   },
   {
    "duration": 9,
    "start_time": "2022-05-25T12:54:19.474Z"
   },
   {
    "duration": 122,
    "start_time": "2022-05-25T12:54:19.485Z"
   },
   {
    "duration": 163,
    "start_time": "2022-05-25T12:54:19.609Z"
   },
   {
    "duration": 10,
    "start_time": "2022-05-25T12:54:19.774Z"
   },
   {
    "duration": 122,
    "start_time": "2022-05-25T12:54:19.795Z"
   },
   {
    "duration": 258,
    "start_time": "2022-05-25T12:54:19.919Z"
   },
   {
    "duration": 20,
    "start_time": "2022-05-25T12:54:20.179Z"
   },
   {
    "duration": 132,
    "start_time": "2022-05-25T12:54:20.201Z"
   },
   {
    "duration": 221,
    "start_time": "2022-05-25T12:54:20.335Z"
   },
   {
    "duration": 244,
    "start_time": "2022-05-25T12:54:20.558Z"
   },
   {
    "duration": 204,
    "start_time": "2022-05-25T12:54:20.804Z"
   },
   {
    "duration": 107,
    "start_time": "2022-05-25T12:54:21.010Z"
   },
   {
    "duration": 42165,
    "start_time": "2022-05-25T12:54:21.119Z"
   },
   {
    "duration": 107,
    "start_time": "2022-05-25T13:16:27.559Z"
   },
   {
    "duration": 1277,
    "start_time": "2022-05-25T13:17:13.619Z"
   },
   {
    "duration": 37,
    "start_time": "2022-05-25T13:17:14.898Z"
   },
   {
    "duration": 16,
    "start_time": "2022-05-25T13:17:14.937Z"
   },
   {
    "duration": 99,
    "start_time": "2022-05-25T13:17:14.955Z"
   },
   {
    "duration": 10,
    "start_time": "2022-05-25T13:17:15.056Z"
   },
   {
    "duration": 21,
    "start_time": "2022-05-25T13:17:15.067Z"
   },
   {
    "duration": 31,
    "start_time": "2022-05-25T13:17:15.090Z"
   },
   {
    "duration": 11,
    "start_time": "2022-05-25T13:17:15.122Z"
   },
   {
    "duration": 26,
    "start_time": "2022-05-25T13:17:15.135Z"
   },
   {
    "duration": 25,
    "start_time": "2022-05-25T13:17:15.163Z"
   },
   {
    "duration": 17,
    "start_time": "2022-05-25T13:17:15.189Z"
   },
   {
    "duration": 21,
    "start_time": "2022-05-25T13:17:15.208Z"
   },
   {
    "duration": 39,
    "start_time": "2022-05-25T13:17:15.231Z"
   },
   {
    "duration": 8,
    "start_time": "2022-05-25T13:17:15.272Z"
   },
   {
    "duration": 48,
    "start_time": "2022-05-25T13:17:15.281Z"
   },
   {
    "duration": 7,
    "start_time": "2022-05-25T13:17:15.330Z"
   },
   {
    "duration": 10,
    "start_time": "2022-05-25T13:17:15.339Z"
   },
   {
    "duration": 10,
    "start_time": "2022-05-25T13:17:15.351Z"
   },
   {
    "duration": 36,
    "start_time": "2022-05-25T13:17:15.363Z"
   },
   {
    "duration": 9,
    "start_time": "2022-05-25T13:17:15.400Z"
   },
   {
    "duration": 9,
    "start_time": "2022-05-25T13:17:15.411Z"
   },
   {
    "duration": 15,
    "start_time": "2022-05-25T13:17:15.421Z"
   },
   {
    "duration": 7,
    "start_time": "2022-05-25T13:17:15.438Z"
   },
   {
    "duration": 15,
    "start_time": "2022-05-25T13:17:15.447Z"
   },
   {
    "duration": 13,
    "start_time": "2022-05-25T13:17:15.495Z"
   },
   {
    "duration": 19,
    "start_time": "2022-05-25T13:17:15.510Z"
   },
   {
    "duration": 9,
    "start_time": "2022-05-25T13:17:15.531Z"
   },
   {
    "duration": 51,
    "start_time": "2022-05-25T13:17:15.545Z"
   },
   {
    "duration": 17,
    "start_time": "2022-05-25T13:17:15.598Z"
   },
   {
    "duration": 13,
    "start_time": "2022-05-25T13:17:15.617Z"
   },
   {
    "duration": 24,
    "start_time": "2022-05-25T13:17:15.632Z"
   },
   {
    "duration": 3,
    "start_time": "2022-05-25T13:17:15.658Z"
   },
   {
    "duration": 422,
    "start_time": "2022-05-25T13:17:15.694Z"
   },
   {
    "duration": 15,
    "start_time": "2022-05-25T13:17:16.118Z"
   },
   {
    "duration": 10,
    "start_time": "2022-05-25T13:17:16.134Z"
   },
   {
    "duration": 173,
    "start_time": "2022-05-25T13:17:16.145Z"
   },
   {
    "duration": 236,
    "start_time": "2022-05-25T13:17:16.319Z"
   },
   {
    "duration": 10,
    "start_time": "2022-05-25T13:17:16.557Z"
   },
   {
    "duration": 156,
    "start_time": "2022-05-25T13:17:16.569Z"
   },
   {
    "duration": 291,
    "start_time": "2022-05-25T13:17:16.726Z"
   },
   {
    "duration": 9,
    "start_time": "2022-05-25T13:17:17.018Z"
   },
   {
    "duration": 133,
    "start_time": "2022-05-25T13:17:17.029Z"
   },
   {
    "duration": 189,
    "start_time": "2022-05-25T13:17:17.163Z"
   },
   {
    "duration": 12,
    "start_time": "2022-05-25T13:17:17.354Z"
   },
   {
    "duration": 186,
    "start_time": "2022-05-25T13:17:17.368Z"
   },
   {
    "duration": 270,
    "start_time": "2022-05-25T13:17:17.557Z"
   },
   {
    "duration": 14,
    "start_time": "2022-05-25T13:17:17.829Z"
   },
   {
    "duration": 119,
    "start_time": "2022-05-25T13:17:17.844Z"
   },
   {
    "duration": 234,
    "start_time": "2022-05-25T13:17:17.965Z"
   },
   {
    "duration": 235,
    "start_time": "2022-05-25T13:17:18.201Z"
   },
   {
    "duration": 224,
    "start_time": "2022-05-25T13:17:18.438Z"
   },
   {
    "duration": 107,
    "start_time": "2022-05-25T13:17:18.664Z"
   },
   {
    "duration": 45163,
    "start_time": "2022-05-25T13:17:18.773Z"
   },
   {
    "duration": 6,
    "start_time": "2022-05-25T13:18:03.937Z"
   },
   {
    "duration": 151,
    "start_time": "2022-05-25T13:18:32.389Z"
   },
   {
    "duration": 276,
    "start_time": "2022-05-25T13:18:51.307Z"
   },
   {
    "duration": 97,
    "start_time": "2022-05-25T13:19:39.404Z"
   },
   {
    "duration": 9,
    "start_time": "2022-05-25T13:20:07.806Z"
   },
   {
    "duration": 10,
    "start_time": "2022-05-25T13:21:30.732Z"
   },
   {
    "duration": 117,
    "start_time": "2022-05-25T13:21:39.015Z"
   },
   {
    "duration": 5,
    "start_time": "2022-05-25T13:25:15.896Z"
   },
   {
    "duration": 158383,
    "start_time": "2022-05-25T13:25:53.502Z"
   },
   {
    "duration": 12,
    "start_time": "2022-05-25T13:28:31.887Z"
   },
   {
    "duration": 385,
    "start_time": "2022-05-25T13:29:56.515Z"
   },
   {
    "duration": 5,
    "start_time": "2022-05-25T13:30:23.335Z"
   },
   {
    "duration": 1273,
    "start_time": "2022-05-25T13:32:30.050Z"
   },
   {
    "duration": 36,
    "start_time": "2022-05-25T13:32:31.325Z"
   },
   {
    "duration": 17,
    "start_time": "2022-05-25T13:32:31.362Z"
   },
   {
    "duration": 82,
    "start_time": "2022-05-25T13:32:31.395Z"
   },
   {
    "duration": 30,
    "start_time": "2022-05-25T13:32:31.479Z"
   },
   {
    "duration": 8,
    "start_time": "2022-05-25T13:32:31.511Z"
   },
   {
    "duration": 16,
    "start_time": "2022-05-25T13:32:31.521Z"
   },
   {
    "duration": 14,
    "start_time": "2022-05-25T13:32:31.539Z"
   },
   {
    "duration": 7,
    "start_time": "2022-05-25T13:32:31.555Z"
   },
   {
    "duration": 8,
    "start_time": "2022-05-25T13:32:31.565Z"
   },
   {
    "duration": 31,
    "start_time": "2022-05-25T13:32:31.575Z"
   },
   {
    "duration": 7,
    "start_time": "2022-05-25T13:32:31.608Z"
   },
   {
    "duration": 46,
    "start_time": "2022-05-25T13:32:31.616Z"
   },
   {
    "duration": 8,
    "start_time": "2022-05-25T13:32:31.664Z"
   },
   {
    "duration": 47,
    "start_time": "2022-05-25T13:32:31.673Z"
   },
   {
    "duration": 7,
    "start_time": "2022-05-25T13:32:31.722Z"
   },
   {
    "duration": 13,
    "start_time": "2022-05-25T13:32:31.731Z"
   },
   {
    "duration": 19,
    "start_time": "2022-05-25T13:32:31.746Z"
   },
   {
    "duration": 12,
    "start_time": "2022-05-25T13:32:31.767Z"
   },
   {
    "duration": 12,
    "start_time": "2022-05-25T13:32:31.796Z"
   },
   {
    "duration": 12,
    "start_time": "2022-05-25T13:32:31.812Z"
   },
   {
    "duration": 18,
    "start_time": "2022-05-25T13:32:31.825Z"
   },
   {
    "duration": 6,
    "start_time": "2022-05-25T13:32:31.845Z"
   },
   {
    "duration": 16,
    "start_time": "2022-05-25T13:32:31.853Z"
   },
   {
    "duration": 26,
    "start_time": "2022-05-25T13:32:31.871Z"
   },
   {
    "duration": 16,
    "start_time": "2022-05-25T13:32:31.905Z"
   },
   {
    "duration": 10,
    "start_time": "2022-05-25T13:32:31.922Z"
   },
   {
    "duration": 41,
    "start_time": "2022-05-25T13:32:31.937Z"
   },
   {
    "duration": 28,
    "start_time": "2022-05-25T13:32:31.980Z"
   },
   {
    "duration": 15,
    "start_time": "2022-05-25T13:32:32.013Z"
   },
   {
    "duration": 27,
    "start_time": "2022-05-25T13:32:32.030Z"
   },
   {
    "duration": 3,
    "start_time": "2022-05-25T13:32:32.059Z"
   },
   {
    "duration": 500,
    "start_time": "2022-05-25T13:32:32.064Z"
   },
   {
    "duration": 17,
    "start_time": "2022-05-25T13:32:32.566Z"
   },
   {
    "duration": 26,
    "start_time": "2022-05-25T13:32:32.584Z"
   },
   {
    "duration": 147,
    "start_time": "2022-05-25T13:32:32.611Z"
   },
   {
    "duration": 232,
    "start_time": "2022-05-25T13:32:32.760Z"
   },
   {
    "duration": 18,
    "start_time": "2022-05-25T13:32:32.993Z"
   },
   {
    "duration": 140,
    "start_time": "2022-05-25T13:32:33.013Z"
   },
   {
    "duration": 280,
    "start_time": "2022-05-25T13:32:33.155Z"
   },
   {
    "duration": 8,
    "start_time": "2022-05-25T13:32:33.437Z"
   },
   {
    "duration": 134,
    "start_time": "2022-05-25T13:32:33.447Z"
   },
   {
    "duration": 175,
    "start_time": "2022-05-25T13:32:33.583Z"
   },
   {
    "duration": 10,
    "start_time": "2022-05-25T13:32:33.760Z"
   },
   {
    "duration": 139,
    "start_time": "2022-05-25T13:32:33.772Z"
   },
   {
    "duration": 270,
    "start_time": "2022-05-25T13:32:33.913Z"
   },
   {
    "duration": 24,
    "start_time": "2022-05-25T13:32:34.185Z"
   },
   {
    "duration": 115,
    "start_time": "2022-05-25T13:32:34.211Z"
   },
   {
    "duration": 252,
    "start_time": "2022-05-25T13:32:34.328Z"
   },
   {
    "duration": 226,
    "start_time": "2022-05-25T13:32:34.582Z"
   },
   {
    "duration": 219,
    "start_time": "2022-05-25T13:32:34.810Z"
   },
   {
    "duration": 107,
    "start_time": "2022-05-25T13:32:35.031Z"
   },
   {
    "duration": 45769,
    "start_time": "2022-05-25T13:32:35.140Z"
   },
   {
    "duration": 5,
    "start_time": "2022-05-25T13:33:20.911Z"
   },
   {
    "duration": 400,
    "start_time": "2022-05-25T13:33:20.917Z"
   },
   {
    "duration": 6,
    "start_time": "2022-05-25T13:33:21.319Z"
   },
   {
    "duration": 155816,
    "start_time": "2022-05-25T13:33:21.327Z"
   },
   {
    "duration": 5,
    "start_time": "2022-05-25T13:35:57.145Z"
   },
   {
    "duration": 152,
    "start_time": "2022-05-25T13:35:57.153Z"
   },
   {
    "duration": 100,
    "start_time": "2022-05-25T13:53:49.204Z"
   },
   {
    "duration": 286,
    "start_time": "2022-05-25T13:54:11.423Z"
   },
   {
    "duration": 92,
    "start_time": "2022-05-25T14:00:26.242Z"
   },
   {
    "duration": 3,
    "start_time": "2022-05-25T14:05:03.157Z"
   },
   {
    "duration": 3,
    "start_time": "2022-05-25T14:05:41.699Z"
   },
   {
    "duration": 200,
    "start_time": "2022-05-25T14:09:01.711Z"
   },
   {
    "duration": 88,
    "start_time": "2022-05-25T14:09:52.619Z"
   },
   {
    "duration": 1227,
    "start_time": "2022-05-25T14:10:36.347Z"
   },
   {
    "duration": 37,
    "start_time": "2022-05-25T14:10:37.576Z"
   },
   {
    "duration": 16,
    "start_time": "2022-05-25T14:10:37.615Z"
   },
   {
    "duration": 92,
    "start_time": "2022-05-25T14:10:37.633Z"
   },
   {
    "duration": 10,
    "start_time": "2022-05-25T14:10:37.726Z"
   },
   {
    "duration": 9,
    "start_time": "2022-05-25T14:10:37.737Z"
   },
   {
    "duration": 15,
    "start_time": "2022-05-25T14:10:37.748Z"
   },
   {
    "duration": 9,
    "start_time": "2022-05-25T14:10:37.765Z"
   },
   {
    "duration": 25,
    "start_time": "2022-05-25T14:10:37.775Z"
   },
   {
    "duration": 5,
    "start_time": "2022-05-25T14:10:37.803Z"
   },
   {
    "duration": 16,
    "start_time": "2022-05-25T14:10:37.810Z"
   },
   {
    "duration": 8,
    "start_time": "2022-05-25T14:10:37.828Z"
   },
   {
    "duration": 38,
    "start_time": "2022-05-25T14:10:37.838Z"
   },
   {
    "duration": 21,
    "start_time": "2022-05-25T14:10:37.877Z"
   },
   {
    "duration": 30,
    "start_time": "2022-05-25T14:10:37.899Z"
   },
   {
    "duration": 4,
    "start_time": "2022-05-25T14:10:37.931Z"
   },
   {
    "duration": 7,
    "start_time": "2022-05-25T14:10:37.937Z"
   },
   {
    "duration": 8,
    "start_time": "2022-05-25T14:10:37.946Z"
   },
   {
    "duration": 5,
    "start_time": "2022-05-25T14:10:37.956Z"
   },
   {
    "duration": 7,
    "start_time": "2022-05-25T14:10:37.995Z"
   },
   {
    "duration": 7,
    "start_time": "2022-05-25T14:10:38.004Z"
   },
   {
    "duration": 17,
    "start_time": "2022-05-25T14:10:38.012Z"
   },
   {
    "duration": 6,
    "start_time": "2022-05-25T14:10:38.030Z"
   },
   {
    "duration": 8,
    "start_time": "2022-05-25T14:10:38.037Z"
   },
   {
    "duration": 7,
    "start_time": "2022-05-25T14:10:38.046Z"
   },
   {
    "duration": 11,
    "start_time": "2022-05-25T14:10:38.054Z"
   },
   {
    "duration": 5,
    "start_time": "2022-05-25T14:10:38.095Z"
   },
   {
    "duration": 30,
    "start_time": "2022-05-25T14:10:38.104Z"
   },
   {
    "duration": 13,
    "start_time": "2022-05-25T14:10:38.135Z"
   },
   {
    "duration": 11,
    "start_time": "2022-05-25T14:10:38.150Z"
   },
   {
    "duration": 48,
    "start_time": "2022-05-25T14:10:38.163Z"
   },
   {
    "duration": 3,
    "start_time": "2022-05-25T14:10:38.214Z"
   },
   {
    "duration": 389,
    "start_time": "2022-05-25T14:10:38.219Z"
   },
   {
    "duration": 14,
    "start_time": "2022-05-25T14:10:38.609Z"
   },
   {
    "duration": 8,
    "start_time": "2022-05-25T14:10:38.624Z"
   },
   {
    "duration": 145,
    "start_time": "2022-05-25T14:10:38.633Z"
   },
   {
    "duration": 209,
    "start_time": "2022-05-25T14:10:38.779Z"
   },
   {
    "duration": 10,
    "start_time": "2022-05-25T14:10:38.990Z"
   },
   {
    "duration": 134,
    "start_time": "2022-05-25T14:10:39.002Z"
   },
   {
    "duration": 261,
    "start_time": "2022-05-25T14:10:39.137Z"
   },
   {
    "duration": 8,
    "start_time": "2022-05-25T14:10:39.400Z"
   },
   {
    "duration": 118,
    "start_time": "2022-05-25T14:10:39.410Z"
   },
   {
    "duration": 149,
    "start_time": "2022-05-25T14:10:39.530Z"
   },
   {
    "duration": 15,
    "start_time": "2022-05-25T14:10:39.681Z"
   },
   {
    "duration": 136,
    "start_time": "2022-05-25T14:10:39.699Z"
   },
   {
    "duration": 245,
    "start_time": "2022-05-25T14:10:39.837Z"
   },
   {
    "duration": 19,
    "start_time": "2022-05-25T14:10:40.084Z"
   },
   {
    "duration": 102,
    "start_time": "2022-05-25T14:10:40.105Z"
   },
   {
    "duration": 214,
    "start_time": "2022-05-25T14:10:40.209Z"
   },
   {
    "duration": 194,
    "start_time": "2022-05-25T14:10:40.425Z"
   },
   {
    "duration": 201,
    "start_time": "2022-05-25T14:10:40.621Z"
   },
   {
    "duration": 96,
    "start_time": "2022-05-25T14:10:40.823Z"
   },
   {
    "duration": 2,
    "start_time": "2022-05-25T14:10:40.921Z"
   },
   {
    "duration": 200,
    "start_time": "2022-05-25T14:10:40.925Z"
   },
   {
    "duration": 0,
    "start_time": "2022-05-25T14:10:41.127Z"
   },
   {
    "duration": 0,
    "start_time": "2022-05-25T14:10:41.128Z"
   },
   {
    "duration": 0,
    "start_time": "2022-05-25T14:10:41.142Z"
   },
   {
    "duration": 0,
    "start_time": "2022-05-25T14:10:41.143Z"
   },
   {
    "duration": 0,
    "start_time": "2022-05-25T14:10:41.144Z"
   },
   {
    "duration": 0,
    "start_time": "2022-05-25T14:10:41.146Z"
   },
   {
    "duration": 0,
    "start_time": "2022-05-25T14:10:41.147Z"
   },
   {
    "duration": 23,
    "start_time": "2022-05-25T14:11:47.865Z"
   },
   {
    "duration": 3,
    "start_time": "2022-05-25T14:12:02.226Z"
   },
   {
    "duration": 289,
    "start_time": "2022-05-25T14:12:06.033Z"
   },
   {
    "duration": 96,
    "start_time": "2022-05-25T14:13:03.829Z"
   },
   {
    "duration": 182,
    "start_time": "2022-05-25T14:13:49.129Z"
   },
   {
    "duration": 1206,
    "start_time": "2022-05-25T14:15:03.484Z"
   },
   {
    "duration": 35,
    "start_time": "2022-05-25T14:15:04.692Z"
   },
   {
    "duration": 14,
    "start_time": "2022-05-25T14:15:04.728Z"
   },
   {
    "duration": 88,
    "start_time": "2022-05-25T14:15:04.744Z"
   },
   {
    "duration": 10,
    "start_time": "2022-05-25T14:15:04.834Z"
   },
   {
    "duration": 12,
    "start_time": "2022-05-25T14:15:04.845Z"
   },
   {
    "duration": 13,
    "start_time": "2022-05-25T14:15:04.859Z"
   },
   {
    "duration": 21,
    "start_time": "2022-05-25T14:15:04.874Z"
   },
   {
    "duration": 8,
    "start_time": "2022-05-25T14:15:04.897Z"
   },
   {
    "duration": 6,
    "start_time": "2022-05-25T14:15:04.908Z"
   },
   {
    "duration": 20,
    "start_time": "2022-05-25T14:15:04.915Z"
   },
   {
    "duration": 13,
    "start_time": "2022-05-25T14:15:04.937Z"
   },
   {
    "duration": 45,
    "start_time": "2022-05-25T14:15:04.951Z"
   },
   {
    "duration": 6,
    "start_time": "2022-05-25T14:15:04.998Z"
   },
   {
    "duration": 36,
    "start_time": "2022-05-25T14:15:05.005Z"
   },
   {
    "duration": 5,
    "start_time": "2022-05-25T14:15:05.043Z"
   },
   {
    "duration": 17,
    "start_time": "2022-05-25T14:15:05.050Z"
   },
   {
    "duration": 26,
    "start_time": "2022-05-25T14:15:05.069Z"
   },
   {
    "duration": 20,
    "start_time": "2022-05-25T14:15:05.097Z"
   },
   {
    "duration": 7,
    "start_time": "2022-05-25T14:15:05.119Z"
   },
   {
    "duration": 7,
    "start_time": "2022-05-25T14:15:05.128Z"
   },
   {
    "duration": 12,
    "start_time": "2022-05-25T14:15:05.136Z"
   },
   {
    "duration": 5,
    "start_time": "2022-05-25T14:15:05.149Z"
   },
   {
    "duration": 7,
    "start_time": "2022-05-25T14:15:05.156Z"
   },
   {
    "duration": 6,
    "start_time": "2022-05-25T14:15:05.165Z"
   },
   {
    "duration": 32,
    "start_time": "2022-05-25T14:15:05.173Z"
   },
   {
    "duration": 7,
    "start_time": "2022-05-25T14:15:05.206Z"
   },
   {
    "duration": 27,
    "start_time": "2022-05-25T14:15:05.216Z"
   },
   {
    "duration": 13,
    "start_time": "2022-05-25T14:15:05.245Z"
   },
   {
    "duration": 37,
    "start_time": "2022-05-25T14:15:05.259Z"
   },
   {
    "duration": 21,
    "start_time": "2022-05-25T14:15:05.297Z"
   },
   {
    "duration": 3,
    "start_time": "2022-05-25T14:15:05.319Z"
   },
   {
    "duration": 417,
    "start_time": "2022-05-25T14:15:05.323Z"
   },
   {
    "duration": 16,
    "start_time": "2022-05-25T14:15:05.742Z"
   },
   {
    "duration": 8,
    "start_time": "2022-05-25T14:15:05.759Z"
   },
   {
    "duration": 149,
    "start_time": "2022-05-25T14:15:05.769Z"
   },
   {
    "duration": 232,
    "start_time": "2022-05-25T14:15:05.920Z"
   },
   {
    "duration": 10,
    "start_time": "2022-05-25T14:15:06.154Z"
   },
   {
    "duration": 143,
    "start_time": "2022-05-25T14:15:06.166Z"
   },
   {
    "duration": 266,
    "start_time": "2022-05-25T14:15:06.310Z"
   },
   {
    "duration": 17,
    "start_time": "2022-05-25T14:15:06.578Z"
   },
   {
    "duration": 116,
    "start_time": "2022-05-25T14:15:06.597Z"
   },
   {
    "duration": 169,
    "start_time": "2022-05-25T14:15:06.716Z"
   },
   {
    "duration": 12,
    "start_time": "2022-05-25T14:15:06.886Z"
   },
   {
    "duration": 140,
    "start_time": "2022-05-25T14:15:06.899Z"
   },
   {
    "duration": 255,
    "start_time": "2022-05-25T14:15:07.040Z"
   },
   {
    "duration": 15,
    "start_time": "2022-05-25T14:15:07.297Z"
   },
   {
    "duration": 133,
    "start_time": "2022-05-25T14:15:07.314Z"
   },
   {
    "duration": 271,
    "start_time": "2022-05-25T14:15:07.449Z"
   },
   {
    "duration": 192,
    "start_time": "2022-05-25T14:15:07.723Z"
   },
   {
    "duration": 196,
    "start_time": "2022-05-25T14:15:07.917Z"
   },
   {
    "duration": 102,
    "start_time": "2022-05-25T14:15:08.114Z"
   },
   {
    "duration": 40471,
    "start_time": "2022-05-25T14:15:08.218Z"
   },
   {
    "duration": 5,
    "start_time": "2022-05-25T14:15:48.694Z"
   },
   {
    "duration": 359,
    "start_time": "2022-05-25T14:15:48.700Z"
   },
   {
    "duration": 6,
    "start_time": "2022-05-25T14:15:49.060Z"
   },
   {
    "duration": 143712,
    "start_time": "2022-05-25T14:15:49.067Z"
   },
   {
    "duration": 7,
    "start_time": "2022-05-25T14:18:12.781Z"
   },
   {
    "duration": 265,
    "start_time": "2022-05-25T14:18:12.795Z"
   },
   {
    "duration": 87,
    "start_time": "2022-05-25T14:19:37.822Z"
   },
   {
    "duration": 38536,
    "start_time": "2022-05-25T14:19:45.097Z"
   },
   {
    "duration": 1119,
    "start_time": "2022-05-25T14:20:29.021Z"
   },
   {
    "duration": 5,
    "start_time": "2022-05-25T14:20:32.677Z"
   },
   {
    "duration": 9,
    "start_time": "2022-05-25T14:20:37.064Z"
   },
   {
    "duration": 37791,
    "start_time": "2022-05-25T14:21:31.409Z"
   },
   {
    "duration": 5,
    "start_time": "2022-05-25T14:23:04.202Z"
   },
   {
    "duration": 6,
    "start_time": "2022-05-25T14:23:27.437Z"
   },
   {
    "duration": 10,
    "start_time": "2022-05-25T14:29:31.923Z"
   },
   {
    "duration": 48,
    "start_time": "2022-05-25T14:32:37.933Z"
   },
   {
    "duration": 146751,
    "start_time": "2022-05-25T14:33:09.726Z"
   },
   {
    "duration": 260,
    "start_time": "2022-05-25T14:35:36.479Z"
   },
   {
    "duration": 5,
    "start_time": "2022-05-25T14:37:01.625Z"
   },
   {
    "duration": 5,
    "start_time": "2022-05-25T14:37:14.851Z"
   },
   {
    "duration": 5,
    "start_time": "2022-05-25T14:37:18.477Z"
   },
   {
    "duration": 5,
    "start_time": "2022-05-25T14:37:22.422Z"
   },
   {
    "duration": 269,
    "start_time": "2022-05-25T14:43:32.835Z"
   },
   {
    "duration": 260,
    "start_time": "2022-05-25T14:44:04.744Z"
   },
   {
    "duration": 19,
    "start_time": "2022-05-25T14:49:49.762Z"
   },
   {
    "duration": 345,
    "start_time": "2022-05-25T14:53:52.234Z"
   },
   {
    "duration": 5,
    "start_time": "2022-05-25T14:54:24.081Z"
   },
   {
    "duration": 384,
    "start_time": "2022-05-25T14:54:53.113Z"
   },
   {
    "duration": 460,
    "start_time": "2022-05-25T14:55:05.960Z"
   },
   {
    "duration": 5,
    "start_time": "2022-05-25T14:55:24.464Z"
   },
   {
    "duration": 306,
    "start_time": "2022-05-25T14:55:58.574Z"
   },
   {
    "duration": 6,
    "start_time": "2022-05-25T14:56:12.035Z"
   },
   {
    "duration": 9,
    "start_time": "2022-05-25T15:06:48.438Z"
   },
   {
    "duration": 4,
    "start_time": "2022-05-25T15:13:55.714Z"
   },
   {
    "duration": 26,
    "start_time": "2022-05-25T15:14:04.974Z"
   },
   {
    "duration": 27,
    "start_time": "2022-05-25T15:15:07.936Z"
   },
   {
    "duration": 25,
    "start_time": "2022-05-25T15:15:35.972Z"
   },
   {
    "duration": 25,
    "start_time": "2022-05-25T15:15:43.005Z"
   },
   {
    "duration": 235,
    "start_time": "2022-05-25T15:20:55.275Z"
   },
   {
    "duration": 19,
    "start_time": "2022-05-25T15:21:18.520Z"
   },
   {
    "duration": 23,
    "start_time": "2022-05-25T15:22:07.397Z"
   },
   {
    "duration": 17,
    "start_time": "2022-05-25T15:22:46.865Z"
   },
   {
    "duration": 7,
    "start_time": "2022-05-25T15:24:40.853Z"
   },
   {
    "duration": 6,
    "start_time": "2022-05-25T15:24:53.412Z"
   },
   {
    "duration": 7,
    "start_time": "2022-05-25T15:25:08.520Z"
   },
   {
    "duration": 12,
    "start_time": "2022-05-25T15:25:47.229Z"
   },
   {
    "duration": 4,
    "start_time": "2022-05-25T15:26:47.661Z"
   },
   {
    "duration": 3,
    "start_time": "2022-05-25T15:26:51.808Z"
   },
   {
    "duration": 4,
    "start_time": "2022-05-25T15:27:00.769Z"
   },
   {
    "duration": 24,
    "start_time": "2022-05-25T15:29:07.536Z"
   },
   {
    "duration": 25,
    "start_time": "2022-05-25T15:29:49.643Z"
   },
   {
    "duration": 24,
    "start_time": "2022-05-25T15:30:04.666Z"
   },
   {
    "duration": 23,
    "start_time": "2022-05-25T15:30:24.435Z"
   },
   {
    "duration": 22,
    "start_time": "2022-05-25T15:30:36.023Z"
   },
   {
    "duration": 12,
    "start_time": "2022-05-25T15:32:13.269Z"
   },
   {
    "duration": 12,
    "start_time": "2022-05-25T15:32:47.501Z"
   },
   {
    "duration": 8,
    "start_time": "2022-05-25T15:32:58.862Z"
   },
   {
    "duration": 131,
    "start_time": "2022-05-25T15:37:02.914Z"
   },
   {
    "duration": 29,
    "start_time": "2022-05-25T15:45:39.036Z"
   },
   {
    "duration": 52,
    "start_time": "2022-05-25T15:45:55.487Z"
   },
   {
    "duration": 19,
    "start_time": "2022-05-25T15:48:19.327Z"
   },
   {
    "duration": 15,
    "start_time": "2022-05-25T15:48:40.188Z"
   },
   {
    "duration": 13,
    "start_time": "2022-05-25T15:48:46.333Z"
   },
   {
    "duration": 13,
    "start_time": "2022-05-25T15:49:39.085Z"
   },
   {
    "duration": 11,
    "start_time": "2022-05-25T15:49:52.802Z"
   },
   {
    "duration": 12,
    "start_time": "2022-05-25T15:51:08.708Z"
   },
   {
    "duration": 14,
    "start_time": "2022-05-25T15:51:31.795Z"
   },
   {
    "duration": 13,
    "start_time": "2022-05-25T15:51:42.288Z"
   },
   {
    "duration": 54,
    "start_time": "2022-05-25T15:52:24.637Z"
   },
   {
    "duration": 12,
    "start_time": "2022-05-25T15:52:41.512Z"
   },
   {
    "duration": 37,
    "start_time": "2022-05-25T15:52:55.305Z"
   },
   {
    "duration": 7,
    "start_time": "2022-05-25T15:57:16.729Z"
   },
   {
    "duration": 10,
    "start_time": "2022-05-25T15:58:22.529Z"
   },
   {
    "duration": 25,
    "start_time": "2022-05-25T15:58:32.098Z"
   },
   {
    "duration": 20,
    "start_time": "2022-05-25T15:58:43.550Z"
   },
   {
    "duration": 28,
    "start_time": "2022-05-25T16:03:09.737Z"
   },
   {
    "duration": 27,
    "start_time": "2022-05-25T16:04:16.233Z"
   },
   {
    "duration": 32,
    "start_time": "2022-05-25T16:05:11.003Z"
   },
   {
    "duration": 30,
    "start_time": "2022-05-25T16:05:25.049Z"
   },
   {
    "duration": 28,
    "start_time": "2022-05-25T16:06:10.841Z"
   },
   {
    "duration": 34,
    "start_time": "2022-05-25T16:06:21.568Z"
   },
   {
    "duration": 24,
    "start_time": "2022-05-25T16:10:33.144Z"
   },
   {
    "duration": 15,
    "start_time": "2022-05-25T16:11:03.680Z"
   },
   {
    "duration": 109,
    "start_time": "2022-05-25T16:11:38.442Z"
   },
   {
    "duration": 13,
    "start_time": "2022-05-25T16:11:59.973Z"
   },
   {
    "duration": 41,
    "start_time": "2022-05-25T16:16:44.380Z"
   },
   {
    "duration": 29,
    "start_time": "2022-05-25T16:17:06.592Z"
   },
   {
    "duration": 2218,
    "start_time": "2022-05-26T12:46:44.649Z"
   },
   {
    "duration": 43,
    "start_time": "2022-05-26T12:46:46.870Z"
   },
   {
    "duration": 55,
    "start_time": "2022-05-26T12:46:46.915Z"
   },
   {
    "duration": 88,
    "start_time": "2022-05-26T12:46:46.973Z"
   },
   {
    "duration": 10,
    "start_time": "2022-05-26T12:46:47.062Z"
   },
   {
    "duration": 8,
    "start_time": "2022-05-26T12:46:47.074Z"
   },
   {
    "duration": 11,
    "start_time": "2022-05-26T12:46:47.097Z"
   },
   {
    "duration": 56,
    "start_time": "2022-05-26T12:46:47.110Z"
   },
   {
    "duration": 8,
    "start_time": "2022-05-26T12:46:47.169Z"
   },
   {
    "duration": 11,
    "start_time": "2022-05-26T12:46:47.181Z"
   },
   {
    "duration": 32,
    "start_time": "2022-05-26T12:46:47.194Z"
   },
   {
    "duration": 34,
    "start_time": "2022-05-26T12:46:47.233Z"
   },
   {
    "duration": 62,
    "start_time": "2022-05-26T12:46:47.269Z"
   },
   {
    "duration": 10,
    "start_time": "2022-05-26T12:46:47.339Z"
   },
   {
    "duration": 84,
    "start_time": "2022-05-26T12:46:47.351Z"
   },
   {
    "duration": 12,
    "start_time": "2022-05-26T12:46:47.462Z"
   },
   {
    "duration": 15,
    "start_time": "2022-05-26T12:46:47.478Z"
   },
   {
    "duration": 27,
    "start_time": "2022-05-26T12:46:47.495Z"
   },
   {
    "duration": 42,
    "start_time": "2022-05-26T12:46:47.528Z"
   },
   {
    "duration": 10,
    "start_time": "2022-05-26T12:46:47.573Z"
   },
   {
    "duration": 22,
    "start_time": "2022-05-26T12:46:47.587Z"
   },
   {
    "duration": 48,
    "start_time": "2022-05-26T12:46:47.611Z"
   },
   {
    "duration": 9,
    "start_time": "2022-05-26T12:46:47.661Z"
   },
   {
    "duration": 8,
    "start_time": "2022-05-26T12:46:47.672Z"
   },
   {
    "duration": 19,
    "start_time": "2022-05-26T12:46:47.682Z"
   },
   {
    "duration": 69,
    "start_time": "2022-05-26T12:46:47.703Z"
   },
   {
    "duration": 6,
    "start_time": "2022-05-26T12:46:47.774Z"
   },
   {
    "duration": 61,
    "start_time": "2022-05-26T12:46:47.785Z"
   },
   {
    "duration": 25,
    "start_time": "2022-05-26T12:46:47.848Z"
   },
   {
    "duration": 15,
    "start_time": "2022-05-26T12:46:47.876Z"
   },
   {
    "duration": 28,
    "start_time": "2022-05-26T12:46:47.893Z"
   },
   {
    "duration": 36,
    "start_time": "2022-05-26T12:46:47.923Z"
   },
   {
    "duration": 625,
    "start_time": "2022-05-26T12:46:47.961Z"
   },
   {
    "duration": 27,
    "start_time": "2022-05-26T12:46:48.588Z"
   },
   {
    "duration": 71,
    "start_time": "2022-05-26T12:46:48.617Z"
   },
   {
    "duration": 217,
    "start_time": "2022-05-26T12:46:48.690Z"
   },
   {
    "duration": 292,
    "start_time": "2022-05-26T12:46:48.918Z"
   },
   {
    "duration": 14,
    "start_time": "2022-05-26T12:46:49.216Z"
   },
   {
    "duration": 325,
    "start_time": "2022-05-26T12:46:49.235Z"
   },
   {
    "duration": 370,
    "start_time": "2022-05-26T12:46:49.565Z"
   },
   {
    "duration": 23,
    "start_time": "2022-05-26T12:46:49.944Z"
   },
   {
    "duration": 344,
    "start_time": "2022-05-26T12:46:49.972Z"
   },
   {
    "duration": 228,
    "start_time": "2022-05-26T12:46:50.323Z"
   },
   {
    "duration": 17,
    "start_time": "2022-05-26T12:46:50.557Z"
   },
   {
    "duration": 393,
    "start_time": "2022-05-26T12:46:50.580Z"
   },
   {
    "duration": 354,
    "start_time": "2022-05-26T12:46:50.976Z"
   },
   {
    "duration": 18,
    "start_time": "2022-05-26T12:46:51.331Z"
   },
   {
    "duration": 161,
    "start_time": "2022-05-26T12:46:51.354Z"
   },
   {
    "duration": 272,
    "start_time": "2022-05-26T12:46:51.520Z"
   },
   {
    "duration": 284,
    "start_time": "2022-05-26T12:46:51.797Z"
   },
   {
    "duration": 310,
    "start_time": "2022-05-26T12:46:52.087Z"
   },
   {
    "duration": 120,
    "start_time": "2022-05-26T12:46:52.402Z"
   },
   {
    "duration": 1900,
    "start_time": "2022-05-26T12:47:29.457Z"
   },
   {
    "duration": 60,
    "start_time": "2022-05-26T12:47:31.364Z"
   },
   {
    "duration": 155,
    "start_time": "2022-05-26T12:47:31.437Z"
   },
   {
    "duration": 248,
    "start_time": "2022-05-26T12:47:31.596Z"
   },
   {
    "duration": 27,
    "start_time": "2022-05-26T12:47:31.854Z"
   },
   {
    "duration": 97,
    "start_time": "2022-05-26T12:47:31.889Z"
   },
   {
    "duration": 70,
    "start_time": "2022-05-26T12:47:31.993Z"
   },
   {
    "duration": 103,
    "start_time": "2022-05-26T12:47:32.071Z"
   },
   {
    "duration": 36,
    "start_time": "2022-05-26T12:47:32.178Z"
   },
   {
    "duration": 87,
    "start_time": "2022-05-26T12:47:32.216Z"
   },
   {
    "duration": 156,
    "start_time": "2022-05-26T12:47:32.316Z"
   },
   {
    "duration": 81,
    "start_time": "2022-05-26T12:47:32.475Z"
   },
   {
    "duration": 80,
    "start_time": "2022-05-26T12:47:32.564Z"
   },
   {
    "duration": 26,
    "start_time": "2022-05-26T12:47:32.653Z"
   },
   {
    "duration": 137,
    "start_time": "2022-05-26T12:47:32.686Z"
   },
   {
    "duration": 147,
    "start_time": "2022-05-26T12:47:32.832Z"
   },
   {
    "duration": 150,
    "start_time": "2022-05-26T12:47:32.991Z"
   },
   {
    "duration": 101,
    "start_time": "2022-05-26T12:47:33.146Z"
   },
   {
    "duration": 44,
    "start_time": "2022-05-26T12:47:33.263Z"
   },
   {
    "duration": 87,
    "start_time": "2022-05-26T12:47:33.320Z"
   },
   {
    "duration": 190,
    "start_time": "2022-05-26T12:47:33.410Z"
   },
   {
    "duration": 97,
    "start_time": "2022-05-26T12:47:33.608Z"
   },
   {
    "duration": 54,
    "start_time": "2022-05-26T12:47:33.716Z"
   },
   {
    "duration": 45,
    "start_time": "2022-05-26T12:47:33.772Z"
   },
   {
    "duration": 77,
    "start_time": "2022-05-26T12:47:33.823Z"
   },
   {
    "duration": 87,
    "start_time": "2022-05-26T12:47:33.906Z"
   },
   {
    "duration": 85,
    "start_time": "2022-05-26T12:47:33.995Z"
   },
   {
    "duration": 162,
    "start_time": "2022-05-26T12:47:34.081Z"
   },
   {
    "duration": 76,
    "start_time": "2022-05-26T12:47:34.245Z"
   },
   {
    "duration": 53,
    "start_time": "2022-05-26T12:47:34.329Z"
   },
   {
    "duration": 59,
    "start_time": "2022-05-26T12:47:34.386Z"
   },
   {
    "duration": 17,
    "start_time": "2022-05-26T12:47:34.450Z"
   },
   {
    "duration": 593,
    "start_time": "2022-05-26T12:47:34.472Z"
   },
   {
    "duration": 21,
    "start_time": "2022-05-26T12:47:35.074Z"
   },
   {
    "duration": 85,
    "start_time": "2022-05-26T12:47:35.100Z"
   },
   {
    "duration": 260,
    "start_time": "2022-05-26T12:47:35.187Z"
   },
   {
    "duration": 304,
    "start_time": "2022-05-26T12:47:35.453Z"
   },
   {
    "duration": 15,
    "start_time": "2022-05-26T12:47:35.764Z"
   },
   {
    "duration": 250,
    "start_time": "2022-05-26T12:47:35.784Z"
   },
   {
    "duration": 338,
    "start_time": "2022-05-26T12:47:36.039Z"
   },
   {
    "duration": 13,
    "start_time": "2022-05-26T12:47:36.384Z"
   },
   {
    "duration": 166,
    "start_time": "2022-05-26T12:47:36.401Z"
   },
   {
    "duration": 201,
    "start_time": "2022-05-26T12:47:36.572Z"
   },
   {
    "duration": 33,
    "start_time": "2022-05-26T12:47:36.777Z"
   },
   {
    "duration": 237,
    "start_time": "2022-05-26T12:47:36.818Z"
   },
   {
    "duration": 421,
    "start_time": "2022-05-26T12:47:37.058Z"
   },
   {
    "duration": 30,
    "start_time": "2022-05-26T12:47:37.489Z"
   },
   {
    "duration": 216,
    "start_time": "2022-05-26T12:47:37.522Z"
   },
   {
    "duration": 482,
    "start_time": "2022-05-26T12:47:37.745Z"
   },
   {
    "duration": 375,
    "start_time": "2022-05-26T12:47:38.235Z"
   },
   {
    "duration": 372,
    "start_time": "2022-05-26T12:47:38.618Z"
   },
   {
    "duration": 185,
    "start_time": "2022-05-26T12:47:38.996Z"
   },
   {
    "duration": 65616,
    "start_time": "2022-05-26T12:47:39.187Z"
   },
   {
    "duration": 24,
    "start_time": "2022-05-26T12:48:44.820Z"
   },
   {
    "duration": 853,
    "start_time": "2022-05-26T12:48:44.863Z"
   },
   {
    "duration": 39,
    "start_time": "2022-05-26T12:48:45.729Z"
   },
   {
    "duration": 47,
    "start_time": "2022-05-26T12:52:43.960Z"
   },
   {
    "duration": 776,
    "start_time": "2022-05-26T12:52:44.021Z"
   },
   {
    "duration": 918,
    "start_time": "2022-05-26T12:52:44.805Z"
   },
   {
    "duration": 30,
    "start_time": "2022-05-26T12:52:45.736Z"
   },
   {
    "duration": 2501,
    "start_time": "2022-05-26T12:52:53.523Z"
   },
   {
    "duration": 95,
    "start_time": "2022-05-26T12:52:56.030Z"
   },
   {
    "duration": 72,
    "start_time": "2022-05-26T12:52:56.131Z"
   },
   {
    "duration": 225,
    "start_time": "2022-05-26T12:52:56.210Z"
   },
   {
    "duration": 62,
    "start_time": "2022-05-26T12:52:56.441Z"
   },
   {
    "duration": 169,
    "start_time": "2022-05-26T12:52:56.509Z"
   },
   {
    "duration": 141,
    "start_time": "2022-05-26T12:52:56.685Z"
   },
   {
    "duration": 153,
    "start_time": "2022-05-26T12:52:56.834Z"
   },
   {
    "duration": 140,
    "start_time": "2022-05-26T12:52:56.999Z"
   },
   {
    "duration": 101,
    "start_time": "2022-05-26T12:52:57.146Z"
   },
   {
    "duration": 96,
    "start_time": "2022-05-26T12:52:57.261Z"
   },
   {
    "duration": 192,
    "start_time": "2022-05-26T12:52:57.367Z"
   },
   {
    "duration": 162,
    "start_time": "2022-05-26T12:52:57.570Z"
   },
   {
    "duration": 73,
    "start_time": "2022-05-26T12:52:57.737Z"
   },
   {
    "duration": 259,
    "start_time": "2022-05-26T12:52:57.816Z"
   },
   {
    "duration": 28,
    "start_time": "2022-05-26T12:52:58.082Z"
   },
   {
    "duration": 228,
    "start_time": "2022-05-26T12:52:58.119Z"
   },
   {
    "duration": 198,
    "start_time": "2022-05-26T12:52:58.364Z"
   },
   {
    "duration": 204,
    "start_time": "2022-05-26T12:52:58.580Z"
   },
   {
    "duration": 127,
    "start_time": "2022-05-26T12:52:58.796Z"
   },
   {
    "duration": 122,
    "start_time": "2022-05-26T12:52:58.925Z"
   },
   {
    "duration": 163,
    "start_time": "2022-05-26T12:52:59.058Z"
   },
   {
    "duration": 194,
    "start_time": "2022-05-26T12:52:59.225Z"
   },
   {
    "duration": 95,
    "start_time": "2022-05-26T12:52:59.436Z"
   },
   {
    "duration": 51,
    "start_time": "2022-05-26T12:52:59.537Z"
   },
   {
    "duration": 180,
    "start_time": "2022-05-26T12:52:59.595Z"
   },
   {
    "duration": 161,
    "start_time": "2022-05-26T12:52:59.785Z"
   },
   {
    "duration": 185,
    "start_time": "2022-05-26T12:52:59.963Z"
   },
   {
    "duration": 243,
    "start_time": "2022-05-26T12:53:00.156Z"
   },
   {
    "duration": 184,
    "start_time": "2022-05-26T12:53:00.408Z"
   },
   {
    "duration": 306,
    "start_time": "2022-05-26T12:53:00.599Z"
   },
   {
    "duration": 84,
    "start_time": "2022-05-26T12:53:00.923Z"
   },
   {
    "duration": 1116,
    "start_time": "2022-05-26T12:53:01.015Z"
   },
   {
    "duration": 43,
    "start_time": "2022-05-26T12:53:02.137Z"
   },
   {
    "duration": 183,
    "start_time": "2022-05-26T12:53:02.187Z"
   },
   {
    "duration": 431,
    "start_time": "2022-05-26T12:53:02.386Z"
   },
   {
    "duration": 385,
    "start_time": "2022-05-26T12:53:02.825Z"
   },
   {
    "duration": 21,
    "start_time": "2022-05-26T12:53:03.218Z"
   },
   {
    "duration": 452,
    "start_time": "2022-05-26T12:53:03.242Z"
   },
   {
    "duration": 618,
    "start_time": "2022-05-26T12:53:03.696Z"
   },
   {
    "duration": 28,
    "start_time": "2022-05-26T12:53:04.323Z"
   },
   {
    "duration": 377,
    "start_time": "2022-05-26T12:53:04.362Z"
   },
   {
    "duration": 426,
    "start_time": "2022-05-26T12:53:04.747Z"
   },
   {
    "duration": 21,
    "start_time": "2022-05-26T12:53:05.179Z"
   },
   {
    "duration": 396,
    "start_time": "2022-05-26T12:53:05.206Z"
   },
   {
    "duration": 628,
    "start_time": "2022-05-26T12:53:05.613Z"
   },
   {
    "duration": 38,
    "start_time": "2022-05-26T12:53:06.248Z"
   },
   {
    "duration": 173,
    "start_time": "2022-05-26T12:53:06.293Z"
   },
   {
    "duration": 270,
    "start_time": "2022-05-26T12:53:06.468Z"
   },
   {
    "duration": 276,
    "start_time": "2022-05-26T12:53:06.743Z"
   },
   {
    "duration": 286,
    "start_time": "2022-05-26T12:53:07.024Z"
   },
   {
    "duration": 138,
    "start_time": "2022-05-26T12:53:07.316Z"
   },
   {
    "duration": 65650,
    "start_time": "2022-05-26T12:53:07.459Z"
   },
   {
    "duration": 18,
    "start_time": "2022-05-26T12:54:13.117Z"
   },
   {
    "duration": 588,
    "start_time": "2022-05-26T12:54:13.136Z"
   },
   {
    "duration": 8,
    "start_time": "2022-05-26T12:54:13.729Z"
   },
   {
    "duration": 234368,
    "start_time": "2022-05-26T12:54:13.741Z"
   },
   {
    "duration": 26,
    "start_time": "2022-05-26T12:58:08.119Z"
   },
   {
    "duration": 616,
    "start_time": "2022-05-26T12:58:08.155Z"
   },
   {
    "duration": 524,
    "start_time": "2022-05-26T12:58:08.775Z"
   },
   {
    "duration": 7,
    "start_time": "2022-05-26T12:58:09.305Z"
   },
   {
    "duration": 975,
    "start_time": "2022-05-26T12:58:09.317Z"
   },
   {
    "duration": 7,
    "start_time": "2022-05-26T12:58:10.298Z"
   },
   {
    "duration": 757,
    "start_time": "2022-05-26T12:58:10.310Z"
   },
   {
    "duration": 6,
    "start_time": "2022-05-26T12:58:11.069Z"
   },
   {
    "duration": 199,
    "start_time": "2022-05-26T12:58:11.076Z"
   },
   {
    "duration": 138,
    "start_time": "2022-05-26T12:58:11.281Z"
   },
   {
    "duration": 55,
    "start_time": "2022-05-26T13:18:34.967Z"
   },
   {
    "duration": 286,
    "start_time": "2022-05-26T13:20:59.217Z"
   },
   {
    "duration": 78,
    "start_time": "2022-05-26T13:21:09.375Z"
   },
   {
    "duration": 37,
    "start_time": "2022-05-26T13:21:37.446Z"
   },
   {
    "duration": 1542,
    "start_time": "2022-05-26T14:03:33.892Z"
   },
   {
    "duration": 53,
    "start_time": "2022-05-26T14:03:35.436Z"
   },
   {
    "duration": 26,
    "start_time": "2022-05-26T14:03:35.491Z"
   },
   {
    "duration": 106,
    "start_time": "2022-05-26T14:03:35.523Z"
   },
   {
    "duration": 14,
    "start_time": "2022-05-26T14:03:35.631Z"
   },
   {
    "duration": 12,
    "start_time": "2022-05-26T14:03:35.649Z"
   },
   {
    "duration": 39,
    "start_time": "2022-05-26T14:03:35.662Z"
   },
   {
    "duration": 29,
    "start_time": "2022-05-26T14:03:35.705Z"
   },
   {
    "duration": 18,
    "start_time": "2022-05-26T14:03:35.736Z"
   },
   {
    "duration": 7,
    "start_time": "2022-05-26T14:03:35.757Z"
   },
   {
    "duration": 16,
    "start_time": "2022-05-26T14:03:35.766Z"
   },
   {
    "duration": 15,
    "start_time": "2022-05-26T14:03:35.785Z"
   },
   {
    "duration": 69,
    "start_time": "2022-05-26T14:03:35.802Z"
   },
   {
    "duration": 10,
    "start_time": "2022-05-26T14:03:35.873Z"
   },
   {
    "duration": 484,
    "start_time": "2022-05-26T14:03:36.355Z"
   },
   {
    "duration": 15,
    "start_time": "2022-05-26T14:03:36.841Z"
   },
   {
    "duration": 14,
    "start_time": "2022-05-26T14:03:36.858Z"
   },
   {
    "duration": 234,
    "start_time": "2022-05-26T14:03:36.874Z"
   },
   {
    "duration": 239,
    "start_time": "2022-05-26T14:03:37.114Z"
   },
   {
    "duration": 13,
    "start_time": "2022-05-26T14:03:37.355Z"
   },
   {
    "duration": 173,
    "start_time": "2022-05-26T14:03:37.371Z"
   },
   {
    "duration": 322,
    "start_time": "2022-05-26T14:03:37.547Z"
   },
   {
    "duration": 9,
    "start_time": "2022-05-26T14:03:37.872Z"
   },
   {
    "duration": 174,
    "start_time": "2022-05-26T14:03:37.898Z"
   },
   {
    "duration": 203,
    "start_time": "2022-05-26T14:03:38.074Z"
   },
   {
    "duration": 21,
    "start_time": "2022-05-26T14:03:38.278Z"
   },
   {
    "duration": 141,
    "start_time": "2022-05-26T14:03:38.307Z"
   },
   {
    "duration": 299,
    "start_time": "2022-05-26T14:03:38.450Z"
   },
   {
    "duration": 18,
    "start_time": "2022-05-26T14:03:38.751Z"
   },
   {
    "duration": 176,
    "start_time": "2022-05-26T14:03:38.771Z"
   },
   {
    "duration": 337,
    "start_time": "2022-05-26T14:03:38.951Z"
   },
   {
    "duration": 259,
    "start_time": "2022-05-26T14:03:39.293Z"
   },
   {
    "duration": 262,
    "start_time": "2022-05-26T14:03:39.554Z"
   },
   {
    "duration": 111,
    "start_time": "2022-05-26T14:03:39.818Z"
   },
   {
    "duration": 1376,
    "start_time": "2022-05-26T14:03:47.157Z"
   },
   {
    "duration": 37,
    "start_time": "2022-05-26T14:03:48.536Z"
   },
   {
    "duration": 40,
    "start_time": "2022-05-26T14:03:48.575Z"
   },
   {
    "duration": 102,
    "start_time": "2022-05-26T14:03:48.619Z"
   },
   {
    "duration": 10,
    "start_time": "2022-05-26T14:03:48.723Z"
   },
   {
    "duration": 19,
    "start_time": "2022-05-26T14:03:48.735Z"
   },
   {
    "duration": 12,
    "start_time": "2022-05-26T14:03:48.756Z"
   },
   {
    "duration": 13,
    "start_time": "2022-05-26T14:03:48.770Z"
   },
   {
    "duration": 17,
    "start_time": "2022-05-26T14:03:48.785Z"
   },
   {
    "duration": 27,
    "start_time": "2022-05-26T14:03:48.805Z"
   },
   {
    "duration": 9,
    "start_time": "2022-05-26T14:03:48.834Z"
   },
   {
    "duration": 7,
    "start_time": "2022-05-26T14:03:48.845Z"
   },
   {
    "duration": 69,
    "start_time": "2022-05-26T14:03:48.854Z"
   },
   {
    "duration": 13,
    "start_time": "2022-05-26T14:03:48.926Z"
   },
   {
    "duration": 62,
    "start_time": "2022-05-26T14:03:48.941Z"
   },
   {
    "duration": 9,
    "start_time": "2022-05-26T14:03:49.011Z"
   },
   {
    "duration": 28,
    "start_time": "2022-05-26T14:03:49.021Z"
   },
   {
    "duration": 24,
    "start_time": "2022-05-26T14:03:49.051Z"
   },
   {
    "duration": 26,
    "start_time": "2022-05-26T14:03:49.077Z"
   },
   {
    "duration": 34,
    "start_time": "2022-05-26T14:03:49.106Z"
   },
   {
    "duration": 31,
    "start_time": "2022-05-26T14:03:49.143Z"
   },
   {
    "duration": 82,
    "start_time": "2022-05-26T14:03:49.176Z"
   },
   {
    "duration": 16,
    "start_time": "2022-05-26T14:03:49.261Z"
   },
   {
    "duration": 43,
    "start_time": "2022-05-26T14:03:49.280Z"
   },
   {
    "duration": 37,
    "start_time": "2022-05-26T14:03:49.330Z"
   },
   {
    "duration": 20,
    "start_time": "2022-05-26T14:03:49.370Z"
   },
   {
    "duration": 43,
    "start_time": "2022-05-26T14:03:49.393Z"
   },
   {
    "duration": 55,
    "start_time": "2022-05-26T14:03:49.442Z"
   },
   {
    "duration": 17,
    "start_time": "2022-05-26T14:03:49.499Z"
   },
   {
    "duration": 25,
    "start_time": "2022-05-26T14:03:49.518Z"
   },
   {
    "duration": 25,
    "start_time": "2022-05-26T14:03:49.545Z"
   },
   {
    "duration": 22,
    "start_time": "2022-05-26T14:03:49.573Z"
   },
   {
    "duration": 433,
    "start_time": "2022-05-26T14:03:49.603Z"
   },
   {
    "duration": 21,
    "start_time": "2022-05-26T14:03:50.039Z"
   },
   {
    "duration": 38,
    "start_time": "2022-05-26T14:03:50.063Z"
   },
   {
    "duration": 153,
    "start_time": "2022-05-26T14:03:50.103Z"
   },
   {
    "duration": 256,
    "start_time": "2022-05-26T14:03:50.258Z"
   },
   {
    "duration": 13,
    "start_time": "2022-05-26T14:03:50.515Z"
   },
   {
    "duration": 192,
    "start_time": "2022-05-26T14:03:50.530Z"
   },
   {
    "duration": 363,
    "start_time": "2022-05-26T14:03:50.725Z"
   },
   {
    "duration": 18,
    "start_time": "2022-05-26T14:03:51.090Z"
   },
   {
    "duration": 135,
    "start_time": "2022-05-26T14:03:51.110Z"
   },
   {
    "duration": 178,
    "start_time": "2022-05-26T14:03:51.247Z"
   },
   {
    "duration": 15,
    "start_time": "2022-05-26T14:03:51.427Z"
   },
   {
    "duration": 201,
    "start_time": "2022-05-26T14:03:51.445Z"
   },
   {
    "duration": 325,
    "start_time": "2022-05-26T14:03:51.649Z"
   },
   {
    "duration": 32,
    "start_time": "2022-05-26T14:03:51.976Z"
   },
   {
    "duration": 124,
    "start_time": "2022-05-26T14:03:52.015Z"
   },
   {
    "duration": 242,
    "start_time": "2022-05-26T14:03:52.141Z"
   },
   {
    "duration": 294,
    "start_time": "2022-05-26T14:03:52.395Z"
   },
   {
    "duration": 327,
    "start_time": "2022-05-26T14:03:52.694Z"
   },
   {
    "duration": 129,
    "start_time": "2022-05-26T14:03:53.024Z"
   },
   {
    "duration": 46812,
    "start_time": "2022-05-26T14:03:53.156Z"
   },
   {
    "duration": 11,
    "start_time": "2022-05-26T14:04:39.974Z"
   },
   {
    "duration": 631,
    "start_time": "2022-05-26T14:04:39.987Z"
   },
   {
    "duration": 7,
    "start_time": "2022-05-26T14:04:40.622Z"
   },
   {
    "duration": 454,
    "start_time": "2022-05-26T14:07:37.758Z"
   },
   {
    "duration": 7,
    "start_time": "2022-05-26T14:07:38.215Z"
   },
   {
    "duration": 557,
    "start_time": "2022-05-26T14:07:38.224Z"
   },
   {
    "duration": 28,
    "start_time": "2022-05-26T14:07:38.784Z"
   },
   {
    "duration": 514,
    "start_time": "2022-05-26T14:07:38.814Z"
   },
   {
    "duration": 8,
    "start_time": "2022-05-26T14:07:39.331Z"
   },
   {
    "duration": 56,
    "start_time": "2022-05-26T14:07:39.342Z"
   },
   {
    "duration": 44,
    "start_time": "2022-05-26T14:07:39.403Z"
   },
   {
    "duration": 161940,
    "start_time": "2022-05-26T14:07:39.451Z"
   },
   {
    "duration": 7,
    "start_time": "2022-05-26T14:10:21.396Z"
   },
   {
    "duration": 389,
    "start_time": "2022-05-26T14:10:21.407Z"
   },
   {
    "duration": 48,
    "start_time": "2022-05-26T14:10:21.802Z"
   },
   {
    "duration": 225,
    "start_time": "2022-05-26T14:15:34.267Z"
   },
   {
    "duration": 56,
    "start_time": "2022-05-26T14:16:26.316Z"
   },
   {
    "duration": 240,
    "start_time": "2022-05-26T14:17:56.690Z"
   },
   {
    "duration": 54,
    "start_time": "2022-05-26T14:18:38.791Z"
   },
   {
    "duration": 72,
    "start_time": "2022-05-26T14:18:43.414Z"
   },
   {
    "duration": 33,
    "start_time": "2022-05-26T14:19:24.045Z"
   },
   {
    "duration": 35,
    "start_time": "2022-05-26T14:19:56.494Z"
   },
   {
    "duration": 32,
    "start_time": "2022-05-26T14:20:15.249Z"
   },
   {
    "duration": 40,
    "start_time": "2022-05-26T14:20:36.031Z"
   },
   {
    "duration": 29,
    "start_time": "2022-05-26T14:21:48.914Z"
   },
   {
    "duration": 243,
    "start_time": "2022-05-26T14:22:50.448Z"
   },
   {
    "duration": 176,
    "start_time": "2022-05-26T14:24:58.132Z"
   },
   {
    "duration": 230,
    "start_time": "2022-05-26T14:25:18.121Z"
   },
   {
    "duration": 57,
    "start_time": "2022-05-26T14:26:47.425Z"
   },
   {
    "duration": 52,
    "start_time": "2022-05-26T14:26:58.527Z"
   },
   {
    "duration": 1352,
    "start_time": "2022-05-26T14:37:43.455Z"
   },
   {
    "duration": 33,
    "start_time": "2022-05-26T14:37:44.810Z"
   },
   {
    "duration": 14,
    "start_time": "2022-05-26T14:37:44.845Z"
   },
   {
    "duration": 88,
    "start_time": "2022-05-26T14:37:44.861Z"
   },
   {
    "duration": 9,
    "start_time": "2022-05-26T14:37:44.950Z"
   },
   {
    "duration": 6,
    "start_time": "2022-05-26T14:37:44.961Z"
   },
   {
    "duration": 11,
    "start_time": "2022-05-26T14:37:44.969Z"
   },
   {
    "duration": 22,
    "start_time": "2022-05-26T14:37:44.981Z"
   },
   {
    "duration": 6,
    "start_time": "2022-05-26T14:37:45.005Z"
   },
   {
    "duration": 14,
    "start_time": "2022-05-26T14:37:45.013Z"
   },
   {
    "duration": 7,
    "start_time": "2022-05-26T14:37:45.029Z"
   },
   {
    "duration": 13,
    "start_time": "2022-05-26T14:37:45.038Z"
   },
   {
    "duration": 29,
    "start_time": "2022-05-26T14:37:45.053Z"
   },
   {
    "duration": 23,
    "start_time": "2022-05-26T14:37:45.083Z"
   },
   {
    "duration": 38,
    "start_time": "2022-05-26T14:37:45.108Z"
   },
   {
    "duration": 5,
    "start_time": "2022-05-26T14:37:45.147Z"
   },
   {
    "duration": 17,
    "start_time": "2022-05-26T14:37:45.153Z"
   },
   {
    "duration": 9,
    "start_time": "2022-05-26T14:37:45.171Z"
   },
   {
    "duration": 21,
    "start_time": "2022-05-26T14:37:45.182Z"
   },
   {
    "duration": 8,
    "start_time": "2022-05-26T14:37:45.204Z"
   },
   {
    "duration": 8,
    "start_time": "2022-05-26T14:37:45.213Z"
   },
   {
    "duration": 13,
    "start_time": "2022-05-26T14:37:45.223Z"
   },
   {
    "duration": 5,
    "start_time": "2022-05-26T14:37:45.238Z"
   },
   {
    "duration": 8,
    "start_time": "2022-05-26T14:37:45.244Z"
   },
   {
    "duration": 8,
    "start_time": "2022-05-26T14:37:45.253Z"
   },
   {
    "duration": 44,
    "start_time": "2022-05-26T14:37:45.262Z"
   },
   {
    "duration": 5,
    "start_time": "2022-05-26T14:37:45.308Z"
   },
   {
    "duration": 28,
    "start_time": "2022-05-26T14:37:45.316Z"
   },
   {
    "duration": 25,
    "start_time": "2022-05-26T14:37:45.346Z"
   },
   {
    "duration": 12,
    "start_time": "2022-05-26T14:37:45.373Z"
   },
   {
    "duration": 35,
    "start_time": "2022-05-26T14:37:45.387Z"
   },
   {
    "duration": 4,
    "start_time": "2022-05-26T14:37:45.423Z"
   },
   {
    "duration": 388,
    "start_time": "2022-05-26T14:37:45.429Z"
   },
   {
    "duration": 14,
    "start_time": "2022-05-26T14:37:45.819Z"
   },
   {
    "duration": 15,
    "start_time": "2022-05-26T14:37:45.835Z"
   },
   {
    "duration": 141,
    "start_time": "2022-05-26T14:37:45.852Z"
   },
   {
    "duration": 206,
    "start_time": "2022-05-26T14:37:45.995Z"
   },
   {
    "duration": 8,
    "start_time": "2022-05-26T14:37:46.203Z"
   },
   {
    "duration": 131,
    "start_time": "2022-05-26T14:37:46.212Z"
   },
   {
    "duration": 260,
    "start_time": "2022-05-26T14:37:46.345Z"
   },
   {
    "duration": 8,
    "start_time": "2022-05-26T14:37:46.607Z"
   },
   {
    "duration": 114,
    "start_time": "2022-05-26T14:37:46.616Z"
   },
   {
    "duration": 165,
    "start_time": "2022-05-26T14:37:46.732Z"
   },
   {
    "duration": 9,
    "start_time": "2022-05-26T14:37:46.899Z"
   },
   {
    "duration": 146,
    "start_time": "2022-05-26T14:37:46.910Z"
   },
   {
    "duration": 232,
    "start_time": "2022-05-26T14:37:47.057Z"
   },
   {
    "duration": 19,
    "start_time": "2022-05-26T14:37:47.290Z"
   },
   {
    "duration": 104,
    "start_time": "2022-05-26T14:37:47.310Z"
   },
   {
    "duration": 206,
    "start_time": "2022-05-26T14:37:47.415Z"
   },
   {
    "duration": 179,
    "start_time": "2022-05-26T14:37:47.623Z"
   },
   {
    "duration": 185,
    "start_time": "2022-05-26T14:37:47.803Z"
   },
   {
    "duration": 91,
    "start_time": "2022-05-26T14:37:47.990Z"
   },
   {
    "duration": 38362,
    "start_time": "2022-05-26T14:37:48.083Z"
   },
   {
    "duration": 4,
    "start_time": "2022-05-26T14:38:26.447Z"
   },
   {
    "duration": 376,
    "start_time": "2022-05-26T14:38:26.453Z"
   },
   {
    "duration": 5,
    "start_time": "2022-05-26T14:38:26.830Z"
   },
   {
    "duration": 1228,
    "start_time": "2022-05-26T14:40:32.576Z"
   },
   {
    "duration": 31,
    "start_time": "2022-05-26T14:40:33.806Z"
   },
   {
    "duration": 16,
    "start_time": "2022-05-26T14:40:33.839Z"
   },
   {
    "duration": 95,
    "start_time": "2022-05-26T14:40:33.857Z"
   },
   {
    "duration": 9,
    "start_time": "2022-05-26T14:40:33.954Z"
   },
   {
    "duration": 6,
    "start_time": "2022-05-26T14:40:33.965Z"
   },
   {
    "duration": 8,
    "start_time": "2022-05-26T14:40:33.973Z"
   },
   {
    "duration": 8,
    "start_time": "2022-05-26T14:40:34.002Z"
   },
   {
    "duration": 7,
    "start_time": "2022-05-26T14:40:34.012Z"
   },
   {
    "duration": 6,
    "start_time": "2022-05-26T14:40:34.022Z"
   },
   {
    "duration": 7,
    "start_time": "2022-05-26T14:40:34.030Z"
   },
   {
    "duration": 7,
    "start_time": "2022-05-26T14:40:34.039Z"
   },
   {
    "duration": 72,
    "start_time": "2022-05-26T14:40:34.048Z"
   },
   {
    "duration": 6,
    "start_time": "2022-05-26T14:40:34.121Z"
   },
   {
    "duration": 29,
    "start_time": "2022-05-26T14:40:34.128Z"
   },
   {
    "duration": 5,
    "start_time": "2022-05-26T14:40:34.159Z"
   },
   {
    "duration": 8,
    "start_time": "2022-05-26T14:40:34.165Z"
   },
   {
    "duration": 35,
    "start_time": "2022-05-26T14:40:34.174Z"
   },
   {
    "duration": 6,
    "start_time": "2022-05-26T14:40:34.211Z"
   },
   {
    "duration": 7,
    "start_time": "2022-05-26T14:40:34.218Z"
   },
   {
    "duration": 7,
    "start_time": "2022-05-26T14:40:34.226Z"
   },
   {
    "duration": 10,
    "start_time": "2022-05-26T14:40:34.235Z"
   },
   {
    "duration": 6,
    "start_time": "2022-05-26T14:40:34.246Z"
   },
   {
    "duration": 49,
    "start_time": "2022-05-26T14:40:34.253Z"
   },
   {
    "duration": 7,
    "start_time": "2022-05-26T14:40:34.304Z"
   },
   {
    "duration": 11,
    "start_time": "2022-05-26T14:40:34.312Z"
   },
   {
    "duration": 6,
    "start_time": "2022-05-26T14:40:34.325Z"
   },
   {
    "duration": 28,
    "start_time": "2022-05-26T14:40:34.336Z"
   },
   {
    "duration": 44,
    "start_time": "2022-05-26T14:40:34.366Z"
   },
   {
    "duration": 12,
    "start_time": "2022-05-26T14:40:34.412Z"
   },
   {
    "duration": 20,
    "start_time": "2022-05-26T14:40:34.426Z"
   },
   {
    "duration": 3,
    "start_time": "2022-05-26T14:40:34.447Z"
   },
   {
    "duration": 398,
    "start_time": "2022-05-26T14:40:34.451Z"
   },
   {
    "duration": 13,
    "start_time": "2022-05-26T14:40:34.851Z"
   },
   {
    "duration": 7,
    "start_time": "2022-05-26T14:40:34.866Z"
   },
   {
    "duration": 146,
    "start_time": "2022-05-26T14:40:34.874Z"
   },
   {
    "duration": 204,
    "start_time": "2022-05-26T14:40:35.022Z"
   },
   {
    "duration": 8,
    "start_time": "2022-05-26T14:40:35.228Z"
   },
   {
    "duration": 146,
    "start_time": "2022-05-26T14:40:35.238Z"
   },
   {
    "duration": 268,
    "start_time": "2022-05-26T14:40:35.386Z"
   },
   {
    "duration": 9,
    "start_time": "2022-05-26T14:40:35.656Z"
   },
   {
    "duration": 152,
    "start_time": "2022-05-26T14:40:35.667Z"
   },
   {
    "duration": 156,
    "start_time": "2022-05-26T14:40:35.821Z"
   },
   {
    "duration": 9,
    "start_time": "2022-05-26T14:40:35.978Z"
   },
   {
    "duration": 136,
    "start_time": "2022-05-26T14:40:35.988Z"
   },
   {
    "duration": 237,
    "start_time": "2022-05-26T14:40:36.126Z"
   },
   {
    "duration": 12,
    "start_time": "2022-05-26T14:40:36.365Z"
   },
   {
    "duration": 103,
    "start_time": "2022-05-26T14:40:36.378Z"
   },
   {
    "duration": 212,
    "start_time": "2022-05-26T14:40:36.482Z"
   },
   {
    "duration": 216,
    "start_time": "2022-05-26T14:40:36.695Z"
   },
   {
    "duration": 215,
    "start_time": "2022-05-26T14:40:36.913Z"
   },
   {
    "duration": 95,
    "start_time": "2022-05-26T14:40:37.129Z"
   },
   {
    "duration": 39037,
    "start_time": "2022-05-26T14:40:37.226Z"
   },
   {
    "duration": 4,
    "start_time": "2022-05-26T14:41:16.265Z"
   },
   {
    "duration": 416,
    "start_time": "2022-05-26T14:41:16.271Z"
   },
   {
    "duration": 6,
    "start_time": "2022-05-26T14:41:16.688Z"
   },
   {
    "duration": 142009,
    "start_time": "2022-05-26T14:41:16.702Z"
   },
   {
    "duration": 5,
    "start_time": "2022-05-26T14:43:38.713Z"
   },
   {
    "duration": 270,
    "start_time": "2022-05-26T14:43:38.719Z"
   },
   {
    "duration": 335,
    "start_time": "2022-05-26T14:43:38.999Z"
   },
   {
    "duration": 5,
    "start_time": "2022-05-26T14:43:39.335Z"
   },
   {
    "duration": 450,
    "start_time": "2022-05-26T14:43:39.341Z"
   },
   {
    "duration": 9,
    "start_time": "2022-05-26T14:43:39.793Z"
   },
   {
    "duration": 321,
    "start_time": "2022-05-26T14:43:39.804Z"
   },
   {
    "duration": 6,
    "start_time": "2022-05-26T14:43:40.127Z"
   },
   {
    "duration": 24,
    "start_time": "2022-05-26T14:43:40.134Z"
   },
   {
    "duration": 122,
    "start_time": "2022-05-26T14:43:40.160Z"
   },
   {
    "duration": 0,
    "start_time": "2022-05-26T14:43:40.284Z"
   },
   {
    "duration": 0,
    "start_time": "2022-05-26T14:43:40.286Z"
   },
   {
    "duration": 0,
    "start_time": "2022-05-26T14:43:40.287Z"
   },
   {
    "duration": 20,
    "start_time": "2022-05-26T14:44:40.425Z"
   },
   {
    "duration": 16,
    "start_time": "2022-05-26T14:44:58.107Z"
   },
   {
    "duration": 29,
    "start_time": "2022-05-26T14:45:37.837Z"
   },
   {
    "duration": 33,
    "start_time": "2022-05-26T14:45:44.931Z"
   },
   {
    "duration": 15,
    "start_time": "2022-05-26T14:48:02.649Z"
   },
   {
    "duration": 10,
    "start_time": "2022-05-26T14:58:43.634Z"
   },
   {
    "duration": 10,
    "start_time": "2022-05-26T15:03:06.979Z"
   },
   {
    "duration": 9,
    "start_time": "2022-05-26T15:04:03.553Z"
   },
   {
    "duration": 15,
    "start_time": "2022-05-26T15:11:03.467Z"
   },
   {
    "duration": 22,
    "start_time": "2022-05-26T15:11:29.131Z"
   },
   {
    "duration": 17,
    "start_time": "2022-05-26T15:11:56.233Z"
   },
   {
    "duration": 9,
    "start_time": "2022-05-26T15:13:13.488Z"
   },
   {
    "duration": 471,
    "start_time": "2022-05-26T15:15:08.774Z"
   },
   {
    "duration": 175,
    "start_time": "2022-05-26T15:17:38.966Z"
   },
   {
    "duration": 154,
    "start_time": "2022-05-26T15:19:37.267Z"
   },
   {
    "duration": 922,
    "start_time": "2022-05-26T15:22:40.418Z"
   },
   {
    "duration": 162,
    "start_time": "2022-05-26T15:24:04.458Z"
   },
   {
    "duration": 4,
    "start_time": "2022-05-26T15:33:58.146Z"
   },
   {
    "duration": 24,
    "start_time": "2022-05-26T15:34:20.709Z"
   },
   {
    "duration": 41,
    "start_time": "2022-05-26T15:39:34.351Z"
   },
   {
    "duration": 16,
    "start_time": "2022-05-26T15:39:45.622Z"
   },
   {
    "duration": 26,
    "start_time": "2022-05-26T15:39:56.985Z"
   },
   {
    "duration": 2090,
    "start_time": "2022-05-26T15:40:28.189Z"
   },
   {
    "duration": 150,
    "start_time": "2022-05-26T15:40:41.307Z"
   },
   {
    "duration": 15,
    "start_time": "2022-05-26T15:45:35.888Z"
   },
   {
    "duration": 16,
    "start_time": "2022-05-26T15:46:18.562Z"
   },
   {
    "duration": 13,
    "start_time": "2022-05-26T15:46:27.409Z"
   },
   {
    "duration": 30,
    "start_time": "2022-05-26T15:47:03.706Z"
   },
   {
    "duration": 14,
    "start_time": "2022-05-26T15:49:47.245Z"
   },
   {
    "duration": 16,
    "start_time": "2022-05-26T15:49:53.276Z"
   },
   {
    "duration": 22,
    "start_time": "2022-05-26T15:50:04.358Z"
   },
   {
    "duration": 20,
    "start_time": "2022-05-26T15:51:39.517Z"
   },
   {
    "duration": 95,
    "start_time": "2022-05-26T15:51:53.947Z"
   },
   {
    "duration": 15,
    "start_time": "2022-05-26T15:52:22.357Z"
   },
   {
    "duration": 33,
    "start_time": "2022-05-26T15:53:29.685Z"
   },
   {
    "duration": 10,
    "start_time": "2022-05-26T15:53:57.257Z"
   },
   {
    "duration": 605,
    "start_time": "2022-05-26T16:02:18.356Z"
   },
   {
    "duration": 11,
    "start_time": "2022-05-26T16:02:50.890Z"
   },
   {
    "duration": 8,
    "start_time": "2022-05-26T16:11:03.314Z"
   },
   {
    "duration": 296,
    "start_time": "2022-05-26T16:11:10.480Z"
   },
   {
    "duration": 162,
    "start_time": "2022-05-26T16:11:27.185Z"
   },
   {
    "duration": 142,
    "start_time": "2022-05-26T16:12:01.526Z"
   },
   {
    "duration": 115,
    "start_time": "2022-05-26T16:14:08.042Z"
   },
   {
    "duration": 236,
    "start_time": "2022-05-26T16:14:44.152Z"
   },
   {
    "duration": 45,
    "start_time": "2022-05-26T16:21:31.153Z"
   },
   {
    "duration": 13,
    "start_time": "2022-05-26T16:21:34.288Z"
   },
   {
    "duration": 1444,
    "start_time": "2022-05-27T07:01:42.527Z"
   },
   {
    "duration": 36,
    "start_time": "2022-05-27T07:01:43.973Z"
   },
   {
    "duration": 16,
    "start_time": "2022-05-27T07:01:44.010Z"
   },
   {
    "duration": 93,
    "start_time": "2022-05-27T07:01:44.028Z"
   },
   {
    "duration": 9,
    "start_time": "2022-05-27T07:01:44.123Z"
   },
   {
    "duration": 7,
    "start_time": "2022-05-27T07:01:44.134Z"
   },
   {
    "duration": 11,
    "start_time": "2022-05-27T07:01:44.142Z"
   },
   {
    "duration": 35,
    "start_time": "2022-05-27T07:01:44.155Z"
   },
   {
    "duration": 6,
    "start_time": "2022-05-27T07:01:44.192Z"
   },
   {
    "duration": 6,
    "start_time": "2022-05-27T07:01:44.201Z"
   },
   {
    "duration": 8,
    "start_time": "2022-05-27T07:01:44.209Z"
   },
   {
    "duration": 8,
    "start_time": "2022-05-27T07:01:44.219Z"
   },
   {
    "duration": 78,
    "start_time": "2022-05-27T07:01:44.228Z"
   },
   {
    "duration": 7,
    "start_time": "2022-05-27T07:01:44.309Z"
   },
   {
    "duration": 47,
    "start_time": "2022-05-27T07:01:44.317Z"
   },
   {
    "duration": 6,
    "start_time": "2022-05-27T07:01:44.576Z"
   },
   {
    "duration": 9,
    "start_time": "2022-05-27T07:01:44.584Z"
   },
   {
    "duration": 9,
    "start_time": "2022-05-27T07:01:44.595Z"
   },
   {
    "duration": 6,
    "start_time": "2022-05-27T07:01:44.606Z"
   },
   {
    "duration": 8,
    "start_time": "2022-05-27T07:01:44.614Z"
   },
   {
    "duration": 23,
    "start_time": "2022-05-27T07:01:44.623Z"
   },
   {
    "duration": 17,
    "start_time": "2022-05-27T07:01:44.648Z"
   },
   {
    "duration": 7,
    "start_time": "2022-05-27T07:01:44.683Z"
   },
   {
    "duration": 10,
    "start_time": "2022-05-27T07:01:44.885Z"
   },
   {
    "duration": 11,
    "start_time": "2022-05-27T07:01:44.897Z"
   },
   {
    "duration": 15,
    "start_time": "2022-05-27T07:01:44.910Z"
   },
   {
    "duration": 6,
    "start_time": "2022-05-27T07:01:44.927Z"
   },
   {
    "duration": 34,
    "start_time": "2022-05-27T07:01:44.935Z"
   },
   {
    "duration": 24,
    "start_time": "2022-05-27T07:01:44.970Z"
   },
   {
    "duration": 12,
    "start_time": "2022-05-27T07:01:44.996Z"
   },
   {
    "duration": 35,
    "start_time": "2022-05-27T07:01:45.010Z"
   },
   {
    "duration": 4,
    "start_time": "2022-05-27T07:01:45.046Z"
   },
   {
    "duration": 425,
    "start_time": "2022-05-27T07:01:45.051Z"
   },
   {
    "duration": 16,
    "start_time": "2022-05-27T07:01:45.650Z"
   },
   {
    "duration": 8,
    "start_time": "2022-05-27T07:01:45.667Z"
   },
   {
    "duration": 131,
    "start_time": "2022-05-27T07:01:45.677Z"
   },
   {
    "duration": 207,
    "start_time": "2022-05-27T07:01:45.827Z"
   },
   {
    "duration": 8,
    "start_time": "2022-05-27T07:01:46.036Z"
   },
   {
    "duration": 147,
    "start_time": "2022-05-27T07:01:46.046Z"
   },
   {
    "duration": 281,
    "start_time": "2022-05-27T07:01:46.195Z"
   },
   {
    "duration": 8,
    "start_time": "2022-05-27T07:01:46.484Z"
   },
   {
    "duration": 119,
    "start_time": "2022-05-27T07:01:46.494Z"
   },
   {
    "duration": 158,
    "start_time": "2022-05-27T07:01:46.614Z"
   },
   {
    "duration": 16,
    "start_time": "2022-05-27T07:01:46.774Z"
   },
   {
    "duration": 136,
    "start_time": "2022-05-27T07:01:46.791Z"
   },
   {
    "duration": 257,
    "start_time": "2022-05-27T07:01:46.928Z"
   },
   {
    "duration": 14,
    "start_time": "2022-05-27T07:01:47.186Z"
   },
   {
    "duration": 123,
    "start_time": "2022-05-27T07:01:47.201Z"
   },
   {
    "duration": 244,
    "start_time": "2022-05-27T07:01:47.326Z"
   },
   {
    "duration": 211,
    "start_time": "2022-05-27T07:01:47.574Z"
   },
   {
    "duration": 261,
    "start_time": "2022-05-27T07:01:47.786Z"
   },
   {
    "duration": 100,
    "start_time": "2022-05-27T07:01:48.049Z"
   },
   {
    "duration": 38787,
    "start_time": "2022-05-27T07:01:48.151Z"
   },
   {
    "duration": 5,
    "start_time": "2022-05-27T07:02:26.939Z"
   },
   {
    "duration": 377,
    "start_time": "2022-05-27T07:02:26.946Z"
   },
   {
    "duration": 6,
    "start_time": "2022-05-27T07:02:27.324Z"
   },
   {
    "duration": 145759,
    "start_time": "2022-05-27T07:02:27.332Z"
   },
   {
    "duration": 6,
    "start_time": "2022-05-27T07:04:53.093Z"
   },
   {
    "duration": 313,
    "start_time": "2022-05-27T07:04:53.100Z"
   },
   {
    "duration": 345,
    "start_time": "2022-05-27T07:04:53.415Z"
   },
   {
    "duration": 5,
    "start_time": "2022-05-27T07:04:53.762Z"
   },
   {
    "duration": 496,
    "start_time": "2022-05-27T07:04:53.768Z"
   },
   {
    "duration": 6,
    "start_time": "2022-05-27T07:04:54.266Z"
   },
   {
    "duration": 324,
    "start_time": "2022-05-27T07:04:54.284Z"
   },
   {
    "duration": 5,
    "start_time": "2022-05-27T07:04:54.609Z"
   },
   {
    "duration": 28,
    "start_time": "2022-05-27T07:04:54.616Z"
   },
   {
    "duration": 58,
    "start_time": "2022-05-27T07:04:54.646Z"
   },
   {
    "duration": 13,
    "start_time": "2022-05-27T07:04:54.705Z"
   },
   {
    "duration": 243,
    "start_time": "2022-05-27T07:04:54.720Z"
   },
   {
    "duration": 124,
    "start_time": "2022-05-27T07:14:11.214Z"
   },
   {
    "duration": 9,
    "start_time": "2022-05-27T07:15:49.427Z"
   },
   {
    "duration": 36,
    "start_time": "2022-05-27T07:15:56.741Z"
   },
   {
    "duration": 51,
    "start_time": "2022-05-27T07:16:19.167Z"
   },
   {
    "duration": 16,
    "start_time": "2022-05-27T07:31:09.842Z"
   },
   {
    "duration": 15,
    "start_time": "2022-05-27T07:35:53.779Z"
   },
   {
    "duration": 13,
    "start_time": "2022-05-27T07:36:07.996Z"
   },
   {
    "duration": 9,
    "start_time": "2022-05-27T07:38:41.170Z"
   },
   {
    "duration": 198,
    "start_time": "2022-05-27T07:39:27.811Z"
   },
   {
    "duration": 202,
    "start_time": "2022-05-27T07:39:50.059Z"
   },
   {
    "duration": 1022,
    "start_time": "2022-05-27T07:39:55.713Z"
   },
   {
    "duration": 228,
    "start_time": "2022-05-27T07:40:09.932Z"
   },
   {
    "duration": 239,
    "start_time": "2022-05-27T07:40:25.753Z"
   },
   {
    "duration": 11,
    "start_time": "2022-05-27T07:41:18.741Z"
   },
   {
    "duration": 130,
    "start_time": "2022-05-27T07:41:59.223Z"
   },
   {
    "duration": 140,
    "start_time": "2022-05-27T07:42:10.690Z"
   },
   {
    "duration": 223,
    "start_time": "2022-05-27T07:42:40.138Z"
   },
   {
    "duration": 264,
    "start_time": "2022-05-27T07:43:36.768Z"
   },
   {
    "duration": 9,
    "start_time": "2022-05-27T07:45:52.457Z"
   },
   {
    "duration": 120,
    "start_time": "2022-05-27T07:46:10.817Z"
   },
   {
    "duration": 124,
    "start_time": "2022-05-27T07:46:27.519Z"
   },
   {
    "duration": 120,
    "start_time": "2022-05-27T07:47:09.908Z"
   },
   {
    "duration": 252,
    "start_time": "2022-05-27T07:47:56.965Z"
   },
   {
    "duration": 233,
    "start_time": "2022-05-27T07:48:12.465Z"
   },
   {
    "duration": 310,
    "start_time": "2022-05-27T07:48:47.907Z"
   },
   {
    "duration": 238,
    "start_time": "2022-05-27T07:48:58.886Z"
   },
   {
    "duration": 10,
    "start_time": "2022-05-27T07:50:50.947Z"
   },
   {
    "duration": 11,
    "start_time": "2022-05-27T07:51:08.061Z"
   },
   {
    "duration": 124,
    "start_time": "2022-05-27T07:51:28.938Z"
   },
   {
    "duration": 119,
    "start_time": "2022-05-27T07:51:36.062Z"
   },
   {
    "duration": 139,
    "start_time": "2022-05-27T07:51:45.473Z"
   },
   {
    "duration": 216,
    "start_time": "2022-05-27T07:52:23.245Z"
   },
   {
    "duration": 10,
    "start_time": "2022-05-27T07:54:37.425Z"
   },
   {
    "duration": 124,
    "start_time": "2022-05-27T07:55:16.748Z"
   },
   {
    "duration": 137,
    "start_time": "2022-05-27T07:55:21.706Z"
   },
   {
    "duration": 130,
    "start_time": "2022-05-27T07:55:52.396Z"
   },
   {
    "duration": 144,
    "start_time": "2022-05-27T07:56:36.038Z"
   },
   {
    "duration": 214,
    "start_time": "2022-05-27T07:57:26.325Z"
   },
   {
    "duration": 194,
    "start_time": "2022-05-27T07:57:32.540Z"
   },
   {
    "duration": 160,
    "start_time": "2022-05-27T07:57:36.508Z"
   },
   {
    "duration": 304,
    "start_time": "2022-05-27T08:00:14.871Z"
   },
   {
    "duration": 6,
    "start_time": "2022-05-27T08:00:44.777Z"
   },
   {
    "duration": 208,
    "start_time": "2022-05-27T08:04:15.527Z"
   },
   {
    "duration": 377,
    "start_time": "2022-05-27T08:07:21.094Z"
   },
   {
    "duration": 375,
    "start_time": "2022-05-27T08:07:40.476Z"
   },
   {
    "duration": 6,
    "start_time": "2022-05-27T08:08:20.851Z"
   },
   {
    "duration": 526,
    "start_time": "2022-05-27T08:12:17.991Z"
   },
   {
    "duration": 5,
    "start_time": "2022-05-27T08:13:01.369Z"
   },
   {
    "duration": 536,
    "start_time": "2022-05-27T08:13:21.109Z"
   },
   {
    "duration": 6,
    "start_time": "2022-05-27T08:13:44.747Z"
   },
   {
    "duration": 316,
    "start_time": "2022-05-27T08:14:16.058Z"
   },
   {
    "duration": 6,
    "start_time": "2022-05-27T08:14:42.754Z"
   },
   {
    "duration": 23,
    "start_time": "2022-05-27T08:22:36.812Z"
   },
   {
    "duration": 60,
    "start_time": "2022-05-27T08:22:41.662Z"
   },
   {
    "duration": 14,
    "start_time": "2022-05-27T08:22:52.930Z"
   },
   {
    "duration": 268,
    "start_time": "2022-05-27T08:23:00.848Z"
   },
   {
    "duration": 11,
    "start_time": "2022-05-27T11:09:52.339Z"
   },
   {
    "duration": 3227,
    "start_time": "2022-05-27T17:31:59.198Z"
   },
   {
    "duration": 53,
    "start_time": "2022-05-27T17:32:02.431Z"
   },
   {
    "duration": 21,
    "start_time": "2022-05-27T17:32:02.487Z"
   },
   {
    "duration": 112,
    "start_time": "2022-05-27T17:32:02.510Z"
   },
   {
    "duration": 13,
    "start_time": "2022-05-27T17:32:02.630Z"
   },
   {
    "duration": 29,
    "start_time": "2022-05-27T17:32:02.646Z"
   },
   {
    "duration": 15,
    "start_time": "2022-05-27T17:32:02.677Z"
   },
   {
    "duration": 12,
    "start_time": "2022-05-27T17:32:02.695Z"
   },
   {
    "duration": 38,
    "start_time": "2022-05-27T17:32:02.709Z"
   },
   {
    "duration": 27,
    "start_time": "2022-05-27T17:32:02.755Z"
   },
   {
    "duration": 34,
    "start_time": "2022-05-27T17:32:02.784Z"
   },
   {
    "duration": 49,
    "start_time": "2022-05-27T17:32:02.820Z"
   },
   {
    "duration": 73,
    "start_time": "2022-05-27T17:32:02.873Z"
   },
   {
    "duration": 16,
    "start_time": "2022-05-27T17:32:02.948Z"
   },
   {
    "duration": 52,
    "start_time": "2022-05-27T17:32:02.967Z"
   },
   {
    "duration": 8,
    "start_time": "2022-05-27T17:32:03.021Z"
   },
   {
    "duration": 57,
    "start_time": "2022-05-27T17:32:03.032Z"
   },
   {
    "duration": 63,
    "start_time": "2022-05-27T17:32:03.091Z"
   },
   {
    "duration": 64,
    "start_time": "2022-05-27T17:32:03.157Z"
   },
   {
    "duration": 86,
    "start_time": "2022-05-27T17:32:03.224Z"
   },
   {
    "duration": 82,
    "start_time": "2022-05-27T17:32:03.312Z"
   },
   {
    "duration": 59,
    "start_time": "2022-05-27T17:32:03.396Z"
   },
   {
    "duration": 32,
    "start_time": "2022-05-27T17:32:03.457Z"
   },
   {
    "duration": 71,
    "start_time": "2022-05-27T17:32:03.492Z"
   },
   {
    "duration": 101,
    "start_time": "2022-05-27T17:32:03.569Z"
   },
   {
    "duration": 42,
    "start_time": "2022-05-27T17:32:03.672Z"
   },
   {
    "duration": 41,
    "start_time": "2022-05-27T17:32:03.716Z"
   },
   {
    "duration": 119,
    "start_time": "2022-05-27T17:32:03.765Z"
   },
   {
    "duration": 72,
    "start_time": "2022-05-27T17:32:03.886Z"
   },
   {
    "duration": 55,
    "start_time": "2022-05-27T17:32:03.962Z"
   },
   {
    "duration": 35,
    "start_time": "2022-05-27T17:32:04.019Z"
   },
   {
    "duration": 19,
    "start_time": "2022-05-27T17:32:04.056Z"
   },
   {
    "duration": 643,
    "start_time": "2022-05-27T17:32:04.077Z"
   },
   {
    "duration": 20,
    "start_time": "2022-05-27T17:32:04.723Z"
   },
   {
    "duration": 55,
    "start_time": "2022-05-27T17:32:04.748Z"
   },
   {
    "duration": 263,
    "start_time": "2022-05-27T17:32:04.805Z"
   },
   {
    "duration": 307,
    "start_time": "2022-05-27T17:32:05.071Z"
   },
   {
    "duration": 11,
    "start_time": "2022-05-27T17:32:05.380Z"
   },
   {
    "duration": 187,
    "start_time": "2022-05-27T17:32:05.393Z"
   },
   {
    "duration": 370,
    "start_time": "2022-05-27T17:32:05.582Z"
   },
   {
    "duration": 11,
    "start_time": "2022-05-27T17:32:05.954Z"
   },
   {
    "duration": 179,
    "start_time": "2022-05-27T17:32:05.967Z"
   },
   {
    "duration": 236,
    "start_time": "2022-05-27T17:32:06.148Z"
   },
   {
    "duration": 14,
    "start_time": "2022-05-27T17:32:06.388Z"
   },
   {
    "duration": 200,
    "start_time": "2022-05-27T17:32:06.405Z"
   },
   {
    "duration": 346,
    "start_time": "2022-05-27T17:32:06.607Z"
   },
   {
    "duration": 21,
    "start_time": "2022-05-27T17:32:06.954Z"
   },
   {
    "duration": 180,
    "start_time": "2022-05-27T17:32:06.977Z"
   },
   {
    "duration": 267,
    "start_time": "2022-05-27T17:32:07.159Z"
   },
   {
    "duration": 282,
    "start_time": "2022-05-27T17:32:07.428Z"
   },
   {
    "duration": 272,
    "start_time": "2022-05-27T17:32:07.712Z"
   },
   {
    "duration": 107,
    "start_time": "2022-05-27T17:32:07.986Z"
   },
   {
    "duration": 50947,
    "start_time": "2022-05-27T17:32:08.096Z"
   },
   {
    "duration": 16,
    "start_time": "2022-05-27T17:32:59.050Z"
   },
   {
    "duration": 617,
    "start_time": "2022-05-27T17:32:59.068Z"
   },
   {
    "duration": 6,
    "start_time": "2022-05-27T17:32:59.687Z"
   },
   {
    "duration": 173081,
    "start_time": "2022-05-27T17:32:59.696Z"
   },
   {
    "duration": 5,
    "start_time": "2022-05-27T17:35:52.779Z"
   },
   {
    "duration": 303,
    "start_time": "2022-05-27T17:35:52.786Z"
   },
   {
    "duration": 402,
    "start_time": "2022-05-27T17:35:53.091Z"
   },
   {
    "duration": 5,
    "start_time": "2022-05-27T17:35:53.495Z"
   },
   {
    "duration": 580,
    "start_time": "2022-05-27T17:35:53.502Z"
   },
   {
    "duration": 5,
    "start_time": "2022-05-27T17:35:54.084Z"
   },
   {
    "duration": 426,
    "start_time": "2022-05-27T17:35:54.091Z"
   },
   {
    "duration": 15,
    "start_time": "2022-05-27T17:35:54.519Z"
   },
   {
    "duration": 55,
    "start_time": "2022-05-27T17:35:54.537Z"
   },
   {
    "duration": 48,
    "start_time": "2022-05-27T17:35:54.594Z"
   },
   {
    "duration": 20,
    "start_time": "2022-05-27T17:35:54.647Z"
   },
   {
    "duration": 350,
    "start_time": "2022-05-27T17:35:54.669Z"
   },
   {
    "duration": 49,
    "start_time": "2022-05-27T17:35:55.021Z"
   },
   {
    "duration": 10,
    "start_time": "2022-05-27T17:35:55.072Z"
   },
   {
    "duration": 143,
    "start_time": "2022-05-27T17:35:55.084Z"
   },
   {
    "duration": 240,
    "start_time": "2022-05-27T17:35:55.233Z"
   },
   {
    "duration": 9,
    "start_time": "2022-05-27T17:35:55.475Z"
   },
   {
    "duration": 1002,
    "start_time": "2022-05-27T17:35:55.486Z"
   },
   {
    "duration": 277,
    "start_time": "2022-05-27T17:35:56.490Z"
   },
   {
    "duration": 12,
    "start_time": "2022-05-27T17:35:56.771Z"
   },
   {
    "duration": 156,
    "start_time": "2022-05-27T17:35:56.785Z"
   },
   {
    "duration": 150,
    "start_time": "2022-05-27T17:35:56.946Z"
   },
   {
    "duration": 10,
    "start_time": "2022-05-27T17:35:57.098Z"
   },
   {
    "duration": 184,
    "start_time": "2022-05-27T17:35:57.109Z"
   },
   {
    "duration": 240,
    "start_time": "2022-05-27T17:35:57.302Z"
   },
   {
    "duration": 413,
    "start_time": "2022-05-27T17:35:57.548Z"
   },
   {
    "duration": 5,
    "start_time": "2022-05-27T17:35:57.962Z"
   },
   {
    "duration": 245,
    "start_time": "2022-05-27T17:35:57.975Z"
   },
   {
    "duration": 446,
    "start_time": "2022-05-27T17:35:58.228Z"
   },
   {
    "duration": 8,
    "start_time": "2022-05-27T17:35:58.676Z"
   },
   {
    "duration": 318,
    "start_time": "2022-05-27T17:35:58.686Z"
   },
   {
    "duration": 6,
    "start_time": "2022-05-27T17:35:59.006Z"
   },
   {
    "duration": 474,
    "start_time": "2022-05-27T17:35:59.013Z"
   },
   {
    "duration": 6,
    "start_time": "2022-05-27T17:35:59.488Z"
   },
   {
    "duration": 282,
    "start_time": "2022-05-27T17:35:59.496Z"
   },
   {
    "duration": 5,
    "start_time": "2022-05-27T17:35:59.781Z"
   },
   {
    "duration": 21,
    "start_time": "2022-05-27T17:38:52.751Z"
   },
   {
    "duration": 1198,
    "start_time": "2022-05-27T17:39:42.966Z"
   },
   {
    "duration": 8,
    "start_time": "2022-05-27T17:39:50.986Z"
   },
   {
    "duration": 224,
    "start_time": "2022-05-27T17:40:28.685Z"
   },
   {
    "duration": 188,
    "start_time": "2022-05-27T17:40:30.868Z"
   },
   {
    "duration": 40,
    "start_time": "2022-05-27T17:45:34.024Z"
   },
   {
    "duration": 36,
    "start_time": "2022-05-27T17:45:44.752Z"
   },
   {
    "duration": 7,
    "start_time": "2022-05-28T10:59:32.993Z"
   },
   {
    "duration": 1434,
    "start_time": "2022-05-28T10:59:39.337Z"
   },
   {
    "duration": 204,
    "start_time": "2022-05-28T10:59:40.774Z"
   },
   {
    "duration": 57,
    "start_time": "2022-05-28T10:59:40.980Z"
   },
   {
    "duration": 26,
    "start_time": "2022-05-28T10:59:41.040Z"
   },
   {
    "duration": 129,
    "start_time": "2022-05-28T10:59:41.085Z"
   },
   {
    "duration": 12,
    "start_time": "2022-05-28T10:59:41.216Z"
   },
   {
    "duration": 7,
    "start_time": "2022-05-28T10:59:41.230Z"
   },
   {
    "duration": 14,
    "start_time": "2022-05-28T10:59:41.239Z"
   },
   {
    "duration": 36,
    "start_time": "2022-05-28T10:59:41.255Z"
   },
   {
    "duration": 9,
    "start_time": "2022-05-28T10:59:41.295Z"
   },
   {
    "duration": 7,
    "start_time": "2022-05-28T10:59:41.307Z"
   },
   {
    "duration": 8,
    "start_time": "2022-05-28T10:59:41.316Z"
   },
   {
    "duration": 6,
    "start_time": "2022-05-28T10:59:41.326Z"
   },
   {
    "duration": 78,
    "start_time": "2022-05-28T10:59:41.334Z"
   },
   {
    "duration": 7,
    "start_time": "2022-05-28T10:59:41.414Z"
   },
   {
    "duration": 33,
    "start_time": "2022-05-28T10:59:41.423Z"
   },
   {
    "duration": 30,
    "start_time": "2022-05-28T10:59:41.458Z"
   },
   {
    "duration": 14,
    "start_time": "2022-05-28T10:59:41.489Z"
   },
   {
    "duration": 10,
    "start_time": "2022-05-28T10:59:41.505Z"
   },
   {
    "duration": 7,
    "start_time": "2022-05-28T10:59:41.517Z"
   },
   {
    "duration": 11,
    "start_time": "2022-05-28T10:59:41.526Z"
   },
   {
    "duration": 7,
    "start_time": "2022-05-28T10:59:41.539Z"
   },
   {
    "duration": 12,
    "start_time": "2022-05-28T10:59:41.583Z"
   },
   {
    "duration": 8,
    "start_time": "2022-05-28T10:59:41.596Z"
   },
   {
    "duration": 9,
    "start_time": "2022-05-28T10:59:41.605Z"
   },
   {
    "duration": 9,
    "start_time": "2022-05-28T10:59:41.615Z"
   },
   {
    "duration": 11,
    "start_time": "2022-05-28T10:59:41.625Z"
   },
   {
    "duration": 6,
    "start_time": "2022-05-28T10:59:41.683Z"
   },
   {
    "duration": 55,
    "start_time": "2022-05-28T10:59:41.691Z"
   },
   {
    "duration": 16,
    "start_time": "2022-05-28T10:59:41.748Z"
   },
   {
    "duration": 28,
    "start_time": "2022-05-28T10:59:41.766Z"
   },
   {
    "duration": 28,
    "start_time": "2022-05-28T10:59:41.796Z"
   },
   {
    "duration": 5,
    "start_time": "2022-05-28T10:59:41.826Z"
   },
   {
    "duration": 475,
    "start_time": "2022-05-28T10:59:41.833Z"
   },
   {
    "duration": 18,
    "start_time": "2022-05-28T10:59:42.310Z"
   },
   {
    "duration": 10,
    "start_time": "2022-05-28T10:59:42.329Z"
   },
   {
    "duration": 162,
    "start_time": "2022-05-28T10:59:42.342Z"
   },
   {
    "duration": 230,
    "start_time": "2022-05-28T10:59:42.506Z"
   },
   {
    "duration": 10,
    "start_time": "2022-05-28T10:59:42.738Z"
   },
   {
    "duration": 152,
    "start_time": "2022-05-28T10:59:42.750Z"
   },
   {
    "duration": 293,
    "start_time": "2022-05-28T10:59:42.904Z"
   },
   {
    "duration": 9,
    "start_time": "2022-05-28T10:59:43.199Z"
   },
   {
    "duration": 130,
    "start_time": "2022-05-28T10:59:43.210Z"
   },
   {
    "duration": 195,
    "start_time": "2022-05-28T10:59:43.342Z"
   },
   {
    "duration": 9,
    "start_time": "2022-05-28T10:59:43.539Z"
   },
   {
    "duration": 137,
    "start_time": "2022-05-28T10:59:43.549Z"
   },
   {
    "duration": 269,
    "start_time": "2022-05-28T10:59:43.688Z"
   },
   {
    "duration": 13,
    "start_time": "2022-05-28T10:59:43.959Z"
   },
   {
    "duration": 141,
    "start_time": "2022-05-28T10:59:43.973Z"
   },
   {
    "duration": 267,
    "start_time": "2022-05-28T10:59:44.116Z"
   },
   {
    "duration": 227,
    "start_time": "2022-05-28T10:59:44.384Z"
   },
   {
    "duration": 201,
    "start_time": "2022-05-28T10:59:44.613Z"
   },
   {
    "duration": 104,
    "start_time": "2022-05-28T10:59:44.816Z"
   },
   {
    "duration": 39697,
    "start_time": "2022-05-28T10:59:44.922Z"
   },
   {
    "duration": 5,
    "start_time": "2022-05-28T11:00:24.621Z"
   },
   {
    "duration": 385,
    "start_time": "2022-05-28T11:00:24.627Z"
   },
   {
    "duration": 5,
    "start_time": "2022-05-28T11:00:25.014Z"
   },
   {
    "duration": 150132,
    "start_time": "2022-05-28T11:00:25.022Z"
   },
   {
    "duration": 5,
    "start_time": "2022-05-28T11:02:55.156Z"
   },
   {
    "duration": 283,
    "start_time": "2022-05-28T11:02:55.163Z"
   },
   {
    "duration": 360,
    "start_time": "2022-05-28T11:02:55.447Z"
   },
   {
    "duration": 5,
    "start_time": "2022-05-28T11:02:55.809Z"
   },
   {
    "duration": 482,
    "start_time": "2022-05-28T11:02:55.815Z"
   },
   {
    "duration": 8,
    "start_time": "2022-05-28T11:02:56.299Z"
   },
   {
    "duration": 356,
    "start_time": "2022-05-28T11:02:56.310Z"
   },
   {
    "duration": 16,
    "start_time": "2022-05-28T11:02:56.668Z"
   },
   {
    "duration": 24,
    "start_time": "2022-05-28T11:02:56.685Z"
   },
   {
    "duration": 33,
    "start_time": "2022-05-28T11:02:56.710Z"
   },
   {
    "duration": 41,
    "start_time": "2022-05-28T11:02:56.745Z"
   },
   {
    "duration": 264,
    "start_time": "2022-05-28T11:02:56.788Z"
   },
   {
    "duration": 45,
    "start_time": "2022-05-28T11:02:57.054Z"
   },
   {
    "duration": 9,
    "start_time": "2022-05-28T11:02:57.101Z"
   },
   {
    "duration": 130,
    "start_time": "2022-05-28T11:02:57.112Z"
   },
   {
    "duration": 226,
    "start_time": "2022-05-28T11:02:57.244Z"
   },
   {
    "duration": 13,
    "start_time": "2022-05-28T11:02:57.472Z"
   },
   {
    "duration": 884,
    "start_time": "2022-05-28T11:02:57.487Z"
   },
   {
    "duration": 207,
    "start_time": "2022-05-28T11:02:58.383Z"
   },
   {
    "duration": 9,
    "start_time": "2022-05-28T11:02:58.591Z"
   },
   {
    "duration": 141,
    "start_time": "2022-05-28T11:02:58.602Z"
   },
   {
    "duration": 156,
    "start_time": "2022-05-28T11:02:58.745Z"
   },
   {
    "duration": 10,
    "start_time": "2022-05-28T11:02:58.903Z"
   },
   {
    "duration": 129,
    "start_time": "2022-05-28T11:02:58.917Z"
   },
   {
    "duration": 159,
    "start_time": "2022-05-28T11:02:59.048Z"
   },
   {
    "duration": 302,
    "start_time": "2022-05-28T11:02:59.208Z"
   },
   {
    "duration": 6,
    "start_time": "2022-05-28T11:02:59.512Z"
   },
   {
    "duration": 190,
    "start_time": "2022-05-28T11:02:59.519Z"
   },
   {
    "duration": 312,
    "start_time": "2022-05-28T11:02:59.710Z"
   },
   {
    "duration": 6,
    "start_time": "2022-05-28T11:03:00.024Z"
   },
   {
    "duration": 307,
    "start_time": "2022-05-28T11:03:00.031Z"
   },
   {
    "duration": 6,
    "start_time": "2022-05-28T11:03:00.340Z"
   },
   {
    "duration": 444,
    "start_time": "2022-05-28T11:03:00.348Z"
   },
   {
    "duration": 5,
    "start_time": "2022-05-28T11:03:00.794Z"
   },
   {
    "duration": 274,
    "start_time": "2022-05-28T11:03:00.800Z"
   },
   {
    "duration": 11,
    "start_time": "2022-05-28T11:03:01.076Z"
   },
   {
    "duration": 30,
    "start_time": "2022-05-28T11:03:01.089Z"
   },
   {
    "duration": 114,
    "start_time": "2022-05-28T11:09:23.393Z"
   },
   {
    "duration": 3,
    "start_time": "2022-05-28T11:42:20.228Z"
   },
   {
    "duration": 10,
    "start_time": "2022-05-28T11:42:52.323Z"
   },
   {
    "duration": 355,
    "start_time": "2022-05-28T11:48:57.258Z"
   },
   {
    "duration": 214,
    "start_time": "2022-05-28T11:49:26.476Z"
   },
   {
    "duration": 229,
    "start_time": "2022-05-28T11:53:31.016Z"
   },
   {
    "duration": 211,
    "start_time": "2022-05-28T11:54:48.554Z"
   },
   {
    "duration": 238,
    "start_time": "2022-05-28T11:55:00.023Z"
   },
   {
    "duration": 310,
    "start_time": "2022-05-28T11:56:35.215Z"
   },
   {
    "duration": 144,
    "start_time": "2022-05-28T11:57:36.529Z"
   },
   {
    "duration": 155,
    "start_time": "2022-05-28T11:58:26.794Z"
   },
   {
    "duration": 182,
    "start_time": "2022-05-28T11:58:42.234Z"
   },
   {
    "duration": 229,
    "start_time": "2022-05-28T12:01:12.593Z"
   },
   {
    "duration": 236,
    "start_time": "2022-05-28T12:01:25.822Z"
   },
   {
    "duration": 146,
    "start_time": "2022-05-28T12:01:49.954Z"
   },
   {
    "duration": 132,
    "start_time": "2022-05-28T12:02:07.331Z"
   },
   {
    "duration": 181,
    "start_time": "2022-05-28T12:02:16.865Z"
   },
   {
    "duration": 140,
    "start_time": "2022-05-28T12:02:26.233Z"
   },
   {
    "duration": 110,
    "start_time": "2022-05-28T12:02:41.614Z"
   },
   {
    "duration": 203,
    "start_time": "2022-05-28T12:02:55.213Z"
   },
   {
    "duration": 206,
    "start_time": "2022-05-28T12:02:59.350Z"
   },
   {
    "duration": 255,
    "start_time": "2022-05-28T12:04:40.023Z"
   },
   {
    "duration": 127,
    "start_time": "2022-05-28T12:07:31.871Z"
   },
   {
    "duration": 102,
    "start_time": "2022-05-28T12:07:54.349Z"
   },
   {
    "duration": 96,
    "start_time": "2022-05-28T12:08:06.946Z"
   },
   {
    "duration": 4,
    "start_time": "2022-05-28T12:08:42.918Z"
   },
   {
    "duration": 90,
    "start_time": "2022-05-28T12:09:25.710Z"
   },
   {
    "duration": 4,
    "start_time": "2022-05-28T12:09:28.203Z"
   },
   {
    "duration": 277,
    "start_time": "2022-05-28T12:10:13.269Z"
   },
   {
    "duration": 11,
    "start_time": "2022-05-28T12:10:57.054Z"
   },
   {
    "duration": 7,
    "start_time": "2022-05-28T12:11:11.322Z"
   },
   {
    "duration": 6,
    "start_time": "2022-05-28T12:11:22.493Z"
   },
   {
    "duration": 268,
    "start_time": "2022-05-28T12:12:16.261Z"
   },
   {
    "duration": 250,
    "start_time": "2022-05-28T12:12:22.725Z"
   },
   {
    "duration": 276,
    "start_time": "2022-05-28T12:12:31.044Z"
   },
   {
    "duration": 91,
    "start_time": "2022-05-28T12:13:08.843Z"
   },
   {
    "duration": 4,
    "start_time": "2022-05-28T12:13:11.528Z"
   },
   {
    "duration": 1174,
    "start_time": "2022-05-28T12:13:19.844Z"
   },
   {
    "duration": 107,
    "start_time": "2022-05-28T12:13:21.020Z"
   },
   {
    "duration": 37,
    "start_time": "2022-05-28T12:13:21.129Z"
   },
   {
    "duration": 31,
    "start_time": "2022-05-28T12:13:21.168Z"
   },
   {
    "duration": 105,
    "start_time": "2022-05-28T12:13:21.202Z"
   },
   {
    "duration": 10,
    "start_time": "2022-05-28T12:13:21.310Z"
   },
   {
    "duration": 48,
    "start_time": "2022-05-28T12:13:21.322Z"
   },
   {
    "duration": 41,
    "start_time": "2022-05-28T12:13:21.373Z"
   },
   {
    "duration": 39,
    "start_time": "2022-05-28T12:13:21.415Z"
   },
   {
    "duration": 34,
    "start_time": "2022-05-28T12:13:21.457Z"
   },
   {
    "duration": 27,
    "start_time": "2022-05-28T12:13:21.493Z"
   },
   {
    "duration": 32,
    "start_time": "2022-05-28T12:13:21.521Z"
   },
   {
    "duration": 31,
    "start_time": "2022-05-28T12:13:21.555Z"
   },
   {
    "duration": 45,
    "start_time": "2022-05-28T12:13:21.587Z"
   },
   {
    "duration": 7,
    "start_time": "2022-05-28T12:13:21.634Z"
   },
   {
    "duration": 46,
    "start_time": "2022-05-28T12:13:21.643Z"
   },
   {
    "duration": 6,
    "start_time": "2022-05-28T12:13:21.691Z"
   },
   {
    "duration": 20,
    "start_time": "2022-05-28T12:13:21.699Z"
   },
   {
    "duration": 29,
    "start_time": "2022-05-28T12:13:21.720Z"
   },
   {
    "duration": 12,
    "start_time": "2022-05-28T12:13:21.751Z"
   },
   {
    "duration": 19,
    "start_time": "2022-05-28T12:13:21.765Z"
   },
   {
    "duration": 11,
    "start_time": "2022-05-28T12:13:21.785Z"
   },
   {
    "duration": 17,
    "start_time": "2022-05-28T12:13:21.798Z"
   },
   {
    "duration": 15,
    "start_time": "2022-05-28T12:13:21.817Z"
   },
   {
    "duration": 13,
    "start_time": "2022-05-28T12:13:21.834Z"
   },
   {
    "duration": 17,
    "start_time": "2022-05-28T12:13:21.849Z"
   },
   {
    "duration": 20,
    "start_time": "2022-05-28T12:13:21.868Z"
   },
   {
    "duration": 32,
    "start_time": "2022-05-28T12:13:21.894Z"
   },
   {
    "duration": 21,
    "start_time": "2022-05-28T12:13:21.928Z"
   },
   {
    "duration": 40,
    "start_time": "2022-05-28T12:13:21.951Z"
   },
   {
    "duration": 29,
    "start_time": "2022-05-28T12:13:21.993Z"
   },
   {
    "duration": 4,
    "start_time": "2022-05-28T12:13:22.024Z"
   },
   {
    "duration": 480,
    "start_time": "2022-05-28T12:13:22.029Z"
   },
   {
    "duration": 19,
    "start_time": "2022-05-28T12:13:22.511Z"
   },
   {
    "duration": 9,
    "start_time": "2022-05-28T12:13:22.532Z"
   },
   {
    "duration": 164,
    "start_time": "2022-05-28T12:13:22.543Z"
   },
   {
    "duration": 239,
    "start_time": "2022-05-28T12:13:22.709Z"
   },
   {
    "duration": 11,
    "start_time": "2022-05-28T12:13:22.950Z"
   },
   {
    "duration": 188,
    "start_time": "2022-05-28T12:13:22.964Z"
   },
   {
    "duration": 311,
    "start_time": "2022-05-28T12:13:23.154Z"
   },
   {
    "duration": 19,
    "start_time": "2022-05-28T12:13:23.467Z"
   },
   {
    "duration": 114,
    "start_time": "2022-05-28T12:13:23.487Z"
   },
   {
    "duration": 170,
    "start_time": "2022-05-28T12:13:23.603Z"
   },
   {
    "duration": 15,
    "start_time": "2022-05-28T12:13:23.775Z"
   },
   {
    "duration": 153,
    "start_time": "2022-05-28T12:13:23.792Z"
   },
   {
    "duration": 279,
    "start_time": "2022-05-28T12:13:23.947Z"
   },
   {
    "duration": 16,
    "start_time": "2022-05-28T12:13:24.228Z"
   },
   {
    "duration": 117,
    "start_time": "2022-05-28T12:13:24.246Z"
   },
   {
    "duration": 205,
    "start_time": "2022-05-28T12:13:24.365Z"
   },
   {
    "duration": 196,
    "start_time": "2022-05-28T12:13:24.572Z"
   },
   {
    "duration": 224,
    "start_time": "2022-05-28T12:13:24.771Z"
   },
   {
    "duration": 100,
    "start_time": "2022-05-28T12:13:24.996Z"
   },
   {
    "duration": 4,
    "start_time": "2022-05-28T12:13:25.098Z"
   },
   {
    "duration": 51341,
    "start_time": "2022-05-28T12:13:25.103Z"
   },
   {
    "duration": 5,
    "start_time": "2022-05-28T12:14:16.446Z"
   },
   {
    "duration": 612,
    "start_time": "2022-05-28T12:14:16.454Z"
   },
   {
    "duration": 6,
    "start_time": "2022-05-28T12:14:17.068Z"
   },
   {
    "duration": 1251,
    "start_time": "2022-05-28T12:15:57.735Z"
   },
   {
    "duration": 105,
    "start_time": "2022-05-28T12:15:58.988Z"
   },
   {
    "duration": 36,
    "start_time": "2022-05-28T12:15:59.098Z"
   },
   {
    "duration": 14,
    "start_time": "2022-05-28T12:15:59.135Z"
   },
   {
    "duration": 98,
    "start_time": "2022-05-28T12:15:59.152Z"
   },
   {
    "duration": 13,
    "start_time": "2022-05-28T12:15:59.251Z"
   },
   {
    "duration": 23,
    "start_time": "2022-05-28T12:15:59.266Z"
   },
   {
    "duration": 10,
    "start_time": "2022-05-28T12:15:59.293Z"
   },
   {
    "duration": 20,
    "start_time": "2022-05-28T12:15:59.305Z"
   },
   {
    "duration": 8,
    "start_time": "2022-05-28T12:15:59.327Z"
   },
   {
    "duration": 7,
    "start_time": "2022-05-28T12:15:59.337Z"
   },
   {
    "duration": 10,
    "start_time": "2022-05-28T12:15:59.346Z"
   },
   {
    "duration": 30,
    "start_time": "2022-05-28T12:15:59.358Z"
   },
   {
    "duration": 40,
    "start_time": "2022-05-28T12:15:59.393Z"
   },
   {
    "duration": 7,
    "start_time": "2022-05-28T12:15:59.435Z"
   },
   {
    "duration": 61,
    "start_time": "2022-05-28T12:15:59.444Z"
   },
   {
    "duration": 10,
    "start_time": "2022-05-28T12:15:59.507Z"
   },
   {
    "duration": 12,
    "start_time": "2022-05-28T12:15:59.519Z"
   },
   {
    "duration": 16,
    "start_time": "2022-05-28T12:15:59.533Z"
   },
   {
    "duration": 8,
    "start_time": "2022-05-28T12:15:59.551Z"
   },
   {
    "duration": 41,
    "start_time": "2022-05-28T12:15:59.561Z"
   },
   {
    "duration": 9,
    "start_time": "2022-05-28T12:15:59.604Z"
   },
   {
    "duration": 16,
    "start_time": "2022-05-28T12:15:59.615Z"
   },
   {
    "duration": 7,
    "start_time": "2022-05-28T12:15:59.632Z"
   },
   {
    "duration": 8,
    "start_time": "2022-05-28T12:15:59.640Z"
   },
   {
    "duration": 9,
    "start_time": "2022-05-28T12:15:59.649Z"
   },
   {
    "duration": 27,
    "start_time": "2022-05-28T12:15:59.660Z"
   },
   {
    "duration": 32,
    "start_time": "2022-05-28T12:15:59.688Z"
   },
   {
    "duration": 15,
    "start_time": "2022-05-28T12:15:59.722Z"
   },
   {
    "duration": 12,
    "start_time": "2022-05-28T12:15:59.739Z"
   },
   {
    "duration": 51,
    "start_time": "2022-05-28T12:15:59.753Z"
   },
   {
    "duration": 2,
    "start_time": "2022-05-28T12:15:59.806Z"
   },
   {
    "duration": 425,
    "start_time": "2022-05-28T12:15:59.810Z"
   },
   {
    "duration": 23,
    "start_time": "2022-05-28T12:16:00.237Z"
   },
   {
    "duration": 41,
    "start_time": "2022-05-28T12:16:00.262Z"
   },
   {
    "duration": 159,
    "start_time": "2022-05-28T12:16:00.304Z"
   },
   {
    "duration": 260,
    "start_time": "2022-05-28T12:16:00.465Z"
   },
   {
    "duration": 12,
    "start_time": "2022-05-28T12:16:00.727Z"
   },
   {
    "duration": 162,
    "start_time": "2022-05-28T12:16:00.741Z"
   },
   {
    "duration": 303,
    "start_time": "2022-05-28T12:16:00.906Z"
   },
   {
    "duration": 9,
    "start_time": "2022-05-28T12:16:01.214Z"
   },
   {
    "duration": 126,
    "start_time": "2022-05-28T12:16:01.225Z"
   },
   {
    "duration": 188,
    "start_time": "2022-05-28T12:16:01.354Z"
   },
   {
    "duration": 11,
    "start_time": "2022-05-28T12:16:01.544Z"
   },
   {
    "duration": 158,
    "start_time": "2022-05-28T12:16:01.557Z"
   },
   {
    "duration": 318,
    "start_time": "2022-05-28T12:16:01.717Z"
   },
   {
    "duration": 10,
    "start_time": "2022-05-28T12:16:02.037Z"
   },
   {
    "duration": 273,
    "start_time": "2022-05-28T12:16:02.049Z"
   },
   {
    "duration": 0,
    "start_time": "2022-05-28T12:16:02.324Z"
   },
   {
    "duration": 0,
    "start_time": "2022-05-28T12:16:02.328Z"
   },
   {
    "duration": 0,
    "start_time": "2022-05-28T12:16:02.330Z"
   },
   {
    "duration": 0,
    "start_time": "2022-05-28T12:16:02.331Z"
   },
   {
    "duration": 0,
    "start_time": "2022-05-28T12:16:02.333Z"
   },
   {
    "duration": 0,
    "start_time": "2022-05-28T12:16:02.335Z"
   },
   {
    "duration": 0,
    "start_time": "2022-05-28T12:16:02.336Z"
   },
   {
    "duration": 0,
    "start_time": "2022-05-28T12:16:02.337Z"
   },
   {
    "duration": 0,
    "start_time": "2022-05-28T12:16:02.346Z"
   },
   {
    "duration": 0,
    "start_time": "2022-05-28T12:16:02.347Z"
   },
   {
    "duration": 0,
    "start_time": "2022-05-28T12:16:02.348Z"
   },
   {
    "duration": 0,
    "start_time": "2022-05-28T12:16:02.349Z"
   },
   {
    "duration": 0,
    "start_time": "2022-05-28T12:16:02.351Z"
   },
   {
    "duration": 0,
    "start_time": "2022-05-28T12:16:02.352Z"
   },
   {
    "duration": 0,
    "start_time": "2022-05-28T12:16:02.353Z"
   },
   {
    "duration": 0,
    "start_time": "2022-05-28T12:16:02.358Z"
   },
   {
    "duration": 0,
    "start_time": "2022-05-28T12:16:02.360Z"
   },
   {
    "duration": 0,
    "start_time": "2022-05-28T12:16:02.361Z"
   },
   {
    "duration": 0,
    "start_time": "2022-05-28T12:16:02.362Z"
   },
   {
    "duration": 0,
    "start_time": "2022-05-28T12:16:02.362Z"
   },
   {
    "duration": 0,
    "start_time": "2022-05-28T12:16:02.363Z"
   },
   {
    "duration": 0,
    "start_time": "2022-05-28T12:16:02.363Z"
   },
   {
    "duration": 0,
    "start_time": "2022-05-28T12:16:02.364Z"
   },
   {
    "duration": 0,
    "start_time": "2022-05-28T12:16:02.384Z"
   },
   {
    "duration": 0,
    "start_time": "2022-05-28T12:16:02.387Z"
   },
   {
    "duration": 0,
    "start_time": "2022-05-28T12:16:02.388Z"
   },
   {
    "duration": 0,
    "start_time": "2022-05-28T12:16:02.390Z"
   },
   {
    "duration": 0,
    "start_time": "2022-05-28T12:16:02.394Z"
   },
   {
    "duration": 0,
    "start_time": "2022-05-28T12:16:02.396Z"
   },
   {
    "duration": 0,
    "start_time": "2022-05-28T12:16:02.397Z"
   },
   {
    "duration": 0,
    "start_time": "2022-05-28T12:16:02.398Z"
   },
   {
    "duration": 1,
    "start_time": "2022-05-28T12:16:02.400Z"
   },
   {
    "duration": 0,
    "start_time": "2022-05-28T12:16:02.402Z"
   },
   {
    "duration": 0,
    "start_time": "2022-05-28T12:16:02.403Z"
   },
   {
    "duration": 0,
    "start_time": "2022-05-28T12:16:02.404Z"
   },
   {
    "duration": 0,
    "start_time": "2022-05-28T12:16:02.405Z"
   },
   {
    "duration": 0,
    "start_time": "2022-05-28T12:16:02.406Z"
   },
   {
    "duration": 1,
    "start_time": "2022-05-28T12:16:02.407Z"
   },
   {
    "duration": 0,
    "start_time": "2022-05-28T12:16:02.409Z"
   },
   {
    "duration": 0,
    "start_time": "2022-05-28T12:16:02.410Z"
   },
   {
    "duration": 0,
    "start_time": "2022-05-28T12:16:02.411Z"
   },
   {
    "duration": 0,
    "start_time": "2022-05-28T12:16:02.412Z"
   },
   {
    "duration": 0,
    "start_time": "2022-05-28T12:16:02.413Z"
   },
   {
    "duration": 0,
    "start_time": "2022-05-28T12:16:02.415Z"
   },
   {
    "duration": 0,
    "start_time": "2022-05-28T12:16:02.416Z"
   },
   {
    "duration": 0,
    "start_time": "2022-05-28T12:16:02.417Z"
   },
   {
    "duration": 259,
    "start_time": "2022-05-28T12:19:02.544Z"
   },
   {
    "duration": 220,
    "start_time": "2022-05-28T12:19:23.318Z"
   },
   {
    "duration": 176,
    "start_time": "2022-05-28T12:20:37.347Z"
   },
   {
    "duration": 119,
    "start_time": "2022-05-28T12:20:54.494Z"
   },
   {
    "duration": 283,
    "start_time": "2022-05-28T12:21:08.765Z"
   },
   {
    "duration": 238,
    "start_time": "2022-05-28T12:21:16.880Z"
   },
   {
    "duration": 364,
    "start_time": "2022-05-28T12:21:21.493Z"
   },
   {
    "duration": 121,
    "start_time": "2022-05-28T12:21:52.854Z"
   },
   {
    "duration": 5,
    "start_time": "2022-05-28T12:21:56.472Z"
   },
   {
    "duration": 4,
    "start_time": "2022-05-28T12:22:19.823Z"
   },
   {
    "duration": 106,
    "start_time": "2022-05-28T12:22:40.496Z"
   },
   {
    "duration": 11,
    "start_time": "2022-05-28T12:22:56.550Z"
   },
   {
    "duration": 52258,
    "start_time": "2022-05-28T12:23:01.963Z"
   },
   {
    "duration": 17,
    "start_time": "2022-05-28T12:24:10.257Z"
   },
   {
    "duration": 7,
    "start_time": "2022-05-28T12:24:14.739Z"
   },
   {
    "duration": 464,
    "start_time": "2022-05-28T12:24:48.864Z"
   },
   {
    "duration": 6,
    "start_time": "2022-05-28T12:24:52.530Z"
   },
   {
    "duration": 1252,
    "start_time": "2022-05-28T12:28:30.516Z"
   },
   {
    "duration": 111,
    "start_time": "2022-05-28T12:28:31.770Z"
   },
   {
    "duration": 47,
    "start_time": "2022-05-28T12:28:31.883Z"
   },
   {
    "duration": 17,
    "start_time": "2022-05-28T12:28:31.932Z"
   },
   {
    "duration": 101,
    "start_time": "2022-05-28T12:28:31.951Z"
   },
   {
    "duration": 11,
    "start_time": "2022-05-28T12:28:32.054Z"
   },
   {
    "duration": 18,
    "start_time": "2022-05-28T12:28:32.067Z"
   },
   {
    "duration": 16,
    "start_time": "2022-05-28T12:28:32.087Z"
   },
   {
    "duration": 11,
    "start_time": "2022-05-28T12:28:32.105Z"
   },
   {
    "duration": 7,
    "start_time": "2022-05-28T12:28:32.118Z"
   },
   {
    "duration": 7,
    "start_time": "2022-05-28T12:28:32.127Z"
   },
   {
    "duration": 7,
    "start_time": "2022-05-28T12:28:32.136Z"
   },
   {
    "duration": 7,
    "start_time": "2022-05-28T12:28:32.144Z"
   },
   {
    "duration": 31,
    "start_time": "2022-05-28T12:28:32.189Z"
   },
   {
    "duration": 6,
    "start_time": "2022-05-28T12:28:32.222Z"
   },
   {
    "duration": 32,
    "start_time": "2022-05-28T12:28:32.229Z"
   },
   {
    "duration": 31,
    "start_time": "2022-05-28T12:28:32.263Z"
   },
   {
    "duration": 17,
    "start_time": "2022-05-28T12:28:32.296Z"
   },
   {
    "duration": 10,
    "start_time": "2022-05-28T12:28:32.315Z"
   },
   {
    "duration": 15,
    "start_time": "2022-05-28T12:28:32.327Z"
   },
   {
    "duration": 18,
    "start_time": "2022-05-28T12:28:32.344Z"
   },
   {
    "duration": 34,
    "start_time": "2022-05-28T12:28:32.364Z"
   },
   {
    "duration": 12,
    "start_time": "2022-05-28T12:28:32.400Z"
   },
   {
    "duration": 8,
    "start_time": "2022-05-28T12:28:32.413Z"
   },
   {
    "duration": 8,
    "start_time": "2022-05-28T12:28:32.422Z"
   },
   {
    "duration": 10,
    "start_time": "2022-05-28T12:28:32.432Z"
   },
   {
    "duration": 6,
    "start_time": "2022-05-28T12:28:32.443Z"
   },
   {
    "duration": 69,
    "start_time": "2022-05-28T12:28:32.454Z"
   },
   {
    "duration": 14,
    "start_time": "2022-05-28T12:28:32.525Z"
   },
   {
    "duration": 13,
    "start_time": "2022-05-28T12:28:32.541Z"
   },
   {
    "duration": 46,
    "start_time": "2022-05-28T12:28:32.556Z"
   },
   {
    "duration": 2,
    "start_time": "2022-05-28T12:28:32.604Z"
   },
   {
    "duration": 426,
    "start_time": "2022-05-28T12:28:32.608Z"
   },
   {
    "duration": 18,
    "start_time": "2022-05-28T12:28:33.036Z"
   },
   {
    "duration": 8,
    "start_time": "2022-05-28T12:28:33.055Z"
   },
   {
    "duration": 152,
    "start_time": "2022-05-28T12:28:33.065Z"
   },
   {
    "duration": 232,
    "start_time": "2022-05-28T12:28:33.219Z"
   },
   {
    "duration": 10,
    "start_time": "2022-05-28T12:28:33.453Z"
   },
   {
    "duration": 154,
    "start_time": "2022-05-28T12:28:33.465Z"
   },
   {
    "duration": 240,
    "start_time": "2022-05-28T12:28:33.621Z"
   },
   {
    "duration": 8,
    "start_time": "2022-05-28T12:28:33.863Z"
   },
   {
    "duration": 124,
    "start_time": "2022-05-28T12:28:33.873Z"
   },
   {
    "duration": 177,
    "start_time": "2022-05-28T12:28:34.000Z"
   },
   {
    "duration": 15,
    "start_time": "2022-05-28T12:28:34.179Z"
   },
   {
    "duration": 143,
    "start_time": "2022-05-28T12:28:34.196Z"
   },
   {
    "duration": 286,
    "start_time": "2022-05-28T12:28:34.341Z"
   },
   {
    "duration": 9,
    "start_time": "2022-05-28T12:28:34.629Z"
   },
   {
    "duration": 121,
    "start_time": "2022-05-28T12:28:34.640Z"
   },
   {
    "duration": 225,
    "start_time": "2022-05-28T12:28:34.764Z"
   },
   {
    "duration": 213,
    "start_time": "2022-05-28T12:28:34.992Z"
   },
   {
    "duration": 230,
    "start_time": "2022-05-28T12:28:35.208Z"
   },
   {
    "duration": 111,
    "start_time": "2022-05-28T12:28:35.440Z"
   },
   {
    "duration": 3,
    "start_time": "2022-05-28T12:28:35.553Z"
   },
   {
    "duration": 50211,
    "start_time": "2022-05-28T12:28:35.558Z"
   },
   {
    "duration": 17,
    "start_time": "2022-05-28T12:29:25.771Z"
   },
   {
    "duration": 472,
    "start_time": "2022-05-28T12:29:25.791Z"
   },
   {
    "duration": 5,
    "start_time": "2022-05-28T12:29:26.265Z"
   },
   {
    "duration": 184192,
    "start_time": "2022-05-28T12:29:26.272Z"
   },
   {
    "duration": 6,
    "start_time": "2022-05-28T12:32:30.466Z"
   },
   {
    "duration": 365,
    "start_time": "2022-05-28T12:32:30.485Z"
   },
   {
    "duration": 474,
    "start_time": "2022-05-28T12:32:30.853Z"
   },
   {
    "duration": 3,
    "start_time": "2022-05-28T12:32:31.329Z"
   },
   {
    "duration": 621,
    "start_time": "2022-05-28T12:32:31.334Z"
   },
   {
    "duration": 3,
    "start_time": "2022-05-28T12:32:31.957Z"
   },
   {
    "duration": 433,
    "start_time": "2022-05-28T12:32:31.963Z"
   },
   {
    "duration": 3,
    "start_time": "2022-05-28T12:32:32.398Z"
   },
   {
    "duration": 31,
    "start_time": "2022-05-28T12:32:32.404Z"
   },
   {
    "duration": 75,
    "start_time": "2022-05-28T12:32:32.437Z"
   },
   {
    "duration": 15,
    "start_time": "2022-05-28T12:32:32.514Z"
   },
   {
    "duration": 342,
    "start_time": "2022-05-28T12:32:32.531Z"
   },
   {
    "duration": 60,
    "start_time": "2022-05-28T12:32:32.876Z"
   },
   {
    "duration": 9,
    "start_time": "2022-05-28T12:32:32.938Z"
   },
   {
    "duration": 172,
    "start_time": "2022-05-28T12:32:32.948Z"
   },
   {
    "duration": 266,
    "start_time": "2022-05-28T12:32:33.122Z"
   },
   {
    "duration": 19,
    "start_time": "2022-05-28T12:32:33.391Z"
   },
   {
    "duration": 149,
    "start_time": "2022-05-28T12:32:33.413Z"
   },
   {
    "duration": 279,
    "start_time": "2022-05-28T12:32:33.563Z"
   },
   {
    "duration": 10,
    "start_time": "2022-05-28T12:32:33.844Z"
   },
   {
    "duration": 163,
    "start_time": "2022-05-28T12:32:33.856Z"
   },
   {
    "duration": 199,
    "start_time": "2022-05-28T12:32:34.020Z"
   },
   {
    "duration": 11,
    "start_time": "2022-05-28T12:32:34.221Z"
   },
   {
    "duration": 176,
    "start_time": "2022-05-28T12:32:34.238Z"
   },
   {
    "duration": 221,
    "start_time": "2022-05-28T12:32:34.416Z"
   },
   {
    "duration": 564,
    "start_time": "2022-05-28T12:32:34.639Z"
   },
   {
    "duration": 6,
    "start_time": "2022-05-28T12:32:35.209Z"
   },
   {
    "duration": 250,
    "start_time": "2022-05-28T12:32:35.217Z"
   },
   {
    "duration": 434,
    "start_time": "2022-05-28T12:32:35.470Z"
   },
   {
    "duration": 7,
    "start_time": "2022-05-28T12:32:35.907Z"
   },
   {
    "duration": 338,
    "start_time": "2022-05-28T12:32:35.916Z"
   },
   {
    "duration": 6,
    "start_time": "2022-05-28T12:32:36.256Z"
   },
   {
    "duration": 530,
    "start_time": "2022-05-28T12:32:36.264Z"
   },
   {
    "duration": 13,
    "start_time": "2022-05-28T12:32:36.796Z"
   },
   {
    "duration": 390,
    "start_time": "2022-05-28T12:32:36.811Z"
   },
   {
    "duration": 10,
    "start_time": "2022-05-28T12:32:37.203Z"
   },
   {
    "duration": 3,
    "start_time": "2022-05-28T12:32:37.232Z"
   },
   {
    "duration": 34,
    "start_time": "2022-05-28T12:32:37.237Z"
   },
   {
    "duration": 119,
    "start_time": "2022-05-28T12:32:59.333Z"
   },
   {
    "duration": 5,
    "start_time": "2022-05-28T12:33:01.758Z"
   },
   {
    "duration": 6,
    "start_time": "2022-05-28T12:33:50.669Z"
   },
   {
    "duration": 4,
    "start_time": "2022-05-28T12:34:08.834Z"
   },
   {
    "duration": 103,
    "start_time": "2022-05-28T12:35:43.042Z"
   },
   {
    "duration": 4,
    "start_time": "2022-05-28T12:35:45.276Z"
   },
   {
    "duration": 111,
    "start_time": "2022-05-28T12:36:01.537Z"
   },
   {
    "duration": 131,
    "start_time": "2022-05-28T12:36:05.502Z"
   },
   {
    "duration": 4,
    "start_time": "2022-05-28T12:36:07.835Z"
   },
   {
    "duration": 132,
    "start_time": "2022-05-28T12:38:03.402Z"
   },
   {
    "duration": 5,
    "start_time": "2022-05-28T12:38:06.272Z"
   },
   {
    "duration": 122,
    "start_time": "2022-05-28T12:38:11.675Z"
   },
   {
    "duration": 5,
    "start_time": "2022-05-28T12:38:13.718Z"
   },
   {
    "duration": 115,
    "start_time": "2022-05-28T12:39:00.636Z"
   },
   {
    "duration": 4,
    "start_time": "2022-05-28T12:39:02.858Z"
   },
   {
    "duration": 39,
    "start_time": "2022-05-28T12:41:11.988Z"
   },
   {
    "duration": 669,
    "start_time": "2022-05-28T12:41:53.669Z"
   },
   {
    "duration": 707,
    "start_time": "2022-05-28T12:42:58.144Z"
   },
   {
    "duration": 33,
    "start_time": "2022-05-28T12:43:11.639Z"
   },
   {
    "duration": 8037,
    "start_time": "2022-05-28T12:43:22.580Z"
   },
   {
    "duration": 7643,
    "start_time": "2022-05-28T12:43:59.211Z"
   },
   {
    "duration": 7495,
    "start_time": "2022-05-28T12:44:25.024Z"
   },
   {
    "duration": 346,
    "start_time": "2022-05-28T12:45:37.913Z"
   },
   {
    "duration": 302,
    "start_time": "2022-05-28T12:46:55.354Z"
   },
   {
    "duration": 188,
    "start_time": "2022-05-28T12:47:21.105Z"
   },
   {
    "duration": 4,
    "start_time": "2022-05-28T13:09:02.477Z"
   },
   {
    "duration": 130,
    "start_time": "2022-05-28T13:10:07.271Z"
   },
   {
    "duration": 5,
    "start_time": "2022-05-28T13:10:10.830Z"
   },
   {
    "duration": 113,
    "start_time": "2022-05-28T13:10:15.632Z"
   },
   {
    "duration": 5,
    "start_time": "2022-05-28T13:10:18.360Z"
   },
   {
    "duration": 103,
    "start_time": "2022-05-28T13:10:49.334Z"
   },
   {
    "duration": 5,
    "start_time": "2022-05-28T13:10:51.763Z"
   },
   {
    "duration": 111,
    "start_time": "2022-05-28T13:11:13.663Z"
   },
   {
    "duration": 5,
    "start_time": "2022-05-28T13:11:16.325Z"
   },
   {
    "duration": 105,
    "start_time": "2022-05-28T13:11:40.778Z"
   },
   {
    "duration": 4,
    "start_time": "2022-05-28T13:11:43.273Z"
   },
   {
    "duration": 115,
    "start_time": "2022-05-28T13:11:47.245Z"
   },
   {
    "duration": 5,
    "start_time": "2022-05-28T13:11:49.658Z"
   },
   {
    "duration": 116,
    "start_time": "2022-05-28T13:12:28.360Z"
   },
   {
    "duration": 4,
    "start_time": "2022-05-28T13:12:30.621Z"
   },
   {
    "duration": 136,
    "start_time": "2022-05-28T13:12:40.925Z"
   },
   {
    "duration": 8,
    "start_time": "2022-05-28T13:12:43.115Z"
   },
   {
    "duration": 124,
    "start_time": "2022-05-28T13:12:51.155Z"
   },
   {
    "duration": 117,
    "start_time": "2022-05-28T13:13:23.069Z"
   },
   {
    "duration": 4,
    "start_time": "2022-05-28T13:13:25.572Z"
   },
   {
    "duration": 1283,
    "start_time": "2022-05-28T13:13:51.620Z"
   },
   {
    "duration": 167,
    "start_time": "2022-05-28T13:13:52.905Z"
   },
   {
    "duration": 57,
    "start_time": "2022-05-28T13:13:53.074Z"
   },
   {
    "duration": 22,
    "start_time": "2022-05-28T13:13:53.134Z"
   },
   {
    "duration": 102,
    "start_time": "2022-05-28T13:13:53.158Z"
   },
   {
    "duration": 14,
    "start_time": "2022-05-28T13:13:53.262Z"
   },
   {
    "duration": 14,
    "start_time": "2022-05-28T13:13:53.289Z"
   },
   {
    "duration": 36,
    "start_time": "2022-05-28T13:13:53.312Z"
   },
   {
    "duration": 13,
    "start_time": "2022-05-28T13:13:53.350Z"
   },
   {
    "duration": 8,
    "start_time": "2022-05-28T13:13:53.367Z"
   },
   {
    "duration": 14,
    "start_time": "2022-05-28T13:13:53.377Z"
   },
   {
    "duration": 42,
    "start_time": "2022-05-28T13:13:53.392Z"
   },
   {
    "duration": 11,
    "start_time": "2022-05-28T13:13:53.436Z"
   },
   {
    "duration": 54,
    "start_time": "2022-05-28T13:13:53.449Z"
   },
   {
    "duration": 9,
    "start_time": "2022-05-28T13:13:53.508Z"
   },
   {
    "duration": 40,
    "start_time": "2022-05-28T13:13:53.519Z"
   },
   {
    "duration": 7,
    "start_time": "2022-05-28T13:13:53.561Z"
   },
   {
    "duration": 10,
    "start_time": "2022-05-28T13:13:53.570Z"
   },
   {
    "duration": 48,
    "start_time": "2022-05-28T13:13:53.582Z"
   },
   {
    "duration": 20,
    "start_time": "2022-05-28T13:13:53.632Z"
   },
   {
    "duration": 8,
    "start_time": "2022-05-28T13:13:53.655Z"
   },
   {
    "duration": 12,
    "start_time": "2022-05-28T13:13:53.665Z"
   },
   {
    "duration": 26,
    "start_time": "2022-05-28T13:13:53.678Z"
   },
   {
    "duration": 38,
    "start_time": "2022-05-28T13:13:53.709Z"
   },
   {
    "duration": 2,
    "start_time": "2022-05-28T13:13:53.749Z"
   },
   {
    "duration": 15,
    "start_time": "2022-05-28T13:13:53.753Z"
   },
   {
    "duration": 19,
    "start_time": "2022-05-28T13:13:53.770Z"
   },
   {
    "duration": 12,
    "start_time": "2022-05-28T13:13:53.799Z"
   },
   {
    "duration": 46,
    "start_time": "2022-05-28T13:13:53.813Z"
   },
   {
    "duration": 14,
    "start_time": "2022-05-28T13:13:53.860Z"
   },
   {
    "duration": 37,
    "start_time": "2022-05-28T13:13:53.876Z"
   },
   {
    "duration": 42,
    "start_time": "2022-05-28T13:13:53.915Z"
   },
   {
    "duration": 4,
    "start_time": "2022-05-28T13:13:53.959Z"
   },
   {
    "duration": 475,
    "start_time": "2022-05-28T13:13:53.965Z"
   },
   {
    "duration": 18,
    "start_time": "2022-05-28T13:13:54.442Z"
   },
   {
    "duration": 9,
    "start_time": "2022-05-28T13:13:54.461Z"
   },
   {
    "duration": 142,
    "start_time": "2022-05-28T13:13:54.488Z"
   },
   {
    "duration": 248,
    "start_time": "2022-05-28T13:13:54.632Z"
   },
   {
    "duration": 18,
    "start_time": "2022-05-28T13:13:54.905Z"
   },
   {
    "duration": 153,
    "start_time": "2022-05-28T13:13:54.925Z"
   },
   {
    "duration": 280,
    "start_time": "2022-05-28T13:13:55.080Z"
   },
   {
    "duration": 10,
    "start_time": "2022-05-28T13:13:55.361Z"
   },
   {
    "duration": 137,
    "start_time": "2022-05-28T13:13:55.373Z"
   },
   {
    "duration": 161,
    "start_time": "2022-05-28T13:13:55.514Z"
   },
   {
    "duration": 13,
    "start_time": "2022-05-28T13:13:55.677Z"
   },
   {
    "duration": 168,
    "start_time": "2022-05-28T13:13:55.692Z"
   },
   {
    "duration": 295,
    "start_time": "2022-05-28T13:13:55.861Z"
   },
   {
    "duration": 10,
    "start_time": "2022-05-28T13:13:56.158Z"
   },
   {
    "duration": 128,
    "start_time": "2022-05-28T13:13:56.170Z"
   },
   {
    "duration": 239,
    "start_time": "2022-05-28T13:13:56.299Z"
   },
   {
    "duration": 260,
    "start_time": "2022-05-28T13:13:56.540Z"
   },
   {
    "duration": 268,
    "start_time": "2022-05-28T13:13:56.806Z"
   },
   {
    "duration": 137,
    "start_time": "2022-05-28T13:13:57.076Z"
   },
   {
    "duration": 5,
    "start_time": "2022-05-28T13:13:57.215Z"
   },
   {
    "duration": 50020,
    "start_time": "2022-05-28T13:13:57.222Z"
   },
   {
    "duration": 6,
    "start_time": "2022-05-28T13:14:47.244Z"
   },
   {
    "duration": 459,
    "start_time": "2022-05-28T13:14:47.251Z"
   },
   {
    "duration": 7,
    "start_time": "2022-05-28T13:14:47.716Z"
   },
   {
    "duration": 1169,
    "start_time": "2022-05-28T13:15:05.433Z"
   },
   {
    "duration": 117,
    "start_time": "2022-05-28T13:15:06.603Z"
   },
   {
    "duration": 34,
    "start_time": "2022-05-28T13:15:06.722Z"
   },
   {
    "duration": 28,
    "start_time": "2022-05-28T13:15:06.758Z"
   },
   {
    "duration": 83,
    "start_time": "2022-05-28T13:15:06.788Z"
   },
   {
    "duration": 43,
    "start_time": "2022-05-28T13:15:06.873Z"
   },
   {
    "duration": 17,
    "start_time": "2022-05-28T13:15:06.918Z"
   },
   {
    "duration": 12,
    "start_time": "2022-05-28T13:15:06.937Z"
   },
   {
    "duration": 9,
    "start_time": "2022-05-28T13:15:06.951Z"
   },
   {
    "duration": 6,
    "start_time": "2022-05-28T13:15:06.963Z"
   },
   {
    "duration": 5,
    "start_time": "2022-05-28T13:15:06.971Z"
   },
   {
    "duration": 11,
    "start_time": "2022-05-28T13:15:06.983Z"
   },
   {
    "duration": 38,
    "start_time": "2022-05-28T13:15:06.996Z"
   },
   {
    "duration": 30,
    "start_time": "2022-05-28T13:15:07.036Z"
   },
   {
    "duration": 7,
    "start_time": "2022-05-28T13:15:07.068Z"
   },
   {
    "duration": 41,
    "start_time": "2022-05-28T13:15:07.077Z"
   },
   {
    "duration": 13,
    "start_time": "2022-05-28T13:15:07.120Z"
   },
   {
    "duration": 7,
    "start_time": "2022-05-28T13:15:07.135Z"
   },
   {
    "duration": 9,
    "start_time": "2022-05-28T13:15:07.143Z"
   },
   {
    "duration": 6,
    "start_time": "2022-05-28T13:15:07.154Z"
   },
   {
    "duration": 38,
    "start_time": "2022-05-28T13:15:07.162Z"
   },
   {
    "duration": 27,
    "start_time": "2022-05-28T13:15:07.201Z"
   },
   {
    "duration": 12,
    "start_time": "2022-05-28T13:15:07.230Z"
   },
   {
    "duration": 8,
    "start_time": "2022-05-28T13:15:07.244Z"
   },
   {
    "duration": 3,
    "start_time": "2022-05-28T13:15:07.253Z"
   },
   {
    "duration": 15,
    "start_time": "2022-05-28T13:15:07.258Z"
   },
   {
    "duration": 28,
    "start_time": "2022-05-28T13:15:07.275Z"
   },
   {
    "duration": 22,
    "start_time": "2022-05-28T13:15:07.318Z"
   },
   {
    "duration": 40,
    "start_time": "2022-05-28T13:15:07.343Z"
   },
   {
    "duration": 23,
    "start_time": "2022-05-28T13:15:07.393Z"
   },
   {
    "duration": 31,
    "start_time": "2022-05-28T13:15:07.418Z"
   },
   {
    "duration": 25,
    "start_time": "2022-05-28T13:15:07.451Z"
   },
   {
    "duration": 4,
    "start_time": "2022-05-28T13:15:07.478Z"
   },
   {
    "duration": 519,
    "start_time": "2022-05-28T13:15:07.486Z"
   },
   {
    "duration": 20,
    "start_time": "2022-05-28T13:15:08.007Z"
   },
   {
    "duration": 28,
    "start_time": "2022-05-28T13:15:08.029Z"
   },
   {
    "duration": 170,
    "start_time": "2022-05-28T13:15:08.059Z"
   },
   {
    "duration": 279,
    "start_time": "2022-05-28T13:15:08.233Z"
   },
   {
    "duration": 10,
    "start_time": "2022-05-28T13:15:08.516Z"
   },
   {
    "duration": 143,
    "start_time": "2022-05-28T13:15:08.528Z"
   },
   {
    "duration": 264,
    "start_time": "2022-05-28T13:15:08.672Z"
   },
   {
    "duration": 8,
    "start_time": "2022-05-28T13:15:08.938Z"
   },
   {
    "duration": 128,
    "start_time": "2022-05-28T13:15:08.948Z"
   },
   {
    "duration": 172,
    "start_time": "2022-05-28T13:15:09.078Z"
   },
   {
    "duration": 8,
    "start_time": "2022-05-28T13:15:09.252Z"
   },
   {
    "duration": 168,
    "start_time": "2022-05-28T13:15:09.262Z"
   },
   {
    "duration": 289,
    "start_time": "2022-05-28T13:15:09.431Z"
   },
   {
    "duration": 11,
    "start_time": "2022-05-28T13:15:09.723Z"
   },
   {
    "duration": 127,
    "start_time": "2022-05-28T13:15:09.735Z"
   },
   {
    "duration": 259,
    "start_time": "2022-05-28T13:15:09.864Z"
   },
   {
    "duration": 217,
    "start_time": "2022-05-28T13:15:10.125Z"
   },
   {
    "duration": 252,
    "start_time": "2022-05-28T13:15:10.344Z"
   },
   {
    "duration": 120,
    "start_time": "2022-05-28T13:15:10.603Z"
   },
   {
    "duration": 5,
    "start_time": "2022-05-28T13:15:10.724Z"
   },
   {
    "duration": 49372,
    "start_time": "2022-05-28T13:15:10.730Z"
   },
   {
    "duration": 6,
    "start_time": "2022-05-28T13:16:00.104Z"
   },
   {
    "duration": 516,
    "start_time": "2022-05-28T13:16:00.112Z"
   },
   {
    "duration": 5,
    "start_time": "2022-05-28T13:16:00.630Z"
   },
   {
    "duration": 1246,
    "start_time": "2022-05-28T13:16:59.625Z"
   },
   {
    "duration": 129,
    "start_time": "2022-05-28T13:17:00.874Z"
   },
   {
    "duration": 42,
    "start_time": "2022-05-28T13:17:01.005Z"
   },
   {
    "duration": 38,
    "start_time": "2022-05-28T13:17:01.049Z"
   },
   {
    "duration": 84,
    "start_time": "2022-05-28T13:17:01.090Z"
   },
   {
    "duration": 18,
    "start_time": "2022-05-28T13:17:01.184Z"
   },
   {
    "duration": 14,
    "start_time": "2022-05-28T13:17:01.204Z"
   },
   {
    "duration": 17,
    "start_time": "2022-05-28T13:17:01.220Z"
   },
   {
    "duration": 12,
    "start_time": "2022-05-28T13:17:01.239Z"
   },
   {
    "duration": 11,
    "start_time": "2022-05-28T13:17:01.254Z"
   },
   {
    "duration": 26,
    "start_time": "2022-05-28T13:17:01.266Z"
   },
   {
    "duration": 20,
    "start_time": "2022-05-28T13:17:01.293Z"
   },
   {
    "duration": 10,
    "start_time": "2022-05-28T13:17:01.315Z"
   },
   {
    "duration": 34,
    "start_time": "2022-05-28T13:17:01.327Z"
   },
   {
    "duration": 24,
    "start_time": "2022-05-28T13:17:01.363Z"
   },
   {
    "duration": 52,
    "start_time": "2022-05-28T13:17:01.389Z"
   },
   {
    "duration": 7,
    "start_time": "2022-05-28T13:17:01.443Z"
   },
   {
    "duration": 13,
    "start_time": "2022-05-28T13:17:01.452Z"
   },
   {
    "duration": 11,
    "start_time": "2022-05-28T13:17:01.467Z"
   },
   {
    "duration": 24,
    "start_time": "2022-05-28T13:17:01.486Z"
   },
   {
    "duration": 20,
    "start_time": "2022-05-28T13:17:01.512Z"
   },
   {
    "duration": 10,
    "start_time": "2022-05-28T13:17:01.534Z"
   },
   {
    "duration": 19,
    "start_time": "2022-05-28T13:17:01.546Z"
   },
   {
    "duration": 23,
    "start_time": "2022-05-28T13:17:01.567Z"
   },
   {
    "duration": 15,
    "start_time": "2022-05-28T13:17:01.592Z"
   },
   {
    "duration": 30,
    "start_time": "2022-05-28T13:17:01.609Z"
   },
   {
    "duration": 19,
    "start_time": "2022-05-28T13:17:01.641Z"
   },
   {
    "duration": 7,
    "start_time": "2022-05-28T13:17:01.667Z"
   },
   {
    "duration": 54,
    "start_time": "2022-05-28T13:17:01.676Z"
   },
   {
    "duration": 20,
    "start_time": "2022-05-28T13:17:01.732Z"
   },
   {
    "duration": 15,
    "start_time": "2022-05-28T13:17:01.754Z"
   },
   {
    "duration": 33,
    "start_time": "2022-05-28T13:17:01.771Z"
   },
   {
    "duration": 4,
    "start_time": "2022-05-28T13:17:01.806Z"
   },
   {
    "duration": 527,
    "start_time": "2022-05-28T13:17:01.812Z"
   },
   {
    "duration": 25,
    "start_time": "2022-05-28T13:17:02.342Z"
   },
   {
    "duration": 41,
    "start_time": "2022-05-28T13:17:02.369Z"
   },
   {
    "duration": 152,
    "start_time": "2022-05-28T13:17:02.412Z"
   },
   {
    "duration": 254,
    "start_time": "2022-05-28T13:17:02.566Z"
   },
   {
    "duration": 9,
    "start_time": "2022-05-28T13:17:02.822Z"
   },
   {
    "duration": 166,
    "start_time": "2022-05-28T13:17:02.833Z"
   },
   {
    "duration": 301,
    "start_time": "2022-05-28T13:17:03.001Z"
   },
   {
    "duration": 9,
    "start_time": "2022-05-28T13:17:03.304Z"
   },
   {
    "duration": 118,
    "start_time": "2022-05-28T13:17:03.315Z"
   },
   {
    "duration": 208,
    "start_time": "2022-05-28T13:17:03.435Z"
   },
   {
    "duration": 11,
    "start_time": "2022-05-28T13:17:03.645Z"
   },
   {
    "duration": 163,
    "start_time": "2022-05-28T13:17:03.658Z"
   },
   {
    "duration": 295,
    "start_time": "2022-05-28T13:17:03.823Z"
   },
   {
    "duration": 12,
    "start_time": "2022-05-28T13:17:04.121Z"
   },
   {
    "duration": 129,
    "start_time": "2022-05-28T13:17:04.135Z"
   },
   {
    "duration": 277,
    "start_time": "2022-05-28T13:17:04.266Z"
   },
   {
    "duration": 227,
    "start_time": "2022-05-28T13:17:04.545Z"
   },
   {
    "duration": 234,
    "start_time": "2022-05-28T13:17:04.774Z"
   },
   {
    "duration": 116,
    "start_time": "2022-05-28T13:17:05.011Z"
   },
   {
    "duration": 6,
    "start_time": "2022-05-28T13:17:05.129Z"
   },
   {
    "duration": 120,
    "start_time": "2022-05-28T13:29:17.358Z"
   },
   {
    "duration": 7,
    "start_time": "2022-05-28T13:29:20.606Z"
   },
   {
    "duration": 17,
    "start_time": "2022-05-28T13:30:25.403Z"
   },
   {
    "duration": 1187,
    "start_time": "2022-05-28T13:31:51.276Z"
   },
   {
    "duration": 103,
    "start_time": "2022-05-28T13:31:52.465Z"
   },
   {
    "duration": 41,
    "start_time": "2022-05-28T13:31:52.570Z"
   },
   {
    "duration": 15,
    "start_time": "2022-05-28T13:31:52.613Z"
   },
   {
    "duration": 93,
    "start_time": "2022-05-28T13:31:52.630Z"
   },
   {
    "duration": 9,
    "start_time": "2022-05-28T13:31:52.724Z"
   },
   {
    "duration": 6,
    "start_time": "2022-05-28T13:31:52.735Z"
   },
   {
    "duration": 9,
    "start_time": "2022-05-28T13:31:52.742Z"
   },
   {
    "duration": 40,
    "start_time": "2022-05-28T13:31:52.752Z"
   },
   {
    "duration": 11,
    "start_time": "2022-05-28T13:31:52.793Z"
   },
   {
    "duration": 11,
    "start_time": "2022-05-28T13:31:52.805Z"
   },
   {
    "duration": 8,
    "start_time": "2022-05-28T13:31:52.818Z"
   },
   {
    "duration": 11,
    "start_time": "2022-05-28T13:31:52.827Z"
   },
   {
    "duration": 50,
    "start_time": "2022-05-28T13:31:52.841Z"
   },
   {
    "duration": 13,
    "start_time": "2022-05-28T13:31:52.893Z"
   },
   {
    "duration": 33,
    "start_time": "2022-05-28T13:31:52.908Z"
   },
   {
    "duration": 7,
    "start_time": "2022-05-28T13:31:52.942Z"
   },
   {
    "duration": 12,
    "start_time": "2022-05-28T13:31:52.951Z"
   },
   {
    "duration": 35,
    "start_time": "2022-05-28T13:31:52.965Z"
   },
   {
    "duration": 12,
    "start_time": "2022-05-28T13:31:53.001Z"
   },
   {
    "duration": 9,
    "start_time": "2022-05-28T13:31:53.015Z"
   },
   {
    "duration": 8,
    "start_time": "2022-05-28T13:31:53.026Z"
   },
   {
    "duration": 13,
    "start_time": "2022-05-28T13:31:53.035Z"
   },
   {
    "duration": 5,
    "start_time": "2022-05-28T13:31:53.050Z"
   },
   {
    "duration": 31,
    "start_time": "2022-05-28T13:31:53.057Z"
   },
   {
    "duration": 24,
    "start_time": "2022-05-28T13:31:53.089Z"
   },
   {
    "duration": 10,
    "start_time": "2022-05-28T13:31:53.115Z"
   },
   {
    "duration": 5,
    "start_time": "2022-05-28T13:31:53.127Z"
   },
   {
    "duration": 27,
    "start_time": "2022-05-28T13:31:53.134Z"
   },
   {
    "duration": 22,
    "start_time": "2022-05-28T13:31:53.163Z"
   },
   {
    "duration": 18,
    "start_time": "2022-05-28T13:31:53.186Z"
   },
   {
    "duration": 23,
    "start_time": "2022-05-28T13:31:53.206Z"
   },
   {
    "duration": 3,
    "start_time": "2022-05-28T13:31:53.231Z"
   },
   {
    "duration": 469,
    "start_time": "2022-05-28T13:31:53.235Z"
   },
   {
    "duration": 21,
    "start_time": "2022-05-28T13:31:53.706Z"
   },
   {
    "duration": 9,
    "start_time": "2022-05-28T13:31:53.729Z"
   },
   {
    "duration": 174,
    "start_time": "2022-05-28T13:31:53.739Z"
   },
   {
    "duration": 270,
    "start_time": "2022-05-28T13:31:53.915Z"
   },
   {
    "duration": 18,
    "start_time": "2022-05-28T13:31:54.186Z"
   },
   {
    "duration": 159,
    "start_time": "2022-05-28T13:31:54.206Z"
   },
   {
    "duration": 295,
    "start_time": "2022-05-28T13:31:54.372Z"
   },
   {
    "duration": 24,
    "start_time": "2022-05-28T13:31:54.669Z"
   },
   {
    "duration": 109,
    "start_time": "2022-05-28T13:31:54.694Z"
   },
   {
    "duration": 169,
    "start_time": "2022-05-28T13:31:54.805Z"
   },
   {
    "duration": 29,
    "start_time": "2022-05-28T13:31:54.976Z"
   },
   {
    "duration": 128,
    "start_time": "2022-05-28T13:31:55.008Z"
   },
   {
    "duration": 275,
    "start_time": "2022-05-28T13:31:55.137Z"
   },
   {
    "duration": 11,
    "start_time": "2022-05-28T13:31:55.414Z"
   },
   {
    "duration": 125,
    "start_time": "2022-05-28T13:31:55.427Z"
   },
   {
    "duration": 215,
    "start_time": "2022-05-28T13:31:55.554Z"
   },
   {
    "duration": 231,
    "start_time": "2022-05-28T13:31:55.771Z"
   },
   {
    "duration": 218,
    "start_time": "2022-05-28T13:31:56.003Z"
   },
   {
    "duration": 113,
    "start_time": "2022-05-28T13:31:56.223Z"
   },
   {
    "duration": 5,
    "start_time": "2022-05-28T13:31:56.338Z"
   },
   {
    "duration": 47399,
    "start_time": "2022-05-28T13:31:56.345Z"
   },
   {
    "duration": 6,
    "start_time": "2022-05-28T13:32:43.746Z"
   },
   {
    "duration": 417,
    "start_time": "2022-05-28T13:32:43.754Z"
   },
   {
    "duration": 14,
    "start_time": "2022-05-28T13:32:44.173Z"
   },
   {
    "duration": 169522,
    "start_time": "2022-05-28T13:32:44.191Z"
   },
   {
    "duration": 6,
    "start_time": "2022-05-28T13:35:33.714Z"
   },
   {
    "duration": 288,
    "start_time": "2022-05-28T13:35:33.722Z"
   },
   {
    "duration": 403,
    "start_time": "2022-05-28T13:35:34.011Z"
   },
   {
    "duration": 2,
    "start_time": "2022-05-28T13:35:34.416Z"
   },
   {
    "duration": 523,
    "start_time": "2022-05-28T13:35:34.420Z"
   },
   {
    "duration": 2,
    "start_time": "2022-05-28T13:35:34.945Z"
   },
   {
    "duration": 370,
    "start_time": "2022-05-28T13:35:34.948Z"
   },
   {
    "duration": 3,
    "start_time": "2022-05-28T13:35:35.319Z"
   },
   {
    "duration": 28,
    "start_time": "2022-05-28T13:35:35.323Z"
   },
   {
    "duration": 51,
    "start_time": "2022-05-28T13:35:35.353Z"
   },
   {
    "duration": 13,
    "start_time": "2022-05-28T13:35:35.406Z"
   },
   {
    "duration": 293,
    "start_time": "2022-05-28T13:35:35.420Z"
   },
   {
    "duration": 39,
    "start_time": "2022-05-28T13:35:35.714Z"
   },
   {
    "duration": 7,
    "start_time": "2022-05-28T13:35:35.755Z"
   },
   {
    "duration": 136,
    "start_time": "2022-05-28T13:35:35.763Z"
   },
   {
    "duration": 209,
    "start_time": "2022-05-28T13:35:35.901Z"
   },
   {
    "duration": 8,
    "start_time": "2022-05-28T13:35:36.112Z"
   },
   {
    "duration": 131,
    "start_time": "2022-05-28T13:35:36.121Z"
   },
   {
    "duration": 231,
    "start_time": "2022-05-28T13:35:36.253Z"
   },
   {
    "duration": 10,
    "start_time": "2022-05-28T13:35:36.491Z"
   },
   {
    "duration": 111,
    "start_time": "2022-05-28T13:35:36.503Z"
   },
   {
    "duration": 171,
    "start_time": "2022-05-28T13:35:36.616Z"
   },
   {
    "duration": 13,
    "start_time": "2022-05-28T13:35:36.789Z"
   },
   {
    "duration": 122,
    "start_time": "2022-05-28T13:35:36.804Z"
   },
   {
    "duration": 183,
    "start_time": "2022-05-28T13:35:36.929Z"
   },
   {
    "duration": 504,
    "start_time": "2022-05-28T13:35:37.114Z"
   },
   {
    "duration": 7,
    "start_time": "2022-05-28T13:35:37.621Z"
   },
   {
    "duration": 192,
    "start_time": "2022-05-28T13:35:37.631Z"
   },
   {
    "duration": 396,
    "start_time": "2022-05-28T13:35:37.825Z"
   },
   {
    "duration": 5,
    "start_time": "2022-05-28T13:35:38.222Z"
   },
   {
    "duration": 294,
    "start_time": "2022-05-28T13:35:38.229Z"
   },
   {
    "duration": 3,
    "start_time": "2022-05-28T13:35:38.524Z"
   },
   {
    "duration": 468,
    "start_time": "2022-05-28T13:35:38.528Z"
   },
   {
    "duration": 2,
    "start_time": "2022-05-28T13:35:38.998Z"
   },
   {
    "duration": 259,
    "start_time": "2022-05-28T13:35:39.002Z"
   },
   {
    "duration": 3,
    "start_time": "2022-05-28T13:35:39.262Z"
   },
   {
    "duration": 1352,
    "start_time": "2022-05-28T13:37:56.564Z"
   },
   {
    "duration": 217,
    "start_time": "2022-05-28T13:37:57.919Z"
   },
   {
    "duration": 45,
    "start_time": "2022-05-28T13:37:58.186Z"
   },
   {
    "duration": 21,
    "start_time": "2022-05-28T13:37:58.283Z"
   },
   {
    "duration": 185,
    "start_time": "2022-05-28T13:37:58.306Z"
   },
   {
    "duration": 14,
    "start_time": "2022-05-28T13:37:58.492Z"
   },
   {
    "duration": 13,
    "start_time": "2022-05-28T13:37:58.509Z"
   },
   {
    "duration": 9,
    "start_time": "2022-05-28T13:37:58.523Z"
   },
   {
    "duration": 10,
    "start_time": "2022-05-28T13:37:58.588Z"
   },
   {
    "duration": 12,
    "start_time": "2022-05-28T13:37:58.604Z"
   },
   {
    "duration": 9,
    "start_time": "2022-05-28T13:37:58.617Z"
   },
   {
    "duration": 8,
    "start_time": "2022-05-28T13:37:58.628Z"
   },
   {
    "duration": 55,
    "start_time": "2022-05-28T13:37:58.638Z"
   },
   {
    "duration": 44,
    "start_time": "2022-05-28T13:37:58.694Z"
   },
   {
    "duration": 10,
    "start_time": "2022-05-28T13:37:58.783Z"
   },
   {
    "duration": 45,
    "start_time": "2022-05-28T13:37:58.795Z"
   },
   {
    "duration": 5,
    "start_time": "2022-05-28T13:37:58.842Z"
   },
   {
    "duration": 8,
    "start_time": "2022-05-28T13:37:58.848Z"
   },
   {
    "duration": 46,
    "start_time": "2022-05-28T13:37:58.858Z"
   },
   {
    "duration": 9,
    "start_time": "2022-05-28T13:37:58.906Z"
   },
   {
    "duration": 10,
    "start_time": "2022-05-28T13:37:58.917Z"
   },
   {
    "duration": 8,
    "start_time": "2022-05-28T13:37:58.928Z"
   },
   {
    "duration": 69,
    "start_time": "2022-05-28T13:37:58.938Z"
   },
   {
    "duration": 6,
    "start_time": "2022-05-28T13:37:59.009Z"
   },
   {
    "duration": 4,
    "start_time": "2022-05-28T13:37:59.017Z"
   },
   {
    "duration": 9,
    "start_time": "2022-05-28T13:37:59.023Z"
   },
   {
    "duration": 53,
    "start_time": "2022-05-28T13:37:59.034Z"
   },
   {
    "duration": 33,
    "start_time": "2022-05-28T13:37:59.095Z"
   },
   {
    "duration": 74,
    "start_time": "2022-05-28T13:37:59.130Z"
   },
   {
    "duration": 23,
    "start_time": "2022-05-28T13:37:59.205Z"
   },
   {
    "duration": 63,
    "start_time": "2022-05-28T13:37:59.229Z"
   },
   {
    "duration": 24,
    "start_time": "2022-05-28T13:37:59.294Z"
   },
   {
    "duration": 3,
    "start_time": "2022-05-28T13:37:59.320Z"
   },
   {
    "duration": 563,
    "start_time": "2022-05-28T13:37:59.325Z"
   },
   {
    "duration": 19,
    "start_time": "2022-05-28T13:37:59.890Z"
   },
   {
    "duration": 12,
    "start_time": "2022-05-28T13:37:59.911Z"
   },
   {
    "duration": 139,
    "start_time": "2022-05-28T13:37:59.925Z"
   },
   {
    "duration": 254,
    "start_time": "2022-05-28T13:38:00.066Z"
   },
   {
    "duration": 12,
    "start_time": "2022-05-28T13:38:00.322Z"
   },
   {
    "duration": 161,
    "start_time": "2022-05-28T13:38:00.335Z"
   },
   {
    "duration": 249,
    "start_time": "2022-05-28T13:38:00.499Z"
   },
   {
    "duration": 11,
    "start_time": "2022-05-28T13:38:00.750Z"
   },
   {
    "duration": 148,
    "start_time": "2022-05-28T13:38:00.763Z"
   },
   {
    "duration": 190,
    "start_time": "2022-05-28T13:38:00.913Z"
   },
   {
    "duration": 10,
    "start_time": "2022-05-28T13:38:01.105Z"
   },
   {
    "duration": 138,
    "start_time": "2022-05-28T13:38:01.116Z"
   },
   {
    "duration": 292,
    "start_time": "2022-05-28T13:38:01.257Z"
   },
   {
    "duration": 10,
    "start_time": "2022-05-28T13:38:01.551Z"
   },
   {
    "duration": 147,
    "start_time": "2022-05-28T13:38:01.563Z"
   },
   {
    "duration": 249,
    "start_time": "2022-05-28T13:38:01.712Z"
   },
   {
    "duration": 241,
    "start_time": "2022-05-28T13:38:01.963Z"
   },
   {
    "duration": 221,
    "start_time": "2022-05-28T13:38:02.206Z"
   },
   {
    "duration": 111,
    "start_time": "2022-05-28T13:38:02.429Z"
   },
   {
    "duration": 5,
    "start_time": "2022-05-28T13:38:02.541Z"
   },
   {
    "duration": 48129,
    "start_time": "2022-05-28T13:38:02.547Z"
   },
   {
    "duration": 10,
    "start_time": "2022-05-28T13:38:50.677Z"
   },
   {
    "duration": 399,
    "start_time": "2022-05-28T13:38:50.688Z"
   },
   {
    "duration": 5,
    "start_time": "2022-05-28T13:38:51.088Z"
   },
   {
    "duration": 165349,
    "start_time": "2022-05-28T13:38:51.095Z"
   },
   {
    "duration": 6,
    "start_time": "2022-05-28T13:41:36.447Z"
   },
   {
    "duration": 283,
    "start_time": "2022-05-28T13:41:36.454Z"
   },
   {
    "duration": 369,
    "start_time": "2022-05-28T13:41:36.739Z"
   },
   {
    "duration": 3,
    "start_time": "2022-05-28T13:41:37.110Z"
   },
   {
    "duration": 518,
    "start_time": "2022-05-28T13:41:37.114Z"
   },
   {
    "duration": 3,
    "start_time": "2022-05-28T13:41:37.634Z"
   },
   {
    "duration": 404,
    "start_time": "2022-05-28T13:41:37.638Z"
   },
   {
    "duration": 4,
    "start_time": "2022-05-28T13:41:38.044Z"
   },
   {
    "duration": 63,
    "start_time": "2022-05-28T13:41:38.049Z"
   },
   {
    "duration": 47,
    "start_time": "2022-05-28T13:41:38.114Z"
   },
   {
    "duration": 21,
    "start_time": "2022-05-28T13:41:38.163Z"
   },
   {
    "duration": 278,
    "start_time": "2022-05-28T13:41:38.185Z"
   },
   {
    "duration": 44,
    "start_time": "2022-05-28T13:41:38.465Z"
   },
   {
    "duration": 8,
    "start_time": "2022-05-28T13:41:38.510Z"
   },
   {
    "duration": 124,
    "start_time": "2022-05-28T13:41:38.520Z"
   },
   {
    "duration": 219,
    "start_time": "2022-05-28T13:41:38.646Z"
   },
   {
    "duration": 9,
    "start_time": "2022-05-28T13:41:38.867Z"
   },
   {
    "duration": 118,
    "start_time": "2022-05-28T13:41:38.884Z"
   },
   {
    "duration": 225,
    "start_time": "2022-05-28T13:41:39.003Z"
   },
   {
    "duration": 11,
    "start_time": "2022-05-28T13:41:39.230Z"
   },
   {
    "duration": 109,
    "start_time": "2022-05-28T13:41:39.242Z"
   },
   {
    "duration": 166,
    "start_time": "2022-05-28T13:41:39.353Z"
   },
   {
    "duration": 10,
    "start_time": "2022-05-28T13:41:39.526Z"
   },
   {
    "duration": 138,
    "start_time": "2022-05-28T13:41:39.537Z"
   },
   {
    "duration": 175,
    "start_time": "2022-05-28T13:41:39.677Z"
   },
   {
    "duration": 455,
    "start_time": "2022-05-28T13:41:39.854Z"
   },
   {
    "duration": 8,
    "start_time": "2022-05-28T13:41:40.311Z"
   },
   {
    "duration": 204,
    "start_time": "2022-05-28T13:41:40.321Z"
   },
   {
    "duration": 327,
    "start_time": "2022-05-28T13:41:40.526Z"
   },
   {
    "duration": 5,
    "start_time": "2022-05-28T13:41:40.855Z"
   },
   {
    "duration": 311,
    "start_time": "2022-05-28T13:41:40.862Z"
   },
   {
    "duration": 9,
    "start_time": "2022-05-28T13:41:41.175Z"
   },
   {
    "duration": 424,
    "start_time": "2022-05-28T13:41:41.186Z"
   },
   {
    "duration": 2,
    "start_time": "2022-05-28T13:41:41.612Z"
   },
   {
    "duration": 259,
    "start_time": "2022-05-28T13:41:41.616Z"
   },
   {
    "duration": 3,
    "start_time": "2022-05-28T13:41:41.883Z"
   },
   {
    "duration": 223,
    "start_time": "2022-05-28T13:43:26.233Z"
   },
   {
    "duration": 121,
    "start_time": "2022-05-28T13:43:33.662Z"
   },
   {
    "duration": 212,
    "start_time": "2022-05-28T13:44:23.318Z"
   },
   {
    "duration": 102,
    "start_time": "2022-05-28T13:45:18.389Z"
   },
   {
    "duration": 10,
    "start_time": "2022-05-28T13:45:38.710Z"
   },
   {
    "duration": 109,
    "start_time": "2022-05-28T13:46:09.801Z"
   },
   {
    "duration": 5,
    "start_time": "2022-05-28T13:46:13.209Z"
   },
   {
    "duration": 31,
    "start_time": "2022-05-28T13:46:37.001Z"
   },
   {
    "duration": 21,
    "start_time": "2022-05-28T13:46:43.121Z"
   },
   {
    "duration": 99,
    "start_time": "2022-05-28T13:46:47.442Z"
   },
   {
    "duration": 4,
    "start_time": "2022-05-28T13:46:50.081Z"
   },
   {
    "duration": 91,
    "start_time": "2022-05-28T13:47:04.123Z"
   },
   {
    "duration": 4,
    "start_time": "2022-05-28T13:47:06.526Z"
   },
   {
    "duration": 97,
    "start_time": "2022-05-28T13:47:29.121Z"
   },
   {
    "duration": 5,
    "start_time": "2022-05-28T13:47:31.600Z"
   },
   {
    "duration": 101,
    "start_time": "2022-05-28T13:48:01.761Z"
   },
   {
    "duration": 5,
    "start_time": "2022-05-28T13:48:04.377Z"
   },
   {
    "duration": 91,
    "start_time": "2022-05-28T13:48:18.337Z"
   },
   {
    "duration": 4,
    "start_time": "2022-05-28T13:48:29.241Z"
   },
   {
    "duration": 89,
    "start_time": "2022-05-28T13:48:35.401Z"
   },
   {
    "duration": 5,
    "start_time": "2022-05-28T13:48:37.562Z"
   },
   {
    "duration": 95,
    "start_time": "2022-05-28T13:48:43.090Z"
   },
   {
    "duration": 4,
    "start_time": "2022-05-28T13:48:45.410Z"
   },
   {
    "duration": 104,
    "start_time": "2022-05-28T13:49:28.890Z"
   },
   {
    "duration": 96,
    "start_time": "2022-05-28T13:51:04.033Z"
   },
   {
    "duration": 5,
    "start_time": "2022-05-28T13:51:09.621Z"
   },
   {
    "duration": 94,
    "start_time": "2022-05-28T13:52:11.618Z"
   },
   {
    "duration": 5,
    "start_time": "2022-05-28T13:52:15.414Z"
   },
   {
    "duration": 91,
    "start_time": "2022-05-28T13:54:51.600Z"
   },
   {
    "duration": 4,
    "start_time": "2022-05-28T13:54:54.220Z"
   },
   {
    "duration": 93,
    "start_time": "2022-05-28T13:56:04.608Z"
   },
   {
    "duration": 5,
    "start_time": "2022-05-28T13:56:06.960Z"
   },
   {
    "duration": 100,
    "start_time": "2022-05-28T13:56:40.041Z"
   },
   {
    "duration": 4,
    "start_time": "2022-05-28T13:56:43.161Z"
   },
   {
    "duration": 132,
    "start_time": "2022-05-28T13:57:07.880Z"
   },
   {
    "duration": 5,
    "start_time": "2022-05-28T13:57:10.449Z"
   },
   {
    "duration": 105,
    "start_time": "2022-05-28T13:57:16.294Z"
   },
   {
    "duration": 7,
    "start_time": "2022-05-28T13:57:19.804Z"
   },
   {
    "duration": 41,
    "start_time": "2022-05-28T14:01:04.759Z"
   },
   {
    "duration": 1184,
    "start_time": "2022-05-28T14:01:46.000Z"
   },
   {
    "duration": 110,
    "start_time": "2022-05-28T14:01:47.188Z"
   },
   {
    "duration": 36,
    "start_time": "2022-05-28T14:01:47.300Z"
   },
   {
    "duration": 18,
    "start_time": "2022-05-28T14:01:47.338Z"
   },
   {
    "duration": 91,
    "start_time": "2022-05-28T14:01:47.358Z"
   },
   {
    "duration": 11,
    "start_time": "2022-05-28T14:01:47.452Z"
   },
   {
    "duration": 30,
    "start_time": "2022-05-28T14:01:47.465Z"
   },
   {
    "duration": 14,
    "start_time": "2022-05-28T14:01:47.502Z"
   },
   {
    "duration": 15,
    "start_time": "2022-05-28T14:01:47.517Z"
   },
   {
    "duration": 7,
    "start_time": "2022-05-28T14:01:47.535Z"
   },
   {
    "duration": 8,
    "start_time": "2022-05-28T14:01:47.543Z"
   },
   {
    "duration": 7,
    "start_time": "2022-05-28T14:01:47.553Z"
   },
   {
    "duration": 27,
    "start_time": "2022-05-28T14:01:47.562Z"
   },
   {
    "duration": 32,
    "start_time": "2022-05-28T14:01:47.591Z"
   },
   {
    "duration": 6,
    "start_time": "2022-05-28T14:01:47.624Z"
   },
   {
    "duration": 33,
    "start_time": "2022-05-28T14:01:47.632Z"
   },
   {
    "duration": 33,
    "start_time": "2022-05-28T14:01:47.667Z"
   },
   {
    "duration": 11,
    "start_time": "2022-05-28T14:01:47.702Z"
   },
   {
    "duration": 8,
    "start_time": "2022-05-28T14:01:47.715Z"
   },
   {
    "duration": 5,
    "start_time": "2022-05-28T14:01:47.725Z"
   },
   {
    "duration": 8,
    "start_time": "2022-05-28T14:01:47.732Z"
   },
   {
    "duration": 7,
    "start_time": "2022-05-28T14:01:47.742Z"
   },
   {
    "duration": 36,
    "start_time": "2022-05-28T14:01:47.751Z"
   },
   {
    "duration": 7,
    "start_time": "2022-05-28T14:01:47.795Z"
   },
   {
    "duration": 2,
    "start_time": "2022-05-28T14:01:47.803Z"
   },
   {
    "duration": 9,
    "start_time": "2022-05-28T14:01:47.807Z"
   },
   {
    "duration": 8,
    "start_time": "2022-05-28T14:01:47.818Z"
   },
   {
    "duration": 5,
    "start_time": "2022-05-28T14:01:47.831Z"
   },
   {
    "duration": 28,
    "start_time": "2022-05-28T14:01:47.837Z"
   },
   {
    "duration": 33,
    "start_time": "2022-05-28T14:01:47.866Z"
   },
   {
    "duration": 22,
    "start_time": "2022-05-28T14:01:47.901Z"
   },
   {
    "duration": 27,
    "start_time": "2022-05-28T14:01:47.926Z"
   },
   {
    "duration": 33,
    "start_time": "2022-05-28T14:01:47.955Z"
   },
   {
    "duration": 464,
    "start_time": "2022-05-28T14:01:47.992Z"
   },
   {
    "duration": 27,
    "start_time": "2022-05-28T14:01:48.457Z"
   },
   {
    "duration": 16,
    "start_time": "2022-05-28T14:01:48.486Z"
   },
   {
    "duration": 135,
    "start_time": "2022-05-28T14:01:48.504Z"
   },
   {
    "duration": 221,
    "start_time": "2022-05-28T14:01:48.641Z"
   },
   {
    "duration": 7,
    "start_time": "2022-05-28T14:01:48.864Z"
   },
   {
    "duration": 145,
    "start_time": "2022-05-28T14:01:48.873Z"
   },
   {
    "duration": 245,
    "start_time": "2022-05-28T14:01:49.020Z"
   },
   {
    "duration": 8,
    "start_time": "2022-05-28T14:01:49.266Z"
   },
   {
    "duration": 115,
    "start_time": "2022-05-28T14:01:49.276Z"
   },
   {
    "duration": 151,
    "start_time": "2022-05-28T14:01:49.398Z"
   },
   {
    "duration": 9,
    "start_time": "2022-05-28T14:01:49.551Z"
   },
   {
    "duration": 152,
    "start_time": "2022-05-28T14:01:49.562Z"
   },
   {
    "duration": 292,
    "start_time": "2022-05-28T14:01:49.717Z"
   },
   {
    "duration": 10,
    "start_time": "2022-05-28T14:01:50.011Z"
   },
   {
    "duration": 116,
    "start_time": "2022-05-28T14:01:50.022Z"
   },
   {
    "duration": 220,
    "start_time": "2022-05-28T14:01:50.139Z"
   },
   {
    "duration": 208,
    "start_time": "2022-05-28T14:01:50.360Z"
   },
   {
    "duration": 208,
    "start_time": "2022-05-28T14:01:50.569Z"
   },
   {
    "duration": 116,
    "start_time": "2022-05-28T14:01:50.779Z"
   },
   {
    "duration": 5,
    "start_time": "2022-05-28T14:01:50.901Z"
   },
   {
    "duration": 50939,
    "start_time": "2022-05-28T14:01:50.908Z"
   },
   {
    "duration": 6,
    "start_time": "2022-05-28T14:02:41.849Z"
   },
   {
    "duration": 418,
    "start_time": "2022-05-28T14:02:41.856Z"
   },
   {
    "duration": 11,
    "start_time": "2022-05-28T14:02:42.276Z"
   },
   {
    "duration": 1139,
    "start_time": "2022-05-28T14:04:55.786Z"
   },
   {
    "duration": 99,
    "start_time": "2022-05-28T14:04:56.927Z"
   },
   {
    "duration": 34,
    "start_time": "2022-05-28T14:04:57.027Z"
   },
   {
    "duration": 27,
    "start_time": "2022-05-28T14:04:57.063Z"
   },
   {
    "duration": 74,
    "start_time": "2022-05-28T14:04:57.092Z"
   },
   {
    "duration": 13,
    "start_time": "2022-05-28T14:04:57.184Z"
   },
   {
    "duration": 8,
    "start_time": "2022-05-28T14:04:57.199Z"
   },
   {
    "duration": 14,
    "start_time": "2022-05-28T14:04:57.208Z"
   },
   {
    "duration": 15,
    "start_time": "2022-05-28T14:04:57.224Z"
   },
   {
    "duration": 12,
    "start_time": "2022-05-28T14:04:57.242Z"
   },
   {
    "duration": 12,
    "start_time": "2022-05-28T14:04:57.256Z"
   },
   {
    "duration": 9,
    "start_time": "2022-05-28T14:04:57.284Z"
   },
   {
    "duration": 11,
    "start_time": "2022-05-28T14:04:57.294Z"
   },
   {
    "duration": 33,
    "start_time": "2022-05-28T14:04:57.307Z"
   },
   {
    "duration": 7,
    "start_time": "2022-05-28T14:04:57.342Z"
   },
   {
    "duration": 58,
    "start_time": "2022-05-28T14:04:57.350Z"
   },
   {
    "duration": 6,
    "start_time": "2022-05-28T14:04:57.410Z"
   },
   {
    "duration": 8,
    "start_time": "2022-05-28T14:04:57.418Z"
   },
   {
    "duration": 10,
    "start_time": "2022-05-28T14:04:57.428Z"
   },
   {
    "duration": 7,
    "start_time": "2022-05-28T14:04:57.439Z"
   },
   {
    "duration": 39,
    "start_time": "2022-05-28T14:04:57.447Z"
   },
   {
    "duration": 10,
    "start_time": "2022-05-28T14:04:57.489Z"
   },
   {
    "duration": 13,
    "start_time": "2022-05-28T14:04:57.503Z"
   },
   {
    "duration": 10,
    "start_time": "2022-05-28T14:04:57.519Z"
   },
   {
    "duration": 7,
    "start_time": "2022-05-28T14:04:57.530Z"
   },
   {
    "duration": 12,
    "start_time": "2022-05-28T14:04:57.538Z"
   },
   {
    "duration": 37,
    "start_time": "2022-05-28T14:04:57.552Z"
   },
   {
    "duration": 6,
    "start_time": "2022-05-28T14:04:57.594Z"
   },
   {
    "duration": 28,
    "start_time": "2022-05-28T14:04:57.602Z"
   },
   {
    "duration": 15,
    "start_time": "2022-05-28T14:04:57.632Z"
   },
   {
    "duration": 41,
    "start_time": "2022-05-28T14:04:57.649Z"
   },
   {
    "duration": 22,
    "start_time": "2022-05-28T14:04:57.691Z"
   },
   {
    "duration": 2,
    "start_time": "2022-05-28T14:04:57.716Z"
   },
   {
    "duration": 452,
    "start_time": "2022-05-28T14:04:57.720Z"
   },
   {
    "duration": 24,
    "start_time": "2022-05-28T14:04:58.173Z"
   },
   {
    "duration": 9,
    "start_time": "2022-05-28T14:04:58.198Z"
   },
   {
    "duration": 155,
    "start_time": "2022-05-28T14:04:58.208Z"
   },
   {
    "duration": 206,
    "start_time": "2022-05-28T14:04:58.364Z"
   },
   {
    "duration": 15,
    "start_time": "2022-05-28T14:04:58.572Z"
   },
   {
    "duration": 130,
    "start_time": "2022-05-28T14:04:58.589Z"
   },
   {
    "duration": 226,
    "start_time": "2022-05-28T14:04:58.720Z"
   },
   {
    "duration": 8,
    "start_time": "2022-05-28T14:04:58.948Z"
   },
   {
    "duration": 111,
    "start_time": "2022-05-28T14:04:58.958Z"
   },
   {
    "duration": 152,
    "start_time": "2022-05-28T14:04:59.070Z"
   },
   {
    "duration": 9,
    "start_time": "2022-05-28T14:04:59.224Z"
   },
   {
    "duration": 127,
    "start_time": "2022-05-28T14:04:59.234Z"
   },
   {
    "duration": 256,
    "start_time": "2022-05-28T14:04:59.363Z"
   },
   {
    "duration": 9,
    "start_time": "2022-05-28T14:04:59.621Z"
   },
   {
    "duration": 103,
    "start_time": "2022-05-28T14:04:59.631Z"
   },
   {
    "duration": 205,
    "start_time": "2022-05-28T14:04:59.735Z"
   },
   {
    "duration": 211,
    "start_time": "2022-05-28T14:04:59.942Z"
   },
   {
    "duration": 226,
    "start_time": "2022-05-28T14:05:00.155Z"
   },
   {
    "duration": 117,
    "start_time": "2022-05-28T14:05:00.384Z"
   },
   {
    "duration": 5,
    "start_time": "2022-05-28T14:05:00.503Z"
   },
   {
    "duration": 46947,
    "start_time": "2022-05-28T14:05:00.510Z"
   },
   {
    "duration": 7,
    "start_time": "2022-05-28T14:05:47.458Z"
   },
   {
    "duration": 415,
    "start_time": "2022-05-28T14:05:47.466Z"
   },
   {
    "duration": 8,
    "start_time": "2022-05-28T14:05:47.883Z"
   },
   {
    "duration": 181137,
    "start_time": "2022-05-28T14:05:47.893Z"
   },
   {
    "duration": 5,
    "start_time": "2022-05-28T14:08:49.031Z"
   },
   {
    "duration": 323,
    "start_time": "2022-05-28T14:08:49.038Z"
   },
   {
    "duration": 396,
    "start_time": "2022-05-28T14:08:49.362Z"
   },
   {
    "duration": 3,
    "start_time": "2022-05-28T14:08:49.759Z"
   },
   {
    "duration": 520,
    "start_time": "2022-05-28T14:08:49.763Z"
   },
   {
    "duration": 2,
    "start_time": "2022-05-28T14:08:50.285Z"
   },
   {
    "duration": 377,
    "start_time": "2022-05-28T14:08:50.289Z"
   },
   {
    "duration": 3,
    "start_time": "2022-05-28T14:08:50.668Z"
   },
   {
    "duration": 52,
    "start_time": "2022-05-28T14:08:50.673Z"
   },
   {
    "duration": 36,
    "start_time": "2022-05-28T14:08:50.727Z"
   },
   {
    "duration": 26,
    "start_time": "2022-05-28T14:08:50.765Z"
   },
   {
    "duration": 257,
    "start_time": "2022-05-28T14:08:50.795Z"
   },
   {
    "duration": 50,
    "start_time": "2022-05-28T14:08:51.053Z"
   },
   {
    "duration": 8,
    "start_time": "2022-05-28T14:08:51.104Z"
   },
   {
    "duration": 128,
    "start_time": "2022-05-28T14:08:51.113Z"
   },
   {
    "duration": 225,
    "start_time": "2022-05-28T14:08:51.242Z"
   },
   {
    "duration": 8,
    "start_time": "2022-05-28T14:08:51.469Z"
   },
   {
    "duration": 123,
    "start_time": "2022-05-28T14:08:51.486Z"
   },
   {
    "duration": 219,
    "start_time": "2022-05-28T14:08:51.611Z"
   },
   {
    "duration": 8,
    "start_time": "2022-05-28T14:08:51.832Z"
   },
   {
    "duration": 127,
    "start_time": "2022-05-28T14:08:51.842Z"
   },
   {
    "duration": 194,
    "start_time": "2022-05-28T14:08:51.971Z"
   },
   {
    "duration": 19,
    "start_time": "2022-05-28T14:08:52.173Z"
   },
   {
    "duration": 118,
    "start_time": "2022-05-28T14:08:52.194Z"
   },
   {
    "duration": 188,
    "start_time": "2022-05-28T14:08:52.314Z"
   },
   {
    "duration": 303,
    "start_time": "2022-05-28T14:08:52.504Z"
   },
   {
    "duration": 7,
    "start_time": "2022-05-28T14:08:52.809Z"
   },
   {
    "duration": 215,
    "start_time": "2022-05-28T14:08:52.818Z"
   },
   {
    "duration": 344,
    "start_time": "2022-05-28T14:08:53.035Z"
   },
   {
    "duration": 12,
    "start_time": "2022-05-28T14:08:53.386Z"
   },
   {
    "duration": 295,
    "start_time": "2022-05-28T14:08:53.400Z"
   },
   {
    "duration": 2,
    "start_time": "2022-05-28T14:08:53.700Z"
   },
   {
    "duration": 3259,
    "start_time": "2022-05-28T14:08:53.704Z"
   },
   {
    "duration": 2,
    "start_time": "2022-05-28T14:08:56.966Z"
   },
   {
    "duration": 284,
    "start_time": "2022-05-28T14:08:56.970Z"
   },
   {
    "duration": 3,
    "start_time": "2022-05-28T14:08:57.255Z"
   },
   {
    "duration": 270,
    "start_time": "2022-05-28T14:14:58.755Z"
   },
   {
    "duration": 98,
    "start_time": "2022-05-28T14:17:48.707Z"
   },
   {
    "duration": 169,
    "start_time": "2022-05-28T14:18:33.074Z"
   },
   {
    "duration": 119,
    "start_time": "2022-05-28T14:18:52.316Z"
   },
   {
    "duration": 185,
    "start_time": "2022-05-28T14:19:26.312Z"
   },
   {
    "duration": 29794,
    "start_time": "2022-05-28T14:20:26.403Z"
   },
   {
    "duration": 29790,
    "start_time": "2022-05-28T14:21:10.003Z"
   },
   {
    "duration": 7,
    "start_time": "2022-05-28T14:21:45.746Z"
   },
   {
    "duration": 305,
    "start_time": "2022-05-28T14:25:29.725Z"
   },
   {
    "duration": 6,
    "start_time": "2022-05-28T14:25:41.594Z"
   },
   {
    "duration": 202,
    "start_time": "2022-05-28T14:26:19.999Z"
   },
   {
    "duration": 374,
    "start_time": "2022-05-28T14:26:57.476Z"
   },
   {
    "duration": 6,
    "start_time": "2022-05-28T14:27:07.635Z"
   },
   {
    "duration": 317,
    "start_time": "2022-05-28T14:28:14.274Z"
   },
   {
    "duration": 411,
    "start_time": "2022-05-28T14:28:35.794Z"
   },
   {
    "duration": 256,
    "start_time": "2022-05-28T14:28:51.962Z"
   },
   {
    "duration": 1237,
    "start_time": "2022-05-28T14:35:22.872Z"
   },
   {
    "duration": 101,
    "start_time": "2022-05-28T14:35:24.111Z"
   },
   {
    "duration": 36,
    "start_time": "2022-05-28T14:35:24.214Z"
   },
   {
    "duration": 33,
    "start_time": "2022-05-28T14:35:24.252Z"
   },
   {
    "duration": 97,
    "start_time": "2022-05-28T14:35:24.288Z"
   },
   {
    "duration": 11,
    "start_time": "2022-05-28T14:35:24.387Z"
   },
   {
    "duration": 8,
    "start_time": "2022-05-28T14:35:24.400Z"
   },
   {
    "duration": 10,
    "start_time": "2022-05-28T14:35:24.409Z"
   },
   {
    "duration": 8,
    "start_time": "2022-05-28T14:35:24.420Z"
   },
   {
    "duration": 7,
    "start_time": "2022-05-28T14:35:24.430Z"
   },
   {
    "duration": 48,
    "start_time": "2022-05-28T14:35:24.439Z"
   },
   {
    "duration": 9,
    "start_time": "2022-05-28T14:35:24.489Z"
   },
   {
    "duration": 7,
    "start_time": "2022-05-28T14:35:24.499Z"
   },
   {
    "duration": 33,
    "start_time": "2022-05-28T14:35:24.509Z"
   },
   {
    "duration": 6,
    "start_time": "2022-05-28T14:35:24.544Z"
   },
   {
    "duration": 58,
    "start_time": "2022-05-28T14:35:24.551Z"
   },
   {
    "duration": 6,
    "start_time": "2022-05-28T14:35:24.611Z"
   },
   {
    "duration": 8,
    "start_time": "2022-05-28T14:35:24.619Z"
   },
   {
    "duration": 10,
    "start_time": "2022-05-28T14:35:24.629Z"
   },
   {
    "duration": 7,
    "start_time": "2022-05-28T14:35:24.640Z"
   },
   {
    "duration": 42,
    "start_time": "2022-05-28T14:35:24.648Z"
   },
   {
    "duration": 7,
    "start_time": "2022-05-28T14:35:24.692Z"
   },
   {
    "duration": 13,
    "start_time": "2022-05-28T14:35:24.701Z"
   },
   {
    "duration": 6,
    "start_time": "2022-05-28T14:35:24.716Z"
   },
   {
    "duration": 3,
    "start_time": "2022-05-28T14:35:24.723Z"
   },
   {
    "duration": 12,
    "start_time": "2022-05-28T14:35:24.727Z"
   },
   {
    "duration": 10,
    "start_time": "2022-05-28T14:35:24.741Z"
   },
   {
    "duration": 35,
    "start_time": "2022-05-28T14:35:24.753Z"
   },
   {
    "duration": 37,
    "start_time": "2022-05-28T14:35:24.790Z"
   },
   {
    "duration": 15,
    "start_time": "2022-05-28T14:35:24.829Z"
   },
   {
    "duration": 40,
    "start_time": "2022-05-28T14:35:24.846Z"
   },
   {
    "duration": 23,
    "start_time": "2022-05-28T14:35:24.887Z"
   },
   {
    "duration": 4,
    "start_time": "2022-05-28T14:35:24.911Z"
   },
   {
    "duration": 423,
    "start_time": "2022-05-28T14:35:24.917Z"
   },
   {
    "duration": 18,
    "start_time": "2022-05-28T14:35:25.341Z"
   },
   {
    "duration": 27,
    "start_time": "2022-05-28T14:35:25.360Z"
   },
   {
    "duration": 140,
    "start_time": "2022-05-28T14:35:25.389Z"
   },
   {
    "duration": 235,
    "start_time": "2022-05-28T14:35:25.531Z"
   },
   {
    "duration": 20,
    "start_time": "2022-05-28T14:35:25.768Z"
   },
   {
    "duration": 144,
    "start_time": "2022-05-28T14:35:25.790Z"
   },
   {
    "duration": 266,
    "start_time": "2022-05-28T14:35:25.941Z"
   },
   {
    "duration": 10,
    "start_time": "2022-05-28T14:35:26.209Z"
   },
   {
    "duration": 134,
    "start_time": "2022-05-28T14:35:26.221Z"
   },
   {
    "duration": 174,
    "start_time": "2022-05-28T14:35:26.357Z"
   },
   {
    "duration": 10,
    "start_time": "2022-05-28T14:35:26.532Z"
   },
   {
    "duration": 142,
    "start_time": "2022-05-28T14:35:26.543Z"
   },
   {
    "duration": 276,
    "start_time": "2022-05-28T14:35:26.687Z"
   },
   {
    "duration": 20,
    "start_time": "2022-05-28T14:35:26.964Z"
   },
   {
    "duration": 121,
    "start_time": "2022-05-28T14:35:26.985Z"
   },
   {
    "duration": 236,
    "start_time": "2022-05-28T14:35:27.108Z"
   },
   {
    "duration": 259,
    "start_time": "2022-05-28T14:35:27.346Z"
   },
   {
    "duration": 255,
    "start_time": "2022-05-28T14:35:27.607Z"
   },
   {
    "duration": 172,
    "start_time": "2022-05-28T14:35:27.864Z"
   },
   {
    "duration": 6,
    "start_time": "2022-05-28T14:35:28.038Z"
   },
   {
    "duration": 51868,
    "start_time": "2022-05-28T14:35:28.046Z"
   },
   {
    "duration": 6,
    "start_time": "2022-05-28T14:36:19.916Z"
   },
   {
    "duration": 465,
    "start_time": "2022-05-28T14:36:19.924Z"
   },
   {
    "duration": 5,
    "start_time": "2022-05-28T14:36:20.391Z"
   },
   {
    "duration": 181670,
    "start_time": "2022-05-28T14:36:20.398Z"
   },
   {
    "duration": 6,
    "start_time": "2022-05-28T14:39:22.070Z"
   },
   {
    "duration": 314,
    "start_time": "2022-05-28T14:39:22.084Z"
   },
   {
    "duration": 411,
    "start_time": "2022-05-28T14:39:22.400Z"
   },
   {
    "duration": 3,
    "start_time": "2022-05-28T14:39:22.813Z"
   },
   {
    "duration": 545,
    "start_time": "2022-05-28T14:39:22.817Z"
   },
   {
    "duration": 3,
    "start_time": "2022-05-28T14:39:23.364Z"
   },
   {
    "duration": 397,
    "start_time": "2022-05-28T14:39:23.369Z"
   },
   {
    "duration": 2,
    "start_time": "2022-05-28T14:39:23.768Z"
   },
   {
    "duration": 37,
    "start_time": "2022-05-28T14:39:23.772Z"
   },
   {
    "duration": 40,
    "start_time": "2022-05-28T14:39:23.811Z"
   },
   {
    "duration": 39,
    "start_time": "2022-05-28T14:39:23.854Z"
   },
   {
    "duration": 295,
    "start_time": "2022-05-28T14:39:23.895Z"
   },
   {
    "duration": 45,
    "start_time": "2022-05-28T14:39:24.192Z"
   },
   {
    "duration": 10,
    "start_time": "2022-05-28T14:39:24.239Z"
   },
   {
    "duration": 181,
    "start_time": "2022-05-28T14:39:24.251Z"
   },
   {
    "duration": 233,
    "start_time": "2022-05-28T14:39:24.434Z"
   },
   {
    "duration": 19,
    "start_time": "2022-05-28T14:39:24.670Z"
   },
   {
    "duration": 124,
    "start_time": "2022-05-28T14:39:24.691Z"
   },
   {
    "duration": 229,
    "start_time": "2022-05-28T14:39:24.817Z"
   },
   {
    "duration": 9,
    "start_time": "2022-05-28T14:39:25.048Z"
   },
   {
    "duration": 110,
    "start_time": "2022-05-28T14:39:25.059Z"
   },
   {
    "duration": 165,
    "start_time": "2022-05-28T14:39:25.171Z"
   },
   {
    "duration": 9,
    "start_time": "2022-05-28T14:39:25.338Z"
   },
   {
    "duration": 130,
    "start_time": "2022-05-28T14:39:25.349Z"
   },
   {
    "duration": 177,
    "start_time": "2022-05-28T14:39:25.484Z"
   },
   {
    "duration": 30485,
    "start_time": "2022-05-28T14:39:25.663Z"
   },
   {
    "duration": 5,
    "start_time": "2022-05-28T14:39:56.150Z"
   },
   {
    "duration": 320,
    "start_time": "2022-05-28T14:39:56.157Z"
   },
   {
    "duration": 9,
    "start_time": "2022-05-28T14:39:56.479Z"
   },
   {
    "duration": 220,
    "start_time": "2022-05-28T14:39:56.490Z"
   },
   {
    "duration": 687,
    "start_time": "2022-05-28T14:39:56.712Z"
   },
   {
    "duration": 5,
    "start_time": "2022-05-28T14:39:57.401Z"
   },
   {
    "duration": 345,
    "start_time": "2022-05-28T14:39:57.408Z"
   },
   {
    "duration": 3,
    "start_time": "2022-05-28T14:39:57.755Z"
   },
   {
    "duration": 481,
    "start_time": "2022-05-28T14:39:57.759Z"
   },
   {
    "duration": 2,
    "start_time": "2022-05-28T14:39:58.242Z"
   },
   {
    "duration": 279,
    "start_time": "2022-05-28T14:39:58.246Z"
   },
   {
    "duration": 2,
    "start_time": "2022-05-28T14:39:58.527Z"
   },
   {
    "duration": 1086,
    "start_time": "2022-05-28T20:50:48.048Z"
   },
   {
    "duration": 94,
    "start_time": "2022-05-28T20:50:49.136Z"
   },
   {
    "duration": 31,
    "start_time": "2022-05-28T20:50:49.232Z"
   },
   {
    "duration": 15,
    "start_time": "2022-05-28T20:50:49.266Z"
   },
   {
    "duration": 89,
    "start_time": "2022-05-28T20:50:49.282Z"
   },
   {
    "duration": 8,
    "start_time": "2022-05-28T20:50:49.373Z"
   },
   {
    "duration": 5,
    "start_time": "2022-05-28T20:50:49.383Z"
   },
   {
    "duration": 11,
    "start_time": "2022-05-28T20:50:49.390Z"
   },
   {
    "duration": 26,
    "start_time": "2022-05-28T20:50:49.403Z"
   },
   {
    "duration": 6,
    "start_time": "2022-05-28T20:50:49.431Z"
   },
   {
    "duration": 6,
    "start_time": "2022-05-28T20:50:49.438Z"
   },
   {
    "duration": 6,
    "start_time": "2022-05-28T20:50:49.445Z"
   },
   {
    "duration": 5,
    "start_time": "2022-05-28T20:50:49.452Z"
   },
   {
    "duration": 31,
    "start_time": "2022-05-28T20:50:49.458Z"
   },
   {
    "duration": 41,
    "start_time": "2022-05-28T20:50:49.491Z"
   },
   {
    "duration": 34,
    "start_time": "2022-05-28T20:50:49.534Z"
   },
   {
    "duration": 5,
    "start_time": "2022-05-28T20:50:49.570Z"
   },
   {
    "duration": 8,
    "start_time": "2022-05-28T20:50:49.576Z"
   },
   {
    "duration": 8,
    "start_time": "2022-05-28T20:50:49.585Z"
   },
   {
    "duration": 35,
    "start_time": "2022-05-28T20:50:49.594Z"
   },
   {
    "duration": 8,
    "start_time": "2022-05-28T20:50:49.630Z"
   },
   {
    "duration": 7,
    "start_time": "2022-05-28T20:50:49.639Z"
   },
   {
    "duration": 11,
    "start_time": "2022-05-28T20:50:49.648Z"
   },
   {
    "duration": 7,
    "start_time": "2022-05-28T20:50:49.660Z"
   },
   {
    "duration": 6,
    "start_time": "2022-05-28T20:50:49.669Z"
   },
   {
    "duration": 9,
    "start_time": "2022-05-28T20:50:49.677Z"
   },
   {
    "duration": 13,
    "start_time": "2022-05-28T20:50:49.687Z"
   },
   {
    "duration": 6,
    "start_time": "2022-05-28T20:50:49.726Z"
   },
   {
    "duration": 28,
    "start_time": "2022-05-28T20:50:49.733Z"
   },
   {
    "duration": 11,
    "start_time": "2022-05-28T20:50:49.763Z"
   },
   {
    "duration": 12,
    "start_time": "2022-05-28T20:50:49.775Z"
   },
   {
    "duration": 46,
    "start_time": "2022-05-28T20:50:49.788Z"
   },
   {
    "duration": 3,
    "start_time": "2022-05-28T20:50:49.835Z"
   },
   {
    "duration": 369,
    "start_time": "2022-05-28T20:50:49.839Z"
   },
   {
    "duration": 21,
    "start_time": "2022-05-28T20:50:50.210Z"
   },
   {
    "duration": 8,
    "start_time": "2022-05-28T20:50:50.233Z"
   },
   {
    "duration": 127,
    "start_time": "2022-05-28T20:50:50.242Z"
   },
   {
    "duration": 203,
    "start_time": "2022-05-28T20:50:50.370Z"
   },
   {
    "duration": 9,
    "start_time": "2022-05-28T20:50:50.574Z"
   },
   {
    "duration": 152,
    "start_time": "2022-05-28T20:50:50.585Z"
   },
   {
    "duration": 273,
    "start_time": "2022-05-28T20:50:50.739Z"
   },
   {
    "duration": 13,
    "start_time": "2022-05-28T20:50:51.014Z"
   },
   {
    "duration": 118,
    "start_time": "2022-05-28T20:50:51.029Z"
   },
   {
    "duration": 161,
    "start_time": "2022-05-28T20:50:51.148Z"
   },
   {
    "duration": 8,
    "start_time": "2022-05-28T20:50:51.310Z"
   },
   {
    "duration": 135,
    "start_time": "2022-05-28T20:50:51.327Z"
   },
   {
    "duration": 275,
    "start_time": "2022-05-28T20:50:51.464Z"
   },
   {
    "duration": 8,
    "start_time": "2022-05-28T20:50:51.741Z"
   },
   {
    "duration": 102,
    "start_time": "2022-05-28T20:50:51.750Z"
   },
   {
    "duration": 197,
    "start_time": "2022-05-28T20:50:51.854Z"
   },
   {
    "duration": 192,
    "start_time": "2022-05-28T20:50:52.053Z"
   },
   {
    "duration": 188,
    "start_time": "2022-05-28T20:50:52.247Z"
   },
   {
    "duration": 99,
    "start_time": "2022-05-28T20:50:52.437Z"
   },
   {
    "duration": 3,
    "start_time": "2022-05-28T20:50:52.538Z"
   },
   {
    "duration": 44915,
    "start_time": "2022-05-28T20:50:52.543Z"
   },
   {
    "duration": 5,
    "start_time": "2022-05-28T20:51:37.459Z"
   },
   {
    "duration": 392,
    "start_time": "2022-05-28T20:51:37.466Z"
   },
   {
    "duration": 5,
    "start_time": "2022-05-28T20:51:37.859Z"
   },
   {
    "duration": 1043,
    "start_time": "2022-05-28T20:52:41.771Z"
   },
   {
    "duration": 92,
    "start_time": "2022-05-28T20:52:42.816Z"
   },
   {
    "duration": 39,
    "start_time": "2022-05-28T20:52:42.910Z"
   },
   {
    "duration": 14,
    "start_time": "2022-05-28T20:52:42.950Z"
   },
   {
    "duration": 73,
    "start_time": "2022-05-28T20:52:42.966Z"
   },
   {
    "duration": 8,
    "start_time": "2022-05-28T20:52:43.040Z"
   },
   {
    "duration": 6,
    "start_time": "2022-05-28T20:52:43.049Z"
   },
   {
    "duration": 9,
    "start_time": "2022-05-28T20:52:43.056Z"
   },
   {
    "duration": 16,
    "start_time": "2022-05-28T20:52:43.066Z"
   },
   {
    "duration": 11,
    "start_time": "2022-05-28T20:52:43.084Z"
   },
   {
    "duration": 5,
    "start_time": "2022-05-28T20:52:43.097Z"
   },
   {
    "duration": 27,
    "start_time": "2022-05-28T20:52:43.103Z"
   },
   {
    "duration": 4,
    "start_time": "2022-05-28T20:52:43.132Z"
   },
   {
    "duration": 29,
    "start_time": "2022-05-28T20:52:43.139Z"
   },
   {
    "duration": 6,
    "start_time": "2022-05-28T20:52:43.170Z"
   },
   {
    "duration": 49,
    "start_time": "2022-05-28T20:52:43.178Z"
   },
   {
    "duration": 5,
    "start_time": "2022-05-28T20:52:43.229Z"
   },
   {
    "duration": 10,
    "start_time": "2022-05-28T20:52:43.236Z"
   },
   {
    "duration": 8,
    "start_time": "2022-05-28T20:52:43.248Z"
   },
   {
    "duration": 7,
    "start_time": "2022-05-28T20:52:43.257Z"
   },
   {
    "duration": 9,
    "start_time": "2022-05-28T20:52:43.266Z"
   },
   {
    "duration": 8,
    "start_time": "2022-05-28T20:52:43.277Z"
   },
   {
    "duration": 46,
    "start_time": "2022-05-28T20:52:43.287Z"
   },
   {
    "duration": 6,
    "start_time": "2022-05-28T20:52:43.335Z"
   },
   {
    "duration": 2,
    "start_time": "2022-05-28T20:52:43.343Z"
   },
   {
    "duration": 11,
    "start_time": "2022-05-28T20:52:43.347Z"
   },
   {
    "duration": 13,
    "start_time": "2022-05-28T20:52:43.359Z"
   },
   {
    "duration": 5,
    "start_time": "2022-05-28T20:52:43.373Z"
   },
   {
    "duration": 55,
    "start_time": "2022-05-28T20:52:43.379Z"
   },
   {
    "duration": 13,
    "start_time": "2022-05-28T20:52:43.435Z"
   },
   {
    "duration": 12,
    "start_time": "2022-05-28T20:52:43.449Z"
   },
   {
    "duration": 20,
    "start_time": "2022-05-28T20:52:43.462Z"
   },
   {
    "duration": 3,
    "start_time": "2022-05-28T20:52:43.483Z"
   },
   {
    "duration": 406,
    "start_time": "2022-05-28T20:52:43.488Z"
   },
   {
    "duration": 15,
    "start_time": "2022-05-28T20:52:43.896Z"
   },
   {
    "duration": 8,
    "start_time": "2022-05-28T20:52:43.926Z"
   },
   {
    "duration": 122,
    "start_time": "2022-05-28T20:52:43.936Z"
   },
   {
    "duration": 194,
    "start_time": "2022-05-28T20:52:44.060Z"
   },
   {
    "duration": 8,
    "start_time": "2022-05-28T20:52:44.256Z"
   },
   {
    "duration": 129,
    "start_time": "2022-05-28T20:52:44.266Z"
   },
   {
    "duration": 223,
    "start_time": "2022-05-28T20:52:44.399Z"
   },
   {
    "duration": 8,
    "start_time": "2022-05-28T20:52:44.626Z"
   },
   {
    "duration": 103,
    "start_time": "2022-05-28T20:52:44.635Z"
   },
   {
    "duration": 148,
    "start_time": "2022-05-28T20:52:44.740Z"
   },
   {
    "duration": 7,
    "start_time": "2022-05-28T20:52:44.890Z"
   },
   {
    "duration": 125,
    "start_time": "2022-05-28T20:52:44.898Z"
   },
   {
    "duration": 239,
    "start_time": "2022-05-28T20:52:45.024Z"
   },
   {
    "duration": 9,
    "start_time": "2022-05-28T20:52:45.264Z"
   },
   {
    "duration": 99,
    "start_time": "2022-05-28T20:52:45.274Z"
   },
   {
    "duration": 186,
    "start_time": "2022-05-28T20:52:45.375Z"
   },
   {
    "duration": 191,
    "start_time": "2022-05-28T20:52:45.563Z"
   },
   {
    "duration": 192,
    "start_time": "2022-05-28T20:52:45.756Z"
   },
   {
    "duration": 93,
    "start_time": "2022-05-28T20:52:45.949Z"
   },
   {
    "duration": 3,
    "start_time": "2022-05-28T20:52:46.044Z"
   },
   {
    "duration": 1025,
    "start_time": "2022-05-28T20:53:07.583Z"
   },
   {
    "duration": 88,
    "start_time": "2022-05-28T20:53:08.611Z"
   },
   {
    "duration": 30,
    "start_time": "2022-05-28T20:53:08.700Z"
   },
   {
    "duration": 13,
    "start_time": "2022-05-28T20:53:08.731Z"
   },
   {
    "duration": 106,
    "start_time": "2022-05-28T20:53:08.746Z"
   },
   {
    "duration": 8,
    "start_time": "2022-05-28T20:53:08.854Z"
   },
   {
    "duration": 13,
    "start_time": "2022-05-28T20:53:08.863Z"
   },
   {
    "duration": 8,
    "start_time": "2022-05-28T20:53:08.878Z"
   },
   {
    "duration": 11,
    "start_time": "2022-05-28T20:53:08.887Z"
   },
   {
    "duration": 6,
    "start_time": "2022-05-28T20:53:08.899Z"
   },
   {
    "duration": 21,
    "start_time": "2022-05-28T20:53:08.906Z"
   },
   {
    "duration": 6,
    "start_time": "2022-05-28T20:53:08.929Z"
   },
   {
    "duration": 11,
    "start_time": "2022-05-28T20:53:08.936Z"
   },
   {
    "duration": 26,
    "start_time": "2022-05-28T20:53:08.950Z"
   },
   {
    "duration": 7,
    "start_time": "2022-05-28T20:53:08.978Z"
   },
   {
    "duration": 57,
    "start_time": "2022-05-28T20:53:08.987Z"
   },
   {
    "duration": 6,
    "start_time": "2022-05-28T20:53:09.045Z"
   },
   {
    "duration": 9,
    "start_time": "2022-05-28T20:53:09.052Z"
   },
   {
    "duration": 10,
    "start_time": "2022-05-28T20:53:09.062Z"
   },
   {
    "duration": 5,
    "start_time": "2022-05-28T20:53:09.074Z"
   },
   {
    "duration": 8,
    "start_time": "2022-05-28T20:53:09.080Z"
   },
   {
    "duration": 7,
    "start_time": "2022-05-28T20:53:09.090Z"
   },
   {
    "duration": 35,
    "start_time": "2022-05-28T20:53:09.098Z"
   },
   {
    "duration": 7,
    "start_time": "2022-05-28T20:53:09.134Z"
   },
   {
    "duration": 2,
    "start_time": "2022-05-28T20:53:09.143Z"
   },
   {
    "duration": 10,
    "start_time": "2022-05-28T20:53:09.146Z"
   },
   {
    "duration": 8,
    "start_time": "2022-05-28T20:53:09.158Z"
   },
   {
    "duration": 5,
    "start_time": "2022-05-28T20:53:09.167Z"
   },
   {
    "duration": 27,
    "start_time": "2022-05-28T20:53:09.174Z"
   },
   {
    "duration": 36,
    "start_time": "2022-05-28T20:53:09.202Z"
   },
   {
    "duration": 10,
    "start_time": "2022-05-28T20:53:09.239Z"
   },
   {
    "duration": 18,
    "start_time": "2022-05-28T20:53:09.251Z"
   },
   {
    "duration": 3,
    "start_time": "2022-05-28T20:53:09.270Z"
   },
   {
    "duration": 398,
    "start_time": "2022-05-28T20:53:09.274Z"
   },
   {
    "duration": 15,
    "start_time": "2022-05-28T20:53:09.673Z"
   },
   {
    "duration": 7,
    "start_time": "2022-05-28T20:53:09.690Z"
   },
   {
    "duration": 131,
    "start_time": "2022-05-28T20:53:09.699Z"
   },
   {
    "duration": 196,
    "start_time": "2022-05-28T20:53:09.832Z"
   },
   {
    "duration": 8,
    "start_time": "2022-05-28T20:53:10.029Z"
   },
   {
    "duration": 123,
    "start_time": "2022-05-28T20:53:10.038Z"
   },
   {
    "duration": 222,
    "start_time": "2022-05-28T20:53:10.166Z"
   },
   {
    "duration": 8,
    "start_time": "2022-05-28T20:53:10.390Z"
   },
   {
    "duration": 104,
    "start_time": "2022-05-28T20:53:10.399Z"
   },
   {
    "duration": 155,
    "start_time": "2022-05-28T20:53:10.504Z"
   },
   {
    "duration": 8,
    "start_time": "2022-05-28T20:53:10.660Z"
   },
   {
    "duration": 122,
    "start_time": "2022-05-28T20:53:10.669Z"
   },
   {
    "duration": 243,
    "start_time": "2022-05-28T20:53:10.792Z"
   },
   {
    "duration": 8,
    "start_time": "2022-05-28T20:53:11.037Z"
   },
   {
    "duration": 102,
    "start_time": "2022-05-28T20:53:11.047Z"
   },
   {
    "duration": 193,
    "start_time": "2022-05-28T20:53:11.151Z"
   },
   {
    "duration": 227,
    "start_time": "2022-05-28T20:53:11.346Z"
   },
   {
    "duration": 214,
    "start_time": "2022-05-28T20:53:11.582Z"
   },
   {
    "duration": 94,
    "start_time": "2022-05-28T20:53:11.797Z"
   },
   {
    "duration": 3,
    "start_time": "2022-05-28T20:53:11.893Z"
   },
   {
    "duration": 1093,
    "start_time": "2022-05-28T20:53:27.225Z"
   },
   {
    "duration": 87,
    "start_time": "2022-05-28T20:53:28.320Z"
   },
   {
    "duration": 31,
    "start_time": "2022-05-28T20:53:28.409Z"
   },
   {
    "duration": 13,
    "start_time": "2022-05-28T20:53:28.442Z"
   },
   {
    "duration": 77,
    "start_time": "2022-05-28T20:53:28.457Z"
   },
   {
    "duration": 8,
    "start_time": "2022-05-28T20:53:28.536Z"
   },
   {
    "duration": 5,
    "start_time": "2022-05-28T20:53:28.546Z"
   },
   {
    "duration": 9,
    "start_time": "2022-05-28T20:53:28.552Z"
   },
   {
    "duration": 6,
    "start_time": "2022-05-28T20:53:28.562Z"
   },
   {
    "duration": 5,
    "start_time": "2022-05-28T20:53:28.570Z"
   },
   {
    "duration": 5,
    "start_time": "2022-05-28T20:53:28.577Z"
   },
   {
    "duration": 6,
    "start_time": "2022-05-28T20:53:28.583Z"
   },
   {
    "duration": 7,
    "start_time": "2022-05-28T20:53:28.626Z"
   },
   {
    "duration": 31,
    "start_time": "2022-05-28T20:53:28.636Z"
   },
   {
    "duration": 6,
    "start_time": "2022-05-28T20:53:28.668Z"
   },
   {
    "duration": 56,
    "start_time": "2022-05-28T20:53:28.675Z"
   },
   {
    "duration": 7,
    "start_time": "2022-05-28T20:53:28.733Z"
   },
   {
    "duration": 9,
    "start_time": "2022-05-28T20:53:28.741Z"
   },
   {
    "duration": 10,
    "start_time": "2022-05-28T20:53:28.752Z"
   },
   {
    "duration": 6,
    "start_time": "2022-05-28T20:53:28.764Z"
   },
   {
    "duration": 10,
    "start_time": "2022-05-28T20:53:28.772Z"
   },
   {
    "duration": 45,
    "start_time": "2022-05-28T20:53:28.783Z"
   },
   {
    "duration": 12,
    "start_time": "2022-05-28T20:53:28.830Z"
   },
   {
    "duration": 5,
    "start_time": "2022-05-28T20:53:28.844Z"
   },
   {
    "duration": 3,
    "start_time": "2022-05-28T20:53:28.851Z"
   },
   {
    "duration": 9,
    "start_time": "2022-05-28T20:53:28.855Z"
   },
   {
    "duration": 8,
    "start_time": "2022-05-28T20:53:28.865Z"
   },
   {
    "duration": 6,
    "start_time": "2022-05-28T20:53:28.874Z"
   },
   {
    "duration": 57,
    "start_time": "2022-05-28T20:53:28.881Z"
   },
   {
    "duration": 23,
    "start_time": "2022-05-28T20:53:28.939Z"
   },
   {
    "duration": 12,
    "start_time": "2022-05-28T20:53:28.964Z"
   },
   {
    "duration": 19,
    "start_time": "2022-05-28T20:53:28.978Z"
   },
   {
    "duration": 3,
    "start_time": "2022-05-28T20:53:28.999Z"
   },
   {
    "duration": 424,
    "start_time": "2022-05-28T20:53:29.003Z"
   },
   {
    "duration": 16,
    "start_time": "2022-05-28T20:53:29.429Z"
   },
   {
    "duration": 8,
    "start_time": "2022-05-28T20:53:29.447Z"
   },
   {
    "duration": 151,
    "start_time": "2022-05-28T20:53:29.457Z"
   },
   {
    "duration": 221,
    "start_time": "2022-05-28T20:53:29.610Z"
   },
   {
    "duration": 9,
    "start_time": "2022-05-28T20:53:29.833Z"
   },
   {
    "duration": 137,
    "start_time": "2022-05-28T20:53:29.844Z"
   },
   {
    "duration": 241,
    "start_time": "2022-05-28T20:53:29.985Z"
   },
   {
    "duration": 8,
    "start_time": "2022-05-28T20:53:30.228Z"
   },
   {
    "duration": 106,
    "start_time": "2022-05-28T20:53:30.237Z"
   },
   {
    "duration": 154,
    "start_time": "2022-05-28T20:53:30.345Z"
   },
   {
    "duration": 8,
    "start_time": "2022-05-28T20:53:30.501Z"
   },
   {
    "duration": 135,
    "start_time": "2022-05-28T20:53:30.511Z"
   },
   {
    "duration": 254,
    "start_time": "2022-05-28T20:53:30.648Z"
   },
   {
    "duration": 9,
    "start_time": "2022-05-28T20:53:30.904Z"
   },
   {
    "duration": 110,
    "start_time": "2022-05-28T20:53:30.915Z"
   },
   {
    "duration": 205,
    "start_time": "2022-05-28T20:53:31.027Z"
   },
   {
    "duration": 196,
    "start_time": "2022-05-28T20:53:31.233Z"
   },
   {
    "duration": 225,
    "start_time": "2022-05-28T20:53:31.430Z"
   },
   {
    "duration": 94,
    "start_time": "2022-05-28T20:53:31.656Z"
   },
   {
    "duration": 5,
    "start_time": "2022-05-28T20:53:31.751Z"
   },
   {
    "duration": 1033,
    "start_time": "2022-05-28T20:53:55.171Z"
   },
   {
    "duration": 85,
    "start_time": "2022-05-28T20:53:56.206Z"
   },
   {
    "duration": 30,
    "start_time": "2022-05-28T20:53:56.292Z"
   },
   {
    "duration": 14,
    "start_time": "2022-05-28T20:53:56.326Z"
   },
   {
    "duration": 67,
    "start_time": "2022-05-28T20:53:56.343Z"
   },
   {
    "duration": 10,
    "start_time": "2022-05-28T20:53:56.427Z"
   },
   {
    "duration": 7,
    "start_time": "2022-05-28T20:53:56.439Z"
   },
   {
    "duration": 8,
    "start_time": "2022-05-28T20:53:56.448Z"
   },
   {
    "duration": 7,
    "start_time": "2022-05-28T20:53:56.457Z"
   },
   {
    "duration": 5,
    "start_time": "2022-05-28T20:53:56.465Z"
   },
   {
    "duration": 5,
    "start_time": "2022-05-28T20:53:56.471Z"
   },
   {
    "duration": 5,
    "start_time": "2022-05-28T20:53:56.478Z"
   },
   {
    "duration": 44,
    "start_time": "2022-05-28T20:53:56.485Z"
   },
   {
    "duration": 26,
    "start_time": "2022-05-28T20:53:56.532Z"
   },
   {
    "duration": 5,
    "start_time": "2022-05-28T20:53:56.559Z"
   },
   {
    "duration": 30,
    "start_time": "2022-05-28T20:53:56.566Z"
   },
   {
    "duration": 29,
    "start_time": "2022-05-28T20:53:56.597Z"
   },
   {
    "duration": 6,
    "start_time": "2022-05-28T20:53:56.628Z"
   },
   {
    "duration": 8,
    "start_time": "2022-05-28T20:53:56.636Z"
   },
   {
    "duration": 5,
    "start_time": "2022-05-28T20:53:56.645Z"
   },
   {
    "duration": 7,
    "start_time": "2022-05-28T20:53:56.652Z"
   },
   {
    "duration": 8,
    "start_time": "2022-05-28T20:53:56.660Z"
   },
   {
    "duration": 11,
    "start_time": "2022-05-28T20:53:56.669Z"
   },
   {
    "duration": 8,
    "start_time": "2022-05-28T20:53:56.681Z"
   },
   {
    "duration": 37,
    "start_time": "2022-05-28T20:53:56.690Z"
   },
   {
    "duration": 7,
    "start_time": "2022-05-28T20:53:56.728Z"
   },
   {
    "duration": 10,
    "start_time": "2022-05-28T20:53:56.737Z"
   },
   {
    "duration": 6,
    "start_time": "2022-05-28T20:53:56.748Z"
   },
   {
    "duration": 30,
    "start_time": "2022-05-28T20:53:56.755Z"
   },
   {
    "duration": 14,
    "start_time": "2022-05-28T20:53:56.787Z"
   },
   {
    "duration": 11,
    "start_time": "2022-05-28T20:53:56.827Z"
   },
   {
    "duration": 19,
    "start_time": "2022-05-28T20:53:56.839Z"
   },
   {
    "duration": 3,
    "start_time": "2022-05-28T20:53:56.859Z"
   },
   {
    "duration": 372,
    "start_time": "2022-05-28T20:53:56.863Z"
   },
   {
    "duration": 15,
    "start_time": "2022-05-28T20:53:57.237Z"
   },
   {
    "duration": 7,
    "start_time": "2022-05-28T20:53:57.253Z"
   },
   {
    "duration": 130,
    "start_time": "2022-05-28T20:53:57.262Z"
   },
   {
    "duration": 194,
    "start_time": "2022-05-28T20:53:57.394Z"
   },
   {
    "duration": 8,
    "start_time": "2022-05-28T20:53:57.589Z"
   },
   {
    "duration": 117,
    "start_time": "2022-05-28T20:53:57.598Z"
   },
   {
    "duration": 208,
    "start_time": "2022-05-28T20:53:57.726Z"
   },
   {
    "duration": 7,
    "start_time": "2022-05-28T20:53:57.936Z"
   },
   {
    "duration": 105,
    "start_time": "2022-05-28T20:53:57.945Z"
   },
   {
    "duration": 140,
    "start_time": "2022-05-28T20:53:58.052Z"
   },
   {
    "duration": 9,
    "start_time": "2022-05-28T20:53:58.193Z"
   },
   {
    "duration": 123,
    "start_time": "2022-05-28T20:53:58.203Z"
   },
   {
    "duration": 231,
    "start_time": "2022-05-28T20:53:58.328Z"
   },
   {
    "duration": 8,
    "start_time": "2022-05-28T20:53:58.561Z"
   },
   {
    "duration": 103,
    "start_time": "2022-05-28T20:53:58.571Z"
   },
   {
    "duration": 190,
    "start_time": "2022-05-28T20:53:58.676Z"
   },
   {
    "duration": 182,
    "start_time": "2022-05-28T20:53:58.867Z"
   },
   {
    "duration": 184,
    "start_time": "2022-05-28T20:53:59.051Z"
   },
   {
    "duration": 101,
    "start_time": "2022-05-28T20:53:59.237Z"
   },
   {
    "duration": 4,
    "start_time": "2022-05-28T20:53:59.340Z"
   },
   {
    "duration": 44157,
    "start_time": "2022-05-28T20:53:59.345Z"
   },
   {
    "duration": 5,
    "start_time": "2022-05-28T20:54:43.503Z"
   },
   {
    "duration": 391,
    "start_time": "2022-05-28T20:54:43.509Z"
   },
   {
    "duration": 5,
    "start_time": "2022-05-28T20:54:43.901Z"
   },
   {
    "duration": 1140,
    "start_time": "2022-05-28T20:56:10.900Z"
   },
   {
    "duration": 93,
    "start_time": "2022-05-28T20:56:12.042Z"
   },
   {
    "duration": 32,
    "start_time": "2022-05-28T20:56:12.138Z"
   },
   {
    "duration": 14,
    "start_time": "2022-05-28T20:56:12.172Z"
   },
   {
    "duration": 83,
    "start_time": "2022-05-28T20:56:12.187Z"
   },
   {
    "duration": 8,
    "start_time": "2022-05-28T20:56:12.272Z"
   },
   {
    "duration": 8,
    "start_time": "2022-05-28T20:56:12.281Z"
   },
   {
    "duration": 10,
    "start_time": "2022-05-28T20:56:12.290Z"
   },
   {
    "duration": 29,
    "start_time": "2022-05-28T20:56:12.302Z"
   },
   {
    "duration": 6,
    "start_time": "2022-05-28T20:56:12.332Z"
   },
   {
    "duration": 6,
    "start_time": "2022-05-28T20:56:12.339Z"
   },
   {
    "duration": 6,
    "start_time": "2022-05-28T20:56:12.346Z"
   },
   {
    "duration": 5,
    "start_time": "2022-05-28T20:56:12.354Z"
   },
   {
    "duration": 27,
    "start_time": "2022-05-28T20:56:12.360Z"
   },
   {
    "duration": 40,
    "start_time": "2022-05-28T20:56:12.389Z"
   },
   {
    "duration": 34,
    "start_time": "2022-05-28T20:56:12.430Z"
   },
   {
    "duration": 5,
    "start_time": "2022-05-28T20:56:12.465Z"
   },
   {
    "duration": 8,
    "start_time": "2022-05-28T20:56:12.471Z"
   },
   {
    "duration": 10,
    "start_time": "2022-05-28T20:56:12.481Z"
   },
   {
    "duration": 5,
    "start_time": "2022-05-28T20:56:12.492Z"
   },
   {
    "duration": 30,
    "start_time": "2022-05-28T20:56:12.499Z"
   },
   {
    "duration": 7,
    "start_time": "2022-05-28T20:56:12.530Z"
   },
   {
    "duration": 12,
    "start_time": "2022-05-28T20:56:12.538Z"
   },
   {
    "duration": 5,
    "start_time": "2022-05-28T20:56:12.552Z"
   },
   {
    "duration": 2,
    "start_time": "2022-05-28T20:56:12.558Z"
   },
   {
    "duration": 10,
    "start_time": "2022-05-28T20:56:12.561Z"
   },
   {
    "duration": 8,
    "start_time": "2022-05-28T20:56:12.573Z"
   },
   {
    "duration": 7,
    "start_time": "2022-05-28T20:56:12.582Z"
   },
   {
    "duration": 58,
    "start_time": "2022-05-28T20:56:12.591Z"
   },
   {
    "duration": 14,
    "start_time": "2022-05-28T20:56:12.650Z"
   },
   {
    "duration": 13,
    "start_time": "2022-05-28T20:56:12.666Z"
   },
   {
    "duration": 47,
    "start_time": "2022-05-28T20:56:12.681Z"
   },
   {
    "duration": 3,
    "start_time": "2022-05-28T20:56:12.730Z"
   },
   {
    "duration": 388,
    "start_time": "2022-05-28T20:56:12.735Z"
   },
   {
    "duration": 16,
    "start_time": "2022-05-28T20:56:13.126Z"
   },
   {
    "duration": 8,
    "start_time": "2022-05-28T20:56:13.144Z"
   },
   {
    "duration": 141,
    "start_time": "2022-05-28T20:56:13.154Z"
   },
   {
    "duration": 212,
    "start_time": "2022-05-28T20:56:13.297Z"
   },
   {
    "duration": 16,
    "start_time": "2022-05-28T20:56:13.511Z"
   },
   {
    "duration": 127,
    "start_time": "2022-05-28T20:56:13.532Z"
   },
   {
    "duration": 229,
    "start_time": "2022-05-28T20:56:13.660Z"
   },
   {
    "duration": 9,
    "start_time": "2022-05-28T20:56:13.890Z"
   },
   {
    "duration": 108,
    "start_time": "2022-05-28T20:56:13.900Z"
   },
   {
    "duration": 160,
    "start_time": "2022-05-28T20:56:14.009Z"
   },
   {
    "duration": 9,
    "start_time": "2022-05-28T20:56:14.170Z"
   },
   {
    "duration": 130,
    "start_time": "2022-05-28T20:56:14.180Z"
   },
   {
    "duration": 252,
    "start_time": "2022-05-28T20:56:14.311Z"
   },
   {
    "duration": 9,
    "start_time": "2022-05-28T20:56:14.564Z"
   },
   {
    "duration": 120,
    "start_time": "2022-05-28T20:56:14.574Z"
   },
   {
    "duration": 209,
    "start_time": "2022-05-28T20:56:14.696Z"
   },
   {
    "duration": 191,
    "start_time": "2022-05-28T20:56:14.907Z"
   },
   {
    "duration": 193,
    "start_time": "2022-05-28T20:56:15.100Z"
   },
   {
    "duration": 102,
    "start_time": "2022-05-28T20:56:15.294Z"
   },
   {
    "duration": 4,
    "start_time": "2022-05-28T20:56:15.398Z"
   },
   {
    "duration": 45530,
    "start_time": "2022-05-28T20:56:15.404Z"
   },
   {
    "duration": 5,
    "start_time": "2022-05-28T20:57:00.936Z"
   },
   {
    "duration": 395,
    "start_time": "2022-05-28T20:57:00.943Z"
   },
   {
    "duration": 5,
    "start_time": "2022-05-28T20:57:01.340Z"
   },
   {
    "duration": 166984,
    "start_time": "2022-05-28T20:57:01.347Z"
   },
   {
    "duration": 5,
    "start_time": "2022-05-28T20:59:48.332Z"
   },
   {
    "duration": 1402,
    "start_time": "2022-05-29T05:14:24.439Z"
   },
   {
    "duration": 323,
    "start_time": "2022-05-29T05:14:25.844Z"
   },
   {
    "duration": 32,
    "start_time": "2022-05-29T05:14:26.169Z"
   },
   {
    "duration": 14,
    "start_time": "2022-05-29T05:14:26.202Z"
   },
   {
    "duration": 80,
    "start_time": "2022-05-29T05:14:26.218Z"
   },
   {
    "duration": 9,
    "start_time": "2022-05-29T05:14:26.300Z"
   },
   {
    "duration": 27,
    "start_time": "2022-05-29T05:14:26.311Z"
   },
   {
    "duration": 8,
    "start_time": "2022-05-29T05:14:26.339Z"
   },
   {
    "duration": 7,
    "start_time": "2022-05-29T05:14:26.348Z"
   },
   {
    "duration": 7,
    "start_time": "2022-05-29T05:14:26.356Z"
   },
   {
    "duration": 6,
    "start_time": "2022-05-29T05:14:26.364Z"
   },
   {
    "duration": 7,
    "start_time": "2022-05-29T05:14:26.372Z"
   },
   {
    "duration": 7,
    "start_time": "2022-05-29T05:14:26.380Z"
   },
   {
    "duration": 42,
    "start_time": "2022-05-29T05:14:26.427Z"
   },
   {
    "duration": 6,
    "start_time": "2022-05-29T05:14:26.471Z"
   },
   {
    "duration": 32,
    "start_time": "2022-05-29T05:14:26.479Z"
   },
   {
    "duration": 27,
    "start_time": "2022-05-29T05:14:26.513Z"
   },
   {
    "duration": 7,
    "start_time": "2022-05-29T05:14:26.542Z"
   },
   {
    "duration": 9,
    "start_time": "2022-05-29T05:14:26.551Z"
   },
   {
    "duration": 7,
    "start_time": "2022-05-29T05:14:26.561Z"
   },
   {
    "duration": 7,
    "start_time": "2022-05-29T05:14:26.570Z"
   },
   {
    "duration": 7,
    "start_time": "2022-05-29T05:14:26.579Z"
   },
   {
    "duration": 46,
    "start_time": "2022-05-29T05:14:26.587Z"
   },
   {
    "duration": 9,
    "start_time": "2022-05-29T05:14:26.635Z"
   },
   {
    "duration": 2,
    "start_time": "2022-05-29T05:14:26.645Z"
   },
   {
    "duration": 10,
    "start_time": "2022-05-29T05:14:26.649Z"
   },
   {
    "duration": 8,
    "start_time": "2022-05-29T05:14:26.661Z"
   },
   {
    "duration": 5,
    "start_time": "2022-05-29T05:14:26.670Z"
   },
   {
    "duration": 60,
    "start_time": "2022-05-29T05:14:26.677Z"
   },
   {
    "duration": 17,
    "start_time": "2022-05-29T05:14:26.740Z"
   },
   {
    "duration": 14,
    "start_time": "2022-05-29T05:14:26.758Z"
   },
   {
    "duration": 23,
    "start_time": "2022-05-29T05:14:26.774Z"
   },
   {
    "duration": 4,
    "start_time": "2022-05-29T05:14:26.799Z"
   },
   {
    "duration": 454,
    "start_time": "2022-05-29T05:14:26.826Z"
   },
   {
    "duration": 17,
    "start_time": "2022-05-29T05:14:27.282Z"
   },
   {
    "duration": 23,
    "start_time": "2022-05-29T05:14:27.301Z"
   },
   {
    "duration": 141,
    "start_time": "2022-05-29T05:14:27.326Z"
   },
   {
    "duration": 214,
    "start_time": "2022-05-29T05:14:27.468Z"
   },
   {
    "duration": 8,
    "start_time": "2022-05-29T05:14:27.684Z"
   },
   {
    "duration": 149,
    "start_time": "2022-05-29T05:14:27.693Z"
   },
   {
    "duration": 288,
    "start_time": "2022-05-29T05:14:27.849Z"
   },
   {
    "duration": 11,
    "start_time": "2022-05-29T05:14:28.138Z"
   },
   {
    "duration": 107,
    "start_time": "2022-05-29T05:14:28.151Z"
   },
   {
    "duration": 144,
    "start_time": "2022-05-29T05:14:28.260Z"
   },
   {
    "duration": 27,
    "start_time": "2022-05-29T05:14:28.406Z"
   },
   {
    "duration": 217,
    "start_time": "2022-05-29T05:14:28.435Z"
   },
   {
    "duration": 201,
    "start_time": "2022-05-29T05:14:28.654Z"
   },
   {
    "duration": 12,
    "start_time": "2022-05-29T05:14:28.857Z"
   },
   {
    "duration": 142,
    "start_time": "2022-05-29T05:14:28.871Z"
   },
   {
    "duration": 341,
    "start_time": "2022-05-29T05:14:29.015Z"
   },
   {
    "duration": 476,
    "start_time": "2022-05-29T05:14:29.360Z"
   },
   {
    "duration": 323,
    "start_time": "2022-05-29T05:14:29.840Z"
   },
   {
    "duration": 199,
    "start_time": "2022-05-29T05:14:30.164Z"
   },
   {
    "duration": 4,
    "start_time": "2022-05-29T05:14:30.365Z"
   },
   {
    "duration": 56624,
    "start_time": "2022-05-29T05:14:30.370Z"
   },
   {
    "duration": 6,
    "start_time": "2022-05-29T05:15:26.996Z"
   },
   {
    "duration": 439,
    "start_time": "2022-05-29T05:15:27.004Z"
   },
   {
    "duration": 5,
    "start_time": "2022-05-29T05:15:27.444Z"
   },
   {
    "duration": 183810,
    "start_time": "2022-05-29T05:15:27.451Z"
   },
   {
    "duration": 6,
    "start_time": "2022-05-29T05:18:31.262Z"
   },
   {
    "duration": 343,
    "start_time": "2022-05-29T05:18:31.270Z"
   },
   {
    "duration": 528,
    "start_time": "2022-05-29T05:18:31.615Z"
   },
   {
    "duration": 3,
    "start_time": "2022-05-29T05:18:32.145Z"
   },
   {
    "duration": 603,
    "start_time": "2022-05-29T05:18:32.150Z"
   },
   {
    "duration": 2,
    "start_time": "2022-05-29T05:18:32.756Z"
   },
   {
    "duration": 409,
    "start_time": "2022-05-29T05:18:32.760Z"
   },
   {
    "duration": 2,
    "start_time": "2022-05-29T05:18:33.171Z"
   },
   {
    "duration": 28,
    "start_time": "2022-05-29T05:18:33.175Z"
   },
   {
    "duration": 48,
    "start_time": "2022-05-29T05:18:33.204Z"
   },
   {
    "duration": 13,
    "start_time": "2022-05-29T05:18:33.254Z"
   },
   {
    "duration": 281,
    "start_time": "2022-05-29T05:18:33.269Z"
   },
   {
    "duration": 37,
    "start_time": "2022-05-29T05:18:33.552Z"
   },
   {
    "duration": 8,
    "start_time": "2022-05-29T05:18:33.590Z"
   },
   {
    "duration": 142,
    "start_time": "2022-05-29T05:18:33.600Z"
   },
   {
    "duration": 246,
    "start_time": "2022-05-29T05:18:33.743Z"
   },
   {
    "duration": 9,
    "start_time": "2022-05-29T05:18:33.990Z"
   },
   {
    "duration": 129,
    "start_time": "2022-05-29T05:18:34.000Z"
   },
   {
    "duration": 212,
    "start_time": "2022-05-29T05:18:34.134Z"
   },
   {
    "duration": 8,
    "start_time": "2022-05-29T05:18:34.348Z"
   },
   {
    "duration": 108,
    "start_time": "2022-05-29T05:18:34.358Z"
   },
   {
    "duration": 174,
    "start_time": "2022-05-29T05:18:34.468Z"
   },
   {
    "duration": 9,
    "start_time": "2022-05-29T05:18:34.644Z"
   },
   {
    "duration": 118,
    "start_time": "2022-05-29T05:18:34.654Z"
   },
   {
    "duration": 192,
    "start_time": "2022-05-29T05:18:34.773Z"
   },
   {
    "duration": 31002,
    "start_time": "2022-05-29T05:18:34.967Z"
   },
   {
    "duration": 5,
    "start_time": "2022-05-29T05:19:05.971Z"
   },
   {
    "duration": 320,
    "start_time": "2022-05-29T05:19:05.977Z"
   },
   {
    "duration": 4,
    "start_time": "2022-05-29T05:19:06.299Z"
   },
   {
    "duration": 209,
    "start_time": "2022-05-29T05:19:06.305Z"
   },
   {
    "duration": 658,
    "start_time": "2022-05-29T05:19:06.516Z"
   },
   {
    "duration": 4,
    "start_time": "2022-05-29T05:19:07.176Z"
   },
   {
    "duration": 282,
    "start_time": "2022-05-29T05:19:07.182Z"
   },
   {
    "duration": 3,
    "start_time": "2022-05-29T05:19:07.465Z"
   },
   {
    "duration": 401,
    "start_time": "2022-05-29T05:19:07.469Z"
   },
   {
    "duration": 2,
    "start_time": "2022-05-29T05:19:07.872Z"
   },
   {
    "duration": 269,
    "start_time": "2022-05-29T05:19:07.875Z"
   },
   {
    "duration": 3,
    "start_time": "2022-05-29T05:19:08.146Z"
   },
   {
    "duration": 1266,
    "start_time": "2022-10-12T13:50:34.079Z"
   },
   {
    "duration": 114,
    "start_time": "2022-10-12T13:50:35.347Z"
   },
   {
    "duration": 0,
    "start_time": "2022-10-12T13:50:35.465Z"
   },
   {
    "duration": 0,
    "start_time": "2022-10-12T13:50:35.467Z"
   },
   {
    "duration": 0,
    "start_time": "2022-10-12T13:50:35.468Z"
   },
   {
    "duration": 0,
    "start_time": "2022-10-12T13:50:35.470Z"
   },
   {
    "duration": 0,
    "start_time": "2022-10-12T13:50:35.471Z"
   },
   {
    "duration": 0,
    "start_time": "2022-10-12T13:50:35.473Z"
   },
   {
    "duration": 0,
    "start_time": "2022-10-12T13:50:35.474Z"
   },
   {
    "duration": 0,
    "start_time": "2022-10-12T13:50:35.476Z"
   },
   {
    "duration": 0,
    "start_time": "2022-10-12T13:50:35.477Z"
   },
   {
    "duration": 0,
    "start_time": "2022-10-12T13:50:35.495Z"
   },
   {
    "duration": 0,
    "start_time": "2022-10-12T13:50:35.497Z"
   },
   {
    "duration": 0,
    "start_time": "2022-10-12T13:50:35.498Z"
   },
   {
    "duration": 0,
    "start_time": "2022-10-12T13:50:35.499Z"
   },
   {
    "duration": 0,
    "start_time": "2022-10-12T13:50:35.501Z"
   },
   {
    "duration": 0,
    "start_time": "2022-10-12T13:50:35.502Z"
   },
   {
    "duration": 0,
    "start_time": "2022-10-12T13:50:35.503Z"
   },
   {
    "duration": 0,
    "start_time": "2022-10-12T13:50:35.505Z"
   },
   {
    "duration": 0,
    "start_time": "2022-10-12T13:50:35.506Z"
   },
   {
    "duration": 0,
    "start_time": "2022-10-12T13:50:35.507Z"
   },
   {
    "duration": 0,
    "start_time": "2022-10-12T13:50:35.508Z"
   },
   {
    "duration": 0,
    "start_time": "2022-10-12T13:50:35.509Z"
   },
   {
    "duration": 0,
    "start_time": "2022-10-12T13:50:35.510Z"
   },
   {
    "duration": 0,
    "start_time": "2022-10-12T13:50:35.512Z"
   },
   {
    "duration": 0,
    "start_time": "2022-10-12T13:50:35.513Z"
   },
   {
    "duration": 0,
    "start_time": "2022-10-12T13:50:35.514Z"
   },
   {
    "duration": 0,
    "start_time": "2022-10-12T13:50:35.515Z"
   },
   {
    "duration": 0,
    "start_time": "2022-10-12T13:50:35.517Z"
   },
   {
    "duration": 0,
    "start_time": "2022-10-12T13:50:35.517Z"
   },
   {
    "duration": 0,
    "start_time": "2022-10-12T13:50:35.519Z"
   },
   {
    "duration": 0,
    "start_time": "2022-10-12T13:50:35.520Z"
   },
   {
    "duration": 0,
    "start_time": "2022-10-12T13:50:35.521Z"
   },
   {
    "duration": 0,
    "start_time": "2022-10-12T13:50:35.522Z"
   },
   {
    "duration": 0,
    "start_time": "2022-10-12T13:50:35.523Z"
   },
   {
    "duration": 0,
    "start_time": "2022-10-12T13:50:35.524Z"
   },
   {
    "duration": 0,
    "start_time": "2022-10-12T13:50:35.525Z"
   },
   {
    "duration": 0,
    "start_time": "2022-10-12T13:50:35.526Z"
   },
   {
    "duration": 0,
    "start_time": "2022-10-12T13:50:35.527Z"
   },
   {
    "duration": 0,
    "start_time": "2022-10-12T13:50:35.529Z"
   },
   {
    "duration": 0,
    "start_time": "2022-10-12T13:50:35.530Z"
   },
   {
    "duration": 0,
    "start_time": "2022-10-12T13:50:35.531Z"
   },
   {
    "duration": 0,
    "start_time": "2022-10-12T13:50:35.532Z"
   },
   {
    "duration": 0,
    "start_time": "2022-10-12T13:50:35.533Z"
   },
   {
    "duration": 0,
    "start_time": "2022-10-12T13:50:35.534Z"
   },
   {
    "duration": 0,
    "start_time": "2022-10-12T13:50:35.535Z"
   },
   {
    "duration": 0,
    "start_time": "2022-10-12T13:50:35.595Z"
   },
   {
    "duration": 0,
    "start_time": "2022-10-12T13:50:35.596Z"
   },
   {
    "duration": 0,
    "start_time": "2022-10-12T13:50:35.597Z"
   },
   {
    "duration": 1,
    "start_time": "2022-10-12T13:50:35.598Z"
   },
   {
    "duration": 0,
    "start_time": "2022-10-12T13:50:35.600Z"
   },
   {
    "duration": 0,
    "start_time": "2022-10-12T13:50:35.601Z"
   },
   {
    "duration": 0,
    "start_time": "2022-10-12T13:50:35.602Z"
   },
   {
    "duration": 0,
    "start_time": "2022-10-12T13:50:35.603Z"
   },
   {
    "duration": 0,
    "start_time": "2022-10-12T13:50:35.604Z"
   },
   {
    "duration": 0,
    "start_time": "2022-10-12T13:50:35.605Z"
   },
   {
    "duration": 0,
    "start_time": "2022-10-12T13:50:35.606Z"
   },
   {
    "duration": 0,
    "start_time": "2022-10-12T13:50:35.607Z"
   },
   {
    "duration": 0,
    "start_time": "2022-10-12T13:50:35.608Z"
   },
   {
    "duration": 0,
    "start_time": "2022-10-12T13:50:35.609Z"
   },
   {
    "duration": 0,
    "start_time": "2022-10-12T13:50:35.610Z"
   },
   {
    "duration": 0,
    "start_time": "2022-10-12T13:50:35.612Z"
   },
   {
    "duration": 0,
    "start_time": "2022-10-12T13:50:35.613Z"
   },
   {
    "duration": 0,
    "start_time": "2022-10-12T13:50:35.614Z"
   },
   {
    "duration": 0,
    "start_time": "2022-10-12T13:50:35.615Z"
   },
   {
    "duration": 0,
    "start_time": "2022-10-12T13:50:35.616Z"
   },
   {
    "duration": 0,
    "start_time": "2022-10-12T13:50:35.617Z"
   },
   {
    "duration": 0,
    "start_time": "2022-10-12T13:50:35.619Z"
   },
   {
    "duration": 0,
    "start_time": "2022-10-12T13:50:35.620Z"
   },
   {
    "duration": 0,
    "start_time": "2022-10-12T13:50:35.621Z"
   },
   {
    "duration": 0,
    "start_time": "2022-10-12T13:50:35.622Z"
   },
   {
    "duration": 0,
    "start_time": "2022-10-12T13:50:35.623Z"
   },
   {
    "duration": 0,
    "start_time": "2022-10-12T13:50:35.624Z"
   },
   {
    "duration": 0,
    "start_time": "2022-10-12T13:50:35.625Z"
   },
   {
    "duration": 0,
    "start_time": "2022-10-12T13:50:35.626Z"
   },
   {
    "duration": 0,
    "start_time": "2022-10-12T13:50:35.628Z"
   },
   {
    "duration": 0,
    "start_time": "2022-10-12T13:50:35.629Z"
   },
   {
    "duration": 0,
    "start_time": "2022-10-12T13:50:35.630Z"
   },
   {
    "duration": 0,
    "start_time": "2022-10-12T13:50:35.631Z"
   },
   {
    "duration": 0,
    "start_time": "2022-10-12T13:50:35.632Z"
   },
   {
    "duration": 0,
    "start_time": "2022-10-12T13:50:35.696Z"
   },
   {
    "duration": 0,
    "start_time": "2022-10-12T13:50:35.697Z"
   },
   {
    "duration": 0,
    "start_time": "2022-10-12T13:50:35.698Z"
   },
   {
    "duration": 0,
    "start_time": "2022-10-12T13:50:35.698Z"
   },
   {
    "duration": 0,
    "start_time": "2022-10-12T13:50:35.700Z"
   },
   {
    "duration": 0,
    "start_time": "2022-10-12T13:50:35.701Z"
   },
   {
    "duration": 0,
    "start_time": "2022-10-12T13:50:35.702Z"
   },
   {
    "duration": 0,
    "start_time": "2022-10-12T13:50:35.703Z"
   },
   {
    "duration": 0,
    "start_time": "2022-10-12T13:50:35.705Z"
   },
   {
    "duration": 0,
    "start_time": "2022-10-12T13:50:35.706Z"
   },
   {
    "duration": 0,
    "start_time": "2022-10-12T13:50:35.706Z"
   },
   {
    "duration": 0,
    "start_time": "2022-10-12T13:50:35.708Z"
   },
   {
    "duration": 0,
    "start_time": "2022-10-12T13:50:35.709Z"
   },
   {
    "duration": 0,
    "start_time": "2022-10-12T13:50:35.709Z"
   },
   {
    "duration": 0,
    "start_time": "2022-10-12T13:50:35.710Z"
   },
   {
    "duration": 0,
    "start_time": "2022-10-12T13:50:35.711Z"
   },
   {
    "duration": 0,
    "start_time": "2022-10-12T13:50:35.712Z"
   },
   {
    "duration": 52,
    "start_time": "2023-01-12T10:00:31.172Z"
   },
   {
    "duration": 1387,
    "start_time": "2023-01-12T10:00:34.293Z"
   },
   {
    "duration": 353,
    "start_time": "2023-01-12T10:00:35.682Z"
   },
   {
    "duration": 37,
    "start_time": "2023-01-12T10:00:37.955Z"
   },
   {
    "duration": 1286,
    "start_time": "2023-01-12T10:00:43.864Z"
   },
   {
    "duration": 99,
    "start_time": "2023-01-12T10:00:45.152Z"
   },
   {
    "duration": 39,
    "start_time": "2023-01-12T10:00:45.253Z"
   },
   {
    "duration": 15,
    "start_time": "2023-01-12T10:00:45.294Z"
   },
   {
    "duration": 90,
    "start_time": "2023-01-12T10:00:45.310Z"
   },
   {
    "duration": 10,
    "start_time": "2023-01-12T10:00:45.402Z"
   },
   {
    "duration": 25,
    "start_time": "2023-01-12T10:00:45.413Z"
   },
   {
    "duration": 41,
    "start_time": "2023-01-12T10:00:45.439Z"
   },
   {
    "duration": 22,
    "start_time": "2023-01-12T10:00:45.482Z"
   },
   {
    "duration": 30,
    "start_time": "2023-01-12T10:00:45.506Z"
   },
   {
    "duration": 16,
    "start_time": "2023-01-12T10:00:45.537Z"
   },
   {
    "duration": 28,
    "start_time": "2023-01-12T10:00:45.555Z"
   },
   {
    "duration": 27,
    "start_time": "2023-01-12T10:00:45.585Z"
   },
   {
    "duration": 42,
    "start_time": "2023-01-12T10:00:45.614Z"
   },
   {
    "duration": 8,
    "start_time": "2023-01-12T10:00:45.659Z"
   },
   {
    "duration": 47,
    "start_time": "2023-01-12T10:00:45.668Z"
   },
   {
    "duration": 7,
    "start_time": "2023-01-12T10:00:45.717Z"
   },
   {
    "duration": 31,
    "start_time": "2023-01-12T10:00:45.725Z"
   },
   {
    "duration": 28,
    "start_time": "2023-01-12T10:00:45.758Z"
   },
   {
    "duration": 21,
    "start_time": "2023-01-12T10:00:45.788Z"
   },
   {
    "duration": 20,
    "start_time": "2023-01-12T10:00:45.810Z"
   },
   {
    "duration": 34,
    "start_time": "2023-01-12T10:00:45.833Z"
   },
   {
    "duration": 42,
    "start_time": "2023-01-12T10:00:45.869Z"
   },
   {
    "duration": 23,
    "start_time": "2023-01-12T10:00:45.913Z"
   },
   {
    "duration": 29,
    "start_time": "2023-01-12T10:00:45.938Z"
   },
   {
    "duration": 34,
    "start_time": "2023-01-12T10:00:45.968Z"
   },
   {
    "duration": 42,
    "start_time": "2023-01-12T10:00:46.004Z"
   },
   {
    "duration": 11,
    "start_time": "2023-01-12T10:00:46.050Z"
   },
   {
    "duration": 56,
    "start_time": "2023-01-12T10:00:46.063Z"
   },
   {
    "duration": 20,
    "start_time": "2023-01-12T10:00:46.120Z"
   },
   {
    "duration": 31,
    "start_time": "2023-01-12T10:00:46.141Z"
   },
   {
    "duration": 28,
    "start_time": "2023-01-12T10:00:46.173Z"
   },
   {
    "duration": 3,
    "start_time": "2023-01-12T10:00:46.203Z"
   },
   {
    "duration": 376,
    "start_time": "2023-01-12T10:00:46.208Z"
   },
   {
    "duration": 18,
    "start_time": "2023-01-12T10:00:46.586Z"
   },
   {
    "duration": 23,
    "start_time": "2023-01-12T10:00:46.606Z"
   },
   {
    "duration": 143,
    "start_time": "2023-01-12T10:00:46.631Z"
   },
   {
    "duration": 230,
    "start_time": "2023-01-12T10:00:46.776Z"
   },
   {
    "duration": 10,
    "start_time": "2023-01-12T10:00:47.008Z"
   },
   {
    "duration": 142,
    "start_time": "2023-01-12T10:00:47.020Z"
   },
   {
    "duration": 251,
    "start_time": "2023-01-12T10:00:47.164Z"
   },
   {
    "duration": 10,
    "start_time": "2023-01-12T10:00:47.417Z"
   },
   {
    "duration": 212,
    "start_time": "2023-01-12T10:00:47.429Z"
   },
   {
    "duration": 177,
    "start_time": "2023-01-12T10:00:47.643Z"
   },
   {
    "duration": 9,
    "start_time": "2023-01-12T10:00:47.822Z"
   },
   {
    "duration": 152,
    "start_time": "2023-01-12T10:00:47.832Z"
   },
   {
    "duration": 201,
    "start_time": "2023-01-12T10:00:47.986Z"
   },
   {
    "duration": 10,
    "start_time": "2023-01-12T10:00:48.190Z"
   },
   {
    "duration": 161,
    "start_time": "2023-01-12T10:00:48.202Z"
   },
   {
    "duration": 256,
    "start_time": "2023-01-12T10:00:48.365Z"
   },
   {
    "duration": 222,
    "start_time": "2023-01-12T10:00:48.622Z"
   },
   {
    "duration": 249,
    "start_time": "2023-01-12T10:00:48.846Z"
   },
   {
    "duration": 215,
    "start_time": "2023-01-12T10:00:49.098Z"
   },
   {
    "duration": 4,
    "start_time": "2023-01-12T10:00:49.314Z"
   },
   {
    "duration": 50575,
    "start_time": "2023-01-12T10:00:49.319Z"
   },
   {
    "duration": 5,
    "start_time": "2023-01-12T10:01:39.896Z"
   },
   {
    "duration": 436,
    "start_time": "2023-01-12T10:01:39.903Z"
   },
   {
    "duration": 5,
    "start_time": "2023-01-12T10:01:40.341Z"
   }
  ],
  "kernelspec": {
   "display_name": "Python 3 (ipykernel)",
   "language": "python",
   "name": "python3"
  },
  "language_info": {
   "codemirror_mode": {
    "name": "ipython",
    "version": 3
   },
   "file_extension": ".py",
   "mimetype": "text/x-python",
   "name": "python",
   "nbconvert_exporter": "python",
   "pygments_lexer": "ipython3",
   "version": "3.9.5"
  },
  "toc": {
   "base_numbering": 1,
   "nav_menu": {},
   "number_sections": true,
   "sideBar": true,
   "skip_h1_title": true,
   "title_cell": "Содержание",
   "title_sidebar": "Contents",
   "toc_cell": true,
   "toc_position": {},
   "toc_section_display": true,
   "toc_window_display": true
  }
 },
 "nbformat": 4,
 "nbformat_minor": 4
}
