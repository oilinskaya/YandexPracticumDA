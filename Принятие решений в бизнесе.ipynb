{
 "cells": [
  {
   "cell_type": "markdown",
   "metadata": {},
   "source": [
    "# Принятие решений в бизнесе"
   ]
  },
  {
   "cell_type": "markdown",
   "metadata": {},
   "source": [
    "**Цель исследования:**\n",
    "\n",
    "Вы — аналитик крупного интернет-магазина. Вместе с отделом маркетинга вы подготовили список гипотез для увеличения выручки.\n",
    "\n",
    "Приоритизируйте гипотезы, запустите A/B-тест и проанализируйте результаты.\n",
    "\n",
    "**Ход исследования:**\n",
    "\n",
    "1. Приоритизация гипотез.\n",
    "\n",
    "В файле /datasets/hypothesis.csv 9 гипотез по увеличению выручки интернет-магазина с указанными параметрами Reach, Impact, Confidence, Effort.\n",
    "\n",
    "Задача\n",
    "\n",
    "- Примените фреймворк ICE для приоритизации гипотез. Отсортируйте их по убыванию приоритета.\n",
    "- Примените фреймворк RICE для приоритизации гипотез. Отсортируйте их по убыванию приоритета.\n",
    "- Укажите, как изменилась приоритизация гипотез при применении RICE вместо ICE. Объясните, почему так произошло.\n",
    "\n",
    "2. Анализ A/B-теста\n",
    "\n",
    "Вы провели A/B-тест и получили результаты, которые описаны в файлах /datasets/orders.csv и /datasets/visitors.csv.\n",
    "\n",
    "Задача\n",
    "\n",
    "Проанализируйте A/B-тест:\n",
    "\n",
    "- Постройте график кумулятивной выручки по группам. Сделайте выводы и предположения.\n",
    "- Постройте график кумулятивного среднего чека по группам. Сделайте выводы и предположения.\n",
    "- Постройте график относительного изменения кумулятивного среднего чека группы B к группе A. Сделайте выводы и предположения.\n",
    "- Постройте график кумулятивной конверсии по группам. Сделайте выводы и предположения.\n",
    "- Постройте график относительного изменения кумулятивной конверсии группы B к группе A. Сделайте выводы и предположения.\n",
    "- Постройте точечный график количества заказов по пользователям. Сделайте выводы и предположения.\n",
    "- Посчитайте 95-й и 99-й перцентили количества заказов на пользователя. Выберите границу для определения аномальных пользователей.\n",
    "- Постройте точечный график стоимостей заказов. Сделайте выводы и предположения.\n",
    "- Посчитайте 95-й и 99-й перцентили стоимости заказов. Выберите границу для определения аномальных заказов.\n",
    "- Посчитайте статистическую значимость различий в конверсии между группами по «сырым» данным. Сделайте выводы и предположения.\n",
    "- Посчитайте статистическую значимость различий в среднем чеке заказа между группами по «сырым» данным. Сделайте выводы и предположения.\n",
    "- Посчитайте статистическую значимость различий в конверсии между группами по «очищенным» данным. Сделайте выводы и предположения.\n",
    "- Посчитайте статистическую значимость различий в среднем чеке заказа между группами по «очищенным» данным. Сделайте выводы и предположения.\n",
    "- Примите решение по результатам теста и объясните его.\n",
    "\n",
    "Варианты решений:\n",
    "\n",
    "1. Остановить тест, зафиксировать победу одной из групп.\n",
    "2. Остановить тест, зафиксировать отсутствие различий между группами.\n",
    "3. Продолжить тест."
   ]
  },
  {
   "cell_type": "markdown",
   "metadata": {},
   "source": [
    "# Загружаем данные и подготавливаем их к анализу"
   ]
  },
  {
   "cell_type": "code",
   "execution_count": 1,
   "metadata": {},
   "outputs": [],
   "source": [
    "import pandas as pd\n",
    "import scipy.stats as stats\n",
    "import datetime as dt\n",
    "import numpy as np\n",
    "import matplotlib.pyplot as plt\n",
    "from pandas.plotting import register_matplotlib_converters\n",
    "import warnings"
   ]
  },
  {
   "cell_type": "code",
   "execution_count": 2,
   "metadata": {},
   "outputs": [],
   "source": [
    "try:\n",
    "    hypothesis = pd.read_csv('/datasets/hypothesis.csv')\n",
    "    orders = pd.read_csv('/datasets/orders.csv')\n",
    "    visitors = pd.read_csv('/datasets/visitors.csv')\n",
    "except:\n",
    "    hypothesis = pd.read_csv('/content/hypothesis.csv')\n",
    "    orders = pd.read_csv('/content/orders.csv')\n",
    "    visitors = pd.read_csv('/content/visitors.csv')"
   ]
  },
  {
   "cell_type": "markdown",
   "metadata": {},
   "source": [
    "# Часть 1. Приоритизация гипотез."
   ]
  },
  {
   "cell_type": "code",
   "execution_count": 3,
   "metadata": {},
   "outputs": [
    {
     "data": {
      "text/html": [
       "<div>\n",
       "<style scoped>\n",
       "    .dataframe tbody tr th:only-of-type {\n",
       "        vertical-align: middle;\n",
       "    }\n",
       "\n",
       "    .dataframe tbody tr th {\n",
       "        vertical-align: top;\n",
       "    }\n",
       "\n",
       "    .dataframe thead th {\n",
       "        text-align: right;\n",
       "    }\n",
       "</style>\n",
       "<table border=\"1\" class=\"dataframe\">\n",
       "  <thead>\n",
       "    <tr style=\"text-align: right;\">\n",
       "      <th></th>\n",
       "      <th>Hypothesis</th>\n",
       "      <th>Reach</th>\n",
       "      <th>Impact</th>\n",
       "      <th>Confidence</th>\n",
       "      <th>Efforts</th>\n",
       "    </tr>\n",
       "  </thead>\n",
       "  <tbody>\n",
       "    <tr>\n",
       "      <th>0</th>\n",
       "      <td>Добавить два новых канала привлечения трафика,...</td>\n",
       "      <td>3</td>\n",
       "      <td>10</td>\n",
       "      <td>8</td>\n",
       "      <td>6</td>\n",
       "    </tr>\n",
       "    <tr>\n",
       "      <th>1</th>\n",
       "      <td>Запустить собственную службу доставки, что сок...</td>\n",
       "      <td>2</td>\n",
       "      <td>5</td>\n",
       "      <td>4</td>\n",
       "      <td>10</td>\n",
       "    </tr>\n",
       "    <tr>\n",
       "      <th>2</th>\n",
       "      <td>Добавить блоки рекомендаций товаров на сайт ин...</td>\n",
       "      <td>8</td>\n",
       "      <td>3</td>\n",
       "      <td>7</td>\n",
       "      <td>3</td>\n",
       "    </tr>\n",
       "    <tr>\n",
       "      <th>3</th>\n",
       "      <td>Изменить структура категорий, что увеличит кон...</td>\n",
       "      <td>8</td>\n",
       "      <td>3</td>\n",
       "      <td>3</td>\n",
       "      <td>8</td>\n",
       "    </tr>\n",
       "    <tr>\n",
       "      <th>4</th>\n",
       "      <td>Изменить цвет фона главной страницы, чтобы уве...</td>\n",
       "      <td>3</td>\n",
       "      <td>1</td>\n",
       "      <td>1</td>\n",
       "      <td>1</td>\n",
       "    </tr>\n",
       "    <tr>\n",
       "      <th>5</th>\n",
       "      <td>Добавить страницу отзывов клиентов о магазине,...</td>\n",
       "      <td>3</td>\n",
       "      <td>2</td>\n",
       "      <td>2</td>\n",
       "      <td>3</td>\n",
       "    </tr>\n",
       "    <tr>\n",
       "      <th>6</th>\n",
       "      <td>Показать на главной странице баннеры с актуаль...</td>\n",
       "      <td>5</td>\n",
       "      <td>3</td>\n",
       "      <td>8</td>\n",
       "      <td>3</td>\n",
       "    </tr>\n",
       "    <tr>\n",
       "      <th>7</th>\n",
       "      <td>Добавить форму подписки на все основные страни...</td>\n",
       "      <td>10</td>\n",
       "      <td>7</td>\n",
       "      <td>8</td>\n",
       "      <td>5</td>\n",
       "    </tr>\n",
       "    <tr>\n",
       "      <th>8</th>\n",
       "      <td>Запустить акцию, дающую скидку на товар в день...</td>\n",
       "      <td>1</td>\n",
       "      <td>9</td>\n",
       "      <td>9</td>\n",
       "      <td>5</td>\n",
       "    </tr>\n",
       "  </tbody>\n",
       "</table>\n",
       "</div>"
      ],
      "text/plain": [
       "                                          Hypothesis  Reach  Impact  \\\n",
       "0  Добавить два новых канала привлечения трафика,...      3      10   \n",
       "1  Запустить собственную службу доставки, что сок...      2       5   \n",
       "2  Добавить блоки рекомендаций товаров на сайт ин...      8       3   \n",
       "3  Изменить структура категорий, что увеличит кон...      8       3   \n",
       "4  Изменить цвет фона главной страницы, чтобы уве...      3       1   \n",
       "5  Добавить страницу отзывов клиентов о магазине,...      3       2   \n",
       "6  Показать на главной странице баннеры с актуаль...      5       3   \n",
       "7  Добавить форму подписки на все основные страни...     10       7   \n",
       "8  Запустить акцию, дающую скидку на товар в день...      1       9   \n",
       "\n",
       "   Confidence  Efforts  \n",
       "0           8        6  \n",
       "1           4       10  \n",
       "2           7        3  \n",
       "3           3        8  \n",
       "4           1        1  \n",
       "5           2        3  \n",
       "6           8        3  \n",
       "7           8        5  \n",
       "8           9        5  "
      ]
     },
     "execution_count": 3,
     "metadata": {},
     "output_type": "execute_result"
    }
   ],
   "source": [
    "hypothesis"
   ]
  },
  {
   "cell_type": "code",
   "execution_count": 4,
   "metadata": {},
   "outputs": [],
   "source": [
    "# приведем названия столбцов к единому регистру\n",
    "hypothesis.columns = hypothesis.columns.str.lower().str.replace(' ', '_')"
   ]
  },
  {
   "cell_type": "markdown",
   "metadata": {},
   "source": [
    "- Применим фреймворк ICE для приоритизации гипотез. Отсортируем их по убыванию приоритета."
   ]
  },
  {
   "cell_type": "code",
   "execution_count": 5,
   "metadata": {},
   "outputs": [
    {
     "data": {
      "text/html": [
       "<div>\n",
       "<style scoped>\n",
       "    .dataframe tbody tr th:only-of-type {\n",
       "        vertical-align: middle;\n",
       "    }\n",
       "\n",
       "    .dataframe tbody tr th {\n",
       "        vertical-align: top;\n",
       "    }\n",
       "\n",
       "    .dataframe thead th {\n",
       "        text-align: right;\n",
       "    }\n",
       "</style>\n",
       "<table border=\"1\" class=\"dataframe\">\n",
       "  <thead>\n",
       "    <tr style=\"text-align: right;\">\n",
       "      <th></th>\n",
       "      <th>hypothesis</th>\n",
       "      <th>ICE</th>\n",
       "    </tr>\n",
       "  </thead>\n",
       "  <tbody>\n",
       "    <tr>\n",
       "      <th>8</th>\n",
       "      <td>Запустить акцию, дающую скидку на товар в день...</td>\n",
       "      <td>16.200000</td>\n",
       "    </tr>\n",
       "    <tr>\n",
       "      <th>0</th>\n",
       "      <td>Добавить два новых канала привлечения трафика,...</td>\n",
       "      <td>13.333333</td>\n",
       "    </tr>\n",
       "    <tr>\n",
       "      <th>7</th>\n",
       "      <td>Добавить форму подписки на все основные страни...</td>\n",
       "      <td>11.200000</td>\n",
       "    </tr>\n",
       "    <tr>\n",
       "      <th>6</th>\n",
       "      <td>Показать на главной странице баннеры с актуаль...</td>\n",
       "      <td>8.000000</td>\n",
       "    </tr>\n",
       "    <tr>\n",
       "      <th>2</th>\n",
       "      <td>Добавить блоки рекомендаций товаров на сайт ин...</td>\n",
       "      <td>7.000000</td>\n",
       "    </tr>\n",
       "    <tr>\n",
       "      <th>1</th>\n",
       "      <td>Запустить собственную службу доставки, что сок...</td>\n",
       "      <td>2.000000</td>\n",
       "    </tr>\n",
       "    <tr>\n",
       "      <th>5</th>\n",
       "      <td>Добавить страницу отзывов клиентов о магазине,...</td>\n",
       "      <td>1.333333</td>\n",
       "    </tr>\n",
       "    <tr>\n",
       "      <th>3</th>\n",
       "      <td>Изменить структура категорий, что увеличит кон...</td>\n",
       "      <td>1.125000</td>\n",
       "    </tr>\n",
       "    <tr>\n",
       "      <th>4</th>\n",
       "      <td>Изменить цвет фона главной страницы, чтобы уве...</td>\n",
       "      <td>1.000000</td>\n",
       "    </tr>\n",
       "  </tbody>\n",
       "</table>\n",
       "</div>"
      ],
      "text/plain": [
       "                                          hypothesis        ICE\n",
       "8  Запустить акцию, дающую скидку на товар в день...  16.200000\n",
       "0  Добавить два новых канала привлечения трафика,...  13.333333\n",
       "7  Добавить форму подписки на все основные страни...  11.200000\n",
       "6  Показать на главной странице баннеры с актуаль...   8.000000\n",
       "2  Добавить блоки рекомендаций товаров на сайт ин...   7.000000\n",
       "1  Запустить собственную службу доставки, что сок...   2.000000\n",
       "5  Добавить страницу отзывов клиентов о магазине,...   1.333333\n",
       "3  Изменить структура категорий, что увеличит кон...   1.125000\n",
       "4  Изменить цвет фона главной страницы, чтобы уве...   1.000000"
      ]
     },
     "execution_count": 5,
     "metadata": {},
     "output_type": "execute_result"
    }
   ],
   "source": [
    "hypothesis['ICE'] = (hypothesis['impact'] * hypothesis['confidence']) / hypothesis['efforts']\n",
    "hypothesis[['hypothesis', 'ICE']].sort_values(by = 'ICE', ascending=False)"
   ]
  },
  {
   "cell_type": "markdown",
   "metadata": {},
   "source": [
    "Гипотеза 8 самая перспективная по ICE. За ней идут гипотезы 0, 7 и 6."
   ]
  },
  {
   "cell_type": "markdown",
   "metadata": {},
   "source": [
    "- Применим фреймворк RICE для приоритизации гипотез. Отсортируем их по убыванию приоритета."
   ]
  },
  {
   "cell_type": "code",
   "execution_count": 6,
   "metadata": {},
   "outputs": [
    {
     "data": {
      "text/html": [
       "<div>\n",
       "<style scoped>\n",
       "    .dataframe tbody tr th:only-of-type {\n",
       "        vertical-align: middle;\n",
       "    }\n",
       "\n",
       "    .dataframe tbody tr th {\n",
       "        vertical-align: top;\n",
       "    }\n",
       "\n",
       "    .dataframe thead th {\n",
       "        text-align: right;\n",
       "    }\n",
       "</style>\n",
       "<table border=\"1\" class=\"dataframe\">\n",
       "  <thead>\n",
       "    <tr style=\"text-align: right;\">\n",
       "      <th></th>\n",
       "      <th>hypothesis</th>\n",
       "      <th>RICE</th>\n",
       "    </tr>\n",
       "  </thead>\n",
       "  <tbody>\n",
       "    <tr>\n",
       "      <th>7</th>\n",
       "      <td>Добавить форму подписки на все основные страни...</td>\n",
       "      <td>112.0</td>\n",
       "    </tr>\n",
       "    <tr>\n",
       "      <th>2</th>\n",
       "      <td>Добавить блоки рекомендаций товаров на сайт ин...</td>\n",
       "      <td>56.0</td>\n",
       "    </tr>\n",
       "    <tr>\n",
       "      <th>0</th>\n",
       "      <td>Добавить два новых канала привлечения трафика,...</td>\n",
       "      <td>40.0</td>\n",
       "    </tr>\n",
       "    <tr>\n",
       "      <th>6</th>\n",
       "      <td>Показать на главной странице баннеры с актуаль...</td>\n",
       "      <td>40.0</td>\n",
       "    </tr>\n",
       "    <tr>\n",
       "      <th>8</th>\n",
       "      <td>Запустить акцию, дающую скидку на товар в день...</td>\n",
       "      <td>16.2</td>\n",
       "    </tr>\n",
       "    <tr>\n",
       "      <th>3</th>\n",
       "      <td>Изменить структура категорий, что увеличит кон...</td>\n",
       "      <td>9.0</td>\n",
       "    </tr>\n",
       "    <tr>\n",
       "      <th>1</th>\n",
       "      <td>Запустить собственную службу доставки, что сок...</td>\n",
       "      <td>4.0</td>\n",
       "    </tr>\n",
       "    <tr>\n",
       "      <th>5</th>\n",
       "      <td>Добавить страницу отзывов клиентов о магазине,...</td>\n",
       "      <td>4.0</td>\n",
       "    </tr>\n",
       "    <tr>\n",
       "      <th>4</th>\n",
       "      <td>Изменить цвет фона главной страницы, чтобы уве...</td>\n",
       "      <td>3.0</td>\n",
       "    </tr>\n",
       "  </tbody>\n",
       "</table>\n",
       "</div>"
      ],
      "text/plain": [
       "                                          hypothesis   RICE\n",
       "7  Добавить форму подписки на все основные страни...  112.0\n",
       "2  Добавить блоки рекомендаций товаров на сайт ин...   56.0\n",
       "0  Добавить два новых канала привлечения трафика,...   40.0\n",
       "6  Показать на главной странице баннеры с актуаль...   40.0\n",
       "8  Запустить акцию, дающую скидку на товар в день...   16.2\n",
       "3  Изменить структура категорий, что увеличит кон...    9.0\n",
       "1  Запустить собственную службу доставки, что сок...    4.0\n",
       "5  Добавить страницу отзывов клиентов о магазине,...    4.0\n",
       "4  Изменить цвет фона главной страницы, чтобы уве...    3.0"
      ]
     },
     "execution_count": 6,
     "metadata": {},
     "output_type": "execute_result"
    }
   ],
   "source": [
    "hypothesis['RICE'] = hypothesis['reach']*hypothesis['impact']*hypothesis['confidence']/hypothesis['efforts']\n",
    "hypothesis[['hypothesis', 'RICE']].sort_values(by='RICE', ascending=False)"
   ]
  },
  {
   "cell_type": "markdown",
   "metadata": {},
   "source": [
    "По RICE самая перспективная гипотеза 7. За ней идут 2, 0 и 6. Так получилось, потому что у гипотезы 7 параметр REACH равен 10, в то время как у других гипотез он меньше. У гипотезы 8 параметр REACH равен 1, поэтому она не вошла в топ-4."
   ]
  },
  {
   "cell_type": "markdown",
   "metadata": {},
   "source": [
    "# Часть 2. Анализ A/B-теста"
   ]
  },
  {
   "cell_type": "code",
   "execution_count": 7,
   "metadata": {},
   "outputs": [
    {
     "data": {
      "text/html": [
       "<div>\n",
       "<style scoped>\n",
       "    .dataframe tbody tr th:only-of-type {\n",
       "        vertical-align: middle;\n",
       "    }\n",
       "\n",
       "    .dataframe tbody tr th {\n",
       "        vertical-align: top;\n",
       "    }\n",
       "\n",
       "    .dataframe thead th {\n",
       "        text-align: right;\n",
       "    }\n",
       "</style>\n",
       "<table border=\"1\" class=\"dataframe\">\n",
       "  <thead>\n",
       "    <tr style=\"text-align: right;\">\n",
       "      <th></th>\n",
       "      <th>transactionId</th>\n",
       "      <th>visitorId</th>\n",
       "      <th>date</th>\n",
       "      <th>revenue</th>\n",
       "      <th>group</th>\n",
       "    </tr>\n",
       "  </thead>\n",
       "  <tbody>\n",
       "    <tr>\n",
       "      <th>0</th>\n",
       "      <td>3667963787</td>\n",
       "      <td>3312258926</td>\n",
       "      <td>2019-08-15</td>\n",
       "      <td>1650</td>\n",
       "      <td>B</td>\n",
       "    </tr>\n",
       "    <tr>\n",
       "      <th>1</th>\n",
       "      <td>2804400009</td>\n",
       "      <td>3642806036</td>\n",
       "      <td>2019-08-15</td>\n",
       "      <td>730</td>\n",
       "      <td>B</td>\n",
       "    </tr>\n",
       "    <tr>\n",
       "      <th>2</th>\n",
       "      <td>2961555356</td>\n",
       "      <td>4069496402</td>\n",
       "      <td>2019-08-15</td>\n",
       "      <td>400</td>\n",
       "      <td>A</td>\n",
       "    </tr>\n",
       "    <tr>\n",
       "      <th>3</th>\n",
       "      <td>3797467345</td>\n",
       "      <td>1196621759</td>\n",
       "      <td>2019-08-15</td>\n",
       "      <td>9759</td>\n",
       "      <td>B</td>\n",
       "    </tr>\n",
       "    <tr>\n",
       "      <th>4</th>\n",
       "      <td>2282983706</td>\n",
       "      <td>2322279887</td>\n",
       "      <td>2019-08-15</td>\n",
       "      <td>2308</td>\n",
       "      <td>B</td>\n",
       "    </tr>\n",
       "  </tbody>\n",
       "</table>\n",
       "</div>"
      ],
      "text/plain": [
       "   transactionId   visitorId        date  revenue group\n",
       "0     3667963787  3312258926  2019-08-15     1650     B\n",
       "1     2804400009  3642806036  2019-08-15      730     B\n",
       "2     2961555356  4069496402  2019-08-15      400     A\n",
       "3     3797467345  1196621759  2019-08-15     9759     B\n",
       "4     2282983706  2322279887  2019-08-15     2308     B"
      ]
     },
     "execution_count": 7,
     "metadata": {},
     "output_type": "execute_result"
    }
   ],
   "source": [
    "orders.head(5)"
   ]
  },
  {
   "cell_type": "code",
   "execution_count": 8,
   "metadata": {},
   "outputs": [
    {
     "name": "stdout",
     "output_type": "stream",
     "text": [
      "<class 'pandas.core.frame.DataFrame'>\n",
      "RangeIndex: 1197 entries, 0 to 1196\n",
      "Data columns (total 5 columns):\n",
      " #   Column         Non-Null Count  Dtype \n",
      "---  ------         --------------  ----- \n",
      " 0   transactionId  1197 non-null   int64 \n",
      " 1   visitorId      1197 non-null   int64 \n",
      " 2   date           1197 non-null   object\n",
      " 3   revenue        1197 non-null   int64 \n",
      " 4   group          1197 non-null   object\n",
      "dtypes: int64(3), object(2)\n",
      "memory usage: 46.9+ KB\n"
     ]
    }
   ],
   "source": [
    "orders.info()"
   ]
  },
  {
   "cell_type": "code",
   "execution_count": 9,
   "metadata": {},
   "outputs": [
    {
     "data": {
      "text/plain": [
       "0"
      ]
     },
     "execution_count": 9,
     "metadata": {},
     "output_type": "execute_result"
    }
   ],
   "source": [
    "# переименуем столбцы, поменяем тип данных в столбце date, а также проверим на дубликаты\n",
    "orders = orders.rename(columns={'transactionId': 'transaction_id', 'visitorId': 'visitor_id'})\n",
    "orders['date'] = orders['date'].map(\n",
    "    lambda x: dt.datetime.strptime(x, '%Y-%m-%d')\n",
    ")\n",
    "orders.duplicated().sum()"
   ]
  },
  {
   "cell_type": "code",
   "execution_count": 10,
   "metadata": {},
   "outputs": [
    {
     "data": {
      "text/plain": [
       "visitor_id\n",
       "5114589       1\n",
       "6958315       1\n",
       "8300375       2\n",
       "11685486      1\n",
       "39475350      1\n",
       "             ..\n",
       "4266935830    2\n",
       "4278982564    1\n",
       "4279090005    1\n",
       "4281247801    1\n",
       "4283872382    1\n",
       "Name: group, Length: 1031, dtype: int64"
      ]
     },
     "execution_count": 10,
     "metadata": {},
     "output_type": "execute_result"
    }
   ],
   "source": [
    "# проверим, не попали ли какие-то пользователи в обе группы, и удалим, если такие есть\n",
    "unique_visitors = orders.groupby('visitor_id')['group'].nunique()\n",
    "unique_visitors"
   ]
  },
  {
   "cell_type": "code",
   "execution_count": 11,
   "metadata": {},
   "outputs": [
    {
     "data": {
      "text/html": [
       "<div>\n",
       "<style scoped>\n",
       "    .dataframe tbody tr th:only-of-type {\n",
       "        vertical-align: middle;\n",
       "    }\n",
       "\n",
       "    .dataframe tbody tr th {\n",
       "        vertical-align: top;\n",
       "    }\n",
       "\n",
       "    .dataframe thead th {\n",
       "        text-align: right;\n",
       "    }\n",
       "</style>\n",
       "<table border=\"1\" class=\"dataframe\">\n",
       "  <thead>\n",
       "    <tr style=\"text-align: right;\">\n",
       "      <th></th>\n",
       "      <th>transaction_id</th>\n",
       "      <th>visitor_id</th>\n",
       "      <th>date</th>\n",
       "      <th>revenue</th>\n",
       "      <th>group_x</th>\n",
       "      <th>group_y</th>\n",
       "    </tr>\n",
       "  </thead>\n",
       "  <tbody>\n",
       "    <tr>\n",
       "      <th>0</th>\n",
       "      <td>3667963787</td>\n",
       "      <td>3312258926</td>\n",
       "      <td>2019-08-15</td>\n",
       "      <td>1650</td>\n",
       "      <td>B</td>\n",
       "      <td>1</td>\n",
       "    </tr>\n",
       "    <tr>\n",
       "      <th>1</th>\n",
       "      <td>2804400009</td>\n",
       "      <td>3642806036</td>\n",
       "      <td>2019-08-15</td>\n",
       "      <td>730</td>\n",
       "      <td>B</td>\n",
       "      <td>1</td>\n",
       "    </tr>\n",
       "    <tr>\n",
       "      <th>2</th>\n",
       "      <td>2961555356</td>\n",
       "      <td>4069496402</td>\n",
       "      <td>2019-08-15</td>\n",
       "      <td>400</td>\n",
       "      <td>A</td>\n",
       "      <td>2</td>\n",
       "    </tr>\n",
       "    <tr>\n",
       "      <th>3</th>\n",
       "      <td>1473132782</td>\n",
       "      <td>4069496402</td>\n",
       "      <td>2019-08-12</td>\n",
       "      <td>640</td>\n",
       "      <td>B</td>\n",
       "      <td>2</td>\n",
       "    </tr>\n",
       "    <tr>\n",
       "      <th>4</th>\n",
       "      <td>3797467345</td>\n",
       "      <td>1196621759</td>\n",
       "      <td>2019-08-15</td>\n",
       "      <td>9759</td>\n",
       "      <td>B</td>\n",
       "      <td>1</td>\n",
       "    </tr>\n",
       "    <tr>\n",
       "      <th>...</th>\n",
       "      <td>...</td>\n",
       "      <td>...</td>\n",
       "      <td>...</td>\n",
       "      <td>...</td>\n",
       "      <td>...</td>\n",
       "      <td>...</td>\n",
       "    </tr>\n",
       "    <tr>\n",
       "      <th>1192</th>\n",
       "      <td>3592955527</td>\n",
       "      <td>608641596</td>\n",
       "      <td>2019-08-14</td>\n",
       "      <td>16490</td>\n",
       "      <td>B</td>\n",
       "      <td>1</td>\n",
       "    </tr>\n",
       "    <tr>\n",
       "      <th>1193</th>\n",
       "      <td>2662137336</td>\n",
       "      <td>3733762160</td>\n",
       "      <td>2019-08-14</td>\n",
       "      <td>6490</td>\n",
       "      <td>B</td>\n",
       "      <td>1</td>\n",
       "    </tr>\n",
       "    <tr>\n",
       "      <th>1194</th>\n",
       "      <td>2203539145</td>\n",
       "      <td>370388673</td>\n",
       "      <td>2019-08-14</td>\n",
       "      <td>3190</td>\n",
       "      <td>A</td>\n",
       "      <td>1</td>\n",
       "    </tr>\n",
       "    <tr>\n",
       "      <th>1195</th>\n",
       "      <td>1807773912</td>\n",
       "      <td>573423106</td>\n",
       "      <td>2019-08-14</td>\n",
       "      <td>10550</td>\n",
       "      <td>A</td>\n",
       "      <td>1</td>\n",
       "    </tr>\n",
       "    <tr>\n",
       "      <th>1196</th>\n",
       "      <td>3936777065</td>\n",
       "      <td>2108080724</td>\n",
       "      <td>2019-08-15</td>\n",
       "      <td>202740</td>\n",
       "      <td>B</td>\n",
       "      <td>1</td>\n",
       "    </tr>\n",
       "  </tbody>\n",
       "</table>\n",
       "<p>1197 rows × 6 columns</p>\n",
       "</div>"
      ],
      "text/plain": [
       "      transaction_id  visitor_id       date  revenue group_x  group_y\n",
       "0         3667963787  3312258926 2019-08-15     1650       B        1\n",
       "1         2804400009  3642806036 2019-08-15      730       B        1\n",
       "2         2961555356  4069496402 2019-08-15      400       A        2\n",
       "3         1473132782  4069496402 2019-08-12      640       B        2\n",
       "4         3797467345  1196621759 2019-08-15     9759       B        1\n",
       "...              ...         ...        ...      ...     ...      ...\n",
       "1192      3592955527   608641596 2019-08-14    16490       B        1\n",
       "1193      2662137336  3733762160 2019-08-14     6490       B        1\n",
       "1194      2203539145   370388673 2019-08-14     3190       A        1\n",
       "1195      1807773912   573423106 2019-08-14    10550       A        1\n",
       "1196      3936777065  2108080724 2019-08-15   202740       B        1\n",
       "\n",
       "[1197 rows x 6 columns]"
      ]
     },
     "execution_count": 11,
     "metadata": {},
     "output_type": "execute_result"
    }
   ],
   "source": [
    "orders = orders.merge(unique_visitors, on=[\"visitor_id\", \"visitor_id\"])\n",
    "orders"
   ]
  },
  {
   "cell_type": "code",
   "execution_count": 12,
   "metadata": {},
   "outputs": [
    {
     "data": {
      "text/html": [
       "<div>\n",
       "<style scoped>\n",
       "    .dataframe tbody tr th:only-of-type {\n",
       "        vertical-align: middle;\n",
       "    }\n",
       "\n",
       "    .dataframe tbody tr th {\n",
       "        vertical-align: top;\n",
       "    }\n",
       "\n",
       "    .dataframe thead th {\n",
       "        text-align: right;\n",
       "    }\n",
       "</style>\n",
       "<table border=\"1\" class=\"dataframe\">\n",
       "  <thead>\n",
       "    <tr style=\"text-align: right;\">\n",
       "      <th></th>\n",
       "      <th>transaction_id</th>\n",
       "      <th>visitor_id</th>\n",
       "      <th>date</th>\n",
       "      <th>revenue</th>\n",
       "      <th>group</th>\n",
       "    </tr>\n",
       "  </thead>\n",
       "  <tbody>\n",
       "    <tr>\n",
       "      <th>0</th>\n",
       "      <td>3667963787</td>\n",
       "      <td>3312258926</td>\n",
       "      <td>2019-08-15</td>\n",
       "      <td>1650</td>\n",
       "      <td>B</td>\n",
       "    </tr>\n",
       "    <tr>\n",
       "      <th>1</th>\n",
       "      <td>2804400009</td>\n",
       "      <td>3642806036</td>\n",
       "      <td>2019-08-15</td>\n",
       "      <td>730</td>\n",
       "      <td>B</td>\n",
       "    </tr>\n",
       "    <tr>\n",
       "      <th>4</th>\n",
       "      <td>3797467345</td>\n",
       "      <td>1196621759</td>\n",
       "      <td>2019-08-15</td>\n",
       "      <td>9759</td>\n",
       "      <td>B</td>\n",
       "    </tr>\n",
       "    <tr>\n",
       "      <th>5</th>\n",
       "      <td>2282983706</td>\n",
       "      <td>2322279887</td>\n",
       "      <td>2019-08-15</td>\n",
       "      <td>2308</td>\n",
       "      <td>B</td>\n",
       "    </tr>\n",
       "    <tr>\n",
       "      <th>6</th>\n",
       "      <td>182168103</td>\n",
       "      <td>935554773</td>\n",
       "      <td>2019-08-15</td>\n",
       "      <td>2210</td>\n",
       "      <td>B</td>\n",
       "    </tr>\n",
       "    <tr>\n",
       "      <th>...</th>\n",
       "      <td>...</td>\n",
       "      <td>...</td>\n",
       "      <td>...</td>\n",
       "      <td>...</td>\n",
       "      <td>...</td>\n",
       "    </tr>\n",
       "    <tr>\n",
       "      <th>1192</th>\n",
       "      <td>3592955527</td>\n",
       "      <td>608641596</td>\n",
       "      <td>2019-08-14</td>\n",
       "      <td>16490</td>\n",
       "      <td>B</td>\n",
       "    </tr>\n",
       "    <tr>\n",
       "      <th>1193</th>\n",
       "      <td>2662137336</td>\n",
       "      <td>3733762160</td>\n",
       "      <td>2019-08-14</td>\n",
       "      <td>6490</td>\n",
       "      <td>B</td>\n",
       "    </tr>\n",
       "    <tr>\n",
       "      <th>1194</th>\n",
       "      <td>2203539145</td>\n",
       "      <td>370388673</td>\n",
       "      <td>2019-08-14</td>\n",
       "      <td>3190</td>\n",
       "      <td>A</td>\n",
       "    </tr>\n",
       "    <tr>\n",
       "      <th>1195</th>\n",
       "      <td>1807773912</td>\n",
       "      <td>573423106</td>\n",
       "      <td>2019-08-14</td>\n",
       "      <td>10550</td>\n",
       "      <td>A</td>\n",
       "    </tr>\n",
       "    <tr>\n",
       "      <th>1196</th>\n",
       "      <td>3936777065</td>\n",
       "      <td>2108080724</td>\n",
       "      <td>2019-08-15</td>\n",
       "      <td>202740</td>\n",
       "      <td>B</td>\n",
       "    </tr>\n",
       "  </tbody>\n",
       "</table>\n",
       "<p>1016 rows × 5 columns</p>\n",
       "</div>"
      ],
      "text/plain": [
       "      transaction_id  visitor_id       date  revenue group\n",
       "0         3667963787  3312258926 2019-08-15     1650     B\n",
       "1         2804400009  3642806036 2019-08-15      730     B\n",
       "4         3797467345  1196621759 2019-08-15     9759     B\n",
       "5         2282983706  2322279887 2019-08-15     2308     B\n",
       "6          182168103   935554773 2019-08-15     2210     B\n",
       "...              ...         ...        ...      ...   ...\n",
       "1192      3592955527   608641596 2019-08-14    16490     B\n",
       "1193      2662137336  3733762160 2019-08-14     6490     B\n",
       "1194      2203539145   370388673 2019-08-14     3190     A\n",
       "1195      1807773912   573423106 2019-08-14    10550     A\n",
       "1196      3936777065  2108080724 2019-08-15   202740     B\n",
       "\n",
       "[1016 rows x 5 columns]"
      ]
     },
     "execution_count": 12,
     "metadata": {},
     "output_type": "execute_result"
    }
   ],
   "source": [
    "orders = orders[orders['group_y'] == 1].drop(columns=['group_y'])\n",
    "orders = orders.rename(columns={'group_x': 'group'})\n",
    "orders"
   ]
  },
  {
   "cell_type": "code",
   "execution_count": 13,
   "metadata": {},
   "outputs": [
    {
     "data": {
      "text/html": [
       "<div>\n",
       "<style scoped>\n",
       "    .dataframe tbody tr th:only-of-type {\n",
       "        vertical-align: middle;\n",
       "    }\n",
       "\n",
       "    .dataframe tbody tr th {\n",
       "        vertical-align: top;\n",
       "    }\n",
       "\n",
       "    .dataframe thead th {\n",
       "        text-align: right;\n",
       "    }\n",
       "</style>\n",
       "<table border=\"1\" class=\"dataframe\">\n",
       "  <thead>\n",
       "    <tr style=\"text-align: right;\">\n",
       "      <th></th>\n",
       "      <th>date</th>\n",
       "      <th>group</th>\n",
       "      <th>visitors</th>\n",
       "    </tr>\n",
       "  </thead>\n",
       "  <tbody>\n",
       "    <tr>\n",
       "      <th>0</th>\n",
       "      <td>2019-08-01</td>\n",
       "      <td>A</td>\n",
       "      <td>719</td>\n",
       "    </tr>\n",
       "    <tr>\n",
       "      <th>1</th>\n",
       "      <td>2019-08-02</td>\n",
       "      <td>A</td>\n",
       "      <td>619</td>\n",
       "    </tr>\n",
       "    <tr>\n",
       "      <th>2</th>\n",
       "      <td>2019-08-03</td>\n",
       "      <td>A</td>\n",
       "      <td>507</td>\n",
       "    </tr>\n",
       "    <tr>\n",
       "      <th>3</th>\n",
       "      <td>2019-08-04</td>\n",
       "      <td>A</td>\n",
       "      <td>717</td>\n",
       "    </tr>\n",
       "    <tr>\n",
       "      <th>4</th>\n",
       "      <td>2019-08-05</td>\n",
       "      <td>A</td>\n",
       "      <td>756</td>\n",
       "    </tr>\n",
       "  </tbody>\n",
       "</table>\n",
       "</div>"
      ],
      "text/plain": [
       "         date group  visitors\n",
       "0  2019-08-01     A       719\n",
       "1  2019-08-02     A       619\n",
       "2  2019-08-03     A       507\n",
       "3  2019-08-04     A       717\n",
       "4  2019-08-05     A       756"
      ]
     },
     "execution_count": 13,
     "metadata": {},
     "output_type": "execute_result"
    }
   ],
   "source": [
    "visitors.head(5)"
   ]
  },
  {
   "cell_type": "code",
   "execution_count": 14,
   "metadata": {},
   "outputs": [
    {
     "name": "stdout",
     "output_type": "stream",
     "text": [
      "<class 'pandas.core.frame.DataFrame'>\n",
      "RangeIndex: 62 entries, 0 to 61\n",
      "Data columns (total 3 columns):\n",
      " #   Column    Non-Null Count  Dtype \n",
      "---  ------    --------------  ----- \n",
      " 0   date      62 non-null     object\n",
      " 1   group     62 non-null     object\n",
      " 2   visitors  62 non-null     int64 \n",
      "dtypes: int64(1), object(2)\n",
      "memory usage: 1.6+ KB\n"
     ]
    }
   ],
   "source": [
    "visitors.info()"
   ]
  },
  {
   "cell_type": "code",
   "execution_count": 15,
   "metadata": {},
   "outputs": [
    {
     "data": {
      "text/plain": [
       "0"
      ]
     },
     "execution_count": 15,
     "metadata": {},
     "output_type": "execute_result"
    }
   ],
   "source": [
    "# поменяем тип данных в столбце date и проверим на дубликаты\n",
    "visitors['date'] = visitors['date'].map(\n",
    "    lambda x: dt.datetime.strptime(x, '%Y-%m-%d')\n",
    ")\n",
    "visitors.duplicated().sum()"
   ]
  },
  {
   "cell_type": "markdown",
   "metadata": {},
   "source": [
    "- Построим график кумулятивной выручки по группам."
   ]
  },
  {
   "cell_type": "code",
   "execution_count": 16,
   "metadata": {},
   "outputs": [
    {
     "data": {
      "text/html": [
       "<div>\n",
       "<style scoped>\n",
       "    .dataframe tbody tr th:only-of-type {\n",
       "        vertical-align: middle;\n",
       "    }\n",
       "\n",
       "    .dataframe tbody tr th {\n",
       "        vertical-align: top;\n",
       "    }\n",
       "\n",
       "    .dataframe thead th {\n",
       "        text-align: right;\n",
       "    }\n",
       "</style>\n",
       "<table border=\"1\" class=\"dataframe\">\n",
       "  <thead>\n",
       "    <tr style=\"text-align: right;\">\n",
       "      <th></th>\n",
       "      <th>date</th>\n",
       "      <th>group</th>\n",
       "      <th>orders</th>\n",
       "      <th>buyers</th>\n",
       "      <th>revenue</th>\n",
       "      <th>visitors</th>\n",
       "    </tr>\n",
       "  </thead>\n",
       "  <tbody>\n",
       "    <tr>\n",
       "      <th>0</th>\n",
       "      <td>2019-08-01</td>\n",
       "      <td>A</td>\n",
       "      <td>23</td>\n",
       "      <td>19</td>\n",
       "      <td>142779</td>\n",
       "      <td>719</td>\n",
       "    </tr>\n",
       "    <tr>\n",
       "      <th>1</th>\n",
       "      <td>2019-08-01</td>\n",
       "      <td>B</td>\n",
       "      <td>17</td>\n",
       "      <td>17</td>\n",
       "      <td>59758</td>\n",
       "      <td>713</td>\n",
       "    </tr>\n",
       "    <tr>\n",
       "      <th>2</th>\n",
       "      <td>2019-08-02</td>\n",
       "      <td>A</td>\n",
       "      <td>42</td>\n",
       "      <td>36</td>\n",
       "      <td>234381</td>\n",
       "      <td>1338</td>\n",
       "    </tr>\n",
       "    <tr>\n",
       "      <th>3</th>\n",
       "      <td>2019-08-02</td>\n",
       "      <td>B</td>\n",
       "      <td>40</td>\n",
       "      <td>39</td>\n",
       "      <td>221801</td>\n",
       "      <td>1294</td>\n",
       "    </tr>\n",
       "    <tr>\n",
       "      <th>4</th>\n",
       "      <td>2019-08-03</td>\n",
       "      <td>A</td>\n",
       "      <td>66</td>\n",
       "      <td>60</td>\n",
       "      <td>346854</td>\n",
       "      <td>1845</td>\n",
       "    </tr>\n",
       "  </tbody>\n",
       "</table>\n",
       "</div>"
      ],
      "text/plain": [
       "        date group  orders  buyers  revenue  visitors\n",
       "0 2019-08-01     A      23      19   142779       719\n",
       "1 2019-08-01     B      17      17    59758       713\n",
       "2 2019-08-02     A      42      36   234381      1338\n",
       "3 2019-08-02     B      40      39   221801      1294\n",
       "4 2019-08-03     A      66      60   346854      1845"
      ]
     },
     "execution_count": 16,
     "metadata": {},
     "output_type": "execute_result"
    }
   ],
   "source": [
    "# создаем массив уникальных пар значений дат и групп теста\n",
    "datesGroups = orders[['date','group']].drop_duplicates()\n",
    "\n",
    "ordersAggregated = datesGroups.apply(\n",
    "    lambda x: orders[np.logical_and(orders['date'] <= x['date'], orders['group'] == x['group'])].agg({\n",
    "'date' : 'max',\n",
    "'group' : 'max',\n",
    "'transaction_id' : pd.Series.nunique,\n",
    "'visitor_id' : pd.Series.nunique,\n",
    "'revenue' : 'sum'}), axis=1).sort_values(by=['date','group'])\n",
    "\n",
    "visitorsAggregated = datesGroups.apply(\n",
    "    lambda x: visitors[np.logical_and(visitors['date'] <= \n",
    "                                      x['date'], visitors['group'] == x['group'])].agg({\n",
    "        'date' : 'max', \n",
    "        'group' : 'max', \n",
    "        'visitors' : 'sum'}), axis=1).sort_values(by=['date','group'])\n",
    "\n",
    "cumulativeData = ordersAggregated.merge(visitorsAggregated, left_on=['date', 'group'], right_on=['date', 'group'])\n",
    "cumulativeData.columns = ['date', 'group', 'orders', 'buyers', 'revenue', 'visitors']\n",
    "\n",
    "cumulativeData.head(5)"
   ]
  },
  {
   "cell_type": "code",
   "execution_count": 17,
   "metadata": {},
   "outputs": [
    {
     "data": {
      "image/png": "[encoded data removed]",
      "text/plain": [
       "<Figure size 1080x720 with 1 Axes>"
      ]
     },
     "metadata": {
      "needs_background": "light"
     },
     "output_type": "display_data"
    }
   ],
   "source": [
    "# датафрейм с кумулятивным количеством заказов и кумулятивной выручкой по дням в группе А\n",
    "cumulativeRevenueA = cumulativeData[cumulativeData['group']=='A'][['date','revenue', 'orders']]\n",
    "\n",
    "# датафрейм с кумулятивным количеством заказов и кумулятивной выручкой по дням в группе B\n",
    "cumulativeRevenueB = cumulativeData[cumulativeData['group']=='B'][['date','revenue', 'orders']]\n",
    "\n",
    "plt.figure(figsize=(15,10))\n",
    "\n",
    "# Строим график выручки группы А\n",
    "plt.plot(cumulativeRevenueA['date'], cumulativeRevenueA['revenue'], label='A')\n",
    "\n",
    "# Строим график выручки группы B\n",
    "plt.plot(cumulativeRevenueB['date'], cumulativeRevenueB['revenue'], label='B')\n",
    "\n",
    "plt.title('График кумулятивной выручки по группам')\n",
    "plt.ylabel('Выручка')\n",
    "plt.xlabel('Дата')\n",
    "plt.legend();"
   ]
  },
  {
   "cell_type": "markdown",
   "metadata": {},
   "source": [
    "Сегмент B практически с самого начала вырвался вперед и продолжал лидировать весь остаток теста."
   ]
  },
  {
   "cell_type": "markdown",
   "metadata": {},
   "source": [
    "- Построим график кумулятивного среднего чека по группам."
   ]
  },
  {
   "cell_type": "code",
   "execution_count": 18,
   "metadata": {},
   "outputs": [
    {
     "data": {
      "image/png": "[encoded data removed]",
      "text/plain": [
       "<Figure size 1080x720 with 1 Axes>"
      ]
     },
     "metadata": {
      "needs_background": "light"
     },
     "output_type": "display_data"
    }
   ],
   "source": [
    "cumulativeRevenueA = cumulativeData[cumulativeData['group'] == 'A'][\n",
    "    ['date', 'revenue', 'orders']\n",
    "]\n",
    "cumulativeRevenueB = cumulativeData[cumulativeData['group'] == 'B'][\n",
    "    ['date', 'revenue', 'orders']\n",
    "]\n",
    "\n",
    "plt.figure(figsize=(15,10))\n",
    "plt.plot(cumulativeRevenueA['date'], cumulativeRevenueA['revenue']/cumulativeRevenueA['orders'], label='A')\n",
    "plt.plot(cumulativeRevenueB['date'], cumulativeRevenueB['revenue']/cumulativeRevenueB['orders'], label='B')\n",
    "plt.title('График кумулятивного среднего чека по группам')\n",
    "plt.ylabel('Выручка')\n",
    "plt.xlabel('Дата')\n",
    "plt.legend();"
   ]
  },
  {
   "cell_type": "markdown",
   "metadata": {},
   "source": [
    "В середине теста сегмент B вырвался вперед."
   ]
  },
  {
   "cell_type": "markdown",
   "metadata": {},
   "source": [
    "- Построим график относительного изменения кумулятивного среднего чека группы B к группе A."
   ]
  },
  {
   "cell_type": "code",
   "execution_count": 19,
   "metadata": {},
   "outputs": [
    {
     "data": {
      "image/png": "[encoded data removed]",
      "text/plain": [
       "<Figure size 1080x720 with 1 Axes>"
      ]
     },
     "metadata": {
      "needs_background": "light"
     },
     "output_type": "display_data"
    }
   ],
   "source": [
    "# собираем данные в одном датафрейме\n",
    "mergedCumulativeRevenue = cumulativeRevenueA.merge(cumulativeRevenueB, left_on='date', right_on='date', how='left', suffixes=['A', 'B'])\n",
    "\n",
    "plt.figure(figsize=(15,10))\n",
    "\n",
    "# cтроим отношение средних чеков\n",
    "plt.plot(mergedCumulativeRevenue['date'], (mergedCumulativeRevenue['revenueB']/mergedCumulativeRevenue['ordersB'])/(mergedCumulativeRevenue['revenueA']/mergedCumulativeRevenue['ordersA'])-1)\n",
    "\n",
    "# добавляем ось X\n",
    "plt.axhline(y=0, color='black', linestyle='--')\n",
    "\n",
    "plt.title('График относительного изменения кумулятивного среднего чека группы B к группе A');"
   ]
  },
  {
   "cell_type": "markdown",
   "metadata": {},
   "source": [
    "Результаты теста значительно и резко менялись в несколько дат. Видимо, именно тогда были совершены аномальные заказы."
   ]
  },
  {
   "cell_type": "markdown",
   "metadata": {},
   "source": [
    "- Построим график кумулятивной конверсии по группам."
   ]
  },
  {
   "cell_type": "code",
   "execution_count": 20,
   "metadata": {},
   "outputs": [
    {
     "data": {
      "image/png": "[encoded data removed]",
      "text/plain": [
       "<Figure size 1080x720 with 1 Axes>"
      ]
     },
     "metadata": {
      "needs_background": "light"
     },
     "output_type": "display_data"
    }
   ],
   "source": [
    "# считаем кумулятивную конверсию\n",
    "cumulativeData['conversion'] = cumulativeData['orders']/cumulativeData['visitors']\n",
    "\n",
    "# отделяем данные по группе A\n",
    "cumulativeDataA = cumulativeData[cumulativeData['group']=='A']\n",
    "\n",
    "# отделяем данные по группе B\n",
    "cumulativeDataB = cumulativeData[cumulativeData['group']=='B']\n",
    "\n",
    "plt.figure(figsize=(15,10))\n",
    "\n",
    "# строим графики\n",
    "plt.plot(cumulativeDataA['date'], cumulativeDataA['conversion'], label='A')\n",
    "plt.plot(cumulativeDataB['date'], cumulativeDataB['conversion'], label='B')\n",
    "plt.legend()\n",
    "\n",
    "# задаем масштаб осей\n",
    "plt.axis([dt.datetime(2019, 7, 31), dt.datetime(2019, 9, 1), 0.025, 0.04])\n",
    "\n",
    "plt.title('График кумулятивной конверсии по группам')\n",
    "plt.ylabel('Конверсия')\n",
    "plt.xlabel('Дата');"
   ]
  },
  {
   "cell_type": "markdown",
   "metadata": {},
   "source": [
    "В начале теста сегмент A имел большую конверсию, но постепенно сегмент B выровнялся и зафиксировался примерно на одном значении, больше значения сегмента A."
   ]
  },
  {
   "cell_type": "markdown",
   "metadata": {},
   "source": [
    "- Построим график относительного изменения кумулятивной конверсии группы B к группе A."
   ]
  },
  {
   "cell_type": "code",
   "execution_count": 21,
   "metadata": {},
   "outputs": [
    {
     "data": {
      "image/png": "[encoded data removed]",
      "text/plain": [
       "<Figure size 1080x720 with 1 Axes>"
      ]
     },
     "metadata": {
      "needs_background": "light"
     },
     "output_type": "display_data"
    }
   ],
   "source": [
    "mergedCumulativeConversions = cumulativeDataA[['date','conversion']].merge(cumulativeDataB[['date','conversion']], left_on='date', right_on='date', how='left', suffixes=['A', 'B'])\n",
    "\n",
    "plt.figure(figsize=(15,10))\n",
    "\n",
    "plt.plot(mergedCumulativeConversions['date'], mergedCumulativeConversions['conversionB']/mergedCumulativeConversions['conversionA']-1, label=\"Относительный прирост конверсии группы B относительно группы A\")\n",
    "plt.legend()\n",
    "\n",
    "plt.axhline(y=0, color='black', linestyle='--')\n",
    "plt.axhline(y=0.2, color='grey', linestyle='--')\n",
    "plt.axis([dt.datetime(2019, 7, 31), dt.datetime(2019, 9, 1), -0.2, 0.3])\n",
    "\n",
    "plt.title('График относительного изменения кумулятивной конверсии группы B к группе A');"
   ]
  },
  {
   "cell_type": "markdown",
   "metadata": {},
   "source": [
    "Почти с самого начала теста группа B лидирует по конверсии: зафиксировалась около прироста в 15% относительно группы A."
   ]
  },
  {
   "cell_type": "markdown",
   "metadata": {},
   "source": [
    "- Построим точечный график количества заказов по пользователям."
   ]
  },
  {
   "cell_type": "code",
   "execution_count": 22,
   "metadata": {},
   "outputs": [
    {
     "data": {
      "image/png": "[encoded data removed]",
      "text/plain": [
       "<Figure size 1080x720 with 1 Axes>"
      ]
     },
     "metadata": {
      "needs_background": "light"
     },
     "output_type": "display_data"
    }
   ],
   "source": [
    "ordersByUsers = (\n",
    "    orders.groupby('visitor_id', as_index=False)\n",
    "    .agg({'transaction_id': 'nunique'})\n",
    ")\n",
    "\n",
    "ordersByUsers.columns = ['visitor_id', 'orders']\n",
    "\n",
    "x_values = pd.Series(range(0, len(ordersByUsers)))\n",
    "\n",
    "plt.figure(figsize=(15,10))\n",
    "\n",
    "plt.scatter(x_values, ordersByUsers['orders'])\n",
    "\n",
    "plt.title('График количества заказов по пользователям')\n",
    "plt.ylabel('Количество заказов')\n",
    "plt.xlabel('Пользователи');"
   ]
  },
  {
   "cell_type": "markdown",
   "metadata": {},
   "source": [
    "Пользователей, заказавших более двух раз, совсем мало."
   ]
  },
  {
   "cell_type": "markdown",
   "metadata": {},
   "source": [
    "- Посчитаем 95-й и 99-й перцентили количества заказов на пользователя. Выберем границу для определения аномальных пользователей."
   ]
  },
  {
   "cell_type": "code",
   "execution_count": 23,
   "metadata": {},
   "outputs": [
    {
     "data": {
      "text/plain": [
       "array([1., 1., 2.])"
      ]
     },
     "execution_count": 23,
     "metadata": {},
     "output_type": "execute_result"
    }
   ],
   "source": [
    "np.percentile(ordersByUsers['orders'], [90, 95, 99])"
   ]
  },
  {
   "cell_type": "markdown",
   "metadata": {},
   "source": [
    "Не более 5% пользователей совершили больше одного заказа. И не более 1% пользователей - больше двух заказов. Разумно выбрать 2 заказа на одного пользователя за верхнюю границу числа заказов, и отсеять аномальных пользователей по ней."
   ]
  },
  {
   "cell_type": "markdown",
   "metadata": {},
   "source": [
    "- Построим точечный график стоимостей заказов."
   ]
  },
  {
   "cell_type": "code",
   "execution_count": 24,
   "metadata": {},
   "outputs": [
    {
     "data": {
      "image/png": "[encoded data removed]",
      "text/plain": [
       "<Figure size 1080x720 with 1 Axes>"
      ]
     },
     "metadata": {
      "needs_background": "light"
     },
     "output_type": "display_data"
    }
   ],
   "source": [
    "x_values = pd.Series(range(0, len(orders['revenue'])))\n",
    "\n",
    "plt.figure(figsize=(15,10))\n",
    "\n",
    "plt.scatter(x_values, orders['revenue'])\n",
    "\n",
    "plt.title('График стоимостей заказов')\n",
    "plt.ylabel('Стоимость заказов')\n",
    "plt.xlabel('Пользователи');"
   ]
  },
  {
   "cell_type": "markdown",
   "metadata": {},
   "source": [
    "Всего один заказ стоимостью около 200 000 рублей. Заказ на 1.3 миллиона рублей выглядит весьма аномально."
   ]
  },
  {
   "cell_type": "markdown",
   "metadata": {},
   "source": [
    "Посмотрим на график без аномальных заказов."
   ]
  },
  {
   "cell_type": "code",
   "execution_count": 25,
   "metadata": {},
   "outputs": [
    {
     "data": {
      "image/png": "[encoded data removed]",
      "text/plain": [
       "<Figure size 1080x720 with 1 Axes>"
      ]
     },
     "metadata": {
      "needs_background": "light"
     },
     "output_type": "display_data"
    }
   ],
   "source": [
    "x_values = pd.Series(range(0, len(orders['revenue'])))\n",
    "\n",
    "plt.figure(figsize=(15,10))\n",
    "\n",
    "plt.scatter(x_values, orders['revenue'])\n",
    "\n",
    "plt.title('График стоимостей заказов')\n",
    "plt.ylabel('Стоимость заказов')\n",
    "plt.xlabel('Пользователи')\n",
    "plt.ylim(0,100000);"
   ]
  },
  {
   "cell_type": "markdown",
   "metadata": {},
   "source": [
    "- Посчитаем 95-й и 99-й перцентили стоимости заказов. Выберем границу для определения аномальных заказов."
   ]
  },
  {
   "cell_type": "code",
   "execution_count": 26,
   "metadata": {},
   "outputs": [
    {
     "data": {
      "text/plain": [
       "array([17990., 26785., 53904.])"
      ]
     },
     "execution_count": 26,
     "metadata": {},
     "output_type": "execute_result"
    }
   ],
   "source": [
    "np.percentile(orders['revenue'], [90, 95, 99])"
   ]
  },
  {
   "cell_type": "markdown",
   "metadata": {},
   "source": [
    "Не более, чем у 5% заказов чек дороже 26 785 рублей. И не больше, чем у 1% заказов - дороже 53 904 рублей. За верхнюю границу стоимости заказа примем значение 54 000 рублей."
   ]
  },
  {
   "cell_type": "markdown",
   "metadata": {},
   "source": [
    "- Посчитаем статистическую значимость различий в конверсии между группами по «сырым» данным."
   ]
  },
  {
   "cell_type": "markdown",
   "metadata": {},
   "source": [
    "Сформулируем гипотезы:\n",
    "- H0: различий в среднем количестве заказов между группами нет.\n",
    "- H1: различия в среднем между группами есть."
   ]
  },
  {
   "cell_type": "code",
   "execution_count": 27,
   "metadata": {},
   "outputs": [
    {
     "data": {
      "text/plain": [
       "'0.01102'"
      ]
     },
     "execution_count": 27,
     "metadata": {},
     "output_type": "execute_result"
    }
   ],
   "source": [
    "visitorsADaily = visitors[visitors['group'] == 'A'][['date', 'visitors']]\n",
    "visitorsADaily.columns = ['date', 'visitorsPerDateA']\n",
    "\n",
    "visitorsACummulative = visitorsADaily.apply(\n",
    "    lambda x: visitorsADaily[visitorsADaily['date'] <= x['date']].agg(\n",
    "        {'date': 'max', 'visitorsPerDateA': 'sum'}\n",
    "    ),\n",
    "    axis=1,\n",
    ")\n",
    "visitorsACummulative.columns = ['date', 'visitorsCummulativeA']\n",
    "\n",
    "visitorsBDaily = visitors[visitors['group'] == 'B'][['date', 'visitors']]\n",
    "visitorsBDaily.columns = ['date', 'visitorsPerDateB']\n",
    "\n",
    "visitorsBCummulative = visitorsBDaily.apply(\n",
    "    lambda x: visitorsBDaily[visitorsBDaily['date'] <= x['date']].agg(\n",
    "        {'date': 'max', 'visitorsPerDateB': 'sum'}\n",
    "    ),\n",
    "    axis=1,\n",
    ")\n",
    "visitorsBCummulative.columns = ['date', 'visitorsCummulativeB']\n",
    "\n",
    "ordersADaily = (\n",
    "    orders[orders['group'] == 'A'][['date', 'transaction_id', 'visitor_id', 'revenue']]\n",
    "    .groupby('date', as_index=False)\n",
    "    .agg({'transaction_id': pd.Series.nunique, 'revenue': 'sum'})\n",
    ")\n",
    "ordersADaily.columns = ['date', 'ordersPerDateA', 'revenuePerDateA']\n",
    "\n",
    "ordersACummulative = ordersADaily.apply(\n",
    "    lambda x: ordersADaily[ordersADaily['date'] <= x['date']].agg(\n",
    "        {'date': 'max', 'ordersPerDateA': 'sum', 'revenuePerDateA': 'sum'}\n",
    "    ),\n",
    "    axis=1,\n",
    ").sort_values(by=['date'])\n",
    "ordersACummulative.columns = [\n",
    "    'date',\n",
    "    'ordersCummulativeA',\n",
    "    'revenueCummulativeA',\n",
    "]\n",
    "\n",
    "ordersBDaily = (\n",
    "    orders[orders['group'] == 'B'][['date', 'transaction_id', 'visitor_id', 'revenue']]\n",
    "    .groupby('date', as_index=False)\n",
    "    .agg({'transaction_id': pd.Series.nunique, 'revenue': 'sum'})\n",
    ")\n",
    "ordersBDaily.columns = ['date', 'ordersPerDateB', 'revenuePerDateB']\n",
    "\n",
    "ordersBCummulative = ordersBDaily.apply(\n",
    "    lambda x: ordersBDaily[ordersBDaily['date'] <= x['date']].agg(\n",
    "        {'date': 'max', 'ordersPerDateB': 'sum', 'revenuePerDateB': 'sum'}\n",
    "    ),\n",
    "    axis=1,\n",
    ").sort_values(by=['date'])\n",
    "ordersBCummulative.columns = [\n",
    "    'date',\n",
    "    'ordersCummulativeB',\n",
    "    'revenueCummulativeB',\n",
    "]\n",
    "\n",
    "data = (\n",
    "    ordersADaily.merge(\n",
    "        ordersBDaily, left_on='date', right_on='date', how='left'\n",
    "    )\n",
    "    .merge(ordersACummulative, left_on='date', right_on='date', how='left')\n",
    "    .merge(ordersBCummulative, left_on='date', right_on='date', how='left')\n",
    "    .merge(visitorsADaily, left_on='date', right_on='date', how='left')\n",
    "    .merge(visitorsBDaily, left_on='date', right_on='date', how='left')\n",
    "    .merge(visitorsACummulative, left_on='date', right_on='date', how='left')\n",
    "    .merge(visitorsBCummulative, left_on='date', right_on='date', how='left')\n",
    ")\n",
    "\n",
    "# создадим переменные ordersByUsersA и ordersByUsersB\n",
    "# в них для пользователей, которые заказывали хотя бы 1 раз, укажем число совершённых заказов\n",
    "ordersByUsersA = (\n",
    "    orders[orders['group'] == 'A']\n",
    "    .groupby('visitor_id', as_index=False)\n",
    "    .agg({'transaction_id': pd.Series.nunique})\n",
    ")\n",
    "ordersByUsersA.columns = ['visitor_id', 'orders']\n",
    "\n",
    "ordersByUsersB = (\n",
    "    orders[orders['group'] == 'B']\n",
    "    .groupby('visitor_id', as_index=False)\n",
    "    .agg({'transaction_id': pd.Series.nunique})\n",
    ")\n",
    "ordersByUsersB.columns = ['visitor_id', 'orders']\n",
    "\n",
    "# объявим переменные sampleA и sampleB, в которых пользователям из разных групп будет соответствовать количество заказов\n",
    "sampleA = pd.concat([ordersByUsersA['orders'],pd.Series(0, index=np.arange(data['visitorsPerDateA'].sum() - len(ordersByUsersA['orders'])), name='orders')],axis=0)\n",
    "\n",
    "sampleB = pd.concat([ordersByUsersB['orders'],pd.Series(0, index=np.arange(data['visitorsPerDateB'].sum() - len(ordersByUsersB['orders'])), name='orders')],axis=0)\n",
    "\n",
    "ordersByUsersA = (\n",
    "    orders[orders['group'] == 'A']\n",
    "    .groupby('visitor_id', as_index=False)\n",
    "    .agg({'transaction_id': pd.Series.nunique})\n",
    ")\n",
    "ordersByUsersA.columns = ['visitor_id', 'orders']\n",
    "\n",
    "ordersByUsersB = (\n",
    "    orders[orders['group'] == 'B']\n",
    "    .groupby('visitor_id', as_index=False)\n",
    "    .agg({'transaction_id': pd.Series.nunique})\n",
    ")\n",
    "ordersByUsersB.columns = ['visitor_id', 'orders']\n",
    "\n",
    "sampleA = pd.concat(\n",
    "    [\n",
    "        ordersByUsersA['orders'],\n",
    "        pd.Series(\n",
    "            0,\n",
    "            index=np.arange(\n",
    "                data['visitorsPerDateA'].sum() - len(ordersByUsersA['orders'])\n",
    "            ),\n",
    "            name='orders',\n",
    "        ),\n",
    "    ],\n",
    "    axis=0,\n",
    ")\n",
    "\n",
    "sampleB = pd.concat(\n",
    "    [\n",
    "        ordersByUsersB['orders'],\n",
    "        pd.Series(\n",
    "            0,\n",
    "            index=np.arange(\n",
    "                data['visitorsPerDateB'].sum() - len(ordersByUsersB['orders'])\n",
    "            ),\n",
    "            name='orders',\n",
    "        ),\n",
    "    ],\n",
    "    axis=0,\n",
    ")\n",
    "\n",
    "(\"{0:.5f}\".format(stats.mannwhitneyu(sampleA, sampleB)[1]))"
   ]
  },
  {
   "cell_type": "code",
   "execution_count": 28,
   "metadata": {},
   "outputs": [
    {
     "data": {
      "text/plain": [
       "'0.160'"
      ]
     },
     "execution_count": 28,
     "metadata": {},
     "output_type": "execute_result"
    }
   ],
   "source": [
    "(\"{0:.3f}\".format(sampleB.mean() / sampleA.mean() - 1))"
   ]
  },
  {
   "cell_type": "markdown",
   "metadata": {},
   "source": [
    "P-value меньше 0.05, поэтому нулевую гипотезу отвергаем. Анализ в \"сырых данных\" говорит, что в конверсии между группами есть статистически значимые различия. Относительный прирост среднего группы B к конверсии группы A равен 16%."
   ]
  },
  {
   "cell_type": "markdown",
   "metadata": {},
   "source": [
    "- Посчитаем статистическую значимость различий в среднем чеке заказа между группами по «сырым» данным."
   ]
  },
  {
   "cell_type": "markdown",
   "metadata": {},
   "source": [
    "- H0: различий в среднем чеке между группами нет.\n",
    "- H1: различия в среднем чеке между группами есть."
   ]
  },
  {
   "cell_type": "code",
   "execution_count": 29,
   "metadata": {},
   "outputs": [
    {
     "data": {
      "text/plain": [
       "'0.829'"
      ]
     },
     "execution_count": 29,
     "metadata": {},
     "output_type": "execute_result"
    }
   ],
   "source": [
    "('{0:.3f}'.format(stats.mannwhitneyu(orders[orders['group']=='A']['revenue'], orders[orders['group']=='B']['revenue'])[1]))"
   ]
  },
  {
   "cell_type": "code",
   "execution_count": 30,
   "metadata": {},
   "outputs": [
    {
     "data": {
      "text/plain": [
       "'0.287'"
      ]
     },
     "execution_count": 30,
     "metadata": {},
     "output_type": "execute_result"
    }
   ],
   "source": [
    "('{0:.3f}'.format(orders[orders['group']=='B']['revenue'].mean()/orders[orders['group']=='A']['revenue'].mean()-1))"
   ]
  },
  {
   "cell_type": "markdown",
   "metadata": {},
   "source": [
    "P-value больше 0.05 - статистически значимых отличий в среднем чеке между группами нет. Относительное различие среднего чека между сегментами 28.7%."
   ]
  },
  {
   "cell_type": "markdown",
   "metadata": {},
   "source": [
    "- Посчитаем статистическую значимость различий в конверсии между группами по «очищенным» данным."
   ]
  },
  {
   "cell_type": "markdown",
   "metadata": {},
   "source": [
    "Примем за аномальных пользователей тех, кто совершил более трех заказов или совершил заказ дороже 58 000 рублей. "
   ]
  },
  {
   "cell_type": "code",
   "execution_count": 31,
   "metadata": {},
   "outputs": [
    {
     "data": {
      "text/plain": [
       "'0.00702'"
      ]
     },
     "execution_count": 31,
     "metadata": {},
     "output_type": "execute_result"
    }
   ],
   "source": [
    "# сделаем срезы пользователей с числом заказов больше 3 — usersWithManyOrders\n",
    "# и пользователей, совершивших заказы дороже 58 000 — usersWithExpensiveOrders\n",
    "# объединим их в таблице abnormalUsers\n",
    "usersWithManyOrders = pd.concat(\n",
    "    [\n",
    "        ordersByUsersA[ordersByUsersA['orders'] > 2]['visitor_id'],\n",
    "        ordersByUsersB[ordersByUsersB['orders'] > 2]['visitor_id'],\n",
    "    ],\n",
    "    axis=0,\n",
    ")\n",
    "usersWithExpensiveOrders = orders[orders['revenue'] > 54000]['visitor_id']\n",
    "abnormalUsers = (\n",
    "    pd.concat([usersWithManyOrders, usersWithExpensiveOrders], axis=0)\n",
    "    .drop_duplicates()\n",
    "    .sort_values()\n",
    ")\n",
    "\n",
    "sampleAFiltered = pd.concat(\n",
    "    [\n",
    "        ordersByUsersA[\n",
    "            np.logical_not(ordersByUsersA['visitor_id'].isin(abnormalUsers))\n",
    "        ]['orders'],\n",
    "        pd.Series(\n",
    "            0,\n",
    "            index=np.arange(\n",
    "                data['visitorsPerDateA'].sum() - len(ordersByUsersA['orders'])\n",
    "            ),\n",
    "            name='orders',\n",
    "        ),\n",
    "    ],\n",
    "    axis=0,\n",
    ")\n",
    "\n",
    "sampleBFiltered = pd.concat(\n",
    "    [\n",
    "        ordersByUsersB[\n",
    "            np.logical_not(ordersByUsersB['visitor_id'].isin(abnormalUsers))\n",
    "        ]['orders'],\n",
    "        pd.Series(\n",
    "            0,\n",
    "            index=np.arange(\n",
    "                data['visitorsPerDateB'].sum() - len(ordersByUsersB['orders'])\n",
    "            ),\n",
    "            name='orders',\n",
    "        ),\n",
    "    ],\n",
    "    axis=0,\n",
    ")\n",
    "\n",
    "('{0:.5f}'.format(stats.mannwhitneyu(sampleAFiltered, sampleBFiltered)[1]))"
   ]
  },
  {
   "cell_type": "code",
   "execution_count": 32,
   "metadata": {},
   "outputs": [
    {
     "data": {
      "text/plain": [
       "'0.189'"
      ]
     },
     "execution_count": 32,
     "metadata": {},
     "output_type": "execute_result"
    }
   ],
   "source": [
    "('{0:.3f}'.format(sampleBFiltered.mean()/sampleAFiltered.mean()-1))"
   ]
  },
  {
   "cell_type": "markdown",
   "metadata": {},
   "source": [
    "Как и в случае с \"сырыми данными\", статистическая значимость достигнута. Сегмент B значительно лучше сегмента A."
   ]
  },
  {
   "cell_type": "markdown",
   "metadata": {},
   "source": [
    "- Посчитаем статистическую значимость различий в среднем чеке заказа между группами по «очищенным» данным."
   ]
  },
  {
   "cell_type": "code",
   "execution_count": 33,
   "metadata": {},
   "outputs": [
    {
     "data": {
      "text/plain": [
       "'0.788'"
      ]
     },
     "execution_count": 33,
     "metadata": {},
     "output_type": "execute_result"
    }
   ],
   "source": [
    "(\n",
    "    '{0:.3f}'.format(\n",
    "        stats.mannwhitneyu(\n",
    "            orders[\n",
    "                np.logical_and(\n",
    "                    orders['group'] == 'A',\n",
    "                    np.logical_not(orders['visitor_id'].isin(abnormalUsers)),\n",
    "                )\n",
    "            ]['revenue'],\n",
    "            orders[\n",
    "                np.logical_and(\n",
    "                    orders['group'] == 'B',\n",
    "                    np.logical_not(orders['visitor_id'].isin(abnormalUsers)),\n",
    "                )\n",
    "            ]['revenue'],\n",
    "        )[1]\n",
    "    )\n",
    ")"
   ]
  },
  {
   "cell_type": "code",
   "execution_count": 34,
   "metadata": {},
   "outputs": [
    {
     "data": {
      "text/plain": [
       "'-0.032'"
      ]
     },
     "execution_count": 34,
     "metadata": {},
     "output_type": "execute_result"
    }
   ],
   "source": [
    "(\n",
    "    \"{0:.3f}\".format(\n",
    "        orders[\n",
    "            np.logical_and(\n",
    "                orders['group'] == 'B',\n",
    "                np.logical_not(orders['visitor_id'].isin(abnormalUsers)),\n",
    "            )\n",
    "        ]['revenue'].mean()\n",
    "        / orders[\n",
    "            np.logical_and(\n",
    "                orders['group'] == 'A',\n",
    "                np.logical_not(orders['visitor_id'].isin(abnormalUsers)),\n",
    "            )\n",
    "        ]['revenue'].mean()\n",
    "        - 1\n",
    "    )\n",
    ")"
   ]
  },
  {
   "cell_type": "markdown",
   "metadata": {},
   "source": [
    "P-value значительно больше 0.05, поэтому причин отвергать нулевую гипотезу и считать, что в среднем чеке есть различия, тоже нет (как и с \"сырыми данными\"). А вот средний чек группы B оказался незначительно (на 3.2%) ниже среднего чека группы A."
   ]
  },
  {
   "cell_type": "markdown",
   "metadata": {},
   "source": [
    "Выводы:\n",
    "- Есть статистически значимое различие по конверсии между группами как по сырым данным, так и после фильтрации аномалий. Относительный выигрыш группы B по \"сырым\" данным равен 16%, по \"очищенным\" данным - 18.9%.\n",
    "- Нет статистически значимого различия по среднему чеку между группами как по \"сырым\" данным, так и после фильтрации аномалий.\n",
    "- График различия конверсии между группами сообщает, что результаты группы B лучше группы A: имеют тенденцию к росту, либо зафиксировались около среднего значения.\n",
    "- График различия среднего чека колеблется: он-то и позволил вам найти аномалии. Сделать из этого графика определённые выводы нельзя.\n",
    "\n",
    "Исходя из фактов выше, следует остановить тест, признать его успешным и зафиксировать победу группы B."
   ]
  }
 ],
 "metadata": {
  "ExecuteTimeLog": [
   {
    "duration": 45,
    "start_time": "2022-07-31T12:13:34.784Z"
   },
   {
    "duration": 398,
    "start_time": "2022-07-31T12:13:40.379Z"
   },
   {
    "duration": 178,
    "start_time": "2022-07-31T12:13:40.779Z"
   },
   {
    "duration": 16,
    "start_time": "2022-07-31T12:13:40.959Z"
   },
   {
    "duration": 12,
    "start_time": "2022-07-31T12:13:53.030Z"
   },
   {
    "duration": 8,
    "start_time": "2022-07-31T12:14:01.604Z"
   },
   {
    "duration": 10,
    "start_time": "2022-07-31T12:14:08.542Z"
   },
   {
    "duration": 7,
    "start_time": "2022-07-31T12:14:15.473Z"
   },
   {
    "duration": 1249,
    "start_time": "2022-07-31T12:18:53.926Z"
   },
   {
    "duration": 4,
    "start_time": "2022-07-31T12:19:37.588Z"
   },
   {
    "duration": 14,
    "start_time": "2022-07-31T12:19:40.498Z"
   },
   {
    "duration": 3,
    "start_time": "2022-07-31T12:20:23.654Z"
   },
   {
    "duration": 14,
    "start_time": "2022-07-31T12:20:26.096Z"
   },
   {
    "duration": 9,
    "start_time": "2022-07-31T12:21:50.705Z"
   },
   {
    "duration": 11,
    "start_time": "2022-07-31T12:21:58.352Z"
   },
   {
    "duration": 9,
    "start_time": "2022-07-31T12:30:03.448Z"
   },
   {
    "duration": 7,
    "start_time": "2022-07-31T12:30:20.687Z"
   },
   {
    "duration": 13,
    "start_time": "2022-07-31T12:32:06.747Z"
   },
   {
    "duration": 9,
    "start_time": "2022-07-31T12:32:17.149Z"
   },
   {
    "duration": 4,
    "start_time": "2022-07-31T12:33:00.764Z"
   },
   {
    "duration": 11,
    "start_time": "2022-07-31T12:33:06.602Z"
   },
   {
    "duration": 3,
    "start_time": "2022-07-31T12:35:22.699Z"
   },
   {
    "duration": 11,
    "start_time": "2022-07-31T12:35:28.175Z"
   },
   {
    "duration": 436,
    "start_time": "2022-07-31T12:35:38.835Z"
   },
   {
    "duration": 69,
    "start_time": "2022-07-31T12:35:39.273Z"
   },
   {
    "duration": 16,
    "start_time": "2022-07-31T12:35:39.344Z"
   },
   {
    "duration": 4,
    "start_time": "2022-07-31T12:35:39.361Z"
   },
   {
    "duration": 12,
    "start_time": "2022-07-31T12:35:39.367Z"
   },
   {
    "duration": 10,
    "start_time": "2022-07-31T12:35:39.381Z"
   },
   {
    "duration": 9,
    "start_time": "2022-07-31T12:35:39.393Z"
   },
   {
    "duration": 16,
    "start_time": "2022-07-31T12:35:39.403Z"
   },
   {
    "duration": 40,
    "start_time": "2022-07-31T12:35:39.422Z"
   },
   {
    "duration": 7,
    "start_time": "2022-07-31T12:35:39.463Z"
   },
   {
    "duration": 10,
    "start_time": "2022-07-31T12:35:39.472Z"
   },
   {
    "duration": 4,
    "start_time": "2022-07-31T12:35:48.332Z"
   },
   {
    "duration": 3,
    "start_time": "2022-07-31T12:36:02.300Z"
   },
   {
    "duration": 384,
    "start_time": "2022-07-31T12:42:07.029Z"
   },
   {
    "duration": 69,
    "start_time": "2022-07-31T12:42:07.415Z"
   },
   {
    "duration": 12,
    "start_time": "2022-07-31T12:42:07.486Z"
   },
   {
    "duration": 6,
    "start_time": "2022-07-31T12:42:07.499Z"
   },
   {
    "duration": 13,
    "start_time": "2022-07-31T12:42:07.506Z"
   },
   {
    "duration": 9,
    "start_time": "2022-07-31T12:42:07.520Z"
   },
   {
    "duration": 8,
    "start_time": "2022-07-31T12:42:07.530Z"
   },
   {
    "duration": 10,
    "start_time": "2022-07-31T12:42:07.540Z"
   },
   {
    "duration": 10,
    "start_time": "2022-07-31T12:42:07.551Z"
   },
   {
    "duration": 7,
    "start_time": "2022-07-31T12:42:07.562Z"
   },
   {
    "duration": 12,
    "start_time": "2022-07-31T12:42:07.570Z"
   },
   {
    "duration": 13,
    "start_time": "2022-07-31T12:42:18.349Z"
   },
   {
    "duration": 6,
    "start_time": "2022-07-31T12:42:33.941Z"
   },
   {
    "duration": 6,
    "start_time": "2022-07-31T12:43:24.634Z"
   },
   {
    "duration": 9,
    "start_time": "2022-07-31T12:43:44.334Z"
   },
   {
    "duration": 6,
    "start_time": "2022-07-31T12:44:25.934Z"
   },
   {
    "duration": 481,
    "start_time": "2022-07-31T12:47:38.534Z"
   },
   {
    "duration": 819,
    "start_time": "2022-07-31T12:48:21.629Z"
   },
   {
    "duration": 67,
    "start_time": "2022-07-31T12:48:22.450Z"
   },
   {
    "duration": 13,
    "start_time": "2022-07-31T12:48:22.519Z"
   },
   {
    "duration": 3,
    "start_time": "2022-07-31T12:48:22.534Z"
   },
   {
    "duration": 11,
    "start_time": "2022-07-31T12:48:22.539Z"
   },
   {
    "duration": 9,
    "start_time": "2022-07-31T12:48:22.552Z"
   },
   {
    "duration": 9,
    "start_time": "2022-07-31T12:48:22.562Z"
   },
   {
    "duration": 15,
    "start_time": "2022-07-31T12:48:22.572Z"
   },
   {
    "duration": 80,
    "start_time": "2022-07-31T12:48:22.589Z"
   },
   {
    "duration": 0,
    "start_time": "2022-07-31T12:48:22.670Z"
   },
   {
    "duration": 0,
    "start_time": "2022-07-31T12:48:22.672Z"
   },
   {
    "duration": 0,
    "start_time": "2022-07-31T12:48:22.673Z"
   },
   {
    "duration": 71,
    "start_time": "2022-07-31T12:48:49.934Z"
   },
   {
    "duration": 15,
    "start_time": "2022-07-31T12:49:21.964Z"
   },
   {
    "duration": 746,
    "start_time": "2022-07-31T12:49:32.695Z"
   },
   {
    "duration": 69,
    "start_time": "2022-07-31T12:49:33.444Z"
   },
   {
    "duration": 15,
    "start_time": "2022-07-31T12:49:33.514Z"
   },
   {
    "duration": 3,
    "start_time": "2022-07-31T12:49:33.531Z"
   },
   {
    "duration": 12,
    "start_time": "2022-07-31T12:49:33.535Z"
   },
   {
    "duration": 9,
    "start_time": "2022-07-31T12:49:33.549Z"
   },
   {
    "duration": 9,
    "start_time": "2022-07-31T12:49:33.560Z"
   },
   {
    "duration": 10,
    "start_time": "2022-07-31T12:49:33.570Z"
   },
   {
    "duration": 19,
    "start_time": "2022-07-31T12:49:33.582Z"
   },
   {
    "duration": 7,
    "start_time": "2022-07-31T12:49:33.603Z"
   },
   {
    "duration": 9,
    "start_time": "2022-07-31T12:49:33.612Z"
   },
   {
    "duration": 30,
    "start_time": "2022-07-31T12:49:33.623Z"
   },
   {
    "duration": 867,
    "start_time": "2022-08-01T09:45:29.208Z"
   },
   {
    "duration": 171,
    "start_time": "2022-08-01T09:45:30.077Z"
   },
   {
    "duration": 18,
    "start_time": "2022-08-01T09:45:30.250Z"
   },
   {
    "duration": 8,
    "start_time": "2022-08-01T09:45:30.269Z"
   },
   {
    "duration": 25,
    "start_time": "2022-08-01T09:45:30.279Z"
   },
   {
    "duration": 11,
    "start_time": "2022-08-01T09:45:30.306Z"
   },
   {
    "duration": 17,
    "start_time": "2022-08-01T09:45:30.319Z"
   },
   {
    "duration": 23,
    "start_time": "2022-08-01T09:45:30.338Z"
   },
   {
    "duration": 29,
    "start_time": "2022-08-01T09:45:30.363Z"
   },
   {
    "duration": 11,
    "start_time": "2022-08-01T09:45:30.393Z"
   },
   {
    "duration": 14,
    "start_time": "2022-08-01T09:45:30.406Z"
   },
   {
    "duration": 15,
    "start_time": "2022-08-01T09:45:30.421Z"
   },
   {
    "duration": 338,
    "start_time": "2022-08-01T09:45:30.438Z"
   },
   {
    "duration": 90,
    "start_time": "2022-08-01T09:47:09.434Z"
   },
   {
    "duration": 1114,
    "start_time": "2022-08-01T09:47:50.057Z"
   },
   {
    "duration": 123,
    "start_time": "2022-08-01T09:47:51.173Z"
   },
   {
    "duration": 12,
    "start_time": "2022-08-01T09:47:51.297Z"
   },
   {
    "duration": 3,
    "start_time": "2022-08-01T09:47:51.311Z"
   },
   {
    "duration": 16,
    "start_time": "2022-08-01T09:47:51.315Z"
   },
   {
    "duration": 10,
    "start_time": "2022-08-01T09:47:51.332Z"
   },
   {
    "duration": 10,
    "start_time": "2022-08-01T09:47:51.344Z"
   },
   {
    "duration": 11,
    "start_time": "2022-08-01T09:47:51.356Z"
   },
   {
    "duration": 15,
    "start_time": "2022-08-01T09:47:51.369Z"
   },
   {
    "duration": 6,
    "start_time": "2022-08-01T09:47:51.387Z"
   },
   {
    "duration": 42,
    "start_time": "2022-08-01T09:47:51.395Z"
   },
   {
    "duration": 7,
    "start_time": "2022-08-01T09:47:51.439Z"
   },
   {
    "duration": 301,
    "start_time": "2022-08-01T09:47:51.448Z"
   },
   {
    "duration": 251,
    "start_time": "2022-08-01T09:47:51.751Z"
   },
   {
    "duration": 186,
    "start_time": "2022-08-01T09:48:04.231Z"
   },
   {
    "duration": 254,
    "start_time": "2022-08-01T09:50:23.892Z"
   },
   {
    "duration": 177,
    "start_time": "2022-08-01T09:50:39.225Z"
   },
   {
    "duration": 145,
    "start_time": "2022-08-01T09:52:15.074Z"
   },
   {
    "duration": 143,
    "start_time": "2022-08-01T09:52:33.450Z"
   },
   {
    "duration": 162,
    "start_time": "2022-08-01T09:52:51.110Z"
   },
   {
    "duration": 175,
    "start_time": "2022-08-01T10:00:44.173Z"
   },
   {
    "duration": 309,
    "start_time": "2022-08-01T10:08:32.058Z"
   },
   {
    "duration": 218,
    "start_time": "2022-08-01T10:11:30.008Z"
   },
   {
    "duration": 190,
    "start_time": "2022-08-01T10:14:37.141Z"
   },
   {
    "duration": 309,
    "start_time": "2022-08-01T10:57:04.847Z"
   },
   {
    "duration": 317,
    "start_time": "2022-08-01T10:57:35.268Z"
   },
   {
    "duration": 300,
    "start_time": "2022-08-01T10:58:53.646Z"
   },
   {
    "duration": 338,
    "start_time": "2022-08-01T11:01:24.608Z"
   },
   {
    "duration": 294,
    "start_time": "2022-08-01T11:15:41.072Z"
   },
   {
    "duration": 326,
    "start_time": "2022-08-01T11:15:55.714Z"
   },
   {
    "duration": 279,
    "start_time": "2022-08-01T11:16:03.850Z"
   },
   {
    "duration": 10,
    "start_time": "2022-08-01T11:18:00.351Z"
   },
   {
    "duration": 9,
    "start_time": "2022-08-01T11:18:08.375Z"
   },
   {
    "duration": 12,
    "start_time": "2022-08-01T11:18:40.756Z"
   },
   {
    "duration": 122,
    "start_time": "2022-08-01T11:19:32.265Z"
   },
   {
    "duration": 4,
    "start_time": "2022-08-01T11:23:00.864Z"
   },
   {
    "duration": 8,
    "start_time": "2022-08-01T11:25:34.053Z"
   },
   {
    "duration": 137,
    "start_time": "2022-08-01T11:25:49.808Z"
   },
   {
    "duration": 8,
    "start_time": "2022-08-01T11:29:53.359Z"
   },
   {
    "duration": 5,
    "start_time": "2022-08-01T11:30:05.578Z"
   },
   {
    "duration": 77,
    "start_time": "2022-08-02T08:42:27.603Z"
   },
   {
    "duration": 1398,
    "start_time": "2022-08-02T08:42:46.607Z"
   },
   {
    "duration": 294,
    "start_time": "2022-08-02T08:42:48.007Z"
   },
   {
    "duration": 21,
    "start_time": "2022-08-02T08:42:48.303Z"
   },
   {
    "duration": 10,
    "start_time": "2022-08-02T08:42:48.328Z"
   },
   {
    "duration": 15,
    "start_time": "2022-08-02T08:42:48.340Z"
   },
   {
    "duration": 13,
    "start_time": "2022-08-02T08:42:48.356Z"
   },
   {
    "duration": 14,
    "start_time": "2022-08-02T08:42:48.371Z"
   },
   {
    "duration": 42,
    "start_time": "2022-08-02T08:42:48.387Z"
   },
   {
    "duration": 27,
    "start_time": "2022-08-02T08:42:48.431Z"
   },
   {
    "duration": 10,
    "start_time": "2022-08-02T08:42:48.462Z"
   },
   {
    "duration": 19,
    "start_time": "2022-08-02T08:42:48.474Z"
   },
   {
    "duration": 37,
    "start_time": "2022-08-02T08:42:48.495Z"
   },
   {
    "duration": 334,
    "start_time": "2022-08-02T08:42:48.534Z"
   },
   {
    "duration": 333,
    "start_time": "2022-08-02T08:42:48.870Z"
   },
   {
    "duration": 222,
    "start_time": "2022-08-02T08:42:49.205Z"
   },
   {
    "duration": 317,
    "start_time": "2022-08-02T08:42:49.429Z"
   },
   {
    "duration": 221,
    "start_time": "2022-08-02T08:42:49.748Z"
   },
   {
    "duration": 364,
    "start_time": "2022-08-02T08:42:49.972Z"
   },
   {
    "duration": 149,
    "start_time": "2022-08-02T08:42:50.339Z"
   },
   {
    "duration": 6,
    "start_time": "2022-08-02T08:42:50.490Z"
   },
   {
    "duration": 158,
    "start_time": "2022-08-02T08:42:50.513Z"
   },
   {
    "duration": 21,
    "start_time": "2022-08-02T08:42:50.673Z"
   },
   {
    "duration": 231,
    "start_time": "2022-08-02T08:42:50.696Z"
   },
   {
    "duration": 126,
    "start_time": "2022-08-02T08:43:48.805Z"
   },
   {
    "duration": 141,
    "start_time": "2022-08-02T08:44:37.460Z"
   },
   {
    "duration": 271,
    "start_time": "2022-08-02T08:45:19.397Z"
   },
   {
    "duration": 268,
    "start_time": "2022-08-02T08:45:31.399Z"
   },
   {
    "duration": 258,
    "start_time": "2022-08-02T08:45:56.978Z"
   },
   {
    "duration": 240,
    "start_time": "2022-08-02T08:46:32.627Z"
   },
   {
    "duration": 8,
    "start_time": "2022-08-02T08:46:35.685Z"
   },
   {
    "duration": 636,
    "start_time": "2022-08-02T08:58:25.410Z"
   },
   {
    "duration": 6,
    "start_time": "2022-08-02T08:58:32.658Z"
   },
   {
    "duration": 1386,
    "start_time": "2022-08-02T10:25:49.474Z"
   },
   {
    "duration": 265,
    "start_time": "2022-08-02T10:25:50.862Z"
   },
   {
    "duration": 16,
    "start_time": "2022-08-02T10:25:51.129Z"
   },
   {
    "duration": 19,
    "start_time": "2022-08-02T10:25:51.148Z"
   },
   {
    "duration": 34,
    "start_time": "2022-08-02T10:25:51.169Z"
   },
   {
    "duration": 17,
    "start_time": "2022-08-02T10:25:51.206Z"
   },
   {
    "duration": 20,
    "start_time": "2022-08-02T10:25:51.225Z"
   },
   {
    "duration": 41,
    "start_time": "2022-08-02T10:25:51.248Z"
   },
   {
    "duration": 38,
    "start_time": "2022-08-02T10:25:51.292Z"
   },
   {
    "duration": 16,
    "start_time": "2022-08-02T10:25:51.334Z"
   },
   {
    "duration": 18,
    "start_time": "2022-08-02T10:25:51.353Z"
   },
   {
    "duration": 14,
    "start_time": "2022-08-02T10:25:51.374Z"
   },
   {
    "duration": 371,
    "start_time": "2022-08-02T10:25:51.390Z"
   },
   {
    "duration": 384,
    "start_time": "2022-08-02T10:25:51.764Z"
   },
   {
    "duration": 304,
    "start_time": "2022-08-02T10:25:52.151Z"
   },
   {
    "duration": 395,
    "start_time": "2022-08-02T10:25:52.457Z"
   },
   {
    "duration": 262,
    "start_time": "2022-08-02T10:25:52.854Z"
   },
   {
    "duration": 324,
    "start_time": "2022-08-02T10:25:53.118Z"
   },
   {
    "duration": 153,
    "start_time": "2022-08-02T10:25:53.445Z"
   },
   {
    "duration": 8,
    "start_time": "2022-08-02T10:25:53.603Z"
   },
   {
    "duration": 200,
    "start_time": "2022-08-02T10:25:53.613Z"
   },
   {
    "duration": 7,
    "start_time": "2022-08-02T10:25:53.815Z"
   },
   {
    "duration": 242,
    "start_time": "2022-08-02T10:28:03.042Z"
   },
   {
    "duration": 9,
    "start_time": "2022-08-02T10:28:05.955Z"
   },
   {
    "duration": 1110,
    "start_time": "2022-08-02T10:53:37.659Z"
   },
   {
    "duration": 162,
    "start_time": "2022-08-02T10:53:38.772Z"
   },
   {
    "duration": 16,
    "start_time": "2022-08-02T10:53:38.937Z"
   },
   {
    "duration": 19,
    "start_time": "2022-08-02T10:53:38.956Z"
   },
   {
    "duration": 24,
    "start_time": "2022-08-02T10:53:38.979Z"
   },
   {
    "duration": 30,
    "start_time": "2022-08-02T10:53:39.005Z"
   },
   {
    "duration": 24,
    "start_time": "2022-08-02T10:53:39.037Z"
   },
   {
    "duration": 29,
    "start_time": "2022-08-02T10:53:39.063Z"
   },
   {
    "duration": 29,
    "start_time": "2022-08-02T10:53:39.094Z"
   },
   {
    "duration": 11,
    "start_time": "2022-08-02T10:53:39.126Z"
   },
   {
    "duration": 24,
    "start_time": "2022-08-02T10:53:39.139Z"
   },
   {
    "duration": 16,
    "start_time": "2022-08-02T10:53:39.165Z"
   },
   {
    "duration": 340,
    "start_time": "2022-08-02T10:53:39.184Z"
   },
   {
    "duration": 315,
    "start_time": "2022-08-02T10:53:39.527Z"
   },
   {
    "duration": 206,
    "start_time": "2022-08-02T10:53:39.844Z"
   },
   {
    "duration": 281,
    "start_time": "2022-08-02T10:53:40.052Z"
   },
   {
    "duration": 219,
    "start_time": "2022-08-02T10:53:40.335Z"
   },
   {
    "duration": 301,
    "start_time": "2022-08-02T10:53:40.556Z"
   },
   {
    "duration": 132,
    "start_time": "2022-08-02T10:53:40.859Z"
   },
   {
    "duration": 5,
    "start_time": "2022-08-02T10:53:41.003Z"
   },
   {
    "duration": 149,
    "start_time": "2022-08-02T10:53:41.010Z"
   },
   {
    "duration": 6,
    "start_time": "2022-08-02T10:53:41.160Z"
   },
   {
    "duration": 271,
    "start_time": "2022-08-02T10:53:41.167Z"
   },
   {
    "duration": 6,
    "start_time": "2022-08-02T10:53:41.440Z"
   },
   {
    "duration": 225,
    "start_time": "2022-08-02T10:53:41.448Z"
   },
   {
    "duration": 0,
    "start_time": "2022-08-02T10:53:41.675Z"
   },
   {
    "duration": 1277,
    "start_time": "2022-08-02T10:54:23.443Z"
   },
   {
    "duration": 1855,
    "start_time": "2022-08-02T10:55:37.155Z"
   },
   {
    "duration": 1048,
    "start_time": "2022-08-02T10:55:53.501Z"
   },
   {
    "duration": 144,
    "start_time": "2022-08-02T10:55:54.551Z"
   },
   {
    "duration": 14,
    "start_time": "2022-08-02T10:55:54.697Z"
   },
   {
    "duration": 4,
    "start_time": "2022-08-02T10:55:54.713Z"
   },
   {
    "duration": 15,
    "start_time": "2022-08-02T10:55:54.719Z"
   },
   {
    "duration": 12,
    "start_time": "2022-08-02T10:55:54.736Z"
   },
   {
    "duration": 35,
    "start_time": "2022-08-02T10:55:54.749Z"
   },
   {
    "duration": 26,
    "start_time": "2022-08-02T10:55:54.786Z"
   },
   {
    "duration": 42,
    "start_time": "2022-08-02T10:55:54.814Z"
   },
   {
    "duration": 31,
    "start_time": "2022-08-02T10:55:54.859Z"
   },
   {
    "duration": 26,
    "start_time": "2022-08-02T10:55:54.892Z"
   },
   {
    "duration": 23,
    "start_time": "2022-08-02T10:55:54.920Z"
   },
   {
    "duration": 334,
    "start_time": "2022-08-02T10:55:54.945Z"
   },
   {
    "duration": 278,
    "start_time": "2022-08-02T10:55:55.281Z"
   },
   {
    "duration": 235,
    "start_time": "2022-08-02T10:55:55.561Z"
   },
   {
    "duration": 310,
    "start_time": "2022-08-02T10:55:55.806Z"
   },
   {
    "duration": 220,
    "start_time": "2022-08-02T10:55:56.118Z"
   },
   {
    "duration": 302,
    "start_time": "2022-08-02T10:55:56.341Z"
   },
   {
    "duration": 161,
    "start_time": "2022-08-02T10:55:56.645Z"
   },
   {
    "duration": 6,
    "start_time": "2022-08-02T10:55:56.808Z"
   },
   {
    "duration": 150,
    "start_time": "2022-08-02T10:55:56.816Z"
   },
   {
    "duration": 6,
    "start_time": "2022-08-02T10:55:56.968Z"
   },
   {
    "duration": 269,
    "start_time": "2022-08-02T10:55:56.976Z"
   },
   {
    "duration": 8,
    "start_time": "2022-08-02T10:55:57.247Z"
   },
   {
    "duration": 1473,
    "start_time": "2022-08-02T10:55:57.258Z"
   },
   {
    "duration": 0,
    "start_time": "2022-08-02T10:55:58.733Z"
   },
   {
    "duration": 409,
    "start_time": "2022-08-02T11:00:57.004Z"
   },
   {
    "duration": 6,
    "start_time": "2022-08-02T11:00:59.334Z"
   },
   {
    "duration": 1587,
    "start_time": "2022-08-02T11:04:40.857Z"
   },
   {
    "duration": 0,
    "start_time": "2022-08-02T11:04:42.446Z"
   },
   {
    "duration": 440,
    "start_time": "2022-08-02T11:05:13.039Z"
   },
   {
    "duration": 10,
    "start_time": "2022-08-02T11:05:14.448Z"
   },
   {
    "duration": 156,
    "start_time": "2022-08-02T11:09:22.348Z"
   },
   {
    "duration": 167,
    "start_time": "2022-08-02T11:09:46.540Z"
   },
   {
    "duration": 148,
    "start_time": "2022-08-02T11:10:02.200Z"
   },
   {
    "duration": 507,
    "start_time": "2022-08-02T11:14:24.536Z"
   },
   {
    "duration": 6,
    "start_time": "2022-08-02T11:14:29.811Z"
   },
   {
    "duration": 364,
    "start_time": "2022-08-02T11:19:59.300Z"
   },
   {
    "duration": 4,
    "start_time": "2022-08-02T11:20:00.540Z"
   },
   {
    "duration": 1097,
    "start_time": "2022-08-02T11:20:06.292Z"
   },
   {
    "duration": 142,
    "start_time": "2022-08-02T11:20:07.392Z"
   },
   {
    "duration": 15,
    "start_time": "2022-08-02T11:20:07.536Z"
   },
   {
    "duration": 10,
    "start_time": "2022-08-02T11:20:07.553Z"
   },
   {
    "duration": 21,
    "start_time": "2022-08-02T11:20:07.565Z"
   },
   {
    "duration": 21,
    "start_time": "2022-08-02T11:20:07.588Z"
   },
   {
    "duration": 16,
    "start_time": "2022-08-02T11:20:07.611Z"
   },
   {
    "duration": 19,
    "start_time": "2022-08-02T11:20:07.629Z"
   },
   {
    "duration": 29,
    "start_time": "2022-08-02T11:20:07.649Z"
   },
   {
    "duration": 15,
    "start_time": "2022-08-02T11:20:07.681Z"
   },
   {
    "duration": 23,
    "start_time": "2022-08-02T11:20:07.698Z"
   },
   {
    "duration": 13,
    "start_time": "2022-08-02T11:20:07.724Z"
   },
   {
    "duration": 355,
    "start_time": "2022-08-02T11:20:07.738Z"
   },
   {
    "duration": 293,
    "start_time": "2022-08-02T11:20:08.094Z"
   },
   {
    "duration": 222,
    "start_time": "2022-08-02T11:20:08.389Z"
   },
   {
    "duration": 311,
    "start_time": "2022-08-02T11:20:08.613Z"
   },
   {
    "duration": 308,
    "start_time": "2022-08-02T11:20:08.926Z"
   },
   {
    "duration": 344,
    "start_time": "2022-08-02T11:20:09.236Z"
   },
   {
    "duration": 136,
    "start_time": "2022-08-02T11:20:09.582Z"
   },
   {
    "duration": 5,
    "start_time": "2022-08-02T11:20:09.720Z"
   },
   {
    "duration": 158,
    "start_time": "2022-08-02T11:20:09.727Z"
   },
   {
    "duration": 14,
    "start_time": "2022-08-02T11:20:09.888Z"
   },
   {
    "duration": 592,
    "start_time": "2022-08-02T11:20:09.905Z"
   },
   {
    "duration": 5,
    "start_time": "2022-08-02T11:20:10.502Z"
   },
   {
    "duration": 275,
    "start_time": "2022-08-02T11:20:10.509Z"
   },
   {
    "duration": 8,
    "start_time": "2022-08-02T11:20:10.786Z"
   },
   {
    "duration": 445,
    "start_time": "2022-08-02T11:20:10.796Z"
   },
   {
    "duration": 6,
    "start_time": "2022-08-02T11:20:11.246Z"
   },
   {
    "duration": 400,
    "start_time": "2022-08-02T11:20:11.254Z"
   },
   {
    "duration": 10,
    "start_time": "2022-08-02T11:20:11.657Z"
   },
   {
    "duration": 564,
    "start_time": "2022-08-02T11:20:52.833Z"
   },
   {
    "duration": 4,
    "start_time": "2022-08-02T11:20:56.240Z"
   },
   {
    "duration": 62,
    "start_time": "2022-08-03T12:45:28.289Z"
   },
   {
    "duration": 15,
    "start_time": "2022-08-03T12:45:58.801Z"
   },
   {
    "duration": 1317,
    "start_time": "2022-08-03T12:46:04.320Z"
   },
   {
    "duration": 310,
    "start_time": "2022-08-03T12:46:05.640Z"
   },
   {
    "duration": 14,
    "start_time": "2022-08-03T12:46:05.952Z"
   },
   {
    "duration": 5,
    "start_time": "2022-08-03T12:46:05.968Z"
   },
   {
    "duration": 11,
    "start_time": "2022-08-03T12:46:05.976Z"
   },
   {
    "duration": 32,
    "start_time": "2022-08-03T12:46:05.989Z"
   },
   {
    "duration": 29,
    "start_time": "2022-08-03T12:46:06.023Z"
   },
   {
    "duration": 11,
    "start_time": "2022-08-03T12:46:06.054Z"
   },
   {
    "duration": 22,
    "start_time": "2022-08-03T12:46:06.067Z"
   },
   {
    "duration": 31,
    "start_time": "2022-08-03T12:46:06.091Z"
   },
   {
    "duration": 11,
    "start_time": "2022-08-03T12:46:06.124Z"
   },
   {
    "duration": 9,
    "start_time": "2022-08-03T12:46:06.137Z"
   },
   {
    "duration": 326,
    "start_time": "2022-08-03T12:46:06.148Z"
   },
   {
    "duration": 285,
    "start_time": "2022-08-03T12:46:06.477Z"
   },
   {
    "duration": 211,
    "start_time": "2022-08-03T12:46:06.763Z"
   },
   {
    "duration": 333,
    "start_time": "2022-08-03T12:46:06.975Z"
   },
   {
    "duration": 213,
    "start_time": "2022-08-03T12:46:07.310Z"
   },
   {
    "duration": 265,
    "start_time": "2022-08-03T12:46:07.525Z"
   },
   {
    "duration": 132,
    "start_time": "2022-08-03T12:46:07.792Z"
   },
   {
    "duration": 5,
    "start_time": "2022-08-03T12:46:07.926Z"
   },
   {
    "duration": 141,
    "start_time": "2022-08-03T12:46:07.933Z"
   },
   {
    "duration": 5,
    "start_time": "2022-08-03T12:46:08.075Z"
   },
   {
    "duration": 514,
    "start_time": "2022-08-03T12:46:08.081Z"
   },
   {
    "duration": 28,
    "start_time": "2022-08-03T12:46:08.597Z"
   },
   {
    "duration": 22,
    "start_time": "2022-08-03T12:46:08.627Z"
   },
   {
    "duration": 17,
    "start_time": "2022-08-03T12:46:08.650Z"
   },
   {
    "duration": 214,
    "start_time": "2022-08-03T12:46:08.668Z"
   },
   {
    "duration": 6,
    "start_time": "2022-08-03T12:46:08.884Z"
   },
   {
    "duration": 380,
    "start_time": "2022-08-03T12:46:08.911Z"
   },
   {
    "duration": 24,
    "start_time": "2022-08-03T12:46:09.293Z"
   },
   {
    "duration": 364,
    "start_time": "2022-08-03T12:46:09.319Z"
   },
   {
    "duration": 34,
    "start_time": "2022-08-03T12:46:09.685Z"
   },
   {
    "duration": 1020,
    "start_time": "2022-08-03T12:47:16.742Z"
   },
   {
    "duration": 132,
    "start_time": "2022-08-03T12:47:17.764Z"
   },
   {
    "duration": 27,
    "start_time": "2022-08-03T12:47:17.897Z"
   },
   {
    "duration": 8,
    "start_time": "2022-08-03T12:47:17.927Z"
   },
   {
    "duration": 15,
    "start_time": "2022-08-03T12:47:17.937Z"
   },
   {
    "duration": 13,
    "start_time": "2022-08-03T12:47:17.954Z"
   },
   {
    "duration": 11,
    "start_time": "2022-08-03T12:47:17.969Z"
   },
   {
    "duration": 41,
    "start_time": "2022-08-03T12:47:17.982Z"
   },
   {
    "duration": 17,
    "start_time": "2022-08-03T12:47:18.025Z"
   },
   {
    "duration": 12,
    "start_time": "2022-08-03T12:47:18.045Z"
   },
   {
    "duration": 26,
    "start_time": "2022-08-03T12:47:18.058Z"
   },
   {
    "duration": 10,
    "start_time": "2022-08-03T12:47:18.086Z"
   },
   {
    "duration": 332,
    "start_time": "2022-08-03T12:47:18.110Z"
   },
   {
    "duration": 281,
    "start_time": "2022-08-03T12:47:18.443Z"
   },
   {
    "duration": 199,
    "start_time": "2022-08-03T12:47:18.726Z"
   },
   {
    "duration": 255,
    "start_time": "2022-08-03T12:47:18.927Z"
   },
   {
    "duration": 193,
    "start_time": "2022-08-03T12:47:19.183Z"
   },
   {
    "duration": 342,
    "start_time": "2022-08-03T12:47:19.378Z"
   },
   {
    "duration": 116,
    "start_time": "2022-08-03T12:47:19.721Z"
   },
   {
    "duration": 5,
    "start_time": "2022-08-03T12:47:19.839Z"
   },
   {
    "duration": 140,
    "start_time": "2022-08-03T12:47:19.845Z"
   },
   {
    "duration": 35,
    "start_time": "2022-08-03T12:47:19.987Z"
   },
   {
    "duration": 522,
    "start_time": "2022-08-03T12:47:20.026Z"
   },
   {
    "duration": 4,
    "start_time": "2022-08-03T12:47:20.550Z"
   },
   {
    "duration": 12,
    "start_time": "2022-08-03T12:47:20.555Z"
   },
   {
    "duration": 9,
    "start_time": "2022-08-03T12:47:20.569Z"
   },
   {
    "duration": 417,
    "start_time": "2022-08-03T12:47:20.580Z"
   },
   {
    "duration": 6,
    "start_time": "2022-08-03T12:47:21.019Z"
   },
   {
    "duration": 13,
    "start_time": "2022-08-03T12:47:21.027Z"
   },
   {
    "duration": 10,
    "start_time": "2022-08-03T12:47:21.041Z"
   },
   {
    "duration": 390,
    "start_time": "2022-08-03T12:47:21.052Z"
   },
   {
    "duration": 8,
    "start_time": "2022-08-03T12:47:21.443Z"
   },
   {
    "duration": 358,
    "start_time": "2022-08-03T12:51:00.592Z"
   },
   {
    "duration": 196,
    "start_time": "2022-08-03T12:51:20.526Z"
   },
   {
    "duration": 215,
    "start_time": "2022-08-03T12:51:24.654Z"
   },
   {
    "duration": 206,
    "start_time": "2022-08-03T12:51:34.122Z"
   },
   {
    "duration": 193,
    "start_time": "2022-08-03T12:51:41.320Z"
   },
   {
    "duration": 204,
    "start_time": "2022-08-03T12:52:12.450Z"
   },
   {
    "duration": 206,
    "start_time": "2022-08-03T12:52:27.930Z"
   },
   {
    "duration": 315,
    "start_time": "2022-08-03T12:52:46.693Z"
   },
   {
    "duration": 210,
    "start_time": "2022-08-03T12:52:56.363Z"
   },
   {
    "duration": 299,
    "start_time": "2022-08-03T12:53:09.621Z"
   },
   {
    "duration": 141,
    "start_time": "2022-08-03T12:53:22.925Z"
   },
   {
    "duration": 152,
    "start_time": "2022-08-03T12:53:56.525Z"
   },
   {
    "duration": 385,
    "start_time": "2022-08-03T13:27:11.773Z"
   },
   {
    "duration": 1088,
    "start_time": "2022-08-03T13:27:18.187Z"
   },
   {
    "duration": 147,
    "start_time": "2022-08-03T13:27:19.277Z"
   },
   {
    "duration": 13,
    "start_time": "2022-08-03T13:27:19.426Z"
   },
   {
    "duration": 3,
    "start_time": "2022-08-03T13:27:19.441Z"
   },
   {
    "duration": 12,
    "start_time": "2022-08-03T13:27:19.446Z"
   },
   {
    "duration": 11,
    "start_time": "2022-08-03T13:27:19.460Z"
   },
   {
    "duration": 10,
    "start_time": "2022-08-03T13:27:19.472Z"
   },
   {
    "duration": 38,
    "start_time": "2022-08-03T13:27:19.483Z"
   },
   {
    "duration": 19,
    "start_time": "2022-08-03T13:27:19.523Z"
   },
   {
    "duration": 7,
    "start_time": "2022-08-03T13:27:19.546Z"
   },
   {
    "duration": 12,
    "start_time": "2022-08-03T13:27:19.555Z"
   },
   {
    "duration": 10,
    "start_time": "2022-08-03T13:27:19.568Z"
   },
   {
    "duration": 337,
    "start_time": "2022-08-03T13:27:19.579Z"
   },
   {
    "duration": 310,
    "start_time": "2022-08-03T13:27:19.917Z"
   },
   {
    "duration": 208,
    "start_time": "2022-08-03T13:27:20.229Z"
   },
   {
    "duration": 290,
    "start_time": "2022-08-03T13:27:20.438Z"
   },
   {
    "duration": 226,
    "start_time": "2022-08-03T13:27:20.730Z"
   },
   {
    "duration": 308,
    "start_time": "2022-08-03T13:27:20.957Z"
   },
   {
    "duration": 145,
    "start_time": "2022-08-03T13:27:21.266Z"
   },
   {
    "duration": 5,
    "start_time": "2022-08-03T13:27:21.412Z"
   },
   {
    "duration": 163,
    "start_time": "2022-08-03T13:27:21.418Z"
   },
   {
    "duration": 5,
    "start_time": "2022-08-03T13:27:21.582Z"
   },
   {
    "duration": 544,
    "start_time": "2022-08-03T13:27:21.589Z"
   },
   {
    "duration": 7,
    "start_time": "2022-08-03T13:27:22.134Z"
   },
   {
    "duration": 15,
    "start_time": "2022-08-03T13:27:22.143Z"
   },
   {
    "duration": 6,
    "start_time": "2022-08-03T13:27:22.160Z"
   },
   {
    "duration": 399,
    "start_time": "2022-08-03T13:27:22.167Z"
   },
   {
    "duration": 5,
    "start_time": "2022-08-03T13:27:22.568Z"
   },
   {
    "duration": 13,
    "start_time": "2022-08-03T13:27:22.574Z"
   },
   {
    "duration": 20,
    "start_time": "2022-08-03T13:27:22.601Z"
   },
   {
    "duration": 240,
    "start_time": "2022-08-03T13:28:04.327Z"
   },
   {
    "duration": 267,
    "start_time": "2022-08-03T13:28:40.656Z"
   },
   {
    "duration": 339,
    "start_time": "2022-08-03T13:29:00.977Z"
   },
   {
    "duration": 236,
    "start_time": "2022-08-03T13:29:15.598Z"
   },
   {
    "duration": 307,
    "start_time": "2022-08-03T13:29:32.513Z"
   },
   {
    "duration": 140,
    "start_time": "2022-08-03T13:29:47.118Z"
   },
   {
    "duration": 151,
    "start_time": "2022-08-03T13:30:09.826Z"
   },
   {
    "duration": 46,
    "start_time": "2022-08-03T13:41:19.170Z"
   },
   {
    "duration": 981,
    "start_time": "2022-08-03T13:41:39.467Z"
   },
   {
    "duration": 144,
    "start_time": "2022-08-03T13:41:40.450Z"
   },
   {
    "duration": 28,
    "start_time": "2022-08-03T13:41:40.595Z"
   },
   {
    "duration": 17,
    "start_time": "2022-08-03T13:41:40.625Z"
   },
   {
    "duration": 20,
    "start_time": "2022-08-03T13:41:40.644Z"
   },
   {
    "duration": 10,
    "start_time": "2022-08-03T13:41:40.665Z"
   },
   {
    "duration": 18,
    "start_time": "2022-08-03T13:41:40.677Z"
   },
   {
    "duration": 40,
    "start_time": "2022-08-03T13:41:40.697Z"
   },
   {
    "duration": 20,
    "start_time": "2022-08-03T13:41:40.739Z"
   },
   {
    "duration": 7,
    "start_time": "2022-08-03T13:41:40.760Z"
   },
   {
    "duration": 15,
    "start_time": "2022-08-03T13:41:40.769Z"
   },
   {
    "duration": 10,
    "start_time": "2022-08-03T13:41:40.786Z"
   },
   {
    "duration": 339,
    "start_time": "2022-08-03T13:41:40.808Z"
   },
   {
    "duration": 304,
    "start_time": "2022-08-03T13:41:41.150Z"
   },
   {
    "duration": 207,
    "start_time": "2022-08-03T13:41:41.456Z"
   },
   {
    "duration": 303,
    "start_time": "2022-08-03T13:41:41.665Z"
   },
   {
    "duration": 215,
    "start_time": "2022-08-03T13:41:41.970Z"
   },
   {
    "duration": 344,
    "start_time": "2022-08-03T13:41:42.187Z"
   },
   {
    "duration": 135,
    "start_time": "2022-08-03T13:41:42.532Z"
   },
   {
    "duration": 5,
    "start_time": "2022-08-03T13:41:42.668Z"
   },
   {
    "duration": 183,
    "start_time": "2022-08-03T13:41:42.674Z"
   },
   {
    "duration": 5,
    "start_time": "2022-08-03T13:41:42.858Z"
   },
   {
    "duration": 527,
    "start_time": "2022-08-03T13:41:42.864Z"
   },
   {
    "duration": 22,
    "start_time": "2022-08-03T13:41:43.398Z"
   },
   {
    "duration": 16,
    "start_time": "2022-08-03T13:41:43.421Z"
   },
   {
    "duration": 7,
    "start_time": "2022-08-03T13:41:43.438Z"
   },
   {
    "duration": 34,
    "start_time": "2022-08-03T13:41:43.447Z"
   },
   {
    "duration": 4,
    "start_time": "2022-08-03T13:41:43.482Z"
   },
   {
    "duration": 33,
    "start_time": "2022-08-03T13:41:43.487Z"
   },
   {
    "duration": 8,
    "start_time": "2022-08-03T13:41:43.524Z"
   },
   {
    "duration": 50,
    "start_time": "2022-08-03T13:42:14.978Z"
   },
   {
    "duration": 1227,
    "start_time": "2022-08-03T14:16:45.381Z"
   },
   {
    "duration": 245,
    "start_time": "2022-08-03T14:16:46.610Z"
   },
   {
    "duration": 12,
    "start_time": "2022-08-03T14:16:46.857Z"
   },
   {
    "duration": 4,
    "start_time": "2022-08-03T14:16:46.870Z"
   },
   {
    "duration": 16,
    "start_time": "2022-08-03T14:16:46.876Z"
   },
   {
    "duration": 9,
    "start_time": "2022-08-03T14:16:46.894Z"
   },
   {
    "duration": 8,
    "start_time": "2022-08-03T14:16:46.905Z"
   },
   {
    "duration": 14,
    "start_time": "2022-08-03T14:16:46.915Z"
   },
   {
    "duration": 16,
    "start_time": "2022-08-03T14:16:46.930Z"
   },
   {
    "duration": 6,
    "start_time": "2022-08-03T14:16:46.948Z"
   },
   {
    "duration": 11,
    "start_time": "2022-08-03T14:16:46.955Z"
   },
   {
    "duration": 34,
    "start_time": "2022-08-03T14:16:46.967Z"
   },
   {
    "duration": 285,
    "start_time": "2022-08-03T14:16:47.002Z"
   },
   {
    "duration": 261,
    "start_time": "2022-08-03T14:16:47.290Z"
   },
   {
    "duration": 182,
    "start_time": "2022-08-03T14:16:47.552Z"
   },
   {
    "duration": 295,
    "start_time": "2022-08-03T14:16:47.736Z"
   },
   {
    "duration": 198,
    "start_time": "2022-08-03T14:16:48.033Z"
   },
   {
    "duration": 273,
    "start_time": "2022-08-03T14:16:48.233Z"
   },
   {
    "duration": 126,
    "start_time": "2022-08-03T14:16:48.507Z"
   },
   {
    "duration": 5,
    "start_time": "2022-08-03T14:16:48.635Z"
   },
   {
    "duration": 138,
    "start_time": "2022-08-03T14:16:48.642Z"
   },
   {
    "duration": 6,
    "start_time": "2022-08-03T14:16:48.782Z"
   },
   {
    "duration": 450,
    "start_time": "2022-08-03T14:16:48.799Z"
   },
   {
    "duration": 4,
    "start_time": "2022-08-03T14:16:49.250Z"
   },
   {
    "duration": 10,
    "start_time": "2022-08-03T14:16:49.255Z"
   },
   {
    "duration": 6,
    "start_time": "2022-08-03T14:16:49.266Z"
   },
   {
    "duration": 48,
    "start_time": "2022-08-03T14:16:49.273Z"
   },
   {
    "duration": 4,
    "start_time": "2022-08-03T14:16:49.323Z"
   },
   {
    "duration": 11,
    "start_time": "2022-08-03T14:16:49.328Z"
   },
   {
    "duration": 8,
    "start_time": "2022-08-03T14:16:49.340Z"
   },
   {
    "duration": 987,
    "start_time": "2022-08-03T14:17:12.724Z"
   },
   {
    "duration": 131,
    "start_time": "2022-08-03T14:17:13.713Z"
   },
   {
    "duration": 11,
    "start_time": "2022-08-03T14:17:13.846Z"
   },
   {
    "duration": 5,
    "start_time": "2022-08-03T14:17:13.859Z"
   },
   {
    "duration": 22,
    "start_time": "2022-08-03T14:17:13.866Z"
   },
   {
    "duration": 9,
    "start_time": "2022-08-03T14:17:13.890Z"
   },
   {
    "duration": 10,
    "start_time": "2022-08-03T14:17:13.900Z"
   },
   {
    "duration": 19,
    "start_time": "2022-08-03T14:17:13.912Z"
   },
   {
    "duration": 31,
    "start_time": "2022-08-03T14:17:13.933Z"
   },
   {
    "duration": 7,
    "start_time": "2022-08-03T14:17:13.965Z"
   },
   {
    "duration": 13,
    "start_time": "2022-08-03T14:17:13.973Z"
   },
   {
    "duration": 15,
    "start_time": "2022-08-03T14:17:13.987Z"
   },
   {
    "duration": 292,
    "start_time": "2022-08-03T14:17:14.004Z"
   },
   {
    "duration": 261,
    "start_time": "2022-08-03T14:17:14.299Z"
   },
   {
    "duration": 184,
    "start_time": "2022-08-03T14:17:14.562Z"
   },
   {
    "duration": 274,
    "start_time": "2022-08-03T14:17:14.747Z"
   },
   {
    "duration": 195,
    "start_time": "2022-08-03T14:17:15.023Z"
   },
   {
    "duration": 289,
    "start_time": "2022-08-03T14:17:15.220Z"
   },
   {
    "duration": 123,
    "start_time": "2022-08-03T14:17:15.511Z"
   },
   {
    "duration": 4,
    "start_time": "2022-08-03T14:17:15.636Z"
   },
   {
    "duration": 142,
    "start_time": "2022-08-03T14:17:15.642Z"
   },
   {
    "duration": 16,
    "start_time": "2022-08-03T14:17:15.786Z"
   },
   {
    "duration": 486,
    "start_time": "2022-08-03T14:17:15.803Z"
   },
   {
    "duration": 11,
    "start_time": "2022-08-03T14:17:16.290Z"
   },
   {
    "duration": 17,
    "start_time": "2022-08-03T14:17:16.302Z"
   },
   {
    "duration": 12,
    "start_time": "2022-08-03T14:17:16.321Z"
   },
   {
    "duration": 39,
    "start_time": "2022-08-03T14:17:16.335Z"
   },
   {
    "duration": 6,
    "start_time": "2022-08-03T14:17:16.375Z"
   },
   {
    "duration": 54,
    "start_time": "2022-08-03T14:17:16.383Z"
   },
   {
    "duration": 58,
    "start_time": "2022-08-03T14:17:16.439Z"
   },
   {
    "duration": 992,
    "start_time": "2022-08-03T14:20:06.324Z"
   },
   {
    "duration": 144,
    "start_time": "2022-08-03T14:20:07.318Z"
   },
   {
    "duration": 11,
    "start_time": "2022-08-03T14:20:07.464Z"
   },
   {
    "duration": 22,
    "start_time": "2022-08-03T14:20:07.477Z"
   },
   {
    "duration": 34,
    "start_time": "2022-08-03T14:20:07.501Z"
   },
   {
    "duration": 35,
    "start_time": "2022-08-03T14:20:07.536Z"
   },
   {
    "duration": 37,
    "start_time": "2022-08-03T14:20:07.573Z"
   },
   {
    "duration": 48,
    "start_time": "2022-08-03T14:20:07.611Z"
   },
   {
    "duration": 39,
    "start_time": "2022-08-03T14:20:07.661Z"
   },
   {
    "duration": 30,
    "start_time": "2022-08-03T14:20:07.703Z"
   },
   {
    "duration": 30,
    "start_time": "2022-08-03T14:20:07.734Z"
   },
   {
    "duration": 29,
    "start_time": "2022-08-03T14:20:07.765Z"
   },
   {
    "duration": 310,
    "start_time": "2022-08-03T14:20:07.796Z"
   },
   {
    "duration": 258,
    "start_time": "2022-08-03T14:20:08.107Z"
   },
   {
    "duration": 181,
    "start_time": "2022-08-03T14:20:08.367Z"
   },
   {
    "duration": 253,
    "start_time": "2022-08-03T14:20:08.550Z"
   },
   {
    "duration": 184,
    "start_time": "2022-08-03T14:20:08.805Z"
   },
   {
    "duration": 315,
    "start_time": "2022-08-03T14:20:08.991Z"
   },
   {
    "duration": 146,
    "start_time": "2022-08-03T14:20:09.308Z"
   },
   {
    "duration": 5,
    "start_time": "2022-08-03T14:20:09.456Z"
   },
   {
    "duration": 159,
    "start_time": "2022-08-03T14:20:09.462Z"
   },
   {
    "duration": 5,
    "start_time": "2022-08-03T14:20:09.623Z"
   },
   {
    "duration": 461,
    "start_time": "2022-08-03T14:20:09.629Z"
   },
   {
    "duration": 9,
    "start_time": "2022-08-03T14:20:10.091Z"
   },
   {
    "duration": 9,
    "start_time": "2022-08-03T14:20:10.102Z"
   },
   {
    "duration": 9,
    "start_time": "2022-08-03T14:20:10.113Z"
   },
   {
    "duration": 29,
    "start_time": "2022-08-03T14:20:10.124Z"
   },
   {
    "duration": 4,
    "start_time": "2022-08-03T14:20:10.156Z"
   },
   {
    "duration": 17,
    "start_time": "2022-08-03T14:20:10.161Z"
   },
   {
    "duration": 8,
    "start_time": "2022-08-03T14:20:10.200Z"
   },
   {
    "duration": 45,
    "start_time": "2022-08-04T09:12:37.669Z"
   },
   {
    "duration": 1115,
    "start_time": "2022-08-04T09:12:49.379Z"
   },
   {
    "duration": 285,
    "start_time": "2022-08-04T09:12:50.495Z"
   },
   {
    "duration": 10,
    "start_time": "2022-08-04T09:12:50.782Z"
   },
   {
    "duration": 8,
    "start_time": "2022-08-04T09:12:50.793Z"
   },
   {
    "duration": 14,
    "start_time": "2022-08-04T09:12:50.803Z"
   },
   {
    "duration": 10,
    "start_time": "2022-08-04T09:12:50.818Z"
   },
   {
    "duration": 9,
    "start_time": "2022-08-04T09:12:50.829Z"
   },
   {
    "duration": 16,
    "start_time": "2022-08-04T09:12:50.840Z"
   },
   {
    "duration": 20,
    "start_time": "2022-08-04T09:12:50.857Z"
   },
   {
    "duration": 6,
    "start_time": "2022-08-04T09:12:50.879Z"
   },
   {
    "duration": 24,
    "start_time": "2022-08-04T09:12:50.886Z"
   },
   {
    "duration": 15,
    "start_time": "2022-08-04T09:12:50.911Z"
   },
   {
    "duration": 284,
    "start_time": "2022-08-04T09:12:50.928Z"
   },
   {
    "duration": 316,
    "start_time": "2022-08-04T09:12:51.214Z"
   },
   {
    "duration": 171,
    "start_time": "2022-08-04T09:12:51.531Z"
   },
   {
    "duration": 304,
    "start_time": "2022-08-04T09:12:51.704Z"
   },
   {
    "duration": 180,
    "start_time": "2022-08-04T09:12:52.009Z"
   },
   {
    "duration": 256,
    "start_time": "2022-08-04T09:12:52.190Z"
   },
   {
    "duration": 118,
    "start_time": "2022-08-04T09:12:52.448Z"
   },
   {
    "duration": 5,
    "start_time": "2022-08-04T09:12:52.568Z"
   },
   {
    "duration": 155,
    "start_time": "2022-08-04T09:12:52.575Z"
   },
   {
    "duration": 5,
    "start_time": "2022-08-04T09:12:52.732Z"
   },
   {
    "duration": 433,
    "start_time": "2022-08-04T09:12:52.739Z"
   },
   {
    "duration": 4,
    "start_time": "2022-08-04T09:12:53.173Z"
   },
   {
    "duration": 24,
    "start_time": "2022-08-04T09:12:53.178Z"
   },
   {
    "duration": 21,
    "start_time": "2022-08-04T09:12:53.203Z"
   },
   {
    "duration": 46,
    "start_time": "2022-08-04T09:12:53.226Z"
   },
   {
    "duration": 3,
    "start_time": "2022-08-04T09:12:53.274Z"
   },
   {
    "duration": 27,
    "start_time": "2022-08-04T09:12:53.278Z"
   },
   {
    "duration": 41,
    "start_time": "2022-08-04T09:12:53.306Z"
   },
   {
    "duration": 174,
    "start_time": "2022-08-04T09:14:59.431Z"
   },
   {
    "duration": 254,
    "start_time": "2022-08-04T09:15:48.274Z"
   },
   {
    "duration": 187,
    "start_time": "2022-08-04T09:16:03.729Z"
   },
   {
    "duration": 198,
    "start_time": "2022-08-04T09:17:06.140Z"
   },
   {
    "duration": 174,
    "start_time": "2022-08-04T09:17:19.352Z"
   },
   {
    "duration": 246,
    "start_time": "2022-08-04T09:19:03.227Z"
   },
   {
    "duration": 171,
    "start_time": "2022-08-04T09:19:31.733Z"
   },
   {
    "duration": 179,
    "start_time": "2022-08-04T09:19:48.122Z"
   },
   {
    "duration": 208,
    "start_time": "2022-08-04T09:20:09.098Z"
   },
   {
    "duration": 214,
    "start_time": "2022-08-04T09:20:19.572Z"
   },
   {
    "duration": 202,
    "start_time": "2022-08-04T09:20:38.447Z"
   },
   {
    "duration": 238,
    "start_time": "2022-08-04T09:21:16.596Z"
   },
   {
    "duration": 279,
    "start_time": "2022-08-04T09:21:28.532Z"
   },
   {
    "duration": 204,
    "start_time": "2022-08-04T09:21:33.697Z"
   },
   {
    "duration": 333,
    "start_time": "2022-08-04T09:22:35.343Z"
   },
   {
    "duration": 290,
    "start_time": "2022-08-04T09:22:39.798Z"
   },
   {
    "duration": 294,
    "start_time": "2022-08-04T09:24:12.376Z"
   },
   {
    "duration": 992,
    "start_time": "2022-08-04T09:29:58.229Z"
   },
   {
    "duration": 119,
    "start_time": "2022-08-04T09:29:59.222Z"
   },
   {
    "duration": 10,
    "start_time": "2022-08-04T09:29:59.342Z"
   },
   {
    "duration": 22,
    "start_time": "2022-08-04T09:29:59.354Z"
   },
   {
    "duration": 27,
    "start_time": "2022-08-04T09:29:59.378Z"
   },
   {
    "duration": 12,
    "start_time": "2022-08-04T09:29:59.407Z"
   },
   {
    "duration": 16,
    "start_time": "2022-08-04T09:29:59.420Z"
   },
   {
    "duration": 15,
    "start_time": "2022-08-04T09:29:59.437Z"
   },
   {
    "duration": 18,
    "start_time": "2022-08-04T09:29:59.453Z"
   },
   {
    "duration": 7,
    "start_time": "2022-08-04T09:29:59.473Z"
   },
   {
    "duration": 10,
    "start_time": "2022-08-04T09:29:59.481Z"
   },
   {
    "duration": 23,
    "start_time": "2022-08-04T09:29:59.492Z"
   },
   {
    "duration": 266,
    "start_time": "2022-08-04T09:29:59.516Z"
   },
   {
    "duration": 280,
    "start_time": "2022-08-04T09:29:59.783Z"
   },
   {
    "duration": 223,
    "start_time": "2022-08-04T09:30:00.064Z"
   },
   {
    "duration": 289,
    "start_time": "2022-08-04T09:30:00.289Z"
   },
   {
    "duration": 220,
    "start_time": "2022-08-04T09:30:00.579Z"
   },
   {
    "duration": 260,
    "start_time": "2022-08-04T09:30:00.801Z"
   },
   {
    "duration": 122,
    "start_time": "2022-08-04T09:30:01.062Z"
   },
   {
    "duration": 5,
    "start_time": "2022-08-04T09:30:01.185Z"
   },
   {
    "duration": 140,
    "start_time": "2022-08-04T09:30:01.191Z"
   },
   {
    "duration": 5,
    "start_time": "2022-08-04T09:30:01.333Z"
   },
   {
    "duration": 454,
    "start_time": "2022-08-04T09:30:01.339Z"
   },
   {
    "duration": 5,
    "start_time": "2022-08-04T09:30:01.794Z"
   },
   {
    "duration": 32,
    "start_time": "2022-08-04T09:30:01.800Z"
   },
   {
    "duration": 15,
    "start_time": "2022-08-04T09:30:01.833Z"
   },
   {
    "duration": 48,
    "start_time": "2022-08-04T09:30:01.849Z"
   },
   {
    "duration": 3,
    "start_time": "2022-08-04T09:30:01.900Z"
   },
   {
    "duration": 13,
    "start_time": "2022-08-04T09:30:01.905Z"
   },
   {
    "duration": 16,
    "start_time": "2022-08-04T09:30:01.919Z"
   },
   {
    "duration": 309,
    "start_time": "2022-08-04T09:35:26.056Z"
   },
   {
    "duration": 402,
    "start_time": "2022-08-04T09:35:30.561Z"
   },
   {
    "duration": 135,
    "start_time": "2022-08-04T09:36:43.691Z"
   },
   {
    "duration": 140,
    "start_time": "2022-08-04T09:36:50.026Z"
   },
   {
    "duration": 134,
    "start_time": "2022-08-04T09:37:29.433Z"
   },
   {
    "duration": 155,
    "start_time": "2022-08-04T09:37:33.259Z"
   },
   {
    "duration": 154,
    "start_time": "2022-08-04T09:39:53.529Z"
   },
   {
    "duration": 162,
    "start_time": "2022-08-04T09:40:06.739Z"
   },
   {
    "duration": 976,
    "start_time": "2022-08-04T09:40:22.867Z"
   },
   {
    "duration": 123,
    "start_time": "2022-08-04T09:40:23.845Z"
   },
   {
    "duration": 10,
    "start_time": "2022-08-04T09:40:23.970Z"
   },
   {
    "duration": 3,
    "start_time": "2022-08-04T09:40:23.981Z"
   },
   {
    "duration": 13,
    "start_time": "2022-08-04T09:40:23.985Z"
   },
   {
    "duration": 9,
    "start_time": "2022-08-04T09:40:24.000Z"
   },
   {
    "duration": 9,
    "start_time": "2022-08-04T09:40:24.010Z"
   },
   {
    "duration": 11,
    "start_time": "2022-08-04T09:40:24.020Z"
   },
   {
    "duration": 23,
    "start_time": "2022-08-04T09:40:24.033Z"
   },
   {
    "duration": 5,
    "start_time": "2022-08-04T09:40:24.057Z"
   },
   {
    "duration": 10,
    "start_time": "2022-08-04T09:40:24.064Z"
   },
   {
    "duration": 5,
    "start_time": "2022-08-04T09:40:24.075Z"
   },
   {
    "duration": 289,
    "start_time": "2022-08-04T09:40:24.082Z"
   },
   {
    "duration": 278,
    "start_time": "2022-08-04T09:40:24.373Z"
   },
   {
    "duration": 205,
    "start_time": "2022-08-04T09:40:24.654Z"
   },
   {
    "duration": 307,
    "start_time": "2022-08-04T09:40:24.861Z"
   },
   {
    "duration": 271,
    "start_time": "2022-08-04T09:40:25.169Z"
   },
   {
    "duration": 331,
    "start_time": "2022-08-04T09:40:25.442Z"
   },
   {
    "duration": 161,
    "start_time": "2022-08-04T09:40:25.775Z"
   },
   {
    "duration": 5,
    "start_time": "2022-08-04T09:40:25.938Z"
   },
   {
    "duration": 157,
    "start_time": "2022-08-04T09:40:25.956Z"
   },
   {
    "duration": 173,
    "start_time": "2022-08-04T09:40:26.114Z"
   },
   {
    "duration": 5,
    "start_time": "2022-08-04T09:40:26.289Z"
   },
   {
    "duration": 453,
    "start_time": "2022-08-04T09:40:26.296Z"
   },
   {
    "duration": 5,
    "start_time": "2022-08-04T09:40:26.754Z"
   },
   {
    "duration": 12,
    "start_time": "2022-08-04T09:40:26.761Z"
   },
   {
    "duration": 8,
    "start_time": "2022-08-04T09:40:26.774Z"
   },
   {
    "duration": 35,
    "start_time": "2022-08-04T09:40:26.783Z"
   },
   {
    "duration": 4,
    "start_time": "2022-08-04T09:40:26.819Z"
   },
   {
    "duration": 15,
    "start_time": "2022-08-04T09:40:26.824Z"
   },
   {
    "duration": 9,
    "start_time": "2022-08-04T09:40:26.855Z"
   },
   {
    "duration": 222,
    "start_time": "2022-08-04T09:41:01.951Z"
   },
   {
    "duration": 198,
    "start_time": "2022-08-04T09:41:10.551Z"
   },
   {
    "duration": 126,
    "start_time": "2022-08-04T09:41:55.088Z"
   },
   {
    "duration": 170,
    "start_time": "2022-08-04T09:42:11.199Z"
   },
   {
    "duration": 135,
    "start_time": "2022-08-04T09:42:26.819Z"
   },
   {
    "duration": 178,
    "start_time": "2022-08-04T09:42:38.754Z"
   },
   {
    "duration": 153,
    "start_time": "2022-08-04T09:42:51.510Z"
   },
   {
    "duration": 164,
    "start_time": "2022-08-04T09:43:20.319Z"
   },
   {
    "duration": 149,
    "start_time": "2022-08-04T09:44:28.676Z"
   },
   {
    "duration": 172,
    "start_time": "2022-08-04T09:44:37.851Z"
   },
   {
    "duration": 153,
    "start_time": "2022-08-04T09:44:46.901Z"
   },
   {
    "duration": 163,
    "start_time": "2022-08-04T09:45:25.588Z"
   },
   {
    "duration": 172,
    "start_time": "2022-08-04T09:45:37.769Z"
   },
   {
    "duration": 235,
    "start_time": "2022-08-04T09:45:45.970Z"
   },
   {
    "duration": 165,
    "start_time": "2022-08-04T09:45:52.117Z"
   },
   {
    "duration": 160,
    "start_time": "2022-08-04T09:46:01.753Z"
   },
   {
    "duration": 58,
    "start_time": "2022-08-05T09:46:39.024Z"
   },
   {
    "duration": 1238,
    "start_time": "2022-08-05T09:46:45.877Z"
   },
   {
    "duration": 255,
    "start_time": "2022-08-05T09:46:47.118Z"
   },
   {
    "duration": 16,
    "start_time": "2022-08-05T09:46:47.375Z"
   },
   {
    "duration": 4,
    "start_time": "2022-08-05T09:46:47.393Z"
   },
   {
    "duration": 16,
    "start_time": "2022-08-05T09:46:47.399Z"
   },
   {
    "duration": 15,
    "start_time": "2022-08-05T09:46:47.416Z"
   },
   {
    "duration": 33,
    "start_time": "2022-08-05T09:46:47.433Z"
   },
   {
    "duration": 23,
    "start_time": "2022-08-05T09:46:47.467Z"
   },
   {
    "duration": 25,
    "start_time": "2022-08-05T09:46:47.492Z"
   },
   {
    "duration": 10,
    "start_time": "2022-08-05T09:46:47.520Z"
   },
   {
    "duration": 12,
    "start_time": "2022-08-05T09:46:47.532Z"
   },
   {
    "duration": 9,
    "start_time": "2022-08-05T09:46:47.546Z"
   },
   {
    "duration": 318,
    "start_time": "2022-08-05T09:46:47.557Z"
   },
   {
    "duration": 368,
    "start_time": "2022-08-05T09:46:47.877Z"
   },
   {
    "duration": 264,
    "start_time": "2022-08-05T09:46:48.247Z"
   },
   {
    "duration": 399,
    "start_time": "2022-08-05T09:46:48.513Z"
   },
   {
    "duration": 279,
    "start_time": "2022-08-05T09:46:48.916Z"
   },
   {
    "duration": 365,
    "start_time": "2022-08-05T09:46:49.197Z"
   },
   {
    "duration": 169,
    "start_time": "2022-08-05T09:46:49.564Z"
   },
   {
    "duration": 5,
    "start_time": "2022-08-05T09:46:49.735Z"
   },
   {
    "duration": 209,
    "start_time": "2022-08-05T09:46:49.741Z"
   },
   {
    "duration": 216,
    "start_time": "2022-08-05T09:46:49.952Z"
   },
   {
    "duration": 5,
    "start_time": "2022-08-05T09:46:50.170Z"
   },
   {
    "duration": 15,
    "start_time": "2022-08-05T09:46:50.177Z"
   },
   {
    "duration": 562,
    "start_time": "2022-08-05T09:46:50.193Z"
   },
   {
    "duration": 6,
    "start_time": "2022-08-05T09:46:50.757Z"
   },
   {
    "duration": 13,
    "start_time": "2022-08-05T09:46:50.765Z"
   },
   {
    "duration": 30,
    "start_time": "2022-08-05T09:46:50.782Z"
   },
   {
    "duration": 33,
    "start_time": "2022-08-05T09:46:50.814Z"
   },
   {
    "duration": 5,
    "start_time": "2022-08-05T09:46:50.850Z"
   },
   {
    "duration": 20,
    "start_time": "2022-08-05T09:46:50.856Z"
   },
   {
    "duration": 16,
    "start_time": "2022-08-05T09:46:50.878Z"
   },
   {
    "duration": 14,
    "start_time": "2022-08-05T10:02:22.661Z"
   },
   {
    "duration": 10,
    "start_time": "2022-08-05T10:02:59.532Z"
   },
   {
    "duration": 12,
    "start_time": "2022-08-05T10:03:09.952Z"
   },
   {
    "duration": 9,
    "start_time": "2022-08-05T10:04:09.610Z"
   },
   {
    "duration": 6,
    "start_time": "2022-08-05T10:04:13.344Z"
   },
   {
    "duration": 7,
    "start_time": "2022-08-05T10:04:21.399Z"
   },
   {
    "duration": 8,
    "start_time": "2022-08-05T10:04:45.342Z"
   },
   {
    "duration": 1045,
    "start_time": "2022-08-05T10:04:50.678Z"
   },
   {
    "duration": 113,
    "start_time": "2022-08-05T10:04:51.725Z"
   },
   {
    "duration": 11,
    "start_time": "2022-08-05T10:04:51.840Z"
   },
   {
    "duration": 20,
    "start_time": "2022-08-05T10:04:51.853Z"
   },
   {
    "duration": 18,
    "start_time": "2022-08-05T10:04:51.874Z"
   },
   {
    "duration": 18,
    "start_time": "2022-08-05T10:04:51.894Z"
   },
   {
    "duration": 49,
    "start_time": "2022-08-05T10:04:51.913Z"
   },
   {
    "duration": 37,
    "start_time": "2022-08-05T10:04:51.963Z"
   },
   {
    "duration": 42,
    "start_time": "2022-08-05T10:04:52.001Z"
   },
   {
    "duration": 37,
    "start_time": "2022-08-05T10:04:52.046Z"
   },
   {
    "duration": 33,
    "start_time": "2022-08-05T10:04:52.085Z"
   },
   {
    "duration": 26,
    "start_time": "2022-08-05T10:04:52.120Z"
   },
   {
    "duration": 290,
    "start_time": "2022-08-05T10:04:52.148Z"
   },
   {
    "duration": 396,
    "start_time": "2022-08-05T10:04:52.440Z"
   },
   {
    "duration": 237,
    "start_time": "2022-08-05T10:04:52.838Z"
   },
   {
    "duration": 355,
    "start_time": "2022-08-05T10:04:53.077Z"
   },
   {
    "duration": 244,
    "start_time": "2022-08-05T10:04:53.434Z"
   },
   {
    "duration": 363,
    "start_time": "2022-08-05T10:04:53.680Z"
   },
   {
    "duration": 174,
    "start_time": "2022-08-05T10:04:54.045Z"
   },
   {
    "duration": 5,
    "start_time": "2022-08-05T10:04:54.220Z"
   },
   {
    "duration": 186,
    "start_time": "2022-08-05T10:04:54.226Z"
   },
   {
    "duration": 175,
    "start_time": "2022-08-05T10:04:54.413Z"
   },
   {
    "duration": 5,
    "start_time": "2022-08-05T10:04:54.590Z"
   },
   {
    "duration": 32,
    "start_time": "2022-08-05T10:04:54.597Z"
   },
   {
    "duration": 1404,
    "start_time": "2022-08-05T10:04:54.631Z"
   },
   {
    "duration": 0,
    "start_time": "2022-08-05T10:04:56.036Z"
   },
   {
    "duration": 0,
    "start_time": "2022-08-05T10:04:56.038Z"
   },
   {
    "duration": 0,
    "start_time": "2022-08-05T10:04:56.039Z"
   },
   {
    "duration": 0,
    "start_time": "2022-08-05T10:04:56.040Z"
   },
   {
    "duration": 0,
    "start_time": "2022-08-05T10:04:56.041Z"
   },
   {
    "duration": 0,
    "start_time": "2022-08-05T10:04:56.041Z"
   },
   {
    "duration": 0,
    "start_time": "2022-08-05T10:04:56.042Z"
   },
   {
    "duration": 9,
    "start_time": "2022-08-05T10:06:13.102Z"
   },
   {
    "duration": 1031,
    "start_time": "2022-08-05T10:06:18.578Z"
   },
   {
    "duration": 128,
    "start_time": "2022-08-05T10:06:19.611Z"
   },
   {
    "duration": 12,
    "start_time": "2022-08-05T10:06:19.740Z"
   },
   {
    "duration": 7,
    "start_time": "2022-08-05T10:06:19.754Z"
   },
   {
    "duration": 14,
    "start_time": "2022-08-05T10:06:19.762Z"
   },
   {
    "duration": 10,
    "start_time": "2022-08-05T10:06:19.777Z"
   },
   {
    "duration": 16,
    "start_time": "2022-08-05T10:06:19.789Z"
   },
   {
    "duration": 12,
    "start_time": "2022-08-05T10:06:19.807Z"
   },
   {
    "duration": 20,
    "start_time": "2022-08-05T10:06:19.821Z"
   },
   {
    "duration": 9,
    "start_time": "2022-08-05T10:06:19.843Z"
   },
   {
    "duration": 12,
    "start_time": "2022-08-05T10:06:19.853Z"
   },
   {
    "duration": 11,
    "start_time": "2022-08-05T10:06:19.866Z"
   },
   {
    "duration": 299,
    "start_time": "2022-08-05T10:06:19.879Z"
   },
   {
    "duration": 304,
    "start_time": "2022-08-05T10:06:20.180Z"
   },
   {
    "duration": 240,
    "start_time": "2022-08-05T10:06:20.485Z"
   },
   {
    "duration": 323,
    "start_time": "2022-08-05T10:06:20.726Z"
   },
   {
    "duration": 242,
    "start_time": "2022-08-05T10:06:21.050Z"
   },
   {
    "duration": 356,
    "start_time": "2022-08-05T10:06:21.293Z"
   },
   {
    "duration": 166,
    "start_time": "2022-08-05T10:06:21.650Z"
   },
   {
    "duration": 6,
    "start_time": "2022-08-05T10:06:21.818Z"
   },
   {
    "duration": 215,
    "start_time": "2022-08-05T10:06:21.826Z"
   },
   {
    "duration": 182,
    "start_time": "2022-08-05T10:06:22.043Z"
   },
   {
    "duration": 5,
    "start_time": "2022-08-05T10:06:22.227Z"
   },
   {
    "duration": 18,
    "start_time": "2022-08-05T10:06:22.234Z"
   },
   {
    "duration": 142,
    "start_time": "2022-08-05T10:06:22.254Z"
   },
   {
    "duration": 0,
    "start_time": "2022-08-05T10:06:22.398Z"
   },
   {
    "duration": 0,
    "start_time": "2022-08-05T10:06:22.400Z"
   },
   {
    "duration": 0,
    "start_time": "2022-08-05T10:06:22.414Z"
   },
   {
    "duration": 0,
    "start_time": "2022-08-05T10:06:22.415Z"
   },
   {
    "duration": 0,
    "start_time": "2022-08-05T10:06:22.417Z"
   },
   {
    "duration": 0,
    "start_time": "2022-08-05T10:06:22.419Z"
   },
   {
    "duration": 0,
    "start_time": "2022-08-05T10:06:22.420Z"
   },
   {
    "duration": 1090,
    "start_time": "2022-08-05T10:07:09.880Z"
   },
   {
    "duration": 127,
    "start_time": "2022-08-05T10:07:10.972Z"
   },
   {
    "duration": 12,
    "start_time": "2022-08-05T10:07:11.100Z"
   },
   {
    "duration": 3,
    "start_time": "2022-08-05T10:07:11.113Z"
   },
   {
    "duration": 12,
    "start_time": "2022-08-05T10:07:11.118Z"
   },
   {
    "duration": 10,
    "start_time": "2022-08-05T10:07:11.131Z"
   },
   {
    "duration": 9,
    "start_time": "2022-08-05T10:07:11.143Z"
   },
   {
    "duration": 13,
    "start_time": "2022-08-05T10:07:11.154Z"
   },
   {
    "duration": 17,
    "start_time": "2022-08-05T10:07:11.169Z"
   },
   {
    "duration": 8,
    "start_time": "2022-08-05T10:07:11.211Z"
   },
   {
    "duration": 13,
    "start_time": "2022-08-05T10:07:11.221Z"
   },
   {
    "duration": 8,
    "start_time": "2022-08-05T10:07:11.236Z"
   },
   {
    "duration": 311,
    "start_time": "2022-08-05T10:07:11.246Z"
   },
   {
    "duration": 303,
    "start_time": "2022-08-05T10:07:11.560Z"
   },
   {
    "duration": 239,
    "start_time": "2022-08-05T10:07:11.864Z"
   },
   {
    "duration": 335,
    "start_time": "2022-08-05T10:07:12.105Z"
   },
   {
    "duration": 295,
    "start_time": "2022-08-05T10:07:12.442Z"
   },
   {
    "duration": 325,
    "start_time": "2022-08-05T10:07:12.738Z"
   },
   {
    "duration": 175,
    "start_time": "2022-08-05T10:07:13.064Z"
   },
   {
    "duration": 5,
    "start_time": "2022-08-05T10:07:13.240Z"
   },
   {
    "duration": 196,
    "start_time": "2022-08-05T10:07:13.246Z"
   },
   {
    "duration": 192,
    "start_time": "2022-08-05T10:07:13.444Z"
   },
   {
    "duration": 4,
    "start_time": "2022-08-05T10:07:13.638Z"
   },
   {
    "duration": 499,
    "start_time": "2022-08-05T10:07:13.643Z"
   },
   {
    "duration": 5,
    "start_time": "2022-08-05T10:07:14.143Z"
   },
   {
    "duration": 15,
    "start_time": "2022-08-05T10:07:14.150Z"
   },
   {
    "duration": 8,
    "start_time": "2022-08-05T10:07:14.166Z"
   },
   {
    "duration": 69,
    "start_time": "2022-08-05T10:07:14.176Z"
   },
   {
    "duration": 6,
    "start_time": "2022-08-05T10:07:14.247Z"
   },
   {
    "duration": 16,
    "start_time": "2022-08-05T10:07:14.255Z"
   },
   {
    "duration": 10,
    "start_time": "2022-08-05T10:07:14.272Z"
   },
   {
    "duration": 9,
    "start_time": "2022-08-05T10:33:18.044Z"
   },
   {
    "duration": 99,
    "start_time": "2022-08-05T10:33:42.872Z"
   },
   {
    "duration": 8,
    "start_time": "2022-08-05T10:34:15.862Z"
   },
   {
    "duration": 3,
    "start_time": "2022-08-05T10:34:16.833Z"
   },
   {
    "duration": 3,
    "start_time": "2022-08-05T10:34:31.501Z"
   },
   {
    "duration": 9,
    "start_time": "2022-08-05T10:34:44.860Z"
   },
   {
    "duration": 17,
    "start_time": "2022-08-05T10:35:48.690Z"
   },
   {
    "duration": 32,
    "start_time": "2022-08-05T10:36:37.578Z"
   },
   {
    "duration": 80,
    "start_time": "2022-08-05T10:36:37.612Z"
   },
   {
    "duration": 7,
    "start_time": "2022-08-05T10:36:37.694Z"
   },
   {
    "duration": 4,
    "start_time": "2022-08-05T10:36:37.703Z"
   },
   {
    "duration": 11,
    "start_time": "2022-08-05T10:36:37.709Z"
   },
   {
    "duration": 13,
    "start_time": "2022-08-05T10:36:37.722Z"
   },
   {
    "duration": 19,
    "start_time": "2022-08-05T10:36:37.737Z"
   },
   {
    "duration": 11,
    "start_time": "2022-08-05T10:36:37.757Z"
   },
   {
    "duration": 18,
    "start_time": "2022-08-05T10:36:37.770Z"
   },
   {
    "duration": 12,
    "start_time": "2022-08-05T10:36:37.790Z"
   },
   {
    "duration": 18,
    "start_time": "2022-08-05T10:36:37.803Z"
   },
   {
    "duration": 11,
    "start_time": "2022-08-05T10:36:37.822Z"
   },
   {
    "duration": 91,
    "start_time": "2022-08-05T10:36:37.835Z"
   },
   {
    "duration": 7,
    "start_time": "2022-08-05T10:36:37.927Z"
   },
   {
    "duration": 9,
    "start_time": "2022-08-05T10:36:37.936Z"
   },
   {
    "duration": 4,
    "start_time": "2022-08-05T10:36:37.946Z"
   },
   {
    "duration": 12,
    "start_time": "2022-08-05T10:36:37.951Z"
   },
   {
    "duration": 295,
    "start_time": "2022-08-05T10:36:37.964Z"
   },
   {
    "duration": 231,
    "start_time": "2022-08-05T10:36:38.260Z"
   },
   {
    "duration": 236,
    "start_time": "2022-08-05T10:36:38.493Z"
   },
   {
    "duration": 297,
    "start_time": "2022-08-05T10:36:38.730Z"
   },
   {
    "duration": 235,
    "start_time": "2022-08-05T10:36:39.028Z"
   },
   {
    "duration": 335,
    "start_time": "2022-08-05T10:36:39.265Z"
   },
   {
    "duration": 190,
    "start_time": "2022-08-05T10:36:39.602Z"
   },
   {
    "duration": 5,
    "start_time": "2022-08-05T10:36:39.794Z"
   },
   {
    "duration": 177,
    "start_time": "2022-08-05T10:36:39.812Z"
   },
   {
    "duration": 182,
    "start_time": "2022-08-05T10:36:39.990Z"
   },
   {
    "duration": 5,
    "start_time": "2022-08-05T10:36:40.174Z"
   },
   {
    "duration": 591,
    "start_time": "2022-08-05T10:36:40.180Z"
   },
   {
    "duration": 5,
    "start_time": "2022-08-05T10:36:40.772Z"
   },
   {
    "duration": 19,
    "start_time": "2022-08-05T10:36:40.779Z"
   },
   {
    "duration": 19,
    "start_time": "2022-08-05T10:36:40.801Z"
   },
   {
    "duration": 43,
    "start_time": "2022-08-05T10:36:40.822Z"
   },
   {
    "duration": 5,
    "start_time": "2022-08-05T10:36:40.866Z"
   },
   {
    "duration": 16,
    "start_time": "2022-08-05T10:36:40.873Z"
   },
   {
    "duration": 24,
    "start_time": "2022-08-05T10:36:40.891Z"
   },
   {
    "duration": 1031,
    "start_time": "2022-08-05T11:06:55.106Z"
   },
   {
    "duration": 108,
    "start_time": "2022-08-05T11:06:56.139Z"
   },
   {
    "duration": 13,
    "start_time": "2022-08-05T11:06:56.248Z"
   },
   {
    "duration": 7,
    "start_time": "2022-08-05T11:06:56.263Z"
   },
   {
    "duration": 18,
    "start_time": "2022-08-05T11:06:56.271Z"
   },
   {
    "duration": 13,
    "start_time": "2022-08-05T11:06:56.291Z"
   },
   {
    "duration": 9,
    "start_time": "2022-08-05T11:06:56.305Z"
   },
   {
    "duration": 12,
    "start_time": "2022-08-05T11:06:56.316Z"
   },
   {
    "duration": 21,
    "start_time": "2022-08-05T11:06:56.329Z"
   },
   {
    "duration": 7,
    "start_time": "2022-08-05T11:06:56.352Z"
   },
   {
    "duration": 11,
    "start_time": "2022-08-05T11:06:56.360Z"
   },
   {
    "duration": 9,
    "start_time": "2022-08-05T11:06:56.372Z"
   },
   {
    "duration": 129,
    "start_time": "2022-08-05T11:06:56.383Z"
   },
   {
    "duration": 0,
    "start_time": "2022-08-05T11:06:56.513Z"
   },
   {
    "duration": 0,
    "start_time": "2022-08-05T11:06:56.515Z"
   },
   {
    "duration": 0,
    "start_time": "2022-08-05T11:06:56.516Z"
   },
   {
    "duration": 0,
    "start_time": "2022-08-05T11:06:56.517Z"
   },
   {
    "duration": 0,
    "start_time": "2022-08-05T11:06:56.518Z"
   },
   {
    "duration": 0,
    "start_time": "2022-08-05T11:06:56.519Z"
   },
   {
    "duration": 0,
    "start_time": "2022-08-05T11:06:56.520Z"
   },
   {
    "duration": 0,
    "start_time": "2022-08-05T11:06:56.521Z"
   },
   {
    "duration": 0,
    "start_time": "2022-08-05T11:06:56.522Z"
   },
   {
    "duration": 0,
    "start_time": "2022-08-05T11:06:56.523Z"
   },
   {
    "duration": 0,
    "start_time": "2022-08-05T11:06:56.524Z"
   },
   {
    "duration": 0,
    "start_time": "2022-08-05T11:06:56.525Z"
   },
   {
    "duration": 0,
    "start_time": "2022-08-05T11:06:56.526Z"
   },
   {
    "duration": 0,
    "start_time": "2022-08-05T11:06:56.527Z"
   },
   {
    "duration": 0,
    "start_time": "2022-08-05T11:06:56.528Z"
   },
   {
    "duration": 0,
    "start_time": "2022-08-05T11:06:56.529Z"
   },
   {
    "duration": 0,
    "start_time": "2022-08-05T11:06:56.530Z"
   },
   {
    "duration": 0,
    "start_time": "2022-08-05T11:06:56.531Z"
   },
   {
    "duration": 0,
    "start_time": "2022-08-05T11:06:56.532Z"
   },
   {
    "duration": 0,
    "start_time": "2022-08-05T11:06:56.534Z"
   },
   {
    "duration": 0,
    "start_time": "2022-08-05T11:06:56.535Z"
   },
   {
    "duration": 0,
    "start_time": "2022-08-05T11:06:56.536Z"
   },
   {
    "duration": 9,
    "start_time": "2022-08-05T11:07:22.323Z"
   },
   {
    "duration": 12,
    "start_time": "2022-08-05T11:08:42.934Z"
   },
   {
    "duration": 8,
    "start_time": "2022-08-05T11:09:34.062Z"
   },
   {
    "duration": 9,
    "start_time": "2022-08-05T11:09:47.526Z"
   },
   {
    "duration": 5,
    "start_time": "2022-08-05T11:25:35.064Z"
   },
   {
    "duration": 8,
    "start_time": "2022-08-05T11:25:48.821Z"
   },
   {
    "duration": 1034,
    "start_time": "2022-08-05T11:25:57.632Z"
   },
   {
    "duration": 124,
    "start_time": "2022-08-05T11:25:58.668Z"
   },
   {
    "duration": 13,
    "start_time": "2022-08-05T11:25:58.794Z"
   },
   {
    "duration": 3,
    "start_time": "2022-08-05T11:25:58.809Z"
   },
   {
    "duration": 14,
    "start_time": "2022-08-05T11:25:58.814Z"
   },
   {
    "duration": 10,
    "start_time": "2022-08-05T11:25:58.829Z"
   },
   {
    "duration": 10,
    "start_time": "2022-08-05T11:25:58.840Z"
   },
   {
    "duration": 14,
    "start_time": "2022-08-05T11:25:58.851Z"
   },
   {
    "duration": 19,
    "start_time": "2022-08-05T11:25:58.867Z"
   },
   {
    "duration": 8,
    "start_time": "2022-08-05T11:25:58.910Z"
   },
   {
    "duration": 24,
    "start_time": "2022-08-05T11:25:58.920Z"
   },
   {
    "duration": 15,
    "start_time": "2022-08-05T11:25:58.945Z"
   },
   {
    "duration": 22,
    "start_time": "2022-08-05T11:25:58.962Z"
   },
   {
    "duration": 16,
    "start_time": "2022-08-05T11:25:58.985Z"
   },
   {
    "duration": 10,
    "start_time": "2022-08-05T11:25:59.003Z"
   },
   {
    "duration": 14,
    "start_time": "2022-08-05T11:25:59.015Z"
   },
   {
    "duration": 12,
    "start_time": "2022-08-05T11:25:59.031Z"
   },
   {
    "duration": 17,
    "start_time": "2022-08-05T11:25:59.045Z"
   },
   {
    "duration": 295,
    "start_time": "2022-08-05T11:25:59.064Z"
   },
   {
    "duration": 337,
    "start_time": "2022-08-05T11:25:59.360Z"
   },
   {
    "duration": 243,
    "start_time": "2022-08-05T11:25:59.699Z"
   },
   {
    "duration": 295,
    "start_time": "2022-08-05T11:25:59.944Z"
   },
   {
    "duration": 230,
    "start_time": "2022-08-05T11:26:00.241Z"
   },
   {
    "duration": 322,
    "start_time": "2022-08-05T11:26:00.473Z"
   },
   {
    "duration": 174,
    "start_time": "2022-08-05T11:26:00.796Z"
   },
   {
    "duration": 4,
    "start_time": "2022-08-05T11:26:00.972Z"
   },
   {
    "duration": 187,
    "start_time": "2022-08-05T11:26:00.978Z"
   },
   {
    "duration": 194,
    "start_time": "2022-08-05T11:26:01.169Z"
   },
   {
    "duration": 5,
    "start_time": "2022-08-05T11:26:01.365Z"
   },
   {
    "duration": 460,
    "start_time": "2022-08-05T11:26:01.372Z"
   },
   {
    "duration": 4,
    "start_time": "2022-08-05T11:26:01.834Z"
   },
   {
    "duration": 24,
    "start_time": "2022-08-05T11:26:01.840Z"
   },
   {
    "duration": 8,
    "start_time": "2022-08-05T11:26:01.866Z"
   },
   {
    "duration": 49,
    "start_time": "2022-08-05T11:26:01.876Z"
   },
   {
    "duration": 5,
    "start_time": "2022-08-05T11:26:01.926Z"
   },
   {
    "duration": 15,
    "start_time": "2022-08-05T11:26:01.932Z"
   },
   {
    "duration": 15,
    "start_time": "2022-08-05T11:26:01.948Z"
   },
   {
    "duration": 13,
    "start_time": "2022-08-05T11:26:44.856Z"
   },
   {
    "duration": 13,
    "start_time": "2022-08-05T11:27:31.112Z"
   },
   {
    "duration": 1012,
    "start_time": "2022-08-05T11:27:35.707Z"
   },
   {
    "duration": 132,
    "start_time": "2022-08-05T11:27:36.721Z"
   },
   {
    "duration": 12,
    "start_time": "2022-08-05T11:27:36.854Z"
   },
   {
    "duration": 4,
    "start_time": "2022-08-05T11:27:36.867Z"
   },
   {
    "duration": 13,
    "start_time": "2022-08-05T11:27:36.872Z"
   },
   {
    "duration": 9,
    "start_time": "2022-08-05T11:27:36.887Z"
   },
   {
    "duration": 8,
    "start_time": "2022-08-05T11:27:36.898Z"
   },
   {
    "duration": 10,
    "start_time": "2022-08-05T11:27:36.908Z"
   },
   {
    "duration": 16,
    "start_time": "2022-08-05T11:27:36.920Z"
   },
   {
    "duration": 6,
    "start_time": "2022-08-05T11:27:36.938Z"
   },
   {
    "duration": 11,
    "start_time": "2022-08-05T11:27:36.945Z"
   },
   {
    "duration": 8,
    "start_time": "2022-08-05T11:27:36.957Z"
   },
   {
    "duration": 13,
    "start_time": "2022-08-05T11:27:36.966Z"
   },
   {
    "duration": 31,
    "start_time": "2022-08-05T11:27:36.980Z"
   },
   {
    "duration": 7,
    "start_time": "2022-08-05T11:27:37.013Z"
   },
   {
    "duration": 8,
    "start_time": "2022-08-05T11:27:37.021Z"
   },
   {
    "duration": 6,
    "start_time": "2022-08-05T11:27:37.031Z"
   },
   {
    "duration": 11,
    "start_time": "2022-08-05T11:27:37.038Z"
   },
   {
    "duration": 295,
    "start_time": "2022-08-05T11:27:37.051Z"
   },
   {
    "duration": 301,
    "start_time": "2022-08-05T11:27:37.348Z"
   },
   {
    "duration": 228,
    "start_time": "2022-08-05T11:27:37.651Z"
   },
   {
    "duration": 322,
    "start_time": "2022-08-05T11:27:37.880Z"
   },
   {
    "duration": 236,
    "start_time": "2022-08-05T11:27:38.204Z"
   },
   {
    "duration": 311,
    "start_time": "2022-08-05T11:27:38.441Z"
   },
   {
    "duration": 161,
    "start_time": "2022-08-05T11:27:38.754Z"
   },
   {
    "duration": 4,
    "start_time": "2022-08-05T11:27:38.917Z"
   },
   {
    "duration": 176,
    "start_time": "2022-08-05T11:27:38.922Z"
   },
   {
    "duration": 178,
    "start_time": "2022-08-05T11:27:39.101Z"
   },
   {
    "duration": 4,
    "start_time": "2022-08-05T11:27:39.281Z"
   },
   {
    "duration": 472,
    "start_time": "2022-08-05T11:27:39.287Z"
   },
   {
    "duration": 4,
    "start_time": "2022-08-05T11:27:39.760Z"
   },
   {
    "duration": 8,
    "start_time": "2022-08-05T11:27:39.766Z"
   },
   {
    "duration": 6,
    "start_time": "2022-08-05T11:27:39.775Z"
   },
   {
    "duration": 50,
    "start_time": "2022-08-05T11:27:39.783Z"
   },
   {
    "duration": 4,
    "start_time": "2022-08-05T11:27:39.835Z"
   },
   {
    "duration": 11,
    "start_time": "2022-08-05T11:27:39.840Z"
   },
   {
    "duration": 8,
    "start_time": "2022-08-05T11:27:39.852Z"
   },
   {
    "duration": 6,
    "start_time": "2022-08-05T11:28:21.957Z"
   },
   {
    "duration": 11,
    "start_time": "2022-08-05T11:28:32.349Z"
   },
   {
    "duration": 949,
    "start_time": "2022-08-05T11:28:37.656Z"
   },
   {
    "duration": 123,
    "start_time": "2022-08-05T11:28:38.607Z"
   },
   {
    "duration": 12,
    "start_time": "2022-08-05T11:28:38.731Z"
   },
   {
    "duration": 23,
    "start_time": "2022-08-05T11:28:38.745Z"
   },
   {
    "duration": 50,
    "start_time": "2022-08-05T11:28:38.770Z"
   },
   {
    "duration": 33,
    "start_time": "2022-08-05T11:28:38.821Z"
   },
   {
    "duration": 33,
    "start_time": "2022-08-05T11:28:38.855Z"
   },
   {
    "duration": 29,
    "start_time": "2022-08-05T11:28:38.889Z"
   },
   {
    "duration": 47,
    "start_time": "2022-08-05T11:28:38.920Z"
   },
   {
    "duration": 18,
    "start_time": "2022-08-05T11:28:38.969Z"
   },
   {
    "duration": 48,
    "start_time": "2022-08-05T11:28:38.988Z"
   },
   {
    "duration": 39,
    "start_time": "2022-08-05T11:28:39.038Z"
   },
   {
    "duration": 41,
    "start_time": "2022-08-05T11:28:39.079Z"
   },
   {
    "duration": 18,
    "start_time": "2022-08-05T11:28:39.122Z"
   },
   {
    "duration": 35,
    "start_time": "2022-08-05T11:28:39.142Z"
   },
   {
    "duration": 19,
    "start_time": "2022-08-05T11:28:39.178Z"
   },
   {
    "duration": 24,
    "start_time": "2022-08-05T11:28:39.198Z"
   },
   {
    "duration": 36,
    "start_time": "2022-08-05T11:28:39.224Z"
   },
   {
    "duration": 20,
    "start_time": "2022-08-05T11:28:39.262Z"
   },
   {
    "duration": 314,
    "start_time": "2022-08-05T11:28:39.284Z"
   },
   {
    "duration": 315,
    "start_time": "2022-08-05T11:28:39.600Z"
   },
   {
    "duration": 240,
    "start_time": "2022-08-05T11:28:39.917Z"
   },
   {
    "duration": 298,
    "start_time": "2022-08-05T11:28:40.159Z"
   },
   {
    "duration": 233,
    "start_time": "2022-08-05T11:28:40.459Z"
   },
   {
    "duration": 359,
    "start_time": "2022-08-05T11:28:40.694Z"
   },
   {
    "duration": 168,
    "start_time": "2022-08-05T11:28:41.055Z"
   },
   {
    "duration": 4,
    "start_time": "2022-08-05T11:28:41.225Z"
   },
   {
    "duration": 182,
    "start_time": "2022-08-05T11:28:41.232Z"
   },
   {
    "duration": 179,
    "start_time": "2022-08-05T11:28:41.415Z"
   },
   {
    "duration": 4,
    "start_time": "2022-08-05T11:28:41.596Z"
   },
   {
    "duration": 440,
    "start_time": "2022-08-05T11:28:41.611Z"
   },
   {
    "duration": 4,
    "start_time": "2022-08-05T11:28:42.053Z"
   },
   {
    "duration": 13,
    "start_time": "2022-08-05T11:28:42.058Z"
   },
   {
    "duration": 7,
    "start_time": "2022-08-05T11:28:42.072Z"
   },
   {
    "duration": 43,
    "start_time": "2022-08-05T11:28:42.081Z"
   },
   {
    "duration": 4,
    "start_time": "2022-08-05T11:28:42.125Z"
   },
   {
    "duration": 10,
    "start_time": "2022-08-05T11:28:42.131Z"
   },
   {
    "duration": 8,
    "start_time": "2022-08-05T11:28:42.142Z"
   },
   {
    "duration": 7,
    "start_time": "2022-08-05T11:30:03.053Z"
   },
   {
    "duration": 1045,
    "start_time": "2022-08-05T11:30:37.694Z"
   },
   {
    "duration": 123,
    "start_time": "2022-08-05T11:30:38.741Z"
   },
   {
    "duration": 11,
    "start_time": "2022-08-05T11:30:38.865Z"
   },
   {
    "duration": 3,
    "start_time": "2022-08-05T11:30:38.878Z"
   },
   {
    "duration": 17,
    "start_time": "2022-08-05T11:30:38.882Z"
   },
   {
    "duration": 9,
    "start_time": "2022-08-05T11:30:38.900Z"
   },
   {
    "duration": 11,
    "start_time": "2022-08-05T11:30:38.910Z"
   },
   {
    "duration": 10,
    "start_time": "2022-08-05T11:30:38.922Z"
   },
   {
    "duration": 15,
    "start_time": "2022-08-05T11:30:38.933Z"
   },
   {
    "duration": 6,
    "start_time": "2022-08-05T11:30:38.951Z"
   },
   {
    "duration": 10,
    "start_time": "2022-08-05T11:30:38.958Z"
   },
   {
    "duration": 6,
    "start_time": "2022-08-05T11:30:38.969Z"
   },
   {
    "duration": 35,
    "start_time": "2022-08-05T11:30:38.976Z"
   },
   {
    "duration": 280,
    "start_time": "2022-08-05T11:30:39.013Z"
   },
   {
    "duration": 315,
    "start_time": "2022-08-05T11:30:39.295Z"
   },
   {
    "duration": 238,
    "start_time": "2022-08-05T11:30:39.612Z"
   },
   {
    "duration": 321,
    "start_time": "2022-08-05T11:30:39.852Z"
   },
   {
    "duration": 266,
    "start_time": "2022-08-05T11:30:40.175Z"
   },
   {
    "duration": 316,
    "start_time": "2022-08-05T11:30:40.442Z"
   },
   {
    "duration": 170,
    "start_time": "2022-08-05T11:30:40.760Z"
   },
   {
    "duration": 4,
    "start_time": "2022-08-05T11:30:40.932Z"
   },
   {
    "duration": 181,
    "start_time": "2022-08-05T11:30:40.937Z"
   },
   {
    "duration": 175,
    "start_time": "2022-08-05T11:30:41.121Z"
   },
   {
    "duration": 4,
    "start_time": "2022-08-05T11:30:41.297Z"
   },
   {
    "duration": 470,
    "start_time": "2022-08-05T11:30:41.311Z"
   },
   {
    "duration": 4,
    "start_time": "2022-08-05T11:30:41.783Z"
   },
   {
    "duration": 8,
    "start_time": "2022-08-05T11:30:41.789Z"
   },
   {
    "duration": 6,
    "start_time": "2022-08-05T11:30:41.810Z"
   },
   {
    "duration": 34,
    "start_time": "2022-08-05T11:30:41.817Z"
   },
   {
    "duration": 4,
    "start_time": "2022-08-05T11:30:41.852Z"
   },
   {
    "duration": 9,
    "start_time": "2022-08-05T11:30:41.858Z"
   },
   {
    "duration": 9,
    "start_time": "2022-08-05T11:30:41.868Z"
   },
   {
    "duration": 6,
    "start_time": "2022-08-05T11:32:56.804Z"
   },
   {
    "duration": 100,
    "start_time": "2022-08-05T11:33:38.486Z"
   },
   {
    "duration": 6,
    "start_time": "2022-08-05T11:34:03.298Z"
   },
   {
    "duration": 5,
    "start_time": "2022-08-05T11:34:20.943Z"
   },
   {
    "duration": 8,
    "start_time": "2022-08-05T11:35:34.598Z"
   },
   {
    "duration": 5,
    "start_time": "2022-08-05T11:36:12.703Z"
   },
   {
    "duration": 7,
    "start_time": "2022-08-05T11:36:24.025Z"
   },
   {
    "duration": 993,
    "start_time": "2022-08-05T11:43:16.912Z"
   },
   {
    "duration": 122,
    "start_time": "2022-08-05T11:43:17.907Z"
   },
   {
    "duration": 12,
    "start_time": "2022-08-05T11:43:18.031Z"
   },
   {
    "duration": 6,
    "start_time": "2022-08-05T11:43:18.045Z"
   },
   {
    "duration": 13,
    "start_time": "2022-08-05T11:43:18.053Z"
   },
   {
    "duration": 10,
    "start_time": "2022-08-05T11:43:18.067Z"
   },
   {
    "duration": 13,
    "start_time": "2022-08-05T11:43:18.078Z"
   },
   {
    "duration": 18,
    "start_time": "2022-08-05T11:43:18.093Z"
   },
   {
    "duration": 16,
    "start_time": "2022-08-05T11:43:18.112Z"
   },
   {
    "duration": 7,
    "start_time": "2022-08-05T11:43:18.130Z"
   },
   {
    "duration": 10,
    "start_time": "2022-08-05T11:43:18.138Z"
   },
   {
    "duration": 7,
    "start_time": "2022-08-05T11:43:18.150Z"
   },
   {
    "duration": 14,
    "start_time": "2022-08-05T11:43:18.158Z"
   },
   {
    "duration": 44,
    "start_time": "2022-08-05T11:43:18.174Z"
   },
   {
    "duration": 309,
    "start_time": "2022-08-05T11:43:18.220Z"
   },
   {
    "duration": 300,
    "start_time": "2022-08-05T11:43:18.531Z"
   },
   {
    "duration": 241,
    "start_time": "2022-08-05T11:43:18.832Z"
   },
   {
    "duration": 318,
    "start_time": "2022-08-05T11:43:19.074Z"
   },
   {
    "duration": 250,
    "start_time": "2022-08-05T11:43:19.394Z"
   },
   {
    "duration": 317,
    "start_time": "2022-08-05T11:43:19.645Z"
   },
   {
    "duration": 175,
    "start_time": "2022-08-05T11:43:19.964Z"
   },
   {
    "duration": 6,
    "start_time": "2022-08-05T11:43:20.140Z"
   },
   {
    "duration": 178,
    "start_time": "2022-08-05T11:43:20.148Z"
   },
   {
    "duration": 180,
    "start_time": "2022-08-05T11:43:20.328Z"
   },
   {
    "duration": 6,
    "start_time": "2022-08-05T11:43:20.509Z"
   },
   {
    "duration": 474,
    "start_time": "2022-08-05T11:43:20.516Z"
   },
   {
    "duration": 4,
    "start_time": "2022-08-05T11:43:20.992Z"
   },
   {
    "duration": 8,
    "start_time": "2022-08-05T11:43:21.010Z"
   },
   {
    "duration": 10,
    "start_time": "2022-08-05T11:43:21.019Z"
   },
   {
    "duration": 32,
    "start_time": "2022-08-05T11:43:21.030Z"
   },
   {
    "duration": 4,
    "start_time": "2022-08-05T11:43:21.064Z"
   },
   {
    "duration": 11,
    "start_time": "2022-08-05T11:43:21.069Z"
   },
   {
    "duration": 35,
    "start_time": "2022-08-05T11:43:21.081Z"
   },
   {
    "duration": 6,
    "start_time": "2022-08-05T11:44:14.267Z"
   },
   {
    "duration": 986,
    "start_time": "2022-08-05T11:44:20.424Z"
   },
   {
    "duration": 103,
    "start_time": "2022-08-05T11:44:21.412Z"
   },
   {
    "duration": 11,
    "start_time": "2022-08-05T11:44:21.516Z"
   },
   {
    "duration": 3,
    "start_time": "2022-08-05T11:44:21.529Z"
   },
   {
    "duration": 12,
    "start_time": "2022-08-05T11:44:21.533Z"
   },
   {
    "duration": 10,
    "start_time": "2022-08-05T11:44:21.547Z"
   },
   {
    "duration": 11,
    "start_time": "2022-08-05T11:44:21.558Z"
   },
   {
    "duration": 12,
    "start_time": "2022-08-05T11:44:21.570Z"
   },
   {
    "duration": 39,
    "start_time": "2022-08-05T11:44:21.583Z"
   },
   {
    "duration": 6,
    "start_time": "2022-08-05T11:44:21.624Z"
   },
   {
    "duration": 11,
    "start_time": "2022-08-05T11:44:21.631Z"
   },
   {
    "duration": 8,
    "start_time": "2022-08-05T11:44:21.643Z"
   },
   {
    "duration": 6,
    "start_time": "2022-08-05T11:44:21.652Z"
   },
   {
    "duration": 11,
    "start_time": "2022-08-05T11:44:21.660Z"
   },
   {
    "duration": 10,
    "start_time": "2022-08-05T11:44:21.672Z"
   },
   {
    "duration": 313,
    "start_time": "2022-08-05T11:44:21.683Z"
   },
   {
    "duration": 304,
    "start_time": "2022-08-05T11:44:21.997Z"
   },
   {
    "duration": 254,
    "start_time": "2022-08-05T11:44:22.310Z"
   },
   {
    "duration": 350,
    "start_time": "2022-08-05T11:44:22.566Z"
   },
   {
    "duration": 250,
    "start_time": "2022-08-05T11:44:22.917Z"
   },
   {
    "duration": 393,
    "start_time": "2022-08-05T11:44:23.168Z"
   },
   {
    "duration": 187,
    "start_time": "2022-08-05T11:44:23.562Z"
   },
   {
    "duration": 5,
    "start_time": "2022-08-05T11:44:23.751Z"
   },
   {
    "duration": 178,
    "start_time": "2022-08-05T11:44:23.757Z"
   },
   {
    "duration": 181,
    "start_time": "2022-08-05T11:44:23.937Z"
   },
   {
    "duration": 4,
    "start_time": "2022-08-05T11:44:24.120Z"
   },
   {
    "duration": 478,
    "start_time": "2022-08-05T11:44:24.126Z"
   },
   {
    "duration": 4,
    "start_time": "2022-08-05T11:44:24.610Z"
   },
   {
    "duration": 23,
    "start_time": "2022-08-05T11:44:24.616Z"
   },
   {
    "duration": 15,
    "start_time": "2022-08-05T11:44:24.640Z"
   },
   {
    "duration": 46,
    "start_time": "2022-08-05T11:44:24.657Z"
   },
   {
    "duration": 4,
    "start_time": "2022-08-05T11:44:24.705Z"
   },
   {
    "duration": 14,
    "start_time": "2022-08-05T11:44:24.710Z"
   },
   {
    "duration": 22,
    "start_time": "2022-08-05T11:44:24.725Z"
   },
   {
    "duration": 1010,
    "start_time": "2022-08-05T11:49:06.027Z"
   },
   {
    "duration": 126,
    "start_time": "2022-08-05T11:49:07.039Z"
   },
   {
    "duration": 12,
    "start_time": "2022-08-05T11:49:07.167Z"
   },
   {
    "duration": 6,
    "start_time": "2022-08-05T11:49:07.180Z"
   },
   {
    "duration": 12,
    "start_time": "2022-08-05T11:49:07.188Z"
   },
   {
    "duration": 9,
    "start_time": "2022-08-05T11:49:07.202Z"
   },
   {
    "duration": 11,
    "start_time": "2022-08-05T11:49:07.212Z"
   },
   {
    "duration": 11,
    "start_time": "2022-08-05T11:49:07.224Z"
   },
   {
    "duration": 19,
    "start_time": "2022-08-05T11:49:07.237Z"
   },
   {
    "duration": 5,
    "start_time": "2022-08-05T11:49:07.259Z"
   },
   {
    "duration": 10,
    "start_time": "2022-08-05T11:49:07.265Z"
   },
   {
    "duration": 6,
    "start_time": "2022-08-05T11:49:07.277Z"
   },
   {
    "duration": 32,
    "start_time": "2022-08-05T11:49:07.285Z"
   },
   {
    "duration": 13,
    "start_time": "2022-08-05T11:49:07.318Z"
   },
   {
    "duration": 292,
    "start_time": "2022-08-05T11:49:07.333Z"
   },
   {
    "duration": 303,
    "start_time": "2022-08-05T11:49:07.627Z"
   },
   {
    "duration": 240,
    "start_time": "2022-08-05T11:49:07.932Z"
   },
   {
    "duration": 319,
    "start_time": "2022-08-05T11:49:08.174Z"
   },
   {
    "duration": 234,
    "start_time": "2022-08-05T11:49:08.494Z"
   },
   {
    "duration": 333,
    "start_time": "2022-08-05T11:49:08.730Z"
   },
   {
    "duration": 173,
    "start_time": "2022-08-05T11:49:09.064Z"
   },
   {
    "duration": 5,
    "start_time": "2022-08-05T11:49:09.239Z"
   },
   {
    "duration": 175,
    "start_time": "2022-08-05T11:49:09.245Z"
   },
   {
    "duration": 184,
    "start_time": "2022-08-05T11:49:09.421Z"
   },
   {
    "duration": 5,
    "start_time": "2022-08-05T11:49:09.610Z"
   },
   {
    "duration": 477,
    "start_time": "2022-08-05T11:49:09.616Z"
   },
   {
    "duration": 4,
    "start_time": "2022-08-05T11:49:10.095Z"
   },
   {
    "duration": 7,
    "start_time": "2022-08-05T11:49:10.110Z"
   },
   {
    "duration": 6,
    "start_time": "2022-08-05T11:49:10.119Z"
   },
   {
    "duration": 29,
    "start_time": "2022-08-05T11:49:10.126Z"
   },
   {
    "duration": 4,
    "start_time": "2022-08-05T11:49:10.156Z"
   },
   {
    "duration": 9,
    "start_time": "2022-08-05T11:49:10.162Z"
   },
   {
    "duration": 43,
    "start_time": "2022-08-05T11:49:10.173Z"
   },
   {
    "duration": 5,
    "start_time": "2022-08-05T11:50:03.347Z"
   },
   {
    "duration": 1026,
    "start_time": "2022-08-05T11:50:08.701Z"
   },
   {
    "duration": 125,
    "start_time": "2022-08-05T11:50:09.729Z"
   },
   {
    "duration": 11,
    "start_time": "2022-08-05T11:50:09.856Z"
   },
   {
    "duration": 3,
    "start_time": "2022-08-05T11:50:09.868Z"
   },
   {
    "duration": 13,
    "start_time": "2022-08-05T11:50:09.873Z"
   },
   {
    "duration": 10,
    "start_time": "2022-08-05T11:50:09.887Z"
   },
   {
    "duration": 13,
    "start_time": "2022-08-05T11:50:09.899Z"
   },
   {
    "duration": 10,
    "start_time": "2022-08-05T11:50:09.914Z"
   },
   {
    "duration": 19,
    "start_time": "2022-08-05T11:50:09.926Z"
   },
   {
    "duration": 5,
    "start_time": "2022-08-05T11:50:09.948Z"
   },
   {
    "duration": 9,
    "start_time": "2022-08-05T11:50:09.954Z"
   },
   {
    "duration": 9,
    "start_time": "2022-08-05T11:50:09.965Z"
   },
   {
    "duration": 11,
    "start_time": "2022-08-05T11:50:09.975Z"
   },
   {
    "duration": 29,
    "start_time": "2022-08-05T11:50:09.987Z"
   },
   {
    "duration": 289,
    "start_time": "2022-08-05T11:50:10.017Z"
   },
   {
    "duration": 327,
    "start_time": "2022-08-05T11:50:10.307Z"
   },
   {
    "duration": 243,
    "start_time": "2022-08-05T11:50:10.636Z"
   },
   {
    "duration": 349,
    "start_time": "2022-08-05T11:50:10.881Z"
   },
   {
    "duration": 239,
    "start_time": "2022-08-05T11:50:11.233Z"
   },
   {
    "duration": 328,
    "start_time": "2022-08-05T11:50:11.474Z"
   },
   {
    "duration": 165,
    "start_time": "2022-08-05T11:50:11.811Z"
   },
   {
    "duration": 4,
    "start_time": "2022-08-05T11:50:11.978Z"
   },
   {
    "duration": 180,
    "start_time": "2022-08-05T11:50:11.983Z"
   },
   {
    "duration": 170,
    "start_time": "2022-08-05T11:50:12.165Z"
   },
   {
    "duration": 4,
    "start_time": "2022-08-05T11:50:12.337Z"
   },
   {
    "duration": 555,
    "start_time": "2022-08-05T11:50:12.343Z"
   },
   {
    "duration": 4,
    "start_time": "2022-08-05T11:50:12.899Z"
   },
   {
    "duration": 7,
    "start_time": "2022-08-05T11:50:12.912Z"
   },
   {
    "duration": 6,
    "start_time": "2022-08-05T11:50:12.920Z"
   },
   {
    "duration": 29,
    "start_time": "2022-08-05T11:50:12.928Z"
   },
   {
    "duration": 4,
    "start_time": "2022-08-05T11:50:12.958Z"
   },
   {
    "duration": 9,
    "start_time": "2022-08-05T11:50:12.964Z"
   },
   {
    "duration": 38,
    "start_time": "2022-08-05T11:50:12.974Z"
   },
   {
    "duration": 11,
    "start_time": "2022-08-05T12:06:16.589Z"
   },
   {
    "duration": 10,
    "start_time": "2022-08-05T13:13:21.948Z"
   },
   {
    "duration": 4,
    "start_time": "2022-08-05T13:14:11.228Z"
   },
   {
    "duration": 5,
    "start_time": "2022-08-05T13:14:29.070Z"
   },
   {
    "duration": 11,
    "start_time": "2022-08-05T13:14:36.632Z"
   },
   {
    "duration": 1012,
    "start_time": "2022-08-05T13:14:46.293Z"
   },
   {
    "duration": 138,
    "start_time": "2022-08-05T13:14:47.307Z"
   },
   {
    "duration": 13,
    "start_time": "2022-08-05T13:14:47.446Z"
   },
   {
    "duration": 3,
    "start_time": "2022-08-05T13:14:47.462Z"
   },
   {
    "duration": 15,
    "start_time": "2022-08-05T13:14:47.467Z"
   },
   {
    "duration": 10,
    "start_time": "2022-08-05T13:14:47.483Z"
   },
   {
    "duration": 10,
    "start_time": "2022-08-05T13:14:47.494Z"
   },
   {
    "duration": 30,
    "start_time": "2022-08-05T13:14:47.505Z"
   },
   {
    "duration": 19,
    "start_time": "2022-08-05T13:14:47.536Z"
   },
   {
    "duration": 7,
    "start_time": "2022-08-05T13:14:47.558Z"
   },
   {
    "duration": 105,
    "start_time": "2022-08-05T13:14:47.566Z"
   },
   {
    "duration": 0,
    "start_time": "2022-08-05T13:14:47.673Z"
   },
   {
    "duration": 0,
    "start_time": "2022-08-05T13:14:47.674Z"
   },
   {
    "duration": 0,
    "start_time": "2022-08-05T13:14:47.675Z"
   },
   {
    "duration": 0,
    "start_time": "2022-08-05T13:14:47.676Z"
   },
   {
    "duration": 0,
    "start_time": "2022-08-05T13:14:47.677Z"
   },
   {
    "duration": 0,
    "start_time": "2022-08-05T13:14:47.677Z"
   },
   {
    "duration": 0,
    "start_time": "2022-08-05T13:14:47.678Z"
   },
   {
    "duration": 0,
    "start_time": "2022-08-05T13:14:47.679Z"
   },
   {
    "duration": 0,
    "start_time": "2022-08-05T13:14:47.680Z"
   },
   {
    "duration": 0,
    "start_time": "2022-08-05T13:14:47.680Z"
   },
   {
    "duration": 0,
    "start_time": "2022-08-05T13:14:47.681Z"
   },
   {
    "duration": 0,
    "start_time": "2022-08-05T13:14:47.682Z"
   },
   {
    "duration": 0,
    "start_time": "2022-08-05T13:14:47.682Z"
   },
   {
    "duration": 0,
    "start_time": "2022-08-05T13:14:47.683Z"
   },
   {
    "duration": 0,
    "start_time": "2022-08-05T13:14:47.683Z"
   },
   {
    "duration": 0,
    "start_time": "2022-08-05T13:14:47.684Z"
   },
   {
    "duration": 0,
    "start_time": "2022-08-05T13:14:47.685Z"
   },
   {
    "duration": 0,
    "start_time": "2022-08-05T13:14:47.685Z"
   },
   {
    "duration": 0,
    "start_time": "2022-08-05T13:14:47.686Z"
   },
   {
    "duration": 0,
    "start_time": "2022-08-05T13:14:47.711Z"
   },
   {
    "duration": 0,
    "start_time": "2022-08-05T13:14:47.712Z"
   },
   {
    "duration": 0,
    "start_time": "2022-08-05T13:14:47.712Z"
   },
   {
    "duration": 51,
    "start_time": "2022-08-05T13:15:37.054Z"
   },
   {
    "duration": 9,
    "start_time": "2022-08-05T13:15:53.854Z"
   },
   {
    "duration": 9,
    "start_time": "2022-08-05T13:15:59.527Z"
   },
   {
    "duration": 8,
    "start_time": "2022-08-05T13:16:17.263Z"
   },
   {
    "duration": 1017,
    "start_time": "2022-08-05T13:16:30.129Z"
   },
   {
    "duration": 140,
    "start_time": "2022-08-05T13:16:31.148Z"
   },
   {
    "duration": 12,
    "start_time": "2022-08-05T13:16:31.289Z"
   },
   {
    "duration": 6,
    "start_time": "2022-08-05T13:16:31.303Z"
   },
   {
    "duration": 36,
    "start_time": "2022-08-05T13:16:31.310Z"
   },
   {
    "duration": 18,
    "start_time": "2022-08-05T13:16:31.347Z"
   },
   {
    "duration": 16,
    "start_time": "2022-08-05T13:16:31.367Z"
   },
   {
    "duration": 23,
    "start_time": "2022-08-05T13:16:31.385Z"
   },
   {
    "duration": 48,
    "start_time": "2022-08-05T13:16:31.413Z"
   },
   {
    "duration": 13,
    "start_time": "2022-08-05T13:16:31.465Z"
   },
   {
    "duration": 111,
    "start_time": "2022-08-05T13:16:31.479Z"
   },
   {
    "duration": 0,
    "start_time": "2022-08-05T13:16:31.592Z"
   },
   {
    "duration": 0,
    "start_time": "2022-08-05T13:16:31.593Z"
   },
   {
    "duration": 0,
    "start_time": "2022-08-05T13:16:31.594Z"
   },
   {
    "duration": 0,
    "start_time": "2022-08-05T13:16:31.596Z"
   },
   {
    "duration": 0,
    "start_time": "2022-08-05T13:16:31.597Z"
   },
   {
    "duration": 0,
    "start_time": "2022-08-05T13:16:31.597Z"
   },
   {
    "duration": 0,
    "start_time": "2022-08-05T13:16:31.598Z"
   },
   {
    "duration": 0,
    "start_time": "2022-08-05T13:16:31.599Z"
   },
   {
    "duration": 0,
    "start_time": "2022-08-05T13:16:31.600Z"
   },
   {
    "duration": 0,
    "start_time": "2022-08-05T13:16:31.601Z"
   },
   {
    "duration": 0,
    "start_time": "2022-08-05T13:16:31.611Z"
   },
   {
    "duration": 0,
    "start_time": "2022-08-05T13:16:31.612Z"
   },
   {
    "duration": 0,
    "start_time": "2022-08-05T13:16:31.612Z"
   },
   {
    "duration": 0,
    "start_time": "2022-08-05T13:16:31.613Z"
   },
   {
    "duration": 0,
    "start_time": "2022-08-05T13:16:31.613Z"
   },
   {
    "duration": 0,
    "start_time": "2022-08-05T13:16:31.614Z"
   },
   {
    "duration": 0,
    "start_time": "2022-08-05T13:16:31.614Z"
   },
   {
    "duration": 0,
    "start_time": "2022-08-05T13:16:31.615Z"
   },
   {
    "duration": 0,
    "start_time": "2022-08-05T13:16:31.615Z"
   },
   {
    "duration": 0,
    "start_time": "2022-08-05T13:16:31.616Z"
   },
   {
    "duration": 0,
    "start_time": "2022-08-05T13:16:31.616Z"
   },
   {
    "duration": 0,
    "start_time": "2022-08-05T13:16:31.617Z"
   },
   {
    "duration": 12,
    "start_time": "2022-08-05T13:16:54.223Z"
   },
   {
    "duration": 10,
    "start_time": "2022-08-05T13:18:43.063Z"
   },
   {
    "duration": 24,
    "start_time": "2022-08-05T13:39:33.832Z"
   },
   {
    "duration": 11,
    "start_time": "2022-08-05T13:41:37.125Z"
   },
   {
    "duration": 106,
    "start_time": "2022-08-05T13:43:22.536Z"
   },
   {
    "duration": 13,
    "start_time": "2022-08-05T13:43:37.192Z"
   },
   {
    "duration": 16,
    "start_time": "2022-08-05T13:44:00.924Z"
   },
   {
    "duration": 97,
    "start_time": "2022-08-05T13:47:06.974Z"
   },
   {
    "duration": 965,
    "start_time": "2022-08-05T13:47:21.272Z"
   },
   {
    "duration": 141,
    "start_time": "2022-08-05T13:47:22.239Z"
   },
   {
    "duration": 12,
    "start_time": "2022-08-05T13:47:22.382Z"
   },
   {
    "duration": 4,
    "start_time": "2022-08-05T13:47:22.397Z"
   },
   {
    "duration": 52,
    "start_time": "2022-08-05T13:47:22.403Z"
   },
   {
    "duration": 11,
    "start_time": "2022-08-05T13:47:22.457Z"
   },
   {
    "duration": 15,
    "start_time": "2022-08-05T13:47:22.470Z"
   },
   {
    "duration": 17,
    "start_time": "2022-08-05T13:47:22.487Z"
   },
   {
    "duration": 46,
    "start_time": "2022-08-05T13:47:22.507Z"
   },
   {
    "duration": 43,
    "start_time": "2022-08-05T13:47:22.556Z"
   },
   {
    "duration": 110,
    "start_time": "2022-08-05T13:47:22.601Z"
   },
   {
    "duration": 0,
    "start_time": "2022-08-05T13:47:22.713Z"
   },
   {
    "duration": 0,
    "start_time": "2022-08-05T13:47:22.714Z"
   },
   {
    "duration": 0,
    "start_time": "2022-08-05T13:47:22.715Z"
   },
   {
    "duration": 0,
    "start_time": "2022-08-05T13:47:22.716Z"
   },
   {
    "duration": 0,
    "start_time": "2022-08-05T13:47:22.720Z"
   },
   {
    "duration": 0,
    "start_time": "2022-08-05T13:47:22.722Z"
   },
   {
    "duration": 0,
    "start_time": "2022-08-05T13:47:22.723Z"
   },
   {
    "duration": 0,
    "start_time": "2022-08-05T13:47:22.724Z"
   },
   {
    "duration": 0,
    "start_time": "2022-08-05T13:47:22.724Z"
   },
   {
    "duration": 0,
    "start_time": "2022-08-05T13:47:22.725Z"
   },
   {
    "duration": 0,
    "start_time": "2022-08-05T13:47:22.726Z"
   },
   {
    "duration": 0,
    "start_time": "2022-08-05T13:47:22.727Z"
   },
   {
    "duration": 0,
    "start_time": "2022-08-05T13:47:22.728Z"
   },
   {
    "duration": 0,
    "start_time": "2022-08-05T13:47:22.729Z"
   },
   {
    "duration": 0,
    "start_time": "2022-08-05T13:47:22.730Z"
   },
   {
    "duration": 0,
    "start_time": "2022-08-05T13:47:22.731Z"
   },
   {
    "duration": 0,
    "start_time": "2022-08-05T13:47:22.732Z"
   },
   {
    "duration": 0,
    "start_time": "2022-08-05T13:47:22.735Z"
   },
   {
    "duration": 0,
    "start_time": "2022-08-05T13:47:22.736Z"
   },
   {
    "duration": 0,
    "start_time": "2022-08-05T13:47:22.738Z"
   },
   {
    "duration": 0,
    "start_time": "2022-08-05T13:47:22.739Z"
   },
   {
    "duration": 0,
    "start_time": "2022-08-05T13:47:22.740Z"
   },
   {
    "duration": 1142,
    "start_time": "2022-08-05T13:47:30.295Z"
   },
   {
    "duration": 5,
    "start_time": "2022-08-05T13:50:58.640Z"
   },
   {
    "duration": 6,
    "start_time": "2022-08-05T13:51:05.377Z"
   },
   {
    "duration": 16,
    "start_time": "2022-08-05T13:51:48.467Z"
   },
   {
    "duration": 1114,
    "start_time": "2022-08-05T13:52:25.538Z"
   },
   {
    "duration": 18,
    "start_time": "2022-08-05T13:53:07.639Z"
   },
   {
    "duration": 4,
    "start_time": "2022-08-05T13:53:20.244Z"
   },
   {
    "duration": 15,
    "start_time": "2022-08-05T13:53:24.837Z"
   },
   {
    "duration": 13,
    "start_time": "2022-08-05T13:53:35.482Z"
   },
   {
    "duration": 14,
    "start_time": "2022-08-05T13:53:43.757Z"
   },
   {
    "duration": 97,
    "start_time": "2022-08-05T14:03:23.147Z"
   },
   {
    "duration": 6,
    "start_time": "2022-08-05T14:03:33.068Z"
   },
   {
    "duration": 1349,
    "start_time": "2022-08-05T14:03:37.841Z"
   },
   {
    "duration": 1689,
    "start_time": "2022-08-05T14:04:07.478Z"
   },
   {
    "duration": 1624,
    "start_time": "2022-08-05T14:04:32.240Z"
   },
   {
    "duration": 1056,
    "start_time": "2022-08-05T14:04:46.442Z"
   },
   {
    "duration": 163,
    "start_time": "2022-08-05T14:04:47.500Z"
   },
   {
    "duration": 11,
    "start_time": "2022-08-05T14:04:47.665Z"
   },
   {
    "duration": 9,
    "start_time": "2022-08-05T14:04:47.678Z"
   },
   {
    "duration": 19,
    "start_time": "2022-08-05T14:04:47.689Z"
   },
   {
    "duration": 42,
    "start_time": "2022-08-05T14:04:47.710Z"
   },
   {
    "duration": 14,
    "start_time": "2022-08-05T14:04:47.754Z"
   },
   {
    "duration": 19,
    "start_time": "2022-08-05T14:04:47.771Z"
   },
   {
    "duration": 33,
    "start_time": "2022-08-05T14:04:47.792Z"
   },
   {
    "duration": 15,
    "start_time": "2022-08-05T14:04:47.827Z"
   },
   {
    "duration": 23,
    "start_time": "2022-08-05T14:04:47.844Z"
   },
   {
    "duration": 14,
    "start_time": "2022-08-05T14:04:47.869Z"
   },
   {
    "duration": 7,
    "start_time": "2022-08-05T14:04:47.884Z"
   },
   {
    "duration": 43,
    "start_time": "2022-08-05T14:04:47.894Z"
   },
   {
    "duration": 17,
    "start_time": "2022-08-05T14:04:47.939Z"
   },
   {
    "duration": 8,
    "start_time": "2022-08-05T14:04:47.957Z"
   },
   {
    "duration": 298,
    "start_time": "2022-08-05T14:04:47.967Z"
   },
   {
    "duration": 324,
    "start_time": "2022-08-05T14:04:48.266Z"
   },
   {
    "duration": 265,
    "start_time": "2022-08-05T14:04:48.592Z"
   },
   {
    "duration": 294,
    "start_time": "2022-08-05T14:04:48.859Z"
   },
   {
    "duration": 245,
    "start_time": "2022-08-05T14:04:49.155Z"
   },
   {
    "duration": 381,
    "start_time": "2022-08-05T14:04:49.401Z"
   },
   {
    "duration": 211,
    "start_time": "2022-08-05T14:04:49.784Z"
   },
   {
    "duration": 4,
    "start_time": "2022-08-05T14:04:49.997Z"
   },
   {
    "duration": 202,
    "start_time": "2022-08-05T14:04:50.011Z"
   },
   {
    "duration": 202,
    "start_time": "2022-08-05T14:04:50.215Z"
   },
   {
    "duration": 6,
    "start_time": "2022-08-05T14:04:50.419Z"
   },
   {
    "duration": 471,
    "start_time": "2022-08-05T14:04:50.427Z"
   },
   {
    "duration": 5,
    "start_time": "2022-08-05T14:04:50.899Z"
   },
   {
    "duration": 48,
    "start_time": "2022-08-05T14:04:50.913Z"
   },
   {
    "duration": 26,
    "start_time": "2022-08-05T14:04:50.962Z"
   },
   {
    "duration": 84,
    "start_time": "2022-08-05T14:04:50.989Z"
   },
   {
    "duration": 17,
    "start_time": "2022-08-05T14:04:51.075Z"
   },
   {
    "duration": 46,
    "start_time": "2022-08-05T14:04:51.093Z"
   },
   {
    "duration": 42,
    "start_time": "2022-08-05T14:04:51.141Z"
   },
   {
    "duration": 20,
    "start_time": "2022-08-05T14:05:20.734Z"
   },
   {
    "duration": 6,
    "start_time": "2022-08-05T14:05:50.835Z"
   },
   {
    "duration": 3,
    "start_time": "2022-08-05T14:09:57.236Z"
   },
   {
    "duration": 13,
    "start_time": "2022-08-05T14:10:30.786Z"
   },
   {
    "duration": 9,
    "start_time": "2022-08-05T14:11:05.930Z"
   },
   {
    "duration": 7,
    "start_time": "2022-08-05T14:11:58.824Z"
   },
   {
    "duration": 6,
    "start_time": "2022-08-05T14:12:06.726Z"
   },
   {
    "duration": 16,
    "start_time": "2022-08-05T14:12:12.279Z"
   },
   {
    "duration": 994,
    "start_time": "2022-08-05T14:12:23.928Z"
   },
   {
    "duration": 137,
    "start_time": "2022-08-05T14:12:24.925Z"
   },
   {
    "duration": 11,
    "start_time": "2022-08-05T14:12:25.063Z"
   },
   {
    "duration": 8,
    "start_time": "2022-08-05T14:12:25.075Z"
   },
   {
    "duration": 17,
    "start_time": "2022-08-05T14:12:25.085Z"
   },
   {
    "duration": 21,
    "start_time": "2022-08-05T14:12:25.103Z"
   },
   {
    "duration": 13,
    "start_time": "2022-08-05T14:12:25.125Z"
   },
   {
    "duration": 10,
    "start_time": "2022-08-05T14:12:25.140Z"
   },
   {
    "duration": 22,
    "start_time": "2022-08-05T14:12:25.151Z"
   },
   {
    "duration": 6,
    "start_time": "2022-08-05T14:12:25.174Z"
   },
   {
    "duration": 16,
    "start_time": "2022-08-05T14:12:25.182Z"
   },
   {
    "duration": 33,
    "start_time": "2022-08-05T14:12:25.200Z"
   },
   {
    "duration": 6,
    "start_time": "2022-08-05T14:12:25.235Z"
   },
   {
    "duration": 11,
    "start_time": "2022-08-05T14:12:25.243Z"
   },
   {
    "duration": 10,
    "start_time": "2022-08-05T14:12:25.255Z"
   },
   {
    "duration": 296,
    "start_time": "2022-08-05T14:12:25.266Z"
   },
   {
    "duration": 312,
    "start_time": "2022-08-05T14:12:25.563Z"
   },
   {
    "duration": 248,
    "start_time": "2022-08-05T14:12:25.877Z"
   },
   {
    "duration": 316,
    "start_time": "2022-08-05T14:12:26.127Z"
   },
   {
    "duration": 246,
    "start_time": "2022-08-05T14:12:26.445Z"
   },
   {
    "duration": 356,
    "start_time": "2022-08-05T14:12:26.693Z"
   },
   {
    "duration": 186,
    "start_time": "2022-08-05T14:12:27.051Z"
   },
   {
    "duration": 5,
    "start_time": "2022-08-05T14:12:27.239Z"
   },
   {
    "duration": 177,
    "start_time": "2022-08-05T14:12:27.245Z"
   },
   {
    "duration": 198,
    "start_time": "2022-08-05T14:12:27.423Z"
   },
   {
    "duration": 5,
    "start_time": "2022-08-05T14:12:27.623Z"
   },
   {
    "duration": 446,
    "start_time": "2022-08-05T14:12:27.630Z"
   },
   {
    "duration": 3,
    "start_time": "2022-08-05T14:12:28.078Z"
   },
   {
    "duration": 11,
    "start_time": "2022-08-05T14:12:28.083Z"
   },
   {
    "duration": 22,
    "start_time": "2022-08-05T14:12:28.095Z"
   },
   {
    "duration": 29,
    "start_time": "2022-08-05T14:12:28.123Z"
   },
   {
    "duration": 4,
    "start_time": "2022-08-05T14:12:28.154Z"
   },
   {
    "duration": 10,
    "start_time": "2022-08-05T14:12:28.159Z"
   },
   {
    "duration": 7,
    "start_time": "2022-08-05T14:12:28.170Z"
   },
   {
    "duration": 1016,
    "start_time": "2022-08-05T14:18:53.898Z"
   },
   {
    "duration": 128,
    "start_time": "2022-08-05T14:18:54.916Z"
   },
   {
    "duration": 14,
    "start_time": "2022-08-05T14:18:55.046Z"
   },
   {
    "duration": 4,
    "start_time": "2022-08-05T14:18:55.062Z"
   },
   {
    "duration": 17,
    "start_time": "2022-08-05T14:18:55.069Z"
   },
   {
    "duration": 11,
    "start_time": "2022-08-05T14:18:55.088Z"
   },
   {
    "duration": 16,
    "start_time": "2022-08-05T14:18:55.101Z"
   },
   {
    "duration": 16,
    "start_time": "2022-08-05T14:18:55.119Z"
   },
   {
    "duration": 18,
    "start_time": "2022-08-05T14:18:55.137Z"
   },
   {
    "duration": 6,
    "start_time": "2022-08-05T14:18:55.157Z"
   },
   {
    "duration": 16,
    "start_time": "2022-08-05T14:18:55.165Z"
   },
   {
    "duration": 35,
    "start_time": "2022-08-05T14:18:55.182Z"
   },
   {
    "duration": 8,
    "start_time": "2022-08-05T14:18:55.219Z"
   },
   {
    "duration": 12,
    "start_time": "2022-08-05T14:18:55.230Z"
   },
   {
    "duration": 12,
    "start_time": "2022-08-05T14:18:55.243Z"
   },
   {
    "duration": 309,
    "start_time": "2022-08-05T14:18:55.256Z"
   },
   {
    "duration": 305,
    "start_time": "2022-08-05T14:18:55.567Z"
   },
   {
    "duration": 245,
    "start_time": "2022-08-05T14:18:55.874Z"
   },
   {
    "duration": 335,
    "start_time": "2022-08-05T14:18:56.121Z"
   },
   {
    "duration": 237,
    "start_time": "2022-08-05T14:18:56.457Z"
   },
   {
    "duration": 352,
    "start_time": "2022-08-05T14:18:56.696Z"
   },
   {
    "duration": 183,
    "start_time": "2022-08-05T14:18:57.050Z"
   },
   {
    "duration": 5,
    "start_time": "2022-08-05T14:18:57.234Z"
   },
   {
    "duration": 180,
    "start_time": "2022-08-05T14:18:57.240Z"
   },
   {
    "duration": 191,
    "start_time": "2022-08-05T14:18:57.422Z"
   },
   {
    "duration": 5,
    "start_time": "2022-08-05T14:18:57.615Z"
   },
   {
    "duration": 480,
    "start_time": "2022-08-05T14:18:57.622Z"
   },
   {
    "duration": 10,
    "start_time": "2022-08-05T14:18:58.103Z"
   },
   {
    "duration": 8,
    "start_time": "2022-08-05T14:18:58.115Z"
   },
   {
    "duration": 7,
    "start_time": "2022-08-05T14:18:58.125Z"
   },
   {
    "duration": 34,
    "start_time": "2022-08-05T14:18:58.133Z"
   },
   {
    "duration": 4,
    "start_time": "2022-08-05T14:18:58.169Z"
   },
   {
    "duration": 43,
    "start_time": "2022-08-05T14:18:58.175Z"
   },
   {
    "duration": 9,
    "start_time": "2022-08-05T14:18:58.219Z"
   },
   {
    "duration": 1118,
    "start_time": "2022-08-05T14:19:51.312Z"
   },
   {
    "duration": 994,
    "start_time": "2022-08-05T14:19:58.463Z"
   },
   {
    "duration": 142,
    "start_time": "2022-08-05T14:19:59.458Z"
   },
   {
    "duration": 21,
    "start_time": "2022-08-05T14:19:59.602Z"
   },
   {
    "duration": 5,
    "start_time": "2022-08-05T14:19:59.625Z"
   },
   {
    "duration": 14,
    "start_time": "2022-08-05T14:19:59.631Z"
   },
   {
    "duration": 9,
    "start_time": "2022-08-05T14:19:59.647Z"
   },
   {
    "duration": 12,
    "start_time": "2022-08-05T14:19:59.658Z"
   },
   {
    "duration": 17,
    "start_time": "2022-08-05T14:19:59.671Z"
   },
   {
    "duration": 24,
    "start_time": "2022-08-05T14:19:59.689Z"
   },
   {
    "duration": 14,
    "start_time": "2022-08-05T14:19:59.715Z"
   },
   {
    "duration": 17,
    "start_time": "2022-08-05T14:19:59.730Z"
   },
   {
    "duration": 12,
    "start_time": "2022-08-05T14:19:59.750Z"
   },
   {
    "duration": 7,
    "start_time": "2022-08-05T14:19:59.764Z"
   },
   {
    "duration": 49,
    "start_time": "2022-08-05T14:19:59.772Z"
   },
   {
    "duration": 19,
    "start_time": "2022-08-05T14:19:59.825Z"
   },
   {
    "duration": 298,
    "start_time": "2022-08-05T14:19:59.845Z"
   },
   {
    "duration": 324,
    "start_time": "2022-08-05T14:20:00.144Z"
   },
   {
    "duration": 256,
    "start_time": "2022-08-05T14:20:00.469Z"
   },
   {
    "duration": 325,
    "start_time": "2022-08-05T14:20:00.726Z"
   },
   {
    "duration": 253,
    "start_time": "2022-08-05T14:20:01.052Z"
   },
   {
    "duration": 349,
    "start_time": "2022-08-05T14:20:01.312Z"
   },
   {
    "duration": 194,
    "start_time": "2022-08-05T14:20:01.663Z"
   },
   {
    "duration": 4,
    "start_time": "2022-08-05T14:20:01.859Z"
   },
   {
    "duration": 195,
    "start_time": "2022-08-05T14:20:01.864Z"
   },
   {
    "duration": 183,
    "start_time": "2022-08-05T14:20:02.060Z"
   },
   {
    "duration": 5,
    "start_time": "2022-08-05T14:20:02.244Z"
   },
   {
    "duration": 533,
    "start_time": "2022-08-05T14:20:02.250Z"
   },
   {
    "duration": 7,
    "start_time": "2022-08-05T14:20:02.786Z"
   },
   {
    "duration": 19,
    "start_time": "2022-08-05T14:20:02.795Z"
   },
   {
    "duration": 22,
    "start_time": "2022-08-05T14:20:02.816Z"
   },
   {
    "duration": 38,
    "start_time": "2022-08-05T14:20:02.840Z"
   },
   {
    "duration": 5,
    "start_time": "2022-08-05T14:20:02.880Z"
   },
   {
    "duration": 13,
    "start_time": "2022-08-05T14:20:02.886Z"
   },
   {
    "duration": 24,
    "start_time": "2022-08-05T14:20:02.900Z"
   },
   {
    "duration": 870,
    "start_time": "2022-08-05T14:22:35.712Z"
   },
   {
    "duration": 1030,
    "start_time": "2022-08-05T14:22:41.631Z"
   },
   {
    "duration": 175,
    "start_time": "2022-08-05T14:22:42.664Z"
   },
   {
    "duration": 15,
    "start_time": "2022-08-05T14:22:42.841Z"
   },
   {
    "duration": 14,
    "start_time": "2022-08-05T14:22:42.859Z"
   },
   {
    "duration": 47,
    "start_time": "2022-08-05T14:22:42.875Z"
   },
   {
    "duration": 12,
    "start_time": "2022-08-05T14:22:42.923Z"
   },
   {
    "duration": 11,
    "start_time": "2022-08-05T14:22:42.936Z"
   },
   {
    "duration": 12,
    "start_time": "2022-08-05T14:22:42.949Z"
   },
   {
    "duration": 51,
    "start_time": "2022-08-05T14:22:42.963Z"
   },
   {
    "duration": 7,
    "start_time": "2022-08-05T14:22:43.019Z"
   },
   {
    "duration": 23,
    "start_time": "2022-08-05T14:22:43.028Z"
   },
   {
    "duration": 15,
    "start_time": "2022-08-05T14:22:43.052Z"
   },
   {
    "duration": 10,
    "start_time": "2022-08-05T14:22:43.069Z"
   },
   {
    "duration": 40,
    "start_time": "2022-08-05T14:22:43.080Z"
   },
   {
    "duration": 10,
    "start_time": "2022-08-05T14:22:43.122Z"
   },
   {
    "duration": 308,
    "start_time": "2022-08-05T14:22:43.133Z"
   },
   {
    "duration": 312,
    "start_time": "2022-08-05T14:22:43.442Z"
   },
   {
    "duration": 238,
    "start_time": "2022-08-05T14:22:43.755Z"
   },
   {
    "duration": 342,
    "start_time": "2022-08-05T14:22:43.995Z"
   },
   {
    "duration": 234,
    "start_time": "2022-08-05T14:22:44.339Z"
   },
   {
    "duration": 384,
    "start_time": "2022-08-05T14:22:44.574Z"
   },
   {
    "duration": 190,
    "start_time": "2022-08-05T14:22:44.960Z"
   },
   {
    "duration": 5,
    "start_time": "2022-08-05T14:22:45.151Z"
   },
   {
    "duration": 194,
    "start_time": "2022-08-05T14:22:45.158Z"
   },
   {
    "duration": 185,
    "start_time": "2022-08-05T14:22:45.354Z"
   },
   {
    "duration": 6,
    "start_time": "2022-08-05T14:22:45.541Z"
   },
   {
    "duration": 491,
    "start_time": "2022-08-05T14:22:45.549Z"
   },
   {
    "duration": 5,
    "start_time": "2022-08-05T14:22:46.045Z"
   },
   {
    "duration": 11,
    "start_time": "2022-08-05T14:22:46.051Z"
   },
   {
    "duration": 10,
    "start_time": "2022-08-05T14:22:46.063Z"
   },
   {
    "duration": 73,
    "start_time": "2022-08-05T14:22:46.074Z"
   },
   {
    "duration": 6,
    "start_time": "2022-08-05T14:22:46.149Z"
   },
   {
    "duration": 14,
    "start_time": "2022-08-05T14:22:46.156Z"
   },
   {
    "duration": 8,
    "start_time": "2022-08-05T14:22:46.172Z"
   },
   {
    "duration": 1015,
    "start_time": "2022-08-05T14:37:51.343Z"
   },
   {
    "duration": 131,
    "start_time": "2022-08-05T14:37:52.360Z"
   },
   {
    "duration": 12,
    "start_time": "2022-08-05T14:37:52.493Z"
   },
   {
    "duration": 30,
    "start_time": "2022-08-05T14:37:52.507Z"
   },
   {
    "duration": 18,
    "start_time": "2022-08-05T14:37:52.540Z"
   },
   {
    "duration": 21,
    "start_time": "2022-08-05T14:37:52.560Z"
   },
   {
    "duration": 41,
    "start_time": "2022-08-05T14:37:52.583Z"
   },
   {
    "duration": 44,
    "start_time": "2022-08-05T14:37:52.626Z"
   },
   {
    "duration": 47,
    "start_time": "2022-08-05T14:37:52.672Z"
   },
   {
    "duration": 37,
    "start_time": "2022-08-05T14:37:52.721Z"
   },
   {
    "duration": 31,
    "start_time": "2022-08-05T14:37:52.760Z"
   },
   {
    "duration": 31,
    "start_time": "2022-08-05T14:37:52.793Z"
   },
   {
    "duration": 30,
    "start_time": "2022-08-05T14:37:52.826Z"
   },
   {
    "duration": 22,
    "start_time": "2022-08-05T14:37:52.860Z"
   },
   {
    "duration": 13,
    "start_time": "2022-08-05T14:37:52.884Z"
   },
   {
    "duration": 288,
    "start_time": "2022-08-05T14:37:52.899Z"
   },
   {
    "duration": 328,
    "start_time": "2022-08-05T14:37:53.189Z"
   },
   {
    "duration": 246,
    "start_time": "2022-08-05T14:37:53.519Z"
   },
   {
    "duration": 294,
    "start_time": "2022-08-05T14:37:53.767Z"
   },
   {
    "duration": 247,
    "start_time": "2022-08-05T14:37:54.062Z"
   },
   {
    "duration": 341,
    "start_time": "2022-08-05T14:37:54.312Z"
   },
   {
    "duration": 183,
    "start_time": "2022-08-05T14:37:54.654Z"
   },
   {
    "duration": 5,
    "start_time": "2022-08-05T14:37:54.839Z"
   },
   {
    "duration": 186,
    "start_time": "2022-08-05T14:37:54.846Z"
   },
   {
    "duration": 188,
    "start_time": "2022-08-05T14:37:55.034Z"
   },
   {
    "duration": 5,
    "start_time": "2022-08-05T14:37:55.227Z"
   },
   {
    "duration": 447,
    "start_time": "2022-08-05T14:37:55.234Z"
   },
   {
    "duration": 5,
    "start_time": "2022-08-05T14:37:55.682Z"
   },
   {
    "duration": 46,
    "start_time": "2022-08-05T14:37:55.688Z"
   },
   {
    "duration": 30,
    "start_time": "2022-08-05T14:37:55.736Z"
   },
   {
    "duration": 57,
    "start_time": "2022-08-05T14:37:55.768Z"
   },
   {
    "duration": 0,
    "start_time": "2022-08-05T14:37:55.827Z"
   },
   {
    "duration": 0,
    "start_time": "2022-08-05T14:37:55.828Z"
   },
   {
    "duration": 0,
    "start_time": "2022-08-05T14:37:55.829Z"
   },
   {
    "duration": 6,
    "start_time": "2022-08-05T14:39:44.326Z"
   },
   {
    "duration": 29,
    "start_time": "2022-08-05T14:39:57.335Z"
   },
   {
    "duration": 944,
    "start_time": "2022-08-05T14:40:10.377Z"
   },
   {
    "duration": 126,
    "start_time": "2022-08-05T14:40:11.324Z"
   },
   {
    "duration": 11,
    "start_time": "2022-08-05T14:40:11.452Z"
   },
   {
    "duration": 3,
    "start_time": "2022-08-05T14:40:11.464Z"
   },
   {
    "duration": 12,
    "start_time": "2022-08-05T14:40:11.469Z"
   },
   {
    "duration": 12,
    "start_time": "2022-08-05T14:40:11.483Z"
   },
   {
    "duration": 12,
    "start_time": "2022-08-05T14:40:11.497Z"
   },
   {
    "duration": 20,
    "start_time": "2022-08-05T14:40:11.514Z"
   },
   {
    "duration": 19,
    "start_time": "2022-08-05T14:40:11.535Z"
   },
   {
    "duration": 5,
    "start_time": "2022-08-05T14:40:11.556Z"
   },
   {
    "duration": 16,
    "start_time": "2022-08-05T14:40:11.562Z"
   },
   {
    "duration": 15,
    "start_time": "2022-08-05T14:40:11.579Z"
   },
   {
    "duration": 29,
    "start_time": "2022-08-05T14:40:11.595Z"
   },
   {
    "duration": 10,
    "start_time": "2022-08-05T14:40:11.625Z"
   },
   {
    "duration": 8,
    "start_time": "2022-08-05T14:40:11.636Z"
   },
   {
    "duration": 295,
    "start_time": "2022-08-05T14:40:11.645Z"
   },
   {
    "duration": 335,
    "start_time": "2022-08-05T14:40:11.941Z"
   },
   {
    "duration": 253,
    "start_time": "2022-08-05T14:40:12.278Z"
   },
   {
    "duration": 333,
    "start_time": "2022-08-05T14:40:12.532Z"
   },
   {
    "duration": 257,
    "start_time": "2022-08-05T14:40:12.867Z"
   },
   {
    "duration": 356,
    "start_time": "2022-08-05T14:40:13.126Z"
   },
   {
    "duration": 182,
    "start_time": "2022-08-05T14:40:13.484Z"
   },
   {
    "duration": 5,
    "start_time": "2022-08-05T14:40:13.667Z"
   },
   {
    "duration": 181,
    "start_time": "2022-08-05T14:40:13.674Z"
   },
   {
    "duration": 179,
    "start_time": "2022-08-05T14:40:13.856Z"
   },
   {
    "duration": 5,
    "start_time": "2022-08-05T14:40:14.036Z"
   },
   {
    "duration": 448,
    "start_time": "2022-08-05T14:40:14.042Z"
   },
   {
    "duration": 4,
    "start_time": "2022-08-05T14:40:14.493Z"
   },
   {
    "duration": 26,
    "start_time": "2022-08-05T14:40:14.498Z"
   },
   {
    "duration": 9,
    "start_time": "2022-08-05T14:40:14.525Z"
   },
   {
    "duration": 30,
    "start_time": "2022-08-05T14:40:14.535Z"
   },
   {
    "duration": 4,
    "start_time": "2022-08-05T14:40:14.567Z"
   },
   {
    "duration": 10,
    "start_time": "2022-08-05T14:40:14.572Z"
   },
   {
    "duration": 34,
    "start_time": "2022-08-05T14:40:14.583Z"
   },
   {
    "duration": 1136,
    "start_time": "2022-08-06T07:39:24.912Z"
   },
   {
    "duration": 250,
    "start_time": "2022-08-06T07:39:26.050Z"
   },
   {
    "duration": 11,
    "start_time": "2022-08-06T07:39:26.303Z"
   },
   {
    "duration": 9,
    "start_time": "2022-08-06T07:39:26.317Z"
   },
   {
    "duration": 25,
    "start_time": "2022-08-06T07:39:26.327Z"
   },
   {
    "duration": 13,
    "start_time": "2022-08-06T07:39:26.355Z"
   },
   {
    "duration": 13,
    "start_time": "2022-08-06T07:39:26.369Z"
   },
   {
    "duration": 12,
    "start_time": "2022-08-06T07:39:26.386Z"
   },
   {
    "duration": 21,
    "start_time": "2022-08-06T07:39:26.400Z"
   },
   {
    "duration": 6,
    "start_time": "2022-08-06T07:39:26.423Z"
   },
   {
    "duration": 15,
    "start_time": "2022-08-06T07:39:26.430Z"
   },
   {
    "duration": 14,
    "start_time": "2022-08-06T07:39:26.447Z"
   },
   {
    "duration": 26,
    "start_time": "2022-08-06T07:39:26.462Z"
   },
   {
    "duration": 10,
    "start_time": "2022-08-06T07:39:26.490Z"
   },
   {
    "duration": 8,
    "start_time": "2022-08-06T07:39:26.501Z"
   },
   {
    "duration": 310,
    "start_time": "2022-08-06T07:39:26.510Z"
   },
   {
    "duration": 295,
    "start_time": "2022-08-06T07:39:26.821Z"
   },
   {
    "duration": 227,
    "start_time": "2022-08-06T07:39:27.117Z"
   },
   {
    "duration": 390,
    "start_time": "2022-08-06T07:39:27.346Z"
   },
   {
    "duration": 225,
    "start_time": "2022-08-06T07:39:27.738Z"
   },
   {
    "duration": 348,
    "start_time": "2022-08-06T07:39:27.964Z"
   },
   {
    "duration": 193,
    "start_time": "2022-08-06T07:39:28.313Z"
   },
   {
    "duration": 6,
    "start_time": "2022-08-06T07:39:28.508Z"
   },
   {
    "duration": 200,
    "start_time": "2022-08-06T07:39:28.516Z"
   },
   {
    "duration": 182,
    "start_time": "2022-08-06T07:39:28.718Z"
   },
   {
    "duration": 5,
    "start_time": "2022-08-06T07:39:28.902Z"
   },
   {
    "duration": 477,
    "start_time": "2022-08-06T07:39:28.908Z"
   },
   {
    "duration": 4,
    "start_time": "2022-08-06T07:39:29.388Z"
   },
   {
    "duration": 11,
    "start_time": "2022-08-06T07:39:29.393Z"
   },
   {
    "duration": 6,
    "start_time": "2022-08-06T07:39:29.405Z"
   },
   {
    "duration": 30,
    "start_time": "2022-08-06T07:39:29.413Z"
   },
   {
    "duration": 5,
    "start_time": "2022-08-06T07:39:29.445Z"
   },
   {
    "duration": 36,
    "start_time": "2022-08-06T07:39:29.451Z"
   },
   {
    "duration": 8,
    "start_time": "2022-08-06T07:39:29.489Z"
   },
   {
    "duration": 1117,
    "start_time": "2022-08-06T07:40:27.693Z"
   },
   {
    "duration": 144,
    "start_time": "2022-08-06T07:40:28.813Z"
   },
   {
    "duration": 12,
    "start_time": "2022-08-06T07:40:28.959Z"
   },
   {
    "duration": 11,
    "start_time": "2022-08-06T07:40:28.972Z"
   },
   {
    "duration": 34,
    "start_time": "2022-08-06T07:40:28.985Z"
   },
   {
    "duration": 11,
    "start_time": "2022-08-06T07:40:29.020Z"
   },
   {
    "duration": 12,
    "start_time": "2022-08-06T07:40:29.032Z"
   },
   {
    "duration": 13,
    "start_time": "2022-08-06T07:40:29.046Z"
   },
   {
    "duration": 17,
    "start_time": "2022-08-06T07:40:29.060Z"
   },
   {
    "duration": 12,
    "start_time": "2022-08-06T07:40:29.079Z"
   },
   {
    "duration": 16,
    "start_time": "2022-08-06T07:40:29.092Z"
   },
   {
    "duration": 14,
    "start_time": "2022-08-06T07:40:29.109Z"
   },
   {
    "duration": 6,
    "start_time": "2022-08-06T07:40:29.125Z"
   },
   {
    "duration": 12,
    "start_time": "2022-08-06T07:40:29.133Z"
   },
   {
    "duration": 8,
    "start_time": "2022-08-06T07:40:29.146Z"
   },
   {
    "duration": 341,
    "start_time": "2022-08-06T07:40:29.156Z"
   },
   {
    "duration": 309,
    "start_time": "2022-08-06T07:40:29.498Z"
   },
   {
    "duration": 256,
    "start_time": "2022-08-06T07:40:29.809Z"
   },
   {
    "duration": 328,
    "start_time": "2022-08-06T07:40:30.067Z"
   },
   {
    "duration": 240,
    "start_time": "2022-08-06T07:40:30.396Z"
   },
   {
    "duration": 314,
    "start_time": "2022-08-06T07:40:30.637Z"
   },
   {
    "duration": 188,
    "start_time": "2022-08-06T07:40:30.952Z"
   },
   {
    "duration": 4,
    "start_time": "2022-08-06T07:40:31.142Z"
   },
   {
    "duration": 175,
    "start_time": "2022-08-06T07:40:31.147Z"
   },
   {
    "duration": 185,
    "start_time": "2022-08-06T07:40:31.324Z"
   },
   {
    "duration": 6,
    "start_time": "2022-08-06T07:40:31.511Z"
   },
   {
    "duration": 482,
    "start_time": "2022-08-06T07:40:31.519Z"
   },
   {
    "duration": 5,
    "start_time": "2022-08-06T07:40:32.004Z"
   },
   {
    "duration": 15,
    "start_time": "2022-08-06T07:40:32.011Z"
   },
   {
    "duration": 10,
    "start_time": "2022-08-06T07:40:32.028Z"
   },
   {
    "duration": 37,
    "start_time": "2022-08-06T07:40:32.040Z"
   },
   {
    "duration": 4,
    "start_time": "2022-08-06T07:40:32.086Z"
   },
   {
    "duration": 38,
    "start_time": "2022-08-06T07:40:32.092Z"
   },
   {
    "duration": 13,
    "start_time": "2022-08-06T07:40:32.131Z"
   }
  ],
  "kernelspec": {
   "display_name": "Python 3 (ipykernel)",
   "language": "python",
   "name": "python3"
  },
  "language_info": {
   "codemirror_mode": {
    "name": "ipython",
    "version": 3
   },
   "file_extension": ".py",
   "mimetype": "text/x-python",
   "name": "python",
   "nbconvert_exporter": "python",
   "pygments_lexer": "ipython3",
   "version": "3.9.5"
  },
  "toc": {
   "base_numbering": 1,
   "nav_menu": {},
   "number_sections": true,
   "sideBar": true,
   "skip_h1_title": true,
   "title_cell": "Table of Contents",
   "title_sidebar": "Contents",
   "toc_cell": false,
   "toc_position": {},
   "toc_section_display": true,
   "toc_window_display": false
  }
 },
 "nbformat": 4,
 "nbformat_minor": 2
}
