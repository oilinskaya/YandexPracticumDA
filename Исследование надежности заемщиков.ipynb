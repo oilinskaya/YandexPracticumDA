{
 "cells": [
  {
   "cell_type": "markdown",
   "id": "2b762f59",
   "metadata": {},
   "source": [
    "<div class=\"alert alert-success\">\n",
    "<b>Комментарий ревьюера v 2.0 ✔️:</b> Отлично, Ольга! В твоем проекте отсутствуют значительные недостатки и он конечно же принят. Спасибо за работу!)"
   ]
  },
  {
   "cell_type": "markdown",
   "id": "db8e82a0",
   "metadata": {},
   "source": [
    "# Исследование надежности заемщиков."
   ]
  },
  {
   "cell_type": "markdown",
   "id": "951af493",
   "metadata": {},
   "source": [
    "Цель исследования - проверить 2 гипотезы:\n",
    "\n",
    "1. Влияет ли семейное положение на факт погашения кредита в срок?\n",
    "\n",
    "2. Влияет ли количество детей клиента на факт погашения кредита в срок."
   ]
  },
  {
   "cell_type": "markdown",
   "id": "71623f61",
   "metadata": {},
   "source": [
    "### Шаг 1. Обзор данных"
   ]
  },
  {
   "cell_type": "code",
   "execution_count": 1,
   "id": "51fa78ea",
   "metadata": {},
   "outputs": [
    {
     "data": {
      "text/html": [
       "<div>\n",
       "<style scoped>\n",
       "    .dataframe tbody tr th:only-of-type {\n",
       "        vertical-align: middle;\n",
       "    }\n",
       "\n",
       "    .dataframe tbody tr th {\n",
       "        vertical-align: top;\n",
       "    }\n",
       "\n",
       "    .dataframe thead th {\n",
       "        text-align: right;\n",
       "    }\n",
       "</style>\n",
       "<table border=\"1\" class=\"dataframe\">\n",
       "  <thead>\n",
       "    <tr style=\"text-align: right;\">\n",
       "      <th></th>\n",
       "      <th>children</th>\n",
       "      <th>days_employed</th>\n",
       "      <th>dob_years</th>\n",
       "      <th>education</th>\n",
       "      <th>education_id</th>\n",
       "      <th>family_status</th>\n",
       "      <th>family_status_id</th>\n",
       "      <th>gender</th>\n",
       "      <th>income_type</th>\n",
       "      <th>debt</th>\n",
       "      <th>total_income</th>\n",
       "      <th>purpose</th>\n",
       "    </tr>\n",
       "  </thead>\n",
       "  <tbody>\n",
       "    <tr>\n",
       "      <th>0</th>\n",
       "      <td>1</td>\n",
       "      <td>-8437.673028</td>\n",
       "      <td>42</td>\n",
       "      <td>высшее</td>\n",
       "      <td>0</td>\n",
       "      <td>женат / замужем</td>\n",
       "      <td>0</td>\n",
       "      <td>F</td>\n",
       "      <td>сотрудник</td>\n",
       "      <td>0</td>\n",
       "      <td>253875.639453</td>\n",
       "      <td>покупка жилья</td>\n",
       "    </tr>\n",
       "    <tr>\n",
       "      <th>1</th>\n",
       "      <td>1</td>\n",
       "      <td>-4024.803754</td>\n",
       "      <td>36</td>\n",
       "      <td>среднее</td>\n",
       "      <td>1</td>\n",
       "      <td>женат / замужем</td>\n",
       "      <td>0</td>\n",
       "      <td>F</td>\n",
       "      <td>сотрудник</td>\n",
       "      <td>0</td>\n",
       "      <td>112080.014102</td>\n",
       "      <td>приобретение автомобиля</td>\n",
       "    </tr>\n",
       "    <tr>\n",
       "      <th>2</th>\n",
       "      <td>0</td>\n",
       "      <td>-5623.422610</td>\n",
       "      <td>33</td>\n",
       "      <td>Среднее</td>\n",
       "      <td>1</td>\n",
       "      <td>женат / замужем</td>\n",
       "      <td>0</td>\n",
       "      <td>M</td>\n",
       "      <td>сотрудник</td>\n",
       "      <td>0</td>\n",
       "      <td>145885.952297</td>\n",
       "      <td>покупка жилья</td>\n",
       "    </tr>\n",
       "    <tr>\n",
       "      <th>3</th>\n",
       "      <td>3</td>\n",
       "      <td>-4124.747207</td>\n",
       "      <td>32</td>\n",
       "      <td>среднее</td>\n",
       "      <td>1</td>\n",
       "      <td>женат / замужем</td>\n",
       "      <td>0</td>\n",
       "      <td>M</td>\n",
       "      <td>сотрудник</td>\n",
       "      <td>0</td>\n",
       "      <td>267628.550329</td>\n",
       "      <td>дополнительное образование</td>\n",
       "    </tr>\n",
       "    <tr>\n",
       "      <th>4</th>\n",
       "      <td>0</td>\n",
       "      <td>340266.072047</td>\n",
       "      <td>53</td>\n",
       "      <td>среднее</td>\n",
       "      <td>1</td>\n",
       "      <td>гражданский брак</td>\n",
       "      <td>1</td>\n",
       "      <td>F</td>\n",
       "      <td>пенсионер</td>\n",
       "      <td>0</td>\n",
       "      <td>158616.077870</td>\n",
       "      <td>сыграть свадьбу</td>\n",
       "    </tr>\n",
       "    <tr>\n",
       "      <th>5</th>\n",
       "      <td>0</td>\n",
       "      <td>-926.185831</td>\n",
       "      <td>27</td>\n",
       "      <td>высшее</td>\n",
       "      <td>0</td>\n",
       "      <td>гражданский брак</td>\n",
       "      <td>1</td>\n",
       "      <td>M</td>\n",
       "      <td>компаньон</td>\n",
       "      <td>0</td>\n",
       "      <td>255763.565419</td>\n",
       "      <td>покупка жилья</td>\n",
       "    </tr>\n",
       "    <tr>\n",
       "      <th>6</th>\n",
       "      <td>0</td>\n",
       "      <td>-2879.202052</td>\n",
       "      <td>43</td>\n",
       "      <td>высшее</td>\n",
       "      <td>0</td>\n",
       "      <td>женат / замужем</td>\n",
       "      <td>0</td>\n",
       "      <td>F</td>\n",
       "      <td>компаньон</td>\n",
       "      <td>0</td>\n",
       "      <td>240525.971920</td>\n",
       "      <td>операции с жильем</td>\n",
       "    </tr>\n",
       "    <tr>\n",
       "      <th>7</th>\n",
       "      <td>0</td>\n",
       "      <td>-152.779569</td>\n",
       "      <td>50</td>\n",
       "      <td>СРЕДНЕЕ</td>\n",
       "      <td>1</td>\n",
       "      <td>женат / замужем</td>\n",
       "      <td>0</td>\n",
       "      <td>M</td>\n",
       "      <td>сотрудник</td>\n",
       "      <td>0</td>\n",
       "      <td>135823.934197</td>\n",
       "      <td>образование</td>\n",
       "    </tr>\n",
       "    <tr>\n",
       "      <th>8</th>\n",
       "      <td>2</td>\n",
       "      <td>-6929.865299</td>\n",
       "      <td>35</td>\n",
       "      <td>ВЫСШЕЕ</td>\n",
       "      <td>0</td>\n",
       "      <td>гражданский брак</td>\n",
       "      <td>1</td>\n",
       "      <td>F</td>\n",
       "      <td>сотрудник</td>\n",
       "      <td>0</td>\n",
       "      <td>95856.832424</td>\n",
       "      <td>на проведение свадьбы</td>\n",
       "    </tr>\n",
       "    <tr>\n",
       "      <th>9</th>\n",
       "      <td>0</td>\n",
       "      <td>-2188.756445</td>\n",
       "      <td>41</td>\n",
       "      <td>среднее</td>\n",
       "      <td>1</td>\n",
       "      <td>женат / замужем</td>\n",
       "      <td>0</td>\n",
       "      <td>M</td>\n",
       "      <td>сотрудник</td>\n",
       "      <td>0</td>\n",
       "      <td>144425.938277</td>\n",
       "      <td>покупка жилья для семьи</td>\n",
       "    </tr>\n",
       "  </tbody>\n",
       "</table>\n",
       "</div>"
      ],
      "text/plain": [
       "   children  days_employed  dob_years education  education_id  \\\n",
       "0         1   -8437.673028         42    высшее             0   \n",
       "1         1   -4024.803754         36   среднее             1   \n",
       "2         0   -5623.422610         33   Среднее             1   \n",
       "3         3   -4124.747207         32   среднее             1   \n",
       "4         0  340266.072047         53   среднее             1   \n",
       "5         0    -926.185831         27    высшее             0   \n",
       "6         0   -2879.202052         43    высшее             0   \n",
       "7         0    -152.779569         50   СРЕДНЕЕ             1   \n",
       "8         2   -6929.865299         35    ВЫСШЕЕ             0   \n",
       "9         0   -2188.756445         41   среднее             1   \n",
       "\n",
       "      family_status  family_status_id gender income_type  debt   total_income  \\\n",
       "0   женат / замужем                 0      F   сотрудник     0  253875.639453   \n",
       "1   женат / замужем                 0      F   сотрудник     0  112080.014102   \n",
       "2   женат / замужем                 0      M   сотрудник     0  145885.952297   \n",
       "3   женат / замужем                 0      M   сотрудник     0  267628.550329   \n",
       "4  гражданский брак                 1      F   пенсионер     0  158616.077870   \n",
       "5  гражданский брак                 1      M   компаньон     0  255763.565419   \n",
       "6   женат / замужем                 0      F   компаньон     0  240525.971920   \n",
       "7   женат / замужем                 0      M   сотрудник     0  135823.934197   \n",
       "8  гражданский брак                 1      F   сотрудник     0   95856.832424   \n",
       "9   женат / замужем                 0      M   сотрудник     0  144425.938277   \n",
       "\n",
       "                      purpose  \n",
       "0               покупка жилья  \n",
       "1     приобретение автомобиля  \n",
       "2               покупка жилья  \n",
       "3  дополнительное образование  \n",
       "4             сыграть свадьбу  \n",
       "5               покупка жилья  \n",
       "6           операции с жильем  \n",
       "7                 образование  \n",
       "8       на проведение свадьбы  \n",
       "9     покупка жилья для семьи  "
      ]
     },
     "execution_count": 1,
     "metadata": {},
     "output_type": "execute_result"
    }
   ],
   "source": [
    "import pandas as pd\n",
    "df = pd.read_csv('/datasets/data.csv')\n",
    "\n",
    "df.head(10) #выведу первые 10 строк датафрейма"
   ]
  },
  {
   "cell_type": "markdown",
   "id": "f3df5673",
   "metadata": {},
   "source": [
    "В столбце days_employed присутствую отрицательные значения, что странно для трудового стажа, и экстремально большие значения, которые не похожи на дни. Предположу, что это часы, и перевуду их в дни. В столбце education присутствуют неявные дубликаты."
   ]
  },
  {
   "cell_type": "code",
   "execution_count": 2,
   "id": "eb1142dd",
   "metadata": {
    "scrolled": true
   },
   "outputs": [
    {
     "name": "stdout",
     "output_type": "stream",
     "text": [
      "<class 'pandas.core.frame.DataFrame'>\n",
      "RangeIndex: 21525 entries, 0 to 21524\n",
      "Data columns (total 12 columns):\n",
      " #   Column            Non-Null Count  Dtype  \n",
      "---  ------            --------------  -----  \n",
      " 0   children          21525 non-null  int64  \n",
      " 1   days_employed     19351 non-null  float64\n",
      " 2   dob_years         21525 non-null  int64  \n",
      " 3   education         21525 non-null  object \n",
      " 4   education_id      21525 non-null  int64  \n",
      " 5   family_status     21525 non-null  object \n",
      " 6   family_status_id  21525 non-null  int64  \n",
      " 7   gender            21525 non-null  object \n",
      " 8   income_type       21525 non-null  object \n",
      " 9   debt              21525 non-null  int64  \n",
      " 10  total_income      19351 non-null  float64\n",
      " 11  purpose           21525 non-null  object \n",
      "dtypes: float64(2), int64(5), object(5)\n",
      "memory usage: 2.0+ MB\n"
     ]
    }
   ],
   "source": [
    "df.info() #посмотрим общую информацию о датафрейме"
   ]
  },
  {
   "cell_type": "markdown",
   "id": "d1e937a2",
   "metadata": {},
   "source": [
    "Всего в датафрейме 12 столбцов и 21525 строк. Метод info() выявил пропуски в столбцах days_employed и total_income. Причем одинаковое количество. Названия столбцов написаны корректно."
   ]
  },
  {
   "cell_type": "markdown",
   "id": "62f057de",
   "metadata": {},
   "source": [
    "### Шаг 2.1 Заполнение пропусков"
   ]
  },
  {
   "cell_type": "code",
   "execution_count": 3,
   "id": "6bfe121e",
   "metadata": {},
   "outputs": [
    {
     "data": {
      "text/plain": [
       "children               0\n",
       "days_employed       2174\n",
       "dob_years              0\n",
       "education              0\n",
       "education_id           0\n",
       "family_status          0\n",
       "family_status_id       0\n",
       "gender                 0\n",
       "income_type            0\n",
       "debt                   0\n",
       "total_income        2174\n",
       "purpose                0\n",
       "dtype: int64"
      ]
     },
     "execution_count": 3,
     "metadata": {},
     "output_type": "execute_result"
    }
   ],
   "source": [
    "df.isna().sum() #найду пропуски и посчитаю их количество"
   ]
  },
  {
   "cell_type": "markdown",
   "id": "2437ff03",
   "metadata": {},
   "source": [
    "В столбцах days_employed и total_income по 2174 пропущенных значений. Значения имеют тип float64 и относятся к количественным переменным."
   ]
  },
  {
   "cell_type": "code",
   "execution_count": 4,
   "id": "78066c9c",
   "metadata": {},
   "outputs": [
    {
     "data": {
      "text/plain": [
       "'Доля пропущенных значений в столбце days_employed: 10%'"
      ]
     },
     "execution_count": 4,
     "metadata": {},
     "output_type": "execute_result"
    }
   ],
   "source": [
    "'Доля пропущенных значений в столбце days_employed: {:.0%}'.format(df['days_employed'].isna().sum() / len(df)) #проверю, какую долю составляют пропущенные значения в каждом из столбцов с пропусками"
   ]
  },
  {
   "cell_type": "code",
   "execution_count": 5,
   "id": "dc64931f",
   "metadata": {},
   "outputs": [
    {
     "data": {
      "text/plain": [
       "'Доля пропущенных значений в столбце total_income: 10%'"
      ]
     },
     "execution_count": 5,
     "metadata": {},
     "output_type": "execute_result"
    }
   ],
   "source": [
    "'Доля пропущенных значений в столбце total_income: {:.0%}'.format(df['total_income'].isna().sum() / len(df))"
   ]
  },
  {
   "cell_type": "markdown",
   "id": "5d27bdb7",
   "metadata": {},
   "source": [
    "Доля пропущенных значений в каждом из столбцов с пропусками составляет 10%. Возможно, это люди, у которых еще нет трудового стажа и, соответсвенно, ежемесячного дохода. Проверим."
   ]
  },
  {
   "cell_type": "code",
   "execution_count": 6,
   "id": "c9d29714",
   "metadata": {},
   "outputs": [
    {
     "data": {
      "text/html": [
       "<div>\n",
       "<style scoped>\n",
       "    .dataframe tbody tr th:only-of-type {\n",
       "        vertical-align: middle;\n",
       "    }\n",
       "\n",
       "    .dataframe tbody tr th {\n",
       "        vertical-align: top;\n",
       "    }\n",
       "\n",
       "    .dataframe thead th {\n",
       "        text-align: right;\n",
       "    }\n",
       "</style>\n",
       "<table border=\"1\" class=\"dataframe\">\n",
       "  <thead>\n",
       "    <tr style=\"text-align: right;\">\n",
       "      <th></th>\n",
       "      <th>children</th>\n",
       "      <th>days_employed</th>\n",
       "      <th>dob_years</th>\n",
       "      <th>education</th>\n",
       "      <th>education_id</th>\n",
       "      <th>family_status</th>\n",
       "      <th>family_status_id</th>\n",
       "      <th>gender</th>\n",
       "      <th>income_type</th>\n",
       "      <th>debt</th>\n",
       "      <th>total_income</th>\n",
       "      <th>purpose</th>\n",
       "    </tr>\n",
       "  </thead>\n",
       "  <tbody>\n",
       "    <tr>\n",
       "      <th>12</th>\n",
       "      <td>0</td>\n",
       "      <td>NaN</td>\n",
       "      <td>65</td>\n",
       "      <td>среднее</td>\n",
       "      <td>1</td>\n",
       "      <td>гражданский брак</td>\n",
       "      <td>1</td>\n",
       "      <td>M</td>\n",
       "      <td>пенсионер</td>\n",
       "      <td>0</td>\n",
       "      <td>NaN</td>\n",
       "      <td>сыграть свадьбу</td>\n",
       "    </tr>\n",
       "    <tr>\n",
       "      <th>26</th>\n",
       "      <td>0</td>\n",
       "      <td>NaN</td>\n",
       "      <td>41</td>\n",
       "      <td>среднее</td>\n",
       "      <td>1</td>\n",
       "      <td>женат / замужем</td>\n",
       "      <td>0</td>\n",
       "      <td>M</td>\n",
       "      <td>госслужащий</td>\n",
       "      <td>0</td>\n",
       "      <td>NaN</td>\n",
       "      <td>образование</td>\n",
       "    </tr>\n",
       "    <tr>\n",
       "      <th>29</th>\n",
       "      <td>0</td>\n",
       "      <td>NaN</td>\n",
       "      <td>63</td>\n",
       "      <td>среднее</td>\n",
       "      <td>1</td>\n",
       "      <td>Не женат / не замужем</td>\n",
       "      <td>4</td>\n",
       "      <td>F</td>\n",
       "      <td>пенсионер</td>\n",
       "      <td>0</td>\n",
       "      <td>NaN</td>\n",
       "      <td>строительство жилой недвижимости</td>\n",
       "    </tr>\n",
       "    <tr>\n",
       "      <th>41</th>\n",
       "      <td>0</td>\n",
       "      <td>NaN</td>\n",
       "      <td>50</td>\n",
       "      <td>среднее</td>\n",
       "      <td>1</td>\n",
       "      <td>женат / замужем</td>\n",
       "      <td>0</td>\n",
       "      <td>F</td>\n",
       "      <td>госслужащий</td>\n",
       "      <td>0</td>\n",
       "      <td>NaN</td>\n",
       "      <td>сделка с подержанным автомобилем</td>\n",
       "    </tr>\n",
       "    <tr>\n",
       "      <th>55</th>\n",
       "      <td>0</td>\n",
       "      <td>NaN</td>\n",
       "      <td>54</td>\n",
       "      <td>среднее</td>\n",
       "      <td>1</td>\n",
       "      <td>гражданский брак</td>\n",
       "      <td>1</td>\n",
       "      <td>F</td>\n",
       "      <td>пенсионер</td>\n",
       "      <td>1</td>\n",
       "      <td>NaN</td>\n",
       "      <td>сыграть свадьбу</td>\n",
       "    </tr>\n",
       "    <tr>\n",
       "      <th>65</th>\n",
       "      <td>0</td>\n",
       "      <td>NaN</td>\n",
       "      <td>21</td>\n",
       "      <td>среднее</td>\n",
       "      <td>1</td>\n",
       "      <td>Не женат / не замужем</td>\n",
       "      <td>4</td>\n",
       "      <td>M</td>\n",
       "      <td>компаньон</td>\n",
       "      <td>0</td>\n",
       "      <td>NaN</td>\n",
       "      <td>операции с коммерческой недвижимостью</td>\n",
       "    </tr>\n",
       "    <tr>\n",
       "      <th>67</th>\n",
       "      <td>0</td>\n",
       "      <td>NaN</td>\n",
       "      <td>52</td>\n",
       "      <td>высшее</td>\n",
       "      <td>0</td>\n",
       "      <td>женат / замужем</td>\n",
       "      <td>0</td>\n",
       "      <td>F</td>\n",
       "      <td>пенсионер</td>\n",
       "      <td>0</td>\n",
       "      <td>NaN</td>\n",
       "      <td>покупка жилья для семьи</td>\n",
       "    </tr>\n",
       "    <tr>\n",
       "      <th>72</th>\n",
       "      <td>1</td>\n",
       "      <td>NaN</td>\n",
       "      <td>32</td>\n",
       "      <td>высшее</td>\n",
       "      <td>0</td>\n",
       "      <td>женат / замужем</td>\n",
       "      <td>0</td>\n",
       "      <td>M</td>\n",
       "      <td>госслужащий</td>\n",
       "      <td>0</td>\n",
       "      <td>NaN</td>\n",
       "      <td>операции с коммерческой недвижимостью</td>\n",
       "    </tr>\n",
       "    <tr>\n",
       "      <th>82</th>\n",
       "      <td>2</td>\n",
       "      <td>NaN</td>\n",
       "      <td>50</td>\n",
       "      <td>высшее</td>\n",
       "      <td>0</td>\n",
       "      <td>женат / замужем</td>\n",
       "      <td>0</td>\n",
       "      <td>F</td>\n",
       "      <td>сотрудник</td>\n",
       "      <td>0</td>\n",
       "      <td>NaN</td>\n",
       "      <td>жилье</td>\n",
       "    </tr>\n",
       "    <tr>\n",
       "      <th>83</th>\n",
       "      <td>0</td>\n",
       "      <td>NaN</td>\n",
       "      <td>52</td>\n",
       "      <td>среднее</td>\n",
       "      <td>1</td>\n",
       "      <td>женат / замужем</td>\n",
       "      <td>0</td>\n",
       "      <td>M</td>\n",
       "      <td>сотрудник</td>\n",
       "      <td>0</td>\n",
       "      <td>NaN</td>\n",
       "      <td>жилье</td>\n",
       "    </tr>\n",
       "  </tbody>\n",
       "</table>\n",
       "</div>"
      ],
      "text/plain": [
       "    children  days_employed  dob_years education  education_id  \\\n",
       "12         0            NaN         65   среднее             1   \n",
       "26         0            NaN         41   среднее             1   \n",
       "29         0            NaN         63   среднее             1   \n",
       "41         0            NaN         50   среднее             1   \n",
       "55         0            NaN         54   среднее             1   \n",
       "65         0            NaN         21   среднее             1   \n",
       "67         0            NaN         52    высшее             0   \n",
       "72         1            NaN         32    высшее             0   \n",
       "82         2            NaN         50    высшее             0   \n",
       "83         0            NaN         52   среднее             1   \n",
       "\n",
       "            family_status  family_status_id gender  income_type  debt  \\\n",
       "12       гражданский брак                 1      M    пенсионер     0   \n",
       "26        женат / замужем                 0      M  госслужащий     0   \n",
       "29  Не женат / не замужем                 4      F    пенсионер     0   \n",
       "41        женат / замужем                 0      F  госслужащий     0   \n",
       "55       гражданский брак                 1      F    пенсионер     1   \n",
       "65  Не женат / не замужем                 4      M    компаньон     0   \n",
       "67        женат / замужем                 0      F    пенсионер     0   \n",
       "72        женат / замужем                 0      M  госслужащий     0   \n",
       "82        женат / замужем                 0      F    сотрудник     0   \n",
       "83        женат / замужем                 0      M    сотрудник     0   \n",
       "\n",
       "    total_income                                purpose  \n",
       "12           NaN                        сыграть свадьбу  \n",
       "26           NaN                            образование  \n",
       "29           NaN       строительство жилой недвижимости  \n",
       "41           NaN       сделка с подержанным автомобилем  \n",
       "55           NaN                        сыграть свадьбу  \n",
       "65           NaN  операции с коммерческой недвижимостью  \n",
       "67           NaN                покупка жилья для семьи  \n",
       "72           NaN  операции с коммерческой недвижимостью  \n",
       "82           NaN                                  жилье  \n",
       "83           NaN                                  жилье  "
      ]
     },
     "execution_count": 6,
     "metadata": {},
     "output_type": "execute_result"
    }
   ],
   "source": [
    "df.loc[df['days_employed'].isna()].head(10) #выведу первые 10 строк с пропусками в столбцах days_employed и total_income"
   ]
  },
  {
   "cell_type": "markdown",
   "id": "388fc28b",
   "metadata": {},
   "source": [
    "Возраст варьируется от 21 до 65 лет. Вряд ли все эти люди не имеют трудового стажа. Значит, заполню пропуски. Возьму медиану, т.к. значения в столбцах сильно разнятся."
   ]
  },
  {
   "cell_type": "code",
   "execution_count": 7,
   "id": "73a9847f",
   "metadata": {},
   "outputs": [
    {
     "name": "stdout",
     "output_type": "stream",
     "text": [
      "<class 'pandas.core.frame.DataFrame'>\n",
      "RangeIndex: 21525 entries, 0 to 21524\n",
      "Data columns (total 12 columns):\n",
      " #   Column            Non-Null Count  Dtype  \n",
      "---  ------            --------------  -----  \n",
      " 0   children          21525 non-null  int64  \n",
      " 1   days_employed     19351 non-null  float64\n",
      " 2   dob_years         21525 non-null  int64  \n",
      " 3   education         21525 non-null  object \n",
      " 4   education_id      21525 non-null  int64  \n",
      " 5   family_status     21525 non-null  object \n",
      " 6   family_status_id  21525 non-null  int64  \n",
      " 7   gender            21525 non-null  object \n",
      " 8   income_type       21525 non-null  object \n",
      " 9   debt              21525 non-null  int64  \n",
      " 10  total_income      21525 non-null  float64\n",
      " 11  purpose           21525 non-null  object \n",
      "dtypes: float64(2), int64(5), object(5)\n",
      "memory usage: 2.0+ MB\n"
     ]
    }
   ],
   "source": [
    "total_income_avg = df['total_income'].median() #создаю переменную для медианы total_income\n",
    "df.loc[:,'total_income'] = df.loc[:,'total_income'].fillna(total_income_avg) #заполняю пропуски медианой\n",
    "df.info()"
   ]
  },
  {
   "cell_type": "markdown",
   "id": "ce437cf5",
   "metadata": {},
   "source": [
    "В столбце total_income пропусков нет."
   ]
  },
  {
   "cell_type": "markdown",
   "id": "f7b3885f",
   "metadata": {},
   "source": [
    "### Шаг 2.2 Проверка данных на аномалии и исправления."
   ]
  },
  {
   "cell_type": "code",
   "execution_count": 8,
   "id": "9d61c7ab",
   "metadata": {},
   "outputs": [
    {
     "data": {
      "text/html": [
       "<div>\n",
       "<style scoped>\n",
       "    .dataframe tbody tr th:only-of-type {\n",
       "        vertical-align: middle;\n",
       "    }\n",
       "\n",
       "    .dataframe tbody tr th {\n",
       "        vertical-align: top;\n",
       "    }\n",
       "\n",
       "    .dataframe thead th {\n",
       "        text-align: right;\n",
       "    }\n",
       "</style>\n",
       "<table border=\"1\" class=\"dataframe\">\n",
       "  <thead>\n",
       "    <tr style=\"text-align: right;\">\n",
       "      <th></th>\n",
       "      <th>children</th>\n",
       "      <th>days_employed</th>\n",
       "      <th>dob_years</th>\n",
       "      <th>education</th>\n",
       "      <th>education_id</th>\n",
       "      <th>family_status</th>\n",
       "      <th>family_status_id</th>\n",
       "      <th>gender</th>\n",
       "      <th>income_type</th>\n",
       "      <th>debt</th>\n",
       "      <th>total_income</th>\n",
       "      <th>purpose</th>\n",
       "    </tr>\n",
       "  </thead>\n",
       "  <tbody>\n",
       "    <tr>\n",
       "      <th>0</th>\n",
       "      <td>1</td>\n",
       "      <td>8437.673028</td>\n",
       "      <td>42</td>\n",
       "      <td>высшее</td>\n",
       "      <td>0</td>\n",
       "      <td>женат / замужем</td>\n",
       "      <td>0</td>\n",
       "      <td>F</td>\n",
       "      <td>сотрудник</td>\n",
       "      <td>0</td>\n",
       "      <td>253875.639453</td>\n",
       "      <td>покупка жилья</td>\n",
       "    </tr>\n",
       "    <tr>\n",
       "      <th>1</th>\n",
       "      <td>1</td>\n",
       "      <td>4024.803754</td>\n",
       "      <td>36</td>\n",
       "      <td>среднее</td>\n",
       "      <td>1</td>\n",
       "      <td>женат / замужем</td>\n",
       "      <td>0</td>\n",
       "      <td>F</td>\n",
       "      <td>сотрудник</td>\n",
       "      <td>0</td>\n",
       "      <td>112080.014102</td>\n",
       "      <td>приобретение автомобиля</td>\n",
       "    </tr>\n",
       "    <tr>\n",
       "      <th>2</th>\n",
       "      <td>0</td>\n",
       "      <td>5623.422610</td>\n",
       "      <td>33</td>\n",
       "      <td>Среднее</td>\n",
       "      <td>1</td>\n",
       "      <td>женат / замужем</td>\n",
       "      <td>0</td>\n",
       "      <td>M</td>\n",
       "      <td>сотрудник</td>\n",
       "      <td>0</td>\n",
       "      <td>145885.952297</td>\n",
       "      <td>покупка жилья</td>\n",
       "    </tr>\n",
       "    <tr>\n",
       "      <th>3</th>\n",
       "      <td>3</td>\n",
       "      <td>4124.747207</td>\n",
       "      <td>32</td>\n",
       "      <td>среднее</td>\n",
       "      <td>1</td>\n",
       "      <td>женат / замужем</td>\n",
       "      <td>0</td>\n",
       "      <td>M</td>\n",
       "      <td>сотрудник</td>\n",
       "      <td>0</td>\n",
       "      <td>267628.550329</td>\n",
       "      <td>дополнительное образование</td>\n",
       "    </tr>\n",
       "    <tr>\n",
       "      <th>4</th>\n",
       "      <td>0</td>\n",
       "      <td>340266.072047</td>\n",
       "      <td>53</td>\n",
       "      <td>среднее</td>\n",
       "      <td>1</td>\n",
       "      <td>гражданский брак</td>\n",
       "      <td>1</td>\n",
       "      <td>F</td>\n",
       "      <td>пенсионер</td>\n",
       "      <td>0</td>\n",
       "      <td>158616.077870</td>\n",
       "      <td>сыграть свадьбу</td>\n",
       "    </tr>\n",
       "  </tbody>\n",
       "</table>\n",
       "</div>"
      ],
      "text/plain": [
       "   children  days_employed  dob_years education  education_id  \\\n",
       "0         1    8437.673028         42    высшее             0   \n",
       "1         1    4024.803754         36   среднее             1   \n",
       "2         0    5623.422610         33   Среднее             1   \n",
       "3         3    4124.747207         32   среднее             1   \n",
       "4         0  340266.072047         53   среднее             1   \n",
       "\n",
       "      family_status  family_status_id gender income_type  debt   total_income  \\\n",
       "0   женат / замужем                 0      F   сотрудник     0  253875.639453   \n",
       "1   женат / замужем                 0      F   сотрудник     0  112080.014102   \n",
       "2   женат / замужем                 0      M   сотрудник     0  145885.952297   \n",
       "3   женат / замужем                 0      M   сотрудник     0  267628.550329   \n",
       "4  гражданский брак                 1      F   пенсионер     0  158616.077870   \n",
       "\n",
       "                      purpose  \n",
       "0               покупка жилья  \n",
       "1     приобретение автомобиля  \n",
       "2               покупка жилья  \n",
       "3  дополнительное образование  \n",
       "4             сыграть свадьбу  "
      ]
     },
     "execution_count": 8,
     "metadata": {},
     "output_type": "execute_result"
    }
   ],
   "source": [
    "df['days_employed'] = df['days_employed'].abs() #уберу знак '-' у отрицательных значений\n",
    "df.head()"
   ]
  },
  {
   "cell_type": "markdown",
   "id": "c4613b34",
   "metadata": {},
   "source": [
    "Возможно данные выгрузились некорректно."
   ]
  },
  {
   "cell_type": "code",
   "execution_count": 9,
   "id": "be17991a",
   "metadata": {},
   "outputs": [
    {
     "name": "stdout",
     "output_type": "stream",
     "text": [
      "<class 'pandas.core.frame.DataFrame'>\n",
      "RangeIndex: 21525 entries, 0 to 21524\n",
      "Data columns (total 12 columns):\n",
      " #   Column            Non-Null Count  Dtype  \n",
      "---  ------            --------------  -----  \n",
      " 0   children          21525 non-null  int64  \n",
      " 1   days_employed     21525 non-null  int64  \n",
      " 2   dob_years         21525 non-null  int64  \n",
      " 3   education         21525 non-null  object \n",
      " 4   education_id      21525 non-null  int64  \n",
      " 5   family_status     21525 non-null  object \n",
      " 6   family_status_id  21525 non-null  int64  \n",
      " 7   gender            21525 non-null  object \n",
      " 8   income_type       21525 non-null  object \n",
      " 9   debt              21525 non-null  int64  \n",
      " 10  total_income      21525 non-null  float64\n",
      " 11  purpose           21525 non-null  object \n",
      "dtypes: float64(1), int64(6), object(5)\n",
      "memory usage: 2.0+ MB\n"
     ]
    }
   ],
   "source": [
    "days_employed_avg = df['days_employed'].median() #создаю переменную для медианы days_employed\n",
    "df.loc[:,'days_employed'] = df.loc[:,'days_employed'].fillna(days_employed_avg) #заполняю пропуски медианой\n",
    "df['days_employed'] = df['days_employed'].astype(int) #заменю вещественный тип данных в столбце days_employed на целочисленный\n",
    "df.info()"
   ]
  },
  {
   "cell_type": "markdown",
   "id": "d3fa543e",
   "metadata": {},
   "source": [
    "В столбце days_employed пропусков нет, тип переменной изменился на int64.\n",
    "\n",
    "Так же в столбце days_employed есть эктремально большие значения. Предположу, что это часы и переведу их в дни."
   ]
  },
  {
   "cell_type": "code",
   "execution_count": 10,
   "id": "f938f9f0",
   "metadata": {},
   "outputs": [
    {
     "data": {
      "text/html": [
       "<div>\n",
       "<style scoped>\n",
       "    .dataframe tbody tr th:only-of-type {\n",
       "        vertical-align: middle;\n",
       "    }\n",
       "\n",
       "    .dataframe tbody tr th {\n",
       "        vertical-align: top;\n",
       "    }\n",
       "\n",
       "    .dataframe thead th {\n",
       "        text-align: right;\n",
       "    }\n",
       "</style>\n",
       "<table border=\"1\" class=\"dataframe\">\n",
       "  <thead>\n",
       "    <tr style=\"text-align: right;\">\n",
       "      <th></th>\n",
       "      <th>children</th>\n",
       "      <th>days_employed</th>\n",
       "      <th>dob_years</th>\n",
       "      <th>education</th>\n",
       "      <th>education_id</th>\n",
       "      <th>family_status</th>\n",
       "      <th>family_status_id</th>\n",
       "      <th>gender</th>\n",
       "      <th>income_type</th>\n",
       "      <th>debt</th>\n",
       "      <th>total_income</th>\n",
       "      <th>purpose</th>\n",
       "    </tr>\n",
       "  </thead>\n",
       "  <tbody>\n",
       "  </tbody>\n",
       "</table>\n",
       "</div>"
      ],
      "text/plain": [
       "Empty DataFrame\n",
       "Columns: [children, days_employed, dob_years, education, education_id, family_status, family_status_id, gender, income_type, debt, total_income, purpose]\n",
       "Index: []"
      ]
     },
     "execution_count": 10,
     "metadata": {},
     "output_type": "execute_result"
    }
   ],
   "source": [
    "df['days_employed'] = df['days_employed'].apply(lambda x: x/24 if x >300000 else x) #переведу часы в дни\n",
    "df.loc[df['days_employed']>=300000]"
   ]
  },
  {
   "cell_type": "markdown",
   "id": "cfebb96e",
   "metadata": {},
   "source": [
    "Экстремально большие значения убрали."
   ]
  },
  {
   "cell_type": "markdown",
   "id": "ed0a0fd8",
   "metadata": {},
   "source": [
    "### Шаг 2.3. Изменение типов данных."
   ]
  },
  {
   "cell_type": "code",
   "execution_count": 11,
   "id": "dd23c33f",
   "metadata": {},
   "outputs": [
    {
     "name": "stdout",
     "output_type": "stream",
     "text": [
      "<class 'pandas.core.frame.DataFrame'>\n",
      "RangeIndex: 21525 entries, 0 to 21524\n",
      "Data columns (total 12 columns):\n",
      " #   Column            Non-Null Count  Dtype  \n",
      "---  ------            --------------  -----  \n",
      " 0   children          21525 non-null  int64  \n",
      " 1   days_employed     21525 non-null  float64\n",
      " 2   dob_years         21525 non-null  int64  \n",
      " 3   education         21525 non-null  object \n",
      " 4   education_id      21525 non-null  int64  \n",
      " 5   family_status     21525 non-null  object \n",
      " 6   family_status_id  21525 non-null  int64  \n",
      " 7   gender            21525 non-null  object \n",
      " 8   income_type       21525 non-null  object \n",
      " 9   debt              21525 non-null  int64  \n",
      " 10  total_income      21525 non-null  int64  \n",
      " 11  purpose           21525 non-null  object \n",
      "dtypes: float64(1), int64(6), object(5)\n",
      "memory usage: 2.0+ MB\n"
     ]
    }
   ],
   "source": [
    "df['total_income'] = df['total_income'].astype(int) #заменю вещественный тип данных в столбце total_income на целочисленный\n",
    "df.info()"
   ]
  },
  {
   "cell_type": "markdown",
   "id": "aa2ae43d",
   "metadata": {},
   "source": [
    "Тип переменной в столбце изменился total_income на int64."
   ]
  },
  {
   "cell_type": "markdown",
   "id": "889ef511",
   "metadata": {},
   "source": [
    "### Шаг 2.4. Удаление дубликатов."
   ]
  },
  {
   "cell_type": "code",
   "execution_count": 12,
   "id": "55a00a5a",
   "metadata": {},
   "outputs": [
    {
     "data": {
      "text/plain": [
       "54"
      ]
     },
     "execution_count": 12,
     "metadata": {},
     "output_type": "execute_result"
    }
   ],
   "source": [
    "df.duplicated().sum() #найду явные дубликаты и посчитаю такие строки"
   ]
  },
  {
   "cell_type": "markdown",
   "id": "7af15d04",
   "metadata": {},
   "source": []
  },
  {
   "cell_type": "code",
   "execution_count": 13,
   "id": "2f93f1e3",
   "metadata": {},
   "outputs": [
    {
     "name": "stdout",
     "output_type": "stream",
     "text": [
      "<class 'pandas.core.frame.DataFrame'>\n",
      "RangeIndex: 21471 entries, 0 to 21470\n",
      "Data columns (total 12 columns):\n",
      " #   Column            Non-Null Count  Dtype  \n",
      "---  ------            --------------  -----  \n",
      " 0   children          21471 non-null  int64  \n",
      " 1   days_employed     21471 non-null  float64\n",
      " 2   dob_years         21471 non-null  int64  \n",
      " 3   education         21471 non-null  object \n",
      " 4   education_id      21471 non-null  int64  \n",
      " 5   family_status     21471 non-null  object \n",
      " 6   family_status_id  21471 non-null  int64  \n",
      " 7   gender            21471 non-null  object \n",
      " 8   income_type       21471 non-null  object \n",
      " 9   debt              21471 non-null  int64  \n",
      " 10  total_income      21471 non-null  int64  \n",
      " 11  purpose           21471 non-null  object \n",
      "dtypes: float64(1), int64(6), object(5)\n",
      "memory usage: 2.0+ MB\n"
     ]
    }
   ],
   "source": [
    "df.drop_duplicates().reset_index(drop=True).info() #удалю строки-дубликаты"
   ]
  },
  {
   "cell_type": "markdown",
   "id": "4c5b8397",
   "metadata": {},
   "source": [
    "Методом drop_duplicates() мы удалили дублирующие строки. Количество строк уменьшилось на 54."
   ]
  },
  {
   "cell_type": "code",
   "execution_count": 14,
   "id": "5a8b73f3",
   "metadata": {},
   "outputs": [
    {
     "data": {
      "text/plain": [
       " 0     14149\n",
       " 1      4818\n",
       " 2      2055\n",
       " 3       330\n",
       " 20       76\n",
       "-1        47\n",
       " 4        41\n",
       " 5         9\n",
       "Name: children, dtype: int64"
      ]
     },
     "execution_count": 14,
     "metadata": {},
     "output_type": "execute_result"
    }
   ],
   "source": [
    "df['children'].value_counts() #проверю столбец children"
   ]
  },
  {
   "cell_type": "markdown",
   "id": "8d1e998f",
   "metadata": {},
   "source": [
    "Для поиска дубликатов я использовала метод value_counts(), который анализирует столбец, выбирает каждое уникальное значение и подсчитывает частоту его встречаемости в списке.\n",
    "\n",
    "В столбце children выделяются два странных значения 20 и -1. Предположу, что это человеческий фактор и заменю 20 на 2, -1 на 1."
   ]
  },
  {
   "cell_type": "code",
   "execution_count": 15,
   "id": "878f4296",
   "metadata": {},
   "outputs": [
    {
     "data": {
      "text/plain": [
       "0    14149\n",
       "1     4865\n",
       "2     2131\n",
       "3      330\n",
       "4       41\n",
       "5        9\n",
       "Name: children, dtype: int64"
      ]
     },
     "execution_count": 15,
     "metadata": {},
     "output_type": "execute_result"
    }
   ],
   "source": [
    "df['children'] = df['children'].replace(20, 2) #заменю аномальные значения в столбце children\n",
    "df['children'] = df['children'].replace(-1, 1)\n",
    "df['children'].value_counts() #проверю предыдущее действие"
   ]
  },
  {
   "cell_type": "code",
   "execution_count": 16,
   "id": "e60f219e",
   "metadata": {},
   "outputs": [
    {
     "data": {
      "text/plain": [
       "среднее                13750\n",
       "высшее                  4718\n",
       "СРЕДНЕЕ                  772\n",
       "Среднее                  711\n",
       "неоконченное высшее      668\n",
       "ВЫСШЕЕ                   274\n",
       "Высшее                   268\n",
       "начальное                250\n",
       "Неоконченное высшее       47\n",
       "НЕОКОНЧЕННОЕ ВЫСШЕЕ       29\n",
       "НАЧАЛЬНОЕ                 17\n",
       "Начальное                 15\n",
       "ученая степень             4\n",
       "Ученая степень             1\n",
       "УЧЕНАЯ СТЕПЕНЬ             1\n",
       "Name: education, dtype: int64"
      ]
     },
     "execution_count": 16,
     "metadata": {},
     "output_type": "execute_result"
    }
   ],
   "source": [
    "df['education'].value_counts() #проверю столбец education"
   ]
  },
  {
   "cell_type": "markdown",
   "id": "4c96de1c",
   "metadata": {},
   "source": [
    "Я вижу 3 варианта записи в этом столбце. Возможно таблицу заполняли 3 разных человека."
   ]
  },
  {
   "cell_type": "code",
   "execution_count": 17,
   "id": "c6a5b170",
   "metadata": {},
   "outputs": [
    {
     "data": {
      "text/plain": [
       "среднее                15233\n",
       "высшее                  5260\n",
       "неоконченное высшее      744\n",
       "начальное                282\n",
       "ученая степень             6\n",
       "Name: education, dtype: int64"
      ]
     },
     "execution_count": 17,
     "metadata": {},
     "output_type": "execute_result"
    }
   ],
   "source": [
    "df['education'] = df['education'].str.lower() #приведу все значения в столбце education к единому регистру\n",
    "df['education'].value_counts() #проверю предыдущее действие"
   ]
  },
  {
   "cell_type": "code",
   "execution_count": 18,
   "id": "c2327612",
   "metadata": {},
   "outputs": [
    {
     "data": {
      "text/plain": [
       "женат / замужем          12380\n",
       "гражданский брак          4177\n",
       "Не женат / не замужем     2813\n",
       "в разводе                 1195\n",
       "вдовец / вдова             960\n",
       "Name: family_status, dtype: int64"
      ]
     },
     "execution_count": 18,
     "metadata": {},
     "output_type": "execute_result"
    }
   ],
   "source": [
    "df['family_status'].value_counts() #проверю столбец family_status"
   ]
  },
  {
   "cell_type": "code",
   "execution_count": 19,
   "id": "184825dd",
   "metadata": {},
   "outputs": [
    {
     "data": {
      "text/plain": [
       "женат / замужем          12380\n",
       "гражданский брак          4177\n",
       "не женат / не замужем     2813\n",
       "в разводе                 1195\n",
       "вдовец / вдова             960\n",
       "Name: family_status, dtype: int64"
      ]
     },
     "execution_count": 19,
     "metadata": {},
     "output_type": "execute_result"
    }
   ],
   "source": [
    "df['family_status'] = df['family_status'].str.lower() #приведу все значения в столбце family_status к единому регистру\n",
    "df['family_status'].value_counts() #проверю предыдущее действие"
   ]
  },
  {
   "cell_type": "code",
   "execution_count": 20,
   "id": "8cba20e0",
   "metadata": {},
   "outputs": [
    {
     "data": {
      "text/plain": [
       "сотрудник          11119\n",
       "компаньон           5085\n",
       "пенсионер           3856\n",
       "госслужащий         1459\n",
       "предприниматель        2\n",
       "безработный            2\n",
       "в декрете              1\n",
       "студент                1\n",
       "Name: income_type, dtype: int64"
      ]
     },
     "execution_count": 20,
     "metadata": {},
     "output_type": "execute_result"
    }
   ],
   "source": [
    "df['income_type'].value_counts() #проверю столбец income_type"
   ]
  },
  {
   "cell_type": "markdown",
   "id": "d94dc8ee",
   "metadata": {},
   "source": [
    "Тут все хорошо."
   ]
  },
  {
   "cell_type": "code",
   "execution_count": 21,
   "id": "227cf5c7",
   "metadata": {},
   "outputs": [
    {
     "data": {
      "text/plain": [
       "свадьба                                   797\n",
       "на проведение свадьбы                     777\n",
       "сыграть свадьбу                           774\n",
       "операции с недвижимостью                  676\n",
       "покупка коммерческой недвижимости         664\n",
       "операции с жильем                         653\n",
       "покупка жилья для сдачи                   653\n",
       "операции с коммерческой недвижимостью     651\n",
       "покупка жилья                             647\n",
       "жилье                                     647\n",
       "покупка жилья для семьи                   641\n",
       "строительство собственной недвижимости    635\n",
       "недвижимость                              634\n",
       "операции со своей недвижимостью           630\n",
       "строительство жилой недвижимости          626\n",
       "покупка недвижимости                      624\n",
       "строительство недвижимости                620\n",
       "покупка своего жилья                      620\n",
       "ремонт жилью                              612\n",
       "покупка жилой недвижимости                607\n",
       "на покупку своего автомобиля              505\n",
       "заняться высшим образованием              496\n",
       "автомобиль                                495\n",
       "сделка с подержанным автомобилем          489\n",
       "свой автомобиль                           480\n",
       "на покупку подержанного автомобиля        479\n",
       "автомобили                                478\n",
       "на покупку автомобиля                     472\n",
       "приобретение автомобиля                   462\n",
       "дополнительное образование                462\n",
       "сделка с автомобилем                      455\n",
       "высшее образование                        453\n",
       "образование                               447\n",
       "получение дополнительного образования     447\n",
       "получение образования                     443\n",
       "профильное образование                    436\n",
       "получение высшего образования             426\n",
       "заняться образованием                     412\n",
       "Name: purpose, dtype: int64"
      ]
     },
     "execution_count": 21,
     "metadata": {},
     "output_type": "execute_result"
    }
   ],
   "source": [
    "df['purpose'].value_counts() #проверю столбец purpose"
   ]
  },
  {
   "cell_type": "markdown",
   "id": "ea8a906d",
   "metadata": {},
   "source": [
    "В столбце purpose много одинаковых операций записаны по-разному. Категоризирую их.\n",
    "Скорее всего информацию писали разные люди, и каждый записывал по-своему."
   ]
  },
  {
   "cell_type": "markdown",
   "id": "0561ad8a",
   "metadata": {},
   "source": [
    "### Шаг 2.5. Формирование дополнительных датафреймов словарей, декомпозиция исходного датафрейма."
   ]
  },
  {
   "cell_type": "code",
   "execution_count": 22,
   "id": "bba78852",
   "metadata": {},
   "outputs": [
    {
     "data": {
      "text/html": [
       "<div>\n",
       "<style scoped>\n",
       "    .dataframe tbody tr th:only-of-type {\n",
       "        vertical-align: middle;\n",
       "    }\n",
       "\n",
       "    .dataframe tbody tr th {\n",
       "        vertical-align: top;\n",
       "    }\n",
       "\n",
       "    .dataframe thead th {\n",
       "        text-align: right;\n",
       "    }\n",
       "</style>\n",
       "<table border=\"1\" class=\"dataframe\">\n",
       "  <thead>\n",
       "    <tr style=\"text-align: right;\">\n",
       "      <th></th>\n",
       "      <th>education</th>\n",
       "      <th>education_id</th>\n",
       "    </tr>\n",
       "  </thead>\n",
       "  <tbody>\n",
       "    <tr>\n",
       "      <th>0</th>\n",
       "      <td>высшее</td>\n",
       "      <td>0</td>\n",
       "    </tr>\n",
       "    <tr>\n",
       "      <th>1</th>\n",
       "      <td>среднее</td>\n",
       "      <td>1</td>\n",
       "    </tr>\n",
       "    <tr>\n",
       "      <th>2</th>\n",
       "      <td>неоконченное высшее</td>\n",
       "      <td>2</td>\n",
       "    </tr>\n",
       "    <tr>\n",
       "      <th>3</th>\n",
       "      <td>начальное</td>\n",
       "      <td>3</td>\n",
       "    </tr>\n",
       "    <tr>\n",
       "      <th>4</th>\n",
       "      <td>ученая степень</td>\n",
       "      <td>4</td>\n",
       "    </tr>\n",
       "  </tbody>\n",
       "</table>\n",
       "</div>"
      ],
      "text/plain": [
       "             education  education_id\n",
       "0               высшее             0\n",
       "1              среднее             1\n",
       "2  неоконченное высшее             2\n",
       "3            начальное             3\n",
       "4       ученая степень             4"
      ]
     },
     "execution_count": 22,
     "metadata": {},
     "output_type": "execute_result"
    }
   ],
   "source": [
    "education_log = (df[['education','education_id']]) #создаю новый датафрейм для education\n",
    "education_log.drop_duplicates().reset_index(drop=True)"
   ]
  },
  {
   "cell_type": "code",
   "execution_count": 23,
   "id": "22683d23",
   "metadata": {},
   "outputs": [
    {
     "data": {
      "text/html": [
       "<div>\n",
       "<style scoped>\n",
       "    .dataframe tbody tr th:only-of-type {\n",
       "        vertical-align: middle;\n",
       "    }\n",
       "\n",
       "    .dataframe tbody tr th {\n",
       "        vertical-align: top;\n",
       "    }\n",
       "\n",
       "    .dataframe thead th {\n",
       "        text-align: right;\n",
       "    }\n",
       "</style>\n",
       "<table border=\"1\" class=\"dataframe\">\n",
       "  <thead>\n",
       "    <tr style=\"text-align: right;\">\n",
       "      <th></th>\n",
       "      <th>family_status</th>\n",
       "      <th>family_status_id</th>\n",
       "    </tr>\n",
       "  </thead>\n",
       "  <tbody>\n",
       "    <tr>\n",
       "      <th>0</th>\n",
       "      <td>женат / замужем</td>\n",
       "      <td>0</td>\n",
       "    </tr>\n",
       "    <tr>\n",
       "      <th>1</th>\n",
       "      <td>гражданский брак</td>\n",
       "      <td>1</td>\n",
       "    </tr>\n",
       "    <tr>\n",
       "      <th>2</th>\n",
       "      <td>вдовец / вдова</td>\n",
       "      <td>2</td>\n",
       "    </tr>\n",
       "    <tr>\n",
       "      <th>3</th>\n",
       "      <td>в разводе</td>\n",
       "      <td>3</td>\n",
       "    </tr>\n",
       "    <tr>\n",
       "      <th>4</th>\n",
       "      <td>не женат / не замужем</td>\n",
       "      <td>4</td>\n",
       "    </tr>\n",
       "  </tbody>\n",
       "</table>\n",
       "</div>"
      ],
      "text/plain": [
       "           family_status  family_status_id\n",
       "0        женат / замужем                 0\n",
       "1       гражданский брак                 1\n",
       "2         вдовец / вдова                 2\n",
       "3              в разводе                 3\n",
       "4  не женат / не замужем                 4"
      ]
     },
     "execution_count": 23,
     "metadata": {},
     "output_type": "execute_result"
    }
   ],
   "source": [
    "family_status_log = df[['family_status','family_status_id']] #создаю новый датафрейм для family_status\n",
    "family_status_log = family_status_log.drop_duplicates().reset_index(drop=True)\n",
    "family_status_log"
   ]
  },
  {
   "cell_type": "code",
   "execution_count": 24,
   "id": "81a24ade",
   "metadata": {},
   "outputs": [
    {
     "data": {
      "text/html": [
       "<div>\n",
       "<style scoped>\n",
       "    .dataframe tbody tr th:only-of-type {\n",
       "        vertical-align: middle;\n",
       "    }\n",
       "\n",
       "    .dataframe tbody tr th {\n",
       "        vertical-align: top;\n",
       "    }\n",
       "\n",
       "    .dataframe thead th {\n",
       "        text-align: right;\n",
       "    }\n",
       "</style>\n",
       "<table border=\"1\" class=\"dataframe\">\n",
       "  <thead>\n",
       "    <tr style=\"text-align: right;\">\n",
       "      <th></th>\n",
       "      <th>children</th>\n",
       "      <th>days_employed</th>\n",
       "      <th>dob_years</th>\n",
       "      <th>education_id</th>\n",
       "      <th>family_status_id</th>\n",
       "      <th>gender</th>\n",
       "      <th>income_type</th>\n",
       "      <th>debt</th>\n",
       "      <th>total_income</th>\n",
       "      <th>purpose</th>\n",
       "    </tr>\n",
       "  </thead>\n",
       "  <tbody>\n",
       "    <tr>\n",
       "      <th>0</th>\n",
       "      <td>1</td>\n",
       "      <td>8437.00</td>\n",
       "      <td>42</td>\n",
       "      <td>0</td>\n",
       "      <td>0</td>\n",
       "      <td>F</td>\n",
       "      <td>сотрудник</td>\n",
       "      <td>0</td>\n",
       "      <td>253875</td>\n",
       "      <td>покупка жилья</td>\n",
       "    </tr>\n",
       "    <tr>\n",
       "      <th>1</th>\n",
       "      <td>1</td>\n",
       "      <td>4024.00</td>\n",
       "      <td>36</td>\n",
       "      <td>1</td>\n",
       "      <td>0</td>\n",
       "      <td>F</td>\n",
       "      <td>сотрудник</td>\n",
       "      <td>0</td>\n",
       "      <td>112080</td>\n",
       "      <td>приобретение автомобиля</td>\n",
       "    </tr>\n",
       "    <tr>\n",
       "      <th>2</th>\n",
       "      <td>0</td>\n",
       "      <td>5623.00</td>\n",
       "      <td>33</td>\n",
       "      <td>1</td>\n",
       "      <td>0</td>\n",
       "      <td>M</td>\n",
       "      <td>сотрудник</td>\n",
       "      <td>0</td>\n",
       "      <td>145885</td>\n",
       "      <td>покупка жилья</td>\n",
       "    </tr>\n",
       "    <tr>\n",
       "      <th>3</th>\n",
       "      <td>3</td>\n",
       "      <td>4124.00</td>\n",
       "      <td>32</td>\n",
       "      <td>1</td>\n",
       "      <td>0</td>\n",
       "      <td>M</td>\n",
       "      <td>сотрудник</td>\n",
       "      <td>0</td>\n",
       "      <td>267628</td>\n",
       "      <td>дополнительное образование</td>\n",
       "    </tr>\n",
       "    <tr>\n",
       "      <th>4</th>\n",
       "      <td>0</td>\n",
       "      <td>14177.75</td>\n",
       "      <td>53</td>\n",
       "      <td>1</td>\n",
       "      <td>1</td>\n",
       "      <td>F</td>\n",
       "      <td>пенсионер</td>\n",
       "      <td>0</td>\n",
       "      <td>158616</td>\n",
       "      <td>сыграть свадьбу</td>\n",
       "    </tr>\n",
       "    <tr>\n",
       "      <th>5</th>\n",
       "      <td>0</td>\n",
       "      <td>926.00</td>\n",
       "      <td>27</td>\n",
       "      <td>0</td>\n",
       "      <td>1</td>\n",
       "      <td>M</td>\n",
       "      <td>компаньон</td>\n",
       "      <td>0</td>\n",
       "      <td>255763</td>\n",
       "      <td>покупка жилья</td>\n",
       "    </tr>\n",
       "    <tr>\n",
       "      <th>6</th>\n",
       "      <td>0</td>\n",
       "      <td>2879.00</td>\n",
       "      <td>43</td>\n",
       "      <td>0</td>\n",
       "      <td>0</td>\n",
       "      <td>F</td>\n",
       "      <td>компаньон</td>\n",
       "      <td>0</td>\n",
       "      <td>240525</td>\n",
       "      <td>операции с жильем</td>\n",
       "    </tr>\n",
       "    <tr>\n",
       "      <th>7</th>\n",
       "      <td>0</td>\n",
       "      <td>152.00</td>\n",
       "      <td>50</td>\n",
       "      <td>1</td>\n",
       "      <td>0</td>\n",
       "      <td>M</td>\n",
       "      <td>сотрудник</td>\n",
       "      <td>0</td>\n",
       "      <td>135823</td>\n",
       "      <td>образование</td>\n",
       "    </tr>\n",
       "    <tr>\n",
       "      <th>8</th>\n",
       "      <td>2</td>\n",
       "      <td>6929.00</td>\n",
       "      <td>35</td>\n",
       "      <td>0</td>\n",
       "      <td>1</td>\n",
       "      <td>F</td>\n",
       "      <td>сотрудник</td>\n",
       "      <td>0</td>\n",
       "      <td>95856</td>\n",
       "      <td>на проведение свадьбы</td>\n",
       "    </tr>\n",
       "    <tr>\n",
       "      <th>9</th>\n",
       "      <td>0</td>\n",
       "      <td>2188.00</td>\n",
       "      <td>41</td>\n",
       "      <td>1</td>\n",
       "      <td>0</td>\n",
       "      <td>M</td>\n",
       "      <td>сотрудник</td>\n",
       "      <td>0</td>\n",
       "      <td>144425</td>\n",
       "      <td>покупка жилья для семьи</td>\n",
       "    </tr>\n",
       "  </tbody>\n",
       "</table>\n",
       "</div>"
      ],
      "text/plain": [
       "   children  days_employed  dob_years  education_id  family_status_id gender  \\\n",
       "0         1        8437.00         42             0                 0      F   \n",
       "1         1        4024.00         36             1                 0      F   \n",
       "2         0        5623.00         33             1                 0      M   \n",
       "3         3        4124.00         32             1                 0      M   \n",
       "4         0       14177.75         53             1                 1      F   \n",
       "5         0         926.00         27             0                 1      M   \n",
       "6         0        2879.00         43             0                 0      F   \n",
       "7         0         152.00         50             1                 0      M   \n",
       "8         2        6929.00         35             0                 1      F   \n",
       "9         0        2188.00         41             1                 0      M   \n",
       "\n",
       "  income_type  debt  total_income                     purpose  \n",
       "0   сотрудник     0        253875               покупка жилья  \n",
       "1   сотрудник     0        112080     приобретение автомобиля  \n",
       "2   сотрудник     0        145885               покупка жилья  \n",
       "3   сотрудник     0        267628  дополнительное образование  \n",
       "4   пенсионер     0        158616             сыграть свадьбу  \n",
       "5   компаньон     0        255763               покупка жилья  \n",
       "6   компаньон     0        240525           операции с жильем  \n",
       "7   сотрудник     0        135823                 образование  \n",
       "8   сотрудник     0         95856       на проведение свадьбы  \n",
       "9   сотрудник     0        144425     покупка жилья для семьи  "
      ]
     },
     "execution_count": 24,
     "metadata": {},
     "output_type": "execute_result"
    }
   ],
   "source": [
    "df = df.drop(['education', 'family_status'], axis=1) #удаляю столбцы education и family_status\n",
    "df.head(10)"
   ]
  },
  {
   "cell_type": "markdown",
   "id": "00118ae4",
   "metadata": {},
   "source": [
    "### Шаг 2.6. Категоризация дохода."
   ]
  },
  {
   "cell_type": "code",
   "execution_count": 25,
   "id": "126208fb",
   "metadata": {},
   "outputs": [
    {
     "data": {
      "text/html": [
       "<div>\n",
       "<style scoped>\n",
       "    .dataframe tbody tr th:only-of-type {\n",
       "        vertical-align: middle;\n",
       "    }\n",
       "\n",
       "    .dataframe tbody tr th {\n",
       "        vertical-align: top;\n",
       "    }\n",
       "\n",
       "    .dataframe thead th {\n",
       "        text-align: right;\n",
       "    }\n",
       "</style>\n",
       "<table border=\"1\" class=\"dataframe\">\n",
       "  <thead>\n",
       "    <tr style=\"text-align: right;\">\n",
       "      <th></th>\n",
       "      <th>children</th>\n",
       "      <th>days_employed</th>\n",
       "      <th>dob_years</th>\n",
       "      <th>education_id</th>\n",
       "      <th>family_status_id</th>\n",
       "      <th>gender</th>\n",
       "      <th>income_type</th>\n",
       "      <th>debt</th>\n",
       "      <th>total_income</th>\n",
       "      <th>purpose</th>\n",
       "      <th>total_income_category</th>\n",
       "    </tr>\n",
       "  </thead>\n",
       "  <tbody>\n",
       "    <tr>\n",
       "      <th>0</th>\n",
       "      <td>1</td>\n",
       "      <td>8437.00</td>\n",
       "      <td>42</td>\n",
       "      <td>0</td>\n",
       "      <td>0</td>\n",
       "      <td>F</td>\n",
       "      <td>сотрудник</td>\n",
       "      <td>0</td>\n",
       "      <td>253875</td>\n",
       "      <td>покупка жилья</td>\n",
       "      <td>B</td>\n",
       "    </tr>\n",
       "    <tr>\n",
       "      <th>1</th>\n",
       "      <td>1</td>\n",
       "      <td>4024.00</td>\n",
       "      <td>36</td>\n",
       "      <td>1</td>\n",
       "      <td>0</td>\n",
       "      <td>F</td>\n",
       "      <td>сотрудник</td>\n",
       "      <td>0</td>\n",
       "      <td>112080</td>\n",
       "      <td>приобретение автомобиля</td>\n",
       "      <td>C</td>\n",
       "    </tr>\n",
       "    <tr>\n",
       "      <th>2</th>\n",
       "      <td>0</td>\n",
       "      <td>5623.00</td>\n",
       "      <td>33</td>\n",
       "      <td>1</td>\n",
       "      <td>0</td>\n",
       "      <td>M</td>\n",
       "      <td>сотрудник</td>\n",
       "      <td>0</td>\n",
       "      <td>145885</td>\n",
       "      <td>покупка жилья</td>\n",
       "      <td>C</td>\n",
       "    </tr>\n",
       "    <tr>\n",
       "      <th>3</th>\n",
       "      <td>3</td>\n",
       "      <td>4124.00</td>\n",
       "      <td>32</td>\n",
       "      <td>1</td>\n",
       "      <td>0</td>\n",
       "      <td>M</td>\n",
       "      <td>сотрудник</td>\n",
       "      <td>0</td>\n",
       "      <td>267628</td>\n",
       "      <td>дополнительное образование</td>\n",
       "      <td>B</td>\n",
       "    </tr>\n",
       "    <tr>\n",
       "      <th>4</th>\n",
       "      <td>0</td>\n",
       "      <td>14177.75</td>\n",
       "      <td>53</td>\n",
       "      <td>1</td>\n",
       "      <td>1</td>\n",
       "      <td>F</td>\n",
       "      <td>пенсионер</td>\n",
       "      <td>0</td>\n",
       "      <td>158616</td>\n",
       "      <td>сыграть свадьбу</td>\n",
       "      <td>C</td>\n",
       "    </tr>\n",
       "    <tr>\n",
       "      <th>5</th>\n",
       "      <td>0</td>\n",
       "      <td>926.00</td>\n",
       "      <td>27</td>\n",
       "      <td>0</td>\n",
       "      <td>1</td>\n",
       "      <td>M</td>\n",
       "      <td>компаньон</td>\n",
       "      <td>0</td>\n",
       "      <td>255763</td>\n",
       "      <td>покупка жилья</td>\n",
       "      <td>B</td>\n",
       "    </tr>\n",
       "    <tr>\n",
       "      <th>6</th>\n",
       "      <td>0</td>\n",
       "      <td>2879.00</td>\n",
       "      <td>43</td>\n",
       "      <td>0</td>\n",
       "      <td>0</td>\n",
       "      <td>F</td>\n",
       "      <td>компаньон</td>\n",
       "      <td>0</td>\n",
       "      <td>240525</td>\n",
       "      <td>операции с жильем</td>\n",
       "      <td>B</td>\n",
       "    </tr>\n",
       "    <tr>\n",
       "      <th>7</th>\n",
       "      <td>0</td>\n",
       "      <td>152.00</td>\n",
       "      <td>50</td>\n",
       "      <td>1</td>\n",
       "      <td>0</td>\n",
       "      <td>M</td>\n",
       "      <td>сотрудник</td>\n",
       "      <td>0</td>\n",
       "      <td>135823</td>\n",
       "      <td>образование</td>\n",
       "      <td>C</td>\n",
       "    </tr>\n",
       "    <tr>\n",
       "      <th>8</th>\n",
       "      <td>2</td>\n",
       "      <td>6929.00</td>\n",
       "      <td>35</td>\n",
       "      <td>0</td>\n",
       "      <td>1</td>\n",
       "      <td>F</td>\n",
       "      <td>сотрудник</td>\n",
       "      <td>0</td>\n",
       "      <td>95856</td>\n",
       "      <td>на проведение свадьбы</td>\n",
       "      <td>C</td>\n",
       "    </tr>\n",
       "    <tr>\n",
       "      <th>9</th>\n",
       "      <td>0</td>\n",
       "      <td>2188.00</td>\n",
       "      <td>41</td>\n",
       "      <td>1</td>\n",
       "      <td>0</td>\n",
       "      <td>M</td>\n",
       "      <td>сотрудник</td>\n",
       "      <td>0</td>\n",
       "      <td>144425</td>\n",
       "      <td>покупка жилья для семьи</td>\n",
       "      <td>C</td>\n",
       "    </tr>\n",
       "  </tbody>\n",
       "</table>\n",
       "</div>"
      ],
      "text/plain": [
       "   children  days_employed  dob_years  education_id  family_status_id gender  \\\n",
       "0         1        8437.00         42             0                 0      F   \n",
       "1         1        4024.00         36             1                 0      F   \n",
       "2         0        5623.00         33             1                 0      M   \n",
       "3         3        4124.00         32             1                 0      M   \n",
       "4         0       14177.75         53             1                 1      F   \n",
       "5         0         926.00         27             0                 1      M   \n",
       "6         0        2879.00         43             0                 0      F   \n",
       "7         0         152.00         50             1                 0      M   \n",
       "8         2        6929.00         35             0                 1      F   \n",
       "9         0        2188.00         41             1                 0      M   \n",
       "\n",
       "  income_type  debt  total_income                     purpose  \\\n",
       "0   сотрудник     0        253875               покупка жилья   \n",
       "1   сотрудник     0        112080     приобретение автомобиля   \n",
       "2   сотрудник     0        145885               покупка жилья   \n",
       "3   сотрудник     0        267628  дополнительное образование   \n",
       "4   пенсионер     0        158616             сыграть свадьбу   \n",
       "5   компаньон     0        255763               покупка жилья   \n",
       "6   компаньон     0        240525           операции с жильем   \n",
       "7   сотрудник     0        135823                 образование   \n",
       "8   сотрудник     0         95856       на проведение свадьбы   \n",
       "9   сотрудник     0        144425     покупка жилья для семьи   \n",
       "\n",
       "  total_income_category  \n",
       "0                     B  \n",
       "1                     C  \n",
       "2                     C  \n",
       "3                     B  \n",
       "4                     C  \n",
       "5                     B  \n",
       "6                     B  \n",
       "7                     C  \n",
       "8                     C  \n",
       "9                     C  "
      ]
     },
     "execution_count": 25,
     "metadata": {},
     "output_type": "execute_result"
    }
   ],
   "source": [
    "def total_income_category(total_income): #создаю функцию, которая категоризирует данные в столбце total_income\n",
    "    \n",
    "    if total_income <= 30000:\n",
    "        return 'D'\n",
    "    \n",
    "    if 30001 <= total_income <= 50000:\n",
    "        return 'E'\n",
    "    \n",
    "    if 50001 <= total_income <= 200000:\n",
    "        return 'C'\n",
    "    \n",
    "    if 200001 <= total_income <= 1000000:\n",
    "        return 'B'\n",
    "    \n",
    "    return 'A'\n",
    "\n",
    "df['total_income_category'] = df['total_income'].apply(total_income_category) #создаю столбец total_income_category с категориями\n",
    "\n",
    "df.head(10) #выведу первые 10 строк датафрейма"
   ]
  },
  {
   "cell_type": "code",
   "execution_count": 26,
   "id": "292b761d",
   "metadata": {},
   "outputs": [
    {
     "data": {
      "text/plain": [
       "C    16087\n",
       "B     5041\n",
       "E      350\n",
       "A       25\n",
       "D       22\n",
       "Name: total_income_category, dtype: int64"
      ]
     },
     "execution_count": 26,
     "metadata": {},
     "output_type": "execute_result"
    }
   ],
   "source": [
    "df['total_income_category'].value_counts() #выведу статистику по ежемесячному доходу"
   ]
  },
  {
   "cell_type": "markdown",
   "id": "111e999e",
   "metadata": {},
   "source": [
    "### Шаг 2.7. Категоризация целей кредита."
   ]
  },
  {
   "cell_type": "code",
   "execution_count": 28,
   "id": "69107bec",
   "metadata": {},
   "outputs": [
    {
     "data": {
      "text/html": [
       "<div>\n",
       "<style scoped>\n",
       "    .dataframe tbody tr th:only-of-type {\n",
       "        vertical-align: middle;\n",
       "    }\n",
       "\n",
       "    .dataframe tbody tr th {\n",
       "        vertical-align: top;\n",
       "    }\n",
       "\n",
       "    .dataframe thead th {\n",
       "        text-align: right;\n",
       "    }\n",
       "</style>\n",
       "<table border=\"1\" class=\"dataframe\">\n",
       "  <thead>\n",
       "    <tr style=\"text-align: right;\">\n",
       "      <th></th>\n",
       "      <th>children</th>\n",
       "      <th>days_employed</th>\n",
       "      <th>dob_years</th>\n",
       "      <th>education_id</th>\n",
       "      <th>family_status_id</th>\n",
       "      <th>gender</th>\n",
       "      <th>income_type</th>\n",
       "      <th>debt</th>\n",
       "      <th>total_income</th>\n",
       "      <th>purpose</th>\n",
       "      <th>total_income_category</th>\n",
       "      <th>purpose_category</th>\n",
       "    </tr>\n",
       "  </thead>\n",
       "  <tbody>\n",
       "    <tr>\n",
       "      <th>0</th>\n",
       "      <td>1</td>\n",
       "      <td>8437.00</td>\n",
       "      <td>42</td>\n",
       "      <td>0</td>\n",
       "      <td>0</td>\n",
       "      <td>F</td>\n",
       "      <td>сотрудник</td>\n",
       "      <td>0</td>\n",
       "      <td>253875</td>\n",
       "      <td>покупка жилья</td>\n",
       "      <td>B</td>\n",
       "      <td>операции с недвижимостью</td>\n",
       "    </tr>\n",
       "    <tr>\n",
       "      <th>1</th>\n",
       "      <td>1</td>\n",
       "      <td>4024.00</td>\n",
       "      <td>36</td>\n",
       "      <td>1</td>\n",
       "      <td>0</td>\n",
       "      <td>F</td>\n",
       "      <td>сотрудник</td>\n",
       "      <td>0</td>\n",
       "      <td>112080</td>\n",
       "      <td>приобретение автомобиля</td>\n",
       "      <td>C</td>\n",
       "      <td>операции с автомобилем</td>\n",
       "    </tr>\n",
       "    <tr>\n",
       "      <th>2</th>\n",
       "      <td>0</td>\n",
       "      <td>5623.00</td>\n",
       "      <td>33</td>\n",
       "      <td>1</td>\n",
       "      <td>0</td>\n",
       "      <td>M</td>\n",
       "      <td>сотрудник</td>\n",
       "      <td>0</td>\n",
       "      <td>145885</td>\n",
       "      <td>покупка жилья</td>\n",
       "      <td>C</td>\n",
       "      <td>операции с недвижимостью</td>\n",
       "    </tr>\n",
       "    <tr>\n",
       "      <th>3</th>\n",
       "      <td>3</td>\n",
       "      <td>4124.00</td>\n",
       "      <td>32</td>\n",
       "      <td>1</td>\n",
       "      <td>0</td>\n",
       "      <td>M</td>\n",
       "      <td>сотрудник</td>\n",
       "      <td>0</td>\n",
       "      <td>267628</td>\n",
       "      <td>дополнительное образование</td>\n",
       "      <td>B</td>\n",
       "      <td>получение образования</td>\n",
       "    </tr>\n",
       "    <tr>\n",
       "      <th>4</th>\n",
       "      <td>0</td>\n",
       "      <td>14177.75</td>\n",
       "      <td>53</td>\n",
       "      <td>1</td>\n",
       "      <td>1</td>\n",
       "      <td>F</td>\n",
       "      <td>пенсионер</td>\n",
       "      <td>0</td>\n",
       "      <td>158616</td>\n",
       "      <td>сыграть свадьбу</td>\n",
       "      <td>C</td>\n",
       "      <td>проведение свадьбы</td>\n",
       "    </tr>\n",
       "    <tr>\n",
       "      <th>5</th>\n",
       "      <td>0</td>\n",
       "      <td>926.00</td>\n",
       "      <td>27</td>\n",
       "      <td>0</td>\n",
       "      <td>1</td>\n",
       "      <td>M</td>\n",
       "      <td>компаньон</td>\n",
       "      <td>0</td>\n",
       "      <td>255763</td>\n",
       "      <td>покупка жилья</td>\n",
       "      <td>B</td>\n",
       "      <td>операции с недвижимостью</td>\n",
       "    </tr>\n",
       "    <tr>\n",
       "      <th>6</th>\n",
       "      <td>0</td>\n",
       "      <td>2879.00</td>\n",
       "      <td>43</td>\n",
       "      <td>0</td>\n",
       "      <td>0</td>\n",
       "      <td>F</td>\n",
       "      <td>компаньон</td>\n",
       "      <td>0</td>\n",
       "      <td>240525</td>\n",
       "      <td>операции с жильем</td>\n",
       "      <td>B</td>\n",
       "      <td>операции с недвижимостью</td>\n",
       "    </tr>\n",
       "    <tr>\n",
       "      <th>7</th>\n",
       "      <td>0</td>\n",
       "      <td>152.00</td>\n",
       "      <td>50</td>\n",
       "      <td>1</td>\n",
       "      <td>0</td>\n",
       "      <td>M</td>\n",
       "      <td>сотрудник</td>\n",
       "      <td>0</td>\n",
       "      <td>135823</td>\n",
       "      <td>образование</td>\n",
       "      <td>C</td>\n",
       "      <td>получение образования</td>\n",
       "    </tr>\n",
       "    <tr>\n",
       "      <th>8</th>\n",
       "      <td>2</td>\n",
       "      <td>6929.00</td>\n",
       "      <td>35</td>\n",
       "      <td>0</td>\n",
       "      <td>1</td>\n",
       "      <td>F</td>\n",
       "      <td>сотрудник</td>\n",
       "      <td>0</td>\n",
       "      <td>95856</td>\n",
       "      <td>на проведение свадьбы</td>\n",
       "      <td>C</td>\n",
       "      <td>проведение свадьбы</td>\n",
       "    </tr>\n",
       "    <tr>\n",
       "      <th>9</th>\n",
       "      <td>0</td>\n",
       "      <td>2188.00</td>\n",
       "      <td>41</td>\n",
       "      <td>1</td>\n",
       "      <td>0</td>\n",
       "      <td>M</td>\n",
       "      <td>сотрудник</td>\n",
       "      <td>0</td>\n",
       "      <td>144425</td>\n",
       "      <td>покупка жилья для семьи</td>\n",
       "      <td>C</td>\n",
       "      <td>операции с недвижимостью</td>\n",
       "    </tr>\n",
       "  </tbody>\n",
       "</table>\n",
       "</div>"
      ],
      "text/plain": [
       "   children  days_employed  dob_years  education_id  family_status_id gender  \\\n",
       "0         1        8437.00         42             0                 0      F   \n",
       "1         1        4024.00         36             1                 0      F   \n",
       "2         0        5623.00         33             1                 0      M   \n",
       "3         3        4124.00         32             1                 0      M   \n",
       "4         0       14177.75         53             1                 1      F   \n",
       "5         0         926.00         27             0                 1      M   \n",
       "6         0        2879.00         43             0                 0      F   \n",
       "7         0         152.00         50             1                 0      M   \n",
       "8         2        6929.00         35             0                 1      F   \n",
       "9         0        2188.00         41             1                 0      M   \n",
       "\n",
       "  income_type  debt  total_income                     purpose  \\\n",
       "0   сотрудник     0        253875               покупка жилья   \n",
       "1   сотрудник     0        112080     приобретение автомобиля   \n",
       "2   сотрудник     0        145885               покупка жилья   \n",
       "3   сотрудник     0        267628  дополнительное образование   \n",
       "4   пенсионер     0        158616             сыграть свадьбу   \n",
       "5   компаньон     0        255763               покупка жилья   \n",
       "6   компаньон     0        240525           операции с жильем   \n",
       "7   сотрудник     0        135823                 образование   \n",
       "8   сотрудник     0         95856       на проведение свадьбы   \n",
       "9   сотрудник     0        144425     покупка жилья для семьи   \n",
       "\n",
       "  total_income_category          purpose_category  \n",
       "0                     B  операции с недвижимостью  \n",
       "1                     C    операции с автомобилем  \n",
       "2                     C  операции с недвижимостью  \n",
       "3                     B     получение образования  \n",
       "4                     C        проведение свадьбы  \n",
       "5                     B  операции с недвижимостью  \n",
       "6                     B  операции с недвижимостью  \n",
       "7                     C     получение образования  \n",
       "8                     C        проведение свадьбы  \n",
       "9                     C  операции с недвижимостью  "
      ]
     },
     "execution_count": 28,
     "metadata": {},
     "output_type": "execute_result"
    }
   ],
   "source": [
    "def purpose_category(item): #создаю функцию, которая категоризирует данные в столбце purpose\n",
    "    \n",
    "    if 'свадьб' in item:\n",
    "        return 'проведение свадьбы'\n",
    "    if 'образован' in item:\n",
    "        return 'получение образования'\n",
    "    if 'автомобил' in item:\n",
    "        return 'операции с автомобилем'\n",
    "    if 'жиль' or 'недвижимост' in item:\n",
    "        return 'операции с недвижимостью'\n",
    "    return 'нет категории'\n",
    " \n",
    "df['purpose_category'] = df['purpose'].apply(purpose_category) #создаю столбец purpose с категориями\n",
    "df.head(10) #выведу первые 10 строк датафрейма"
   ]
  },
  {
   "cell_type": "code",
   "execution_count": null,
   "id": "cc1a603e",
   "metadata": {},
   "outputs": [],
   "source": [
    "df['purpose_category'].value_counts() #выведу статистику по ежемесячному доходу"
   ]
  },
  {
   "cell_type": "markdown",
   "id": "1f94e1b4",
   "metadata": {},
   "source": [
    "### Ответы на вопросы."
   ]
  },
  {
   "cell_type": "markdown",
   "id": "833477fd",
   "metadata": {},
   "source": [
    "##### Вопрос 1: "
   ]
  },
  {
   "cell_type": "markdown",
   "id": "02b725c3",
   "metadata": {},
   "source": []
  },
  {
   "cell_type": "markdown",
   "id": "de40474b",
   "metadata": {},
   "source": [
    "Есть ли зависимость между количеством детей и возвратом кредита в срок?"
   ]
  },
  {
   "cell_type": "code",
   "execution_count": null,
   "id": "89ea0984",
   "metadata": {},
   "outputs": [],
   "source": [
    "df_pivot_children = df.pivot_table(index = 'children', columns = 'debt', values = 'dob_years', aggfunc = 'count') #создам сводную таблицу\n",
    "df_pivot_children['%'] = df_pivot_children[1]/(df_pivot_children[0]+df_pivot_children[1])*100 #посчитаю долю непогашенных кредитов\n",
    "df_pivot_children.sort_values(by='%', ascending=False) #выведу таблицу в порядке убывания по столбцу %"
   ]
  },
  {
   "cell_type": "markdown",
   "id": "18380272",
   "metadata": {},
   "source": [
    "##### Вывод 1:"
   ]
  },
  {
   "cell_type": "markdown",
   "id": "f3ef8996",
   "metadata": {},
   "source": []
  },
  {
   "cell_type": "markdown",
   "id": "ebc8ea85",
   "metadata": {},
   "source": [
    "Семьи с 5 детьми не имеют задолженностей. Дальше мы видим, как с увеличением количества детей, растет и процент задолженностей. При это семьи с 3 детьми выплачивают кредит в срок чаще, чем семьи с одним ребенком. Данные неоднозначные."
   ]
  },
  {
   "cell_type": "markdown",
   "id": "0198c046",
   "metadata": {},
   "source": [
    "##### Вопрос 2: "
   ]
  },
  {
   "cell_type": "markdown",
   "id": "fe4f0488",
   "metadata": {},
   "source": [
    "Есть ли зависимость между семейным положением и возвратом кредита в срок?"
   ]
  },
  {
   "cell_type": "code",
   "execution_count": null,
   "id": "57176c46",
   "metadata": {},
   "outputs": [],
   "source": [
    "df_pivot_family_status = df.pivot_table(index = 'family_status_id', columns = 'debt', values = 'dob_years', aggfunc = 'count') #создам сводную таблицу\n",
    "df_pivot_family_status['%'] = df_pivot_family_status[1]/(df_pivot_family_status[0]+df_pivot_family_status[1])*100 #посчитаю долю непогашенных кредитов\n",
    "df_pivot_family_status.sort_values(by='%', ascending=False) #выведу таблицу в порядке убывания по столбцу %"
   ]
  },
  {
   "cell_type": "code",
   "execution_count": null,
   "id": "fd5d48ea",
   "metadata": {},
   "outputs": [],
   "source": [
    "df_pivot_family_status_new = df_pivot_family_status.merge(family_status_log, on='family_status_id', how='left') #объединю полученную таблицу со словарем family_status\n",
    "df_pivot_family_status_new.sort_values(by='%', ascending=False) #выведу таблицу в порядке убывания по столбцу %"
   ]
  },
  {
   "cell_type": "markdown",
   "id": "7928b87f",
   "metadata": {},
   "source": [
    "##### Вывод 2:"
   ]
  },
  {
   "cell_type": "markdown",
   "id": "deb7c59d",
   "metadata": {},
   "source": [
    "Неженатые/незамужние имеют самый большой процент задолженностей. Те, кто развелся или овдовел - самый маленький. Здесь тоже сложно говорить о какой-либо зависимости."
   ]
  },
  {
   "cell_type": "markdown",
   "id": "ea435f7f",
   "metadata": {},
   "source": [
    "##### Вопрос 3:"
   ]
  },
  {
   "cell_type": "markdown",
   "id": "b9569c60",
   "metadata": {},
   "source": [
    "Есть ли зависимость между уровнем дохода и возвратом кредита в срок?"
   ]
  },
  {
   "cell_type": "code",
   "execution_count": null,
   "id": "a202935c",
   "metadata": {},
   "outputs": [],
   "source": [
    "df_pivot_total_income = df.pivot_table(index = 'total_income_category', columns = 'debt', values = 'dob_years', aggfunc = 'count') #создам сводную таблицу\n",
    "df_pivot_total_income['%'] = df_pivot_total_income[1]/(df_pivot_total_income[0]+df_pivot_total_income[1])*100 #посчитаю долю непогашенных кредитов\n",
    "df_pivot_total_income.sort_values(by='%', ascending=False) #выведу таблицу в порядке убывания по столбцу %"
   ]
  },
  {
   "cell_type": "markdown",
   "id": "ea92e0c2",
   "metadata": {},
   "source": [
    "##### Вывод 3:"
   ]
  },
  {
   "cell_type": "markdown",
   "id": "748ac8a7",
   "metadata": {},
   "source": [
    "Получается, что люди с наименьшим ежемесячным доходом выплачивают кредит в срок чаще, чем те, у кого ежемесячный доход высокий, что довольно странно. Самый большой процент задолженностей по кредитам у средней категории."
   ]
  },
  {
   "cell_type": "markdown",
   "id": "441aca8d",
   "metadata": {},
   "source": [
    "##### Вопрос 4:"
   ]
  },
  {
   "cell_type": "markdown",
   "id": "873ceaa9",
   "metadata": {},
   "source": [
    "Как разные цели кредита влияют на его возврат в срок?"
   ]
  },
  {
   "cell_type": "code",
   "execution_count": null,
   "id": "b4ae02c6",
   "metadata": {},
   "outputs": [],
   "source": [
    "df_pivot_purpose = df.pivot_table(index = 'purpose_category', columns = 'debt', values = 'dob_years', aggfunc = 'count') #создам сводную таблицу\n",
    "df_pivot_purpose['%'] = df_pivot_purpose[1]/(df_pivot_purpose[0]+df_pivot_purpose[1])*100 #посчитаю долю непогашенных кредитов\n",
    "df_pivot_purpose.sort_values(by='%', ascending=False) #выведу таблицу в порядке убывания по столбцу %"
   ]
  },
  {
   "cell_type": "markdown",
   "id": "1db37b1c",
   "metadata": {},
   "source": [
    "##### Вывод 4:"
   ]
  },
  {
   "cell_type": "markdown",
   "id": "c2c4ea4f",
   "metadata": {},
   "source": [
    "Мы видим, что на операции с автомобилем и получение образования процент задолженностей по кредиту выше, чем на операции с недвижимостью и проведение свадеб."
   ]
  },
  {
   "cell_type": "markdown",
   "id": "30cd1d28",
   "metadata": {},
   "source": [
    "## Общий вывод:"
   ]
  },
  {
   "cell_type": "markdown",
   "id": "66d2bd35",
   "metadata": {},
   "source": [
    "Была поставлена задача разобраться, влияет ли семейное положение и количество детей клиента на факт погашения кредита в срок.\n",
    "\n",
    "На основе полученных данных, я сформировала новые датафреймы по конкретным категориям и посчитала долю непогашенных в срок кредитов для каждой категории.\n",
    "\n",
    "Полученные данные не дали мне однозначного ответа на поставленный вопрос. Думаю, данные неоднозначны, чтобы делать по ним вывод."
   ]
  }
 ],
 "metadata": {
  "ExecuteTimeLog": [
   {
    "duration": 72,
    "start_time": "2022-05-06T17:28:55.154Z"
   },
   {
    "duration": 3,
    "start_time": "2022-05-06T17:31:35.029Z"
   },
   {
    "duration": 5,
    "start_time": "2022-05-06T17:32:06.606Z"
   },
   {
    "duration": 11,
    "start_time": "2022-05-06T17:43:50.750Z"
   },
   {
    "duration": 23,
    "start_time": "2022-05-06T17:46:45.158Z"
   },
   {
    "duration": 82,
    "start_time": "2022-05-06T17:54:14.042Z"
   },
   {
    "duration": 59,
    "start_time": "2022-05-06T17:54:28.221Z"
   },
   {
    "duration": 76,
    "start_time": "2022-05-06T17:54:42.280Z"
   },
   {
    "duration": 10,
    "start_time": "2022-05-06T18:00:42.832Z"
   },
   {
    "duration": 625,
    "start_time": "2022-05-07T06:43:03.307Z"
   },
   {
    "duration": 21,
    "start_time": "2022-05-07T06:43:41.343Z"
   },
   {
    "duration": 96,
    "start_time": "2022-05-07T07:06:41.883Z"
   },
   {
    "duration": 29,
    "start_time": "2022-05-07T07:08:10.110Z"
   },
   {
    "duration": 7,
    "start_time": "2022-05-07T07:16:01.411Z"
   },
   {
    "duration": 10,
    "start_time": "2022-05-07T07:20:14.516Z"
   },
   {
    "duration": 8,
    "start_time": "2022-05-07T07:22:32.315Z"
   },
   {
    "duration": 119,
    "start_time": "2022-05-07T07:36:15.013Z"
   },
   {
    "duration": 87,
    "start_time": "2022-05-07T07:42:11.884Z"
   },
   {
    "duration": 20,
    "start_time": "2022-05-07T07:42:29.023Z"
   },
   {
    "duration": 18,
    "start_time": "2022-05-07T07:46:45.133Z"
   },
   {
    "duration": 19,
    "start_time": "2022-05-07T07:46:55.919Z"
   },
   {
    "duration": 15,
    "start_time": "2022-05-07T07:47:04.976Z"
   },
   {
    "duration": 6,
    "start_time": "2022-05-07T07:52:34.463Z"
   },
   {
    "duration": 8,
    "start_time": "2022-05-07T07:52:57.399Z"
   },
   {
    "duration": 7,
    "start_time": "2022-05-07T07:53:07.350Z"
   },
   {
    "duration": 7,
    "start_time": "2022-05-07T07:53:13.604Z"
   },
   {
    "duration": 8,
    "start_time": "2022-05-07T07:53:25.883Z"
   },
   {
    "duration": 201,
    "start_time": "2022-05-07T07:53:38.400Z"
   },
   {
    "duration": 126,
    "start_time": "2022-05-07T07:53:43.344Z"
   },
   {
    "duration": 8,
    "start_time": "2022-05-07T07:54:08.053Z"
   },
   {
    "duration": 6,
    "start_time": "2022-05-07T07:54:18.563Z"
   },
   {
    "duration": 32,
    "start_time": "2022-05-07T08:10:58.401Z"
   },
   {
    "duration": 9,
    "start_time": "2022-05-07T13:12:45.145Z"
   },
   {
    "duration": 3,
    "start_time": "2022-05-07T13:19:07.268Z"
   },
   {
    "duration": 51,
    "start_time": "2022-05-07T13:19:16.763Z"
   },
   {
    "duration": 546,
    "start_time": "2022-05-07T13:19:23.457Z"
   },
   {
    "duration": 18,
    "start_time": "2022-05-07T13:19:32.045Z"
   },
   {
    "duration": 5,
    "start_time": "2022-05-07T13:19:35.974Z"
   },
   {
    "duration": 5,
    "start_time": "2022-05-07T13:19:38.067Z"
   },
   {
    "duration": 16,
    "start_time": "2022-05-07T13:19:39.869Z"
   },
   {
    "duration": 3,
    "start_time": "2022-05-07T13:19:43.687Z"
   },
   {
    "duration": 9,
    "start_time": "2022-05-07T13:20:05.570Z"
   },
   {
    "duration": 15,
    "start_time": "2022-05-07T13:20:16.887Z"
   },
   {
    "duration": 161,
    "start_time": "2022-05-07T13:22:28.482Z"
   },
   {
    "duration": 19,
    "start_time": "2022-05-07T13:33:53.301Z"
   },
   {
    "duration": 33,
    "start_time": "2022-05-07T13:34:59.916Z"
   },
   {
    "duration": 22,
    "start_time": "2022-05-07T13:35:19.318Z"
   },
   {
    "duration": 18,
    "start_time": "2022-05-07T13:37:13.656Z"
   },
   {
    "duration": 46,
    "start_time": "2022-05-07T15:55:50.909Z"
   },
   {
    "duration": 439,
    "start_time": "2022-05-07T15:56:01.033Z"
   },
   {
    "duration": 15,
    "start_time": "2022-05-07T15:56:02.758Z"
   },
   {
    "duration": 5,
    "start_time": "2022-05-07T15:56:04.707Z"
   },
   {
    "duration": 5,
    "start_time": "2022-05-07T15:56:04.961Z"
   },
   {
    "duration": 15,
    "start_time": "2022-05-07T15:56:06.857Z"
   },
   {
    "duration": 17,
    "start_time": "2022-05-07T15:56:09.968Z"
   },
   {
    "duration": 15,
    "start_time": "2022-05-07T16:03:39.954Z"
   },
   {
    "duration": 23,
    "start_time": "2022-05-07T16:03:52.113Z"
   },
   {
    "duration": 16,
    "start_time": "2022-05-07T16:04:27.207Z"
   },
   {
    "duration": 28,
    "start_time": "2022-05-07T16:08:34.841Z"
   },
   {
    "duration": 14,
    "start_time": "2022-05-07T16:08:45.785Z"
   },
   {
    "duration": 13,
    "start_time": "2022-05-07T16:18:24.286Z"
   },
   {
    "duration": 14,
    "start_time": "2022-05-07T16:18:33.379Z"
   },
   {
    "duration": 23,
    "start_time": "2022-05-07T16:22:26.216Z"
   },
   {
    "duration": 15,
    "start_time": "2022-05-07T16:22:48.422Z"
   },
   {
    "duration": 5,
    "start_time": "2022-05-07T16:24:26.763Z"
   },
   {
    "duration": 18,
    "start_time": "2022-05-07T16:24:26.770Z"
   },
   {
    "duration": 61,
    "start_time": "2022-05-07T16:24:28.012Z"
   },
   {
    "duration": 14,
    "start_time": "2022-05-07T16:24:28.741Z"
   },
   {
    "duration": 7,
    "start_time": "2022-05-07T16:24:30.501Z"
   },
   {
    "duration": 5,
    "start_time": "2022-05-07T16:24:31.093Z"
   },
   {
    "duration": 15,
    "start_time": "2022-05-07T16:24:32.835Z"
   },
   {
    "duration": 13,
    "start_time": "2022-05-07T16:24:35.170Z"
   },
   {
    "duration": 5,
    "start_time": "2022-05-07T16:24:37.143Z"
   },
   {
    "duration": 14,
    "start_time": "2022-05-07T16:24:42.599Z"
   },
   {
    "duration": 15,
    "start_time": "2022-05-07T16:28:25.260Z"
   },
   {
    "duration": 14,
    "start_time": "2022-05-07T16:30:08.839Z"
   },
   {
    "duration": 16,
    "start_time": "2022-05-07T16:31:11.205Z"
   },
   {
    "duration": 16,
    "start_time": "2022-05-07T16:31:17.618Z"
   },
   {
    "duration": 14,
    "start_time": "2022-05-07T16:45:29.212Z"
   },
   {
    "duration": 18,
    "start_time": "2022-05-07T16:46:30.569Z"
   },
   {
    "duration": 14,
    "start_time": "2022-05-07T16:47:20.555Z"
   },
   {
    "duration": 7,
    "start_time": "2022-05-07T16:47:20.572Z"
   },
   {
    "duration": 10,
    "start_time": "2022-05-07T16:47:20.581Z"
   },
   {
    "duration": 32,
    "start_time": "2022-05-07T16:47:20.593Z"
   },
   {
    "duration": 17,
    "start_time": "2022-05-07T16:47:20.672Z"
   },
   {
    "duration": 12,
    "start_time": "2022-05-07T16:47:20.691Z"
   },
   {
    "duration": 15,
    "start_time": "2022-05-07T16:47:25.297Z"
   },
   {
    "duration": 64,
    "start_time": "2022-05-07T16:47:30.490Z"
   },
   {
    "duration": 61,
    "start_time": "2022-05-07T16:47:39.476Z"
   },
   {
    "duration": 14,
    "start_time": "2022-05-07T16:47:40.824Z"
   },
   {
    "duration": 7,
    "start_time": "2022-05-07T16:47:43.193Z"
   },
   {
    "duration": 4,
    "start_time": "2022-05-07T16:47:44.019Z"
   },
   {
    "duration": 14,
    "start_time": "2022-05-07T16:47:45.709Z"
   },
   {
    "duration": 13,
    "start_time": "2022-05-07T16:47:51.452Z"
   },
   {
    "duration": 19,
    "start_time": "2022-05-07T16:47:52.986Z"
   },
   {
    "duration": 19,
    "start_time": "2022-05-07T16:48:05.694Z"
   },
   {
    "duration": 14,
    "start_time": "2022-05-07T16:48:31.830Z"
   },
   {
    "duration": 16,
    "start_time": "2022-05-07T16:51:35.208Z"
   },
   {
    "duration": 43,
    "start_time": "2022-05-09T12:27:10.951Z"
   },
   {
    "duration": 582,
    "start_time": "2022-05-09T12:27:15.349Z"
   },
   {
    "duration": 14,
    "start_time": "2022-05-09T12:27:20.924Z"
   },
   {
    "duration": 5,
    "start_time": "2022-05-09T12:27:31.144Z"
   },
   {
    "duration": 5,
    "start_time": "2022-05-09T12:27:33.749Z"
   },
   {
    "duration": 15,
    "start_time": "2022-05-09T12:27:38.184Z"
   },
   {
    "duration": 17,
    "start_time": "2022-05-09T12:27:48.986Z"
   },
   {
    "duration": 20,
    "start_time": "2022-05-09T12:27:59.001Z"
   },
   {
    "duration": 24,
    "start_time": "2022-05-09T12:28:04.424Z"
   },
   {
    "duration": 23,
    "start_time": "2022-05-09T12:28:40.993Z"
   },
   {
    "duration": 17,
    "start_time": "2022-05-09T12:28:57.232Z"
   },
   {
    "duration": 43,
    "start_time": "2022-05-09T12:29:01.884Z"
   },
   {
    "duration": 7,
    "start_time": "2022-05-09T12:31:34.986Z"
   },
   {
    "duration": 12,
    "start_time": "2022-05-09T12:33:51.586Z"
   },
   {
    "duration": 8,
    "start_time": "2022-05-09T12:33:54.161Z"
   },
   {
    "duration": 9,
    "start_time": "2022-05-09T12:35:50.068Z"
   },
   {
    "duration": 10,
    "start_time": "2022-05-09T12:38:23.225Z"
   },
   {
    "duration": 104,
    "start_time": "2022-05-09T12:46:32.967Z"
   },
   {
    "duration": 15,
    "start_time": "2022-05-09T12:46:36.549Z"
   },
   {
    "duration": 5,
    "start_time": "2022-05-09T12:46:39.687Z"
   },
   {
    "duration": 5,
    "start_time": "2022-05-09T12:46:41.625Z"
   },
   {
    "duration": 17,
    "start_time": "2022-05-09T12:46:44.090Z"
   },
   {
    "duration": 21,
    "start_time": "2022-05-09T12:46:53.359Z"
   },
   {
    "duration": 20,
    "start_time": "2022-05-09T12:46:56.611Z"
   },
   {
    "duration": 16,
    "start_time": "2022-05-09T12:46:59.929Z"
   },
   {
    "duration": 13,
    "start_time": "2022-05-09T12:47:02.479Z"
   },
   {
    "duration": 31,
    "start_time": "2022-05-09T12:47:05.529Z"
   },
   {
    "duration": 0,
    "start_time": "2022-05-09T12:47:36.191Z"
   },
   {
    "duration": 38,
    "start_time": "2022-05-09T12:47:40.510Z"
   },
   {
    "duration": 21,
    "start_time": "2022-05-09T12:51:08.708Z"
   },
   {
    "duration": 24,
    "start_time": "2022-05-09T12:51:50.922Z"
   },
   {
    "duration": 25,
    "start_time": "2022-05-09T12:51:53.168Z"
   },
   {
    "duration": 23,
    "start_time": "2022-05-09T12:51:55.344Z"
   },
   {
    "duration": 32,
    "start_time": "2022-05-09T12:52:06.264Z"
   },
   {
    "duration": 16,
    "start_time": "2022-05-09T13:12:58.624Z"
   },
   {
    "duration": 33,
    "start_time": "2022-05-09T13:13:04.153Z"
   },
   {
    "duration": 33,
    "start_time": "2022-05-09T13:16:58.331Z"
   },
   {
    "duration": 30,
    "start_time": "2022-05-09T13:17:22.116Z"
   },
   {
    "duration": 206,
    "start_time": "2022-05-09T13:17:38.222Z"
   },
   {
    "duration": 16,
    "start_time": "2022-05-09T13:17:44.960Z"
   },
   {
    "duration": 91,
    "start_time": "2022-05-09T13:18:45.309Z"
   },
   {
    "duration": 141,
    "start_time": "2022-05-09T13:18:55.358Z"
   },
   {
    "duration": 28,
    "start_time": "2022-05-09T13:19:27.616Z"
   },
   {
    "duration": 29,
    "start_time": "2022-05-09T13:20:19.355Z"
   },
   {
    "duration": 16,
    "start_time": "2022-05-09T13:21:26.124Z"
   },
   {
    "duration": 32,
    "start_time": "2022-05-09T13:21:56.854Z"
   },
   {
    "duration": 53,
    "start_time": "2022-05-09T13:22:09.787Z"
   },
   {
    "duration": 5,
    "start_time": "2022-05-09T13:24:29.242Z"
   },
   {
    "duration": 0,
    "start_time": "2022-05-09T13:24:51.476Z"
   },
   {
    "duration": 6,
    "start_time": "2022-05-09T13:24:56.884Z"
   },
   {
    "duration": 10,
    "start_time": "2022-05-09T13:33:56.911Z"
   },
   {
    "duration": 8,
    "start_time": "2022-05-09T13:34:00.289Z"
   },
   {
    "duration": 10,
    "start_time": "2022-05-09T13:34:40.833Z"
   },
   {
    "duration": 11,
    "start_time": "2022-05-09T13:34:51.332Z"
   },
   {
    "duration": 12,
    "start_time": "2022-05-09T13:35:11.629Z"
   },
   {
    "duration": 12,
    "start_time": "2022-05-09T13:36:44.466Z"
   },
   {
    "duration": 6,
    "start_time": "2022-05-09T13:37:10.725Z"
   },
   {
    "duration": 6,
    "start_time": "2022-05-09T13:37:37.228Z"
   },
   {
    "duration": 20,
    "start_time": "2022-05-09T13:37:42.425Z"
   },
   {
    "duration": 31,
    "start_time": "2022-05-09T13:37:47.243Z"
   },
   {
    "duration": 6,
    "start_time": "2022-05-09T13:37:50.419Z"
   },
   {
    "duration": 21,
    "start_time": "2022-05-09T13:38:03.710Z"
   },
   {
    "duration": 28,
    "start_time": "2022-05-09T13:38:07.370Z"
   },
   {
    "duration": 15,
    "start_time": "2022-05-09T13:38:54.214Z"
   },
   {
    "duration": 35,
    "start_time": "2022-05-09T13:39:03.390Z"
   },
   {
    "duration": 6,
    "start_time": "2022-05-09T13:39:05.753Z"
   },
   {
    "duration": 33,
    "start_time": "2022-05-09T13:39:26.555Z"
   },
   {
    "duration": 7,
    "start_time": "2022-05-09T13:39:33.314Z"
   },
   {
    "duration": 30,
    "start_time": "2022-05-09T13:39:40.459Z"
   },
   {
    "duration": 33,
    "start_time": "2022-05-09T13:39:58.474Z"
   },
   {
    "duration": 74,
    "start_time": "2022-05-09T13:40:04.385Z"
   },
   {
    "duration": 20,
    "start_time": "2022-05-09T13:40:12.843Z"
   },
   {
    "duration": 6,
    "start_time": "2022-05-09T13:40:15.506Z"
   },
   {
    "duration": 5,
    "start_time": "2022-05-09T13:40:17.467Z"
   },
   {
    "duration": 18,
    "start_time": "2022-05-09T13:40:20.020Z"
   },
   {
    "duration": 16,
    "start_time": "2022-05-09T13:40:28.566Z"
   },
   {
    "duration": 12,
    "start_time": "2022-05-09T13:40:32.361Z"
   },
   {
    "duration": 22,
    "start_time": "2022-05-09T13:40:36.369Z"
   },
   {
    "duration": 23,
    "start_time": "2022-05-09T13:40:41.525Z"
   },
   {
    "duration": 24,
    "start_time": "2022-05-09T13:40:47.229Z"
   },
   {
    "duration": 47,
    "start_time": "2022-05-09T13:40:50.680Z"
   },
   {
    "duration": 13,
    "start_time": "2022-05-09T13:40:53.909Z"
   },
   {
    "duration": 17,
    "start_time": "2022-05-09T13:41:46.111Z"
   },
   {
    "duration": 5,
    "start_time": "2022-05-09T13:43:23.760Z"
   },
   {
    "duration": 11,
    "start_time": "2022-05-09T13:43:43.759Z"
   },
   {
    "duration": 14,
    "start_time": "2022-05-09T13:43:53.345Z"
   },
   {
    "duration": 5,
    "start_time": "2022-05-09T13:44:27.122Z"
   },
   {
    "duration": 12,
    "start_time": "2022-05-09T13:45:08.442Z"
   },
   {
    "duration": 5,
    "start_time": "2022-05-09T13:46:03.018Z"
   },
   {
    "duration": 6,
    "start_time": "2022-05-09T13:46:38.972Z"
   },
   {
    "duration": 5,
    "start_time": "2022-05-09T14:04:46.763Z"
   },
   {
    "duration": 14,
    "start_time": "2022-05-09T14:14:41.563Z"
   },
   {
    "duration": 4,
    "start_time": "2022-05-09T14:14:58.375Z"
   },
   {
    "duration": 10,
    "start_time": "2022-05-09T14:18:53.300Z"
   },
   {
    "duration": 5,
    "start_time": "2022-05-09T14:31:31.852Z"
   },
   {
    "duration": 6,
    "start_time": "2022-05-09T14:33:58.148Z"
   },
   {
    "duration": 6,
    "start_time": "2022-05-09T14:35:47.731Z"
   },
   {
    "duration": 7,
    "start_time": "2022-05-09T14:38:04.186Z"
   },
   {
    "duration": 5,
    "start_time": "2022-05-09T14:39:10.738Z"
   },
   {
    "duration": 8,
    "start_time": "2022-05-09T15:28:17.930Z"
   },
   {
    "duration": 5,
    "start_time": "2022-05-09T15:30:23.848Z"
   },
   {
    "duration": 7,
    "start_time": "2022-05-09T15:30:54.730Z"
   },
   {
    "duration": 7,
    "start_time": "2022-05-09T15:35:02.614Z"
   },
   {
    "duration": 5,
    "start_time": "2022-05-09T15:37:26.030Z"
   },
   {
    "duration": 6,
    "start_time": "2022-05-09T15:37:54.593Z"
   },
   {
    "duration": 7,
    "start_time": "2022-05-09T15:38:50.291Z"
   },
   {
    "duration": 7,
    "start_time": "2022-05-09T15:39:04.416Z"
   },
   {
    "duration": 7,
    "start_time": "2022-05-09T15:39:35.331Z"
   },
   {
    "duration": 66,
    "start_time": "2022-05-09T15:41:20.329Z"
   },
   {
    "duration": 26,
    "start_time": "2022-05-09T15:50:14.292Z"
   },
   {
    "duration": 12,
    "start_time": "2022-05-09T15:53:24.461Z"
   },
   {
    "duration": 21,
    "start_time": "2022-05-09T15:58:21.684Z"
   },
   {
    "duration": 18,
    "start_time": "2022-05-09T16:01:04.455Z"
   },
   {
    "duration": 16,
    "start_time": "2022-05-09T16:01:11.798Z"
   },
   {
    "duration": 10,
    "start_time": "2022-05-09T16:01:22.217Z"
   },
   {
    "duration": 70,
    "start_time": "2022-05-09T16:01:26.559Z"
   },
   {
    "duration": 14,
    "start_time": "2022-05-09T16:01:29.242Z"
   },
   {
    "duration": 12,
    "start_time": "2022-05-09T16:01:32.093Z"
   },
   {
    "duration": 5,
    "start_time": "2022-05-09T16:01:44.515Z"
   },
   {
    "duration": 6,
    "start_time": "2022-05-09T16:01:47.165Z"
   },
   {
    "duration": 13,
    "start_time": "2022-05-09T16:06:36.130Z"
   },
   {
    "duration": 8,
    "start_time": "2022-05-09T16:06:55.365Z"
   },
   {
    "duration": 179,
    "start_time": "2022-05-09T16:22:40.495Z"
   },
   {
    "duration": 184,
    "start_time": "2022-05-09T16:22:43.548Z"
   },
   {
    "duration": 11,
    "start_time": "2022-05-09T16:22:50.045Z"
   },
   {
    "duration": 10,
    "start_time": "2022-05-09T16:23:12.882Z"
   },
   {
    "duration": 13,
    "start_time": "2022-05-09T16:24:07.808Z"
   },
   {
    "duration": 17,
    "start_time": "2022-05-09T16:26:28.971Z"
   },
   {
    "duration": 7,
    "start_time": "2022-05-09T16:31:07.098Z"
   },
   {
    "duration": 5,
    "start_time": "2022-05-09T16:31:21.041Z"
   },
   {
    "duration": 7,
    "start_time": "2022-05-09T16:31:27.616Z"
   },
   {
    "duration": 4,
    "start_time": "2022-05-09T16:31:33.364Z"
   },
   {
    "duration": 5,
    "start_time": "2022-05-09T16:31:40.985Z"
   },
   {
    "duration": 14,
    "start_time": "2022-05-09T16:33:11.255Z"
   },
   {
    "duration": 15,
    "start_time": "2022-05-09T16:33:21.888Z"
   },
   {
    "duration": 37,
    "start_time": "2022-05-09T16:33:44.008Z"
   },
   {
    "duration": 25,
    "start_time": "2022-05-09T16:40:19.780Z"
   },
   {
    "duration": 6,
    "start_time": "2022-05-09T16:42:01.670Z"
   },
   {
    "duration": 6,
    "start_time": "2022-05-09T16:42:07.391Z"
   },
   {
    "duration": 5,
    "start_time": "2022-05-09T16:42:18.981Z"
   },
   {
    "duration": 35,
    "start_time": "2022-05-09T16:52:00.190Z"
   },
   {
    "duration": 21,
    "start_time": "2022-05-09T16:52:51.575Z"
   },
   {
    "duration": 6,
    "start_time": "2022-05-09T16:53:00.130Z"
   },
   {
    "duration": 14,
    "start_time": "2022-05-09T16:54:24.757Z"
   },
   {
    "duration": 31,
    "start_time": "2022-05-09T16:54:29.902Z"
   },
   {
    "duration": 15,
    "start_time": "2022-05-09T16:54:44.019Z"
   },
   {
    "duration": 6,
    "start_time": "2022-05-09T16:55:04.161Z"
   },
   {
    "duration": 33,
    "start_time": "2022-05-09T16:55:26.794Z"
   },
   {
    "duration": 250,
    "start_time": "2022-05-09T16:58:08.886Z"
   },
   {
    "duration": 7,
    "start_time": "2022-05-09T16:58:14.133Z"
   },
   {
    "duration": 21,
    "start_time": "2022-05-09T16:58:25.853Z"
   },
   {
    "duration": 14,
    "start_time": "2022-05-09T16:58:39.052Z"
   },
   {
    "duration": 6,
    "start_time": "2022-05-09T17:36:43.654Z"
   },
   {
    "duration": 5,
    "start_time": "2022-05-09T17:37:15.289Z"
   },
   {
    "duration": 10,
    "start_time": "2022-05-09T17:37:59.092Z"
   },
   {
    "duration": 7,
    "start_time": "2022-05-09T17:38:21.631Z"
   },
   {
    "duration": 13,
    "start_time": "2022-05-09T17:39:08.826Z"
   },
   {
    "duration": 14,
    "start_time": "2022-05-09T17:41:56.122Z"
   },
   {
    "duration": 82,
    "start_time": "2022-05-09T17:43:44.598Z"
   },
   {
    "duration": 27,
    "start_time": "2022-05-09T17:43:47.998Z"
   },
   {
    "duration": 4,
    "start_time": "2022-05-09T17:43:52.156Z"
   },
   {
    "duration": 66,
    "start_time": "2022-05-09T17:44:12.926Z"
   },
   {
    "duration": 36,
    "start_time": "2022-05-09T17:44:17.497Z"
   },
   {
    "duration": 4,
    "start_time": "2022-05-09T17:44:20.855Z"
   },
   {
    "duration": 4,
    "start_time": "2022-05-09T17:44:33.568Z"
   },
   {
    "duration": 4,
    "start_time": "2022-05-09T17:44:35.979Z"
   },
   {
    "duration": 18,
    "start_time": "2022-05-09T17:44:38.379Z"
   },
   {
    "duration": 22,
    "start_time": "2022-05-09T17:44:42.436Z"
   },
   {
    "duration": 7,
    "start_time": "2022-05-09T17:44:52.109Z"
   },
   {
    "duration": 8,
    "start_time": "2022-05-09T17:44:56.045Z"
   },
   {
    "duration": 10,
    "start_time": "2022-05-09T17:45:15.923Z"
   },
   {
    "duration": 10,
    "start_time": "2022-05-09T17:51:37.922Z"
   },
   {
    "duration": 12,
    "start_time": "2022-05-09T17:54:28.128Z"
   },
   {
    "duration": 7,
    "start_time": "2022-05-09T17:55:59.348Z"
   },
   {
    "duration": 8,
    "start_time": "2022-05-09T17:56:12.864Z"
   },
   {
    "duration": 5,
    "start_time": "2022-05-09T17:56:31.178Z"
   },
   {
    "duration": 3448,
    "start_time": "2022-05-09T17:57:46.065Z"
   },
   {
    "duration": 0,
    "start_time": "2022-05-09T17:57:53.368Z"
   },
   {
    "duration": 5,
    "start_time": "2022-05-09T17:57:55.240Z"
   },
   {
    "duration": 5187,
    "start_time": "2022-05-09T17:57:57.637Z"
   },
   {
    "duration": 7,
    "start_time": "2022-05-09T17:58:04.920Z"
   },
   {
    "duration": 6,
    "start_time": "2022-05-09T17:58:40.562Z"
   },
   {
    "duration": 7,
    "start_time": "2022-05-09T18:00:01.049Z"
   },
   {
    "duration": 7,
    "start_time": "2022-05-09T18:03:35.066Z"
   },
   {
    "duration": 6,
    "start_time": "2022-05-09T18:03:58.533Z"
   },
   {
    "duration": 9,
    "start_time": "2022-05-09T18:04:32.819Z"
   },
   {
    "duration": 9,
    "start_time": "2022-05-09T18:05:27.096Z"
   },
   {
    "duration": 67,
    "start_time": "2022-05-09T18:06:14.219Z"
   },
   {
    "duration": 20,
    "start_time": "2022-05-09T18:06:17.617Z"
   },
   {
    "duration": 5,
    "start_time": "2022-05-09T18:06:20.564Z"
   },
   {
    "duration": 5,
    "start_time": "2022-05-09T18:06:23.536Z"
   },
   {
    "duration": 5,
    "start_time": "2022-05-09T18:06:26.050Z"
   },
   {
    "duration": 20,
    "start_time": "2022-05-09T18:06:28.888Z"
   },
   {
    "duration": 18,
    "start_time": "2022-05-09T18:06:34.821Z"
   },
   {
    "duration": 8,
    "start_time": "2022-05-09T18:06:39.518Z"
   },
   {
    "duration": 8,
    "start_time": "2022-05-09T18:06:42.254Z"
   },
   {
    "duration": 16,
    "start_time": "2022-05-09T18:06:50.647Z"
   },
   {
    "duration": 5,
    "start_time": "2022-05-09T18:06:54.628Z"
   },
   {
    "duration": 10,
    "start_time": "2022-05-09T18:06:58.977Z"
   },
   {
    "duration": 6,
    "start_time": "2022-05-09T18:07:03.789Z"
   },
   {
    "duration": 9,
    "start_time": "2022-05-09T18:07:15.227Z"
   },
   {
    "duration": 6,
    "start_time": "2022-05-09T18:07:18.059Z"
   },
   {
    "duration": 12,
    "start_time": "2022-05-09T18:07:20.924Z"
   },
   {
    "duration": 9,
    "start_time": "2022-05-09T18:07:23.140Z"
   },
   {
    "duration": 5,
    "start_time": "2022-05-09T18:07:26.180Z"
   },
   {
    "duration": 9,
    "start_time": "2022-05-09T18:07:29.278Z"
   },
   {
    "duration": 9,
    "start_time": "2022-05-09T18:07:32.771Z"
   },
   {
    "duration": 45,
    "start_time": "2022-05-10T07:56:22.140Z"
   },
   {
    "duration": 466,
    "start_time": "2022-05-10T07:56:27.644Z"
   },
   {
    "duration": 16,
    "start_time": "2022-05-10T07:56:32.183Z"
   },
   {
    "duration": 4,
    "start_time": "2022-05-10T07:56:36.109Z"
   },
   {
    "duration": 4,
    "start_time": "2022-05-10T07:56:39.284Z"
   },
   {
    "duration": 5,
    "start_time": "2022-05-10T07:56:41.160Z"
   },
   {
    "duration": 14,
    "start_time": "2022-05-10T07:56:44.503Z"
   },
   {
    "duration": 16,
    "start_time": "2022-05-10T07:56:47.810Z"
   },
   {
    "duration": 5,
    "start_time": "2022-05-10T07:56:51.747Z"
   },
   {
    "duration": 9,
    "start_time": "2022-05-10T07:56:53.950Z"
   },
   {
    "duration": 15,
    "start_time": "2022-05-10T07:57:00.526Z"
   },
   {
    "duration": 16,
    "start_time": "2022-05-10T07:57:09.742Z"
   },
   {
    "duration": 5,
    "start_time": "2022-05-10T07:57:13.058Z"
   },
   {
    "duration": 13,
    "start_time": "2022-05-10T07:59:16.389Z"
   },
   {
    "duration": 6,
    "start_time": "2022-05-10T08:10:48.275Z"
   },
   {
    "duration": 6,
    "start_time": "2022-05-10T08:11:11.013Z"
   },
   {
    "duration": 5,
    "start_time": "2022-05-10T08:11:18.106Z"
   },
   {
    "duration": 5,
    "start_time": "2022-05-10T08:11:36.184Z"
   },
   {
    "duration": 64,
    "start_time": "2022-05-10T08:11:40.719Z"
   },
   {
    "duration": 14,
    "start_time": "2022-05-10T08:11:43.860Z"
   },
   {
    "duration": 4,
    "start_time": "2022-05-10T08:11:46.190Z"
   },
   {
    "duration": 5,
    "start_time": "2022-05-10T08:11:49.171Z"
   },
   {
    "duration": 4,
    "start_time": "2022-05-10T08:11:49.683Z"
   },
   {
    "duration": 14,
    "start_time": "2022-05-10T08:11:51.653Z"
   },
   {
    "duration": 6,
    "start_time": "2022-05-10T08:11:57.436Z"
   },
   {
    "duration": 8,
    "start_time": "2022-05-10T08:11:58.780Z"
   },
   {
    "duration": 13,
    "start_time": "2022-05-10T08:11:59.744Z"
   },
   {
    "duration": 29,
    "start_time": "2022-05-10T08:12:00.971Z"
   },
   {
    "duration": 8,
    "start_time": "2022-05-10T08:12:04.073Z"
   },
   {
    "duration": 14,
    "start_time": "2022-05-10T08:12:08.298Z"
   },
   {
    "duration": 9,
    "start_time": "2022-05-10T08:12:11.101Z"
   },
   {
    "duration": 16,
    "start_time": "2022-05-10T08:12:21.984Z"
   },
   {
    "duration": 6,
    "start_time": "2022-05-10T08:12:25.164Z"
   },
   {
    "duration": 5,
    "start_time": "2022-05-10T08:12:33.469Z"
   },
   {
    "duration": 4,
    "start_time": "2022-05-10T08:15:52.997Z"
   },
   {
    "duration": 4,
    "start_time": "2022-05-10T08:16:00.056Z"
   },
   {
    "duration": 9,
    "start_time": "2022-05-10T08:19:11.309Z"
   },
   {
    "duration": 13,
    "start_time": "2022-05-10T08:19:38.288Z"
   },
   {
    "duration": 14,
    "start_time": "2022-05-10T08:20:54.671Z"
   },
   {
    "duration": 16,
    "start_time": "2022-05-10T08:22:14.477Z"
   },
   {
    "duration": 96,
    "start_time": "2022-05-10T08:24:42.791Z"
   },
   {
    "duration": 5,
    "start_time": "2022-05-10T08:26:02.793Z"
   },
   {
    "duration": 7,
    "start_time": "2022-05-10T08:26:19.129Z"
   },
   {
    "duration": 18,
    "start_time": "2022-05-10T08:27:58.651Z"
   },
   {
    "duration": 31,
    "start_time": "2022-05-10T08:28:03.046Z"
   },
   {
    "duration": 29,
    "start_time": "2022-05-10T08:29:51.294Z"
   },
   {
    "duration": 5,
    "start_time": "2022-05-10T08:29:55.688Z"
   },
   {
    "duration": 64,
    "start_time": "2022-05-10T08:31:57.939Z"
   },
   {
    "duration": 13,
    "start_time": "2022-05-10T08:31:58.888Z"
   },
   {
    "duration": 4,
    "start_time": "2022-05-10T08:31:59.731Z"
   },
   {
    "duration": 4,
    "start_time": "2022-05-10T08:32:01.236Z"
   },
   {
    "duration": 5,
    "start_time": "2022-05-10T08:32:01.575Z"
   },
   {
    "duration": 14,
    "start_time": "2022-05-10T08:32:02.298Z"
   },
   {
    "duration": 15,
    "start_time": "2022-05-10T08:32:03.465Z"
   },
   {
    "duration": 5,
    "start_time": "2022-05-10T08:32:05.063Z"
   },
   {
    "duration": 9,
    "start_time": "2022-05-10T08:32:06.187Z"
   },
   {
    "duration": 12,
    "start_time": "2022-05-10T08:32:07.765Z"
   },
   {
    "duration": 16,
    "start_time": "2022-05-10T08:32:08.800Z"
   },
   {
    "duration": 6,
    "start_time": "2022-05-10T08:32:10.687Z"
   },
   {
    "duration": 17,
    "start_time": "2022-05-10T08:32:12.413Z"
   },
   {
    "duration": 6,
    "start_time": "2022-05-10T08:32:13.714Z"
   },
   {
    "duration": 7,
    "start_time": "2022-05-10T08:32:14.151Z"
   },
   {
    "duration": 4,
    "start_time": "2022-05-10T08:32:15.362Z"
   },
   {
    "duration": 7,
    "start_time": "2022-05-10T08:32:15.769Z"
   },
   {
    "duration": 6,
    "start_time": "2022-05-10T08:32:16.214Z"
   },
   {
    "duration": 6,
    "start_time": "2022-05-10T08:32:16.670Z"
   },
   {
    "duration": 7,
    "start_time": "2022-05-10T08:32:17.549Z"
   },
   {
    "duration": 6,
    "start_time": "2022-05-10T08:32:18.383Z"
   },
   {
    "duration": 14,
    "start_time": "2022-05-10T08:32:20.429Z"
   },
   {
    "duration": 16,
    "start_time": "2022-05-10T08:32:25.035Z"
   },
   {
    "duration": 27,
    "start_time": "2022-05-10T08:32:27.817Z"
   },
   {
    "duration": 7,
    "start_time": "2022-05-10T08:32:44.636Z"
   },
   {
    "duration": 13,
    "start_time": "2022-05-10T08:33:21.693Z"
   },
   {
    "duration": 11,
    "start_time": "2022-05-10T08:33:35.768Z"
   },
   {
    "duration": 14,
    "start_time": "2022-05-10T08:33:41.720Z"
   },
   {
    "duration": 6,
    "start_time": "2022-05-10T08:34:08.462Z"
   },
   {
    "duration": 26,
    "start_time": "2022-05-10T08:34:27.050Z"
   },
   {
    "duration": 9,
    "start_time": "2022-05-10T08:35:37.592Z"
   },
   {
    "duration": 7,
    "start_time": "2022-05-10T08:36:34.305Z"
   },
   {
    "duration": 6,
    "start_time": "2022-05-10T08:36:43.660Z"
   },
   {
    "duration": 9,
    "start_time": "2022-05-10T08:38:07.783Z"
   },
   {
    "duration": 9,
    "start_time": "2022-05-10T08:38:19.375Z"
   },
   {
    "duration": 64,
    "start_time": "2022-05-10T08:39:17.538Z"
   },
   {
    "duration": 17,
    "start_time": "2022-05-10T08:39:20.455Z"
   },
   {
    "duration": 4,
    "start_time": "2022-05-10T08:39:23.283Z"
   },
   {
    "duration": 4,
    "start_time": "2022-05-10T08:39:28.042Z"
   },
   {
    "duration": 5,
    "start_time": "2022-05-10T08:39:30.039Z"
   },
   {
    "duration": 18,
    "start_time": "2022-05-10T08:39:32.540Z"
   },
   {
    "duration": 15,
    "start_time": "2022-05-10T08:39:36.753Z"
   },
   {
    "duration": 5,
    "start_time": "2022-05-10T08:39:41.444Z"
   },
   {
    "duration": 9,
    "start_time": "2022-05-10T08:39:45.613Z"
   },
   {
    "duration": 21,
    "start_time": "2022-05-10T08:39:48.583Z"
   },
   {
    "duration": 23,
    "start_time": "2022-05-10T08:39:51.810Z"
   },
   {
    "duration": 22,
    "start_time": "2022-05-10T08:39:55.025Z"
   },
   {
    "duration": 16,
    "start_time": "2022-05-10T08:40:11.579Z"
   },
   {
    "duration": 29,
    "start_time": "2022-05-10T08:40:14.077Z"
   },
   {
    "duration": 7,
    "start_time": "2022-05-10T08:40:23.539Z"
   },
   {
    "duration": 15,
    "start_time": "2022-05-10T08:40:25.926Z"
   },
   {
    "duration": 7,
    "start_time": "2022-05-10T08:40:28.175Z"
   },
   {
    "duration": 17,
    "start_time": "2022-05-10T08:40:28.788Z"
   },
   {
    "duration": 7,
    "start_time": "2022-05-10T08:40:31.443Z"
   },
   {
    "duration": 5,
    "start_time": "2022-05-10T08:40:33.021Z"
   },
   {
    "duration": 7,
    "start_time": "2022-05-10T08:40:33.552Z"
   },
   {
    "duration": 7,
    "start_time": "2022-05-10T08:40:52.853Z"
   },
   {
    "duration": 13,
    "start_time": "2022-05-10T08:45:13.904Z"
   },
   {
    "duration": 57,
    "start_time": "2022-05-10T08:45:32.967Z"
   },
   {
    "duration": 15,
    "start_time": "2022-05-10T08:45:36.333Z"
   },
   {
    "duration": 4,
    "start_time": "2022-05-10T08:45:39.099Z"
   },
   {
    "duration": 4,
    "start_time": "2022-05-10T08:45:41.710Z"
   },
   {
    "duration": 5,
    "start_time": "2022-05-10T08:45:44.560Z"
   },
   {
    "duration": 13,
    "start_time": "2022-05-10T08:45:47.208Z"
   },
   {
    "duration": 15,
    "start_time": "2022-05-10T08:45:50.560Z"
   },
   {
    "duration": 5,
    "start_time": "2022-05-10T08:45:53.202Z"
   },
   {
    "duration": 8,
    "start_time": "2022-05-10T08:45:56.484Z"
   },
   {
    "duration": 14,
    "start_time": "2022-05-10T08:45:59.365Z"
   },
   {
    "duration": 17,
    "start_time": "2022-05-10T08:46:02.243Z"
   },
   {
    "duration": 15,
    "start_time": "2022-05-10T08:46:05.414Z"
   },
   {
    "duration": 17,
    "start_time": "2022-05-10T08:46:08.555Z"
   },
   {
    "duration": 30,
    "start_time": "2022-05-10T08:46:10.651Z"
   },
   {
    "duration": 7,
    "start_time": "2022-05-10T08:46:13.466Z"
   },
   {
    "duration": 15,
    "start_time": "2022-05-10T08:46:16.114Z"
   },
   {
    "duration": 7,
    "start_time": "2022-05-10T08:46:19.115Z"
   },
   {
    "duration": 17,
    "start_time": "2022-05-10T08:46:21.601Z"
   },
   {
    "duration": 6,
    "start_time": "2022-05-10T08:46:24.556Z"
   },
   {
    "duration": 5,
    "start_time": "2022-05-10T08:46:25.383Z"
   },
   {
    "duration": 7,
    "start_time": "2022-05-10T08:46:26.155Z"
   },
   {
    "duration": 13,
    "start_time": "2022-05-10T08:46:27.293Z"
   },
   {
    "duration": 6,
    "start_time": "2022-05-10T08:47:04.920Z"
   },
   {
    "duration": 14,
    "start_time": "2022-05-10T08:47:05.870Z"
   },
   {
    "duration": 6,
    "start_time": "2022-05-10T08:47:07.198Z"
   },
   {
    "duration": 17,
    "start_time": "2022-05-10T08:47:07.960Z"
   },
   {
    "duration": 9,
    "start_time": "2022-05-10T08:47:08.695Z"
   },
   {
    "duration": 4,
    "start_time": "2022-05-10T08:47:09.620Z"
   },
   {
    "duration": 7,
    "start_time": "2022-05-10T08:47:10.333Z"
   },
   {
    "duration": 13,
    "start_time": "2022-05-10T08:47:11.273Z"
   },
   {
    "duration": 5,
    "start_time": "2022-05-10T08:47:40.482Z"
   },
   {
    "duration": 6,
    "start_time": "2022-05-10T08:47:58.092Z"
   },
   {
    "duration": 63,
    "start_time": "2022-05-10T08:48:30.613Z"
   },
   {
    "duration": 404,
    "start_time": "2022-05-10T08:48:36.297Z"
   },
   {
    "duration": 14,
    "start_time": "2022-05-10T08:48:36.702Z"
   },
   {
    "duration": 4,
    "start_time": "2022-05-10T08:48:36.717Z"
   },
   {
    "duration": 4,
    "start_time": "2022-05-10T08:48:36.723Z"
   },
   {
    "duration": 19,
    "start_time": "2022-05-10T08:48:36.729Z"
   },
   {
    "duration": 13,
    "start_time": "2022-05-10T08:48:36.750Z"
   },
   {
    "duration": 15,
    "start_time": "2022-05-10T08:48:36.764Z"
   },
   {
    "duration": 5,
    "start_time": "2022-05-10T08:48:36.780Z"
   },
   {
    "duration": 11,
    "start_time": "2022-05-10T08:48:36.786Z"
   },
   {
    "duration": 13,
    "start_time": "2022-05-10T08:48:36.800Z"
   },
   {
    "duration": 46,
    "start_time": "2022-05-10T08:48:36.814Z"
   },
   {
    "duration": 14,
    "start_time": "2022-05-10T08:48:36.861Z"
   },
   {
    "duration": 16,
    "start_time": "2022-05-10T08:48:36.877Z"
   },
   {
    "duration": 54,
    "start_time": "2022-05-10T08:48:36.894Z"
   },
   {
    "duration": 7,
    "start_time": "2022-05-10T08:48:36.949Z"
   },
   {
    "duration": 16,
    "start_time": "2022-05-10T08:48:36.957Z"
   },
   {
    "duration": 6,
    "start_time": "2022-05-10T08:48:36.974Z"
   },
   {
    "duration": 17,
    "start_time": "2022-05-10T08:48:36.982Z"
   },
   {
    "duration": 6,
    "start_time": "2022-05-10T08:48:37.000Z"
   },
   {
    "duration": 5,
    "start_time": "2022-05-10T08:48:37.008Z"
   },
   {
    "duration": 38,
    "start_time": "2022-05-10T08:48:37.015Z"
   },
   {
    "duration": 13,
    "start_time": "2022-05-10T08:48:54.316Z"
   },
   {
    "duration": 15,
    "start_time": "2022-05-10T08:50:19.120Z"
   },
   {
    "duration": 7,
    "start_time": "2022-05-10T08:50:37.080Z"
   },
   {
    "duration": 12,
    "start_time": "2022-05-10T08:51:06.315Z"
   },
   {
    "duration": 21,
    "start_time": "2022-05-10T08:51:16.343Z"
   },
   {
    "duration": 7,
    "start_time": "2022-05-10T08:51:20.967Z"
   },
   {
    "duration": 14,
    "start_time": "2022-05-10T08:52:01.683Z"
   },
   {
    "duration": 16,
    "start_time": "2022-05-10T08:52:07.472Z"
   },
   {
    "duration": 13,
    "start_time": "2022-05-10T08:52:24.532Z"
   },
   {
    "duration": 15,
    "start_time": "2022-05-10T08:52:46.337Z"
   },
   {
    "duration": 64,
    "start_time": "2022-05-10T08:52:50.713Z"
   },
   {
    "duration": 10,
    "start_time": "2022-05-10T08:52:54.962Z"
   },
   {
    "duration": 6,
    "start_time": "2022-05-10T08:52:58.497Z"
   },
   {
    "duration": 1520,
    "start_time": "2022-05-10T08:53:05.383Z"
   },
   {
    "duration": 448,
    "start_time": "2022-05-10T08:53:09.581Z"
   },
   {
    "duration": 14,
    "start_time": "2022-05-10T08:53:10.031Z"
   },
   {
    "duration": 5,
    "start_time": "2022-05-10T08:53:10.046Z"
   },
   {
    "duration": 13,
    "start_time": "2022-05-10T08:53:10.053Z"
   },
   {
    "duration": 5,
    "start_time": "2022-05-10T08:53:10.068Z"
   },
   {
    "duration": 14,
    "start_time": "2022-05-10T08:53:10.075Z"
   },
   {
    "duration": 16,
    "start_time": "2022-05-10T08:53:10.091Z"
   },
   {
    "duration": 5,
    "start_time": "2022-05-10T08:53:10.109Z"
   },
   {
    "duration": 44,
    "start_time": "2022-05-10T08:53:10.116Z"
   },
   {
    "duration": 13,
    "start_time": "2022-05-10T08:53:10.163Z"
   },
   {
    "duration": 19,
    "start_time": "2022-05-10T08:53:10.177Z"
   },
   {
    "duration": 14,
    "start_time": "2022-05-10T08:53:10.197Z"
   },
   {
    "duration": 53,
    "start_time": "2022-05-10T08:53:10.212Z"
   },
   {
    "duration": 30,
    "start_time": "2022-05-10T08:53:10.267Z"
   },
   {
    "duration": 6,
    "start_time": "2022-05-10T08:53:10.299Z"
   },
   {
    "duration": 11,
    "start_time": "2022-05-10T08:53:10.307Z"
   },
   {
    "duration": 7,
    "start_time": "2022-05-10T08:53:10.319Z"
   },
   {
    "duration": 27,
    "start_time": "2022-05-10T08:53:10.348Z"
   },
   {
    "duration": 8,
    "start_time": "2022-05-10T08:53:10.376Z"
   },
   {
    "duration": 6,
    "start_time": "2022-05-10T08:53:10.385Z"
   },
   {
    "duration": 7,
    "start_time": "2022-05-10T08:53:10.393Z"
   },
   {
    "duration": 13,
    "start_time": "2022-05-10T08:53:10.401Z"
   },
   {
    "duration": 12,
    "start_time": "2022-05-10T08:53:33.905Z"
   },
   {
    "duration": 14,
    "start_time": "2022-05-10T08:53:44.257Z"
   },
   {
    "duration": 44,
    "start_time": "2022-05-10T13:08:16.341Z"
   },
   {
    "duration": 494,
    "start_time": "2022-05-10T13:08:25.327Z"
   },
   {
    "duration": 20,
    "start_time": "2022-05-10T13:08:25.826Z"
   },
   {
    "duration": 5,
    "start_time": "2022-05-10T13:08:25.849Z"
   },
   {
    "duration": 6,
    "start_time": "2022-05-10T13:08:25.855Z"
   },
   {
    "duration": 7,
    "start_time": "2022-05-10T13:08:25.863Z"
   },
   {
    "duration": 16,
    "start_time": "2022-05-10T13:08:25.871Z"
   },
   {
    "duration": 38,
    "start_time": "2022-05-10T13:08:25.911Z"
   },
   {
    "duration": 9,
    "start_time": "2022-05-10T13:08:25.954Z"
   },
   {
    "duration": 12,
    "start_time": "2022-05-10T13:08:25.965Z"
   },
   {
    "duration": 12,
    "start_time": "2022-05-10T13:08:25.978Z"
   },
   {
    "duration": 27,
    "start_time": "2022-05-10T13:08:25.992Z"
   },
   {
    "duration": 29,
    "start_time": "2022-05-10T13:08:26.021Z"
   },
   {
    "duration": 15,
    "start_time": "2022-05-10T13:08:26.052Z"
   },
   {
    "duration": 27,
    "start_time": "2022-05-10T13:08:26.070Z"
   },
   {
    "duration": 19,
    "start_time": "2022-05-10T13:08:26.099Z"
   },
   {
    "duration": 34,
    "start_time": "2022-05-10T13:08:26.120Z"
   },
   {
    "duration": 9,
    "start_time": "2022-05-10T13:08:26.156Z"
   },
   {
    "duration": 13,
    "start_time": "2022-05-10T13:08:26.166Z"
   },
   {
    "duration": 6,
    "start_time": "2022-05-10T13:08:26.180Z"
   },
   {
    "duration": 6,
    "start_time": "2022-05-10T13:08:26.187Z"
   },
   {
    "duration": 17,
    "start_time": "2022-05-10T13:08:26.194Z"
   },
   {
    "duration": 42,
    "start_time": "2022-05-10T13:08:26.213Z"
   },
   {
    "duration": 12,
    "start_time": "2022-05-10T13:08:51.526Z"
   },
   {
    "duration": 17,
    "start_time": "2022-05-10T13:10:06.861Z"
   },
   {
    "duration": 15,
    "start_time": "2022-05-10T13:10:11.054Z"
   },
   {
    "duration": 17,
    "start_time": "2022-05-10T13:10:35.944Z"
   },
   {
    "duration": 480,
    "start_time": "2022-05-10T13:58:19.610Z"
   },
   {
    "duration": 14,
    "start_time": "2022-05-10T13:58:20.092Z"
   },
   {
    "duration": 17,
    "start_time": "2022-05-10T13:58:20.108Z"
   },
   {
    "duration": 9,
    "start_time": "2022-05-10T13:58:20.127Z"
   },
   {
    "duration": 7,
    "start_time": "2022-05-10T13:58:20.138Z"
   },
   {
    "duration": 14,
    "start_time": "2022-05-10T13:58:20.147Z"
   },
   {
    "duration": 16,
    "start_time": "2022-05-10T13:58:20.163Z"
   },
   {
    "duration": 5,
    "start_time": "2022-05-10T13:58:20.181Z"
   },
   {
    "duration": 10,
    "start_time": "2022-05-10T13:58:20.201Z"
   },
   {
    "duration": 32,
    "start_time": "2022-05-10T13:58:20.213Z"
   },
   {
    "duration": 21,
    "start_time": "2022-05-10T13:58:20.247Z"
   },
   {
    "duration": 19,
    "start_time": "2022-05-10T13:58:20.270Z"
   },
   {
    "duration": 30,
    "start_time": "2022-05-10T13:58:20.291Z"
   },
   {
    "duration": 39,
    "start_time": "2022-05-10T13:58:20.324Z"
   },
   {
    "duration": 7,
    "start_time": "2022-05-10T13:58:20.364Z"
   },
   {
    "duration": 16,
    "start_time": "2022-05-10T13:58:20.372Z"
   },
   {
    "duration": 19,
    "start_time": "2022-05-10T13:58:20.389Z"
   },
   {
    "duration": 23,
    "start_time": "2022-05-10T13:58:20.411Z"
   },
   {
    "duration": 9,
    "start_time": "2022-05-10T13:58:20.436Z"
   },
   {
    "duration": 6,
    "start_time": "2022-05-10T13:58:20.447Z"
   },
   {
    "duration": 12,
    "start_time": "2022-05-10T13:58:20.455Z"
   },
   {
    "duration": 21,
    "start_time": "2022-05-10T13:58:20.469Z"
   },
   {
    "duration": 83,
    "start_time": "2022-05-10T14:07:27.274Z"
   },
   {
    "duration": 518,
    "start_time": "2022-05-10T14:07:35.325Z"
   },
   {
    "duration": 13,
    "start_time": "2022-05-10T14:07:35.845Z"
   },
   {
    "duration": 9,
    "start_time": "2022-05-10T14:07:35.860Z"
   },
   {
    "duration": 12,
    "start_time": "2022-05-10T14:07:35.871Z"
   },
   {
    "duration": 47,
    "start_time": "2022-05-10T14:07:35.884Z"
   },
   {
    "duration": 30,
    "start_time": "2022-05-10T14:07:35.933Z"
   },
   {
    "duration": 15,
    "start_time": "2022-05-10T14:07:35.964Z"
   },
   {
    "duration": 4,
    "start_time": "2022-05-10T14:07:35.981Z"
   },
   {
    "duration": 12,
    "start_time": "2022-05-10T14:07:35.987Z"
   },
   {
    "duration": 85,
    "start_time": "2022-05-10T14:07:36.008Z"
   },
   {
    "duration": 0,
    "start_time": "2022-05-10T14:07:36.094Z"
   },
   {
    "duration": 0,
    "start_time": "2022-05-10T14:07:36.096Z"
   },
   {
    "duration": 0,
    "start_time": "2022-05-10T14:07:36.097Z"
   },
   {
    "duration": 0,
    "start_time": "2022-05-10T14:07:36.098Z"
   },
   {
    "duration": 0,
    "start_time": "2022-05-10T14:07:36.099Z"
   },
   {
    "duration": 0,
    "start_time": "2022-05-10T14:07:36.105Z"
   },
   {
    "duration": 0,
    "start_time": "2022-05-10T14:07:36.108Z"
   },
   {
    "duration": 0,
    "start_time": "2022-05-10T14:07:36.109Z"
   },
   {
    "duration": 0,
    "start_time": "2022-05-10T14:07:36.110Z"
   },
   {
    "duration": 0,
    "start_time": "2022-05-10T14:07:36.112Z"
   },
   {
    "duration": 0,
    "start_time": "2022-05-10T14:07:36.113Z"
   },
   {
    "duration": 0,
    "start_time": "2022-05-10T14:07:36.114Z"
   },
   {
    "duration": 7,
    "start_time": "2022-05-10T14:08:05.388Z"
   },
   {
    "duration": 7,
    "start_time": "2022-05-10T14:08:12.299Z"
   },
   {
    "duration": 13,
    "start_time": "2022-05-10T14:08:26.523Z"
   },
   {
    "duration": 10,
    "start_time": "2022-05-10T14:09:48.305Z"
   },
   {
    "duration": 6,
    "start_time": "2022-05-10T14:10:15.456Z"
   },
   {
    "duration": 4,
    "start_time": "2022-05-10T14:11:04.242Z"
   },
   {
    "duration": 27,
    "start_time": "2022-05-10T14:11:07.396Z"
   },
   {
    "duration": 6,
    "start_time": "2022-05-10T14:11:56.336Z"
   },
   {
    "duration": 5,
    "start_time": "2022-05-10T14:12:19.937Z"
   },
   {
    "duration": 10,
    "start_time": "2022-05-10T14:12:40.283Z"
   },
   {
    "duration": 16,
    "start_time": "2022-05-10T14:13:08.473Z"
   },
   {
    "duration": 25,
    "start_time": "2022-05-10T14:13:13.740Z"
   },
   {
    "duration": 58,
    "start_time": "2022-05-10T14:13:18.467Z"
   },
   {
    "duration": 8,
    "start_time": "2022-05-10T14:13:47.042Z"
   },
   {
    "duration": 214,
    "start_time": "2022-05-10T14:23:10.903Z"
   },
   {
    "duration": 9,
    "start_time": "2022-05-10T14:25:41.379Z"
   },
   {
    "duration": 10,
    "start_time": "2022-05-10T14:26:16.845Z"
   },
   {
    "duration": 10,
    "start_time": "2022-05-10T14:28:08.099Z"
   },
   {
    "duration": 233,
    "start_time": "2022-05-10T14:28:34.971Z"
   },
   {
    "duration": 18,
    "start_time": "2022-05-10T14:41:11.486Z"
   },
   {
    "duration": 6,
    "start_time": "2022-05-10T14:56:00.267Z"
   },
   {
    "duration": 6,
    "start_time": "2022-05-10T14:56:12.009Z"
   },
   {
    "duration": 6,
    "start_time": "2022-05-10T14:56:22.291Z"
   },
   {
    "duration": 6,
    "start_time": "2022-05-10T14:56:35.683Z"
   },
   {
    "duration": 5,
    "start_time": "2022-05-10T14:58:05.519Z"
   },
   {
    "duration": 8,
    "start_time": "2022-05-10T14:58:29.677Z"
   },
   {
    "duration": 8,
    "start_time": "2022-05-10T14:58:35.973Z"
   },
   {
    "duration": 16,
    "start_time": "2022-05-10T15:03:59.969Z"
   },
   {
    "duration": 26,
    "start_time": "2022-05-10T15:04:26.140Z"
   },
   {
    "duration": 30,
    "start_time": "2022-05-10T15:04:28.972Z"
   },
   {
    "duration": 24,
    "start_time": "2022-05-10T15:04:40.193Z"
   },
   {
    "duration": 6,
    "start_time": "2022-05-10T15:05:32.804Z"
   },
   {
    "duration": 3,
    "start_time": "2022-05-10T15:06:09.504Z"
   },
   {
    "duration": 6,
    "start_time": "2022-05-10T15:06:38.887Z"
   },
   {
    "duration": 18,
    "start_time": "2022-05-10T15:07:43.217Z"
   },
   {
    "duration": 207,
    "start_time": "2022-05-10T15:12:00.217Z"
   },
   {
    "duration": 199,
    "start_time": "2022-05-10T15:12:15.286Z"
   },
   {
    "duration": 188,
    "start_time": "2022-05-10T15:12:29.585Z"
   },
   {
    "duration": 9,
    "start_time": "2022-05-10T15:12:54.254Z"
   },
   {
    "duration": 8,
    "start_time": "2022-05-10T15:13:01.121Z"
   },
   {
    "duration": 5,
    "start_time": "2022-05-10T15:13:23.642Z"
   },
   {
    "duration": 424,
    "start_time": "2022-05-10T15:15:36.549Z"
   },
   {
    "duration": 14,
    "start_time": "2022-05-10T15:15:36.975Z"
   },
   {
    "duration": 4,
    "start_time": "2022-05-10T15:15:36.991Z"
   },
   {
    "duration": 4,
    "start_time": "2022-05-10T15:15:37.000Z"
   },
   {
    "duration": 8,
    "start_time": "2022-05-10T15:15:37.005Z"
   },
   {
    "duration": 16,
    "start_time": "2022-05-10T15:15:37.014Z"
   },
   {
    "duration": 16,
    "start_time": "2022-05-10T15:15:37.032Z"
   },
   {
    "duration": 5,
    "start_time": "2022-05-10T15:15:37.050Z"
   },
   {
    "duration": 10,
    "start_time": "2022-05-10T15:15:37.057Z"
   },
   {
    "duration": 4,
    "start_time": "2022-05-10T15:15:37.099Z"
   },
   {
    "duration": 21,
    "start_time": "2022-05-10T15:15:37.105Z"
   },
   {
    "duration": 10,
    "start_time": "2022-05-10T15:15:37.127Z"
   },
   {
    "duration": 25,
    "start_time": "2022-05-10T15:15:37.138Z"
   },
   {
    "duration": 16,
    "start_time": "2022-05-10T15:15:37.165Z"
   },
   {
    "duration": 45,
    "start_time": "2022-05-10T15:15:37.183Z"
   },
   {
    "duration": 6,
    "start_time": "2022-05-10T15:15:37.230Z"
   },
   {
    "duration": 15,
    "start_time": "2022-05-10T15:15:37.238Z"
   },
   {
    "duration": 7,
    "start_time": "2022-05-10T15:15:37.254Z"
   },
   {
    "duration": 14,
    "start_time": "2022-05-10T15:15:37.262Z"
   },
   {
    "duration": 29,
    "start_time": "2022-05-10T15:15:37.277Z"
   },
   {
    "duration": 8,
    "start_time": "2022-05-10T15:15:37.308Z"
   },
   {
    "duration": 9,
    "start_time": "2022-05-10T15:15:37.318Z"
   },
   {
    "duration": 17,
    "start_time": "2022-05-10T15:15:37.328Z"
   },
   {
    "duration": 6,
    "start_time": "2022-05-10T15:18:32.780Z"
   },
   {
    "duration": 1103,
    "start_time": "2022-05-10T15:19:13.277Z"
   },
   {
    "duration": 14,
    "start_time": "2022-05-10T15:19:14.382Z"
   },
   {
    "duration": 18,
    "start_time": "2022-05-10T15:19:14.397Z"
   },
   {
    "duration": 11,
    "start_time": "2022-05-10T15:19:14.417Z"
   },
   {
    "duration": 32,
    "start_time": "2022-05-10T15:19:14.429Z"
   },
   {
    "duration": 24,
    "start_time": "2022-05-10T15:19:14.462Z"
   },
   {
    "duration": 20,
    "start_time": "2022-05-10T15:19:14.487Z"
   },
   {
    "duration": 15,
    "start_time": "2022-05-10T15:19:14.509Z"
   },
   {
    "duration": 33,
    "start_time": "2022-05-10T15:19:14.525Z"
   },
   {
    "duration": 13,
    "start_time": "2022-05-10T15:19:14.561Z"
   },
   {
    "duration": 30,
    "start_time": "2022-05-10T15:19:14.576Z"
   },
   {
    "duration": 23,
    "start_time": "2022-05-10T15:19:14.607Z"
   },
   {
    "duration": 27,
    "start_time": "2022-05-10T15:19:14.631Z"
   },
   {
    "duration": 5,
    "start_time": "2022-05-10T15:19:14.659Z"
   },
   {
    "duration": 24,
    "start_time": "2022-05-10T15:19:14.666Z"
   },
   {
    "duration": 19,
    "start_time": "2022-05-10T15:19:14.692Z"
   },
   {
    "duration": 45,
    "start_time": "2022-05-10T15:19:14.712Z"
   },
   {
    "duration": 9,
    "start_time": "2022-05-10T15:19:14.758Z"
   },
   {
    "duration": 17,
    "start_time": "2022-05-10T15:19:14.769Z"
   },
   {
    "duration": 16,
    "start_time": "2022-05-10T15:19:14.788Z"
   },
   {
    "duration": 32,
    "start_time": "2022-05-10T15:19:14.806Z"
   },
   {
    "duration": 3,
    "start_time": "2022-05-10T15:21:34.352Z"
   },
   {
    "duration": 52,
    "start_time": "2022-05-10T15:22:19.437Z"
   },
   {
    "duration": 7,
    "start_time": "2022-05-10T15:23:15.045Z"
   },
   {
    "duration": 14,
    "start_time": "2022-05-10T15:23:30.516Z"
   },
   {
    "duration": 60,
    "start_time": "2022-05-10T15:25:17.775Z"
   },
   {
    "duration": 8,
    "start_time": "2022-05-10T15:25:47.514Z"
   },
   {
    "duration": 19,
    "start_time": "2022-05-10T15:29:16.125Z"
   },
   {
    "duration": 8,
    "start_time": "2022-05-10T15:29:31.459Z"
   },
   {
    "duration": 7,
    "start_time": "2022-05-10T15:30:38.811Z"
   },
   {
    "duration": 6,
    "start_time": "2022-05-10T15:30:49.622Z"
   },
   {
    "duration": 538,
    "start_time": "2022-05-10T15:30:54.322Z"
   },
   {
    "duration": 14,
    "start_time": "2022-05-10T15:30:54.863Z"
   },
   {
    "duration": 4,
    "start_time": "2022-05-10T15:30:54.878Z"
   },
   {
    "duration": 19,
    "start_time": "2022-05-10T15:30:54.884Z"
   },
   {
    "duration": 11,
    "start_time": "2022-05-10T15:30:54.904Z"
   },
   {
    "duration": 17,
    "start_time": "2022-05-10T15:30:54.917Z"
   },
   {
    "duration": 16,
    "start_time": "2022-05-10T15:30:54.936Z"
   },
   {
    "duration": 3,
    "start_time": "2022-05-10T15:30:54.953Z"
   },
   {
    "duration": 28,
    "start_time": "2022-05-10T15:30:54.957Z"
   },
   {
    "duration": 8,
    "start_time": "2022-05-10T15:30:55.001Z"
   },
   {
    "duration": 19,
    "start_time": "2022-05-10T15:30:55.010Z"
   },
   {
    "duration": 16,
    "start_time": "2022-05-10T15:30:55.030Z"
   },
   {
    "duration": 41,
    "start_time": "2022-05-10T15:30:55.048Z"
   },
   {
    "duration": 34,
    "start_time": "2022-05-10T15:30:55.090Z"
   },
   {
    "duration": 6,
    "start_time": "2022-05-10T15:30:55.126Z"
   },
   {
    "duration": 21,
    "start_time": "2022-05-10T15:30:55.133Z"
   },
   {
    "duration": 8,
    "start_time": "2022-05-10T15:30:55.156Z"
   },
   {
    "duration": 8,
    "start_time": "2022-05-10T15:30:55.166Z"
   },
   {
    "duration": 31,
    "start_time": "2022-05-10T15:30:55.176Z"
   },
   {
    "duration": 13,
    "start_time": "2022-05-10T15:30:55.209Z"
   },
   {
    "duration": 12,
    "start_time": "2022-05-10T15:30:55.223Z"
   },
   {
    "duration": 6,
    "start_time": "2022-05-10T15:31:23.353Z"
   },
   {
    "duration": 8,
    "start_time": "2022-05-10T15:35:17.897Z"
   },
   {
    "duration": 4,
    "start_time": "2022-05-10T15:38:14.117Z"
   },
   {
    "duration": 5,
    "start_time": "2022-05-10T15:38:16.577Z"
   },
   {
    "duration": 8,
    "start_time": "2022-05-10T15:38:48.832Z"
   },
   {
    "duration": 8,
    "start_time": "2022-05-10T15:39:01.717Z"
   },
   {
    "duration": 76,
    "start_time": "2022-05-10T15:40:05.367Z"
   },
   {
    "duration": 4,
    "start_time": "2022-05-10T15:40:18.448Z"
   },
   {
    "duration": 8,
    "start_time": "2022-05-10T15:40:23.974Z"
   },
   {
    "duration": 4,
    "start_time": "2022-05-10T15:42:25.562Z"
   },
   {
    "duration": 11,
    "start_time": "2022-05-10T15:42:26.446Z"
   },
   {
    "duration": 11,
    "start_time": "2022-05-10T15:43:09.764Z"
   },
   {
    "duration": 15,
    "start_time": "2022-05-10T15:48:32.927Z"
   },
   {
    "duration": 18,
    "start_time": "2022-05-10T15:49:36.991Z"
   },
   {
    "duration": 5,
    "start_time": "2022-05-10T15:50:11.690Z"
   },
   {
    "duration": 32,
    "start_time": "2022-05-10T15:50:15.098Z"
   },
   {
    "duration": 14,
    "start_time": "2022-05-10T15:50:18.734Z"
   },
   {
    "duration": 16,
    "start_time": "2022-05-10T15:50:20.826Z"
   },
   {
    "duration": 0,
    "start_time": "2022-05-10T15:51:42.030Z"
   },
   {
    "duration": 12,
    "start_time": "2022-05-10T15:51:53.339Z"
   },
   {
    "duration": 11,
    "start_time": "2022-05-10T16:01:03.797Z"
   },
   {
    "duration": 9,
    "start_time": "2022-05-10T16:02:17.621Z"
   },
   {
    "duration": 3,
    "start_time": "2022-05-10T16:02:32.674Z"
   },
   {
    "duration": 7,
    "start_time": "2022-05-10T16:02:34.581Z"
   },
   {
    "duration": 3,
    "start_time": "2022-05-10T16:02:50.696Z"
   },
   {
    "duration": 11,
    "start_time": "2022-05-10T16:02:52.406Z"
   },
   {
    "duration": 5,
    "start_time": "2022-05-10T16:03:36.418Z"
   },
   {
    "duration": 1068,
    "start_time": "2022-05-10T16:03:38.127Z"
   },
   {
    "duration": 249,
    "start_time": "2022-05-10T16:04:44.488Z"
   },
   {
    "duration": 5,
    "start_time": "2022-05-10T16:05:09.238Z"
   },
   {
    "duration": 985,
    "start_time": "2022-05-10T16:05:12.769Z"
   },
   {
    "duration": 16,
    "start_time": "2022-05-10T16:05:50.475Z"
   },
   {
    "duration": 18,
    "start_time": "2022-05-10T16:06:00.128Z"
   },
   {
    "duration": 7,
    "start_time": "2022-05-10T16:06:03.442Z"
   },
   {
    "duration": 1183,
    "start_time": "2022-05-10T16:06:06.272Z"
   },
   {
    "duration": 4,
    "start_time": "2022-05-10T16:07:06.828Z"
   },
   {
    "duration": 1048,
    "start_time": "2022-05-10T16:07:09.413Z"
   },
   {
    "duration": 600,
    "start_time": "2022-05-10T16:07:15.790Z"
   },
   {
    "duration": 27,
    "start_time": "2022-05-10T16:07:16.392Z"
   },
   {
    "duration": 17,
    "start_time": "2022-05-10T16:07:16.429Z"
   },
   {
    "duration": 7,
    "start_time": "2022-05-10T16:07:16.448Z"
   },
   {
    "duration": 7,
    "start_time": "2022-05-10T16:07:16.457Z"
   },
   {
    "duration": 24,
    "start_time": "2022-05-10T16:07:16.466Z"
   },
   {
    "duration": 33,
    "start_time": "2022-05-10T16:07:16.492Z"
   },
   {
    "duration": 10,
    "start_time": "2022-05-10T16:07:16.527Z"
   },
   {
    "duration": 20,
    "start_time": "2022-05-10T16:07:16.539Z"
   },
   {
    "duration": 8,
    "start_time": "2022-05-10T16:07:16.561Z"
   },
   {
    "duration": 12,
    "start_time": "2022-05-10T16:07:16.571Z"
   },
   {
    "duration": 3,
    "start_time": "2022-05-10T16:07:16.585Z"
   },
   {
    "duration": 39,
    "start_time": "2022-05-10T16:07:16.603Z"
   },
   {
    "duration": 27,
    "start_time": "2022-05-10T16:07:16.644Z"
   },
   {
    "duration": 4,
    "start_time": "2022-05-10T16:07:16.673Z"
   },
   {
    "duration": 12,
    "start_time": "2022-05-10T16:07:16.679Z"
   },
   {
    "duration": 15,
    "start_time": "2022-05-10T16:07:16.692Z"
   },
   {
    "duration": 26,
    "start_time": "2022-05-10T16:07:16.710Z"
   },
   {
    "duration": 12,
    "start_time": "2022-05-10T16:07:16.738Z"
   },
   {
    "duration": 9,
    "start_time": "2022-05-10T16:07:16.752Z"
   },
   {
    "duration": 7,
    "start_time": "2022-05-10T16:07:16.763Z"
   },
   {
    "duration": 13,
    "start_time": "2022-05-10T16:07:16.772Z"
   },
   {
    "duration": 23,
    "start_time": "2022-05-10T16:07:16.786Z"
   },
   {
    "duration": 11,
    "start_time": "2022-05-10T16:07:16.813Z"
   },
   {
    "duration": 24,
    "start_time": "2022-05-10T16:07:16.826Z"
   },
   {
    "duration": 237,
    "start_time": "2022-05-10T16:07:16.852Z"
   },
   {
    "duration": 0,
    "start_time": "2022-05-10T16:07:17.129Z"
   },
   {
    "duration": 0,
    "start_time": "2022-05-10T16:07:17.130Z"
   },
   {
    "duration": 0,
    "start_time": "2022-05-10T16:07:17.130Z"
   },
   {
    "duration": 129,
    "start_time": "2022-05-10T16:07:30.066Z"
   },
   {
    "duration": 127,
    "start_time": "2022-05-10T16:07:43.761Z"
   },
   {
    "duration": 8,
    "start_time": "2022-05-10T16:08:18.406Z"
   },
   {
    "duration": 11,
    "start_time": "2022-05-10T16:08:22.781Z"
   },
   {
    "duration": 5,
    "start_time": "2022-05-10T16:08:28.218Z"
   },
   {
    "duration": 911,
    "start_time": "2022-05-10T16:08:30.123Z"
   },
   {
    "duration": 12,
    "start_time": "2022-05-10T16:08:51.348Z"
   },
   {
    "duration": 10,
    "start_time": "2022-05-10T16:09:00.247Z"
   },
   {
    "duration": 3,
    "start_time": "2022-05-10T16:11:19.048Z"
   },
   {
    "duration": 896,
    "start_time": "2022-05-10T16:11:22.194Z"
   },
   {
    "duration": 3,
    "start_time": "2022-05-10T16:13:34.341Z"
   },
   {
    "duration": 912,
    "start_time": "2022-05-10T16:13:37.073Z"
   },
   {
    "duration": 527,
    "start_time": "2022-05-10T16:15:03.234Z"
   },
   {
    "duration": 14,
    "start_time": "2022-05-10T16:15:03.763Z"
   },
   {
    "duration": 6,
    "start_time": "2022-05-10T16:15:03.778Z"
   },
   {
    "duration": 16,
    "start_time": "2022-05-10T16:15:03.809Z"
   },
   {
    "duration": 14,
    "start_time": "2022-05-10T16:15:03.826Z"
   },
   {
    "duration": 19,
    "start_time": "2022-05-10T16:15:03.841Z"
   },
   {
    "duration": 16,
    "start_time": "2022-05-10T16:15:03.861Z"
   },
   {
    "duration": 4,
    "start_time": "2022-05-10T16:15:03.878Z"
   },
   {
    "duration": 23,
    "start_time": "2022-05-10T16:15:03.884Z"
   },
   {
    "duration": 12,
    "start_time": "2022-05-10T16:15:03.919Z"
   },
   {
    "duration": 28,
    "start_time": "2022-05-10T16:15:03.933Z"
   },
   {
    "duration": 3,
    "start_time": "2022-05-10T16:15:03.963Z"
   },
   {
    "duration": 19,
    "start_time": "2022-05-10T16:15:03.968Z"
   },
   {
    "duration": 52,
    "start_time": "2022-05-10T16:15:03.989Z"
   },
   {
    "duration": 6,
    "start_time": "2022-05-10T16:15:04.043Z"
   },
   {
    "duration": 17,
    "start_time": "2022-05-10T16:15:04.051Z"
   },
   {
    "duration": 13,
    "start_time": "2022-05-10T16:15:04.070Z"
   },
   {
    "duration": 28,
    "start_time": "2022-05-10T16:15:04.085Z"
   },
   {
    "duration": 28,
    "start_time": "2022-05-10T16:15:04.116Z"
   },
   {
    "duration": 11,
    "start_time": "2022-05-10T16:15:04.146Z"
   },
   {
    "duration": 8,
    "start_time": "2022-05-10T16:15:04.158Z"
   },
   {
    "duration": 16,
    "start_time": "2022-05-10T16:15:04.167Z"
   },
   {
    "duration": 4,
    "start_time": "2022-05-10T16:15:04.184Z"
   },
   {
    "duration": 21,
    "start_time": "2022-05-10T16:15:04.190Z"
   },
   {
    "duration": 37,
    "start_time": "2022-05-10T16:15:04.213Z"
   },
   {
    "duration": 19,
    "start_time": "2022-05-10T16:15:04.252Z"
   },
   {
    "duration": 10,
    "start_time": "2022-05-10T16:15:04.272Z"
   },
   {
    "duration": 1165,
    "start_time": "2022-05-10T16:15:04.286Z"
   },
   {
    "duration": 26,
    "start_time": "2022-05-10T16:16:01.001Z"
   },
   {
    "duration": 4,
    "start_time": "2022-05-10T16:16:14.367Z"
   },
   {
    "duration": 961,
    "start_time": "2022-05-10T16:16:17.953Z"
   },
   {
    "duration": 4,
    "start_time": "2022-05-10T16:18:33.946Z"
   },
   {
    "duration": 9,
    "start_time": "2022-05-10T16:18:48.522Z"
   },
   {
    "duration": 4,
    "start_time": "2022-05-10T16:18:57.292Z"
   },
   {
    "duration": 4,
    "start_time": "2022-05-10T16:19:03.192Z"
   },
   {
    "duration": 5,
    "start_time": "2022-05-10T16:19:55.625Z"
   },
   {
    "duration": 5,
    "start_time": "2022-05-10T16:20:04.023Z"
   },
   {
    "duration": 11,
    "start_time": "2022-05-10T16:20:12.400Z"
   },
   {
    "duration": 3,
    "start_time": "2022-05-10T16:20:23.049Z"
   },
   {
    "duration": 3,
    "start_time": "2022-05-10T16:20:42.260Z"
   },
   {
    "duration": 4,
    "start_time": "2022-05-10T16:20:46.996Z"
   },
   {
    "duration": 4,
    "start_time": "2022-05-10T16:20:54.737Z"
   },
   {
    "duration": 5,
    "start_time": "2022-05-10T16:21:02.734Z"
   },
   {
    "duration": 4,
    "start_time": "2022-05-10T16:22:14.851Z"
   },
   {
    "duration": 4,
    "start_time": "2022-05-10T16:22:20.063Z"
   },
   {
    "duration": 7,
    "start_time": "2022-05-10T16:22:26.337Z"
   },
   {
    "duration": 1054,
    "start_time": "2022-05-10T16:22:38.736Z"
   },
   {
    "duration": 4,
    "start_time": "2022-05-10T16:30:20.825Z"
   },
   {
    "duration": 3,
    "start_time": "2022-05-10T16:30:23.978Z"
   },
   {
    "duration": 914,
    "start_time": "2022-05-10T16:30:31.459Z"
   },
   {
    "duration": 14,
    "start_time": "2022-05-10T16:30:32.375Z"
   },
   {
    "duration": 5,
    "start_time": "2022-05-10T16:30:32.391Z"
   },
   {
    "duration": 46,
    "start_time": "2022-05-10T16:30:32.398Z"
   },
   {
    "duration": 7,
    "start_time": "2022-05-10T16:30:32.446Z"
   },
   {
    "duration": 17,
    "start_time": "2022-05-10T16:30:32.455Z"
   },
   {
    "duration": 16,
    "start_time": "2022-05-10T16:30:32.474Z"
   },
   {
    "duration": 3,
    "start_time": "2022-05-10T16:30:32.492Z"
   },
   {
    "duration": 66,
    "start_time": "2022-05-10T16:30:32.497Z"
   },
   {
    "duration": 12,
    "start_time": "2022-05-10T16:30:32.565Z"
   },
   {
    "duration": 31,
    "start_time": "2022-05-10T16:30:32.578Z"
   },
   {
    "duration": 5,
    "start_time": "2022-05-10T16:30:32.611Z"
   },
   {
    "duration": 38,
    "start_time": "2022-05-10T16:30:32.617Z"
   },
   {
    "duration": 19,
    "start_time": "2022-05-10T16:30:32.658Z"
   },
   {
    "duration": 49,
    "start_time": "2022-05-10T16:30:32.678Z"
   },
   {
    "duration": 12,
    "start_time": "2022-05-10T16:30:32.729Z"
   },
   {
    "duration": 17,
    "start_time": "2022-05-10T16:30:32.743Z"
   },
   {
    "duration": 8,
    "start_time": "2022-05-10T16:30:32.762Z"
   },
   {
    "duration": 8,
    "start_time": "2022-05-10T16:30:32.772Z"
   },
   {
    "duration": 39,
    "start_time": "2022-05-10T16:30:32.781Z"
   },
   {
    "duration": 12,
    "start_time": "2022-05-10T16:30:32.823Z"
   },
   {
    "duration": 8,
    "start_time": "2022-05-10T16:30:32.837Z"
   },
   {
    "duration": 18,
    "start_time": "2022-05-10T16:30:32.846Z"
   },
   {
    "duration": 5,
    "start_time": "2022-05-10T16:30:32.865Z"
   },
   {
    "duration": 14,
    "start_time": "2022-05-10T16:30:32.871Z"
   },
   {
    "duration": 6,
    "start_time": "2022-05-10T16:30:32.887Z"
   },
   {
    "duration": 27,
    "start_time": "2022-05-10T16:30:32.895Z"
   },
   {
    "duration": 15,
    "start_time": "2022-05-10T16:30:32.925Z"
   },
   {
    "duration": 7,
    "start_time": "2022-05-10T16:30:32.941Z"
   },
   {
    "duration": 1114,
    "start_time": "2022-05-10T16:30:32.950Z"
   },
   {
    "duration": 4,
    "start_time": "2022-05-10T16:30:48.341Z"
   },
   {
    "duration": 1014,
    "start_time": "2022-05-10T16:30:50.826Z"
   },
   {
    "duration": 498,
    "start_time": "2022-05-11T07:48:21.215Z"
   },
   {
    "duration": 17,
    "start_time": "2022-05-11T07:48:21.715Z"
   },
   {
    "duration": 3,
    "start_time": "2022-05-11T07:48:21.734Z"
   },
   {
    "duration": 8,
    "start_time": "2022-05-11T07:48:21.739Z"
   },
   {
    "duration": 6,
    "start_time": "2022-05-11T07:48:21.749Z"
   },
   {
    "duration": 19,
    "start_time": "2022-05-11T07:48:21.756Z"
   },
   {
    "duration": 43,
    "start_time": "2022-05-11T07:48:21.777Z"
   },
   {
    "duration": 4,
    "start_time": "2022-05-11T07:48:21.821Z"
   },
   {
    "duration": 30,
    "start_time": "2022-05-11T07:48:21.826Z"
   },
   {
    "duration": 9,
    "start_time": "2022-05-11T07:48:21.858Z"
   },
   {
    "duration": 12,
    "start_time": "2022-05-11T07:48:21.869Z"
   },
   {
    "duration": 4,
    "start_time": "2022-05-11T07:48:21.883Z"
   },
   {
    "duration": 33,
    "start_time": "2022-05-11T07:48:21.888Z"
   },
   {
    "duration": 19,
    "start_time": "2022-05-11T07:48:21.923Z"
   },
   {
    "duration": 33,
    "start_time": "2022-05-11T07:48:21.944Z"
   },
   {
    "duration": 6,
    "start_time": "2022-05-11T07:48:22.007Z"
   },
   {
    "duration": 16,
    "start_time": "2022-05-11T07:48:22.015Z"
   },
   {
    "duration": 9,
    "start_time": "2022-05-11T07:48:22.033Z"
   },
   {
    "duration": 7,
    "start_time": "2022-05-11T07:48:22.043Z"
   },
   {
    "duration": 14,
    "start_time": "2022-05-11T07:48:22.051Z"
   },
   {
    "duration": 40,
    "start_time": "2022-05-11T07:48:22.067Z"
   },
   {
    "duration": 4,
    "start_time": "2022-05-11T07:48:22.109Z"
   },
   {
    "duration": 14,
    "start_time": "2022-05-11T07:48:22.115Z"
   },
   {
    "duration": 4,
    "start_time": "2022-05-11T07:48:22.131Z"
   },
   {
    "duration": 22,
    "start_time": "2022-05-11T07:48:22.136Z"
   },
   {
    "duration": 4,
    "start_time": "2022-05-11T07:48:22.160Z"
   },
   {
    "duration": 13,
    "start_time": "2022-05-11T07:48:22.166Z"
   },
   {
    "duration": 29,
    "start_time": "2022-05-11T07:48:22.182Z"
   },
   {
    "duration": 7,
    "start_time": "2022-05-11T07:48:22.212Z"
   },
   {
    "duration": 357,
    "start_time": "2022-05-11T07:48:22.220Z"
   },
   {
    "duration": 5,
    "start_time": "2022-05-11T07:48:41.118Z"
   },
   {
    "duration": 4,
    "start_time": "2022-05-11T07:48:47.801Z"
   },
   {
    "duration": 3,
    "start_time": "2022-05-11T07:48:53.379Z"
   },
   {
    "duration": 261,
    "start_time": "2022-05-11T07:49:01.175Z"
   },
   {
    "duration": 14,
    "start_time": "2022-05-11T07:49:43.484Z"
   },
   {
    "duration": 11,
    "start_time": "2022-05-11T07:49:52.652Z"
   },
   {
    "duration": 7,
    "start_time": "2022-05-11T07:52:33.057Z"
   },
   {
    "duration": 6,
    "start_time": "2022-05-11T07:57:06.953Z"
   },
   {
    "duration": 319,
    "start_time": "2022-05-11T08:15:11.850Z"
   },
   {
    "duration": 60,
    "start_time": "2022-05-11T08:15:53.145Z"
   },
   {
    "duration": 72,
    "start_time": "2022-05-11T08:42:13.647Z"
   },
   {
    "duration": 15,
    "start_time": "2022-05-11T08:42:22.685Z"
   },
   {
    "duration": 18,
    "start_time": "2022-05-11T08:42:33.942Z"
   },
   {
    "duration": 15,
    "start_time": "2022-05-11T08:58:08.231Z"
   },
   {
    "duration": 15,
    "start_time": "2022-05-11T08:58:33.950Z"
   },
   {
    "duration": 19,
    "start_time": "2022-05-11T09:02:18.259Z"
   },
   {
    "duration": 6,
    "start_time": "2022-05-11T09:03:55.860Z"
   },
   {
    "duration": 5,
    "start_time": "2022-05-11T09:03:58.084Z"
   },
   {
    "duration": 8,
    "start_time": "2022-05-11T09:04:27.573Z"
   },
   {
    "duration": 71,
    "start_time": "2022-05-11T09:04:46.698Z"
   },
   {
    "duration": 15,
    "start_time": "2022-05-11T09:04:50.494Z"
   },
   {
    "duration": 12,
    "start_time": "2022-05-11T09:04:54.058Z"
   },
   {
    "duration": 5,
    "start_time": "2022-05-11T09:04:57.575Z"
   },
   {
    "duration": 5,
    "start_time": "2022-05-11T09:05:00.375Z"
   },
   {
    "duration": 10,
    "start_time": "2022-05-11T09:05:03.476Z"
   },
   {
    "duration": 8,
    "start_time": "2022-05-11T09:05:11.641Z"
   },
   {
    "duration": 22,
    "start_time": "2022-05-11T09:05:23.842Z"
   },
   {
    "duration": 22,
    "start_time": "2022-05-11T09:06:08.492Z"
   },
   {
    "duration": 15,
    "start_time": "2022-05-11T09:06:40.202Z"
   },
   {
    "duration": 18,
    "start_time": "2022-05-11T09:13:46.791Z"
   },
   {
    "duration": 3,
    "start_time": "2022-05-11T09:23:08.590Z"
   },
   {
    "duration": 18,
    "start_time": "2022-05-11T09:23:11.446Z"
   },
   {
    "duration": 11,
    "start_time": "2022-05-11T09:35:43.109Z"
   },
   {
    "duration": 9,
    "start_time": "2022-05-11T09:35:45.868Z"
   },
   {
    "duration": 4,
    "start_time": "2022-05-11T09:38:34.390Z"
   },
   {
    "duration": 16,
    "start_time": "2022-05-11T09:38:36.297Z"
   },
   {
    "duration": 23,
    "start_time": "2022-05-11T09:39:33.408Z"
   },
   {
    "duration": 17,
    "start_time": "2022-05-11T09:39:47.038Z"
   },
   {
    "duration": 24,
    "start_time": "2022-05-11T09:42:20.628Z"
   },
   {
    "duration": 17,
    "start_time": "2022-05-11T09:44:37.052Z"
   },
   {
    "duration": 31,
    "start_time": "2022-05-11T09:44:43.286Z"
   },
   {
    "duration": 477,
    "start_time": "2022-05-11T09:44:58.866Z"
   },
   {
    "duration": 15,
    "start_time": "2022-05-11T09:44:59.345Z"
   },
   {
    "duration": 11,
    "start_time": "2022-05-11T09:44:59.361Z"
   },
   {
    "duration": 5,
    "start_time": "2022-05-11T09:44:59.373Z"
   },
   {
    "duration": 8,
    "start_time": "2022-05-11T09:44:59.411Z"
   },
   {
    "duration": 19,
    "start_time": "2022-05-11T09:44:59.421Z"
   },
   {
    "duration": 20,
    "start_time": "2022-05-11T09:44:59.442Z"
   },
   {
    "duration": 4,
    "start_time": "2022-05-11T09:44:59.463Z"
   },
   {
    "duration": 25,
    "start_time": "2022-05-11T09:44:59.509Z"
   },
   {
    "duration": 11,
    "start_time": "2022-05-11T09:44:59.535Z"
   },
   {
    "duration": 101,
    "start_time": "2022-05-11T09:44:59.547Z"
   },
   {
    "duration": 0,
    "start_time": "2022-05-11T09:44:59.650Z"
   },
   {
    "duration": 0,
    "start_time": "2022-05-11T09:44:59.651Z"
   },
   {
    "duration": 0,
    "start_time": "2022-05-11T09:44:59.652Z"
   },
   {
    "duration": 0,
    "start_time": "2022-05-11T09:44:59.654Z"
   },
   {
    "duration": 0,
    "start_time": "2022-05-11T09:44:59.655Z"
   },
   {
    "duration": 1,
    "start_time": "2022-05-11T09:44:59.655Z"
   },
   {
    "duration": 0,
    "start_time": "2022-05-11T09:44:59.656Z"
   },
   {
    "duration": 0,
    "start_time": "2022-05-11T09:44:59.658Z"
   },
   {
    "duration": 0,
    "start_time": "2022-05-11T09:44:59.659Z"
   },
   {
    "duration": 0,
    "start_time": "2022-05-11T09:44:59.659Z"
   },
   {
    "duration": 0,
    "start_time": "2022-05-11T09:44:59.660Z"
   },
   {
    "duration": 0,
    "start_time": "2022-05-11T09:44:59.662Z"
   },
   {
    "duration": 0,
    "start_time": "2022-05-11T09:44:59.663Z"
   },
   {
    "duration": 0,
    "start_time": "2022-05-11T09:44:59.664Z"
   },
   {
    "duration": 0,
    "start_time": "2022-05-11T09:44:59.665Z"
   },
   {
    "duration": 0,
    "start_time": "2022-05-11T09:44:59.666Z"
   },
   {
    "duration": 0,
    "start_time": "2022-05-11T09:44:59.667Z"
   },
   {
    "duration": 0,
    "start_time": "2022-05-11T09:44:59.668Z"
   },
   {
    "duration": 0,
    "start_time": "2022-05-11T09:44:59.669Z"
   },
   {
    "duration": 1,
    "start_time": "2022-05-11T09:44:59.708Z"
   },
   {
    "duration": 12,
    "start_time": "2022-05-11T09:45:32.585Z"
   },
   {
    "duration": 16,
    "start_time": "2022-05-11T09:45:41.925Z"
   },
   {
    "duration": 19,
    "start_time": "2022-05-11T09:45:53.020Z"
   },
   {
    "duration": 11,
    "start_time": "2022-05-11T09:45:58.803Z"
   },
   {
    "duration": 42,
    "start_time": "2022-05-11T09:46:04.589Z"
   },
   {
    "duration": 547,
    "start_time": "2022-05-11T12:44:13.208Z"
   },
   {
    "duration": 577,
    "start_time": "2022-05-11T12:44:17.214Z"
   },
   {
    "duration": 26,
    "start_time": "2022-05-11T12:44:17.793Z"
   },
   {
    "duration": 11,
    "start_time": "2022-05-11T12:44:17.821Z"
   },
   {
    "duration": 6,
    "start_time": "2022-05-11T12:44:17.833Z"
   },
   {
    "duration": 6,
    "start_time": "2022-05-11T12:44:17.842Z"
   },
   {
    "duration": 25,
    "start_time": "2022-05-11T12:44:17.849Z"
   },
   {
    "duration": 26,
    "start_time": "2022-05-11T12:44:17.895Z"
   },
   {
    "duration": 6,
    "start_time": "2022-05-11T12:44:17.923Z"
   },
   {
    "duration": 38,
    "start_time": "2022-05-11T12:44:17.930Z"
   },
   {
    "duration": 11,
    "start_time": "2022-05-11T12:44:17.970Z"
   },
   {
    "duration": 23,
    "start_time": "2022-05-11T12:44:17.983Z"
   },
   {
    "duration": 23,
    "start_time": "2022-05-11T12:44:18.008Z"
   },
   {
    "duration": 17,
    "start_time": "2022-05-11T12:44:18.033Z"
   },
   {
    "duration": 72,
    "start_time": "2022-05-11T12:44:18.053Z"
   },
   {
    "duration": 65,
    "start_time": "2022-05-11T12:44:18.127Z"
   },
   {
    "duration": 0,
    "start_time": "2022-05-11T12:44:18.195Z"
   },
   {
    "duration": 0,
    "start_time": "2022-05-11T12:44:18.197Z"
   },
   {
    "duration": 0,
    "start_time": "2022-05-11T12:44:18.199Z"
   },
   {
    "duration": 0,
    "start_time": "2022-05-11T12:44:18.200Z"
   },
   {
    "duration": 0,
    "start_time": "2022-05-11T12:44:18.202Z"
   },
   {
    "duration": 0,
    "start_time": "2022-05-11T12:44:18.203Z"
   },
   {
    "duration": 0,
    "start_time": "2022-05-11T12:44:18.205Z"
   },
   {
    "duration": 0,
    "start_time": "2022-05-11T12:44:18.206Z"
   },
   {
    "duration": 0,
    "start_time": "2022-05-11T12:44:18.207Z"
   },
   {
    "duration": 0,
    "start_time": "2022-05-11T12:44:18.208Z"
   },
   {
    "duration": 0,
    "start_time": "2022-05-11T12:44:18.209Z"
   },
   {
    "duration": 0,
    "start_time": "2022-05-11T12:44:18.211Z"
   },
   {
    "duration": 0,
    "start_time": "2022-05-11T12:44:18.212Z"
   },
   {
    "duration": 0,
    "start_time": "2022-05-11T12:44:18.213Z"
   },
   {
    "duration": 0,
    "start_time": "2022-05-11T12:44:18.214Z"
   },
   {
    "duration": 0,
    "start_time": "2022-05-11T12:44:18.216Z"
   },
   {
    "duration": 20,
    "start_time": "2022-05-11T12:50:57.622Z"
   },
   {
    "duration": 32,
    "start_time": "2022-05-11T12:51:00.053Z"
   },
   {
    "duration": 7,
    "start_time": "2022-05-11T12:51:20.134Z"
   },
   {
    "duration": 9,
    "start_time": "2022-05-11T12:53:10.883Z"
   },
   {
    "duration": 12,
    "start_time": "2022-05-11T12:54:11.318Z"
   },
   {
    "duration": 13,
    "start_time": "2022-05-11T12:54:14.596Z"
   },
   {
    "duration": 29,
    "start_time": "2022-05-11T12:54:44.057Z"
   },
   {
    "duration": 8,
    "start_time": "2022-05-11T12:54:55.121Z"
   },
   {
    "duration": 49,
    "start_time": "2022-05-11T12:55:01.518Z"
   },
   {
    "duration": 509,
    "start_time": "2022-05-11T12:55:21.865Z"
   },
   {
    "duration": 20,
    "start_time": "2022-05-11T12:55:22.376Z"
   },
   {
    "duration": 15,
    "start_time": "2022-05-11T12:55:22.398Z"
   },
   {
    "duration": 6,
    "start_time": "2022-05-11T12:55:22.415Z"
   },
   {
    "duration": 12,
    "start_time": "2022-05-11T12:55:22.422Z"
   },
   {
    "duration": 15,
    "start_time": "2022-05-11T12:55:22.436Z"
   },
   {
    "duration": 59,
    "start_time": "2022-05-11T12:55:22.453Z"
   },
   {
    "duration": 4,
    "start_time": "2022-05-11T12:55:22.514Z"
   },
   {
    "duration": 26,
    "start_time": "2022-05-11T12:55:22.520Z"
   },
   {
    "duration": 18,
    "start_time": "2022-05-11T12:55:22.549Z"
   },
   {
    "duration": 15,
    "start_time": "2022-05-11T12:55:22.593Z"
   },
   {
    "duration": 26,
    "start_time": "2022-05-11T12:55:22.610Z"
   },
   {
    "duration": 28,
    "start_time": "2022-05-11T12:55:22.638Z"
   },
   {
    "duration": 48,
    "start_time": "2022-05-11T12:55:22.692Z"
   },
   {
    "duration": 7,
    "start_time": "2022-05-11T12:55:22.742Z"
   },
   {
    "duration": 16,
    "start_time": "2022-05-11T12:55:22.751Z"
   },
   {
    "duration": 120,
    "start_time": "2022-05-11T12:55:22.768Z"
   },
   {
    "duration": 0,
    "start_time": "2022-05-11T12:55:22.893Z"
   },
   {
    "duration": 0,
    "start_time": "2022-05-11T12:55:22.895Z"
   },
   {
    "duration": 0,
    "start_time": "2022-05-11T12:55:22.897Z"
   },
   {
    "duration": 0,
    "start_time": "2022-05-11T12:55:22.898Z"
   },
   {
    "duration": 0,
    "start_time": "2022-05-11T12:55:22.899Z"
   },
   {
    "duration": 0,
    "start_time": "2022-05-11T12:55:22.900Z"
   },
   {
    "duration": 0,
    "start_time": "2022-05-11T12:55:22.901Z"
   },
   {
    "duration": 0,
    "start_time": "2022-05-11T12:55:22.903Z"
   },
   {
    "duration": 0,
    "start_time": "2022-05-11T12:55:22.905Z"
   },
   {
    "duration": 0,
    "start_time": "2022-05-11T12:55:22.906Z"
   },
   {
    "duration": 0,
    "start_time": "2022-05-11T12:55:22.907Z"
   },
   {
    "duration": 0,
    "start_time": "2022-05-11T12:55:22.908Z"
   },
   {
    "duration": 1,
    "start_time": "2022-05-11T12:55:22.909Z"
   },
   {
    "duration": 0,
    "start_time": "2022-05-11T12:55:22.911Z"
   },
   {
    "duration": 21,
    "start_time": "2022-05-11T12:55:45.991Z"
   },
   {
    "duration": 9,
    "start_time": "2022-05-11T12:56:11.882Z"
   },
   {
    "duration": 6,
    "start_time": "2022-05-11T12:56:16.210Z"
   },
   {
    "duration": 18,
    "start_time": "2022-05-11T12:56:38.807Z"
   },
   {
    "duration": 488,
    "start_time": "2022-05-11T13:08:26.414Z"
   },
   {
    "duration": 16,
    "start_time": "2022-05-11T13:08:26.906Z"
   },
   {
    "duration": 11,
    "start_time": "2022-05-11T13:08:26.923Z"
   },
   {
    "duration": 5,
    "start_time": "2022-05-11T13:08:26.936Z"
   },
   {
    "duration": 5,
    "start_time": "2022-05-11T13:08:26.942Z"
   },
   {
    "duration": 46,
    "start_time": "2022-05-11T13:08:26.949Z"
   },
   {
    "duration": 21,
    "start_time": "2022-05-11T13:08:26.997Z"
   },
   {
    "duration": 4,
    "start_time": "2022-05-11T13:08:27.020Z"
   },
   {
    "duration": 23,
    "start_time": "2022-05-11T13:08:27.025Z"
   },
   {
    "duration": 10,
    "start_time": "2022-05-11T13:08:27.053Z"
   },
   {
    "duration": 15,
    "start_time": "2022-05-11T13:08:27.093Z"
   },
   {
    "duration": 25,
    "start_time": "2022-05-11T13:08:27.110Z"
   },
   {
    "duration": 20,
    "start_time": "2022-05-11T13:08:27.137Z"
   },
   {
    "duration": 57,
    "start_time": "2022-05-11T13:08:27.159Z"
   },
   {
    "duration": 5,
    "start_time": "2022-05-11T13:08:27.218Z"
   },
   {
    "duration": 21,
    "start_time": "2022-05-11T13:08:27.225Z"
   },
   {
    "duration": 13,
    "start_time": "2022-05-11T13:08:27.248Z"
   },
   {
    "duration": 38,
    "start_time": "2022-05-11T13:08:27.263Z"
   },
   {
    "duration": 7,
    "start_time": "2022-05-11T13:08:27.304Z"
   },
   {
    "duration": 80,
    "start_time": "2022-05-11T13:08:27.313Z"
   },
   {
    "duration": 0,
    "start_time": "2022-05-11T13:08:27.396Z"
   },
   {
    "duration": 0,
    "start_time": "2022-05-11T13:08:27.398Z"
   },
   {
    "duration": 0,
    "start_time": "2022-05-11T13:08:27.400Z"
   },
   {
    "duration": 0,
    "start_time": "2022-05-11T13:08:27.401Z"
   },
   {
    "duration": 0,
    "start_time": "2022-05-11T13:08:27.403Z"
   },
   {
    "duration": 0,
    "start_time": "2022-05-11T13:08:27.405Z"
   },
   {
    "duration": 0,
    "start_time": "2022-05-11T13:08:27.406Z"
   },
   {
    "duration": 0,
    "start_time": "2022-05-11T13:08:27.408Z"
   },
   {
    "duration": 0,
    "start_time": "2022-05-11T13:08:27.409Z"
   },
   {
    "duration": 0,
    "start_time": "2022-05-11T13:08:27.410Z"
   },
   {
    "duration": 6,
    "start_time": "2022-05-11T13:09:07.148Z"
   },
   {
    "duration": 8,
    "start_time": "2022-05-11T13:09:54.067Z"
   },
   {
    "duration": 4,
    "start_time": "2022-05-11T13:22:32.304Z"
   },
   {
    "duration": 4,
    "start_time": "2022-05-11T13:22:36.244Z"
   },
   {
    "duration": 11,
    "start_time": "2022-05-11T13:22:45.810Z"
   },
   {
    "duration": 12,
    "start_time": "2022-05-11T13:23:25.636Z"
   },
   {
    "duration": 5,
    "start_time": "2022-05-11T13:23:48.760Z"
   },
   {
    "duration": 11,
    "start_time": "2022-05-11T13:23:51.166Z"
   },
   {
    "duration": 4,
    "start_time": "2022-05-11T13:24:10.843Z"
   },
   {
    "duration": 14,
    "start_time": "2022-05-11T13:24:12.683Z"
   },
   {
    "duration": 16,
    "start_time": "2022-05-11T13:24:24.041Z"
   },
   {
    "duration": 16,
    "start_time": "2022-05-11T13:24:36.919Z"
   },
   {
    "duration": 13,
    "start_time": "2022-05-11T13:25:03.144Z"
   },
   {
    "duration": 4,
    "start_time": "2022-05-11T13:32:30.965Z"
   },
   {
    "duration": 9,
    "start_time": "2022-05-11T13:32:37.070Z"
   },
   {
    "duration": 3,
    "start_time": "2022-05-11T13:39:10.318Z"
   },
   {
    "duration": 5,
    "start_time": "2022-05-11T13:39:15.581Z"
   },
   {
    "duration": 5,
    "start_time": "2022-05-11T13:39:21.615Z"
   },
   {
    "duration": 5,
    "start_time": "2022-05-11T13:39:26.711Z"
   },
   {
    "duration": 4,
    "start_time": "2022-05-11T13:39:34.023Z"
   },
   {
    "duration": 4,
    "start_time": "2022-05-11T13:39:48.299Z"
   },
   {
    "duration": 4,
    "start_time": "2022-05-11T13:39:56.502Z"
   },
   {
    "duration": 4,
    "start_time": "2022-05-11T13:40:06.177Z"
   },
   {
    "duration": 12,
    "start_time": "2022-05-11T13:53:48.191Z"
   },
   {
    "duration": 6,
    "start_time": "2022-05-11T13:54:08.207Z"
   },
   {
    "duration": 6,
    "start_time": "2022-05-11T13:54:18.661Z"
   },
   {
    "duration": 6,
    "start_time": "2022-05-11T13:54:23.894Z"
   },
   {
    "duration": 8,
    "start_time": "2022-05-11T13:54:36.295Z"
   },
   {
    "duration": 6,
    "start_time": "2022-05-11T13:54:46.461Z"
   },
   {
    "duration": 7,
    "start_time": "2022-05-11T13:55:57.419Z"
   },
   {
    "duration": 7,
    "start_time": "2022-05-11T13:56:03.663Z"
   },
   {
    "duration": 10,
    "start_time": "2022-05-11T13:56:12.538Z"
   },
   {
    "duration": 7,
    "start_time": "2022-05-11T13:56:17.419Z"
   },
   {
    "duration": 8,
    "start_time": "2022-05-11T13:56:25.980Z"
   },
   {
    "duration": 7,
    "start_time": "2022-05-11T13:56:34.940Z"
   },
   {
    "duration": 7,
    "start_time": "2022-05-11T13:56:44.779Z"
   },
   {
    "duration": 6,
    "start_time": "2022-05-11T13:56:50.353Z"
   },
   {
    "duration": 157,
    "start_time": "2022-05-11T13:59:57.985Z"
   },
   {
    "duration": 567,
    "start_time": "2022-05-11T14:00:23.339Z"
   },
   {
    "duration": 16,
    "start_time": "2022-05-11T14:00:23.909Z"
   },
   {
    "duration": 11,
    "start_time": "2022-05-11T14:00:23.927Z"
   },
   {
    "duration": 9,
    "start_time": "2022-05-11T14:00:23.940Z"
   },
   {
    "duration": 4,
    "start_time": "2022-05-11T14:00:23.951Z"
   },
   {
    "duration": 43,
    "start_time": "2022-05-11T14:00:23.957Z"
   },
   {
    "duration": 17,
    "start_time": "2022-05-11T14:00:24.002Z"
   },
   {
    "duration": 9,
    "start_time": "2022-05-11T14:00:24.021Z"
   },
   {
    "duration": 24,
    "start_time": "2022-05-11T14:00:24.031Z"
   },
   {
    "duration": 11,
    "start_time": "2022-05-11T14:00:24.058Z"
   },
   {
    "duration": 34,
    "start_time": "2022-05-11T14:00:24.071Z"
   },
   {
    "duration": 18,
    "start_time": "2022-05-11T14:00:24.107Z"
   },
   {
    "duration": 18,
    "start_time": "2022-05-11T14:00:24.127Z"
   },
   {
    "duration": 53,
    "start_time": "2022-05-11T14:00:24.147Z"
   },
   {
    "duration": 7,
    "start_time": "2022-05-11T14:00:24.202Z"
   },
   {
    "duration": 31,
    "start_time": "2022-05-11T14:00:24.210Z"
   },
   {
    "duration": 11,
    "start_time": "2022-05-11T14:00:24.243Z"
   },
   {
    "duration": 21,
    "start_time": "2022-05-11T14:00:24.256Z"
   },
   {
    "duration": 19,
    "start_time": "2022-05-11T14:00:24.278Z"
   },
   {
    "duration": 16,
    "start_time": "2022-05-11T14:00:24.299Z"
   },
   {
    "duration": 25,
    "start_time": "2022-05-11T14:00:24.317Z"
   },
   {
    "duration": 12,
    "start_time": "2022-05-11T14:00:24.344Z"
   },
   {
    "duration": 15,
    "start_time": "2022-05-11T14:00:24.357Z"
   },
   {
    "duration": 20,
    "start_time": "2022-05-11T14:00:24.374Z"
   },
   {
    "duration": 219,
    "start_time": "2022-05-11T14:00:24.396Z"
   },
   {
    "duration": 0,
    "start_time": "2022-05-11T14:00:24.616Z"
   },
   {
    "duration": 0,
    "start_time": "2022-05-11T14:00:24.618Z"
   },
   {
    "duration": 152,
    "start_time": "2022-05-11T14:00:36.901Z"
   },
   {
    "duration": 216,
    "start_time": "2022-05-11T14:02:45.983Z"
   },
   {
    "duration": 2355,
    "start_time": "2022-05-11T14:03:58.430Z"
   },
   {
    "duration": 2745,
    "start_time": "2022-05-11T14:04:01.823Z"
   },
   {
    "duration": 2529,
    "start_time": "2022-05-11T14:05:06.310Z"
   },
   {
    "duration": 142,
    "start_time": "2022-05-11T14:05:52.791Z"
   },
   {
    "duration": 593,
    "start_time": "2022-05-11T14:10:21.894Z"
   },
   {
    "duration": 24,
    "start_time": "2022-05-11T14:10:22.489Z"
   },
   {
    "duration": 16,
    "start_time": "2022-05-11T14:10:22.515Z"
   },
   {
    "duration": 6,
    "start_time": "2022-05-11T14:10:22.534Z"
   },
   {
    "duration": 11,
    "start_time": "2022-05-11T14:10:22.541Z"
   },
   {
    "duration": 46,
    "start_time": "2022-05-11T14:10:22.554Z"
   },
   {
    "duration": 26,
    "start_time": "2022-05-11T14:10:22.602Z"
   },
   {
    "duration": 3,
    "start_time": "2022-05-11T14:10:22.630Z"
   },
   {
    "duration": 19,
    "start_time": "2022-05-11T14:10:22.636Z"
   },
   {
    "duration": 48,
    "start_time": "2022-05-11T14:10:22.659Z"
   },
   {
    "duration": 11,
    "start_time": "2022-05-11T14:10:22.709Z"
   },
   {
    "duration": 17,
    "start_time": "2022-05-11T14:10:22.722Z"
   },
   {
    "duration": 18,
    "start_time": "2022-05-11T14:10:22.741Z"
   },
   {
    "duration": 61,
    "start_time": "2022-05-11T14:10:22.761Z"
   },
   {
    "duration": 6,
    "start_time": "2022-05-11T14:10:22.824Z"
   },
   {
    "duration": 42,
    "start_time": "2022-05-11T14:10:22.832Z"
   },
   {
    "duration": 6,
    "start_time": "2022-05-11T14:10:22.875Z"
   },
   {
    "duration": 18,
    "start_time": "2022-05-11T14:10:22.893Z"
   },
   {
    "duration": 17,
    "start_time": "2022-05-11T14:10:22.913Z"
   },
   {
    "duration": 9,
    "start_time": "2022-05-11T14:10:22.932Z"
   },
   {
    "duration": 17,
    "start_time": "2022-05-11T14:10:22.943Z"
   },
   {
    "duration": 31,
    "start_time": "2022-05-11T14:10:22.961Z"
   },
   {
    "duration": 15,
    "start_time": "2022-05-11T14:10:22.994Z"
   },
   {
    "duration": 335,
    "start_time": "2022-05-11T14:10:23.011Z"
   },
   {
    "duration": 0,
    "start_time": "2022-05-11T14:10:23.348Z"
   },
   {
    "duration": 0,
    "start_time": "2022-05-11T14:10:23.350Z"
   },
   {
    "duration": 489,
    "start_time": "2022-05-11T14:10:25.083Z"
   },
   {
    "duration": 23,
    "start_time": "2022-05-11T14:10:25.574Z"
   },
   {
    "duration": 16,
    "start_time": "2022-05-11T14:10:25.599Z"
   },
   {
    "duration": 6,
    "start_time": "2022-05-11T14:10:25.618Z"
   },
   {
    "duration": 16,
    "start_time": "2022-05-11T14:10:25.626Z"
   },
   {
    "duration": 49,
    "start_time": "2022-05-11T14:10:25.644Z"
   },
   {
    "duration": 27,
    "start_time": "2022-05-11T14:10:25.695Z"
   },
   {
    "duration": 4,
    "start_time": "2022-05-11T14:10:25.724Z"
   },
   {
    "duration": 21,
    "start_time": "2022-05-11T14:10:25.730Z"
   },
   {
    "duration": 11,
    "start_time": "2022-05-11T14:10:25.753Z"
   },
   {
    "duration": 33,
    "start_time": "2022-05-11T14:10:25.766Z"
   },
   {
    "duration": 16,
    "start_time": "2022-05-11T14:10:25.801Z"
   },
   {
    "duration": 19,
    "start_time": "2022-05-11T14:10:25.818Z"
   },
   {
    "duration": 61,
    "start_time": "2022-05-11T14:10:25.839Z"
   },
   {
    "duration": 5,
    "start_time": "2022-05-11T14:10:25.902Z"
   },
   {
    "duration": 27,
    "start_time": "2022-05-11T14:10:25.908Z"
   },
   {
    "duration": 8,
    "start_time": "2022-05-11T14:10:25.937Z"
   },
   {
    "duration": 56,
    "start_time": "2022-05-11T14:10:25.947Z"
   },
   {
    "duration": 7,
    "start_time": "2022-05-11T14:10:26.005Z"
   },
   {
    "duration": 35,
    "start_time": "2022-05-11T14:10:26.014Z"
   },
   {
    "duration": 16,
    "start_time": "2022-05-11T14:10:26.051Z"
   },
   {
    "duration": 13,
    "start_time": "2022-05-11T14:10:26.068Z"
   },
   {
    "duration": 14,
    "start_time": "2022-05-11T14:10:26.093Z"
   },
   {
    "duration": 223,
    "start_time": "2022-05-11T14:10:26.109Z"
   },
   {
    "duration": 0,
    "start_time": "2022-05-11T14:10:26.334Z"
   },
   {
    "duration": 0,
    "start_time": "2022-05-11T14:10:26.335Z"
   },
   {
    "duration": 144,
    "start_time": "2022-05-11T14:10:38.000Z"
   },
   {
    "duration": 2237,
    "start_time": "2022-05-11T14:11:49.729Z"
   },
   {
    "duration": 19,
    "start_time": "2022-05-11T14:23:07.401Z"
   },
   {
    "duration": 21,
    "start_time": "2022-05-11T14:23:26.219Z"
   },
   {
    "duration": 27,
    "start_time": "2022-05-11T14:23:44.445Z"
   },
   {
    "duration": 498,
    "start_time": "2022-05-11T14:24:13.530Z"
   },
   {
    "duration": 20,
    "start_time": "2022-05-11T14:24:14.030Z"
   },
   {
    "duration": 13,
    "start_time": "2022-05-11T14:24:14.052Z"
   },
   {
    "duration": 5,
    "start_time": "2022-05-11T14:24:14.067Z"
   },
   {
    "duration": 5,
    "start_time": "2022-05-11T14:24:14.074Z"
   },
   {
    "duration": 21,
    "start_time": "2022-05-11T14:24:14.081Z"
   },
   {
    "duration": 17,
    "start_time": "2022-05-11T14:24:14.103Z"
   },
   {
    "duration": 4,
    "start_time": "2022-05-11T14:24:14.121Z"
   },
   {
    "duration": 22,
    "start_time": "2022-05-11T14:24:14.126Z"
   },
   {
    "duration": 10,
    "start_time": "2022-05-11T14:24:14.150Z"
   },
   {
    "duration": 11,
    "start_time": "2022-05-11T14:24:14.162Z"
   },
   {
    "duration": 24,
    "start_time": "2022-05-11T14:24:14.175Z"
   },
   {
    "duration": 23,
    "start_time": "2022-05-11T14:24:14.200Z"
   },
   {
    "duration": 39,
    "start_time": "2022-05-11T14:24:14.225Z"
   },
   {
    "duration": 6,
    "start_time": "2022-05-11T14:24:14.266Z"
   },
   {
    "duration": 29,
    "start_time": "2022-05-11T14:24:14.274Z"
   },
   {
    "duration": 6,
    "start_time": "2022-05-11T14:24:14.305Z"
   },
   {
    "duration": 22,
    "start_time": "2022-05-11T14:24:14.313Z"
   },
   {
    "duration": 5,
    "start_time": "2022-05-11T14:24:14.337Z"
   },
   {
    "duration": 10,
    "start_time": "2022-05-11T14:24:14.344Z"
   },
   {
    "duration": 14,
    "start_time": "2022-05-11T14:24:14.355Z"
   },
   {
    "duration": 23,
    "start_time": "2022-05-11T14:24:14.370Z"
   },
   {
    "duration": 13,
    "start_time": "2022-05-11T14:24:14.395Z"
   },
   {
    "duration": 23,
    "start_time": "2022-05-11T14:24:14.410Z"
   },
   {
    "duration": 66,
    "start_time": "2022-05-11T14:24:14.435Z"
   },
   {
    "duration": 0,
    "start_time": "2022-05-11T14:24:14.502Z"
   },
   {
    "duration": 14,
    "start_time": "2022-05-11T14:27:33.703Z"
   },
   {
    "duration": 14,
    "start_time": "2022-05-11T14:27:44.842Z"
   },
   {
    "duration": 19,
    "start_time": "2022-05-11T14:28:10.609Z"
   },
   {
    "duration": 7,
    "start_time": "2022-05-11T14:29:40.030Z"
   },
   {
    "duration": 8,
    "start_time": "2022-05-11T14:29:48.304Z"
   },
   {
    "duration": 6,
    "start_time": "2022-05-11T14:29:57.345Z"
   },
   {
    "duration": 7,
    "start_time": "2022-05-11T14:30:08.284Z"
   },
   {
    "duration": 7,
    "start_time": "2022-05-11T14:30:16.483Z"
   },
   {
    "duration": 30,
    "start_time": "2022-05-11T14:30:35.274Z"
   },
   {
    "duration": 8,
    "start_time": "2022-05-11T14:32:16.438Z"
   },
   {
    "duration": 20,
    "start_time": "2022-05-11T14:33:45.991Z"
   },
   {
    "duration": 646,
    "start_time": "2022-05-11T14:35:59.307Z"
   },
   {
    "duration": 23,
    "start_time": "2022-05-11T14:35:59.956Z"
   },
   {
    "duration": 24,
    "start_time": "2022-05-11T14:35:59.981Z"
   },
   {
    "duration": 6,
    "start_time": "2022-05-11T14:36:00.009Z"
   },
   {
    "duration": 13,
    "start_time": "2022-05-11T14:36:00.016Z"
   },
   {
    "duration": 25,
    "start_time": "2022-05-11T14:36:00.030Z"
   },
   {
    "duration": 42,
    "start_time": "2022-05-11T14:36:00.057Z"
   },
   {
    "duration": 3,
    "start_time": "2022-05-11T14:36:00.101Z"
   },
   {
    "duration": 24,
    "start_time": "2022-05-11T14:36:00.106Z"
   },
   {
    "duration": 12,
    "start_time": "2022-05-11T14:36:00.132Z"
   },
   {
    "duration": 15,
    "start_time": "2022-05-11T14:36:00.146Z"
   },
   {
    "duration": 38,
    "start_time": "2022-05-11T14:36:00.163Z"
   },
   {
    "duration": 18,
    "start_time": "2022-05-11T14:36:00.202Z"
   },
   {
    "duration": 35,
    "start_time": "2022-05-11T14:36:00.222Z"
   },
   {
    "duration": 6,
    "start_time": "2022-05-11T14:36:00.259Z"
   },
   {
    "duration": 16,
    "start_time": "2022-05-11T14:36:00.292Z"
   },
   {
    "duration": 18,
    "start_time": "2022-05-11T14:36:00.310Z"
   },
   {
    "duration": 24,
    "start_time": "2022-05-11T14:36:00.330Z"
   },
   {
    "duration": 8,
    "start_time": "2022-05-11T14:36:00.356Z"
   },
   {
    "duration": 11,
    "start_time": "2022-05-11T14:36:00.366Z"
   },
   {
    "duration": 12,
    "start_time": "2022-05-11T14:36:00.392Z"
   },
   {
    "duration": 11,
    "start_time": "2022-05-11T14:36:00.406Z"
   },
   {
    "duration": 23,
    "start_time": "2022-05-11T14:36:00.419Z"
   },
   {
    "duration": 26,
    "start_time": "2022-05-11T14:36:00.443Z"
   },
   {
    "duration": 34,
    "start_time": "2022-05-11T14:36:00.472Z"
   },
   {
    "duration": 98,
    "start_time": "2022-05-11T14:36:00.508Z"
   },
   {
    "duration": 0,
    "start_time": "2022-05-11T14:36:00.608Z"
   },
   {
    "duration": 529,
    "start_time": "2022-05-11T15:38:03.171Z"
   },
   {
    "duration": 17,
    "start_time": "2022-05-11T15:38:03.702Z"
   },
   {
    "duration": 11,
    "start_time": "2022-05-11T15:38:03.721Z"
   },
   {
    "duration": 5,
    "start_time": "2022-05-11T15:38:03.734Z"
   },
   {
    "duration": 7,
    "start_time": "2022-05-11T15:38:03.767Z"
   },
   {
    "duration": 19,
    "start_time": "2022-05-11T15:38:03.776Z"
   },
   {
    "duration": 24,
    "start_time": "2022-05-11T15:38:03.797Z"
   },
   {
    "duration": 4,
    "start_time": "2022-05-11T15:38:03.823Z"
   },
   {
    "duration": 46,
    "start_time": "2022-05-11T15:38:03.829Z"
   },
   {
    "duration": 14,
    "start_time": "2022-05-11T15:38:03.878Z"
   },
   {
    "duration": 15,
    "start_time": "2022-05-11T15:38:03.893Z"
   },
   {
    "duration": 20,
    "start_time": "2022-05-11T15:38:03.910Z"
   },
   {
    "duration": 53,
    "start_time": "2022-05-11T15:38:03.932Z"
   },
   {
    "duration": 43,
    "start_time": "2022-05-11T15:38:03.989Z"
   },
   {
    "duration": 6,
    "start_time": "2022-05-11T15:38:04.035Z"
   },
   {
    "duration": 36,
    "start_time": "2022-05-11T15:38:04.044Z"
   },
   {
    "duration": 6,
    "start_time": "2022-05-11T15:38:04.082Z"
   },
   {
    "duration": 22,
    "start_time": "2022-05-11T15:38:04.090Z"
   },
   {
    "duration": 5,
    "start_time": "2022-05-11T15:38:04.114Z"
   },
   {
    "duration": 9,
    "start_time": "2022-05-11T15:38:04.121Z"
   },
   {
    "duration": 52,
    "start_time": "2022-05-11T15:38:04.132Z"
   },
   {
    "duration": 12,
    "start_time": "2022-05-11T15:38:04.186Z"
   },
   {
    "duration": 12,
    "start_time": "2022-05-11T15:38:04.200Z"
   },
   {
    "duration": 25,
    "start_time": "2022-05-11T15:38:04.214Z"
   },
   {
    "duration": 27,
    "start_time": "2022-05-11T15:38:04.241Z"
   },
   {
    "duration": 63,
    "start_time": "2022-05-11T15:38:04.270Z"
   },
   {
    "duration": 0,
    "start_time": "2022-05-11T15:38:04.335Z"
   },
   {
    "duration": 21,
    "start_time": "2022-05-11T15:38:09.643Z"
   },
   {
    "duration": 8,
    "start_time": "2022-05-11T15:38:32.219Z"
   },
   {
    "duration": 6,
    "start_time": "2022-05-11T15:41:28.044Z"
   },
   {
    "duration": 49,
    "start_time": "2022-05-11T15:42:00.501Z"
   },
   {
    "duration": 45,
    "start_time": "2022-05-11T15:43:27.387Z"
   },
   {
    "duration": 45,
    "start_time": "2022-05-11T15:58:50.042Z"
   },
   {
    "duration": 7,
    "start_time": "2022-05-11T16:01:37.026Z"
   },
   {
    "duration": 130,
    "start_time": "2022-05-11T16:24:33.442Z"
   },
   {
    "duration": 617,
    "start_time": "2022-05-11T16:24:42.211Z"
   },
   {
    "duration": 22,
    "start_time": "2022-05-11T16:24:42.831Z"
   },
   {
    "duration": 24,
    "start_time": "2022-05-11T16:24:42.854Z"
   },
   {
    "duration": 5,
    "start_time": "2022-05-11T16:24:42.881Z"
   },
   {
    "duration": 11,
    "start_time": "2022-05-11T16:24:42.887Z"
   },
   {
    "duration": 20,
    "start_time": "2022-05-11T16:24:42.899Z"
   },
   {
    "duration": 23,
    "start_time": "2022-05-11T16:24:42.921Z"
   },
   {
    "duration": 4,
    "start_time": "2022-05-11T16:24:42.967Z"
   },
   {
    "duration": 21,
    "start_time": "2022-05-11T16:24:42.972Z"
   },
   {
    "duration": 11,
    "start_time": "2022-05-11T16:24:42.996Z"
   },
   {
    "duration": 14,
    "start_time": "2022-05-11T16:24:43.009Z"
   },
   {
    "duration": 17,
    "start_time": "2022-05-11T16:24:43.025Z"
   },
   {
    "duration": 40,
    "start_time": "2022-05-11T16:24:43.043Z"
   },
   {
    "duration": 31,
    "start_time": "2022-05-11T16:24:43.085Z"
   },
   {
    "duration": 6,
    "start_time": "2022-05-11T16:24:43.117Z"
   },
   {
    "duration": 43,
    "start_time": "2022-05-11T16:24:43.124Z"
   },
   {
    "duration": 5,
    "start_time": "2022-05-11T16:24:43.169Z"
   },
   {
    "duration": 19,
    "start_time": "2022-05-11T16:24:43.176Z"
   },
   {
    "duration": 5,
    "start_time": "2022-05-11T16:24:43.196Z"
   },
   {
    "duration": 9,
    "start_time": "2022-05-11T16:24:43.202Z"
   },
   {
    "duration": 19,
    "start_time": "2022-05-11T16:24:43.212Z"
   },
   {
    "duration": 36,
    "start_time": "2022-05-11T16:24:43.233Z"
   },
   {
    "duration": 14,
    "start_time": "2022-05-11T16:24:43.271Z"
   },
   {
    "duration": 38,
    "start_time": "2022-05-11T16:24:43.287Z"
   },
   {
    "duration": 13,
    "start_time": "2022-05-11T16:24:43.326Z"
   },
   {
    "duration": 9,
    "start_time": "2022-05-11T16:24:43.340Z"
   },
   {
    "duration": 129,
    "start_time": "2022-05-11T16:24:43.350Z"
   },
   {
    "duration": 140,
    "start_time": "2022-05-11T16:24:47.138Z"
   },
   {
    "duration": 183,
    "start_time": "2022-05-11T16:25:32.359Z"
   },
   {
    "duration": 1727,
    "start_time": "2022-05-11T16:26:17.245Z"
   },
   {
    "duration": 129,
    "start_time": "2022-05-11T16:26:51.368Z"
   },
   {
    "duration": 1020,
    "start_time": "2022-05-11T16:27:16.752Z"
   },
   {
    "duration": 714,
    "start_time": "2022-05-11T16:29:08.908Z"
   },
   {
    "duration": 720,
    "start_time": "2022-05-11T16:29:26.685Z"
   },
   {
    "duration": 741,
    "start_time": "2022-05-11T16:37:16.521Z"
   },
   {
    "duration": 147,
    "start_time": "2022-05-11T16:40:53.413Z"
   },
   {
    "duration": 1495,
    "start_time": "2022-05-11T16:41:23.143Z"
   },
   {
    "duration": 145,
    "start_time": "2022-05-11T16:42:09.637Z"
   },
   {
    "duration": 1002,
    "start_time": "2022-05-11T16:43:01.315Z"
   },
   {
    "duration": 6,
    "start_time": "2022-05-11T16:44:03.184Z"
   },
   {
    "duration": 585,
    "start_time": "2022-05-12T13:14:57.562Z"
   },
   {
    "duration": 16,
    "start_time": "2022-05-12T13:14:58.149Z"
   },
   {
    "duration": 12,
    "start_time": "2022-05-12T13:14:58.166Z"
   },
   {
    "duration": 6,
    "start_time": "2022-05-12T13:14:58.180Z"
   },
   {
    "duration": 7,
    "start_time": "2022-05-12T13:14:58.187Z"
   },
   {
    "duration": 25,
    "start_time": "2022-05-12T13:14:58.196Z"
   },
   {
    "duration": 19,
    "start_time": "2022-05-12T13:14:58.243Z"
   },
   {
    "duration": 4,
    "start_time": "2022-05-12T13:14:58.264Z"
   },
   {
    "duration": 23,
    "start_time": "2022-05-12T13:14:58.270Z"
   },
   {
    "duration": 12,
    "start_time": "2022-05-12T13:14:58.296Z"
   },
   {
    "duration": 45,
    "start_time": "2022-05-12T13:14:58.309Z"
   },
   {
    "duration": 17,
    "start_time": "2022-05-12T13:14:58.356Z"
   },
   {
    "duration": 18,
    "start_time": "2022-05-12T13:14:58.375Z"
   },
   {
    "duration": 62,
    "start_time": "2022-05-12T13:14:58.395Z"
   },
   {
    "duration": 6,
    "start_time": "2022-05-12T13:14:58.459Z"
   },
   {
    "duration": 19,
    "start_time": "2022-05-12T13:14:58.467Z"
   },
   {
    "duration": 8,
    "start_time": "2022-05-12T13:14:58.488Z"
   },
   {
    "duration": 46,
    "start_time": "2022-05-12T13:14:58.498Z"
   },
   {
    "duration": 6,
    "start_time": "2022-05-12T13:14:58.546Z"
   },
   {
    "duration": 8,
    "start_time": "2022-05-12T13:14:58.554Z"
   },
   {
    "duration": 13,
    "start_time": "2022-05-12T13:14:58.564Z"
   },
   {
    "duration": 13,
    "start_time": "2022-05-12T13:14:58.579Z"
   },
   {
    "duration": 50,
    "start_time": "2022-05-12T13:14:58.594Z"
   },
   {
    "duration": 25,
    "start_time": "2022-05-12T13:14:58.647Z"
   },
   {
    "duration": 7,
    "start_time": "2022-05-12T13:14:58.674Z"
   },
   {
    "duration": 13,
    "start_time": "2022-05-12T13:14:58.683Z"
   },
   {
    "duration": 2888,
    "start_time": "2022-05-12T13:14:58.698Z"
   },
   {
    "duration": 8,
    "start_time": "2022-05-12T13:15:01.589Z"
   },
   {
    "duration": 137,
    "start_time": "2022-05-12T13:16:32.064Z"
   },
   {
    "duration": 147,
    "start_time": "2022-05-12T13:16:39.669Z"
   },
   {
    "duration": 164,
    "start_time": "2022-05-12T13:17:15.766Z"
   },
   {
    "duration": 301,
    "start_time": "2022-05-12T13:20:46.669Z"
   },
   {
    "duration": 769,
    "start_time": "2022-05-12T13:20:54.955Z"
   },
   {
    "duration": 28,
    "start_time": "2022-05-12T13:21:07.536Z"
   },
   {
    "duration": 69,
    "start_time": "2022-05-12T13:44:19.641Z"
   },
   {
    "duration": 18,
    "start_time": "2022-05-12T13:46:40.261Z"
   },
   {
    "duration": 23,
    "start_time": "2022-05-12T13:46:57.939Z"
   },
   {
    "duration": 14,
    "start_time": "2022-05-12T13:47:01.800Z"
   },
   {
    "duration": 20,
    "start_time": "2022-05-12T13:47:21.398Z"
   },
   {
    "duration": 7,
    "start_time": "2022-05-12T13:49:19.762Z"
   },
   {
    "duration": 10,
    "start_time": "2022-05-12T13:49:32.389Z"
   },
   {
    "duration": 9,
    "start_time": "2022-05-12T13:53:36.530Z"
   },
   {
    "duration": 12,
    "start_time": "2022-05-12T13:53:59.306Z"
   },
   {
    "duration": 42,
    "start_time": "2022-05-12T13:54:11.219Z"
   },
   {
    "duration": 40,
    "start_time": "2022-05-12T13:54:33.863Z"
   },
   {
    "duration": 24,
    "start_time": "2022-05-12T13:55:10.184Z"
   },
   {
    "duration": 581,
    "start_time": "2022-05-12T13:56:26.527Z"
   },
   {
    "duration": 23,
    "start_time": "2022-05-12T13:56:27.111Z"
   },
   {
    "duration": 16,
    "start_time": "2022-05-12T13:56:27.155Z"
   },
   {
    "duration": 33,
    "start_time": "2022-05-12T13:56:27.173Z"
   },
   {
    "duration": 5,
    "start_time": "2022-05-12T13:56:27.208Z"
   },
   {
    "duration": 19,
    "start_time": "2022-05-12T13:56:27.215Z"
   },
   {
    "duration": 24,
    "start_time": "2022-05-12T13:56:27.236Z"
   },
   {
    "duration": 14,
    "start_time": "2022-05-12T13:56:27.262Z"
   },
   {
    "duration": 36,
    "start_time": "2022-05-12T13:56:27.280Z"
   },
   {
    "duration": 10,
    "start_time": "2022-05-12T13:56:27.319Z"
   },
   {
    "duration": 18,
    "start_time": "2022-05-12T13:56:27.331Z"
   },
   {
    "duration": 25,
    "start_time": "2022-05-12T13:56:27.351Z"
   },
   {
    "duration": 39,
    "start_time": "2022-05-12T13:56:27.378Z"
   },
   {
    "duration": 38,
    "start_time": "2022-05-12T13:56:27.419Z"
   },
   {
    "duration": 7,
    "start_time": "2022-05-12T13:56:27.460Z"
   },
   {
    "duration": 47,
    "start_time": "2022-05-12T13:56:27.469Z"
   },
   {
    "duration": 5,
    "start_time": "2022-05-12T13:56:27.518Z"
   },
   {
    "duration": 21,
    "start_time": "2022-05-12T13:56:27.525Z"
   },
   {
    "duration": 13,
    "start_time": "2022-05-12T13:56:27.548Z"
   },
   {
    "duration": 53,
    "start_time": "2022-05-12T13:56:27.563Z"
   },
   {
    "duration": 5,
    "start_time": "2022-05-12T13:56:27.617Z"
   },
   {
    "duration": 7,
    "start_time": "2022-05-12T13:56:27.624Z"
   },
   {
    "duration": 21,
    "start_time": "2022-05-12T13:56:27.633Z"
   },
   {
    "duration": 57,
    "start_time": "2022-05-12T13:56:27.656Z"
   },
   {
    "duration": 14,
    "start_time": "2022-05-12T13:56:27.715Z"
   },
   {
    "duration": 31,
    "start_time": "2022-05-12T13:56:27.731Z"
   },
   {
    "duration": 39,
    "start_time": "2022-05-12T13:56:27.763Z"
   },
   {
    "duration": 864,
    "start_time": "2022-05-12T13:56:27.805Z"
   },
   {
    "duration": 0,
    "start_time": "2022-05-12T13:56:28.671Z"
   },
   {
    "duration": 0,
    "start_time": "2022-05-12T13:56:28.672Z"
   },
   {
    "duration": 736,
    "start_time": "2022-05-12T13:56:53.549Z"
   },
   {
    "duration": 48,
    "start_time": "2022-05-12T13:57:07.846Z"
   },
   {
    "duration": 215,
    "start_time": "2022-05-12T13:57:26.198Z"
   },
   {
    "duration": 781,
    "start_time": "2022-05-12T13:57:49.657Z"
   },
   {
    "duration": 11,
    "start_time": "2022-05-12T13:58:23.193Z"
   },
   {
    "duration": 20,
    "start_time": "2022-05-12T13:58:28.313Z"
   },
   {
    "duration": 720,
    "start_time": "2022-05-12T13:59:37.035Z"
   },
   {
    "duration": 1342,
    "start_time": "2022-05-12T13:59:50.007Z"
   },
   {
    "duration": 1486,
    "start_time": "2022-05-12T14:00:09.597Z"
   },
   {
    "duration": 835,
    "start_time": "2022-05-12T14:01:17.740Z"
   },
   {
    "duration": 142,
    "start_time": "2022-05-12T14:01:42.510Z"
   },
   {
    "duration": 636,
    "start_time": "2022-05-12T14:02:00.915Z"
   },
   {
    "duration": 24,
    "start_time": "2022-05-12T14:02:01.554Z"
   },
   {
    "duration": 22,
    "start_time": "2022-05-12T14:02:01.581Z"
   },
   {
    "duration": 8,
    "start_time": "2022-05-12T14:02:01.606Z"
   },
   {
    "duration": 30,
    "start_time": "2022-05-12T14:02:01.616Z"
   },
   {
    "duration": 43,
    "start_time": "2022-05-12T14:02:01.648Z"
   },
   {
    "duration": 19,
    "start_time": "2022-05-12T14:02:01.693Z"
   },
   {
    "duration": 5,
    "start_time": "2022-05-12T14:02:01.714Z"
   },
   {
    "duration": 37,
    "start_time": "2022-05-12T14:02:01.721Z"
   },
   {
    "duration": 17,
    "start_time": "2022-05-12T14:02:01.762Z"
   },
   {
    "duration": 18,
    "start_time": "2022-05-12T14:02:01.783Z"
   },
   {
    "duration": 17,
    "start_time": "2022-05-12T14:02:01.803Z"
   },
   {
    "duration": 43,
    "start_time": "2022-05-12T14:02:01.822Z"
   },
   {
    "duration": 56,
    "start_time": "2022-05-12T14:02:01.867Z"
   },
   {
    "duration": 7,
    "start_time": "2022-05-12T14:02:01.925Z"
   },
   {
    "duration": 67,
    "start_time": "2022-05-12T14:02:01.933Z"
   },
   {
    "duration": 18,
    "start_time": "2022-05-12T14:02:02.002Z"
   },
   {
    "duration": 36,
    "start_time": "2022-05-12T14:02:02.021Z"
   },
   {
    "duration": 13,
    "start_time": "2022-05-12T14:02:02.059Z"
   },
   {
    "duration": 47,
    "start_time": "2022-05-12T14:02:02.074Z"
   },
   {
    "duration": 12,
    "start_time": "2022-05-12T14:02:02.123Z"
   },
   {
    "duration": 30,
    "start_time": "2022-05-12T14:02:02.136Z"
   },
   {
    "duration": 27,
    "start_time": "2022-05-12T14:02:02.173Z"
   },
   {
    "duration": 13,
    "start_time": "2022-05-12T14:02:02.202Z"
   },
   {
    "duration": 14,
    "start_time": "2022-05-12T14:02:02.217Z"
   },
   {
    "duration": 42,
    "start_time": "2022-05-12T14:02:02.233Z"
   },
   {
    "duration": 14,
    "start_time": "2022-05-12T14:02:02.277Z"
   },
   {
    "duration": 155,
    "start_time": "2022-05-12T14:02:02.295Z"
   },
   {
    "duration": 10,
    "start_time": "2022-05-12T14:02:02.452Z"
   },
   {
    "duration": 61,
    "start_time": "2022-05-12T14:02:02.464Z"
   },
   {
    "duration": 202,
    "start_time": "2022-05-12T14:03:01.431Z"
   },
   {
    "duration": 151,
    "start_time": "2022-05-12T14:05:07.015Z"
   },
   {
    "duration": 772,
    "start_time": "2022-05-12T14:05:41.236Z"
   },
   {
    "duration": 773,
    "start_time": "2022-05-12T14:06:21.463Z"
   },
   {
    "duration": 312,
    "start_time": "2022-05-12T14:07:19.893Z"
   },
   {
    "duration": 448,
    "start_time": "2022-05-12T14:07:37.398Z"
   },
   {
    "duration": 393,
    "start_time": "2022-05-12T14:08:13.934Z"
   },
   {
    "duration": 544,
    "start_time": "2022-05-12T14:08:23.974Z"
   },
   {
    "duration": 22,
    "start_time": "2022-05-12T14:08:24.521Z"
   },
   {
    "duration": 43,
    "start_time": "2022-05-12T14:08:24.546Z"
   },
   {
    "duration": 9,
    "start_time": "2022-05-12T14:08:24.590Z"
   },
   {
    "duration": 27,
    "start_time": "2022-05-12T14:08:24.601Z"
   },
   {
    "duration": 58,
    "start_time": "2022-05-12T14:08:24.630Z"
   },
   {
    "duration": 109,
    "start_time": "2022-05-12T14:08:24.690Z"
   },
   {
    "duration": 78,
    "start_time": "2022-05-12T14:08:24.801Z"
   },
   {
    "duration": 123,
    "start_time": "2022-05-12T14:08:24.882Z"
   },
   {
    "duration": 20,
    "start_time": "2022-05-12T14:08:25.007Z"
   },
   {
    "duration": 32,
    "start_time": "2022-05-12T14:08:25.028Z"
   },
   {
    "duration": 31,
    "start_time": "2022-05-12T14:08:25.063Z"
   },
   {
    "duration": 19,
    "start_time": "2022-05-12T14:08:25.096Z"
   },
   {
    "duration": 53,
    "start_time": "2022-05-12T14:08:25.118Z"
   },
   {
    "duration": 8,
    "start_time": "2022-05-12T14:08:25.173Z"
   },
   {
    "duration": 16,
    "start_time": "2022-05-12T14:08:25.183Z"
   },
   {
    "duration": 6,
    "start_time": "2022-05-12T14:08:25.201Z"
   },
   {
    "duration": 59,
    "start_time": "2022-05-12T14:08:25.209Z"
   },
   {
    "duration": 7,
    "start_time": "2022-05-12T14:08:25.270Z"
   },
   {
    "duration": 22,
    "start_time": "2022-05-12T14:08:25.279Z"
   },
   {
    "duration": 6,
    "start_time": "2022-05-12T14:08:25.303Z"
   },
   {
    "duration": 7,
    "start_time": "2022-05-12T14:08:25.311Z"
   },
   {
    "duration": 40,
    "start_time": "2022-05-12T14:08:25.320Z"
   },
   {
    "duration": 33,
    "start_time": "2022-05-12T14:08:25.362Z"
   },
   {
    "duration": 15,
    "start_time": "2022-05-12T14:08:25.396Z"
   },
   {
    "duration": 21,
    "start_time": "2022-05-12T14:08:25.413Z"
   },
   {
    "duration": 11,
    "start_time": "2022-05-12T14:08:25.443Z"
   },
   {
    "duration": 366,
    "start_time": "2022-05-12T14:08:25.456Z"
   },
   {
    "duration": 24,
    "start_time": "2022-05-12T14:08:25.825Z"
   },
   {
    "duration": 53,
    "start_time": "2022-05-12T14:08:25.852Z"
   },
   {
    "duration": 469,
    "start_time": "2022-05-12T14:08:38.962Z"
   },
   {
    "duration": 346,
    "start_time": "2022-05-12T14:09:19.094Z"
   },
   {
    "duration": 259,
    "start_time": "2022-05-12T14:09:39.400Z"
   },
   {
    "duration": 345,
    "start_time": "2022-05-12T14:10:31.941Z"
   },
   {
    "duration": 265,
    "start_time": "2022-05-12T14:13:25.259Z"
   },
   {
    "duration": 247,
    "start_time": "2022-05-12T14:17:03.535Z"
   },
   {
    "duration": 1341,
    "start_time": "2022-05-12T14:17:28.038Z"
   },
   {
    "duration": 610,
    "start_time": "2022-05-12T14:17:35.824Z"
   },
   {
    "duration": 137,
    "start_time": "2022-05-12T14:17:55.307Z"
   },
   {
    "duration": 8,
    "start_time": "2022-05-12T14:21:00.683Z"
   },
   {
    "duration": 20,
    "start_time": "2022-05-12T14:23:19.303Z"
   },
   {
    "duration": 2349,
    "start_time": "2022-05-12T14:25:57.447Z"
   },
   {
    "duration": 2619,
    "start_time": "2022-05-12T14:25:59.977Z"
   },
   {
    "duration": 687,
    "start_time": "2022-05-12T14:26:12.398Z"
   },
   {
    "duration": 18,
    "start_time": "2022-05-12T14:26:13.087Z"
   },
   {
    "duration": 14,
    "start_time": "2022-05-12T14:26:13.108Z"
   },
   {
    "duration": 22,
    "start_time": "2022-05-12T14:26:13.125Z"
   },
   {
    "duration": 6,
    "start_time": "2022-05-12T14:26:13.158Z"
   },
   {
    "duration": 26,
    "start_time": "2022-05-12T14:26:13.166Z"
   },
   {
    "duration": 30,
    "start_time": "2022-05-12T14:26:13.194Z"
   },
   {
    "duration": 19,
    "start_time": "2022-05-12T14:26:13.226Z"
   },
   {
    "duration": 51,
    "start_time": "2022-05-12T14:26:13.247Z"
   },
   {
    "duration": 20,
    "start_time": "2022-05-12T14:26:13.305Z"
   },
   {
    "duration": 25,
    "start_time": "2022-05-12T14:26:13.327Z"
   },
   {
    "duration": 22,
    "start_time": "2022-05-12T14:26:13.354Z"
   },
   {
    "duration": 19,
    "start_time": "2022-05-12T14:26:13.378Z"
   },
   {
    "duration": 80,
    "start_time": "2022-05-12T14:26:13.398Z"
   },
   {
    "duration": 6,
    "start_time": "2022-05-12T14:26:13.480Z"
   },
   {
    "duration": 16,
    "start_time": "2022-05-12T14:26:13.488Z"
   },
   {
    "duration": 5,
    "start_time": "2022-05-12T14:26:13.506Z"
   },
   {
    "duration": 51,
    "start_time": "2022-05-12T14:26:13.513Z"
   },
   {
    "duration": 7,
    "start_time": "2022-05-12T14:26:13.566Z"
   },
   {
    "duration": 29,
    "start_time": "2022-05-12T14:26:13.574Z"
   },
   {
    "duration": 7,
    "start_time": "2022-05-12T14:26:13.605Z"
   },
   {
    "duration": 13,
    "start_time": "2022-05-12T14:26:13.614Z"
   },
   {
    "duration": 18,
    "start_time": "2022-05-12T14:26:13.645Z"
   },
   {
    "duration": 13,
    "start_time": "2022-05-12T14:26:13.666Z"
   },
   {
    "duration": 15,
    "start_time": "2022-05-12T14:26:13.681Z"
   },
   {
    "duration": 65,
    "start_time": "2022-05-12T14:26:13.698Z"
   },
   {
    "duration": 16,
    "start_time": "2022-05-12T14:26:13.765Z"
   },
   {
    "duration": 151,
    "start_time": "2022-05-12T14:26:13.784Z"
   },
   {
    "duration": 13,
    "start_time": "2022-05-12T14:26:13.937Z"
   },
   {
    "duration": 19,
    "start_time": "2022-05-12T14:26:13.953Z"
   },
   {
    "duration": 33,
    "start_time": "2022-05-12T14:26:13.974Z"
   },
   {
    "duration": 51,
    "start_time": "2022-05-12T14:26:14.009Z"
   },
   {
    "duration": 31,
    "start_time": "2022-05-12T14:26:18.608Z"
   },
   {
    "duration": 2850,
    "start_time": "2022-05-12T14:26:47.248Z"
   },
   {
    "duration": 72,
    "start_time": "2022-05-12T14:26:58.066Z"
   },
   {
    "duration": 19,
    "start_time": "2022-05-12T14:27:04.652Z"
   },
   {
    "duration": 11,
    "start_time": "2022-05-12T14:27:08.088Z"
   },
   {
    "duration": 7,
    "start_time": "2022-05-12T14:27:11.661Z"
   },
   {
    "duration": 7,
    "start_time": "2022-05-12T14:27:13.847Z"
   },
   {
    "duration": 16,
    "start_time": "2022-05-12T14:27:16.664Z"
   },
   {
    "duration": 25,
    "start_time": "2022-05-12T14:27:20.354Z"
   },
   {
    "duration": 5,
    "start_time": "2022-05-12T14:27:26.168Z"
   },
   {
    "duration": 28,
    "start_time": "2022-05-12T14:27:30.049Z"
   },
   {
    "duration": 13,
    "start_time": "2022-05-12T14:28:24.225Z"
   },
   {
    "duration": 12,
    "start_time": "2022-05-12T14:28:25.687Z"
   },
   {
    "duration": 18,
    "start_time": "2022-05-12T14:28:28.992Z"
   },
   {
    "duration": 19,
    "start_time": "2022-05-12T14:28:32.870Z"
   },
   {
    "duration": 41,
    "start_time": "2022-05-12T14:28:35.316Z"
   },
   {
    "duration": 5,
    "start_time": "2022-05-12T14:28:39.429Z"
   },
   {
    "duration": 17,
    "start_time": "2022-05-12T14:28:42.467Z"
   },
   {
    "duration": 7,
    "start_time": "2022-05-12T14:28:45.677Z"
   },
   {
    "duration": 8,
    "start_time": "2022-05-12T14:29:18.433Z"
   },
   {
    "duration": 7,
    "start_time": "2022-05-12T14:30:30.418Z"
   },
   {
    "duration": 18,
    "start_time": "2022-05-12T14:30:36.800Z"
   },
   {
    "duration": 12,
    "start_time": "2022-05-12T14:31:09.675Z"
   },
   {
    "duration": 8,
    "start_time": "2022-05-12T14:31:20.571Z"
   },
   {
    "duration": 18,
    "start_time": "2022-05-12T14:31:24.782Z"
   },
   {
    "duration": 1639,
    "start_time": "2022-05-12T14:31:34.281Z"
   },
   {
    "duration": 17,
    "start_time": "2022-05-12T14:31:35.922Z"
   },
   {
    "duration": 13,
    "start_time": "2022-05-12T14:31:35.940Z"
   },
   {
    "duration": 6,
    "start_time": "2022-05-12T14:31:35.956Z"
   },
   {
    "duration": 9,
    "start_time": "2022-05-12T14:31:35.963Z"
   },
   {
    "duration": 27,
    "start_time": "2022-05-12T14:31:35.974Z"
   },
   {
    "duration": 18,
    "start_time": "2022-05-12T14:31:36.003Z"
   },
   {
    "duration": 39,
    "start_time": "2022-05-12T14:31:36.023Z"
   },
   {
    "duration": 26,
    "start_time": "2022-05-12T14:31:36.064Z"
   },
   {
    "duration": 11,
    "start_time": "2022-05-12T14:31:36.095Z"
   },
   {
    "duration": 15,
    "start_time": "2022-05-12T14:31:36.108Z"
   },
   {
    "duration": 17,
    "start_time": "2022-05-12T14:31:36.125Z"
   },
   {
    "duration": 20,
    "start_time": "2022-05-12T14:31:36.144Z"
   },
   {
    "duration": 32,
    "start_time": "2022-05-12T14:31:36.166Z"
   },
   {
    "duration": 6,
    "start_time": "2022-05-12T14:31:36.200Z"
   },
   {
    "duration": 43,
    "start_time": "2022-05-12T14:31:36.208Z"
   },
   {
    "duration": 5,
    "start_time": "2022-05-12T14:31:36.253Z"
   },
   {
    "duration": 26,
    "start_time": "2022-05-12T14:31:36.260Z"
   },
   {
    "duration": 12,
    "start_time": "2022-05-12T14:31:36.288Z"
   },
   {
    "duration": 23,
    "start_time": "2022-05-12T14:31:36.303Z"
   },
   {
    "duration": 17,
    "start_time": "2022-05-12T14:31:36.328Z"
   },
   {
    "duration": 7,
    "start_time": "2022-05-12T14:31:36.348Z"
   },
   {
    "duration": 16,
    "start_time": "2022-05-12T14:31:36.357Z"
   },
   {
    "duration": 17,
    "start_time": "2022-05-12T14:31:36.375Z"
   },
   {
    "duration": 21,
    "start_time": "2022-05-12T14:31:36.394Z"
   },
   {
    "duration": 48,
    "start_time": "2022-05-12T14:31:36.417Z"
   },
   {
    "duration": 12,
    "start_time": "2022-05-12T14:31:36.467Z"
   },
   {
    "duration": 277,
    "start_time": "2022-05-12T14:31:36.484Z"
   },
   {
    "duration": 10,
    "start_time": "2022-05-12T14:31:36.764Z"
   },
   {
    "duration": 14,
    "start_time": "2022-05-12T14:31:36.776Z"
   },
   {
    "duration": 22,
    "start_time": "2022-05-12T14:31:36.792Z"
   },
   {
    "duration": 36,
    "start_time": "2022-05-12T14:31:36.817Z"
   },
   {
    "duration": 2534,
    "start_time": "2022-05-12T14:31:42.391Z"
   },
   {
    "duration": 2517,
    "start_time": "2022-05-12T14:31:54.129Z"
   },
   {
    "duration": 2759,
    "start_time": "2022-05-12T14:32:03.308Z"
   },
   {
    "duration": 3897,
    "start_time": "2022-05-12T14:32:28.481Z"
   },
   {
    "duration": 31,
    "start_time": "2022-05-12T14:32:32.381Z"
   },
   {
    "duration": 21,
    "start_time": "2022-05-12T14:32:32.415Z"
   },
   {
    "duration": 8,
    "start_time": "2022-05-12T14:32:32.438Z"
   },
   {
    "duration": 18,
    "start_time": "2022-05-12T14:32:32.448Z"
   },
   {
    "duration": 34,
    "start_time": "2022-05-12T14:32:32.469Z"
   },
   {
    "duration": 49,
    "start_time": "2022-05-12T14:32:32.505Z"
   },
   {
    "duration": 4,
    "start_time": "2022-05-12T14:32:32.557Z"
   },
   {
    "duration": 47,
    "start_time": "2022-05-12T14:32:32.564Z"
   },
   {
    "duration": 12,
    "start_time": "2022-05-12T14:32:32.617Z"
   },
   {
    "duration": 33,
    "start_time": "2022-05-12T14:32:32.631Z"
   },
   {
    "duration": 30,
    "start_time": "2022-05-12T14:32:32.666Z"
   },
   {
    "duration": 33,
    "start_time": "2022-05-12T14:32:32.698Z"
   },
   {
    "duration": 58,
    "start_time": "2022-05-12T14:32:32.733Z"
   },
   {
    "duration": 7,
    "start_time": "2022-05-12T14:32:32.793Z"
   },
   {
    "duration": 23,
    "start_time": "2022-05-12T14:32:32.802Z"
   },
   {
    "duration": 19,
    "start_time": "2022-05-12T14:32:32.828Z"
   },
   {
    "duration": 27,
    "start_time": "2022-05-12T14:32:32.849Z"
   },
   {
    "duration": 11,
    "start_time": "2022-05-12T14:32:32.878Z"
   },
   {
    "duration": 29,
    "start_time": "2022-05-12T14:32:32.891Z"
   },
   {
    "duration": 23,
    "start_time": "2022-05-12T14:32:32.922Z"
   },
   {
    "duration": 16,
    "start_time": "2022-05-12T14:32:32.947Z"
   },
   {
    "duration": 24,
    "start_time": "2022-05-12T14:32:32.965Z"
   },
   {
    "duration": 16,
    "start_time": "2022-05-12T14:32:32.991Z"
   },
   {
    "duration": 36,
    "start_time": "2022-05-12T14:32:33.009Z"
   },
   {
    "duration": 36,
    "start_time": "2022-05-12T14:32:33.047Z"
   },
   {
    "duration": 13,
    "start_time": "2022-05-12T14:32:33.085Z"
   },
   {
    "duration": 150,
    "start_time": "2022-05-12T14:32:33.102Z"
   },
   {
    "duration": 8,
    "start_time": "2022-05-12T14:32:33.254Z"
   },
   {
    "duration": 14,
    "start_time": "2022-05-12T14:32:33.265Z"
   },
   {
    "duration": 28,
    "start_time": "2022-05-12T14:32:33.281Z"
   },
   {
    "duration": 61,
    "start_time": "2022-05-12T14:32:33.310Z"
   },
   {
    "duration": 0,
    "start_time": "2022-05-12T14:33:00.688Z"
   },
   {
    "duration": 2578,
    "start_time": "2022-05-12T14:33:07.375Z"
   },
   {
    "duration": 2380,
    "start_time": "2022-05-12T14:33:12.829Z"
   },
   {
    "duration": 192,
    "start_time": "2022-05-12T14:33:21.437Z"
   },
   {
    "duration": 26,
    "start_time": "2022-05-12T14:33:26.689Z"
   },
   {
    "duration": 10,
    "start_time": "2022-05-12T14:33:31.123Z"
   },
   {
    "duration": 21,
    "start_time": "2022-05-12T14:33:35.323Z"
   },
   {
    "duration": 19,
    "start_time": "2022-05-12T14:33:38.832Z"
   },
   {
    "duration": 9,
    "start_time": "2022-05-12T14:33:44.102Z"
   },
   {
    "duration": 28,
    "start_time": "2022-05-12T14:33:46.463Z"
   },
   {
    "duration": 13,
    "start_time": "2022-05-12T14:34:06.581Z"
   },
   {
    "duration": 18,
    "start_time": "2022-05-12T14:34:23.073Z"
   },
   {
    "duration": 12,
    "start_time": "2022-05-12T14:34:26.474Z"
   },
   {
    "duration": 12,
    "start_time": "2022-05-12T14:34:28.882Z"
   },
   {
    "duration": 14,
    "start_time": "2022-05-12T14:34:42.709Z"
   },
   {
    "duration": 31,
    "start_time": "2022-05-12T14:35:05.423Z"
   },
   {
    "duration": 28,
    "start_time": "2022-05-12T14:35:11.547Z"
   },
   {
    "duration": 46,
    "start_time": "2022-05-12T14:35:14.079Z"
   },
   {
    "duration": 8,
    "start_time": "2022-05-12T14:35:17.179Z"
   },
   {
    "duration": 16,
    "start_time": "2022-05-12T14:35:19.752Z"
   },
   {
    "duration": 5,
    "start_time": "2022-05-12T14:35:23.088Z"
   },
   {
    "duration": 18,
    "start_time": "2022-05-12T14:35:26.587Z"
   },
   {
    "duration": 6,
    "start_time": "2022-05-12T14:35:41.361Z"
   },
   {
    "duration": 104,
    "start_time": "2022-05-12T14:36:05.129Z"
   },
   {
    "duration": 16,
    "start_time": "2022-05-12T14:36:13.326Z"
   },
   {
    "duration": 11,
    "start_time": "2022-05-12T14:36:18.056Z"
   },
   {
    "duration": 5,
    "start_time": "2022-05-12T14:36:21.218Z"
   },
   {
    "duration": 5,
    "start_time": "2022-05-12T14:36:23.267Z"
   },
   {
    "duration": 22,
    "start_time": "2022-05-12T14:36:25.870Z"
   },
   {
    "duration": 27,
    "start_time": "2022-05-12T14:36:30.156Z"
   },
   {
    "duration": 19,
    "start_time": "2022-05-12T14:36:33.607Z"
   },
   {
    "duration": 29,
    "start_time": "2022-05-12T14:36:38.196Z"
   },
   {
    "duration": 29,
    "start_time": "2022-05-12T14:36:41.536Z"
   },
   {
    "duration": 26,
    "start_time": "2022-05-12T14:36:54.672Z"
   },
   {
    "duration": 19,
    "start_time": "2022-05-12T14:36:59.292Z"
   },
   {
    "duration": 34,
    "start_time": "2022-05-12T14:37:02.522Z"
   },
   {
    "duration": 6,
    "start_time": "2022-05-12T14:37:05.832Z"
   },
   {
    "duration": 15,
    "start_time": "2022-05-12T14:37:08.592Z"
   },
   {
    "duration": 6,
    "start_time": "2022-05-12T14:37:14.128Z"
   },
   {
    "duration": 18,
    "start_time": "2022-05-12T14:37:46.633Z"
   },
   {
    "duration": 5,
    "start_time": "2022-05-12T14:39:06.630Z"
   },
   {
    "duration": 20,
    "start_time": "2022-05-12T14:39:10.886Z"
   },
   {
    "duration": 5,
    "start_time": "2022-05-12T14:39:15.040Z"
   },
   {
    "duration": 6,
    "start_time": "2022-05-12T14:39:17.660Z"
   },
   {
    "duration": 13,
    "start_time": "2022-05-12T14:39:29.412Z"
   },
   {
    "duration": 17,
    "start_time": "2022-05-12T14:39:36.063Z"
   },
   {
    "duration": 19,
    "start_time": "2022-05-12T14:39:40.509Z"
   },
   {
    "duration": 22,
    "start_time": "2022-05-12T14:39:47.333Z"
   },
   {
    "duration": 11,
    "start_time": "2022-05-12T14:39:53.788Z"
   },
   {
    "duration": 208,
    "start_time": "2022-05-12T14:39:56.253Z"
   },
   {
    "duration": 7,
    "start_time": "2022-05-12T14:40:01.135Z"
   },
   {
    "duration": 7,
    "start_time": "2022-05-12T14:40:03.806Z"
   },
   {
    "duration": 7,
    "start_time": "2022-05-12T14:40:07.595Z"
   },
   {
    "duration": 21,
    "start_time": "2022-05-12T14:40:10.460Z"
   },
   {
    "duration": 26,
    "start_time": "2022-05-12T14:40:26.480Z"
   },
   {
    "duration": 471,
    "start_time": "2022-05-12T14:40:49.986Z"
   },
   {
    "duration": 17,
    "start_time": "2022-05-12T14:40:50.459Z"
   },
   {
    "duration": 11,
    "start_time": "2022-05-12T14:40:50.478Z"
   },
   {
    "duration": 9,
    "start_time": "2022-05-12T14:40:50.492Z"
   },
   {
    "duration": 17,
    "start_time": "2022-05-12T14:40:50.504Z"
   },
   {
    "duration": 39,
    "start_time": "2022-05-12T14:40:50.523Z"
   },
   {
    "duration": 28,
    "start_time": "2022-05-12T14:40:50.564Z"
   },
   {
    "duration": 20,
    "start_time": "2022-05-12T14:40:50.594Z"
   },
   {
    "duration": 43,
    "start_time": "2022-05-12T14:40:50.616Z"
   },
   {
    "duration": 20,
    "start_time": "2022-05-12T14:40:50.663Z"
   },
   {
    "duration": 18,
    "start_time": "2022-05-12T14:40:50.685Z"
   },
   {
    "duration": 54,
    "start_time": "2022-05-12T14:40:50.705Z"
   },
   {
    "duration": 50,
    "start_time": "2022-05-12T14:40:50.762Z"
   },
   {
    "duration": 7,
    "start_time": "2022-05-12T14:40:50.814Z"
   },
   {
    "duration": 36,
    "start_time": "2022-05-12T14:40:50.823Z"
   },
   {
    "duration": 9,
    "start_time": "2022-05-12T14:40:50.861Z"
   },
   {
    "duration": 21,
    "start_time": "2022-05-12T14:40:50.871Z"
   },
   {
    "duration": 5,
    "start_time": "2022-05-12T14:40:50.894Z"
   },
   {
    "duration": 60,
    "start_time": "2022-05-12T14:40:50.901Z"
   },
   {
    "duration": 5,
    "start_time": "2022-05-12T14:40:50.963Z"
   },
   {
    "duration": 12,
    "start_time": "2022-05-12T14:40:50.970Z"
   },
   {
    "duration": 26,
    "start_time": "2022-05-12T14:40:50.985Z"
   },
   {
    "duration": 39,
    "start_time": "2022-05-12T14:40:51.013Z"
   },
   {
    "duration": 16,
    "start_time": "2022-05-12T14:40:51.055Z"
   },
   {
    "duration": 42,
    "start_time": "2022-05-12T14:40:51.072Z"
   },
   {
    "duration": 9,
    "start_time": "2022-05-12T14:40:51.118Z"
   },
   {
    "duration": 143,
    "start_time": "2022-05-12T14:40:51.129Z"
   },
   {
    "duration": 8,
    "start_time": "2022-05-12T14:40:51.277Z"
   },
   {
    "duration": 10,
    "start_time": "2022-05-12T14:40:51.287Z"
   },
   {
    "duration": 54,
    "start_time": "2022-05-12T14:40:51.300Z"
   },
   {
    "duration": 21,
    "start_time": "2022-05-12T14:40:51.356Z"
   },
   {
    "duration": 6,
    "start_time": "2022-05-12T14:42:13.238Z"
   },
   {
    "duration": 478,
    "start_time": "2022-05-12T14:42:22.383Z"
   },
   {
    "duration": 17,
    "start_time": "2022-05-12T14:42:22.863Z"
   },
   {
    "duration": 12,
    "start_time": "2022-05-12T14:42:22.882Z"
   },
   {
    "duration": 13,
    "start_time": "2022-05-12T14:42:22.896Z"
   },
   {
    "duration": 10,
    "start_time": "2022-05-12T14:42:22.911Z"
   },
   {
    "duration": 30,
    "start_time": "2022-05-12T14:42:22.922Z"
   },
   {
    "duration": 17,
    "start_time": "2022-05-12T14:42:22.954Z"
   },
   {
    "duration": 20,
    "start_time": "2022-05-12T14:42:22.973Z"
   },
   {
    "duration": 33,
    "start_time": "2022-05-12T14:42:22.995Z"
   },
   {
    "duration": 20,
    "start_time": "2022-05-12T14:42:23.043Z"
   },
   {
    "duration": 29,
    "start_time": "2022-05-12T14:42:23.065Z"
   },
   {
    "duration": 20,
    "start_time": "2022-05-12T14:42:23.096Z"
   },
   {
    "duration": 59,
    "start_time": "2022-05-12T14:42:23.118Z"
   },
   {
    "duration": 6,
    "start_time": "2022-05-12T14:42:23.178Z"
   },
   {
    "duration": 12,
    "start_time": "2022-05-12T14:42:23.186Z"
   },
   {
    "duration": 20,
    "start_time": "2022-05-12T14:42:23.199Z"
   },
   {
    "duration": 7,
    "start_time": "2022-05-12T14:42:23.242Z"
   },
   {
    "duration": 27,
    "start_time": "2022-05-12T14:42:23.251Z"
   },
   {
    "duration": 6,
    "start_time": "2022-05-12T14:42:23.280Z"
   },
   {
    "duration": 11,
    "start_time": "2022-05-12T14:42:23.288Z"
   },
   {
    "duration": 14,
    "start_time": "2022-05-12T14:42:23.300Z"
   },
   {
    "duration": 13,
    "start_time": "2022-05-12T14:42:23.344Z"
   },
   {
    "duration": 19,
    "start_time": "2022-05-12T14:42:23.359Z"
   },
   {
    "duration": 26,
    "start_time": "2022-05-12T14:42:23.380Z"
   },
   {
    "duration": 37,
    "start_time": "2022-05-12T14:42:23.407Z"
   },
   {
    "duration": 139,
    "start_time": "2022-05-12T14:42:23.447Z"
   },
   {
    "duration": 8,
    "start_time": "2022-05-12T14:42:23.587Z"
   },
   {
    "duration": 10,
    "start_time": "2022-05-12T14:42:23.599Z"
   },
   {
    "duration": 26,
    "start_time": "2022-05-12T14:42:23.612Z"
   },
   {
    "duration": 25,
    "start_time": "2022-05-12T14:42:23.640Z"
   },
   {
    "duration": 1620,
    "start_time": "2022-05-12T16:01:19.041Z"
   },
   {
    "duration": 20,
    "start_time": "2022-05-12T16:01:20.663Z"
   },
   {
    "duration": 13,
    "start_time": "2022-05-12T16:01:20.685Z"
   },
   {
    "duration": 9,
    "start_time": "2022-05-12T16:01:20.701Z"
   },
   {
    "duration": 31,
    "start_time": "2022-05-12T16:01:20.713Z"
   },
   {
    "duration": 38,
    "start_time": "2022-05-12T16:01:20.747Z"
   },
   {
    "duration": 27,
    "start_time": "2022-05-12T16:01:20.788Z"
   },
   {
    "duration": 42,
    "start_time": "2022-05-12T16:01:20.817Z"
   },
   {
    "duration": 23,
    "start_time": "2022-05-12T16:01:20.861Z"
   },
   {
    "duration": 37,
    "start_time": "2022-05-12T16:01:20.887Z"
   },
   {
    "duration": 52,
    "start_time": "2022-05-12T16:01:20.927Z"
   },
   {
    "duration": 20,
    "start_time": "2022-05-12T16:01:20.982Z"
   },
   {
    "duration": 59,
    "start_time": "2022-05-12T16:01:21.004Z"
   },
   {
    "duration": 5,
    "start_time": "2022-05-12T16:01:21.065Z"
   },
   {
    "duration": 17,
    "start_time": "2022-05-12T16:01:21.072Z"
   },
   {
    "duration": 9,
    "start_time": "2022-05-12T16:01:21.091Z"
   },
   {
    "duration": 25,
    "start_time": "2022-05-12T16:01:21.101Z"
   },
   {
    "duration": 18,
    "start_time": "2022-05-12T16:01:21.128Z"
   },
   {
    "duration": 33,
    "start_time": "2022-05-12T16:01:21.147Z"
   },
   {
    "duration": 7,
    "start_time": "2022-05-12T16:01:21.182Z"
   },
   {
    "duration": 13,
    "start_time": "2022-05-12T16:01:21.191Z"
   },
   {
    "duration": 14,
    "start_time": "2022-05-12T16:01:21.206Z"
   },
   {
    "duration": 26,
    "start_time": "2022-05-12T16:01:21.222Z"
   },
   {
    "duration": 19,
    "start_time": "2022-05-12T16:01:21.250Z"
   },
   {
    "duration": 41,
    "start_time": "2022-05-12T16:01:21.272Z"
   },
   {
    "duration": 46,
    "start_time": "2022-05-12T16:01:21.315Z"
   },
   {
    "duration": 154,
    "start_time": "2022-05-12T16:01:21.364Z"
   },
   {
    "duration": 8,
    "start_time": "2022-05-12T16:01:21.522Z"
   },
   {
    "duration": 21,
    "start_time": "2022-05-12T16:01:21.531Z"
   },
   {
    "duration": 22,
    "start_time": "2022-05-12T16:01:21.553Z"
   },
   {
    "duration": 21,
    "start_time": "2022-05-12T16:01:21.577Z"
   },
   {
    "duration": 7,
    "start_time": "2022-05-12T16:01:30.134Z"
   },
   {
    "duration": 11,
    "start_time": "2022-05-12T16:01:41.456Z"
   },
   {
    "duration": 589,
    "start_time": "2022-05-12T16:04:34.066Z"
   },
   {
    "duration": 26,
    "start_time": "2022-05-12T16:04:34.660Z"
   },
   {
    "duration": 17,
    "start_time": "2022-05-12T16:04:34.688Z"
   },
   {
    "duration": 20,
    "start_time": "2022-05-12T16:04:34.706Z"
   },
   {
    "duration": 29,
    "start_time": "2022-05-12T16:04:34.728Z"
   },
   {
    "duration": 40,
    "start_time": "2022-05-12T16:04:34.764Z"
   },
   {
    "duration": 21,
    "start_time": "2022-05-12T16:04:34.806Z"
   },
   {
    "duration": 29,
    "start_time": "2022-05-12T16:04:34.829Z"
   },
   {
    "duration": 53,
    "start_time": "2022-05-12T16:04:34.861Z"
   },
   {
    "duration": 24,
    "start_time": "2022-05-12T16:04:34.915Z"
   },
   {
    "duration": 52,
    "start_time": "2022-05-12T16:04:34.940Z"
   },
   {
    "duration": 51,
    "start_time": "2022-05-12T16:04:34.994Z"
   },
   {
    "duration": 65,
    "start_time": "2022-05-12T16:04:35.047Z"
   },
   {
    "duration": 8,
    "start_time": "2022-05-12T16:04:35.116Z"
   },
   {
    "duration": 35,
    "start_time": "2022-05-12T16:04:35.126Z"
   },
   {
    "duration": 28,
    "start_time": "2022-05-12T16:04:35.164Z"
   },
   {
    "duration": 29,
    "start_time": "2022-05-12T16:04:35.194Z"
   },
   {
    "duration": 46,
    "start_time": "2022-05-12T16:04:35.225Z"
   },
   {
    "duration": 34,
    "start_time": "2022-05-12T16:04:35.274Z"
   },
   {
    "duration": 6,
    "start_time": "2022-05-12T16:04:35.310Z"
   },
   {
    "duration": 31,
    "start_time": "2022-05-12T16:04:35.318Z"
   },
   {
    "duration": 37,
    "start_time": "2022-05-12T16:04:35.354Z"
   },
   {
    "duration": 14,
    "start_time": "2022-05-12T16:04:35.393Z"
   },
   {
    "duration": 13,
    "start_time": "2022-05-12T16:04:35.409Z"
   },
   {
    "duration": 43,
    "start_time": "2022-05-12T16:04:35.423Z"
   },
   {
    "duration": 13,
    "start_time": "2022-05-12T16:04:35.469Z"
   },
   {
    "duration": 153,
    "start_time": "2022-05-12T16:04:35.483Z"
   },
   {
    "duration": 8,
    "start_time": "2022-05-12T16:04:35.638Z"
   },
   {
    "duration": 37,
    "start_time": "2022-05-12T16:04:35.647Z"
   },
   {
    "duration": 19,
    "start_time": "2022-05-12T16:04:35.686Z"
   },
   {
    "duration": 29,
    "start_time": "2022-05-12T16:04:35.707Z"
   },
   {
    "duration": 3003,
    "start_time": "2022-05-12T16:04:48.329Z"
   },
   {
    "duration": 0,
    "start_time": "2022-05-12T16:04:51.335Z"
   },
   {
    "duration": 6,
    "start_time": "2022-05-12T16:06:42.474Z"
   },
   {
    "duration": 2460,
    "start_time": "2022-05-12T16:06:44.325Z"
   },
   {
    "duration": 2940,
    "start_time": "2022-05-12T16:07:08.265Z"
   },
   {
    "duration": 6,
    "start_time": "2022-05-12T16:07:18.204Z"
   },
   {
    "duration": 5,
    "start_time": "2022-05-12T16:07:21.267Z"
   },
   {
    "duration": 3091,
    "start_time": "2022-05-12T16:07:46.284Z"
   },
   {
    "duration": 9,
    "start_time": "2022-05-12T16:08:15.515Z"
   },
   {
    "duration": 1060,
    "start_time": "2022-05-12T16:08:55.873Z"
   },
   {
    "duration": 30,
    "start_time": "2022-05-12T16:08:56.936Z"
   },
   {
    "duration": 28,
    "start_time": "2022-05-12T16:08:56.968Z"
   },
   {
    "duration": 6,
    "start_time": "2022-05-12T16:08:56.999Z"
   },
   {
    "duration": 9,
    "start_time": "2022-05-12T16:08:57.007Z"
   },
   {
    "duration": 31,
    "start_time": "2022-05-12T16:08:57.019Z"
   },
   {
    "duration": 29,
    "start_time": "2022-05-12T16:08:57.053Z"
   },
   {
    "duration": 14,
    "start_time": "2022-05-12T16:08:57.083Z"
   },
   {
    "duration": 49,
    "start_time": "2022-05-12T16:08:57.099Z"
   },
   {
    "duration": 50,
    "start_time": "2022-05-12T16:08:57.151Z"
   },
   {
    "duration": 20,
    "start_time": "2022-05-12T16:08:57.203Z"
   },
   {
    "duration": 33,
    "start_time": "2022-05-12T16:08:57.225Z"
   },
   {
    "duration": 42,
    "start_time": "2022-05-12T16:08:57.266Z"
   },
   {
    "duration": 6,
    "start_time": "2022-05-12T16:08:57.310Z"
   },
   {
    "duration": 29,
    "start_time": "2022-05-12T16:08:57.318Z"
   },
   {
    "duration": 32,
    "start_time": "2022-05-12T16:08:57.352Z"
   },
   {
    "duration": 49,
    "start_time": "2022-05-12T16:08:57.385Z"
   },
   {
    "duration": 42,
    "start_time": "2022-05-12T16:08:57.436Z"
   },
   {
    "duration": 28,
    "start_time": "2022-05-12T16:08:57.480Z"
   },
   {
    "duration": 24,
    "start_time": "2022-05-12T16:08:57.510Z"
   },
   {
    "duration": 50,
    "start_time": "2022-05-12T16:08:57.536Z"
   },
   {
    "duration": 33,
    "start_time": "2022-05-12T16:08:57.588Z"
   },
   {
    "duration": 32,
    "start_time": "2022-05-12T16:08:57.623Z"
   },
   {
    "duration": 46,
    "start_time": "2022-05-12T16:08:57.658Z"
   },
   {
    "duration": 52,
    "start_time": "2022-05-12T16:08:57.706Z"
   },
   {
    "duration": 52,
    "start_time": "2022-05-12T16:08:57.761Z"
   },
   {
    "duration": 186,
    "start_time": "2022-05-12T16:08:57.815Z"
   },
   {
    "duration": 7,
    "start_time": "2022-05-12T16:08:58.006Z"
   },
   {
    "duration": 48,
    "start_time": "2022-05-12T16:08:58.015Z"
   },
   {
    "duration": 30,
    "start_time": "2022-05-12T16:08:58.065Z"
   },
   {
    "duration": 29,
    "start_time": "2022-05-12T16:08:58.098Z"
   },
   {
    "duration": 20,
    "start_time": "2022-05-12T16:09:24.588Z"
   },
   {
    "duration": 110,
    "start_time": "2022-05-12T16:09:34.016Z"
   },
   {
    "duration": 25,
    "start_time": "2022-05-12T16:09:40.444Z"
   },
   {
    "duration": 17,
    "start_time": "2022-05-12T16:09:45.553Z"
   },
   {
    "duration": 7,
    "start_time": "2022-05-12T16:09:52.307Z"
   },
   {
    "duration": 8,
    "start_time": "2022-05-12T16:09:54.152Z"
   },
   {
    "duration": 25,
    "start_time": "2022-05-12T16:09:57.786Z"
   },
   {
    "duration": 27,
    "start_time": "2022-05-12T16:10:18.464Z"
   },
   {
    "duration": 15,
    "start_time": "2022-05-12T16:10:24.903Z"
   },
   {
    "duration": 26,
    "start_time": "2022-05-12T16:10:29.597Z"
   },
   {
    "duration": 28,
    "start_time": "2022-05-12T16:10:44.670Z"
   },
   {
    "duration": 17,
    "start_time": "2022-05-12T16:11:00.403Z"
   },
   {
    "duration": 29,
    "start_time": "2022-05-12T16:11:15.075Z"
   },
   {
    "duration": 19,
    "start_time": "2022-05-12T16:11:20.787Z"
   },
   {
    "duration": 22,
    "start_time": "2022-05-12T16:11:26.406Z"
   },
   {
    "duration": 27,
    "start_time": "2022-05-12T16:11:31.465Z"
   },
   {
    "duration": 35,
    "start_time": "2022-05-12T16:11:34.185Z"
   },
   {
    "duration": 7,
    "start_time": "2022-05-12T16:11:38.062Z"
   },
   {
    "duration": 9,
    "start_time": "2022-05-12T16:11:41.290Z"
   },
   {
    "duration": 15,
    "start_time": "2022-05-12T16:11:47.735Z"
   },
   {
    "duration": 24,
    "start_time": "2022-05-12T16:11:55.133Z"
   },
   {
    "duration": 12,
    "start_time": "2022-05-12T16:11:58.235Z"
   },
   {
    "duration": 33,
    "start_time": "2022-05-12T16:12:03.781Z"
   },
   {
    "duration": 12,
    "start_time": "2022-05-12T16:12:07.958Z"
   },
   {
    "duration": 9,
    "start_time": "2022-05-12T16:12:11.698Z"
   },
   {
    "duration": 17,
    "start_time": "2022-05-12T16:12:47.164Z"
   },
   {
    "duration": 15,
    "start_time": "2022-05-12T16:12:49.905Z"
   },
   {
    "duration": 29,
    "start_time": "2022-05-12T16:12:53.834Z"
   },
   {
    "duration": 40,
    "start_time": "2022-05-12T16:13:00.149Z"
   },
   {
    "duration": 9,
    "start_time": "2022-05-12T16:13:21.410Z"
   },
   {
    "duration": 129,
    "start_time": "2022-05-12T16:13:31.157Z"
   },
   {
    "duration": 23,
    "start_time": "2022-05-12T16:14:03.966Z"
   },
   {
    "duration": 12,
    "start_time": "2022-05-12T16:14:20.258Z"
   },
   {
    "duration": 20,
    "start_time": "2022-05-12T16:14:41.060Z"
   },
   {
    "duration": 23,
    "start_time": "2022-05-12T16:24:13.433Z"
   },
   {
    "duration": 24,
    "start_time": "2022-05-12T16:25:55.927Z"
   },
   {
    "duration": 18,
    "start_time": "2022-05-12T16:30:20.157Z"
   },
   {
    "duration": 156,
    "start_time": "2022-05-12T16:31:48.771Z"
   },
   {
    "duration": 143,
    "start_time": "2022-05-12T16:31:59.590Z"
   },
   {
    "duration": 20,
    "start_time": "2022-05-12T16:32:11.696Z"
   },
   {
    "duration": 151,
    "start_time": "2022-05-12T16:33:42.927Z"
   },
   {
    "duration": 169,
    "start_time": "2022-05-12T16:33:53.844Z"
   },
   {
    "duration": 21,
    "start_time": "2022-05-12T16:34:02.288Z"
   },
   {
    "duration": 22,
    "start_time": "2022-05-12T16:40:19.240Z"
   },
   {
    "duration": 22,
    "start_time": "2022-05-12T16:44:50.832Z"
   },
   {
    "duration": 20,
    "start_time": "2022-05-12T16:47:11.313Z"
   },
   {
    "duration": 25,
    "start_time": "2022-05-12T16:47:23.838Z"
   },
   {
    "duration": 1119,
    "start_time": "2022-05-12T17:03:19.488Z"
   },
   {
    "duration": 2645,
    "start_time": "2022-05-12T17:04:21.692Z"
   },
   {
    "duration": 3,
    "start_time": "2022-05-12T17:11:31.429Z"
   },
   {
    "duration": 26,
    "start_time": "2022-05-12T17:13:33.526Z"
   },
   {
    "duration": 15,
    "start_time": "2022-05-12T17:18:25.616Z"
   },
   {
    "duration": 173,
    "start_time": "2022-05-12T17:22:01.721Z"
   },
   {
    "duration": 30,
    "start_time": "2022-05-12T17:22:12.563Z"
   },
   {
    "duration": 70,
    "start_time": "2022-05-12T17:25:07.565Z"
   },
   {
    "duration": 10,
    "start_time": "2022-05-12T17:28:00.584Z"
   },
   {
    "duration": 512,
    "start_time": "2022-05-12T17:28:10.275Z"
   },
   {
    "duration": 16,
    "start_time": "2022-05-12T17:28:10.789Z"
   },
   {
    "duration": 11,
    "start_time": "2022-05-12T17:28:10.806Z"
   },
   {
    "duration": 8,
    "start_time": "2022-05-12T17:28:10.820Z"
   },
   {
    "duration": 5,
    "start_time": "2022-05-12T17:28:10.843Z"
   },
   {
    "duration": 18,
    "start_time": "2022-05-12T17:28:10.850Z"
   },
   {
    "duration": 17,
    "start_time": "2022-05-12T17:28:10.870Z"
   },
   {
    "duration": 13,
    "start_time": "2022-05-12T17:28:10.889Z"
   },
   {
    "duration": 49,
    "start_time": "2022-05-12T17:28:10.903Z"
   },
   {
    "duration": 22,
    "start_time": "2022-05-12T17:28:10.955Z"
   },
   {
    "duration": 17,
    "start_time": "2022-05-12T17:28:10.978Z"
   },
   {
    "duration": 46,
    "start_time": "2022-05-12T17:28:10.997Z"
   },
   {
    "duration": 33,
    "start_time": "2022-05-12T17:28:11.045Z"
   },
   {
    "duration": 6,
    "start_time": "2022-05-12T17:28:11.080Z"
   },
   {
    "duration": 18,
    "start_time": "2022-05-12T17:28:11.087Z"
   },
   {
    "duration": 7,
    "start_time": "2022-05-12T17:28:11.107Z"
   },
   {
    "duration": 40,
    "start_time": "2022-05-12T17:28:11.115Z"
   },
   {
    "duration": 7,
    "start_time": "2022-05-12T17:28:11.157Z"
   },
   {
    "duration": 20,
    "start_time": "2022-05-12T17:28:11.165Z"
   },
   {
    "duration": 8,
    "start_time": "2022-05-12T17:28:11.186Z"
   },
   {
    "duration": 10,
    "start_time": "2022-05-12T17:28:11.196Z"
   },
   {
    "duration": 37,
    "start_time": "2022-05-12T17:28:11.207Z"
   },
   {
    "duration": 13,
    "start_time": "2022-05-12T17:28:11.246Z"
   },
   {
    "duration": 13,
    "start_time": "2022-05-12T17:28:11.261Z"
   },
   {
    "duration": 19,
    "start_time": "2022-05-12T17:28:11.276Z"
   },
   {
    "duration": 6,
    "start_time": "2022-05-12T17:28:11.297Z"
   },
   {
    "duration": 51,
    "start_time": "2022-05-12T17:28:11.305Z"
   },
   {
    "duration": 9,
    "start_time": "2022-05-12T17:28:11.359Z"
   },
   {
    "duration": 28,
    "start_time": "2022-05-12T17:28:11.370Z"
   },
   {
    "duration": 19,
    "start_time": "2022-05-12T17:28:11.400Z"
   },
   {
    "duration": 19,
    "start_time": "2022-05-12T17:28:48.375Z"
   },
   {
    "duration": 18,
    "start_time": "2022-05-12T17:32:10.699Z"
   },
   {
    "duration": 18,
    "start_time": "2022-05-12T17:33:32.317Z"
   },
   {
    "duration": 18,
    "start_time": "2022-05-12T17:33:54.682Z"
   },
   {
    "duration": 17,
    "start_time": "2022-05-12T17:35:23.178Z"
   },
   {
    "duration": 68,
    "start_time": "2022-05-12T17:38:31.237Z"
   },
   {
    "duration": 21,
    "start_time": "2022-05-12T17:38:54.401Z"
   },
   {
    "duration": 19,
    "start_time": "2022-05-12T17:40:19.830Z"
   },
   {
    "duration": 19,
    "start_time": "2022-05-12T17:42:30.121Z"
   },
   {
    "duration": 20,
    "start_time": "2022-05-12T17:42:43.336Z"
   },
   {
    "duration": 483,
    "start_time": "2022-05-12T17:43:19.564Z"
   },
   {
    "duration": 17,
    "start_time": "2022-05-12T17:43:20.048Z"
   },
   {
    "duration": 16,
    "start_time": "2022-05-12T17:43:20.067Z"
   },
   {
    "duration": 25,
    "start_time": "2022-05-12T17:43:20.085Z"
   },
   {
    "duration": 32,
    "start_time": "2022-05-12T17:43:20.112Z"
   },
   {
    "duration": 32,
    "start_time": "2022-05-12T17:43:20.146Z"
   },
   {
    "duration": 47,
    "start_time": "2022-05-12T17:43:20.180Z"
   },
   {
    "duration": 30,
    "start_time": "2022-05-12T17:43:20.229Z"
   },
   {
    "duration": 35,
    "start_time": "2022-05-12T17:43:20.261Z"
   },
   {
    "duration": 34,
    "start_time": "2022-05-12T17:43:20.299Z"
   },
   {
    "duration": 27,
    "start_time": "2022-05-12T17:43:20.335Z"
   },
   {
    "duration": 20,
    "start_time": "2022-05-12T17:43:20.364Z"
   },
   {
    "duration": 30,
    "start_time": "2022-05-12T17:43:20.386Z"
   },
   {
    "duration": 5,
    "start_time": "2022-05-12T17:43:20.418Z"
   },
   {
    "duration": 38,
    "start_time": "2022-05-12T17:43:20.425Z"
   },
   {
    "duration": 19,
    "start_time": "2022-05-12T17:43:20.465Z"
   },
   {
    "duration": 37,
    "start_time": "2022-05-12T17:43:20.486Z"
   },
   {
    "duration": 31,
    "start_time": "2022-05-12T17:43:20.525Z"
   },
   {
    "duration": 53,
    "start_time": "2022-05-12T17:43:20.558Z"
   },
   {
    "duration": 19,
    "start_time": "2022-05-12T17:43:20.613Z"
   },
   {
    "duration": 24,
    "start_time": "2022-05-12T17:43:20.635Z"
   },
   {
    "duration": 30,
    "start_time": "2022-05-12T17:43:20.661Z"
   },
   {
    "duration": 26,
    "start_time": "2022-05-12T17:43:20.693Z"
   },
   {
    "duration": 25,
    "start_time": "2022-05-12T17:43:20.721Z"
   },
   {
    "duration": 44,
    "start_time": "2022-05-12T17:43:20.747Z"
   },
   {
    "duration": 33,
    "start_time": "2022-05-12T17:43:20.792Z"
   },
   {
    "duration": 43,
    "start_time": "2022-05-12T17:43:20.828Z"
   },
   {
    "duration": 41,
    "start_time": "2022-05-12T17:43:20.875Z"
   },
   {
    "duration": 37,
    "start_time": "2022-05-12T17:43:20.919Z"
   },
   {
    "duration": 30,
    "start_time": "2022-05-12T17:43:20.958Z"
   },
   {
    "duration": 54,
    "start_time": "2022-05-12T17:43:20.990Z"
   },
   {
    "duration": 19,
    "start_time": "2022-05-12T17:44:37.016Z"
   },
   {
    "duration": 36,
    "start_time": "2022-05-12T18:02:55.492Z"
   },
   {
    "duration": 20,
    "start_time": "2022-05-12T18:03:11.652Z"
   },
   {
    "duration": 33,
    "start_time": "2022-05-12T18:03:17.338Z"
   },
   {
    "duration": 21,
    "start_time": "2022-05-12T18:04:08.162Z"
   },
   {
    "duration": 9,
    "start_time": "2022-05-12T18:12:34.096Z"
   },
   {
    "duration": 15,
    "start_time": "2022-05-12T18:13:14.914Z"
   },
   {
    "duration": 15,
    "start_time": "2022-05-12T18:14:11.576Z"
   },
   {
    "duration": 15,
    "start_time": "2022-05-12T18:14:47.162Z"
   },
   {
    "duration": 15,
    "start_time": "2022-05-12T18:15:00.924Z"
   },
   {
    "duration": 15,
    "start_time": "2022-05-12T18:15:40.587Z"
   },
   {
    "duration": 13,
    "start_time": "2022-05-12T18:16:18.170Z"
   },
   {
    "duration": 15,
    "start_time": "2022-05-12T18:17:09.376Z"
   },
   {
    "duration": 15,
    "start_time": "2022-05-12T18:17:25.099Z"
   },
   {
    "duration": 16,
    "start_time": "2022-05-12T18:19:34.378Z"
   },
   {
    "duration": 76,
    "start_time": "2022-05-13T06:15:48.857Z"
   },
   {
    "duration": 623,
    "start_time": "2022-05-13T06:15:56.069Z"
   },
   {
    "duration": 26,
    "start_time": "2022-05-13T06:15:56.696Z"
   },
   {
    "duration": 12,
    "start_time": "2022-05-13T06:15:56.724Z"
   },
   {
    "duration": 6,
    "start_time": "2022-05-13T06:15:56.739Z"
   },
   {
    "duration": 8,
    "start_time": "2022-05-13T06:15:56.747Z"
   },
   {
    "duration": 30,
    "start_time": "2022-05-13T06:15:56.795Z"
   },
   {
    "duration": 22,
    "start_time": "2022-05-13T06:15:56.827Z"
   },
   {
    "duration": 48,
    "start_time": "2022-05-13T06:15:56.852Z"
   },
   {
    "duration": 26,
    "start_time": "2022-05-13T06:15:56.904Z"
   },
   {
    "duration": 25,
    "start_time": "2022-05-13T06:15:56.934Z"
   },
   {
    "duration": 64,
    "start_time": "2022-05-13T06:15:56.961Z"
   },
   {
    "duration": 30,
    "start_time": "2022-05-13T06:15:57.028Z"
   },
   {
    "duration": 63,
    "start_time": "2022-05-13T06:15:57.061Z"
   },
   {
    "duration": 9,
    "start_time": "2022-05-13T06:15:57.127Z"
   },
   {
    "duration": 13,
    "start_time": "2022-05-13T06:15:57.138Z"
   },
   {
    "duration": 16,
    "start_time": "2022-05-13T06:15:57.153Z"
   },
   {
    "duration": 39,
    "start_time": "2022-05-13T06:15:57.198Z"
   },
   {
    "duration": 12,
    "start_time": "2022-05-13T06:15:57.240Z"
   },
   {
    "duration": 65,
    "start_time": "2022-05-13T06:15:57.255Z"
   },
   {
    "duration": 10,
    "start_time": "2022-05-13T06:15:57.322Z"
   },
   {
    "duration": 12,
    "start_time": "2022-05-13T06:15:57.334Z"
   },
   {
    "duration": 62,
    "start_time": "2022-05-13T06:15:57.348Z"
   },
   {
    "duration": 18,
    "start_time": "2022-05-13T06:15:57.412Z"
   },
   {
    "duration": 18,
    "start_time": "2022-05-13T06:15:57.433Z"
   },
   {
    "duration": 55,
    "start_time": "2022-05-13T06:15:57.453Z"
   },
   {
    "duration": 10,
    "start_time": "2022-05-13T06:15:57.511Z"
   },
   {
    "duration": 31,
    "start_time": "2022-05-13T06:15:57.522Z"
   },
   {
    "duration": 39,
    "start_time": "2022-05-13T06:15:57.557Z"
   },
   {
    "duration": 32,
    "start_time": "2022-05-13T06:15:57.600Z"
   },
   {
    "duration": 26,
    "start_time": "2022-05-13T06:15:57.635Z"
   },
   {
    "duration": 25,
    "start_time": "2022-05-13T06:15:57.697Z"
   },
   {
    "duration": 27,
    "start_time": "2022-05-13T06:15:57.724Z"
   },
   {
    "duration": 18,
    "start_time": "2022-05-13T06:16:36.833Z"
   },
   {
    "duration": 33,
    "start_time": "2022-05-13T06:19:42.208Z"
   },
   {
    "duration": 123,
    "start_time": "2022-05-13T06:20:50.684Z"
   },
   {
    "duration": 37,
    "start_time": "2022-05-13T06:21:15.779Z"
   },
   {
    "duration": 450,
    "start_time": "2022-05-13T08:58:28.213Z"
   },
   {
    "duration": 13,
    "start_time": "2022-05-13T08:58:28.665Z"
   },
   {
    "duration": 11,
    "start_time": "2022-05-13T08:58:28.680Z"
   },
   {
    "duration": 4,
    "start_time": "2022-05-13T08:58:28.693Z"
   },
   {
    "duration": 7,
    "start_time": "2022-05-13T08:58:28.699Z"
   },
   {
    "duration": 15,
    "start_time": "2022-05-13T08:58:28.707Z"
   },
   {
    "duration": 15,
    "start_time": "2022-05-13T08:58:28.724Z"
   },
   {
    "duration": 12,
    "start_time": "2022-05-13T08:58:28.740Z"
   },
   {
    "duration": 44,
    "start_time": "2022-05-13T08:58:28.754Z"
   },
   {
    "duration": 17,
    "start_time": "2022-05-13T08:58:28.800Z"
   },
   {
    "duration": 13,
    "start_time": "2022-05-13T08:58:28.818Z"
   },
   {
    "duration": 16,
    "start_time": "2022-05-13T08:58:28.833Z"
   },
   {
    "duration": 58,
    "start_time": "2022-05-13T08:58:28.850Z"
   },
   {
    "duration": 5,
    "start_time": "2022-05-13T08:58:28.910Z"
   },
   {
    "duration": 8,
    "start_time": "2022-05-13T08:58:28.917Z"
   },
   {
    "duration": 6,
    "start_time": "2022-05-13T08:58:28.926Z"
   },
   {
    "duration": 16,
    "start_time": "2022-05-13T08:58:28.934Z"
   },
   {
    "duration": 7,
    "start_time": "2022-05-13T08:58:28.951Z"
   },
   {
    "duration": 18,
    "start_time": "2022-05-13T08:58:28.988Z"
   },
   {
    "duration": 10,
    "start_time": "2022-05-13T08:58:29.007Z"
   },
   {
    "duration": 9,
    "start_time": "2022-05-13T08:58:29.019Z"
   },
   {
    "duration": 14,
    "start_time": "2022-05-13T08:58:29.030Z"
   },
   {
    "duration": 43,
    "start_time": "2022-05-13T08:58:29.046Z"
   },
   {
    "duration": 13,
    "start_time": "2022-05-13T08:58:29.091Z"
   },
   {
    "duration": 21,
    "start_time": "2022-05-13T08:58:29.106Z"
   },
   {
    "duration": 17,
    "start_time": "2022-05-13T08:58:29.128Z"
   },
   {
    "duration": 19,
    "start_time": "2022-05-13T08:58:29.147Z"
   },
   {
    "duration": 20,
    "start_time": "2022-05-13T08:58:29.169Z"
   },
   {
    "duration": 22,
    "start_time": "2022-05-13T08:58:29.191Z"
   },
   {
    "duration": 16,
    "start_time": "2022-05-13T08:58:29.215Z"
   },
   {
    "duration": 11,
    "start_time": "2022-05-13T08:58:29.232Z"
   },
   {
    "duration": 47,
    "start_time": "2022-05-13T08:58:29.245Z"
   },
   {
    "duration": 19,
    "start_time": "2022-05-13T08:58:29.293Z"
   },
   {
    "duration": 20,
    "start_time": "2022-05-13T08:58:55.900Z"
   },
   {
    "duration": 414,
    "start_time": "2022-05-13T08:59:06.332Z"
   },
   {
    "duration": 15,
    "start_time": "2022-05-13T08:59:06.748Z"
   },
   {
    "duration": 10,
    "start_time": "2022-05-13T08:59:06.764Z"
   },
   {
    "duration": 15,
    "start_time": "2022-05-13T08:59:06.776Z"
   },
   {
    "duration": 4,
    "start_time": "2022-05-13T08:59:06.793Z"
   },
   {
    "duration": 14,
    "start_time": "2022-05-13T08:59:06.799Z"
   },
   {
    "duration": 15,
    "start_time": "2022-05-13T08:59:06.814Z"
   },
   {
    "duration": 11,
    "start_time": "2022-05-13T08:59:06.831Z"
   },
   {
    "duration": 49,
    "start_time": "2022-05-13T08:59:06.844Z"
   },
   {
    "duration": 17,
    "start_time": "2022-05-13T08:59:06.894Z"
   },
   {
    "duration": 14,
    "start_time": "2022-05-13T08:59:06.913Z"
   },
   {
    "duration": 17,
    "start_time": "2022-05-13T08:59:06.929Z"
   },
   {
    "duration": 60,
    "start_time": "2022-05-13T08:59:06.947Z"
   },
   {
    "duration": 6,
    "start_time": "2022-05-13T08:59:07.009Z"
   },
   {
    "duration": 20,
    "start_time": "2022-05-13T08:59:07.016Z"
   },
   {
    "duration": 9,
    "start_time": "2022-05-13T08:59:07.038Z"
   },
   {
    "duration": 24,
    "start_time": "2022-05-13T08:59:07.048Z"
   },
   {
    "duration": 20,
    "start_time": "2022-05-13T08:59:07.073Z"
   },
   {
    "duration": 26,
    "start_time": "2022-05-13T08:59:07.095Z"
   },
   {
    "duration": 9,
    "start_time": "2022-05-13T08:59:07.123Z"
   },
   {
    "duration": 24,
    "start_time": "2022-05-13T08:59:07.133Z"
   },
   {
    "duration": 24,
    "start_time": "2022-05-13T08:59:07.159Z"
   },
   {
    "duration": 38,
    "start_time": "2022-05-13T08:59:07.185Z"
   },
   {
    "duration": 25,
    "start_time": "2022-05-13T08:59:07.225Z"
   },
   {
    "duration": 22,
    "start_time": "2022-05-13T08:59:07.252Z"
   },
   {
    "duration": 17,
    "start_time": "2022-05-13T08:59:07.275Z"
   },
   {
    "duration": 24,
    "start_time": "2022-05-13T08:59:07.293Z"
   },
   {
    "duration": 21,
    "start_time": "2022-05-13T08:59:07.319Z"
   },
   {
    "duration": 43,
    "start_time": "2022-05-13T08:59:07.341Z"
   },
   {
    "duration": 17,
    "start_time": "2022-05-13T08:59:07.386Z"
   },
   {
    "duration": 20,
    "start_time": "2022-05-13T08:59:07.405Z"
   },
   {
    "duration": 21,
    "start_time": "2022-05-13T08:59:07.427Z"
   },
   {
    "duration": 19,
    "start_time": "2022-05-13T08:59:07.450Z"
   },
   {
    "duration": 133,
    "start_time": "2022-05-13T11:45:35.195Z"
   },
   {
    "duration": 640,
    "start_time": "2022-05-13T11:45:40.639Z"
   },
   {
    "duration": 22,
    "start_time": "2022-05-13T11:45:41.282Z"
   },
   {
    "duration": 29,
    "start_time": "2022-05-13T11:45:41.307Z"
   },
   {
    "duration": 17,
    "start_time": "2022-05-13T11:45:41.340Z"
   },
   {
    "duration": 6,
    "start_time": "2022-05-13T11:45:41.361Z"
   },
   {
    "duration": 55,
    "start_time": "2022-05-13T11:45:41.370Z"
   },
   {
    "duration": 29,
    "start_time": "2022-05-13T11:45:41.428Z"
   },
   {
    "duration": 20,
    "start_time": "2022-05-13T11:45:41.459Z"
   },
   {
    "duration": 68,
    "start_time": "2022-05-13T11:45:41.481Z"
   },
   {
    "duration": 34,
    "start_time": "2022-05-13T11:45:41.551Z"
   },
   {
    "duration": 60,
    "start_time": "2022-05-13T11:45:41.587Z"
   },
   {
    "duration": 26,
    "start_time": "2022-05-13T11:45:41.651Z"
   },
   {
    "duration": 76,
    "start_time": "2022-05-13T11:45:41.679Z"
   },
   {
    "duration": 9,
    "start_time": "2022-05-13T11:45:41.761Z"
   },
   {
    "duration": 13,
    "start_time": "2022-05-13T11:45:41.772Z"
   },
   {
    "duration": 38,
    "start_time": "2022-05-13T11:45:41.788Z"
   },
   {
    "duration": 28,
    "start_time": "2022-05-13T11:45:41.830Z"
   },
   {
    "duration": 9,
    "start_time": "2022-05-13T11:45:41.861Z"
   },
   {
    "duration": 57,
    "start_time": "2022-05-13T11:45:41.872Z"
   },
   {
    "duration": 16,
    "start_time": "2022-05-13T11:45:41.932Z"
   },
   {
    "duration": 13,
    "start_time": "2022-05-13T11:45:41.951Z"
   },
   {
    "duration": 22,
    "start_time": "2022-05-13T11:45:41.966Z"
   },
   {
    "duration": 65,
    "start_time": "2022-05-13T11:45:41.990Z"
   },
   {
    "duration": 33,
    "start_time": "2022-05-13T11:45:42.057Z"
   },
   {
    "duration": 70,
    "start_time": "2022-05-13T11:45:42.093Z"
   },
   {
    "duration": 14,
    "start_time": "2022-05-13T11:45:42.166Z"
   },
   {
    "duration": 117,
    "start_time": "2022-05-13T11:45:42.183Z"
   },
   {
    "duration": 0,
    "start_time": "2022-05-13T11:45:42.303Z"
   },
   {
    "duration": 0,
    "start_time": "2022-05-13T11:45:42.305Z"
   },
   {
    "duration": 0,
    "start_time": "2022-05-13T11:45:42.309Z"
   },
   {
    "duration": 0,
    "start_time": "2022-05-13T11:45:42.312Z"
   },
   {
    "duration": 0,
    "start_time": "2022-05-13T11:45:42.314Z"
   },
   {
    "duration": 0,
    "start_time": "2022-05-13T11:45:42.316Z"
   },
   {
    "duration": 32,
    "start_time": "2022-05-13T11:46:38.948Z"
   }
  ],
  "kernelspec": {
   "display_name": "Python 3 (ipykernel)",
   "language": "python",
   "name": "python3"
  },
  "language_info": {
   "codemirror_mode": {
    "name": "ipython",
    "version": 3
   },
   "file_extension": ".py",
   "mimetype": "text/x-python",
   "name": "python",
   "nbconvert_exporter": "python",
   "pygments_lexer": "ipython3",
   "version": "3.9.5"
  },
  "toc": {
   "base_numbering": 1,
   "nav_menu": {},
   "number_sections": true,
   "sideBar": true,
   "skip_h1_title": true,
   "title_cell": "Table of Contents",
   "title_sidebar": "Contents",
   "toc_cell": false,
   "toc_position": {},
   "toc_section_display": true,
   "toc_window_display": false
  }
 },
 "nbformat": 4,
 "nbformat_minor": 5
}
